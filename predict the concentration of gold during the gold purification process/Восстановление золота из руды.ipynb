{
 "cells": [
  {
   "cell_type": "markdown",
   "metadata": {},
   "source": [
    "# Восстановление золота из руды"
   ]
  },
  {
   "cell_type": "markdown",
   "metadata": {
    "toc": true
   },
   "source": [
    "<h1>Содержание<span class=\"tocSkip\"></span></h1>\n",
    "<div class=\"toc\"><ul class=\"toc-item\"><li><span><a href=\"#Подготовка-данных\" data-toc-modified-id=\"Подготовка-данных-1\"><span class=\"toc-item-num\">1&nbsp;&nbsp;</span>Подготовка данных</a></span></li><li><span><a href=\"#Анализ-данных\" data-toc-modified-id=\"Анализ-данных-2\"><span class=\"toc-item-num\">2&nbsp;&nbsp;</span>Анализ данных</a></span></li><li><span><a href=\"#Модель\" data-toc-modified-id=\"Модель-3\"><span class=\"toc-item-num\">3&nbsp;&nbsp;</span>Модель</a></span></li><li><span><a href=\"#Чек-лист-готовности-проекта\" data-toc-modified-id=\"Чек-лист-готовности-проекта-4\"><span class=\"toc-item-num\">4&nbsp;&nbsp;</span>Чек-лист готовности проекта</a></span></li></ul></div>"
   ]
  },
  {
   "cell_type": "markdown",
   "metadata": {},
   "source": [
    "Подготовьте прототип модели машинного обучения для «Цифры». Компания разрабатывает решения для эффективной работы промышленных предприятий.\n",
    "\n",
    "Модель должна предсказать коэффициент восстановления золота из золотосодержащей руды. Используйте данные с параметрами добычи и очистки. \n",
    "\n",
    "Модель поможет оптимизировать производство, чтобы не запускать предприятие с убыточными характеристиками.\n",
    "\n",
    "Вам нужно:\n",
    "\n",
    "1. Подготовить данные;\n",
    "2. Провести исследовательский анализ данных;\n",
    "3. Построить и обучить модель.\n",
    "\n",
    "При выполнении проекта будем обращаться к  библиотекам *pandas*, *matplotlib* и *sklearn.* "
   ]
  },
  {
   "cell_type": "markdown",
   "metadata": {},
   "source": [
    "***Описание целей и задач проекта:***\n",
    "\n",
    "Подготовить прототип модели машинного обучения для компании «Цифры», которая разрабатывает решения для эффективной работы промышленных предприятий. \n",
    "Модель должна предсказать коэффициент восстановления золота из золотосодержащей руды.\n",
    "В вашем распоряжении данные с параметрами добычи и очистки.\n",
    "\n",
    "Модель поможет оптимизировать производство, чтобы не запускать предприятие с убыточными характеристиками\n",
    "\n",
    "***Описание данных:***\n",
    "\n",
    "Данные находятся в трёх файлах:\n",
    "- gold_recovery_train_new.csv — обучающая выборка;\n",
    "- gold_recovery_test_new.csv — тестовая выборка;\n",
    "- gold_recovery_full_new.csv — исходные данные.\n",
    "\n",
    "Технологический процесс\n",
    "Rougher feed — исходное сырье\n",
    "Rougher additions (или reagent additions) — флотационные реагенты: Xanthate, Sulphate, Depressant\n",
    "Xanthate **— ксантогенат (промотер, или активатор флотации);\n",
    "Sulphate — сульфат (на данном производстве сульфид натрия);\n",
    "Depressant — депрессант (силикат натрия).\n",
    "Rougher process (англ. «грубый процесс») — флотация\n",
    "Rougher tails — отвальные хвосты\n",
    "Float banks — флотационная установка\n",
    "Cleaner process — очистка\n",
    "Rougher Au — черновой концентрат золота\n",
    "Final Au — финальный концентрат золота\n",
    "Параметры этапов\n",
    "air amount — объём воздуха\n",
    "fluid levels — уровень жидкости\n",
    "feed size — размер гранул сырья\n",
    "feed rate — скорость подачи\n",
    "Наименование признаков\n",
    "\n",
    "Наименование признаков должно быть такое:\n",
    "[этап].[тип_параметра].[название_параметра]\n",
    "Пример: rougher.input.feed_ag\n",
    "Возможные значения для блока [этап]:\n",
    "rougher — флотация\n",
    "primary_cleaner — первичная очистка\n",
    "secondary_cleaner — вторичная очистка\n",
    "final — финальные характеристики\n",
    "Возможные значения для блока [тип_параметра]:\n",
    "input — параметры сырья\n",
    "output — параметры продукта\n",
    "state — параметры, характеризующие текущее состояние этапа\n",
    "calculation — расчётные характеристики\n",
    "\n",
    "***План работы:***\n",
    "\n",
    "1) ***Подготовить данные:***\n",
    " - открыть и изучть файлы\n",
    " - проверьте, что эффективность обогащения рассчитана правильно. Вычислить её на обучающей выборке для признака rougher.output.recovery. Найти MAE между вашими расчётами и значением признака. Описать выводы.\n",
    " - проанализируйте признаки, недоступные в тестовой выборке. Что это за параметры? К какому типу относятся?\n",
    " - проведите предобработку данных.\n",
    " \n",
    "2) ***Анализ данных:***\n",
    " - посмотрить, как меняется концентрация металлов (Au, Ag, Pb) на различных этапах очистки. \n",
    " - сравнить распределения размеров гранул сырья на обучающей и тестовой выборках. Если распределения сильно отличаются друг от друга, оценка модели будет неправильной.\n",
    " - исследовать суммарную концентрацию всех веществ на разных стадиях: в сырье, в черновом и финальном концентрата\n",
    "\n",
    "3) ***Построитеь модель***\n",
    " - подобрать и обучить модель \n",
    " - написать функцию для вычисления требуемой итоговой метрики  sMAPE.\n",
    " - обучить разные модели и оцените их качество кросс-валидацией. Выбрать лучшую модель и проверитьеё на тестовой выборке. Описать выводы.\n",
    " \n",
    "Нужно спрогнозировать сразу две величины:\n",
    "\n",
    "эффективность обогащения чернового концентрата rougher.output.recovery;\n",
    "\n",
    "эффективность обогащения финального концентрата final.output.recovery."
   ]
  },
  {
   "cell_type": "markdown",
   "metadata": {},
   "source": [
    "## Подготовка данных"
   ]
  },
  {
   "cell_type": "markdown",
   "metadata": {},
   "source": [
    "Соберем ниже все import проекта "
   ]
  },
  {
   "cell_type": "code",
   "execution_count": 1,
   "metadata": {},
   "outputs": [],
   "source": [
    "#все импорты библиотек для текущего проекта\n",
    "import pandas as pd\n",
    "from sklearn.linear_model import LinearRegression\n",
    "from sklearn.model_selection import train_test_split\n",
    "from sklearn.metrics import mean_squared_error\n",
    "from sklearn.preprocessing import StandardScaler\n",
    "import numpy as np\n",
    "from scipy import stats as st\n",
    "from sklearn.metrics import make_scorer, mean_absolute_error\n",
    "from numpy.random import RandomState\n",
    "import matplotlib.pyplot as plt\n",
    "import seaborn as sns\n",
    "from sklearn.model_selection import train_test_split, cross_val_score\n",
    "from sklearn.tree import DecisionTreeRegressor\n",
    "from sklearn.ensemble import RandomForestRegressor\n",
    "from sklearn.linear_model import LinearRegression\n",
    "from sklearn.dummy import DummyRegressor\n",
    "from sklearn.tree import DecisionTreeRegressor\n",
    "from sklearn.ensemble import RandomForestRegressor\n",
    "from sklearn.linear_model import LinearRegression"
   ]
  },
  {
   "cell_type": "markdown",
   "metadata": {},
   "source": [
    "## Анализ данных"
   ]
  },
  {
   "cell_type": "markdown",
   "metadata": {},
   "source": [
    "Загрузим данные и проведем их анализ."
   ]
  },
  {
   "cell_type": "code",
   "execution_count": 2,
   "metadata": {},
   "outputs": [],
   "source": [
    "#обучающая выборка\n",
    "data_train= pd.read_csv('/datasets/gold_recovery_train_new.csv')\n",
    "#тренировочная выборка \n",
    "data_test= pd.read_csv('/datasets/gold_recovery_test_new.csv')\n",
    "#исходный датасет\n",
    "data_full= pd.read_csv('/datasets/gold_recovery_full_new.csv')"
   ]
  },
  {
   "cell_type": "code",
   "execution_count": 3,
   "metadata": {
    "scrolled": true
   },
   "outputs": [
    {
     "name": "stdout",
     "output_type": "stream",
     "text": [
      "<class 'pandas.core.frame.DataFrame'>\n",
      "RangeIndex: 14149 entries, 0 to 14148\n",
      "Data columns (total 87 columns):\n",
      " #   Column                                              Non-Null Count  Dtype  \n",
      "---  ------                                              --------------  -----  \n",
      " 0   date                                                14149 non-null  object \n",
      " 1   final.output.concentrate_ag                         14148 non-null  float64\n",
      " 2   final.output.concentrate_pb                         14148 non-null  float64\n",
      " 3   final.output.concentrate_sol                        13938 non-null  float64\n",
      " 4   final.output.concentrate_au                         14149 non-null  float64\n",
      " 5   final.output.recovery                               14149 non-null  float64\n",
      " 6   final.output.tail_ag                                14149 non-null  float64\n",
      " 7   final.output.tail_pb                                14049 non-null  float64\n",
      " 8   final.output.tail_sol                               14144 non-null  float64\n",
      " 9   final.output.tail_au                                14149 non-null  float64\n",
      " 10  primary_cleaner.input.sulfate                       14129 non-null  float64\n",
      " 11  primary_cleaner.input.depressant                    14117 non-null  float64\n",
      " 12  primary_cleaner.input.feed_size                     14149 non-null  float64\n",
      " 13  primary_cleaner.input.xanthate                      14049 non-null  float64\n",
      " 14  primary_cleaner.output.concentrate_ag               14149 non-null  float64\n",
      " 15  primary_cleaner.output.concentrate_pb               14063 non-null  float64\n",
      " 16  primary_cleaner.output.concentrate_sol              13863 non-null  float64\n",
      " 17  primary_cleaner.output.concentrate_au               14149 non-null  float64\n",
      " 18  primary_cleaner.output.tail_ag                      14148 non-null  float64\n",
      " 19  primary_cleaner.output.tail_pb                      14134 non-null  float64\n",
      " 20  primary_cleaner.output.tail_sol                     14103 non-null  float64\n",
      " 21  primary_cleaner.output.tail_au                      14149 non-null  float64\n",
      " 22  primary_cleaner.state.floatbank8_a_air              14145 non-null  float64\n",
      " 23  primary_cleaner.state.floatbank8_a_level            14148 non-null  float64\n",
      " 24  primary_cleaner.state.floatbank8_b_air              14145 non-null  float64\n",
      " 25  primary_cleaner.state.floatbank8_b_level            14148 non-null  float64\n",
      " 26  primary_cleaner.state.floatbank8_c_air              14147 non-null  float64\n",
      " 27  primary_cleaner.state.floatbank8_c_level            14148 non-null  float64\n",
      " 28  primary_cleaner.state.floatbank8_d_air              14146 non-null  float64\n",
      " 29  primary_cleaner.state.floatbank8_d_level            14148 non-null  float64\n",
      " 30  rougher.calculation.sulfate_to_au_concentrate       14148 non-null  float64\n",
      " 31  rougher.calculation.floatbank10_sulfate_to_au_feed  14148 non-null  float64\n",
      " 32  rougher.calculation.floatbank11_sulfate_to_au_feed  14148 non-null  float64\n",
      " 33  rougher.calculation.au_pb_ratio                     14149 non-null  float64\n",
      " 34  rougher.input.feed_ag                               14149 non-null  float64\n",
      " 35  rougher.input.feed_pb                               14049 non-null  float64\n",
      " 36  rougher.input.feed_rate                             14141 non-null  float64\n",
      " 37  rougher.input.feed_size                             14005 non-null  float64\n",
      " 38  rougher.input.feed_sol                              14071 non-null  float64\n",
      " 39  rougher.input.feed_au                               14149 non-null  float64\n",
      " 40  rougher.input.floatbank10_sulfate                   14120 non-null  float64\n",
      " 41  rougher.input.floatbank10_xanthate                  14141 non-null  float64\n",
      " 42  rougher.input.floatbank11_sulfate                   14113 non-null  float64\n",
      " 43  rougher.input.floatbank11_xanthate                  13721 non-null  float64\n",
      " 44  rougher.output.concentrate_ag                       14149 non-null  float64\n",
      " 45  rougher.output.concentrate_pb                       14149 non-null  float64\n",
      " 46  rougher.output.concentrate_sol                      14127 non-null  float64\n",
      " 47  rougher.output.concentrate_au                       14149 non-null  float64\n",
      " 48  rougher.output.recovery                             14149 non-null  float64\n",
      " 49  rougher.output.tail_ag                              14148 non-null  float64\n",
      " 50  rougher.output.tail_pb                              14149 non-null  float64\n",
      " 51  rougher.output.tail_sol                             14149 non-null  float64\n",
      " 52  rougher.output.tail_au                              14149 non-null  float64\n",
      " 53  rougher.state.floatbank10_a_air                     14148 non-null  float64\n",
      " 54  rougher.state.floatbank10_a_level                   14148 non-null  float64\n",
      " 55  rougher.state.floatbank10_b_air                     14148 non-null  float64\n",
      " 56  rougher.state.floatbank10_b_level                   14148 non-null  float64\n",
      " 57  rougher.state.floatbank10_c_air                     14148 non-null  float64\n",
      " 58  rougher.state.floatbank10_c_level                   14148 non-null  float64\n",
      " 59  rougher.state.floatbank10_d_air                     14149 non-null  float64\n",
      " 60  rougher.state.floatbank10_d_level                   14149 non-null  float64\n",
      " 61  rougher.state.floatbank10_e_air                     13713 non-null  float64\n",
      " 62  rougher.state.floatbank10_e_level                   14149 non-null  float64\n",
      " 63  rougher.state.floatbank10_f_air                     14149 non-null  float64\n",
      " 64  rougher.state.floatbank10_f_level                   14149 non-null  float64\n",
      " 65  secondary_cleaner.output.tail_ag                    14147 non-null  float64\n",
      " 66  secondary_cleaner.output.tail_pb                    14139 non-null  float64\n",
      " 67  secondary_cleaner.output.tail_sol                   12544 non-null  float64\n",
      " 68  secondary_cleaner.output.tail_au                    14149 non-null  float64\n",
      " 69  secondary_cleaner.state.floatbank2_a_air            13932 non-null  float64\n",
      " 70  secondary_cleaner.state.floatbank2_a_level          14148 non-null  float64\n",
      " 71  secondary_cleaner.state.floatbank2_b_air            14128 non-null  float64\n",
      " 72  secondary_cleaner.state.floatbank2_b_level          14148 non-null  float64\n",
      " 73  secondary_cleaner.state.floatbank3_a_air            14145 non-null  float64\n",
      " 74  secondary_cleaner.state.floatbank3_a_level          14148 non-null  float64\n",
      " 75  secondary_cleaner.state.floatbank3_b_air            14148 non-null  float64\n",
      " 76  secondary_cleaner.state.floatbank3_b_level          14148 non-null  float64\n",
      " 77  secondary_cleaner.state.floatbank4_a_air            14143 non-null  float64\n",
      " 78  secondary_cleaner.state.floatbank4_a_level          14148 non-null  float64\n",
      " 79  secondary_cleaner.state.floatbank4_b_air            14148 non-null  float64\n",
      " 80  secondary_cleaner.state.floatbank4_b_level          14148 non-null  float64\n",
      " 81  secondary_cleaner.state.floatbank5_a_air            14148 non-null  float64\n",
      " 82  secondary_cleaner.state.floatbank5_a_level          14148 non-null  float64\n",
      " 83  secondary_cleaner.state.floatbank5_b_air            14148 non-null  float64\n",
      " 84  secondary_cleaner.state.floatbank5_b_level          14148 non-null  float64\n",
      " 85  secondary_cleaner.state.floatbank6_a_air            14147 non-null  float64\n",
      " 86  secondary_cleaner.state.floatbank6_a_level          14148 non-null  float64\n",
      "dtypes: float64(86), object(1)\n",
      "memory usage: 9.4+ MB\n"
     ]
    }
   ],
   "source": [
    "data_train.info()"
   ]
  },
  {
   "cell_type": "code",
   "execution_count": 4,
   "metadata": {
    "scrolled": true
   },
   "outputs": [
    {
     "data": {
      "text/html": [
       "<div>\n",
       "<style scoped>\n",
       "    .dataframe tbody tr th:only-of-type {\n",
       "        vertical-align: middle;\n",
       "    }\n",
       "\n",
       "    .dataframe tbody tr th {\n",
       "        vertical-align: top;\n",
       "    }\n",
       "\n",
       "    .dataframe thead th {\n",
       "        text-align: right;\n",
       "    }\n",
       "</style>\n",
       "<table border=\"1\" class=\"dataframe\">\n",
       "  <thead>\n",
       "    <tr style=\"text-align: right;\">\n",
       "      <th></th>\n",
       "      <th>date</th>\n",
       "      <th>final.output.concentrate_ag</th>\n",
       "      <th>final.output.concentrate_pb</th>\n",
       "      <th>final.output.concentrate_sol</th>\n",
       "      <th>final.output.concentrate_au</th>\n",
       "      <th>final.output.recovery</th>\n",
       "      <th>final.output.tail_ag</th>\n",
       "      <th>final.output.tail_pb</th>\n",
       "      <th>final.output.tail_sol</th>\n",
       "      <th>final.output.tail_au</th>\n",
       "      <th>...</th>\n",
       "      <th>secondary_cleaner.state.floatbank4_a_air</th>\n",
       "      <th>secondary_cleaner.state.floatbank4_a_level</th>\n",
       "      <th>secondary_cleaner.state.floatbank4_b_air</th>\n",
       "      <th>secondary_cleaner.state.floatbank4_b_level</th>\n",
       "      <th>secondary_cleaner.state.floatbank5_a_air</th>\n",
       "      <th>secondary_cleaner.state.floatbank5_a_level</th>\n",
       "      <th>secondary_cleaner.state.floatbank5_b_air</th>\n",
       "      <th>secondary_cleaner.state.floatbank5_b_level</th>\n",
       "      <th>secondary_cleaner.state.floatbank6_a_air</th>\n",
       "      <th>secondary_cleaner.state.floatbank6_a_level</th>\n",
       "    </tr>\n",
       "  </thead>\n",
       "  <tbody>\n",
       "    <tr>\n",
       "      <th>0</th>\n",
       "      <td>2016-01-15 00:00:00</td>\n",
       "      <td>6.055403</td>\n",
       "      <td>9.889648</td>\n",
       "      <td>5.507324</td>\n",
       "      <td>42.192020</td>\n",
       "      <td>70.541216</td>\n",
       "      <td>10.411962</td>\n",
       "      <td>0.895447</td>\n",
       "      <td>16.904297</td>\n",
       "      <td>2.143149</td>\n",
       "      <td>...</td>\n",
       "      <td>14.016835</td>\n",
       "      <td>-502.488007</td>\n",
       "      <td>12.099931</td>\n",
       "      <td>-504.715942</td>\n",
       "      <td>9.925633</td>\n",
       "      <td>-498.310211</td>\n",
       "      <td>8.079666</td>\n",
       "      <td>-500.470978</td>\n",
       "      <td>14.151341</td>\n",
       "      <td>-605.841980</td>\n",
       "    </tr>\n",
       "    <tr>\n",
       "      <th>1</th>\n",
       "      <td>2016-01-15 01:00:00</td>\n",
       "      <td>6.029369</td>\n",
       "      <td>9.968944</td>\n",
       "      <td>5.257781</td>\n",
       "      <td>42.701629</td>\n",
       "      <td>69.266198</td>\n",
       "      <td>10.462676</td>\n",
       "      <td>0.927452</td>\n",
       "      <td>16.634514</td>\n",
       "      <td>2.224930</td>\n",
       "      <td>...</td>\n",
       "      <td>13.992281</td>\n",
       "      <td>-505.503262</td>\n",
       "      <td>11.950531</td>\n",
       "      <td>-501.331529</td>\n",
       "      <td>10.039245</td>\n",
       "      <td>-500.169983</td>\n",
       "      <td>7.984757</td>\n",
       "      <td>-500.582168</td>\n",
       "      <td>13.998353</td>\n",
       "      <td>-599.787184</td>\n",
       "    </tr>\n",
       "    <tr>\n",
       "      <th>2</th>\n",
       "      <td>2016-01-15 02:00:00</td>\n",
       "      <td>6.055926</td>\n",
       "      <td>10.213995</td>\n",
       "      <td>5.383759</td>\n",
       "      <td>42.657501</td>\n",
       "      <td>68.116445</td>\n",
       "      <td>10.507046</td>\n",
       "      <td>0.953716</td>\n",
       "      <td>16.208849</td>\n",
       "      <td>2.257889</td>\n",
       "      <td>...</td>\n",
       "      <td>14.015015</td>\n",
       "      <td>-502.520901</td>\n",
       "      <td>11.912783</td>\n",
       "      <td>-501.133383</td>\n",
       "      <td>10.070913</td>\n",
       "      <td>-500.129135</td>\n",
       "      <td>8.013877</td>\n",
       "      <td>-500.517572</td>\n",
       "      <td>14.028663</td>\n",
       "      <td>-601.427363</td>\n",
       "    </tr>\n",
       "    <tr>\n",
       "      <th>3</th>\n",
       "      <td>2016-01-15 03:00:00</td>\n",
       "      <td>6.047977</td>\n",
       "      <td>9.977019</td>\n",
       "      <td>4.858634</td>\n",
       "      <td>42.689819</td>\n",
       "      <td>68.347543</td>\n",
       "      <td>10.422762</td>\n",
       "      <td>0.883763</td>\n",
       "      <td>16.532835</td>\n",
       "      <td>2.146849</td>\n",
       "      <td>...</td>\n",
       "      <td>14.036510</td>\n",
       "      <td>-500.857308</td>\n",
       "      <td>11.999550</td>\n",
       "      <td>-501.193686</td>\n",
       "      <td>9.970366</td>\n",
       "      <td>-499.201640</td>\n",
       "      <td>7.977324</td>\n",
       "      <td>-500.255908</td>\n",
       "      <td>14.005551</td>\n",
       "      <td>-599.996129</td>\n",
       "    </tr>\n",
       "    <tr>\n",
       "      <th>4</th>\n",
       "      <td>2016-01-15 04:00:00</td>\n",
       "      <td>6.148599</td>\n",
       "      <td>10.142511</td>\n",
       "      <td>4.939416</td>\n",
       "      <td>42.774141</td>\n",
       "      <td>66.927016</td>\n",
       "      <td>10.360302</td>\n",
       "      <td>0.792826</td>\n",
       "      <td>16.525686</td>\n",
       "      <td>2.055292</td>\n",
       "      <td>...</td>\n",
       "      <td>14.027298</td>\n",
       "      <td>-499.838632</td>\n",
       "      <td>11.953070</td>\n",
       "      <td>-501.053894</td>\n",
       "      <td>9.925709</td>\n",
       "      <td>-501.686727</td>\n",
       "      <td>7.894242</td>\n",
       "      <td>-500.356035</td>\n",
       "      <td>13.996647</td>\n",
       "      <td>-601.496691</td>\n",
       "    </tr>\n",
       "  </tbody>\n",
       "</table>\n",
       "<p>5 rows × 87 columns</p>\n",
       "</div>"
      ],
      "text/plain": [
       "                  date  final.output.concentrate_ag  \\\n",
       "0  2016-01-15 00:00:00                     6.055403   \n",
       "1  2016-01-15 01:00:00                     6.029369   \n",
       "2  2016-01-15 02:00:00                     6.055926   \n",
       "3  2016-01-15 03:00:00                     6.047977   \n",
       "4  2016-01-15 04:00:00                     6.148599   \n",
       "\n",
       "   final.output.concentrate_pb  final.output.concentrate_sol  \\\n",
       "0                     9.889648                      5.507324   \n",
       "1                     9.968944                      5.257781   \n",
       "2                    10.213995                      5.383759   \n",
       "3                     9.977019                      4.858634   \n",
       "4                    10.142511                      4.939416   \n",
       "\n",
       "   final.output.concentrate_au  final.output.recovery  final.output.tail_ag  \\\n",
       "0                    42.192020              70.541216             10.411962   \n",
       "1                    42.701629              69.266198             10.462676   \n",
       "2                    42.657501              68.116445             10.507046   \n",
       "3                    42.689819              68.347543             10.422762   \n",
       "4                    42.774141              66.927016             10.360302   \n",
       "\n",
       "   final.output.tail_pb  final.output.tail_sol  final.output.tail_au  ...  \\\n",
       "0              0.895447              16.904297              2.143149  ...   \n",
       "1              0.927452              16.634514              2.224930  ...   \n",
       "2              0.953716              16.208849              2.257889  ...   \n",
       "3              0.883763              16.532835              2.146849  ...   \n",
       "4              0.792826              16.525686              2.055292  ...   \n",
       "\n",
       "   secondary_cleaner.state.floatbank4_a_air  \\\n",
       "0                                 14.016835   \n",
       "1                                 13.992281   \n",
       "2                                 14.015015   \n",
       "3                                 14.036510   \n",
       "4                                 14.027298   \n",
       "\n",
       "   secondary_cleaner.state.floatbank4_a_level  \\\n",
       "0                                 -502.488007   \n",
       "1                                 -505.503262   \n",
       "2                                 -502.520901   \n",
       "3                                 -500.857308   \n",
       "4                                 -499.838632   \n",
       "\n",
       "   secondary_cleaner.state.floatbank4_b_air  \\\n",
       "0                                 12.099931   \n",
       "1                                 11.950531   \n",
       "2                                 11.912783   \n",
       "3                                 11.999550   \n",
       "4                                 11.953070   \n",
       "\n",
       "   secondary_cleaner.state.floatbank4_b_level  \\\n",
       "0                                 -504.715942   \n",
       "1                                 -501.331529   \n",
       "2                                 -501.133383   \n",
       "3                                 -501.193686   \n",
       "4                                 -501.053894   \n",
       "\n",
       "   secondary_cleaner.state.floatbank5_a_air  \\\n",
       "0                                  9.925633   \n",
       "1                                 10.039245   \n",
       "2                                 10.070913   \n",
       "3                                  9.970366   \n",
       "4                                  9.925709   \n",
       "\n",
       "   secondary_cleaner.state.floatbank5_a_level  \\\n",
       "0                                 -498.310211   \n",
       "1                                 -500.169983   \n",
       "2                                 -500.129135   \n",
       "3                                 -499.201640   \n",
       "4                                 -501.686727   \n",
       "\n",
       "   secondary_cleaner.state.floatbank5_b_air  \\\n",
       "0                                  8.079666   \n",
       "1                                  7.984757   \n",
       "2                                  8.013877   \n",
       "3                                  7.977324   \n",
       "4                                  7.894242   \n",
       "\n",
       "   secondary_cleaner.state.floatbank5_b_level  \\\n",
       "0                                 -500.470978   \n",
       "1                                 -500.582168   \n",
       "2                                 -500.517572   \n",
       "3                                 -500.255908   \n",
       "4                                 -500.356035   \n",
       "\n",
       "   secondary_cleaner.state.floatbank6_a_air  \\\n",
       "0                                 14.151341   \n",
       "1                                 13.998353   \n",
       "2                                 14.028663   \n",
       "3                                 14.005551   \n",
       "4                                 13.996647   \n",
       "\n",
       "   secondary_cleaner.state.floatbank6_a_level  \n",
       "0                                 -605.841980  \n",
       "1                                 -599.787184  \n",
       "2                                 -601.427363  \n",
       "3                                 -599.996129  \n",
       "4                                 -601.496691  \n",
       "\n",
       "[5 rows x 87 columns]"
      ]
     },
     "metadata": {},
     "output_type": "display_data"
    }
   ],
   "source": [
    "display(data_train.head())"
   ]
  },
  {
   "cell_type": "code",
   "execution_count": 5,
   "metadata": {
    "scrolled": true
   },
   "outputs": [
    {
     "name": "stdout",
     "output_type": "stream",
     "text": [
      "<class 'pandas.core.frame.DataFrame'>\n",
      "RangeIndex: 5290 entries, 0 to 5289\n",
      "Data columns (total 53 columns):\n",
      " #   Column                                      Non-Null Count  Dtype  \n",
      "---  ------                                      --------------  -----  \n",
      " 0   date                                        5290 non-null   object \n",
      " 1   primary_cleaner.input.sulfate               5286 non-null   float64\n",
      " 2   primary_cleaner.input.depressant            5285 non-null   float64\n",
      " 3   primary_cleaner.input.feed_size             5290 non-null   float64\n",
      " 4   primary_cleaner.input.xanthate              5286 non-null   float64\n",
      " 5   primary_cleaner.state.floatbank8_a_air      5290 non-null   float64\n",
      " 6   primary_cleaner.state.floatbank8_a_level    5290 non-null   float64\n",
      " 7   primary_cleaner.state.floatbank8_b_air      5290 non-null   float64\n",
      " 8   primary_cleaner.state.floatbank8_b_level    5290 non-null   float64\n",
      " 9   primary_cleaner.state.floatbank8_c_air      5290 non-null   float64\n",
      " 10  primary_cleaner.state.floatbank8_c_level    5290 non-null   float64\n",
      " 11  primary_cleaner.state.floatbank8_d_air      5290 non-null   float64\n",
      " 12  primary_cleaner.state.floatbank8_d_level    5290 non-null   float64\n",
      " 13  rougher.input.feed_ag                       5290 non-null   float64\n",
      " 14  rougher.input.feed_pb                       5290 non-null   float64\n",
      " 15  rougher.input.feed_rate                     5287 non-null   float64\n",
      " 16  rougher.input.feed_size                     5289 non-null   float64\n",
      " 17  rougher.input.feed_sol                      5269 non-null   float64\n",
      " 18  rougher.input.feed_au                       5290 non-null   float64\n",
      " 19  rougher.input.floatbank10_sulfate           5285 non-null   float64\n",
      " 20  rougher.input.floatbank10_xanthate          5290 non-null   float64\n",
      " 21  rougher.input.floatbank11_sulfate           5282 non-null   float64\n",
      " 22  rougher.input.floatbank11_xanthate          5265 non-null   float64\n",
      " 23  rougher.state.floatbank10_a_air             5290 non-null   float64\n",
      " 24  rougher.state.floatbank10_a_level           5290 non-null   float64\n",
      " 25  rougher.state.floatbank10_b_air             5290 non-null   float64\n",
      " 26  rougher.state.floatbank10_b_level           5290 non-null   float64\n",
      " 27  rougher.state.floatbank10_c_air             5290 non-null   float64\n",
      " 28  rougher.state.floatbank10_c_level           5290 non-null   float64\n",
      " 29  rougher.state.floatbank10_d_air             5290 non-null   float64\n",
      " 30  rougher.state.floatbank10_d_level           5290 non-null   float64\n",
      " 31  rougher.state.floatbank10_e_air             5290 non-null   float64\n",
      " 32  rougher.state.floatbank10_e_level           5290 non-null   float64\n",
      " 33  rougher.state.floatbank10_f_air             5290 non-null   float64\n",
      " 34  rougher.state.floatbank10_f_level           5290 non-null   float64\n",
      " 35  secondary_cleaner.state.floatbank2_a_air    5287 non-null   float64\n",
      " 36  secondary_cleaner.state.floatbank2_a_level  5290 non-null   float64\n",
      " 37  secondary_cleaner.state.floatbank2_b_air    5288 non-null   float64\n",
      " 38  secondary_cleaner.state.floatbank2_b_level  5290 non-null   float64\n",
      " 39  secondary_cleaner.state.floatbank3_a_air    5281 non-null   float64\n",
      " 40  secondary_cleaner.state.floatbank3_a_level  5290 non-null   float64\n",
      " 41  secondary_cleaner.state.floatbank3_b_air    5290 non-null   float64\n",
      " 42  secondary_cleaner.state.floatbank3_b_level  5290 non-null   float64\n",
      " 43  secondary_cleaner.state.floatbank4_a_air    5290 non-null   float64\n",
      " 44  secondary_cleaner.state.floatbank4_a_level  5290 non-null   float64\n",
      " 45  secondary_cleaner.state.floatbank4_b_air    5290 non-null   float64\n",
      " 46  secondary_cleaner.state.floatbank4_b_level  5290 non-null   float64\n",
      " 47  secondary_cleaner.state.floatbank5_a_air    5290 non-null   float64\n",
      " 48  secondary_cleaner.state.floatbank5_a_level  5290 non-null   float64\n",
      " 49  secondary_cleaner.state.floatbank5_b_air    5290 non-null   float64\n",
      " 50  secondary_cleaner.state.floatbank5_b_level  5290 non-null   float64\n",
      " 51  secondary_cleaner.state.floatbank6_a_air    5290 non-null   float64\n",
      " 52  secondary_cleaner.state.floatbank6_a_level  5290 non-null   float64\n",
      "dtypes: float64(52), object(1)\n",
      "memory usage: 2.1+ MB\n"
     ]
    }
   ],
   "source": [
    "data_test.info()"
   ]
  },
  {
   "cell_type": "code",
   "execution_count": 6,
   "metadata": {},
   "outputs": [
    {
     "data": {
      "text/html": [
       "<div>\n",
       "<style scoped>\n",
       "    .dataframe tbody tr th:only-of-type {\n",
       "        vertical-align: middle;\n",
       "    }\n",
       "\n",
       "    .dataframe tbody tr th {\n",
       "        vertical-align: top;\n",
       "    }\n",
       "\n",
       "    .dataframe thead th {\n",
       "        text-align: right;\n",
       "    }\n",
       "</style>\n",
       "<table border=\"1\" class=\"dataframe\">\n",
       "  <thead>\n",
       "    <tr style=\"text-align: right;\">\n",
       "      <th></th>\n",
       "      <th>date</th>\n",
       "      <th>primary_cleaner.input.sulfate</th>\n",
       "      <th>primary_cleaner.input.depressant</th>\n",
       "      <th>primary_cleaner.input.feed_size</th>\n",
       "      <th>primary_cleaner.input.xanthate</th>\n",
       "      <th>primary_cleaner.state.floatbank8_a_air</th>\n",
       "      <th>primary_cleaner.state.floatbank8_a_level</th>\n",
       "      <th>primary_cleaner.state.floatbank8_b_air</th>\n",
       "      <th>primary_cleaner.state.floatbank8_b_level</th>\n",
       "      <th>primary_cleaner.state.floatbank8_c_air</th>\n",
       "      <th>...</th>\n",
       "      <th>secondary_cleaner.state.floatbank4_a_air</th>\n",
       "      <th>secondary_cleaner.state.floatbank4_a_level</th>\n",
       "      <th>secondary_cleaner.state.floatbank4_b_air</th>\n",
       "      <th>secondary_cleaner.state.floatbank4_b_level</th>\n",
       "      <th>secondary_cleaner.state.floatbank5_a_air</th>\n",
       "      <th>secondary_cleaner.state.floatbank5_a_level</th>\n",
       "      <th>secondary_cleaner.state.floatbank5_b_air</th>\n",
       "      <th>secondary_cleaner.state.floatbank5_b_level</th>\n",
       "      <th>secondary_cleaner.state.floatbank6_a_air</th>\n",
       "      <th>secondary_cleaner.state.floatbank6_a_level</th>\n",
       "    </tr>\n",
       "  </thead>\n",
       "  <tbody>\n",
       "    <tr>\n",
       "      <th>0</th>\n",
       "      <td>2016-09-01 00:59:59</td>\n",
       "      <td>210.800909</td>\n",
       "      <td>14.993118</td>\n",
       "      <td>8.080000</td>\n",
       "      <td>1.005021</td>\n",
       "      <td>1398.981301</td>\n",
       "      <td>-500.225577</td>\n",
       "      <td>1399.144926</td>\n",
       "      <td>-499.919735</td>\n",
       "      <td>1400.102998</td>\n",
       "      <td>...</td>\n",
       "      <td>12.023554</td>\n",
       "      <td>-497.795834</td>\n",
       "      <td>8.016656</td>\n",
       "      <td>-501.289139</td>\n",
       "      <td>7.946562</td>\n",
       "      <td>-432.317850</td>\n",
       "      <td>4.872511</td>\n",
       "      <td>-500.037437</td>\n",
       "      <td>26.705889</td>\n",
       "      <td>-499.709414</td>\n",
       "    </tr>\n",
       "    <tr>\n",
       "      <th>1</th>\n",
       "      <td>2016-09-01 01:59:59</td>\n",
       "      <td>215.392455</td>\n",
       "      <td>14.987471</td>\n",
       "      <td>8.080000</td>\n",
       "      <td>0.990469</td>\n",
       "      <td>1398.777912</td>\n",
       "      <td>-500.057435</td>\n",
       "      <td>1398.055362</td>\n",
       "      <td>-499.778182</td>\n",
       "      <td>1396.151033</td>\n",
       "      <td>...</td>\n",
       "      <td>12.058140</td>\n",
       "      <td>-498.695773</td>\n",
       "      <td>8.130979</td>\n",
       "      <td>-499.634209</td>\n",
       "      <td>7.958270</td>\n",
       "      <td>-525.839648</td>\n",
       "      <td>4.878850</td>\n",
       "      <td>-500.162375</td>\n",
       "      <td>25.019940</td>\n",
       "      <td>-499.819438</td>\n",
       "    </tr>\n",
       "    <tr>\n",
       "      <th>2</th>\n",
       "      <td>2016-09-01 02:59:59</td>\n",
       "      <td>215.259946</td>\n",
       "      <td>12.884934</td>\n",
       "      <td>7.786667</td>\n",
       "      <td>0.996043</td>\n",
       "      <td>1398.493666</td>\n",
       "      <td>-500.868360</td>\n",
       "      <td>1398.860436</td>\n",
       "      <td>-499.764529</td>\n",
       "      <td>1398.075709</td>\n",
       "      <td>...</td>\n",
       "      <td>11.962366</td>\n",
       "      <td>-498.767484</td>\n",
       "      <td>8.096893</td>\n",
       "      <td>-500.827423</td>\n",
       "      <td>8.071056</td>\n",
       "      <td>-500.801673</td>\n",
       "      <td>4.905125</td>\n",
       "      <td>-499.828510</td>\n",
       "      <td>24.994862</td>\n",
       "      <td>-500.622559</td>\n",
       "    </tr>\n",
       "    <tr>\n",
       "      <th>3</th>\n",
       "      <td>2016-09-01 03:59:59</td>\n",
       "      <td>215.336236</td>\n",
       "      <td>12.006805</td>\n",
       "      <td>7.640000</td>\n",
       "      <td>0.863514</td>\n",
       "      <td>1399.618111</td>\n",
       "      <td>-498.863574</td>\n",
       "      <td>1397.440120</td>\n",
       "      <td>-499.211024</td>\n",
       "      <td>1400.129303</td>\n",
       "      <td>...</td>\n",
       "      <td>12.033091</td>\n",
       "      <td>-498.350935</td>\n",
       "      <td>8.074946</td>\n",
       "      <td>-499.474407</td>\n",
       "      <td>7.897085</td>\n",
       "      <td>-500.868509</td>\n",
       "      <td>4.931400</td>\n",
       "      <td>-499.963623</td>\n",
       "      <td>24.948919</td>\n",
       "      <td>-498.709987</td>\n",
       "    </tr>\n",
       "    <tr>\n",
       "      <th>4</th>\n",
       "      <td>2016-09-01 04:59:59</td>\n",
       "      <td>199.099327</td>\n",
       "      <td>10.682530</td>\n",
       "      <td>7.530000</td>\n",
       "      <td>0.805575</td>\n",
       "      <td>1401.268123</td>\n",
       "      <td>-500.808305</td>\n",
       "      <td>1398.128818</td>\n",
       "      <td>-499.504543</td>\n",
       "      <td>1402.172226</td>\n",
       "      <td>...</td>\n",
       "      <td>12.025367</td>\n",
       "      <td>-500.786497</td>\n",
       "      <td>8.054678</td>\n",
       "      <td>-500.397500</td>\n",
       "      <td>8.107890</td>\n",
       "      <td>-509.526725</td>\n",
       "      <td>4.957674</td>\n",
       "      <td>-500.360026</td>\n",
       "      <td>25.003331</td>\n",
       "      <td>-500.856333</td>\n",
       "    </tr>\n",
       "  </tbody>\n",
       "</table>\n",
       "<p>5 rows × 53 columns</p>\n",
       "</div>"
      ],
      "text/plain": [
       "                  date  primary_cleaner.input.sulfate  \\\n",
       "0  2016-09-01 00:59:59                     210.800909   \n",
       "1  2016-09-01 01:59:59                     215.392455   \n",
       "2  2016-09-01 02:59:59                     215.259946   \n",
       "3  2016-09-01 03:59:59                     215.336236   \n",
       "4  2016-09-01 04:59:59                     199.099327   \n",
       "\n",
       "   primary_cleaner.input.depressant  primary_cleaner.input.feed_size  \\\n",
       "0                         14.993118                         8.080000   \n",
       "1                         14.987471                         8.080000   \n",
       "2                         12.884934                         7.786667   \n",
       "3                         12.006805                         7.640000   \n",
       "4                         10.682530                         7.530000   \n",
       "\n",
       "   primary_cleaner.input.xanthate  primary_cleaner.state.floatbank8_a_air  \\\n",
       "0                        1.005021                             1398.981301   \n",
       "1                        0.990469                             1398.777912   \n",
       "2                        0.996043                             1398.493666   \n",
       "3                        0.863514                             1399.618111   \n",
       "4                        0.805575                             1401.268123   \n",
       "\n",
       "   primary_cleaner.state.floatbank8_a_level  \\\n",
       "0                               -500.225577   \n",
       "1                               -500.057435   \n",
       "2                               -500.868360   \n",
       "3                               -498.863574   \n",
       "4                               -500.808305   \n",
       "\n",
       "   primary_cleaner.state.floatbank8_b_air  \\\n",
       "0                             1399.144926   \n",
       "1                             1398.055362   \n",
       "2                             1398.860436   \n",
       "3                             1397.440120   \n",
       "4                             1398.128818   \n",
       "\n",
       "   primary_cleaner.state.floatbank8_b_level  \\\n",
       "0                               -499.919735   \n",
       "1                               -499.778182   \n",
       "2                               -499.764529   \n",
       "3                               -499.211024   \n",
       "4                               -499.504543   \n",
       "\n",
       "   primary_cleaner.state.floatbank8_c_air  ...  \\\n",
       "0                             1400.102998  ...   \n",
       "1                             1396.151033  ...   \n",
       "2                             1398.075709  ...   \n",
       "3                             1400.129303  ...   \n",
       "4                             1402.172226  ...   \n",
       "\n",
       "   secondary_cleaner.state.floatbank4_a_air  \\\n",
       "0                                 12.023554   \n",
       "1                                 12.058140   \n",
       "2                                 11.962366   \n",
       "3                                 12.033091   \n",
       "4                                 12.025367   \n",
       "\n",
       "   secondary_cleaner.state.floatbank4_a_level  \\\n",
       "0                                 -497.795834   \n",
       "1                                 -498.695773   \n",
       "2                                 -498.767484   \n",
       "3                                 -498.350935   \n",
       "4                                 -500.786497   \n",
       "\n",
       "   secondary_cleaner.state.floatbank4_b_air  \\\n",
       "0                                  8.016656   \n",
       "1                                  8.130979   \n",
       "2                                  8.096893   \n",
       "3                                  8.074946   \n",
       "4                                  8.054678   \n",
       "\n",
       "   secondary_cleaner.state.floatbank4_b_level  \\\n",
       "0                                 -501.289139   \n",
       "1                                 -499.634209   \n",
       "2                                 -500.827423   \n",
       "3                                 -499.474407   \n",
       "4                                 -500.397500   \n",
       "\n",
       "   secondary_cleaner.state.floatbank5_a_air  \\\n",
       "0                                  7.946562   \n",
       "1                                  7.958270   \n",
       "2                                  8.071056   \n",
       "3                                  7.897085   \n",
       "4                                  8.107890   \n",
       "\n",
       "   secondary_cleaner.state.floatbank5_a_level  \\\n",
       "0                                 -432.317850   \n",
       "1                                 -525.839648   \n",
       "2                                 -500.801673   \n",
       "3                                 -500.868509   \n",
       "4                                 -509.526725   \n",
       "\n",
       "   secondary_cleaner.state.floatbank5_b_air  \\\n",
       "0                                  4.872511   \n",
       "1                                  4.878850   \n",
       "2                                  4.905125   \n",
       "3                                  4.931400   \n",
       "4                                  4.957674   \n",
       "\n",
       "   secondary_cleaner.state.floatbank5_b_level  \\\n",
       "0                                 -500.037437   \n",
       "1                                 -500.162375   \n",
       "2                                 -499.828510   \n",
       "3                                 -499.963623   \n",
       "4                                 -500.360026   \n",
       "\n",
       "   secondary_cleaner.state.floatbank6_a_air  \\\n",
       "0                                 26.705889   \n",
       "1                                 25.019940   \n",
       "2                                 24.994862   \n",
       "3                                 24.948919   \n",
       "4                                 25.003331   \n",
       "\n",
       "   secondary_cleaner.state.floatbank6_a_level  \n",
       "0                                 -499.709414  \n",
       "1                                 -499.819438  \n",
       "2                                 -500.622559  \n",
       "3                                 -498.709987  \n",
       "4                                 -500.856333  \n",
       "\n",
       "[5 rows x 53 columns]"
      ]
     },
     "metadata": {},
     "output_type": "display_data"
    }
   ],
   "source": [
    "display(data_test.head())"
   ]
  },
  {
   "cell_type": "code",
   "execution_count": 7,
   "metadata": {
    "scrolled": true
   },
   "outputs": [
    {
     "name": "stdout",
     "output_type": "stream",
     "text": [
      "<class 'pandas.core.frame.DataFrame'>\n",
      "RangeIndex: 19439 entries, 0 to 19438\n",
      "Data columns (total 87 columns):\n",
      " #   Column                                              Non-Null Count  Dtype  \n",
      "---  ------                                              --------------  -----  \n",
      " 0   date                                                19439 non-null  object \n",
      " 1   final.output.concentrate_ag                         19438 non-null  float64\n",
      " 2   final.output.concentrate_pb                         19438 non-null  float64\n",
      " 3   final.output.concentrate_sol                        19228 non-null  float64\n",
      " 4   final.output.concentrate_au                         19439 non-null  float64\n",
      " 5   final.output.recovery                               19439 non-null  float64\n",
      " 6   final.output.tail_ag                                19438 non-null  float64\n",
      " 7   final.output.tail_pb                                19338 non-null  float64\n",
      " 8   final.output.tail_sol                               19433 non-null  float64\n",
      " 9   final.output.tail_au                                19439 non-null  float64\n",
      " 10  primary_cleaner.input.sulfate                       19415 non-null  float64\n",
      " 11  primary_cleaner.input.depressant                    19402 non-null  float64\n",
      " 12  primary_cleaner.input.feed_size                     19439 non-null  float64\n",
      " 13  primary_cleaner.input.xanthate                      19335 non-null  float64\n",
      " 14  primary_cleaner.output.concentrate_ag               19439 non-null  float64\n",
      " 15  primary_cleaner.output.concentrate_pb               19323 non-null  float64\n",
      " 16  primary_cleaner.output.concentrate_sol              19069 non-null  float64\n",
      " 17  primary_cleaner.output.concentrate_au               19439 non-null  float64\n",
      " 18  primary_cleaner.output.tail_ag                      19435 non-null  float64\n",
      " 19  primary_cleaner.output.tail_pb                      19418 non-null  float64\n",
      " 20  primary_cleaner.output.tail_sol                     19377 non-null  float64\n",
      " 21  primary_cleaner.output.tail_au                      19439 non-null  float64\n",
      " 22  primary_cleaner.state.floatbank8_a_air              19435 non-null  float64\n",
      " 23  primary_cleaner.state.floatbank8_a_level            19438 non-null  float64\n",
      " 24  primary_cleaner.state.floatbank8_b_air              19435 non-null  float64\n",
      " 25  primary_cleaner.state.floatbank8_b_level            19438 non-null  float64\n",
      " 26  primary_cleaner.state.floatbank8_c_air              19437 non-null  float64\n",
      " 27  primary_cleaner.state.floatbank8_c_level            19438 non-null  float64\n",
      " 28  primary_cleaner.state.floatbank8_d_air              19436 non-null  float64\n",
      " 29  primary_cleaner.state.floatbank8_d_level            19438 non-null  float64\n",
      " 30  rougher.calculation.sulfate_to_au_concentrate       19437 non-null  float64\n",
      " 31  rougher.calculation.floatbank10_sulfate_to_au_feed  19437 non-null  float64\n",
      " 32  rougher.calculation.floatbank11_sulfate_to_au_feed  19437 non-null  float64\n",
      " 33  rougher.calculation.au_pb_ratio                     19439 non-null  float64\n",
      " 34  rougher.input.feed_ag                               19439 non-null  float64\n",
      " 35  rougher.input.feed_pb                               19339 non-null  float64\n",
      " 36  rougher.input.feed_rate                             19428 non-null  float64\n",
      " 37  rougher.input.feed_size                             19294 non-null  float64\n",
      " 38  rougher.input.feed_sol                              19340 non-null  float64\n",
      " 39  rougher.input.feed_au                               19439 non-null  float64\n",
      " 40  rougher.input.floatbank10_sulfate                   19405 non-null  float64\n",
      " 41  rougher.input.floatbank10_xanthate                  19431 non-null  float64\n",
      " 42  rougher.input.floatbank11_sulfate                   19395 non-null  float64\n",
      " 43  rougher.input.floatbank11_xanthate                  18986 non-null  float64\n",
      " 44  rougher.output.concentrate_ag                       19439 non-null  float64\n",
      " 45  rougher.output.concentrate_pb                       19439 non-null  float64\n",
      " 46  rougher.output.concentrate_sol                      19416 non-null  float64\n",
      " 47  rougher.output.concentrate_au                       19439 non-null  float64\n",
      " 48  rougher.output.recovery                             19439 non-null  float64\n",
      " 49  rougher.output.tail_ag                              19438 non-null  float64\n",
      " 50  rougher.output.tail_pb                              19439 non-null  float64\n",
      " 51  rougher.output.tail_sol                             19439 non-null  float64\n",
      " 52  rougher.output.tail_au                              19439 non-null  float64\n",
      " 53  rougher.state.floatbank10_a_air                     19438 non-null  float64\n",
      " 54  rougher.state.floatbank10_a_level                   19438 non-null  float64\n",
      " 55  rougher.state.floatbank10_b_air                     19438 non-null  float64\n",
      " 56  rougher.state.floatbank10_b_level                   19438 non-null  float64\n",
      " 57  rougher.state.floatbank10_c_air                     19438 non-null  float64\n",
      " 58  rougher.state.floatbank10_c_level                   19438 non-null  float64\n",
      " 59  rougher.state.floatbank10_d_air                     19439 non-null  float64\n",
      " 60  rougher.state.floatbank10_d_level                   19439 non-null  float64\n",
      " 61  rougher.state.floatbank10_e_air                     19003 non-null  float64\n",
      " 62  rougher.state.floatbank10_e_level                   19439 non-null  float64\n",
      " 63  rougher.state.floatbank10_f_air                     19439 non-null  float64\n",
      " 64  rougher.state.floatbank10_f_level                   19439 non-null  float64\n",
      " 65  secondary_cleaner.output.tail_ag                    19437 non-null  float64\n",
      " 66  secondary_cleaner.output.tail_pb                    19427 non-null  float64\n",
      " 67  secondary_cleaner.output.tail_sol                   17691 non-null  float64\n",
      " 68  secondary_cleaner.output.tail_au                    19439 non-null  float64\n",
      " 69  secondary_cleaner.state.floatbank2_a_air            19219 non-null  float64\n",
      " 70  secondary_cleaner.state.floatbank2_a_level          19438 non-null  float64\n",
      " 71  secondary_cleaner.state.floatbank2_b_air            19416 non-null  float64\n",
      " 72  secondary_cleaner.state.floatbank2_b_level          19438 non-null  float64\n",
      " 73  secondary_cleaner.state.floatbank3_a_air            19426 non-null  float64\n",
      " 74  secondary_cleaner.state.floatbank3_a_level          19438 non-null  float64\n",
      " 75  secondary_cleaner.state.floatbank3_b_air            19438 non-null  float64\n",
      " 76  secondary_cleaner.state.floatbank3_b_level          19438 non-null  float64\n",
      " 77  secondary_cleaner.state.floatbank4_a_air            19433 non-null  float64\n",
      " 78  secondary_cleaner.state.floatbank4_a_level          19438 non-null  float64\n",
      " 79  secondary_cleaner.state.floatbank4_b_air            19438 non-null  float64\n",
      " 80  secondary_cleaner.state.floatbank4_b_level          19438 non-null  float64\n",
      " 81  secondary_cleaner.state.floatbank5_a_air            19438 non-null  float64\n",
      " 82  secondary_cleaner.state.floatbank5_a_level          19438 non-null  float64\n",
      " 83  secondary_cleaner.state.floatbank5_b_air            19438 non-null  float64\n",
      " 84  secondary_cleaner.state.floatbank5_b_level          19438 non-null  float64\n",
      " 85  secondary_cleaner.state.floatbank6_a_air            19437 non-null  float64\n",
      " 86  secondary_cleaner.state.floatbank6_a_level          19438 non-null  float64\n",
      "dtypes: float64(86), object(1)\n",
      "memory usage: 12.9+ MB\n"
     ]
    }
   ],
   "source": [
    "data_full.info()"
   ]
  },
  {
   "cell_type": "code",
   "execution_count": 8,
   "metadata": {},
   "outputs": [
    {
     "data": {
      "text/html": [
       "<div>\n",
       "<style scoped>\n",
       "    .dataframe tbody tr th:only-of-type {\n",
       "        vertical-align: middle;\n",
       "    }\n",
       "\n",
       "    .dataframe tbody tr th {\n",
       "        vertical-align: top;\n",
       "    }\n",
       "\n",
       "    .dataframe thead th {\n",
       "        text-align: right;\n",
       "    }\n",
       "</style>\n",
       "<table border=\"1\" class=\"dataframe\">\n",
       "  <thead>\n",
       "    <tr style=\"text-align: right;\">\n",
       "      <th></th>\n",
       "      <th>date</th>\n",
       "      <th>final.output.concentrate_ag</th>\n",
       "      <th>final.output.concentrate_pb</th>\n",
       "      <th>final.output.concentrate_sol</th>\n",
       "      <th>final.output.concentrate_au</th>\n",
       "      <th>final.output.recovery</th>\n",
       "      <th>final.output.tail_ag</th>\n",
       "      <th>final.output.tail_pb</th>\n",
       "      <th>final.output.tail_sol</th>\n",
       "      <th>final.output.tail_au</th>\n",
       "      <th>...</th>\n",
       "      <th>secondary_cleaner.state.floatbank4_a_air</th>\n",
       "      <th>secondary_cleaner.state.floatbank4_a_level</th>\n",
       "      <th>secondary_cleaner.state.floatbank4_b_air</th>\n",
       "      <th>secondary_cleaner.state.floatbank4_b_level</th>\n",
       "      <th>secondary_cleaner.state.floatbank5_a_air</th>\n",
       "      <th>secondary_cleaner.state.floatbank5_a_level</th>\n",
       "      <th>secondary_cleaner.state.floatbank5_b_air</th>\n",
       "      <th>secondary_cleaner.state.floatbank5_b_level</th>\n",
       "      <th>secondary_cleaner.state.floatbank6_a_air</th>\n",
       "      <th>secondary_cleaner.state.floatbank6_a_level</th>\n",
       "    </tr>\n",
       "  </thead>\n",
       "  <tbody>\n",
       "    <tr>\n",
       "      <th>0</th>\n",
       "      <td>2016-01-15 00:00:00</td>\n",
       "      <td>6.055403</td>\n",
       "      <td>9.889648</td>\n",
       "      <td>5.507324</td>\n",
       "      <td>42.192020</td>\n",
       "      <td>70.541216</td>\n",
       "      <td>10.411962</td>\n",
       "      <td>0.895447</td>\n",
       "      <td>16.904297</td>\n",
       "      <td>2.143149</td>\n",
       "      <td>...</td>\n",
       "      <td>14.016835</td>\n",
       "      <td>-502.488007</td>\n",
       "      <td>12.099931</td>\n",
       "      <td>-504.715942</td>\n",
       "      <td>9.925633</td>\n",
       "      <td>-498.310211</td>\n",
       "      <td>8.079666</td>\n",
       "      <td>-500.470978</td>\n",
       "      <td>14.151341</td>\n",
       "      <td>-605.841980</td>\n",
       "    </tr>\n",
       "    <tr>\n",
       "      <th>1</th>\n",
       "      <td>2016-01-15 01:00:00</td>\n",
       "      <td>6.029369</td>\n",
       "      <td>9.968944</td>\n",
       "      <td>5.257781</td>\n",
       "      <td>42.701629</td>\n",
       "      <td>69.266198</td>\n",
       "      <td>10.462676</td>\n",
       "      <td>0.927452</td>\n",
       "      <td>16.634514</td>\n",
       "      <td>2.224930</td>\n",
       "      <td>...</td>\n",
       "      <td>13.992281</td>\n",
       "      <td>-505.503262</td>\n",
       "      <td>11.950531</td>\n",
       "      <td>-501.331529</td>\n",
       "      <td>10.039245</td>\n",
       "      <td>-500.169983</td>\n",
       "      <td>7.984757</td>\n",
       "      <td>-500.582168</td>\n",
       "      <td>13.998353</td>\n",
       "      <td>-599.787184</td>\n",
       "    </tr>\n",
       "    <tr>\n",
       "      <th>2</th>\n",
       "      <td>2016-01-15 02:00:00</td>\n",
       "      <td>6.055926</td>\n",
       "      <td>10.213995</td>\n",
       "      <td>5.383759</td>\n",
       "      <td>42.657501</td>\n",
       "      <td>68.116445</td>\n",
       "      <td>10.507046</td>\n",
       "      <td>0.953716</td>\n",
       "      <td>16.208849</td>\n",
       "      <td>2.257889</td>\n",
       "      <td>...</td>\n",
       "      <td>14.015015</td>\n",
       "      <td>-502.520901</td>\n",
       "      <td>11.912783</td>\n",
       "      <td>-501.133383</td>\n",
       "      <td>10.070913</td>\n",
       "      <td>-500.129135</td>\n",
       "      <td>8.013877</td>\n",
       "      <td>-500.517572</td>\n",
       "      <td>14.028663</td>\n",
       "      <td>-601.427363</td>\n",
       "    </tr>\n",
       "    <tr>\n",
       "      <th>3</th>\n",
       "      <td>2016-01-15 03:00:00</td>\n",
       "      <td>6.047977</td>\n",
       "      <td>9.977019</td>\n",
       "      <td>4.858634</td>\n",
       "      <td>42.689819</td>\n",
       "      <td>68.347543</td>\n",
       "      <td>10.422762</td>\n",
       "      <td>0.883763</td>\n",
       "      <td>16.532835</td>\n",
       "      <td>2.146849</td>\n",
       "      <td>...</td>\n",
       "      <td>14.036510</td>\n",
       "      <td>-500.857308</td>\n",
       "      <td>11.999550</td>\n",
       "      <td>-501.193686</td>\n",
       "      <td>9.970366</td>\n",
       "      <td>-499.201640</td>\n",
       "      <td>7.977324</td>\n",
       "      <td>-500.255908</td>\n",
       "      <td>14.005551</td>\n",
       "      <td>-599.996129</td>\n",
       "    </tr>\n",
       "    <tr>\n",
       "      <th>4</th>\n",
       "      <td>2016-01-15 04:00:00</td>\n",
       "      <td>6.148599</td>\n",
       "      <td>10.142511</td>\n",
       "      <td>4.939416</td>\n",
       "      <td>42.774141</td>\n",
       "      <td>66.927016</td>\n",
       "      <td>10.360302</td>\n",
       "      <td>0.792826</td>\n",
       "      <td>16.525686</td>\n",
       "      <td>2.055292</td>\n",
       "      <td>...</td>\n",
       "      <td>14.027298</td>\n",
       "      <td>-499.838632</td>\n",
       "      <td>11.953070</td>\n",
       "      <td>-501.053894</td>\n",
       "      <td>9.925709</td>\n",
       "      <td>-501.686727</td>\n",
       "      <td>7.894242</td>\n",
       "      <td>-500.356035</td>\n",
       "      <td>13.996647</td>\n",
       "      <td>-601.496691</td>\n",
       "    </tr>\n",
       "  </tbody>\n",
       "</table>\n",
       "<p>5 rows × 87 columns</p>\n",
       "</div>"
      ],
      "text/plain": [
       "                  date  final.output.concentrate_ag  \\\n",
       "0  2016-01-15 00:00:00                     6.055403   \n",
       "1  2016-01-15 01:00:00                     6.029369   \n",
       "2  2016-01-15 02:00:00                     6.055926   \n",
       "3  2016-01-15 03:00:00                     6.047977   \n",
       "4  2016-01-15 04:00:00                     6.148599   \n",
       "\n",
       "   final.output.concentrate_pb  final.output.concentrate_sol  \\\n",
       "0                     9.889648                      5.507324   \n",
       "1                     9.968944                      5.257781   \n",
       "2                    10.213995                      5.383759   \n",
       "3                     9.977019                      4.858634   \n",
       "4                    10.142511                      4.939416   \n",
       "\n",
       "   final.output.concentrate_au  final.output.recovery  final.output.tail_ag  \\\n",
       "0                    42.192020              70.541216             10.411962   \n",
       "1                    42.701629              69.266198             10.462676   \n",
       "2                    42.657501              68.116445             10.507046   \n",
       "3                    42.689819              68.347543             10.422762   \n",
       "4                    42.774141              66.927016             10.360302   \n",
       "\n",
       "   final.output.tail_pb  final.output.tail_sol  final.output.tail_au  ...  \\\n",
       "0              0.895447              16.904297              2.143149  ...   \n",
       "1              0.927452              16.634514              2.224930  ...   \n",
       "2              0.953716              16.208849              2.257889  ...   \n",
       "3              0.883763              16.532835              2.146849  ...   \n",
       "4              0.792826              16.525686              2.055292  ...   \n",
       "\n",
       "   secondary_cleaner.state.floatbank4_a_air  \\\n",
       "0                                 14.016835   \n",
       "1                                 13.992281   \n",
       "2                                 14.015015   \n",
       "3                                 14.036510   \n",
       "4                                 14.027298   \n",
       "\n",
       "   secondary_cleaner.state.floatbank4_a_level  \\\n",
       "0                                 -502.488007   \n",
       "1                                 -505.503262   \n",
       "2                                 -502.520901   \n",
       "3                                 -500.857308   \n",
       "4                                 -499.838632   \n",
       "\n",
       "   secondary_cleaner.state.floatbank4_b_air  \\\n",
       "0                                 12.099931   \n",
       "1                                 11.950531   \n",
       "2                                 11.912783   \n",
       "3                                 11.999550   \n",
       "4                                 11.953070   \n",
       "\n",
       "   secondary_cleaner.state.floatbank4_b_level  \\\n",
       "0                                 -504.715942   \n",
       "1                                 -501.331529   \n",
       "2                                 -501.133383   \n",
       "3                                 -501.193686   \n",
       "4                                 -501.053894   \n",
       "\n",
       "   secondary_cleaner.state.floatbank5_a_air  \\\n",
       "0                                  9.925633   \n",
       "1                                 10.039245   \n",
       "2                                 10.070913   \n",
       "3                                  9.970366   \n",
       "4                                  9.925709   \n",
       "\n",
       "   secondary_cleaner.state.floatbank5_a_level  \\\n",
       "0                                 -498.310211   \n",
       "1                                 -500.169983   \n",
       "2                                 -500.129135   \n",
       "3                                 -499.201640   \n",
       "4                                 -501.686727   \n",
       "\n",
       "   secondary_cleaner.state.floatbank5_b_air  \\\n",
       "0                                  8.079666   \n",
       "1                                  7.984757   \n",
       "2                                  8.013877   \n",
       "3                                  7.977324   \n",
       "4                                  7.894242   \n",
       "\n",
       "   secondary_cleaner.state.floatbank5_b_level  \\\n",
       "0                                 -500.470978   \n",
       "1                                 -500.582168   \n",
       "2                                 -500.517572   \n",
       "3                                 -500.255908   \n",
       "4                                 -500.356035   \n",
       "\n",
       "   secondary_cleaner.state.floatbank6_a_air  \\\n",
       "0                                 14.151341   \n",
       "1                                 13.998353   \n",
       "2                                 14.028663   \n",
       "3                                 14.005551   \n",
       "4                                 13.996647   \n",
       "\n",
       "   secondary_cleaner.state.floatbank6_a_level  \n",
       "0                                 -605.841980  \n",
       "1                                 -599.787184  \n",
       "2                                 -601.427363  \n",
       "3                                 -599.996129  \n",
       "4                                 -601.496691  \n",
       "\n",
       "[5 rows x 87 columns]"
      ]
     },
     "metadata": {},
     "output_type": "display_data"
    }
   ],
   "source": [
    "display(data_full.head())"
   ]
  },
  {
   "cell_type": "markdown",
   "metadata": {},
   "source": [
    "***Выводы по предварительному анализу данных***\n",
    "\n",
    "1. В датафреймах есть пропуски, надо будет их заполнить с учетом условия в задаче, что данные индексируются датой и временем получения информации (признак date). Соседние по времени параметры часто похожи.\n",
    "\n",
    "2. Также  изменим формат ячейки date на datatime.\n",
    "\n",
    "3. Проверим информацию в таблицах на наличие дубликатов.\n",
    "\n",
    "4. Количество столбцов в датафреме test (53) отличается от train и full (где пл 87). Надо проанализировать отличия. Возможно из train придется удалить часть столбцов, отсутсвующих в test, чтобы при обучении моделй не было утечки целевого признака."
   ]
  },
  {
   "cell_type": "markdown",
   "metadata": {},
   "source": [
    "Рассчитаем показатель эффективность обогащения и найдем MAE между вашими расчётами и значением признака"
   ]
  },
  {
   "cell_type": "code",
   "execution_count": 9,
   "metadata": {},
   "outputs": [
    {
     "name": "stdout",
     "output_type": "stream",
     "text": [
      "Среднее знечение  recovery, расчетное: 82.70450164550293\n",
      "Среднее знечение  rougher.output.recovery: 82.70450164550293\n",
      "MAE: 9.73512347450521e-15\n"
     ]
    }
   ],
   "source": [
    "C = data_train['rougher.output.concentrate_au'] #доля золота в сырье после очистки\n",
    "F = data_train['rougher.input.feed_au'] # доля золота в сырье до очистки\n",
    "T = data_train['rougher.output.tail_au'] #доля золота в отвальных хвостах\n",
    "recovery_check = (C*(F-T))/(F*(C-T))*100\n",
    "\n",
    "print('Среднее знечение  recovery, расчетное:', recovery_check.mean()) \n",
    "print('Среднее знечение  rougher.output.recovery:', data_train['rougher.output.recovery'].mean())\n",
    "#посчитаем MAE\n",
    "print('MAE:', mean_absolute_error(data_train['rougher.output.recovery'], recovery_check))"
   ]
  },
  {
   "cell_type": "markdown",
   "metadata": {},
   "source": [
    "***Вывод:***\n",
    "MAE - показывает как различается показатель обогащенния, указанный в датафрейме (колонка \"rougher.output.recovery\") от рассчитанного (recovery_check).\n",
    "\n",
    "В данном случае различия составлет ~9.735, значение небольшое.\n",
    "Продолжим анализ данных."
   ]
  },
  {
   "cell_type": "markdown",
   "metadata": {},
   "source": [
    "***Признаки, недоступные в тестовой выборке***"
   ]
  },
  {
   "cell_type": "markdown",
   "metadata": {},
   "source": [
    "Проанализируйте признаки, недоступные в тестовой выборке. \n",
    "- посмотрим, что это за параметры \n",
    "-  какотму типу они относятся"
   ]
  },
  {
   "cell_type": "code",
   "execution_count": 10,
   "metadata": {},
   "outputs": [
    {
     "name": "stdout",
     "output_type": "stream",
     "text": [
      "{'primary_cleaner.output.tail_au', 'rougher.calculation.au_pb_ratio', 'primary_cleaner.output.tail_ag', 'final.output.tail_sol', 'primary_cleaner.output.concentrate_ag', 'final.output.concentrate_sol', 'rougher.calculation.sulfate_to_au_concentrate', 'final.output.tail_au', 'rougher.output.concentrate_sol', 'primary_cleaner.output.concentrate_au', 'rougher.output.tail_sol', 'rougher.output.concentrate_pb', 'rougher.output.tail_pb', 'rougher.output.concentrate_au', 'primary_cleaner.output.concentrate_sol', 'final.output.tail_ag', 'rougher.output.concentrate_ag', 'rougher.output.tail_ag', 'secondary_cleaner.output.tail_sol', 'rougher.output.tail_au', 'final.output.concentrate_au', 'rougher.calculation.floatbank10_sulfate_to_au_feed', 'secondary_cleaner.output.tail_pb', 'rougher.calculation.floatbank11_sulfate_to_au_feed', 'final.output.concentrate_pb', 'final.output.concentrate_ag', 'rougher.output.recovery', 'final.output.recovery', 'primary_cleaner.output.tail_pb', 'secondary_cleaner.output.tail_au', 'primary_cleaner.output.tail_sol', 'final.output.tail_pb', 'secondary_cleaner.output.tail_ag', 'primary_cleaner.output.concentrate_pb'}\n",
      "\n",
      "\n",
      "Количество отсутствующих признаков - 34\n"
     ]
    }
   ],
   "source": [
    "#выведем колонки, которые отсутствуют в тестовой выборке по сравнению с обучающей\n",
    "missed_columns = set(data_train.columns) - set(data_test.columns)\n",
    "print(missed_columns)\n",
    "print(\"\")\n",
    "print('\\nКоличество отсутствующих признаков -', len(missed_columns))"
   ]
  },
  {
   "cell_type": "markdown",
   "metadata": {},
   "source": [
    "***Вывод по колонкам, отсутствующим в тестовой выборке:***\n",
    "\n",
    "В данным по тестовой выборке отсутсвтуют колонки с признаками для флотации, первичной,вторичной очистке и финальные характеристики. Причина их отсутствия скорее всого в том,что они замеряются значительно позже, как это укащано в описании к задаче.\n",
    "Отсутствие этих признаком для нас неважно, так как их мы бы все равно удаляли. Ведь их наличие приведет к утечке целевого признака. \n",
    "\n",
    "В тестовой выборки также отсутствуют целевые признаки rougher.output.recovery и final.output.recovery, которые будут нужны для расчета метрики качества. Добавим их в тестовую выборку, используя метод merge, в качестве индексов используем колонку date (данные индексируются датой и временем получения информации)."
   ]
  },
  {
   "cell_type": "markdown",
   "metadata": {},
   "source": [
    "***ПРЕДОБРАБОТКА ДАННЫХ***"
   ]
  },
  {
   "cell_type": "markdown",
   "metadata": {},
   "source": [
    "В предобработке данных сделаем следующее:\n",
    "\n",
    "1) переведем данные в колоке data  в формат datatime\n",
    "\n",
    "2) удалим при наличии явные дубликаты\n",
    "\n",
    "3) посмотрим насколько критичны пропуски, заполним пропушенные данные согласно условиям задачи\n",
    "\n",
    "4) добавим в тестовую выборку признаки rougher.output.recovery и final.output.recovery, которые будут нужны для расчета метрик качества \n",
    "\n",
    "5) удалим лишние и приводящие к утечке целевого признака данные"
   ]
  },
  {
   "cell_type": "markdown",
   "metadata": {},
   "source": [
    "***1) Переведем данные в колоке data  в формат datatime в датафреймах  data_train, data_test и data_full***"
   ]
  },
  {
   "cell_type": "code",
   "execution_count": 11,
   "metadata": {},
   "outputs": [
    {
     "data": {
      "text/plain": [
       "date                                          datetime64[ns]\n",
       "final.output.concentrate_ag                          float64\n",
       "final.output.concentrate_pb                          float64\n",
       "final.output.concentrate_sol                         float64\n",
       "final.output.concentrate_au                          float64\n",
       "                                                   ...      \n",
       "secondary_cleaner.state.floatbank5_a_level           float64\n",
       "secondary_cleaner.state.floatbank5_b_air             float64\n",
       "secondary_cleaner.state.floatbank5_b_level           float64\n",
       "secondary_cleaner.state.floatbank6_a_air             float64\n",
       "secondary_cleaner.state.floatbank6_a_level           float64\n",
       "Length: 87, dtype: object"
      ]
     },
     "execution_count": 11,
     "metadata": {},
     "output_type": "execute_result"
    }
   ],
   "source": [
    "data_train['date'] = pd.to_datetime(data_train['date'], format='%Y-%m-%d %H:%M:%S')\n",
    "data_train.dtypes"
   ]
  },
  {
   "cell_type": "code",
   "execution_count": 12,
   "metadata": {},
   "outputs": [
    {
     "data": {
      "text/plain": [
       "date                                          datetime64[ns]\n",
       "final.output.concentrate_ag                          float64\n",
       "final.output.concentrate_pb                          float64\n",
       "final.output.concentrate_sol                         float64\n",
       "final.output.concentrate_au                          float64\n",
       "                                                   ...      \n",
       "secondary_cleaner.state.floatbank5_a_level           float64\n",
       "secondary_cleaner.state.floatbank5_b_air             float64\n",
       "secondary_cleaner.state.floatbank5_b_level           float64\n",
       "secondary_cleaner.state.floatbank6_a_air             float64\n",
       "secondary_cleaner.state.floatbank6_a_level           float64\n",
       "Length: 87, dtype: object"
      ]
     },
     "execution_count": 12,
     "metadata": {},
     "output_type": "execute_result"
    }
   ],
   "source": [
    "data_test['date'] = pd.to_datetime(data_test['date'], format='%Y-%m-%d %H:%M:%S')\n",
    "data_train.dtypes"
   ]
  },
  {
   "cell_type": "code",
   "execution_count": 13,
   "metadata": {},
   "outputs": [
    {
     "data": {
      "text/plain": [
       "date                                          datetime64[ns]\n",
       "final.output.concentrate_ag                          float64\n",
       "final.output.concentrate_pb                          float64\n",
       "final.output.concentrate_sol                         float64\n",
       "final.output.concentrate_au                          float64\n",
       "                                                   ...      \n",
       "secondary_cleaner.state.floatbank5_a_level           float64\n",
       "secondary_cleaner.state.floatbank5_b_air             float64\n",
       "secondary_cleaner.state.floatbank5_b_level           float64\n",
       "secondary_cleaner.state.floatbank6_a_air             float64\n",
       "secondary_cleaner.state.floatbank6_a_level           float64\n",
       "Length: 87, dtype: object"
      ]
     },
     "execution_count": 13,
     "metadata": {},
     "output_type": "execute_result"
    }
   ],
   "source": [
    "data_full['date'] = pd.to_datetime(data_full['date'], format='%Y-%m-%d %H:%M:%S')\n",
    "data_train.dtypes"
   ]
  },
  {
   "cell_type": "markdown",
   "metadata": {},
   "source": [
    "***2) Посчитаме и удалим явные дубликаты в данных в их наличии***"
   ]
  },
  {
   "cell_type": "code",
   "execution_count": 14,
   "metadata": {},
   "outputs": [
    {
     "name": "stdout",
     "output_type": "stream",
     "text": [
      "Дубликаты в данных по датафреймам:\n",
      "обучающая 0\n",
      "тестовая 0\n",
      "полная 0\n"
     ]
    }
   ],
   "source": [
    "#print (data_train['data'].duplicated.sum())\n",
    "\n",
    "print('Дубликаты в данных по датафреймам:')\n",
    "print('обучающая', data_train['date'].duplicated().sum())\n",
    "print('тестовая', data_test['date'].duplicated().sum())\n",
    "print('полная', data_full['date'].duplicated().sum())"
   ]
  },
  {
   "cell_type": "markdown",
   "metadata": {},
   "source": [
    "Вывод: явных дубликатов нет. "
   ]
  },
  {
   "cell_type": "markdown",
   "metadata": {},
   "source": [
    "***3) Посмотрим насколько критичны пропуски***\n",
    "\n",
    "Известно, что данные индексируются датой и временем получения информации (признак date). Соседние по времени параметры часто похожи. Данные в таблице расположены в хронологичесокм порядке (это видно из таблиц).\n",
    "\n",
    "\n",
    "Исходя из этого заполним пропущенные данные значениями из предудущей строки с помощию функции ffill() и переименуем датафреймы\n"
   ]
  },
  {
   "cell_type": "code",
   "execution_count": 15,
   "metadata": {
    "scrolled": true
   },
   "outputs": [
    {
     "name": "stdout",
     "output_type": "stream",
     "text": [
      "<class 'pandas.core.frame.DataFrame'>\n",
      "RangeIndex: 14149 entries, 0 to 14148\n",
      "Data columns (total 87 columns):\n",
      " #   Column                                              Non-Null Count  Dtype         \n",
      "---  ------                                              --------------  -----         \n",
      " 0   date                                                14149 non-null  datetime64[ns]\n",
      " 1   final.output.concentrate_ag                         14149 non-null  float64       \n",
      " 2   final.output.concentrate_pb                         14149 non-null  float64       \n",
      " 3   final.output.concentrate_sol                        14149 non-null  float64       \n",
      " 4   final.output.concentrate_au                         14149 non-null  float64       \n",
      " 5   final.output.recovery                               14149 non-null  float64       \n",
      " 6   final.output.tail_ag                                14149 non-null  float64       \n",
      " 7   final.output.tail_pb                                14149 non-null  float64       \n",
      " 8   final.output.tail_sol                               14149 non-null  float64       \n",
      " 9   final.output.tail_au                                14149 non-null  float64       \n",
      " 10  primary_cleaner.input.sulfate                       14149 non-null  float64       \n",
      " 11  primary_cleaner.input.depressant                    14149 non-null  float64       \n",
      " 12  primary_cleaner.input.feed_size                     14149 non-null  float64       \n",
      " 13  primary_cleaner.input.xanthate                      14149 non-null  float64       \n",
      " 14  primary_cleaner.output.concentrate_ag               14149 non-null  float64       \n",
      " 15  primary_cleaner.output.concentrate_pb               14149 non-null  float64       \n",
      " 16  primary_cleaner.output.concentrate_sol              14149 non-null  float64       \n",
      " 17  primary_cleaner.output.concentrate_au               14149 non-null  float64       \n",
      " 18  primary_cleaner.output.tail_ag                      14149 non-null  float64       \n",
      " 19  primary_cleaner.output.tail_pb                      14149 non-null  float64       \n",
      " 20  primary_cleaner.output.tail_sol                     14149 non-null  float64       \n",
      " 21  primary_cleaner.output.tail_au                      14149 non-null  float64       \n",
      " 22  primary_cleaner.state.floatbank8_a_air              14149 non-null  float64       \n",
      " 23  primary_cleaner.state.floatbank8_a_level            14149 non-null  float64       \n",
      " 24  primary_cleaner.state.floatbank8_b_air              14149 non-null  float64       \n",
      " 25  primary_cleaner.state.floatbank8_b_level            14149 non-null  float64       \n",
      " 26  primary_cleaner.state.floatbank8_c_air              14149 non-null  float64       \n",
      " 27  primary_cleaner.state.floatbank8_c_level            14149 non-null  float64       \n",
      " 28  primary_cleaner.state.floatbank8_d_air              14149 non-null  float64       \n",
      " 29  primary_cleaner.state.floatbank8_d_level            14149 non-null  float64       \n",
      " 30  rougher.calculation.sulfate_to_au_concentrate       14149 non-null  float64       \n",
      " 31  rougher.calculation.floatbank10_sulfate_to_au_feed  14149 non-null  float64       \n",
      " 32  rougher.calculation.floatbank11_sulfate_to_au_feed  14149 non-null  float64       \n",
      " 33  rougher.calculation.au_pb_ratio                     14149 non-null  float64       \n",
      " 34  rougher.input.feed_ag                               14149 non-null  float64       \n",
      " 35  rougher.input.feed_pb                               14149 non-null  float64       \n",
      " 36  rougher.input.feed_rate                             14149 non-null  float64       \n",
      " 37  rougher.input.feed_size                             14149 non-null  float64       \n",
      " 38  rougher.input.feed_sol                              14149 non-null  float64       \n",
      " 39  rougher.input.feed_au                               14149 non-null  float64       \n",
      " 40  rougher.input.floatbank10_sulfate                   14149 non-null  float64       \n",
      " 41  rougher.input.floatbank10_xanthate                  14149 non-null  float64       \n",
      " 42  rougher.input.floatbank11_sulfate                   14149 non-null  float64       \n",
      " 43  rougher.input.floatbank11_xanthate                  14149 non-null  float64       \n",
      " 44  rougher.output.concentrate_ag                       14149 non-null  float64       \n",
      " 45  rougher.output.concentrate_pb                       14149 non-null  float64       \n",
      " 46  rougher.output.concentrate_sol                      14149 non-null  float64       \n",
      " 47  rougher.output.concentrate_au                       14149 non-null  float64       \n",
      " 48  rougher.output.recovery                             14149 non-null  float64       \n",
      " 49  rougher.output.tail_ag                              14149 non-null  float64       \n",
      " 50  rougher.output.tail_pb                              14149 non-null  float64       \n",
      " 51  rougher.output.tail_sol                             14149 non-null  float64       \n",
      " 52  rougher.output.tail_au                              14149 non-null  float64       \n",
      " 53  rougher.state.floatbank10_a_air                     14149 non-null  float64       \n",
      " 54  rougher.state.floatbank10_a_level                   14149 non-null  float64       \n",
      " 55  rougher.state.floatbank10_b_air                     14149 non-null  float64       \n",
      " 56  rougher.state.floatbank10_b_level                   14149 non-null  float64       \n",
      " 57  rougher.state.floatbank10_c_air                     14149 non-null  float64       \n",
      " 58  rougher.state.floatbank10_c_level                   14149 non-null  float64       \n",
      " 59  rougher.state.floatbank10_d_air                     14149 non-null  float64       \n",
      " 60  rougher.state.floatbank10_d_level                   14149 non-null  float64       \n",
      " 61  rougher.state.floatbank10_e_air                     14149 non-null  float64       \n",
      " 62  rougher.state.floatbank10_e_level                   14149 non-null  float64       \n",
      " 63  rougher.state.floatbank10_f_air                     14149 non-null  float64       \n",
      " 64  rougher.state.floatbank10_f_level                   14149 non-null  float64       \n",
      " 65  secondary_cleaner.output.tail_ag                    14149 non-null  float64       \n",
      " 66  secondary_cleaner.output.tail_pb                    14149 non-null  float64       \n",
      " 67  secondary_cleaner.output.tail_sol                   14149 non-null  float64       \n",
      " 68  secondary_cleaner.output.tail_au                    14149 non-null  float64       \n",
      " 69  secondary_cleaner.state.floatbank2_a_air            14149 non-null  float64       \n",
      " 70  secondary_cleaner.state.floatbank2_a_level          14149 non-null  float64       \n",
      " 71  secondary_cleaner.state.floatbank2_b_air            14149 non-null  float64       \n",
      " 72  secondary_cleaner.state.floatbank2_b_level          14149 non-null  float64       \n",
      " 73  secondary_cleaner.state.floatbank3_a_air            14149 non-null  float64       \n",
      " 74  secondary_cleaner.state.floatbank3_a_level          14149 non-null  float64       \n",
      " 75  secondary_cleaner.state.floatbank3_b_air            14149 non-null  float64       \n",
      " 76  secondary_cleaner.state.floatbank3_b_level          14149 non-null  float64       \n",
      " 77  secondary_cleaner.state.floatbank4_a_air            14149 non-null  float64       \n",
      " 78  secondary_cleaner.state.floatbank4_a_level          14149 non-null  float64       \n",
      " 79  secondary_cleaner.state.floatbank4_b_air            14149 non-null  float64       \n",
      " 80  secondary_cleaner.state.floatbank4_b_level          14149 non-null  float64       \n",
      " 81  secondary_cleaner.state.floatbank5_a_air            14149 non-null  float64       \n",
      " 82  secondary_cleaner.state.floatbank5_a_level          14149 non-null  float64       \n",
      " 83  secondary_cleaner.state.floatbank5_b_air            14149 non-null  float64       \n",
      " 84  secondary_cleaner.state.floatbank5_b_level          14149 non-null  float64       \n",
      " 85  secondary_cleaner.state.floatbank6_a_air            14149 non-null  float64       \n",
      " 86  secondary_cleaner.state.floatbank6_a_level          14149 non-null  float64       \n",
      "dtypes: datetime64[ns](1), float64(86)\n",
      "memory usage: 9.4 MB\n"
     ]
    }
   ],
   "source": [
    "df_train = data_train.ffill(axis=0)\n",
    "df_train.info()"
   ]
  },
  {
   "cell_type": "code",
   "execution_count": 16,
   "metadata": {
    "scrolled": true
   },
   "outputs": [
    {
     "name": "stdout",
     "output_type": "stream",
     "text": [
      "<class 'pandas.core.frame.DataFrame'>\n",
      "RangeIndex: 5290 entries, 0 to 5289\n",
      "Data columns (total 53 columns):\n",
      " #   Column                                      Non-Null Count  Dtype         \n",
      "---  ------                                      --------------  -----         \n",
      " 0   date                                        5290 non-null   datetime64[ns]\n",
      " 1   primary_cleaner.input.sulfate               5290 non-null   float64       \n",
      " 2   primary_cleaner.input.depressant            5290 non-null   float64       \n",
      " 3   primary_cleaner.input.feed_size             5290 non-null   float64       \n",
      " 4   primary_cleaner.input.xanthate              5290 non-null   float64       \n",
      " 5   primary_cleaner.state.floatbank8_a_air      5290 non-null   float64       \n",
      " 6   primary_cleaner.state.floatbank8_a_level    5290 non-null   float64       \n",
      " 7   primary_cleaner.state.floatbank8_b_air      5290 non-null   float64       \n",
      " 8   primary_cleaner.state.floatbank8_b_level    5290 non-null   float64       \n",
      " 9   primary_cleaner.state.floatbank8_c_air      5290 non-null   float64       \n",
      " 10  primary_cleaner.state.floatbank8_c_level    5290 non-null   float64       \n",
      " 11  primary_cleaner.state.floatbank8_d_air      5290 non-null   float64       \n",
      " 12  primary_cleaner.state.floatbank8_d_level    5290 non-null   float64       \n",
      " 13  rougher.input.feed_ag                       5290 non-null   float64       \n",
      " 14  rougher.input.feed_pb                       5290 non-null   float64       \n",
      " 15  rougher.input.feed_rate                     5290 non-null   float64       \n",
      " 16  rougher.input.feed_size                     5290 non-null   float64       \n",
      " 17  rougher.input.feed_sol                      5290 non-null   float64       \n",
      " 18  rougher.input.feed_au                       5290 non-null   float64       \n",
      " 19  rougher.input.floatbank10_sulfate           5290 non-null   float64       \n",
      " 20  rougher.input.floatbank10_xanthate          5290 non-null   float64       \n",
      " 21  rougher.input.floatbank11_sulfate           5290 non-null   float64       \n",
      " 22  rougher.input.floatbank11_xanthate          5290 non-null   float64       \n",
      " 23  rougher.state.floatbank10_a_air             5290 non-null   float64       \n",
      " 24  rougher.state.floatbank10_a_level           5290 non-null   float64       \n",
      " 25  rougher.state.floatbank10_b_air             5290 non-null   float64       \n",
      " 26  rougher.state.floatbank10_b_level           5290 non-null   float64       \n",
      " 27  rougher.state.floatbank10_c_air             5290 non-null   float64       \n",
      " 28  rougher.state.floatbank10_c_level           5290 non-null   float64       \n",
      " 29  rougher.state.floatbank10_d_air             5290 non-null   float64       \n",
      " 30  rougher.state.floatbank10_d_level           5290 non-null   float64       \n",
      " 31  rougher.state.floatbank10_e_air             5290 non-null   float64       \n",
      " 32  rougher.state.floatbank10_e_level           5290 non-null   float64       \n",
      " 33  rougher.state.floatbank10_f_air             5290 non-null   float64       \n",
      " 34  rougher.state.floatbank10_f_level           5290 non-null   float64       \n",
      " 35  secondary_cleaner.state.floatbank2_a_air    5290 non-null   float64       \n",
      " 36  secondary_cleaner.state.floatbank2_a_level  5290 non-null   float64       \n",
      " 37  secondary_cleaner.state.floatbank2_b_air    5290 non-null   float64       \n",
      " 38  secondary_cleaner.state.floatbank2_b_level  5290 non-null   float64       \n",
      " 39  secondary_cleaner.state.floatbank3_a_air    5290 non-null   float64       \n",
      " 40  secondary_cleaner.state.floatbank3_a_level  5290 non-null   float64       \n",
      " 41  secondary_cleaner.state.floatbank3_b_air    5290 non-null   float64       \n",
      " 42  secondary_cleaner.state.floatbank3_b_level  5290 non-null   float64       \n",
      " 43  secondary_cleaner.state.floatbank4_a_air    5290 non-null   float64       \n",
      " 44  secondary_cleaner.state.floatbank4_a_level  5290 non-null   float64       \n",
      " 45  secondary_cleaner.state.floatbank4_b_air    5290 non-null   float64       \n",
      " 46  secondary_cleaner.state.floatbank4_b_level  5290 non-null   float64       \n",
      " 47  secondary_cleaner.state.floatbank5_a_air    5290 non-null   float64       \n",
      " 48  secondary_cleaner.state.floatbank5_a_level  5290 non-null   float64       \n",
      " 49  secondary_cleaner.state.floatbank5_b_air    5290 non-null   float64       \n",
      " 50  secondary_cleaner.state.floatbank5_b_level  5290 non-null   float64       \n",
      " 51  secondary_cleaner.state.floatbank6_a_air    5290 non-null   float64       \n",
      " 52  secondary_cleaner.state.floatbank6_a_level  5290 non-null   float64       \n",
      "dtypes: datetime64[ns](1), float64(52)\n",
      "memory usage: 2.1 MB\n"
     ]
    }
   ],
   "source": [
    "df_test = data_test.ffill(axis=0)\n",
    "df_test.info()"
   ]
  },
  {
   "cell_type": "code",
   "execution_count": 17,
   "metadata": {
    "scrolled": true
   },
   "outputs": [
    {
     "name": "stdout",
     "output_type": "stream",
     "text": [
      "<class 'pandas.core.frame.DataFrame'>\n",
      "RangeIndex: 19439 entries, 0 to 19438\n",
      "Data columns (total 87 columns):\n",
      " #   Column                                              Non-Null Count  Dtype         \n",
      "---  ------                                              --------------  -----         \n",
      " 0   date                                                19439 non-null  datetime64[ns]\n",
      " 1   final.output.concentrate_ag                         19439 non-null  float64       \n",
      " 2   final.output.concentrate_pb                         19439 non-null  float64       \n",
      " 3   final.output.concentrate_sol                        19439 non-null  float64       \n",
      " 4   final.output.concentrate_au                         19439 non-null  float64       \n",
      " 5   final.output.recovery                               19439 non-null  float64       \n",
      " 6   final.output.tail_ag                                19439 non-null  float64       \n",
      " 7   final.output.tail_pb                                19439 non-null  float64       \n",
      " 8   final.output.tail_sol                               19439 non-null  float64       \n",
      " 9   final.output.tail_au                                19439 non-null  float64       \n",
      " 10  primary_cleaner.input.sulfate                       19439 non-null  float64       \n",
      " 11  primary_cleaner.input.depressant                    19439 non-null  float64       \n",
      " 12  primary_cleaner.input.feed_size                     19439 non-null  float64       \n",
      " 13  primary_cleaner.input.xanthate                      19439 non-null  float64       \n",
      " 14  primary_cleaner.output.concentrate_ag               19439 non-null  float64       \n",
      " 15  primary_cleaner.output.concentrate_pb               19439 non-null  float64       \n",
      " 16  primary_cleaner.output.concentrate_sol              19439 non-null  float64       \n",
      " 17  primary_cleaner.output.concentrate_au               19439 non-null  float64       \n",
      " 18  primary_cleaner.output.tail_ag                      19439 non-null  float64       \n",
      " 19  primary_cleaner.output.tail_pb                      19439 non-null  float64       \n",
      " 20  primary_cleaner.output.tail_sol                     19439 non-null  float64       \n",
      " 21  primary_cleaner.output.tail_au                      19439 non-null  float64       \n",
      " 22  primary_cleaner.state.floatbank8_a_air              19439 non-null  float64       \n",
      " 23  primary_cleaner.state.floatbank8_a_level            19439 non-null  float64       \n",
      " 24  primary_cleaner.state.floatbank8_b_air              19439 non-null  float64       \n",
      " 25  primary_cleaner.state.floatbank8_b_level            19439 non-null  float64       \n",
      " 26  primary_cleaner.state.floatbank8_c_air              19439 non-null  float64       \n",
      " 27  primary_cleaner.state.floatbank8_c_level            19439 non-null  float64       \n",
      " 28  primary_cleaner.state.floatbank8_d_air              19439 non-null  float64       \n",
      " 29  primary_cleaner.state.floatbank8_d_level            19439 non-null  float64       \n",
      " 30  rougher.calculation.sulfate_to_au_concentrate       19439 non-null  float64       \n",
      " 31  rougher.calculation.floatbank10_sulfate_to_au_feed  19439 non-null  float64       \n",
      " 32  rougher.calculation.floatbank11_sulfate_to_au_feed  19439 non-null  float64       \n",
      " 33  rougher.calculation.au_pb_ratio                     19439 non-null  float64       \n",
      " 34  rougher.input.feed_ag                               19439 non-null  float64       \n",
      " 35  rougher.input.feed_pb                               19439 non-null  float64       \n",
      " 36  rougher.input.feed_rate                             19439 non-null  float64       \n",
      " 37  rougher.input.feed_size                             19439 non-null  float64       \n",
      " 38  rougher.input.feed_sol                              19439 non-null  float64       \n",
      " 39  rougher.input.feed_au                               19439 non-null  float64       \n",
      " 40  rougher.input.floatbank10_sulfate                   19439 non-null  float64       \n",
      " 41  rougher.input.floatbank10_xanthate                  19439 non-null  float64       \n",
      " 42  rougher.input.floatbank11_sulfate                   19439 non-null  float64       \n",
      " 43  rougher.input.floatbank11_xanthate                  19439 non-null  float64       \n",
      " 44  rougher.output.concentrate_ag                       19439 non-null  float64       \n",
      " 45  rougher.output.concentrate_pb                       19439 non-null  float64       \n",
      " 46  rougher.output.concentrate_sol                      19439 non-null  float64       \n",
      " 47  rougher.output.concentrate_au                       19439 non-null  float64       \n",
      " 48  rougher.output.recovery                             19439 non-null  float64       \n",
      " 49  rougher.output.tail_ag                              19439 non-null  float64       \n",
      " 50  rougher.output.tail_pb                              19439 non-null  float64       \n",
      " 51  rougher.output.tail_sol                             19439 non-null  float64       \n",
      " 52  rougher.output.tail_au                              19439 non-null  float64       \n",
      " 53  rougher.state.floatbank10_a_air                     19439 non-null  float64       \n",
      " 54  rougher.state.floatbank10_a_level                   19439 non-null  float64       \n",
      " 55  rougher.state.floatbank10_b_air                     19439 non-null  float64       \n",
      " 56  rougher.state.floatbank10_b_level                   19439 non-null  float64       \n",
      " 57  rougher.state.floatbank10_c_air                     19439 non-null  float64       \n",
      " 58  rougher.state.floatbank10_c_level                   19439 non-null  float64       \n",
      " 59  rougher.state.floatbank10_d_air                     19439 non-null  float64       \n",
      " 60  rougher.state.floatbank10_d_level                   19439 non-null  float64       \n",
      " 61  rougher.state.floatbank10_e_air                     19439 non-null  float64       \n",
      " 62  rougher.state.floatbank10_e_level                   19439 non-null  float64       \n",
      " 63  rougher.state.floatbank10_f_air                     19439 non-null  float64       \n",
      " 64  rougher.state.floatbank10_f_level                   19439 non-null  float64       \n",
      " 65  secondary_cleaner.output.tail_ag                    19439 non-null  float64       \n",
      " 66  secondary_cleaner.output.tail_pb                    19439 non-null  float64       \n",
      " 67  secondary_cleaner.output.tail_sol                   19439 non-null  float64       \n",
      " 68  secondary_cleaner.output.tail_au                    19439 non-null  float64       \n",
      " 69  secondary_cleaner.state.floatbank2_a_air            19439 non-null  float64       \n",
      " 70  secondary_cleaner.state.floatbank2_a_level          19439 non-null  float64       \n",
      " 71  secondary_cleaner.state.floatbank2_b_air            19439 non-null  float64       \n",
      " 72  secondary_cleaner.state.floatbank2_b_level          19439 non-null  float64       \n",
      " 73  secondary_cleaner.state.floatbank3_a_air            19439 non-null  float64       \n",
      " 74  secondary_cleaner.state.floatbank3_a_level          19439 non-null  float64       \n",
      " 75  secondary_cleaner.state.floatbank3_b_air            19439 non-null  float64       \n",
      " 76  secondary_cleaner.state.floatbank3_b_level          19439 non-null  float64       \n",
      " 77  secondary_cleaner.state.floatbank4_a_air            19439 non-null  float64       \n",
      " 78  secondary_cleaner.state.floatbank4_a_level          19439 non-null  float64       \n",
      " 79  secondary_cleaner.state.floatbank4_b_air            19439 non-null  float64       \n",
      " 80  secondary_cleaner.state.floatbank4_b_level          19439 non-null  float64       \n",
      " 81  secondary_cleaner.state.floatbank5_a_air            19439 non-null  float64       \n",
      " 82  secondary_cleaner.state.floatbank5_a_level          19439 non-null  float64       \n",
      " 83  secondary_cleaner.state.floatbank5_b_air            19439 non-null  float64       \n",
      " 84  secondary_cleaner.state.floatbank5_b_level          19439 non-null  float64       \n",
      " 85  secondary_cleaner.state.floatbank6_a_air            19439 non-null  float64       \n",
      " 86  secondary_cleaner.state.floatbank6_a_level          19439 non-null  float64       \n",
      "dtypes: datetime64[ns](1), float64(86)\n",
      "memory usage: 12.9 MB\n"
     ]
    }
   ],
   "source": [
    "df_full = data_full.ffill(axis=0)\n",
    "df_full.info()"
   ]
  },
  {
   "cell_type": "markdown",
   "metadata": {},
   "source": [
    "Таким образом исчезли все пропуски в данных."
   ]
  },
  {
   "cell_type": "markdown",
   "metadata": {},
   "source": [
    "***4) Добавим в тестовую выборку признаки rougher.output.recovery и final.output.recovery, которые будут нужны для расчета метрик качества***\n",
    "\n",
    "Так как известно, что данные индексируются датой и временем получения информации (признак date), добавим недостаюшие признаки из выборки df_full c помощью функции метода merge"
   ]
  },
  {
   "cell_type": "code",
   "execution_count": 18,
   "metadata": {
    "scrolled": true
   },
   "outputs": [
    {
     "data": {
      "text/html": [
       "<div>\n",
       "<style scoped>\n",
       "    .dataframe tbody tr th:only-of-type {\n",
       "        vertical-align: middle;\n",
       "    }\n",
       "\n",
       "    .dataframe tbody tr th {\n",
       "        vertical-align: top;\n",
       "    }\n",
       "\n",
       "    .dataframe thead th {\n",
       "        text-align: right;\n",
       "    }\n",
       "</style>\n",
       "<table border=\"1\" class=\"dataframe\">\n",
       "  <thead>\n",
       "    <tr style=\"text-align: right;\">\n",
       "      <th></th>\n",
       "      <th>date</th>\n",
       "      <th>primary_cleaner.input.sulfate</th>\n",
       "      <th>primary_cleaner.input.depressant</th>\n",
       "      <th>primary_cleaner.input.feed_size</th>\n",
       "      <th>primary_cleaner.input.xanthate</th>\n",
       "      <th>primary_cleaner.state.floatbank8_a_air</th>\n",
       "      <th>primary_cleaner.state.floatbank8_a_level</th>\n",
       "      <th>primary_cleaner.state.floatbank8_b_air</th>\n",
       "      <th>primary_cleaner.state.floatbank8_b_level</th>\n",
       "      <th>primary_cleaner.state.floatbank8_c_air</th>\n",
       "      <th>...</th>\n",
       "      <th>secondary_cleaner.state.floatbank4_b_air</th>\n",
       "      <th>secondary_cleaner.state.floatbank4_b_level</th>\n",
       "      <th>secondary_cleaner.state.floatbank5_a_air</th>\n",
       "      <th>secondary_cleaner.state.floatbank5_a_level</th>\n",
       "      <th>secondary_cleaner.state.floatbank5_b_air</th>\n",
       "      <th>secondary_cleaner.state.floatbank5_b_level</th>\n",
       "      <th>secondary_cleaner.state.floatbank6_a_air</th>\n",
       "      <th>secondary_cleaner.state.floatbank6_a_level</th>\n",
       "      <th>rougher.output.recovery</th>\n",
       "      <th>final.output.recovery</th>\n",
       "    </tr>\n",
       "  </thead>\n",
       "  <tbody>\n",
       "    <tr>\n",
       "      <th>0</th>\n",
       "      <td>2016-09-01 00:59:59</td>\n",
       "      <td>210.800909</td>\n",
       "      <td>14.993118</td>\n",
       "      <td>8.080000</td>\n",
       "      <td>1.005021</td>\n",
       "      <td>1398.981301</td>\n",
       "      <td>-500.225577</td>\n",
       "      <td>1399.144926</td>\n",
       "      <td>-499.919735</td>\n",
       "      <td>1400.102998</td>\n",
       "      <td>...</td>\n",
       "      <td>8.016656</td>\n",
       "      <td>-501.289139</td>\n",
       "      <td>7.946562</td>\n",
       "      <td>-432.317850</td>\n",
       "      <td>4.872511</td>\n",
       "      <td>-500.037437</td>\n",
       "      <td>26.705889</td>\n",
       "      <td>-499.709414</td>\n",
       "      <td>89.993421</td>\n",
       "      <td>70.273583</td>\n",
       "    </tr>\n",
       "    <tr>\n",
       "      <th>1</th>\n",
       "      <td>2016-09-01 01:59:59</td>\n",
       "      <td>215.392455</td>\n",
       "      <td>14.987471</td>\n",
       "      <td>8.080000</td>\n",
       "      <td>0.990469</td>\n",
       "      <td>1398.777912</td>\n",
       "      <td>-500.057435</td>\n",
       "      <td>1398.055362</td>\n",
       "      <td>-499.778182</td>\n",
       "      <td>1396.151033</td>\n",
       "      <td>...</td>\n",
       "      <td>8.130979</td>\n",
       "      <td>-499.634209</td>\n",
       "      <td>7.958270</td>\n",
       "      <td>-525.839648</td>\n",
       "      <td>4.878850</td>\n",
       "      <td>-500.162375</td>\n",
       "      <td>25.019940</td>\n",
       "      <td>-499.819438</td>\n",
       "      <td>88.089657</td>\n",
       "      <td>68.910432</td>\n",
       "    </tr>\n",
       "    <tr>\n",
       "      <th>2</th>\n",
       "      <td>2016-09-01 02:59:59</td>\n",
       "      <td>215.259946</td>\n",
       "      <td>12.884934</td>\n",
       "      <td>7.786667</td>\n",
       "      <td>0.996043</td>\n",
       "      <td>1398.493666</td>\n",
       "      <td>-500.868360</td>\n",
       "      <td>1398.860436</td>\n",
       "      <td>-499.764529</td>\n",
       "      <td>1398.075709</td>\n",
       "      <td>...</td>\n",
       "      <td>8.096893</td>\n",
       "      <td>-500.827423</td>\n",
       "      <td>8.071056</td>\n",
       "      <td>-500.801673</td>\n",
       "      <td>4.905125</td>\n",
       "      <td>-499.828510</td>\n",
       "      <td>24.994862</td>\n",
       "      <td>-500.622559</td>\n",
       "      <td>88.412756</td>\n",
       "      <td>68.143213</td>\n",
       "    </tr>\n",
       "    <tr>\n",
       "      <th>3</th>\n",
       "      <td>2016-09-01 03:59:59</td>\n",
       "      <td>215.336236</td>\n",
       "      <td>12.006805</td>\n",
       "      <td>7.640000</td>\n",
       "      <td>0.863514</td>\n",
       "      <td>1399.618111</td>\n",
       "      <td>-498.863574</td>\n",
       "      <td>1397.440120</td>\n",
       "      <td>-499.211024</td>\n",
       "      <td>1400.129303</td>\n",
       "      <td>...</td>\n",
       "      <td>8.074946</td>\n",
       "      <td>-499.474407</td>\n",
       "      <td>7.897085</td>\n",
       "      <td>-500.868509</td>\n",
       "      <td>4.931400</td>\n",
       "      <td>-499.963623</td>\n",
       "      <td>24.948919</td>\n",
       "      <td>-498.709987</td>\n",
       "      <td>87.360133</td>\n",
       "      <td>67.776393</td>\n",
       "    </tr>\n",
       "    <tr>\n",
       "      <th>4</th>\n",
       "      <td>2016-09-01 04:59:59</td>\n",
       "      <td>199.099327</td>\n",
       "      <td>10.682530</td>\n",
       "      <td>7.530000</td>\n",
       "      <td>0.805575</td>\n",
       "      <td>1401.268123</td>\n",
       "      <td>-500.808305</td>\n",
       "      <td>1398.128818</td>\n",
       "      <td>-499.504543</td>\n",
       "      <td>1402.172226</td>\n",
       "      <td>...</td>\n",
       "      <td>8.054678</td>\n",
       "      <td>-500.397500</td>\n",
       "      <td>8.107890</td>\n",
       "      <td>-509.526725</td>\n",
       "      <td>4.957674</td>\n",
       "      <td>-500.360026</td>\n",
       "      <td>25.003331</td>\n",
       "      <td>-500.856333</td>\n",
       "      <td>83.236367</td>\n",
       "      <td>61.467078</td>\n",
       "    </tr>\n",
       "  </tbody>\n",
       "</table>\n",
       "<p>5 rows × 55 columns</p>\n",
       "</div>"
      ],
      "text/plain": [
       "                 date  primary_cleaner.input.sulfate  \\\n",
       "0 2016-09-01 00:59:59                     210.800909   \n",
       "1 2016-09-01 01:59:59                     215.392455   \n",
       "2 2016-09-01 02:59:59                     215.259946   \n",
       "3 2016-09-01 03:59:59                     215.336236   \n",
       "4 2016-09-01 04:59:59                     199.099327   \n",
       "\n",
       "   primary_cleaner.input.depressant  primary_cleaner.input.feed_size  \\\n",
       "0                         14.993118                         8.080000   \n",
       "1                         14.987471                         8.080000   \n",
       "2                         12.884934                         7.786667   \n",
       "3                         12.006805                         7.640000   \n",
       "4                         10.682530                         7.530000   \n",
       "\n",
       "   primary_cleaner.input.xanthate  primary_cleaner.state.floatbank8_a_air  \\\n",
       "0                        1.005021                             1398.981301   \n",
       "1                        0.990469                             1398.777912   \n",
       "2                        0.996043                             1398.493666   \n",
       "3                        0.863514                             1399.618111   \n",
       "4                        0.805575                             1401.268123   \n",
       "\n",
       "   primary_cleaner.state.floatbank8_a_level  \\\n",
       "0                               -500.225577   \n",
       "1                               -500.057435   \n",
       "2                               -500.868360   \n",
       "3                               -498.863574   \n",
       "4                               -500.808305   \n",
       "\n",
       "   primary_cleaner.state.floatbank8_b_air  \\\n",
       "0                             1399.144926   \n",
       "1                             1398.055362   \n",
       "2                             1398.860436   \n",
       "3                             1397.440120   \n",
       "4                             1398.128818   \n",
       "\n",
       "   primary_cleaner.state.floatbank8_b_level  \\\n",
       "0                               -499.919735   \n",
       "1                               -499.778182   \n",
       "2                               -499.764529   \n",
       "3                               -499.211024   \n",
       "4                               -499.504543   \n",
       "\n",
       "   primary_cleaner.state.floatbank8_c_air  ...  \\\n",
       "0                             1400.102998  ...   \n",
       "1                             1396.151033  ...   \n",
       "2                             1398.075709  ...   \n",
       "3                             1400.129303  ...   \n",
       "4                             1402.172226  ...   \n",
       "\n",
       "   secondary_cleaner.state.floatbank4_b_air  \\\n",
       "0                                  8.016656   \n",
       "1                                  8.130979   \n",
       "2                                  8.096893   \n",
       "3                                  8.074946   \n",
       "4                                  8.054678   \n",
       "\n",
       "   secondary_cleaner.state.floatbank4_b_level  \\\n",
       "0                                 -501.289139   \n",
       "1                                 -499.634209   \n",
       "2                                 -500.827423   \n",
       "3                                 -499.474407   \n",
       "4                                 -500.397500   \n",
       "\n",
       "   secondary_cleaner.state.floatbank5_a_air  \\\n",
       "0                                  7.946562   \n",
       "1                                  7.958270   \n",
       "2                                  8.071056   \n",
       "3                                  7.897085   \n",
       "4                                  8.107890   \n",
       "\n",
       "   secondary_cleaner.state.floatbank5_a_level  \\\n",
       "0                                 -432.317850   \n",
       "1                                 -525.839648   \n",
       "2                                 -500.801673   \n",
       "3                                 -500.868509   \n",
       "4                                 -509.526725   \n",
       "\n",
       "   secondary_cleaner.state.floatbank5_b_air  \\\n",
       "0                                  4.872511   \n",
       "1                                  4.878850   \n",
       "2                                  4.905125   \n",
       "3                                  4.931400   \n",
       "4                                  4.957674   \n",
       "\n",
       "   secondary_cleaner.state.floatbank5_b_level  \\\n",
       "0                                 -500.037437   \n",
       "1                                 -500.162375   \n",
       "2                                 -499.828510   \n",
       "3                                 -499.963623   \n",
       "4                                 -500.360026   \n",
       "\n",
       "   secondary_cleaner.state.floatbank6_a_air  \\\n",
       "0                                 26.705889   \n",
       "1                                 25.019940   \n",
       "2                                 24.994862   \n",
       "3                                 24.948919   \n",
       "4                                 25.003331   \n",
       "\n",
       "   secondary_cleaner.state.floatbank6_a_level  rougher.output.recovery  \\\n",
       "0                                 -499.709414                89.993421   \n",
       "1                                 -499.819438                88.089657   \n",
       "2                                 -500.622559                88.412756   \n",
       "3                                 -498.709987                87.360133   \n",
       "4                                 -500.856333                83.236367   \n",
       "\n",
       "   final.output.recovery  \n",
       "0              70.273583  \n",
       "1              68.910432  \n",
       "2              68.143213  \n",
       "3              67.776393  \n",
       "4              61.467078  \n",
       "\n",
       "[5 rows x 55 columns]"
      ]
     },
     "metadata": {},
     "output_type": "display_data"
    }
   ],
   "source": [
    "df_test = df_test.merge(df_full.loc[:, ['date','rougher.output.recovery','final.output.recovery']], on='date')\n",
    "display(df_test.head())"
   ]
  },
  {
   "cell_type": "code",
   "execution_count": 19,
   "metadata": {},
   "outputs": [],
   "source": [
    "#удалим лишний признак -  date\n",
    "df_train = df_train.drop(columns=['date'], axis=1) \n",
    "df_test = df_test.drop(columns=['date'], axis=1) "
   ]
  },
  {
   "cell_type": "markdown",
   "metadata": {},
   "source": [
    "***АНАЛИЗ ДАННЫХ***"
   ]
  },
  {
   "cell_type": "markdown",
   "metadata": {},
   "source": [
    "- посмотрим, как меняется концентрация металлов (Au, Ag, Pb) на различных этапах очистки. \n",
    "- сравним распределения размеров гранул сырья на обучающей и тестовой выборках. Если распределения сильно отличаются друг от друга, оценка модели будет неправильной.\n",
    "- исследуем суммарную концентрацию всех веществ на разных стадиях: в сырье, в черновом и финальном концентрата"
   ]
  },
  {
   "cell_type": "markdown",
   "metadata": {},
   "source": [
    "1) Посмотрим как меняется концентрация металлов (Au, Ag, Pb) на различных этапах очистки."
   ]
  },
  {
   "cell_type": "code",
   "execution_count": 20,
   "metadata": {
    "scrolled": true
   },
   "outputs": [
    {
     "data": {
      "text/plain": [
       "Text(0.5, 1.0, 'Концентрация металла Au на разных этапах очистки')"
      ]
     },
     "execution_count": 20,
     "metadata": {},
     "output_type": "execute_result"
    },
    {
     "data": {
      "image/png": "[encoded data removed]",
      "text/plain": [
       "<Figure size 720x720 with 1 Axes>"
      ]
     },
     "metadata": {
      "needs_background": "light"
     },
     "output_type": "display_data"
    }
   ],
   "source": [
    "#концентрация металла Au на разных этапах очистки\n",
    "plt.figure(figsize=[10, 10])\n",
    "df_train['rougher.input.feed_au'].hist(bins=100, label = 'сырье', range = (0,60))\n",
    "df_train['rougher.output.concentrate_au'].hist(bins=100,label = 'концентрация после флотации', range = (0,60))\n",
    "df_train['primary_cleaner.output.concentrate_au'].hist(bins=100, label = 'концентрация после первичной очистки', range = (0,60))\n",
    "df_train['final.output.concentrate_au'].hist(bins=100, label = 'финальная концентрация', range = (0,60))\n",
    "plt.xlabel('Концентрация металла')\n",
    "plt.ylabel('Количество наблюдений')\n",
    "plt.legend()\n",
    "plt.title('Концентрация металла Au на разных этапах очистки')"
   ]
  },
  {
   "cell_type": "code",
   "execution_count": 21,
   "metadata": {},
   "outputs": [
    {
     "data": {
      "text/plain": [
       "Text(0.5, 1.0, 'Концентрация металла Ag на разных этапах очистки')"
      ]
     },
     "execution_count": 21,
     "metadata": {},
     "output_type": "execute_result"
    },
    {
     "data": {
      "image/png": "[encoded data removed]",
      "text/plain": [
       "<Figure size 720x720 with 1 Axes>"
      ]
     },
     "metadata": {
      "needs_background": "light"
     },
     "output_type": "display_data"
    }
   ],
   "source": [
    "#концентрация металла Ag на разных этапах очистки\n",
    "plt.figure(figsize=[10, 10])\n",
    "df_train['rougher.input.feed_ag'].hist(bins=100, label = 'сырье', range = (0,30))\n",
    "df_train['rougher.output.concentrate_ag'].hist(bins=100,label = 'концентрация после флотации', range = (0,30))\n",
    "df_train['primary_cleaner.output.concentrate_ag'].hist(bins=100, label = 'концентрация после первичной очистки', range = (0,30))\n",
    "df_train['final.output.concentrate_ag'].hist(bins=100, label = 'финальная концентрация', range = (0,30))\n",
    "plt.xlabel('Концентрация металла')\n",
    "plt.ylabel('Количество наблюдений')\n",
    "plt.legend()\n",
    "plt.title('Концентрация металла Ag на разных этапах очистки')"
   ]
  },
  {
   "cell_type": "code",
   "execution_count": 22,
   "metadata": {
    "scrolled": true
   },
   "outputs": [
    {
     "data": {
      "text/plain": [
       "Text(0.5, 1.0, 'Концентрация металла Pb на разных этапах очистки')"
      ]
     },
     "execution_count": 22,
     "metadata": {},
     "output_type": "execute_result"
    },
    {
     "data": {
      "image/png": "[encoded data removed]",
      "text/plain": [
       "<Figure size 720x720 with 1 Axes>"
      ]
     },
     "metadata": {
      "needs_background": "light"
     },
     "output_type": "display_data"
    }
   ],
   "source": [
    "#концентрация металла Pb на разных этапах очистки\n",
    "plt.figure(figsize=[10, 10])\n",
    "df_train['rougher.input.feed_pb'].hist(bins=100, label = 'сырье', range = (0,30))\n",
    "df_train['rougher.output.concentrate_pb'].hist(bins=100,label = 'концентрация после флотации', range = (0,30))\n",
    "df_train['primary_cleaner.output.concentrate_pb'].hist(bins=100, label = 'концентрация после первичной очистки', range = (0,30))\n",
    "df_train['final.output.concentrate_pb'].hist(bins=100, label = 'финальная концентрация', range = (0,30))\n",
    "plt.xlabel('Концентрация металла')\n",
    "plt.ylabel('Количество наблюдений')\n",
    "plt.legend()\n",
    "plt.title('Концентрация металла Pb на разных этапах очистки')"
   ]
  },
  {
   "cell_type": "markdown",
   "metadata": {},
   "source": [
    "***Выводы по гистограммам:***\n",
    "\n",
    "1) Доля золота (Au) на после каждого этапа очисnки постепенно увеличивается.\n",
    "Для серебра(AG):\n",
    "\n",
    "2) Доля серебра (Ag)увеличивается на этапе флотации, а затем постепенно уменьшается.\n",
    "\n",
    "3) Доля свинца (Pb) сначала увеличивается на этапе флотации и после первичной очитски, затем остатется примерно на одном уровне.\n",
    "\n",
    "\n",
    "В данных для каждого металла присутствуют аномалии.\n",
    "\n",
    "Сравним распределения размеров гранул сырья на обучающей и тестовой выборках."
   ]
  },
  {
   "cell_type": "markdown",
   "metadata": {},
   "source": [
    "2) Cравним распределения размеров гранул сырья на обучающей и тестовой выборках. \n",
    "Если распределения сильно отличаются друг от друга, оценка модели будет неправильной. Для визуализации распределения построим  график KDE и оценим распределение значений функцией describe."
   ]
  },
  {
   "cell_type": "code",
   "execution_count": 23,
   "metadata": {},
   "outputs": [
    {
     "data": {
      "image/png": "[encoded data removed]",
      "text/plain": [
       "<Figure size 1080x360 with 1 Axes>"
      ]
     },
     "metadata": {
      "needs_background": "light"
     },
     "output_type": "display_data"
    },
    {
     "name": "stdout",
     "output_type": "stream",
     "text": [
      "count    14005.000000\n",
      "mean        60.110518\n",
      "std         22.418485\n",
      "min          9.659576\n",
      "25%         48.973027\n",
      "50%         55.373885\n",
      "75%         66.080172\n",
      "max        484.967466\n",
      "Name: rougher.input.feed_size, dtype: float64\n",
      "count    5289.000000\n",
      "mean       55.951097\n",
      "std        19.081758\n",
      "min         0.046369\n",
      "25%        43.906347\n",
      "50%        50.841029\n",
      "75%        62.431047\n",
      "max       392.494040\n",
      "Name: rougher.input.feed_size, dtype: float64\n"
     ]
    }
   ],
   "source": [
    "# Распределение гранул сырья на выборках входе train и test\n",
    "plt.figure(figsize=(15, 5))\n",
    "sns.kdeplot(data_train['rougher.input.feed_size'], label='Размер гранул сырья на тренировочной выборке', alpha=0.5, shade=True)\n",
    "sns.kdeplot(data_test['rougher.input.feed_size'], label='Размер гранул сырья на тестовой выборке', alpha=0.7, shade=True)\n",
    "plt.xlim([0, 200])\n",
    "plt.xlabel('Размер гранул')\n",
    "plt.ylabel('Распределение')\n",
    "plt.legend(loc='upper right')\n",
    "plt.show()\n",
    "print(data_train['rougher.input.feed_size'].describe())\n",
    "print(data_test['rougher.input.feed_size'].describe())"
   ]
  },
  {
   "cell_type": "markdown",
   "metadata": {},
   "source": [
    "Распределение гранул сырья  на обучающей и тетсовой выборке находится примерно в одинаковом диапазоне. Значимых различий между распределениями в выборках нет."
   ]
  },
  {
   "cell_type": "markdown",
   "metadata": {},
   "source": [
    "3) Исследуем суммарную концентрацию всех веществ на разных стадиях: в сырье, в черновом и финальном концентратах"
   ]
  },
  {
   "cell_type": "code",
   "execution_count": 24,
   "metadata": {},
   "outputs": [],
   "source": [
    "#суммарная концентрация всех веществ на разных стадиях  в обучающей выборке\n",
    "sum_of_rougher_input_feed = 0\n",
    "sum_of_rougher_output_concentrate = 0\n",
    "sum_concentrate_of_primary_cleaner_output = 0\n",
    "sum_final_output_concentrate = 0\n",
    "for metal in ['au', 'ag', 'pb', 'sol']:\n",
    "    sum_of_rougher_input_feed += df_train[f'rougher.input.feed_{metal}']\n",
    "    sum_of_rougher_output_concentrate += df_train[f'rougher.output.concentrate_{metal}']\n",
    "    sum_concentrate_of_primary_cleaner_output += df_train[f'primary_cleaner.output.concentrate_{metal}']\n",
    "    sum_final_output_concentrate += df_train[f'final.output.concentrate_{metal}']\n",
    "    \n"
   ]
  },
  {
   "cell_type": "code",
   "execution_count": 25,
   "metadata": {},
   "outputs": [
    {
     "data": {
      "text/plain": [
       "Text(0.5, 1.0, 'Суммарная концентрация веществ на разных стадиях')"
      ]
     },
     "execution_count": 25,
     "metadata": {},
     "output_type": "execute_result"
    },
    {
     "data": {
      "image/png": "[encoded data removed]",
      "text/plain": [
       "<Figure size 504x504 with 1 Axes>"
      ]
     },
     "metadata": {
      "needs_background": "light"
     },
     "output_type": "display_data"
    }
   ],
   "source": [
    "plt.figure(figsize=[7, 7])\n",
    "\n",
    "sum_of_rougher_input_feed.hist(bins=50, label = 'Cуммарная концентрация веществ на стадии сырья', range = (0,100))\n",
    "sum_of_rougher_output_concentrate.hist(bins=100, label = 'Cуммарная концентрация продукта после флотации', range = (0,100))\n",
    "sum_concentrate_of_primary_cleaner_output.hist(bins=100, label = 'Cуммарная концентрация продукта после первичной очистки', range = (0,100))\n",
    "sum_final_output_concentrate.hist(bins=100, label = 'Cуммарная концентрация продукта на финальрной стадии', range = (0,100))\n",
    "plt.xlabel('Суммарная концентрация веществ на разныхстадиях')\n",
    "plt.ylabel('Количество наблюдений')\n",
    "plt.legend()\n",
    "plt.title('Суммарная концентрация веществ на разных стадиях')"
   ]
  },
  {
   "cell_type": "markdown",
   "metadata": {},
   "source": [
    "Суммарная концентрация веществ увеличивается к финальному этапу,  при этом  диапазон распределения суммарной концентрации веществ уменьшается.\n",
    "\n",
    "Для суммарной концентрация веществ на этапах флотации, первичной очистки и финального присутствуют аномалии ( значения в районе 0). Их необходимо будет удалить, чтобы аномалии не повлияли отрицательно на качество обчения модели. "
   ]
  },
  {
   "cell_type": "code",
   "execution_count": 26,
   "metadata": {},
   "outputs": [],
   "source": [
    "#удалим нулевые значения для металлов в обучающей и тестовой выборке\n",
    "df_train= df_train[(df_train['rougher.output.concentrate_au'] != 0) & (df_train['rougher.output.concentrate_ag'] != 0) & (df_train['rougher.output.concentrate_pb'] != 0) & (df_train['rougher.output.concentrate_sol'] != 0)]\n",
    "df_train = df_train[(df_train['primary_cleaner.output.concentrate_au'] != 0) & (df_train['primary_cleaner.output.concentrate_ag'] != 0) & (df_train['primary_cleaner.output.concentrate_pb'] != 0) & (df_train['primary_cleaner.output.concentrate_sol'] != 0)]\n",
    "df_train = df_train[(df_train['final.output.concentrate_au'] != 0) & (df_train['final.output.concentrate_ag'] != 0) & (df_train['final.output.concentrate_pb'] != 0) & (df_train['final.output.concentrate_sol'] != 0)]\n",
    "\n",
    "\n"
   ]
  },
  {
   "cell_type": "markdown",
   "metadata": {},
   "source": [
    "***ВЫВОД:***\n",
    "\n",
    "1) Распределения гранул сырья на обучающей и тестовой выборках значительных различий не имеют\n",
    "\n",
    "2) Доля золота увеличивается по мере прохождения этапов очистки\n",
    "\n",
    "3) В анализа суммарной концентрации веществ на разных стадиях были выявлены аномалии (нулевые значения), которые были удалены для улучшения качества будущих моделей прогнозирования."
   ]
  },
  {
   "cell_type": "markdown",
   "metadata": {},
   "source": [
    "## Модель"
   ]
  },
  {
   "cell_type": "markdown",
   "metadata": {},
   "source": [
    "***Построим модель***\n",
    " - напишем  функцию для вычисления требуемой итоговой метрики  sMAPE\n",
    " - подберем и обучим модель \n",
    " - обучим  разные модели и оценим их качество кросс-валидацией. Выберем лучшую модель и проверим её на тестовой выборке. Сделаем выводы."
   ]
  },
  {
   "cell_type": "markdown",
   "metadata": {},
   "source": [
    "Удалим из обучающей выборки признаки, которые отсутствуби в тестовой, чтобы не было утеи целевого признака"
   ]
  },
  {
   "cell_type": "code",
   "execution_count": 27,
   "metadata": {},
   "outputs": [],
   "source": [
    "#удалим из обучающей выборки прищнаки, приводящие к утечке целевого признака\n",
    "df_train = df_train.drop(columns = ['secondary_cleaner.output.tail_sol', 'primary_cleaner.output.concentrate_ag', \n",
    "                                      'rougher.output.tail_sol', 'final.output.concentrate_sol', 'rougher.calculation.floatbank10_sulfate_to_au_feed',\n",
    "                                      'primary_cleaner.output.concentrate_sol', 'rougher.calculation.floatbank11_sulfate_to_au_feed', \n",
    "                                      'final.output.tail_sol', 'final.output.concentrate_pb', 'rougher.output.concentrate_au', \n",
    "                                      'final.output.tail_ag', 'rougher.output.concentrate_sol', 'secondary_cleaner.output.tail_au', \n",
    "                                      'final.output.tail_pb', 'primary_cleaner.output.tail_au', 'rougher.output.tail_pb', \n",
    "                                      'primary_cleaner.output.concentrate_pb', 'rougher.calculation.sulfate_to_au_concentrate', \n",
    "                                      'secondary_cleaner.output.tail_pb', 'rougher.output.concentrate_ag', 'final.output.concentrate_ag', \n",
    "                                      'rougher.output.tail_ag', 'secondary_cleaner.output.tail_ag', 'primary_cleaner.output.concentrate_au', \n",
    "                                      'rougher.output.concentrate_pb', 'rougher.output.tail_au', \n",
    "                                      'primary_cleaner.output.tail_sol', 'rougher.calculation.au_pb_ratio', 'final.output.tail_au', \n",
    "                                      'primary_cleaner.output.tail_pb', 'primary_cleaner.output.tail_ag', \n",
    "                                      'final.output.concentrate_au'], axis =1)"
   ]
  },
  {
   "cell_type": "code",
   "execution_count": 28,
   "metadata": {},
   "outputs": [
    {
     "name": "stdout",
     "output_type": "stream",
     "text": [
      "set()\n",
      "\n",
      "Разница в столбцах: 0\n"
     ]
    }
   ],
   "source": [
    "#проверим, что колонки в обучающей и тетсовой выборке, которые будем использовать для машинного обучения совпадают\n",
    "\n",
    "chekc_columns = set(df_train.columns) - set(df_test.columns)\n",
    "print(chekc_columns)\n",
    "print(\"\")\n",
    "print('Разница в столбцах:', len(chekc_columns))"
   ]
  },
  {
   "cell_type": "markdown",
   "metadata": {},
   "source": [
    "***Подготовим данные для обучения***"
   ]
  },
  {
   "cell_type": "code",
   "execution_count": 29,
   "metadata": {},
   "outputs": [
    {
     "name": "stdout",
     "output_type": "stream",
     "text": [
      "Проверка\n",
      "Обучающая: (13716, 52)\n",
      "Тестовая: (5290, 52)\n"
     ]
    }
   ],
   "source": [
    "#извлекаем  признаки и удалим целевые признаки product и лишний id\n",
    "features_train = df_train.drop(columns=['rougher.output.recovery', 'final.output.recovery'], axis=1)  \n",
    "features_test = df_test.drop(columns=['rougher.output.recovery', 'final.output.recovery'], axis=1)  \n",
    "\n",
    "# извлекаем целевой признак\n",
    "target_train_rougher = df_train['rougher.output.recovery'] \n",
    "target_train_final_rec = df_train['final.output.recovery'] \n",
    "target_test_rougher = df_test['rougher.output.recovery'] \n",
    "target_test_final_rec = df_test['final.output.recovery'] \n",
    "\n",
    "print('Проверка')\n",
    "print('Обучающая:', features_train.shape)\n",
    "print('Тестовая:', features_test.shape)"
   ]
  },
  {
   "cell_type": "markdown",
   "metadata": {},
   "source": [
    "***Функция для вычисления sMAPE***"
   ]
  },
  {
   "cell_type": "code",
   "execution_count": 30,
   "metadata": {},
   "outputs": [],
   "source": [
    "#вычислеие SMape\n",
    "# Метод получения sMape для одного этапа\n",
    "def smape_func(target, pred):\n",
    "\n",
    "    \n",
    "    smape = abs(target-pred)/((abs(target)+abs(pred))/2)*100\n",
    "    smape = smape.fillna(value=0)\n",
    "\n",
    "    smape = np.mean(smape)\n",
    "    return smape"
   ]
  },
  {
   "cell_type": "code",
   "execution_count": 31,
   "metadata": {},
   "outputs": [],
   "source": [
    "#вычисление SMape,target_rouger, pred_rougher, target_final, pred_final\n",
    "def summary_smape_func(target_rouger, pred_rougher, target_final, pred_final):\n",
    "    \n",
    "    # вычислим smape для rouger\n",
    "    smape_rouger = smape_func(target_rouger, pred_rougher)\n",
    "    # вычислим smape для final\n",
    "    smape_final = smape_func(target_final, pred_final)\n",
    "    \n",
    "    #  вычислим итоговый smape\n",
    "    summary_smape = 0.25 * smape_rouger + 0.75 * smape_final\n",
    "    \n",
    "    return summary_smape"
   ]
  },
  {
   "cell_type": "code",
   "execution_count": 32,
   "metadata": {},
   "outputs": [],
   "source": [
    "#Метод для вычисления итоговой sMAPE, когда на входе smape_rouger и smape_final\n",
    "def summary_smape(smape_rouger, smape_final):\n",
    "    \n",
    "    #  вычислим итоговый smape\n",
    "    summary_smape = 0.25 * smape_rouger + 0.75 * smape_final\n",
    "    \n",
    "    return summary_smape"
   ]
  },
  {
   "cell_type": "markdown",
   "metadata": {},
   "source": [
    "***Функция для вычисления итоговой sMAPE***"
   ]
  },
  {
   "cell_type": "code",
   "execution_count": 33,
   "metadata": {},
   "outputs": [],
   "source": [
    "smape_scorer = make_scorer(smape_func, greater_is_better=False)"
   ]
  },
  {
   "cell_type": "markdown",
   "metadata": {},
   "source": [
    "***Обучим 3 разные модели и оценим их качество кросс-валидацией***"
   ]
  },
  {
   "cell_type": "markdown",
   "metadata": {},
   "source": [
    "***Модель линейной регресии*** "
   ]
  },
  {
   "cell_type": "code",
   "execution_count": 34,
   "metadata": {},
   "outputs": [],
   "source": [
    "# инициируем модель линейной регрессии\n",
    "model_line_reg_rougher = LinearRegression()"
   ]
  },
  {
   "cell_type": "code",
   "execution_count": 35,
   "metadata": {},
   "outputs": [
    {
     "name": "stdout",
     "output_type": "stream",
     "text": [
      "Средняя оценка качества sMape_rougher 7.27\n"
     ]
    }
   ],
   "source": [
    "# оценим модель с помощью кроссвалидации features_train, target_train. Вычислим sMape_rougher\n",
    "scores_line_reg_rougher = cross_val_score(model_line_reg_rougher,  \n",
    "                                          features_train, \n",
    "                                          target_train_rougher, \n",
    "                                          scoring = smape_scorer,\n",
    "                                          cv = 5)\n",
    "smape_rougher = sum(scores_line_reg_rougher )/ len(scores_line_reg_rougher )\n",
    "\n",
    "print('Средняя оценка качества sMape_rougher', abs(round(smape_rougher, 4)))"
   ]
  },
  {
   "cell_type": "code",
   "execution_count": 36,
   "metadata": {},
   "outputs": [
    {
     "name": "stdout",
     "output_type": "stream",
     "text": [
      "Средняя оценка качества sMape_final 10.9408\n"
     ]
    }
   ],
   "source": [
    "# оценим модель с помощью кроссвалидации features_train, target_train. Вычислим score_final\n",
    "scores_line_reg_final = cross_val_score(model_line_reg_rougher,  \n",
    "                                          features_train, \n",
    "                                          target_train_final_rec, \n",
    "                                          scoring = smape_scorer,\n",
    "                                          cv = 5)\n",
    "\n",
    "smape_final = sum(scores_line_reg_final)/ len(scores_line_reg_final)\n",
    "\n",
    "print('Средняя оценка качества sMape_final', abs(round(smape_final, 4)))"
   ]
  },
  {
   "cell_type": "code",
   "execution_count": 37,
   "metadata": {},
   "outputs": [
    {
     "name": "stdout",
     "output_type": "stream",
     "text": [
      "Средняя итоговая оценка качества модели линейной регрессии sMape  10.0231\n"
     ]
    }
   ],
   "source": [
    "# вычислим итоговую оценку sMape\n",
    "smape_total = summary_smape(smape_rougher, smape_final)\n",
    "print('Средняя итоговая оценка качества модели линейной регрессии sMape ', abs(round(smape_total, 4)))"
   ]
  },
  {
   "cell_type": "markdown",
   "metadata": {},
   "source": [
    "***Модель дерева решений***"
   ]
  },
  {
   "cell_type": "code",
   "execution_count": 38,
   "metadata": {},
   "outputs": [
    {
     "name": "stdout",
     "output_type": "stream",
     "text": [
      "Наилучшая глубина дерева: 4\n",
      "Средняя оценка качества smape_rougher 7.3167\n",
      "CPU times: user 43.7 s, sys: 34.2 ms, total: 43.7 s\n",
      "Wall time: 43.8 s\n"
     ]
    }
   ],
   "source": [
    "%%time\n",
    "# Проведем оценку для этапа rougher\n",
    "\n",
    "# Инициируем модель дерева решений\n",
    "#best_est = 0 \n",
    "best_smape_rougher = 20 \n",
    "best_depth = 0\n",
    "for n in range (1, 20):\n",
    "    model_dtree_rougher = DecisionTreeRegressor(random_state=12345, max_depth = n)\n",
    "    scores_dtree_rougher = cross_val_score(model_dtree_rougher,  \n",
    "                                          features_train, \n",
    "                                          target_train_rougher, \n",
    "                                          scoring = smape_scorer,\n",
    "                                          cv = 5)\n",
    "    smape_rougher = abs(sum(scores_dtree_rougher))/ len(scores_dtree_rougher)\n",
    "    if  0 < smape_rougher  < best_smape_rougher:\n",
    "        best_smape_rougher = smape_rougher\n",
    "        best_depth = n\n",
    "print(\"Наилучшая глубина дерева:\", best_depth)\n",
    "print('Средняя оценка качества smape_rougher', round(best_smape_rougher, 4))"
   ]
  },
  {
   "cell_type": "code",
   "execution_count": 39,
   "metadata": {},
   "outputs": [
    {
     "name": "stdout",
     "output_type": "stream",
     "text": [
      "Наилучшая глубина дерева: 3\n",
      "Средняя оценка качества smape_final 9.4187\n",
      "CPU times: user 44.3 s, sys: 11.3 ms, total: 44.3 s\n",
      "Wall time: 44.3 s\n"
     ]
    }
   ],
   "source": [
    "%%time\n",
    "# Проведем оценку для этапа final\n",
    "\n",
    "# Инициируем модель дерева решений\n",
    "#best_est = 0 \n",
    "best_smape_final = 20\n",
    "best_depth = 0\n",
    "for n in range (1, 20):\n",
    "    model_dtree_final = DecisionTreeRegressor(random_state=12345, max_depth = n)\n",
    "\n",
    "    scores_dtree_final = cross_val_score(model_dtree_final,  \n",
    "                                          features_train, \n",
    "                                          target_train_final_rec, \n",
    "                                          scoring = smape_scorer,\n",
    "                                          cv = 5)\n",
    "    smape_final = abs(sum(scores_dtree_final))/ len(scores_dtree_final)\n",
    "    if  0 < smape_final  < best_smape_final:\n",
    "        best_smape_final = smape_final\n",
    "        best_depth = n\n",
    "print(\"Наилучшая глубина дерева:\", best_depth)\n",
    "print('Средняя оценка качества smape_final', round(best_smape_final, 4))"
   ]
  },
  {
   "cell_type": "code",
   "execution_count": 40,
   "metadata": {},
   "outputs": [
    {
     "name": "stdout",
     "output_type": "stream",
     "text": [
      "Средняя итоговая оценка качества модели дерева решений sMape  8.8932\n"
     ]
    }
   ],
   "source": [
    "# вычислим итоговую оценку sMape\n",
    "smape_total = summary_smape(best_smape_rougher, best_smape_final)\n",
    "print('Средняя итоговая оценка качества модели дерева решений sMape ', abs(round(smape_total, 4)))"
   ]
  },
  {
   "cell_type": "markdown",
   "metadata": {},
   "source": [
    "***Модель случайного леса***"
   ]
  },
  {
   "cell_type": "code",
   "execution_count": 41,
   "metadata": {},
   "outputs": [
    {
     "name": "stdout",
     "output_type": "stream",
     "text": [
      "Наилучшее число деревьев в лесу: 7\n",
      "Средняя оценка качества smape_rougher 7.0657\n",
      "CPU times: user 1min 41s, sys: 83.5 ms, total: 1min 41s\n",
      "Wall time: 1min 42s\n"
     ]
    }
   ],
   "source": [
    "%%time\n",
    "# Проведем оценку модели случайного леса с заданными параметрами для этапа rougher\n",
    "#  инициируем модель случайного леса\n",
    "best_est = 0  \n",
    "best_smape_rougher = 20 \n",
    "for est in range (1, 10):\n",
    "    model_rf_rougher = RandomForestRegressor(random_state=12345, n_estimators=est)\n",
    "    scores_rougher = cross_val_score(model_rf_rougher,  \n",
    "                                          features_train, \n",
    "                                          target_train_rougher, \n",
    "                                          scoring = smape_scorer,\n",
    "                                          cv = 5)\n",
    "    smape_rougher = np.mean(abs(scores_rougher))\n",
    "    if  0 < smape_rougher  < best_smape_rougher:\n",
    "            best_smape_rougher = smape_rougher \n",
    "            best_est = est\n",
    "\n",
    "print('Наилучшее число деревьев в лесу:',best_est)\n",
    "print('Средняя оценка качества smape_rougher', round(best_smape_rougher, 4))"
   ]
  },
  {
   "cell_type": "code",
   "execution_count": 42,
   "metadata": {},
   "outputs": [
    {
     "name": "stdout",
     "output_type": "stream",
     "text": [
      "Наилучшая глубина дерева: 4\n",
      "Средняя оценка качества smape_rougher 6.5019\n",
      "CPU times: user 49 s, sys: 120 ms, total: 49.1 s\n",
      "Wall time: 49.3 s\n"
     ]
    }
   ],
   "source": [
    "%%time\n",
    "# Проведем оценку модели случайного леса с заданными параметрами для этапа rougher\n",
    "#  инициируем модель случайного леса\n",
    "\n",
    "best_debth = 0 \n",
    "best_smape_rougher = 20 \n",
    "for n in range (1, 10):\n",
    "    model_rf_rougher = RandomForestRegressor(random_state=12345, n_estimators = best_est, max_depth = n)\n",
    "    scores_rougher = cross_val_score(model_rf_rougher,\n",
    "                                          features_train, \n",
    "                                          target_train_rougher, \n",
    "                                          scoring = smape_scorer,\n",
    "                                          cv = 5)\n",
    "    smape_rougher = np.mean(abs(scores_rougher))\n",
    "    if  0 < smape_rougher  < best_smape_rougher:\n",
    "            best_smape_rougher = smape_rougher\n",
    "            best_debth  = n \n",
    "            \n",
    "print(\"Наилучшая глубина дерева:\", best_debth)\n",
    "print('Средняя оценка качества smape_rougher', round(best_smape_rougher, 4))"
   ]
  },
  {
   "cell_type": "code",
   "execution_count": 43,
   "metadata": {
    "scrolled": true
   },
   "outputs": [
    {
     "name": "stdout",
     "output_type": "stream",
     "text": [
      "Наилучшее число деревьев в лесу: 9\n",
      "Средняя оценка качества smape_rougher 10.3331\n",
      "CPU times: user 1min 58s, sys: 176 ms, total: 1min 59s\n",
      "Wall time: 1min 59s\n"
     ]
    }
   ],
   "source": [
    "%%time\n",
    "# Проведем оценку модели случайного леса с заданными параметрами для этапа final\n",
    "#  инициируем модель случайного леса\n",
    "best_est = 0  \n",
    "best_smape_final = 20 \n",
    "for est in range (1, 10):\n",
    "    model_rf_final = RandomForestRegressor(random_state=12345, n_estimators=est)\n",
    "    scores_final = cross_val_score(model_rf_final,  \n",
    "                                          features_train, \n",
    "                                          target_train_final_rec, \n",
    "                                          scoring = smape_scorer,\n",
    "                                          cv = 5)\n",
    "    smape_final = np.mean(abs(scores_final))\n",
    "    if  0 < smape_final  < best_smape_final:\n",
    "            best_smape_final = smape_final \n",
    "            best_est = est\n",
    "\n",
    "print('Наилучшее число деревьев в лесу:',best_est)\n",
    "print('Средняя оценка качества smape_rougher', round(best_smape_final, 4))"
   ]
  },
  {
   "cell_type": "code",
   "execution_count": 44,
   "metadata": {},
   "outputs": [
    {
     "name": "stdout",
     "output_type": "stream",
     "text": [
      "Наилучшая глубина дерева: 4\n",
      "Средняя оценка качества smape_rougher 9.1194\n"
     ]
    }
   ],
   "source": [
    "best_debth = 0 \n",
    "best_smape_final = 20 \n",
    "for n in range (1, 10):\n",
    "    model_rf_final = RandomForestRegressor(random_state=12345, n_estimators = best_est, max_depth = n)\n",
    "    scores_final = cross_val_score(model_rf_final,\n",
    "                                          features_train, \n",
    "                                           target_train_final_rec, \n",
    "                                          scoring = smape_scorer,\n",
    "                                          cv = 5)\n",
    "    smape_final = np.mean(abs(scores_final))\n",
    "    if  0 < smape_final < best_smape_final:\n",
    "            best_smape_final = smape_final\n",
    "            best_debth  = n \n",
    "            \n",
    "print(\"Наилучшая глубина дерева:\", best_debth)\n",
    "print('Средняя оценка качества smape_rougher', round(best_smape_final, 4))"
   ]
  },
  {
   "cell_type": "code",
   "execution_count": 45,
   "metadata": {},
   "outputs": [
    {
     "name": "stdout",
     "output_type": "stream",
     "text": [
      "Средняя итоговая оценка качества модели sMape  8.4651\n"
     ]
    }
   ],
   "source": [
    "# вычислим итоговую оценку sMape\n",
    "smape_total = summary_smape(best_smape_rougher , best_smape_final)\n",
    "print('Средняя итоговая оценка качества модели sMape ', abs(round(smape_total, 4)))"
   ]
  },
  {
   "cell_type": "markdown",
   "metadata": {},
   "source": [
    "***ВЫВОД  по обученным моделям:***\n",
    "\n",
    "Мы обучили 3 модели: линейной регресии, дерева решений и случайного леса. Для кадой была посчитана метрика качества итогового sMAPE. Для финального тестирования мы ототбрали м только 1 модель, чья метрика  sMAPE была минимальной. Этой модель случайного леса  с итоговой метрикой sMAPE =  8.4651.\n",
    "\n",
    "Для сравнения эта же метрика по модели линейной регрессии = 10.0231, а для дерева решений - 8.8932\n"
   ]
  },
  {
   "cell_type": "markdown",
   "metadata": {},
   "source": [
    "***Применим лучшую модель для тестовой выборки***"
   ]
  },
  {
   "cell_type": "code",
   "execution_count": 46,
   "metadata": {},
   "outputs": [],
   "source": [
    "#функция прогнозирования целевого признаки на случайном лесе\n",
    "def rf_model(features_train, target_train, features_test, depth, estimators):\n",
    "\n",
    "    model_rf = RandomForestRegressor(random_state=12345, max_depth = depth, n_estimators=estimators)\n",
    " \n",
    "    model_rf.fit(features_train, target_train)\n",
    "   \n",
    "    pred_test_rf = model_rf.predict(features_test)\n",
    "\n",
    "    return pred_test_rf"
   ]
  },
  {
   "cell_type": "code",
   "execution_count": 47,
   "metadata": {},
   "outputs": [],
   "source": [
    "# спрогнозируем эффективность для этапа rougher\n",
    "pred_test_rougher = rf_model(features_train, target_train_rougher, features_test, 4, 7)"
   ]
  },
  {
   "cell_type": "code",
   "execution_count": 48,
   "metadata": {},
   "outputs": [],
   "source": [
    "# спрогнозируем эффективность для этапа final\n",
    "pred_test_final = rf_model(features_train, target_train_final_rec, features_test, 4, 9)"
   ]
  },
  {
   "cell_type": "code",
   "execution_count": 49,
   "metadata": {},
   "outputs": [],
   "source": [
    "# рассчитаем smape на тестовых данных\n",
    "smape_test = summary_smape_func(target_test_rougher, \n",
    "                                pred_test_rougher,\n",
    "                                target_test_final_rec,\n",
    "                                pred_test_final                               \n",
    "                               )"
   ]
  },
  {
   "cell_type": "code",
   "execution_count": 50,
   "metadata": {},
   "outputs": [
    {
     "name": "stdout",
     "output_type": "stream",
     "text": [
      "Итоговая оценка smape на тестовых данных равна 9.53\n"
     ]
    }
   ],
   "source": [
    "print('Итоговая оценка smape на тестовых данных равна', round(smape_test, 2))"
   ]
  },
  {
   "cell_type": "markdown",
   "metadata": {},
   "source": [
    "***Проверка модели на адекватность***"
   ]
  },
  {
   "cell_type": "code",
   "execution_count": 51,
   "metadata": {},
   "outputs": [],
   "source": [
    "#построим функцию прогнозирования целевого признаки на константной модели DummyRegressor\n",
    "def const_model(features_train, target_train, features_test):\n",
    "   \n",
    "    dummy_regr = DummyRegressor(strategy=\"mean\")\n",
    "    dummy_regr.fit(features_train, target_train)\n",
    "    pred_test = dummy_regr.predict(features_test)\n",
    "    return pred_test"
   ]
  },
  {
   "cell_type": "code",
   "execution_count": 52,
   "metadata": {},
   "outputs": [],
   "source": [
    "# построим прогноз константной модели для этапа rougher\n",
    "pred_test_rougher_const = const_model(features_train, target_train_rougher, features_test)\n",
    "\n",
    "# построим прогноз константной модели для этапа final\n",
    "pred_test_final_const = const_model(features_train, target_train_final_rec, features_test)\n",
    "\n",
    "# рассчитаем smape на тестовых данных\n",
    "smape_test_const = summary_smape_func(target_test_rougher, \n",
    "                                pred_test_rougher_const,\n",
    "                                target_test_final_rec,\n",
    "                                pred_test_final_const                               \n",
    "                               )"
   ]
  },
  {
   "cell_type": "code",
   "execution_count": 53,
   "metadata": {},
   "outputs": [
    {
     "name": "stdout",
     "output_type": "stream",
     "text": [
      "Итоговая оценка smape константной модели на тестовых данных равна 9.828\n"
     ]
    }
   ],
   "source": [
    "print('Итоговая оценка smape константной модели на тестовых данных равна', round(smape_test_const, 3))"
   ]
  },
  {
   "cell_type": "markdown",
   "metadata": {},
   "source": [
    "***ВЫВОД:***\n",
    "\n",
    "В нашу задачу входило разработать модель машинного обучения, которая будет предсказать коэффициент восстановления золота из золотосодержащей руды.\n",
    "В процессе работы были исследованы данные, проведена их предобработка: изменен тип данных, проработаны пропуски.\n",
    "Было исследована концентрация элементов на каждом этапе, где выяснилось, что:\n",
    "1) Распределения гранул сырья на обучающей и тестовой выборках значительных различий не имеют\n",
    "\n",
    "2) Доля золота увеличивается по мере прохождения этапов очистки\n",
    "\n",
    "3) В анализе суммарной концентрации веществ на разных стадиях были выявлены аномалии (нулевые значения), которые были удалены для улучшения качества будущих моделей прогнозирования.\n",
    "\n",
    "4) Суммарная концентрация веществ увеличивается к финальному этапу, при этом диапазон распределения суммарной концентрации веществ уменьшается.\n",
    "\n",
    "Было проведено обучение 3 моделей: линейной регрессии, дерева решений и случайного леса. \n",
    "Где по метрике качества итоговое показателя sMAPE был отобрана наилучшая модель, дающая наименьшую метрику, ей оказалось модель случайного дерева, ее итоговая метрика составила 8.4651.\n",
    "\n",
    "Качество выбранной модели мы проверили на тестовой выборке. Оно оказалось не хуже = 9.53\n",
    "\n",
    "Далее проверили модель на адекватность на работе константой модели, ее sMAPE равен 9.828.\n",
    "\n",
    "Наша модель работает лучше.\n",
    "Вывод - полученная модель машинного обучения рекомендована к использованию в компании.\n"
   ]
  },
  {
   "cell_type": "markdown",
   "metadata": {},
   "source": [
    "## Чек-лист готовности проекта"
   ]
  },
  {
   "cell_type": "markdown",
   "metadata": {},
   "source": [
    "- [x]  Jupyter Notebook открыт\n",
    "- [ ]  Весь код выполняется без ошибок\n",
    "- [ ]  Ячейки с кодом расположены в порядке выполнения\n",
    "- [ ]  Выполнен шаг 1: данные подготовлены\n",
    "    - [ ]  Проверена формула вычисления эффективности обогащения\n",
    "    - [ ]  Проанализированы признаки, недоступные в тестовой выборке\n",
    "    - [ ]  Проведена предобработка данных\n",
    "- [ ]  Выполнен шаг 2: данные проанализированы\n",
    "    - [ ]  Исследовано изменение концентрации элементов на каждом этапе\n",
    "    - [ ]  Проанализированы распределения размеров гранул на обучающей и тестовой выборках\n",
    "    - [ ]  Исследованы суммарные концентрации\n",
    "- [ ]  Выполнен шаг 3: построена модель прогнозирования\n",
    "    - [ ]  Написана функция для вычисления итогового *sMAPE*\n",
    "    - [ ]  Обучено и проверено несколько моделей\n",
    "    - [ ]  Выбрана лучшая модель, её качество проверено на тестовой выборке"
   ]
  }
 ],
 "metadata": {
  "ExecuteTimeLog": [
   {
    "duration": 58,
    "start_time": "2022-12-14T07:00:51.652Z"
   },
   {
    "duration": 1471,
    "start_time": "2022-12-14T07:00:59.654Z"
   },
   {
    "duration": 130,
    "start_time": "2022-12-14T07:01:01.127Z"
   },
   {
    "duration": 0,
    "start_time": "2022-12-14T07:01:01.259Z"
   },
   {
    "duration": 0,
    "start_time": "2022-12-14T07:01:01.260Z"
   },
   {
    "duration": 5,
    "start_time": "2022-12-14T07:02:10.081Z"
   },
   {
    "duration": 50,
    "start_time": "2022-12-14T07:02:14.095Z"
   },
   {
    "duration": 439,
    "start_time": "2022-12-14T07:02:27.035Z"
   },
   {
    "duration": 410,
    "start_time": "2022-12-14T07:02:58.152Z"
   },
   {
    "duration": 1806,
    "start_time": "2022-12-14T07:03:27.420Z"
   },
   {
    "duration": 1633,
    "start_time": "2022-12-15T10:56:31.790Z"
   },
   {
    "duration": 1381,
    "start_time": "2022-12-15T10:56:33.425Z"
   },
   {
    "duration": 189,
    "start_time": "2022-12-15T10:56:34.808Z"
   },
   {
    "duration": 576,
    "start_time": "2022-12-15T10:56:35.000Z"
   },
   {
    "duration": 6,
    "start_time": "2022-12-15T11:05:32.920Z"
   },
   {
    "duration": 7,
    "start_time": "2022-12-15T11:05:44.356Z"
   },
   {
    "duration": 101,
    "start_time": "2022-12-15T11:40:11.117Z"
   },
   {
    "duration": 10,
    "start_time": "2022-12-15T11:40:20.868Z"
   },
   {
    "duration": 9,
    "start_time": "2022-12-15T11:40:49.637Z"
   },
   {
    "duration": 1350,
    "start_time": "2022-12-15T11:40:58.740Z"
   },
   {
    "duration": 319,
    "start_time": "2022-12-15T11:41:00.092Z"
   },
   {
    "duration": 95,
    "start_time": "2022-12-15T11:41:00.413Z"
   },
   {
    "duration": 402,
    "start_time": "2022-12-15T11:41:00.512Z"
   },
   {
    "duration": 8,
    "start_time": "2022-12-15T11:41:00.916Z"
   },
   {
    "duration": 162,
    "start_time": "2022-12-15T11:41:00.926Z"
   },
   {
    "duration": 0,
    "start_time": "2022-12-15T11:41:01.090Z"
   },
   {
    "duration": 89,
    "start_time": "2022-12-15T11:42:16.380Z"
   },
   {
    "duration": 73,
    "start_time": "2022-12-15T11:43:54.572Z"
   },
   {
    "duration": 79,
    "start_time": "2022-12-15T11:44:07.741Z"
   },
   {
    "duration": 7,
    "start_time": "2022-12-15T11:44:27.266Z"
   },
   {
    "duration": 15,
    "start_time": "2022-12-15T11:44:53.896Z"
   },
   {
    "duration": 5,
    "start_time": "2022-12-15T11:45:22.898Z"
   },
   {
    "duration": 1206,
    "start_time": "2022-12-15T11:47:09.578Z"
   },
   {
    "duration": 13,
    "start_time": "2022-12-15T11:47:34.096Z"
   },
   {
    "duration": 11,
    "start_time": "2022-12-15T11:57:57.539Z"
   },
   {
    "duration": 32,
    "start_time": "2022-12-15T11:58:09.498Z"
   },
   {
    "duration": 1412,
    "start_time": "2022-12-15T11:58:36.243Z"
   },
   {
    "duration": 278,
    "start_time": "2022-12-15T11:58:37.657Z"
   },
   {
    "duration": 86,
    "start_time": "2022-12-15T11:58:37.937Z"
   },
   {
    "duration": 361,
    "start_time": "2022-12-15T11:58:38.025Z"
   },
   {
    "duration": 8,
    "start_time": "2022-12-15T11:58:38.388Z"
   },
   {
    "duration": 11,
    "start_time": "2022-12-15T11:58:38.397Z"
   },
   {
    "duration": 124,
    "start_time": "2022-12-15T11:58:38.411Z"
   },
   {
    "duration": 3,
    "start_time": "2022-12-15T11:58:55.738Z"
   },
   {
    "duration": 13,
    "start_time": "2022-12-15T11:59:25.027Z"
   },
   {
    "duration": 8,
    "start_time": "2022-12-15T11:59:44.327Z"
   },
   {
    "duration": 72,
    "start_time": "2022-12-15T12:00:01.530Z"
   },
   {
    "duration": 7,
    "start_time": "2022-12-15T12:00:07.530Z"
   },
   {
    "duration": 32,
    "start_time": "2022-12-15T12:06:07.255Z"
   },
   {
    "duration": 18,
    "start_time": "2022-12-15T12:08:53.147Z"
   },
   {
    "duration": 2,
    "start_time": "2022-12-15T12:08:59.009Z"
   },
   {
    "duration": 9,
    "start_time": "2022-12-15T12:11:08.905Z"
   },
   {
    "duration": 4,
    "start_time": "2022-12-15T12:11:30.876Z"
   },
   {
    "duration": 5,
    "start_time": "2022-12-15T12:11:40.793Z"
   },
   {
    "duration": 6,
    "start_time": "2022-12-15T12:12:25.848Z"
   },
   {
    "duration": 4,
    "start_time": "2022-12-15T12:12:28.597Z"
   },
   {
    "duration": 8,
    "start_time": "2022-12-15T12:13:40.359Z"
   },
   {
    "duration": 4,
    "start_time": "2022-12-15T12:13:42.705Z"
   },
   {
    "duration": 6,
    "start_time": "2022-12-15T12:14:31.033Z"
   },
   {
    "duration": 7,
    "start_time": "2022-12-15T12:14:45.083Z"
   },
   {
    "duration": 4,
    "start_time": "2022-12-15T12:14:47.965Z"
   },
   {
    "duration": 5,
    "start_time": "2022-12-15T12:16:16.425Z"
   },
   {
    "duration": 4,
    "start_time": "2022-12-15T12:16:17.756Z"
   },
   {
    "duration": 5,
    "start_time": "2022-12-15T12:16:56.617Z"
   },
   {
    "duration": 4,
    "start_time": "2022-12-15T12:16:58.195Z"
   },
   {
    "duration": 4,
    "start_time": "2022-12-15T12:17:22.864Z"
   },
   {
    "duration": 5,
    "start_time": "2022-12-15T12:17:24.014Z"
   },
   {
    "duration": 15,
    "start_time": "2022-12-15T12:18:06.941Z"
   },
   {
    "duration": 9,
    "start_time": "2022-12-15T12:32:17.749Z"
   },
   {
    "duration": 1354,
    "start_time": "2022-12-15T13:28:58.389Z"
   },
   {
    "duration": 296,
    "start_time": "2022-12-15T13:28:59.745Z"
   },
   {
    "duration": 95,
    "start_time": "2022-12-15T13:29:00.043Z"
   },
   {
    "duration": 397,
    "start_time": "2022-12-15T13:29:00.140Z"
   },
   {
    "duration": 9,
    "start_time": "2022-12-15T13:29:00.540Z"
   },
   {
    "duration": 45,
    "start_time": "2022-12-15T13:29:00.551Z"
   },
   {
    "duration": 21,
    "start_time": "2022-12-15T13:29:00.598Z"
   },
   {
    "duration": 44,
    "start_time": "2022-12-15T13:29:00.620Z"
   },
   {
    "duration": 31,
    "start_time": "2022-12-15T13:29:00.666Z"
   },
   {
    "duration": 10,
    "start_time": "2022-12-15T13:29:00.698Z"
   },
   {
    "duration": 10,
    "start_time": "2022-12-15T13:30:53.443Z"
   },
   {
    "duration": 103,
    "start_time": "2022-12-15T13:33:40.641Z"
   },
   {
    "duration": 3,
    "start_time": "2022-12-15T13:34:40.613Z"
   },
   {
    "duration": 7,
    "start_time": "2022-12-15T13:34:49.714Z"
   },
   {
    "duration": 1617,
    "start_time": "2022-12-15T13:46:56.748Z"
   },
   {
    "duration": 310,
    "start_time": "2022-12-15T13:46:58.368Z"
   },
   {
    "duration": 83,
    "start_time": "2022-12-15T13:46:58.680Z"
   },
   {
    "duration": 345,
    "start_time": "2022-12-15T13:46:58.765Z"
   },
   {
    "duration": 71,
    "start_time": "2022-12-15T13:46:59.112Z"
   },
   {
    "duration": 0,
    "start_time": "2022-12-15T13:46:59.184Z"
   },
   {
    "duration": 0,
    "start_time": "2022-12-15T13:46:59.186Z"
   },
   {
    "duration": 0,
    "start_time": "2022-12-15T13:46:59.187Z"
   },
   {
    "duration": 0,
    "start_time": "2022-12-15T13:46:59.188Z"
   },
   {
    "duration": 0,
    "start_time": "2022-12-15T13:46:59.189Z"
   },
   {
    "duration": 0,
    "start_time": "2022-12-15T13:46:59.189Z"
   },
   {
    "duration": 12,
    "start_time": "2022-12-15T13:47:13.577Z"
   },
   {
    "duration": 7,
    "start_time": "2022-12-15T13:47:40.230Z"
   },
   {
    "duration": 10,
    "start_time": "2022-12-15T13:48:16.035Z"
   },
   {
    "duration": 73,
    "start_time": "2022-12-15T13:48:55.856Z"
   },
   {
    "duration": 115,
    "start_time": "2022-12-15T13:49:07.875Z"
   },
   {
    "duration": 9,
    "start_time": "2022-12-15T13:50:00.016Z"
   },
   {
    "duration": 649,
    "start_time": "2022-12-15T13:54:28.487Z"
   },
   {
    "duration": 20,
    "start_time": "2022-12-15T13:54:50.243Z"
   },
   {
    "duration": 12,
    "start_time": "2022-12-15T13:54:56.612Z"
   },
   {
    "duration": 21,
    "start_time": "2022-12-15T13:55:24.481Z"
   },
   {
    "duration": 15,
    "start_time": "2022-12-15T13:55:35.219Z"
   },
   {
    "duration": 22,
    "start_time": "2022-12-15T13:55:44.251Z"
   },
   {
    "duration": 19,
    "start_time": "2022-12-15T13:56:37.488Z"
   },
   {
    "duration": 16,
    "start_time": "2022-12-15T13:57:04.877Z"
   },
   {
    "duration": 19,
    "start_time": "2022-12-15T13:57:09.345Z"
   },
   {
    "duration": 11,
    "start_time": "2022-12-15T14:01:09.606Z"
   },
   {
    "duration": 51,
    "start_time": "2022-12-16T08:08:00.453Z"
   },
   {
    "duration": 1652,
    "start_time": "2022-12-16T08:08:58.000Z"
   },
   {
    "duration": 2718,
    "start_time": "2022-12-16T08:08:59.655Z"
   },
   {
    "duration": 21,
    "start_time": "2022-12-16T08:09:02.375Z"
   },
   {
    "duration": 28,
    "start_time": "2022-12-16T08:09:02.398Z"
   },
   {
    "duration": 16,
    "start_time": "2022-12-16T08:09:02.429Z"
   },
   {
    "duration": 54,
    "start_time": "2022-12-16T08:09:02.447Z"
   },
   {
    "duration": 34,
    "start_time": "2022-12-16T08:09:02.503Z"
   },
   {
    "duration": 40,
    "start_time": "2022-12-16T08:09:02.539Z"
   },
   {
    "duration": 11,
    "start_time": "2022-12-16T08:09:02.581Z"
   },
   {
    "duration": 14,
    "start_time": "2022-12-16T08:09:02.594Z"
   },
   {
    "duration": 42,
    "start_time": "2022-12-16T08:09:02.611Z"
   },
   {
    "duration": 114,
    "start_time": "2022-12-16T08:09:34.945Z"
   },
   {
    "duration": 4,
    "start_time": "2022-12-16T08:09:43.008Z"
   },
   {
    "duration": 4,
    "start_time": "2022-12-16T08:12:59.880Z"
   },
   {
    "duration": 4,
    "start_time": "2022-12-16T08:15:23.031Z"
   },
   {
    "duration": 5,
    "start_time": "2022-12-16T08:15:31.379Z"
   },
   {
    "duration": 1407,
    "start_time": "2022-12-16T10:13:31.279Z"
   },
   {
    "duration": 693,
    "start_time": "2022-12-16T10:13:32.688Z"
   },
   {
    "duration": 21,
    "start_time": "2022-12-16T10:13:33.383Z"
   },
   {
    "duration": 26,
    "start_time": "2022-12-16T10:13:33.406Z"
   },
   {
    "duration": 14,
    "start_time": "2022-12-16T10:13:33.436Z"
   },
   {
    "duration": 22,
    "start_time": "2022-12-16T10:13:33.478Z"
   },
   {
    "duration": 22,
    "start_time": "2022-12-16T10:13:33.502Z"
   },
   {
    "duration": 21,
    "start_time": "2022-12-16T10:13:33.525Z"
   },
   {
    "duration": 9,
    "start_time": "2022-12-16T10:13:33.579Z"
   },
   {
    "duration": 19,
    "start_time": "2022-12-16T10:13:33.589Z"
   },
   {
    "duration": 14,
    "start_time": "2022-12-16T10:13:33.610Z"
   },
   {
    "duration": 10,
    "start_time": "2022-12-16T10:15:53.301Z"
   },
   {
    "duration": 9,
    "start_time": "2022-12-16T10:16:43.458Z"
   },
   {
    "duration": 12,
    "start_time": "2022-12-16T10:16:46.607Z"
   },
   {
    "duration": 110,
    "start_time": "2022-12-16T10:21:32.996Z"
   },
   {
    "duration": 731,
    "start_time": "2022-12-16T10:22:12.444Z"
   },
   {
    "duration": 1400,
    "start_time": "2022-12-16T10:22:29.333Z"
   },
   {
    "duration": 729,
    "start_time": "2022-12-16T10:22:30.735Z"
   },
   {
    "duration": 25,
    "start_time": "2022-12-16T10:22:31.466Z"
   },
   {
    "duration": 25,
    "start_time": "2022-12-16T10:22:31.493Z"
   },
   {
    "duration": 13,
    "start_time": "2022-12-16T10:22:31.521Z"
   },
   {
    "duration": 46,
    "start_time": "2022-12-16T10:22:31.536Z"
   },
   {
    "duration": 27,
    "start_time": "2022-12-16T10:22:31.584Z"
   },
   {
    "duration": 24,
    "start_time": "2022-12-16T10:22:31.613Z"
   },
   {
    "duration": 22,
    "start_time": "2022-12-16T10:22:31.639Z"
   },
   {
    "duration": 19,
    "start_time": "2022-12-16T10:22:31.663Z"
   },
   {
    "duration": 16,
    "start_time": "2022-12-16T10:22:31.684Z"
   },
   {
    "duration": 15,
    "start_time": "2022-12-16T10:22:31.702Z"
   },
   {
    "duration": 22,
    "start_time": "2022-12-16T10:22:31.719Z"
   },
   {
    "duration": 896,
    "start_time": "2022-12-16T10:22:31.743Z"
   },
   {
    "duration": 804,
    "start_time": "2022-12-16T10:24:30.796Z"
   },
   {
    "duration": 6,
    "start_time": "2022-12-16T10:24:47.947Z"
   },
   {
    "duration": 7,
    "start_time": "2022-12-16T10:25:11.564Z"
   },
   {
    "duration": 71,
    "start_time": "2022-12-16T10:32:12.398Z"
   },
   {
    "duration": 43,
    "start_time": "2022-12-16T13:24:11.215Z"
   },
   {
    "duration": 1442,
    "start_time": "2022-12-16T13:24:17.590Z"
   },
   {
    "duration": 2651,
    "start_time": "2022-12-16T13:24:19.034Z"
   },
   {
    "duration": 17,
    "start_time": "2022-12-16T13:24:21.686Z"
   },
   {
    "duration": 22,
    "start_time": "2022-12-16T13:24:21.706Z"
   },
   {
    "duration": 10,
    "start_time": "2022-12-16T13:24:21.729Z"
   },
   {
    "duration": 18,
    "start_time": "2022-12-16T13:24:21.741Z"
   },
   {
    "duration": 38,
    "start_time": "2022-12-16T13:24:21.760Z"
   },
   {
    "duration": 21,
    "start_time": "2022-12-16T13:24:21.799Z"
   },
   {
    "duration": 10,
    "start_time": "2022-12-16T13:24:21.821Z"
   },
   {
    "duration": 7,
    "start_time": "2022-12-16T13:24:21.833Z"
   },
   {
    "duration": 25,
    "start_time": "2022-12-16T13:24:21.842Z"
   },
   {
    "duration": 13,
    "start_time": "2022-12-16T13:24:21.868Z"
   },
   {
    "duration": 23,
    "start_time": "2022-12-16T13:24:21.882Z"
   },
   {
    "duration": 7,
    "start_time": "2022-12-16T13:24:21.907Z"
   },
   {
    "duration": 17,
    "start_time": "2022-12-16T13:24:21.916Z"
   },
   {
    "duration": 22,
    "start_time": "2022-12-16T13:27:54.290Z"
   },
   {
    "duration": 27,
    "start_time": "2022-12-16T13:28:56.183Z"
   },
   {
    "duration": 113,
    "start_time": "2022-12-16T13:37:07.797Z"
   },
   {
    "duration": 30,
    "start_time": "2022-12-16T13:37:21.613Z"
   },
   {
    "duration": 1321,
    "start_time": "2022-12-16T14:07:31.662Z"
   },
   {
    "duration": 780,
    "start_time": "2022-12-16T14:07:32.985Z"
   },
   {
    "duration": 18,
    "start_time": "2022-12-16T14:07:33.766Z"
   },
   {
    "duration": 30,
    "start_time": "2022-12-16T14:07:33.798Z"
   },
   {
    "duration": 11,
    "start_time": "2022-12-16T14:07:33.830Z"
   },
   {
    "duration": 29,
    "start_time": "2022-12-16T14:07:33.843Z"
   },
   {
    "duration": 48,
    "start_time": "2022-12-16T14:07:33.874Z"
   },
   {
    "duration": 22,
    "start_time": "2022-12-16T14:07:33.924Z"
   },
   {
    "duration": 10,
    "start_time": "2022-12-16T14:07:33.948Z"
   },
   {
    "duration": 6,
    "start_time": "2022-12-16T14:07:33.961Z"
   },
   {
    "duration": 51,
    "start_time": "2022-12-16T14:07:33.968Z"
   },
   {
    "duration": 14,
    "start_time": "2022-12-16T14:07:34.021Z"
   },
   {
    "duration": 12,
    "start_time": "2022-12-16T14:07:34.036Z"
   },
   {
    "duration": 8,
    "start_time": "2022-12-16T14:07:34.050Z"
   },
   {
    "duration": 39,
    "start_time": "2022-12-16T14:07:34.060Z"
   },
   {
    "duration": 19,
    "start_time": "2022-12-16T14:07:34.101Z"
   },
   {
    "duration": 29,
    "start_time": "2022-12-16T14:07:34.122Z"
   },
   {
    "duration": 64,
    "start_time": "2022-12-16T14:07:34.152Z"
   },
   {
    "duration": 44,
    "start_time": "2022-12-16T14:07:34.218Z"
   },
   {
    "duration": 113,
    "start_time": "2022-12-16T14:07:52.931Z"
   },
   {
    "duration": 8,
    "start_time": "2022-12-16T14:08:06.056Z"
   },
   {
    "duration": 9,
    "start_time": "2022-12-16T14:12:28.985Z"
   },
   {
    "duration": 12,
    "start_time": "2022-12-16T14:12:49.939Z"
   },
   {
    "duration": 3,
    "start_time": "2022-12-16T14:12:56.038Z"
   },
   {
    "duration": 11,
    "start_time": "2022-12-16T14:14:38.884Z"
   },
   {
    "duration": 1492,
    "start_time": "2022-12-16T19:32:07.236Z"
   },
   {
    "duration": 2066,
    "start_time": "2022-12-16T19:32:08.730Z"
   },
   {
    "duration": 17,
    "start_time": "2022-12-16T19:32:10.798Z"
   },
   {
    "duration": 28,
    "start_time": "2022-12-16T19:32:10.818Z"
   },
   {
    "duration": 11,
    "start_time": "2022-12-16T19:32:10.848Z"
   },
   {
    "duration": 34,
    "start_time": "2022-12-16T19:32:10.861Z"
   },
   {
    "duration": 23,
    "start_time": "2022-12-16T19:32:10.897Z"
   },
   {
    "duration": 33,
    "start_time": "2022-12-16T19:32:10.922Z"
   },
   {
    "duration": 25,
    "start_time": "2022-12-16T19:32:10.957Z"
   },
   {
    "duration": 6,
    "start_time": "2022-12-16T19:32:10.984Z"
   },
   {
    "duration": 36,
    "start_time": "2022-12-16T19:32:10.992Z"
   },
   {
    "duration": 25,
    "start_time": "2022-12-16T19:32:11.030Z"
   },
   {
    "duration": 16,
    "start_time": "2022-12-16T19:32:11.056Z"
   },
   {
    "duration": 11,
    "start_time": "2022-12-16T19:32:11.074Z"
   },
   {
    "duration": 28,
    "start_time": "2022-12-16T19:32:11.086Z"
   },
   {
    "duration": 14,
    "start_time": "2022-12-16T19:32:11.116Z"
   },
   {
    "duration": 26,
    "start_time": "2022-12-16T19:32:11.132Z"
   },
   {
    "duration": 24,
    "start_time": "2022-12-16T19:32:11.160Z"
   },
   {
    "duration": 28,
    "start_time": "2022-12-16T19:32:11.186Z"
   },
   {
    "duration": 13,
    "start_time": "2022-12-16T19:32:11.216Z"
   },
   {
    "duration": 15,
    "start_time": "2022-12-16T19:32:11.230Z"
   },
   {
    "duration": 8,
    "start_time": "2022-12-16T19:32:11.246Z"
   },
   {
    "duration": 275,
    "start_time": "2022-12-16T19:40:10.055Z"
   },
   {
    "duration": 1540,
    "start_time": "2022-12-16T19:40:23.102Z"
   },
   {
    "duration": 1492,
    "start_time": "2022-12-16T19:40:28.999Z"
   },
   {
    "duration": 698,
    "start_time": "2022-12-16T19:40:30.493Z"
   },
   {
    "duration": 24,
    "start_time": "2022-12-16T19:40:31.193Z"
   },
   {
    "duration": 27,
    "start_time": "2022-12-16T19:40:31.220Z"
   },
   {
    "duration": 16,
    "start_time": "2022-12-16T19:40:31.249Z"
   },
   {
    "duration": 47,
    "start_time": "2022-12-16T19:40:31.267Z"
   },
   {
    "duration": 25,
    "start_time": "2022-12-16T19:40:31.316Z"
   },
   {
    "duration": 19,
    "start_time": "2022-12-16T19:40:31.343Z"
   },
   {
    "duration": 25,
    "start_time": "2022-12-16T19:40:31.364Z"
   },
   {
    "duration": 16,
    "start_time": "2022-12-16T19:40:31.392Z"
   },
   {
    "duration": 26,
    "start_time": "2022-12-16T19:40:31.409Z"
   },
   {
    "duration": 21,
    "start_time": "2022-12-16T19:40:31.437Z"
   },
   {
    "duration": 16,
    "start_time": "2022-12-16T19:40:31.460Z"
   },
   {
    "duration": 24,
    "start_time": "2022-12-16T19:40:31.478Z"
   },
   {
    "duration": 61,
    "start_time": "2022-12-16T19:40:31.503Z"
   },
   {
    "duration": 20,
    "start_time": "2022-12-16T19:40:31.566Z"
   },
   {
    "duration": 32,
    "start_time": "2022-12-16T19:40:31.588Z"
   },
   {
    "duration": 26,
    "start_time": "2022-12-16T19:40:31.621Z"
   },
   {
    "duration": 8,
    "start_time": "2022-12-16T19:40:31.648Z"
   },
   {
    "duration": 15,
    "start_time": "2022-12-16T19:40:31.658Z"
   },
   {
    "duration": 33,
    "start_time": "2022-12-16T19:40:31.674Z"
   },
   {
    "duration": 9,
    "start_time": "2022-12-16T19:40:31.708Z"
   },
   {
    "duration": 1422,
    "start_time": "2022-12-16T19:40:31.719Z"
   },
   {
    "duration": 1146,
    "start_time": "2022-12-16T19:40:56.139Z"
   },
   {
    "duration": 181,
    "start_time": "2022-12-16T19:41:24.497Z"
   },
   {
    "duration": 178,
    "start_time": "2022-12-16T19:41:58.129Z"
   },
   {
    "duration": 290,
    "start_time": "2022-12-16T19:42:33.505Z"
   },
   {
    "duration": 270,
    "start_time": "2022-12-16T19:43:06.202Z"
   },
   {
    "duration": 252,
    "start_time": "2022-12-16T19:43:56.942Z"
   },
   {
    "duration": 268,
    "start_time": "2022-12-16T19:44:53.813Z"
   },
   {
    "duration": 241,
    "start_time": "2022-12-16T19:46:57.752Z"
   },
   {
    "duration": 517,
    "start_time": "2022-12-16T19:47:44.601Z"
   },
   {
    "duration": 287,
    "start_time": "2022-12-16T19:47:54.951Z"
   },
   {
    "duration": 499,
    "start_time": "2022-12-16T19:48:17.777Z"
   },
   {
    "duration": 845,
    "start_time": "2022-12-16T19:48:29.740Z"
   },
   {
    "duration": 609,
    "start_time": "2022-12-16T19:49:10.660Z"
   },
   {
    "duration": 13,
    "start_time": "2022-12-16T19:49:37.729Z"
   },
   {
    "duration": 15,
    "start_time": "2022-12-16T19:55:44.775Z"
   },
   {
    "duration": 319,
    "start_time": "2022-12-16T19:55:51.190Z"
   },
   {
    "duration": 678,
    "start_time": "2022-12-16T19:56:02.510Z"
   },
   {
    "duration": 843,
    "start_time": "2022-12-16T19:57:52.703Z"
   },
   {
    "duration": 930,
    "start_time": "2022-12-16T19:58:03.521Z"
   },
   {
    "duration": 820,
    "start_time": "2022-12-16T19:58:31.757Z"
   },
   {
    "duration": 1137,
    "start_time": "2022-12-16T19:58:48.094Z"
   },
   {
    "duration": 808,
    "start_time": "2022-12-16T19:58:58.116Z"
   },
   {
    "duration": 839,
    "start_time": "2022-12-16T19:59:05.894Z"
   },
   {
    "duration": 1097,
    "start_time": "2022-12-16T19:59:14.821Z"
   },
   {
    "duration": 781,
    "start_time": "2022-12-16T20:01:08.313Z"
   },
   {
    "duration": 807,
    "start_time": "2022-12-16T20:01:36.628Z"
   },
   {
    "duration": 1119,
    "start_time": "2022-12-16T20:02:38.471Z"
   },
   {
    "duration": 764,
    "start_time": "2022-12-16T20:09:07.623Z"
   },
   {
    "duration": 4,
    "start_time": "2022-12-16T20:09:11.725Z"
   },
   {
    "duration": 783,
    "start_time": "2022-12-16T20:09:15.613Z"
   },
   {
    "duration": 1226,
    "start_time": "2022-12-16T20:09:16.398Z"
   },
   {
    "duration": 1337,
    "start_time": "2022-12-16T21:00:58.973Z"
   },
   {
    "duration": 714,
    "start_time": "2022-12-16T21:01:00.313Z"
   },
   {
    "duration": 17,
    "start_time": "2022-12-16T21:01:01.029Z"
   },
   {
    "duration": 30,
    "start_time": "2022-12-16T21:01:01.048Z"
   },
   {
    "duration": 22,
    "start_time": "2022-12-16T21:01:01.080Z"
   },
   {
    "duration": 33,
    "start_time": "2022-12-16T21:01:01.104Z"
   },
   {
    "duration": 48,
    "start_time": "2022-12-16T21:01:01.139Z"
   },
   {
    "duration": 30,
    "start_time": "2022-12-16T21:01:01.188Z"
   },
   {
    "duration": 41,
    "start_time": "2022-12-16T21:01:01.219Z"
   },
   {
    "duration": 12,
    "start_time": "2022-12-16T21:01:01.262Z"
   },
   {
    "duration": 50,
    "start_time": "2022-12-16T21:01:01.275Z"
   },
   {
    "duration": 42,
    "start_time": "2022-12-16T21:01:01.326Z"
   },
   {
    "duration": 35,
    "start_time": "2022-12-16T21:01:01.369Z"
   },
   {
    "duration": 36,
    "start_time": "2022-12-16T21:01:01.405Z"
   },
   {
    "duration": 41,
    "start_time": "2022-12-16T21:01:01.443Z"
   },
   {
    "duration": 14,
    "start_time": "2022-12-16T21:01:01.485Z"
   },
   {
    "duration": 39,
    "start_time": "2022-12-16T21:01:01.500Z"
   },
   {
    "duration": 28,
    "start_time": "2022-12-16T21:01:01.540Z"
   },
   {
    "duration": 20,
    "start_time": "2022-12-16T21:01:01.569Z"
   },
   {
    "duration": 52,
    "start_time": "2022-12-16T21:01:01.590Z"
   },
   {
    "duration": 42,
    "start_time": "2022-12-16T21:01:01.644Z"
   },
   {
    "duration": 25,
    "start_time": "2022-12-16T21:01:01.688Z"
   },
   {
    "duration": 888,
    "start_time": "2022-12-16T21:01:01.715Z"
   },
   {
    "duration": 808,
    "start_time": "2022-12-16T21:01:02.604Z"
   },
   {
    "duration": 939,
    "start_time": "2022-12-16T21:01:03.414Z"
   },
   {
    "duration": 805,
    "start_time": "2022-12-16T21:01:04.355Z"
   },
   {
    "duration": 640,
    "start_time": "2022-12-16T21:04:36.459Z"
   },
   {
    "duration": 444,
    "start_time": "2022-12-16T21:06:01.139Z"
   },
   {
    "duration": 457,
    "start_time": "2022-12-16T21:06:28.038Z"
   },
   {
    "duration": 630,
    "start_time": "2022-12-16T21:06:32.706Z"
   },
   {
    "duration": 476,
    "start_time": "2022-12-16T21:06:41.824Z"
   },
   {
    "duration": 482,
    "start_time": "2022-12-16T21:07:14.344Z"
   },
   {
    "duration": 439,
    "start_time": "2022-12-16T21:07:54.952Z"
   },
   {
    "duration": 673,
    "start_time": "2022-12-16T21:08:03.799Z"
   },
   {
    "duration": 9,
    "start_time": "2022-12-16T21:33:56.751Z"
   },
   {
    "duration": 115,
    "start_time": "2022-12-16T21:37:25.937Z"
   },
   {
    "duration": 308,
    "start_time": "2022-12-16T21:39:29.069Z"
   },
   {
    "duration": 807,
    "start_time": "2022-12-16T21:40:17.520Z"
   },
   {
    "duration": 1052,
    "start_time": "2022-12-16T21:40:44.839Z"
   },
   {
    "duration": 723,
    "start_time": "2022-12-16T21:42:21.316Z"
   },
   {
    "duration": 1374,
    "start_time": "2022-12-16T21:42:51.834Z"
   },
   {
    "duration": 677,
    "start_time": "2022-12-16T21:42:53.210Z"
   },
   {
    "duration": 17,
    "start_time": "2022-12-16T21:42:53.889Z"
   },
   {
    "duration": 24,
    "start_time": "2022-12-16T21:42:53.913Z"
   },
   {
    "duration": 13,
    "start_time": "2022-12-16T21:42:53.939Z"
   },
   {
    "duration": 20,
    "start_time": "2022-12-16T21:42:53.953Z"
   },
   {
    "duration": 41,
    "start_time": "2022-12-16T21:42:53.975Z"
   },
   {
    "duration": 27,
    "start_time": "2022-12-16T21:42:54.019Z"
   },
   {
    "duration": 9,
    "start_time": "2022-12-16T21:42:54.047Z"
   },
   {
    "duration": 4,
    "start_time": "2022-12-16T21:42:54.058Z"
   },
   {
    "duration": 15,
    "start_time": "2022-12-16T21:42:54.064Z"
   },
   {
    "duration": 35,
    "start_time": "2022-12-16T21:42:54.080Z"
   },
   {
    "duration": 15,
    "start_time": "2022-12-16T21:42:54.117Z"
   },
   {
    "duration": 10,
    "start_time": "2022-12-16T21:42:54.135Z"
   },
   {
    "duration": 24,
    "start_time": "2022-12-16T21:42:54.147Z"
   },
   {
    "duration": 14,
    "start_time": "2022-12-16T21:42:54.172Z"
   },
   {
    "duration": 52,
    "start_time": "2022-12-16T21:42:54.187Z"
   },
   {
    "duration": 28,
    "start_time": "2022-12-16T21:42:54.240Z"
   },
   {
    "duration": 8,
    "start_time": "2022-12-16T21:42:54.269Z"
   },
   {
    "duration": 9,
    "start_time": "2022-12-16T21:42:54.279Z"
   },
   {
    "duration": 38,
    "start_time": "2022-12-16T21:42:54.290Z"
   },
   {
    "duration": 874,
    "start_time": "2022-12-16T21:42:54.329Z"
   },
   {
    "duration": 761,
    "start_time": "2022-12-16T21:42:55.205Z"
   },
   {
    "duration": 873,
    "start_time": "2022-12-16T21:42:55.967Z"
   },
   {
    "duration": 486,
    "start_time": "2022-12-16T21:42:56.841Z"
   },
   {
    "duration": 456,
    "start_time": "2022-12-16T21:42:57.329Z"
   },
   {
    "duration": 604,
    "start_time": "2022-12-16T21:42:57.787Z"
   },
   {
    "duration": 464,
    "start_time": "2022-12-16T21:42:58.393Z"
   },
   {
    "duration": 8,
    "start_time": "2022-12-16T21:42:58.859Z"
   },
   {
    "duration": 739,
    "start_time": "2022-12-16T21:42:58.868Z"
   },
   {
    "duration": 86,
    "start_time": "2022-12-16T21:49:39.369Z"
   },
   {
    "duration": 76,
    "start_time": "2022-12-16T21:54:13.013Z"
   },
   {
    "duration": 7,
    "start_time": "2022-12-16T21:55:27.886Z"
   },
   {
    "duration": 731,
    "start_time": "2022-12-16T21:55:32.022Z"
   },
   {
    "duration": 911,
    "start_time": "2022-12-16T21:56:50.115Z"
   },
   {
    "duration": 557,
    "start_time": "2022-12-16T21:57:21.583Z"
   },
   {
    "duration": 707,
    "start_time": "2022-12-16T21:57:29.902Z"
   },
   {
    "duration": 901,
    "start_time": "2022-12-16T21:57:34.953Z"
   },
   {
    "duration": 652,
    "start_time": "2022-12-16T21:58:05.439Z"
   },
   {
    "duration": 626,
    "start_time": "2022-12-16T21:58:13.473Z"
   },
   {
    "duration": 616,
    "start_time": "2022-12-16T21:58:23.656Z"
   },
   {
    "duration": 945,
    "start_time": "2022-12-16T21:58:45.496Z"
   },
   {
    "duration": 634,
    "start_time": "2022-12-16T21:59:12.029Z"
   },
   {
    "duration": 10,
    "start_time": "2022-12-16T22:00:00.268Z"
   },
   {
    "duration": 735,
    "start_time": "2022-12-16T22:00:02.603Z"
   },
   {
    "duration": 1797,
    "start_time": "2022-12-17T12:52:49.134Z"
   },
   {
    "duration": 2079,
    "start_time": "2022-12-17T12:52:50.933Z"
   },
   {
    "duration": 20,
    "start_time": "2022-12-17T12:52:53.014Z"
   },
   {
    "duration": 26,
    "start_time": "2022-12-17T12:52:53.036Z"
   },
   {
    "duration": 14,
    "start_time": "2022-12-17T12:52:53.064Z"
   },
   {
    "duration": 22,
    "start_time": "2022-12-17T12:52:53.080Z"
   },
   {
    "duration": 17,
    "start_time": "2022-12-17T12:52:53.104Z"
   },
   {
    "duration": 51,
    "start_time": "2022-12-17T12:52:53.122Z"
   },
   {
    "duration": 11,
    "start_time": "2022-12-17T12:52:53.174Z"
   },
   {
    "duration": 5,
    "start_time": "2022-12-17T12:52:53.188Z"
   },
   {
    "duration": 14,
    "start_time": "2022-12-17T12:52:53.195Z"
   },
   {
    "duration": 41,
    "start_time": "2022-12-17T12:52:53.211Z"
   },
   {
    "duration": 14,
    "start_time": "2022-12-17T12:52:53.254Z"
   },
   {
    "duration": 8,
    "start_time": "2022-12-17T12:52:53.270Z"
   },
   {
    "duration": 25,
    "start_time": "2022-12-17T12:52:53.280Z"
   },
   {
    "duration": 47,
    "start_time": "2022-12-17T12:52:53.307Z"
   },
   {
    "duration": 30,
    "start_time": "2022-12-17T12:52:53.356Z"
   },
   {
    "duration": 31,
    "start_time": "2022-12-17T12:52:53.388Z"
   },
   {
    "duration": 35,
    "start_time": "2022-12-17T12:52:53.421Z"
   },
   {
    "duration": 10,
    "start_time": "2022-12-17T12:52:53.457Z"
   },
   {
    "duration": 16,
    "start_time": "2022-12-17T12:52:53.469Z"
   },
   {
    "duration": 960,
    "start_time": "2022-12-17T12:52:53.487Z"
   },
   {
    "duration": 841,
    "start_time": "2022-12-17T12:52:54.448Z"
   },
   {
    "duration": 942,
    "start_time": "2022-12-17T12:52:55.291Z"
   },
   {
    "duration": 495,
    "start_time": "2022-12-17T12:52:56.235Z"
   },
   {
    "duration": 473,
    "start_time": "2022-12-17T12:52:56.732Z"
   },
   {
    "duration": 657,
    "start_time": "2022-12-17T12:52:57.207Z"
   },
   {
    "duration": 491,
    "start_time": "2022-12-17T12:52:57.868Z"
   },
   {
    "duration": 8,
    "start_time": "2022-12-17T12:52:58.361Z"
   },
   {
    "duration": 823,
    "start_time": "2022-12-17T12:52:58.370Z"
   },
   {
    "duration": 138,
    "start_time": "2022-12-17T12:52:59.194Z"
   },
   {
    "duration": 12,
    "start_time": "2022-12-17T12:54:18.230Z"
   },
   {
    "duration": 39,
    "start_time": "2022-12-17T12:58:56.600Z"
   },
   {
    "duration": 1632,
    "start_time": "2022-12-17T12:59:49.848Z"
   },
   {
    "duration": 35,
    "start_time": "2022-12-17T13:01:16.180Z"
   },
   {
    "duration": 19,
    "start_time": "2022-12-17T13:02:11.751Z"
   },
   {
    "duration": 22,
    "start_time": "2022-12-17T13:07:26.169Z"
   },
   {
    "duration": 1468,
    "start_time": "2022-12-17T13:07:37.365Z"
   },
   {
    "duration": 805,
    "start_time": "2022-12-17T13:07:38.836Z"
   },
   {
    "duration": 31,
    "start_time": "2022-12-17T13:07:39.643Z"
   },
   {
    "duration": 32,
    "start_time": "2022-12-17T13:07:39.678Z"
   },
   {
    "duration": 41,
    "start_time": "2022-12-17T13:07:39.714Z"
   },
   {
    "duration": 30,
    "start_time": "2022-12-17T13:07:39.757Z"
   },
   {
    "duration": 22,
    "start_time": "2022-12-17T13:07:39.789Z"
   },
   {
    "duration": 58,
    "start_time": "2022-12-17T13:07:39.814Z"
   },
   {
    "duration": 14,
    "start_time": "2022-12-17T13:07:39.874Z"
   },
   {
    "duration": 5,
    "start_time": "2022-12-17T13:07:39.893Z"
   },
   {
    "duration": 16,
    "start_time": "2022-12-17T13:07:39.901Z"
   },
   {
    "duration": 50,
    "start_time": "2022-12-17T13:07:39.919Z"
   },
   {
    "duration": 19,
    "start_time": "2022-12-17T13:07:39.971Z"
   },
   {
    "duration": 16,
    "start_time": "2022-12-17T13:07:39.992Z"
   },
   {
    "duration": 42,
    "start_time": "2022-12-17T13:07:40.010Z"
   },
   {
    "duration": 16,
    "start_time": "2022-12-17T13:07:40.054Z"
   },
   {
    "duration": 30,
    "start_time": "2022-12-17T13:07:40.072Z"
   },
   {
    "duration": 60,
    "start_time": "2022-12-17T13:07:40.105Z"
   },
   {
    "duration": 17,
    "start_time": "2022-12-17T13:07:40.167Z"
   },
   {
    "duration": 1043,
    "start_time": "2022-12-17T13:07:40.185Z"
   },
   {
    "duration": 870,
    "start_time": "2022-12-17T13:07:41.230Z"
   },
   {
    "duration": 1003,
    "start_time": "2022-12-17T13:07:42.101Z"
   },
   {
    "duration": 517,
    "start_time": "2022-12-17T13:07:43.106Z"
   },
   {
    "duration": 505,
    "start_time": "2022-12-17T13:07:43.625Z"
   },
   {
    "duration": 709,
    "start_time": "2022-12-17T13:07:44.132Z"
   },
   {
    "duration": 551,
    "start_time": "2022-12-17T13:07:44.843Z"
   },
   {
    "duration": 10,
    "start_time": "2022-12-17T13:07:45.396Z"
   },
   {
    "duration": 868,
    "start_time": "2022-12-17T13:07:45.409Z"
   },
   {
    "duration": 26,
    "start_time": "2022-12-17T13:07:46.279Z"
   },
   {
    "duration": 9,
    "start_time": "2022-12-17T13:07:46.307Z"
   },
   {
    "duration": 37,
    "start_time": "2022-12-17T13:07:46.318Z"
   },
   {
    "duration": 10,
    "start_time": "2022-12-17T13:08:12.126Z"
   },
   {
    "duration": 4,
    "start_time": "2022-12-17T13:08:14.258Z"
   },
   {
    "duration": 1657,
    "start_time": "2022-12-17T13:31:38.256Z"
   },
   {
    "duration": 789,
    "start_time": "2022-12-17T13:31:39.916Z"
   },
   {
    "duration": 21,
    "start_time": "2022-12-17T13:31:40.707Z"
   },
   {
    "duration": 39,
    "start_time": "2022-12-17T13:31:40.730Z"
   },
   {
    "duration": 14,
    "start_time": "2022-12-17T13:31:40.770Z"
   },
   {
    "duration": 24,
    "start_time": "2022-12-17T13:31:40.786Z"
   },
   {
    "duration": 47,
    "start_time": "2022-12-17T13:31:40.812Z"
   },
   {
    "duration": 25,
    "start_time": "2022-12-17T13:31:40.861Z"
   },
   {
    "duration": 11,
    "start_time": "2022-12-17T13:31:40.888Z"
   },
   {
    "duration": 5,
    "start_time": "2022-12-17T13:31:40.902Z"
   },
   {
    "duration": 46,
    "start_time": "2022-12-17T13:31:40.909Z"
   },
   {
    "duration": 11,
    "start_time": "2022-12-17T13:31:40.957Z"
   },
   {
    "duration": 14,
    "start_time": "2022-12-17T13:31:40.969Z"
   },
   {
    "duration": 9,
    "start_time": "2022-12-17T13:31:40.985Z"
   },
   {
    "duration": 25,
    "start_time": "2022-12-17T13:31:40.996Z"
   },
   {
    "duration": 17,
    "start_time": "2022-12-17T13:31:41.052Z"
   },
   {
    "duration": 29,
    "start_time": "2022-12-17T13:31:41.071Z"
   },
   {
    "duration": 62,
    "start_time": "2022-12-17T13:31:41.102Z"
   },
   {
    "duration": 16,
    "start_time": "2022-12-17T13:31:41.166Z"
   },
   {
    "duration": 1013,
    "start_time": "2022-12-17T13:31:41.184Z"
   },
   {
    "duration": 887,
    "start_time": "2022-12-17T13:31:42.199Z"
   },
   {
    "duration": 1007,
    "start_time": "2022-12-17T13:31:43.089Z"
   },
   {
    "duration": 530,
    "start_time": "2022-12-17T13:31:44.097Z"
   },
   {
    "duration": 516,
    "start_time": "2022-12-17T13:31:44.629Z"
   },
   {
    "duration": 698,
    "start_time": "2022-12-17T13:31:45.147Z"
   },
   {
    "duration": 552,
    "start_time": "2022-12-17T13:31:45.846Z"
   },
   {
    "duration": 9,
    "start_time": "2022-12-17T13:31:46.400Z"
   },
   {
    "duration": 838,
    "start_time": "2022-12-17T13:31:46.412Z"
   },
   {
    "duration": 26,
    "start_time": "2022-12-17T13:31:47.252Z"
   },
   {
    "duration": 7,
    "start_time": "2022-12-17T13:31:47.280Z"
   },
   {
    "duration": 9,
    "start_time": "2022-12-17T13:31:47.289Z"
   },
   {
    "duration": 133,
    "start_time": "2022-12-17T13:31:47.300Z"
   },
   {
    "duration": 1742,
    "start_time": "2022-12-17T13:32:20.969Z"
   },
   {
    "duration": 20,
    "start_time": "2022-12-17T13:35:10.530Z"
   },
   {
    "duration": 10,
    "start_time": "2022-12-17T13:35:26.047Z"
   },
   {
    "duration": 10,
    "start_time": "2022-12-17T13:35:49.453Z"
   },
   {
    "duration": 67,
    "start_time": "2022-12-17T13:38:28.074Z"
   },
   {
    "duration": 1511,
    "start_time": "2022-12-18T06:16:56.030Z"
   },
   {
    "duration": 2309,
    "start_time": "2022-12-18T06:16:57.544Z"
   },
   {
    "duration": 19,
    "start_time": "2022-12-18T06:16:59.855Z"
   },
   {
    "duration": 24,
    "start_time": "2022-12-18T06:16:59.876Z"
   },
   {
    "duration": 21,
    "start_time": "2022-12-18T06:16:59.902Z"
   },
   {
    "duration": 18,
    "start_time": "2022-12-18T06:16:59.924Z"
   },
   {
    "duration": 19,
    "start_time": "2022-12-18T06:16:59.944Z"
   },
   {
    "duration": 19,
    "start_time": "2022-12-18T06:16:59.964Z"
   },
   {
    "duration": 10,
    "start_time": "2022-12-18T06:16:59.984Z"
   },
   {
    "duration": 5,
    "start_time": "2022-12-18T06:17:00.021Z"
   },
   {
    "duration": 16,
    "start_time": "2022-12-18T06:17:00.027Z"
   },
   {
    "duration": 17,
    "start_time": "2022-12-18T06:17:00.044Z"
   },
   {
    "duration": 25,
    "start_time": "2022-12-18T06:17:00.062Z"
   },
   {
    "duration": 25,
    "start_time": "2022-12-18T06:17:00.089Z"
   },
   {
    "duration": 33,
    "start_time": "2022-12-18T06:17:00.115Z"
   },
   {
    "duration": 20,
    "start_time": "2022-12-18T06:17:00.150Z"
   },
   {
    "duration": 37,
    "start_time": "2022-12-18T06:17:00.171Z"
   },
   {
    "duration": 26,
    "start_time": "2022-12-18T06:17:00.210Z"
   },
   {
    "duration": 15,
    "start_time": "2022-12-18T06:17:00.238Z"
   },
   {
    "duration": 856,
    "start_time": "2022-12-18T06:17:00.254Z"
   },
   {
    "duration": 768,
    "start_time": "2022-12-18T06:17:01.111Z"
   },
   {
    "duration": 939,
    "start_time": "2022-12-18T06:17:01.881Z"
   },
   {
    "duration": 466,
    "start_time": "2022-12-18T06:17:02.822Z"
   },
   {
    "duration": 454,
    "start_time": "2022-12-18T06:17:03.290Z"
   },
   {
    "duration": 673,
    "start_time": "2022-12-18T06:17:03.745Z"
   },
   {
    "duration": 484,
    "start_time": "2022-12-18T06:17:04.421Z"
   },
   {
    "duration": 16,
    "start_time": "2022-12-18T06:17:04.906Z"
   },
   {
    "duration": 735,
    "start_time": "2022-12-18T06:17:04.925Z"
   },
   {
    "duration": 24,
    "start_time": "2022-12-18T06:17:05.661Z"
   },
   {
    "duration": 6,
    "start_time": "2022-12-18T06:17:05.687Z"
   },
   {
    "duration": 8,
    "start_time": "2022-12-18T06:17:05.694Z"
   },
   {
    "duration": 11,
    "start_time": "2022-12-18T06:17:05.721Z"
   },
   {
    "duration": 6,
    "start_time": "2022-12-18T06:17:05.734Z"
   },
   {
    "duration": 26,
    "start_time": "2022-12-18T06:17:05.742Z"
   },
   {
    "duration": 7,
    "start_time": "2022-12-18T06:17:05.769Z"
   },
   {
    "duration": 3130,
    "start_time": "2022-12-18T06:17:05.778Z"
   },
   {
    "duration": 2,
    "start_time": "2022-12-18T06:17:08.910Z"
   },
   {
    "duration": 2667,
    "start_time": "2022-12-18T06:18:44.294Z"
   },
   {
    "duration": 1348,
    "start_time": "2022-12-18T07:09:28.050Z"
   },
   {
    "duration": 628,
    "start_time": "2022-12-18T07:09:29.401Z"
   },
   {
    "duration": 18,
    "start_time": "2022-12-18T07:09:30.031Z"
   },
   {
    "duration": 23,
    "start_time": "2022-12-18T07:09:30.051Z"
   },
   {
    "duration": 13,
    "start_time": "2022-12-18T07:09:30.077Z"
   },
   {
    "duration": 45,
    "start_time": "2022-12-18T07:09:30.092Z"
   },
   {
    "duration": 38,
    "start_time": "2022-12-18T07:09:30.139Z"
   },
   {
    "duration": 24,
    "start_time": "2022-12-18T07:09:30.179Z"
   },
   {
    "duration": 30,
    "start_time": "2022-12-18T07:09:30.205Z"
   },
   {
    "duration": 24,
    "start_time": "2022-12-18T07:09:30.237Z"
   },
   {
    "duration": 27,
    "start_time": "2022-12-18T07:09:30.263Z"
   },
   {
    "duration": 30,
    "start_time": "2022-12-18T07:09:30.291Z"
   },
   {
    "duration": 49,
    "start_time": "2022-12-18T07:09:30.323Z"
   },
   {
    "duration": 16,
    "start_time": "2022-12-18T07:09:30.376Z"
   },
   {
    "duration": 32,
    "start_time": "2022-12-18T07:09:30.393Z"
   },
   {
    "duration": 15,
    "start_time": "2022-12-18T07:09:30.426Z"
   },
   {
    "duration": 36,
    "start_time": "2022-12-18T07:09:30.442Z"
   },
   {
    "duration": 51,
    "start_time": "2022-12-18T07:09:30.480Z"
   },
   {
    "duration": 14,
    "start_time": "2022-12-18T07:09:30.532Z"
   },
   {
    "duration": 897,
    "start_time": "2022-12-18T07:09:30.548Z"
   },
   {
    "duration": 836,
    "start_time": "2022-12-18T07:09:31.446Z"
   },
   {
    "duration": 908,
    "start_time": "2022-12-18T07:09:32.284Z"
   },
   {
    "duration": 475,
    "start_time": "2022-12-18T07:09:33.194Z"
   },
   {
    "duration": 498,
    "start_time": "2022-12-18T07:09:33.670Z"
   },
   {
    "duration": 626,
    "start_time": "2022-12-18T07:09:34.170Z"
   },
   {
    "duration": 484,
    "start_time": "2022-12-18T07:09:34.798Z"
   },
   {
    "duration": 8,
    "start_time": "2022-12-18T07:09:35.284Z"
   },
   {
    "duration": 762,
    "start_time": "2022-12-18T07:09:35.294Z"
   },
   {
    "duration": 23,
    "start_time": "2022-12-18T07:09:36.057Z"
   },
   {
    "duration": 12,
    "start_time": "2022-12-18T07:09:36.081Z"
   },
   {
    "duration": 21,
    "start_time": "2022-12-18T07:09:36.095Z"
   },
   {
    "duration": 38,
    "start_time": "2022-12-18T07:09:36.118Z"
   },
   {
    "duration": 13,
    "start_time": "2022-12-18T07:09:36.158Z"
   },
   {
    "duration": 7,
    "start_time": "2022-12-18T07:09:36.173Z"
   },
   {
    "duration": 7,
    "start_time": "2022-12-18T07:09:36.181Z"
   },
   {
    "duration": 2949,
    "start_time": "2022-12-18T07:09:36.190Z"
   },
   {
    "duration": 3,
    "start_time": "2022-12-18T07:09:39.140Z"
   },
   {
    "duration": 2674,
    "start_time": "2022-12-18T07:10:07.849Z"
   },
   {
    "duration": 2203,
    "start_time": "2022-12-18T07:10:22.818Z"
   },
   {
    "duration": 2651,
    "start_time": "2022-12-18T07:10:53.172Z"
   },
   {
    "duration": 8,
    "start_time": "2022-12-18T11:12:58.434Z"
   },
   {
    "duration": 1571,
    "start_time": "2022-12-18T11:13:06.691Z"
   },
   {
    "duration": 2631,
    "start_time": "2022-12-18T11:13:08.265Z"
   },
   {
    "duration": 25,
    "start_time": "2022-12-18T11:13:10.899Z"
   },
   {
    "duration": 22,
    "start_time": "2022-12-18T11:13:10.926Z"
   },
   {
    "duration": 11,
    "start_time": "2022-12-18T11:13:10.950Z"
   },
   {
    "duration": 51,
    "start_time": "2022-12-18T11:13:10.962Z"
   },
   {
    "duration": 18,
    "start_time": "2022-12-18T11:13:11.015Z"
   },
   {
    "duration": 18,
    "start_time": "2022-12-18T11:13:11.034Z"
   },
   {
    "duration": 8,
    "start_time": "2022-12-18T11:13:11.054Z"
   },
   {
    "duration": 5,
    "start_time": "2022-12-18T11:13:11.063Z"
   },
   {
    "duration": 14,
    "start_time": "2022-12-18T11:13:11.097Z"
   },
   {
    "duration": 13,
    "start_time": "2022-12-18T11:13:11.113Z"
   },
   {
    "duration": 10,
    "start_time": "2022-12-18T11:13:11.127Z"
   },
   {
    "duration": 6,
    "start_time": "2022-12-18T11:13:11.140Z"
   },
   {
    "duration": 21,
    "start_time": "2022-12-18T11:13:11.147Z"
   },
   {
    "duration": 42,
    "start_time": "2022-12-18T11:13:11.170Z"
   },
   {
    "duration": 36,
    "start_time": "2022-12-18T11:13:11.214Z"
   },
   {
    "duration": 25,
    "start_time": "2022-12-18T11:13:11.251Z"
   },
   {
    "duration": 24,
    "start_time": "2022-12-18T11:13:11.278Z"
   },
   {
    "duration": 823,
    "start_time": "2022-12-18T11:13:11.304Z"
   },
   {
    "duration": 821,
    "start_time": "2022-12-18T11:13:12.129Z"
   },
   {
    "duration": 926,
    "start_time": "2022-12-18T11:13:12.951Z"
   },
   {
    "duration": 478,
    "start_time": "2022-12-18T11:13:13.878Z"
   },
   {
    "duration": 485,
    "start_time": "2022-12-18T11:13:14.358Z"
   },
   {
    "duration": 631,
    "start_time": "2022-12-18T11:13:14.845Z"
   },
   {
    "duration": 557,
    "start_time": "2022-12-18T11:13:15.478Z"
   },
   {
    "duration": 9,
    "start_time": "2022-12-18T11:13:16.037Z"
   },
   {
    "duration": 826,
    "start_time": "2022-12-18T11:13:16.047Z"
   },
   {
    "duration": 33,
    "start_time": "2022-12-18T11:13:16.875Z"
   },
   {
    "duration": 9,
    "start_time": "2022-12-18T11:13:16.911Z"
   },
   {
    "duration": 11,
    "start_time": "2022-12-18T11:13:16.921Z"
   },
   {
    "duration": 19,
    "start_time": "2022-12-18T11:13:16.934Z"
   },
   {
    "duration": 12,
    "start_time": "2022-12-18T11:13:16.954Z"
   },
   {
    "duration": 9,
    "start_time": "2022-12-18T11:13:16.969Z"
   },
   {
    "duration": 6,
    "start_time": "2022-12-18T11:13:16.979Z"
   },
   {
    "duration": 140,
    "start_time": "2022-12-18T11:13:16.986Z"
   },
   {
    "duration": 0,
    "start_time": "2022-12-18T11:13:17.128Z"
   },
   {
    "duration": 3,
    "start_time": "2022-12-18T11:30:51.472Z"
   },
   {
    "duration": 2886,
    "start_time": "2022-12-18T11:37:54.112Z"
   },
   {
    "duration": 1250,
    "start_time": "2022-12-18T11:38:01.050Z"
   },
   {
    "duration": 650,
    "start_time": "2022-12-18T11:38:02.302Z"
   },
   {
    "duration": 17,
    "start_time": "2022-12-18T11:38:02.953Z"
   },
   {
    "duration": 35,
    "start_time": "2022-12-18T11:38:02.971Z"
   },
   {
    "duration": 12,
    "start_time": "2022-12-18T11:38:03.007Z"
   },
   {
    "duration": 21,
    "start_time": "2022-12-18T11:38:03.021Z"
   },
   {
    "duration": 19,
    "start_time": "2022-12-18T11:38:03.044Z"
   },
   {
    "duration": 45,
    "start_time": "2022-12-18T11:38:03.065Z"
   },
   {
    "duration": 17,
    "start_time": "2022-12-18T11:38:03.112Z"
   },
   {
    "duration": 6,
    "start_time": "2022-12-18T11:38:03.132Z"
   },
   {
    "duration": 13,
    "start_time": "2022-12-18T11:38:03.140Z"
   },
   {
    "duration": 11,
    "start_time": "2022-12-18T11:38:03.155Z"
   },
   {
    "duration": 30,
    "start_time": "2022-12-18T11:38:03.167Z"
   },
   {
    "duration": 7,
    "start_time": "2022-12-18T11:38:03.199Z"
   },
   {
    "duration": 27,
    "start_time": "2022-12-18T11:38:03.207Z"
   },
   {
    "duration": 15,
    "start_time": "2022-12-18T11:38:03.235Z"
   },
   {
    "duration": 56,
    "start_time": "2022-12-18T11:38:03.252Z"
   },
   {
    "duration": 29,
    "start_time": "2022-12-18T11:38:03.309Z"
   },
   {
    "duration": 12,
    "start_time": "2022-12-18T11:38:03.340Z"
   },
   {
    "duration": 861,
    "start_time": "2022-12-18T11:38:03.354Z"
   },
   {
    "duration": 820,
    "start_time": "2022-12-18T11:38:04.217Z"
   },
   {
    "duration": 833,
    "start_time": "2022-12-18T11:38:05.038Z"
   },
   {
    "duration": 435,
    "start_time": "2022-12-18T11:38:05.873Z"
   },
   {
    "duration": 404,
    "start_time": "2022-12-18T11:38:06.310Z"
   },
   {
    "duration": 535,
    "start_time": "2022-12-18T11:38:06.715Z"
   },
   {
    "duration": 420,
    "start_time": "2022-12-18T11:38:07.252Z"
   },
   {
    "duration": 8,
    "start_time": "2022-12-18T11:38:07.674Z"
   },
   {
    "duration": 654,
    "start_time": "2022-12-18T11:38:07.697Z"
   },
   {
    "duration": 21,
    "start_time": "2022-12-18T11:38:08.353Z"
   },
   {
    "duration": 5,
    "start_time": "2022-12-18T11:38:08.376Z"
   },
   {
    "duration": 20,
    "start_time": "2022-12-18T11:38:08.383Z"
   },
   {
    "duration": 11,
    "start_time": "2022-12-18T11:38:08.405Z"
   },
   {
    "duration": 15,
    "start_time": "2022-12-18T11:38:08.417Z"
   },
   {
    "duration": 8,
    "start_time": "2022-12-18T11:38:08.433Z"
   },
   {
    "duration": 5,
    "start_time": "2022-12-18T11:38:08.442Z"
   },
   {
    "duration": 2653,
    "start_time": "2022-12-18T11:38:08.448Z"
   },
   {
    "duration": 4,
    "start_time": "2022-12-18T11:38:11.102Z"
   },
   {
    "duration": 2746,
    "start_time": "2022-12-18T11:38:46.753Z"
   },
   {
    "duration": 1677,
    "start_time": "2022-12-18T15:04:32.677Z"
   },
   {
    "duration": 2626,
    "start_time": "2022-12-18T15:04:34.357Z"
   },
   {
    "duration": 20,
    "start_time": "2022-12-18T15:04:36.985Z"
   },
   {
    "duration": 28,
    "start_time": "2022-12-18T15:04:37.008Z"
   },
   {
    "duration": 15,
    "start_time": "2022-12-18T15:04:37.038Z"
   },
   {
    "duration": 43,
    "start_time": "2022-12-18T15:04:37.055Z"
   },
   {
    "duration": 19,
    "start_time": "2022-12-18T15:04:37.100Z"
   },
   {
    "duration": 23,
    "start_time": "2022-12-18T15:04:37.121Z"
   },
   {
    "duration": 40,
    "start_time": "2022-12-18T15:04:37.146Z"
   },
   {
    "duration": 4,
    "start_time": "2022-12-18T15:04:37.189Z"
   },
   {
    "duration": 13,
    "start_time": "2022-12-18T15:04:37.195Z"
   },
   {
    "duration": 11,
    "start_time": "2022-12-18T15:04:37.210Z"
   },
   {
    "duration": 13,
    "start_time": "2022-12-18T15:04:37.222Z"
   },
   {
    "duration": 46,
    "start_time": "2022-12-18T15:04:37.236Z"
   },
   {
    "duration": 27,
    "start_time": "2022-12-18T15:04:37.284Z"
   },
   {
    "duration": 15,
    "start_time": "2022-12-18T15:04:37.313Z"
   },
   {
    "duration": 61,
    "start_time": "2022-12-18T15:04:37.329Z"
   },
   {
    "duration": 30,
    "start_time": "2022-12-18T15:04:37.392Z"
   },
   {
    "duration": 15,
    "start_time": "2022-12-18T15:04:37.423Z"
   },
   {
    "duration": 1086,
    "start_time": "2022-12-18T15:04:37.440Z"
   },
   {
    "duration": 907,
    "start_time": "2022-12-18T15:04:38.528Z"
   },
   {
    "duration": 996,
    "start_time": "2022-12-18T15:04:39.438Z"
   },
   {
    "duration": 519,
    "start_time": "2022-12-18T15:04:40.436Z"
   },
   {
    "duration": 515,
    "start_time": "2022-12-18T15:04:40.957Z"
   },
   {
    "duration": 684,
    "start_time": "2022-12-18T15:04:41.473Z"
   },
   {
    "duration": 513,
    "start_time": "2022-12-18T15:04:42.158Z"
   },
   {
    "duration": 11,
    "start_time": "2022-12-18T15:04:42.673Z"
   },
   {
    "duration": 875,
    "start_time": "2022-12-18T15:04:42.687Z"
   },
   {
    "duration": 31,
    "start_time": "2022-12-18T15:04:43.564Z"
   },
   {
    "duration": 8,
    "start_time": "2022-12-18T15:04:43.597Z"
   },
   {
    "duration": 12,
    "start_time": "2022-12-18T15:04:43.607Z"
   },
   {
    "duration": 14,
    "start_time": "2022-12-18T15:04:43.621Z"
   },
   {
    "duration": 11,
    "start_time": "2022-12-18T15:04:43.636Z"
   },
   {
    "duration": 7,
    "start_time": "2022-12-18T15:04:43.648Z"
   },
   {
    "duration": 22,
    "start_time": "2022-12-18T15:04:43.657Z"
   },
   {
    "duration": 19,
    "start_time": "2022-12-18T15:04:43.681Z"
   },
   {
    "duration": 8,
    "start_time": "2022-12-18T15:04:43.702Z"
   },
   {
    "duration": 5,
    "start_time": "2022-12-18T15:04:43.711Z"
   },
   {
    "duration": 1827,
    "start_time": "2022-12-18T15:12:57.552Z"
   },
   {
    "duration": 1547,
    "start_time": "2022-12-18T15:14:53.535Z"
   },
   {
    "duration": 1365,
    "start_time": "2022-12-18T15:17:27.717Z"
   },
   {
    "duration": 47,
    "start_time": "2022-12-18T15:17:54.155Z"
   },
   {
    "duration": 1578,
    "start_time": "2022-12-18T15:18:01.201Z"
   },
   {
    "duration": 1482,
    "start_time": "2022-12-18T15:20:18.802Z"
   },
   {
    "duration": 1202,
    "start_time": "2022-12-18T15:20:34.588Z"
   },
   {
    "duration": 120,
    "start_time": "2022-12-18T15:21:15.028Z"
   },
   {
    "duration": 1282,
    "start_time": "2022-12-18T15:22:12.097Z"
   },
   {
    "duration": 5,
    "start_time": "2022-12-18T15:22:16.246Z"
   },
   {
    "duration": 3,
    "start_time": "2022-12-18T15:23:25.638Z"
   },
   {
    "duration": 1480,
    "start_time": "2022-12-18T15:44:22.817Z"
   },
   {
    "duration": 739,
    "start_time": "2022-12-18T15:44:24.299Z"
   },
   {
    "duration": 21,
    "start_time": "2022-12-18T15:44:25.040Z"
   },
   {
    "duration": 36,
    "start_time": "2022-12-18T15:44:25.064Z"
   },
   {
    "duration": 32,
    "start_time": "2022-12-18T15:44:25.102Z"
   },
   {
    "duration": 24,
    "start_time": "2022-12-18T15:44:25.136Z"
   },
   {
    "duration": 39,
    "start_time": "2022-12-18T15:44:25.162Z"
   },
   {
    "duration": 21,
    "start_time": "2022-12-18T15:44:25.203Z"
   },
   {
    "duration": 16,
    "start_time": "2022-12-18T15:44:25.227Z"
   },
   {
    "duration": 21,
    "start_time": "2022-12-18T15:44:25.246Z"
   },
   {
    "duration": 28,
    "start_time": "2022-12-18T15:44:25.269Z"
   },
   {
    "duration": 21,
    "start_time": "2022-12-18T15:44:25.298Z"
   },
   {
    "duration": 40,
    "start_time": "2022-12-18T15:44:25.321Z"
   },
   {
    "duration": 18,
    "start_time": "2022-12-18T15:44:25.364Z"
   },
   {
    "duration": 42,
    "start_time": "2022-12-18T15:44:25.384Z"
   },
   {
    "duration": 13,
    "start_time": "2022-12-18T15:44:25.428Z"
   },
   {
    "duration": 45,
    "start_time": "2022-12-18T15:44:25.443Z"
   },
   {
    "duration": 37,
    "start_time": "2022-12-18T15:44:25.489Z"
   },
   {
    "duration": 15,
    "start_time": "2022-12-18T15:44:25.528Z"
   },
   {
    "duration": 1002,
    "start_time": "2022-12-18T15:44:25.545Z"
   },
   {
    "duration": 873,
    "start_time": "2022-12-18T15:44:26.549Z"
   },
   {
    "duration": 1114,
    "start_time": "2022-12-18T15:44:27.424Z"
   },
   {
    "duration": 527,
    "start_time": "2022-12-18T15:44:28.540Z"
   },
   {
    "duration": 495,
    "start_time": "2022-12-18T15:44:29.069Z"
   },
   {
    "duration": 689,
    "start_time": "2022-12-18T15:44:29.566Z"
   },
   {
    "duration": 537,
    "start_time": "2022-12-18T15:44:30.258Z"
   },
   {
    "duration": 12,
    "start_time": "2022-12-18T15:44:30.797Z"
   },
   {
    "duration": 843,
    "start_time": "2022-12-18T15:44:30.814Z"
   },
   {
    "duration": 33,
    "start_time": "2022-12-18T15:44:31.659Z"
   },
   {
    "duration": 6,
    "start_time": "2022-12-18T15:44:31.694Z"
   },
   {
    "duration": 11,
    "start_time": "2022-12-18T15:44:31.702Z"
   },
   {
    "duration": 15,
    "start_time": "2022-12-18T15:44:31.715Z"
   },
   {
    "duration": 8,
    "start_time": "2022-12-18T15:44:31.732Z"
   },
   {
    "duration": 8,
    "start_time": "2022-12-18T15:44:31.742Z"
   },
   {
    "duration": 6,
    "start_time": "2022-12-18T15:44:31.752Z"
   },
   {
    "duration": 19,
    "start_time": "2022-12-18T15:44:31.759Z"
   },
   {
    "duration": 7,
    "start_time": "2022-12-18T15:44:31.781Z"
   },
   {
    "duration": 1799,
    "start_time": "2022-12-18T15:44:31.789Z"
   },
   {
    "duration": 1716,
    "start_time": "2022-12-18T15:44:33.677Z"
   },
   {
    "duration": 7,
    "start_time": "2022-12-18T15:44:35.480Z"
   },
   {
    "duration": 222,
    "start_time": "2022-12-18T15:44:35.489Z"
   },
   {
    "duration": 0,
    "start_time": "2022-12-18T15:44:35.713Z"
   },
   {
    "duration": 6216,
    "start_time": "2022-12-18T15:45:00.549Z"
   },
   {
    "duration": 1551,
    "start_time": "2022-12-18T15:45:24.217Z"
   },
   {
    "duration": 15978,
    "start_time": "2022-12-18T15:52:13.614Z"
   },
   {
    "duration": 1543,
    "start_time": "2022-12-18T16:04:04.112Z"
   },
   {
    "duration": 823,
    "start_time": "2022-12-18T16:04:05.657Z"
   },
   {
    "duration": 21,
    "start_time": "2022-12-18T16:04:06.482Z"
   },
   {
    "duration": 45,
    "start_time": "2022-12-18T16:04:06.505Z"
   },
   {
    "duration": 25,
    "start_time": "2022-12-18T16:04:06.552Z"
   },
   {
    "duration": 26,
    "start_time": "2022-12-18T16:04:06.579Z"
   },
   {
    "duration": 40,
    "start_time": "2022-12-18T16:04:06.607Z"
   },
   {
    "duration": 29,
    "start_time": "2022-12-18T16:04:06.650Z"
   },
   {
    "duration": 29,
    "start_time": "2022-12-18T16:04:06.681Z"
   },
   {
    "duration": 36,
    "start_time": "2022-12-18T16:04:06.712Z"
   },
   {
    "duration": 27,
    "start_time": "2022-12-18T16:04:06.750Z"
   },
   {
    "duration": 35,
    "start_time": "2022-12-18T16:04:06.779Z"
   },
   {
    "duration": 57,
    "start_time": "2022-12-18T16:04:06.816Z"
   },
   {
    "duration": 38,
    "start_time": "2022-12-18T16:04:06.876Z"
   },
   {
    "duration": 40,
    "start_time": "2022-12-18T16:04:06.916Z"
   },
   {
    "duration": 28,
    "start_time": "2022-12-18T16:04:06.958Z"
   },
   {
    "duration": 53,
    "start_time": "2022-12-18T16:04:06.988Z"
   },
   {
    "duration": 55,
    "start_time": "2022-12-18T16:04:07.043Z"
   },
   {
    "duration": 15,
    "start_time": "2022-12-18T16:04:07.100Z"
   },
   {
    "duration": 1060,
    "start_time": "2022-12-18T16:04:07.117Z"
   },
   {
    "duration": 1041,
    "start_time": "2022-12-18T16:04:08.180Z"
   },
   {
    "duration": 1045,
    "start_time": "2022-12-18T16:04:09.224Z"
   },
   {
    "duration": 526,
    "start_time": "2022-12-18T16:04:10.271Z"
   },
   {
    "duration": 537,
    "start_time": "2022-12-18T16:04:10.799Z"
   },
   {
    "duration": 735,
    "start_time": "2022-12-18T16:04:11.338Z"
   },
   {
    "duration": 535,
    "start_time": "2022-12-18T16:04:12.077Z"
   },
   {
    "duration": 8,
    "start_time": "2022-12-18T16:04:12.614Z"
   },
   {
    "duration": 846,
    "start_time": "2022-12-18T16:04:12.624Z"
   },
   {
    "duration": 33,
    "start_time": "2022-12-18T16:04:13.472Z"
   },
   {
    "duration": 8,
    "start_time": "2022-12-18T16:04:13.507Z"
   },
   {
    "duration": 14,
    "start_time": "2022-12-18T16:04:13.517Z"
   },
   {
    "duration": 24,
    "start_time": "2022-12-18T16:04:13.533Z"
   },
   {
    "duration": 20,
    "start_time": "2022-12-18T16:04:13.560Z"
   },
   {
    "duration": 8,
    "start_time": "2022-12-18T16:04:13.582Z"
   },
   {
    "duration": 6,
    "start_time": "2022-12-18T16:04:13.592Z"
   },
   {
    "duration": 11,
    "start_time": "2022-12-18T16:04:13.600Z"
   },
   {
    "duration": 9,
    "start_time": "2022-12-18T16:04:13.613Z"
   },
   {
    "duration": 1753,
    "start_time": "2022-12-18T16:04:13.625Z"
   },
   {
    "duration": 1610,
    "start_time": "2022-12-18T16:04:15.384Z"
   },
   {
    "duration": 83,
    "start_time": "2022-12-18T16:04:16.997Z"
   },
   {
    "duration": 16611,
    "start_time": "2022-12-18T16:04:17.086Z"
   },
   {
    "duration": 3,
    "start_time": "2022-12-18T16:04:33.699Z"
   },
   {
    "duration": 12816,
    "start_time": "2022-12-18T16:05:59.081Z"
   },
   {
    "duration": 1491,
    "start_time": "2022-12-18T16:18:29.523Z"
   },
   {
    "duration": 730,
    "start_time": "2022-12-18T16:18:31.017Z"
   },
   {
    "duration": 29,
    "start_time": "2022-12-18T16:18:31.749Z"
   },
   {
    "duration": 28,
    "start_time": "2022-12-18T16:18:31.780Z"
   },
   {
    "duration": 16,
    "start_time": "2022-12-18T16:18:31.811Z"
   },
   {
    "duration": 57,
    "start_time": "2022-12-18T16:18:31.829Z"
   },
   {
    "duration": 45,
    "start_time": "2022-12-18T16:18:31.888Z"
   },
   {
    "duration": 34,
    "start_time": "2022-12-18T16:18:31.935Z"
   },
   {
    "duration": 16,
    "start_time": "2022-12-18T16:18:31.970Z"
   },
   {
    "duration": 9,
    "start_time": "2022-12-18T16:18:31.987Z"
   },
   {
    "duration": 27,
    "start_time": "2022-12-18T16:18:31.998Z"
   },
   {
    "duration": 12,
    "start_time": "2022-12-18T16:18:32.028Z"
   },
   {
    "duration": 23,
    "start_time": "2022-12-18T16:18:32.041Z"
   },
   {
    "duration": 11,
    "start_time": "2022-12-18T16:18:32.081Z"
   },
   {
    "duration": 37,
    "start_time": "2022-12-18T16:18:32.094Z"
   },
   {
    "duration": 20,
    "start_time": "2022-12-18T16:18:32.134Z"
   },
   {
    "duration": 50,
    "start_time": "2022-12-18T16:18:32.156Z"
   },
   {
    "duration": 32,
    "start_time": "2022-12-18T16:18:32.207Z"
   },
   {
    "duration": 43,
    "start_time": "2022-12-18T16:18:32.242Z"
   },
   {
    "duration": 1011,
    "start_time": "2022-12-18T16:18:32.287Z"
   },
   {
    "duration": 971,
    "start_time": "2022-12-18T16:18:33.301Z"
   },
   {
    "duration": 989,
    "start_time": "2022-12-18T16:18:34.273Z"
   },
   {
    "duration": 543,
    "start_time": "2022-12-18T16:18:35.264Z"
   },
   {
    "duration": 553,
    "start_time": "2022-12-18T16:18:35.809Z"
   },
   {
    "duration": 698,
    "start_time": "2022-12-18T16:18:36.364Z"
   },
   {
    "duration": 549,
    "start_time": "2022-12-18T16:18:37.063Z"
   },
   {
    "duration": 9,
    "start_time": "2022-12-18T16:18:37.615Z"
   },
   {
    "duration": 989,
    "start_time": "2022-12-18T16:18:37.625Z"
   },
   {
    "duration": 32,
    "start_time": "2022-12-18T16:18:38.617Z"
   },
   {
    "duration": 13,
    "start_time": "2022-12-18T16:18:38.651Z"
   },
   {
    "duration": 29,
    "start_time": "2022-12-18T16:18:38.679Z"
   },
   {
    "duration": 58,
    "start_time": "2022-12-18T16:18:38.711Z"
   },
   {
    "duration": 13,
    "start_time": "2022-12-18T16:18:38.771Z"
   },
   {
    "duration": 12,
    "start_time": "2022-12-18T16:18:38.786Z"
   },
   {
    "duration": 6,
    "start_time": "2022-12-18T16:18:38.800Z"
   },
   {
    "duration": 8,
    "start_time": "2022-12-18T16:18:38.807Z"
   },
   {
    "duration": 5,
    "start_time": "2022-12-18T16:18:38.817Z"
   },
   {
    "duration": 2156,
    "start_time": "2022-12-18T16:18:38.823Z"
   },
   {
    "duration": 2906,
    "start_time": "2022-12-18T16:18:40.981Z"
   },
   {
    "duration": 89,
    "start_time": "2022-12-18T16:18:43.890Z"
   },
   {
    "duration": 12990,
    "start_time": "2022-12-18T16:18:43.983Z"
   },
   {
    "duration": 3,
    "start_time": "2022-12-18T16:18:56.977Z"
   },
   {
    "duration": 12919,
    "start_time": "2022-12-18T16:19:31.782Z"
   },
   {
    "duration": 1558,
    "start_time": "2022-12-18T20:45:09.532Z"
   },
   {
    "duration": 2640,
    "start_time": "2022-12-18T20:45:11.093Z"
   },
   {
    "duration": 18,
    "start_time": "2022-12-18T20:45:13.735Z"
   },
   {
    "duration": 27,
    "start_time": "2022-12-18T20:45:13.755Z"
   },
   {
    "duration": 14,
    "start_time": "2022-12-18T20:45:13.784Z"
   },
   {
    "duration": 31,
    "start_time": "2022-12-18T20:45:13.800Z"
   },
   {
    "duration": 19,
    "start_time": "2022-12-18T20:45:13.833Z"
   },
   {
    "duration": 22,
    "start_time": "2022-12-18T20:45:13.854Z"
   },
   {
    "duration": 36,
    "start_time": "2022-12-18T20:45:13.878Z"
   },
   {
    "duration": 5,
    "start_time": "2022-12-18T20:45:13.916Z"
   },
   {
    "duration": 12,
    "start_time": "2022-12-18T20:45:13.922Z"
   },
   {
    "duration": 8,
    "start_time": "2022-12-18T20:45:13.936Z"
   },
   {
    "duration": 13,
    "start_time": "2022-12-18T20:45:13.945Z"
   },
   {
    "duration": 7,
    "start_time": "2022-12-18T20:45:13.961Z"
   },
   {
    "duration": 58,
    "start_time": "2022-12-18T20:45:13.970Z"
   },
   {
    "duration": 12,
    "start_time": "2022-12-18T20:45:14.030Z"
   },
   {
    "duration": 27,
    "start_time": "2022-12-18T20:45:14.044Z"
   },
   {
    "duration": 50,
    "start_time": "2022-12-18T20:45:14.073Z"
   },
   {
    "duration": 12,
    "start_time": "2022-12-18T20:45:14.125Z"
   },
   {
    "duration": 1016,
    "start_time": "2022-12-18T20:45:14.138Z"
   },
   {
    "duration": 826,
    "start_time": "2022-12-18T20:45:15.156Z"
   },
   {
    "duration": 1055,
    "start_time": "2022-12-18T20:45:15.984Z"
   },
   {
    "duration": 531,
    "start_time": "2022-12-18T20:45:17.040Z"
   },
   {
    "duration": 480,
    "start_time": "2022-12-18T20:45:17.573Z"
   },
   {
    "duration": 634,
    "start_time": "2022-12-18T20:45:18.055Z"
   },
   {
    "duration": 544,
    "start_time": "2022-12-18T20:45:18.691Z"
   },
   {
    "duration": 8,
    "start_time": "2022-12-18T20:45:19.237Z"
   },
   {
    "duration": 802,
    "start_time": "2022-12-18T20:45:19.246Z"
   },
   {
    "duration": 25,
    "start_time": "2022-12-18T20:45:20.050Z"
   },
   {
    "duration": 6,
    "start_time": "2022-12-18T20:45:20.077Z"
   },
   {
    "duration": 10,
    "start_time": "2022-12-18T20:45:20.084Z"
   },
   {
    "duration": 23,
    "start_time": "2022-12-18T20:45:20.096Z"
   },
   {
    "duration": 8,
    "start_time": "2022-12-18T20:45:20.120Z"
   },
   {
    "duration": 10,
    "start_time": "2022-12-18T20:45:20.130Z"
   },
   {
    "duration": 7,
    "start_time": "2022-12-18T20:45:20.141Z"
   },
   {
    "duration": 10,
    "start_time": "2022-12-18T20:45:20.150Z"
   },
   {
    "duration": 10,
    "start_time": "2022-12-18T20:45:20.162Z"
   },
   {
    "duration": 1642,
    "start_time": "2022-12-18T20:45:20.174Z"
   },
   {
    "duration": 1402,
    "start_time": "2022-12-18T20:45:21.818Z"
   },
   {
    "duration": 4,
    "start_time": "2022-12-18T20:45:23.224Z"
   },
   {
    "duration": 12310,
    "start_time": "2022-12-18T20:45:23.232Z"
   },
   {
    "duration": 2,
    "start_time": "2022-12-18T20:45:35.544Z"
   },
   {
    "duration": 44338,
    "start_time": "2022-12-18T20:45:54.264Z"
   },
   {
    "duration": 34624,
    "start_time": "2022-12-18T20:49:15.137Z"
   },
   {
    "duration": 72350,
    "start_time": "2022-12-18T20:51:52.203Z"
   },
   {
    "duration": 4,
    "start_time": "2022-12-18T20:53:41.615Z"
   },
   {
    "duration": 3,
    "start_time": "2022-12-18T20:55:50.866Z"
   },
   {
    "duration": 1399,
    "start_time": "2022-12-18T21:10:08.422Z"
   },
   {
    "duration": 695,
    "start_time": "2022-12-18T21:10:09.824Z"
   },
   {
    "duration": 20,
    "start_time": "2022-12-18T21:10:10.521Z"
   },
   {
    "duration": 26,
    "start_time": "2022-12-18T21:10:10.544Z"
   },
   {
    "duration": 40,
    "start_time": "2022-12-18T21:10:10.573Z"
   },
   {
    "duration": 21,
    "start_time": "2022-12-18T21:10:10.615Z"
   },
   {
    "duration": 18,
    "start_time": "2022-12-18T21:10:10.639Z"
   },
   {
    "duration": 21,
    "start_time": "2022-12-18T21:10:10.659Z"
   },
   {
    "duration": 35,
    "start_time": "2022-12-18T21:10:10.682Z"
   },
   {
    "duration": 5,
    "start_time": "2022-12-18T21:10:10.720Z"
   },
   {
    "duration": 12,
    "start_time": "2022-12-18T21:10:10.727Z"
   },
   {
    "duration": 10,
    "start_time": "2022-12-18T21:10:10.741Z"
   },
   {
    "duration": 12,
    "start_time": "2022-12-18T21:10:10.753Z"
   },
   {
    "duration": 11,
    "start_time": "2022-12-18T21:10:10.767Z"
   },
   {
    "duration": 57,
    "start_time": "2022-12-18T21:10:10.780Z"
   },
   {
    "duration": 12,
    "start_time": "2022-12-18T21:10:10.839Z"
   },
   {
    "duration": 27,
    "start_time": "2022-12-18T21:10:10.853Z"
   },
   {
    "duration": 50,
    "start_time": "2022-12-18T21:10:10.882Z"
   },
   {
    "duration": 14,
    "start_time": "2022-12-18T21:10:10.934Z"
   },
   {
    "duration": 975,
    "start_time": "2022-12-18T21:10:10.950Z"
   },
   {
    "duration": 883,
    "start_time": "2022-12-18T21:10:11.927Z"
   },
   {
    "duration": 993,
    "start_time": "2022-12-18T21:10:12.812Z"
   },
   {
    "duration": 500,
    "start_time": "2022-12-18T21:10:13.812Z"
   },
   {
    "duration": 508,
    "start_time": "2022-12-18T21:10:14.314Z"
   },
   {
    "duration": 696,
    "start_time": "2022-12-18T21:10:14.824Z"
   },
   {
    "duration": 517,
    "start_time": "2022-12-18T21:10:15.522Z"
   },
   {
    "duration": 10,
    "start_time": "2022-12-18T21:10:16.041Z"
   },
   {
    "duration": 829,
    "start_time": "2022-12-18T21:10:16.056Z"
   },
   {
    "duration": 33,
    "start_time": "2022-12-18T21:10:16.886Z"
   },
   {
    "duration": 7,
    "start_time": "2022-12-18T21:10:16.921Z"
   },
   {
    "duration": 14,
    "start_time": "2022-12-18T21:10:16.930Z"
   },
   {
    "duration": 12,
    "start_time": "2022-12-18T21:10:16.946Z"
   },
   {
    "duration": 5,
    "start_time": "2022-12-18T21:10:16.960Z"
   },
   {
    "duration": 5,
    "start_time": "2022-12-18T21:10:16.967Z"
   },
   {
    "duration": 7,
    "start_time": "2022-12-18T21:10:16.974Z"
   },
   {
    "duration": 10,
    "start_time": "2022-12-18T21:10:16.984Z"
   },
   {
    "duration": 16,
    "start_time": "2022-12-18T21:10:16.996Z"
   },
   {
    "duration": 1803,
    "start_time": "2022-12-18T21:10:17.014Z"
   },
   {
    "duration": 1694,
    "start_time": "2022-12-18T21:10:18.819Z"
   },
   {
    "duration": 4,
    "start_time": "2022-12-18T21:10:20.515Z"
   },
   {
    "duration": 12316,
    "start_time": "2022-12-18T21:10:20.521Z"
   },
   {
    "duration": 20168,
    "start_time": "2022-12-18T21:10:32.839Z"
   },
   {
    "duration": 5,
    "start_time": "2022-12-18T21:10:53.009Z"
   },
   {
    "duration": 1489,
    "start_time": "2022-12-18T21:13:55.210Z"
   },
   {
    "duration": 686,
    "start_time": "2022-12-18T21:13:56.701Z"
   },
   {
    "duration": 26,
    "start_time": "2022-12-18T21:13:57.389Z"
   },
   {
    "duration": 33,
    "start_time": "2022-12-18T21:13:57.417Z"
   },
   {
    "duration": 14,
    "start_time": "2022-12-18T21:13:57.452Z"
   },
   {
    "duration": 20,
    "start_time": "2022-12-18T21:13:57.468Z"
   },
   {
    "duration": 18,
    "start_time": "2022-12-18T21:13:57.512Z"
   },
   {
    "duration": 25,
    "start_time": "2022-12-18T21:13:57.532Z"
   },
   {
    "duration": 12,
    "start_time": "2022-12-18T21:13:57.559Z"
   },
   {
    "duration": 5,
    "start_time": "2022-12-18T21:13:57.574Z"
   },
   {
    "duration": 43,
    "start_time": "2022-12-18T21:13:57.581Z"
   },
   {
    "duration": 8,
    "start_time": "2022-12-18T21:13:57.626Z"
   },
   {
    "duration": 13,
    "start_time": "2022-12-18T21:13:57.635Z"
   },
   {
    "duration": 8,
    "start_time": "2022-12-18T21:13:57.650Z"
   },
   {
    "duration": 54,
    "start_time": "2022-12-18T21:13:57.659Z"
   },
   {
    "duration": 13,
    "start_time": "2022-12-18T21:13:57.715Z"
   },
   {
    "duration": 28,
    "start_time": "2022-12-18T21:13:57.730Z"
   },
   {
    "duration": 60,
    "start_time": "2022-12-18T21:13:57.760Z"
   },
   {
    "duration": 15,
    "start_time": "2022-12-18T21:13:57.822Z"
   },
   {
    "duration": 995,
    "start_time": "2022-12-18T21:13:57.838Z"
   },
   {
    "duration": 849,
    "start_time": "2022-12-18T21:13:58.835Z"
   },
   {
    "duration": 1001,
    "start_time": "2022-12-18T21:13:59.686Z"
   },
   {
    "duration": 542,
    "start_time": "2022-12-18T21:14:00.689Z"
   },
   {
    "duration": 498,
    "start_time": "2022-12-18T21:14:01.233Z"
   },
   {
    "duration": 725,
    "start_time": "2022-12-18T21:14:01.734Z"
   },
   {
    "duration": 504,
    "start_time": "2022-12-18T21:14:02.461Z"
   },
   {
    "duration": 9,
    "start_time": "2022-12-18T21:14:02.967Z"
   },
   {
    "duration": 812,
    "start_time": "2022-12-18T21:14:02.981Z"
   },
   {
    "duration": 31,
    "start_time": "2022-12-18T21:14:03.795Z"
   },
   {
    "duration": 7,
    "start_time": "2022-12-18T21:14:03.827Z"
   },
   {
    "duration": 13,
    "start_time": "2022-12-18T21:14:03.835Z"
   },
   {
    "duration": 18,
    "start_time": "2022-12-18T21:14:03.850Z"
   },
   {
    "duration": 7,
    "start_time": "2022-12-18T21:14:03.870Z"
   },
   {
    "duration": 6,
    "start_time": "2022-12-18T21:14:03.878Z"
   },
   {
    "duration": 7,
    "start_time": "2022-12-18T21:14:03.885Z"
   },
   {
    "duration": 28,
    "start_time": "2022-12-18T21:14:03.894Z"
   },
   {
    "duration": 10,
    "start_time": "2022-12-18T21:14:03.923Z"
   },
   {
    "duration": 1594,
    "start_time": "2022-12-18T21:14:03.934Z"
   },
   {
    "duration": 1596,
    "start_time": "2022-12-18T21:14:05.529Z"
   },
   {
    "duration": 87,
    "start_time": "2022-12-18T21:14:07.127Z"
   },
   {
    "duration": 12385,
    "start_time": "2022-12-18T21:14:07.216Z"
   },
   {
    "duration": 20072,
    "start_time": "2022-12-18T21:14:19.603Z"
   },
   {
    "duration": 4,
    "start_time": "2022-12-18T21:14:39.676Z"
   },
   {
    "duration": 938180,
    "start_time": "2022-12-18T21:23:09.652Z"
   },
   {
    "duration": 5,
    "start_time": "2022-12-18T21:38:47.833Z"
   },
   {
    "duration": 18,
    "start_time": "2022-12-18T21:38:47.840Z"
   },
   {
    "duration": 137,
    "start_time": "2022-12-18T21:40:49.176Z"
   },
   {
    "duration": 0,
    "start_time": "2022-12-18T21:40:49.318Z"
   },
   {
    "duration": 1312,
    "start_time": "2022-12-18T21:57:48.947Z"
   },
   {
    "duration": 702,
    "start_time": "2022-12-18T21:57:50.261Z"
   },
   {
    "duration": 16,
    "start_time": "2022-12-18T21:57:50.965Z"
   },
   {
    "duration": 32,
    "start_time": "2022-12-18T21:57:50.983Z"
   },
   {
    "duration": 12,
    "start_time": "2022-12-18T21:57:51.017Z"
   },
   {
    "duration": 21,
    "start_time": "2022-12-18T21:57:51.030Z"
   },
   {
    "duration": 20,
    "start_time": "2022-12-18T21:57:51.053Z"
   },
   {
    "duration": 49,
    "start_time": "2022-12-18T21:57:51.075Z"
   },
   {
    "duration": 11,
    "start_time": "2022-12-18T21:57:51.126Z"
   },
   {
    "duration": 5,
    "start_time": "2022-12-18T21:57:51.138Z"
   },
   {
    "duration": 12,
    "start_time": "2022-12-18T21:57:51.145Z"
   },
   {
    "duration": 9,
    "start_time": "2022-12-18T21:57:51.159Z"
   },
   {
    "duration": 43,
    "start_time": "2022-12-18T21:57:51.170Z"
   },
   {
    "duration": 7,
    "start_time": "2022-12-18T21:57:51.216Z"
   },
   {
    "duration": 25,
    "start_time": "2022-12-18T21:57:51.224Z"
   },
   {
    "duration": 14,
    "start_time": "2022-12-18T21:57:51.250Z"
   },
   {
    "duration": 53,
    "start_time": "2022-12-18T21:57:51.265Z"
   },
   {
    "duration": 28,
    "start_time": "2022-12-18T21:57:51.320Z"
   },
   {
    "duration": 13,
    "start_time": "2022-12-18T21:57:51.349Z"
   },
   {
    "duration": 915,
    "start_time": "2022-12-18T21:57:51.363Z"
   },
   {
    "duration": 824,
    "start_time": "2022-12-18T21:57:52.279Z"
   },
   {
    "duration": 918,
    "start_time": "2022-12-18T21:57:53.105Z"
   },
   {
    "duration": 506,
    "start_time": "2022-12-18T21:57:54.025Z"
   },
   {
    "duration": 505,
    "start_time": "2022-12-18T21:57:54.533Z"
   },
   {
    "duration": 657,
    "start_time": "2022-12-18T21:57:55.040Z"
   },
   {
    "duration": 518,
    "start_time": "2022-12-18T21:57:55.699Z"
   },
   {
    "duration": 8,
    "start_time": "2022-12-18T21:57:56.219Z"
   },
   {
    "duration": 834,
    "start_time": "2022-12-18T21:57:56.228Z"
   },
   {
    "duration": 24,
    "start_time": "2022-12-18T21:57:57.064Z"
   },
   {
    "duration": 6,
    "start_time": "2022-12-18T21:57:57.090Z"
   },
   {
    "duration": 6,
    "start_time": "2022-12-18T21:57:57.111Z"
   },
   {
    "duration": 12,
    "start_time": "2022-12-18T21:57:57.118Z"
   },
   {
    "duration": 5,
    "start_time": "2022-12-18T21:57:57.132Z"
   },
   {
    "duration": 5,
    "start_time": "2022-12-18T21:57:57.139Z"
   },
   {
    "duration": 5,
    "start_time": "2022-12-18T21:57:57.145Z"
   },
   {
    "duration": 7,
    "start_time": "2022-12-18T21:57:57.151Z"
   },
   {
    "duration": 5,
    "start_time": "2022-12-18T21:57:57.160Z"
   },
   {
    "duration": 1552,
    "start_time": "2022-12-18T21:57:57.166Z"
   },
   {
    "duration": 1800,
    "start_time": "2022-12-18T21:57:58.720Z"
   },
   {
    "duration": 5,
    "start_time": "2022-12-18T21:58:00.522Z"
   },
   {
    "duration": 11881,
    "start_time": "2022-12-18T21:58:00.615Z"
   },
   {
    "duration": 19728,
    "start_time": "2022-12-18T21:58:12.498Z"
   },
   {
    "duration": 4,
    "start_time": "2022-12-18T21:58:32.228Z"
   },
   {
    "duration": 1435,
    "start_time": "2022-12-18T22:04:57.495Z"
   },
   {
    "duration": 739,
    "start_time": "2022-12-18T22:04:58.933Z"
   },
   {
    "duration": 27,
    "start_time": "2022-12-18T22:04:59.673Z"
   },
   {
    "duration": 33,
    "start_time": "2022-12-18T22:04:59.702Z"
   },
   {
    "duration": 22,
    "start_time": "2022-12-18T22:04:59.741Z"
   },
   {
    "duration": 54,
    "start_time": "2022-12-18T22:04:59.765Z"
   },
   {
    "duration": 32,
    "start_time": "2022-12-18T22:04:59.821Z"
   },
   {
    "duration": 29,
    "start_time": "2022-12-18T22:04:59.856Z"
   },
   {
    "duration": 31,
    "start_time": "2022-12-18T22:04:59.887Z"
   },
   {
    "duration": 10,
    "start_time": "2022-12-18T22:04:59.920Z"
   },
   {
    "duration": 19,
    "start_time": "2022-12-18T22:04:59.932Z"
   },
   {
    "duration": 28,
    "start_time": "2022-12-18T22:04:59.953Z"
   },
   {
    "duration": 22,
    "start_time": "2022-12-18T22:04:59.984Z"
   },
   {
    "duration": 18,
    "start_time": "2022-12-18T22:05:00.010Z"
   },
   {
    "duration": 41,
    "start_time": "2022-12-18T22:05:00.030Z"
   },
   {
    "duration": 16,
    "start_time": "2022-12-18T22:05:00.073Z"
   },
   {
    "duration": 53,
    "start_time": "2022-12-18T22:05:00.091Z"
   },
   {
    "duration": 29,
    "start_time": "2022-12-18T22:05:00.146Z"
   },
   {
    "duration": 40,
    "start_time": "2022-12-18T22:05:00.177Z"
   },
   {
    "duration": 1018,
    "start_time": "2022-12-18T22:05:00.221Z"
   },
   {
    "duration": 876,
    "start_time": "2022-12-18T22:05:01.242Z"
   },
   {
    "duration": 1136,
    "start_time": "2022-12-18T22:05:02.120Z"
   },
   {
    "duration": 569,
    "start_time": "2022-12-18T22:05:03.258Z"
   },
   {
    "duration": 523,
    "start_time": "2022-12-18T22:05:03.830Z"
   },
   {
    "duration": 745,
    "start_time": "2022-12-18T22:05:04.356Z"
   },
   {
    "duration": 542,
    "start_time": "2022-12-18T22:05:05.103Z"
   },
   {
    "duration": 9,
    "start_time": "2022-12-18T22:05:05.647Z"
   },
   {
    "duration": 981,
    "start_time": "2022-12-18T22:05:05.658Z"
   },
   {
    "duration": 35,
    "start_time": "2022-12-18T22:05:06.641Z"
   },
   {
    "duration": 7,
    "start_time": "2022-12-18T22:05:06.679Z"
   },
   {
    "duration": 25,
    "start_time": "2022-12-18T22:05:06.688Z"
   },
   {
    "duration": 14,
    "start_time": "2022-12-18T22:05:06.715Z"
   },
   {
    "duration": 6,
    "start_time": "2022-12-18T22:05:06.732Z"
   },
   {
    "duration": 6,
    "start_time": "2022-12-18T22:05:06.739Z"
   },
   {
    "duration": 7,
    "start_time": "2022-12-18T22:05:06.747Z"
   },
   {
    "duration": 9,
    "start_time": "2022-12-18T22:05:06.756Z"
   },
   {
    "duration": 34,
    "start_time": "2022-12-18T22:05:06.766Z"
   },
   {
    "duration": 1814,
    "start_time": "2022-12-18T22:05:06.802Z"
   },
   {
    "duration": 1307,
    "start_time": "2022-12-18T22:05:08.618Z"
   },
   {
    "duration": 86,
    "start_time": "2022-12-18T22:05:09.928Z"
   },
   {
    "duration": 13203,
    "start_time": "2022-12-18T22:05:10.020Z"
   },
   {
    "duration": 20640,
    "start_time": "2022-12-18T22:05:23.225Z"
   },
   {
    "duration": 4,
    "start_time": "2022-12-18T22:05:43.867Z"
   },
   {
    "duration": 31342,
    "start_time": "2022-12-18T22:05:43.873Z"
   },
   {
    "duration": 1392,
    "start_time": "2022-12-18T22:13:03.610Z"
   },
   {
    "duration": 705,
    "start_time": "2022-12-18T22:13:05.004Z"
   },
   {
    "duration": 17,
    "start_time": "2022-12-18T22:13:05.712Z"
   },
   {
    "duration": 24,
    "start_time": "2022-12-18T22:13:05.731Z"
   },
   {
    "duration": 13,
    "start_time": "2022-12-18T22:13:05.757Z"
   },
   {
    "duration": 49,
    "start_time": "2022-12-18T22:13:05.772Z"
   },
   {
    "duration": 19,
    "start_time": "2022-12-18T22:13:05.823Z"
   },
   {
    "duration": 22,
    "start_time": "2022-12-18T22:13:05.844Z"
   },
   {
    "duration": 10,
    "start_time": "2022-12-18T22:13:05.868Z"
   },
   {
    "duration": 34,
    "start_time": "2022-12-18T22:13:05.880Z"
   },
   {
    "duration": 12,
    "start_time": "2022-12-18T22:13:05.916Z"
   },
   {
    "duration": 12,
    "start_time": "2022-12-18T22:13:05.929Z"
   },
   {
    "duration": 14,
    "start_time": "2022-12-18T22:13:05.943Z"
   },
   {
    "duration": 11,
    "start_time": "2022-12-18T22:13:05.962Z"
   },
   {
    "duration": 53,
    "start_time": "2022-12-18T22:13:05.975Z"
   },
   {
    "duration": 15,
    "start_time": "2022-12-18T22:13:06.030Z"
   },
   {
    "duration": 28,
    "start_time": "2022-12-18T22:13:06.047Z"
   },
   {
    "duration": 56,
    "start_time": "2022-12-18T22:13:06.077Z"
   },
   {
    "duration": 13,
    "start_time": "2022-12-18T22:13:06.135Z"
   },
   {
    "duration": 1001,
    "start_time": "2022-12-18T22:13:06.150Z"
   },
   {
    "duration": 811,
    "start_time": "2022-12-18T22:13:07.153Z"
   },
   {
    "duration": 885,
    "start_time": "2022-12-18T22:13:07.966Z"
   },
   {
    "duration": 506,
    "start_time": "2022-12-18T22:13:08.852Z"
   },
   {
    "duration": 495,
    "start_time": "2022-12-18T22:13:09.360Z"
   },
   {
    "duration": 655,
    "start_time": "2022-12-18T22:13:09.857Z"
   },
   {
    "duration": 482,
    "start_time": "2022-12-18T22:13:10.514Z"
   },
   {
    "duration": 15,
    "start_time": "2022-12-18T22:13:10.997Z"
   },
   {
    "duration": 763,
    "start_time": "2022-12-18T22:13:11.013Z"
   },
   {
    "duration": 35,
    "start_time": "2022-12-18T22:13:11.777Z"
   },
   {
    "duration": 6,
    "start_time": "2022-12-18T22:13:11.814Z"
   },
   {
    "duration": 9,
    "start_time": "2022-12-18T22:13:11.821Z"
   },
   {
    "duration": 14,
    "start_time": "2022-12-18T22:13:11.831Z"
   },
   {
    "duration": 8,
    "start_time": "2022-12-18T22:13:11.846Z"
   },
   {
    "duration": 6,
    "start_time": "2022-12-18T22:13:11.855Z"
   },
   {
    "duration": 6,
    "start_time": "2022-12-18T22:13:11.862Z"
   },
   {
    "duration": 9,
    "start_time": "2022-12-18T22:13:11.869Z"
   },
   {
    "duration": 4,
    "start_time": "2022-12-18T22:13:11.880Z"
   },
   {
    "duration": 1428,
    "start_time": "2022-12-18T22:13:11.886Z"
   },
   {
    "duration": 1900,
    "start_time": "2022-12-18T22:13:13.316Z"
   },
   {
    "duration": 7,
    "start_time": "2022-12-18T22:13:15.218Z"
   },
   {
    "duration": 12390,
    "start_time": "2022-12-18T22:13:15.229Z"
   },
   {
    "duration": 20045,
    "start_time": "2022-12-18T22:13:27.621Z"
   },
   {
    "duration": 3,
    "start_time": "2022-12-18T22:13:47.668Z"
   },
   {
    "duration": 29948,
    "start_time": "2022-12-18T22:13:47.673Z"
   },
   {
    "duration": 0,
    "start_time": "2022-12-18T22:14:17.623Z"
   },
   {
    "duration": 0,
    "start_time": "2022-12-18T22:14:17.624Z"
   },
   {
    "duration": 0,
    "start_time": "2022-12-18T22:14:17.625Z"
   },
   {
    "duration": 30465,
    "start_time": "2022-12-18T22:14:39.814Z"
   },
   {
    "duration": 29747,
    "start_time": "2022-12-18T22:15:43.039Z"
   },
   {
    "duration": 28886,
    "start_time": "2022-12-18T22:16:12.788Z"
   },
   {
    "duration": 9,
    "start_time": "2022-12-18T22:16:41.676Z"
   },
   {
    "duration": 4,
    "start_time": "2022-12-18T22:17:11.146Z"
   },
   {
    "duration": 10604,
    "start_time": "2022-12-18T22:22:03.781Z"
   },
   {
    "duration": 11179,
    "start_time": "2022-12-18T22:22:14.388Z"
   },
   {
    "duration": 4,
    "start_time": "2022-12-18T22:22:25.569Z"
   },
   {
    "duration": 15,
    "start_time": "2022-12-18T22:33:03.572Z"
   },
   {
    "duration": 14,
    "start_time": "2022-12-18T22:33:49.492Z"
   },
   {
    "duration": 12,
    "start_time": "2022-12-18T22:37:56.638Z"
   },
   {
    "duration": 5,
    "start_time": "2022-12-18T22:38:04.425Z"
   },
   {
    "duration": 8,
    "start_time": "2022-12-18T22:41:14.543Z"
   },
   {
    "duration": 7457,
    "start_time": "2022-12-18T22:42:39.003Z"
   },
   {
    "duration": 7131,
    "start_time": "2022-12-18T22:43:05.089Z"
   },
   {
    "duration": 4,
    "start_time": "2022-12-18T22:43:21.073Z"
   },
   {
    "duration": 27859,
    "start_time": "2022-12-18T22:43:41.509Z"
   },
   {
    "duration": 26345,
    "start_time": "2022-12-18T22:44:25.917Z"
   },
   {
    "duration": 4,
    "start_time": "2022-12-18T22:44:52.264Z"
   },
   {
    "duration": 8458,
    "start_time": "2022-12-18T22:45:20.170Z"
   },
   {
    "duration": 9419,
    "start_time": "2022-12-18T22:45:28.630Z"
   },
   {
    "duration": 5,
    "start_time": "2022-12-18T22:45:38.051Z"
   },
   {
    "duration": 8976,
    "start_time": "2022-12-18T22:45:56.625Z"
   },
   {
    "duration": 10744,
    "start_time": "2022-12-18T22:46:09.675Z"
   },
   {
    "duration": 5,
    "start_time": "2022-12-18T22:46:25.744Z"
   },
   {
    "duration": 21197,
    "start_time": "2022-12-18T22:50:14.103Z"
   },
   {
    "duration": 20673,
    "start_time": "2022-12-18T22:52:12.468Z"
   },
   {
    "duration": 22233,
    "start_time": "2022-12-18T22:53:08.302Z"
   },
   {
    "duration": 41,
    "start_time": "2022-12-18T22:54:33.219Z"
   },
   {
    "duration": 1503,
    "start_time": "2022-12-18T23:01:35.985Z"
   },
   {
    "duration": 715,
    "start_time": "2022-12-18T23:01:37.490Z"
   },
   {
    "duration": 19,
    "start_time": "2022-12-18T23:01:38.208Z"
   },
   {
    "duration": 41,
    "start_time": "2022-12-18T23:01:38.228Z"
   },
   {
    "duration": 35,
    "start_time": "2022-12-18T23:01:38.271Z"
   },
   {
    "duration": 33,
    "start_time": "2022-12-18T23:01:38.308Z"
   },
   {
    "duration": 44,
    "start_time": "2022-12-18T23:01:38.343Z"
   },
   {
    "duration": 25,
    "start_time": "2022-12-18T23:01:38.389Z"
   },
   {
    "duration": 32,
    "start_time": "2022-12-18T23:01:38.416Z"
   },
   {
    "duration": 8,
    "start_time": "2022-12-18T23:01:38.450Z"
   },
   {
    "duration": 32,
    "start_time": "2022-12-18T23:01:38.460Z"
   },
   {
    "duration": 32,
    "start_time": "2022-12-18T23:01:38.493Z"
   },
   {
    "duration": 25,
    "start_time": "2022-12-18T23:01:38.527Z"
   },
   {
    "duration": 25,
    "start_time": "2022-12-18T23:01:38.555Z"
   },
   {
    "duration": 43,
    "start_time": "2022-12-18T23:01:38.582Z"
   },
   {
    "duration": 15,
    "start_time": "2022-12-18T23:01:38.627Z"
   },
   {
    "duration": 32,
    "start_time": "2022-12-18T23:01:38.644Z"
   },
   {
    "duration": 51,
    "start_time": "2022-12-18T23:01:38.678Z"
   },
   {
    "duration": 14,
    "start_time": "2022-12-18T23:01:38.731Z"
   },
   {
    "duration": 974,
    "start_time": "2022-12-18T23:01:38.746Z"
   },
   {
    "duration": 846,
    "start_time": "2022-12-18T23:01:39.722Z"
   },
   {
    "duration": 977,
    "start_time": "2022-12-18T23:01:40.570Z"
   },
   {
    "duration": 511,
    "start_time": "2022-12-18T23:01:41.549Z"
   },
   {
    "duration": 495,
    "start_time": "2022-12-18T23:01:42.061Z"
   },
   {
    "duration": 667,
    "start_time": "2022-12-18T23:01:42.557Z"
   },
   {
    "duration": 552,
    "start_time": "2022-12-18T23:01:43.227Z"
   },
   {
    "duration": 8,
    "start_time": "2022-12-18T23:01:43.781Z"
   },
   {
    "duration": 805,
    "start_time": "2022-12-18T23:01:43.791Z"
   },
   {
    "duration": 34,
    "start_time": "2022-12-18T23:01:44.598Z"
   },
   {
    "duration": 6,
    "start_time": "2022-12-18T23:01:44.634Z"
   },
   {
    "duration": 28,
    "start_time": "2022-12-18T23:01:44.642Z"
   },
   {
    "duration": 22,
    "start_time": "2022-12-18T23:01:44.672Z"
   },
   {
    "duration": 12,
    "start_time": "2022-12-18T23:01:44.695Z"
   },
   {
    "duration": 16,
    "start_time": "2022-12-18T23:01:44.708Z"
   },
   {
    "duration": 13,
    "start_time": "2022-12-18T23:01:44.726Z"
   },
   {
    "duration": 22,
    "start_time": "2022-12-18T23:01:44.741Z"
   },
   {
    "duration": 27,
    "start_time": "2022-12-18T23:01:44.765Z"
   },
   {
    "duration": 1523,
    "start_time": "2022-12-18T23:01:44.794Z"
   },
   {
    "duration": 1594,
    "start_time": "2022-12-18T23:01:46.320Z"
   },
   {
    "duration": 4,
    "start_time": "2022-12-18T23:01:47.916Z"
   },
   {
    "duration": 12467,
    "start_time": "2022-12-18T23:01:47.924Z"
   },
   {
    "duration": 20402,
    "start_time": "2022-12-18T23:02:00.392Z"
   },
   {
    "duration": 5,
    "start_time": "2022-12-18T23:02:20.796Z"
   },
   {
    "duration": 83505,
    "start_time": "2022-12-18T23:02:20.802Z"
   },
   {
    "duration": 4024,
    "start_time": "2022-12-18T23:07:08.608Z"
   },
   {
    "duration": 5,
    "start_time": "2022-12-18T23:07:12.634Z"
   },
   {
    "duration": 8687,
    "start_time": "2022-12-18T23:07:12.641Z"
   },
   {
    "duration": 10426,
    "start_time": "2022-12-18T23:07:21.330Z"
   },
   {
    "duration": 3,
    "start_time": "2022-12-18T23:07:31.759Z"
   },
   {
    "duration": 40,
    "start_time": "2022-12-18T23:07:31.764Z"
   },
   {
    "duration": 50,
    "start_time": "2022-12-18T23:07:31.805Z"
   },
   {
    "duration": 1503,
    "start_time": "2022-12-18T23:09:30.200Z"
   },
   {
    "duration": 712,
    "start_time": "2022-12-18T23:09:31.705Z"
   },
   {
    "duration": 22,
    "start_time": "2022-12-18T23:09:32.419Z"
   },
   {
    "duration": 24,
    "start_time": "2022-12-18T23:09:32.443Z"
   },
   {
    "duration": 13,
    "start_time": "2022-12-18T23:09:32.469Z"
   },
   {
    "duration": 48,
    "start_time": "2022-12-18T23:09:32.483Z"
   },
   {
    "duration": 24,
    "start_time": "2022-12-18T23:09:32.533Z"
   },
   {
    "duration": 22,
    "start_time": "2022-12-18T23:09:32.559Z"
   },
   {
    "duration": 32,
    "start_time": "2022-12-18T23:09:32.583Z"
   },
   {
    "duration": 4,
    "start_time": "2022-12-18T23:09:32.618Z"
   },
   {
    "duration": 14,
    "start_time": "2022-12-18T23:09:32.624Z"
   },
   {
    "duration": 14,
    "start_time": "2022-12-18T23:09:32.641Z"
   },
   {
    "duration": 26,
    "start_time": "2022-12-18T23:09:32.656Z"
   },
   {
    "duration": 14,
    "start_time": "2022-12-18T23:09:32.684Z"
   },
   {
    "duration": 35,
    "start_time": "2022-12-18T23:09:32.700Z"
   },
   {
    "duration": 14,
    "start_time": "2022-12-18T23:09:32.736Z"
   },
   {
    "duration": 29,
    "start_time": "2022-12-18T23:09:32.752Z"
   },
   {
    "duration": 60,
    "start_time": "2022-12-18T23:09:32.782Z"
   },
   {
    "duration": 16,
    "start_time": "2022-12-18T23:09:32.843Z"
   },
   {
    "duration": 970,
    "start_time": "2022-12-18T23:09:32.861Z"
   },
   {
    "duration": 862,
    "start_time": "2022-12-18T23:09:33.832Z"
   },
   {
    "duration": 1020,
    "start_time": "2022-12-18T23:09:34.696Z"
   },
   {
    "duration": 551,
    "start_time": "2022-12-18T23:09:35.718Z"
   },
   {
    "duration": 586,
    "start_time": "2022-12-18T23:09:36.272Z"
   },
   {
    "duration": 676,
    "start_time": "2022-12-18T23:09:36.860Z"
   },
   {
    "duration": 513,
    "start_time": "2022-12-18T23:09:37.538Z"
   },
   {
    "duration": 10,
    "start_time": "2022-12-18T23:09:38.053Z"
   },
   {
    "duration": 800,
    "start_time": "2022-12-18T23:09:38.066Z"
   },
   {
    "duration": 25,
    "start_time": "2022-12-18T23:09:38.867Z"
   },
   {
    "duration": 18,
    "start_time": "2022-12-18T23:09:38.894Z"
   },
   {
    "duration": 33,
    "start_time": "2022-12-18T23:09:38.914Z"
   },
   {
    "duration": 35,
    "start_time": "2022-12-18T23:09:38.949Z"
   },
   {
    "duration": 19,
    "start_time": "2022-12-18T23:09:38.986Z"
   },
   {
    "duration": 31,
    "start_time": "2022-12-18T23:09:39.007Z"
   },
   {
    "duration": 16,
    "start_time": "2022-12-18T23:09:39.040Z"
   },
   {
    "duration": 30,
    "start_time": "2022-12-18T23:09:39.058Z"
   },
   {
    "duration": 19,
    "start_time": "2022-12-18T23:09:39.090Z"
   },
   {
    "duration": 1704,
    "start_time": "2022-12-18T23:09:39.112Z"
   },
   {
    "duration": 1700,
    "start_time": "2022-12-18T23:09:40.818Z"
   },
   {
    "duration": 6,
    "start_time": "2022-12-18T23:09:42.522Z"
   },
   {
    "duration": 12090,
    "start_time": "2022-12-18T23:09:42.530Z"
   },
   {
    "duration": 20116,
    "start_time": "2022-12-18T23:09:54.622Z"
   },
   {
    "duration": 4,
    "start_time": "2022-12-18T23:10:14.740Z"
   },
   {
    "duration": 80930,
    "start_time": "2022-12-18T23:10:14.746Z"
   },
   {
    "duration": 128751,
    "start_time": "2022-12-18T23:11:35.678Z"
   },
   {
    "duration": 4,
    "start_time": "2022-12-18T23:13:44.431Z"
   },
   {
    "duration": 8532,
    "start_time": "2022-12-18T23:13:44.437Z"
   },
   {
    "duration": 10474,
    "start_time": "2022-12-18T23:13:52.971Z"
   },
   {
    "duration": 4,
    "start_time": "2022-12-18T23:14:03.447Z"
   },
   {
    "duration": 15,
    "start_time": "2022-12-18T23:14:03.452Z"
   },
   {
    "duration": 37,
    "start_time": "2022-12-18T23:14:03.468Z"
   },
   {
    "duration": 4,
    "start_time": "2022-12-18T23:14:37.367Z"
   },
   {
    "duration": 1427,
    "start_time": "2022-12-18T23:17:37.077Z"
   },
   {
    "duration": 705,
    "start_time": "2022-12-18T23:17:38.506Z"
   },
   {
    "duration": 19,
    "start_time": "2022-12-18T23:17:39.213Z"
   },
   {
    "duration": 35,
    "start_time": "2022-12-18T23:17:39.233Z"
   },
   {
    "duration": 22,
    "start_time": "2022-12-18T23:17:39.271Z"
   },
   {
    "duration": 46,
    "start_time": "2022-12-18T23:17:39.295Z"
   },
   {
    "duration": 33,
    "start_time": "2022-12-18T23:17:39.342Z"
   },
   {
    "duration": 27,
    "start_time": "2022-12-18T23:17:39.377Z"
   },
   {
    "duration": 27,
    "start_time": "2022-12-18T23:17:39.406Z"
   },
   {
    "duration": 27,
    "start_time": "2022-12-18T23:17:39.434Z"
   },
   {
    "duration": 28,
    "start_time": "2022-12-18T23:17:39.463Z"
   },
   {
    "duration": 15,
    "start_time": "2022-12-18T23:17:39.492Z"
   },
   {
    "duration": 26,
    "start_time": "2022-12-18T23:17:39.509Z"
   },
   {
    "duration": 30,
    "start_time": "2022-12-18T23:17:39.538Z"
   },
   {
    "duration": 46,
    "start_time": "2022-12-18T23:17:39.570Z"
   },
   {
    "duration": 13,
    "start_time": "2022-12-18T23:17:39.618Z"
   },
   {
    "duration": 40,
    "start_time": "2022-12-18T23:17:39.632Z"
   },
   {
    "duration": 38,
    "start_time": "2022-12-18T23:17:39.674Z"
   },
   {
    "duration": 22,
    "start_time": "2022-12-18T23:17:39.714Z"
   },
   {
    "duration": 961,
    "start_time": "2022-12-18T23:17:39.738Z"
   },
   {
    "duration": 882,
    "start_time": "2022-12-18T23:17:40.701Z"
   },
   {
    "duration": 1000,
    "start_time": "2022-12-18T23:17:41.585Z"
   },
   {
    "duration": 481,
    "start_time": "2022-12-18T23:17:42.586Z"
   },
   {
    "duration": 498,
    "start_time": "2022-12-18T23:17:43.069Z"
   },
   {
    "duration": 699,
    "start_time": "2022-12-18T23:17:43.569Z"
   },
   {
    "duration": 512,
    "start_time": "2022-12-18T23:17:44.269Z"
   },
   {
    "duration": 9,
    "start_time": "2022-12-18T23:17:44.783Z"
   },
   {
    "duration": 846,
    "start_time": "2022-12-18T23:17:44.793Z"
   },
   {
    "duration": 26,
    "start_time": "2022-12-18T23:17:45.641Z"
   },
   {
    "duration": 7,
    "start_time": "2022-12-18T23:17:45.668Z"
   },
   {
    "duration": 32,
    "start_time": "2022-12-18T23:17:45.677Z"
   },
   {
    "duration": 35,
    "start_time": "2022-12-18T23:17:45.711Z"
   },
   {
    "duration": 18,
    "start_time": "2022-12-18T23:17:45.748Z"
   },
   {
    "duration": 18,
    "start_time": "2022-12-18T23:17:45.768Z"
   },
   {
    "duration": 28,
    "start_time": "2022-12-18T23:17:45.788Z"
   },
   {
    "duration": 34,
    "start_time": "2022-12-18T23:17:45.817Z"
   },
   {
    "duration": 20,
    "start_time": "2022-12-18T23:17:45.853Z"
   },
   {
    "duration": 1937,
    "start_time": "2022-12-18T23:17:45.875Z"
   },
   {
    "duration": 1307,
    "start_time": "2022-12-18T23:17:47.814Z"
   },
   {
    "duration": 90,
    "start_time": "2022-12-18T23:17:49.123Z"
   },
   {
    "duration": 12724,
    "start_time": "2022-12-18T23:17:49.217Z"
   },
   {
    "duration": 20397,
    "start_time": "2022-12-18T23:18:01.943Z"
   },
   {
    "duration": 4,
    "start_time": "2022-12-18T23:18:22.342Z"
   },
   {
    "duration": 1395,
    "start_time": "2022-12-18T23:24:56.074Z"
   },
   {
    "duration": 704,
    "start_time": "2022-12-18T23:24:57.470Z"
   },
   {
    "duration": 20,
    "start_time": "2022-12-18T23:24:58.176Z"
   },
   {
    "duration": 35,
    "start_time": "2022-12-18T23:24:58.199Z"
   },
   {
    "duration": 41,
    "start_time": "2022-12-18T23:24:58.236Z"
   },
   {
    "duration": 31,
    "start_time": "2022-12-18T23:24:58.279Z"
   },
   {
    "duration": 35,
    "start_time": "2022-12-18T23:24:58.311Z"
   },
   {
    "duration": 46,
    "start_time": "2022-12-18T23:24:58.348Z"
   },
   {
    "duration": 32,
    "start_time": "2022-12-18T23:24:58.396Z"
   },
   {
    "duration": 21,
    "start_time": "2022-12-18T23:24:58.430Z"
   },
   {
    "duration": 26,
    "start_time": "2022-12-18T23:24:58.453Z"
   },
   {
    "duration": 42,
    "start_time": "2022-12-18T23:24:58.480Z"
   },
   {
    "duration": 56,
    "start_time": "2022-12-18T23:24:58.524Z"
   },
   {
    "duration": 10,
    "start_time": "2022-12-18T23:24:58.585Z"
   },
   {
    "duration": 53,
    "start_time": "2022-12-18T23:24:58.597Z"
   },
   {
    "duration": 15,
    "start_time": "2022-12-18T23:24:58.652Z"
   },
   {
    "duration": 45,
    "start_time": "2022-12-18T23:24:58.669Z"
   },
   {
    "duration": 28,
    "start_time": "2022-12-18T23:24:58.716Z"
   },
   {
    "duration": 12,
    "start_time": "2022-12-18T23:24:58.746Z"
   },
   {
    "duration": 961,
    "start_time": "2022-12-18T23:24:58.760Z"
   },
   {
    "duration": 827,
    "start_time": "2022-12-18T23:24:59.723Z"
   },
   {
    "duration": 932,
    "start_time": "2022-12-18T23:25:00.552Z"
   },
   {
    "duration": 491,
    "start_time": "2022-12-18T23:25:01.485Z"
   },
   {
    "duration": 499,
    "start_time": "2022-12-18T23:25:01.978Z"
   },
   {
    "duration": 639,
    "start_time": "2022-12-18T23:25:02.479Z"
   },
   {
    "duration": 495,
    "start_time": "2022-12-18T23:25:03.119Z"
   },
   {
    "duration": 8,
    "start_time": "2022-12-18T23:25:03.616Z"
   },
   {
    "duration": 767,
    "start_time": "2022-12-18T23:25:03.626Z"
   },
   {
    "duration": 31,
    "start_time": "2022-12-18T23:25:04.395Z"
   },
   {
    "duration": 7,
    "start_time": "2022-12-18T23:25:04.428Z"
   },
   {
    "duration": 13,
    "start_time": "2022-12-18T23:25:04.436Z"
   },
   {
    "duration": 24,
    "start_time": "2022-12-18T23:25:04.451Z"
   },
   {
    "duration": 9,
    "start_time": "2022-12-18T23:25:04.477Z"
   },
   {
    "duration": 9,
    "start_time": "2022-12-18T23:25:04.488Z"
   },
   {
    "duration": 14,
    "start_time": "2022-12-18T23:25:04.498Z"
   },
   {
    "duration": 9,
    "start_time": "2022-12-18T23:25:04.514Z"
   },
   {
    "duration": 9,
    "start_time": "2022-12-18T23:25:04.525Z"
   },
   {
    "duration": 1686,
    "start_time": "2022-12-18T23:25:04.536Z"
   },
   {
    "duration": 1306,
    "start_time": "2022-12-18T23:25:06.313Z"
   },
   {
    "duration": 93,
    "start_time": "2022-12-18T23:25:07.621Z"
   },
   {
    "duration": 11899,
    "start_time": "2022-12-18T23:25:07.717Z"
   },
   {
    "duration": 19969,
    "start_time": "2022-12-18T23:25:19.617Z"
   },
   {
    "duration": 4,
    "start_time": "2022-12-18T23:25:39.587Z"
   },
   {
    "duration": 1393,
    "start_time": "2022-12-18T23:37:37.927Z"
   },
   {
    "duration": 669,
    "start_time": "2022-12-18T23:37:39.323Z"
   },
   {
    "duration": 24,
    "start_time": "2022-12-18T23:37:39.993Z"
   },
   {
    "duration": 26,
    "start_time": "2022-12-18T23:37:40.019Z"
   },
   {
    "duration": 14,
    "start_time": "2022-12-18T23:37:40.049Z"
   },
   {
    "duration": 24,
    "start_time": "2022-12-18T23:37:40.065Z"
   },
   {
    "duration": 21,
    "start_time": "2022-12-18T23:37:40.113Z"
   },
   {
    "duration": 22,
    "start_time": "2022-12-18T23:37:40.136Z"
   },
   {
    "duration": 33,
    "start_time": "2022-12-18T23:37:40.160Z"
   },
   {
    "duration": 17,
    "start_time": "2022-12-18T23:37:40.195Z"
   },
   {
    "duration": 42,
    "start_time": "2022-12-18T23:37:40.213Z"
   },
   {
    "duration": 27,
    "start_time": "2022-12-18T23:37:40.257Z"
   },
   {
    "duration": 18,
    "start_time": "2022-12-18T23:37:40.286Z"
   },
   {
    "duration": 20,
    "start_time": "2022-12-18T23:37:40.307Z"
   },
   {
    "duration": 40,
    "start_time": "2022-12-18T23:37:40.329Z"
   },
   {
    "duration": 13,
    "start_time": "2022-12-18T23:37:40.371Z"
   },
   {
    "duration": 38,
    "start_time": "2022-12-18T23:37:40.387Z"
   },
   {
    "duration": 29,
    "start_time": "2022-12-18T23:37:40.428Z"
   },
   {
    "duration": 13,
    "start_time": "2022-12-18T23:37:40.458Z"
   },
   {
    "duration": 972,
    "start_time": "2022-12-18T23:37:40.473Z"
   },
   {
    "duration": 849,
    "start_time": "2022-12-18T23:37:41.446Z"
   },
   {
    "duration": 983,
    "start_time": "2022-12-18T23:37:42.297Z"
   },
   {
    "duration": 502,
    "start_time": "2022-12-18T23:37:43.282Z"
   },
   {
    "duration": 492,
    "start_time": "2022-12-18T23:37:43.785Z"
   },
   {
    "duration": 680,
    "start_time": "2022-12-18T23:37:44.279Z"
   },
   {
    "duration": 515,
    "start_time": "2022-12-18T23:37:44.961Z"
   },
   {
    "duration": 9,
    "start_time": "2022-12-18T23:37:45.479Z"
   },
   {
    "duration": 799,
    "start_time": "2022-12-18T23:37:45.490Z"
   },
   {
    "duration": 41,
    "start_time": "2022-12-18T23:37:46.292Z"
   },
   {
    "duration": 7,
    "start_time": "2022-12-18T23:37:46.335Z"
   },
   {
    "duration": 45,
    "start_time": "2022-12-18T23:37:46.344Z"
   },
   {
    "duration": 42,
    "start_time": "2022-12-18T23:37:46.392Z"
   },
   {
    "duration": 25,
    "start_time": "2022-12-18T23:37:46.437Z"
   },
   {
    "duration": 30,
    "start_time": "2022-12-18T23:37:46.465Z"
   },
   {
    "duration": 20,
    "start_time": "2022-12-18T23:37:46.497Z"
   },
   {
    "duration": 22,
    "start_time": "2022-12-18T23:37:46.520Z"
   },
   {
    "duration": 8,
    "start_time": "2022-12-18T23:37:46.544Z"
   },
   {
    "duration": 1267,
    "start_time": "2022-12-18T23:37:46.554Z"
   },
   {
    "duration": 1507,
    "start_time": "2022-12-18T23:37:47.912Z"
   },
   {
    "duration": 89,
    "start_time": "2022-12-18T23:37:49.425Z"
   },
   {
    "duration": 12132,
    "start_time": "2022-12-18T23:37:49.518Z"
   },
   {
    "duration": 19747,
    "start_time": "2022-12-18T23:38:01.652Z"
   },
   {
    "duration": 4,
    "start_time": "2022-12-18T23:38:21.401Z"
   },
   {
    "duration": 80441,
    "start_time": "2022-12-18T23:38:21.411Z"
   },
   {
    "duration": 127508,
    "start_time": "2022-12-18T23:39:41.854Z"
   },
   {
    "duration": 4,
    "start_time": "2022-12-18T23:41:49.365Z"
   },
   {
    "duration": 8745,
    "start_time": "2022-12-18T23:41:49.371Z"
   },
   {
    "duration": 10424,
    "start_time": "2022-12-18T23:41:58.119Z"
   },
   {
    "duration": 4,
    "start_time": "2022-12-18T23:42:08.545Z"
   },
   {
    "duration": 860,
    "start_time": "2022-12-18T23:45:57.852Z"
   },
   {
    "duration": 927,
    "start_time": "2022-12-18T23:46:00.095Z"
   },
   {
    "duration": 4,
    "start_time": "2022-12-18T23:46:02.395Z"
   },
   {
    "duration": 8,
    "start_time": "2022-12-19T15:19:04.348Z"
   },
   {
    "duration": 8,
    "start_time": "2022-12-19T15:19:38.837Z"
   },
   {
    "duration": 10,
    "start_time": "2022-12-19T15:19:46.231Z"
   },
   {
    "duration": 53,
    "start_time": "2022-12-19T15:34:36.101Z"
   },
   {
    "duration": 13,
    "start_time": "2022-12-19T15:35:32.382Z"
   },
   {
    "duration": 57,
    "start_time": "2022-12-20T04:13:43.187Z"
   },
   {
    "duration": 71,
    "start_time": "2022-12-20T04:22:55.458Z"
   },
   {
    "duration": 2090,
    "start_time": "2022-12-20T04:23:46.008Z"
   },
   {
    "duration": 59,
    "start_time": "2022-12-20T04:25:22.401Z"
   },
   {
    "duration": 111,
    "start_time": "2022-12-20T04:26:32.488Z"
   },
   {
    "duration": 10,
    "start_time": "2022-12-20T04:26:43.306Z"
   },
   {
    "duration": 3643,
    "start_time": "2022-12-20T04:26:46.141Z"
   },
   {
    "duration": 11,
    "start_time": "2022-12-20T04:26:55.842Z"
   },
   {
    "duration": 761,
    "start_time": "2022-12-20T04:34:24.760Z"
   },
   {
    "duration": 31,
    "start_time": "2022-12-20T04:34:29.394Z"
   },
   {
    "duration": 19,
    "start_time": "2022-12-20T04:34:38.578Z"
   },
   {
    "duration": 751,
    "start_time": "2022-12-20T04:34:49.612Z"
   },
   {
    "duration": 472,
    "start_time": "2022-12-20T04:51:49.000Z"
   },
   {
    "duration": 447,
    "start_time": "2022-12-20T04:52:01.333Z"
   },
   {
    "duration": 562,
    "start_time": "2022-12-20T04:53:37.615Z"
   },
   {
    "duration": 447,
    "start_time": "2022-12-20T04:56:58.177Z"
   },
   {
    "duration": 500,
    "start_time": "2022-12-20T04:57:04.844Z"
   },
   {
    "duration": 54,
    "start_time": "2022-12-20T11:23:51.521Z"
   },
   {
    "duration": 48,
    "start_time": "2022-12-20T11:27:14.801Z"
   },
   {
    "duration": 1590,
    "start_time": "2022-12-20T11:28:24.399Z"
   },
   {
    "duration": 2926,
    "start_time": "2022-12-20T11:28:25.991Z"
   },
   {
    "duration": 20,
    "start_time": "2022-12-20T11:28:28.919Z"
   },
   {
    "duration": 25,
    "start_time": "2022-12-20T11:28:28.941Z"
   },
   {
    "duration": 23,
    "start_time": "2022-12-20T11:28:28.968Z"
   },
   {
    "duration": 31,
    "start_time": "2022-12-20T11:28:28.993Z"
   },
   {
    "duration": 24,
    "start_time": "2022-12-20T11:28:29.026Z"
   },
   {
    "duration": 20,
    "start_time": "2022-12-20T11:28:29.052Z"
   },
   {
    "duration": 19,
    "start_time": "2022-12-20T11:28:29.074Z"
   },
   {
    "duration": 4,
    "start_time": "2022-12-20T11:28:29.095Z"
   },
   {
    "duration": 16,
    "start_time": "2022-12-20T11:28:29.101Z"
   },
   {
    "duration": 20,
    "start_time": "2022-12-20T11:28:29.119Z"
   },
   {
    "duration": 17,
    "start_time": "2022-12-20T11:28:29.141Z"
   },
   {
    "duration": 13,
    "start_time": "2022-12-20T11:28:29.162Z"
   },
   {
    "duration": 31,
    "start_time": "2022-12-20T11:28:29.176Z"
   },
   {
    "duration": 18,
    "start_time": "2022-12-20T11:28:29.208Z"
   },
   {
    "duration": 38,
    "start_time": "2022-12-20T11:28:29.227Z"
   },
   {
    "duration": 29,
    "start_time": "2022-12-20T11:28:29.267Z"
   },
   {
    "duration": 13,
    "start_time": "2022-12-20T11:28:29.298Z"
   },
   {
    "duration": 945,
    "start_time": "2022-12-20T11:28:29.312Z"
   },
   {
    "duration": 860,
    "start_time": "2022-12-20T11:28:30.258Z"
   },
   {
    "duration": 943,
    "start_time": "2022-12-20T11:28:31.119Z"
   },
   {
    "duration": 537,
    "start_time": "2022-12-20T11:28:32.064Z"
   },
   {
    "duration": 10,
    "start_time": "2022-12-20T11:28:32.603Z"
   },
   {
    "duration": 772,
    "start_time": "2022-12-20T11:28:32.615Z"
   },
   {
    "duration": 22,
    "start_time": "2022-12-20T11:28:33.389Z"
   },
   {
    "duration": 7,
    "start_time": "2022-12-20T11:28:33.413Z"
   },
   {
    "duration": 10,
    "start_time": "2022-12-20T11:28:33.435Z"
   },
   {
    "duration": 20,
    "start_time": "2022-12-20T11:28:33.446Z"
   },
   {
    "duration": 16,
    "start_time": "2022-12-20T11:28:33.468Z"
   },
   {
    "duration": 14,
    "start_time": "2022-12-20T11:28:33.486Z"
   },
   {
    "duration": 15,
    "start_time": "2022-12-20T11:28:33.502Z"
   },
   {
    "duration": 20,
    "start_time": "2022-12-20T11:28:33.519Z"
   },
   {
    "duration": 16,
    "start_time": "2022-12-20T11:28:33.541Z"
   },
   {
    "duration": 1392,
    "start_time": "2022-12-20T11:28:33.559Z"
   },
   {
    "duration": 1507,
    "start_time": "2022-12-20T11:28:35.036Z"
   },
   {
    "duration": 5,
    "start_time": "2022-12-20T11:28:36.634Z"
   },
   {
    "duration": 12317,
    "start_time": "2022-12-20T11:28:36.642Z"
   },
   {
    "duration": 20147,
    "start_time": "2022-12-20T11:28:48.961Z"
   },
   {
    "duration": 3,
    "start_time": "2022-12-20T11:29:09.110Z"
   },
   {
    "duration": 79596,
    "start_time": "2022-12-20T11:29:09.117Z"
   },
   {
    "duration": 133473,
    "start_time": "2022-12-20T11:30:28.714Z"
   },
   {
    "duration": 4,
    "start_time": "2022-12-20T11:32:42.189Z"
   },
   {
    "duration": 1145,
    "start_time": "2022-12-20T11:32:42.194Z"
   },
   {
    "duration": 1298,
    "start_time": "2022-12-20T11:32:43.342Z"
   },
   {
    "duration": 6,
    "start_time": "2022-12-20T11:32:44.643Z"
   },
   {
    "duration": 2270,
    "start_time": "2022-12-20T11:43:03.039Z"
   },
   {
    "duration": 358,
    "start_time": "2022-12-20T11:46:43.133Z"
   },
   {
    "duration": 351,
    "start_time": "2022-12-20T11:46:47.113Z"
   },
   {
    "duration": 343,
    "start_time": "2022-12-20T11:46:55.448Z"
   },
   {
    "duration": 1347,
    "start_time": "2022-12-20T11:51:36.673Z"
   },
   {
    "duration": 699,
    "start_time": "2022-12-20T11:51:38.022Z"
   },
   {
    "duration": 26,
    "start_time": "2022-12-20T11:51:38.723Z"
   },
   {
    "duration": 45,
    "start_time": "2022-12-20T11:51:38.751Z"
   },
   {
    "duration": 42,
    "start_time": "2022-12-20T11:51:38.799Z"
   },
   {
    "duration": 56,
    "start_time": "2022-12-20T11:51:38.844Z"
   },
   {
    "duration": 48,
    "start_time": "2022-12-20T11:51:38.902Z"
   },
   {
    "duration": 58,
    "start_time": "2022-12-20T11:51:38.951Z"
   },
   {
    "duration": 50,
    "start_time": "2022-12-20T11:51:39.011Z"
   },
   {
    "duration": 58,
    "start_time": "2022-12-20T11:51:39.063Z"
   },
   {
    "duration": 58,
    "start_time": "2022-12-20T11:51:39.123Z"
   },
   {
    "duration": 34,
    "start_time": "2022-12-20T11:51:39.183Z"
   },
   {
    "duration": 72,
    "start_time": "2022-12-20T11:51:39.218Z"
   },
   {
    "duration": 48,
    "start_time": "2022-12-20T11:51:39.293Z"
   },
   {
    "duration": 57,
    "start_time": "2022-12-20T11:51:39.343Z"
   },
   {
    "duration": 14,
    "start_time": "2022-12-20T11:51:39.401Z"
   },
   {
    "duration": 41,
    "start_time": "2022-12-20T11:51:39.416Z"
   },
   {
    "duration": 54,
    "start_time": "2022-12-20T11:51:39.459Z"
   },
   {
    "duration": 29,
    "start_time": "2022-12-20T11:51:39.515Z"
   },
   {
    "duration": 973,
    "start_time": "2022-12-20T11:51:39.546Z"
   },
   {
    "duration": 827,
    "start_time": "2022-12-20T11:51:40.522Z"
   },
   {
    "duration": 958,
    "start_time": "2022-12-20T11:51:41.350Z"
   },
   {
    "duration": 498,
    "start_time": "2022-12-20T11:51:42.309Z"
   },
   {
    "duration": 8,
    "start_time": "2022-12-20T11:51:42.809Z"
   },
   {
    "duration": 825,
    "start_time": "2022-12-20T11:51:42.818Z"
   },
   {
    "duration": 22,
    "start_time": "2022-12-20T11:51:43.645Z"
   },
   {
    "duration": 22,
    "start_time": "2022-12-20T11:51:43.668Z"
   },
   {
    "duration": 47,
    "start_time": "2022-12-20T11:51:43.692Z"
   },
   {
    "duration": 22,
    "start_time": "2022-12-20T11:51:43.740Z"
   },
   {
    "duration": 25,
    "start_time": "2022-12-20T11:51:43.763Z"
   },
   {
    "duration": 27,
    "start_time": "2022-12-20T11:51:43.790Z"
   },
   {
    "duration": 29,
    "start_time": "2022-12-20T11:51:43.819Z"
   },
   {
    "duration": 57,
    "start_time": "2022-12-20T11:51:43.849Z"
   },
   {
    "duration": 29,
    "start_time": "2022-12-20T11:51:43.908Z"
   },
   {
    "duration": 1496,
    "start_time": "2022-12-20T11:51:43.939Z"
   },
   {
    "duration": 1602,
    "start_time": "2022-12-20T11:51:45.437Z"
   },
   {
    "duration": 4,
    "start_time": "2022-12-20T11:51:47.041Z"
   },
   {
    "duration": 611,
    "start_time": "2022-12-20T11:51:47.047Z"
   },
   {
    "duration": 34,
    "start_time": "2022-12-20T11:51:47.660Z"
   },
   {
    "duration": 116,
    "start_time": "2022-12-20T11:51:47.696Z"
   },
   {
    "duration": 22500,
    "start_time": "2022-12-20T11:51:47.816Z"
   },
   {
    "duration": 1520,
    "start_time": "2022-12-20T11:53:27.997Z"
   },
   {
    "duration": 710,
    "start_time": "2022-12-20T11:53:29.518Z"
   },
   {
    "duration": 20,
    "start_time": "2022-12-20T11:53:30.230Z"
   },
   {
    "duration": 34,
    "start_time": "2022-12-20T11:53:30.252Z"
   },
   {
    "duration": 39,
    "start_time": "2022-12-20T11:53:30.288Z"
   },
   {
    "duration": 28,
    "start_time": "2022-12-20T11:53:30.328Z"
   },
   {
    "duration": 36,
    "start_time": "2022-12-20T11:53:30.357Z"
   },
   {
    "duration": 56,
    "start_time": "2022-12-20T11:53:30.395Z"
   },
   {
    "duration": 61,
    "start_time": "2022-12-20T11:53:30.453Z"
   },
   {
    "duration": 69,
    "start_time": "2022-12-20T11:53:30.516Z"
   },
   {
    "duration": 64,
    "start_time": "2022-12-20T11:53:30.587Z"
   },
   {
    "duration": 99,
    "start_time": "2022-12-20T11:53:30.654Z"
   },
   {
    "duration": 54,
    "start_time": "2022-12-20T11:53:30.755Z"
   },
   {
    "duration": 51,
    "start_time": "2022-12-20T11:53:30.811Z"
   },
   {
    "duration": 104,
    "start_time": "2022-12-20T11:53:30.864Z"
   },
   {
    "duration": 50,
    "start_time": "2022-12-20T11:53:30.970Z"
   },
   {
    "duration": 51,
    "start_time": "2022-12-20T11:53:31.022Z"
   },
   {
    "duration": 37,
    "start_time": "2022-12-20T11:53:31.075Z"
   },
   {
    "duration": 19,
    "start_time": "2022-12-20T11:53:31.114Z"
   },
   {
    "duration": 939,
    "start_time": "2022-12-20T11:53:31.135Z"
   },
   {
    "duration": 913,
    "start_time": "2022-12-20T11:53:32.076Z"
   },
   {
    "duration": 966,
    "start_time": "2022-12-20T11:53:32.991Z"
   },
   {
    "duration": 493,
    "start_time": "2022-12-20T11:53:33.959Z"
   },
   {
    "duration": 8,
    "start_time": "2022-12-20T11:53:34.454Z"
   },
   {
    "duration": 811,
    "start_time": "2022-12-20T11:53:34.463Z"
   },
   {
    "duration": 21,
    "start_time": "2022-12-20T11:53:35.276Z"
   },
   {
    "duration": 13,
    "start_time": "2022-12-20T11:53:35.299Z"
   },
   {
    "duration": 13,
    "start_time": "2022-12-20T11:53:35.316Z"
   },
   {
    "duration": 12,
    "start_time": "2022-12-20T11:53:35.335Z"
   },
   {
    "duration": 12,
    "start_time": "2022-12-20T11:53:35.349Z"
   },
   {
    "duration": 10,
    "start_time": "2022-12-20T11:53:35.363Z"
   },
   {
    "duration": 21,
    "start_time": "2022-12-20T11:53:35.374Z"
   },
   {
    "duration": 15,
    "start_time": "2022-12-20T11:53:35.396Z"
   },
   {
    "duration": 18,
    "start_time": "2022-12-20T11:53:35.413Z"
   },
   {
    "duration": 1407,
    "start_time": "2022-12-20T11:53:35.433Z"
   },
   {
    "duration": 1195,
    "start_time": "2022-12-20T11:53:36.842Z"
   },
   {
    "duration": 5,
    "start_time": "2022-12-20T11:53:38.040Z"
   },
   {
    "duration": 521,
    "start_time": "2022-12-20T11:53:38.136Z"
   },
   {
    "duration": 33,
    "start_time": "2022-12-20T11:53:38.659Z"
   },
   {
    "duration": 4,
    "start_time": "2022-12-20T11:53:38.694Z"
   },
   {
    "duration": 22357,
    "start_time": "2022-12-20T11:53:38.699Z"
   },
   {
    "duration": 80388,
    "start_time": "2022-12-20T11:54:01.058Z"
   },
   {
    "duration": 4,
    "start_time": "2022-12-20T11:55:21.448Z"
   },
   {
    "duration": 1083,
    "start_time": "2022-12-20T11:55:21.453Z"
   },
   {
    "duration": 1101,
    "start_time": "2022-12-20T11:55:22.539Z"
   },
   {
    "duration": 6,
    "start_time": "2022-12-20T11:55:23.642Z"
   },
   {
    "duration": 1480,
    "start_time": "2022-12-20T11:55:32.165Z"
   },
   {
    "duration": 697,
    "start_time": "2022-12-20T11:55:33.647Z"
   },
   {
    "duration": 18,
    "start_time": "2022-12-20T11:55:34.346Z"
   },
   {
    "duration": 24,
    "start_time": "2022-12-20T11:55:34.366Z"
   },
   {
    "duration": 13,
    "start_time": "2022-12-20T11:55:34.393Z"
   },
   {
    "duration": 45,
    "start_time": "2022-12-20T11:55:34.407Z"
   },
   {
    "duration": 23,
    "start_time": "2022-12-20T11:55:34.454Z"
   },
   {
    "duration": 21,
    "start_time": "2022-12-20T11:55:34.479Z"
   },
   {
    "duration": 20,
    "start_time": "2022-12-20T11:55:34.502Z"
   },
   {
    "duration": 17,
    "start_time": "2022-12-20T11:55:34.535Z"
   },
   {
    "duration": 14,
    "start_time": "2022-12-20T11:55:34.554Z"
   },
   {
    "duration": 19,
    "start_time": "2022-12-20T11:55:34.570Z"
   },
   {
    "duration": 17,
    "start_time": "2022-12-20T11:55:34.591Z"
   },
   {
    "duration": 13,
    "start_time": "2022-12-20T11:55:34.611Z"
   },
   {
    "duration": 30,
    "start_time": "2022-12-20T11:55:34.626Z"
   },
   {
    "duration": 13,
    "start_time": "2022-12-20T11:55:34.658Z"
   },
   {
    "duration": 30,
    "start_time": "2022-12-20T11:55:34.673Z"
   },
   {
    "duration": 48,
    "start_time": "2022-12-20T11:55:34.705Z"
   },
   {
    "duration": 13,
    "start_time": "2022-12-20T11:55:34.755Z"
   },
   {
    "duration": 928,
    "start_time": "2022-12-20T11:55:34.770Z"
   },
   {
    "duration": 854,
    "start_time": "2022-12-20T11:55:35.700Z"
   },
   {
    "duration": 1014,
    "start_time": "2022-12-20T11:55:36.556Z"
   },
   {
    "duration": 591,
    "start_time": "2022-12-20T11:55:37.572Z"
   },
   {
    "duration": 7,
    "start_time": "2022-12-20T11:55:38.165Z"
   },
   {
    "duration": 789,
    "start_time": "2022-12-20T11:55:38.174Z"
   },
   {
    "duration": 23,
    "start_time": "2022-12-20T11:55:38.965Z"
   },
   {
    "duration": 7,
    "start_time": "2022-12-20T11:55:38.990Z"
   },
   {
    "duration": 36,
    "start_time": "2022-12-20T11:55:38.999Z"
   },
   {
    "duration": 29,
    "start_time": "2022-12-20T11:55:39.038Z"
   },
   {
    "duration": 6,
    "start_time": "2022-12-20T11:55:39.069Z"
   },
   {
    "duration": 11,
    "start_time": "2022-12-20T11:55:39.076Z"
   },
   {
    "duration": 17,
    "start_time": "2022-12-20T11:55:39.089Z"
   },
   {
    "duration": 25,
    "start_time": "2022-12-20T11:55:39.108Z"
   },
   {
    "duration": 19,
    "start_time": "2022-12-20T11:55:39.134Z"
   },
   {
    "duration": 1387,
    "start_time": "2022-12-20T11:55:39.155Z"
   },
   {
    "duration": 1396,
    "start_time": "2022-12-20T11:55:40.545Z"
   },
   {
    "duration": 5,
    "start_time": "2022-12-20T11:55:41.944Z"
   },
   {
    "duration": 43882,
    "start_time": "2022-12-20T11:55:42.036Z"
   },
   {
    "duration": 599,
    "start_time": "2022-12-20T11:56:25.920Z"
   },
   {
    "duration": 16,
    "start_time": "2022-12-20T11:56:26.521Z"
   },
   {
    "duration": 22428,
    "start_time": "2022-12-20T11:56:26.542Z"
   },
   {
    "duration": 80185,
    "start_time": "2022-12-20T11:56:48.972Z"
   },
   {
    "duration": 3,
    "start_time": "2022-12-20T11:58:09.158Z"
   },
   {
    "duration": 972,
    "start_time": "2022-12-20T11:58:09.163Z"
   },
   {
    "duration": 1299,
    "start_time": "2022-12-20T11:58:10.138Z"
   },
   {
    "duration": 5,
    "start_time": "2022-12-20T11:58:11.439Z"
   },
   {
    "duration": 45288,
    "start_time": "2022-12-20T11:58:57.054Z"
   },
   {
    "duration": 110,
    "start_time": "2022-12-20T12:04:06.508Z"
   },
   {
    "duration": 2,
    "start_time": "2022-12-20T12:04:36.090Z"
   },
   {
    "duration": 50,
    "start_time": "2022-12-20T12:11:39.304Z"
   },
   {
    "duration": 1496,
    "start_time": "2022-12-20T12:15:56.621Z"
   },
   {
    "duration": 676,
    "start_time": "2022-12-20T12:15:58.119Z"
   },
   {
    "duration": 17,
    "start_time": "2022-12-20T12:15:58.797Z"
   },
   {
    "duration": 35,
    "start_time": "2022-12-20T12:15:58.816Z"
   },
   {
    "duration": 11,
    "start_time": "2022-12-20T12:15:58.853Z"
   },
   {
    "duration": 20,
    "start_time": "2022-12-20T12:15:58.866Z"
   },
   {
    "duration": 17,
    "start_time": "2022-12-20T12:15:58.888Z"
   },
   {
    "duration": 46,
    "start_time": "2022-12-20T12:15:58.907Z"
   },
   {
    "duration": 8,
    "start_time": "2022-12-20T12:15:58.955Z"
   },
   {
    "duration": 10,
    "start_time": "2022-12-20T12:15:58.966Z"
   },
   {
    "duration": 12,
    "start_time": "2022-12-20T12:15:58.977Z"
   },
   {
    "duration": 11,
    "start_time": "2022-12-20T12:15:58.991Z"
   },
   {
    "duration": 32,
    "start_time": "2022-12-20T12:15:59.003Z"
   },
   {
    "duration": 7,
    "start_time": "2022-12-20T12:15:59.049Z"
   },
   {
    "duration": 33,
    "start_time": "2022-12-20T12:15:59.057Z"
   },
   {
    "duration": 14,
    "start_time": "2022-12-20T12:15:59.092Z"
   },
   {
    "duration": 30,
    "start_time": "2022-12-20T12:15:59.108Z"
   },
   {
    "duration": 25,
    "start_time": "2022-12-20T12:15:59.140Z"
   },
   {
    "duration": 11,
    "start_time": "2022-12-20T12:15:59.167Z"
   },
   {
    "duration": 934,
    "start_time": "2022-12-20T12:15:59.180Z"
   },
   {
    "duration": 838,
    "start_time": "2022-12-20T12:16:00.116Z"
   },
   {
    "duration": 945,
    "start_time": "2022-12-20T12:16:00.956Z"
   },
   {
    "duration": 450,
    "start_time": "2022-12-20T12:16:01.903Z"
   },
   {
    "duration": 7,
    "start_time": "2022-12-20T12:16:02.355Z"
   },
   {
    "duration": 834,
    "start_time": "2022-12-20T12:16:02.363Z"
   },
   {
    "duration": 20,
    "start_time": "2022-12-20T12:16:03.199Z"
   },
   {
    "duration": 17,
    "start_time": "2022-12-20T12:16:03.221Z"
   },
   {
    "duration": 17,
    "start_time": "2022-12-20T12:16:03.241Z"
   },
   {
    "duration": 20,
    "start_time": "2022-12-20T12:16:03.259Z"
   },
   {
    "duration": 10,
    "start_time": "2022-12-20T12:16:03.281Z"
   },
   {
    "duration": 6,
    "start_time": "2022-12-20T12:16:03.293Z"
   },
   {
    "duration": 9,
    "start_time": "2022-12-20T12:16:03.300Z"
   },
   {
    "duration": 8,
    "start_time": "2022-12-20T12:16:03.311Z"
   },
   {
    "duration": 9,
    "start_time": "2022-12-20T12:16:03.320Z"
   },
   {
    "duration": 1407,
    "start_time": "2022-12-20T12:16:03.330Z"
   },
   {
    "duration": 1196,
    "start_time": "2022-12-20T12:16:04.740Z"
   },
   {
    "duration": 97,
    "start_time": "2022-12-20T12:16:05.939Z"
   },
   {
    "duration": 43769,
    "start_time": "2022-12-20T12:16:06.038Z"
   },
   {
    "duration": 44985,
    "start_time": "2022-12-20T12:16:49.809Z"
   },
   {
    "duration": 4,
    "start_time": "2022-12-20T12:17:34.796Z"
   },
   {
    "duration": 1387,
    "start_time": "2022-12-20T12:22:55.754Z"
   },
   {
    "duration": 665,
    "start_time": "2022-12-20T12:22:57.142Z"
   },
   {
    "duration": 17,
    "start_time": "2022-12-20T12:22:57.809Z"
   },
   {
    "duration": 31,
    "start_time": "2022-12-20T12:22:57.827Z"
   },
   {
    "duration": 13,
    "start_time": "2022-12-20T12:22:57.860Z"
   },
   {
    "duration": 22,
    "start_time": "2022-12-20T12:22:57.874Z"
   },
   {
    "duration": 47,
    "start_time": "2022-12-20T12:22:57.898Z"
   },
   {
    "duration": 25,
    "start_time": "2022-12-20T12:22:57.948Z"
   },
   {
    "duration": 16,
    "start_time": "2022-12-20T12:22:57.984Z"
   },
   {
    "duration": 20,
    "start_time": "2022-12-20T12:22:58.002Z"
   },
   {
    "duration": 24,
    "start_time": "2022-12-20T12:22:58.024Z"
   },
   {
    "duration": 16,
    "start_time": "2022-12-20T12:22:58.050Z"
   },
   {
    "duration": 20,
    "start_time": "2022-12-20T12:22:58.068Z"
   },
   {
    "duration": 23,
    "start_time": "2022-12-20T12:22:58.092Z"
   },
   {
    "duration": 34,
    "start_time": "2022-12-20T12:22:58.117Z"
   },
   {
    "duration": 13,
    "start_time": "2022-12-20T12:22:58.153Z"
   },
   {
    "duration": 27,
    "start_time": "2022-12-20T12:22:58.168Z"
   },
   {
    "duration": 47,
    "start_time": "2022-12-20T12:22:58.197Z"
   },
   {
    "duration": 13,
    "start_time": "2022-12-20T12:22:58.246Z"
   },
   {
    "duration": 880,
    "start_time": "2022-12-20T12:22:58.261Z"
   },
   {
    "duration": 786,
    "start_time": "2022-12-20T12:22:59.142Z"
   },
   {
    "duration": 932,
    "start_time": "2022-12-20T12:22:59.935Z"
   },
   {
    "duration": 495,
    "start_time": "2022-12-20T12:23:00.869Z"
   },
   {
    "duration": 10,
    "start_time": "2022-12-20T12:23:01.365Z"
   },
   {
    "duration": 778,
    "start_time": "2022-12-20T12:23:01.377Z"
   },
   {
    "duration": 23,
    "start_time": "2022-12-20T12:23:02.158Z"
   },
   {
    "duration": 7,
    "start_time": "2022-12-20T12:23:02.182Z"
   },
   {
    "duration": 64,
    "start_time": "2022-12-20T12:23:02.190Z"
   },
   {
    "duration": 43,
    "start_time": "2022-12-20T12:23:02.256Z"
   },
   {
    "duration": 43,
    "start_time": "2022-12-20T12:23:02.301Z"
   },
   {
    "duration": 27,
    "start_time": "2022-12-20T12:23:02.346Z"
   },
   {
    "duration": 40,
    "start_time": "2022-12-20T12:23:02.375Z"
   },
   {
    "duration": 40,
    "start_time": "2022-12-20T12:23:02.417Z"
   },
   {
    "duration": 18,
    "start_time": "2022-12-20T12:23:02.459Z"
   },
   {
    "duration": 1260,
    "start_time": "2022-12-20T12:23:02.479Z"
   },
   {
    "duration": 1094,
    "start_time": "2022-12-20T12:23:03.742Z"
   },
   {
    "duration": 4,
    "start_time": "2022-12-20T12:23:04.838Z"
   },
   {
    "duration": 43539,
    "start_time": "2022-12-20T12:23:04.844Z"
   },
   {
    "duration": 44190,
    "start_time": "2022-12-20T12:23:48.385Z"
   },
   {
    "duration": 4,
    "start_time": "2022-12-20T12:24:32.578Z"
   },
   {
    "duration": 1452,
    "start_time": "2022-12-20T12:30:29.659Z"
   },
   {
    "duration": 683,
    "start_time": "2022-12-20T12:30:31.113Z"
   },
   {
    "duration": 19,
    "start_time": "2022-12-20T12:30:31.797Z"
   },
   {
    "duration": 36,
    "start_time": "2022-12-20T12:30:31.818Z"
   },
   {
    "duration": 13,
    "start_time": "2022-12-20T12:30:31.857Z"
   },
   {
    "duration": 26,
    "start_time": "2022-12-20T12:30:31.872Z"
   },
   {
    "duration": 53,
    "start_time": "2022-12-20T12:30:31.900Z"
   },
   {
    "duration": 20,
    "start_time": "2022-12-20T12:30:31.955Z"
   },
   {
    "duration": 17,
    "start_time": "2022-12-20T12:30:31.976Z"
   },
   {
    "duration": 32,
    "start_time": "2022-12-20T12:30:31.995Z"
   },
   {
    "duration": 19,
    "start_time": "2022-12-20T12:30:32.029Z"
   },
   {
    "duration": 24,
    "start_time": "2022-12-20T12:30:32.050Z"
   },
   {
    "duration": 23,
    "start_time": "2022-12-20T12:30:32.076Z"
   },
   {
    "duration": 28,
    "start_time": "2022-12-20T12:30:32.103Z"
   },
   {
    "duration": 39,
    "start_time": "2022-12-20T12:30:32.133Z"
   },
   {
    "duration": 16,
    "start_time": "2022-12-20T12:30:32.174Z"
   },
   {
    "duration": 27,
    "start_time": "2022-12-20T12:30:32.191Z"
   },
   {
    "duration": 34,
    "start_time": "2022-12-20T12:30:32.220Z"
   },
   {
    "duration": 15,
    "start_time": "2022-12-20T12:30:32.256Z"
   },
   {
    "duration": 987,
    "start_time": "2022-12-20T12:30:32.273Z"
   },
   {
    "duration": 842,
    "start_time": "2022-12-20T12:30:33.261Z"
   },
   {
    "duration": 946,
    "start_time": "2022-12-20T12:30:34.105Z"
   },
   {
    "duration": 413,
    "start_time": "2022-12-20T12:30:35.053Z"
   },
   {
    "duration": 7,
    "start_time": "2022-12-20T12:30:35.468Z"
   },
   {
    "duration": 836,
    "start_time": "2022-12-20T12:30:35.477Z"
   },
   {
    "duration": 32,
    "start_time": "2022-12-20T12:30:36.315Z"
   },
   {
    "duration": 6,
    "start_time": "2022-12-20T12:30:36.349Z"
   },
   {
    "duration": 21,
    "start_time": "2022-12-20T12:30:36.357Z"
   },
   {
    "duration": 15,
    "start_time": "2022-12-20T12:30:36.380Z"
   },
   {
    "duration": 7,
    "start_time": "2022-12-20T12:30:36.396Z"
   },
   {
    "duration": 10,
    "start_time": "2022-12-20T12:30:36.405Z"
   },
   {
    "duration": 24,
    "start_time": "2022-12-20T12:30:36.416Z"
   },
   {
    "duration": 12,
    "start_time": "2022-12-20T12:30:36.442Z"
   },
   {
    "duration": 6,
    "start_time": "2022-12-20T12:30:36.456Z"
   },
   {
    "duration": 1573,
    "start_time": "2022-12-20T12:30:36.464Z"
   },
   {
    "duration": 1898,
    "start_time": "2022-12-20T12:30:38.040Z"
   },
   {
    "duration": 4,
    "start_time": "2022-12-20T12:30:39.940Z"
   },
   {
    "duration": 45161,
    "start_time": "2022-12-20T12:30:39.946Z"
   },
   {
    "duration": 45694,
    "start_time": "2022-12-20T12:31:25.109Z"
   },
   {
    "duration": 3,
    "start_time": "2022-12-20T12:32:10.805Z"
   },
   {
    "duration": 1440,
    "start_time": "2022-12-20T13:52:48.873Z"
   },
   {
    "duration": 716,
    "start_time": "2022-12-20T13:52:50.315Z"
   },
   {
    "duration": 20,
    "start_time": "2022-12-20T13:52:51.034Z"
   },
   {
    "duration": 47,
    "start_time": "2022-12-20T13:52:51.057Z"
   },
   {
    "duration": 20,
    "start_time": "2022-12-20T13:52:51.108Z"
   },
   {
    "duration": 50,
    "start_time": "2022-12-20T13:52:51.129Z"
   },
   {
    "duration": 88,
    "start_time": "2022-12-20T13:52:51.182Z"
   },
   {
    "duration": 49,
    "start_time": "2022-12-20T13:52:51.272Z"
   },
   {
    "duration": 30,
    "start_time": "2022-12-20T13:52:51.322Z"
   },
   {
    "duration": 21,
    "start_time": "2022-12-20T13:52:51.353Z"
   },
   {
    "duration": 57,
    "start_time": "2022-12-20T13:52:51.376Z"
   },
   {
    "duration": 47,
    "start_time": "2022-12-20T13:52:51.435Z"
   },
   {
    "duration": 35,
    "start_time": "2022-12-20T13:52:51.484Z"
   },
   {
    "duration": 23,
    "start_time": "2022-12-20T13:52:51.523Z"
   },
   {
    "duration": 45,
    "start_time": "2022-12-20T13:52:51.548Z"
   },
   {
    "duration": 22,
    "start_time": "2022-12-20T13:52:51.596Z"
   },
   {
    "duration": 41,
    "start_time": "2022-12-20T13:52:51.621Z"
   },
   {
    "duration": 30,
    "start_time": "2022-12-20T13:52:51.665Z"
   },
   {
    "duration": 15,
    "start_time": "2022-12-20T13:52:51.696Z"
   },
   {
    "duration": 1083,
    "start_time": "2022-12-20T13:52:51.713Z"
   },
   {
    "duration": 859,
    "start_time": "2022-12-20T13:52:52.798Z"
   },
   {
    "duration": 944,
    "start_time": "2022-12-20T13:52:53.659Z"
   },
   {
    "duration": 472,
    "start_time": "2022-12-20T13:52:54.605Z"
   },
   {
    "duration": 9,
    "start_time": "2022-12-20T13:52:55.079Z"
   },
   {
    "duration": 828,
    "start_time": "2022-12-20T13:52:55.090Z"
   },
   {
    "duration": 31,
    "start_time": "2022-12-20T13:52:55.920Z"
   },
   {
    "duration": 16,
    "start_time": "2022-12-20T13:52:55.953Z"
   },
   {
    "duration": 39,
    "start_time": "2022-12-20T13:52:55.972Z"
   },
   {
    "duration": 44,
    "start_time": "2022-12-20T13:52:56.013Z"
   },
   {
    "duration": 31,
    "start_time": "2022-12-20T13:52:56.059Z"
   },
   {
    "duration": 76,
    "start_time": "2022-12-20T13:52:56.092Z"
   },
   {
    "duration": 16,
    "start_time": "2022-12-20T13:52:56.170Z"
   },
   {
    "duration": 45,
    "start_time": "2022-12-20T13:52:56.188Z"
   },
   {
    "duration": 36,
    "start_time": "2022-12-20T13:52:56.235Z"
   },
   {
    "duration": 1464,
    "start_time": "2022-12-20T13:52:56.273Z"
   },
   {
    "duration": 1603,
    "start_time": "2022-12-20T13:52:57.740Z"
   },
   {
    "duration": 88,
    "start_time": "2022-12-20T13:52:59.349Z"
   },
   {
    "duration": 45309,
    "start_time": "2022-12-20T13:52:59.439Z"
   },
   {
    "duration": 1815,
    "start_time": "2022-12-20T19:03:38.758Z"
   },
   {
    "duration": 4647,
    "start_time": "2022-12-20T19:03:40.578Z"
   },
   {
    "duration": 28,
    "start_time": "2022-12-20T19:03:45.230Z"
   },
   {
    "duration": 42,
    "start_time": "2022-12-20T19:03:45.260Z"
   },
   {
    "duration": 21,
    "start_time": "2022-12-20T19:03:45.305Z"
   },
   {
    "duration": 69,
    "start_time": "2022-12-20T19:03:45.328Z"
   },
   {
    "duration": 38,
    "start_time": "2022-12-20T19:03:45.399Z"
   },
   {
    "duration": 54,
    "start_time": "2022-12-20T19:03:45.438Z"
   },
   {
    "duration": 14,
    "start_time": "2022-12-20T19:03:45.494Z"
   },
   {
    "duration": 77,
    "start_time": "2022-12-20T19:03:45.509Z"
   },
   {
    "duration": 17,
    "start_time": "2022-12-20T19:03:45.588Z"
   },
   {
    "duration": 49,
    "start_time": "2022-12-20T19:03:45.607Z"
   },
   {
    "duration": 22,
    "start_time": "2022-12-20T19:03:45.658Z"
   },
   {
    "duration": 9,
    "start_time": "2022-12-20T19:03:45.684Z"
   },
   {
    "duration": 48,
    "start_time": "2022-12-20T19:03:45.694Z"
   },
   {
    "duration": 21,
    "start_time": "2022-12-20T19:03:45.744Z"
   },
   {
    "duration": 35,
    "start_time": "2022-12-20T19:03:45.767Z"
   },
   {
    "duration": 49,
    "start_time": "2022-12-20T19:03:45.804Z"
   },
   {
    "duration": 29,
    "start_time": "2022-12-20T19:03:45.855Z"
   },
   {
    "duration": 1200,
    "start_time": "2022-12-20T19:03:45.886Z"
   },
   {
    "duration": 1059,
    "start_time": "2022-12-20T19:03:47.089Z"
   },
   {
    "duration": 1142,
    "start_time": "2022-12-20T19:03:48.150Z"
   },
   {
    "duration": 670,
    "start_time": "2022-12-20T19:03:49.294Z"
   },
   {
    "duration": 11,
    "start_time": "2022-12-20T19:03:49.967Z"
   },
   {
    "duration": 1038,
    "start_time": "2022-12-20T19:03:49.980Z"
   },
   {
    "duration": 37,
    "start_time": "2022-12-20T19:03:51.026Z"
   },
   {
    "duration": 24,
    "start_time": "2022-12-20T19:03:51.065Z"
   },
   {
    "duration": 49,
    "start_time": "2022-12-20T19:03:51.091Z"
   },
   {
    "duration": 48,
    "start_time": "2022-12-20T19:03:51.146Z"
   },
   {
    "duration": 61,
    "start_time": "2022-12-20T19:03:51.195Z"
   },
   {
    "duration": 15,
    "start_time": "2022-12-20T19:03:51.257Z"
   },
   {
    "duration": 20,
    "start_time": "2022-12-20T19:03:51.274Z"
   },
   {
    "duration": 63,
    "start_time": "2022-12-20T19:03:51.296Z"
   },
   {
    "duration": 22,
    "start_time": "2022-12-20T19:03:51.361Z"
   },
   {
    "duration": 4261,
    "start_time": "2022-12-20T19:03:51.385Z"
   },
   {
    "duration": 2723,
    "start_time": "2022-12-20T19:03:55.711Z"
   },
   {
    "duration": 68,
    "start_time": "2022-12-20T19:03:58.445Z"
   },
   {
    "duration": 48023,
    "start_time": "2022-12-20T19:03:58.516Z"
   },
   {
    "duration": 48626,
    "start_time": "2022-12-20T19:04:46.541Z"
   },
   {
    "duration": 5,
    "start_time": "2022-12-20T19:05:35.169Z"
   },
   {
    "duration": 1565,
    "start_time": "2022-12-20T19:12:37.582Z"
   },
   {
    "duration": 815,
    "start_time": "2022-12-20T19:12:39.151Z"
   },
   {
    "duration": 24,
    "start_time": "2022-12-20T19:12:39.968Z"
   },
   {
    "duration": 64,
    "start_time": "2022-12-20T19:12:39.994Z"
   },
   {
    "duration": 14,
    "start_time": "2022-12-20T19:12:40.062Z"
   },
   {
    "duration": 44,
    "start_time": "2022-12-20T19:12:40.078Z"
   },
   {
    "duration": 62,
    "start_time": "2022-12-20T19:12:40.125Z"
   },
   {
    "duration": 38,
    "start_time": "2022-12-20T19:12:40.190Z"
   },
   {
    "duration": 34,
    "start_time": "2022-12-20T19:12:40.232Z"
   },
   {
    "duration": 7,
    "start_time": "2022-12-20T19:12:40.268Z"
   },
   {
    "duration": 16,
    "start_time": "2022-12-20T19:12:40.277Z"
   },
   {
    "duration": 12,
    "start_time": "2022-12-20T19:12:40.295Z"
   },
   {
    "duration": 59,
    "start_time": "2022-12-20T19:12:40.310Z"
   },
   {
    "duration": 10,
    "start_time": "2022-12-20T19:12:40.374Z"
   },
   {
    "duration": 41,
    "start_time": "2022-12-20T19:12:40.386Z"
   },
   {
    "duration": 24,
    "start_time": "2022-12-20T19:12:40.429Z"
   },
   {
    "duration": 49,
    "start_time": "2022-12-20T19:12:40.455Z"
   },
   {
    "duration": 46,
    "start_time": "2022-12-20T19:12:40.506Z"
   },
   {
    "duration": 17,
    "start_time": "2022-12-20T19:12:40.558Z"
   },
   {
    "duration": 1078,
    "start_time": "2022-12-20T19:12:40.577Z"
   },
   {
    "duration": 932,
    "start_time": "2022-12-20T19:12:41.656Z"
   },
   {
    "duration": 1290,
    "start_time": "2022-12-20T19:12:42.590Z"
   },
   {
    "duration": 511,
    "start_time": "2022-12-20T19:12:43.883Z"
   },
   {
    "duration": 20,
    "start_time": "2022-12-20T19:12:44.396Z"
   },
   {
    "duration": 918,
    "start_time": "2022-12-20T19:12:44.421Z"
   },
   {
    "duration": 24,
    "start_time": "2022-12-20T19:12:45.341Z"
   },
   {
    "duration": 9,
    "start_time": "2022-12-20T19:12:45.367Z"
   },
   {
    "duration": 10,
    "start_time": "2022-12-20T19:12:45.377Z"
   },
   {
    "duration": 29,
    "start_time": "2022-12-20T19:12:45.388Z"
   },
   {
    "duration": 38,
    "start_time": "2022-12-20T19:12:45.419Z"
   },
   {
    "duration": 5,
    "start_time": "2022-12-20T19:12:45.460Z"
   },
   {
    "duration": 5,
    "start_time": "2022-12-20T19:12:45.467Z"
   },
   {
    "duration": 13,
    "start_time": "2022-12-20T19:12:45.474Z"
   },
   {
    "duration": 11,
    "start_time": "2022-12-20T19:12:45.490Z"
   },
   {
    "duration": 4725,
    "start_time": "2022-12-20T19:12:45.503Z"
   },
   {
    "duration": 3319,
    "start_time": "2022-12-20T19:12:50.239Z"
   },
   {
    "duration": 53,
    "start_time": "2022-12-20T19:12:53.562Z"
   },
   {
    "duration": 47047,
    "start_time": "2022-12-20T19:12:53.617Z"
   },
   {
    "duration": 59124,
    "start_time": "2022-12-20T19:13:40.666Z"
   },
   {
    "duration": 1998,
    "start_time": "2022-12-20T19:16:36.474Z"
   },
   {
    "duration": 889,
    "start_time": "2022-12-20T19:16:38.474Z"
   },
   {
    "duration": 28,
    "start_time": "2022-12-20T19:16:39.366Z"
   },
   {
    "duration": 76,
    "start_time": "2022-12-20T19:16:39.400Z"
   },
   {
    "duration": 19,
    "start_time": "2022-12-20T19:16:39.480Z"
   },
   {
    "duration": 32,
    "start_time": "2022-12-20T19:16:39.501Z"
   },
   {
    "duration": 69,
    "start_time": "2022-12-20T19:16:39.535Z"
   },
   {
    "duration": 57,
    "start_time": "2022-12-20T19:16:39.606Z"
   },
   {
    "duration": 36,
    "start_time": "2022-12-20T19:16:39.666Z"
   },
   {
    "duration": 6,
    "start_time": "2022-12-20T19:16:39.703Z"
   },
   {
    "duration": 58,
    "start_time": "2022-12-20T19:16:39.710Z"
   },
   {
    "duration": 13,
    "start_time": "2022-12-20T19:16:39.772Z"
   },
   {
    "duration": 18,
    "start_time": "2022-12-20T19:16:39.787Z"
   },
   {
    "duration": 59,
    "start_time": "2022-12-20T19:16:39.810Z"
   },
   {
    "duration": 49,
    "start_time": "2022-12-20T19:16:39.871Z"
   },
   {
    "duration": 26,
    "start_time": "2022-12-20T19:16:39.930Z"
   },
   {
    "duration": 35,
    "start_time": "2022-12-20T19:16:39.962Z"
   },
   {
    "duration": 64,
    "start_time": "2022-12-20T19:16:39.999Z"
   },
   {
    "duration": 18,
    "start_time": "2022-12-20T19:16:40.065Z"
   },
   {
    "duration": 1233,
    "start_time": "2022-12-20T19:16:40.086Z"
   },
   {
    "duration": 1273,
    "start_time": "2022-12-20T19:16:41.321Z"
   },
   {
    "duration": 1421,
    "start_time": "2022-12-20T19:16:42.596Z"
   },
   {
    "duration": 701,
    "start_time": "2022-12-20T19:16:44.021Z"
   },
   {
    "duration": 27,
    "start_time": "2022-12-20T19:16:44.725Z"
   },
   {
    "duration": 1785,
    "start_time": "2022-12-20T19:16:44.756Z"
   },
   {
    "duration": 36,
    "start_time": "2022-12-20T19:16:46.549Z"
   },
   {
    "duration": 77,
    "start_time": "2022-12-20T19:16:46.592Z"
   },
   {
    "duration": 70,
    "start_time": "2022-12-20T19:16:46.676Z"
   },
   {
    "duration": 30,
    "start_time": "2022-12-20T19:16:46.755Z"
   },
   {
    "duration": 11,
    "start_time": "2022-12-20T19:16:46.787Z"
   },
   {
    "duration": 10,
    "start_time": "2022-12-20T19:16:46.801Z"
   },
   {
    "duration": 60,
    "start_time": "2022-12-20T19:16:46.816Z"
   },
   {
    "duration": 108,
    "start_time": "2022-12-20T19:16:46.878Z"
   },
   {
    "duration": 29,
    "start_time": "2022-12-20T19:16:46.988Z"
   },
   {
    "duration": 2115,
    "start_time": "2022-12-20T19:16:47.022Z"
   },
   {
    "duration": 3701,
    "start_time": "2022-12-20T19:16:49.142Z"
   },
   {
    "duration": 8,
    "start_time": "2022-12-20T19:16:52.845Z"
   },
   {
    "duration": 50667,
    "start_time": "2022-12-20T19:16:52.855Z"
   },
   {
    "duration": 47957,
    "start_time": "2022-12-20T19:17:43.531Z"
   },
   {
    "duration": 5,
    "start_time": "2022-12-20T19:18:31.490Z"
   },
   {
    "duration": 196,
    "start_time": "2022-12-20T19:18:31.520Z"
   },
   {
    "duration": 46,
    "start_time": "2022-12-20T19:18:31.723Z"
   },
   {
    "duration": 0,
    "start_time": "2022-12-20T19:18:31.771Z"
   },
   {
    "duration": 0,
    "start_time": "2022-12-20T19:18:31.772Z"
   },
   {
    "duration": 0,
    "start_time": "2022-12-20T19:18:31.773Z"
   },
   {
    "duration": 0,
    "start_time": "2022-12-20T19:18:31.775Z"
   },
   {
    "duration": 0,
    "start_time": "2022-12-20T19:18:31.776Z"
   },
   {
    "duration": 0,
    "start_time": "2022-12-20T19:18:31.777Z"
   },
   {
    "duration": 0,
    "start_time": "2022-12-20T19:18:31.778Z"
   },
   {
    "duration": 0,
    "start_time": "2022-12-20T19:18:31.779Z"
   },
   {
    "duration": 0,
    "start_time": "2022-12-20T19:18:31.780Z"
   },
   {
    "duration": 0,
    "start_time": "2022-12-20T19:18:31.782Z"
   },
   {
    "duration": 1566,
    "start_time": "2022-12-20T19:25:06.455Z"
   },
   {
    "duration": 772,
    "start_time": "2022-12-20T19:25:08.028Z"
   },
   {
    "duration": 31,
    "start_time": "2022-12-20T19:25:08.801Z"
   },
   {
    "duration": 32,
    "start_time": "2022-12-20T19:25:08.842Z"
   },
   {
    "duration": 13,
    "start_time": "2022-12-20T19:25:08.877Z"
   },
   {
    "duration": 50,
    "start_time": "2022-12-20T19:25:08.892Z"
   },
   {
    "duration": 21,
    "start_time": "2022-12-20T19:25:08.944Z"
   },
   {
    "duration": 33,
    "start_time": "2022-12-20T19:25:08.967Z"
   },
   {
    "duration": 24,
    "start_time": "2022-12-20T19:25:09.002Z"
   },
   {
    "duration": 23,
    "start_time": "2022-12-20T19:25:09.029Z"
   },
   {
    "duration": 16,
    "start_time": "2022-12-20T19:25:09.054Z"
   },
   {
    "duration": 12,
    "start_time": "2022-12-20T19:25:09.072Z"
   },
   {
    "duration": 18,
    "start_time": "2022-12-20T19:25:09.086Z"
   },
   {
    "duration": 19,
    "start_time": "2022-12-20T19:25:09.107Z"
   },
   {
    "duration": 53,
    "start_time": "2022-12-20T19:25:09.129Z"
   },
   {
    "duration": 15,
    "start_time": "2022-12-20T19:25:09.184Z"
   },
   {
    "duration": 32,
    "start_time": "2022-12-20T19:25:09.201Z"
   },
   {
    "duration": 45,
    "start_time": "2022-12-20T19:25:09.234Z"
   },
   {
    "duration": 15,
    "start_time": "2022-12-20T19:25:09.282Z"
   },
   {
    "duration": 1058,
    "start_time": "2022-12-20T19:25:09.299Z"
   },
   {
    "duration": 931,
    "start_time": "2022-12-20T19:25:10.360Z"
   },
   {
    "duration": 1137,
    "start_time": "2022-12-20T19:25:11.294Z"
   },
   {
    "duration": 544,
    "start_time": "2022-12-20T19:25:12.432Z"
   },
   {
    "duration": 9,
    "start_time": "2022-12-20T19:25:12.978Z"
   },
   {
    "duration": 911,
    "start_time": "2022-12-20T19:25:12.989Z"
   },
   {
    "duration": 35,
    "start_time": "2022-12-20T19:25:13.901Z"
   },
   {
    "duration": 9,
    "start_time": "2022-12-20T19:25:13.948Z"
   },
   {
    "duration": 8,
    "start_time": "2022-12-20T19:25:13.959Z"
   },
   {
    "duration": 12,
    "start_time": "2022-12-20T19:25:13.968Z"
   },
   {
    "duration": 8,
    "start_time": "2022-12-20T19:25:13.982Z"
   },
   {
    "duration": 8,
    "start_time": "2022-12-20T19:25:13.991Z"
   },
   {
    "duration": 5,
    "start_time": "2022-12-20T19:25:14.001Z"
   },
   {
    "duration": 39,
    "start_time": "2022-12-20T19:25:14.016Z"
   },
   {
    "duration": 6,
    "start_time": "2022-12-20T19:25:14.057Z"
   },
   {
    "duration": 3288,
    "start_time": "2022-12-20T19:25:14.065Z"
   },
   {
    "duration": 3162,
    "start_time": "2022-12-20T19:25:17.365Z"
   },
   {
    "duration": 8,
    "start_time": "2022-12-20T19:25:20.530Z"
   },
   {
    "duration": 47390,
    "start_time": "2022-12-20T19:25:20.542Z"
   },
   {
    "duration": 49539,
    "start_time": "2022-12-20T19:26:07.935Z"
   },
   {
    "duration": 4,
    "start_time": "2022-12-20T19:26:57.477Z"
   },
   {
    "duration": 1491,
    "start_time": "2022-12-20T19:29:24.489Z"
   },
   {
    "duration": 782,
    "start_time": "2022-12-20T19:29:25.983Z"
   },
   {
    "duration": 21,
    "start_time": "2022-12-20T19:29:26.768Z"
   },
   {
    "duration": 55,
    "start_time": "2022-12-20T19:29:26.791Z"
   },
   {
    "duration": 27,
    "start_time": "2022-12-20T19:29:26.854Z"
   },
   {
    "duration": 42,
    "start_time": "2022-12-20T19:29:26.884Z"
   },
   {
    "duration": 32,
    "start_time": "2022-12-20T19:29:26.928Z"
   },
   {
    "duration": 31,
    "start_time": "2022-12-20T19:29:26.963Z"
   },
   {
    "duration": 22,
    "start_time": "2022-12-20T19:29:26.996Z"
   },
   {
    "duration": 8,
    "start_time": "2022-12-20T19:29:27.023Z"
   },
   {
    "duration": 31,
    "start_time": "2022-12-20T19:29:27.033Z"
   },
   {
    "duration": 7,
    "start_time": "2022-12-20T19:29:27.066Z"
   },
   {
    "duration": 13,
    "start_time": "2022-12-20T19:29:27.074Z"
   },
   {
    "duration": 10,
    "start_time": "2022-12-20T19:29:27.090Z"
   },
   {
    "duration": 42,
    "start_time": "2022-12-20T19:29:27.101Z"
   },
   {
    "duration": 30,
    "start_time": "2022-12-20T19:29:27.145Z"
   },
   {
    "duration": 27,
    "start_time": "2022-12-20T19:29:27.177Z"
   },
   {
    "duration": 49,
    "start_time": "2022-12-20T19:29:27.205Z"
   },
   {
    "duration": 15,
    "start_time": "2022-12-20T19:29:27.256Z"
   },
   {
    "duration": 1085,
    "start_time": "2022-12-20T19:29:27.273Z"
   },
   {
    "duration": 909,
    "start_time": "2022-12-20T19:29:28.359Z"
   },
   {
    "duration": 1112,
    "start_time": "2022-12-20T19:29:29.271Z"
   },
   {
    "duration": 486,
    "start_time": "2022-12-20T19:29:30.385Z"
   },
   {
    "duration": 9,
    "start_time": "2022-12-20T19:29:30.873Z"
   },
   {
    "duration": 894,
    "start_time": "2022-12-20T19:29:30.883Z"
   },
   {
    "duration": 21,
    "start_time": "2022-12-20T19:29:31.779Z"
   },
   {
    "duration": 14,
    "start_time": "2022-12-20T19:29:31.803Z"
   },
   {
    "duration": 40,
    "start_time": "2022-12-20T19:29:31.819Z"
   },
   {
    "duration": 18,
    "start_time": "2022-12-20T19:29:31.861Z"
   },
   {
    "duration": 7,
    "start_time": "2022-12-20T19:29:31.881Z"
   },
   {
    "duration": 7,
    "start_time": "2022-12-20T19:29:31.890Z"
   },
   {
    "duration": 6,
    "start_time": "2022-12-20T19:29:31.899Z"
   },
   {
    "duration": 72,
    "start_time": "2022-12-20T19:29:31.907Z"
   },
   {
    "duration": 5,
    "start_time": "2022-12-20T19:29:31.982Z"
   },
   {
    "duration": 3160,
    "start_time": "2022-12-20T19:29:31.989Z"
   },
   {
    "duration": 3792,
    "start_time": "2022-12-20T19:29:35.157Z"
   },
   {
    "duration": 16,
    "start_time": "2022-12-20T19:29:39.020Z"
   },
   {
    "duration": 46983,
    "start_time": "2022-12-20T19:29:39.039Z"
   },
   {
    "duration": 48676,
    "start_time": "2022-12-20T19:30:26.028Z"
   },
   {
    "duration": 6,
    "start_time": "2022-12-20T19:31:14.706Z"
   },
   {
    "duration": 293,
    "start_time": "2022-12-20T19:31:14.717Z"
   },
   {
    "duration": 1912,
    "start_time": "2022-12-20T19:31:15.012Z"
   },
   {
    "duration": 86,
    "start_time": "2022-12-20T19:31:16.926Z"
   },
   {
    "duration": 4389,
    "start_time": "2022-12-20T19:31:17.016Z"
   },
   {
    "duration": 10,
    "start_time": "2022-12-20T19:31:21.407Z"
   },
   {
    "duration": 59,
    "start_time": "2022-12-20T19:31:21.422Z"
   },
   {
    "duration": 33367,
    "start_time": "2022-12-20T19:31:21.483Z"
   },
   {
    "duration": 1581,
    "start_time": "2022-12-20T19:31:56.789Z"
   },
   {
    "duration": 785,
    "start_time": "2022-12-20T19:31:58.372Z"
   },
   {
    "duration": 20,
    "start_time": "2022-12-20T19:31:59.159Z"
   },
   {
    "duration": 55,
    "start_time": "2022-12-20T19:31:59.181Z"
   },
   {
    "duration": 27,
    "start_time": "2022-12-20T19:31:59.239Z"
   },
   {
    "duration": 24,
    "start_time": "2022-12-20T19:31:59.268Z"
   },
   {
    "duration": 43,
    "start_time": "2022-12-20T19:31:59.294Z"
   },
   {
    "duration": 28,
    "start_time": "2022-12-20T19:31:59.341Z"
   },
   {
    "duration": 13,
    "start_time": "2022-12-20T19:31:59.371Z"
   },
   {
    "duration": 4,
    "start_time": "2022-12-20T19:31:59.388Z"
   },
   {
    "duration": 36,
    "start_time": "2022-12-20T19:31:59.393Z"
   },
   {
    "duration": 33,
    "start_time": "2022-12-20T19:31:59.430Z"
   },
   {
    "duration": 19,
    "start_time": "2022-12-20T19:31:59.465Z"
   },
   {
    "duration": 12,
    "start_time": "2022-12-20T19:31:59.485Z"
   },
   {
    "duration": 32,
    "start_time": "2022-12-20T19:31:59.499Z"
   },
   {
    "duration": 21,
    "start_time": "2022-12-20T19:31:59.538Z"
   },
   {
    "duration": 29,
    "start_time": "2022-12-20T19:31:59.561Z"
   },
   {
    "duration": 50,
    "start_time": "2022-12-20T19:31:59.592Z"
   },
   {
    "duration": 15,
    "start_time": "2022-12-20T19:31:59.643Z"
   },
   {
    "duration": 1113,
    "start_time": "2022-12-20T19:31:59.660Z"
   },
   {
    "duration": 999,
    "start_time": "2022-12-20T19:32:00.776Z"
   },
   {
    "duration": 1156,
    "start_time": "2022-12-20T19:32:01.777Z"
   },
   {
    "duration": 426,
    "start_time": "2022-12-20T19:32:02.935Z"
   },
   {
    "duration": 11,
    "start_time": "2022-12-20T19:32:03.364Z"
   },
   {
    "duration": 955,
    "start_time": "2022-12-20T19:32:03.377Z"
   },
   {
    "duration": 28,
    "start_time": "2022-12-20T19:32:04.334Z"
   },
   {
    "duration": 15,
    "start_time": "2022-12-20T19:32:04.363Z"
   },
   {
    "duration": 12,
    "start_time": "2022-12-20T19:32:04.382Z"
   },
   {
    "duration": 19,
    "start_time": "2022-12-20T19:32:04.395Z"
   },
   {
    "duration": 37,
    "start_time": "2022-12-20T19:32:04.417Z"
   },
   {
    "duration": 10,
    "start_time": "2022-12-20T19:32:04.456Z"
   },
   {
    "duration": 15,
    "start_time": "2022-12-20T19:32:04.468Z"
   },
   {
    "duration": 12,
    "start_time": "2022-12-20T19:32:04.484Z"
   },
   {
    "duration": 6,
    "start_time": "2022-12-20T19:32:04.499Z"
   },
   {
    "duration": 3310,
    "start_time": "2022-12-20T19:32:04.507Z"
   },
   {
    "duration": 2697,
    "start_time": "2022-12-20T19:32:07.820Z"
   },
   {
    "duration": 12,
    "start_time": "2022-12-20T19:32:10.526Z"
   },
   {
    "duration": 46753,
    "start_time": "2022-12-20T19:32:10.546Z"
   },
   {
    "duration": 47061,
    "start_time": "2022-12-20T19:32:57.301Z"
   },
   {
    "duration": 4,
    "start_time": "2022-12-20T19:33:44.364Z"
   },
   {
    "duration": 214,
    "start_time": "2022-12-20T19:33:44.370Z"
   },
   {
    "duration": 1906,
    "start_time": "2022-12-20T19:33:44.586Z"
   },
   {
    "duration": 2038,
    "start_time": "2022-12-20T19:33:46.494Z"
   },
   {
    "duration": 3931,
    "start_time": "2022-12-20T19:33:48.533Z"
   },
   {
    "duration": 5,
    "start_time": "2022-12-20T19:33:52.466Z"
   },
   {
    "duration": 11,
    "start_time": "2022-12-20T19:33:52.473Z"
   },
   {
    "duration": 32552,
    "start_time": "2022-12-20T19:33:52.486Z"
   },
   {
    "duration": 44307,
    "start_time": "2022-12-20T19:34:25.055Z"
   },
   {
    "duration": 7,
    "start_time": "2022-12-20T19:35:09.364Z"
   },
   {
    "duration": 18,
    "start_time": "2022-12-20T19:35:09.373Z"
   },
   {
    "duration": 47,
    "start_time": "2022-12-20T19:35:09.394Z"
   },
   {
    "duration": 21,
    "start_time": "2022-12-20T19:35:09.446Z"
   },
   {
    "duration": 19,
    "start_time": "2022-12-20T19:35:09.468Z"
   },
   {
    "duration": 1711,
    "start_time": "2022-12-20T19:35:39.380Z"
   },
   {
    "duration": 843,
    "start_time": "2022-12-20T19:35:41.093Z"
   },
   {
    "duration": 27,
    "start_time": "2022-12-20T19:35:41.937Z"
   },
   {
    "duration": 42,
    "start_time": "2022-12-20T19:35:41.968Z"
   },
   {
    "duration": 38,
    "start_time": "2022-12-20T19:35:42.012Z"
   },
   {
    "duration": 44,
    "start_time": "2022-12-20T19:35:42.052Z"
   },
   {
    "duration": 25,
    "start_time": "2022-12-20T19:35:42.099Z"
   },
   {
    "duration": 41,
    "start_time": "2022-12-20T19:35:42.127Z"
   },
   {
    "duration": 13,
    "start_time": "2022-12-20T19:35:42.171Z"
   },
   {
    "duration": 6,
    "start_time": "2022-12-20T19:35:42.188Z"
   },
   {
    "duration": 73,
    "start_time": "2022-12-20T19:35:42.196Z"
   },
   {
    "duration": 18,
    "start_time": "2022-12-20T19:35:42.271Z"
   },
   {
    "duration": 62,
    "start_time": "2022-12-20T19:35:42.291Z"
   },
   {
    "duration": 20,
    "start_time": "2022-12-20T19:35:42.359Z"
   },
   {
    "duration": 23,
    "start_time": "2022-12-20T19:35:42.383Z"
   },
   {
    "duration": 25,
    "start_time": "2022-12-20T19:35:42.408Z"
   },
   {
    "duration": 81,
    "start_time": "2022-12-20T19:35:42.435Z"
   },
   {
    "duration": 45,
    "start_time": "2022-12-20T19:35:42.518Z"
   },
   {
    "duration": 39,
    "start_time": "2022-12-20T19:35:42.566Z"
   },
   {
    "duration": 1252,
    "start_time": "2022-12-20T19:35:42.608Z"
   },
   {
    "duration": 1203,
    "start_time": "2022-12-20T19:35:43.864Z"
   },
   {
    "duration": 1292,
    "start_time": "2022-12-20T19:35:45.069Z"
   },
   {
    "duration": 542,
    "start_time": "2022-12-20T19:35:46.364Z"
   },
   {
    "duration": 13,
    "start_time": "2022-12-20T19:35:46.921Z"
   },
   {
    "duration": 1152,
    "start_time": "2022-12-20T19:35:46.942Z"
   },
   {
    "duration": 39,
    "start_time": "2022-12-20T19:35:48.096Z"
   },
   {
    "duration": 41,
    "start_time": "2022-12-20T19:35:48.137Z"
   },
   {
    "duration": 59,
    "start_time": "2022-12-20T19:35:48.190Z"
   },
   {
    "duration": 39,
    "start_time": "2022-12-20T19:35:48.251Z"
   },
   {
    "duration": 7,
    "start_time": "2022-12-20T19:35:48.292Z"
   },
   {
    "duration": 5,
    "start_time": "2022-12-20T19:35:48.301Z"
   },
   {
    "duration": 48,
    "start_time": "2022-12-20T19:35:48.308Z"
   },
   {
    "duration": 9,
    "start_time": "2022-12-20T19:35:48.358Z"
   },
   {
    "duration": 5,
    "start_time": "2022-12-20T19:35:48.369Z"
   },
   {
    "duration": 5342,
    "start_time": "2022-12-20T19:35:48.376Z"
   },
   {
    "duration": 3292,
    "start_time": "2022-12-20T19:35:53.720Z"
   },
   {
    "duration": 13,
    "start_time": "2022-12-20T19:35:57.015Z"
   },
   {
    "duration": 46617,
    "start_time": "2022-12-20T19:35:57.034Z"
   },
   {
    "duration": 48589,
    "start_time": "2022-12-20T19:36:43.653Z"
   },
   {
    "duration": 4,
    "start_time": "2022-12-20T19:37:32.250Z"
   },
   {
    "duration": 1450,
    "start_time": "2022-12-20T19:41:49.951Z"
   },
   {
    "duration": 743,
    "start_time": "2022-12-20T19:41:51.403Z"
   },
   {
    "duration": 17,
    "start_time": "2022-12-20T19:41:52.148Z"
   },
   {
    "duration": 31,
    "start_time": "2022-12-20T19:41:52.167Z"
   },
   {
    "duration": 24,
    "start_time": "2022-12-20T19:41:52.214Z"
   },
   {
    "duration": 24,
    "start_time": "2022-12-20T19:41:52.245Z"
   },
   {
    "duration": 20,
    "start_time": "2022-12-20T19:41:52.271Z"
   },
   {
    "duration": 46,
    "start_time": "2022-12-20T19:41:52.293Z"
   },
   {
    "duration": 10,
    "start_time": "2022-12-20T19:41:52.345Z"
   },
   {
    "duration": 6,
    "start_time": "2022-12-20T19:41:52.356Z"
   },
   {
    "duration": 15,
    "start_time": "2022-12-20T19:41:52.363Z"
   },
   {
    "duration": 10,
    "start_time": "2022-12-20T19:41:52.379Z"
   },
   {
    "duration": 35,
    "start_time": "2022-12-20T19:41:52.391Z"
   },
   {
    "duration": 26,
    "start_time": "2022-12-20T19:41:52.429Z"
   },
   {
    "duration": 24,
    "start_time": "2022-12-20T19:41:52.457Z"
   },
   {
    "duration": 18,
    "start_time": "2022-12-20T19:41:52.482Z"
   },
   {
    "duration": 45,
    "start_time": "2022-12-20T19:41:52.502Z"
   },
   {
    "duration": 28,
    "start_time": "2022-12-20T19:41:52.548Z"
   },
   {
    "duration": 13,
    "start_time": "2022-12-20T19:41:52.578Z"
   },
   {
    "duration": 1011,
    "start_time": "2022-12-20T19:41:52.593Z"
   },
   {
    "duration": 901,
    "start_time": "2022-12-20T19:41:53.606Z"
   },
   {
    "duration": 1092,
    "start_time": "2022-12-20T19:41:54.509Z"
   },
   {
    "duration": 461,
    "start_time": "2022-12-20T19:41:55.603Z"
   },
   {
    "duration": 9,
    "start_time": "2022-12-20T19:41:56.065Z"
   },
   {
    "duration": 975,
    "start_time": "2022-12-20T19:41:56.076Z"
   },
   {
    "duration": 22,
    "start_time": "2022-12-20T19:41:57.052Z"
   },
   {
    "duration": 13,
    "start_time": "2022-12-20T19:41:57.076Z"
   },
   {
    "duration": 10,
    "start_time": "2022-12-20T19:41:57.091Z"
   },
   {
    "duration": 19,
    "start_time": "2022-12-20T19:41:57.103Z"
   },
   {
    "duration": 30,
    "start_time": "2022-12-20T19:41:57.123Z"
   },
   {
    "duration": 6,
    "start_time": "2022-12-20T19:41:57.154Z"
   },
   {
    "duration": 6,
    "start_time": "2022-12-20T19:41:57.161Z"
   },
   {
    "duration": 8,
    "start_time": "2022-12-20T19:41:57.168Z"
   },
   {
    "duration": 9,
    "start_time": "2022-12-20T19:41:57.178Z"
   },
   {
    "duration": 4040,
    "start_time": "2022-12-20T19:41:57.188Z"
   },
   {
    "duration": 3127,
    "start_time": "2022-12-20T19:42:01.311Z"
   },
   {
    "duration": 8,
    "start_time": "2022-12-20T19:42:04.441Z"
   },
   {
    "duration": 45233,
    "start_time": "2022-12-20T19:42:04.514Z"
   },
   {
    "duration": 44219,
    "start_time": "2022-12-20T19:42:49.749Z"
   },
   {
    "duration": 4,
    "start_time": "2022-12-20T19:43:33.970Z"
   },
   {
    "duration": 103739,
    "start_time": "2022-12-20T19:43:33.979Z"
   },
   {
    "duration": 159,
    "start_time": "2022-12-20T19:45:17.727Z"
   },
   {
    "duration": 59,
    "start_time": "2022-12-20T19:45:17.888Z"
   },
   {
    "duration": 469503,
    "start_time": "2022-12-20T19:45:17.949Z"
   },
   {
    "duration": 3,
    "start_time": "2022-12-20T19:53:07.454Z"
   },
   {
    "duration": 12,
    "start_time": "2022-12-20T19:53:07.459Z"
   },
   {
    "duration": 31378,
    "start_time": "2022-12-20T19:53:07.473Z"
   },
   {
    "duration": 42907,
    "start_time": "2022-12-20T19:53:38.853Z"
   },
   {
    "duration": 8,
    "start_time": "2022-12-20T19:54:21.762Z"
   },
   {
    "duration": 11,
    "start_time": "2022-12-20T19:54:21.771Z"
   },
   {
    "duration": 12,
    "start_time": "2022-12-20T19:54:21.784Z"
   },
   {
    "duration": 20,
    "start_time": "2022-12-20T19:54:21.798Z"
   },
   {
    "duration": 34,
    "start_time": "2022-12-20T19:54:21.819Z"
   },
   {
    "duration": 1438,
    "start_time": "2022-12-20T19:55:24.244Z"
   },
   {
    "duration": 759,
    "start_time": "2022-12-20T19:55:25.684Z"
   },
   {
    "duration": 18,
    "start_time": "2022-12-20T19:55:26.444Z"
   },
   {
    "duration": 24,
    "start_time": "2022-12-20T19:55:26.464Z"
   },
   {
    "duration": 35,
    "start_time": "2022-12-20T19:55:26.490Z"
   },
   {
    "duration": 26,
    "start_time": "2022-12-20T19:55:26.527Z"
   },
   {
    "duration": 18,
    "start_time": "2022-12-20T19:55:26.555Z"
   },
   {
    "duration": 64,
    "start_time": "2022-12-20T19:55:26.575Z"
   },
   {
    "duration": 12,
    "start_time": "2022-12-20T19:55:26.641Z"
   },
   {
    "duration": 5,
    "start_time": "2022-12-20T19:55:26.656Z"
   },
   {
    "duration": 11,
    "start_time": "2022-12-20T19:55:26.662Z"
   },
   {
    "duration": 9,
    "start_time": "2022-12-20T19:55:26.675Z"
   },
   {
    "duration": 12,
    "start_time": "2022-12-20T19:55:26.686Z"
   },
   {
    "duration": 12,
    "start_time": "2022-12-20T19:55:26.712Z"
   },
   {
    "duration": 59,
    "start_time": "2022-12-20T19:55:26.727Z"
   },
   {
    "duration": 20,
    "start_time": "2022-12-20T19:55:26.788Z"
   },
   {
    "duration": 43,
    "start_time": "2022-12-20T19:55:26.811Z"
   },
   {
    "duration": 39,
    "start_time": "2022-12-20T19:55:26.856Z"
   },
   {
    "duration": 27,
    "start_time": "2022-12-20T19:55:26.897Z"
   },
   {
    "duration": 1078,
    "start_time": "2022-12-20T19:55:26.930Z"
   },
   {
    "duration": 910,
    "start_time": "2022-12-20T19:55:28.012Z"
   },
   {
    "duration": 1053,
    "start_time": "2022-12-20T19:55:28.924Z"
   },
   {
    "duration": 469,
    "start_time": "2022-12-20T19:55:29.979Z"
   },
   {
    "duration": 10,
    "start_time": "2022-12-20T19:55:30.451Z"
   },
   {
    "duration": 898,
    "start_time": "2022-12-20T19:55:30.463Z"
   },
   {
    "duration": 24,
    "start_time": "2022-12-20T19:55:31.363Z"
   },
   {
    "duration": 6,
    "start_time": "2022-12-20T19:55:31.390Z"
   },
   {
    "duration": 8,
    "start_time": "2022-12-20T19:55:31.414Z"
   },
   {
    "duration": 37,
    "start_time": "2022-12-20T19:55:31.426Z"
   },
   {
    "duration": 11,
    "start_time": "2022-12-20T19:55:31.465Z"
   },
   {
    "duration": 5,
    "start_time": "2022-12-20T19:55:31.478Z"
   },
   {
    "duration": 10,
    "start_time": "2022-12-20T19:55:31.484Z"
   },
   {
    "duration": 11,
    "start_time": "2022-12-20T19:55:31.496Z"
   },
   {
    "duration": 28,
    "start_time": "2022-12-20T19:55:31.508Z"
   },
   {
    "duration": 3397,
    "start_time": "2022-12-20T19:55:31.540Z"
   },
   {
    "duration": 2968,
    "start_time": "2022-12-20T19:55:34.949Z"
   },
   {
    "duration": 14,
    "start_time": "2022-12-20T19:55:37.922Z"
   },
   {
    "duration": 44930,
    "start_time": "2022-12-20T19:55:37.942Z"
   },
   {
    "duration": 46267,
    "start_time": "2022-12-20T19:56:22.874Z"
   },
   {
    "duration": 4,
    "start_time": "2022-12-20T19:57:09.143Z"
   },
   {
    "duration": 107423,
    "start_time": "2022-12-20T19:57:09.149Z"
   },
   {
    "duration": 51189,
    "start_time": "2022-12-20T19:58:56.575Z"
   },
   {
    "duration": 125700,
    "start_time": "2022-12-20T19:59:47.766Z"
   },
   {
    "duration": 66973,
    "start_time": "2022-12-20T20:01:53.468Z"
   },
   {
    "duration": 4,
    "start_time": "2022-12-20T20:03:00.443Z"
   },
   {
    "duration": 33,
    "start_time": "2022-12-20T20:03:00.449Z"
   },
   {
    "duration": 31595,
    "start_time": "2022-12-20T20:03:00.484Z"
   },
   {
    "duration": 1440,
    "start_time": "2022-12-20T20:34:03.838Z"
   },
   {
    "duration": 759,
    "start_time": "2022-12-20T20:34:05.280Z"
   },
   {
    "duration": 18,
    "start_time": "2022-12-20T20:34:06.040Z"
   },
   {
    "duration": 52,
    "start_time": "2022-12-20T20:34:06.060Z"
   },
   {
    "duration": 53,
    "start_time": "2022-12-20T20:34:06.114Z"
   },
   {
    "duration": 31,
    "start_time": "2022-12-20T20:34:06.169Z"
   },
   {
    "duration": 46,
    "start_time": "2022-12-20T20:34:06.202Z"
   },
   {
    "duration": 23,
    "start_time": "2022-12-20T20:34:06.250Z"
   },
   {
    "duration": 9,
    "start_time": "2022-12-20T20:34:06.275Z"
   },
   {
    "duration": 11,
    "start_time": "2022-12-20T20:34:06.286Z"
   },
   {
    "duration": 24,
    "start_time": "2022-12-20T20:34:06.298Z"
   },
   {
    "duration": 31,
    "start_time": "2022-12-20T20:34:06.326Z"
   },
   {
    "duration": 30,
    "start_time": "2022-12-20T20:34:06.360Z"
   },
   {
    "duration": 17,
    "start_time": "2022-12-20T20:34:06.394Z"
   },
   {
    "duration": 57,
    "start_time": "2022-12-20T20:34:06.422Z"
   },
   {
    "duration": 25,
    "start_time": "2022-12-20T20:34:06.481Z"
   },
   {
    "duration": 47,
    "start_time": "2022-12-20T20:34:06.508Z"
   },
   {
    "duration": 43,
    "start_time": "2022-12-20T20:34:06.557Z"
   },
   {
    "duration": 44,
    "start_time": "2022-12-20T20:34:06.603Z"
   },
   {
    "duration": 990,
    "start_time": "2022-12-20T20:34:06.650Z"
   },
   {
    "duration": 887,
    "start_time": "2022-12-20T20:34:07.642Z"
   },
   {
    "duration": 1041,
    "start_time": "2022-12-20T20:34:08.531Z"
   },
   {
    "duration": 466,
    "start_time": "2022-12-20T20:34:09.574Z"
   },
   {
    "duration": 10,
    "start_time": "2022-12-20T20:34:10.042Z"
   },
   {
    "duration": 830,
    "start_time": "2022-12-20T20:34:10.054Z"
   },
   {
    "duration": 41,
    "start_time": "2022-12-20T20:34:10.886Z"
   },
   {
    "duration": 9,
    "start_time": "2022-12-20T20:34:10.929Z"
   },
   {
    "duration": 36,
    "start_time": "2022-12-20T20:34:10.940Z"
   },
   {
    "duration": 49,
    "start_time": "2022-12-20T20:34:10.978Z"
   },
   {
    "duration": 8,
    "start_time": "2022-12-20T20:34:11.029Z"
   },
   {
    "duration": 6,
    "start_time": "2022-12-20T20:34:11.039Z"
   },
   {
    "duration": 13,
    "start_time": "2022-12-20T20:34:11.046Z"
   },
   {
    "duration": 11,
    "start_time": "2022-12-20T20:34:11.061Z"
   },
   {
    "duration": 7,
    "start_time": "2022-12-20T20:34:11.074Z"
   },
   {
    "duration": 1733,
    "start_time": "2022-12-20T20:34:11.082Z"
   },
   {
    "duration": 1794,
    "start_time": "2022-12-20T20:34:12.822Z"
   },
   {
    "duration": 9,
    "start_time": "2022-12-20T20:34:14.618Z"
   },
   {
    "duration": 43855,
    "start_time": "2022-12-20T20:34:14.633Z"
   },
   {
    "duration": 44348,
    "start_time": "2022-12-20T20:34:58.489Z"
   },
   {
    "duration": 4,
    "start_time": "2022-12-20T20:35:42.838Z"
   },
   {
    "duration": 102074,
    "start_time": "2022-12-20T20:35:42.847Z"
   },
   {
    "duration": 49303,
    "start_time": "2022-12-20T20:37:24.923Z"
   },
   {
    "duration": 119366,
    "start_time": "2022-12-20T20:38:14.228Z"
   },
   {
    "duration": 66507,
    "start_time": "2022-12-20T20:40:13.595Z"
   },
   {
    "duration": 4,
    "start_time": "2022-12-20T20:41:20.104Z"
   },
   {
    "duration": 25,
    "start_time": "2022-12-20T20:41:20.112Z"
   },
   {
    "duration": 1226,
    "start_time": "2022-12-20T20:41:20.139Z"
   },
   {
    "duration": 1561,
    "start_time": "2022-12-20T20:41:21.367Z"
   },
   {
    "duration": 8,
    "start_time": "2022-12-20T20:41:22.930Z"
   },
   {
    "duration": 7,
    "start_time": "2022-12-20T20:41:22.940Z"
   },
   {
    "duration": 8,
    "start_time": "2022-12-20T20:41:22.949Z"
   },
   {
    "duration": 10,
    "start_time": "2022-12-20T20:41:22.959Z"
   },
   {
    "duration": 10,
    "start_time": "2022-12-20T20:41:22.971Z"
   },
   {
    "duration": 50,
    "start_time": "2022-12-20T20:46:50.045Z"
   },
   {
    "duration": 48,
    "start_time": "2022-12-20T21:00:24.045Z"
   }
  ],
  "kernelspec": {
   "display_name": "Python 3 (ipykernel)",
   "language": "python",
   "name": "python3"
  },
  "language_info": {
   "codemirror_mode": {
    "name": "ipython",
    "version": 3
   },
   "file_extension": ".py",
   "mimetype": "text/x-python",
   "name": "python",
   "nbconvert_exporter": "python",
   "pygments_lexer": "ipython3",
   "version": "3.9.13"
  },
  "toc": {
   "base_numbering": 1,
   "nav_menu": {},
   "number_sections": true,
   "sideBar": true,
   "skip_h1_title": true,
   "title_cell": "Содержание",
   "title_sidebar": "Contents",
   "toc_cell": true,
   "toc_position": {
    "height": "calc(100% - 180px)",
    "left": "10px",
    "top": "150px",
    "width": "165px"
   },
   "toc_section_display": true,
   "toc_window_display": true
  }
 },
 "nbformat": 4,
 "nbformat_minor": 2
}
