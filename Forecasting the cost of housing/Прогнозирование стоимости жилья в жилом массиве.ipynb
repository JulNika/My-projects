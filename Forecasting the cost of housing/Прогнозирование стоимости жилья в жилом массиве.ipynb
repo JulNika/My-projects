{
 "cells": [
  {
   "cell_type": "markdown",
   "id": "GEqQaHzsZ_bA",
   "metadata": {
    "id": "GEqQaHzsZ_bA"
   },
   "source": [
    "# Прогнозирование стоимости жилья в жилом массиве\n"
   ]
  },
  {
   "cell_type": "markdown",
   "id": "58883916",
   "metadata": {},
   "source": [
    "***Описание целей и задач проекта***\n",
    "\n",
    "В проекте нужно обучить модель линейной регрессии на данных о жилье в Калифорнии в 1990 году. На основе данных необходимо предсказать медианную стоимость дома в жилом массиве. Обучите модель и сделайте предсказания на тестовой выборке. Для оценки качества модели используйте метрики RMSE, MAE и R2.\n",
    "\n",
    "\n",
    "***Описание полей данных***\n",
    "\n",
    "В колонках датасета содержатся следующие данные:\n",
    "\n",
    " - housing_median_age — медианный возраст жителей жилого массива;\n",
    " - total_rooms — общее количество комнат в домах жилого массива;\n",
    " - total_bedrooms — общее количество спален в домах жилого массива;\n",
    " - population — количество человек, которые проживают в жилом массиве;\n",
    " - households — количество домовладений в жилом массиве;\n",
    " - median_income — медианный доход жителей жилого массива;\n",
    " - median_house_value — медианная стоимость дома в жилом массиве;\n",
    " - ocean_proximity — близость к океану.\n",
    "\n",
    "***План работы***\n",
    "\n",
    "1. Инициализация локальную Spark-сессию.\n",
    "2. Прочитать содержимое файла /datasets/housing.csv и вывести типы данных колонок датасета, используя методы pySpark.\n",
    "3. Выполнить предобработку данных: \n",
    " - исследовать  данные на наличие пропусков и заполнить их;\n",
    " - преобразовать колонку с категориальными значениями техникой One hot encoding.\n",
    "4.построить две модели линейной регрессии на разных наборах данных: \n",
    " - 1) используя все данные из файла \n",
    "  - 2)используя только числовые переменные, исключив категориальные.\n",
    "5. Сделать предсказание на тестовой выборке.\n",
    "5. Оценить качество модели с помощью оценщика LinearRegression из библиотеки MLlib, используйте метрики RMSE, MAE и R2"
   ]
  },
  {
   "cell_type": "markdown",
   "id": "53871372",
   "metadata": {
    "id": "53871372"
   },
   "source": [
    "# Подготовка данных"
   ]
  },
  {
   "cell_type": "markdown",
   "id": "38f37759",
   "metadata": {},
   "source": [
    "Тут будут все импорты необходимых библиотек"
   ]
  },
  {
   "cell_type": "code",
   "execution_count": 1,
   "id": "df92e3ec",
   "metadata": {
    "id": "df92e3ec"
   },
   "outputs": [],
   "source": [
    "import pandas as pd \n",
    "import numpy as np\n",
    "\n",
    "import pyspark\n",
    "from pyspark.sql import SparkSession\n",
    "from pyspark.sql.types import *\n",
    "import pyspark.sql.functions as F\n",
    "\n",
    "from pyspark.ml.feature import StringIndexer, VectorAssembler, StandardScaler\n",
    "from pyspark.ml.classification import LogisticRegression\n",
    "from pyspark.ml.evaluation import BinaryClassificationEvaluator, MulticlassClassificationEvaluator\n",
    "\n",
    "from pyspark.ml.regression import LinearRegression\n",
    "\n",
    "from pyspark.context import SparkContext\n",
    "from pyspark.sql.session import SparkSession\n",
    "from pyspark.ml import Pipeline\n",
    "from pyspark.ml.feature import HashingTF, Tokenizer\n",
    "from pyspark.sql.functions import UserDefinedFunction\n",
    "from pyspark.sql.types import *\n",
    "from pyspark.ml import Pipeline\n",
    "from pyspark.ml.feature import StringIndexer, VectorIndexer\n",
    "from pyspark.ml.evaluation import MulticlassClassificationEvaluator\n",
    "import pyspark.sql.functions as sf\n",
    "\n",
    "from pyspark.ml import Pipeline\n",
    "\n",
    "from pyspark.ml.feature import VectorIndexer\n",
    "from pyspark.ml.evaluation import RegressionEvaluator\n",
    "\n",
    "import seaborn as sns"
   ]
  },
  {
   "cell_type": "code",
   "execution_count": 2,
   "id": "0ee2365e",
   "metadata": {},
   "outputs": [
    {
     "name": "stderr",
     "output_type": "stream",
     "text": [
      "                                                                                \r"
     ]
    }
   ],
   "source": [
    "from pyspark.sql.types import DoubleType, IntegerType, StringType\n",
    "pyspark_version = pyspark.__version__\n",
    "if int(pyspark_version[:1]) == 3:\n",
    "    from pyspark.ml.feature import OneHotEncoder    \n",
    "elif int(pyspark_version[:1]) == 2:\n",
    "    from pyspark.ml.feature import OneHotEncodeEstimator\n",
    "    \n",
    "RANDOM_SEED = 2022\n",
    "\n",
    "#загрузка файла для работы\n",
    "spark = SparkSession.builder \\\n",
    "                    .master(\"local\") \\\n",
    "                    .appName(\"california_housing_w_features\") \\\n",
    "                    .getOrCreate()\n",
    "\n",
    "df = spark.read.option('header', 'true').csv('/datasets/housing.csv', inferSchema = True) "
   ]
  },
  {
   "cell_type": "code",
   "execution_count": 3,
   "id": "99a19015",
   "metadata": {},
   "outputs": [],
   "source": [
    "df = spark.read.option('header', 'true').csv('/datasets/housing.csv', inferSchema = True)\n"
   ]
  },
  {
   "cell_type": "code",
   "execution_count": 4,
   "id": "ccbf73ce",
   "metadata": {},
   "outputs": [
    {
     "name": "stdout",
     "output_type": "stream",
     "text": [
      "+---------+--------+------------------+-----------+--------------+----------+----------+-------------+------------------+---------------+\n",
      "|longitude|latitude|housing_median_age|total_rooms|total_bedrooms|population|households|median_income|median_house_value|ocean_proximity|\n",
      "+---------+--------+------------------+-----------+--------------+----------+----------+-------------+------------------+---------------+\n",
      "|  -122.23|   37.88|              41.0|      880.0|         129.0|     322.0|     126.0|       8.3252|          452600.0|       NEAR BAY|\n",
      "|  -122.22|   37.86|              21.0|     7099.0|        1106.0|    2401.0|    1138.0|       8.3014|          358500.0|       NEAR BAY|\n",
      "|  -122.24|   37.85|              52.0|     1467.0|         190.0|     496.0|     177.0|       7.2574|          352100.0|       NEAR BAY|\n",
      "|  -122.25|   37.85|              52.0|     1274.0|         235.0|     558.0|     219.0|       5.6431|          341300.0|       NEAR BAY|\n",
      "|  -122.25|   37.85|              52.0|     1627.0|         280.0|     565.0|     259.0|       3.8462|          342200.0|       NEAR BAY|\n",
      "+---------+--------+------------------+-----------+--------------+----------+----------+-------------+------------------+---------------+\n",
      "only showing top 5 rows\n",
      "\n"
     ]
    }
   ],
   "source": [
    "df.show(5)"
   ]
  },
  {
   "cell_type": "markdown",
   "id": "0c33e41f",
   "metadata": {},
   "source": [
    " Выведем типы данных колонок датасета и посмотрим есть ли пропуски в данных"
   ]
  },
  {
   "cell_type": "code",
   "execution_count": 5,
   "id": "d0adcd8c",
   "metadata": {},
   "outputs": [
    {
     "name": "stdout",
     "output_type": "stream",
     "text": [
      "root\n",
      " |-- longitude: double (nullable = true)\n",
      " |-- latitude: double (nullable = true)\n",
      " |-- housing_median_age: double (nullable = true)\n",
      " |-- total_rooms: double (nullable = true)\n",
      " |-- total_bedrooms: double (nullable = true)\n",
      " |-- population: double (nullable = true)\n",
      " |-- households: double (nullable = true)\n",
      " |-- median_income: double (nullable = true)\n",
      " |-- median_house_value: double (nullable = true)\n",
      " |-- ocean_proximity: string (nullable = true)\n",
      "\n"
     ]
    }
   ],
   "source": [
    "df.printSchema() "
   ]
  },
  {
   "cell_type": "markdown",
   "id": "d8eb27b2",
   "metadata": {},
   "source": [
    "'Nullable = true' означает, что в данных есть пропуски, их необходимо будет заполнить."
   ]
  },
  {
   "cell_type": "code",
   "execution_count": 6,
   "id": "c17b57ab",
   "metadata": {},
   "outputs": [
    {
     "data": {
      "text/plain": [
       "20640"
      ]
     },
     "execution_count": 6,
     "metadata": {},
     "output_type": "execute_result"
    }
   ],
   "source": [
    "#посчитаем количество строк в датафрейме\n",
    "df.count()"
   ]
  },
  {
   "cell_type": "code",
   "execution_count": 7,
   "id": "6a10185b",
   "metadata": {},
   "outputs": [
    {
     "name": "stderr",
     "output_type": "stream",
     "text": [
      "                                                                                \r"
     ]
    },
    {
     "data": {
      "text/plain": [
       "20640"
      ]
     },
     "execution_count": 7,
     "metadata": {},
     "output_type": "execute_result"
    }
   ],
   "source": [
    "#удалим полные дубликаты и посчитаем сколько строк останется\n",
    "df.dropDuplicates().count()"
   ]
  },
  {
   "cell_type": "markdown",
   "id": "f8e28886",
   "metadata": {},
   "source": [
    "Как показала проверка, дубликтов в датафрейме нет."
   ]
  },
  {
   "cell_type": "markdown",
   "id": "fc3e104d",
   "metadata": {},
   "source": [
    "***Обработка данных с пропусками***"
   ]
  },
  {
   "cell_type": "code",
   "execution_count": 8,
   "id": "24a7abc2",
   "metadata": {},
   "outputs": [
    {
     "name": "stderr",
     "output_type": "stream",
     "text": [
      "                                                                                \r"
     ]
    },
    {
     "data": {
      "text/html": [
       "<div>\n",
       "<style scoped>\n",
       "    .dataframe tbody tr th:only-of-type {\n",
       "        vertical-align: middle;\n",
       "    }\n",
       "\n",
       "    .dataframe tbody tr th {\n",
       "        vertical-align: top;\n",
       "    }\n",
       "\n",
       "    .dataframe thead th {\n",
       "        text-align: right;\n",
       "    }\n",
       "</style>\n",
       "<table border=\"1\" class=\"dataframe\">\n",
       "  <thead>\n",
       "    <tr style=\"text-align: right;\">\n",
       "      <th></th>\n",
       "      <th>summary</th>\n",
       "      <th>longitude</th>\n",
       "      <th>latitude</th>\n",
       "      <th>housing_median_age</th>\n",
       "      <th>total_rooms</th>\n",
       "      <th>total_bedrooms</th>\n",
       "      <th>population</th>\n",
       "      <th>households</th>\n",
       "      <th>median_income</th>\n",
       "      <th>median_house_value</th>\n",
       "      <th>ocean_proximity</th>\n",
       "    </tr>\n",
       "  </thead>\n",
       "  <tbody>\n",
       "    <tr>\n",
       "      <th>0</th>\n",
       "      <td>count</td>\n",
       "      <td>20640</td>\n",
       "      <td>20640</td>\n",
       "      <td>20640</td>\n",
       "      <td>20640</td>\n",
       "      <td>20433</td>\n",
       "      <td>20640</td>\n",
       "      <td>20640</td>\n",
       "      <td>20640</td>\n",
       "      <td>20640</td>\n",
       "      <td>20640</td>\n",
       "    </tr>\n",
       "    <tr>\n",
       "      <th>1</th>\n",
       "      <td>mean</td>\n",
       "      <td>-119.56970445736148</td>\n",
       "      <td>35.6318614341087</td>\n",
       "      <td>28.639486434108527</td>\n",
       "      <td>2635.7630813953488</td>\n",
       "      <td>537.8705525375618</td>\n",
       "      <td>1425.4767441860465</td>\n",
       "      <td>499.5396802325581</td>\n",
       "      <td>3.8706710029070246</td>\n",
       "      <td>206855.81690891474</td>\n",
       "      <td>None</td>\n",
       "    </tr>\n",
       "    <tr>\n",
       "      <th>2</th>\n",
       "      <td>stddev</td>\n",
       "      <td>2.003531723502584</td>\n",
       "      <td>2.135952397457101</td>\n",
       "      <td>12.58555761211163</td>\n",
       "      <td>2181.6152515827944</td>\n",
       "      <td>421.38507007403115</td>\n",
       "      <td>1132.46212176534</td>\n",
       "      <td>382.3297528316098</td>\n",
       "      <td>1.899821717945263</td>\n",
       "      <td>115395.61587441359</td>\n",
       "      <td>None</td>\n",
       "    </tr>\n",
       "    <tr>\n",
       "      <th>3</th>\n",
       "      <td>min</td>\n",
       "      <td>-124.35</td>\n",
       "      <td>32.54</td>\n",
       "      <td>1.0</td>\n",
       "      <td>2.0</td>\n",
       "      <td>1.0</td>\n",
       "      <td>3.0</td>\n",
       "      <td>1.0</td>\n",
       "      <td>0.4999</td>\n",
       "      <td>14999.0</td>\n",
       "      <td>&lt;1H OCEAN</td>\n",
       "    </tr>\n",
       "    <tr>\n",
       "      <th>4</th>\n",
       "      <td>max</td>\n",
       "      <td>-114.31</td>\n",
       "      <td>41.95</td>\n",
       "      <td>52.0</td>\n",
       "      <td>39320.0</td>\n",
       "      <td>6445.0</td>\n",
       "      <td>35682.0</td>\n",
       "      <td>6082.0</td>\n",
       "      <td>15.0001</td>\n",
       "      <td>500001.0</td>\n",
       "      <td>NEAR OCEAN</td>\n",
       "    </tr>\n",
       "  </tbody>\n",
       "</table>\n",
       "</div>"
      ],
      "text/plain": [
       "  summary            longitude           latitude  housing_median_age  \\\n",
       "0   count                20640              20640               20640   \n",
       "1    mean  -119.56970445736148   35.6318614341087  28.639486434108527   \n",
       "2  stddev    2.003531723502584  2.135952397457101   12.58555761211163   \n",
       "3     min              -124.35              32.54                 1.0   \n",
       "4     max              -114.31              41.95                52.0   \n",
       "\n",
       "          total_rooms      total_bedrooms          population  \\\n",
       "0               20640               20433               20640   \n",
       "1  2635.7630813953488   537.8705525375618  1425.4767441860465   \n",
       "2  2181.6152515827944  421.38507007403115    1132.46212176534   \n",
       "3                 2.0                 1.0                 3.0   \n",
       "4             39320.0              6445.0             35682.0   \n",
       "\n",
       "          households       median_income  median_house_value ocean_proximity  \n",
       "0              20640               20640               20640           20640  \n",
       "1  499.5396802325581  3.8706710029070246  206855.81690891474            None  \n",
       "2  382.3297528316098   1.899821717945263  115395.61587441359            None  \n",
       "3                1.0              0.4999             14999.0       <1H OCEAN  \n",
       "4             6082.0             15.0001            500001.0      NEAR OCEAN  "
      ]
     },
     "execution_count": 8,
     "metadata": {},
     "output_type": "execute_result"
    }
   ],
   "source": [
    "# выведите базовые статистики\n",
    "df.describe().toPandas()"
   ]
  },
  {
   "cell_type": "code",
   "execution_count": 9,
   "id": "c7a7a301",
   "metadata": {},
   "outputs": [
    {
     "name": "stdout",
     "output_type": "stream",
     "text": [
      "longitude 0\n",
      "latitude 0\n",
      "housing_median_age 0\n",
      "total_rooms 0\n",
      "total_bedrooms 207\n",
      "population 0\n",
      "households 0\n",
      "median_income 0\n",
      "median_house_value 0\n",
      "ocean_proximity 0\n"
     ]
    }
   ],
   "source": [
    "# выведите пропущенные значения в каждой колонке\n",
    "columns = df.columns\n",
    "\n",
    "\n",
    "for column in columns:\n",
    "    print(column, df.where(F.isnan(column) | F.col(column).isNull()).count())"
   ]
  },
  {
   "cell_type": "markdown",
   "id": "c701d29a",
   "metadata": {},
   "source": [
    "Есть 207 пропцущенных значений по колонке total_bedrooms.\n",
    "Заменим их на нули, из предполодения, что если даннеые не заполнены, значит отдельного спального места нет. "
   ]
  },
  {
   "cell_type": "code",
   "execution_count": 10,
   "id": "bd504209",
   "metadata": {},
   "outputs": [
    {
     "name": "stdout",
     "output_type": "stream",
     "text": [
      "root\n",
      " |-- longitude: double (nullable = false)\n",
      " |-- latitude: double (nullable = false)\n",
      " |-- housing_median_age: double (nullable = false)\n",
      " |-- total_rooms: double (nullable = false)\n",
      " |-- total_bedrooms: double (nullable = false)\n",
      " |-- population: double (nullable = false)\n",
      " |-- households: double (nullable = false)\n",
      " |-- median_income: double (nullable = false)\n",
      " |-- median_house_value: double (nullable = false)\n",
      " |-- ocean_proximity: string (nullable = true)\n",
      "\n",
      "longitude 0\n",
      "latitude 0\n",
      "housing_median_age 0\n",
      "total_rooms 0\n",
      "total_bedrooms 0\n",
      "population 0\n",
      "households 0\n",
      "median_income 0\n",
      "median_house_value 0\n",
      "ocean_proximity 0\n"
     ]
    }
   ],
   "source": [
    "#Есть 207 пропцущенных значений по колонке total_bedrooms.\n",
    "#Это немного, значит можно заполнить их нулями.\n",
    "\n",
    "#удаление колонок с пропусками\n",
    "#df = df.na.drop(how='any')\n",
    "\n",
    "#заполнение колонок с пропусками\n",
    "df = df.fillna(value=0)\n",
    "df.printSchema()\n",
    "\n",
    "#проверка результата\n",
    "\n",
    "columns = df.columns\n",
    "\n",
    "\n",
    "for column in columns:\n",
    "    print(column, df.where(F.isnan(column) | F.col(column).isNull()).count())"
   ]
  },
  {
   "cell_type": "markdown",
   "id": "4b367760",
   "metadata": {},
   "source": [
    "Теперь пропущенных значений нет."
   ]
  },
  {
   "cell_type": "markdown",
   "id": "202b0c07",
   "metadata": {},
   "source": [
    "***Разделим колонки на три типа: числовые, категориальные и целевой***"
   ]
  },
  {
   "cell_type": "code",
   "execution_count": 11,
   "id": "3e4994ee",
   "metadata": {},
   "outputs": [],
   "source": [
    "categorical_cols = ['ocean_proximity']\n",
    "numerical_cols  = ['longitude', 'latitude', 'housing_median_age',\"population\",'households', \"median_income\", 'total_rooms', 'total_bedrooms']\n",
    "target = \"median_house_value\""
   ]
  },
  {
   "cell_type": "markdown",
   "id": "f08ae44a",
   "metadata": {},
   "source": [
    "***Раздение данных на обучающую и тренировочную выборки. Выделим целевой признак***"
   ]
  },
  {
   "cell_type": "code",
   "execution_count": 12,
   "id": "c296de3b",
   "metadata": {
    "scrolled": true
   },
   "outputs": [
    {
     "name": "stdout",
     "output_type": "stream",
     "text": [
      "выборки: 16418 4222\n"
     ]
    }
   ],
   "source": [
    "data = df\n",
    "#разделим данные на выборки\n",
    "train_data, test_data = data.randomSplit([.8,.2], seed=RANDOM_SEED)\n",
    "\n",
    "# выделим целевые признаким в отдельные переменные\n",
    "#train_target = train_data['median_house_value']\n",
    "#test_target = test_data['median_house_value']\n",
    "\n",
    "#удалим цеелвые признаким из выборок\n",
    "#train_data = train_data.drop('median_house_value')\n",
    "#test_data = test_data.drop('median_house_value')\n",
    "\n",
    "print('выборки:', train_data.count(), test_data.count())\n"
   ]
  },
  {
   "cell_type": "code",
   "execution_count": 13,
   "id": "510f606a",
   "metadata": {},
   "outputs": [
    {
     "name": "stdout",
     "output_type": "stream",
     "text": [
      "+---------+--------+------------------+-----------+--------------+----------+----------+-------------+------------------+---------------+\n",
      "|longitude|latitude|housing_median_age|total_rooms|total_bedrooms|population|households|median_income|median_house_value|ocean_proximity|\n",
      "+---------+--------+------------------+-----------+--------------+----------+----------+-------------+------------------+---------------+\n",
      "|  -124.35|   40.54|              52.0|     1820.0|         300.0|     806.0|     270.0|       3.0147|           94600.0|     NEAR OCEAN|\n",
      "|   -124.3|    41.8|              19.0|     2672.0|         552.0|    1298.0|     478.0|       1.9797|           85800.0|     NEAR OCEAN|\n",
      "|  -124.27|   40.69|              36.0|     2349.0|         528.0|    1194.0|     465.0|       2.5179|           79000.0|     NEAR OCEAN|\n",
      "|  -124.26|   40.58|              52.0|     2217.0|         394.0|     907.0|     369.0|       2.3571|          111400.0|     NEAR OCEAN|\n",
      "|  -124.25|   40.28|              32.0|     1430.0|         419.0|     434.0|     187.0|       1.9417|           76100.0|     NEAR OCEAN|\n",
      "+---------+--------+------------------+-----------+--------------+----------+----------+-------------+------------------+---------------+\n",
      "only showing top 5 rows\n",
      "\n",
      "None\n"
     ]
    }
   ],
   "source": [
    "print(train_data.show(5))"
   ]
  },
  {
   "cell_type": "markdown",
   "id": "400de99a",
   "metadata": {},
   "source": [
    "***Преобразование колонок с категориальными и количественными значениями, их сбор VectorAssembler при использованием Pipeline***"
   ]
  },
  {
   "cell_type": "code",
   "execution_count": 14,
   "id": "21d533f4",
   "metadata": {},
   "outputs": [],
   "source": [
    "\n",
    "#value - это предсказываемая переменная \n",
    "stages = []\n",
    "#label_stringIdx = StringIndexer(inputCol = 'median_house_value', outputCol = 'label', handleInvalid = 'keep')\n",
    "#stages += [label_stringIdx]\n",
    "\n",
    "#зависит от категориаьных колонок: страны и категории загрязнения\n",
    "categoricalColumns = ['ocean_proximity']\n",
    "for categoricalCol in categoricalColumns:\n",
    "    #преобразовываем строковые колонки в спарковские категориальные строки\n",
    "    stringIndexer = StringIndexer(inputCol = categoricalCol,\n",
    "                                  outputCol = categoricalCol + 'Index',\n",
    "                                  handleInvalid = 'keep')\n",
    "    #преобразовываем категориальные колонки в бинарные (числовые) вектора благодаря строковому преобразователю\n",
    "    encoder = OneHotEncoder(inputCol=stringIndexer.getOutputCol(),\n",
    "                            outputCol=categoricalCol + \"classVec\")\n",
    "    \n",
    "\n",
    "    stages += [stringIndexer, encoder]\n",
    "       \n",
    "    \n",
    "#зависит от численной колонки: \n",
    "numericColumns = ['longitude', 'latitude', 'housing_median_age',\"population\",'households', \"median_income\", 'total_rooms', 'total_bedrooms', ]\n",
    "\n",
    "for numericol in categoricalColumns:\n",
    "    numerical_assembler =  VectorAssembler(inputCols=numerical_cols,outputCol=\"numerical_features\")\n",
    "    standardScaler = StandardScaler(inputCol='numerical_features', outputCol=\"numerical_features_scaled\")\n",
    "    \n",
    "    #\n",
    "    stages += [numerical_assembler, standardScaler]\n",
    "\n",
    "\n",
    "all_features = [categoricalCol + \"classVec\",'numerical_features_scaled']\n",
    "final_assembler = VectorAssembler(inputCols=all_features, \n",
    "                                  outputCol=\"features\") \n",
    "\n",
    "stages += [final_assembler]\n"
   ]
  },
  {
   "cell_type": "markdown",
   "id": "791971d3",
   "metadata": {},
   "source": [
    "***ДАТАСЕТ ДЛЯ 2-ой МОДЕЛИ, ГДЕ ВСЕ КАТЕГОРИАЛЬНЫЕ ДАННЫЕ УДАЛЕНЫ***"
   ]
  },
  {
   "cell_type": "markdown",
   "id": "37a0b896",
   "metadata": {},
   "source": [
    "***Удалим категориальные переменные из датасета***"
   ]
  },
  {
   "cell_type": "code",
   "execution_count": 24,
   "id": "de646810",
   "metadata": {},
   "outputs": [],
   "source": [
    "#создадим новый датасет, кторый в дальнейшем будем преобразовывать\n",
    "df2=df\n",
    "\n",
    "#Разделим колонки на три типа: числовые и категориальные данные и целевой***\n",
    "categorical_cols2 = ['ocean_proximity']\n",
    "numerical_cols2  = ['longitude', 'latitude', 'housing_median_age',\"population\",'households', \"median_income\", 'total_rooms', 'total_bedrooms', ]\n",
    "target2 = \"median_house_value\"\n",
    "\n",
    "\n",
    "\n",
    "#удалим колонки с категориальными данными\n",
    "exclude = ['ocean_proximity']\n",
    "selected_columns = [col for col in df2.columns if col not in exclude]\n",
    "df2= df2.select(selected_columns)"
   ]
  },
  {
   "cell_type": "markdown",
   "id": "1f1810d2",
   "metadata": {},
   "source": [
    "***Раздение данных на обучающую и тренировочную выборки для 2-ой модели/***"
   ]
  },
  {
   "cell_type": "code",
   "execution_count": 25,
   "id": "e5a518b6",
   "metadata": {},
   "outputs": [
    {
     "name": "stdout",
     "output_type": "stream",
     "text": [
      "16418 4222\n"
     ]
    }
   ],
   "source": [
    "data2 = df2\n",
    "#разделим данные на выборки\n",
    "train_data2, test_data2 = data2.randomSplit([.8,.2], seed=RANDOM_SEED)\n",
    "\n",
    "print(train_data2.count(), test_data2.count())"
   ]
  },
  {
   "cell_type": "markdown",
   "id": "7448b725",
   "metadata": {},
   "source": [
    "***Трансформация числовых признаков***"
   ]
  },
  {
   "cell_type": "code",
   "execution_count": 26,
   "id": "b682a637",
   "metadata": {},
   "outputs": [
    {
     "name": "stderr",
     "output_type": "stream",
     "text": [
      "                                                                                \r"
     ]
    }
   ],
   "source": [
    "#тренировочная выборка\n",
    "numerical_assembler2 = VectorAssembler(inputCols=numerical_cols, outputCol=\"numerical_features2\")\n",
    "train_data2 = numerical_assembler2.transform(train_data2)\n",
    "standardScaler2 = StandardScaler(inputCol='numerical_features2', outputCol=\"features2\")\n",
    "standardScaler2_trained = standardScaler2.fit(train_data2)\n",
    "train_data2 = standardScaler2_trained.transform(train_data2)\n",
    "\n",
    "#тестовая выборка\n",
    "numerical_assembler2 = VectorAssembler(inputCols=numerical_cols, outputCol=\"numerical_features2\")\n",
    "test_data2 = numerical_assembler2.transform(test_data2)\n",
    "standardScaler2 = StandardScaler(inputCol='numerical_features2', outputCol=\"numerical_features_scaled_test2\")\n",
    "test_data2 = standardScaler2_trained.transform(test_data2)\n",
    "#test_data2 = standardScaler2.fit(test_data2).transform(test_data2)"
   ]
  },
  {
   "cell_type": "code",
   "execution_count": 27,
   "id": "befdd77e",
   "metadata": {},
   "outputs": [
    {
     "name": "stdout",
     "output_type": "stream",
     "text": [
      "['longitude', 'latitude', 'housing_median_age', 'total_rooms', 'total_bedrooms', 'population', 'households', 'median_income', 'median_house_value', 'numerical_features2', 'features2']\n"
     ]
    }
   ],
   "source": [
    "print(test_data2.columns)"
   ]
  },
  {
   "cell_type": "markdown",
   "id": "9f0a82f3",
   "metadata": {
    "id": "9f0a82f3"
   },
   "source": [
    "# Обучение моделей"
   ]
  },
  {
   "cell_type": "markdown",
   "id": "978aead0",
   "metadata": {
    "id": "bddb08c4"
   },
   "source": [
    "***1. Построим модель линейной регрессии  №1, где используютсявсе данные из файла***"
   ]
  },
  {
   "cell_type": "code",
   "execution_count": 28,
   "id": "f0ab640b",
   "metadata": {},
   "outputs": [
    {
     "name": "stderr",
     "output_type": "stream",
     "text": [
      "23/04/22 06:40:13 WARN BLAS: Failed to load implementation from: com.github.fommil.netlib.NativeSystemBLAS\n",
      "23/04/22 06:40:13 WARN BLAS: Failed to load implementation from: com.github.fommil.netlib.NativeRefBLAS\n",
      "                                                                                \r"
     ]
    }
   ],
   "source": [
    "#обучим модель первую модель\n",
    "\n",
    "lr = LinearRegression(featuresCol='features', labelCol ='median_house_value', maxIter=10, regParam=0.3, elasticNetParam=0.8) \n",
    "stages += [lr]\n",
    "\n",
    "# задаем план stages для обучения модели \n",
    "pipeline = Pipeline(stages=stages)\n",
    "\n",
    "# тренируем модель\n",
    "model = pipeline.fit(train_data)\n",
    "\n",
    "# делаем предсказания на тестовой выборке\n",
    "predictions = model.transform(test_data)"
   ]
  },
  {
   "cell_type": "code",
   "execution_count": 29,
   "id": "d9d9bb6e",
   "metadata": {
    "scrolled": true
   },
   "outputs": [
    {
     "name": "stdout",
     "output_type": "stream",
     "text": [
      "+------------------+------------------+\n",
      "|median_house_value|        prediction|\n",
      "+------------------+------------------+\n",
      "|          103600.0| 183418.1087200842|\n",
      "|           50800.0|232881.09614893887|\n",
      "|           58100.0|  158878.409502991|\n",
      "|           68400.0|162131.23710889602|\n",
      "|           72200.0|180961.47946255258|\n",
      "+------------------+------------------+\n",
      "only showing top 5 rows\n",
      "\n"
     ]
    }
   ],
   "source": [
    "#предсказание результатов\n",
    "\n",
    "predictions = model.transform(test_data)\n",
    "\n",
    "predictedLabes = predictions.select(\"median_house_value\", \"prediction\")\n",
    "predictedLabes.show(5)"
   ]
  },
  {
   "cell_type": "markdown",
   "id": "5d9af7e7",
   "metadata": {},
   "source": [
    "Оценка качества модели с помощью метрик RMSE, MAE и R2\n",
    "\n",
    "Root Mean Squared Error (RMSE) - метрика, которая сообщает нам квадратный корень из средней квадратичной разницы между прогнозируемыми значениями и фактическими значениями в наборе данных. Чем ниже RMSE, тем лучше модель соответствует набору данных.\n",
    "\n",
    "Mean Absolute Error (MAE) - показывает среднюю абсолютную разницу между прогнозируемыми значениями и фактическими значениями в наборе данных. Чем ниже MAE, тем лучше модель соответствует набору данных.\n",
    "\n",
    "Coefficient of Determination (R2) - то величина изменения в выходном зависимом атрибуте, которая предсказуема из входных независимых переменных. Он используется для проверки того, насколько хорошо наблюдаемые результаты воспроизводятся моделью, в зависимости от отношения общего отклонения результатов, описанных моделью.\n"
   ]
  },
  {
   "cell_type": "code",
   "execution_count": 30,
   "id": "d2dbd29b",
   "metadata": {
    "scrolled": true
   },
   "outputs": [
    {
     "name": "stdout",
     "output_type": "stream",
     "text": [
      "MAE =  50189.496556608065\n",
      "RMSE =  69064.60679110579\n",
      "R2 =  0.6476871478026036\n"
     ]
    }
   ],
   "source": [
    "from pyspark.ml.evaluation import RegressionEvaluator\n",
    "\n",
    "mae = RegressionEvaluator(labelCol='median_house_value', metricName=\"mae\").evaluate(predictions)\n",
    "rmse = RegressionEvaluator(labelCol='median_house_value', metricName=\"rmse\").evaluate(predictions)\n",
    "r2 = RegressionEvaluator(labelCol='median_house_value', metricName=\"r2\").evaluate(predictions)\n",
    "\n",
    "print(\"MAE = \", mae)\n",
    "print(\"RMSE = \", rmse)\n",
    "print(\"R2 = \", r2)"
   ]
  },
  {
   "cell_type": "markdown",
   "id": "52979d92",
   "metadata": {},
   "source": [
    "***2.Построим модель линейной регрессии №2, где только числовые переменные,а категориальные удалены.***"
   ]
  },
  {
   "cell_type": "markdown",
   "id": "8bb16c3b",
   "metadata": {},
   "source": [
    "***Раздение данных на обучающую и тренировочную выборки***"
   ]
  },
  {
   "cell_type": "code",
   "execution_count": 31,
   "id": "d55b9442",
   "metadata": {},
   "outputs": [],
   "source": [
    "#обучим вторую модель\n",
    "\n",
    "lr2 = LinearRegression(featuresCol='features2', labelCol ='median_house_value', maxIter=10, regParam=0.3, elasticNetParam=0.8) \n",
    "\n",
    "model2 = lr2.fit(train_data2)"
   ]
  },
  {
   "cell_type": "code",
   "execution_count": 32,
   "id": "26a726a4",
   "metadata": {},
   "outputs": [
    {
     "name": "stdout",
     "output_type": "stream",
     "text": [
      "+------------------+------------------+\n",
      "|median_house_value|        prediction|\n",
      "+------------------+------------------+\n",
      "|          103600.0|101536.76721770782|\n",
      "|           50800.0|185324.07948330836|\n",
      "|           58100.0|109687.58200852666|\n",
      "|           68400.0| 79232.28617719933|\n",
      "|           72200.0|129832.98257200373|\n",
      "+------------------+------------------+\n",
      "only showing top 5 rows\n",
      "\n"
     ]
    }
   ],
   "source": [
    "#предсказание результатов\n",
    "\n",
    "predictions2 = model2.transform(test_data2)\n",
    "\n",
    "predictedLabes2 = predictions2.select(\"median_house_value\", \"prediction\")\n",
    "predictedLabes2.show(5)\n",
    "\n",
    "\n"
   ]
  },
  {
   "cell_type": "code",
   "execution_count": 33,
   "id": "d9ff2381",
   "metadata": {
    "scrolled": true
   },
   "outputs": [
    {
     "name": "stdout",
     "output_type": "stream",
     "text": [
      "MAE =  51018.89584708491\n",
      "RMSE =  69268.19359646735\n",
      "R2 =  0.6456070095736492\n"
     ]
    }
   ],
   "source": [
    "#посчитаем метрики качества второй модели\n",
    "\n",
    "mae = RegressionEvaluator(labelCol='median_house_value', metricName=\"mae\").evaluate(predictions2)\n",
    "rmse = RegressionEvaluator(labelCol='median_house_value', metricName=\"rmse\").evaluate(predictions2)\n",
    "r2 = RegressionEvaluator(labelCol='median_house_value', metricName=\"r2\").evaluate(predictions2)\n",
    "\n",
    "print(\"MAE = \", mae)\n",
    "print(\"RMSE = \", rmse)\n",
    "print(\"R2 = \", r2)"
   ]
  },
  {
   "cell_type": "code",
   "execution_count": 34,
   "id": "51dc45ee",
   "metadata": {},
   "outputs": [],
   "source": [
    "#осановить сессию\n",
    "spark.stop()"
   ]
  },
  {
   "cell_type": "markdown",
   "id": "757fd103",
   "metadata": {
    "id": "757fd103"
   },
   "source": [
    "# Анализ результатов"
   ]
  },
  {
   "cell_type": "markdown",
   "id": "4a4764fb",
   "metadata": {},
   "source": [
    "Представленный датасет с данными о жилье в Калифорнии в 1990 году был предобработан - все пропущенные значения были заменены на нули.\n",
    "\n",
    "Далее мы обучили модели линейной регрессии на разных наборах данных:\n",
    "\n",
    "- 1) Первая модель: на всей данных из датасета, при  этом проведя трансформацию и закодировав качественные признаки, а также трансформируя количественные признаки. Далее разбили данные на обучающую и тестовую выборки. Обучили модели на тренировочной выборке и сделали предсказание на тестовой, после чего проверили оценили качество модели используйте метрики RMSE, MAE и R2\n",
    "- 2) Вторая модель: на данных того же датасета, но исключив качественные призники и обучение проведи только на количественных, предварительно их трансформиру. И проверили снова теже метрики.\n",
    "\n",
    "ПО 1 модели были получены следующие метрики:\n",
    " - MAE =  50189.496556608065\n",
    " - RMSE =  69064.60679110579\n",
    " - R2 =  0.6476871478026036\n",
    " \n",
    "Метрики по 2 модели:\n",
    " - MAE =  51018.89584708491\n",
    " - RMSE =  69268.19359646735\n",
    " - R2 =  0.6456070095736492\n",
    " \n",
    "Как мы видим метрики MAE и RMSE по первой модели лучше, потому что они ниже. Что означает меньшу разницу между прогнозируемыми и реальными занчениями по median_house_value — медианной стоимости дома в жилом массиве.\n",
    "Метрика R2 по первой модели  на 0.002 пункта выше, что лучше, так как это озачает, что наблюдения модели, как за качественными, так за количественными признаками немного точнее воспроизводятся модель.\n",
    "\n",
    "По всем метриками выходит, что первая модель лучше, чем вторая  предсказывает медианную стоимости дома в жилом массиве.\n"
   ]
  }
 ],
 "metadata": {
  "ExecuteTimeLog": [
   {
    "duration": 862,
    "start_time": "2023-04-17T10:07:57.069Z"
   },
   {
    "duration": 40112,
    "start_time": "2023-04-17T10:08:19.060Z"
   },
   {
    "duration": 1037,
    "start_time": "2023-04-17T10:09:49.008Z"
   },
   {
    "duration": 18,
    "start_time": "2023-04-17T10:17:18.756Z"
   },
   {
    "duration": 1474,
    "start_time": "2023-04-17T10:32:08.573Z"
   },
   {
    "duration": 635,
    "start_time": "2023-04-17T10:38:45.739Z"
   },
   {
    "duration": 580,
    "start_time": "2023-04-17T10:39:42.326Z"
   },
   {
    "duration": 1668,
    "start_time": "2023-04-17T10:40:08.535Z"
   },
   {
    "duration": 33,
    "start_time": "2023-04-17T10:41:53.233Z"
   },
   {
    "duration": 1573,
    "start_time": "2023-04-17T10:43:16.371Z"
   },
   {
    "duration": 363,
    "start_time": "2023-04-17T10:43:54.300Z"
   },
   {
    "duration": 9696,
    "start_time": "2023-04-17T10:47:30.277Z"
   },
   {
    "duration": 69,
    "start_time": "2023-04-17T10:48:44.128Z"
   },
   {
    "duration": 6113,
    "start_time": "2023-04-17T10:49:27.619Z"
   },
   {
    "duration": 84,
    "start_time": "2023-04-17T10:59:00.467Z"
   },
   {
    "duration": 412,
    "start_time": "2023-04-17T10:59:05.749Z"
   },
   {
    "duration": 231,
    "start_time": "2023-04-17T10:59:15.612Z"
   },
   {
    "duration": 19,
    "start_time": "2023-04-17T11:10:19.703Z"
   },
   {
    "duration": 120,
    "start_time": "2023-04-17T11:10:38.416Z"
   },
   {
    "duration": 106,
    "start_time": "2023-04-17T11:10:47.729Z"
   },
   {
    "duration": 5,
    "start_time": "2023-04-17T11:11:54.057Z"
   },
   {
    "duration": 48,
    "start_time": "2023-04-17T11:11:59.214Z"
   },
   {
    "duration": 17,
    "start_time": "2023-04-17T11:12:50.159Z"
   },
   {
    "duration": 1408,
    "start_time": "2023-04-17T11:13:07.662Z"
   },
   {
    "duration": 3,
    "start_time": "2023-04-17T11:13:12.652Z"
   },
   {
    "duration": 4,
    "start_time": "2023-04-17T11:13:19.539Z"
   },
   {
    "duration": 14,
    "start_time": "2023-04-17T11:13:22.519Z"
   },
   {
    "duration": 14,
    "start_time": "2023-04-17T11:13:33.262Z"
   },
   {
    "duration": 115,
    "start_time": "2023-04-17T11:13:42.354Z"
   },
   {
    "duration": 80,
    "start_time": "2023-04-17T11:16:54.903Z"
   },
   {
    "duration": 5,
    "start_time": "2023-04-17T11:21:41.311Z"
   },
   {
    "duration": 3,
    "start_time": "2023-04-17T11:22:06.641Z"
   },
   {
    "duration": 3,
    "start_time": "2023-04-17T11:23:29.113Z"
   },
   {
    "duration": 4724,
    "start_time": "2023-04-17T11:27:01.812Z"
   },
   {
    "duration": 197,
    "start_time": "2023-04-17T11:27:17.352Z"
   },
   {
    "duration": 16739,
    "start_time": "2023-04-17T11:28:07.524Z"
   },
   {
    "duration": 0,
    "start_time": "2023-04-17T11:28:24.265Z"
   },
   {
    "duration": 0,
    "start_time": "2023-04-17T11:28:24.267Z"
   },
   {
    "duration": 0,
    "start_time": "2023-04-17T11:28:24.268Z"
   },
   {
    "duration": 0,
    "start_time": "2023-04-17T11:28:24.270Z"
   },
   {
    "duration": 0,
    "start_time": "2023-04-17T11:28:24.271Z"
   },
   {
    "duration": 0,
    "start_time": "2023-04-17T11:28:24.273Z"
   },
   {
    "duration": 0,
    "start_time": "2023-04-17T11:28:24.274Z"
   },
   {
    "duration": 0,
    "start_time": "2023-04-17T11:28:24.275Z"
   },
   {
    "duration": 12250,
    "start_time": "2023-04-17T11:28:27.609Z"
   },
   {
    "duration": 892,
    "start_time": "2023-04-17T11:28:44.768Z"
   },
   {
    "duration": 16,
    "start_time": "2023-04-17T11:28:49.722Z"
   },
   {
    "duration": 1391,
    "start_time": "2023-04-17T11:28:56.351Z"
   },
   {
    "duration": 9042,
    "start_time": "2023-04-17T11:28:59.120Z"
   },
   {
    "duration": 217,
    "start_time": "2023-04-17T11:29:10.438Z"
   },
   {
    "duration": 3,
    "start_time": "2023-04-17T11:29:13.458Z"
   },
   {
    "duration": 225,
    "start_time": "2023-04-17T11:29:17.009Z"
   },
   {
    "duration": 5077,
    "start_time": "2023-04-17T11:30:17.882Z"
   },
   {
    "duration": 3574,
    "start_time": "2023-04-17T11:30:26.946Z"
   },
   {
    "duration": 334,
    "start_time": "2023-04-17T11:31:23.383Z"
   },
   {
    "duration": 151,
    "start_time": "2023-04-17T11:31:34.729Z"
   },
   {
    "duration": 858,
    "start_time": "2023-04-17T11:31:56.214Z"
   },
   {
    "duration": 360,
    "start_time": "2023-04-17T11:31:57.075Z"
   },
   {
    "duration": 5,
    "start_time": "2023-04-17T11:31:57.438Z"
   },
   {
    "duration": 319,
    "start_time": "2023-04-17T11:31:57.445Z"
   },
   {
    "duration": 5788,
    "start_time": "2023-04-17T11:31:57.767Z"
   },
   {
    "duration": 121,
    "start_time": "2023-04-17T11:32:03.634Z"
   },
   {
    "duration": 4,
    "start_time": "2023-04-17T11:32:03.757Z"
   },
   {
    "duration": 2665,
    "start_time": "2023-04-17T11:35:59.899Z"
   },
   {
    "duration": 1483,
    "start_time": "2023-04-17T11:36:31.506Z"
   },
   {
    "duration": 7,
    "start_time": "2023-04-17T11:38:10.133Z"
   },
   {
    "duration": 3,
    "start_time": "2023-04-17T11:38:54.307Z"
   },
   {
    "duration": 743,
    "start_time": "2023-04-17T11:39:00.447Z"
   },
   {
    "duration": 263,
    "start_time": "2023-04-17T11:39:01.193Z"
   },
   {
    "duration": 5,
    "start_time": "2023-04-17T11:39:01.457Z"
   },
   {
    "duration": 240,
    "start_time": "2023-04-17T11:39:01.464Z"
   },
   {
    "duration": 3769,
    "start_time": "2023-04-17T11:39:01.706Z"
   },
   {
    "duration": 34,
    "start_time": "2023-04-17T11:39:05.534Z"
   },
   {
    "duration": 3,
    "start_time": "2023-04-17T11:39:12.109Z"
   },
   {
    "duration": 1636,
    "start_time": "2023-04-17T11:39:14.046Z"
   },
   {
    "duration": 901,
    "start_time": "2023-04-17T11:39:24.446Z"
   },
   {
    "duration": 236,
    "start_time": "2023-04-17T11:39:41.325Z"
   },
   {
    "duration": 290,
    "start_time": "2023-04-17T11:40:11.190Z"
   },
   {
    "duration": 1388,
    "start_time": "2023-04-17T11:40:58.856Z"
   },
   {
    "duration": 235,
    "start_time": "2023-04-17T11:41:22.955Z"
   },
   {
    "duration": 67,
    "start_time": "2023-04-17T11:42:33.813Z"
   },
   {
    "duration": 1414,
    "start_time": "2023-04-17T11:42:55.745Z"
   },
   {
    "duration": 7169,
    "start_time": "2023-04-17T11:43:41.470Z"
   },
   {
    "duration": 17,
    "start_time": "2023-04-17T11:49:18.830Z"
   },
   {
    "duration": 622,
    "start_time": "2023-04-17T11:51:10.617Z"
   },
   {
    "duration": 71,
    "start_time": "2023-04-17T11:51:17.151Z"
   },
   {
    "duration": 237,
    "start_time": "2023-04-17T11:56:16.578Z"
   },
   {
    "duration": 9,
    "start_time": "2023-04-17T11:58:07.260Z"
   },
   {
    "duration": 9,
    "start_time": "2023-04-17T12:02:19.949Z"
   },
   {
    "duration": 47,
    "start_time": "2023-04-17T12:03:01.736Z"
   },
   {
    "duration": 420,
    "start_time": "2023-04-17T12:03:19.378Z"
   },
   {
    "duration": 16,
    "start_time": "2023-04-17T12:04:49.127Z"
   },
   {
    "duration": 14,
    "start_time": "2023-04-17T12:06:58.012Z"
   },
   {
    "duration": 9,
    "start_time": "2023-04-17T12:07:13.640Z"
   },
   {
    "duration": 100,
    "start_time": "2023-04-17T12:07:34.342Z"
   },
   {
    "duration": 564,
    "start_time": "2023-04-17T12:07:42.398Z"
   },
   {
    "duration": 201,
    "start_time": "2023-04-17T12:07:42.965Z"
   },
   {
    "duration": 4,
    "start_time": "2023-04-17T12:07:43.167Z"
   },
   {
    "duration": 210,
    "start_time": "2023-04-17T12:07:43.174Z"
   },
   {
    "duration": 3889,
    "start_time": "2023-04-17T12:07:43.385Z"
   },
   {
    "duration": 101,
    "start_time": "2023-04-17T12:07:47.334Z"
   },
   {
    "duration": 4,
    "start_time": "2023-04-17T12:07:47.437Z"
   },
   {
    "duration": 1720,
    "start_time": "2023-04-17T12:07:47.443Z"
   },
   {
    "duration": 896,
    "start_time": "2023-04-17T12:07:49.165Z"
   },
   {
    "duration": 136,
    "start_time": "2023-04-17T12:07:50.063Z"
   },
   {
    "duration": 734,
    "start_time": "2023-04-17T12:07:50.201Z"
   },
   {
    "duration": 526,
    "start_time": "2023-04-17T12:07:50.937Z"
   },
   {
    "duration": 12,
    "start_time": "2023-04-17T12:07:51.466Z"
   },
   {
    "duration": 869,
    "start_time": "2023-04-17T12:34:44.032Z"
   },
   {
    "duration": 201,
    "start_time": "2023-04-17T12:34:44.903Z"
   },
   {
    "duration": 4,
    "start_time": "2023-04-17T12:34:45.106Z"
   },
   {
    "duration": 179,
    "start_time": "2023-04-17T12:34:45.112Z"
   },
   {
    "duration": 4167,
    "start_time": "2023-04-17T12:34:45.294Z"
   },
   {
    "duration": 90,
    "start_time": "2023-04-17T12:34:49.463Z"
   },
   {
    "duration": 9,
    "start_time": "2023-04-17T12:34:53.515Z"
   },
   {
    "duration": 1668,
    "start_time": "2023-04-17T12:35:00.179Z"
   },
   {
    "duration": 353,
    "start_time": "2023-04-17T12:35:10.324Z"
   },
   {
    "duration": 0,
    "start_time": "2023-04-17T12:35:10.680Z"
   },
   {
    "duration": 0,
    "start_time": "2023-04-17T12:35:10.682Z"
   },
   {
    "duration": 0,
    "start_time": "2023-04-17T12:35:10.683Z"
   },
   {
    "duration": 0,
    "start_time": "2023-04-17T12:35:10.684Z"
   },
   {
    "duration": 0,
    "start_time": "2023-04-17T12:35:10.687Z"
   },
   {
    "duration": 0,
    "start_time": "2023-04-17T12:35:10.688Z"
   },
   {
    "duration": 0,
    "start_time": "2023-04-17T12:35:10.695Z"
   },
   {
    "duration": 0,
    "start_time": "2023-04-17T12:35:10.697Z"
   },
   {
    "duration": 261,
    "start_time": "2023-04-17T12:35:50.097Z"
   },
   {
    "duration": 27800,
    "start_time": "2023-04-17T12:36:01.151Z"
   },
   {
    "duration": 914,
    "start_time": "2023-04-17T12:36:28.954Z"
   },
   {
    "duration": 81,
    "start_time": "2023-04-17T12:36:29.870Z"
   },
   {
    "duration": 1711,
    "start_time": "2023-04-17T12:36:29.953Z"
   },
   {
    "duration": 10274,
    "start_time": "2023-04-17T12:36:31.667Z"
   },
   {
    "duration": 322,
    "start_time": "2023-04-17T12:36:41.943Z"
   },
   {
    "duration": 78,
    "start_time": "2023-04-17T12:36:42.267Z"
   },
   {
    "duration": 5523,
    "start_time": "2023-04-17T12:36:42.351Z"
   },
   {
    "duration": 3063,
    "start_time": "2023-04-17T12:36:47.876Z"
   },
   {
    "duration": 520,
    "start_time": "2023-04-17T12:36:50.944Z"
   },
   {
    "duration": 1609,
    "start_time": "2023-04-17T12:36:51.466Z"
   },
   {
    "duration": 1279,
    "start_time": "2023-04-17T12:36:53.077Z"
   },
   {
    "duration": 307,
    "start_time": "2023-04-17T12:36:54.357Z"
   },
   {
    "duration": 0,
    "start_time": "2023-04-17T12:36:54.666Z"
   },
   {
    "duration": 0,
    "start_time": "2023-04-17T12:36:54.667Z"
   },
   {
    "duration": 0,
    "start_time": "2023-04-17T12:36:54.668Z"
   },
   {
    "duration": 108,
    "start_time": "2023-04-17T12:37:54.050Z"
   },
   {
    "duration": 6792,
    "start_time": "2023-04-17T12:38:18.376Z"
   },
   {
    "duration": 896,
    "start_time": "2023-04-17T12:38:28.003Z"
   },
   {
    "duration": 39,
    "start_time": "2023-04-17T13:27:31.722Z"
   },
   {
    "duration": 9,
    "start_time": "2023-04-17T13:27:34.331Z"
   },
   {
    "duration": 10,
    "start_time": "2023-04-17T13:27:55.806Z"
   },
   {
    "duration": 10,
    "start_time": "2023-04-17T13:27:59.270Z"
   },
   {
    "duration": 9,
    "start_time": "2023-04-17T13:31:35.861Z"
   },
   {
    "duration": 147,
    "start_time": "2023-04-17T13:31:45.147Z"
   },
   {
    "duration": 375,
    "start_time": "2023-04-17T13:33:31.253Z"
   },
   {
    "duration": 3,
    "start_time": "2023-04-17T13:35:11.716Z"
   },
   {
    "duration": 570,
    "start_time": "2023-04-17T13:35:13.839Z"
   },
   {
    "duration": 172,
    "start_time": "2023-04-17T13:36:43.044Z"
   },
   {
    "duration": 30297,
    "start_time": "2023-04-17T13:37:25.846Z"
   },
   {
    "duration": 1005,
    "start_time": "2023-04-17T13:37:56.145Z"
   },
   {
    "duration": 25,
    "start_time": "2023-04-17T13:37:57.152Z"
   },
   {
    "duration": 1359,
    "start_time": "2023-04-17T13:37:57.179Z"
   },
   {
    "duration": 9720,
    "start_time": "2023-04-17T13:37:58.542Z"
   },
   {
    "duration": 387,
    "start_time": "2023-04-17T13:38:08.264Z"
   },
   {
    "duration": 16,
    "start_time": "2023-04-17T13:38:08.654Z"
   },
   {
    "duration": 5337,
    "start_time": "2023-04-17T13:38:08.733Z"
   },
   {
    "duration": 2991,
    "start_time": "2023-04-17T13:38:14.072Z"
   },
   {
    "duration": 491,
    "start_time": "2023-04-17T13:38:17.065Z"
   },
   {
    "duration": 1886,
    "start_time": "2023-04-17T13:38:17.559Z"
   },
   {
    "duration": 1008,
    "start_time": "2023-04-17T13:38:19.447Z"
   },
   {
    "duration": 8601,
    "start_time": "2023-04-17T13:38:20.457Z"
   },
   {
    "duration": 1318,
    "start_time": "2023-04-17T13:38:29.061Z"
   },
   {
    "duration": 471,
    "start_time": "2023-04-17T13:38:30.434Z"
   },
   {
    "duration": 0,
    "start_time": "2023-04-17T13:38:30.907Z"
   },
   {
    "duration": 129,
    "start_time": "2023-04-17T13:44:48.002Z"
   },
   {
    "duration": 28554,
    "start_time": "2023-04-17T13:46:12.117Z"
   },
   {
    "duration": 994,
    "start_time": "2023-04-17T13:46:40.675Z"
   },
   {
    "duration": 28,
    "start_time": "2023-04-17T13:46:41.735Z"
   },
   {
    "duration": 1240,
    "start_time": "2023-04-17T13:46:41.833Z"
   },
   {
    "duration": 9813,
    "start_time": "2023-04-17T13:46:43.136Z"
   },
   {
    "duration": 320,
    "start_time": "2023-04-17T13:46:52.950Z"
   },
   {
    "duration": 67,
    "start_time": "2023-04-17T13:46:53.272Z"
   },
   {
    "duration": 5022,
    "start_time": "2023-04-17T13:46:53.345Z"
   },
   {
    "duration": 2763,
    "start_time": "2023-04-17T13:46:58.370Z"
   },
   {
    "duration": 428,
    "start_time": "2023-04-17T13:47:01.135Z"
   },
   {
    "duration": 1870,
    "start_time": "2023-04-17T13:47:01.565Z"
   },
   {
    "duration": 1236,
    "start_time": "2023-04-17T13:47:03.436Z"
   },
   {
    "duration": 7958,
    "start_time": "2023-04-17T13:47:04.675Z"
   },
   {
    "duration": 1013,
    "start_time": "2023-04-17T13:47:12.641Z"
   },
   {
    "duration": 57583,
    "start_time": "2023-04-17T13:47:13.656Z"
   },
   {
    "duration": 109,
    "start_time": "2023-04-17T13:48:11.241Z"
   },
   {
    "duration": 287,
    "start_time": "2023-04-17T13:53:06.310Z"
   },
   {
    "duration": 211,
    "start_time": "2023-04-17T13:53:20.570Z"
   },
   {
    "duration": 234,
    "start_time": "2023-04-17T13:53:27.372Z"
   },
   {
    "duration": 2600,
    "start_time": "2023-04-17T13:53:53.287Z"
   },
   {
    "duration": 4,
    "start_time": "2023-04-17T13:54:51.385Z"
   },
   {
    "duration": 10,
    "start_time": "2023-04-17T14:16:12.798Z"
   },
   {
    "duration": 162,
    "start_time": "2023-04-17T14:20:54.414Z"
   },
   {
    "duration": 172,
    "start_time": "2023-04-17T14:37:20.896Z"
   },
   {
    "duration": 188,
    "start_time": "2023-04-17T14:38:05.834Z"
   },
   {
    "duration": 31219,
    "start_time": "2023-04-17T14:38:33.034Z"
   },
   {
    "duration": 1110,
    "start_time": "2023-04-17T14:39:04.256Z"
   },
   {
    "duration": 81,
    "start_time": "2023-04-17T14:39:05.369Z"
   },
   {
    "duration": 1816,
    "start_time": "2023-04-17T14:39:05.452Z"
   },
   {
    "duration": 10597,
    "start_time": "2023-04-17T14:39:07.271Z"
   },
   {
    "duration": 306,
    "start_time": "2023-04-17T14:39:17.870Z"
   },
   {
    "duration": 15,
    "start_time": "2023-04-17T14:39:18.241Z"
   },
   {
    "duration": 4906,
    "start_time": "2023-04-17T14:39:18.262Z"
   },
   {
    "duration": 2209,
    "start_time": "2023-04-17T14:39:23.170Z"
   },
   {
    "duration": 393,
    "start_time": "2023-04-17T14:39:25.381Z"
   },
   {
    "duration": 1584,
    "start_time": "2023-04-17T14:39:25.776Z"
   },
   {
    "duration": 1100,
    "start_time": "2023-04-17T14:39:27.364Z"
   },
   {
    "duration": 7798,
    "start_time": "2023-04-17T14:39:28.466Z"
   },
   {
    "duration": 1236,
    "start_time": "2023-04-17T14:39:36.268Z"
   },
   {
    "duration": 56464,
    "start_time": "2023-04-17T14:39:37.505Z"
   },
   {
    "duration": 220,
    "start_time": "2023-04-17T14:40:33.971Z"
   },
   {
    "duration": 0,
    "start_time": "2023-04-17T14:40:34.193Z"
   },
   {
    "duration": 0,
    "start_time": "2023-04-17T14:40:34.195Z"
   },
   {
    "duration": 3835,
    "start_time": "2023-04-17T14:41:44.033Z"
   },
   {
    "duration": 2297,
    "start_time": "2023-04-17T14:41:50.513Z"
   },
   {
    "duration": 122,
    "start_time": "2023-04-17T14:41:56.586Z"
   },
   {
    "duration": 756,
    "start_time": "2023-04-17T16:44:18.172Z"
   },
   {
    "duration": 32994,
    "start_time": "2023-04-17T16:44:28.118Z"
   },
   {
    "duration": 805,
    "start_time": "2023-04-17T16:45:01.115Z"
   },
   {
    "duration": 17,
    "start_time": "2023-04-17T16:45:01.921Z"
   },
   {
    "duration": 1235,
    "start_time": "2023-04-17T16:45:02.012Z"
   },
   {
    "duration": 8881,
    "start_time": "2023-04-17T16:45:03.250Z"
   },
   {
    "duration": 306,
    "start_time": "2023-04-17T16:45:12.133Z"
   },
   {
    "duration": 71,
    "start_time": "2023-04-17T16:45:12.442Z"
   },
   {
    "duration": 4758,
    "start_time": "2023-04-17T16:45:12.516Z"
   },
   {
    "duration": 2024,
    "start_time": "2023-04-17T16:45:17.313Z"
   },
   {
    "duration": 517,
    "start_time": "2023-04-17T16:45:19.340Z"
   },
   {
    "duration": 1595,
    "start_time": "2023-04-17T16:45:19.859Z"
   },
   {
    "duration": 1029,
    "start_time": "2023-04-17T16:45:21.513Z"
   },
   {
    "duration": 7293,
    "start_time": "2023-04-17T16:45:22.544Z"
   },
   {
    "duration": 714,
    "start_time": "2023-04-17T16:45:29.840Z"
   },
   {
    "duration": 50297,
    "start_time": "2023-04-17T16:45:30.557Z"
   },
   {
    "duration": 2870,
    "start_time": "2023-04-17T16:46:20.857Z"
   },
   {
    "duration": 2254,
    "start_time": "2023-04-17T16:46:23.729Z"
   },
   {
    "duration": 144,
    "start_time": "2023-04-17T16:46:26.011Z"
   },
   {
    "duration": 116,
    "start_time": "2023-04-17T16:46:43.020Z"
   },
   {
    "duration": 147,
    "start_time": "2023-04-17T16:47:00.946Z"
   },
   {
    "duration": 1917,
    "start_time": "2023-04-17T16:53:55.205Z"
   },
   {
    "duration": 2760,
    "start_time": "2023-04-17T16:54:50.789Z"
   },
   {
    "duration": 5281,
    "start_time": "2023-04-17T16:55:24.338Z"
   },
   {
    "duration": 4,
    "start_time": "2023-04-17T18:29:54.102Z"
   },
   {
    "duration": 25053,
    "start_time": "2023-04-17T18:41:13.898Z"
   },
   {
    "duration": 786,
    "start_time": "2023-04-17T18:41:38.954Z"
   },
   {
    "duration": 81,
    "start_time": "2023-04-17T18:41:39.741Z"
   },
   {
    "duration": 1196,
    "start_time": "2023-04-17T18:41:39.823Z"
   },
   {
    "duration": 7818,
    "start_time": "2023-04-17T18:41:41.022Z"
   },
   {
    "duration": 287,
    "start_time": "2023-04-17T18:41:48.842Z"
   },
   {
    "duration": 4,
    "start_time": "2023-04-17T18:41:49.131Z"
   },
   {
    "duration": 3427,
    "start_time": "2023-04-17T18:41:49.137Z"
   },
   {
    "duration": 328,
    "start_time": "2023-04-17T18:41:52.612Z"
   },
   {
    "duration": 0,
    "start_time": "2023-04-17T18:41:52.942Z"
   },
   {
    "duration": 1,
    "start_time": "2023-04-17T18:41:52.943Z"
   },
   {
    "duration": 0,
    "start_time": "2023-04-17T18:41:52.945Z"
   },
   {
    "duration": 0,
    "start_time": "2023-04-17T18:41:52.946Z"
   },
   {
    "duration": 0,
    "start_time": "2023-04-17T18:41:52.948Z"
   },
   {
    "duration": 0,
    "start_time": "2023-04-17T18:41:52.950Z"
   },
   {
    "duration": 0,
    "start_time": "2023-04-17T18:41:52.951Z"
   },
   {
    "duration": 0,
    "start_time": "2023-04-17T18:41:53.013Z"
   },
   {
    "duration": 0,
    "start_time": "2023-04-17T18:41:53.014Z"
   },
   {
    "duration": 0,
    "start_time": "2023-04-17T18:41:53.015Z"
   },
   {
    "duration": 0,
    "start_time": "2023-04-17T18:41:53.017Z"
   },
   {
    "duration": 0,
    "start_time": "2023-04-17T18:41:53.018Z"
   },
   {
    "duration": 0,
    "start_time": "2023-04-17T18:41:53.020Z"
   },
   {
    "duration": 0,
    "start_time": "2023-04-17T18:41:53.021Z"
   },
   {
    "duration": 0,
    "start_time": "2023-04-17T18:41:53.023Z"
   },
   {
    "duration": 0,
    "start_time": "2023-04-17T18:41:53.024Z"
   },
   {
    "duration": 1443,
    "start_time": "2023-04-17T18:43:56.154Z"
   },
   {
    "duration": 172,
    "start_time": "2023-04-17T18:44:01.054Z"
   },
   {
    "duration": 0,
    "start_time": "2023-04-17T18:44:01.228Z"
   },
   {
    "duration": 0,
    "start_time": "2023-04-17T18:44:01.229Z"
   },
   {
    "duration": 0,
    "start_time": "2023-04-17T18:44:01.230Z"
   },
   {
    "duration": 0,
    "start_time": "2023-04-17T18:44:01.231Z"
   },
   {
    "duration": 0,
    "start_time": "2023-04-17T18:44:01.233Z"
   },
   {
    "duration": 0,
    "start_time": "2023-04-17T18:44:01.233Z"
   },
   {
    "duration": 0,
    "start_time": "2023-04-17T18:44:01.234Z"
   },
   {
    "duration": 0,
    "start_time": "2023-04-17T18:44:01.235Z"
   },
   {
    "duration": 0,
    "start_time": "2023-04-17T18:44:01.236Z"
   },
   {
    "duration": 0,
    "start_time": "2023-04-17T18:44:01.237Z"
   },
   {
    "duration": 0,
    "start_time": "2023-04-17T18:44:01.238Z"
   },
   {
    "duration": 0,
    "start_time": "2023-04-17T18:44:01.240Z"
   },
   {
    "duration": 0,
    "start_time": "2023-04-17T18:44:01.241Z"
   },
   {
    "duration": 0,
    "start_time": "2023-04-17T18:44:01.242Z"
   },
   {
    "duration": 0,
    "start_time": "2023-04-17T18:44:01.243Z"
   },
   {
    "duration": 0,
    "start_time": "2023-04-17T18:44:01.244Z"
   },
   {
    "duration": 171,
    "start_time": "2023-04-17T18:50:39.834Z"
   },
   {
    "duration": 25323,
    "start_time": "2023-04-17T18:50:58.717Z"
   },
   {
    "duration": 776,
    "start_time": "2023-04-17T18:51:24.043Z"
   },
   {
    "duration": 13,
    "start_time": "2023-04-17T18:51:24.821Z"
   },
   {
    "duration": 1110,
    "start_time": "2023-04-17T18:51:24.836Z"
   },
   {
    "duration": 7589,
    "start_time": "2023-04-17T18:51:25.949Z"
   },
   {
    "duration": 286,
    "start_time": "2023-04-17T18:51:33.540Z"
   },
   {
    "duration": 5,
    "start_time": "2023-04-17T18:51:33.828Z"
   },
   {
    "duration": 3292,
    "start_time": "2023-04-17T18:51:33.835Z"
   },
   {
    "duration": 2515,
    "start_time": "2023-04-17T18:51:37.129Z"
   },
   {
    "duration": 298,
    "start_time": "2023-04-17T18:51:39.648Z"
   },
   {
    "duration": 0,
    "start_time": "2023-04-17T18:51:39.949Z"
   },
   {
    "duration": 0,
    "start_time": "2023-04-17T18:51:39.951Z"
   },
   {
    "duration": 0,
    "start_time": "2023-04-17T18:51:39.952Z"
   },
   {
    "duration": 0,
    "start_time": "2023-04-17T18:51:39.954Z"
   },
   {
    "duration": 0,
    "start_time": "2023-04-17T18:51:39.955Z"
   },
   {
    "duration": 0,
    "start_time": "2023-04-17T18:51:39.956Z"
   },
   {
    "duration": 0,
    "start_time": "2023-04-17T18:51:39.956Z"
   },
   {
    "duration": 0,
    "start_time": "2023-04-17T18:51:39.958Z"
   },
   {
    "duration": 0,
    "start_time": "2023-04-17T18:51:39.959Z"
   },
   {
    "duration": 0,
    "start_time": "2023-04-17T18:51:39.960Z"
   },
   {
    "duration": 0,
    "start_time": "2023-04-17T18:51:39.961Z"
   },
   {
    "duration": 0,
    "start_time": "2023-04-17T18:51:39.962Z"
   },
   {
    "duration": 0,
    "start_time": "2023-04-17T18:51:39.963Z"
   },
   {
    "duration": 0,
    "start_time": "2023-04-17T18:51:39.964Z"
   },
   {
    "duration": 0,
    "start_time": "2023-04-17T18:51:39.965Z"
   },
   {
    "duration": 522,
    "start_time": "2023-04-17T19:09:39.691Z"
   },
   {
    "duration": 126,
    "start_time": "2023-04-17T19:09:46.211Z"
   },
   {
    "duration": 0,
    "start_time": "2023-04-17T19:09:46.339Z"
   },
   {
    "duration": 0,
    "start_time": "2023-04-17T19:09:46.340Z"
   },
   {
    "duration": 0,
    "start_time": "2023-04-17T19:09:46.341Z"
   },
   {
    "duration": 0,
    "start_time": "2023-04-17T19:09:46.343Z"
   },
   {
    "duration": 0,
    "start_time": "2023-04-17T19:09:46.344Z"
   },
   {
    "duration": 0,
    "start_time": "2023-04-17T19:09:46.345Z"
   },
   {
    "duration": 0,
    "start_time": "2023-04-17T19:09:46.347Z"
   },
   {
    "duration": 0,
    "start_time": "2023-04-17T19:09:46.348Z"
   },
   {
    "duration": 0,
    "start_time": "2023-04-17T19:09:46.349Z"
   },
   {
    "duration": 0,
    "start_time": "2023-04-17T19:09:46.350Z"
   },
   {
    "duration": 0,
    "start_time": "2023-04-17T19:09:46.352Z"
   },
   {
    "duration": 0,
    "start_time": "2023-04-17T19:09:46.354Z"
   },
   {
    "duration": 0,
    "start_time": "2023-04-17T19:09:46.355Z"
   },
   {
    "duration": 0,
    "start_time": "2023-04-17T19:09:46.357Z"
   },
   {
    "duration": 0,
    "start_time": "2023-04-17T19:09:46.358Z"
   },
   {
    "duration": 147,
    "start_time": "2023-04-17T19:10:09.709Z"
   },
   {
    "duration": 26047,
    "start_time": "2023-04-17T19:10:19.972Z"
   },
   {
    "duration": 715,
    "start_time": "2023-04-17T19:10:46.022Z"
   },
   {
    "duration": 14,
    "start_time": "2023-04-17T19:10:46.813Z"
   },
   {
    "duration": 1303,
    "start_time": "2023-04-17T19:10:46.829Z"
   },
   {
    "duration": 8504,
    "start_time": "2023-04-17T19:10:48.135Z"
   },
   {
    "duration": 381,
    "start_time": "2023-04-17T19:10:56.641Z"
   },
   {
    "duration": 5,
    "start_time": "2023-04-17T19:10:57.024Z"
   },
   {
    "duration": 4216,
    "start_time": "2023-04-17T19:10:57.032Z"
   },
   {
    "duration": 2676,
    "start_time": "2023-04-17T19:11:01.250Z"
   },
   {
    "duration": 399,
    "start_time": "2023-04-17T19:11:03.929Z"
   },
   {
    "duration": 337,
    "start_time": "2023-04-17T19:11:04.332Z"
   },
   {
    "duration": 0,
    "start_time": "2023-04-17T19:11:04.671Z"
   },
   {
    "duration": 0,
    "start_time": "2023-04-17T19:11:04.675Z"
   },
   {
    "duration": 0,
    "start_time": "2023-04-17T19:11:04.676Z"
   },
   {
    "duration": 0,
    "start_time": "2023-04-17T19:11:04.677Z"
   },
   {
    "duration": 0,
    "start_time": "2023-04-17T19:11:04.679Z"
   },
   {
    "duration": 0,
    "start_time": "2023-04-17T19:11:04.680Z"
   },
   {
    "duration": 0,
    "start_time": "2023-04-17T19:11:04.681Z"
   },
   {
    "duration": 0,
    "start_time": "2023-04-17T19:11:04.683Z"
   },
   {
    "duration": 0,
    "start_time": "2023-04-17T19:11:04.684Z"
   },
   {
    "duration": 0,
    "start_time": "2023-04-17T19:11:04.685Z"
   },
   {
    "duration": 0,
    "start_time": "2023-04-17T19:11:04.686Z"
   },
   {
    "duration": 0,
    "start_time": "2023-04-17T19:11:04.688Z"
   },
   {
    "duration": 0,
    "start_time": "2023-04-17T19:11:04.689Z"
   },
   {
    "duration": 0,
    "start_time": "2023-04-17T19:11:04.690Z"
   },
   {
    "duration": 122,
    "start_time": "2023-04-17T19:12:30.996Z"
   },
   {
    "duration": 121,
    "start_time": "2023-04-17T19:12:41.709Z"
   },
   {
    "duration": 26093,
    "start_time": "2023-04-17T19:14:35.919Z"
   },
   {
    "duration": 825,
    "start_time": "2023-04-17T19:15:02.015Z"
   },
   {
    "duration": 80,
    "start_time": "2023-04-17T19:15:02.842Z"
   },
   {
    "duration": 1204,
    "start_time": "2023-04-17T19:15:02.925Z"
   },
   {
    "duration": 7505,
    "start_time": "2023-04-17T19:15:04.131Z"
   },
   {
    "duration": 383,
    "start_time": "2023-04-17T19:15:11.637Z"
   },
   {
    "duration": 3,
    "start_time": "2023-04-17T19:15:12.022Z"
   },
   {
    "duration": 3896,
    "start_time": "2023-04-17T19:15:12.027Z"
   },
   {
    "duration": 1214,
    "start_time": "2023-04-17T19:15:15.926Z"
   },
   {
    "duration": 0,
    "start_time": "2023-04-17T19:15:17.143Z"
   },
   {
    "duration": 0,
    "start_time": "2023-04-17T19:15:17.144Z"
   },
   {
    "duration": 0,
    "start_time": "2023-04-17T19:15:17.149Z"
   },
   {
    "duration": 0,
    "start_time": "2023-04-17T19:15:17.150Z"
   },
   {
    "duration": 0,
    "start_time": "2023-04-17T19:15:17.151Z"
   },
   {
    "duration": 0,
    "start_time": "2023-04-17T19:15:17.152Z"
   },
   {
    "duration": 0,
    "start_time": "2023-04-17T19:15:17.153Z"
   },
   {
    "duration": 0,
    "start_time": "2023-04-17T19:15:17.154Z"
   },
   {
    "duration": 0,
    "start_time": "2023-04-17T19:15:17.155Z"
   },
   {
    "duration": 0,
    "start_time": "2023-04-17T19:15:17.156Z"
   },
   {
    "duration": 0,
    "start_time": "2023-04-17T19:15:17.157Z"
   },
   {
    "duration": 0,
    "start_time": "2023-04-17T19:15:17.159Z"
   },
   {
    "duration": 0,
    "start_time": "2023-04-17T19:15:17.160Z"
   },
   {
    "duration": 0,
    "start_time": "2023-04-17T19:15:17.212Z"
   },
   {
    "duration": 0,
    "start_time": "2023-04-17T19:15:17.214Z"
   },
   {
    "duration": 0,
    "start_time": "2023-04-17T19:15:17.216Z"
   },
   {
    "duration": 277,
    "start_time": "2023-04-17T19:15:58.400Z"
   },
   {
    "duration": 26375,
    "start_time": "2023-04-17T19:16:52.539Z"
   },
   {
    "duration": 806,
    "start_time": "2023-04-17T19:17:18.917Z"
   },
   {
    "duration": 14,
    "start_time": "2023-04-17T19:17:19.726Z"
   },
   {
    "duration": 1299,
    "start_time": "2023-04-17T19:17:19.743Z"
   },
   {
    "duration": 8168,
    "start_time": "2023-04-17T19:17:21.045Z"
   },
   {
    "duration": 306,
    "start_time": "2023-04-17T19:17:29.216Z"
   },
   {
    "duration": 6,
    "start_time": "2023-04-17T19:17:29.523Z"
   },
   {
    "duration": 3927,
    "start_time": "2023-04-17T19:17:29.531Z"
   },
   {
    "duration": 2013,
    "start_time": "2023-04-17T19:17:33.460Z"
   },
   {
    "duration": 442,
    "start_time": "2023-04-17T19:17:35.475Z"
   },
   {
    "duration": 1426,
    "start_time": "2023-04-17T19:17:35.919Z"
   },
   {
    "duration": 1122,
    "start_time": "2023-04-17T19:17:37.346Z"
   },
   {
    "duration": 6729,
    "start_time": "2023-04-17T19:17:38.512Z"
   },
   {
    "duration": 885,
    "start_time": "2023-04-17T19:17:45.245Z"
   },
   {
    "duration": 68,
    "start_time": "2023-04-17T19:17:46.132Z"
   },
   {
    "duration": 0,
    "start_time": "2023-04-17T19:17:46.202Z"
   },
   {
    "duration": 0,
    "start_time": "2023-04-17T19:17:46.205Z"
   },
   {
    "duration": 0,
    "start_time": "2023-04-17T19:17:46.206Z"
   },
   {
    "duration": 0,
    "start_time": "2023-04-17T19:17:46.207Z"
   },
   {
    "duration": 0,
    "start_time": "2023-04-17T19:17:46.208Z"
   },
   {
    "duration": 0,
    "start_time": "2023-04-17T19:17:46.210Z"
   },
   {
    "duration": 0,
    "start_time": "2023-04-17T19:17:46.211Z"
   },
   {
    "duration": 0,
    "start_time": "2023-04-17T19:17:46.212Z"
   },
   {
    "duration": 1,
    "start_time": "2023-04-17T19:17:46.213Z"
   },
   {
    "duration": 0,
    "start_time": "2023-04-17T19:17:46.215Z"
   },
   {
    "duration": 360,
    "start_time": "2023-04-17T19:22:27.689Z"
   },
   {
    "duration": 37,
    "start_time": "2023-04-17T19:22:32.046Z"
   },
   {
    "duration": 208,
    "start_time": "2023-04-17T19:22:32.086Z"
   },
   {
    "duration": 0,
    "start_time": "2023-04-17T19:22:32.296Z"
   },
   {
    "duration": 0,
    "start_time": "2023-04-17T19:22:32.297Z"
   },
   {
    "duration": 0,
    "start_time": "2023-04-17T19:22:32.299Z"
   },
   {
    "duration": 0,
    "start_time": "2023-04-17T19:22:32.299Z"
   },
   {
    "duration": 0,
    "start_time": "2023-04-17T19:22:32.301Z"
   },
   {
    "duration": 0,
    "start_time": "2023-04-17T19:22:32.302Z"
   },
   {
    "duration": 0,
    "start_time": "2023-04-17T19:22:32.303Z"
   },
   {
    "duration": 0,
    "start_time": "2023-04-17T19:22:32.304Z"
   },
   {
    "duration": 0,
    "start_time": "2023-04-17T19:22:32.305Z"
   },
   {
    "duration": 113,
    "start_time": "2023-04-17T19:24:16.493Z"
   },
   {
    "duration": 25308,
    "start_time": "2023-04-17T19:24:23.634Z"
   },
   {
    "duration": 970,
    "start_time": "2023-04-17T19:24:48.945Z"
   },
   {
    "duration": 14,
    "start_time": "2023-04-17T19:24:49.917Z"
   },
   {
    "duration": 1281,
    "start_time": "2023-04-17T19:24:49.932Z"
   },
   {
    "duration": 7819,
    "start_time": "2023-04-17T19:24:51.216Z"
   },
   {
    "duration": 376,
    "start_time": "2023-04-17T19:24:59.037Z"
   },
   {
    "duration": 4,
    "start_time": "2023-04-17T19:24:59.415Z"
   },
   {
    "duration": 4093,
    "start_time": "2023-04-17T19:24:59.421Z"
   },
   {
    "duration": 2450,
    "start_time": "2023-04-17T19:25:03.516Z"
   },
   {
    "duration": 355,
    "start_time": "2023-04-17T19:25:05.968Z"
   },
   {
    "duration": 148,
    "start_time": "2023-04-17T19:25:06.325Z"
   },
   {
    "duration": 0,
    "start_time": "2023-04-17T19:25:06.475Z"
   },
   {
    "duration": 0,
    "start_time": "2023-04-17T19:25:06.476Z"
   },
   {
    "duration": 0,
    "start_time": "2023-04-17T19:25:06.477Z"
   },
   {
    "duration": 0,
    "start_time": "2023-04-17T19:25:06.478Z"
   },
   {
    "duration": 0,
    "start_time": "2023-04-17T19:25:06.480Z"
   },
   {
    "duration": 0,
    "start_time": "2023-04-17T19:25:06.481Z"
   },
   {
    "duration": 0,
    "start_time": "2023-04-17T19:25:06.482Z"
   },
   {
    "duration": 0,
    "start_time": "2023-04-17T19:25:06.484Z"
   },
   {
    "duration": 0,
    "start_time": "2023-04-17T19:25:06.485Z"
   },
   {
    "duration": 0,
    "start_time": "2023-04-17T19:25:06.486Z"
   },
   {
    "duration": 0,
    "start_time": "2023-04-17T19:25:06.487Z"
   },
   {
    "duration": 0,
    "start_time": "2023-04-17T19:25:06.511Z"
   },
   {
    "duration": 0,
    "start_time": "2023-04-17T19:25:06.517Z"
   },
   {
    "duration": 0,
    "start_time": "2023-04-17T19:25:06.519Z"
   },
   {
    "duration": 0,
    "start_time": "2023-04-17T19:25:06.520Z"
   },
   {
    "duration": 0,
    "start_time": "2023-04-17T19:25:06.522Z"
   },
   {
    "duration": 1347,
    "start_time": "2023-04-17T19:25:17.792Z"
   },
   {
    "duration": 158,
    "start_time": "2023-04-17T19:25:29.020Z"
   },
   {
    "duration": 0,
    "start_time": "2023-04-17T19:25:29.185Z"
   },
   {
    "duration": 0,
    "start_time": "2023-04-17T19:25:29.187Z"
   },
   {
    "duration": 0,
    "start_time": "2023-04-17T19:25:29.188Z"
   },
   {
    "duration": 0,
    "start_time": "2023-04-17T19:25:29.189Z"
   },
   {
    "duration": 0,
    "start_time": "2023-04-17T19:25:29.190Z"
   },
   {
    "duration": 0,
    "start_time": "2023-04-17T19:25:29.191Z"
   },
   {
    "duration": 0,
    "start_time": "2023-04-17T19:25:29.193Z"
   },
   {
    "duration": 0,
    "start_time": "2023-04-17T19:25:29.194Z"
   },
   {
    "duration": 0,
    "start_time": "2023-04-17T19:25:29.195Z"
   },
   {
    "duration": 0,
    "start_time": "2023-04-17T19:25:29.196Z"
   },
   {
    "duration": 0,
    "start_time": "2023-04-17T19:25:29.199Z"
   },
   {
    "duration": 0,
    "start_time": "2023-04-17T19:25:29.212Z"
   },
   {
    "duration": 0,
    "start_time": "2023-04-17T19:25:29.213Z"
   },
   {
    "duration": 0,
    "start_time": "2023-04-17T19:25:29.214Z"
   },
   {
    "duration": 0,
    "start_time": "2023-04-17T19:25:29.215Z"
   },
   {
    "duration": 0,
    "start_time": "2023-04-17T19:25:29.217Z"
   },
   {
    "duration": 27094,
    "start_time": "2023-04-17T19:25:43.922Z"
   },
   {
    "duration": 906,
    "start_time": "2023-04-17T19:26:11.019Z"
   },
   {
    "duration": 92,
    "start_time": "2023-04-17T19:26:11.928Z"
   },
   {
    "duration": 1291,
    "start_time": "2023-04-17T19:26:12.022Z"
   },
   {
    "duration": 9122,
    "start_time": "2023-04-17T19:26:13.316Z"
   },
   {
    "duration": 281,
    "start_time": "2023-04-17T19:26:22.439Z"
   },
   {
    "duration": 8,
    "start_time": "2023-04-17T19:26:22.721Z"
   },
   {
    "duration": 4880,
    "start_time": "2023-04-17T19:26:22.731Z"
   },
   {
    "duration": 1910,
    "start_time": "2023-04-17T19:26:27.615Z"
   },
   {
    "duration": 385,
    "start_time": "2023-04-17T19:26:29.527Z"
   },
   {
    "duration": 1398,
    "start_time": "2023-04-17T19:26:29.914Z"
   },
   {
    "duration": 976,
    "start_time": "2023-04-17T19:26:31.314Z"
   },
   {
    "duration": 6150,
    "start_time": "2023-04-17T19:26:32.292Z"
   },
   {
    "duration": 820,
    "start_time": "2023-04-17T19:26:38.446Z"
   },
   {
    "duration": 582,
    "start_time": "2023-04-17T19:26:39.267Z"
   },
   {
    "duration": 211,
    "start_time": "2023-04-17T19:26:39.852Z"
   },
   {
    "duration": 0,
    "start_time": "2023-04-17T19:26:40.065Z"
   },
   {
    "duration": 0,
    "start_time": "2023-04-17T19:26:40.066Z"
   },
   {
    "duration": 0,
    "start_time": "2023-04-17T19:26:40.067Z"
   },
   {
    "duration": 0,
    "start_time": "2023-04-17T19:26:40.068Z"
   },
   {
    "duration": 0,
    "start_time": "2023-04-17T19:26:40.069Z"
   },
   {
    "duration": 0,
    "start_time": "2023-04-17T19:26:40.071Z"
   },
   {
    "duration": 0,
    "start_time": "2023-04-17T19:26:40.072Z"
   },
   {
    "duration": 0,
    "start_time": "2023-04-17T19:26:40.073Z"
   },
   {
    "duration": 0,
    "start_time": "2023-04-17T19:26:40.074Z"
   },
   {
    "duration": 0,
    "start_time": "2023-04-17T19:26:40.075Z"
   },
   {
    "duration": 0,
    "start_time": "2023-04-17T19:26:40.076Z"
   },
   {
    "duration": 128,
    "start_time": "2023-04-17T19:29:05.004Z"
   },
   {
    "duration": 24862,
    "start_time": "2023-04-17T19:29:14.472Z"
   },
   {
    "duration": 782,
    "start_time": "2023-04-17T19:29:39.336Z"
   },
   {
    "duration": 92,
    "start_time": "2023-04-17T19:29:40.120Z"
   },
   {
    "duration": 1123,
    "start_time": "2023-04-17T19:29:40.214Z"
   },
   {
    "duration": 7578,
    "start_time": "2023-04-17T19:29:41.339Z"
   },
   {
    "duration": 225,
    "start_time": "2023-04-17T19:29:48.919Z"
   },
   {
    "duration": 68,
    "start_time": "2023-04-17T19:29:49.146Z"
   },
   {
    "duration": 4115,
    "start_time": "2023-04-17T19:29:49.216Z"
   },
   {
    "duration": 2517,
    "start_time": "2023-04-17T19:29:53.333Z"
   },
   {
    "duration": 560,
    "start_time": "2023-04-17T19:29:55.852Z"
   },
   {
    "duration": 1332,
    "start_time": "2023-04-17T19:29:56.414Z"
   },
   {
    "duration": 918,
    "start_time": "2023-04-17T19:29:57.811Z"
   },
   {
    "duration": 6989,
    "start_time": "2023-04-17T19:29:58.730Z"
   },
   {
    "duration": 853,
    "start_time": "2023-04-17T19:30:05.722Z"
   },
   {
    "duration": 589,
    "start_time": "2023-04-17T19:30:06.578Z"
   },
   {
    "duration": 242,
    "start_time": "2023-04-17T19:30:07.169Z"
   },
   {
    "duration": 0,
    "start_time": "2023-04-17T19:30:07.413Z"
   },
   {
    "duration": 0,
    "start_time": "2023-04-17T19:30:07.414Z"
   },
   {
    "duration": 0,
    "start_time": "2023-04-17T19:30:07.416Z"
   },
   {
    "duration": 0,
    "start_time": "2023-04-17T19:30:07.418Z"
   },
   {
    "duration": 0,
    "start_time": "2023-04-17T19:30:07.419Z"
   },
   {
    "duration": 0,
    "start_time": "2023-04-17T19:30:07.421Z"
   },
   {
    "duration": 0,
    "start_time": "2023-04-17T19:30:07.422Z"
   },
   {
    "duration": 0,
    "start_time": "2023-04-17T19:30:07.424Z"
   },
   {
    "duration": 0,
    "start_time": "2023-04-17T19:30:07.425Z"
   },
   {
    "duration": 0,
    "start_time": "2023-04-17T19:30:07.427Z"
   },
   {
    "duration": 0,
    "start_time": "2023-04-17T19:30:07.429Z"
   },
   {
    "duration": 39,
    "start_time": "2023-04-17T19:30:57.607Z"
   },
   {
    "duration": 819,
    "start_time": "2023-04-17T19:30:59.900Z"
   },
   {
    "duration": 5465,
    "start_time": "2023-04-17T19:31:12.749Z"
   },
   {
    "duration": 363,
    "start_time": "2023-04-17T19:31:18.487Z"
   },
   {
    "duration": 48758,
    "start_time": "2023-04-17T19:32:06.091Z"
   },
   {
    "duration": 3342,
    "start_time": "2023-04-17T19:33:23.769Z"
   },
   {
    "duration": 1909,
    "start_time": "2023-04-17T19:33:29.047Z"
   },
   {
    "duration": 4305,
    "start_time": "2023-04-17T19:33:34.843Z"
   },
   {
    "duration": 128,
    "start_time": "2023-04-17T19:41:17.017Z"
   },
   {
    "duration": 101,
    "start_time": "2023-04-17T19:41:51.743Z"
   },
   {
    "duration": 119,
    "start_time": "2023-04-17T19:43:22.691Z"
   },
   {
    "duration": 6740,
    "start_time": "2023-04-17T19:45:48.996Z"
   },
   {
    "duration": 201,
    "start_time": "2023-04-17T19:46:04.062Z"
   },
   {
    "duration": 175,
    "start_time": "2023-04-17T19:46:34.994Z"
   },
   {
    "duration": 187,
    "start_time": "2023-04-17T19:47:15.535Z"
   },
   {
    "duration": 1756,
    "start_time": "2023-04-17T19:48:01.932Z"
   },
   {
    "duration": 4734,
    "start_time": "2023-04-17T19:48:22.220Z"
   },
   {
    "duration": 596,
    "start_time": "2023-04-17T19:55:25.737Z"
   },
   {
    "duration": 3,
    "start_time": "2023-04-17T19:58:50.711Z"
   },
   {
    "duration": 24373,
    "start_time": "2023-04-18T13:02:33.630Z"
   },
   {
    "duration": 0,
    "start_time": "2023-04-18T13:02:58.006Z"
   },
   {
    "duration": 0,
    "start_time": "2023-04-18T13:02:58.007Z"
   },
   {
    "duration": 0,
    "start_time": "2023-04-18T13:02:58.009Z"
   },
   {
    "duration": 0,
    "start_time": "2023-04-18T13:02:58.010Z"
   },
   {
    "duration": 0,
    "start_time": "2023-04-18T13:02:58.011Z"
   },
   {
    "duration": 26,
    "start_time": "2023-04-18T13:08:34.841Z"
   },
   {
    "duration": 11502,
    "start_time": "2023-04-18T13:09:05.012Z"
   },
   {
    "duration": 901,
    "start_time": "2023-04-18T13:09:19.618Z"
   },
   {
    "duration": 20,
    "start_time": "2023-04-18T13:09:20.620Z"
   },
   {
    "duration": 1261,
    "start_time": "2023-04-18T13:09:24.877Z"
   },
   {
    "duration": 11013,
    "start_time": "2023-04-18T13:09:26.191Z"
   },
   {
    "duration": 251,
    "start_time": "2023-04-18T13:09:38.959Z"
   },
   {
    "duration": 4,
    "start_time": "2023-04-18T13:14:19.921Z"
   },
   {
    "duration": 203,
    "start_time": "2023-04-18T13:14:57.444Z"
   },
   {
    "duration": 758,
    "start_time": "2023-04-19T08:52:36.959Z"
   },
   {
    "duration": 5,
    "start_time": "2023-04-19T08:55:43.411Z"
   },
   {
    "duration": 28706,
    "start_time": "2023-04-19T08:55:47.769Z"
   },
   {
    "duration": 73,
    "start_time": "2023-04-19T08:57:48.235Z"
   },
   {
    "duration": 70,
    "start_time": "2023-04-19T09:02:22.595Z"
   },
   {
    "duration": 71,
    "start_time": "2023-04-19T09:18:28.679Z"
   },
   {
    "duration": 81,
    "start_time": "2023-04-19T09:18:39.898Z"
   },
   {
    "duration": 4,
    "start_time": "2023-04-19T09:20:34.626Z"
   },
   {
    "duration": 1080,
    "start_time": "2023-04-19T09:20:37.006Z"
   },
   {
    "duration": 815,
    "start_time": "2023-04-19T09:20:44.794Z"
   },
   {
    "duration": 740,
    "start_time": "2023-04-19T09:20:51.823Z"
   },
   {
    "duration": 594,
    "start_time": "2023-04-19T09:20:52.565Z"
   },
   {
    "duration": 14,
    "start_time": "2023-04-19T09:20:53.161Z"
   },
   {
    "duration": 996,
    "start_time": "2023-04-19T09:20:53.177Z"
   },
   {
    "duration": 8193,
    "start_time": "2023-04-19T09:20:54.176Z"
   },
   {
    "duration": 219,
    "start_time": "2023-04-19T09:21:02.371Z"
   },
   {
    "duration": 67,
    "start_time": "2023-04-19T09:21:02.592Z"
   },
   {
    "duration": 314,
    "start_time": "2023-04-19T09:21:02.661Z"
   },
   {
    "duration": 0,
    "start_time": "2023-04-19T09:21:02.977Z"
   },
   {
    "duration": 0,
    "start_time": "2023-04-19T09:21:02.978Z"
   },
   {
    "duration": 0,
    "start_time": "2023-04-19T09:21:02.980Z"
   },
   {
    "duration": 0,
    "start_time": "2023-04-19T09:21:02.981Z"
   },
   {
    "duration": 0,
    "start_time": "2023-04-19T09:21:02.983Z"
   },
   {
    "duration": 0,
    "start_time": "2023-04-19T09:21:02.985Z"
   },
   {
    "duration": 0,
    "start_time": "2023-04-19T09:21:02.986Z"
   },
   {
    "duration": 0,
    "start_time": "2023-04-19T09:21:02.987Z"
   },
   {
    "duration": 0,
    "start_time": "2023-04-19T09:21:02.989Z"
   },
   {
    "duration": 0,
    "start_time": "2023-04-19T09:21:02.990Z"
   },
   {
    "duration": 0,
    "start_time": "2023-04-19T09:21:02.992Z"
   },
   {
    "duration": 0,
    "start_time": "2023-04-19T09:21:02.993Z"
   },
   {
    "duration": 0,
    "start_time": "2023-04-19T09:21:02.995Z"
   },
   {
    "duration": 0,
    "start_time": "2023-04-19T09:21:03.056Z"
   },
   {
    "duration": 0,
    "start_time": "2023-04-19T09:21:03.058Z"
   },
   {
    "duration": 0,
    "start_time": "2023-04-19T09:21:03.059Z"
   },
   {
    "duration": 0,
    "start_time": "2023-04-19T09:21:03.060Z"
   },
   {
    "duration": 4,
    "start_time": "2023-04-19T09:24:05.756Z"
   },
   {
    "duration": 76,
    "start_time": "2023-04-19T09:41:56.299Z"
   },
   {
    "duration": 74,
    "start_time": "2023-04-19T09:42:30.808Z"
   },
   {
    "duration": 1512,
    "start_time": "2023-04-19T09:45:03.574Z"
   },
   {
    "duration": 2862,
    "start_time": "2023-04-19T09:47:21.501Z"
   },
   {
    "duration": 514,
    "start_time": "2023-04-19T09:50:42.368Z"
   },
   {
    "duration": 483,
    "start_time": "2023-04-19T09:51:02.050Z"
   },
   {
    "duration": 118,
    "start_time": "2023-04-19T09:56:44.279Z"
   },
   {
    "duration": 1519,
    "start_time": "2023-04-19T09:56:57.358Z"
   },
   {
    "duration": 839,
    "start_time": "2023-04-19T09:57:35.865Z"
   },
   {
    "duration": 489,
    "start_time": "2023-04-19T09:57:39.881Z"
   },
   {
    "duration": 24,
    "start_time": "2023-04-19T09:59:43.939Z"
   },
   {
    "duration": 76,
    "start_time": "2023-04-19T10:00:01.090Z"
   },
   {
    "duration": 1196,
    "start_time": "2023-04-19T10:00:06.569Z"
   },
   {
    "duration": 760,
    "start_time": "2023-04-19T10:00:13.144Z"
   },
   {
    "duration": 427,
    "start_time": "2023-04-19T10:00:15.490Z"
   },
   {
    "duration": 125,
    "start_time": "2023-04-19T10:02:20.092Z"
   },
   {
    "duration": 771,
    "start_time": "2023-04-19T10:02:49.688Z"
   },
   {
    "duration": 288,
    "start_time": "2023-04-19T10:02:53.087Z"
   },
   {
    "duration": 117,
    "start_time": "2023-04-19T10:02:55.753Z"
   },
   {
    "duration": 114,
    "start_time": "2023-04-19T10:04:44.502Z"
   },
   {
    "duration": 5,
    "start_time": "2023-04-19T10:05:38.539Z"
   },
   {
    "duration": 928,
    "start_time": "2023-04-19T10:05:38.546Z"
   },
   {
    "duration": 411,
    "start_time": "2023-04-19T10:05:39.476Z"
   },
   {
    "duration": 200,
    "start_time": "2023-04-19T10:05:39.890Z"
   },
   {
    "duration": 3,
    "start_time": "2023-04-19T10:05:40.092Z"
   },
   {
    "duration": 159,
    "start_time": "2023-04-19T10:05:40.097Z"
   },
   {
    "duration": 4343,
    "start_time": "2023-04-19T10:05:40.258Z"
   },
   {
    "duration": 111,
    "start_time": "2023-04-19T10:05:44.657Z"
   },
   {
    "duration": 3,
    "start_time": "2023-04-19T10:05:44.770Z"
   },
   {
    "duration": 719,
    "start_time": "2023-04-19T10:05:44.775Z"
   },
   {
    "duration": 439,
    "start_time": "2023-04-19T10:05:45.496Z"
   },
   {
    "duration": 1002,
    "start_time": "2023-04-19T10:05:55.582Z"
   },
   {
    "duration": 109,
    "start_time": "2023-04-19T10:06:04.515Z"
   },
   {
    "duration": 4,
    "start_time": "2023-04-19T10:06:15.331Z"
   },
   {
    "duration": 517,
    "start_time": "2023-04-19T10:06:15.337Z"
   },
   {
    "duration": 306,
    "start_time": "2023-04-19T10:06:15.856Z"
   },
   {
    "duration": 128,
    "start_time": "2023-04-19T10:06:16.164Z"
   },
   {
    "duration": 3,
    "start_time": "2023-04-19T10:06:16.294Z"
   },
   {
    "duration": 162,
    "start_time": "2023-04-19T10:06:16.299Z"
   },
   {
    "duration": 3494,
    "start_time": "2023-04-19T10:06:16.463Z"
   },
   {
    "duration": 99,
    "start_time": "2023-04-19T10:06:19.959Z"
   },
   {
    "duration": 4,
    "start_time": "2023-04-19T10:06:20.060Z"
   },
   {
    "duration": 596,
    "start_time": "2023-04-19T10:06:20.066Z"
   },
   {
    "duration": 238,
    "start_time": "2023-04-19T10:06:20.664Z"
   },
   {
    "duration": 714,
    "start_time": "2023-04-19T10:06:23.946Z"
   },
   {
    "duration": 111,
    "start_time": "2023-04-19T10:07:08.388Z"
   },
   {
    "duration": 4,
    "start_time": "2023-04-19T10:07:12.025Z"
   },
   {
    "duration": 396,
    "start_time": "2023-04-19T10:07:12.031Z"
   },
   {
    "duration": 265,
    "start_time": "2023-04-19T10:07:12.429Z"
   },
   {
    "duration": 190,
    "start_time": "2023-04-19T10:07:12.696Z"
   },
   {
    "duration": 3,
    "start_time": "2023-04-19T10:07:12.888Z"
   },
   {
    "duration": 119,
    "start_time": "2023-04-19T10:07:12.892Z"
   },
   {
    "duration": 2662,
    "start_time": "2023-04-19T10:07:13.013Z"
   },
   {
    "duration": 80,
    "start_time": "2023-04-19T10:07:15.677Z"
   },
   {
    "duration": 3,
    "start_time": "2023-04-19T10:07:15.760Z"
   },
   {
    "duration": 440,
    "start_time": "2023-04-19T10:07:15.765Z"
   },
   {
    "duration": 248,
    "start_time": "2023-04-19T10:07:16.208Z"
   },
   {
    "duration": 723,
    "start_time": "2023-04-19T10:07:16.458Z"
   },
   {
    "duration": 108,
    "start_time": "2023-04-19T10:07:18.619Z"
   },
   {
    "duration": 112,
    "start_time": "2023-04-19T10:08:09.694Z"
   },
   {
    "duration": 3,
    "start_time": "2023-04-19T10:08:18.445Z"
   },
   {
    "duration": 463,
    "start_time": "2023-04-19T10:08:18.450Z"
   },
   {
    "duration": 274,
    "start_time": "2023-04-19T10:08:18.915Z"
   },
   {
    "duration": 120,
    "start_time": "2023-04-19T10:08:19.191Z"
   },
   {
    "duration": 4,
    "start_time": "2023-04-19T10:08:19.313Z"
   },
   {
    "duration": 96,
    "start_time": "2023-04-19T10:08:19.318Z"
   },
   {
    "duration": 2971,
    "start_time": "2023-04-19T10:08:19.416Z"
   },
   {
    "duration": 97,
    "start_time": "2023-04-19T10:08:22.389Z"
   },
   {
    "duration": 2,
    "start_time": "2023-04-19T10:08:22.489Z"
   },
   {
    "duration": 712,
    "start_time": "2023-04-19T10:08:22.557Z"
   },
   {
    "duration": 391,
    "start_time": "2023-04-19T10:08:23.271Z"
   },
   {
    "duration": 902,
    "start_time": "2023-04-19T10:08:23.664Z"
   },
   {
    "duration": 25,
    "start_time": "2023-04-19T10:08:24.568Z"
   },
   {
    "duration": 3,
    "start_time": "2023-04-19T10:10:55.080Z"
   },
   {
    "duration": 583,
    "start_time": "2023-04-19T10:10:55.085Z"
   },
   {
    "duration": 315,
    "start_time": "2023-04-19T10:10:55.670Z"
   },
   {
    "duration": 106,
    "start_time": "2023-04-19T10:10:55.987Z"
   },
   {
    "duration": 3,
    "start_time": "2023-04-19T10:10:56.095Z"
   },
   {
    "duration": 165,
    "start_time": "2023-04-19T10:10:56.100Z"
   },
   {
    "duration": 3094,
    "start_time": "2023-04-19T10:10:56.267Z"
   },
   {
    "duration": 24,
    "start_time": "2023-04-19T10:10:59.363Z"
   },
   {
    "duration": 67,
    "start_time": "2023-04-19T10:10:59.389Z"
   },
   {
    "duration": 725,
    "start_time": "2023-04-19T10:10:59.459Z"
   },
   {
    "duration": 228,
    "start_time": "2023-04-19T10:11:00.186Z"
   },
   {
    "duration": 721,
    "start_time": "2023-04-19T10:11:00.457Z"
   },
   {
    "duration": 80,
    "start_time": "2023-04-19T10:11:01.181Z"
   },
   {
    "duration": 4,
    "start_time": "2023-04-19T10:12:32.183Z"
   },
   {
    "duration": 468,
    "start_time": "2023-04-19T10:12:32.193Z"
   },
   {
    "duration": 239,
    "start_time": "2023-04-19T10:12:32.663Z"
   },
   {
    "duration": 107,
    "start_time": "2023-04-19T10:12:32.904Z"
   },
   {
    "duration": 4,
    "start_time": "2023-04-19T10:12:33.012Z"
   },
   {
    "duration": 104,
    "start_time": "2023-04-19T10:12:33.017Z"
   },
   {
    "duration": 2496,
    "start_time": "2023-04-19T10:12:33.123Z"
   },
   {
    "duration": 22,
    "start_time": "2023-04-19T10:12:35.655Z"
   },
   {
    "duration": 3,
    "start_time": "2023-04-19T10:12:35.678Z"
   },
   {
    "duration": 514,
    "start_time": "2023-04-19T10:12:35.684Z"
   },
   {
    "duration": 225,
    "start_time": "2023-04-19T10:12:36.256Z"
   },
   {
    "duration": 601,
    "start_time": "2023-04-19T10:12:36.483Z"
   },
   {
    "duration": 24,
    "start_time": "2023-04-19T10:12:41.834Z"
   },
   {
    "duration": 26,
    "start_time": "2023-04-19T10:13:10.324Z"
   },
   {
    "duration": 4,
    "start_time": "2023-04-19T10:13:13.279Z"
   },
   {
    "duration": 431,
    "start_time": "2023-04-19T10:13:13.285Z"
   },
   {
    "duration": 287,
    "start_time": "2023-04-19T10:13:13.718Z"
   },
   {
    "duration": 109,
    "start_time": "2023-04-19T10:13:14.009Z"
   },
   {
    "duration": 8,
    "start_time": "2023-04-19T10:13:14.120Z"
   },
   {
    "duration": 101,
    "start_time": "2023-04-19T10:13:14.130Z"
   },
   {
    "duration": 2027,
    "start_time": "2023-04-19T10:13:14.233Z"
   },
   {
    "duration": 23,
    "start_time": "2023-04-19T10:13:16.262Z"
   },
   {
    "duration": 3,
    "start_time": "2023-04-19T10:13:16.287Z"
   },
   {
    "duration": 398,
    "start_time": "2023-04-19T10:13:16.356Z"
   },
   {
    "duration": 201,
    "start_time": "2023-04-19T10:13:16.755Z"
   },
   {
    "duration": 444,
    "start_time": "2023-04-19T10:13:16.958Z"
   },
   {
    "duration": 65,
    "start_time": "2023-04-19T10:13:17.403Z"
   },
   {
    "duration": 8,
    "start_time": "2023-04-19T10:13:59.174Z"
   },
   {
    "duration": 23,
    "start_time": "2023-04-19T10:14:05.130Z"
   },
   {
    "duration": 3,
    "start_time": "2023-04-19T10:14:15.059Z"
   },
   {
    "duration": 397,
    "start_time": "2023-04-19T10:14:15.064Z"
   },
   {
    "duration": 239,
    "start_time": "2023-04-19T10:14:15.463Z"
   },
   {
    "duration": 95,
    "start_time": "2023-04-19T10:14:15.705Z"
   },
   {
    "duration": 4,
    "start_time": "2023-04-19T10:14:15.802Z"
   },
   {
    "duration": 105,
    "start_time": "2023-04-19T10:14:15.807Z"
   },
   {
    "duration": 1897,
    "start_time": "2023-04-19T10:14:15.913Z"
   },
   {
    "duration": 21,
    "start_time": "2023-04-19T10:14:17.857Z"
   },
   {
    "duration": 11,
    "start_time": "2023-04-19T10:14:17.880Z"
   },
   {
    "duration": 478,
    "start_time": "2023-04-19T10:14:17.893Z"
   },
   {
    "duration": 203,
    "start_time": "2023-04-19T10:14:18.372Z"
   },
   {
    "duration": 634,
    "start_time": "2023-04-19T10:14:18.577Z"
   },
   {
    "duration": 24,
    "start_time": "2023-04-19T10:14:23.395Z"
   },
   {
    "duration": 123,
    "start_time": "2023-04-19T10:15:04.242Z"
   },
   {
    "duration": 0,
    "start_time": "2023-04-19T10:15:04.368Z"
   },
   {
    "duration": 0,
    "start_time": "2023-04-19T10:15:04.369Z"
   },
   {
    "duration": 0,
    "start_time": "2023-04-19T10:15:04.370Z"
   },
   {
    "duration": 0,
    "start_time": "2023-04-19T10:15:04.371Z"
   },
   {
    "duration": 0,
    "start_time": "2023-04-19T10:15:04.373Z"
   },
   {
    "duration": 0,
    "start_time": "2023-04-19T10:15:04.374Z"
   },
   {
    "duration": 0,
    "start_time": "2023-04-19T10:15:04.375Z"
   },
   {
    "duration": 0,
    "start_time": "2023-04-19T10:15:04.376Z"
   },
   {
    "duration": 0,
    "start_time": "2023-04-19T10:15:04.378Z"
   },
   {
    "duration": 0,
    "start_time": "2023-04-19T10:15:04.379Z"
   },
   {
    "duration": 0,
    "start_time": "2023-04-19T10:15:04.380Z"
   },
   {
    "duration": 0,
    "start_time": "2023-04-19T10:15:04.382Z"
   },
   {
    "duration": 0,
    "start_time": "2023-04-19T10:15:04.383Z"
   },
   {
    "duration": 0,
    "start_time": "2023-04-19T10:15:04.384Z"
   },
   {
    "duration": 0,
    "start_time": "2023-04-19T10:15:04.386Z"
   },
   {
    "duration": 0,
    "start_time": "2023-04-19T10:15:04.387Z"
   },
   {
    "duration": 0,
    "start_time": "2023-04-19T10:15:04.388Z"
   },
   {
    "duration": 0,
    "start_time": "2023-04-19T10:15:04.389Z"
   },
   {
    "duration": 4,
    "start_time": "2023-04-19T10:15:13.401Z"
   },
   {
    "duration": 448,
    "start_time": "2023-04-19T10:15:13.408Z"
   },
   {
    "duration": 297,
    "start_time": "2023-04-19T10:15:13.858Z"
   },
   {
    "duration": 74,
    "start_time": "2023-04-19T10:15:14.157Z"
   },
   {
    "duration": 8,
    "start_time": "2023-04-19T10:15:14.233Z"
   },
   {
    "duration": 83,
    "start_time": "2023-04-19T10:15:14.243Z"
   },
   {
    "duration": 2054,
    "start_time": "2023-04-19T10:15:14.327Z"
   },
   {
    "duration": 21,
    "start_time": "2023-04-19T10:15:16.382Z"
   },
   {
    "duration": 4,
    "start_time": "2023-04-19T10:15:16.455Z"
   },
   {
    "duration": 510,
    "start_time": "2023-04-19T10:15:16.461Z"
   },
   {
    "duration": 193,
    "start_time": "2023-04-19T10:15:16.973Z"
   },
   {
    "duration": 512,
    "start_time": "2023-04-19T10:15:19.181Z"
   },
   {
    "duration": 123,
    "start_time": "2023-04-19T10:15:58.557Z"
   },
   {
    "duration": 110,
    "start_time": "2023-04-19T10:16:16.098Z"
   },
   {
    "duration": 3,
    "start_time": "2023-04-19T10:16:21.525Z"
   },
   {
    "duration": 382,
    "start_time": "2023-04-19T10:16:21.530Z"
   },
   {
    "duration": 252,
    "start_time": "2023-04-19T10:16:21.914Z"
   },
   {
    "duration": 131,
    "start_time": "2023-04-19T10:16:22.169Z"
   },
   {
    "duration": 4,
    "start_time": "2023-04-19T10:16:22.303Z"
   },
   {
    "duration": 98,
    "start_time": "2023-04-19T10:16:22.309Z"
   },
   {
    "duration": 1769,
    "start_time": "2023-04-19T10:16:22.409Z"
   },
   {
    "duration": 20,
    "start_time": "2023-04-19T10:16:24.180Z"
   },
   {
    "duration": 3,
    "start_time": "2023-04-19T10:16:24.256Z"
   },
   {
    "duration": 392,
    "start_time": "2023-04-19T10:16:24.262Z"
   },
   {
    "duration": 211,
    "start_time": "2023-04-19T10:16:24.656Z"
   },
   {
    "duration": 649,
    "start_time": "2023-04-19T10:16:24.868Z"
   },
   {
    "duration": 863,
    "start_time": "2023-04-19T10:16:30.533Z"
   },
   {
    "duration": 122,
    "start_time": "2023-04-19T10:17:12.129Z"
   },
   {
    "duration": 4,
    "start_time": "2023-04-19T10:17:16.590Z"
   },
   {
    "duration": 359,
    "start_time": "2023-04-19T10:17:16.596Z"
   },
   {
    "duration": 229,
    "start_time": "2023-04-19T10:17:16.957Z"
   },
   {
    "duration": 107,
    "start_time": "2023-04-19T10:17:17.188Z"
   },
   {
    "duration": 3,
    "start_time": "2023-04-19T10:17:17.297Z"
   },
   {
    "duration": 79,
    "start_time": "2023-04-19T10:17:17.301Z"
   },
   {
    "duration": 2605,
    "start_time": "2023-04-19T10:17:17.382Z"
   },
   {
    "duration": 78,
    "start_time": "2023-04-19T10:17:19.989Z"
   },
   {
    "duration": 3,
    "start_time": "2023-04-19T10:17:20.069Z"
   },
   {
    "duration": 514,
    "start_time": "2023-04-19T10:17:20.074Z"
   },
   {
    "duration": 166,
    "start_time": "2023-04-19T10:17:20.590Z"
   },
   {
    "duration": 604,
    "start_time": "2023-04-19T10:17:20.758Z"
   },
   {
    "duration": 526,
    "start_time": "2023-04-19T10:17:33.447Z"
   },
   {
    "duration": 166,
    "start_time": "2023-04-19T10:18:00.041Z"
   },
   {
    "duration": 691,
    "start_time": "2023-04-19T10:18:54.465Z"
   },
   {
    "duration": 144,
    "start_time": "2023-04-19T10:20:21.082Z"
   },
   {
    "duration": 173,
    "start_time": "2023-04-19T10:20:45.208Z"
   },
   {
    "duration": 3,
    "start_time": "2023-04-19T10:21:03.697Z"
   },
   {
    "duration": 430,
    "start_time": "2023-04-19T10:21:03.702Z"
   },
   {
    "duration": 322,
    "start_time": "2023-04-19T10:21:04.134Z"
   },
   {
    "duration": 104,
    "start_time": "2023-04-19T10:21:04.457Z"
   },
   {
    "duration": 4,
    "start_time": "2023-04-19T10:21:04.563Z"
   },
   {
    "duration": 100,
    "start_time": "2023-04-19T10:21:04.569Z"
   },
   {
    "duration": 1739,
    "start_time": "2023-04-19T10:21:04.671Z"
   },
   {
    "duration": 59,
    "start_time": "2023-04-19T10:21:06.412Z"
   },
   {
    "duration": 4,
    "start_time": "2023-04-19T10:21:06.473Z"
   },
   {
    "duration": 482,
    "start_time": "2023-04-19T10:21:06.478Z"
   },
   {
    "duration": 151,
    "start_time": "2023-04-19T10:21:06.962Z"
   },
   {
    "duration": 448,
    "start_time": "2023-04-19T10:21:07.156Z"
   },
   {
    "duration": 471,
    "start_time": "2023-04-19T10:21:07.606Z"
   },
   {
    "duration": 393,
    "start_time": "2023-04-19T10:21:08.079Z"
   },
   {
    "duration": 16,
    "start_time": "2023-04-19T10:21:13.209Z"
   },
   {
    "duration": 15,
    "start_time": "2023-04-19T10:21:18.613Z"
   },
   {
    "duration": 837,
    "start_time": "2023-04-19T10:22:48.661Z"
   },
   {
    "duration": 216,
    "start_time": "2023-04-19T10:23:19.656Z"
   },
   {
    "duration": 3,
    "start_time": "2023-04-19T10:23:22.837Z"
   },
   {
    "duration": 487,
    "start_time": "2023-04-19T10:23:22.842Z"
   },
   {
    "duration": 240,
    "start_time": "2023-04-19T10:23:23.356Z"
   },
   {
    "duration": 98,
    "start_time": "2023-04-19T10:23:23.598Z"
   },
   {
    "duration": 3,
    "start_time": "2023-04-19T10:23:23.698Z"
   },
   {
    "duration": 201,
    "start_time": "2023-04-19T10:23:23.703Z"
   },
   {
    "duration": 2906,
    "start_time": "2023-04-19T10:23:23.906Z"
   },
   {
    "duration": 59,
    "start_time": "2023-04-19T10:23:26.814Z"
   },
   {
    "duration": 4,
    "start_time": "2023-04-19T10:23:26.875Z"
   },
   {
    "duration": 600,
    "start_time": "2023-04-19T10:23:26.881Z"
   },
   {
    "duration": 275,
    "start_time": "2023-04-19T10:23:27.483Z"
   },
   {
    "duration": 555,
    "start_time": "2023-04-19T10:23:27.760Z"
   },
   {
    "duration": 520,
    "start_time": "2023-04-19T10:23:28.357Z"
   },
   {
    "duration": 392,
    "start_time": "2023-04-19T10:23:28.879Z"
   },
   {
    "duration": 15,
    "start_time": "2023-04-19T10:23:29.273Z"
   },
   {
    "duration": 14,
    "start_time": "2023-04-19T10:23:29.290Z"
   },
   {
    "duration": 855,
    "start_time": "2023-04-19T10:23:33.224Z"
   },
   {
    "duration": 10,
    "start_time": "2023-04-19T10:25:03.194Z"
   },
   {
    "duration": 552,
    "start_time": "2023-04-19T10:26:31.920Z"
   },
   {
    "duration": 104,
    "start_time": "2023-04-19T10:26:38.386Z"
   },
   {
    "duration": 4,
    "start_time": "2023-04-19T10:26:56.406Z"
   },
   {
    "duration": 378,
    "start_time": "2023-04-19T10:26:56.412Z"
   },
   {
    "duration": 198,
    "start_time": "2023-04-19T10:26:56.792Z"
   },
   {
    "duration": 96,
    "start_time": "2023-04-19T10:26:56.992Z"
   },
   {
    "duration": 3,
    "start_time": "2023-04-19T10:26:57.091Z"
   },
   {
    "duration": 169,
    "start_time": "2023-04-19T10:26:57.096Z"
   },
   {
    "duration": 2308,
    "start_time": "2023-04-19T10:26:57.266Z"
   },
   {
    "duration": 80,
    "start_time": "2023-04-19T10:26:59.577Z"
   },
   {
    "duration": 4,
    "start_time": "2023-04-19T10:26:59.659Z"
   },
   {
    "duration": 609,
    "start_time": "2023-04-19T10:26:59.665Z"
   },
   {
    "duration": 301,
    "start_time": "2023-04-19T10:27:00.276Z"
   },
   {
    "duration": 778,
    "start_time": "2023-04-19T10:27:00.580Z"
   },
   {
    "duration": 520,
    "start_time": "2023-04-19T10:27:01.360Z"
   },
   {
    "duration": 519,
    "start_time": "2023-04-19T10:27:01.884Z"
   },
   {
    "duration": 16,
    "start_time": "2023-04-19T10:27:02.405Z"
   },
   {
    "duration": 42,
    "start_time": "2023-04-19T10:27:02.423Z"
   },
   {
    "duration": 801,
    "start_time": "2023-04-19T10:27:02.467Z"
   },
   {
    "duration": 585,
    "start_time": "2023-04-19T10:27:03.271Z"
   },
   {
    "duration": 19,
    "start_time": "2023-04-19T10:36:25.358Z"
   },
   {
    "duration": 873,
    "start_time": "2023-04-19T10:38:12.497Z"
   },
   {
    "duration": 381,
    "start_time": "2023-04-19T10:38:33.301Z"
   },
   {
    "duration": 392,
    "start_time": "2023-04-19T10:40:41.072Z"
   },
   {
    "duration": 128,
    "start_time": "2023-04-19T10:41:29.242Z"
   },
   {
    "duration": 5,
    "start_time": "2023-04-19T10:41:39.573Z"
   },
   {
    "duration": 658,
    "start_time": "2023-04-19T10:41:39.581Z"
   },
   {
    "duration": 221,
    "start_time": "2023-04-19T10:41:40.242Z"
   },
   {
    "duration": 68,
    "start_time": "2023-04-19T10:41:40.465Z"
   },
   {
    "duration": 5,
    "start_time": "2023-04-19T10:41:40.557Z"
   },
   {
    "duration": 152,
    "start_time": "2023-04-19T10:41:40.563Z"
   },
   {
    "duration": 2279,
    "start_time": "2023-04-19T10:41:40.717Z"
   },
   {
    "duration": 23,
    "start_time": "2023-04-19T10:41:43.057Z"
   },
   {
    "duration": 4,
    "start_time": "2023-04-19T10:41:43.082Z"
   },
   {
    "duration": 713,
    "start_time": "2023-04-19T10:41:43.092Z"
   },
   {
    "duration": 254,
    "start_time": "2023-04-19T10:41:43.808Z"
   },
   {
    "duration": 523,
    "start_time": "2023-04-19T10:41:44.064Z"
   },
   {
    "duration": 587,
    "start_time": "2023-04-19T10:41:44.591Z"
   },
   {
    "duration": 627,
    "start_time": "2023-04-19T10:41:45.180Z"
   },
   {
    "duration": 19,
    "start_time": "2023-04-19T10:41:45.810Z"
   },
   {
    "duration": 19,
    "start_time": "2023-04-19T10:41:45.856Z"
   },
   {
    "duration": 916,
    "start_time": "2023-04-19T10:41:45.878Z"
   },
   {
    "duration": 495,
    "start_time": "2023-04-19T10:41:46.795Z"
   },
   {
    "duration": 75,
    "start_time": "2023-04-19T10:41:47.292Z"
   },
   {
    "duration": 426,
    "start_time": "2023-04-19T10:41:47.368Z"
   },
   {
    "duration": 564,
    "start_time": "2023-04-19T10:41:47.796Z"
   },
   {
    "duration": 118,
    "start_time": "2023-04-19T10:42:15.145Z"
   },
   {
    "duration": 3,
    "start_time": "2023-04-19T10:42:19.030Z"
   },
   {
    "duration": 630,
    "start_time": "2023-04-19T10:42:19.035Z"
   },
   {
    "duration": 390,
    "start_time": "2023-04-19T10:42:19.667Z"
   },
   {
    "duration": 136,
    "start_time": "2023-04-19T10:42:20.059Z"
   },
   {
    "duration": 4,
    "start_time": "2023-04-19T10:42:20.197Z"
   },
   {
    "duration": 110,
    "start_time": "2023-04-19T10:42:20.202Z"
   },
   {
    "duration": 1883,
    "start_time": "2023-04-19T10:42:20.313Z"
   },
   {
    "duration": 68,
    "start_time": "2023-04-19T10:42:22.199Z"
   },
   {
    "duration": 9,
    "start_time": "2023-04-19T10:42:22.269Z"
   },
   {
    "duration": 355,
    "start_time": "2023-04-19T10:42:22.281Z"
   },
   {
    "duration": 177,
    "start_time": "2023-04-19T10:42:22.639Z"
   },
   {
    "duration": 382,
    "start_time": "2023-04-19T10:42:22.818Z"
   },
   {
    "duration": 401,
    "start_time": "2023-04-19T10:42:23.201Z"
   },
   {
    "duration": 377,
    "start_time": "2023-04-19T10:42:23.604Z"
   },
   {
    "duration": 20,
    "start_time": "2023-04-19T10:42:23.982Z"
   },
   {
    "duration": 58,
    "start_time": "2023-04-19T10:42:24.003Z"
   },
   {
    "duration": 565,
    "start_time": "2023-04-19T10:42:24.063Z"
   },
   {
    "duration": 448,
    "start_time": "2023-04-19T10:42:24.630Z"
   },
   {
    "duration": 17,
    "start_time": "2023-04-19T10:42:25.080Z"
   },
   {
    "duration": 314,
    "start_time": "2023-04-19T10:42:25.098Z"
   },
   {
    "duration": 667,
    "start_time": "2023-04-19T10:42:25.420Z"
   },
   {
    "duration": 6,
    "start_time": "2023-04-19T10:46:23.019Z"
   },
   {
    "duration": 4,
    "start_time": "2023-04-19T10:46:23.825Z"
   },
   {
    "duration": 250,
    "start_time": "2023-04-19T10:47:50.642Z"
   },
   {
    "duration": 4,
    "start_time": "2023-04-19T10:51:32.698Z"
   },
   {
    "duration": 406,
    "start_time": "2023-04-19T10:51:32.704Z"
   },
   {
    "duration": 206,
    "start_time": "2023-04-19T10:51:33.111Z"
   },
   {
    "duration": 88,
    "start_time": "2023-04-19T10:51:33.319Z"
   },
   {
    "duration": 4,
    "start_time": "2023-04-19T10:51:33.409Z"
   },
   {
    "duration": 84,
    "start_time": "2023-04-19T10:51:33.415Z"
   },
   {
    "duration": 1776,
    "start_time": "2023-04-19T10:51:33.501Z"
   },
   {
    "duration": 18,
    "start_time": "2023-04-19T10:51:35.279Z"
   },
   {
    "duration": 57,
    "start_time": "2023-04-19T10:51:35.299Z"
   },
   {
    "duration": 331,
    "start_time": "2023-04-19T10:51:35.360Z"
   },
   {
    "duration": 191,
    "start_time": "2023-04-19T10:51:35.693Z"
   },
   {
    "duration": 385,
    "start_time": "2023-04-19T10:51:35.886Z"
   },
   {
    "duration": 525,
    "start_time": "2023-04-19T10:51:36.273Z"
   },
   {
    "duration": 678,
    "start_time": "2023-04-19T10:51:36.800Z"
   },
   {
    "duration": 82,
    "start_time": "2023-04-19T10:51:37.480Z"
   },
   {
    "duration": 15,
    "start_time": "2023-04-19T10:51:37.564Z"
   },
   {
    "duration": 625,
    "start_time": "2023-04-19T10:51:37.582Z"
   },
   {
    "duration": 576,
    "start_time": "2023-04-19T10:51:38.209Z"
   },
   {
    "duration": 80,
    "start_time": "2023-04-19T10:51:38.787Z"
   },
   {
    "duration": 418,
    "start_time": "2023-04-19T10:51:38.869Z"
   },
   {
    "duration": 612,
    "start_time": "2023-04-19T10:51:39.289Z"
   },
   {
    "duration": 54,
    "start_time": "2023-04-19T10:51:39.902Z"
   },
   {
    "duration": 3,
    "start_time": "2023-04-19T10:51:39.958Z"
   },
   {
    "duration": 2152,
    "start_time": "2023-04-19T10:51:47.662Z"
   },
   {
    "duration": 107,
    "start_time": "2023-04-19T10:52:05.850Z"
   },
   {
    "duration": 110,
    "start_time": "2023-04-19T10:53:24.335Z"
   },
   {
    "duration": 4,
    "start_time": "2023-04-19T11:08:39.140Z"
   },
   {
    "duration": 3,
    "start_time": "2023-04-19T11:08:45.862Z"
   },
   {
    "duration": 522,
    "start_time": "2023-04-19T11:08:45.868Z"
   },
   {
    "duration": 216,
    "start_time": "2023-04-19T11:08:46.391Z"
   },
   {
    "duration": 88,
    "start_time": "2023-04-19T11:08:46.611Z"
   },
   {
    "duration": 3,
    "start_time": "2023-04-19T11:08:46.701Z"
   },
   {
    "duration": 91,
    "start_time": "2023-04-19T11:08:46.707Z"
   },
   {
    "duration": 1582,
    "start_time": "2023-04-19T11:08:46.801Z"
   },
   {
    "duration": 16,
    "start_time": "2023-04-19T11:08:48.385Z"
   },
   {
    "duration": 54,
    "start_time": "2023-04-19T11:08:48.403Z"
   },
   {
    "duration": 346,
    "start_time": "2023-04-19T11:08:48.462Z"
   },
   {
    "duration": 185,
    "start_time": "2023-04-19T11:08:48.810Z"
   },
   {
    "duration": 410,
    "start_time": "2023-04-19T11:08:48.997Z"
   },
   {
    "duration": 370,
    "start_time": "2023-04-19T11:08:49.410Z"
   },
   {
    "duration": 381,
    "start_time": "2023-04-19T11:08:49.781Z"
   },
   {
    "duration": 15,
    "start_time": "2023-04-19T11:08:50.164Z"
   },
   {
    "duration": 13,
    "start_time": "2023-04-19T11:08:50.181Z"
   },
   {
    "duration": 462,
    "start_time": "2023-04-19T11:08:50.196Z"
   },
   {
    "duration": 431,
    "start_time": "2023-04-19T11:08:50.659Z"
   },
   {
    "duration": 20,
    "start_time": "2023-04-19T11:08:51.091Z"
   },
   {
    "duration": 377,
    "start_time": "2023-04-19T11:08:51.113Z"
   },
   {
    "duration": 498,
    "start_time": "2023-04-19T11:08:51.492Z"
   },
   {
    "duration": 4,
    "start_time": "2023-04-19T11:08:51.991Z"
   },
   {
    "duration": 8,
    "start_time": "2023-04-19T11:08:51.997Z"
   },
   {
    "duration": 1211,
    "start_time": "2023-04-19T11:08:52.007Z"
   },
   {
    "duration": 98,
    "start_time": "2023-04-19T11:08:53.219Z"
   },
   {
    "duration": 0,
    "start_time": "2023-04-19T11:08:53.319Z"
   },
   {
    "duration": 0,
    "start_time": "2023-04-19T11:08:53.320Z"
   },
   {
    "duration": 0,
    "start_time": "2023-04-19T11:08:53.321Z"
   },
   {
    "duration": 0,
    "start_time": "2023-04-19T11:08:53.322Z"
   },
   {
    "duration": 9,
    "start_time": "2023-04-19T11:13:52.214Z"
   },
   {
    "duration": 445,
    "start_time": "2023-04-19T11:14:29.553Z"
   },
   {
    "duration": 224,
    "start_time": "2023-04-19T11:14:39.192Z"
   },
   {
    "duration": 3,
    "start_time": "2023-04-19T11:15:11.302Z"
   },
   {
    "duration": 1298,
    "start_time": "2023-04-19T11:16:15.975Z"
   },
   {
    "duration": 3,
    "start_time": "2023-04-19T11:17:33.622Z"
   },
   {
    "duration": 429,
    "start_time": "2023-04-19T11:17:33.628Z"
   },
   {
    "duration": 243,
    "start_time": "2023-04-19T11:17:34.059Z"
   },
   {
    "duration": 86,
    "start_time": "2023-04-19T11:17:34.305Z"
   },
   {
    "duration": 3,
    "start_time": "2023-04-19T11:17:34.396Z"
   },
   {
    "duration": 156,
    "start_time": "2023-04-19T11:17:34.401Z"
   },
   {
    "duration": 2037,
    "start_time": "2023-04-19T11:17:34.559Z"
   },
   {
    "duration": 20,
    "start_time": "2023-04-19T11:17:36.600Z"
   },
   {
    "duration": 3,
    "start_time": "2023-04-19T11:17:36.622Z"
   },
   {
    "duration": 339,
    "start_time": "2023-04-19T11:17:36.629Z"
   },
   {
    "duration": 185,
    "start_time": "2023-04-19T11:17:36.970Z"
   },
   {
    "duration": 397,
    "start_time": "2023-04-19T11:17:37.156Z"
   },
   {
    "duration": 370,
    "start_time": "2023-04-19T11:17:37.554Z"
   },
   {
    "duration": 661,
    "start_time": "2023-04-19T11:17:37.925Z"
   },
   {
    "duration": 79,
    "start_time": "2023-04-19T11:17:38.588Z"
   },
   {
    "duration": 15,
    "start_time": "2023-04-19T11:17:38.669Z"
   },
   {
    "duration": 544,
    "start_time": "2023-04-19T11:17:38.686Z"
   },
   {
    "duration": 427,
    "start_time": "2023-04-19T11:17:39.232Z"
   },
   {
    "duration": 1240,
    "start_time": "2023-04-19T11:17:50.778Z"
   },
   {
    "duration": 133,
    "start_time": "2023-04-19T11:17:58.814Z"
   },
   {
    "duration": 780,
    "start_time": "2023-04-19T11:18:14.336Z"
   },
   {
    "duration": 120,
    "start_time": "2023-04-19T11:18:32.570Z"
   },
   {
    "duration": 4,
    "start_time": "2023-04-19T11:18:37.992Z"
   },
   {
    "duration": 546,
    "start_time": "2023-04-19T11:18:37.998Z"
   },
   {
    "duration": 229,
    "start_time": "2023-04-19T11:18:38.547Z"
   },
   {
    "duration": 60,
    "start_time": "2023-04-19T11:18:38.777Z"
   },
   {
    "duration": 3,
    "start_time": "2023-04-19T11:18:38.839Z"
   },
   {
    "duration": 85,
    "start_time": "2023-04-19T11:18:38.843Z"
   },
   {
    "duration": 1646,
    "start_time": "2023-04-19T11:18:38.930Z"
   },
   {
    "duration": 22,
    "start_time": "2023-04-19T11:18:40.578Z"
   },
   {
    "duration": 54,
    "start_time": "2023-04-19T11:18:40.602Z"
   },
   {
    "duration": 350,
    "start_time": "2023-04-19T11:18:40.658Z"
   },
   {
    "duration": 171,
    "start_time": "2023-04-19T11:18:41.010Z"
   },
   {
    "duration": 383,
    "start_time": "2023-04-19T11:18:41.183Z"
   },
   {
    "duration": 429,
    "start_time": "2023-04-19T11:18:41.568Z"
   },
   {
    "duration": 383,
    "start_time": "2023-04-19T11:18:41.999Z"
   },
   {
    "duration": 15,
    "start_time": "2023-04-19T11:18:42.384Z"
   },
   {
    "duration": 27,
    "start_time": "2023-04-19T11:18:42.401Z"
   },
   {
    "duration": 598,
    "start_time": "2023-04-19T11:18:42.429Z"
   },
   {
    "duration": 40,
    "start_time": "2023-04-19T11:18:43.029Z"
   },
   {
    "duration": 103,
    "start_time": "2023-04-19T11:19:02.618Z"
   },
   {
    "duration": 4,
    "start_time": "2023-04-19T11:20:01.823Z"
   },
   {
    "duration": 659,
    "start_time": "2023-04-19T11:20:01.829Z"
   },
   {
    "duration": 220,
    "start_time": "2023-04-19T11:20:02.490Z"
   },
   {
    "duration": 93,
    "start_time": "2023-04-19T11:20:02.713Z"
   },
   {
    "duration": 4,
    "start_time": "2023-04-19T11:20:02.809Z"
   },
   {
    "duration": 103,
    "start_time": "2023-04-19T11:20:02.814Z"
   },
   {
    "duration": 1873,
    "start_time": "2023-04-19T11:20:02.921Z"
   },
   {
    "duration": 67,
    "start_time": "2023-04-19T11:20:04.797Z"
   },
   {
    "duration": 4,
    "start_time": "2023-04-19T11:20:04.866Z"
   },
   {
    "duration": 381,
    "start_time": "2023-04-19T11:20:04.873Z"
   },
   {
    "duration": 137,
    "start_time": "2023-04-19T11:20:05.255Z"
   },
   {
    "duration": 397,
    "start_time": "2023-04-19T11:20:05.394Z"
   },
   {
    "duration": 427,
    "start_time": "2023-04-19T11:20:05.792Z"
   },
   {
    "duration": 323,
    "start_time": "2023-04-19T11:20:06.220Z"
   },
   {
    "duration": 14,
    "start_time": "2023-04-19T11:20:06.544Z"
   },
   {
    "duration": 19,
    "start_time": "2023-04-19T11:20:06.560Z"
   },
   {
    "duration": 486,
    "start_time": "2023-04-19T11:20:06.581Z"
   },
   {
    "duration": 28,
    "start_time": "2023-04-19T11:20:07.069Z"
   },
   {
    "duration": 1139,
    "start_time": "2023-04-19T11:20:16.282Z"
   },
   {
    "duration": 4,
    "start_time": "2023-04-19T11:24:26.354Z"
   },
   {
    "duration": 1005,
    "start_time": "2023-04-19T11:24:26.359Z"
   },
   {
    "duration": 206,
    "start_time": "2023-04-19T11:24:27.366Z"
   },
   {
    "duration": 67,
    "start_time": "2023-04-19T11:24:27.575Z"
   },
   {
    "duration": 4,
    "start_time": "2023-04-19T11:24:27.643Z"
   },
   {
    "duration": 75,
    "start_time": "2023-04-19T11:24:27.648Z"
   },
   {
    "duration": 1489,
    "start_time": "2023-04-19T11:24:27.724Z"
   },
   {
    "duration": 53,
    "start_time": "2023-04-19T11:24:29.214Z"
   },
   {
    "duration": 3,
    "start_time": "2023-04-19T11:24:29.269Z"
   },
   {
    "duration": 339,
    "start_time": "2023-04-19T11:24:29.274Z"
   },
   {
    "duration": 255,
    "start_time": "2023-04-19T11:24:29.615Z"
   },
   {
    "duration": 685,
    "start_time": "2023-04-19T11:24:29.871Z"
   },
   {
    "duration": 552,
    "start_time": "2023-04-19T11:24:30.558Z"
   },
   {
    "duration": 381,
    "start_time": "2023-04-19T11:24:31.111Z"
   },
   {
    "duration": 14,
    "start_time": "2023-04-19T11:24:31.494Z"
   },
   {
    "duration": 30,
    "start_time": "2023-04-19T11:24:31.510Z"
   },
   {
    "duration": 492,
    "start_time": "2023-04-19T11:24:31.542Z"
   },
   {
    "duration": 42,
    "start_time": "2023-04-19T11:24:32.036Z"
   },
   {
    "duration": 730,
    "start_time": "2023-04-19T11:24:36.829Z"
   },
   {
    "duration": 7,
    "start_time": "2023-04-19T11:30:29.805Z"
   },
   {
    "duration": 107,
    "start_time": "2023-04-19T11:32:19.284Z"
   },
   {
    "duration": 4,
    "start_time": "2023-04-19T11:36:12.010Z"
   },
   {
    "duration": 511,
    "start_time": "2023-04-19T11:36:12.016Z"
   },
   {
    "duration": 192,
    "start_time": "2023-04-19T11:36:12.529Z"
   },
   {
    "duration": 60,
    "start_time": "2023-04-19T11:36:12.723Z"
   },
   {
    "duration": 3,
    "start_time": "2023-04-19T11:36:12.785Z"
   },
   {
    "duration": 114,
    "start_time": "2023-04-19T11:36:12.790Z"
   },
   {
    "duration": 2097,
    "start_time": "2023-04-19T11:36:12.906Z"
   },
   {
    "duration": 17,
    "start_time": "2023-04-19T11:36:15.057Z"
   },
   {
    "duration": 9,
    "start_time": "2023-04-19T11:36:15.075Z"
   },
   {
    "duration": 425,
    "start_time": "2023-04-19T11:36:15.087Z"
   },
   {
    "duration": 163,
    "start_time": "2023-04-19T11:36:15.514Z"
   },
   {
    "duration": 378,
    "start_time": "2023-04-19T11:36:15.679Z"
   },
   {
    "duration": 362,
    "start_time": "2023-04-19T11:36:16.058Z"
   },
   {
    "duration": 363,
    "start_time": "2023-04-19T11:36:16.422Z"
   },
   {
    "duration": 14,
    "start_time": "2023-04-19T11:36:16.787Z"
   },
   {
    "duration": 13,
    "start_time": "2023-04-19T11:36:16.803Z"
   },
   {
    "duration": 444,
    "start_time": "2023-04-19T11:36:16.818Z"
   },
   {
    "duration": 25,
    "start_time": "2023-04-19T11:36:17.263Z"
   },
   {
    "duration": 335,
    "start_time": "2023-04-19T11:36:17.290Z"
   },
   {
    "duration": 724,
    "start_time": "2023-04-19T11:36:26.424Z"
   },
   {
    "duration": 128,
    "start_time": "2023-04-19T11:40:44.794Z"
   },
   {
    "duration": 17,
    "start_time": "2023-04-19T11:41:13.808Z"
   },
   {
    "duration": 302,
    "start_time": "2023-04-19T11:41:17.559Z"
   },
   {
    "duration": 478,
    "start_time": "2023-04-19T11:41:20.978Z"
   },
   {
    "duration": 4,
    "start_time": "2023-04-19T11:41:24.286Z"
   },
   {
    "duration": 3,
    "start_time": "2023-04-19T11:41:25.152Z"
   },
   {
    "duration": 113,
    "start_time": "2023-04-19T11:42:24.581Z"
   },
   {
    "duration": 12,
    "start_time": "2023-04-19T11:42:47.094Z"
   },
   {
    "duration": 86,
    "start_time": "2023-04-19T11:46:21.336Z"
   },
   {
    "duration": 81,
    "start_time": "2023-04-19T11:46:31.567Z"
   },
   {
    "duration": 105,
    "start_time": "2023-04-19T11:47:38.889Z"
   },
   {
    "duration": 75,
    "start_time": "2023-04-19T11:47:47.651Z"
   },
   {
    "duration": 725,
    "start_time": "2023-04-19T11:48:12.058Z"
   },
   {
    "duration": 4,
    "start_time": "2023-04-19T11:48:16.637Z"
   },
   {
    "duration": 23827,
    "start_time": "2023-04-19T11:48:16.642Z"
   },
   {
    "duration": 1002,
    "start_time": "2023-04-19T11:48:40.470Z"
   },
   {
    "duration": 696,
    "start_time": "2023-04-19T11:48:41.474Z"
   },
   {
    "duration": 14,
    "start_time": "2023-04-19T11:48:42.171Z"
   },
   {
    "duration": 979,
    "start_time": "2023-04-19T11:48:42.187Z"
   },
   {
    "duration": 7615,
    "start_time": "2023-04-19T11:48:43.167Z"
   },
   {
    "duration": 281,
    "start_time": "2023-04-19T11:48:50.784Z"
   },
   {
    "duration": 5,
    "start_time": "2023-04-19T11:48:51.066Z"
   },
   {
    "duration": 1893,
    "start_time": "2023-04-19T11:48:51.073Z"
   },
   {
    "duration": 700,
    "start_time": "2023-04-19T11:48:52.968Z"
   },
   {
    "duration": 2199,
    "start_time": "2023-04-19T11:48:53.670Z"
   },
   {
    "duration": 1136,
    "start_time": "2023-04-19T11:48:55.871Z"
   },
   {
    "duration": 1055,
    "start_time": "2023-04-19T11:48:57.009Z"
   },
   {
    "duration": 40,
    "start_time": "2023-04-19T11:48:58.066Z"
   },
   {
    "duration": 26,
    "start_time": "2023-04-19T11:48:58.156Z"
   },
   {
    "duration": 1972,
    "start_time": "2023-04-19T11:48:58.184Z"
   },
   {
    "duration": 102,
    "start_time": "2023-04-19T11:49:00.158Z"
   },
   {
    "duration": 792,
    "start_time": "2023-04-19T11:49:00.263Z"
   },
   {
    "duration": 76,
    "start_time": "2023-04-19T11:49:01.058Z"
   },
   {
    "duration": 0,
    "start_time": "2023-04-19T11:49:01.136Z"
   },
   {
    "duration": 0,
    "start_time": "2023-04-19T11:49:01.137Z"
   },
   {
    "duration": 0,
    "start_time": "2023-04-19T11:49:01.138Z"
   },
   {
    "duration": 0,
    "start_time": "2023-04-19T11:49:01.139Z"
   },
   {
    "duration": 0,
    "start_time": "2023-04-19T11:49:01.140Z"
   },
   {
    "duration": 0,
    "start_time": "2023-04-19T11:49:01.156Z"
   },
   {
    "duration": 0,
    "start_time": "2023-04-19T11:49:01.157Z"
   },
   {
    "duration": 0,
    "start_time": "2023-04-19T11:49:01.159Z"
   },
   {
    "duration": 0,
    "start_time": "2023-04-19T11:49:01.162Z"
   },
   {
    "duration": 0,
    "start_time": "2023-04-19T11:49:01.163Z"
   },
   {
    "duration": 0,
    "start_time": "2023-04-19T11:49:01.164Z"
   },
   {
    "duration": 1,
    "start_time": "2023-04-19T11:49:01.165Z"
   },
   {
    "duration": 113,
    "start_time": "2023-04-19T11:55:14.133Z"
   },
   {
    "duration": 85,
    "start_time": "2023-04-19T11:55:19.507Z"
   },
   {
    "duration": 97,
    "start_time": "2023-04-19T12:02:11.527Z"
   },
   {
    "duration": 78,
    "start_time": "2023-04-19T12:02:31.144Z"
   },
   {
    "duration": 111,
    "start_time": "2023-04-19T12:02:41.596Z"
   },
   {
    "duration": 4,
    "start_time": "2023-04-19T12:03:00.074Z"
   },
   {
    "duration": 1213,
    "start_time": "2023-04-19T12:03:00.080Z"
   },
   {
    "duration": 598,
    "start_time": "2023-04-19T12:03:01.296Z"
   },
   {
    "duration": 219,
    "start_time": "2023-04-19T12:03:01.896Z"
   },
   {
    "duration": 6,
    "start_time": "2023-04-19T12:03:02.162Z"
   },
   {
    "duration": 198,
    "start_time": "2023-04-19T12:03:02.171Z"
   },
   {
    "duration": 4507,
    "start_time": "2023-04-19T12:03:02.371Z"
   },
   {
    "duration": 92,
    "start_time": "2023-04-19T12:03:06.880Z"
   },
   {
    "duration": 4,
    "start_time": "2023-04-19T12:03:06.973Z"
   },
   {
    "duration": 791,
    "start_time": "2023-04-19T12:03:06.979Z"
   },
   {
    "duration": 390,
    "start_time": "2023-04-19T12:03:07.772Z"
   },
   {
    "duration": 843,
    "start_time": "2023-04-19T12:03:08.163Z"
   },
   {
    "duration": 799,
    "start_time": "2023-04-19T12:03:09.008Z"
   },
   {
    "duration": 755,
    "start_time": "2023-04-19T12:03:09.809Z"
   },
   {
    "duration": 21,
    "start_time": "2023-04-19T12:03:10.565Z"
   },
   {
    "duration": 81,
    "start_time": "2023-04-19T12:03:10.588Z"
   },
   {
    "duration": 1106,
    "start_time": "2023-04-19T12:03:10.671Z"
   },
   {
    "duration": 107,
    "start_time": "2023-04-19T12:03:11.779Z"
   },
   {
    "duration": 474,
    "start_time": "2023-04-19T12:03:11.888Z"
   },
   {
    "duration": 3733,
    "start_time": "2023-04-19T12:03:26.476Z"
   },
   {
    "duration": 118,
    "start_time": "2023-04-19T12:04:14.341Z"
   },
   {
    "duration": 3,
    "start_time": "2023-04-19T12:04:50.092Z"
   },
   {
    "duration": 521,
    "start_time": "2023-04-19T12:04:50.097Z"
   },
   {
    "duration": 273,
    "start_time": "2023-04-19T12:04:50.620Z"
   },
   {
    "duration": 123,
    "start_time": "2023-04-19T12:04:50.895Z"
   },
   {
    "duration": 3,
    "start_time": "2023-04-19T12:04:51.055Z"
   },
   {
    "duration": 198,
    "start_time": "2023-04-19T12:04:51.060Z"
   },
   {
    "duration": 3113,
    "start_time": "2023-04-19T12:04:51.262Z"
   },
   {
    "duration": 92,
    "start_time": "2023-04-19T12:04:54.377Z"
   },
   {
    "duration": 3,
    "start_time": "2023-04-19T12:04:54.471Z"
   },
   {
    "duration": 912,
    "start_time": "2023-04-19T12:04:54.476Z"
   },
   {
    "duration": 582,
    "start_time": "2023-04-19T12:04:55.389Z"
   },
   {
    "duration": 1110,
    "start_time": "2023-04-19T12:04:55.973Z"
   },
   {
    "duration": 939,
    "start_time": "2023-04-19T12:04:57.085Z"
   },
   {
    "duration": 631,
    "start_time": "2023-04-19T12:04:58.026Z"
   },
   {
    "duration": 22,
    "start_time": "2023-04-19T12:04:58.660Z"
   },
   {
    "duration": 86,
    "start_time": "2023-04-19T12:04:58.684Z"
   },
   {
    "duration": 924,
    "start_time": "2023-04-19T12:04:58.772Z"
   },
   {
    "duration": 80,
    "start_time": "2023-04-19T12:04:59.698Z"
   },
   {
    "duration": 375,
    "start_time": "2023-04-19T12:04:59.780Z"
   },
   {
    "duration": 1839,
    "start_time": "2023-04-19T12:05:00.157Z"
   },
   {
    "duration": 585,
    "start_time": "2023-04-19T12:05:06.107Z"
   },
   {
    "duration": 5,
    "start_time": "2023-04-19T12:06:58.371Z"
   },
   {
    "duration": 522,
    "start_time": "2023-04-19T12:06:58.378Z"
   },
   {
    "duration": 298,
    "start_time": "2023-04-19T12:06:58.902Z"
   },
   {
    "duration": 167,
    "start_time": "2023-04-19T12:06:59.202Z"
   },
   {
    "duration": 4,
    "start_time": "2023-04-19T12:06:59.371Z"
   },
   {
    "duration": 183,
    "start_time": "2023-04-19T12:06:59.377Z"
   },
   {
    "duration": 3401,
    "start_time": "2023-04-19T12:06:59.562Z"
   },
   {
    "duration": 93,
    "start_time": "2023-04-19T12:07:02.964Z"
   },
   {
    "duration": 7,
    "start_time": "2023-04-19T12:07:03.059Z"
   },
   {
    "duration": 722,
    "start_time": "2023-04-19T12:07:03.068Z"
   },
   {
    "duration": 389,
    "start_time": "2023-04-19T12:07:03.792Z"
   },
   {
    "duration": 974,
    "start_time": "2023-04-19T12:07:04.183Z"
   },
   {
    "duration": 827,
    "start_time": "2023-04-19T12:07:05.158Z"
   },
   {
    "duration": 777,
    "start_time": "2023-04-19T12:07:05.988Z"
   },
   {
    "duration": 19,
    "start_time": "2023-04-19T12:07:06.767Z"
   },
   {
    "duration": 85,
    "start_time": "2023-04-19T12:07:06.788Z"
   },
   {
    "duration": 1107,
    "start_time": "2023-04-19T12:07:06.875Z"
   },
   {
    "duration": 91,
    "start_time": "2023-04-19T12:07:07.984Z"
   },
   {
    "duration": 424,
    "start_time": "2023-04-19T12:07:08.076Z"
   },
   {
    "duration": 2030,
    "start_time": "2023-04-19T12:07:08.557Z"
   },
   {
    "duration": 131,
    "start_time": "2023-04-19T12:07:13.686Z"
   },
   {
    "duration": 5,
    "start_time": "2023-04-19T12:07:31.616Z"
   },
   {
    "duration": 478,
    "start_time": "2023-04-19T12:07:31.623Z"
   },
   {
    "duration": 271,
    "start_time": "2023-04-19T12:07:32.103Z"
   },
   {
    "duration": 121,
    "start_time": "2023-04-19T12:07:32.376Z"
   },
   {
    "duration": 7,
    "start_time": "2023-04-19T12:07:32.498Z"
   },
   {
    "duration": 153,
    "start_time": "2023-04-19T12:07:32.507Z"
   },
   {
    "duration": 3407,
    "start_time": "2023-04-19T12:07:32.661Z"
   },
   {
    "duration": 22,
    "start_time": "2023-04-19T12:07:36.070Z"
   },
   {
    "duration": 71,
    "start_time": "2023-04-19T12:07:36.093Z"
   },
   {
    "duration": 701,
    "start_time": "2023-04-19T12:07:36.171Z"
   },
   {
    "duration": 223,
    "start_time": "2023-04-19T12:07:36.874Z"
   },
   {
    "duration": 618,
    "start_time": "2023-04-19T12:07:37.099Z"
   },
   {
    "duration": 671,
    "start_time": "2023-04-19T12:07:37.718Z"
   },
   {
    "duration": 603,
    "start_time": "2023-04-19T12:07:38.391Z"
   },
   {
    "duration": 17,
    "start_time": "2023-04-19T12:07:38.996Z"
   },
   {
    "duration": 52,
    "start_time": "2023-04-19T12:07:39.015Z"
   },
   {
    "duration": 937,
    "start_time": "2023-04-19T12:07:39.069Z"
   },
   {
    "duration": 75,
    "start_time": "2023-04-19T12:07:40.008Z"
   },
   {
    "duration": 325,
    "start_time": "2023-04-19T12:07:40.084Z"
   },
   {
    "duration": 1572,
    "start_time": "2023-04-19T12:07:40.411Z"
   },
   {
    "duration": 517,
    "start_time": "2023-04-19T12:07:41.985Z"
   },
   {
    "duration": 20,
    "start_time": "2023-04-19T12:21:43.024Z"
   },
   {
    "duration": 9,
    "start_time": "2023-04-19T12:22:48.781Z"
   },
   {
    "duration": 27,
    "start_time": "2023-04-19T12:22:57.394Z"
   },
   {
    "duration": 1388,
    "start_time": "2023-04-19T12:23:00.041Z"
   },
   {
    "duration": 1046,
    "start_time": "2023-04-19T12:23:04.414Z"
   },
   {
    "duration": 6,
    "start_time": "2023-04-19T12:23:08.042Z"
   },
   {
    "duration": 126,
    "start_time": "2023-04-19T12:23:21.994Z"
   },
   {
    "duration": 1135,
    "start_time": "2023-04-19T12:23:59.861Z"
   },
   {
    "duration": 296,
    "start_time": "2023-04-19T12:24:33.405Z"
   },
   {
    "duration": 556,
    "start_time": "2023-04-19T12:24:41.530Z"
   },
   {
    "duration": 123,
    "start_time": "2023-04-19T12:25:00.167Z"
   },
   {
    "duration": 118,
    "start_time": "2023-04-19T12:25:27.953Z"
   },
   {
    "duration": 154,
    "start_time": "2023-04-19T12:25:58.891Z"
   },
   {
    "duration": 9,
    "start_time": "2023-04-19T12:26:15.316Z"
   },
   {
    "duration": 781,
    "start_time": "2023-04-20T08:24:10.522Z"
   },
   {
    "duration": 21153,
    "start_time": "2023-04-20T08:24:11.304Z"
   },
   {
    "duration": 876,
    "start_time": "2023-04-20T09:10:09.604Z"
   },
   {
    "duration": 33762,
    "start_time": "2023-04-20T09:10:12.671Z"
   },
   {
    "duration": 1238,
    "start_time": "2023-04-20T09:12:59.145Z"
   },
   {
    "duration": 980,
    "start_time": "2023-04-20T09:13:03.535Z"
   },
   {
    "duration": 17,
    "start_time": "2023-04-20T09:13:11.348Z"
   },
   {
    "duration": 1386,
    "start_time": "2023-04-20T09:13:17.175Z"
   },
   {
    "duration": 10440,
    "start_time": "2023-04-20T09:13:21.093Z"
   },
   {
    "duration": 289,
    "start_time": "2023-04-20T09:13:31.536Z"
   },
   {
    "duration": 3,
    "start_time": "2023-04-20T09:14:20.450Z"
   },
   {
    "duration": 2281,
    "start_time": "2023-04-20T09:14:29.567Z"
   },
   {
    "duration": 610,
    "start_time": "2023-04-20T09:14:36.041Z"
   },
   {
    "duration": 2869,
    "start_time": "2023-04-20T09:16:35.362Z"
   },
   {
    "duration": 1730,
    "start_time": "2023-04-20T09:25:43.361Z"
   },
   {
    "duration": 4,
    "start_time": "2023-04-20T09:43:12.290Z"
   },
   {
    "duration": 721,
    "start_time": "2023-04-20T09:43:12.296Z"
   },
   {
    "duration": 561,
    "start_time": "2023-04-20T09:43:13.020Z"
   },
   {
    "duration": 277,
    "start_time": "2023-04-20T09:43:13.584Z"
   },
   {
    "duration": 53,
    "start_time": "2023-04-20T09:43:13.864Z"
   },
   {
    "duration": 268,
    "start_time": "2023-04-20T09:43:13.920Z"
   },
   {
    "duration": 4627,
    "start_time": "2023-04-20T09:43:14.190Z"
   },
   {
    "duration": 142,
    "start_time": "2023-04-20T09:43:18.819Z"
   },
   {
    "duration": 19,
    "start_time": "2023-04-20T09:43:19.012Z"
   },
   {
    "duration": 917,
    "start_time": "2023-04-20T09:43:19.033Z"
   },
   {
    "duration": 473,
    "start_time": "2023-04-20T09:43:19.953Z"
   },
   {
    "duration": 919,
    "start_time": "2023-04-20T09:43:26.553Z"
   },
   {
    "duration": 614,
    "start_time": "2023-04-20T09:46:23.360Z"
   },
   {
    "duration": 948,
    "start_time": "2023-04-20T09:58:34.724Z"
   },
   {
    "duration": 159,
    "start_time": "2023-04-20T09:58:39.349Z"
   },
   {
    "duration": 155,
    "start_time": "2023-04-20T09:58:49.710Z"
   },
   {
    "duration": 4,
    "start_time": "2023-04-20T09:58:58.392Z"
   },
   {
    "duration": 435,
    "start_time": "2023-04-20T09:58:58.398Z"
   },
   {
    "duration": 438,
    "start_time": "2023-04-20T09:58:58.837Z"
   },
   {
    "duration": 221,
    "start_time": "2023-04-20T09:58:59.278Z"
   },
   {
    "duration": 4,
    "start_time": "2023-04-20T09:58:59.502Z"
   },
   {
    "duration": 181,
    "start_time": "2023-04-20T09:58:59.507Z"
   },
   {
    "duration": 3751,
    "start_time": "2023-04-20T09:58:59.690Z"
   },
   {
    "duration": 117,
    "start_time": "2023-04-20T09:59:03.443Z"
   },
   {
    "duration": 52,
    "start_time": "2023-04-20T09:59:03.563Z"
   },
   {
    "duration": 736,
    "start_time": "2023-04-20T09:59:03.617Z"
   },
   {
    "duration": 367,
    "start_time": "2023-04-20T09:59:04.356Z"
   },
   {
    "duration": 866,
    "start_time": "2023-04-20T10:00:09.904Z"
   },
   {
    "duration": 9,
    "start_time": "2023-04-20T10:00:15.281Z"
   },
   {
    "duration": 161,
    "start_time": "2023-04-20T10:00:38.158Z"
   },
   {
    "duration": 5,
    "start_time": "2023-04-20T10:02:07.478Z"
   },
   {
    "duration": 477,
    "start_time": "2023-04-20T10:02:07.486Z"
   },
   {
    "duration": 340,
    "start_time": "2023-04-20T10:02:07.964Z"
   },
   {
    "duration": 159,
    "start_time": "2023-04-20T10:02:08.308Z"
   },
   {
    "duration": 3,
    "start_time": "2023-04-20T10:02:08.469Z"
   },
   {
    "duration": 164,
    "start_time": "2023-04-20T10:02:08.474Z"
   },
   {
    "duration": 4504,
    "start_time": "2023-04-20T10:02:08.639Z"
   },
   {
    "duration": 93,
    "start_time": "2023-04-20T10:02:13.144Z"
   },
   {
    "duration": 3,
    "start_time": "2023-04-20T10:02:13.239Z"
   },
   {
    "duration": 1285,
    "start_time": "2023-04-20T10:02:13.244Z"
   },
   {
    "duration": 601,
    "start_time": "2023-04-20T10:02:14.531Z"
   },
   {
    "duration": 1696,
    "start_time": "2023-04-20T10:02:17.535Z"
   },
   {
    "duration": 189,
    "start_time": "2023-04-20T10:02:31.429Z"
   },
   {
    "duration": 4,
    "start_time": "2023-04-20T10:02:43.188Z"
   },
   {
    "duration": 374,
    "start_time": "2023-04-20T10:02:43.194Z"
   },
   {
    "duration": 376,
    "start_time": "2023-04-20T10:02:43.571Z"
   },
   {
    "duration": 145,
    "start_time": "2023-04-20T10:02:43.949Z"
   },
   {
    "duration": 18,
    "start_time": "2023-04-20T10:02:44.096Z"
   },
   {
    "duration": 186,
    "start_time": "2023-04-20T10:02:44.116Z"
   },
   {
    "duration": 3924,
    "start_time": "2023-04-20T10:02:44.304Z"
   },
   {
    "duration": 89,
    "start_time": "2023-04-20T10:02:48.230Z"
   },
   {
    "duration": 12,
    "start_time": "2023-04-20T10:02:48.321Z"
   },
   {
    "duration": 1182,
    "start_time": "2023-04-20T10:02:48.336Z"
   },
   {
    "duration": 526,
    "start_time": "2023-04-20T10:02:49.520Z"
   },
   {
    "duration": 1007,
    "start_time": "2023-04-20T10:02:59.576Z"
   },
   {
    "duration": 10,
    "start_time": "2023-04-20T10:03:21.199Z"
   },
   {
    "duration": 104,
    "start_time": "2023-04-20T10:05:53.270Z"
   },
   {
    "duration": 9,
    "start_time": "2023-04-20T10:07:16.471Z"
   },
   {
    "duration": 4,
    "start_time": "2023-04-20T10:11:26.555Z"
   },
   {
    "duration": 536,
    "start_time": "2023-04-20T10:11:26.561Z"
   },
   {
    "duration": 590,
    "start_time": "2023-04-20T10:11:27.099Z"
   },
   {
    "duration": 166,
    "start_time": "2023-04-20T10:11:27.720Z"
   },
   {
    "duration": 4,
    "start_time": "2023-04-20T10:11:27.888Z"
   },
   {
    "duration": 175,
    "start_time": "2023-04-20T10:11:27.893Z"
   },
   {
    "duration": 3802,
    "start_time": "2023-04-20T10:11:28.069Z"
   },
   {
    "duration": 105,
    "start_time": "2023-04-20T10:11:31.912Z"
   },
   {
    "duration": 5,
    "start_time": "2023-04-20T10:11:32.018Z"
   },
   {
    "duration": 744,
    "start_time": "2023-04-20T10:11:32.025Z"
   },
   {
    "duration": 371,
    "start_time": "2023-04-20T10:11:32.771Z"
   },
   {
    "duration": 386,
    "start_time": "2023-04-20T10:11:35.774Z"
   },
   {
    "duration": 43,
    "start_time": "2023-04-20T10:23:27.010Z"
   },
   {
    "duration": 78,
    "start_time": "2023-04-20T10:26:30.650Z"
   },
   {
    "duration": 6,
    "start_time": "2023-04-20T10:26:36.542Z"
   },
   {
    "duration": 3,
    "start_time": "2023-04-20T10:27:00.356Z"
   },
   {
    "duration": 2,
    "start_time": "2023-04-20T10:27:10.362Z"
   },
   {
    "duration": 36,
    "start_time": "2023-04-20T10:28:42.340Z"
   },
   {
    "duration": 6,
    "start_time": "2023-04-20T10:34:32.739Z"
   },
   {
    "duration": 3,
    "start_time": "2023-04-20T10:36:55.289Z"
   },
   {
    "duration": 3,
    "start_time": "2023-04-20T10:38:14.072Z"
   },
   {
    "duration": 30,
    "start_time": "2023-04-20T10:40:43.332Z"
   },
   {
    "duration": 4,
    "start_time": "2023-04-20T10:40:57.938Z"
   },
   {
    "duration": 617,
    "start_time": "2023-04-20T10:40:57.944Z"
   },
   {
    "duration": 497,
    "start_time": "2023-04-20T10:40:58.563Z"
   },
   {
    "duration": 133,
    "start_time": "2023-04-20T10:40:59.062Z"
   },
   {
    "duration": 5,
    "start_time": "2023-04-20T10:40:59.198Z"
   },
   {
    "duration": 246,
    "start_time": "2023-04-20T10:40:59.205Z"
   },
   {
    "duration": 4299,
    "start_time": "2023-04-20T10:40:59.454Z"
   },
   {
    "duration": 97,
    "start_time": "2023-04-20T10:41:03.815Z"
   },
   {
    "duration": 8,
    "start_time": "2023-04-20T10:41:03.913Z"
   },
   {
    "duration": 694,
    "start_time": "2023-04-20T10:41:03.924Z"
   },
   {
    "duration": 284,
    "start_time": "2023-04-20T10:41:04.619Z"
   },
   {
    "duration": 26,
    "start_time": "2023-04-20T10:41:04.906Z"
   },
   {
    "duration": 3,
    "start_time": "2023-04-20T10:41:04.934Z"
   },
   {
    "duration": 10,
    "start_time": "2023-04-20T10:41:04.941Z"
   },
   {
    "duration": 6,
    "start_time": "2023-04-20T10:41:04.952Z"
   },
   {
    "duration": 6,
    "start_time": "2023-04-20T10:41:04.960Z"
   },
   {
    "duration": 8,
    "start_time": "2023-04-20T10:41:04.968Z"
   },
   {
    "duration": 5,
    "start_time": "2023-04-20T10:41:04.978Z"
   },
   {
    "duration": 175,
    "start_time": "2023-04-20T10:41:04.985Z"
   },
   {
    "duration": 0,
    "start_time": "2023-04-20T10:41:05.162Z"
   },
   {
    "duration": 0,
    "start_time": "2023-04-20T10:41:05.163Z"
   },
   {
    "duration": 3,
    "start_time": "2023-04-20T10:41:35.661Z"
   },
   {
    "duration": 4,
    "start_time": "2023-04-20T10:41:38.552Z"
   },
   {
    "duration": 33,
    "start_time": "2023-04-20T10:41:38.559Z"
   },
   {
    "duration": 391,
    "start_time": "2023-04-20T10:41:38.594Z"
   },
   {
    "duration": 0,
    "start_time": "2023-04-20T10:41:38.988Z"
   },
   {
    "duration": 0,
    "start_time": "2023-04-20T10:41:38.990Z"
   },
   {
    "duration": 0,
    "start_time": "2023-04-20T10:41:38.992Z"
   },
   {
    "duration": 0,
    "start_time": "2023-04-20T10:41:38.993Z"
   },
   {
    "duration": 0,
    "start_time": "2023-04-20T10:41:38.995Z"
   },
   {
    "duration": 0,
    "start_time": "2023-04-20T10:41:39.001Z"
   },
   {
    "duration": 92,
    "start_time": "2023-04-20T10:47:28.277Z"
   },
   {
    "duration": 198,
    "start_time": "2023-04-20T10:49:14.425Z"
   },
   {
    "duration": 168,
    "start_time": "2023-04-20T10:50:19.844Z"
   },
   {
    "duration": 143,
    "start_time": "2023-04-20T10:51:37.562Z"
   },
   {
    "duration": 21,
    "start_time": "2023-04-20T10:52:32.006Z"
   },
   {
    "duration": 17,
    "start_time": "2023-04-20T10:52:40.540Z"
   },
   {
    "duration": 89,
    "start_time": "2023-04-20T10:53:27.013Z"
   },
   {
    "duration": 23,
    "start_time": "2023-04-20T10:54:00.147Z"
   },
   {
    "duration": 27,
    "start_time": "2023-04-20T10:54:05.515Z"
   },
   {
    "duration": 3,
    "start_time": "2023-04-20T10:54:05.545Z"
   },
   {
    "duration": 4,
    "start_time": "2023-04-20T10:54:05.550Z"
   },
   {
    "duration": 24,
    "start_time": "2023-04-20T10:54:05.556Z"
   },
   {
    "duration": 5,
    "start_time": "2023-04-20T10:54:05.582Z"
   },
   {
    "duration": 9,
    "start_time": "2023-04-20T10:54:05.589Z"
   },
   {
    "duration": 10,
    "start_time": "2023-04-20T10:54:05.600Z"
   },
   {
    "duration": 6,
    "start_time": "2023-04-20T10:54:05.611Z"
   },
   {
    "duration": 17,
    "start_time": "2023-04-20T10:54:05.618Z"
   },
   {
    "duration": 3,
    "start_time": "2023-04-20T10:54:05.638Z"
   },
   {
    "duration": 46,
    "start_time": "2023-04-20T10:54:05.643Z"
   },
   {
    "duration": 0,
    "start_time": "2023-04-20T10:54:05.691Z"
   },
   {
    "duration": 0,
    "start_time": "2023-04-20T10:54:05.694Z"
   },
   {
    "duration": 0,
    "start_time": "2023-04-20T10:54:05.695Z"
   },
   {
    "duration": 0,
    "start_time": "2023-04-20T10:54:05.713Z"
   },
   {
    "duration": 0,
    "start_time": "2023-04-20T10:54:05.714Z"
   },
   {
    "duration": 0,
    "start_time": "2023-04-20T10:54:05.716Z"
   },
   {
    "duration": 6,
    "start_time": "2023-04-20T10:55:40.468Z"
   },
   {
    "duration": 8,
    "start_time": "2023-04-20T10:55:45.508Z"
   },
   {
    "duration": 341,
    "start_time": "2023-04-20T10:55:45.518Z"
   },
   {
    "duration": 497,
    "start_time": "2023-04-20T10:55:45.862Z"
   },
   {
    "duration": 245,
    "start_time": "2023-04-20T10:55:46.362Z"
   },
   {
    "duration": 12,
    "start_time": "2023-04-20T10:55:46.608Z"
   },
   {
    "duration": 117,
    "start_time": "2023-04-20T10:55:46.622Z"
   },
   {
    "duration": 2789,
    "start_time": "2023-04-20T10:55:46.741Z"
   },
   {
    "duration": 92,
    "start_time": "2023-04-20T10:55:49.537Z"
   },
   {
    "duration": 6,
    "start_time": "2023-04-20T10:55:49.631Z"
   },
   {
    "duration": 602,
    "start_time": "2023-04-20T10:55:49.641Z"
   },
   {
    "duration": 305,
    "start_time": "2023-04-20T10:55:50.245Z"
   },
   {
    "duration": 21,
    "start_time": "2023-04-20T10:55:50.555Z"
   },
   {
    "duration": 3,
    "start_time": "2023-04-20T10:55:50.579Z"
   },
   {
    "duration": 36,
    "start_time": "2023-04-20T10:55:50.585Z"
   },
   {
    "duration": 28,
    "start_time": "2023-04-20T10:55:50.624Z"
   },
   {
    "duration": 10,
    "start_time": "2023-04-20T10:55:50.653Z"
   },
   {
    "duration": 10,
    "start_time": "2023-04-20T10:55:50.665Z"
   },
   {
    "duration": 4,
    "start_time": "2023-04-20T10:55:50.677Z"
   },
   {
    "duration": 4,
    "start_time": "2023-04-20T10:55:50.683Z"
   },
   {
    "duration": 7,
    "start_time": "2023-04-20T10:55:50.689Z"
   },
   {
    "duration": 4,
    "start_time": "2023-04-20T10:55:50.698Z"
   },
   {
    "duration": 54,
    "start_time": "2023-04-20T10:55:50.704Z"
   },
   {
    "duration": 0,
    "start_time": "2023-04-20T10:55:50.760Z"
   },
   {
    "duration": 0,
    "start_time": "2023-04-20T10:55:50.762Z"
   },
   {
    "duration": 0,
    "start_time": "2023-04-20T10:55:50.763Z"
   },
   {
    "duration": 0,
    "start_time": "2023-04-20T10:55:50.765Z"
   },
   {
    "duration": 0,
    "start_time": "2023-04-20T10:55:50.766Z"
   },
   {
    "duration": 0,
    "start_time": "2023-04-20T10:55:50.767Z"
   },
   {
    "duration": 23,
    "start_time": "2023-04-20T10:58:06.456Z"
   },
   {
    "duration": 20,
    "start_time": "2023-04-20T10:58:10.446Z"
   },
   {
    "duration": 10,
    "start_time": "2023-04-20T10:58:10.468Z"
   },
   {
    "duration": 6,
    "start_time": "2023-04-20T10:58:10.480Z"
   },
   {
    "duration": 6,
    "start_time": "2023-04-20T10:58:10.488Z"
   },
   {
    "duration": 4,
    "start_time": "2023-04-20T10:58:10.516Z"
   },
   {
    "duration": 9,
    "start_time": "2023-04-20T10:58:10.523Z"
   },
   {
    "duration": 11,
    "start_time": "2023-04-20T10:58:10.537Z"
   },
   {
    "duration": 9,
    "start_time": "2023-04-20T10:58:10.550Z"
   },
   {
    "duration": 56,
    "start_time": "2023-04-20T10:58:10.562Z"
   },
   {
    "duration": 7,
    "start_time": "2023-04-20T10:58:10.620Z"
   },
   {
    "duration": 7716,
    "start_time": "2023-04-20T10:58:10.631Z"
   },
   {
    "duration": 715,
    "start_time": "2023-04-20T10:58:18.349Z"
   },
   {
    "duration": 2072,
    "start_time": "2023-04-20T10:58:19.066Z"
   },
   {
    "duration": 33,
    "start_time": "2023-04-20T10:58:21.140Z"
   },
   {
    "duration": 0,
    "start_time": "2023-04-20T10:58:21.176Z"
   },
   {
    "duration": 0,
    "start_time": "2023-04-20T10:58:21.213Z"
   },
   {
    "duration": 0,
    "start_time": "2023-04-20T10:58:21.214Z"
   },
   {
    "duration": 93,
    "start_time": "2023-04-20T11:01:48.846Z"
   },
   {
    "duration": 34,
    "start_time": "2023-04-20T11:39:42.596Z"
   },
   {
    "duration": 30,
    "start_time": "2023-04-20T11:42:15.138Z"
   },
   {
    "duration": 88,
    "start_time": "2023-04-20T11:47:27.531Z"
   },
   {
    "duration": 41,
    "start_time": "2023-04-20T11:47:56.243Z"
   },
   {
    "duration": 713,
    "start_time": "2023-04-20T11:50:50.940Z"
   },
   {
    "duration": 30261,
    "start_time": "2023-04-20T11:50:51.655Z"
   },
   {
    "duration": 1135,
    "start_time": "2023-04-20T11:51:21.920Z"
   },
   {
    "duration": 918,
    "start_time": "2023-04-20T11:51:23.057Z"
   },
   {
    "duration": 77,
    "start_time": "2023-04-20T11:51:23.979Z"
   },
   {
    "duration": 1315,
    "start_time": "2023-04-20T11:51:24.060Z"
   },
   {
    "duration": 10553,
    "start_time": "2023-04-20T11:51:25.377Z"
   },
   {
    "duration": 305,
    "start_time": "2023-04-20T11:51:35.932Z"
   },
   {
    "duration": 8,
    "start_time": "2023-04-20T11:51:36.239Z"
   },
   {
    "duration": 2380,
    "start_time": "2023-04-20T11:51:36.249Z"
   },
   {
    "duration": 892,
    "start_time": "2023-04-20T11:51:38.631Z"
   },
   {
    "duration": 197,
    "start_time": "2023-04-20T11:51:39.525Z"
   },
   {
    "duration": 5,
    "start_time": "2023-04-20T11:51:39.724Z"
   },
   {
    "duration": 21,
    "start_time": "2023-04-20T11:51:39.733Z"
   },
   {
    "duration": 13,
    "start_time": "2023-04-20T11:51:39.756Z"
   },
   {
    "duration": 21,
    "start_time": "2023-04-20T11:51:39.770Z"
   },
   {
    "duration": 16,
    "start_time": "2023-04-20T11:51:39.793Z"
   },
   {
    "duration": 19,
    "start_time": "2023-04-20T11:51:39.811Z"
   },
   {
    "duration": 9,
    "start_time": "2023-04-20T11:51:39.834Z"
   },
   {
    "duration": 5,
    "start_time": "2023-04-20T11:51:39.845Z"
   },
   {
    "duration": 99,
    "start_time": "2023-04-20T11:51:39.851Z"
   },
   {
    "duration": 1802,
    "start_time": "2023-04-20T11:51:39.952Z"
   },
   {
    "duration": 74,
    "start_time": "2023-04-20T11:51:41.756Z"
   },
   {
    "duration": 8,
    "start_time": "2023-04-20T11:51:41.832Z"
   },
   {
    "duration": 3001,
    "start_time": "2023-04-20T11:51:41.845Z"
   },
   {
    "duration": 0,
    "start_time": "2023-04-20T11:51:44.850Z"
   },
   {
    "duration": 0,
    "start_time": "2023-04-20T11:51:44.852Z"
   },
   {
    "duration": 0,
    "start_time": "2023-04-20T11:51:44.854Z"
   },
   {
    "duration": 0,
    "start_time": "2023-04-20T11:51:44.855Z"
   },
   {
    "duration": 0,
    "start_time": "2023-04-20T11:51:44.856Z"
   },
   {
    "duration": 0,
    "start_time": "2023-04-20T11:51:44.858Z"
   },
   {
    "duration": 81,
    "start_time": "2023-04-20T11:54:25.829Z"
   },
   {
    "duration": 13,
    "start_time": "2023-04-20T12:06:18.610Z"
   },
   {
    "duration": 3125,
    "start_time": "2023-04-20T12:06:25.435Z"
   },
   {
    "duration": 5080,
    "start_time": "2023-04-20T12:12:56.862Z"
   },
   {
    "duration": 6,
    "start_time": "2023-04-20T12:13:06.998Z"
   },
   {
    "duration": 551,
    "start_time": "2023-04-20T12:13:07.006Z"
   },
   {
    "duration": 627,
    "start_time": "2023-04-20T12:13:07.559Z"
   },
   {
    "duration": 256,
    "start_time": "2023-04-20T12:13:08.189Z"
   },
   {
    "duration": 5,
    "start_time": "2023-04-20T12:13:08.450Z"
   },
   {
    "duration": 284,
    "start_time": "2023-04-20T12:13:08.458Z"
   },
   {
    "duration": 5679,
    "start_time": "2023-04-20T12:13:08.747Z"
   },
   {
    "duration": 3229,
    "start_time": "2023-04-20T12:13:17.898Z"
   },
   {
    "duration": 821,
    "start_time": "2023-04-20T12:13:34.948Z"
   },
   {
    "duration": 29944,
    "start_time": "2023-04-20T12:13:35.771Z"
   },
   {
    "duration": 1314,
    "start_time": "2023-04-20T12:14:05.717Z"
   },
   {
    "duration": 799,
    "start_time": "2023-04-20T12:14:07.032Z"
   },
   {
    "duration": 16,
    "start_time": "2023-04-20T12:14:07.833Z"
   },
   {
    "duration": 1362,
    "start_time": "2023-04-20T12:14:07.851Z"
   },
   {
    "duration": 9532,
    "start_time": "2023-04-20T12:14:09.215Z"
   },
   {
    "duration": 5932,
    "start_time": "2023-04-20T12:14:18.819Z"
   },
   {
    "duration": 3950,
    "start_time": "2023-04-20T12:15:07.996Z"
   },
   {
    "duration": 3754,
    "start_time": "2023-04-20T12:15:47.173Z"
   },
   {
    "duration": 2800,
    "start_time": "2023-04-20T12:15:59.696Z"
   },
   {
    "duration": 2694,
    "start_time": "2023-04-20T12:21:47.633Z"
   },
   {
    "duration": 835,
    "start_time": "2023-04-20T12:23:13.225Z"
   },
   {
    "duration": 28553,
    "start_time": "2023-04-20T12:23:14.063Z"
   },
   {
    "duration": 1225,
    "start_time": "2023-04-20T12:23:42.618Z"
   },
   {
    "duration": 993,
    "start_time": "2023-04-20T12:23:43.846Z"
   },
   {
    "duration": 78,
    "start_time": "2023-04-20T12:23:44.843Z"
   },
   {
    "duration": 1223,
    "start_time": "2023-04-20T12:23:44.923Z"
   },
   {
    "duration": 9469,
    "start_time": "2023-04-20T12:23:46.148Z"
   },
   {
    "duration": 3800,
    "start_time": "2023-04-20T12:23:55.619Z"
   },
   {
    "duration": 5017,
    "start_time": "2023-04-20T12:23:59.426Z"
   },
   {
    "duration": 173,
    "start_time": "2023-04-20T12:24:04.445Z"
   },
   {
    "duration": 6,
    "start_time": "2023-04-20T12:24:04.623Z"
   },
   {
    "duration": 1534,
    "start_time": "2023-04-20T12:24:04.631Z"
   },
   {
    "duration": 520,
    "start_time": "2023-04-20T12:24:06.213Z"
   },
   {
    "duration": 185,
    "start_time": "2023-04-20T12:24:06.738Z"
   },
   {
    "duration": 4,
    "start_time": "2023-04-20T12:24:06.930Z"
   },
   {
    "duration": 9,
    "start_time": "2023-04-20T12:24:06.936Z"
   },
   {
    "duration": 14,
    "start_time": "2023-04-20T12:24:06.947Z"
   },
   {
    "duration": 8,
    "start_time": "2023-04-20T12:24:07.013Z"
   },
   {
    "duration": 21,
    "start_time": "2023-04-20T12:24:07.023Z"
   },
   {
    "duration": 16,
    "start_time": "2023-04-20T12:24:07.046Z"
   },
   {
    "duration": 49,
    "start_time": "2023-04-20T12:24:07.064Z"
   },
   {
    "duration": 2,
    "start_time": "2023-04-20T12:24:07.128Z"
   },
   {
    "duration": 98,
    "start_time": "2023-04-20T12:24:07.132Z"
   },
   {
    "duration": 1520,
    "start_time": "2023-04-20T12:24:07.232Z"
   },
   {
    "duration": 25,
    "start_time": "2023-04-20T12:24:08.813Z"
   },
   {
    "duration": 4,
    "start_time": "2023-04-20T12:24:08.845Z"
   },
   {
    "duration": 2706,
    "start_time": "2023-04-20T12:24:08.851Z"
   },
   {
    "duration": 0,
    "start_time": "2023-04-20T12:24:11.560Z"
   },
   {
    "duration": 0,
    "start_time": "2023-04-20T12:24:11.561Z"
   },
   {
    "duration": 0,
    "start_time": "2023-04-20T12:24:11.563Z"
   },
   {
    "duration": 0,
    "start_time": "2023-04-20T12:24:11.564Z"
   },
   {
    "duration": 0,
    "start_time": "2023-04-20T12:24:11.565Z"
   },
   {
    "duration": 0,
    "start_time": "2023-04-20T12:24:11.567Z"
   },
   {
    "duration": 8,
    "start_time": "2023-04-20T12:25:28.182Z"
   },
   {
    "duration": 18,
    "start_time": "2023-04-20T12:25:35.985Z"
   },
   {
    "duration": 17,
    "start_time": "2023-04-20T12:26:09.877Z"
   },
   {
    "duration": 144,
    "start_time": "2023-04-20T12:27:31.238Z"
   },
   {
    "duration": 82,
    "start_time": "2023-04-20T12:30:47.935Z"
   },
   {
    "duration": 1140,
    "start_time": "2023-04-20T12:30:59.787Z"
   },
   {
    "duration": 13,
    "start_time": "2023-04-20T12:31:26.916Z"
   },
   {
    "duration": 4428,
    "start_time": "2023-04-20T12:32:46.303Z"
   },
   {
    "duration": 116,
    "start_time": "2023-04-20T12:33:06.234Z"
   },
   {
    "duration": 965,
    "start_time": "2023-04-20T12:44:20.646Z"
   },
   {
    "duration": 144,
    "start_time": "2023-04-20T12:49:12.333Z"
   },
   {
    "duration": 7,
    "start_time": "2023-04-20T12:49:18.740Z"
   },
   {
    "duration": 664,
    "start_time": "2023-04-20T12:49:18.750Z"
   },
   {
    "duration": 593,
    "start_time": "2023-04-20T12:49:19.426Z"
   },
   {
    "duration": 240,
    "start_time": "2023-04-20T12:49:20.021Z"
   },
   {
    "duration": 49,
    "start_time": "2023-04-20T12:49:20.264Z"
   },
   {
    "duration": 316,
    "start_time": "2023-04-20T12:49:20.315Z"
   },
   {
    "duration": 6109,
    "start_time": "2023-04-20T12:49:20.634Z"
   },
   {
    "duration": 1812,
    "start_time": "2023-04-20T12:49:26.745Z"
   },
   {
    "duration": 3040,
    "start_time": "2023-04-20T12:49:28.559Z"
   },
   {
    "duration": 96,
    "start_time": "2023-04-20T12:49:31.620Z"
   },
   {
    "duration": 9,
    "start_time": "2023-04-20T12:49:31.718Z"
   },
   {
    "duration": 903,
    "start_time": "2023-04-20T12:49:31.729Z"
   },
   {
    "duration": 495,
    "start_time": "2023-04-20T12:49:32.634Z"
   },
   {
    "duration": 44,
    "start_time": "2023-04-20T12:49:33.137Z"
   },
   {
    "duration": 3,
    "start_time": "2023-04-20T12:49:33.183Z"
   },
   {
    "duration": 6,
    "start_time": "2023-04-20T12:49:33.215Z"
   },
   {
    "duration": 6,
    "start_time": "2023-04-20T12:49:33.223Z"
   },
   {
    "duration": 10,
    "start_time": "2023-04-20T12:49:33.231Z"
   },
   {
    "duration": 6,
    "start_time": "2023-04-20T12:49:33.243Z"
   },
   {
    "duration": 14,
    "start_time": "2023-04-20T12:49:33.251Z"
   },
   {
    "duration": 4,
    "start_time": "2023-04-20T12:49:33.267Z"
   },
   {
    "duration": 4,
    "start_time": "2023-04-20T12:49:33.273Z"
   },
   {
    "duration": 8,
    "start_time": "2023-04-20T12:49:33.279Z"
   },
   {
    "duration": 70,
    "start_time": "2023-04-20T12:49:33.289Z"
   },
   {
    "duration": 864,
    "start_time": "2023-04-20T12:49:33.361Z"
   },
   {
    "duration": 760,
    "start_time": "2023-04-20T12:49:40.891Z"
   },
   {
    "duration": 5,
    "start_time": "2023-04-20T12:49:53.659Z"
   },
   {
    "duration": 1893,
    "start_time": "2023-04-20T12:50:05.849Z"
   },
   {
    "duration": 145,
    "start_time": "2023-04-20T12:50:54.110Z"
   },
   {
    "duration": 7,
    "start_time": "2023-04-20T12:51:06.405Z"
   },
   {
    "duration": 371,
    "start_time": "2023-04-20T12:51:06.415Z"
   },
   {
    "duration": 573,
    "start_time": "2023-04-20T12:51:06.788Z"
   },
   {
    "duration": 241,
    "start_time": "2023-04-20T12:51:07.363Z"
   },
   {
    "duration": 5,
    "start_time": "2023-04-20T12:51:07.605Z"
   },
   {
    "duration": 174,
    "start_time": "2023-04-20T12:51:07.614Z"
   },
   {
    "duration": 3825,
    "start_time": "2023-04-20T12:51:07.790Z"
   },
   {
    "duration": 1615,
    "start_time": "2023-04-20T12:51:11.617Z"
   },
   {
    "duration": 2575,
    "start_time": "2023-04-20T12:51:13.238Z"
   },
   {
    "duration": 55,
    "start_time": "2023-04-20T12:51:15.816Z"
   },
   {
    "duration": 4,
    "start_time": "2023-04-20T12:51:15.872Z"
   },
   {
    "duration": 727,
    "start_time": "2023-04-20T12:51:15.912Z"
   },
   {
    "duration": 384,
    "start_time": "2023-04-20T12:51:16.640Z"
   },
   {
    "duration": 47,
    "start_time": "2023-04-20T12:51:17.026Z"
   },
   {
    "duration": 4,
    "start_time": "2023-04-20T12:51:17.075Z"
   },
   {
    "duration": 11,
    "start_time": "2023-04-20T12:51:17.081Z"
   },
   {
    "duration": 19,
    "start_time": "2023-04-20T12:51:17.094Z"
   },
   {
    "duration": 27,
    "start_time": "2023-04-20T12:51:17.116Z"
   },
   {
    "duration": 12,
    "start_time": "2023-04-20T12:51:17.145Z"
   },
   {
    "duration": 16,
    "start_time": "2023-04-20T12:51:17.159Z"
   },
   {
    "duration": 25,
    "start_time": "2023-04-20T12:51:17.177Z"
   },
   {
    "duration": 12,
    "start_time": "2023-04-20T12:51:17.204Z"
   },
   {
    "duration": 25,
    "start_time": "2023-04-20T12:51:17.218Z"
   },
   {
    "duration": 35,
    "start_time": "2023-04-20T12:51:17.245Z"
   },
   {
    "duration": 506,
    "start_time": "2023-04-20T12:51:17.282Z"
   },
   {
    "duration": 565,
    "start_time": "2023-04-20T12:51:22.600Z"
   },
   {
    "duration": 1211,
    "start_time": "2023-04-20T12:51:35.835Z"
   },
   {
    "duration": 519,
    "start_time": "2023-04-20T12:51:40.029Z"
   },
   {
    "duration": 1403,
    "start_time": "2023-04-20T12:51:46.073Z"
   },
   {
    "duration": 5,
    "start_time": "2023-04-20T12:52:31.996Z"
   },
   {
    "duration": 380,
    "start_time": "2023-04-20T12:52:32.005Z"
   },
   {
    "duration": 396,
    "start_time": "2023-04-20T12:52:32.387Z"
   },
   {
    "duration": 111,
    "start_time": "2023-04-20T12:52:32.785Z"
   },
   {
    "duration": 12,
    "start_time": "2023-04-20T12:52:32.903Z"
   },
   {
    "duration": 151,
    "start_time": "2023-04-20T12:52:32.917Z"
   },
   {
    "duration": 3210,
    "start_time": "2023-04-20T12:52:33.070Z"
   },
   {
    "duration": 765,
    "start_time": "2023-04-20T12:52:36.281Z"
   },
   {
    "duration": 1979,
    "start_time": "2023-04-20T12:52:37.051Z"
   },
   {
    "duration": 82,
    "start_time": "2023-04-20T12:52:39.032Z"
   },
   {
    "duration": 19,
    "start_time": "2023-04-20T12:52:39.116Z"
   },
   {
    "duration": 575,
    "start_time": "2023-04-20T12:52:39.139Z"
   },
   {
    "duration": 289,
    "start_time": "2023-04-20T12:52:39.719Z"
   },
   {
    "duration": 54,
    "start_time": "2023-04-20T12:52:40.013Z"
   },
   {
    "duration": 3,
    "start_time": "2023-04-20T12:52:40.069Z"
   },
   {
    "duration": 19,
    "start_time": "2023-04-20T12:52:40.075Z"
   },
   {
    "duration": 36,
    "start_time": "2023-04-20T12:52:40.096Z"
   },
   {
    "duration": 29,
    "start_time": "2023-04-20T12:52:40.135Z"
   },
   {
    "duration": 5,
    "start_time": "2023-04-20T12:52:40.166Z"
   },
   {
    "duration": 15,
    "start_time": "2023-04-20T12:52:40.174Z"
   },
   {
    "duration": 23,
    "start_time": "2023-04-20T12:52:40.191Z"
   },
   {
    "duration": 19,
    "start_time": "2023-04-20T12:52:40.216Z"
   },
   {
    "duration": 3,
    "start_time": "2023-04-20T12:52:40.238Z"
   },
   {
    "duration": 31,
    "start_time": "2023-04-20T12:52:40.243Z"
   },
   {
    "duration": 569,
    "start_time": "2023-04-20T12:52:40.276Z"
   },
   {
    "duration": 628,
    "start_time": "2023-04-20T12:52:42.901Z"
   },
   {
    "duration": 1100,
    "start_time": "2023-04-20T12:52:49.912Z"
   },
   {
    "duration": 591,
    "start_time": "2023-04-20T12:52:52.661Z"
   },
   {
    "duration": 1070,
    "start_time": "2023-04-20T12:52:56.893Z"
   },
   {
    "duration": 6,
    "start_time": "2023-04-20T12:53:31.488Z"
   },
   {
    "duration": 343,
    "start_time": "2023-04-20T12:53:31.497Z"
   },
   {
    "duration": 264,
    "start_time": "2023-04-20T12:53:31.844Z"
   },
   {
    "duration": 85,
    "start_time": "2023-04-20T12:53:32.110Z"
   },
   {
    "duration": 27,
    "start_time": "2023-04-20T12:53:32.197Z"
   },
   {
    "duration": 212,
    "start_time": "2023-04-20T12:53:32.233Z"
   },
   {
    "duration": 4407,
    "start_time": "2023-04-20T12:53:32.449Z"
   },
   {
    "duration": 1407,
    "start_time": "2023-04-20T12:53:36.913Z"
   },
   {
    "duration": 3436,
    "start_time": "2023-04-20T12:53:38.322Z"
   },
   {
    "duration": 29,
    "start_time": "2023-04-20T12:53:41.812Z"
   },
   {
    "duration": 5,
    "start_time": "2023-04-20T12:53:41.845Z"
   },
   {
    "duration": 1090,
    "start_time": "2023-04-20T12:53:41.853Z"
   },
   {
    "duration": 500,
    "start_time": "2023-04-20T12:53:42.945Z"
   },
   {
    "duration": 133,
    "start_time": "2023-04-20T12:53:47.589Z"
   },
   {
    "duration": 3154,
    "start_time": "2023-04-20T12:54:16.375Z"
   },
   {
    "duration": 71,
    "start_time": "2023-04-20T12:55:29.642Z"
   },
   {
    "duration": 2045,
    "start_time": "2023-04-20T12:55:37.016Z"
   },
   {
    "duration": 17,
    "start_time": "2023-04-20T12:57:45.439Z"
   },
   {
    "duration": 35,
    "start_time": "2023-04-20T12:57:55.083Z"
   },
   {
    "duration": 2116,
    "start_time": "2023-04-20T12:58:02.349Z"
   },
   {
    "duration": 47,
    "start_time": "2023-04-20T12:58:45.378Z"
   },
   {
    "duration": 5328,
    "start_time": "2023-04-20T12:58:56.804Z"
   },
   {
    "duration": 801,
    "start_time": "2023-04-20T12:59:05.592Z"
   },
   {
    "duration": 1794,
    "start_time": "2023-04-20T13:07:29.256Z"
   },
   {
    "duration": 730,
    "start_time": "2023-04-20T13:07:41.927Z"
   },
   {
    "duration": 6,
    "start_time": "2023-04-20T13:07:45.758Z"
   },
   {
    "duration": 29848,
    "start_time": "2023-04-20T13:07:45.767Z"
   },
   {
    "duration": 1331,
    "start_time": "2023-04-20T13:08:15.617Z"
   },
   {
    "duration": 998,
    "start_time": "2023-04-20T13:08:16.951Z"
   },
   {
    "duration": 28,
    "start_time": "2023-04-20T13:08:18.016Z"
   },
   {
    "duration": 1373,
    "start_time": "2023-04-20T13:08:18.046Z"
   },
   {
    "duration": 8495,
    "start_time": "2023-04-20T13:08:19.426Z"
   },
   {
    "duration": 3695,
    "start_time": "2023-04-20T13:08:27.924Z"
   },
   {
    "duration": 5034,
    "start_time": "2023-04-20T13:08:31.625Z"
   },
   {
    "duration": 203,
    "start_time": "2023-04-20T13:08:36.714Z"
   },
   {
    "duration": 8,
    "start_time": "2023-04-20T13:08:36.920Z"
   },
   {
    "duration": 1786,
    "start_time": "2023-04-20T13:08:36.931Z"
   },
   {
    "duration": 630,
    "start_time": "2023-04-20T13:08:38.719Z"
   },
   {
    "duration": 123,
    "start_time": "2023-04-20T13:08:39.415Z"
   },
   {
    "duration": 3,
    "start_time": "2023-04-20T13:08:39.539Z"
   },
   {
    "duration": 8,
    "start_time": "2023-04-20T13:08:39.544Z"
   },
   {
    "duration": 12,
    "start_time": "2023-04-20T13:08:39.554Z"
   },
   {
    "duration": 52,
    "start_time": "2023-04-20T13:08:39.568Z"
   },
   {
    "duration": 7,
    "start_time": "2023-04-20T13:08:39.624Z"
   },
   {
    "duration": 10,
    "start_time": "2023-04-20T13:08:39.632Z"
   },
   {
    "duration": 10,
    "start_time": "2023-04-20T13:08:39.644Z"
   },
   {
    "duration": 9,
    "start_time": "2023-04-20T13:08:39.656Z"
   },
   {
    "duration": 10,
    "start_time": "2023-04-20T13:08:39.667Z"
   },
   {
    "duration": 55,
    "start_time": "2023-04-20T13:08:39.679Z"
   },
   {
    "duration": 1605,
    "start_time": "2023-04-20T13:08:39.737Z"
   },
   {
    "duration": 2268,
    "start_time": "2023-04-20T13:08:41.345Z"
   },
   {
    "duration": 10,
    "start_time": "2023-04-20T13:08:43.614Z"
   },
   {
    "duration": 8797,
    "start_time": "2023-04-20T13:08:43.626Z"
   },
   {
    "duration": 826,
    "start_time": "2023-04-20T13:08:52.425Z"
   },
   {
    "duration": 1784,
    "start_time": "2023-04-20T13:08:53.253Z"
   },
   {
    "duration": 2182,
    "start_time": "2023-04-20T13:08:55.040Z"
   },
   {
    "duration": 444,
    "start_time": "2023-04-20T13:08:57.231Z"
   },
   {
    "duration": 1302,
    "start_time": "2023-04-20T13:08:57.677Z"
   },
   {
    "duration": 251,
    "start_time": "2023-04-20T13:08:58.981Z"
   },
   {
    "duration": 93,
    "start_time": "2023-04-20T13:15:32.212Z"
   },
   {
    "duration": 11,
    "start_time": "2023-04-20T13:15:56.869Z"
   },
   {
    "duration": 12,
    "start_time": "2023-04-20T13:16:41.519Z"
   },
   {
    "duration": 5,
    "start_time": "2023-04-20T13:17:21.779Z"
   },
   {
    "duration": 1169,
    "start_time": "2023-04-20T13:17:21.787Z"
   },
   {
    "duration": 477,
    "start_time": "2023-04-20T13:17:22.958Z"
   },
   {
    "duration": 219,
    "start_time": "2023-04-20T13:17:23.437Z"
   },
   {
    "duration": 4,
    "start_time": "2023-04-20T13:17:23.659Z"
   },
   {
    "duration": 278,
    "start_time": "2023-04-20T13:17:23.665Z"
   },
   {
    "duration": 4305,
    "start_time": "2023-04-20T13:17:23.945Z"
   },
   {
    "duration": 1592,
    "start_time": "2023-04-20T13:17:28.253Z"
   },
   {
    "duration": 3398,
    "start_time": "2023-04-20T13:17:33.024Z"
   },
   {
    "duration": 15,
    "start_time": "2023-04-20T13:21:21.034Z"
   },
   {
    "duration": 2948,
    "start_time": "2023-04-20T13:21:33.104Z"
   },
   {
    "duration": 712,
    "start_time": "2023-04-20T13:22:55.755Z"
   },
   {
    "duration": 5,
    "start_time": "2023-04-20T13:23:00.264Z"
   },
   {
    "duration": 25544,
    "start_time": "2023-04-20T13:23:00.272Z"
   },
   {
    "duration": 1095,
    "start_time": "2023-04-20T13:23:25.818Z"
   },
   {
    "duration": 722,
    "start_time": "2023-04-20T13:23:26.917Z"
   },
   {
    "duration": 95,
    "start_time": "2023-04-20T13:23:27.641Z"
   },
   {
    "duration": 1294,
    "start_time": "2023-04-20T13:23:27.738Z"
   },
   {
    "duration": 8479,
    "start_time": "2023-04-20T13:23:29.034Z"
   },
   {
    "duration": 3698,
    "start_time": "2023-04-20T13:23:37.515Z"
   },
   {
    "duration": 3694,
    "start_time": "2023-04-20T13:23:41.221Z"
   },
   {
    "duration": 4426,
    "start_time": "2023-04-20T13:23:44.918Z"
   },
   {
    "duration": 3,
    "start_time": "2023-04-20T13:23:49.346Z"
   },
   {
    "duration": 1392,
    "start_time": "2023-04-20T13:23:49.350Z"
   },
   {
    "duration": 583,
    "start_time": "2023-04-20T13:23:50.744Z"
   },
   {
    "duration": 134,
    "start_time": "2023-04-20T13:23:51.331Z"
   },
   {
    "duration": 46,
    "start_time": "2023-04-20T13:23:51.467Z"
   },
   {
    "duration": 22,
    "start_time": "2023-04-20T13:23:51.516Z"
   },
   {
    "duration": 10,
    "start_time": "2023-04-20T13:23:51.540Z"
   },
   {
    "duration": 13,
    "start_time": "2023-04-20T13:23:51.552Z"
   },
   {
    "duration": 5,
    "start_time": "2023-04-20T13:23:51.567Z"
   },
   {
    "duration": 25,
    "start_time": "2023-04-20T13:23:51.573Z"
   },
   {
    "duration": 5,
    "start_time": "2023-04-20T13:23:51.599Z"
   },
   {
    "duration": 25,
    "start_time": "2023-04-20T13:23:51.606Z"
   },
   {
    "duration": 20,
    "start_time": "2023-04-20T13:23:51.633Z"
   },
   {
    "duration": 49,
    "start_time": "2023-04-20T13:23:51.655Z"
   },
   {
    "duration": 1027,
    "start_time": "2023-04-20T13:23:51.706Z"
   },
   {
    "duration": 2289,
    "start_time": "2023-04-20T13:23:52.735Z"
   },
   {
    "duration": 9,
    "start_time": "2023-04-20T13:23:55.027Z"
   },
   {
    "duration": 7992,
    "start_time": "2023-04-20T13:23:55.040Z"
   },
   {
    "duration": 1215,
    "start_time": "2023-04-20T13:24:03.034Z"
   },
   {
    "duration": 1728,
    "start_time": "2023-04-20T13:24:04.312Z"
   },
   {
    "duration": 1905,
    "start_time": "2023-04-20T13:24:06.042Z"
   },
   {
    "duration": 571,
    "start_time": "2023-04-20T13:24:07.949Z"
   },
   {
    "duration": 1236,
    "start_time": "2023-04-20T13:24:08.523Z"
   },
   {
    "duration": 191,
    "start_time": "2023-04-20T13:24:09.761Z"
   },
   {
    "duration": 1504,
    "start_time": "2023-04-21T12:46:43.176Z"
   },
   {
    "duration": 118,
    "start_time": "2023-04-21T12:53:22.953Z"
   },
   {
    "duration": 212,
    "start_time": "2023-04-21T12:53:30.896Z"
   },
   {
    "duration": 7,
    "start_time": "2023-04-21T12:53:41.014Z"
   },
   {
    "duration": 31393,
    "start_time": "2023-04-21T12:53:41.024Z"
   },
   {
    "duration": 1291,
    "start_time": "2023-04-21T12:54:12.427Z"
   },
   {
    "duration": 974,
    "start_time": "2023-04-21T12:54:13.721Z"
   },
   {
    "duration": 23,
    "start_time": "2023-04-21T12:54:14.698Z"
   },
   {
    "duration": 1404,
    "start_time": "2023-04-21T12:54:14.723Z"
   },
   {
    "duration": 10479,
    "start_time": "2023-04-21T12:54:16.130Z"
   },
   {
    "duration": 4433,
    "start_time": "2023-04-21T12:54:26.611Z"
   },
   {
    "duration": 4455,
    "start_time": "2023-04-21T12:54:31.053Z"
   },
   {
    "duration": 38,
    "start_time": "2023-04-21T12:56:42.090Z"
   },
   {
    "duration": 15,
    "start_time": "2023-04-21T12:57:07.910Z"
   },
   {
    "duration": 4643,
    "start_time": "2023-04-21T12:59:28.173Z"
   },
   {
    "duration": 3014,
    "start_time": "2023-04-21T12:59:51.920Z"
   },
   {
    "duration": 2292,
    "start_time": "2023-04-21T13:00:14.409Z"
   },
   {
    "duration": 2249,
    "start_time": "2023-04-21T13:00:55.152Z"
   },
   {
    "duration": 86,
    "start_time": "2023-04-21T13:01:31.656Z"
   },
   {
    "duration": 2734,
    "start_time": "2023-04-21T13:01:36.666Z"
   },
   {
    "duration": 413,
    "start_time": "2023-04-21T13:02:00.111Z"
   },
   {
    "duration": 308,
    "start_time": "2023-04-21T13:02:10.409Z"
   },
   {
    "duration": 711,
    "start_time": "2023-04-21T13:03:02.888Z"
   },
   {
    "duration": 110,
    "start_time": "2023-04-21T13:04:38.516Z"
   },
   {
    "duration": 110,
    "start_time": "2023-04-21T13:08:47.901Z"
   },
   {
    "duration": 2461,
    "start_time": "2023-04-21T13:09:07.452Z"
   },
   {
    "duration": 2403,
    "start_time": "2023-04-21T13:11:14.220Z"
   },
   {
    "duration": 1436,
    "start_time": "2023-04-21T13:15:55.317Z"
   },
   {
    "duration": 10,
    "start_time": "2023-04-21T13:16:00.220Z"
   },
   {
    "duration": 30297,
    "start_time": "2023-04-21T13:16:00.232Z"
   },
   {
    "duration": 1386,
    "start_time": "2023-04-21T13:16:30.531Z"
   },
   {
    "duration": 997,
    "start_time": "2023-04-21T13:16:31.920Z"
   },
   {
    "duration": 81,
    "start_time": "2023-04-21T13:16:32.919Z"
   },
   {
    "duration": 1235,
    "start_time": "2023-04-21T13:16:33.004Z"
   },
   {
    "duration": 9605,
    "start_time": "2023-04-21T13:16:34.294Z"
   },
   {
    "duration": 4137,
    "start_time": "2023-04-21T13:16:43.902Z"
   },
   {
    "duration": 4565,
    "start_time": "2023-04-21T13:16:48.041Z"
   },
   {
    "duration": 3451,
    "start_time": "2023-04-21T13:16:52.611Z"
   },
   {
    "duration": 3,
    "start_time": "2023-04-21T13:16:56.064Z"
   },
   {
    "duration": 1839,
    "start_time": "2023-04-21T13:16:56.093Z"
   },
   {
    "duration": 588,
    "start_time": "2023-04-21T13:16:57.993Z"
   },
   {
    "duration": 120,
    "start_time": "2023-04-21T13:16:58.583Z"
   },
   {
    "duration": 6,
    "start_time": "2023-04-21T13:16:58.710Z"
   },
   {
    "duration": 5,
    "start_time": "2023-04-21T13:16:58.719Z"
   },
   {
    "duration": 4,
    "start_time": "2023-04-21T13:16:58.726Z"
   },
   {
    "duration": 7,
    "start_time": "2023-04-21T13:16:58.732Z"
   },
   {
    "duration": 19,
    "start_time": "2023-04-21T13:16:58.742Z"
   },
   {
    "duration": 11,
    "start_time": "2023-04-21T13:16:58.764Z"
   },
   {
    "duration": 8,
    "start_time": "2023-04-21T13:16:58.777Z"
   },
   {
    "duration": 21,
    "start_time": "2023-04-21T13:16:58.787Z"
   },
   {
    "duration": 29,
    "start_time": "2023-04-21T13:16:58.809Z"
   },
   {
    "duration": 58,
    "start_time": "2023-04-21T13:16:58.840Z"
   },
   {
    "duration": 1516,
    "start_time": "2023-04-21T13:16:58.900Z"
   },
   {
    "duration": 2510,
    "start_time": "2023-04-21T13:17:00.417Z"
   },
   {
    "duration": 70,
    "start_time": "2023-04-21T13:17:02.929Z"
   },
   {
    "duration": 8226,
    "start_time": "2023-04-21T13:17:03.006Z"
   },
   {
    "duration": 991,
    "start_time": "2023-04-21T13:17:11.234Z"
   },
   {
    "duration": 2084,
    "start_time": "2023-04-21T13:17:12.226Z"
   },
   {
    "duration": 2100,
    "start_time": "2023-04-21T13:17:14.317Z"
   },
   {
    "duration": 553,
    "start_time": "2023-04-21T13:17:16.420Z"
   },
   {
    "duration": 1505,
    "start_time": "2023-04-21T13:17:16.975Z"
   },
   {
    "duration": 455,
    "start_time": "2023-04-21T13:17:18.482Z"
   },
   {
    "duration": 98,
    "start_time": "2023-04-21T13:26:36.021Z"
   },
   {
    "duration": 1305,
    "start_time": "2023-04-22T06:39:05.826Z"
   },
   {
    "duration": 34486,
    "start_time": "2023-04-22T06:39:07.134Z"
   },
   {
    "duration": 1083,
    "start_time": "2023-04-22T06:39:41.622Z"
   },
   {
    "duration": 767,
    "start_time": "2023-04-22T06:39:42.707Z"
   },
   {
    "duration": 25,
    "start_time": "2023-04-22T06:39:43.476Z"
   },
   {
    "duration": 1212,
    "start_time": "2023-04-22T06:39:43.505Z"
   },
   {
    "duration": 8692,
    "start_time": "2023-04-22T06:39:44.719Z"
   },
   {
    "duration": 3622,
    "start_time": "2023-04-22T06:39:53.412Z"
   },
   {
    "duration": 3285,
    "start_time": "2023-04-22T06:39:57.036Z"
   },
   {
    "duration": 2832,
    "start_time": "2023-04-22T06:40:00.323Z"
   },
   {
    "duration": 3,
    "start_time": "2023-04-22T06:40:03.156Z"
   },
   {
    "duration": 1566,
    "start_time": "2023-04-22T06:40:03.160Z"
   },
   {
    "duration": 586,
    "start_time": "2023-04-22T06:40:04.727Z"
   },
   {
    "duration": 394,
    "start_time": "2023-04-22T06:40:05.318Z"
   },
   {
    "duration": 4,
    "start_time": "2023-04-22T06:40:05.714Z"
   },
   {
    "duration": 60,
    "start_time": "2023-04-22T06:40:05.719Z"
   },
   {
    "duration": 64,
    "start_time": "2023-04-22T06:40:05.781Z"
   },
   {
    "duration": 28,
    "start_time": "2023-04-22T06:40:05.847Z"
   },
   {
    "duration": 65,
    "start_time": "2023-04-22T06:40:05.878Z"
   },
   {
    "duration": 36,
    "start_time": "2023-04-22T06:40:05.945Z"
   },
   {
    "duration": 42,
    "start_time": "2023-04-22T06:40:05.983Z"
   },
   {
    "duration": 73,
    "start_time": "2023-04-22T06:40:06.028Z"
   },
   {
    "duration": 60,
    "start_time": "2023-04-22T06:40:06.103Z"
   },
   {
    "duration": 78,
    "start_time": "2023-04-22T06:40:06.165Z"
   },
   {
    "duration": 1212,
    "start_time": "2023-04-22T06:40:06.244Z"
   },
   {
    "duration": 1960,
    "start_time": "2023-04-22T06:40:07.479Z"
   },
   {
    "duration": 18,
    "start_time": "2023-04-22T06:40:09.472Z"
   },
   {
    "duration": 9329,
    "start_time": "2023-04-22T06:40:09.492Z"
   },
   {
    "duration": 966,
    "start_time": "2023-04-22T06:40:18.823Z"
   },
   {
    "duration": 2039,
    "start_time": "2023-04-22T06:40:19.793Z"
   },
   {
    "duration": 2084,
    "start_time": "2023-04-22T06:40:21.834Z"
   },
   {
    "duration": 512,
    "start_time": "2023-04-22T06:40:23.920Z"
   },
   {
    "duration": 1634,
    "start_time": "2023-04-22T06:40:24.434Z"
   },
   {
    "duration": 246,
    "start_time": "2023-04-22T06:40:26.081Z"
   }
  ],
  "colab": {
   "name": "PySparkSprint.ipynb",
   "provenance": []
  },
  "kernelspec": {
   "display_name": "Python 3 (ipykernel)",
   "language": "python",
   "name": "python3"
  },
  "language_info": {
   "codemirror_mode": {
    "name": "ipython",
    "version": 3
   },
   "file_extension": ".py",
   "mimetype": "text/x-python",
   "name": "python",
   "nbconvert_exporter": "python",
   "pygments_lexer": "ipython3",
   "version": "3.9.13"
  },
  "toc": {
   "base_numbering": 1,
   "nav_menu": {},
   "number_sections": true,
   "sideBar": true,
   "skip_h1_title": true,
   "title_cell": "Table of Contents",
   "title_sidebar": "Contents",
   "toc_cell": false,
   "toc_position": {
    "height": "calc(100% - 180px)",
    "left": "10px",
    "top": "150px",
    "width": "487.594px"
   },
   "toc_section_display": true,
   "toc_window_display": true
  }
 },
 "nbformat": 4,
 "nbformat_minor": 5
}
