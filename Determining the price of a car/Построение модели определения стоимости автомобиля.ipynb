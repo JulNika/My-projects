{
 "cells": [
  {
   "cell_type": "markdown",
   "metadata": {},
   "source": [
    "# Построение модели определения стоимости автомобиля"
   ]
  },
  {
   "cell_type": "markdown",
   "metadata": {},
   "source": [
    "Сервис по продаже автомобилей с пробегом «Не бит, не крашен» разрабатывает приложение для привлечения новых клиентов. В нём можно быстро узнать рыночную стоимость своего автомобиля. В вашем распоряжении исторические данные: технические характеристики, комплектации и цены автомобилей. Вам нужно построить модель для определения стоимости. \n",
    "\n",
    "Заказчику важны:\n",
    "\n",
    "- качество предсказания;\n",
    "- скорость предсказания;\n",
    "- время обучения."
   ]
  },
  {
   "cell_type": "markdown",
   "metadata": {},
   "source": [
    "***Описание проекта***\n",
    "\n",
    "Сервис по продаже автомобилей с пробегом «Не бит, не крашен» разрабатывает приложение для привлечения новых клиентов. В нём можно быстро узнать рыночную стоимость своего автомобиля. В вашем распоряжении исторические данные: технические характеристики, комплектации и цены автомобилей. Перед нами стояла задача- построить модель для определения стоимости автомобиля, с лушими показателями качества предсказания, скорости и врмени обучения. В нашем распоряжении были исторические данные: технические характеристики, комплектации и цены автомобилей.\n",
    "\n",
    "Мы использовали технологию градиетного бустинга в моделях CatBoostRegressor и LightGBM, и сравнили её с базовыми моделями LinearRegression и RandomForestRegressor\n",
    "\n",
    "По итогам качества и скорости обучения на тестовых данных - с небольшим отрывом от CatBoostRegressor побеждает модель LightGBM, но сильно уступает по скорости предсказания.\n",
    "\n",
    "Таким образом для компании \"Не бит, не крашен\" можем смело рекомендовать модель CatBoostRegressor, т.к. можно немного поступиться со скоростью обучения в пользу достижения скорости работы на новых данных при сохранении приблизительно тех же показателей по качеству предсказания\n",
    "\n",
    "Описание данных\n",
    "Данные находятся в файле /datasets/autos.csv. Скачать датасет. \n",
    "\n",
    "Признаки\n",
    " - DateCrawled — дата скачивания анкеты из базы\n",
    " - VehicleType — тип автомобильного кузова\n",
    " - RegistrationYear — год регистрации автомобиля\n",
    " - Gearbox — тип коробки передач\n",
    " - Power — мощность (л. с.)\n",
    " - Model — модель автомобиля\n",
    " - Kilometer — пробег (км)\n",
    " - RegistrationMonth — месяц регистрации автомобиля\n",
    " - FuelType — тип топлива\n",
    " - Brand — марка автомобиля\n",
    " - Repaired — была машина в ремонте или нет\n",
    " - DateCreated — дата создания анкеты\n",
    " - NumberOfPictures — количество фотографий автомобиля\n",
    " - PostalCode — почтовый индекс владельца анкеты (пользователя)\n",
    " - LastSeen — дата последней активности пользователя\n",
    " \n",
    "  Целевой признак\n",
    " - Price — цена (евро)\n",
    " \n",
    " \n",
    "***Этапы работы***\n",
    "В данном прокте будет решать задаса регрессии- определении цены автомобиля на основании известных параментров.\n",
    "\n",
    "Основные этапы работы будут такие:\n",
    "1. Анализ данных на анамалии   и предобработка - работа с пропусками и дубликатами.\n",
    "2. Кодированные разными способами под разные виды ML\n",
    "3. Масштабирование\n",
    "4. Разбиение данных на обучающую, валидационную и тестову.\n",
    "5. Обучим и оценим RMSE, время  обучения и время предсказания сдедующих моделеей:\n",
    " - LinearRegression\n",
    " - DecisionTreeRegressor\n",
    " - CatBoostRegressor\n",
    " - LGBMRegressor\n",
    "6. Соберем параменты качества и время обучения в однин датафрейм и сделаем финальный вывод и рекомендацию по лучшей модели"
   ]
  },
  {
   "cell_type": "markdown",
   "metadata": {},
   "source": [
    "## Подготовка данных"
   ]
  },
  {
   "cell_type": "code",
   "execution_count": 1,
   "metadata": {},
   "outputs": [
    {
     "name": "stdout",
     "output_type": "stream",
     "text": [
      "3.9.5\n"
     ]
    }
   ],
   "source": [
    "#загрузка библиотек, методов и пр.\n",
    "import sklearn\n",
    "import pandas as pd\n",
    "import time\n",
    "import matplotlib.pyplot as plt\n",
    "import numpy as np\n",
    "import seaborn as sns\n",
    "#import warnings\n",
    "#warnings.filterwarnings(\"ignore\")\n",
    "\n",
    "from sklearn.model_selection import train_test_split, GridSearchCV\n",
    "from sklearn.preprocessing import OneHotEncoder, StandardScaler,OrdinalEncoder\n",
    "from scipy.stats import randint\n",
    "from sklearn.linear_model import LinearRegression\n",
    "from sklearn.tree import DecisionTreeRegressor\n",
    "from catboost import CatBoostRegressor\n",
    "from lightgbm import LGBMRegressor\n",
    "from sklearn.metrics import mean_absolute_error,mean_squared_error\n",
    "import matplotlib.pyplot as plt\n",
    "\n",
    "from platform import python_version\n",
    "\n",
    "print(python_version())"
   ]
  },
  {
   "cell_type": "code",
   "execution_count": 2,
   "metadata": {},
   "outputs": [
    {
     "data": {
      "text/html": [
       "<div>\n",
       "<style scoped>\n",
       "    .dataframe tbody tr th:only-of-type {\n",
       "        vertical-align: middle;\n",
       "    }\n",
       "\n",
       "    .dataframe tbody tr th {\n",
       "        vertical-align: top;\n",
       "    }\n",
       "\n",
       "    .dataframe thead th {\n",
       "        text-align: right;\n",
       "    }\n",
       "</style>\n",
       "<table border=\"1\" class=\"dataframe\">\n",
       "  <thead>\n",
       "    <tr style=\"text-align: right;\">\n",
       "      <th></th>\n",
       "      <th>DateCrawled</th>\n",
       "      <th>Price</th>\n",
       "      <th>VehicleType</th>\n",
       "      <th>RegistrationYear</th>\n",
       "      <th>Gearbox</th>\n",
       "      <th>Power</th>\n",
       "      <th>Model</th>\n",
       "      <th>Kilometer</th>\n",
       "      <th>RegistrationMonth</th>\n",
       "      <th>FuelType</th>\n",
       "      <th>Brand</th>\n",
       "      <th>Repaired</th>\n",
       "      <th>DateCreated</th>\n",
       "      <th>NumberOfPictures</th>\n",
       "      <th>PostalCode</th>\n",
       "      <th>LastSeen</th>\n",
       "    </tr>\n",
       "  </thead>\n",
       "  <tbody>\n",
       "    <tr>\n",
       "      <th>0</th>\n",
       "      <td>2016-03-24 11:52:17</td>\n",
       "      <td>480</td>\n",
       "      <td>NaN</td>\n",
       "      <td>1993</td>\n",
       "      <td>manual</td>\n",
       "      <td>0</td>\n",
       "      <td>golf</td>\n",
       "      <td>150000</td>\n",
       "      <td>0</td>\n",
       "      <td>petrol</td>\n",
       "      <td>volkswagen</td>\n",
       "      <td>NaN</td>\n",
       "      <td>2016-03-24 00:00:00</td>\n",
       "      <td>0</td>\n",
       "      <td>70435</td>\n",
       "      <td>2016-04-07 03:16:57</td>\n",
       "    </tr>\n",
       "    <tr>\n",
       "      <th>1</th>\n",
       "      <td>2016-03-24 10:58:45</td>\n",
       "      <td>18300</td>\n",
       "      <td>coupe</td>\n",
       "      <td>2011</td>\n",
       "      <td>manual</td>\n",
       "      <td>190</td>\n",
       "      <td>NaN</td>\n",
       "      <td>125000</td>\n",
       "      <td>5</td>\n",
       "      <td>gasoline</td>\n",
       "      <td>audi</td>\n",
       "      <td>yes</td>\n",
       "      <td>2016-03-24 00:00:00</td>\n",
       "      <td>0</td>\n",
       "      <td>66954</td>\n",
       "      <td>2016-04-07 01:46:50</td>\n",
       "    </tr>\n",
       "    <tr>\n",
       "      <th>2</th>\n",
       "      <td>2016-03-14 12:52:21</td>\n",
       "      <td>9800</td>\n",
       "      <td>suv</td>\n",
       "      <td>2004</td>\n",
       "      <td>auto</td>\n",
       "      <td>163</td>\n",
       "      <td>grand</td>\n",
       "      <td>125000</td>\n",
       "      <td>8</td>\n",
       "      <td>gasoline</td>\n",
       "      <td>jeep</td>\n",
       "      <td>NaN</td>\n",
       "      <td>2016-03-14 00:00:00</td>\n",
       "      <td>0</td>\n",
       "      <td>90480</td>\n",
       "      <td>2016-04-05 12:47:46</td>\n",
       "    </tr>\n",
       "    <tr>\n",
       "      <th>3</th>\n",
       "      <td>2016-03-17 16:54:04</td>\n",
       "      <td>1500</td>\n",
       "      <td>small</td>\n",
       "      <td>2001</td>\n",
       "      <td>manual</td>\n",
       "      <td>75</td>\n",
       "      <td>golf</td>\n",
       "      <td>150000</td>\n",
       "      <td>6</td>\n",
       "      <td>petrol</td>\n",
       "      <td>volkswagen</td>\n",
       "      <td>no</td>\n",
       "      <td>2016-03-17 00:00:00</td>\n",
       "      <td>0</td>\n",
       "      <td>91074</td>\n",
       "      <td>2016-03-17 17:40:17</td>\n",
       "    </tr>\n",
       "    <tr>\n",
       "      <th>4</th>\n",
       "      <td>2016-03-31 17:25:20</td>\n",
       "      <td>3600</td>\n",
       "      <td>small</td>\n",
       "      <td>2008</td>\n",
       "      <td>manual</td>\n",
       "      <td>69</td>\n",
       "      <td>fabia</td>\n",
       "      <td>90000</td>\n",
       "      <td>7</td>\n",
       "      <td>gasoline</td>\n",
       "      <td>skoda</td>\n",
       "      <td>no</td>\n",
       "      <td>2016-03-31 00:00:00</td>\n",
       "      <td>0</td>\n",
       "      <td>60437</td>\n",
       "      <td>2016-04-06 10:17:21</td>\n",
       "    </tr>\n",
       "  </tbody>\n",
       "</table>\n",
       "</div>"
      ],
      "text/plain": [
       "           DateCrawled  Price VehicleType  RegistrationYear Gearbox  Power  \\\n",
       "0  2016-03-24 11:52:17    480         NaN              1993  manual      0   \n",
       "1  2016-03-24 10:58:45  18300       coupe              2011  manual    190   \n",
       "2  2016-03-14 12:52:21   9800         suv              2004    auto    163   \n",
       "3  2016-03-17 16:54:04   1500       small              2001  manual     75   \n",
       "4  2016-03-31 17:25:20   3600       small              2008  manual     69   \n",
       "\n",
       "   Model  Kilometer  RegistrationMonth  FuelType       Brand Repaired  \\\n",
       "0   golf     150000                  0    petrol  volkswagen      NaN   \n",
       "1    NaN     125000                  5  gasoline        audi      yes   \n",
       "2  grand     125000                  8  gasoline        jeep      NaN   \n",
       "3   golf     150000                  6    petrol  volkswagen       no   \n",
       "4  fabia      90000                  7  gasoline       skoda       no   \n",
       "\n",
       "           DateCreated  NumberOfPictures  PostalCode             LastSeen  \n",
       "0  2016-03-24 00:00:00                 0       70435  2016-04-07 03:16:57  \n",
       "1  2016-03-24 00:00:00                 0       66954  2016-04-07 01:46:50  \n",
       "2  2016-03-14 00:00:00                 0       90480  2016-04-05 12:47:46  \n",
       "3  2016-03-17 00:00:00                 0       91074  2016-03-17 17:40:17  \n",
       "4  2016-03-31 00:00:00                 0       60437  2016-04-06 10:17:21  "
      ]
     },
     "execution_count": 2,
     "metadata": {},
     "output_type": "execute_result"
    }
   ],
   "source": [
    "#загрузка данны\n",
    "data = pd.read_csv('/datasets/autos.csv')\n",
    "data.head()"
   ]
  },
  {
   "cell_type": "code",
   "execution_count": 3,
   "metadata": {
    "scrolled": true
   },
   "outputs": [
    {
     "data": {
      "text/html": [
       "<div>\n",
       "<style scoped>\n",
       "    .dataframe tbody tr th:only-of-type {\n",
       "        vertical-align: middle;\n",
       "    }\n",
       "\n",
       "    .dataframe tbody tr th {\n",
       "        vertical-align: top;\n",
       "    }\n",
       "\n",
       "    .dataframe thead th {\n",
       "        text-align: right;\n",
       "    }\n",
       "</style>\n",
       "<table border=\"1\" class=\"dataframe\">\n",
       "  <thead>\n",
       "    <tr style=\"text-align: right;\">\n",
       "      <th></th>\n",
       "      <th>Price</th>\n",
       "      <th>RegistrationYear</th>\n",
       "      <th>Power</th>\n",
       "      <th>Kilometer</th>\n",
       "      <th>RegistrationMonth</th>\n",
       "      <th>NumberOfPictures</th>\n",
       "      <th>PostalCode</th>\n",
       "    </tr>\n",
       "  </thead>\n",
       "  <tbody>\n",
       "    <tr>\n",
       "      <th>count</th>\n",
       "      <td>354369.000000</td>\n",
       "      <td>354369.000000</td>\n",
       "      <td>354369.000000</td>\n",
       "      <td>354369.000000</td>\n",
       "      <td>354369.000000</td>\n",
       "      <td>354369.0</td>\n",
       "      <td>354369.000000</td>\n",
       "    </tr>\n",
       "    <tr>\n",
       "      <th>mean</th>\n",
       "      <td>4416.656776</td>\n",
       "      <td>2004.234448</td>\n",
       "      <td>110.094337</td>\n",
       "      <td>128211.172535</td>\n",
       "      <td>5.714645</td>\n",
       "      <td>0.0</td>\n",
       "      <td>50508.689087</td>\n",
       "    </tr>\n",
       "    <tr>\n",
       "      <th>std</th>\n",
       "      <td>4514.158514</td>\n",
       "      <td>90.227958</td>\n",
       "      <td>189.850405</td>\n",
       "      <td>37905.341530</td>\n",
       "      <td>3.726421</td>\n",
       "      <td>0.0</td>\n",
       "      <td>25783.096248</td>\n",
       "    </tr>\n",
       "    <tr>\n",
       "      <th>min</th>\n",
       "      <td>0.000000</td>\n",
       "      <td>1000.000000</td>\n",
       "      <td>0.000000</td>\n",
       "      <td>5000.000000</td>\n",
       "      <td>0.000000</td>\n",
       "      <td>0.0</td>\n",
       "      <td>1067.000000</td>\n",
       "    </tr>\n",
       "    <tr>\n",
       "      <th>25%</th>\n",
       "      <td>1050.000000</td>\n",
       "      <td>1999.000000</td>\n",
       "      <td>69.000000</td>\n",
       "      <td>125000.000000</td>\n",
       "      <td>3.000000</td>\n",
       "      <td>0.0</td>\n",
       "      <td>30165.000000</td>\n",
       "    </tr>\n",
       "    <tr>\n",
       "      <th>50%</th>\n",
       "      <td>2700.000000</td>\n",
       "      <td>2003.000000</td>\n",
       "      <td>105.000000</td>\n",
       "      <td>150000.000000</td>\n",
       "      <td>6.000000</td>\n",
       "      <td>0.0</td>\n",
       "      <td>49413.000000</td>\n",
       "    </tr>\n",
       "    <tr>\n",
       "      <th>75%</th>\n",
       "      <td>6400.000000</td>\n",
       "      <td>2008.000000</td>\n",
       "      <td>143.000000</td>\n",
       "      <td>150000.000000</td>\n",
       "      <td>9.000000</td>\n",
       "      <td>0.0</td>\n",
       "      <td>71083.000000</td>\n",
       "    </tr>\n",
       "    <tr>\n",
       "      <th>max</th>\n",
       "      <td>20000.000000</td>\n",
       "      <td>9999.000000</td>\n",
       "      <td>20000.000000</td>\n",
       "      <td>150000.000000</td>\n",
       "      <td>12.000000</td>\n",
       "      <td>0.0</td>\n",
       "      <td>99998.000000</td>\n",
       "    </tr>\n",
       "  </tbody>\n",
       "</table>\n",
       "</div>"
      ],
      "text/plain": [
       "               Price  RegistrationYear          Power      Kilometer  \\\n",
       "count  354369.000000     354369.000000  354369.000000  354369.000000   \n",
       "mean     4416.656776       2004.234448     110.094337  128211.172535   \n",
       "std      4514.158514         90.227958     189.850405   37905.341530   \n",
       "min         0.000000       1000.000000       0.000000    5000.000000   \n",
       "25%      1050.000000       1999.000000      69.000000  125000.000000   \n",
       "50%      2700.000000       2003.000000     105.000000  150000.000000   \n",
       "75%      6400.000000       2008.000000     143.000000  150000.000000   \n",
       "max     20000.000000       9999.000000   20000.000000  150000.000000   \n",
       "\n",
       "       RegistrationMonth  NumberOfPictures     PostalCode  \n",
       "count      354369.000000          354369.0  354369.000000  \n",
       "mean            5.714645               0.0   50508.689087  \n",
       "std             3.726421               0.0   25783.096248  \n",
       "min             0.000000               0.0    1067.000000  \n",
       "25%             3.000000               0.0   30165.000000  \n",
       "50%             6.000000               0.0   49413.000000  \n",
       "75%             9.000000               0.0   71083.000000  \n",
       "max            12.000000               0.0   99998.000000  "
      ]
     },
     "execution_count": 3,
     "metadata": {},
     "output_type": "execute_result"
    }
   ],
   "source": [
    "#посмотрим описание\n",
    "data.describe()"
   ]
  },
  {
   "cell_type": "markdown",
   "metadata": {},
   "source": [
    "Вывод: в данных есть пропуски и нулевые значения, следовательно надо будет провести их предобработку и проверить данные на наличие аномалий."
   ]
  },
  {
   "cell_type": "code",
   "execution_count": 4,
   "metadata": {},
   "outputs": [
    {
     "name": "stdout",
     "output_type": "stream",
     "text": [
      "<class 'pandas.core.frame.DataFrame'>\n",
      "RangeIndex: 354369 entries, 0 to 354368\n",
      "Data columns (total 16 columns):\n",
      " #   Column             Non-Null Count   Dtype \n",
      "---  ------             --------------   ----- \n",
      " 0   DateCrawled        354369 non-null  object\n",
      " 1   Price              354369 non-null  int64 \n",
      " 2   VehicleType        316879 non-null  object\n",
      " 3   RegistrationYear   354369 non-null  int64 \n",
      " 4   Gearbox            334536 non-null  object\n",
      " 5   Power              354369 non-null  int64 \n",
      " 6   Model              334664 non-null  object\n",
      " 7   Kilometer          354369 non-null  int64 \n",
      " 8   RegistrationMonth  354369 non-null  int64 \n",
      " 9   FuelType           321474 non-null  object\n",
      " 10  Brand              354369 non-null  object\n",
      " 11  Repaired           283215 non-null  object\n",
      " 12  DateCreated        354369 non-null  object\n",
      " 13  NumberOfPictures   354369 non-null  int64 \n",
      " 14  PostalCode         354369 non-null  int64 \n",
      " 15  LastSeen           354369 non-null  object\n",
      "dtypes: int64(7), object(9)\n",
      "memory usage: 43.3+ MB\n"
     ]
    }
   ],
   "source": [
    "data.info()"
   ]
  },
  {
   "cell_type": "markdown",
   "metadata": {},
   "source": [
    "***Удаление дубликатов и неинформативных признаков***"
   ]
  },
  {
   "cell_type": "code",
   "execution_count": 5,
   "metadata": {},
   "outputs": [
    {
     "name": "stdout",
     "output_type": "stream",
     "text": [
      "4\n"
     ]
    }
   ],
   "source": [
    "#оценим наличие полных дубликатов\n",
    "print(data.duplicated().sum())"
   ]
  },
  {
   "cell_type": "code",
   "execution_count": 6,
   "metadata": {},
   "outputs": [
    {
     "name": "stdout",
     "output_type": "stream",
     "text": [
      "0\n"
     ]
    }
   ],
   "source": [
    "#удаление полных дубликатов и проверка\n",
    "data = data.drop_duplicates().reset_index(drop=True) \n",
    "print(data.duplicated().sum())"
   ]
  },
  {
   "cell_type": "code",
   "execution_count": 7,
   "metadata": {},
   "outputs": [
    {
     "data": {
      "text/plain": [
       "volkswagen        77012\n",
       "opel              39931\n",
       "bmw               36914\n",
       "mercedes_benz     32044\n",
       "audi              29456\n",
       "ford              25179\n",
       "renault           17927\n",
       "peugeot           10998\n",
       "fiat               9643\n",
       "seat               6907\n",
       "mazda              5615\n",
       "skoda              5500\n",
       "smart              5246\n",
       "citroen            5148\n",
       "nissan             4941\n",
       "toyota             4606\n",
       "hyundai            3587\n",
       "sonstige_autos     3374\n",
       "volvo              3210\n",
       "mini               3202\n",
       "mitsubishi         3022\n",
       "honda              2817\n",
       "kia                2465\n",
       "suzuki             2322\n",
       "alfa_romeo         2314\n",
       "chevrolet          1754\n",
       "chrysler           1439\n",
       "dacia               900\n",
       "daihatsu            806\n",
       "subaru              762\n",
       "porsche             758\n",
       "jeep                677\n",
       "trabant             589\n",
       "land_rover          545\n",
       "daewoo              542\n",
       "saab                526\n",
       "jaguar              505\n",
       "rover               486\n",
       "lancia              471\n",
       "lada                225\n",
       "Name: Brand, dtype: int64"
      ]
     },
     "execution_count": 7,
     "metadata": {},
     "output_type": "execute_result"
    }
   ],
   "source": [
    "#посмотрим уникальные значения по колонкам и проверим на наличие неявных дубликатов.\n",
    "data.Brand.value_counts()"
   ]
  },
  {
   "cell_type": "code",
   "execution_count": 8,
   "metadata": {},
   "outputs": [],
   "source": [
    "#заменим неявные дубликаты в колонке Brand\n",
    "#заменим rover на land_orver\n",
    "data['Brand'] = data['Brand'].replace('rover', 'land_rover')"
   ]
  },
  {
   "cell_type": "code",
   "execution_count": 9,
   "metadata": {},
   "outputs": [
    {
     "data": {
      "text/plain": [
       "array(['volkswagen', 'audi', 'jeep', 'skoda', 'bmw', 'peugeot', 'ford',\n",
       "       'mazda', 'nissan', 'renault', 'mercedes_benz', 'opel', 'seat',\n",
       "       'citroen', 'honda', 'fiat', 'mini', 'smart', 'hyundai',\n",
       "       'sonstige_autos', 'alfa_romeo', 'subaru', 'volvo', 'mitsubishi',\n",
       "       'kia', 'suzuki', 'lancia', 'toyota', 'chevrolet', 'dacia',\n",
       "       'daihatsu', 'trabant', 'saab', 'chrysler', 'jaguar', 'daewoo',\n",
       "       'porsche', 'land_rover', 'lada'], dtype=object)"
      ]
     },
     "execution_count": 9,
     "metadata": {},
     "output_type": "execute_result"
    }
   ],
   "source": [
    "#провекар успешности замены неявного дубоиката rover на land_orver\n",
    "data['Brand'].unique()"
   ]
  },
  {
   "cell_type": "code",
   "execution_count": 10,
   "metadata": {},
   "outputs": [
    {
     "data": {
      "text/plain": [
       "array(['golf', nan, 'grand', 'fabia', '3er', '2_reihe', 'other', 'c_max',\n",
       "       '3_reihe', 'passat', 'navara', 'ka', 'polo', 'twingo', 'a_klasse',\n",
       "       'scirocco', '5er', 'meriva', 'arosa', 'c4', 'civic', 'transporter',\n",
       "       'punto', 'e_klasse', 'clio', 'kadett', 'kangoo', 'corsa', 'one',\n",
       "       'fortwo', '1er', 'b_klasse', 'signum', 'astra', 'a8', 'jetta',\n",
       "       'fiesta', 'c_klasse', 'micra', 'vito', 'sprinter', '156', 'escort',\n",
       "       'forester', 'xc_reihe', 'scenic', 'a4', 'a1', 'insignia', 'combo',\n",
       "       'focus', 'tt', 'a6', 'jazz', 'omega', 'slk', '7er', '80', '147',\n",
       "       '100', 'z_reihe', 'sportage', 'sorento', 'v40', 'ibiza', 'mustang',\n",
       "       'eos', 'touran', 'getz', 'a3', 'almera', 'megane', 'lupo', 'r19',\n",
       "       'zafira', 'caddy', 'mondeo', 'cordoba', 'colt', 'impreza',\n",
       "       'vectra', 'berlingo', 'tiguan', 'i_reihe', 'espace', 'sharan',\n",
       "       '6_reihe', 'panda', 'up', 'seicento', 'ceed', '5_reihe', 'yeti',\n",
       "       'octavia', 'mii', 'rx_reihe', '6er', 'modus', 'fox', 'matiz',\n",
       "       'beetle', 'c1', 'rio', 'touareg', 'logan', 'spider', 'cuore',\n",
       "       's_max', 'a2', 'galaxy', 'c3', 'viano', 's_klasse', '1_reihe',\n",
       "       'avensis', 'roomster', 'sl', 'kaefer', 'santa', 'cooper', 'leon',\n",
       "       '4_reihe', 'a5', '500', 'laguna', 'ptcruiser', 'clk', 'primera',\n",
       "       'x_reihe', 'exeo', '159', 'transit', 'juke', 'qashqai', 'carisma',\n",
       "       'accord', 'corolla', 'lanos', 'phaeton', 'verso', 'swift', 'rav',\n",
       "       'picanto', 'boxster', 'kalos', 'superb', 'stilo', 'alhambra',\n",
       "       'mx_reihe', 'roadster', 'ypsilon', 'cayenne', 'galant', 'justy',\n",
       "       '90', 'sirion', 'crossfire', 'agila', 'duster', 'cr_reihe', 'v50',\n",
       "       'c_reihe', 'v_klasse', 'm_klasse', 'yaris', 'c5', 'aygo', 'cc',\n",
       "       'carnival', 'fusion', '911', 'bora', 'forfour', 'm_reihe', 'cl',\n",
       "       'tigra', '300c', 'spark', 'v70', 'kuga', 'x_type', 'ducato',\n",
       "       's_type', 'x_trail', 'toledo', 'altea', 'voyager', 'calibra',\n",
       "       'bravo', 'antara', 'tucson', 'citigo', 'jimny', 'wrangler',\n",
       "       'lybra', 'q7', 'lancer', 'captiva', 'c2', 'discovery',\n",
       "       'freelander', 'sandero', 'note', '900', 'cherokee', 'clubman',\n",
       "       'samara', 'defender', '601', 'cx_reihe', 'legacy', 'pajero',\n",
       "       'auris', 'niva', 's60', 'nubira', 'vivaro', 'g_klasse', 'lodgy',\n",
       "       '850', 'range_rover', 'q3', 'serie_2', 'glk', 'charade', 'croma',\n",
       "       'outlander', 'doblo', 'musa', 'move', '9000', 'v60', '145', 'aveo',\n",
       "       '200', 'b_max', 'range_rover_sport', 'terios', 'rangerover', 'q5',\n",
       "       'range_rover_evoque', 'materia', 'delta', 'gl', 'kalina', 'amarok',\n",
       "       'elefantino', 'i3', 'kappa', 'serie_3', 'serie_1'], dtype=object)"
      ]
     },
     "execution_count": 10,
     "metadata": {},
     "output_type": "execute_result"
    }
   ],
   "source": [
    "data['Model'].unique()"
   ]
  },
  {
   "cell_type": "code",
   "execution_count": 11,
   "metadata": {},
   "outputs": [
    {
     "name": "stdout",
     "output_type": "stream",
     "text": [
      "VehicleType: [nan 'coupe' 'suv' 'small' 'sedan' 'convertible' 'bus' 'wagon' 'other']\n",
      " \n",
      "Gearbox: ['manual' 'auto' nan]\n",
      " \n",
      "Model: ['golf' nan 'grand' 'fabia' '3er' '2_reihe' 'other' 'c_max' '3_reihe'\n",
      " 'passat' 'navara' 'ka' 'polo' 'twingo' 'a_klasse' 'scirocco' '5er'\n",
      " 'meriva' 'arosa' 'c4' 'civic' 'transporter' 'punto' 'e_klasse' 'clio'\n",
      " 'kadett' 'kangoo' 'corsa' 'one' 'fortwo' '1er' 'b_klasse' 'signum'\n",
      " 'astra' 'a8' 'jetta' 'fiesta' 'c_klasse' 'micra' 'vito' 'sprinter' '156'\n",
      " 'escort' 'forester' 'xc_reihe' 'scenic' 'a4' 'a1' 'insignia' 'combo'\n",
      " 'focus' 'tt' 'a6' 'jazz' 'omega' 'slk' '7er' '80' '147' '100' 'z_reihe'\n",
      " 'sportage' 'sorento' 'v40' 'ibiza' 'mustang' 'eos' 'touran' 'getz' 'a3'\n",
      " 'almera' 'megane' 'lupo' 'r19' 'zafira' 'caddy' 'mondeo' 'cordoba' 'colt'\n",
      " 'impreza' 'vectra' 'berlingo' 'tiguan' 'i_reihe' 'espace' 'sharan'\n",
      " '6_reihe' 'panda' 'up' 'seicento' 'ceed' '5_reihe' 'yeti' 'octavia' 'mii'\n",
      " 'rx_reihe' '6er' 'modus' 'fox' 'matiz' 'beetle' 'c1' 'rio' 'touareg'\n",
      " 'logan' 'spider' 'cuore' 's_max' 'a2' 'galaxy' 'c3' 'viano' 's_klasse'\n",
      " '1_reihe' 'avensis' 'roomster' 'sl' 'kaefer' 'santa' 'cooper' 'leon'\n",
      " '4_reihe' 'a5' '500' 'laguna' 'ptcruiser' 'clk' 'primera' 'x_reihe'\n",
      " 'exeo' '159' 'transit' 'juke' 'qashqai' 'carisma' 'accord' 'corolla'\n",
      " 'lanos' 'phaeton' 'verso' 'swift' 'rav' 'picanto' 'boxster' 'kalos'\n",
      " 'superb' 'stilo' 'alhambra' 'mx_reihe' 'roadster' 'ypsilon' 'cayenne'\n",
      " 'galant' 'justy' '90' 'sirion' 'crossfire' 'agila' 'duster' 'cr_reihe'\n",
      " 'v50' 'c_reihe' 'v_klasse' 'm_klasse' 'yaris' 'c5' 'aygo' 'cc' 'carnival'\n",
      " 'fusion' '911' 'bora' 'forfour' 'm_reihe' 'cl' 'tigra' '300c' 'spark'\n",
      " 'v70' 'kuga' 'x_type' 'ducato' 's_type' 'x_trail' 'toledo' 'altea'\n",
      " 'voyager' 'calibra' 'bravo' 'antara' 'tucson' 'citigo' 'jimny' 'wrangler'\n",
      " 'lybra' 'q7' 'lancer' 'captiva' 'c2' 'discovery' 'freelander' 'sandero'\n",
      " 'note' '900' 'cherokee' 'clubman' 'samara' 'defender' '601' 'cx_reihe'\n",
      " 'legacy' 'pajero' 'auris' 'niva' 's60' 'nubira' 'vivaro' 'g_klasse'\n",
      " 'lodgy' '850' 'range_rover' 'q3' 'serie_2' 'glk' 'charade' 'croma'\n",
      " 'outlander' 'doblo' 'musa' 'move' '9000' 'v60' '145' 'aveo' '200' 'b_max'\n",
      " 'range_rover_sport' 'terios' 'rangerover' 'q5' 'range_rover_evoque'\n",
      " 'materia' 'delta' 'gl' 'kalina' 'amarok' 'elefantino' 'i3' 'kappa'\n",
      " 'serie_3' 'serie_1']\n",
      " \n",
      "FuelType: ['petrol' 'gasoline' nan 'lpg' 'other' 'hybrid' 'cng' 'electric']\n",
      " \n",
      "Repaired: [nan 'yes' 'no']\n",
      " \n",
      "NumberOfPictures: [0]\n",
      " \n",
      "RegistrationMonth: [ 0  5  8  6  7 10 12 11  2  3  1  4  9]\n",
      " \n",
      "RegistrationYear: [1993 2011 2004 2001 2008 1995 1980 2014 1998 2005 1910 2016 2007 2009\n",
      " 2002 2018 1997 1990 2017 1981 2003 1994 1991 1984 2006 1999 2012 2010\n",
      " 2000 1992 2013 1996 1985 1989 2015 1982 1976 1983 1973 1111 1969 1971\n",
      " 1987 1986 1988 1970 1965 1945 1925 1974 1979 1955 1978 1972 1968 1977\n",
      " 1961 1960 1966 1975 1963 1964 5000 1954 1958 1967 1959 9999 1956 3200\n",
      " 1000 1941 8888 1500 2200 4100 1962 1929 1957 1940 3000 2066 1949 2019\n",
      " 1937 1951 1800 1953 1234 8000 5300 9000 2900 6000 5900 5911 1933 1400\n",
      " 1950 4000 1948 1952 1200 8500 1932 1255 3700 3800 4800 1942 7000 1935\n",
      " 1936 6500 1923 2290 2500 1930 1001 9450 1944 1943 1934 1938 1688 2800\n",
      " 1253 1928 1919 5555 5600 1600 2222 1039 9996 1300 8455 1931 1915 4500\n",
      " 1920 1602 7800 9229 1947 1927 7100 8200 1946 7500 3500]\n"
     ]
    }
   ],
   "source": [
    "#посмотрим уникальные значения по тем, колонкам\n",
    "print ('VehicleType:', data['VehicleType'].unique())\n",
    "print (' ')\n",
    "print ('Gearbox:', data['Gearbox'].unique())\n",
    "print (' ')\n",
    "print ('Model:', data['Model'].unique())\n",
    "print (' ')\n",
    "print ('FuelType:', data['FuelType'].unique())\n",
    "print (' ')\n",
    "print ('Repaired:', data['Repaired'].unique())\n",
    "print (' ')\n",
    "print ('NumberOfPictures:', data['NumberOfPictures'].unique())\n",
    "print (' ')\n",
    "print ('RegistrationMonth:', data['RegistrationMonth'].unique())\n",
    "print (' ')\n",
    "print ('RegistrationYear:', data['RegistrationYear'].unique())"
   ]
  },
  {
   "cell_type": "code",
   "execution_count": 12,
   "metadata": {},
   "outputs": [],
   "source": [
    "#удаление неинформативные признаки: DateCrawled,  DateCreated, PostalCode, LastSeen, NumberOfPictures, \n",
    "#так как они не влияют на стоимость автомобиля\n",
    "\n",
    "\n",
    "data = data.drop(columns=['DateCrawled','DateCreated','PostalCode', 'LastSeen', 'NumberOfPictures', 'RegistrationMonth']) \n"
   ]
  },
  {
   "cell_type": "markdown",
   "metadata": {},
   "source": [
    "***Обработка пропусков***"
   ]
  },
  {
   "cell_type": "code",
   "execution_count": 13,
   "metadata": {},
   "outputs": [
    {
     "data": {
      "text/plain": [
       "Price                   0\n",
       "VehicleType         37490\n",
       "RegistrationYear        0\n",
       "Gearbox             19833\n",
       "Power                   0\n",
       "Model               19705\n",
       "Kilometer               0\n",
       "FuelType            32895\n",
       "Brand                   0\n",
       "Repaired            71154\n",
       "dtype: int64"
      ]
     },
     "execution_count": 13,
     "metadata": {},
     "output_type": "execute_result"
    }
   ],
   "source": [
    "#проверим наличие пропусков\n",
    "data.isnull().sum()"
   ]
  },
  {
   "cell_type": "markdown",
   "metadata": {},
   "source": [
    "Пропущенные данные в колонке VehicleType и FuelType - заменим на other, как уже сущестувующий варинат среди значений, в колонках Gearbox и Model - удалим пропуски, так как эти параметры основные при определеннии цены и владелец авто легко их может узнать.\n",
    "\n",
    "В пропуски в данных по графе Repaired - заменим на unknow, так как таких данных достаточно много, поэтому их удалять не будем\n",
    "\n",
    "\n"
   ]
  },
  {
   "cell_type": "code",
   "execution_count": 14,
   "metadata": {},
   "outputs": [],
   "source": [
    "#обработка пропусков \n",
    "\n",
    "#пропущенные данные в колонке VehicleType и FuelType заменим на other, так как other может включат в себя разные типы\n",
    "\n",
    "data['VehicleType'] = data['VehicleType'].fillna('other') \n",
    "data['FuelType'] = data['FuelType'].fillna('other') \n",
    "\n",
    "#посмотри на данные, где не указан Gearbox и Repaired\n",
    "data['Gearbox'] = data['Gearbox'].fillna('unknown') \n",
    "data['Repaired']=data['Repaired'].fillna('unknown')\n",
    "data['Model']=data['Model'].fillna('unknown')\n",
    "#data['VehicleType'] = data['VehicleType'].fillna('unknown') "
   ]
  },
  {
   "cell_type": "code",
   "execution_count": 15,
   "metadata": {},
   "outputs": [
    {
     "name": "stdout",
     "output_type": "stream",
     "text": [
      "<class 'pandas.core.frame.DataFrame'>\n",
      "RangeIndex: 354365 entries, 0 to 354364\n",
      "Data columns (total 10 columns):\n",
      " #   Column            Non-Null Count   Dtype \n",
      "---  ------            --------------   ----- \n",
      " 0   Price             354365 non-null  int64 \n",
      " 1   VehicleType       354365 non-null  object\n",
      " 2   RegistrationYear  354365 non-null  int64 \n",
      " 3   Gearbox           354365 non-null  object\n",
      " 4   Power             354365 non-null  int64 \n",
      " 5   Model             354365 non-null  object\n",
      " 6   Kilometer         354365 non-null  int64 \n",
      " 7   FuelType          354365 non-null  object\n",
      " 8   Brand             354365 non-null  object\n",
      " 9   Repaired          354365 non-null  object\n",
      "dtypes: int64(4), object(6)\n",
      "memory usage: 27.0+ MB\n"
     ]
    }
   ],
   "source": [
    "#значения в колонках  Gearbox, Repaired, Model важны при определении авто, скорее всего, они будут заполнены  клиентаим, \n",
    "#которые захотят оценить рыночную стоимость своего автомобиля точно знают этот параметр в своем авто, \n",
    "#поэтому пропущенные данные в этих колонках удаляем из таблицы\n",
    "\n",
    "#data = data.dropna(subset=['Model'])\n",
    "\n",
    "#проверим процент данных, которые были удалены\n",
    "data.info()"
   ]
  },
  {
   "cell_type": "code",
   "execution_count": 16,
   "metadata": {},
   "outputs": [
    {
     "name": "stdout",
     "output_type": "stream",
     "text": [
      "Gearbox: ['manual' 'auto' 'unknown']\n",
      " \n",
      "Repaired: ['unknown' 'yes' 'no']\n"
     ]
    }
   ],
   "source": [
    "#посмотрим уникальные значения по тем, колонкам, где планируем менять тип на bool \n",
    "\n",
    "print ('Gearbox:', data['Gearbox'].unique())\n",
    "print (' ')\n",
    "print ('Repaired:', data['Repaired'].unique())"
   ]
  },
  {
   "cell_type": "code",
   "execution_count": 17,
   "metadata": {},
   "outputs": [
    {
     "data": {
      "text/plain": [
       "Price               0\n",
       "VehicleType         0\n",
       "RegistrationYear    0\n",
       "Gearbox             0\n",
       "Power               0\n",
       "Model               0\n",
       "Kilometer           0\n",
       "FuelType            0\n",
       "Brand               0\n",
       "Repaired            0\n",
       "dtype: int64"
      ]
     },
     "execution_count": 17,
     "metadata": {},
     "output_type": "execute_result"
    }
   ],
   "source": [
    "#проверим сколько данных с пропусками осталось \n",
    "\n",
    "data.isnull().sum()"
   ]
  },
  {
   "cell_type": "code",
   "execution_count": 18,
   "metadata": {},
   "outputs": [
    {
     "name": "stdout",
     "output_type": "stream",
     "text": [
      "<class 'pandas.core.frame.DataFrame'>\n",
      "RangeIndex: 354365 entries, 0 to 354364\n",
      "Data columns (total 10 columns):\n",
      " #   Column            Non-Null Count   Dtype \n",
      "---  ------            --------------   ----- \n",
      " 0   Price             354365 non-null  int64 \n",
      " 1   VehicleType       354365 non-null  object\n",
      " 2   RegistrationYear  354365 non-null  int64 \n",
      " 3   Gearbox           354365 non-null  object\n",
      " 4   Power             354365 non-null  int64 \n",
      " 5   Model             354365 non-null  object\n",
      " 6   Kilometer         354365 non-null  int64 \n",
      " 7   FuelType          354365 non-null  object\n",
      " 8   Brand             354365 non-null  object\n",
      " 9   Repaired          354365 non-null  object\n",
      "dtypes: int64(4), object(6)\n",
      "memory usage: 27.0+ MB\n"
     ]
    }
   ],
   "source": [
    "data.info()"
   ]
  },
  {
   "cell_type": "markdown",
   "metadata": {},
   "source": [
    "***Анализ разброса данных***"
   ]
  },
  {
   "cell_type": "code",
   "execution_count": 19,
   "metadata": {},
   "outputs": [
    {
     "data": {
      "text/html": [
       "<div>\n",
       "<style scoped>\n",
       "    .dataframe tbody tr th:only-of-type {\n",
       "        vertical-align: middle;\n",
       "    }\n",
       "\n",
       "    .dataframe tbody tr th {\n",
       "        vertical-align: top;\n",
       "    }\n",
       "\n",
       "    .dataframe thead th {\n",
       "        text-align: right;\n",
       "    }\n",
       "</style>\n",
       "<table border=\"1\" class=\"dataframe\">\n",
       "  <thead>\n",
       "    <tr style=\"text-align: right;\">\n",
       "      <th></th>\n",
       "      <th>Price</th>\n",
       "      <th>RegistrationYear</th>\n",
       "      <th>Power</th>\n",
       "      <th>Kilometer</th>\n",
       "    </tr>\n",
       "  </thead>\n",
       "  <tbody>\n",
       "    <tr>\n",
       "      <th>count</th>\n",
       "      <td>354365.000000</td>\n",
       "      <td>354365.000000</td>\n",
       "      <td>354365.000000</td>\n",
       "      <td>354365.000000</td>\n",
       "    </tr>\n",
       "    <tr>\n",
       "      <th>mean</th>\n",
       "      <td>4416.679830</td>\n",
       "      <td>2004.234481</td>\n",
       "      <td>110.093816</td>\n",
       "      <td>128211.363989</td>\n",
       "    </tr>\n",
       "    <tr>\n",
       "      <th>std</th>\n",
       "      <td>4514.176349</td>\n",
       "      <td>90.228466</td>\n",
       "      <td>189.851330</td>\n",
       "      <td>37905.083858</td>\n",
       "    </tr>\n",
       "    <tr>\n",
       "      <th>min</th>\n",
       "      <td>0.000000</td>\n",
       "      <td>1000.000000</td>\n",
       "      <td>0.000000</td>\n",
       "      <td>5000.000000</td>\n",
       "    </tr>\n",
       "    <tr>\n",
       "      <th>25%</th>\n",
       "      <td>1050.000000</td>\n",
       "      <td>1999.000000</td>\n",
       "      <td>69.000000</td>\n",
       "      <td>125000.000000</td>\n",
       "    </tr>\n",
       "    <tr>\n",
       "      <th>50%</th>\n",
       "      <td>2700.000000</td>\n",
       "      <td>2003.000000</td>\n",
       "      <td>105.000000</td>\n",
       "      <td>150000.000000</td>\n",
       "    </tr>\n",
       "    <tr>\n",
       "      <th>75%</th>\n",
       "      <td>6400.000000</td>\n",
       "      <td>2008.000000</td>\n",
       "      <td>143.000000</td>\n",
       "      <td>150000.000000</td>\n",
       "    </tr>\n",
       "    <tr>\n",
       "      <th>max</th>\n",
       "      <td>20000.000000</td>\n",
       "      <td>9999.000000</td>\n",
       "      <td>20000.000000</td>\n",
       "      <td>150000.000000</td>\n",
       "    </tr>\n",
       "  </tbody>\n",
       "</table>\n",
       "</div>"
      ],
      "text/plain": [
       "               Price  RegistrationYear          Power      Kilometer\n",
       "count  354365.000000     354365.000000  354365.000000  354365.000000\n",
       "mean     4416.679830       2004.234481     110.093816  128211.363989\n",
       "std      4514.176349         90.228466     189.851330   37905.083858\n",
       "min         0.000000       1000.000000       0.000000    5000.000000\n",
       "25%      1050.000000       1999.000000      69.000000  125000.000000\n",
       "50%      2700.000000       2003.000000     105.000000  150000.000000\n",
       "75%      6400.000000       2008.000000     143.000000  150000.000000\n",
       "max     20000.000000       9999.000000   20000.000000  150000.000000"
      ]
     },
     "execution_count": 19,
     "metadata": {},
     "output_type": "execute_result"
    }
   ],
   "source": [
    "#посмотрим описание\n",
    "data.describe()"
   ]
  },
  {
   "cell_type": "code",
   "execution_count": 20,
   "metadata": {},
   "outputs": [
    {
     "data": {
      "image/png": "[encoded data removed]",
      "text/plain": [
       "<Figure size 864x504 with 1 Axes>"
      ]
     },
     "metadata": {},
     "output_type": "display_data"
    }
   ],
   "source": [
    "#оценим разброс цен на авто\n",
    "sns.set_style('darkgrid')\n",
    "data.Price.hist(bins=50,figsize=(12,7))\n",
    "plt.title('График распределения стоимости автомобилей')\n",
    "plt.xlabel('Стоимость,Евро')\n",
    "plt.ylabel('Количество')\n",
    "plt.show()"
   ]
  },
  {
   "cell_type": "markdown",
   "metadata": {},
   "source": [
    "Достаточно большое число машин со стоимостью близкой к нулю. Рассмотрим их ниже."
   ]
  },
  {
   "cell_type": "code",
   "execution_count": 21,
   "metadata": {},
   "outputs": [
    {
     "data": {
      "text/plain": [
       "12177"
      ]
     },
     "execution_count": 21,
     "metadata": {},
     "output_type": "execute_result"
    }
   ],
   "source": [
    "#оценим количество машин с ценой ниже 20 долл.\n",
    "data.loc[data['Price'] < 20]['Price'].count()"
   ]
  },
  {
   "cell_type": "code",
   "execution_count": 22,
   "metadata": {},
   "outputs": [
    {
     "data": {
      "text/plain": [
       "0"
      ]
     },
     "execution_count": 22,
     "metadata": {},
     "output_type": "execute_result"
    }
   ],
   "source": [
    "#удалим эти данные из выборки, так как, скорее всего, это ошибка\n",
    "\n",
    "data = data.query('Price> 20')\n",
    "\n",
    "#поверка данных\n",
    "\n",
    "data.loc[data['Price'] < 20]['Price'].count()"
   ]
  },
  {
   "cell_type": "code",
   "execution_count": 23,
   "metadata": {},
   "outputs": [
    {
     "name": "stdout",
     "output_type": "stream",
     "text": [
      " \n",
      "Model: ['golf' 'unknown' 'grand' 'fabia' '3er' '2_reihe' 'c_max' '3_reihe'\n",
      " 'passat' 'navara' 'ka' 'polo' 'twingo' 'a_klasse' 'scirocco' '5er'\n",
      " 'meriva' 'arosa' 'other' 'c4' 'civic' 'transporter' 'punto' 'e_klasse'\n",
      " 'clio' 'kadett' 'kangoo' 'one' 'fortwo' '1er' 'b_klasse' 'signum' 'astra'\n",
      " 'a8' 'jetta' 'fiesta' 'c_klasse' 'micra' 'vito' 'sprinter' '156' 'escort'\n",
      " 'forester' 'xc_reihe' 'scenic' 'a4' 'a1' 'insignia' 'combo' 'focus' 'tt'\n",
      " 'corsa' 'a6' 'jazz' 'omega' 'slk' '7er' '80' '147' '100' 'z_reihe'\n",
      " 'sportage' 'sorento' 'v40' 'ibiza' 'mustang' 'eos' 'touran' 'getz' 'a3'\n",
      " 'almera' 'megane' 'lupo' 'r19' 'zafira' 'caddy' 'mondeo' 'cordoba' 'colt'\n",
      " 'impreza' 'vectra' 'berlingo' 'tiguan' 'i_reihe' 'espace' 'sharan'\n",
      " '6_reihe' 'panda' 'up' 'seicento' 'ceed' '5_reihe' 'yeti' 'octavia' 'mii'\n",
      " 'rx_reihe' '6er' 'modus' 'fox' 'matiz' 'beetle' 'c1' 'rio' 'touareg'\n",
      " 'logan' 'spider' 'cuore' 's_max' 'a2' 'galaxy' 'c3' 'viano' 's_klasse'\n",
      " '1_reihe' 'avensis' 'roomster' 'sl' 'kaefer' 'santa' 'cooper' 'leon'\n",
      " '4_reihe' 'a5' '500' 'laguna' 'ptcruiser' 'clk' 'primera' 'x_reihe'\n",
      " 'exeo' '159' 'transit' 'juke' 'qashqai' 'carisma' 'accord' 'corolla'\n",
      " 'lanos' 'phaeton' 'verso' 'swift' 'rav' 'picanto' 'boxster' 'kalos'\n",
      " 'superb' 'stilo' 'alhambra' 'roadster' 'ypsilon' 'cayenne' 'galant'\n",
      " 'justy' '90' 'sirion' 'crossfire' 'agila' 'duster' 'cr_reihe' 'v50'\n",
      " 'mx_reihe' 'c_reihe' 'v_klasse' 'm_klasse' 'yaris' 'c5' 'aygo' 'cc'\n",
      " 'carnival' 'fusion' '911' 'bora' 'forfour' 'cl' 'tigra' '300c' 'spark'\n",
      " 'v70' 'kuga' 'x_type' 'ducato' 's_type' 'x_trail' 'toledo' 'altea'\n",
      " 'voyager' 'calibra' 'bravo' 'antara' 'tucson' 'citigo' 'jimny' 'wrangler'\n",
      " 'lybra' 'q7' 'lancer' 'captiva' 'c2' 'discovery' 'freelander' 'sandero'\n",
      " 'note' '900' 'cherokee' 'clubman' 'samara' 'defender' '601' 'cx_reihe'\n",
      " 'legacy' 'pajero' 'auris' 'niva' 's60' 'm_reihe' 'nubira' 'vivaro'\n",
      " 'g_klasse' 'lodgy' '850' 'range_rover' 'q3' 'serie_2' 'glk' 'charade'\n",
      " 'croma' 'outlander' 'doblo' 'musa' 'move' '9000' 'v60' '145' 'aveo' '200'\n",
      " 'b_max' 'range_rover_sport' 'terios' 'rangerover' 'q5'\n",
      " 'range_rover_evoque' 'materia' 'delta' 'gl' 'kalina' 'amarok'\n",
      " 'elefantino' 'i3' 'kappa' 'serie_3' 'serie_1']\n"
     ]
    },
    {
     "data": {
      "text/plain": [
       "23580"
      ]
     },
     "execution_count": 23,
     "metadata": {},
     "output_type": "execute_result"
    }
   ],
   "source": [
    "#модель автомобиля играют первостепенную роли в определении его цены\n",
    "print (' ')\n",
    "print ('Model:', data['Model'].unique())\n",
    "data.loc[data['Model'] == \"other\"]['Model'].count()"
   ]
  },
  {
   "cell_type": "markdown",
   "metadata": {},
   "source": [
    "В моделях нет явных дубликатов, но есть значение other оно неинфомративное, его следуте удалить (обновим выборку,\n",
    " уберем из нее значения, где вместо модели указано  other."
   ]
  },
  {
   "cell_type": "code",
   "execution_count": 25,
   "metadata": {},
   "outputs": [
    {
     "data": {
      "text/html": [
       "<div>\n",
       "<style scoped>\n",
       "    .dataframe tbody tr th:only-of-type {\n",
       "        vertical-align: middle;\n",
       "    }\n",
       "\n",
       "    .dataframe tbody tr th {\n",
       "        vertical-align: top;\n",
       "    }\n",
       "\n",
       "    .dataframe thead th {\n",
       "        text-align: right;\n",
       "    }\n",
       "</style>\n",
       "<table border=\"1\" class=\"dataframe\">\n",
       "  <thead>\n",
       "    <tr style=\"text-align: right;\">\n",
       "      <th></th>\n",
       "      <th>Price</th>\n",
       "      <th>VehicleType</th>\n",
       "      <th>RegistrationYear</th>\n",
       "      <th>Gearbox</th>\n",
       "      <th>Power</th>\n",
       "      <th>Model</th>\n",
       "      <th>Kilometer</th>\n",
       "      <th>FuelType</th>\n",
       "      <th>Brand</th>\n",
       "      <th>Repaired</th>\n",
       "      <th>period_of_use</th>\n",
       "    </tr>\n",
       "  </thead>\n",
       "  <tbody>\n",
       "    <tr>\n",
       "      <th>0</th>\n",
       "      <td>480</td>\n",
       "      <td>other</td>\n",
       "      <td>1993</td>\n",
       "      <td>manual</td>\n",
       "      <td>0</td>\n",
       "      <td>golf</td>\n",
       "      <td>150000</td>\n",
       "      <td>petrol</td>\n",
       "      <td>volkswagen</td>\n",
       "      <td>unknown</td>\n",
       "      <td>23</td>\n",
       "    </tr>\n",
       "    <tr>\n",
       "      <th>1</th>\n",
       "      <td>18300</td>\n",
       "      <td>coupe</td>\n",
       "      <td>2011</td>\n",
       "      <td>manual</td>\n",
       "      <td>190</td>\n",
       "      <td>unknown</td>\n",
       "      <td>125000</td>\n",
       "      <td>gasoline</td>\n",
       "      <td>audi</td>\n",
       "      <td>yes</td>\n",
       "      <td>5</td>\n",
       "    </tr>\n",
       "    <tr>\n",
       "      <th>2</th>\n",
       "      <td>9800</td>\n",
       "      <td>suv</td>\n",
       "      <td>2004</td>\n",
       "      <td>auto</td>\n",
       "      <td>163</td>\n",
       "      <td>grand</td>\n",
       "      <td>125000</td>\n",
       "      <td>gasoline</td>\n",
       "      <td>jeep</td>\n",
       "      <td>unknown</td>\n",
       "      <td>12</td>\n",
       "    </tr>\n",
       "    <tr>\n",
       "      <th>3</th>\n",
       "      <td>1500</td>\n",
       "      <td>small</td>\n",
       "      <td>2001</td>\n",
       "      <td>manual</td>\n",
       "      <td>75</td>\n",
       "      <td>golf</td>\n",
       "      <td>150000</td>\n",
       "      <td>petrol</td>\n",
       "      <td>volkswagen</td>\n",
       "      <td>no</td>\n",
       "      <td>15</td>\n",
       "    </tr>\n",
       "    <tr>\n",
       "      <th>4</th>\n",
       "      <td>3600</td>\n",
       "      <td>small</td>\n",
       "      <td>2008</td>\n",
       "      <td>manual</td>\n",
       "      <td>69</td>\n",
       "      <td>fabia</td>\n",
       "      <td>90000</td>\n",
       "      <td>gasoline</td>\n",
       "      <td>skoda</td>\n",
       "      <td>no</td>\n",
       "      <td>8</td>\n",
       "    </tr>\n",
       "  </tbody>\n",
       "</table>\n",
       "</div>"
      ],
      "text/plain": [
       "   Price VehicleType  RegistrationYear Gearbox  Power    Model  Kilometer  \\\n",
       "0    480       other              1993  manual      0     golf     150000   \n",
       "1  18300       coupe              2011  manual    190  unknown     125000   \n",
       "2   9800         suv              2004    auto    163    grand     125000   \n",
       "3   1500       small              2001  manual     75     golf     150000   \n",
       "4   3600       small              2008  manual     69    fabia      90000   \n",
       "\n",
       "   FuelType       Brand Repaired  period_of_use  \n",
       "0    petrol  volkswagen  unknown             23  \n",
       "1  gasoline        audi      yes              5  \n",
       "2  gasoline        jeep  unknown             12  \n",
       "3    petrol  volkswagen       no             15  \n",
       "4  gasoline       skoda       no              8  "
      ]
     },
     "execution_count": 25,
     "metadata": {},
     "output_type": "execute_result"
    }
   ],
   "source": [
    "#введем переменную current_year, которая показывает текущий год\n",
    "current_year = 2016\n",
    "\n",
    "#добавим новый признак срок использования авто \n",
    "\n",
    "data['period_of_use'] = current_year - data['RegistrationYear']\n",
    "\n",
    "data.head()"
   ]
  },
  {
   "cell_type": "code",
   "execution_count": 26,
   "metadata": {},
   "outputs": [
    {
     "name": "stdout",
     "output_type": "stream",
     "text": [
      "[-7983, -7434, -6984, -6872, -6484, -6184, -5984, -5784, -5084, -4984, -3984, -3895, -3884, -3584, -3539, -3284, -2984, -2784, -2484, -2084, -1984, -1784, -1684, -1184, -984, -884, -784, -484, -274, -206, -184, -50, -3, -2, -1, 0, 1, 2, 3, 4, 5, 6, 7, 8, 9, 10, 11, 12, 13, 14, 15, 16, 17, 18, 19, 20, 21, 22, 23, 24, 25, 26, 27, 28, 29, 30, 31, 32, 33, 34, 35, 36, 37, 38, 39, 40, 41, 42, 43, 44, 45, 46, 47, 48, 49, 50, 51, 52, 53, 54, 55, 56, 57, 58, 59, 60, 61, 62, 63, 64, 65, 66, 67, 68, 69, 70, 71, 72, 73, 74, 75, 76, 78, 79, 80, 81, 82, 83, 84, 85, 86, 87, 88, 89, 91, 93, 106, 216, 414, 416, 516, 616, 716, 761, 782, 905, 977, 1015, 1016]\n"
     ]
    }
   ],
   "source": [
    "#оценим разброс сроков использования автомобилей\n",
    "\n",
    "a = data['period_of_use'].unique()\n",
    "print(sorted(a))"
   ]
  },
  {
   "cell_type": "markdown",
   "metadata": {},
   "source": [
    "Первый автомобиль изоборели в 1885 году, а советском союзе машины стали доступны в 50х годах, но думаю тут такие раритеты авnо не продают, поэтому удалим из датафрейма данные,где срок использования меньше 0 и более 75 лет."
   ]
  },
  {
   "cell_type": "code",
   "execution_count": 27,
   "metadata": {},
   "outputs": [],
   "source": [
    "data = data.query(' 0 <= period_of_use <75')"
   ]
  },
  {
   "cell_type": "code",
   "execution_count": 28,
   "metadata": {},
   "outputs": [
    {
     "name": "stdout",
     "output_type": "stream",
     "text": [
      "<class 'pandas.core.frame.DataFrame'>\n",
      "Int64Index: 328290 entries, 0 to 354364\n",
      "Data columns (total 11 columns):\n",
      " #   Column            Non-Null Count   Dtype \n",
      "---  ------            --------------   ----- \n",
      " 0   Price             328290 non-null  int64 \n",
      " 1   VehicleType       328290 non-null  object\n",
      " 2   RegistrationYear  328290 non-null  int64 \n",
      " 3   Gearbox           328290 non-null  object\n",
      " 4   Power             328290 non-null  int64 \n",
      " 5   Model             328290 non-null  object\n",
      " 6   Kilometer         328290 non-null  int64 \n",
      " 7   FuelType          328290 non-null  object\n",
      " 8   Brand             328290 non-null  object\n",
      " 9   Repaired          328290 non-null  object\n",
      " 10  period_of_use     328290 non-null  int64 \n",
      "dtypes: int64(5), object(6)\n",
      "memory usage: 30.1+ MB\n"
     ]
    }
   ],
   "source": [
    "data.info()"
   ]
  },
  {
   "cell_type": "markdown",
   "metadata": {},
   "source": [
    "Было 354 369 стало 328 290, удалили 7,4 % данных, это данные, где указаны слишком низкая цена (менее 20 долл) и, где срок использования авто более 75 лет."
   ]
  },
  {
   "cell_type": "code",
   "execution_count": 29,
   "metadata": {},
   "outputs": [
    {
     "data": {
      "text/html": [
       "<div>\n",
       "<style scoped>\n",
       "    .dataframe tbody tr th:only-of-type {\n",
       "        vertical-align: middle;\n",
       "    }\n",
       "\n",
       "    .dataframe tbody tr th {\n",
       "        vertical-align: top;\n",
       "    }\n",
       "\n",
       "    .dataframe thead th {\n",
       "        text-align: right;\n",
       "    }\n",
       "</style>\n",
       "<table border=\"1\" class=\"dataframe\">\n",
       "  <thead>\n",
       "    <tr style=\"text-align: right;\">\n",
       "      <th></th>\n",
       "      <th>Price</th>\n",
       "      <th>RegistrationYear</th>\n",
       "      <th>Power</th>\n",
       "      <th>Kilometer</th>\n",
       "      <th>period_of_use</th>\n",
       "    </tr>\n",
       "  </thead>\n",
       "  <tbody>\n",
       "    <tr>\n",
       "      <th>count</th>\n",
       "      <td>328290.000000</td>\n",
       "      <td>328290.000000</td>\n",
       "      <td>328290.000000</td>\n",
       "      <td>328290.000000</td>\n",
       "      <td>328290.000000</td>\n",
       "    </tr>\n",
       "    <tr>\n",
       "      <th>mean</th>\n",
       "      <td>4626.076088</td>\n",
       "      <td>2002.634223</td>\n",
       "      <td>112.107761</td>\n",
       "      <td>128306.573456</td>\n",
       "      <td>13.365777</td>\n",
       "    </tr>\n",
       "    <tr>\n",
       "      <th>std</th>\n",
       "      <td>4545.485247</td>\n",
       "      <td>6.750194</td>\n",
       "      <td>185.078930</td>\n",
       "      <td>37351.696250</td>\n",
       "      <td>6.750194</td>\n",
       "    </tr>\n",
       "    <tr>\n",
       "      <th>min</th>\n",
       "      <td>21.000000</td>\n",
       "      <td>1942.000000</td>\n",
       "      <td>0.000000</td>\n",
       "      <td>5000.000000</td>\n",
       "      <td>0.000000</td>\n",
       "    </tr>\n",
       "    <tr>\n",
       "      <th>25%</th>\n",
       "      <td>1200.000000</td>\n",
       "      <td>1999.000000</td>\n",
       "      <td>71.000000</td>\n",
       "      <td>125000.000000</td>\n",
       "      <td>9.000000</td>\n",
       "    </tr>\n",
       "    <tr>\n",
       "      <th>50%</th>\n",
       "      <td>2950.000000</td>\n",
       "      <td>2003.000000</td>\n",
       "      <td>105.000000</td>\n",
       "      <td>150000.000000</td>\n",
       "      <td>13.000000</td>\n",
       "    </tr>\n",
       "    <tr>\n",
       "      <th>75%</th>\n",
       "      <td>6690.000000</td>\n",
       "      <td>2007.000000</td>\n",
       "      <td>143.000000</td>\n",
       "      <td>150000.000000</td>\n",
       "      <td>17.000000</td>\n",
       "    </tr>\n",
       "    <tr>\n",
       "      <th>max</th>\n",
       "      <td>20000.000000</td>\n",
       "      <td>2016.000000</td>\n",
       "      <td>20000.000000</td>\n",
       "      <td>150000.000000</td>\n",
       "      <td>74.000000</td>\n",
       "    </tr>\n",
       "  </tbody>\n",
       "</table>\n",
       "</div>"
      ],
      "text/plain": [
       "               Price  RegistrationYear          Power      Kilometer  \\\n",
       "count  328290.000000     328290.000000  328290.000000  328290.000000   \n",
       "mean     4626.076088       2002.634223     112.107761  128306.573456   \n",
       "std      4545.485247          6.750194     185.078930   37351.696250   \n",
       "min        21.000000       1942.000000       0.000000    5000.000000   \n",
       "25%      1200.000000       1999.000000      71.000000  125000.000000   \n",
       "50%      2950.000000       2003.000000     105.000000  150000.000000   \n",
       "75%      6690.000000       2007.000000     143.000000  150000.000000   \n",
       "max     20000.000000       2016.000000   20000.000000  150000.000000   \n",
       "\n",
       "       period_of_use  \n",
       "count  328290.000000  \n",
       "mean       13.365777  \n",
       "std         6.750194  \n",
       "min         0.000000  \n",
       "25%         9.000000  \n",
       "50%        13.000000  \n",
       "75%        17.000000  \n",
       "max        74.000000  "
      ]
     },
     "execution_count": 29,
     "metadata": {},
     "output_type": "execute_result"
    }
   ],
   "source": [
    "#посмотрим еще раз описание\n",
    "data.describe()"
   ]
  },
  {
   "cell_type": "code",
   "execution_count": 30,
   "metadata": {},
   "outputs": [
    {
     "name": "stdout",
     "output_type": "stream",
     "text": [
      "Признаки\n"
     ]
    },
    {
     "data": {
      "text/plain": [
       "<AxesSubplot:>"
      ]
     },
     "execution_count": 30,
     "metadata": {},
     "output_type": "execute_result"
    },
    {
     "data": {
      "image/png": "[encoded data removed]",
      "text/plain": [
       "<Figure size 432x288 with 2 Axes>"
      ]
     },
     "metadata": {},
     "output_type": "display_data"
    }
   ],
   "source": [
    "#удалим столбец RegistrationYear, так как он по смыслу дублирует  данные в колонке period_of_use\n",
    "data = data.drop(columns=['RegistrationYear']) \n",
    "#тепловая карта корреляции  -проверим корреляцию данных \n",
    "print ('Признаки')\n",
    "upp_mat = np.triu(data.corr())\n",
    "sns.heatmap(data.corr(), annot = True)"
   ]
  },
  {
   "cell_type": "markdown",
   "metadata": {},
   "source": [
    "По тепловой карте корреляции наблюдается зависимость цены от срока использвания авто от года регистрации, можность авто. Отрициательная зависимость есть между ценой  и пробегом. Данные логичны, между ними нет сильной прямой зависимости.\n",
    "\n",
    "Перейдем к разделению данных на выборки и обучению моделей."
   ]
  },
  {
   "cell_type": "markdown",
   "metadata": {},
   "source": [
    "***Итоги предобработки данных***\n",
    "\n",
    "Избавилась от:\n",
    " - признаков, которые никак не влияют на целевой признак: 'DateCreated','PostalCode', 'LastSeen', 'NumberOfPictures';\n",
    " \n",
    " - полных дубликатов;\n",
    " - был введен новый признак period_of_use и удален схожий с ним RegistrationYear;\n",
    " - избавились от выбросов в целевом признаке Price и признаках period_of_use\n",
    "\n",
    "Заполнили и  удалили  пропуски:\n",
    " - пропущенные значения в VehicleType и FuelType заменилли на уже имеющиеся в списке варианты other;\n",
    " - удалили пропуски в колонках Gearbox, Model, так как эти данные напрямую и в первую очередь вдияют на цену, и пользователю авто их несложно узнать, имея машину; тип данных к графе Gearbox именили на bool;\n",
    " - пропуск в графе Repaired заменили на unknown;\n",
    " \n",
    " \n",
    "В целом получили логичные данные:\n",
    "цена прямо пропорционально от мощности и обратно пропорционально от пробега и периода использования\n",
    "\n",
    "\n",
    "\n",
    "Было 354 369 стало 328 290, удалили 7,4 % данных, это данные, где указаны слишком низкая цена (менее 20 долл) и, где срок использования авто более 75 лет."
   ]
  },
  {
   "cell_type": "code",
   "execution_count": 31,
   "metadata": {},
   "outputs": [
    {
     "name": "stdout",
     "output_type": "stream",
     "text": [
      "0\n"
     ]
    }
   ],
   "source": [
    "#проверим еще раз на наличие дубликатов\n",
    "#удаление полных дубликатов и проверка\n",
    "data = data.drop_duplicates().reset_index(drop=True) \n",
    "print(data.duplicated().sum())"
   ]
  },
  {
   "cell_type": "code",
   "execution_count": 32,
   "metadata": {},
   "outputs": [
    {
     "name": "stdout",
     "output_type": "stream",
     "text": [
      "0\n"
     ]
    }
   ],
   "source": [
    "#удаление полных дубликатов и проверка\n",
    "data = data.drop_duplicates().reset_index(drop=True) \n",
    "print(data.duplicated().sum())"
   ]
  },
  {
   "cell_type": "code",
   "execution_count": 33,
   "metadata": {},
   "outputs": [
    {
     "name": "stdout",
     "output_type": "stream",
     "text": [
      "<class 'pandas.core.frame.DataFrame'>\n",
      "RangeIndex: 286097 entries, 0 to 286096\n",
      "Data columns (total 10 columns):\n",
      " #   Column         Non-Null Count   Dtype \n",
      "---  ------         --------------   ----- \n",
      " 0   Price          286097 non-null  int64 \n",
      " 1   VehicleType    286097 non-null  object\n",
      " 2   Gearbox        286097 non-null  object\n",
      " 3   Power          286097 non-null  int64 \n",
      " 4   Model          286097 non-null  object\n",
      " 5   Kilometer      286097 non-null  int64 \n",
      " 6   FuelType       286097 non-null  object\n",
      " 7   Brand          286097 non-null  object\n",
      " 8   Repaired       286097 non-null  object\n",
      " 9   period_of_use  286097 non-null  int64 \n",
      "dtypes: int64(4), object(6)\n",
      "memory usage: 21.8+ MB\n"
     ]
    }
   ],
   "source": [
    "#сброс индексов после удаления аномалий в данных\n",
    "data=data.reset_index(drop=True)\n",
    "data.info()"
   ]
  },
  {
   "cell_type": "markdown",
   "metadata": {},
   "source": [
    "Было 354 369 стало 269  068, процент удаленных данных "
   ]
  },
  {
   "cell_type": "markdown",
   "metadata": {},
   "source": [
    "***Разделение данных на выборки - тренировочную и тестовую***"
   ]
  },
  {
   "cell_type": "code",
   "execution_count": 34,
   "metadata": {},
   "outputs": [
    {
     "name": "stdout",
     "output_type": "stream",
     "text": [
      " \n",
      "Размер тренировочной выборки (114438, 10)\n",
      "Размер валидационной выборки (137327, 10)\n",
      "Размер тестовой выборки (34332, 10)\n"
     ]
    }
   ],
   "source": [
    "#разобьем данные на 3 выборки\n",
    "df_train, df_train2 = train_test_split(data, test_size=0.6, random_state=12345)\n",
    "df_valid, df_test = train_test_split(df_train2, test_size=0.2, random_state=12345)\n",
    "\n",
    "\n",
    "\n",
    "#проверим разбивку на выборки\n",
    "\n",
    "print(' ')\n",
    "print('Размер тренировочной выборки', df_train.shape)\n",
    "print('Размер валидационной выборки', df_valid.shape)\n",
    "print('Размер тестовой выборки', df_test.shape)\n"
   ]
  },
  {
   "cell_type": "code",
   "execution_count": 35,
   "metadata": {},
   "outputs": [
    {
     "name": "stdout",
     "output_type": "stream",
     "text": [
      "Размер обучающей выборки: (114438, 10)\n",
      "Размер валидационной выборки: (137327, 10)\n",
      "Размер тестовой выборки: (34332, 10)\n",
      "\n"
     ]
    }
   ],
   "source": [
    "#выделяю признаки и целевой признак:\n",
    "\n",
    "# < создаем переменные для признаков и целевого признака >\n",
    "features_train = df_train.drop(['Price'], axis=1)\n",
    "target_train = df_train['Price']\n",
    "\n",
    "features_valid = df_valid.drop(['Price'], axis=1)\n",
    "target_valid = df_valid['Price']\n",
    "\n",
    "features_test = df_test.drop(['Price'], axis=1)\n",
    "target_test = df_test['Price']\n",
    "\n",
    "print('Размер обучающей выборки:', df_train.shape)\n",
    "print('Размер валидационной выборки:',df_valid.shape)\n",
    "print('Размер тестовой выборки:',df_test.shape)\n",
    "print('')"
   ]
  },
  {
   "cell_type": "markdown",
   "metadata": {},
   "source": [
    "***Кодирование качественных переменных техникой OHE***"
   ]
  },
  {
   "cell_type": "code",
   "execution_count": 36,
   "metadata": {},
   "outputs": [],
   "source": [
    "# так как get_dummies() , который работает до разбиения данных на выборки, слелаем копию изначального датасета, \n",
    "#потом закодируем его и разобьем на выборки \n",
    "\n",
    "#выделим признаки и целевой признак\n",
    "data1 = data.copy()\n",
    "#features_ohe = data1.drop(['Price'], axis=1)\n",
    "#target_ohe = data1['Price']\n"
   ]
  },
  {
   "cell_type": "code",
   "execution_count": 37,
   "metadata": {},
   "outputs": [
    {
     "data": {
      "text/html": [
       "<div>\n",
       "<style scoped>\n",
       "    .dataframe tbody tr th:only-of-type {\n",
       "        vertical-align: middle;\n",
       "    }\n",
       "\n",
       "    .dataframe tbody tr th {\n",
       "        vertical-align: top;\n",
       "    }\n",
       "\n",
       "    .dataframe thead th {\n",
       "        text-align: right;\n",
       "    }\n",
       "</style>\n",
       "<table border=\"1\" class=\"dataframe\">\n",
       "  <thead>\n",
       "    <tr style=\"text-align: right;\">\n",
       "      <th></th>\n",
       "      <th>Price</th>\n",
       "      <th>Power</th>\n",
       "      <th>Kilometer</th>\n",
       "      <th>period_of_use</th>\n",
       "      <th>VehicleType_convertible</th>\n",
       "      <th>VehicleType_coupe</th>\n",
       "      <th>VehicleType_other</th>\n",
       "      <th>VehicleType_sedan</th>\n",
       "      <th>VehicleType_small</th>\n",
       "      <th>VehicleType_suv</th>\n",
       "      <th>...</th>\n",
       "      <th>Brand_smart</th>\n",
       "      <th>Brand_sonstige_autos</th>\n",
       "      <th>Brand_subaru</th>\n",
       "      <th>Brand_suzuki</th>\n",
       "      <th>Brand_toyota</th>\n",
       "      <th>Brand_trabant</th>\n",
       "      <th>Brand_volkswagen</th>\n",
       "      <th>Brand_volvo</th>\n",
       "      <th>Repaired_unknown</th>\n",
       "      <th>Repaired_yes</th>\n",
       "    </tr>\n",
       "  </thead>\n",
       "  <tbody>\n",
       "    <tr>\n",
       "      <th>0</th>\n",
       "      <td>480</td>\n",
       "      <td>0</td>\n",
       "      <td>150000</td>\n",
       "      <td>23</td>\n",
       "      <td>0</td>\n",
       "      <td>0</td>\n",
       "      <td>1</td>\n",
       "      <td>0</td>\n",
       "      <td>0</td>\n",
       "      <td>0</td>\n",
       "      <td>...</td>\n",
       "      <td>0</td>\n",
       "      <td>0</td>\n",
       "      <td>0</td>\n",
       "      <td>0</td>\n",
       "      <td>0</td>\n",
       "      <td>0</td>\n",
       "      <td>1</td>\n",
       "      <td>0</td>\n",
       "      <td>1</td>\n",
       "      <td>0</td>\n",
       "    </tr>\n",
       "    <tr>\n",
       "      <th>1</th>\n",
       "      <td>18300</td>\n",
       "      <td>190</td>\n",
       "      <td>125000</td>\n",
       "      <td>5</td>\n",
       "      <td>0</td>\n",
       "      <td>1</td>\n",
       "      <td>0</td>\n",
       "      <td>0</td>\n",
       "      <td>0</td>\n",
       "      <td>0</td>\n",
       "      <td>...</td>\n",
       "      <td>0</td>\n",
       "      <td>0</td>\n",
       "      <td>0</td>\n",
       "      <td>0</td>\n",
       "      <td>0</td>\n",
       "      <td>0</td>\n",
       "      <td>0</td>\n",
       "      <td>0</td>\n",
       "      <td>0</td>\n",
       "      <td>1</td>\n",
       "    </tr>\n",
       "    <tr>\n",
       "      <th>2</th>\n",
       "      <td>9800</td>\n",
       "      <td>163</td>\n",
       "      <td>125000</td>\n",
       "      <td>12</td>\n",
       "      <td>0</td>\n",
       "      <td>0</td>\n",
       "      <td>0</td>\n",
       "      <td>0</td>\n",
       "      <td>0</td>\n",
       "      <td>1</td>\n",
       "      <td>...</td>\n",
       "      <td>0</td>\n",
       "      <td>0</td>\n",
       "      <td>0</td>\n",
       "      <td>0</td>\n",
       "      <td>0</td>\n",
       "      <td>0</td>\n",
       "      <td>0</td>\n",
       "      <td>0</td>\n",
       "      <td>1</td>\n",
       "      <td>0</td>\n",
       "    </tr>\n",
       "    <tr>\n",
       "      <th>3</th>\n",
       "      <td>1500</td>\n",
       "      <td>75</td>\n",
       "      <td>150000</td>\n",
       "      <td>15</td>\n",
       "      <td>0</td>\n",
       "      <td>0</td>\n",
       "      <td>0</td>\n",
       "      <td>0</td>\n",
       "      <td>1</td>\n",
       "      <td>0</td>\n",
       "      <td>...</td>\n",
       "      <td>0</td>\n",
       "      <td>0</td>\n",
       "      <td>0</td>\n",
       "      <td>0</td>\n",
       "      <td>0</td>\n",
       "      <td>0</td>\n",
       "      <td>1</td>\n",
       "      <td>0</td>\n",
       "      <td>0</td>\n",
       "      <td>0</td>\n",
       "    </tr>\n",
       "    <tr>\n",
       "      <th>4</th>\n",
       "      <td>3600</td>\n",
       "      <td>69</td>\n",
       "      <td>90000</td>\n",
       "      <td>8</td>\n",
       "      <td>0</td>\n",
       "      <td>0</td>\n",
       "      <td>0</td>\n",
       "      <td>0</td>\n",
       "      <td>1</td>\n",
       "      <td>0</td>\n",
       "      <td>...</td>\n",
       "      <td>0</td>\n",
       "      <td>0</td>\n",
       "      <td>0</td>\n",
       "      <td>0</td>\n",
       "      <td>0</td>\n",
       "      <td>0</td>\n",
       "      <td>0</td>\n",
       "      <td>0</td>\n",
       "      <td>0</td>\n",
       "      <td>0</td>\n",
       "    </tr>\n",
       "  </tbody>\n",
       "</table>\n",
       "<p>5 rows × 309 columns</p>\n",
       "</div>"
      ],
      "text/plain": [
       "   Price  Power  Kilometer  period_of_use  VehicleType_convertible  \\\n",
       "0    480      0     150000             23                        0   \n",
       "1  18300    190     125000              5                        0   \n",
       "2   9800    163     125000             12                        0   \n",
       "3   1500     75     150000             15                        0   \n",
       "4   3600     69      90000              8                        0   \n",
       "\n",
       "   VehicleType_coupe  VehicleType_other  VehicleType_sedan  VehicleType_small  \\\n",
       "0                  0                  1                  0                  0   \n",
       "1                  1                  0                  0                  0   \n",
       "2                  0                  0                  0                  0   \n",
       "3                  0                  0                  0                  1   \n",
       "4                  0                  0                  0                  1   \n",
       "\n",
       "   VehicleType_suv  ...  Brand_smart  Brand_sonstige_autos  Brand_subaru  \\\n",
       "0                0  ...            0                     0             0   \n",
       "1                0  ...            0                     0             0   \n",
       "2                1  ...            0                     0             0   \n",
       "3                0  ...            0                     0             0   \n",
       "4                0  ...            0                     0             0   \n",
       "\n",
       "   Brand_suzuki  Brand_toyota  Brand_trabant  Brand_volkswagen  Brand_volvo  \\\n",
       "0             0             0              0                 1            0   \n",
       "1             0             0              0                 0            0   \n",
       "2             0             0              0                 0            0   \n",
       "3             0             0              0                 1            0   \n",
       "4             0             0              0                 0            0   \n",
       "\n",
       "   Repaired_unknown  Repaired_yes  \n",
       "0                 1             0  \n",
       "1                 0             1  \n",
       "2                 1             0  \n",
       "3                 0             0  \n",
       "4                 0             0  \n",
       "\n",
       "[5 rows x 309 columns]"
      ]
     },
     "execution_count": 37,
     "metadata": {},
     "output_type": "execute_result"
    }
   ],
   "source": [
    "#кодируем прищнаки данных техникой OHE \n",
    "data1 = pd.get_dummies(data1, drop_first=True)\n",
    "\n",
    "data1.head()"
   ]
  },
  {
   "cell_type": "code",
   "execution_count": 38,
   "metadata": {},
   "outputs": [
    {
     "name": "stdout",
     "output_type": "stream",
     "text": [
      " \n",
      "Размер тренировочной выборки (114438, 309)\n",
      "Размер валидационной выборки (137327, 309)\n",
      "Размер тестовой выборки (34332, 309)\n"
     ]
    }
   ],
   "source": [
    "#разобьем закодированные данные на выборки\n",
    "\n",
    "data_train_ohe, data_train_ohe2 = train_test_split(data1, test_size=0.6, random_state=12345)\n",
    "data_valid_ohe, data_test_ohe = train_test_split(data_train_ohe2, test_size=0.2, random_state=12345)\n",
    "\n",
    "#проверим разбивку на выборки\n",
    "\n",
    "print(' ')\n",
    "print('Размер тренировочной выборки', data_train_ohe.shape)\n",
    "print('Размер валидационной выборки', data_valid_ohe.shape)\n",
    "print('Размер тестовой выборки', data_test_ohe.shape)\n"
   ]
  },
  {
   "cell_type": "code",
   "execution_count": 39,
   "metadata": {},
   "outputs": [
    {
     "data": {
      "text/html": [
       "<div>\n",
       "<style scoped>\n",
       "    .dataframe tbody tr th:only-of-type {\n",
       "        vertical-align: middle;\n",
       "    }\n",
       "\n",
       "    .dataframe tbody tr th {\n",
       "        vertical-align: top;\n",
       "    }\n",
       "\n",
       "    .dataframe thead th {\n",
       "        text-align: right;\n",
       "    }\n",
       "</style>\n",
       "<table border=\"1\" class=\"dataframe\">\n",
       "  <thead>\n",
       "    <tr style=\"text-align: right;\">\n",
       "      <th></th>\n",
       "      <th>Price</th>\n",
       "      <th>Power</th>\n",
       "      <th>Kilometer</th>\n",
       "      <th>period_of_use</th>\n",
       "      <th>VehicleType_convertible</th>\n",
       "      <th>VehicleType_coupe</th>\n",
       "      <th>VehicleType_other</th>\n",
       "      <th>VehicleType_sedan</th>\n",
       "      <th>VehicleType_small</th>\n",
       "      <th>VehicleType_suv</th>\n",
       "      <th>...</th>\n",
       "      <th>Brand_smart</th>\n",
       "      <th>Brand_sonstige_autos</th>\n",
       "      <th>Brand_subaru</th>\n",
       "      <th>Brand_suzuki</th>\n",
       "      <th>Brand_toyota</th>\n",
       "      <th>Brand_trabant</th>\n",
       "      <th>Brand_volkswagen</th>\n",
       "      <th>Brand_volvo</th>\n",
       "      <th>Repaired_unknown</th>\n",
       "      <th>Repaired_yes</th>\n",
       "    </tr>\n",
       "  </thead>\n",
       "  <tbody>\n",
       "    <tr>\n",
       "      <th>241448</th>\n",
       "      <td>2000</td>\n",
       "      <td>143</td>\n",
       "      <td>150000</td>\n",
       "      <td>14</td>\n",
       "      <td>0</td>\n",
       "      <td>1</td>\n",
       "      <td>0</td>\n",
       "      <td>0</td>\n",
       "      <td>0</td>\n",
       "      <td>0</td>\n",
       "      <td>...</td>\n",
       "      <td>0</td>\n",
       "      <td>0</td>\n",
       "      <td>0</td>\n",
       "      <td>0</td>\n",
       "      <td>0</td>\n",
       "      <td>0</td>\n",
       "      <td>0</td>\n",
       "      <td>0</td>\n",
       "      <td>0</td>\n",
       "      <td>0</td>\n",
       "    </tr>\n",
       "    <tr>\n",
       "      <th>173835</th>\n",
       "      <td>2000</td>\n",
       "      <td>194</td>\n",
       "      <td>150000</td>\n",
       "      <td>16</td>\n",
       "      <td>0</td>\n",
       "      <td>0</td>\n",
       "      <td>0</td>\n",
       "      <td>1</td>\n",
       "      <td>0</td>\n",
       "      <td>0</td>\n",
       "      <td>...</td>\n",
       "      <td>0</td>\n",
       "      <td>0</td>\n",
       "      <td>0</td>\n",
       "      <td>0</td>\n",
       "      <td>0</td>\n",
       "      <td>0</td>\n",
       "      <td>1</td>\n",
       "      <td>0</td>\n",
       "      <td>0</td>\n",
       "      <td>1</td>\n",
       "    </tr>\n",
       "    <tr>\n",
       "      <th>26445</th>\n",
       "      <td>5900</td>\n",
       "      <td>150</td>\n",
       "      <td>150000</td>\n",
       "      <td>13</td>\n",
       "      <td>0</td>\n",
       "      <td>0</td>\n",
       "      <td>0</td>\n",
       "      <td>1</td>\n",
       "      <td>0</td>\n",
       "      <td>0</td>\n",
       "      <td>...</td>\n",
       "      <td>0</td>\n",
       "      <td>0</td>\n",
       "      <td>0</td>\n",
       "      <td>0</td>\n",
       "      <td>0</td>\n",
       "      <td>0</td>\n",
       "      <td>0</td>\n",
       "      <td>0</td>\n",
       "      <td>1</td>\n",
       "      <td>0</td>\n",
       "    </tr>\n",
       "    <tr>\n",
       "      <th>243201</th>\n",
       "      <td>13150</td>\n",
       "      <td>105</td>\n",
       "      <td>30000</td>\n",
       "      <td>6</td>\n",
       "      <td>0</td>\n",
       "      <td>0</td>\n",
       "      <td>0</td>\n",
       "      <td>0</td>\n",
       "      <td>1</td>\n",
       "      <td>0</td>\n",
       "      <td>...</td>\n",
       "      <td>0</td>\n",
       "      <td>0</td>\n",
       "      <td>0</td>\n",
       "      <td>0</td>\n",
       "      <td>0</td>\n",
       "      <td>0</td>\n",
       "      <td>1</td>\n",
       "      <td>0</td>\n",
       "      <td>1</td>\n",
       "      <td>0</td>\n",
       "    </tr>\n",
       "    <tr>\n",
       "      <th>258438</th>\n",
       "      <td>1400</td>\n",
       "      <td>144</td>\n",
       "      <td>150000</td>\n",
       "      <td>13</td>\n",
       "      <td>0</td>\n",
       "      <td>0</td>\n",
       "      <td>0</td>\n",
       "      <td>0</td>\n",
       "      <td>0</td>\n",
       "      <td>0</td>\n",
       "      <td>...</td>\n",
       "      <td>0</td>\n",
       "      <td>0</td>\n",
       "      <td>0</td>\n",
       "      <td>0</td>\n",
       "      <td>0</td>\n",
       "      <td>0</td>\n",
       "      <td>0</td>\n",
       "      <td>0</td>\n",
       "      <td>0</td>\n",
       "      <td>0</td>\n",
       "    </tr>\n",
       "  </tbody>\n",
       "</table>\n",
       "<p>5 rows × 309 columns</p>\n",
       "</div>"
      ],
      "text/plain": [
       "        Price  Power  Kilometer  period_of_use  VehicleType_convertible  \\\n",
       "241448   2000    143     150000             14                        0   \n",
       "173835   2000    194     150000             16                        0   \n",
       "26445    5900    150     150000             13                        0   \n",
       "243201  13150    105      30000              6                        0   \n",
       "258438   1400    144     150000             13                        0   \n",
       "\n",
       "        VehicleType_coupe  VehicleType_other  VehicleType_sedan  \\\n",
       "241448                  1                  0                  0   \n",
       "173835                  0                  0                  1   \n",
       "26445                   0                  0                  1   \n",
       "243201                  0                  0                  0   \n",
       "258438                  0                  0                  0   \n",
       "\n",
       "        VehicleType_small  VehicleType_suv  ...  Brand_smart  \\\n",
       "241448                  0                0  ...            0   \n",
       "173835                  0                0  ...            0   \n",
       "26445                   0                0  ...            0   \n",
       "243201                  1                0  ...            0   \n",
       "258438                  0                0  ...            0   \n",
       "\n",
       "        Brand_sonstige_autos  Brand_subaru  Brand_suzuki  Brand_toyota  \\\n",
       "241448                     0             0             0             0   \n",
       "173835                     0             0             0             0   \n",
       "26445                      0             0             0             0   \n",
       "243201                     0             0             0             0   \n",
       "258438                     0             0             0             0   \n",
       "\n",
       "        Brand_trabant  Brand_volkswagen  Brand_volvo  Repaired_unknown  \\\n",
       "241448              0                 0            0                 0   \n",
       "173835              0                 1            0                 0   \n",
       "26445               0                 0            0                 1   \n",
       "243201              0                 1            0                 1   \n",
       "258438              0                 0            0                 0   \n",
       "\n",
       "        Repaired_yes  \n",
       "241448             0  \n",
       "173835             1  \n",
       "26445              0  \n",
       "243201             0  \n",
       "258438             0  \n",
       "\n",
       "[5 rows x 309 columns]"
      ]
     },
     "execution_count": 39,
     "metadata": {},
     "output_type": "execute_result"
    }
   ],
   "source": [
    "data_train_ohe.head()"
   ]
  },
  {
   "cell_type": "code",
   "execution_count": 40,
   "metadata": {},
   "outputs": [],
   "source": [
    "#разделим переменные для признаков и целевого признака >\n",
    "features_train_ohe = data_train_ohe.drop(['Price'], axis=1)\n",
    "target_train_ohe = data_train_ohe['Price']\n",
    "\n",
    "features_valid_ohe = data_valid_ohe.drop(['Price'], axis=1)\n",
    "target_valid_ohe = data_valid_ohe['Price']\n",
    "\n",
    "features_test_ohe = data_test_ohe.drop(['Price'], axis=1)\n",
    "target_test_ohe = data_test_ohe['Price']\n",
    "\n"
   ]
  },
  {
   "cell_type": "code",
   "execution_count": 41,
   "metadata": {},
   "outputs": [
    {
     "name": "stdout",
     "output_type": "stream",
     "text": [
      "Размер обучающей выборки: (114438, 308)\n",
      "Размер валидационной выборки: (137327, 308)\n",
      "Размер тестовой выборки: (34332, 308)\n",
      "\n"
     ]
    },
    {
     "data": {
      "text/plain": [
       "223673      600\n",
       "90554      1190\n",
       "236796     7799\n",
       "91129       300\n",
       "39080     16499\n",
       "Name: Price, dtype: int64"
      ]
     },
     "execution_count": 41,
     "metadata": {},
     "output_type": "execute_result"
    }
   ],
   "source": [
    "print('Размер обучающей выборки:', features_train_ohe.shape)\n",
    "print('Размер валидационной выборки:',features_valid_ohe.shape)\n",
    "print('Размер тестовой выборки:',features_test_ohe.shape)\n",
    "print('')\n",
    "target_valid_ohe.head()"
   ]
  },
  {
   "cell_type": "markdown",
   "metadata": {},
   "source": [
    "***Кодирование качественных переменных техникой OrdinalEncoding***"
   ]
  },
  {
   "cell_type": "code",
   "execution_count": 42,
   "metadata": {},
   "outputs": [
    {
     "data": {
      "text/html": [
       "<div>\n",
       "<style scoped>\n",
       "    .dataframe tbody tr th:only-of-type {\n",
       "        vertical-align: middle;\n",
       "    }\n",
       "\n",
       "    .dataframe tbody tr th {\n",
       "        vertical-align: top;\n",
       "    }\n",
       "\n",
       "    .dataframe thead th {\n",
       "        text-align: right;\n",
       "    }\n",
       "</style>\n",
       "<table border=\"1\" class=\"dataframe\">\n",
       "  <thead>\n",
       "    <tr style=\"text-align: right;\">\n",
       "      <th></th>\n",
       "      <th>VehicleType</th>\n",
       "      <th>Gearbox</th>\n",
       "      <th>Model</th>\n",
       "      <th>FuelType</th>\n",
       "      <th>Brand</th>\n",
       "      <th>Repaired</th>\n",
       "    </tr>\n",
       "  </thead>\n",
       "  <tbody>\n",
       "    <tr>\n",
       "      <th>8970</th>\n",
       "      <td>2.0</td>\n",
       "      <td>1.0</td>\n",
       "      <td>11.0</td>\n",
       "      <td>6.0</td>\n",
       "      <td>2.0</td>\n",
       "      <td>0.0</td>\n",
       "    </tr>\n",
       "    <tr>\n",
       "      <th>267922</th>\n",
       "      <td>2.0</td>\n",
       "      <td>1.0</td>\n",
       "      <td>157.0</td>\n",
       "      <td>6.0</td>\n",
       "      <td>10.0</td>\n",
       "      <td>2.0</td>\n",
       "    </tr>\n",
       "    <tr>\n",
       "      <th>32164</th>\n",
       "      <td>5.0</td>\n",
       "      <td>1.0</td>\n",
       "      <td>83.0</td>\n",
       "      <td>6.0</td>\n",
       "      <td>24.0</td>\n",
       "      <td>0.0</td>\n",
       "    </tr>\n",
       "    <tr>\n",
       "      <th>67561</th>\n",
       "      <td>7.0</td>\n",
       "      <td>1.0</td>\n",
       "      <td>154.0</td>\n",
       "      <td>2.0</td>\n",
       "      <td>10.0</td>\n",
       "      <td>1.0</td>\n",
       "    </tr>\n",
       "    <tr>\n",
       "      <th>7408</th>\n",
       "      <td>0.0</td>\n",
       "      <td>1.0</td>\n",
       "      <td>249.0</td>\n",
       "      <td>6.0</td>\n",
       "      <td>24.0</td>\n",
       "      <td>0.0</td>\n",
       "    </tr>\n",
       "  </tbody>\n",
       "</table>\n",
       "</div>"
      ],
      "text/plain": [
       "        VehicleType  Gearbox  Model  FuelType  Brand  Repaired\n",
       "8970            2.0      1.0   11.0       6.0    2.0       0.0\n",
       "267922          2.0      1.0  157.0       6.0   10.0       2.0\n",
       "32164           5.0      1.0   83.0       6.0   24.0       0.0\n",
       "67561           7.0      1.0  154.0       2.0   10.0       1.0\n",
       "7408            0.0      1.0  249.0       6.0   24.0       0.0"
      ]
     },
     "execution_count": 42,
     "metadata": {},
     "output_type": "execute_result"
    }
   ],
   "source": [
    "#копируем выборки\n",
    "features_train_1 =features_train.copy()\n",
    "features_valid_1=features_valid.copy()\n",
    "features_test_1=features_test.copy()\n",
    "\n",
    "#оставляет только категориальные переменные\n",
    "features_train_2 =features_train_1.select_dtypes(include=['object']).copy()\n",
    "features_valid_2=features_valid_1.select_dtypes(include=['object']).copy()\n",
    "features_test_2=features_test_1.select_dtypes(include=['object']).copy()\n",
    "\n",
    "#инициализируем Encoder\n",
    "encoder = OrdinalEncoder(handle_unknown = 'ignore')\n",
    "\n",
    "#обучаем его на тренировочных данных\n",
    "encoder.fit(features_train_2)\n",
    "\n",
    "#получаем закодированные качественные переменные \n",
    "features_train_oe= pd.DataFrame(encoder.transform(features_train_2),\n",
    "                                columns=features_train_2.columns,\n",
    "                                index=features_train_2.index)\n",
    "\n",
    "features_valid_oe= pd.DataFrame(encoder.transform(features_valid_2),\n",
    "                                columns=features_valid_2.columns,\n",
    "                                index=features_valid_2.index)\n",
    "\n",
    "features_test_oe= pd.DataFrame(encoder.transform(features_test_2),\n",
    "                                columns=features_test_2.columns,\n",
    "                                index=features_test_2.index)\n",
    "#проверка\n",
    "features_test_oe.head()"
   ]
  },
  {
   "cell_type": "code",
   "execution_count": 43,
   "metadata": {},
   "outputs": [
    {
     "data": {
      "text/html": [
       "<div>\n",
       "<style scoped>\n",
       "    .dataframe tbody tr th:only-of-type {\n",
       "        vertical-align: middle;\n",
       "    }\n",
       "\n",
       "    .dataframe tbody tr th {\n",
       "        vertical-align: top;\n",
       "    }\n",
       "\n",
       "    .dataframe thead th {\n",
       "        text-align: right;\n",
       "    }\n",
       "</style>\n",
       "<table border=\"1\" class=\"dataframe\">\n",
       "  <thead>\n",
       "    <tr style=\"text-align: right;\">\n",
       "      <th></th>\n",
       "      <th>Power</th>\n",
       "      <th>Kilometer</th>\n",
       "      <th>period_of_use</th>\n",
       "    </tr>\n",
       "  </thead>\n",
       "  <tbody>\n",
       "    <tr>\n",
       "      <th>241448</th>\n",
       "      <td>143</td>\n",
       "      <td>150000</td>\n",
       "      <td>14</td>\n",
       "    </tr>\n",
       "    <tr>\n",
       "      <th>173835</th>\n",
       "      <td>194</td>\n",
       "      <td>150000</td>\n",
       "      <td>16</td>\n",
       "    </tr>\n",
       "    <tr>\n",
       "      <th>26445</th>\n",
       "      <td>150</td>\n",
       "      <td>150000</td>\n",
       "      <td>13</td>\n",
       "    </tr>\n",
       "    <tr>\n",
       "      <th>243201</th>\n",
       "      <td>105</td>\n",
       "      <td>30000</td>\n",
       "      <td>6</td>\n",
       "    </tr>\n",
       "    <tr>\n",
       "      <th>258438</th>\n",
       "      <td>144</td>\n",
       "      <td>150000</td>\n",
       "      <td>13</td>\n",
       "    </tr>\n",
       "  </tbody>\n",
       "</table>\n",
       "</div>"
      ],
      "text/plain": [
       "        Power  Kilometer  period_of_use\n",
       "241448    143     150000             14\n",
       "173835    194     150000             16\n",
       "26445     150     150000             13\n",
       "243201    105      30000              6\n",
       "258438    144     150000             13"
      ]
     },
     "execution_count": 43,
     "metadata": {},
     "output_type": "execute_result"
    }
   ],
   "source": [
    "#удаляме из выборок незакодированные категориальные переменные и добавляем закодированные\n",
    "\n",
    "features_train_1 = features_train_1.drop(columns=['VehicleType','Gearbox','Model', 'FuelType', 'Brand', 'Repaired'])\n",
    "features_valid_1 = features_valid_1.drop(columns=['VehicleType','Gearbox','Model', 'FuelType', 'Brand', 'Repaired'])\n",
    "features_test_1 = features_test_1.drop(columns=['VehicleType','Gearbox','Model', 'FuelType', 'Brand', 'Repaired'])\n",
    "#\n",
    "features_train_1.head()"
   ]
  },
  {
   "cell_type": "code",
   "execution_count": 44,
   "metadata": {},
   "outputs": [
    {
     "data": {
      "text/html": [
       "<div>\n",
       "<style scoped>\n",
       "    .dataframe tbody tr th:only-of-type {\n",
       "        vertical-align: middle;\n",
       "    }\n",
       "\n",
       "    .dataframe tbody tr th {\n",
       "        vertical-align: top;\n",
       "    }\n",
       "\n",
       "    .dataframe thead th {\n",
       "        text-align: right;\n",
       "    }\n",
       "</style>\n",
       "<table border=\"1\" class=\"dataframe\">\n",
       "  <thead>\n",
       "    <tr style=\"text-align: right;\">\n",
       "      <th></th>\n",
       "      <th>VehicleType</th>\n",
       "      <th>Gearbox</th>\n",
       "      <th>Model</th>\n",
       "      <th>FuelType</th>\n",
       "      <th>Brand</th>\n",
       "      <th>Repaired</th>\n",
       "      <th>Power</th>\n",
       "      <th>Kilometer</th>\n",
       "      <th>period_of_use</th>\n",
       "    </tr>\n",
       "  </thead>\n",
       "  <tbody>\n",
       "    <tr>\n",
       "      <th>241448</th>\n",
       "      <td>2.0</td>\n",
       "      <td>1.0</td>\n",
       "      <td>166.0</td>\n",
       "      <td>6.0</td>\n",
       "      <td>12.0</td>\n",
       "      <td>0.0</td>\n",
       "      <td>143</td>\n",
       "      <td>150000</td>\n",
       "      <td>14</td>\n",
       "    </tr>\n",
       "    <tr>\n",
       "      <th>173835</th>\n",
       "      <td>4.0</td>\n",
       "      <td>1.0</td>\n",
       "      <td>170.0</td>\n",
       "      <td>4.0</td>\n",
       "      <td>37.0</td>\n",
       "      <td>2.0</td>\n",
       "      <td>194</td>\n",
       "      <td>150000</td>\n",
       "      <td>16</td>\n",
       "    </tr>\n",
       "    <tr>\n",
       "      <th>26445</th>\n",
       "      <td>4.0</td>\n",
       "      <td>0.0</td>\n",
       "      <td>95.0</td>\n",
       "      <td>2.0</td>\n",
       "      <td>20.0</td>\n",
       "      <td>1.0</td>\n",
       "      <td>150</td>\n",
       "      <td>150000</td>\n",
       "      <td>13</td>\n",
       "    </tr>\n",
       "    <tr>\n",
       "      <th>243201</th>\n",
       "      <td>5.0</td>\n",
       "      <td>1.0</td>\n",
       "      <td>173.0</td>\n",
       "      <td>6.0</td>\n",
       "      <td>37.0</td>\n",
       "      <td>1.0</td>\n",
       "      <td>105</td>\n",
       "      <td>30000</td>\n",
       "      <td>6</td>\n",
       "    </tr>\n",
       "    <tr>\n",
       "      <th>258438</th>\n",
       "      <td>7.0</td>\n",
       "      <td>1.0</td>\n",
       "      <td>164.0</td>\n",
       "      <td>6.0</td>\n",
       "      <td>24.0</td>\n",
       "      <td>0.0</td>\n",
       "      <td>144</td>\n",
       "      <td>150000</td>\n",
       "      <td>13</td>\n",
       "    </tr>\n",
       "  </tbody>\n",
       "</table>\n",
       "</div>"
      ],
      "text/plain": [
       "        VehicleType  Gearbox  Model  FuelType  Brand  Repaired  Power  \\\n",
       "241448          2.0      1.0  166.0       6.0   12.0       0.0    143   \n",
       "173835          4.0      1.0  170.0       4.0   37.0       2.0    194   \n",
       "26445           4.0      0.0   95.0       2.0   20.0       1.0    150   \n",
       "243201          5.0      1.0  173.0       6.0   37.0       1.0    105   \n",
       "258438          7.0      1.0  164.0       6.0   24.0       0.0    144   \n",
       "\n",
       "        Kilometer  period_of_use  \n",
       "241448     150000             14  \n",
       "173835     150000             16  \n",
       "26445      150000             13  \n",
       "243201      30000              6  \n",
       "258438     150000             13  "
      ]
     },
     "execution_count": 44,
     "metadata": {},
     "output_type": "execute_result"
    }
   ],
   "source": [
    "#добавляем к оставшимся количестенным переменным закодированные качесвенные\n",
    "features_train_oe = features_train_oe.join(features_train_1)\n",
    "features_valid_oe = features_valid_oe.join(features_valid_1)\n",
    "features_test_oe = features_test_oe.join(features_test_1)\n",
    "features_train_oe.head()"
   ]
  },
  {
   "cell_type": "code",
   "execution_count": 45,
   "metadata": {},
   "outputs": [
    {
     "name": "stdout",
     "output_type": "stream",
     "text": [
      "        VehicleType  Gearbox  Model  FuelType  Brand  Repaired  Power  \\\n",
      "241448          2.0      1.0  166.0       6.0   12.0       0.0    143   \n",
      "173835          4.0      1.0  170.0       4.0   37.0       2.0    194   \n",
      "26445           4.0      0.0   95.0       2.0   20.0       1.0    150   \n",
      "243201          5.0      1.0  173.0       6.0   37.0       1.0    105   \n",
      "258438          7.0      1.0  164.0       6.0   24.0       0.0    144   \n",
      "\n",
      "        Kilometer  period_of_use  \n",
      "241448     150000             14  \n",
      "173835     150000             16  \n",
      "26445      150000             13  \n",
      "243201      30000              6  \n",
      "258438     150000             13  \n",
      "        VehicleType  Gearbox  Model  FuelType  Brand  Repaired  Power  \\\n",
      "241448          2.0      1.0  166.0       6.0   12.0       0.0    143   \n",
      "173835          4.0      1.0  170.0       4.0   37.0       2.0    194   \n",
      "26445           4.0      0.0   95.0       2.0   20.0       1.0    150   \n",
      "243201          5.0      1.0  173.0       6.0   37.0       1.0    105   \n",
      "258438          7.0      1.0  164.0       6.0   24.0       0.0    144   \n",
      "\n",
      "        Kilometer  period_of_use  \n",
      "241448     150000             14  \n",
      "173835     150000             16  \n",
      "26445      150000             13  \n",
      "243201      30000              6  \n",
      "258438     150000             13  \n",
      "        VehicleType  Gearbox  Model  FuelType  Brand  Repaired  Power  \\\n",
      "241448          2.0      1.0  166.0       6.0   12.0       0.0    143   \n",
      "173835          4.0      1.0  170.0       4.0   37.0       2.0    194   \n",
      "26445           4.0      0.0   95.0       2.0   20.0       1.0    150   \n",
      "243201          5.0      1.0  173.0       6.0   37.0       1.0    105   \n",
      "258438          7.0      1.0  164.0       6.0   24.0       0.0    144   \n",
      "\n",
      "        Kilometer  period_of_use  \n",
      "241448     150000             14  \n",
      "173835     150000             16  \n",
      "26445      150000             13  \n",
      "243201      30000              6  \n",
      "258438     150000             13  \n"
     ]
    }
   ],
   "source": [
    "#проверка\n",
    "#обучющая выборка')\n",
    "print(features_train_oe.head())\n",
    "#валидационная выборка\n",
    "print(features_train_oe.head())\n",
    "#тестовая выборка\n",
    "print(features_train_oe.head())"
   ]
  },
  {
   "cell_type": "markdown",
   "metadata": {},
   "source": [
    "***Вывод:***Кодирование качественных и количественных признаков прошло успешно прошло корректно."
   ]
  },
  {
   "cell_type": "markdown",
   "metadata": {},
   "source": [
    "Сделаем ниже еще одну копию признаков, где качественные признаким не закодированы, а с количественными проведено масштабировавание. Это набор признаком будем использовать для моднлей CatBoost  и LightGBM."
   ]
  },
  {
   "cell_type": "markdown",
   "metadata": {},
   "source": [
    "**Масштабирование данных с помощью StandardScaler**"
   ]
  },
  {
   "cell_type": "code",
   "execution_count": 46,
   "metadata": {},
   "outputs": [],
   "source": [
    "#масштабирование данных для моделей линейной регрессии,, где признаки закодированы техникой OHE\n",
    "\n",
    "numeric=['period_of_use','Power','Kilometer']\n",
    "#создадим объект стандартизации и обучим его для моделей Линейной регречии и Дерева решений\n",
    "scaler = StandardScaler()    \n",
    "scaler.fit(features_train_ohe[numeric])\n",
    "#сохраним преобразованные обучающую и тестовую  выборки в переменные\n",
    "features_train_ohe[numeric] = scaler.transform(features_train_ohe[numeric])\n",
    "features_valid_ohe[numeric] = scaler.transform(features_valid_ohe[numeric])\n",
    "features_test_ohe[numeric] = scaler.transform(features_test_ohe[numeric]) \n",
    "\n",
    "\n",
    "features_train_scaled = scaler.transform(features_train_ohe[numeric])\n",
    "features_valid_scaled = scaler.transform(features_valid_ohe[numeric])\n",
    "features_test_scaled = scaler.transform(features_test_ohe[numeric])\n",
    "\n",
    "pd.options.mode.chained_assignment = None"
   ]
  },
  {
   "cell_type": "code",
   "execution_count": 48,
   "metadata": {},
   "outputs": [
    {
     "data": {
      "text/plain": [
       "array([[-1.90757127, -0.65428174, -3.33745551],\n",
       "       [-1.86614706, -0.65254251, -3.33745551],\n",
       "       [-1.92828338, -0.65404303, -3.33745551],\n",
       "       ...,\n",
       "       [-1.94899549, -0.65452046, -3.33745551],\n",
       "       [-1.72116232, -0.65322456, -3.33745551],\n",
       "       [-1.82472285, -0.6549979 , -3.33745551]])"
      ]
     },
     "execution_count": 48,
     "metadata": {},
     "output_type": "execute_result"
    }
   ],
   "source": [
    "features_train_scaled"
   ]
  },
  {
   "cell_type": "code",
   "execution_count": 51,
   "metadata": {},
   "outputs": [
    {
     "data": {
      "text/plain": [
       "array([[-1.84543496, -0.65567995, -3.33745551],\n",
       "       [-1.80401075, -0.65915841, -3.33745551],\n",
       "       [-1.96970759, -0.65312226, -3.33745551],\n",
       "       ...,\n",
       "       [-2.0111318 , -0.65731687, -3.33745551],\n",
       "       [-1.76258653, -0.65527072, -3.33745551],\n",
       "       [-1.82472285, -0.65008713, -3.33747272]])"
      ]
     },
     "execution_count": 51,
     "metadata": {},
     "output_type": "execute_result"
    }
   ],
   "source": [
    "features_valid_scaled"
   ]
  },
  {
   "cell_type": "code",
   "execution_count": 49,
   "metadata": {},
   "outputs": [
    {
     "name": "stdout",
     "output_type": "stream",
     "text": [
      "Проверка выполения стандартизации\n",
      " \n",
      "Обучающая выборка\n",
      "           Power  Kilometer  period_of_use  VehicleType_convertible  \\\n",
      "241448  0.179752   0.599138       0.093772                        0   \n",
      "173835  0.477578   0.599138       0.381606                        0   \n",
      "26445   0.220630   0.599138      -0.050145                        0   \n",
      "243201 -0.042159  -2.550149      -1.057565                        0   \n",
      "258438  0.185591   0.599138      -0.050145                        0   \n",
      "\n",
      "        VehicleType_coupe  VehicleType_other  VehicleType_sedan  \\\n",
      "241448                  1                  0                  0   \n",
      "173835                  0                  0                  1   \n",
      "26445                   0                  0                  1   \n",
      "243201                  0                  0                  0   \n",
      "258438                  0                  0                  0   \n",
      "\n",
      "        VehicleType_small  VehicleType_suv  VehicleType_wagon  ...  \\\n",
      "241448                  0                0                  0  ...   \n",
      "173835                  0                0                  0  ...   \n",
      "26445                   0                0                  0  ...   \n",
      "243201                  1                0                  0  ...   \n",
      "258438                  0                0                  1  ...   \n",
      "\n",
      "        Brand_smart  Brand_sonstige_autos  Brand_subaru  Brand_suzuki  \\\n",
      "241448            0                     0             0             0   \n",
      "173835            0                     0             0             0   \n",
      "26445             0                     0             0             0   \n",
      "243201            0                     0             0             0   \n",
      "258438            0                     0             0             0   \n",
      "\n",
      "        Brand_toyota  Brand_trabant  Brand_volkswagen  Brand_volvo  \\\n",
      "241448             0              0                 0            0   \n",
      "173835             0              0                 1            0   \n",
      "26445              0              0                 0            0   \n",
      "243201             0              0                 1            0   \n",
      "258438             0              0                 0            0   \n",
      "\n",
      "        Repaired_unknown  Repaired_yes  \n",
      "241448                 0             0  \n",
      "173835                 0             1  \n",
      "26445                  1             0  \n",
      "243201                 1             0  \n",
      "258438                 0             0  \n",
      "\n",
      "[5 rows x 308 columns]\n",
      "Валидационная выборка\n",
      "           Power  Kilometer  period_of_use  VehicleType_convertible  \\\n",
      "223673 -0.059678   0.599138       0.525523                        0   \n",
      "90554  -0.655331   0.599138       0.813357                        0   \n",
      "236796  0.378303   0.599138      -0.337979                        0   \n",
      "91129  -0.065518   0.599138       0.813357                        0   \n",
      "39080   0.419181  -1.237946      -0.769731                        1   \n",
      "\n",
      "        VehicleType_coupe  VehicleType_other  VehicleType_sedan  \\\n",
      "223673                  1                  0                  0   \n",
      "90554                   0                  0                  1   \n",
      "236796                  0                  0                  0   \n",
      "91129                   0                  0                  1   \n",
      "39080                   0                  0                  0   \n",
      "\n",
      "        VehicleType_small  VehicleType_suv  VehicleType_wagon  ...  \\\n",
      "223673                  0                0                  0  ...   \n",
      "90554                   0                0                  0  ...   \n",
      "236796                  0                0                  1  ...   \n",
      "91129                   0                0                  0  ...   \n",
      "39080                   0                0                  0  ...   \n",
      "\n",
      "        Brand_smart  Brand_sonstige_autos  Brand_subaru  Brand_suzuki  \\\n",
      "223673            0                     0             0             0   \n",
      "90554             0                     0             0             0   \n",
      "236796            0                     0             0             0   \n",
      "91129             0                     0             0             0   \n",
      "39080             0                     0             0             0   \n",
      "\n",
      "        Brand_toyota  Brand_trabant  Brand_volkswagen  Brand_volvo  \\\n",
      "223673             0              0                 0            0   \n",
      "90554              0              0                 0            0   \n",
      "236796             0              0                 0            0   \n",
      "91129              0              0                 0            0   \n",
      "39080              0              0                 0            0   \n",
      "\n",
      "        Repaired_unknown  Repaired_yes  \n",
      "223673                 0             1  \n",
      "90554                  1             0  \n",
      "236796                 0             0  \n",
      "91129                  1             0  \n",
      "39080                  0             0  \n",
      "\n",
      "[5 rows x 308 columns]\n",
      "Тестовая выборка\n",
      "           Power  Kilometer  period_of_use  VehicleType_convertible  \\\n",
      "8970    0.179752  -0.056963      -0.050145                        0   \n",
      "267922  1.149149  -2.287709      -1.345399                        0   \n",
      "32164  -0.655331   0.599138       0.093772                        0   \n",
      "67561   0.103835   0.599138       0.093772                        0   \n",
      "7408    0.162232  -2.287709      -1.489316                        0   \n",
      "\n",
      "        VehicleType_coupe  VehicleType_other  VehicleType_sedan  \\\n",
      "8970                    1                  0                  0   \n",
      "267922                  1                  0                  0   \n",
      "32164                   0                  0                  0   \n",
      "67561                   0                  0                  0   \n",
      "7408                    0                  0                  0   \n",
      "\n",
      "        VehicleType_small  VehicleType_suv  VehicleType_wagon  ...  \\\n",
      "8970                    0                0                  0  ...   \n",
      "267922                  0                0                  0  ...   \n",
      "32164                   1                0                  0  ...   \n",
      "67561                   0                0                  1  ...   \n",
      "7408                    0                0                  0  ...   \n",
      "\n",
      "        Brand_smart  Brand_sonstige_autos  Brand_subaru  Brand_suzuki  \\\n",
      "8970              0                     0             0             0   \n",
      "267922            0                     0             0             0   \n",
      "32164             0                     0             0             0   \n",
      "67561             0                     0             0             0   \n",
      "7408              0                     0             0             0   \n",
      "\n",
      "        Brand_toyota  Brand_trabant  Brand_volkswagen  Brand_volvo  \\\n",
      "8970               0              0                 0            0   \n",
      "267922             0              0                 0            0   \n",
      "32164              0              0                 0            0   \n",
      "67561              0              0                 0            0   \n",
      "7408               0              0                 0            0   \n",
      "\n",
      "        Repaired_unknown  Repaired_yes  \n",
      "8970                   0             0  \n",
      "267922                 0             1  \n",
      "32164                  0             0  \n",
      "67561                  1             0  \n",
      "7408                   0             0  \n",
      "\n",
      "[5 rows x 308 columns]\n"
     ]
    }
   ],
   "source": [
    "print('Проверка выполения стандартизации')\n",
    "print(' ')\n",
    "print('Обучающая выборка')\n",
    "print(features_train_ohe.head())\n",
    "print('Валидационная выборка')\n",
    "print(features_valid_ohe.head())\n",
    "print('Тестовая выборка')\n",
    "print(features_test_ohe.head())"
   ]
  },
  {
   "cell_type": "code",
   "execution_count": 48,
   "metadata": {},
   "outputs": [],
   "source": [
    "#масштабирование данных для моделей линейной регрессии, дерева решений b LightGBM\n",
    "\n",
    "numeric=['period_of_use','Power','Kilometer']\n",
    "#создадим объект стандартизации и обучим его для моделей Линейной регречии и Дерева решений\n",
    "scaler = StandardScaler()    \n",
    "scaler.fit(features_train_oe[numeric])\n",
    "#сохраним преобразованные обучающую и тестовую  выборки в переменные\n",
    "features_train_oe[numeric] = scaler.transform(features_train_oe[numeric])\n",
    "features_valid_oe[numeric] = scaler.transform(features_valid_oe[numeric])\n",
    "features_test_oe[numeric] = scaler.transform(features_test_oe[numeric]) \n",
    "\n",
    "\n",
    "features_train_scaled = scaler.transform(features_train_oe[numeric])\n",
    "features_valid_scaled = scaler.transform(features_valid_oe[numeric])\n",
    "features_test_scaled = scaler.transform(features_test_oe[numeric])\n",
    "\n",
    "pd.options.mode.chained_assignment = None\n"
   ]
  },
  {
   "cell_type": "code",
   "execution_count": 49,
   "metadata": {},
   "outputs": [
    {
     "name": "stdout",
     "output_type": "stream",
     "text": [
      "Проверка выполения стандартизации\n",
      " \n",
      "Обучающая выборка\n",
      "        VehicleType  Gearbox  Model  FuelType  Brand  Repaired     Power  \\\n",
      "241448          2.0      1.0  166.0       6.0   12.0       0.0  0.179752   \n",
      "173835          4.0      1.0  170.0       4.0   37.0       2.0  0.477578   \n",
      "26445           4.0      0.0   95.0       2.0   20.0       1.0  0.220630   \n",
      "243201          5.0      1.0  173.0       6.0   37.0       1.0 -0.042159   \n",
      "258438          7.0      1.0  164.0       6.0   24.0       0.0  0.185591   \n",
      "\n",
      "        Kilometer  period_of_use  \n",
      "241448   0.599138       0.093772  \n",
      "173835   0.599138       0.381606  \n",
      "26445    0.599138      -0.050145  \n",
      "243201  -2.550149      -1.057565  \n",
      "258438   0.599138      -0.050145  \n",
      "Валидационная выборка\n",
      "        VehicleType  Gearbox  Model  FuelType  Brand  Repaired     Power  \\\n",
      "223673          2.0      0.0  227.0       6.0    2.0       2.0 -0.059678   \n",
      "90554           4.0      1.0   11.0       6.0    2.0       1.0 -0.655331   \n",
      "236796          7.0      0.0   15.0       2.0    2.0       0.0  0.378303   \n",
      "91129           4.0      1.0  234.0       5.0   24.0       1.0 -0.065518   \n",
      "39080           1.0      0.0  207.0       6.0   20.0       0.0  0.419181   \n",
      "\n",
      "        Kilometer  period_of_use  \n",
      "223673   0.599138       0.525523  \n",
      "90554    0.599138       0.813357  \n",
      "236796   0.599138      -0.337979  \n",
      "91129    0.599138       0.813357  \n",
      "39080   -1.237946      -0.769731  \n",
      "Тестовая выборка\n",
      "        VehicleType  Gearbox  Model  FuelType  Brand  Repaired     Power  \\\n",
      "8970            2.0      1.0   11.0       6.0    2.0       0.0  0.179752   \n",
      "267922          2.0      1.0  157.0       6.0   10.0       2.0  1.149149   \n",
      "32164           5.0      1.0   83.0       6.0   24.0       0.0 -0.655331   \n",
      "67561           7.0      1.0  154.0       2.0   10.0       1.0  0.103835   \n",
      "7408            0.0      1.0  249.0       6.0   24.0       0.0  0.162232   \n",
      "\n",
      "        Kilometer  period_of_use  \n",
      "8970    -0.056963      -0.050145  \n",
      "267922  -2.287709      -1.345399  \n",
      "32164    0.599138       0.093772  \n",
      "67561    0.599138       0.093772  \n",
      "7408    -2.287709      -1.489316  \n"
     ]
    }
   ],
   "source": [
    "print('Проверка выполения стандартизации')\n",
    "print(' ')\n",
    "print('Обучающая выборка')\n",
    "print(features_train_oe.head())\n",
    "print('Валидационная выборка')\n",
    "print(features_valid_oe.head())\n",
    "print('Тестовая выборка')\n",
    "print(features_test_oe.head())"
   ]
  },
  {
   "cell_type": "code",
   "execution_count": 50,
   "metadata": {},
   "outputs": [
    {
     "name": "stdout",
     "output_type": "stream",
     "text": [
      "Проверка выполения стандартизации\n",
      " \n",
      "Обучающая выборка\n",
      "       VehicleType Gearbox     Power     Model  Kilometer  FuelType  \\\n",
      "241448       coupe  manual  0.179752     other   0.599138    petrol   \n",
      "173835       sedan  manual  0.477578    passat   0.599138       lpg   \n",
      "26445        sedan    auto  0.220630  e_klasse   0.599138  gasoline   \n",
      "243201       small  manual -0.042159      polo  -2.550149    petrol   \n",
      "258438       wagon  manual  0.185591     omega   0.599138    petrol   \n",
      "\n",
      "                Brand Repaired  period_of_use  \n",
      "241448        hyundai       no       0.093772  \n",
      "173835     volkswagen      yes       0.381606  \n",
      "26445   mercedes_benz  unknown      -0.050145  \n",
      "243201     volkswagen  unknown      -1.057565  \n",
      "258438           opel       no      -0.050145  \n",
      "Валидационная выборка\n",
      "Тестовая выборка\n"
     ]
    }
   ],
   "source": [
    "#масштабирование данных для моделей CatBoost \n",
    "\n",
    "#копируем выборки для моделей \n",
    "features_train_boosting = features_train.copy()\n",
    "features_valid_boosting = features_valid.copy()\n",
    "features_test_boosting = features_test.copy()\n",
    "\n",
    "numeric=['period_of_use','Power','Kilometer']\n",
    "#создадим объект стандартизации и обучим его для моделей Линейной регречии и Дерева решений\n",
    "scaler = StandardScaler()    \n",
    "scaler.fit(features_train[numeric])\n",
    "#сохраним преобразованные обучающую и тестовую  выборки в переменные\n",
    "features_train_boosting[numeric] = scaler.transform(features_train[numeric])\n",
    "features_valid_boosting[numeric] = scaler.transform(features_valid[numeric])\n",
    "features_test_boosting[numeric] = scaler.transform(features_test[numeric]) \n",
    "\n",
    "\n",
    "features_train_scaled_boosting = scaler.transform(features_train[numeric])\n",
    "features_valid_scaled_boosting = scaler.transform(features_valid[numeric])\n",
    "features_test_scaled_boosting = scaler.transform(features_test[numeric])\n",
    "\n",
    "pd.options.mode.chained_assignment = None\n",
    "\n",
    "\n",
    "print('Проверка выполения стандартизации')\n",
    "print(' ')\n",
    "print('Обучающая выборка')\n",
    "print(features_train_boosting.head())\n",
    "print('Валидационная выборка')\n",
    "#print(features_valid_boosting.head())\n",
    "print('Тестовая выборка')\n",
    "#print(features_test_boosting.head())"
   ]
  },
  {
   "cell_type": "code",
   "execution_count": 51,
   "metadata": {},
   "outputs": [
    {
     "name": "stdout",
     "output_type": "stream",
     "text": [
      "Index(['VehicleType', 'Gearbox', 'Power', 'Model', 'Kilometer', 'FuelType',\n",
      "       'Brand', 'Repaired', 'period_of_use'],\n",
      "      dtype='object')\n",
      "   VehicleType  Gearbox  Model  FuelType  Brand  Repaired     Power  \\\n",
      "0          2.0      1.0   11.0       6.0    2.0       0.0  0.179752   \n",
      "1          2.0      1.0  157.0       6.0   10.0       2.0  1.149149   \n",
      "2          5.0      1.0   83.0       6.0   24.0       0.0 -0.655331   \n",
      "3          7.0      1.0  154.0       2.0   10.0       1.0  0.103835   \n",
      "4          0.0      1.0  249.0       6.0   24.0       0.0  0.162232   \n",
      "\n",
      "   Kilometer  period_of_use  \n",
      "0  -0.056963      -0.050145  \n",
      "1  -2.287709      -1.345399  \n",
      "2   0.599138       0.093772  \n",
      "3   0.599138       0.093772  \n",
      "4  -2.287709      -1.489316  \n"
     ]
    }
   ],
   "source": [
    "#сбросим индексы, чтобы в дальнейшем было проще сопостовлять данные в target и prediction\n",
    "features_train_oe = features_train_oe.reset_index(drop=True)\n",
    "features_valid_oe = features_valid_oe.reset_index(drop=True)\n",
    "features_test_oe = features_test_oe.reset_index(drop=True)\n",
    "\n",
    "features_train_boosting = features_train_boosting.reset_index(drop=True)\n",
    "features_valid_boosting = features_valid_boosting.reset_index(drop=True)\n",
    "features_test_boosting = features_test_boosting.reset_index(drop=True)\n",
    "\n",
    "\n",
    "target_train = target_train.reset_index(drop=True)\n",
    "target_valid = target_valid.reset_index(drop=True)\n",
    "target_test = target_test .reset_index(drop=True)\n",
    "print(features_train.columns)\n",
    "print(features_test_oe.head())"
   ]
  },
  {
   "cell_type": "markdown",
   "metadata": {},
   "source": [
    "***Вывод***\n",
    "Данные прошли преобработку, выборки разделены на тренировочную и тестовую, данные закодированы и масштабированы. Теперь приступим к обучению моделей, выбору  лучшей, при этом оценивая качество предсказания и  скорость обучения.\n",
    "При этом по условию задачи значение метрики RMSE должно быть меньше 2500."
   ]
  },
  {
   "cell_type": "markdown",
   "metadata": {},
   "source": [
    "## Обучение моделей"
   ]
  },
  {
   "cell_type": "markdown",
   "metadata": {},
   "source": [
    "***Linear Regression***"
   ]
  },
  {
   "cell_type": "code",
   "execution_count": 52,
   "metadata": {},
   "outputs": [
    {
     "name": "stdout",
     "output_type": "stream",
     "text": [
      "Время обучения LinearRegression: 1.7330057621002197 секунд\n",
      "Количество заданий для вычисления 19\n",
      "Лучший RMSE для модели LinearRegression 3916.02\n",
      "CPU times: user 560 ms, sys: 1.21 s, total: 1.77 s\n",
      "Wall time: 1.74 s\n"
     ]
    }
   ],
   "source": [
    "%%time\n",
    "start = time.time()\n",
    "\n",
    "#подберем параметры модели LinearRegression с помощью цикла\n",
    "\n",
    "result =2500\n",
    "for i in range (1,20):\n",
    "    lmodel = LinearRegression(normalize=True, n_jobs = i)\n",
    "    lmodel.fit(features_train_scaled, target_train_ohe)\n",
    "    prediction_lmodel = lmodel.predict(features_valid_scaled)\n",
    "    mse_lr_model = mean_squared_error(target_valid_ohe, prediction_lmodel)\n",
    "    rmse_lr_model = round((mse_lr_model) ** 0.5, 2)\n",
    "    if rmse_lr_model < result:\n",
    "        result = rmse_lr_model\n",
    "        n_jobs = i #наибольшая доля правильных ответов\n",
    "            \n",
    "end = time.time()\n",
    "training_time_lr = end-start\n",
    "    \n",
    "\n",
    "print(\"Время обучения LinearRegression: %s секунд\" % training_time_lr)\n",
    "print(\"Количество заданий для вычисления\" , i)\n",
    "print(\"Лучший RMSE для модели LinearRegression\", rmse_lr_model)"
   ]
  },
  {
   "cell_type": "code",
   "execution_count": 53,
   "metadata": {},
   "outputs": [
    {
     "name": "stdout",
     "output_type": "stream",
     "text": [
      "Время обучения LinearRegression: 13.894651889801025 секунд\n"
     ]
    }
   ],
   "source": [
    "#отдельно посчитиаем время обучения по подобранным параментрам\n",
    "\n",
    "start = time.time()\n",
    "lmodel = LinearRegression(normalize=True, n_jobs = 19)\n",
    "\n",
    "lmodel.fit(features_train_ohe, target_train_ohe)\n",
    "\n",
    "end = time.time()\n",
    "training_time_lr = end-start\n",
    "\n",
    "print(\"Время обучения LinearRegression: %s секунд\" % training_time_lr)"
   ]
  },
  {
   "cell_type": "code",
   "execution_count": 54,
   "metadata": {},
   "outputs": [
    {
     "name": "stdout",
     "output_type": "stream",
     "text": [
      "Время предсказания LinearRegression: 0.21145892143249512 секунд\n"
     ]
    }
   ],
   "source": [
    "#посчитаем время предсказания\n",
    "\n",
    "start = time.time()\n",
    "prediction_lmodel = lmodel.predict(features_valid_ohe)\n",
    "\n",
    "end = time.time()\n",
    "prediction_time_lr = end-start\n",
    "print(\"Время предсказания LinearRegression: %s секунд\" % prediction_time_lr)"
   ]
  },
  {
   "cell_type": "code",
   "execution_count": 55,
   "metadata": {},
   "outputs": [
    {
     "name": "stdout",
     "output_type": "stream",
     "text": [
      "<class 'pandas.core.frame.DataFrame'>\n",
      "RangeIndex: 114438 entries, 0 to 114437\n",
      "Data columns (total 9 columns):\n",
      " #   Column         Non-Null Count   Dtype  \n",
      "---  ------         --------------   -----  \n",
      " 0   VehicleType    114438 non-null  float64\n",
      " 1   Gearbox        114438 non-null  float64\n",
      " 2   Model          114438 non-null  float64\n",
      " 3   FuelType       114438 non-null  float64\n",
      " 4   Brand          114438 non-null  float64\n",
      " 5   Repaired       114438 non-null  float64\n",
      " 6   Power          114438 non-null  float64\n",
      " 7   Kilometer      114438 non-null  float64\n",
      " 8   period_of_use  114438 non-null  float64\n",
      "dtypes: float64(9)\n",
      "memory usage: 7.9 MB\n"
     ]
    }
   ],
   "source": [
    "features_train_oe.info()"
   ]
  },
  {
   "cell_type": "code",
   "execution_count": 56,
   "metadata": {},
   "outputs": [
    {
     "name": "stdout",
     "output_type": "stream",
     "text": [
      "RMSE для линейной модели на тестовой выборке: 198504700116786.6\n"
     ]
    }
   ],
   "source": [
    "#RMSE моделей будем рассчитывать как корень из MAE\n",
    "\n",
    "mse_lr_model = mean_squared_error(target_valid_ohe, prediction_lmodel)\n",
    "rmse_lr_model = round((mse_lr_model) ** 0.5, 2)\n",
    "\n",
    "print(\"RMSE для линейной модели на тестовой выборке:\", rmse_lr_model)"
   ]
  },
  {
   "cell_type": "markdown",
   "metadata": {},
   "source": [
    "***Регрессия DecisionTreeRegressor***"
   ]
  },
  {
   "cell_type": "code",
   "execution_count": 57,
   "metadata": {},
   "outputs": [
    {
     "name": "stdout",
     "output_type": "stream",
     "text": [
      "Лучшие параметры для модели: {'max_depth': 100, 'max_features': 7, 'min_samples_leaf': 3}\n",
      "Лучшая метрика модели: 0.7985301874759423\n",
      "CPU times: user 20.5 s, sys: 247 ms, total: 20.8 s\n",
      "Wall time: 20.8 s\n"
     ]
    }
   ],
   "source": [
    "%%time\n",
    "#инициализируем модедь DecisionTreeRegressor\n",
    "dtr_model = DecisionTreeRegressor(random_state = 12345, criterion='mse')\n",
    "\n",
    "#подберем параметры\n",
    "\n",
    "grid_space={'max_depth':[3,5,10,100],\n",
    "              'max_features':[1,3,5,7],\n",
    "              'min_samples_leaf':[1,2,3],\n",
    "              #'min_samples_split':[1,2,3]\n",
    "           }\n",
    "#запускаем обучение\n",
    "grid = GridSearchCV(dtr_model, param_grid = grid_space, cv=5)\n",
    "model_grid = grid.fit(features_train_oe, target_train)\n",
    "\n",
    "#model_predict = grid.predict(features_test_ohe, target_test)\n",
    "\n",
    "#выводим результат\n",
    "print('Лучшие параметры для модели: '+str(model_grid.best_params_))\n",
    "print('Лучшая метрика модели: '+str(model_grid.best_score_))\n",
    "#print('Лучшая модели, метрика на тестовой выборке : '+str(model_predict.best_estimator_))"
   ]
  },
  {
   "cell_type": "code",
   "execution_count": 58,
   "metadata": {},
   "outputs": [
    {
     "name": "stdout",
     "output_type": "stream",
     "text": [
      "Время DecisionTreeRegressor: 0.34961891174316406 секунд\n"
     ]
    }
   ],
   "source": [
    "#отдельно посчитиаем время обучения по подобранным параментрам\n",
    "\n",
    "start = time.time()\n",
    "dtr_model = DecisionTreeRegressor(random_state = 12345, criterion='mse', \n",
    "                              max_depth=100, \n",
    "                              max_features=7,\n",
    "                              min_samples_leaf = 1) \n",
    "\n",
    "dtr_model.fit(features_train_oe, target_train)\n",
    "\n",
    "end = time.time()\n",
    "trainung_time_dtr = end-start\n",
    "\n",
    "print(\"Время DecisionTreeRegressor: %s секунд\" % trainung_time_dtr)"
   ]
  },
  {
   "cell_type": "code",
   "execution_count": 59,
   "metadata": {},
   "outputs": [
    {
     "name": "stdout",
     "output_type": "stream",
     "text": [
      "Время предсказания DecisionTreeRegressor: 0.055304765701293945 секунд\n"
     ]
    }
   ],
   "source": [
    "#посчитаем время предсказания\n",
    "\n",
    "start = time.time()\n",
    "preds_dtr_model = dtr_model.predict(features_valid_oe)\n",
    "\n",
    "end = time.time()\n",
    "\n",
    "prediction_time_dtr = end-start\n",
    "print(\"Время предсказания DecisionTreeRegressor: %s секунд\" % prediction_time_dtr)"
   ]
  },
  {
   "cell_type": "code",
   "execution_count": 60,
   "metadata": {},
   "outputs": [
    {
     "name": "stdout",
     "output_type": "stream",
     "text": [
      "RMSE для DecisionTreeRegresso модели на тестовой выборке: 2220.53\n"
     ]
    }
   ],
   "source": [
    "#рассчитаем RMSE модели DecisionTreeRegressor\n",
    "\n",
    "mse_dtr_model = mean_squared_error(target_valid, preds_dtr_model)\n",
    "rmse_dtr_model = round((mse_dtr_model) ** 0.5, 2)\n",
    "print(\"RMSE для DecisionTreeRegresso модели на тестовой выборке:\", rmse_dtr_model)\n",
    "\n"
   ]
  },
  {
   "cell_type": "markdown",
   "metadata": {},
   "source": [
    "***Модель CatBoost***"
   ]
  },
  {
   "cell_type": "code",
   "execution_count": 61,
   "metadata": {},
   "outputs": [
    {
     "name": "stdout",
     "output_type": "stream",
     "text": [
      "0:\tlearn: 4529.7872285\ttotal: 78.1ms\tremaining: 703ms\n",
      "1:\tlearn: 4458.8045661\ttotal: 109ms\tremaining: 437ms\n",
      "2:\tlearn: 4390.2755060\ttotal: 130ms\tremaining: 304ms\n",
      "3:\tlearn: 4325.2918522\ttotal: 159ms\tremaining: 239ms\n",
      "4:\tlearn: 4262.4712272\ttotal: 179ms\tremaining: 179ms\n",
      "5:\tlearn: 4202.5965852\ttotal: 199ms\tremaining: 133ms\n",
      "6:\tlearn: 4145.3701080\ttotal: 219ms\tremaining: 93.8ms\n",
      "7:\tlearn: 4090.3462796\ttotal: 239ms\tremaining: 59.6ms\n",
      "8:\tlearn: 4036.6278821\ttotal: 258ms\tremaining: 28.7ms\n",
      "9:\tlearn: 3984.8024121\ttotal: 279ms\tremaining: 0us\n",
      "0:\tlearn: 4529.2940405\ttotal: 27.3ms\tremaining: 246ms\n",
      "1:\tlearn: 4458.0847292\ttotal: 54.4ms\tremaining: 217ms\n",
      "2:\tlearn: 4389.5820724\ttotal: 81.7ms\tremaining: 191ms\n",
      "3:\tlearn: 4324.2410883\ttotal: 109ms\tremaining: 164ms\n",
      "4:\tlearn: 4261.2666429\ttotal: 130ms\tremaining: 130ms\n",
      "5:\tlearn: 4200.7942986\ttotal: 150ms\tremaining: 100ms\n",
      "6:\tlearn: 4143.7796627\ttotal: 171ms\tremaining: 73.1ms\n",
      "7:\tlearn: 4088.2280798\ttotal: 190ms\tremaining: 47.5ms\n",
      "8:\tlearn: 4034.7333947\ttotal: 210ms\tremaining: 23.4ms\n",
      "9:\tlearn: 3983.0916526\ttotal: 231ms\tremaining: 0us\n",
      "0:\tlearn: 4523.8932393\ttotal: 26.7ms\tremaining: 240ms\n",
      "1:\tlearn: 4452.7997728\ttotal: 52.9ms\tremaining: 212ms\n",
      "2:\tlearn: 4384.2882325\ttotal: 73.4ms\tremaining: 171ms\n",
      "3:\tlearn: 4319.0449833\ttotal: 100ms\tremaining: 150ms\n",
      "4:\tlearn: 4256.4302591\ttotal: 121ms\tremaining: 121ms\n",
      "5:\tlearn: 4196.4844345\ttotal: 140ms\tremaining: 93.6ms\n",
      "6:\tlearn: 4139.1547812\ttotal: 164ms\tremaining: 70.5ms\n",
      "7:\tlearn: 4083.1443284\ttotal: 196ms\tremaining: 49ms\n",
      "8:\tlearn: 4028.9769349\ttotal: 229ms\tremaining: 25.4ms\n",
      "9:\tlearn: 3977.1902579\ttotal: 250ms\tremaining: 0us\n",
      "0:\tlearn: 4522.6561877\ttotal: 27.6ms\tremaining: 249ms\n",
      "1:\tlearn: 4452.0197893\ttotal: 55.8ms\tremaining: 223ms\n",
      "2:\tlearn: 4384.0230616\ttotal: 76.4ms\tremaining: 178ms\n",
      "3:\tlearn: 4319.5731811\ttotal: 103ms\tremaining: 155ms\n",
      "4:\tlearn: 4256.9202753\ttotal: 124ms\tremaining: 124ms\n",
      "5:\tlearn: 4196.7766048\ttotal: 145ms\tremaining: 96.5ms\n",
      "6:\tlearn: 4139.6548988\ttotal: 165ms\tremaining: 70.8ms\n",
      "7:\tlearn: 4083.3220598\ttotal: 186ms\tremaining: 46.4ms\n",
      "8:\tlearn: 4030.0897313\ttotal: 206ms\tremaining: 22.9ms\n",
      "9:\tlearn: 3977.9956474\ttotal: 226ms\tremaining: 0us\n",
      "0:\tlearn: 4514.3534627\ttotal: 27.6ms\tremaining: 248ms\n",
      "1:\tlearn: 4443.4746964\ttotal: 55.1ms\tremaining: 220ms\n",
      "2:\tlearn: 4375.5398900\ttotal: 75.7ms\tremaining: 177ms\n",
      "3:\tlearn: 4311.0828093\ttotal: 102ms\tremaining: 153ms\n",
      "4:\tlearn: 4249.5552327\ttotal: 122ms\tremaining: 122ms\n",
      "5:\tlearn: 4189.2651369\ttotal: 142ms\tremaining: 94.9ms\n",
      "6:\tlearn: 4131.9839440\ttotal: 169ms\tremaining: 72.3ms\n",
      "7:\tlearn: 4075.4844473\ttotal: 194ms\tremaining: 48.4ms\n",
      "8:\tlearn: 4022.3818450\ttotal: 214ms\tremaining: 23.7ms\n",
      "9:\tlearn: 3970.5190574\ttotal: 235ms\tremaining: 0us\n",
      "0:\tlearn: 4360.5746081\ttotal: 27.3ms\tremaining: 246ms\n",
      "1:\tlearn: 4151.4911261\ttotal: 54.1ms\tremaining: 217ms\n",
      "2:\tlearn: 3969.1135135\ttotal: 74.6ms\tremaining: 174ms\n",
      "3:\tlearn: 3804.5012512\ttotal: 102ms\tremaining: 153ms\n",
      "4:\tlearn: 3664.1518103\ttotal: 124ms\tremaining: 124ms\n",
      "5:\tlearn: 3533.3946276\ttotal: 145ms\tremaining: 96.4ms\n",
      "6:\tlearn: 3421.9726520\ttotal: 166ms\tremaining: 71.3ms\n",
      "7:\tlearn: 3315.1238770\ttotal: 188ms\tremaining: 47.1ms\n",
      "8:\tlearn: 3218.7786533\ttotal: 209ms\tremaining: 23.2ms\n",
      "9:\tlearn: 3141.5243992\ttotal: 229ms\tremaining: 0us\n",
      "0:\tlearn: 4359.7373674\ttotal: 44.6ms\tremaining: 402ms\n",
      "1:\tlearn: 4151.1591949\ttotal: 74.9ms\tremaining: 300ms\n",
      "2:\tlearn: 3967.6849091\ttotal: 95.6ms\tremaining: 223ms\n",
      "3:\tlearn: 3804.8276229\ttotal: 129ms\tremaining: 193ms\n",
      "4:\tlearn: 3662.4857079\ttotal: 150ms\tremaining: 150ms\n",
      "5:\tlearn: 3538.4637536\ttotal: 171ms\tremaining: 114ms\n",
      "6:\tlearn: 3412.5974123\ttotal: 193ms\tremaining: 82.8ms\n",
      "7:\tlearn: 3305.1001606\ttotal: 214ms\tremaining: 53.4ms\n",
      "8:\tlearn: 3211.0783018\ttotal: 234ms\tremaining: 26ms\n",
      "9:\tlearn: 3131.0172379\ttotal: 255ms\tremaining: 0us\n",
      "0:\tlearn: 4354.5725758\ttotal: 26.9ms\tremaining: 242ms\n",
      "1:\tlearn: 4147.3146418\ttotal: 53ms\tremaining: 212ms\n",
      "2:\tlearn: 3963.7584604\ttotal: 76ms\tremaining: 177ms\n",
      "3:\tlearn: 3799.5230798\ttotal: 103ms\tremaining: 155ms\n",
      "4:\tlearn: 3658.7184422\ttotal: 123ms\tremaining: 123ms\n",
      "5:\tlearn: 3520.6069543\ttotal: 144ms\tremaining: 95.8ms\n",
      "6:\tlearn: 3404.1315474\ttotal: 164ms\tremaining: 70.1ms\n",
      "7:\tlearn: 3296.3215615\ttotal: 184ms\tremaining: 46ms\n",
      "8:\tlearn: 3200.6603220\ttotal: 203ms\tremaining: 22.6ms\n",
      "9:\tlearn: 3119.2928798\ttotal: 223ms\tremaining: 0us\n",
      "0:\tlearn: 4354.1665927\ttotal: 27.7ms\tremaining: 249ms\n",
      "1:\tlearn: 4146.6876485\ttotal: 55.6ms\tremaining: 222ms\n",
      "2:\tlearn: 3965.4713410\ttotal: 75.8ms\tremaining: 177ms\n",
      "3:\tlearn: 3802.8191554\ttotal: 103ms\tremaining: 154ms\n",
      "4:\tlearn: 3663.8098839\ttotal: 123ms\tremaining: 123ms\n",
      "5:\tlearn: 3534.3893065\ttotal: 144ms\tremaining: 95.7ms\n",
      "6:\tlearn: 3416.7926678\ttotal: 164ms\tremaining: 70.2ms\n",
      "7:\tlearn: 3316.1420023\ttotal: 185ms\tremaining: 46.2ms\n",
      "8:\tlearn: 3211.0618300\ttotal: 205ms\tremaining: 22.8ms\n",
      "9:\tlearn: 3122.3407650\ttotal: 224ms\tremaining: 0us\n",
      "0:\tlearn: 4345.4635727\ttotal: 27ms\tremaining: 243ms\n",
      "1:\tlearn: 4136.7911815\ttotal: 54.4ms\tremaining: 218ms\n",
      "2:\tlearn: 3951.9245416\ttotal: 75.5ms\tremaining: 176ms\n",
      "3:\tlearn: 3795.1048129\ttotal: 102ms\tremaining: 154ms\n",
      "4:\tlearn: 3643.0563280\ttotal: 123ms\tremaining: 123ms\n",
      "5:\tlearn: 3517.3261083\ttotal: 143ms\tremaining: 95.2ms\n",
      "6:\tlearn: 3401.4607410\ttotal: 163ms\tremaining: 70ms\n",
      "7:\tlearn: 3301.4356848\ttotal: 183ms\tremaining: 45.9ms\n",
      "8:\tlearn: 3214.0761630\ttotal: 203ms\tremaining: 22.6ms\n",
      "9:\tlearn: 3120.8679097\ttotal: 230ms\tremaining: 0us\n",
      "0:\tlearn: 4529.7872285\ttotal: 27.5ms\tremaining: 523ms\n",
      "1:\tlearn: 4458.8045661\ttotal: 54.4ms\tremaining: 490ms\n",
      "2:\tlearn: 4390.2755060\ttotal: 74.9ms\tremaining: 424ms\n",
      "3:\tlearn: 4325.2918522\ttotal: 102ms\tremaining: 409ms\n",
      "4:\tlearn: 4262.4712272\ttotal: 122ms\tremaining: 367ms\n",
      "5:\tlearn: 4202.5965852\ttotal: 142ms\tremaining: 331ms\n",
      "6:\tlearn: 4145.3701080\ttotal: 163ms\tremaining: 303ms\n",
      "7:\tlearn: 4090.3462796\ttotal: 185ms\tremaining: 277ms\n",
      "8:\tlearn: 4036.6278821\ttotal: 207ms\tremaining: 253ms\n",
      "9:\tlearn: 3984.8024121\ttotal: 234ms\tremaining: 234ms\n",
      "10:\tlearn: 3935.3183536\ttotal: 259ms\tremaining: 212ms\n",
      "11:\tlearn: 3887.1018731\ttotal: 280ms\tremaining: 187ms\n",
      "12:\tlearn: 3838.4504042\ttotal: 301ms\tremaining: 162ms\n",
      "13:\tlearn: 3793.7843691\ttotal: 321ms\tremaining: 138ms\n",
      "14:\tlearn: 3750.5762759\ttotal: 342ms\tremaining: 114ms\n",
      "15:\tlearn: 3708.6192415\ttotal: 362ms\tremaining: 90.5ms\n",
      "16:\tlearn: 3666.8083164\ttotal: 383ms\tremaining: 67.5ms\n",
      "17:\tlearn: 3628.3223132\ttotal: 403ms\tremaining: 44.8ms\n",
      "18:\tlearn: 3590.4565212\ttotal: 424ms\tremaining: 22.3ms\n",
      "19:\tlearn: 3552.6748564\ttotal: 445ms\tremaining: 0us\n",
      "0:\tlearn: 4529.2940405\ttotal: 26.1ms\tremaining: 497ms\n",
      "1:\tlearn: 4458.0847292\ttotal: 53.1ms\tremaining: 478ms\n",
      "2:\tlearn: 4389.5820724\ttotal: 72.7ms\tremaining: 412ms\n",
      "3:\tlearn: 4324.2410883\ttotal: 99.8ms\tremaining: 399ms\n",
      "4:\tlearn: 4261.2666429\ttotal: 120ms\tremaining: 361ms\n",
      "5:\tlearn: 4200.7942986\ttotal: 141ms\tremaining: 328ms\n",
      "6:\tlearn: 4143.7796627\ttotal: 166ms\tremaining: 307ms\n",
      "7:\tlearn: 4088.2280798\ttotal: 189ms\tremaining: 283ms\n",
      "8:\tlearn: 4034.7333947\ttotal: 209ms\tremaining: 255ms\n",
      "9:\tlearn: 3983.0916526\ttotal: 242ms\tremaining: 242ms\n",
      "10:\tlearn: 3933.6033430\ttotal: 277ms\tremaining: 227ms\n",
      "11:\tlearn: 3885.6629028\ttotal: 301ms\tremaining: 201ms\n",
      "12:\tlearn: 3837.6821266\ttotal: 320ms\tremaining: 173ms\n",
      "13:\tlearn: 3793.3036525\ttotal: 340ms\tremaining: 146ms\n",
      "14:\tlearn: 3749.2717569\ttotal: 360ms\tremaining: 120ms\n",
      "15:\tlearn: 3707.4998005\ttotal: 380ms\tremaining: 94.9ms\n",
      "16:\tlearn: 3665.8382050\ttotal: 400ms\tremaining: 70.6ms\n",
      "17:\tlearn: 3627.0533620\ttotal: 423ms\tremaining: 47ms\n",
      "18:\tlearn: 3586.9782360\ttotal: 446ms\tremaining: 23.5ms\n",
      "19:\tlearn: 3551.4488023\ttotal: 468ms\tremaining: 0us\n",
      "0:\tlearn: 4523.8932393\ttotal: 41ms\tremaining: 780ms\n",
      "1:\tlearn: 4452.7997728\ttotal: 67.9ms\tremaining: 611ms\n",
      "2:\tlearn: 4384.2882325\ttotal: 94.8ms\tremaining: 537ms\n",
      "3:\tlearn: 4319.0449833\ttotal: 130ms\tremaining: 519ms\n",
      "4:\tlearn: 4256.4302591\ttotal: 152ms\tremaining: 456ms\n",
      "5:\tlearn: 4196.4844345\ttotal: 174ms\tremaining: 407ms\n",
      "6:\tlearn: 4139.1547812\ttotal: 196ms\tremaining: 364ms\n",
      "7:\tlearn: 4083.1443284\ttotal: 218ms\tremaining: 327ms\n",
      "8:\tlearn: 4028.9769349\ttotal: 243ms\tremaining: 297ms\n",
      "9:\tlearn: 3977.1902579\ttotal: 264ms\tremaining: 264ms\n",
      "10:\tlearn: 3928.3274997\ttotal: 285ms\tremaining: 233ms\n",
      "11:\tlearn: 3880.4615919\ttotal: 306ms\tremaining: 204ms\n",
      "12:\tlearn: 3831.4062031\ttotal: 328ms\tremaining: 176ms\n",
      "13:\tlearn: 3787.1516803\ttotal: 351ms\tremaining: 150ms\n",
      "14:\tlearn: 3744.1808394\ttotal: 372ms\tremaining: 124ms\n",
      "15:\tlearn: 3702.1765479\ttotal: 394ms\tremaining: 98.4ms\n",
      "16:\tlearn: 3660.1652954\ttotal: 415ms\tremaining: 73.2ms\n",
      "17:\tlearn: 3621.2811590\ttotal: 436ms\tremaining: 48.4ms\n",
      "18:\tlearn: 3581.2633955\ttotal: 457ms\tremaining: 24.1ms\n",
      "19:\tlearn: 3545.3797341\ttotal: 479ms\tremaining: 0us\n",
      "0:\tlearn: 4522.6561877\ttotal: 26.7ms\tremaining: 508ms\n",
      "1:\tlearn: 4452.0197893\ttotal: 53.8ms\tremaining: 484ms\n",
      "2:\tlearn: 4384.0230616\ttotal: 72.9ms\tremaining: 413ms\n",
      "3:\tlearn: 4319.5731811\ttotal: 98.7ms\tremaining: 395ms\n",
      "4:\tlearn: 4256.9202753\ttotal: 118ms\tremaining: 355ms\n",
      "5:\tlearn: 4196.7766048\ttotal: 138ms\tremaining: 321ms\n",
      "6:\tlearn: 4139.6548988\ttotal: 158ms\tremaining: 293ms\n",
      "7:\tlearn: 4083.3220598\ttotal: 177ms\tremaining: 265ms\n",
      "8:\tlearn: 4030.0897313\ttotal: 196ms\tremaining: 240ms\n",
      "9:\tlearn: 3977.9956474\ttotal: 217ms\tremaining: 217ms\n",
      "10:\tlearn: 3928.6732437\ttotal: 237ms\tremaining: 194ms\n",
      "11:\tlearn: 3880.5922860\ttotal: 257ms\tremaining: 171ms\n",
      "12:\tlearn: 3831.5269084\ttotal: 278ms\tremaining: 150ms\n",
      "13:\tlearn: 3785.9283724\ttotal: 297ms\tremaining: 127ms\n",
      "14:\tlearn: 3742.7436648\ttotal: 317ms\tremaining: 106ms\n",
      "15:\tlearn: 3702.1198007\ttotal: 337ms\tremaining: 84.3ms\n",
      "16:\tlearn: 3662.0255207\ttotal: 356ms\tremaining: 62.9ms\n",
      "17:\tlearn: 3623.1082728\ttotal: 376ms\tremaining: 41.8ms\n",
      "18:\tlearn: 3585.7855853\ttotal: 398ms\tremaining: 21ms\n",
      "19:\tlearn: 3547.7865792\ttotal: 420ms\tremaining: 0us\n",
      "0:\tlearn: 4514.3534627\ttotal: 27.3ms\tremaining: 518ms\n",
      "1:\tlearn: 4443.4746964\ttotal: 54.7ms\tremaining: 493ms\n",
      "2:\tlearn: 4375.5398900\ttotal: 75.8ms\tremaining: 429ms\n",
      "3:\tlearn: 4311.0828093\ttotal: 103ms\tremaining: 411ms\n",
      "4:\tlearn: 4249.5552327\ttotal: 123ms\tremaining: 369ms\n",
      "5:\tlearn: 4189.2651369\ttotal: 144ms\tremaining: 335ms\n",
      "6:\tlearn: 4131.9839440\ttotal: 164ms\tremaining: 304ms\n",
      "7:\tlearn: 4075.4844473\ttotal: 184ms\tremaining: 276ms\n",
      "8:\tlearn: 4022.3818450\ttotal: 205ms\tremaining: 250ms\n",
      "9:\tlearn: 3970.5190574\ttotal: 225ms\tremaining: 225ms\n",
      "10:\tlearn: 3921.3026892\ttotal: 246ms\tremaining: 201ms\n",
      "11:\tlearn: 3873.5556027\ttotal: 267ms\tremaining: 178ms\n",
      "12:\tlearn: 3824.7925231\ttotal: 288ms\tremaining: 155ms\n",
      "13:\tlearn: 3779.1966610\ttotal: 310ms\tremaining: 133ms\n",
      "14:\tlearn: 3735.4503132\ttotal: 329ms\tremaining: 110ms\n",
      "15:\tlearn: 3694.7124315\ttotal: 349ms\tremaining: 87.2ms\n",
      "16:\tlearn: 3653.9545235\ttotal: 369ms\tremaining: 65.1ms\n",
      "17:\tlearn: 3614.8776964\ttotal: 389ms\tremaining: 43.2ms\n",
      "18:\tlearn: 3577.8426710\ttotal: 409ms\tremaining: 21.5ms\n",
      "19:\tlearn: 3540.4044981\ttotal: 430ms\tremaining: 0us\n",
      "0:\tlearn: 4360.5746081\ttotal: 25.5ms\tremaining: 485ms\n",
      "1:\tlearn: 4151.4911261\ttotal: 50.8ms\tremaining: 457ms\n",
      "2:\tlearn: 3969.1135135\ttotal: 69.8ms\tremaining: 396ms\n",
      "3:\tlearn: 3804.5012512\ttotal: 96ms\tremaining: 384ms\n",
      "4:\tlearn: 3664.1518103\ttotal: 115ms\tremaining: 346ms\n",
      "5:\tlearn: 3533.3946276\ttotal: 136ms\tremaining: 317ms\n",
      "6:\tlearn: 3421.9726520\ttotal: 156ms\tremaining: 290ms\n",
      "7:\tlearn: 3315.1238770\ttotal: 177ms\tremaining: 265ms\n",
      "8:\tlearn: 3218.7786533\ttotal: 196ms\tremaining: 240ms\n",
      "9:\tlearn: 3141.5243992\ttotal: 216ms\tremaining: 216ms\n",
      "10:\tlearn: 3065.4576535\ttotal: 236ms\tremaining: 193ms\n",
      "11:\tlearn: 3005.8332803\ttotal: 259ms\tremaining: 172ms\n",
      "12:\tlearn: 2941.0961104\ttotal: 279ms\tremaining: 150ms\n",
      "13:\tlearn: 2875.2831171\ttotal: 300ms\tremaining: 129ms\n",
      "14:\tlearn: 2822.1129938\ttotal: 320ms\tremaining: 107ms\n",
      "15:\tlearn: 2773.8914791\ttotal: 340ms\tremaining: 85ms\n",
      "16:\tlearn: 2728.0172455\ttotal: 362ms\tremaining: 63.9ms\n",
      "17:\tlearn: 2685.3775127\ttotal: 382ms\tremaining: 42.4ms\n",
      "18:\tlearn: 2649.1101169\ttotal: 408ms\tremaining: 21.5ms\n",
      "19:\tlearn: 2613.3117433\ttotal: 433ms\tremaining: 0us\n",
      "0:\tlearn: 4359.7373674\ttotal: 26.3ms\tremaining: 499ms\n",
      "1:\tlearn: 4151.1591949\ttotal: 51.8ms\tremaining: 466ms\n",
      "2:\tlearn: 3967.6849091\ttotal: 71.3ms\tremaining: 404ms\n",
      "3:\tlearn: 3804.8276229\ttotal: 98.2ms\tremaining: 393ms\n",
      "4:\tlearn: 3662.4857079\ttotal: 118ms\tremaining: 353ms\n",
      "5:\tlearn: 3538.4637536\ttotal: 137ms\tremaining: 320ms\n",
      "6:\tlearn: 3412.5974123\ttotal: 157ms\tremaining: 292ms\n",
      "7:\tlearn: 3305.1001606\ttotal: 176ms\tremaining: 264ms\n",
      "8:\tlearn: 3211.0783018\ttotal: 196ms\tremaining: 239ms\n",
      "9:\tlearn: 3131.0172379\ttotal: 216ms\tremaining: 216ms\n",
      "10:\tlearn: 3061.6549905\ttotal: 236ms\tremaining: 193ms\n",
      "11:\tlearn: 2991.6734418\ttotal: 255ms\tremaining: 170ms\n",
      "12:\tlearn: 2935.6919775\ttotal: 274ms\tremaining: 147ms\n",
      "13:\tlearn: 2876.3636420\ttotal: 294ms\tremaining: 126ms\n",
      "14:\tlearn: 2825.0131185\ttotal: 314ms\tremaining: 105ms\n",
      "15:\tlearn: 2772.8184869\ttotal: 335ms\tremaining: 83.7ms\n",
      "16:\tlearn: 2731.9217146\ttotal: 355ms\tremaining: 62.6ms\n",
      "17:\tlearn: 2694.2805656\ttotal: 376ms\tremaining: 41.8ms\n",
      "18:\tlearn: 2660.4567203\ttotal: 396ms\tremaining: 20.9ms\n",
      "19:\tlearn: 2625.9686054\ttotal: 418ms\tremaining: 0us\n",
      "0:\tlearn: 4354.5725758\ttotal: 38.8ms\tremaining: 738ms\n",
      "1:\tlearn: 4147.3146418\ttotal: 64.8ms\tremaining: 583ms\n",
      "2:\tlearn: 3963.7584604\ttotal: 85ms\tremaining: 482ms\n",
      "3:\tlearn: 3799.5230798\ttotal: 112ms\tremaining: 448ms\n",
      "4:\tlearn: 3658.7184422\ttotal: 136ms\tremaining: 407ms\n",
      "5:\tlearn: 3520.6069543\ttotal: 157ms\tremaining: 367ms\n",
      "6:\tlearn: 3404.1315474\ttotal: 177ms\tremaining: 329ms\n",
      "7:\tlearn: 3296.3215615\ttotal: 198ms\tremaining: 296ms\n",
      "8:\tlearn: 3200.6603220\ttotal: 218ms\tremaining: 266ms\n",
      "9:\tlearn: 3119.2928798\ttotal: 238ms\tremaining: 238ms\n",
      "10:\tlearn: 3050.9408952\ttotal: 259ms\tremaining: 212ms\n",
      "11:\tlearn: 2982.4469987\ttotal: 279ms\tremaining: 186ms\n",
      "12:\tlearn: 2928.1515450\ttotal: 299ms\tremaining: 161ms\n",
      "13:\tlearn: 2866.7366780\ttotal: 324ms\tremaining: 139ms\n",
      "14:\tlearn: 2811.3481972\ttotal: 345ms\tremaining: 115ms\n",
      "15:\tlearn: 2764.7382609\ttotal: 365ms\tremaining: 91.3ms\n",
      "16:\tlearn: 2720.6424099\ttotal: 386ms\tremaining: 68.1ms\n",
      "17:\tlearn: 2678.8698050\ttotal: 406ms\tremaining: 45.1ms\n",
      "18:\tlearn: 2641.2358132\ttotal: 427ms\tremaining: 22.5ms\n",
      "19:\tlearn: 2607.8378281\ttotal: 449ms\tremaining: 0us\n",
      "0:\tlearn: 4354.1665927\ttotal: 25.9ms\tremaining: 491ms\n",
      "1:\tlearn: 4146.6876485\ttotal: 53.5ms\tremaining: 482ms\n",
      "2:\tlearn: 3965.4713410\ttotal: 73.3ms\tremaining: 416ms\n",
      "3:\tlearn: 3802.8191554\ttotal: 99.3ms\tremaining: 397ms\n",
      "4:\tlearn: 3663.8098839\ttotal: 120ms\tremaining: 360ms\n",
      "5:\tlearn: 3534.3893065\ttotal: 143ms\tremaining: 334ms\n",
      "6:\tlearn: 3416.7926678\ttotal: 166ms\tremaining: 309ms\n",
      "7:\tlearn: 3316.1420023\ttotal: 189ms\tremaining: 283ms\n",
      "8:\tlearn: 3211.0618300\ttotal: 212ms\tremaining: 259ms\n",
      "9:\tlearn: 3122.3407650\ttotal: 234ms\tremaining: 234ms\n",
      "10:\tlearn: 3052.8916903\ttotal: 254ms\tremaining: 208ms\n",
      "11:\tlearn: 2987.3965303\ttotal: 274ms\tremaining: 183ms\n",
      "12:\tlearn: 2933.4298963\ttotal: 297ms\tremaining: 160ms\n",
      "13:\tlearn: 2881.3918315\ttotal: 318ms\tremaining: 136ms\n",
      "14:\tlearn: 2827.2523309\ttotal: 345ms\tremaining: 115ms\n",
      "15:\tlearn: 2776.9804334\ttotal: 369ms\tremaining: 92.3ms\n",
      "16:\tlearn: 2723.8526011\ttotal: 397ms\tremaining: 70.1ms\n",
      "17:\tlearn: 2685.7812046\ttotal: 421ms\tremaining: 46.7ms\n",
      "18:\tlearn: 2648.8583394\ttotal: 442ms\tremaining: 23.2ms\n",
      "19:\tlearn: 2611.3357220\ttotal: 465ms\tremaining: 0us\n",
      "0:\tlearn: 4345.4635727\ttotal: 31.3ms\tremaining: 595ms\n",
      "1:\tlearn: 4136.7911815\ttotal: 58.5ms\tremaining: 527ms\n",
      "2:\tlearn: 3951.9245416\ttotal: 79.1ms\tremaining: 448ms\n",
      "3:\tlearn: 3795.1048129\ttotal: 106ms\tremaining: 424ms\n",
      "4:\tlearn: 3643.0563280\ttotal: 127ms\tremaining: 382ms\n",
      "5:\tlearn: 3517.3261083\ttotal: 149ms\tremaining: 347ms\n",
      "6:\tlearn: 3401.4607410\ttotal: 171ms\tremaining: 317ms\n",
      "7:\tlearn: 3301.4356848\ttotal: 193ms\tremaining: 289ms\n",
      "8:\tlearn: 3214.0761630\ttotal: 216ms\tremaining: 264ms\n",
      "9:\tlearn: 3120.8679097\ttotal: 238ms\tremaining: 238ms\n",
      "10:\tlearn: 3042.6986143\ttotal: 258ms\tremaining: 211ms\n",
      "11:\tlearn: 2978.8853399\ttotal: 278ms\tremaining: 185ms\n",
      "12:\tlearn: 2917.1659041\ttotal: 297ms\tremaining: 160ms\n",
      "13:\tlearn: 2865.6698950\ttotal: 317ms\tremaining: 136ms\n",
      "14:\tlearn: 2814.8138642\ttotal: 337ms\tremaining: 112ms\n",
      "15:\tlearn: 2766.2344425\ttotal: 358ms\tremaining: 89.6ms\n",
      "16:\tlearn: 2719.9959199\ttotal: 378ms\tremaining: 66.7ms\n",
      "17:\tlearn: 2678.7460538\ttotal: 398ms\tremaining: 44.2ms\n",
      "18:\tlearn: 2643.5235169\ttotal: 419ms\tremaining: 22ms\n",
      "19:\tlearn: 2609.2795043\ttotal: 439ms\tremaining: 0us\n",
      "0:\tlearn: 4529.7872285\ttotal: 36.4ms\tremaining: 3.61s\n",
      "1:\tlearn: 4458.8045661\ttotal: 62.9ms\tremaining: 3.08s\n",
      "2:\tlearn: 4390.2755060\ttotal: 83.5ms\tremaining: 2.7s\n",
      "3:\tlearn: 4325.2918522\ttotal: 111ms\tremaining: 2.67s\n",
      "4:\tlearn: 4262.4712272\ttotal: 131ms\tremaining: 2.49s\n",
      "5:\tlearn: 4202.5965852\ttotal: 151ms\tremaining: 2.37s\n",
      "6:\tlearn: 4145.3701080\ttotal: 172ms\tremaining: 2.28s\n",
      "7:\tlearn: 4090.3462796\ttotal: 199ms\tremaining: 2.29s\n",
      "8:\tlearn: 4036.6278821\ttotal: 220ms\tremaining: 2.22s\n",
      "9:\tlearn: 3984.8024121\ttotal: 240ms\tremaining: 2.16s\n",
      "10:\tlearn: 3935.3183536\ttotal: 262ms\tremaining: 2.12s\n",
      "11:\tlearn: 3887.1018731\ttotal: 297ms\tremaining: 2.18s\n",
      "12:\tlearn: 3838.4504042\ttotal: 330ms\tremaining: 2.21s\n",
      "13:\tlearn: 3793.7843691\ttotal: 365ms\tremaining: 2.24s\n",
      "14:\tlearn: 3750.5762759\ttotal: 399ms\tremaining: 2.26s\n",
      "15:\tlearn: 3708.6192415\ttotal: 433ms\tremaining: 2.27s\n",
      "16:\tlearn: 3666.8083164\ttotal: 467ms\tremaining: 2.28s\n",
      "17:\tlearn: 3628.3223132\ttotal: 500ms\tremaining: 2.28s\n",
      "18:\tlearn: 3590.4565212\ttotal: 534ms\tremaining: 2.27s\n",
      "19:\tlearn: 3552.6748564\ttotal: 556ms\tremaining: 2.22s\n",
      "20:\tlearn: 3518.0309193\ttotal: 576ms\tremaining: 2.17s\n",
      "21:\tlearn: 3481.4858071\ttotal: 597ms\tremaining: 2.12s\n",
      "22:\tlearn: 3446.2672513\ttotal: 617ms\tremaining: 2.06s\n",
      "23:\tlearn: 3414.2603555\ttotal: 637ms\tremaining: 2.02s\n",
      "24:\tlearn: 3381.7557538\ttotal: 657ms\tremaining: 1.97s\n",
      "25:\tlearn: 3350.9889671\ttotal: 678ms\tremaining: 1.93s\n",
      "26:\tlearn: 3322.2076940\ttotal: 698ms\tremaining: 1.89s\n",
      "27:\tlearn: 3291.8878721\ttotal: 717ms\tremaining: 1.84s\n",
      "28:\tlearn: 3267.4743042\ttotal: 737ms\tremaining: 1.8s\n",
      "29:\tlearn: 3239.3470535\ttotal: 758ms\tremaining: 1.77s\n",
      "30:\tlearn: 3214.3826629\ttotal: 778ms\tremaining: 1.73s\n",
      "31:\tlearn: 3190.1505108\ttotal: 799ms\tremaining: 1.7s\n",
      "32:\tlearn: 3167.1841570\ttotal: 818ms\tremaining: 1.66s\n",
      "33:\tlearn: 3142.5674256\ttotal: 840ms\tremaining: 1.63s\n",
      "34:\tlearn: 3121.7977579\ttotal: 860ms\tremaining: 1.6s\n",
      "35:\tlearn: 3101.1412058\ttotal: 881ms\tremaining: 1.57s\n",
      "36:\tlearn: 3081.2506182\ttotal: 901ms\tremaining: 1.53s\n",
      "37:\tlearn: 3060.7137508\ttotal: 920ms\tremaining: 1.5s\n",
      "38:\tlearn: 3039.4450719\ttotal: 940ms\tremaining: 1.47s\n",
      "39:\tlearn: 3021.4190869\ttotal: 960ms\tremaining: 1.44s\n",
      "40:\tlearn: 3001.8835245\ttotal: 980ms\tremaining: 1.41s\n",
      "41:\tlearn: 2984.9233804\ttotal: 1s\tremaining: 1.38s\n",
      "42:\tlearn: 2965.2930779\ttotal: 1.02s\tremaining: 1.35s\n",
      "43:\tlearn: 2945.7527355\ttotal: 1.04s\tremaining: 1.32s\n",
      "44:\tlearn: 2926.6777416\ttotal: 1.06s\tremaining: 1.3s\n",
      "45:\tlearn: 2910.1302892\ttotal: 1.08s\tremaining: 1.27s\n",
      "46:\tlearn: 2893.6939810\ttotal: 1.1s\tremaining: 1.24s\n",
      "47:\tlearn: 2877.3899057\ttotal: 1.12s\tremaining: 1.22s\n",
      "48:\tlearn: 2861.0963719\ttotal: 1.14s\tremaining: 1.19s\n",
      "49:\tlearn: 2844.9477435\ttotal: 1.16s\tremaining: 1.16s\n",
      "50:\tlearn: 2829.6802235\ttotal: 1.18s\tremaining: 1.14s\n",
      "51:\tlearn: 2813.9097472\ttotal: 1.2s\tremaining: 1.11s\n",
      "52:\tlearn: 2798.5464109\ttotal: 1.22s\tremaining: 1.08s\n",
      "53:\tlearn: 2784.6223204\ttotal: 1.24s\tremaining: 1.06s\n",
      "54:\tlearn: 2770.3460230\ttotal: 1.26s\tremaining: 1.03s\n",
      "55:\tlearn: 2757.4643123\ttotal: 1.28s\tremaining: 1.01s\n",
      "56:\tlearn: 2743.8938166\ttotal: 1.3s\tremaining: 982ms\n",
      "57:\tlearn: 2732.3683095\ttotal: 1.32s\tremaining: 957ms\n",
      "58:\tlearn: 2720.5167368\ttotal: 1.34s\tremaining: 932ms\n",
      "59:\tlearn: 2707.2193720\ttotal: 1.36s\tremaining: 907ms\n",
      "60:\tlearn: 2695.4968958\ttotal: 1.38s\tremaining: 882ms\n",
      "61:\tlearn: 2683.6096136\ttotal: 1.4s\tremaining: 858ms\n",
      "62:\tlearn: 2671.2337882\ttotal: 1.42s\tremaining: 833ms\n",
      "63:\tlearn: 2660.8904811\ttotal: 1.44s\tremaining: 809ms\n",
      "64:\tlearn: 2650.1492019\ttotal: 1.46s\tremaining: 785ms\n",
      "65:\tlearn: 2639.8217004\ttotal: 1.48s\tremaining: 762ms\n",
      "66:\tlearn: 2629.5992836\ttotal: 1.5s\tremaining: 738ms\n",
      "67:\tlearn: 2619.6857842\ttotal: 1.52s\tremaining: 715ms\n",
      "68:\tlearn: 2609.4859784\ttotal: 1.54s\tremaining: 691ms\n",
      "69:\tlearn: 2600.6118860\ttotal: 1.56s\tremaining: 668ms\n",
      "70:\tlearn: 2591.5167194\ttotal: 1.58s\tremaining: 645ms\n",
      "71:\tlearn: 2581.8227239\ttotal: 1.6s\tremaining: 622ms\n",
      "72:\tlearn: 2572.7626397\ttotal: 1.62s\tremaining: 599ms\n",
      "73:\tlearn: 2564.3053781\ttotal: 1.64s\tremaining: 576ms\n",
      "74:\tlearn: 2556.1353200\ttotal: 1.66s\tremaining: 554ms\n",
      "75:\tlearn: 2547.3180713\ttotal: 1.68s\tremaining: 531ms\n",
      "76:\tlearn: 2538.3395005\ttotal: 1.7s\tremaining: 509ms\n",
      "77:\tlearn: 2529.7711834\ttotal: 1.72s\tremaining: 486ms\n",
      "78:\tlearn: 2520.3787830\ttotal: 1.74s\tremaining: 464ms\n",
      "79:\tlearn: 2512.4463118\ttotal: 1.76s\tremaining: 441ms\n",
      "80:\tlearn: 2503.5624727\ttotal: 1.78s\tremaining: 419ms\n",
      "81:\tlearn: 2496.0347953\ttotal: 1.8s\tremaining: 396ms\n",
      "82:\tlearn: 2488.9920823\ttotal: 1.82s\tremaining: 374ms\n",
      "83:\tlearn: 2481.3902309\ttotal: 1.84s\tremaining: 352ms\n",
      "84:\tlearn: 2474.6776622\ttotal: 1.86s\tremaining: 329ms\n",
      "85:\tlearn: 2467.3238943\ttotal: 1.89s\tremaining: 307ms\n",
      "86:\tlearn: 2461.1593518\ttotal: 1.91s\tremaining: 285ms\n",
      "87:\tlearn: 2453.8463149\ttotal: 1.93s\tremaining: 263ms\n",
      "88:\tlearn: 2447.9595883\ttotal: 1.95s\tremaining: 240ms\n",
      "89:\tlearn: 2440.7836767\ttotal: 1.97s\tremaining: 218ms\n",
      "90:\tlearn: 2435.0399477\ttotal: 1.99s\tremaining: 197ms\n",
      "91:\tlearn: 2429.8213423\ttotal: 2.01s\tremaining: 175ms\n",
      "92:\tlearn: 2424.7761368\ttotal: 2.03s\tremaining: 153ms\n",
      "93:\tlearn: 2418.3344516\ttotal: 2.05s\tremaining: 131ms\n",
      "94:\tlearn: 2413.4687309\ttotal: 2.07s\tremaining: 109ms\n",
      "95:\tlearn: 2408.1659052\ttotal: 2.09s\tremaining: 87.1ms\n",
      "96:\tlearn: 2401.9728295\ttotal: 2.11s\tremaining: 65.3ms\n",
      "97:\tlearn: 2397.4115619\ttotal: 2.13s\tremaining: 43.5ms\n",
      "98:\tlearn: 2392.0529395\ttotal: 2.15s\tremaining: 21.7ms\n",
      "99:\tlearn: 2387.6881471\ttotal: 2.17s\tremaining: 0us\n",
      "0:\tlearn: 4529.2940405\ttotal: 25.3ms\tremaining: 2.5s\n",
      "1:\tlearn: 4458.0847292\ttotal: 49.9ms\tremaining: 2.44s\n",
      "2:\tlearn: 4389.5820724\ttotal: 71ms\tremaining: 2.29s\n",
      "3:\tlearn: 4324.2410883\ttotal: 113ms\tremaining: 2.72s\n",
      "4:\tlearn: 4261.2666429\ttotal: 138ms\tremaining: 2.63s\n",
      "5:\tlearn: 4200.7942986\ttotal: 157ms\tremaining: 2.46s\n",
      "6:\tlearn: 4143.7796627\ttotal: 176ms\tremaining: 2.34s\n",
      "7:\tlearn: 4088.2280798\ttotal: 196ms\tremaining: 2.25s\n",
      "8:\tlearn: 4034.7333947\ttotal: 215ms\tremaining: 2.17s\n",
      "9:\tlearn: 3983.0916526\ttotal: 234ms\tremaining: 2.11s\n",
      "10:\tlearn: 3933.6033430\ttotal: 254ms\tremaining: 2.06s\n",
      "11:\tlearn: 3885.6629028\ttotal: 273ms\tremaining: 2s\n",
      "12:\tlearn: 3837.6821266\ttotal: 292ms\tremaining: 1.96s\n",
      "13:\tlearn: 3793.3036525\ttotal: 312ms\tremaining: 1.92s\n",
      "14:\tlearn: 3749.2717569\ttotal: 332ms\tremaining: 1.88s\n",
      "15:\tlearn: 3707.4998005\ttotal: 352ms\tremaining: 1.84s\n",
      "16:\tlearn: 3665.8382050\ttotal: 371ms\tremaining: 1.81s\n",
      "17:\tlearn: 3627.0533620\ttotal: 393ms\tremaining: 1.79s\n",
      "18:\tlearn: 3586.9782360\ttotal: 413ms\tremaining: 1.76s\n",
      "19:\tlearn: 3551.4488023\ttotal: 434ms\tremaining: 1.74s\n",
      "20:\tlearn: 3514.9334988\ttotal: 454ms\tremaining: 1.71s\n",
      "21:\tlearn: 3478.7724217\ttotal: 474ms\tremaining: 1.68s\n",
      "22:\tlearn: 3446.3801426\ttotal: 495ms\tremaining: 1.66s\n",
      "23:\tlearn: 3412.9049111\ttotal: 515ms\tremaining: 1.63s\n",
      "24:\tlearn: 3382.7513951\ttotal: 535ms\tremaining: 1.6s\n",
      "25:\tlearn: 3353.4807737\ttotal: 556ms\tremaining: 1.58s\n",
      "26:\tlearn: 3321.7332519\ttotal: 576ms\tremaining: 1.56s\n",
      "27:\tlearn: 3294.9013542\ttotal: 610ms\tremaining: 1.57s\n",
      "28:\tlearn: 3267.1513588\ttotal: 631ms\tremaining: 1.54s\n",
      "29:\tlearn: 3238.9479624\ttotal: 651ms\tremaining: 1.52s\n",
      "30:\tlearn: 3212.6309838\ttotal: 670ms\tremaining: 1.49s\n",
      "31:\tlearn: 3186.4702398\ttotal: 689ms\tremaining: 1.47s\n",
      "32:\tlearn: 3163.4432877\ttotal: 711ms\tremaining: 1.44s\n",
      "33:\tlearn: 3140.2631439\ttotal: 730ms\tremaining: 1.42s\n",
      "34:\tlearn: 3119.1627077\ttotal: 750ms\tremaining: 1.39s\n",
      "35:\tlearn: 3097.4772916\ttotal: 770ms\tremaining: 1.37s\n",
      "36:\tlearn: 3075.2833678\ttotal: 790ms\tremaining: 1.34s\n",
      "37:\tlearn: 3055.7725688\ttotal: 811ms\tremaining: 1.32s\n",
      "38:\tlearn: 3037.0311016\ttotal: 830ms\tremaining: 1.3s\n",
      "39:\tlearn: 3017.1492976\ttotal: 849ms\tremaining: 1.27s\n",
      "40:\tlearn: 3000.0004166\ttotal: 869ms\tremaining: 1.25s\n",
      "41:\tlearn: 2982.9084782\ttotal: 888ms\tremaining: 1.23s\n",
      "42:\tlearn: 2966.2005929\ttotal: 910ms\tremaining: 1.21s\n",
      "43:\tlearn: 2948.1788762\ttotal: 931ms\tremaining: 1.18s\n",
      "44:\tlearn: 2929.3465300\ttotal: 951ms\tremaining: 1.16s\n",
      "45:\tlearn: 2910.8670139\ttotal: 971ms\tremaining: 1.14s\n",
      "46:\tlearn: 2893.3713650\ttotal: 991ms\tremaining: 1.12s\n",
      "47:\tlearn: 2878.4356639\ttotal: 1.01s\tremaining: 1.09s\n",
      "48:\tlearn: 2861.7710892\ttotal: 1.03s\tremaining: 1.07s\n",
      "49:\tlearn: 2846.0096532\ttotal: 1.05s\tremaining: 1.05s\n",
      "50:\tlearn: 2831.6693868\ttotal: 1.08s\tremaining: 1.03s\n",
      "51:\tlearn: 2815.5438404\ttotal: 1.1s\tremaining: 1.02s\n",
      "52:\tlearn: 2798.8305042\ttotal: 1.12s\tremaining: 996ms\n",
      "53:\tlearn: 2785.5503816\ttotal: 1.14s\tremaining: 974ms\n",
      "54:\tlearn: 2771.5610017\ttotal: 1.16s\tremaining: 953ms\n",
      "55:\tlearn: 2758.1960947\ttotal: 1.18s\tremaining: 930ms\n",
      "56:\tlearn: 2744.9253820\ttotal: 1.2s\tremaining: 908ms\n",
      "57:\tlearn: 2732.1370959\ttotal: 1.22s\tremaining: 886ms\n",
      "58:\tlearn: 2719.9805659\ttotal: 1.24s\tremaining: 864ms\n",
      "59:\tlearn: 2709.4045536\ttotal: 1.26s\tremaining: 842ms\n",
      "60:\tlearn: 2696.2004575\ttotal: 1.28s\tremaining: 821ms\n",
      "61:\tlearn: 2684.8761499\ttotal: 1.3s\tremaining: 800ms\n",
      "62:\tlearn: 2672.8101909\ttotal: 1.33s\tremaining: 779ms\n",
      "63:\tlearn: 2661.4601936\ttotal: 1.35s\tremaining: 758ms\n",
      "64:\tlearn: 2651.3059665\ttotal: 1.37s\tremaining: 736ms\n",
      "65:\tlearn: 2640.9829491\ttotal: 1.39s\tremaining: 715ms\n",
      "66:\tlearn: 2630.1283000\ttotal: 1.41s\tremaining: 694ms\n",
      "67:\tlearn: 2620.4099626\ttotal: 1.43s\tremaining: 672ms\n",
      "68:\tlearn: 2610.9924717\ttotal: 1.45s\tremaining: 651ms\n",
      "69:\tlearn: 2601.0730008\ttotal: 1.47s\tremaining: 629ms\n",
      "70:\tlearn: 2591.8431033\ttotal: 1.49s\tremaining: 609ms\n",
      "71:\tlearn: 2583.0443366\ttotal: 1.51s\tremaining: 588ms\n",
      "72:\tlearn: 2574.1415527\ttotal: 1.53s\tremaining: 567ms\n",
      "73:\tlearn: 2565.3460554\ttotal: 1.55s\tremaining: 546ms\n",
      "74:\tlearn: 2556.9576567\ttotal: 1.57s\tremaining: 525ms\n",
      "75:\tlearn: 2548.5005796\ttotal: 1.59s\tremaining: 503ms\n",
      "76:\tlearn: 2541.3468040\ttotal: 1.61s\tremaining: 482ms\n",
      "77:\tlearn: 2531.4884242\ttotal: 1.63s\tremaining: 461ms\n",
      "78:\tlearn: 2522.2189035\ttotal: 1.65s\tremaining: 440ms\n",
      "79:\tlearn: 2513.3349636\ttotal: 1.67s\tremaining: 419ms\n",
      "80:\tlearn: 2504.9687320\ttotal: 1.7s\tremaining: 398ms\n",
      "81:\tlearn: 2497.4128060\ttotal: 1.72s\tremaining: 377ms\n",
      "82:\tlearn: 2488.7824138\ttotal: 1.74s\tremaining: 356ms\n",
      "83:\tlearn: 2480.9641818\ttotal: 1.76s\tremaining: 335ms\n",
      "84:\tlearn: 2473.1479552\ttotal: 1.78s\tremaining: 314ms\n",
      "85:\tlearn: 2466.1504321\ttotal: 1.8s\tremaining: 293ms\n",
      "86:\tlearn: 2459.6016000\ttotal: 1.82s\tremaining: 272ms\n",
      "87:\tlearn: 2452.9448451\ttotal: 1.84s\tremaining: 251ms\n",
      "88:\tlearn: 2446.9327713\ttotal: 1.86s\tremaining: 230ms\n",
      "89:\tlearn: 2441.1678223\ttotal: 1.88s\tremaining: 209ms\n",
      "90:\tlearn: 2435.5034314\ttotal: 1.91s\tremaining: 188ms\n",
      "91:\tlearn: 2429.8918886\ttotal: 1.93s\tremaining: 167ms\n",
      "92:\tlearn: 2424.3694219\ttotal: 1.95s\tremaining: 147ms\n",
      "93:\tlearn: 2418.4735431\ttotal: 1.97s\tremaining: 126ms\n",
      "94:\tlearn: 2412.1179833\ttotal: 1.99s\tremaining: 105ms\n",
      "95:\tlearn: 2406.8801161\ttotal: 2.02s\tremaining: 84.1ms\n",
      "96:\tlearn: 2402.1188292\ttotal: 2.04s\tremaining: 63.2ms\n",
      "97:\tlearn: 2397.5070040\ttotal: 2.06s\tremaining: 42.1ms\n",
      "98:\tlearn: 2392.0993965\ttotal: 2.09s\tremaining: 21.1ms\n",
      "99:\tlearn: 2386.2497197\ttotal: 2.11s\tremaining: 0us\n",
      "0:\tlearn: 4523.8932393\ttotal: 28.8ms\tremaining: 2.85s\n",
      "1:\tlearn: 4452.7997728\ttotal: 56.4ms\tremaining: 2.76s\n",
      "2:\tlearn: 4384.2882325\ttotal: 89.4ms\tremaining: 2.89s\n",
      "3:\tlearn: 4319.0449833\ttotal: 118ms\tremaining: 2.83s\n",
      "4:\tlearn: 4256.4302591\ttotal: 139ms\tremaining: 2.64s\n",
      "5:\tlearn: 4196.4844345\ttotal: 161ms\tremaining: 2.52s\n",
      "6:\tlearn: 4139.1547812\ttotal: 183ms\tremaining: 2.43s\n",
      "7:\tlearn: 4083.1443284\ttotal: 207ms\tremaining: 2.38s\n",
      "8:\tlearn: 4028.9769349\ttotal: 230ms\tremaining: 2.33s\n",
      "9:\tlearn: 3977.1902579\ttotal: 251ms\tremaining: 2.26s\n",
      "10:\tlearn: 3928.3274997\ttotal: 271ms\tremaining: 2.19s\n",
      "11:\tlearn: 3880.4615919\ttotal: 291ms\tremaining: 2.14s\n",
      "12:\tlearn: 3831.4062031\ttotal: 312ms\tremaining: 2.09s\n",
      "13:\tlearn: 3787.1516803\ttotal: 331ms\tremaining: 2.04s\n",
      "14:\tlearn: 3744.1808394\ttotal: 352ms\tremaining: 2s\n",
      "15:\tlearn: 3702.1765479\ttotal: 373ms\tremaining: 1.96s\n",
      "16:\tlearn: 3660.1652954\ttotal: 392ms\tremaining: 1.91s\n",
      "17:\tlearn: 3621.2811590\ttotal: 412ms\tremaining: 1.88s\n",
      "18:\tlearn: 3581.2633955\ttotal: 433ms\tremaining: 1.84s\n",
      "19:\tlearn: 3545.3797341\ttotal: 454ms\tremaining: 1.81s\n",
      "20:\tlearn: 3509.4553022\ttotal: 474ms\tremaining: 1.78s\n",
      "21:\tlearn: 3476.4990862\ttotal: 495ms\tremaining: 1.76s\n",
      "22:\tlearn: 3443.8172679\ttotal: 515ms\tremaining: 1.72s\n",
      "23:\tlearn: 3411.9565414\ttotal: 535ms\tremaining: 1.69s\n",
      "24:\tlearn: 3379.9353089\ttotal: 555ms\tremaining: 1.66s\n",
      "25:\tlearn: 3348.1775928\ttotal: 574ms\tremaining: 1.63s\n",
      "26:\tlearn: 3316.6956460\ttotal: 594ms\tremaining: 1.61s\n",
      "27:\tlearn: 3289.8131767\ttotal: 615ms\tremaining: 1.58s\n",
      "28:\tlearn: 3260.7872686\ttotal: 636ms\tremaining: 1.56s\n",
      "29:\tlearn: 3234.5772257\ttotal: 659ms\tremaining: 1.54s\n",
      "30:\tlearn: 3209.9199063\ttotal: 679ms\tremaining: 1.51s\n",
      "31:\tlearn: 3186.0228088\ttotal: 699ms\tremaining: 1.49s\n",
      "32:\tlearn: 3160.5971836\ttotal: 720ms\tremaining: 1.46s\n",
      "33:\tlearn: 3138.3952388\ttotal: 740ms\tremaining: 1.44s\n",
      "34:\tlearn: 3116.8611476\ttotal: 762ms\tremaining: 1.42s\n",
      "35:\tlearn: 3096.3637741\ttotal: 783ms\tremaining: 1.39s\n",
      "36:\tlearn: 3072.8420192\ttotal: 803ms\tremaining: 1.37s\n",
      "37:\tlearn: 3052.0603318\ttotal: 822ms\tremaining: 1.34s\n",
      "38:\tlearn: 3030.4466133\ttotal: 843ms\tremaining: 1.32s\n",
      "39:\tlearn: 3012.2143340\ttotal: 864ms\tremaining: 1.29s\n",
      "40:\tlearn: 2993.7506157\ttotal: 890ms\tremaining: 1.28s\n",
      "41:\tlearn: 2976.5090420\ttotal: 922ms\tremaining: 1.27s\n",
      "42:\tlearn: 2958.7758514\ttotal: 948ms\tremaining: 1.26s\n",
      "43:\tlearn: 2942.7390786\ttotal: 975ms\tremaining: 1.24s\n",
      "44:\tlearn: 2924.2344436\ttotal: 997ms\tremaining: 1.22s\n",
      "45:\tlearn: 2905.8711608\ttotal: 1.02s\tremaining: 1.2s\n",
      "46:\tlearn: 2889.5966104\ttotal: 1.06s\tremaining: 1.19s\n",
      "47:\tlearn: 2872.9521695\ttotal: 1.09s\tremaining: 1.19s\n",
      "48:\tlearn: 2856.8064845\ttotal: 1.13s\tremaining: 1.17s\n",
      "49:\tlearn: 2841.5319380\ttotal: 1.15s\tremaining: 1.15s\n",
      "50:\tlearn: 2826.0026044\ttotal: 1.17s\tremaining: 1.13s\n",
      "51:\tlearn: 2810.1877664\ttotal: 1.19s\tremaining: 1.1s\n",
      "52:\tlearn: 2795.0836278\ttotal: 1.21s\tremaining: 1.07s\n",
      "53:\tlearn: 2780.8766511\ttotal: 1.25s\tremaining: 1.06s\n",
      "54:\tlearn: 2766.6997309\ttotal: 1.28s\tremaining: 1.05s\n",
      "55:\tlearn: 2753.4273992\ttotal: 1.31s\tremaining: 1.03s\n",
      "56:\tlearn: 2740.0480117\ttotal: 1.35s\tremaining: 1.02s\n",
      "57:\tlearn: 2727.5762475\ttotal: 1.38s\tremaining: 1s\n",
      "58:\tlearn: 2715.6581887\ttotal: 1.41s\tremaining: 983ms\n",
      "59:\tlearn: 2704.6533876\ttotal: 1.44s\tremaining: 963ms\n",
      "60:\tlearn: 2691.9493804\ttotal: 1.46s\tremaining: 936ms\n",
      "61:\tlearn: 2680.9518873\ttotal: 1.49s\tremaining: 910ms\n",
      "62:\tlearn: 2669.5240472\ttotal: 1.5s\tremaining: 884ms\n",
      "63:\tlearn: 2656.9384466\ttotal: 1.53s\tremaining: 858ms\n",
      "64:\tlearn: 2646.6882225\ttotal: 1.55s\tremaining: 833ms\n",
      "65:\tlearn: 2636.6028163\ttotal: 1.57s\tremaining: 807ms\n",
      "66:\tlearn: 2626.2541314\ttotal: 1.59s\tremaining: 783ms\n",
      "67:\tlearn: 2617.1257172\ttotal: 1.61s\tremaining: 758ms\n",
      "68:\tlearn: 2608.1202748\ttotal: 1.63s\tremaining: 733ms\n",
      "69:\tlearn: 2598.3135190\ttotal: 1.65s\tremaining: 708ms\n",
      "70:\tlearn: 2589.7941255\ttotal: 1.67s\tremaining: 683ms\n",
      "71:\tlearn: 2580.7822395\ttotal: 1.69s\tremaining: 658ms\n",
      "72:\tlearn: 2572.0048443\ttotal: 1.71s\tremaining: 633ms\n",
      "73:\tlearn: 2562.5379741\ttotal: 1.73s\tremaining: 609ms\n",
      "74:\tlearn: 2555.2704795\ttotal: 1.75s\tremaining: 585ms\n",
      "75:\tlearn: 2545.4652427\ttotal: 1.77s\tremaining: 561ms\n",
      "76:\tlearn: 2536.2962764\ttotal: 1.8s\tremaining: 537ms\n",
      "77:\tlearn: 2526.8448264\ttotal: 1.82s\tremaining: 512ms\n",
      "78:\tlearn: 2517.8643479\ttotal: 1.84s\tremaining: 488ms\n",
      "79:\tlearn: 2509.7376094\ttotal: 1.86s\tremaining: 465ms\n",
      "80:\tlearn: 2501.6573680\ttotal: 1.88s\tremaining: 442ms\n",
      "81:\tlearn: 2494.0970762\ttotal: 1.91s\tremaining: 419ms\n",
      "82:\tlearn: 2485.6419528\ttotal: 1.93s\tremaining: 396ms\n",
      "83:\tlearn: 2477.6639263\ttotal: 1.95s\tremaining: 372ms\n",
      "84:\tlearn: 2469.8991102\ttotal: 1.97s\tremaining: 348ms\n",
      "85:\tlearn: 2463.1717883\ttotal: 1.99s\tremaining: 324ms\n",
      "86:\tlearn: 2456.8734492\ttotal: 2.01s\tremaining: 301ms\n",
      "87:\tlearn: 2450.4205165\ttotal: 2.04s\tremaining: 278ms\n",
      "88:\tlearn: 2443.4964297\ttotal: 2.06s\tremaining: 254ms\n",
      "89:\tlearn: 2437.7144756\ttotal: 2.08s\tremaining: 231ms\n",
      "90:\tlearn: 2432.2091373\ttotal: 2.1s\tremaining: 208ms\n",
      "91:\tlearn: 2425.7101559\ttotal: 2.12s\tremaining: 184ms\n",
      "92:\tlearn: 2420.2837601\ttotal: 2.14s\tremaining: 161ms\n",
      "93:\tlearn: 2414.0284283\ttotal: 2.17s\tremaining: 138ms\n",
      "94:\tlearn: 2408.6637284\ttotal: 2.21s\tremaining: 116ms\n",
      "95:\tlearn: 2403.2118948\ttotal: 2.24s\tremaining: 93.3ms\n",
      "96:\tlearn: 2398.3600850\ttotal: 2.27s\tremaining: 70.3ms\n",
      "97:\tlearn: 2393.8064150\ttotal: 2.29s\tremaining: 46.8ms\n",
      "98:\tlearn: 2388.1119461\ttotal: 2.31s\tremaining: 23.4ms\n",
      "99:\tlearn: 2382.1494198\ttotal: 2.33s\tremaining: 0us\n",
      "0:\tlearn: 4522.6561877\ttotal: 27.1ms\tremaining: 2.68s\n",
      "1:\tlearn: 4452.0197893\ttotal: 56ms\tremaining: 2.75s\n",
      "2:\tlearn: 4384.0230616\ttotal: 76.4ms\tremaining: 2.47s\n",
      "3:\tlearn: 4319.5731811\ttotal: 102ms\tremaining: 2.45s\n",
      "4:\tlearn: 4256.9202753\ttotal: 122ms\tremaining: 2.32s\n",
      "5:\tlearn: 4196.7766048\ttotal: 143ms\tremaining: 2.24s\n",
      "6:\tlearn: 4139.6548988\ttotal: 164ms\tremaining: 2.17s\n",
      "7:\tlearn: 4083.3220598\ttotal: 184ms\tremaining: 2.11s\n",
      "8:\tlearn: 4030.0897313\ttotal: 204ms\tremaining: 2.06s\n",
      "9:\tlearn: 3977.9956474\ttotal: 225ms\tremaining: 2.02s\n",
      "10:\tlearn: 3928.6732437\ttotal: 246ms\tremaining: 1.99s\n",
      "11:\tlearn: 3880.5922860\ttotal: 267ms\tremaining: 1.96s\n",
      "12:\tlearn: 3831.5269084\ttotal: 288ms\tremaining: 1.93s\n",
      "13:\tlearn: 3785.9283724\ttotal: 313ms\tremaining: 1.92s\n",
      "14:\tlearn: 3742.7436648\ttotal: 339ms\tremaining: 1.92s\n",
      "15:\tlearn: 3702.1198007\ttotal: 359ms\tremaining: 1.88s\n",
      "16:\tlearn: 3662.0255207\ttotal: 380ms\tremaining: 1.85s\n",
      "17:\tlearn: 3623.1082728\ttotal: 399ms\tremaining: 1.82s\n",
      "18:\tlearn: 3585.7855853\ttotal: 419ms\tremaining: 1.79s\n",
      "19:\tlearn: 3547.7865792\ttotal: 439ms\tremaining: 1.76s\n",
      "20:\tlearn: 3513.9156967\ttotal: 459ms\tremaining: 1.72s\n",
      "21:\tlearn: 3478.0941144\ttotal: 479ms\tremaining: 1.7s\n",
      "22:\tlearn: 3442.1422772\ttotal: 499ms\tremaining: 1.67s\n",
      "23:\tlearn: 3410.1956795\ttotal: 519ms\tremaining: 1.64s\n",
      "24:\tlearn: 3378.9162612\ttotal: 539ms\tremaining: 1.62s\n",
      "25:\tlearn: 3348.1549817\ttotal: 558ms\tremaining: 1.59s\n",
      "26:\tlearn: 3318.9318064\ttotal: 578ms\tremaining: 1.56s\n",
      "27:\tlearn: 3290.9306873\ttotal: 599ms\tremaining: 1.54s\n",
      "28:\tlearn: 3262.0684325\ttotal: 618ms\tremaining: 1.51s\n",
      "29:\tlearn: 3236.0382769\ttotal: 638ms\tremaining: 1.49s\n",
      "30:\tlearn: 3210.9877764\ttotal: 663ms\tremaining: 1.48s\n",
      "31:\tlearn: 3187.6553160\ttotal: 684ms\tremaining: 1.45s\n",
      "32:\tlearn: 3163.7118389\ttotal: 707ms\tremaining: 1.44s\n",
      "33:\tlearn: 3141.9763375\ttotal: 727ms\tremaining: 1.41s\n",
      "34:\tlearn: 3120.8129137\ttotal: 749ms\tremaining: 1.39s\n",
      "35:\tlearn: 3100.0424947\ttotal: 769ms\tremaining: 1.37s\n",
      "36:\tlearn: 3077.3641094\ttotal: 790ms\tremaining: 1.34s\n",
      "37:\tlearn: 3054.5036470\ttotal: 811ms\tremaining: 1.32s\n",
      "38:\tlearn: 3034.0310321\ttotal: 831ms\tremaining: 1.3s\n",
      "39:\tlearn: 3013.0466898\ttotal: 866ms\tremaining: 1.3s\n",
      "40:\tlearn: 2993.0541826\ttotal: 886ms\tremaining: 1.27s\n",
      "41:\tlearn: 2972.8167917\ttotal: 908ms\tremaining: 1.25s\n",
      "42:\tlearn: 2953.4877587\ttotal: 930ms\tremaining: 1.23s\n",
      "43:\tlearn: 2935.8235546\ttotal: 950ms\tremaining: 1.21s\n",
      "44:\tlearn: 2918.5095264\ttotal: 969ms\tremaining: 1.18s\n",
      "45:\tlearn: 2901.2955589\ttotal: 988ms\tremaining: 1.16s\n",
      "46:\tlearn: 2885.2343436\ttotal: 1.01s\tremaining: 1.14s\n",
      "47:\tlearn: 2867.1588796\ttotal: 1.03s\tremaining: 1.11s\n",
      "48:\tlearn: 2850.5281390\ttotal: 1.05s\tremaining: 1.09s\n",
      "49:\tlearn: 2835.7645506\ttotal: 1.07s\tremaining: 1.07s\n",
      "50:\tlearn: 2821.3396022\ttotal: 1.09s\tremaining: 1.05s\n",
      "51:\tlearn: 2807.6353106\ttotal: 1.11s\tremaining: 1.03s\n",
      "52:\tlearn: 2790.3351276\ttotal: 1.13s\tremaining: 1s\n",
      "53:\tlearn: 2777.5254164\ttotal: 1.15s\tremaining: 982ms\n",
      "54:\tlearn: 2763.6275052\ttotal: 1.17s\tremaining: 961ms\n",
      "55:\tlearn: 2749.9031317\ttotal: 1.19s\tremaining: 939ms\n",
      "56:\tlearn: 2735.1476567\ttotal: 1.22s\tremaining: 917ms\n",
      "57:\tlearn: 2720.8579134\ttotal: 1.24s\tremaining: 896ms\n",
      "58:\tlearn: 2708.5733236\ttotal: 1.26s\tremaining: 874ms\n",
      "59:\tlearn: 2697.2385524\ttotal: 1.28s\tremaining: 851ms\n",
      "60:\tlearn: 2685.6623108\ttotal: 1.3s\tremaining: 830ms\n",
      "61:\tlearn: 2673.3895222\ttotal: 1.32s\tremaining: 808ms\n",
      "62:\tlearn: 2662.3613095\ttotal: 1.34s\tremaining: 787ms\n",
      "63:\tlearn: 2651.9927509\ttotal: 1.36s\tremaining: 765ms\n",
      "64:\tlearn: 2641.6860768\ttotal: 1.38s\tremaining: 743ms\n",
      "65:\tlearn: 2631.2281339\ttotal: 1.4s\tremaining: 722ms\n",
      "66:\tlearn: 2621.5066600\ttotal: 1.42s\tremaining: 701ms\n",
      "67:\tlearn: 2612.2536545\ttotal: 1.44s\tremaining: 679ms\n",
      "68:\tlearn: 2601.6425508\ttotal: 1.46s\tremaining: 657ms\n",
      "69:\tlearn: 2591.7055267\ttotal: 1.48s\tremaining: 636ms\n",
      "70:\tlearn: 2582.2040655\ttotal: 1.5s\tremaining: 615ms\n",
      "71:\tlearn: 2571.8569443\ttotal: 1.53s\tremaining: 594ms\n",
      "72:\tlearn: 2563.1789970\ttotal: 1.55s\tremaining: 572ms\n",
      "73:\tlearn: 2554.6082192\ttotal: 1.56s\tremaining: 550ms\n",
      "74:\tlearn: 2546.4297079\ttotal: 1.59s\tremaining: 529ms\n",
      "75:\tlearn: 2538.6512949\ttotal: 1.61s\tremaining: 508ms\n",
      "76:\tlearn: 2531.3499926\ttotal: 1.63s\tremaining: 487ms\n",
      "77:\tlearn: 2523.4714032\ttotal: 1.65s\tremaining: 465ms\n",
      "78:\tlearn: 2515.8604073\ttotal: 1.67s\tremaining: 444ms\n",
      "79:\tlearn: 2507.0771288\ttotal: 1.69s\tremaining: 423ms\n",
      "80:\tlearn: 2498.8010163\ttotal: 1.71s\tremaining: 401ms\n",
      "81:\tlearn: 2491.1511816\ttotal: 1.73s\tremaining: 380ms\n",
      "82:\tlearn: 2483.5503263\ttotal: 1.75s\tremaining: 359ms\n",
      "83:\tlearn: 2476.4110737\ttotal: 1.77s\tremaining: 338ms\n",
      "84:\tlearn: 2468.9677696\ttotal: 1.79s\tremaining: 317ms\n",
      "85:\tlearn: 2462.6922576\ttotal: 1.82s\tremaining: 296ms\n",
      "86:\tlearn: 2455.0403451\ttotal: 1.84s\tremaining: 275ms\n",
      "87:\tlearn: 2448.3918712\ttotal: 1.87s\tremaining: 255ms\n",
      "88:\tlearn: 2442.7262947\ttotal: 1.9s\tremaining: 234ms\n",
      "89:\tlearn: 2435.5803380\ttotal: 1.92s\tremaining: 213ms\n",
      "90:\tlearn: 2430.2321618\ttotal: 1.94s\tremaining: 191ms\n",
      "91:\tlearn: 2424.0728933\ttotal: 1.96s\tremaining: 170ms\n",
      "92:\tlearn: 2417.5491474\ttotal: 1.98s\tremaining: 149ms\n",
      "93:\tlearn: 2412.6810189\ttotal: 2s\tremaining: 128ms\n",
      "94:\tlearn: 2406.6934455\ttotal: 2.02s\tremaining: 106ms\n",
      "95:\tlearn: 2401.7081090\ttotal: 2.04s\tremaining: 85ms\n",
      "96:\tlearn: 2396.5573383\ttotal: 2.06s\tremaining: 63.7ms\n",
      "97:\tlearn: 2391.8186259\ttotal: 2.08s\tremaining: 42.4ms\n",
      "98:\tlearn: 2386.2537968\ttotal: 2.1s\tremaining: 21.2ms\n",
      "99:\tlearn: 2381.6261385\ttotal: 2.12s\tremaining: 0us\n",
      "0:\tlearn: 4514.3534627\ttotal: 25.7ms\tremaining: 2.54s\n",
      "1:\tlearn: 4443.4746964\ttotal: 52.7ms\tremaining: 2.58s\n",
      "2:\tlearn: 4375.5398900\ttotal: 78.9ms\tremaining: 2.55s\n",
      "3:\tlearn: 4311.0828093\ttotal: 115ms\tremaining: 2.77s\n",
      "4:\tlearn: 4249.5552327\ttotal: 142ms\tremaining: 2.7s\n",
      "5:\tlearn: 4189.2651369\ttotal: 167ms\tremaining: 2.62s\n",
      "6:\tlearn: 4131.9839440\ttotal: 201ms\tremaining: 2.67s\n",
      "7:\tlearn: 4075.4844473\ttotal: 230ms\tremaining: 2.64s\n",
      "8:\tlearn: 4022.3818450\ttotal: 257ms\tremaining: 2.6s\n",
      "9:\tlearn: 3970.5190574\ttotal: 293ms\tremaining: 2.63s\n",
      "10:\tlearn: 3921.3026892\ttotal: 328ms\tremaining: 2.66s\n",
      "11:\tlearn: 3873.5556027\ttotal: 357ms\tremaining: 2.62s\n",
      "12:\tlearn: 3824.7925231\ttotal: 382ms\tremaining: 2.55s\n",
      "13:\tlearn: 3779.1966610\ttotal: 407ms\tremaining: 2.5s\n",
      "14:\tlearn: 3735.4503132\ttotal: 427ms\tremaining: 2.42s\n",
      "15:\tlearn: 3694.7124315\ttotal: 460ms\tremaining: 2.42s\n",
      "16:\tlearn: 3653.9545235\ttotal: 492ms\tremaining: 2.4s\n",
      "17:\tlearn: 3614.8776964\ttotal: 516ms\tremaining: 2.35s\n",
      "18:\tlearn: 3577.8426710\ttotal: 539ms\tremaining: 2.3s\n",
      "19:\tlearn: 3540.4044981\ttotal: 559ms\tremaining: 2.23s\n",
      "20:\tlearn: 3505.7301023\ttotal: 580ms\tremaining: 2.18s\n",
      "21:\tlearn: 3469.9089262\ttotal: 600ms\tremaining: 2.13s\n",
      "22:\tlearn: 3438.2365937\ttotal: 619ms\tremaining: 2.07s\n",
      "23:\tlearn: 3404.9637802\ttotal: 639ms\tremaining: 2.02s\n",
      "24:\tlearn: 3373.4402504\ttotal: 658ms\tremaining: 1.98s\n",
      "25:\tlearn: 3344.5397977\ttotal: 677ms\tremaining: 1.93s\n",
      "26:\tlearn: 3313.5838621\ttotal: 697ms\tremaining: 1.89s\n",
      "27:\tlearn: 3284.6658259\ttotal: 718ms\tremaining: 1.84s\n",
      "28:\tlearn: 3257.5002269\ttotal: 743ms\tremaining: 1.82s\n",
      "29:\tlearn: 3231.6987895\ttotal: 763ms\tremaining: 1.78s\n",
      "30:\tlearn: 3206.8852390\ttotal: 783ms\tremaining: 1.74s\n",
      "31:\tlearn: 3182.9079142\ttotal: 802ms\tremaining: 1.7s\n",
      "32:\tlearn: 3157.3200516\ttotal: 822ms\tremaining: 1.67s\n",
      "33:\tlearn: 3135.0508770\ttotal: 842ms\tremaining: 1.63s\n",
      "34:\tlearn: 3112.7159105\ttotal: 862ms\tremaining: 1.6s\n",
      "35:\tlearn: 3090.5377122\ttotal: 882ms\tremaining: 1.57s\n",
      "36:\tlearn: 3068.5263743\ttotal: 903ms\tremaining: 1.54s\n",
      "37:\tlearn: 3048.9166698\ttotal: 923ms\tremaining: 1.51s\n",
      "38:\tlearn: 3029.0978562\ttotal: 943ms\tremaining: 1.47s\n",
      "39:\tlearn: 3008.1538240\ttotal: 963ms\tremaining: 1.45s\n",
      "40:\tlearn: 2990.5531232\ttotal: 984ms\tremaining: 1.42s\n",
      "41:\tlearn: 2971.1348241\ttotal: 1s\tremaining: 1.39s\n",
      "42:\tlearn: 2951.7055496\ttotal: 1.04s\tremaining: 1.38s\n",
      "43:\tlearn: 2933.8220891\ttotal: 1.07s\tremaining: 1.36s\n",
      "44:\tlearn: 2916.4811364\ttotal: 1.11s\tremaining: 1.35s\n",
      "45:\tlearn: 2899.5259971\ttotal: 1.13s\tremaining: 1.32s\n",
      "46:\tlearn: 2881.8080588\ttotal: 1.15s\tremaining: 1.29s\n",
      "47:\tlearn: 2865.0657104\ttotal: 1.17s\tremaining: 1.26s\n",
      "48:\tlearn: 2849.0077319\ttotal: 1.19s\tremaining: 1.24s\n",
      "49:\tlearn: 2833.9551594\ttotal: 1.21s\tremaining: 1.21s\n",
      "50:\tlearn: 2818.9856677\ttotal: 1.23s\tremaining: 1.18s\n",
      "51:\tlearn: 2803.8041348\ttotal: 1.25s\tremaining: 1.15s\n",
      "52:\tlearn: 2788.3021392\ttotal: 1.26s\tremaining: 1.12s\n",
      "53:\tlearn: 2774.4481205\ttotal: 1.28s\tremaining: 1.09s\n",
      "54:\tlearn: 2760.5972767\ttotal: 1.3s\tremaining: 1.07s\n",
      "55:\tlearn: 2747.5479131\ttotal: 1.32s\tremaining: 1.04s\n",
      "56:\tlearn: 2734.3871625\ttotal: 1.34s\tremaining: 1.01s\n",
      "57:\tlearn: 2721.1654042\ttotal: 1.36s\tremaining: 987ms\n",
      "58:\tlearn: 2708.4183040\ttotal: 1.38s\tremaining: 961ms\n",
      "59:\tlearn: 2696.1203238\ttotal: 1.4s\tremaining: 936ms\n",
      "60:\tlearn: 2684.8675476\ttotal: 1.42s\tremaining: 910ms\n",
      "61:\tlearn: 2672.9636514\ttotal: 1.45s\tremaining: 887ms\n",
      "62:\tlearn: 2662.0140759\ttotal: 1.48s\tremaining: 870ms\n",
      "63:\tlearn: 2651.0697838\ttotal: 1.5s\tremaining: 845ms\n",
      "64:\tlearn: 2640.5606463\ttotal: 1.52s\tremaining: 820ms\n",
      "65:\tlearn: 2630.1357828\ttotal: 1.54s\tremaining: 795ms\n",
      "66:\tlearn: 2620.5396052\ttotal: 1.56s\tremaining: 770ms\n",
      "67:\tlearn: 2610.6509298\ttotal: 1.59s\tremaining: 747ms\n",
      "68:\tlearn: 2600.8603379\ttotal: 1.61s\tremaining: 723ms\n",
      "69:\tlearn: 2591.4198451\ttotal: 1.63s\tremaining: 699ms\n",
      "70:\tlearn: 2582.3418177\ttotal: 1.65s\tremaining: 674ms\n",
      "71:\tlearn: 2574.1391837\ttotal: 1.67s\tremaining: 650ms\n",
      "72:\tlearn: 2566.0858535\ttotal: 1.69s\tremaining: 627ms\n",
      "73:\tlearn: 2557.7234201\ttotal: 1.72s\tremaining: 603ms\n",
      "74:\tlearn: 2549.3640029\ttotal: 1.74s\tremaining: 579ms\n",
      "75:\tlearn: 2541.6684216\ttotal: 1.76s\tremaining: 556ms\n",
      "76:\tlearn: 2534.4572066\ttotal: 1.78s\tremaining: 532ms\n",
      "77:\tlearn: 2525.1903316\ttotal: 1.8s\tremaining: 508ms\n",
      "78:\tlearn: 2515.9841586\ttotal: 1.82s\tremaining: 484ms\n",
      "79:\tlearn: 2507.0078531\ttotal: 1.84s\tremaining: 460ms\n",
      "80:\tlearn: 2499.6044421\ttotal: 1.86s\tremaining: 437ms\n",
      "81:\tlearn: 2492.4048703\ttotal: 1.89s\tremaining: 414ms\n",
      "82:\tlearn: 2484.6172255\ttotal: 1.91s\tremaining: 390ms\n",
      "83:\tlearn: 2477.4816883\ttotal: 1.93s\tremaining: 367ms\n",
      "84:\tlearn: 2471.0165528\ttotal: 1.95s\tremaining: 344ms\n",
      "85:\tlearn: 2464.6148870\ttotal: 1.97s\tremaining: 321ms\n",
      "86:\tlearn: 2457.1528332\ttotal: 1.99s\tremaining: 297ms\n",
      "87:\tlearn: 2450.7825391\ttotal: 2.01s\tremaining: 274ms\n",
      "88:\tlearn: 2444.8207556\ttotal: 2.03s\tremaining: 251ms\n",
      "89:\tlearn: 2438.9867408\ttotal: 2.05s\tremaining: 228ms\n",
      "90:\tlearn: 2433.1548988\ttotal: 2.07s\tremaining: 205ms\n",
      "91:\tlearn: 2427.7624482\ttotal: 2.09s\tremaining: 182ms\n",
      "92:\tlearn: 2421.1700967\ttotal: 2.12s\tremaining: 159ms\n",
      "93:\tlearn: 2414.5541698\ttotal: 2.14s\tremaining: 136ms\n",
      "94:\tlearn: 2409.8116468\ttotal: 2.16s\tremaining: 114ms\n",
      "95:\tlearn: 2402.4214694\ttotal: 2.18s\tremaining: 90.8ms\n",
      "96:\tlearn: 2396.6708708\ttotal: 2.2s\tremaining: 68ms\n",
      "97:\tlearn: 2390.8433776\ttotal: 2.22s\tremaining: 45.3ms\n",
      "98:\tlearn: 2385.3251206\ttotal: 2.24s\tremaining: 22.6ms\n",
      "99:\tlearn: 2379.0952112\ttotal: 2.26s\tremaining: 0us\n",
      "0:\tlearn: 4360.5746081\ttotal: 26ms\tremaining: 2.58s\n",
      "1:\tlearn: 4151.4911261\ttotal: 52.4ms\tremaining: 2.57s\n",
      "2:\tlearn: 3969.1135135\ttotal: 72.1ms\tremaining: 2.33s\n",
      "3:\tlearn: 3804.5012512\ttotal: 99.7ms\tremaining: 2.39s\n",
      "4:\tlearn: 3664.1518103\ttotal: 119ms\tremaining: 2.26s\n",
      "5:\tlearn: 3533.3946276\ttotal: 139ms\tremaining: 2.18s\n",
      "6:\tlearn: 3421.9726520\ttotal: 159ms\tremaining: 2.11s\n",
      "7:\tlearn: 3315.1238770\ttotal: 179ms\tremaining: 2.06s\n",
      "8:\tlearn: 3218.7786533\ttotal: 200ms\tremaining: 2.02s\n",
      "9:\tlearn: 3141.5243992\ttotal: 219ms\tremaining: 1.97s\n",
      "10:\tlearn: 3065.4576535\ttotal: 238ms\tremaining: 1.92s\n",
      "11:\tlearn: 3005.8332803\ttotal: 262ms\tremaining: 1.92s\n",
      "12:\tlearn: 2941.0961104\ttotal: 281ms\tremaining: 1.88s\n",
      "13:\tlearn: 2875.2831171\ttotal: 302ms\tremaining: 1.85s\n",
      "14:\tlearn: 2822.1129938\ttotal: 324ms\tremaining: 1.83s\n",
      "15:\tlearn: 2773.8914791\ttotal: 343ms\tremaining: 1.8s\n",
      "16:\tlearn: 2728.0172455\ttotal: 363ms\tremaining: 1.77s\n",
      "17:\tlearn: 2685.3775127\ttotal: 383ms\tremaining: 1.74s\n",
      "18:\tlearn: 2649.1101169\ttotal: 403ms\tremaining: 1.72s\n",
      "19:\tlearn: 2613.3117433\ttotal: 423ms\tremaining: 1.69s\n",
      "20:\tlearn: 2580.3523848\ttotal: 444ms\tremaining: 1.67s\n",
      "21:\tlearn: 2552.0607671\ttotal: 466ms\tremaining: 1.65s\n",
      "22:\tlearn: 2525.8915914\ttotal: 486ms\tremaining: 1.63s\n",
      "23:\tlearn: 2501.4862981\ttotal: 508ms\tremaining: 1.61s\n",
      "24:\tlearn: 2479.1171485\ttotal: 543ms\tremaining: 1.63s\n",
      "25:\tlearn: 2457.8668038\ttotal: 571ms\tremaining: 1.62s\n",
      "26:\tlearn: 2437.9265832\ttotal: 600ms\tremaining: 1.62s\n",
      "27:\tlearn: 2418.0847253\ttotal: 632ms\tremaining: 1.62s\n",
      "28:\tlearn: 2401.2634103\ttotal: 655ms\tremaining: 1.6s\n",
      "29:\tlearn: 2381.4972953\ttotal: 677ms\tremaining: 1.58s\n",
      "30:\tlearn: 2363.0295603\ttotal: 698ms\tremaining: 1.55s\n",
      "31:\tlearn: 2339.6456038\ttotal: 717ms\tremaining: 1.52s\n",
      "32:\tlearn: 2325.4002482\ttotal: 738ms\tremaining: 1.5s\n",
      "33:\tlearn: 2313.4444399\ttotal: 761ms\tremaining: 1.48s\n",
      "34:\tlearn: 2297.9319371\ttotal: 781ms\tremaining: 1.45s\n",
      "35:\tlearn: 2284.1422086\ttotal: 801ms\tremaining: 1.42s\n",
      "36:\tlearn: 2273.3307501\ttotal: 821ms\tremaining: 1.4s\n",
      "37:\tlearn: 2262.6777775\ttotal: 842ms\tremaining: 1.37s\n",
      "38:\tlearn: 2246.9677973\ttotal: 863ms\tremaining: 1.35s\n",
      "39:\tlearn: 2237.8086901\ttotal: 884ms\tremaining: 1.32s\n",
      "40:\tlearn: 2228.6969023\ttotal: 905ms\tremaining: 1.3s\n",
      "41:\tlearn: 2217.0853698\ttotal: 925ms\tremaining: 1.28s\n",
      "42:\tlearn: 2209.7661174\ttotal: 947ms\tremaining: 1.25s\n",
      "43:\tlearn: 2200.8086039\ttotal: 970ms\tremaining: 1.23s\n",
      "44:\tlearn: 2193.8179536\ttotal: 989ms\tremaining: 1.21s\n",
      "45:\tlearn: 2188.2684075\ttotal: 1.01s\tremaining: 1.19s\n",
      "46:\tlearn: 2180.3486854\ttotal: 1.03s\tremaining: 1.16s\n",
      "47:\tlearn: 2170.6036329\ttotal: 1.05s\tremaining: 1.14s\n",
      "48:\tlearn: 2165.2301231\ttotal: 1.07s\tremaining: 1.11s\n",
      "49:\tlearn: 2156.4496450\ttotal: 1.09s\tremaining: 1.09s\n",
      "50:\tlearn: 2150.0816324\ttotal: 1.11s\tremaining: 1.07s\n",
      "51:\tlearn: 2144.6035133\ttotal: 1.14s\tremaining: 1.05s\n",
      "52:\tlearn: 2140.6379106\ttotal: 1.16s\tremaining: 1.03s\n",
      "53:\tlearn: 2135.4658507\ttotal: 1.18s\tremaining: 1s\n",
      "54:\tlearn: 2131.5551224\ttotal: 1.2s\tremaining: 983ms\n",
      "55:\tlearn: 2126.7035191\ttotal: 1.22s\tremaining: 960ms\n",
      "56:\tlearn: 2122.8901238\ttotal: 1.24s\tremaining: 936ms\n",
      "57:\tlearn: 2119.5399120\ttotal: 1.26s\tremaining: 915ms\n",
      "58:\tlearn: 2115.8763705\ttotal: 1.28s\tremaining: 893ms\n",
      "59:\tlearn: 2109.4889731\ttotal: 1.31s\tremaining: 872ms\n",
      "60:\tlearn: 2104.0722374\ttotal: 1.33s\tremaining: 851ms\n",
      "61:\tlearn: 2100.9204612\ttotal: 1.35s\tremaining: 828ms\n",
      "62:\tlearn: 2097.0481378\ttotal: 1.37s\tremaining: 805ms\n",
      "63:\tlearn: 2091.7738091\ttotal: 1.39s\tremaining: 783ms\n",
      "64:\tlearn: 2088.2424316\ttotal: 1.41s\tremaining: 761ms\n",
      "65:\tlearn: 2084.6145011\ttotal: 1.43s\tremaining: 739ms\n",
      "66:\tlearn: 2081.9498607\ttotal: 1.46s\tremaining: 717ms\n",
      "67:\tlearn: 2079.9425496\ttotal: 1.48s\tremaining: 694ms\n",
      "68:\tlearn: 2076.1834871\ttotal: 1.5s\tremaining: 673ms\n",
      "69:\tlearn: 2072.2465134\ttotal: 1.52s\tremaining: 650ms\n",
      "70:\tlearn: 2070.2768268\ttotal: 1.54s\tremaining: 629ms\n",
      "71:\tlearn: 2067.7036836\ttotal: 1.56s\tremaining: 607ms\n",
      "72:\tlearn: 2065.8414740\ttotal: 1.58s\tremaining: 585ms\n",
      "73:\tlearn: 2062.5025436\ttotal: 1.6s\tremaining: 563ms\n",
      "74:\tlearn: 2060.7208766\ttotal: 1.63s\tremaining: 542ms\n",
      "75:\tlearn: 2057.3318849\ttotal: 1.65s\tremaining: 520ms\n",
      "76:\tlearn: 2055.0046396\ttotal: 1.67s\tremaining: 500ms\n",
      "77:\tlearn: 2052.9666270\ttotal: 1.71s\tremaining: 481ms\n",
      "78:\tlearn: 2051.2808778\ttotal: 1.74s\tremaining: 463ms\n",
      "79:\tlearn: 2049.4528891\ttotal: 1.78s\tremaining: 444ms\n",
      "80:\tlearn: 2047.2879463\ttotal: 1.81s\tremaining: 425ms\n",
      "81:\tlearn: 2044.1170097\ttotal: 1.83s\tremaining: 403ms\n",
      "82:\tlearn: 2042.7177846\ttotal: 1.86s\tremaining: 380ms\n",
      "83:\tlearn: 2041.1468958\ttotal: 1.88s\tremaining: 357ms\n",
      "84:\tlearn: 2038.9027125\ttotal: 1.9s\tremaining: 335ms\n",
      "85:\tlearn: 2036.1630093\ttotal: 1.92s\tremaining: 312ms\n",
      "86:\tlearn: 2034.3350033\ttotal: 1.94s\tremaining: 290ms\n",
      "87:\tlearn: 2032.3667461\ttotal: 1.96s\tremaining: 267ms\n",
      "88:\tlearn: 2031.2754419\ttotal: 1.98s\tremaining: 245ms\n",
      "89:\tlearn: 2029.3974789\ttotal: 2s\tremaining: 222ms\n",
      "90:\tlearn: 2027.6744845\ttotal: 2.02s\tremaining: 200ms\n",
      "91:\tlearn: 2025.7955426\ttotal: 2.04s\tremaining: 178ms\n",
      "92:\tlearn: 2024.2242780\ttotal: 2.06s\tremaining: 155ms\n",
      "93:\tlearn: 2023.0172725\ttotal: 2.08s\tremaining: 133ms\n",
      "94:\tlearn: 2020.9509527\ttotal: 2.11s\tremaining: 111ms\n",
      "95:\tlearn: 2018.3010042\ttotal: 2.13s\tremaining: 88.6ms\n",
      "96:\tlearn: 2017.2113273\ttotal: 2.15s\tremaining: 66.4ms\n",
      "97:\tlearn: 2016.1708566\ttotal: 2.17s\tremaining: 44.3ms\n",
      "98:\tlearn: 2014.6043564\ttotal: 2.19s\tremaining: 22.1ms\n",
      "99:\tlearn: 2011.1453543\ttotal: 2.21s\tremaining: 0us\n",
      "0:\tlearn: 4359.7373674\ttotal: 27.5ms\tremaining: 2.73s\n",
      "1:\tlearn: 4151.1591949\ttotal: 54.3ms\tremaining: 2.66s\n",
      "2:\tlearn: 3967.6849091\ttotal: 74.9ms\tremaining: 2.42s\n",
      "3:\tlearn: 3804.8276229\ttotal: 103ms\tremaining: 2.47s\n",
      "4:\tlearn: 3662.4857079\ttotal: 124ms\tremaining: 2.36s\n",
      "5:\tlearn: 3538.4637536\ttotal: 153ms\tremaining: 2.39s\n",
      "6:\tlearn: 3412.5974123\ttotal: 174ms\tremaining: 2.31s\n",
      "7:\tlearn: 3305.1001606\ttotal: 195ms\tremaining: 2.24s\n",
      "8:\tlearn: 3211.0783018\ttotal: 216ms\tremaining: 2.18s\n",
      "9:\tlearn: 3131.0172379\ttotal: 237ms\tremaining: 2.13s\n",
      "10:\tlearn: 3061.6549905\ttotal: 308ms\tremaining: 2.49s\n",
      "11:\tlearn: 2991.6734418\ttotal: 328ms\tremaining: 2.4s\n",
      "12:\tlearn: 2935.6919775\ttotal: 347ms\tremaining: 2.32s\n",
      "13:\tlearn: 2876.3636420\ttotal: 419ms\tremaining: 2.58s\n",
      "14:\tlearn: 2825.0131185\ttotal: 442ms\tremaining: 2.5s\n",
      "15:\tlearn: 2772.8184869\ttotal: 519ms\tremaining: 2.72s\n",
      "16:\tlearn: 2731.9217146\ttotal: 538ms\tremaining: 2.63s\n",
      "17:\tlearn: 2694.2805656\ttotal: 559ms\tremaining: 2.54s\n",
      "18:\tlearn: 2660.4567203\ttotal: 579ms\tremaining: 2.47s\n",
      "19:\tlearn: 2625.9686054\ttotal: 603ms\tremaining: 2.41s\n",
      "20:\tlearn: 2594.1876416\ttotal: 634ms\tremaining: 2.38s\n",
      "21:\tlearn: 2567.3350912\ttotal: 707ms\tremaining: 2.51s\n",
      "22:\tlearn: 2538.8861095\ttotal: 727ms\tremaining: 2.43s\n",
      "23:\tlearn: 2513.6760375\ttotal: 753ms\tremaining: 2.38s\n",
      "24:\tlearn: 2484.1371927\ttotal: 775ms\tremaining: 2.32s\n",
      "25:\tlearn: 2459.8583145\ttotal: 802ms\tremaining: 2.28s\n",
      "26:\tlearn: 2435.5876727\ttotal: 822ms\tremaining: 2.22s\n",
      "27:\tlearn: 2416.6878901\ttotal: 843ms\tremaining: 2.17s\n",
      "28:\tlearn: 2400.4557603\ttotal: 864ms\tremaining: 2.11s\n",
      "29:\tlearn: 2385.0567229\ttotal: 885ms\tremaining: 2.06s\n",
      "30:\tlearn: 2370.4557510\ttotal: 907ms\tremaining: 2.02s\n",
      "31:\tlearn: 2353.2142176\ttotal: 927ms\tremaining: 1.97s\n",
      "32:\tlearn: 2339.3094639\ttotal: 948ms\tremaining: 1.93s\n",
      "33:\tlearn: 2323.7466839\ttotal: 969ms\tremaining: 1.88s\n",
      "34:\tlearn: 2310.5031178\ttotal: 989ms\tremaining: 1.84s\n",
      "35:\tlearn: 2299.6251877\ttotal: 1.01s\tremaining: 1.79s\n",
      "36:\tlearn: 2287.1653654\ttotal: 1.03s\tremaining: 1.75s\n",
      "37:\tlearn: 2269.0924453\ttotal: 1.05s\tremaining: 1.72s\n",
      "38:\tlearn: 2259.6213723\ttotal: 1.07s\tremaining: 1.68s\n",
      "39:\tlearn: 2250.9124388\ttotal: 1.09s\tremaining: 1.64s\n",
      "40:\tlearn: 2235.9714134\ttotal: 1.11s\tremaining: 1.6s\n",
      "41:\tlearn: 2226.5451897\ttotal: 1.14s\tremaining: 1.57s\n",
      "42:\tlearn: 2217.9750717\ttotal: 1.16s\tremaining: 1.53s\n",
      "43:\tlearn: 2207.3111314\ttotal: 1.18s\tremaining: 1.5s\n",
      "44:\tlearn: 2201.0070209\ttotal: 1.21s\tremaining: 1.47s\n",
      "45:\tlearn: 2194.9746643\ttotal: 1.23s\tremaining: 1.44s\n",
      "46:\tlearn: 2188.6635612\ttotal: 1.25s\tremaining: 1.41s\n",
      "47:\tlearn: 2182.6790687\ttotal: 1.27s\tremaining: 1.38s\n",
      "48:\tlearn: 2173.0069809\ttotal: 1.3s\tremaining: 1.35s\n",
      "49:\tlearn: 2165.2046170\ttotal: 1.32s\tremaining: 1.32s\n",
      "50:\tlearn: 2158.4164204\ttotal: 1.34s\tremaining: 1.29s\n",
      "51:\tlearn: 2151.2097185\ttotal: 1.36s\tremaining: 1.26s\n",
      "52:\tlearn: 2146.5074552\ttotal: 1.39s\tremaining: 1.23s\n",
      "53:\tlearn: 2141.4842502\ttotal: 1.41s\tremaining: 1.2s\n",
      "54:\tlearn: 2137.4331357\ttotal: 1.43s\tremaining: 1.17s\n",
      "55:\tlearn: 2134.0304202\ttotal: 1.45s\tremaining: 1.14s\n",
      "56:\tlearn: 2129.4423765\ttotal: 1.47s\tremaining: 1.11s\n",
      "57:\tlearn: 2122.3821956\ttotal: 1.49s\tremaining: 1.08s\n",
      "58:\tlearn: 2117.8660389\ttotal: 1.51s\tremaining: 1.05s\n",
      "59:\tlearn: 2114.3767784\ttotal: 1.53s\tremaining: 1.02s\n",
      "60:\tlearn: 2111.4871259\ttotal: 1.55s\tremaining: 991ms\n",
      "61:\tlearn: 2105.9178522\ttotal: 1.57s\tremaining: 962ms\n",
      "62:\tlearn: 2103.1461424\ttotal: 1.59s\tremaining: 935ms\n",
      "63:\tlearn: 2100.8086751\ttotal: 1.61s\tremaining: 906ms\n",
      "64:\tlearn: 2096.6576735\ttotal: 1.63s\tremaining: 879ms\n",
      "65:\tlearn: 2093.3430715\ttotal: 1.65s\tremaining: 851ms\n",
      "66:\tlearn: 2089.6496576\ttotal: 1.67s\tremaining: 824ms\n",
      "67:\tlearn: 2087.0978632\ttotal: 1.69s\tremaining: 797ms\n",
      "68:\tlearn: 2084.8351071\ttotal: 1.71s\tremaining: 770ms\n",
      "69:\tlearn: 2082.4326955\ttotal: 1.74s\tremaining: 747ms\n",
      "70:\tlearn: 2080.2582168\ttotal: 1.76s\tremaining: 720ms\n",
      "71:\tlearn: 2074.7658900\ttotal: 1.78s\tremaining: 694ms\n",
      "72:\tlearn: 2072.4183027\ttotal: 1.8s\tremaining: 667ms\n",
      "73:\tlearn: 2069.5903499\ttotal: 1.82s\tremaining: 641ms\n",
      "74:\tlearn: 2067.6317510\ttotal: 1.84s\tremaining: 615ms\n",
      "75:\tlearn: 2064.1703401\ttotal: 1.86s\tremaining: 589ms\n",
      "76:\tlearn: 2060.9469308\ttotal: 1.88s\tremaining: 563ms\n",
      "77:\tlearn: 2058.8925817\ttotal: 1.9s\tremaining: 537ms\n",
      "78:\tlearn: 2057.4321251\ttotal: 1.92s\tremaining: 512ms\n",
      "79:\tlearn: 2055.6762451\ttotal: 1.95s\tremaining: 486ms\n",
      "80:\tlearn: 2054.2220400\ttotal: 1.97s\tremaining: 462ms\n",
      "81:\tlearn: 2050.6395095\ttotal: 1.99s\tremaining: 437ms\n",
      "82:\tlearn: 2048.4432433\ttotal: 2.01s\tremaining: 412ms\n",
      "83:\tlearn: 2046.6581761\ttotal: 2.03s\tremaining: 387ms\n",
      "84:\tlearn: 2043.3589320\ttotal: 2.05s\tremaining: 362ms\n",
      "85:\tlearn: 2042.2764004\ttotal: 2.08s\tremaining: 338ms\n",
      "86:\tlearn: 2040.2715256\ttotal: 2.1s\tremaining: 313ms\n",
      "87:\tlearn: 2037.2130465\ttotal: 2.12s\tremaining: 289ms\n",
      "88:\tlearn: 2035.4609749\ttotal: 2.14s\tremaining: 264ms\n",
      "89:\tlearn: 2032.9545923\ttotal: 2.16s\tremaining: 240ms\n",
      "90:\tlearn: 2031.6037329\ttotal: 2.18s\tremaining: 216ms\n",
      "91:\tlearn: 2028.6933723\ttotal: 2.2s\tremaining: 192ms\n",
      "92:\tlearn: 2026.5733581\ttotal: 2.23s\tremaining: 168ms\n",
      "93:\tlearn: 2024.6127594\ttotal: 2.25s\tremaining: 143ms\n",
      "94:\tlearn: 2023.2972021\ttotal: 2.27s\tremaining: 119ms\n",
      "95:\tlearn: 2022.3068330\ttotal: 2.29s\tremaining: 95.3ms\n",
      "96:\tlearn: 2021.4369533\ttotal: 2.31s\tremaining: 71.4ms\n",
      "97:\tlearn: 2019.8153319\ttotal: 2.33s\tremaining: 47.6ms\n",
      "98:\tlearn: 2018.4148175\ttotal: 2.35s\tremaining: 23.8ms\n",
      "99:\tlearn: 2016.1268876\ttotal: 2.37s\tremaining: 0us\n",
      "0:\tlearn: 4354.5725758\ttotal: 29ms\tremaining: 2.87s\n",
      "1:\tlearn: 4147.3146418\ttotal: 56.8ms\tremaining: 2.78s\n",
      "2:\tlearn: 3963.7584604\ttotal: 77.8ms\tremaining: 2.52s\n",
      "3:\tlearn: 3799.5230798\ttotal: 106ms\tremaining: 2.54s\n",
      "4:\tlearn: 3658.7184422\ttotal: 127ms\tremaining: 2.4s\n",
      "5:\tlearn: 3520.6069543\ttotal: 148ms\tremaining: 2.31s\n",
      "6:\tlearn: 3404.1315474\ttotal: 168ms\tremaining: 2.23s\n",
      "7:\tlearn: 3296.3215615\ttotal: 189ms\tremaining: 2.17s\n",
      "8:\tlearn: 3200.6603220\ttotal: 208ms\tremaining: 2.11s\n",
      "9:\tlearn: 3119.2928798\ttotal: 229ms\tremaining: 2.06s\n",
      "10:\tlearn: 3050.9408952\ttotal: 254ms\tremaining: 2.05s\n",
      "11:\tlearn: 2982.4469987\ttotal: 274ms\tremaining: 2.01s\n",
      "12:\tlearn: 2928.1515450\ttotal: 295ms\tremaining: 1.98s\n",
      "13:\tlearn: 2866.7366780\ttotal: 316ms\tremaining: 1.94s\n",
      "14:\tlearn: 2811.3481972\ttotal: 336ms\tremaining: 1.9s\n",
      "15:\tlearn: 2764.7382609\ttotal: 356ms\tremaining: 1.87s\n",
      "16:\tlearn: 2720.6424099\ttotal: 375ms\tremaining: 1.83s\n",
      "17:\tlearn: 2678.8698050\ttotal: 397ms\tremaining: 1.81s\n",
      "18:\tlearn: 2641.2358132\ttotal: 417ms\tremaining: 1.78s\n",
      "19:\tlearn: 2607.8378281\ttotal: 436ms\tremaining: 1.75s\n",
      "20:\tlearn: 2575.8456502\ttotal: 455ms\tremaining: 1.71s\n",
      "21:\tlearn: 2544.8810081\ttotal: 477ms\tremaining: 1.69s\n",
      "22:\tlearn: 2519.1434441\ttotal: 497ms\tremaining: 1.67s\n",
      "23:\tlearn: 2494.4525182\ttotal: 518ms\tremaining: 1.64s\n",
      "24:\tlearn: 2474.6865667\ttotal: 540ms\tremaining: 1.62s\n",
      "25:\tlearn: 2450.8006621\ttotal: 562ms\tremaining: 1.6s\n",
      "26:\tlearn: 2427.0985289\ttotal: 584ms\tremaining: 1.58s\n",
      "27:\tlearn: 2403.0276581\ttotal: 610ms\tremaining: 1.57s\n",
      "28:\tlearn: 2381.9161877\ttotal: 631ms\tremaining: 1.54s\n",
      "29:\tlearn: 2366.0268698\ttotal: 652ms\tremaining: 1.52s\n",
      "30:\tlearn: 2344.6863565\ttotal: 673ms\tremaining: 1.5s\n",
      "31:\tlearn: 2330.1104470\ttotal: 695ms\tremaining: 1.48s\n",
      "32:\tlearn: 2315.9721314\ttotal: 720ms\tremaining: 1.46s\n",
      "33:\tlearn: 2301.8252648\ttotal: 740ms\tremaining: 1.44s\n",
      "34:\tlearn: 2291.3615494\ttotal: 762ms\tremaining: 1.42s\n",
      "35:\tlearn: 2272.4972298\ttotal: 786ms\tremaining: 1.4s\n",
      "36:\tlearn: 2261.5484762\ttotal: 806ms\tremaining: 1.37s\n",
      "37:\tlearn: 2251.3826090\ttotal: 828ms\tremaining: 1.35s\n",
      "38:\tlearn: 2240.9566036\ttotal: 849ms\tremaining: 1.33s\n",
      "39:\tlearn: 2227.1063981\ttotal: 871ms\tremaining: 1.31s\n",
      "40:\tlearn: 2219.2858051\ttotal: 903ms\tremaining: 1.3s\n",
      "41:\tlearn: 2212.0805895\ttotal: 936ms\tremaining: 1.29s\n",
      "42:\tlearn: 2205.3174333\ttotal: 958ms\tremaining: 1.27s\n",
      "43:\tlearn: 2192.9414053\ttotal: 980ms\tremaining: 1.25s\n",
      "44:\tlearn: 2184.7042606\ttotal: 1s\tremaining: 1.23s\n",
      "45:\tlearn: 2176.5341484\ttotal: 1.02s\tremaining: 1.2s\n",
      "46:\tlearn: 2169.6433654\ttotal: 1.05s\tremaining: 1.18s\n",
      "47:\tlearn: 2164.5259805\ttotal: 1.07s\tremaining: 1.16s\n",
      "48:\tlearn: 2158.5761439\ttotal: 1.09s\tremaining: 1.13s\n",
      "49:\tlearn: 2153.6864892\ttotal: 1.11s\tremaining: 1.11s\n",
      "50:\tlearn: 2148.6088759\ttotal: 1.13s\tremaining: 1.09s\n",
      "51:\tlearn: 2144.2041237\ttotal: 1.17s\tremaining: 1.07s\n",
      "52:\tlearn: 2140.3547897\ttotal: 1.19s\tremaining: 1.05s\n",
      "53:\tlearn: 2132.2702964\ttotal: 1.21s\tremaining: 1.03s\n",
      "54:\tlearn: 2128.6460162\ttotal: 1.23s\tremaining: 1.01s\n",
      "55:\tlearn: 2122.0610878\ttotal: 1.25s\tremaining: 986ms\n",
      "56:\tlearn: 2118.0394305\ttotal: 1.27s\tremaining: 962ms\n",
      "57:\tlearn: 2113.5761855\ttotal: 1.3s\tremaining: 940ms\n",
      "58:\tlearn: 2109.8328887\ttotal: 1.32s\tremaining: 917ms\n",
      "59:\tlearn: 2104.4619425\ttotal: 1.34s\tremaining: 894ms\n",
      "60:\tlearn: 2101.7147050\ttotal: 1.36s\tremaining: 871ms\n",
      "61:\tlearn: 2099.0857859\ttotal: 1.38s\tremaining: 848ms\n",
      "62:\tlearn: 2096.4798683\ttotal: 1.41s\tremaining: 826ms\n",
      "63:\tlearn: 2092.2662013\ttotal: 1.43s\tremaining: 803ms\n",
      "64:\tlearn: 2089.3827348\ttotal: 1.45s\tremaining: 781ms\n",
      "65:\tlearn: 2086.8987377\ttotal: 1.47s\tremaining: 758ms\n",
      "66:\tlearn: 2084.7375987\ttotal: 1.5s\tremaining: 736ms\n",
      "67:\tlearn: 2082.7356232\ttotal: 1.52s\tremaining: 714ms\n",
      "68:\tlearn: 2078.3011188\ttotal: 1.54s\tremaining: 691ms\n",
      "69:\tlearn: 2074.2241115\ttotal: 1.56s\tremaining: 668ms\n",
      "70:\tlearn: 2072.1173952\ttotal: 1.58s\tremaining: 646ms\n",
      "71:\tlearn: 2067.7768938\ttotal: 1.6s\tremaining: 623ms\n",
      "72:\tlearn: 2065.2102027\ttotal: 1.62s\tremaining: 600ms\n",
      "73:\tlearn: 2061.3711362\ttotal: 1.64s\tremaining: 577ms\n",
      "74:\tlearn: 2056.9831296\ttotal: 1.66s\tremaining: 554ms\n",
      "75:\tlearn: 2055.7635327\ttotal: 1.68s\tremaining: 532ms\n",
      "76:\tlearn: 2053.8625651\ttotal: 1.71s\tremaining: 510ms\n",
      "77:\tlearn: 2051.5083009\ttotal: 1.73s\tremaining: 487ms\n",
      "78:\tlearn: 2048.1323958\ttotal: 1.75s\tremaining: 465ms\n",
      "79:\tlearn: 2045.6421269\ttotal: 1.77s\tremaining: 442ms\n",
      "80:\tlearn: 2043.9311691\ttotal: 1.79s\tremaining: 420ms\n",
      "81:\tlearn: 2041.8610063\ttotal: 1.81s\tremaining: 397ms\n",
      "82:\tlearn: 2039.7692106\ttotal: 1.83s\tremaining: 375ms\n",
      "83:\tlearn: 2038.3421016\ttotal: 1.85s\tremaining: 353ms\n",
      "84:\tlearn: 2036.3096965\ttotal: 1.88s\tremaining: 331ms\n",
      "85:\tlearn: 2034.5961855\ttotal: 1.9s\tremaining: 309ms\n",
      "86:\tlearn: 2032.9004887\ttotal: 1.92s\tremaining: 286ms\n",
      "87:\tlearn: 2030.0467409\ttotal: 1.94s\tremaining: 264ms\n",
      "88:\tlearn: 2028.0695390\ttotal: 1.96s\tremaining: 242ms\n",
      "89:\tlearn: 2026.5064387\ttotal: 1.98s\tremaining: 220ms\n",
      "90:\tlearn: 2025.1397878\ttotal: 2s\tremaining: 198ms\n",
      "91:\tlearn: 2023.7665751\ttotal: 2.02s\tremaining: 176ms\n",
      "92:\tlearn: 2021.1819465\ttotal: 2.04s\tremaining: 154ms\n",
      "93:\tlearn: 2019.3335299\ttotal: 2.07s\tremaining: 132ms\n",
      "94:\tlearn: 2017.8499438\ttotal: 2.09s\tremaining: 110ms\n",
      "95:\tlearn: 2015.1875141\ttotal: 2.12s\tremaining: 88.2ms\n",
      "96:\tlearn: 2014.3475657\ttotal: 2.14s\tremaining: 66.2ms\n",
      "97:\tlearn: 2012.5625436\ttotal: 2.16s\tremaining: 44.1ms\n",
      "98:\tlearn: 2010.2258984\ttotal: 2.18s\tremaining: 22ms\n",
      "99:\tlearn: 2008.1544755\ttotal: 2.2s\tremaining: 0us\n",
      "0:\tlearn: 4354.1665927\ttotal: 27ms\tremaining: 2.67s\n",
      "1:\tlearn: 4146.6876485\ttotal: 55.8ms\tremaining: 2.73s\n",
      "2:\tlearn: 3965.4713410\ttotal: 81.2ms\tremaining: 2.62s\n",
      "3:\tlearn: 3802.8191554\ttotal: 108ms\tremaining: 2.6s\n",
      "4:\tlearn: 3663.8098839\ttotal: 132ms\tremaining: 2.51s\n",
      "5:\tlearn: 3534.3893065\ttotal: 156ms\tremaining: 2.44s\n",
      "6:\tlearn: 3416.7926678\ttotal: 176ms\tremaining: 2.34s\n",
      "7:\tlearn: 3316.1420023\ttotal: 198ms\tremaining: 2.27s\n",
      "8:\tlearn: 3211.0618300\ttotal: 217ms\tremaining: 2.2s\n",
      "9:\tlearn: 3122.3407650\ttotal: 238ms\tremaining: 2.14s\n",
      "10:\tlearn: 3052.8916903\ttotal: 258ms\tremaining: 2.09s\n",
      "11:\tlearn: 2987.3965303\ttotal: 278ms\tremaining: 2.04s\n",
      "12:\tlearn: 2933.4298963\ttotal: 301ms\tremaining: 2.01s\n",
      "13:\tlearn: 2881.3918315\ttotal: 321ms\tremaining: 1.97s\n",
      "14:\tlearn: 2827.2523309\ttotal: 342ms\tremaining: 1.94s\n",
      "15:\tlearn: 2776.9804334\ttotal: 361ms\tremaining: 1.9s\n",
      "16:\tlearn: 2723.8526011\ttotal: 383ms\tremaining: 1.87s\n",
      "17:\tlearn: 2685.7812046\ttotal: 403ms\tremaining: 1.83s\n",
      "18:\tlearn: 2648.8583394\ttotal: 423ms\tremaining: 1.8s\n",
      "19:\tlearn: 2611.3357220\ttotal: 445ms\tremaining: 1.78s\n",
      "20:\tlearn: 2578.9225683\ttotal: 467ms\tremaining: 1.75s\n",
      "21:\tlearn: 2551.2767490\ttotal: 488ms\tremaining: 1.73s\n",
      "22:\tlearn: 2520.2548754\ttotal: 508ms\tremaining: 1.7s\n",
      "23:\tlearn: 2494.0310188\ttotal: 529ms\tremaining: 1.67s\n",
      "24:\tlearn: 2468.7476625\ttotal: 550ms\tremaining: 1.65s\n",
      "25:\tlearn: 2444.0749978\ttotal: 570ms\tremaining: 1.62s\n",
      "26:\tlearn: 2424.6192255\ttotal: 590ms\tremaining: 1.59s\n",
      "27:\tlearn: 2404.1737827\ttotal: 610ms\tremaining: 1.57s\n",
      "28:\tlearn: 2388.3491980\ttotal: 630ms\tremaining: 1.54s\n",
      "29:\tlearn: 2371.6199376\ttotal: 652ms\tremaining: 1.52s\n",
      "30:\tlearn: 2357.4623074\ttotal: 673ms\tremaining: 1.5s\n",
      "31:\tlearn: 2345.3353498\ttotal: 698ms\tremaining: 1.48s\n",
      "32:\tlearn: 2330.3181812\ttotal: 720ms\tremaining: 1.46s\n",
      "33:\tlearn: 2320.2340302\ttotal: 742ms\tremaining: 1.44s\n",
      "34:\tlearn: 2308.6836286\ttotal: 766ms\tremaining: 1.42s\n",
      "35:\tlearn: 2292.9144877\ttotal: 787ms\tremaining: 1.4s\n",
      "36:\tlearn: 2278.7697553\ttotal: 807ms\tremaining: 1.37s\n",
      "37:\tlearn: 2265.6313704\ttotal: 826ms\tremaining: 1.35s\n",
      "38:\tlearn: 2256.7150845\ttotal: 847ms\tremaining: 1.32s\n",
      "39:\tlearn: 2248.2567047\ttotal: 869ms\tremaining: 1.3s\n",
      "40:\tlearn: 2235.6315897\ttotal: 891ms\tremaining: 1.28s\n",
      "41:\tlearn: 2226.0637345\ttotal: 911ms\tremaining: 1.26s\n",
      "42:\tlearn: 2217.9268838\ttotal: 932ms\tremaining: 1.24s\n",
      "43:\tlearn: 2209.9294179\ttotal: 953ms\tremaining: 1.21s\n",
      "44:\tlearn: 2201.6551289\ttotal: 973ms\tremaining: 1.19s\n",
      "45:\tlearn: 2195.8807683\ttotal: 993ms\tremaining: 1.17s\n",
      "46:\tlearn: 2188.5904820\ttotal: 1.01s\tremaining: 1.14s\n",
      "47:\tlearn: 2178.9072048\ttotal: 1.03s\tremaining: 1.12s\n",
      "48:\tlearn: 2173.7311827\ttotal: 1.06s\tremaining: 1.1s\n",
      "49:\tlearn: 2165.9361837\ttotal: 1.08s\tremaining: 1.08s\n",
      "50:\tlearn: 2160.0330450\ttotal: 1.1s\tremaining: 1.05s\n",
      "51:\tlearn: 2151.5782114\ttotal: 1.12s\tremaining: 1.03s\n",
      "52:\tlearn: 2147.2279585\ttotal: 1.14s\tremaining: 1.01s\n",
      "53:\tlearn: 2142.5562647\ttotal: 1.16s\tremaining: 990ms\n",
      "54:\tlearn: 2139.4523272\ttotal: 1.18s\tremaining: 969ms\n",
      "55:\tlearn: 2135.8189414\ttotal: 1.21s\tremaining: 947ms\n",
      "56:\tlearn: 2132.5123340\ttotal: 1.23s\tremaining: 925ms\n",
      "57:\tlearn: 2128.9341515\ttotal: 1.25s\tremaining: 903ms\n",
      "58:\tlearn: 2122.6673170\ttotal: 1.27s\tremaining: 881ms\n",
      "59:\tlearn: 2118.1304720\ttotal: 1.29s\tremaining: 858ms\n",
      "60:\tlearn: 2113.9634855\ttotal: 1.31s\tremaining: 837ms\n",
      "61:\tlearn: 2110.3491371\ttotal: 1.33s\tremaining: 814ms\n",
      "62:\tlearn: 2105.4218619\ttotal: 1.35s\tremaining: 793ms\n",
      "63:\tlearn: 2101.0043362\ttotal: 1.37s\tremaining: 771ms\n",
      "64:\tlearn: 2098.4951552\ttotal: 1.39s\tremaining: 749ms\n",
      "65:\tlearn: 2095.4115320\ttotal: 1.41s\tremaining: 727ms\n",
      "66:\tlearn: 2092.3497071\ttotal: 1.43s\tremaining: 706ms\n",
      "67:\tlearn: 2088.0040405\ttotal: 1.46s\tremaining: 685ms\n",
      "68:\tlearn: 2084.4884983\ttotal: 1.48s\tremaining: 666ms\n",
      "69:\tlearn: 2082.3372334\ttotal: 1.51s\tremaining: 646ms\n",
      "70:\tlearn: 2079.6526449\ttotal: 1.53s\tremaining: 625ms\n",
      "71:\tlearn: 2077.2531882\ttotal: 1.55s\tremaining: 603ms\n",
      "72:\tlearn: 2075.0356691\ttotal: 1.57s\tremaining: 582ms\n",
      "73:\tlearn: 2071.5642593\ttotal: 1.61s\tremaining: 565ms\n",
      "74:\tlearn: 2069.6152630\ttotal: 1.64s\tremaining: 547ms\n",
      "75:\tlearn: 2066.6974110\ttotal: 1.67s\tremaining: 528ms\n",
      "76:\tlearn: 2064.2462146\ttotal: 1.69s\tremaining: 505ms\n",
      "77:\tlearn: 2062.8750507\ttotal: 1.71s\tremaining: 483ms\n",
      "78:\tlearn: 2061.3222887\ttotal: 1.73s\tremaining: 461ms\n",
      "79:\tlearn: 2059.5794235\ttotal: 1.76s\tremaining: 439ms\n",
      "80:\tlearn: 2058.3078317\ttotal: 1.78s\tremaining: 417ms\n",
      "81:\tlearn: 2055.3812210\ttotal: 1.8s\tremaining: 395ms\n",
      "82:\tlearn: 2054.0433936\ttotal: 1.82s\tremaining: 373ms\n",
      "83:\tlearn: 2052.3841454\ttotal: 1.84s\tremaining: 351ms\n",
      "84:\tlearn: 2051.0454956\ttotal: 1.87s\tremaining: 330ms\n",
      "85:\tlearn: 2047.9764591\ttotal: 1.89s\tremaining: 307ms\n",
      "86:\tlearn: 2044.8213054\ttotal: 1.91s\tremaining: 285ms\n",
      "87:\tlearn: 2043.4258809\ttotal: 1.93s\tremaining: 263ms\n",
      "88:\tlearn: 2041.3009581\ttotal: 1.95s\tremaining: 241ms\n",
      "89:\tlearn: 2038.6238096\ttotal: 1.97s\tremaining: 219ms\n",
      "90:\tlearn: 2037.2583216\ttotal: 1.99s\tremaining: 197ms\n",
      "91:\tlearn: 2035.7485147\ttotal: 2.01s\tremaining: 175ms\n",
      "92:\tlearn: 2034.4159338\ttotal: 2.03s\tremaining: 153ms\n",
      "93:\tlearn: 2032.5192378\ttotal: 2.05s\tremaining: 131ms\n",
      "94:\tlearn: 2030.5109066\ttotal: 2.07s\tremaining: 109ms\n",
      "95:\tlearn: 2027.8607313\ttotal: 2.09s\tremaining: 87.2ms\n",
      "96:\tlearn: 2026.5770973\ttotal: 2.11s\tremaining: 65.4ms\n",
      "97:\tlearn: 2024.9551955\ttotal: 2.13s\tremaining: 43.5ms\n",
      "98:\tlearn: 2023.8898676\ttotal: 2.15s\tremaining: 21.8ms\n",
      "99:\tlearn: 2022.6122180\ttotal: 2.17s\tremaining: 0us\n",
      "0:\tlearn: 4345.4635727\ttotal: 26.8ms\tremaining: 2.66s\n",
      "1:\tlearn: 4136.7911815\ttotal: 53.8ms\tremaining: 2.63s\n",
      "2:\tlearn: 3951.9245416\ttotal: 73.3ms\tremaining: 2.37s\n",
      "3:\tlearn: 3795.1048129\ttotal: 99.5ms\tremaining: 2.39s\n",
      "4:\tlearn: 3643.0563280\ttotal: 120ms\tremaining: 2.28s\n",
      "5:\tlearn: 3517.3261083\ttotal: 141ms\tremaining: 2.2s\n",
      "6:\tlearn: 3401.4607410\ttotal: 161ms\tremaining: 2.14s\n",
      "7:\tlearn: 3301.4356848\ttotal: 181ms\tremaining: 2.08s\n",
      "8:\tlearn: 3214.0761630\ttotal: 200ms\tremaining: 2.02s\n",
      "9:\tlearn: 3120.8679097\ttotal: 221ms\tremaining: 1.99s\n",
      "10:\tlearn: 3042.6986143\ttotal: 244ms\tremaining: 1.98s\n",
      "11:\tlearn: 2978.8853399\ttotal: 265ms\tremaining: 1.94s\n",
      "12:\tlearn: 2917.1659041\ttotal: 285ms\tremaining: 1.91s\n",
      "13:\tlearn: 2865.6698950\ttotal: 306ms\tremaining: 1.88s\n",
      "14:\tlearn: 2814.8138642\ttotal: 328ms\tremaining: 1.86s\n",
      "15:\tlearn: 2766.2344425\ttotal: 350ms\tremaining: 1.84s\n",
      "16:\tlearn: 2719.9959199\ttotal: 371ms\tremaining: 1.81s\n",
      "17:\tlearn: 2678.7460538\ttotal: 391ms\tremaining: 1.78s\n",
      "18:\tlearn: 2643.5235169\ttotal: 411ms\tremaining: 1.75s\n",
      "19:\tlearn: 2609.2795043\ttotal: 432ms\tremaining: 1.73s\n",
      "20:\tlearn: 2576.7482365\ttotal: 453ms\tremaining: 1.7s\n",
      "21:\tlearn: 2547.5613152\ttotal: 473ms\tremaining: 1.68s\n",
      "22:\tlearn: 2521.8872847\ttotal: 494ms\tremaining: 1.65s\n",
      "23:\tlearn: 2497.1318248\ttotal: 516ms\tremaining: 1.64s\n",
      "24:\tlearn: 2474.5838936\ttotal: 538ms\tremaining: 1.61s\n",
      "25:\tlearn: 2448.6016665\ttotal: 562ms\tremaining: 1.6s\n",
      "26:\tlearn: 2428.4237636\ttotal: 582ms\tremaining: 1.57s\n",
      "27:\tlearn: 2407.4077527\ttotal: 602ms\tremaining: 1.55s\n",
      "28:\tlearn: 2390.4346770\ttotal: 622ms\tremaining: 1.52s\n",
      "29:\tlearn: 2374.0762776\ttotal: 645ms\tremaining: 1.5s\n",
      "30:\tlearn: 2361.3940583\ttotal: 666ms\tremaining: 1.48s\n",
      "31:\tlearn: 2342.6414458\ttotal: 686ms\tremaining: 1.46s\n",
      "32:\tlearn: 2329.8560114\ttotal: 708ms\tremaining: 1.44s\n",
      "33:\tlearn: 2316.1503300\ttotal: 728ms\tremaining: 1.41s\n",
      "34:\tlearn: 2302.8371345\ttotal: 748ms\tremaining: 1.39s\n",
      "35:\tlearn: 2287.7263214\ttotal: 768ms\tremaining: 1.36s\n",
      "36:\tlearn: 2274.3346401\ttotal: 789ms\tremaining: 1.34s\n",
      "37:\tlearn: 2262.1053466\ttotal: 810ms\tremaining: 1.32s\n",
      "38:\tlearn: 2253.1070996\ttotal: 830ms\tremaining: 1.3s\n",
      "39:\tlearn: 2244.4413761\ttotal: 851ms\tremaining: 1.28s\n",
      "40:\tlearn: 2231.0256951\ttotal: 871ms\tremaining: 1.25s\n",
      "41:\tlearn: 2223.6093313\ttotal: 892ms\tremaining: 1.23s\n",
      "42:\tlearn: 2214.8077717\ttotal: 912ms\tremaining: 1.21s\n",
      "43:\tlearn: 2207.7045953\ttotal: 933ms\tremaining: 1.19s\n",
      "44:\tlearn: 2201.6455833\ttotal: 952ms\tremaining: 1.16s\n",
      "45:\tlearn: 2194.4696205\ttotal: 972ms\tremaining: 1.14s\n",
      "46:\tlearn: 2187.6899393\ttotal: 992ms\tremaining: 1.12s\n",
      "47:\tlearn: 2178.6966201\ttotal: 1.01s\tremaining: 1.1s\n",
      "48:\tlearn: 2172.2500757\ttotal: 1.04s\tremaining: 1.08s\n",
      "49:\tlearn: 2166.5928918\ttotal: 1.06s\tremaining: 1.06s\n",
      "50:\tlearn: 2161.0283946\ttotal: 1.08s\tremaining: 1.03s\n",
      "51:\tlearn: 2156.5777278\ttotal: 1.1s\tremaining: 1.01s\n",
      "52:\tlearn: 2149.1365459\ttotal: 1.12s\tremaining: 992ms\n",
      "53:\tlearn: 2144.5511313\ttotal: 1.14s\tremaining: 971ms\n",
      "54:\tlearn: 2140.1102891\ttotal: 1.16s\tremaining: 950ms\n",
      "55:\tlearn: 2135.2194401\ttotal: 1.18s\tremaining: 928ms\n",
      "56:\tlearn: 2131.0586117\ttotal: 1.2s\tremaining: 906ms\n",
      "57:\tlearn: 2124.8857228\ttotal: 1.22s\tremaining: 884ms\n",
      "58:\tlearn: 2121.1022225\ttotal: 1.24s\tremaining: 863ms\n",
      "59:\tlearn: 2116.7451896\ttotal: 1.27s\tremaining: 844ms\n",
      "60:\tlearn: 2110.7973750\ttotal: 1.3s\tremaining: 831ms\n",
      "61:\tlearn: 2107.8195818\ttotal: 1.33s\tremaining: 817ms\n",
      "62:\tlearn: 2103.8188478\ttotal: 1.35s\tremaining: 795ms\n",
      "63:\tlearn: 2100.9124218\ttotal: 1.37s\tremaining: 772ms\n",
      "64:\tlearn: 2096.3866613\ttotal: 1.39s\tremaining: 750ms\n",
      "65:\tlearn: 2090.3611753\ttotal: 1.41s\tremaining: 728ms\n",
      "66:\tlearn: 2086.5368852\ttotal: 1.43s\tremaining: 706ms\n",
      "67:\tlearn: 2083.0400592\ttotal: 1.45s\tremaining: 684ms\n",
      "68:\tlearn: 2078.2990361\ttotal: 1.47s\tremaining: 662ms\n",
      "69:\tlearn: 2075.9298649\ttotal: 1.49s\tremaining: 640ms\n",
      "70:\tlearn: 2073.5793031\ttotal: 1.52s\tremaining: 620ms\n",
      "71:\tlearn: 2070.5997828\ttotal: 1.54s\tremaining: 598ms\n",
      "72:\tlearn: 2067.1591978\ttotal: 1.56s\tremaining: 577ms\n",
      "73:\tlearn: 2063.9960074\ttotal: 1.58s\tremaining: 557ms\n",
      "74:\tlearn: 2062.0071415\ttotal: 1.61s\tremaining: 536ms\n",
      "75:\tlearn: 2058.7521015\ttotal: 1.63s\tremaining: 514ms\n",
      "76:\tlearn: 2056.7264512\ttotal: 1.65s\tremaining: 493ms\n",
      "77:\tlearn: 2054.1584134\ttotal: 1.67s\tremaining: 471ms\n",
      "78:\tlearn: 2052.0295887\ttotal: 1.69s\tremaining: 449ms\n",
      "79:\tlearn: 2049.8725071\ttotal: 1.71s\tremaining: 428ms\n",
      "80:\tlearn: 2048.5928274\ttotal: 1.73s\tremaining: 406ms\n",
      "81:\tlearn: 2046.8814325\ttotal: 1.75s\tremaining: 385ms\n",
      "82:\tlearn: 2043.7785444\ttotal: 1.77s\tremaining: 363ms\n",
      "83:\tlearn: 2040.5906404\ttotal: 1.79s\tremaining: 342ms\n",
      "84:\tlearn: 2039.3710984\ttotal: 1.81s\tremaining: 320ms\n",
      "85:\tlearn: 2036.7387609\ttotal: 1.84s\tremaining: 299ms\n",
      "86:\tlearn: 2035.0186003\ttotal: 1.86s\tremaining: 278ms\n",
      "87:\tlearn: 2031.2681583\ttotal: 1.88s\tremaining: 256ms\n",
      "88:\tlearn: 2029.6091155\ttotal: 1.9s\tremaining: 235ms\n",
      "89:\tlearn: 2028.4559102\ttotal: 1.92s\tremaining: 213ms\n",
      "90:\tlearn: 2025.5291391\ttotal: 1.95s\tremaining: 192ms\n",
      "91:\tlearn: 2024.3137051\ttotal: 1.97s\tremaining: 171ms\n",
      "92:\tlearn: 2021.6314230\ttotal: 1.99s\tremaining: 150ms\n",
      "93:\tlearn: 2020.5688377\ttotal: 2.01s\tremaining: 128ms\n",
      "94:\tlearn: 2019.7090201\ttotal: 2.03s\tremaining: 107ms\n",
      "95:\tlearn: 2017.4537845\ttotal: 2.05s\tremaining: 85.6ms\n",
      "96:\tlearn: 2015.4638813\ttotal: 2.07s\tremaining: 64.1ms\n",
      "97:\tlearn: 2014.5203471\ttotal: 2.09s\tremaining: 42.8ms\n",
      "98:\tlearn: 2012.5547852\ttotal: 2.11s\tremaining: 21.4ms\n",
      "99:\tlearn: 2011.1301483\ttotal: 2.13s\tremaining: 0us\n",
      "0:\tlearn: 4516.4262616\ttotal: 38.7ms\tremaining: 349ms\n",
      "1:\tlearn: 4430.3773801\ttotal: 73.9ms\tremaining: 295ms\n",
      "2:\tlearn: 4346.8193533\ttotal: 110ms\tremaining: 258ms\n",
      "3:\tlearn: 4267.7146274\ttotal: 147ms\tremaining: 221ms\n",
      "4:\tlearn: 4191.0386866\ttotal: 178ms\tremaining: 178ms\n",
      "5:\tlearn: 4117.7189835\ttotal: 210ms\tremaining: 140ms\n",
      "6:\tlearn: 4046.9790729\ttotal: 241ms\tremaining: 103ms\n",
      "7:\tlearn: 3979.7376348\ttotal: 272ms\tremaining: 68.1ms\n",
      "8:\tlearn: 3913.0472989\ttotal: 306ms\tremaining: 34ms\n",
      "9:\tlearn: 3849.3327433\ttotal: 338ms\tremaining: 0us\n",
      "0:\tlearn: 4515.9078804\ttotal: 48.8ms\tremaining: 439ms\n",
      "1:\tlearn: 4429.7093432\ttotal: 92ms\tremaining: 368ms\n",
      "2:\tlearn: 4346.2618524\ttotal: 129ms\tremaining: 300ms\n",
      "3:\tlearn: 4265.7335092\ttotal: 160ms\tremaining: 240ms\n",
      "4:\tlearn: 4188.4495259\ttotal: 190ms\tremaining: 190ms\n",
      "5:\tlearn: 4116.3452463\ttotal: 223ms\tremaining: 149ms\n",
      "6:\tlearn: 4047.0165359\ttotal: 259ms\tremaining: 111ms\n",
      "7:\tlearn: 3977.7394414\ttotal: 293ms\tremaining: 73.2ms\n",
      "8:\tlearn: 3911.0739453\ttotal: 325ms\tremaining: 36.1ms\n",
      "9:\tlearn: 3846.9540342\ttotal: 356ms\tremaining: 0us\n",
      "0:\tlearn: 4508.5891412\ttotal: 71.7ms\tremaining: 646ms\n",
      "1:\tlearn: 4422.4414827\ttotal: 113ms\tremaining: 454ms\n",
      "2:\tlearn: 4339.9181033\ttotal: 148ms\tremaining: 345ms\n",
      "3:\tlearn: 4260.6213631\ttotal: 182ms\tremaining: 273ms\n",
      "4:\tlearn: 4183.9030972\ttotal: 222ms\tremaining: 222ms\n",
      "5:\tlearn: 4111.3465294\ttotal: 256ms\tremaining: 171ms\n",
      "6:\tlearn: 4041.5456696\ttotal: 290ms\tremaining: 124ms\n",
      "7:\tlearn: 3972.5306410\ttotal: 325ms\tremaining: 81.3ms\n",
      "8:\tlearn: 3906.1044268\ttotal: 358ms\tremaining: 39.7ms\n",
      "9:\tlearn: 3842.9755020\ttotal: 391ms\tremaining: 0us\n",
      "0:\tlearn: 4508.2823541\ttotal: 39.6ms\tremaining: 356ms\n",
      "1:\tlearn: 4425.7759374\ttotal: 80.1ms\tremaining: 320ms\n",
      "2:\tlearn: 4346.6086601\ttotal: 113ms\tremaining: 264ms\n",
      "3:\tlearn: 4267.4267951\ttotal: 154ms\tremaining: 232ms\n",
      "4:\tlearn: 4194.4441846\ttotal: 187ms\tremaining: 187ms\n",
      "5:\tlearn: 4119.4374560\ttotal: 218ms\tremaining: 145ms\n",
      "6:\tlearn: 4046.9548910\ttotal: 250ms\tremaining: 107ms\n",
      "7:\tlearn: 3977.3925908\ttotal: 292ms\tremaining: 73ms\n",
      "8:\tlearn: 3910.6937267\ttotal: 339ms\tremaining: 37.7ms\n",
      "9:\tlearn: 3846.6034152\ttotal: 371ms\tremaining: 0us\n",
      "0:\tlearn: 4500.0664725\ttotal: 38.5ms\tremaining: 346ms\n",
      "1:\tlearn: 4417.1789355\ttotal: 79.8ms\tremaining: 319ms\n",
      "2:\tlearn: 4337.2335176\ttotal: 113ms\tremaining: 263ms\n",
      "3:\tlearn: 4257.6094120\ttotal: 151ms\tremaining: 227ms\n",
      "4:\tlearn: 4183.5837311\ttotal: 183ms\tremaining: 183ms\n",
      "5:\tlearn: 4110.2134893\ttotal: 214ms\tremaining: 143ms\n",
      "6:\tlearn: 4039.1968145\ttotal: 248ms\tremaining: 106ms\n",
      "7:\tlearn: 3972.8041900\ttotal: 280ms\tremaining: 70.1ms\n",
      "8:\tlearn: 3905.9599379\ttotal: 315ms\tremaining: 35ms\n",
      "9:\tlearn: 3840.7828818\ttotal: 349ms\tremaining: 0us\n",
      "0:\tlearn: 4315.7751895\ttotal: 54.3ms\tremaining: 488ms\n",
      "1:\tlearn: 4057.7724597\ttotal: 91.5ms\tremaining: 366ms\n",
      "2:\tlearn: 3832.0586004\ttotal: 130ms\tremaining: 302ms\n",
      "3:\tlearn: 3629.2215032\ttotal: 167ms\tremaining: 250ms\n",
      "4:\tlearn: 3452.2334334\ttotal: 201ms\tremaining: 201ms\n",
      "5:\tlearn: 3294.4642154\ttotal: 235ms\tremaining: 157ms\n",
      "6:\tlearn: 3155.6930194\ttotal: 269ms\tremaining: 115ms\n",
      "7:\tlearn: 3038.1901841\ttotal: 303ms\tremaining: 75.7ms\n",
      "8:\tlearn: 2930.4410666\ttotal: 338ms\tremaining: 37.5ms\n",
      "9:\tlearn: 2835.1043407\ttotal: 369ms\tremaining: 0us\n",
      "0:\tlearn: 4314.8492658\ttotal: 39.3ms\tremaining: 354ms\n",
      "1:\tlearn: 4056.3176414\ttotal: 74ms\tremaining: 296ms\n",
      "2:\tlearn: 3835.7174136\ttotal: 112ms\tremaining: 260ms\n",
      "3:\tlearn: 3633.9570812\ttotal: 149ms\tremaining: 223ms\n",
      "4:\tlearn: 3452.7005826\ttotal: 182ms\tremaining: 182ms\n",
      "5:\tlearn: 3295.0688571\ttotal: 214ms\tremaining: 143ms\n",
      "6:\tlearn: 3164.2054676\ttotal: 247ms\tremaining: 106ms\n",
      "7:\tlearn: 3051.6946624\ttotal: 280ms\tremaining: 69.9ms\n",
      "8:\tlearn: 2946.3438899\ttotal: 314ms\tremaining: 34.9ms\n",
      "9:\tlearn: 2853.9665873\ttotal: 346ms\tremaining: 0us\n",
      "0:\tlearn: 4303.2195830\ttotal: 39.8ms\tremaining: 358ms\n",
      "1:\tlearn: 4046.5794032\ttotal: 77.9ms\tremaining: 312ms\n",
      "2:\tlearn: 3817.9055479\ttotal: 121ms\tremaining: 281ms\n",
      "3:\tlearn: 3621.1346391\ttotal: 165ms\tremaining: 247ms\n",
      "4:\tlearn: 3441.4505139\ttotal: 211ms\tremaining: 211ms\n",
      "5:\tlearn: 3287.6537965\ttotal: 251ms\tremaining: 167ms\n",
      "6:\tlearn: 3157.5473853\ttotal: 292ms\tremaining: 125ms\n",
      "7:\tlearn: 3039.9679311\ttotal: 323ms\tremaining: 80.8ms\n",
      "8:\tlearn: 2937.3495569\ttotal: 355ms\tremaining: 39.5ms\n",
      "9:\tlearn: 2842.8325116\ttotal: 387ms\tremaining: 0us\n",
      "0:\tlearn: 4305.9627856\ttotal: 39.1ms\tremaining: 352ms\n",
      "1:\tlearn: 4053.1447178\ttotal: 102ms\tremaining: 408ms\n",
      "2:\tlearn: 3827.0902676\ttotal: 139ms\tremaining: 323ms\n",
      "3:\tlearn: 3623.2423733\ttotal: 172ms\tremaining: 257ms\n",
      "4:\tlearn: 3443.5869869\ttotal: 207ms\tremaining: 207ms\n",
      "5:\tlearn: 3291.2620066\ttotal: 240ms\tremaining: 160ms\n",
      "6:\tlearn: 3159.0805541\ttotal: 272ms\tremaining: 117ms\n",
      "7:\tlearn: 3039.5448099\ttotal: 306ms\tremaining: 76.6ms\n",
      "8:\tlearn: 2927.6642007\ttotal: 341ms\tremaining: 37.8ms\n",
      "9:\tlearn: 2835.9931643\ttotal: 374ms\tremaining: 0us\n",
      "0:\tlearn: 4297.5434948\ttotal: 38.7ms\tremaining: 349ms\n",
      "1:\tlearn: 4048.3853249\ttotal: 78.9ms\tremaining: 315ms\n",
      "2:\tlearn: 3822.3937289\ttotal: 113ms\tremaining: 264ms\n",
      "3:\tlearn: 3618.0345617\ttotal: 153ms\tremaining: 230ms\n",
      "4:\tlearn: 3435.9202988\ttotal: 187ms\tremaining: 187ms\n",
      "5:\tlearn: 3280.7983186\ttotal: 224ms\tremaining: 149ms\n",
      "6:\tlearn: 3142.8524664\ttotal: 258ms\tremaining: 111ms\n",
      "7:\tlearn: 3023.9576814\ttotal: 292ms\tremaining: 73ms\n",
      "8:\tlearn: 2923.0969094\ttotal: 325ms\tremaining: 36.1ms\n",
      "9:\tlearn: 2832.8860885\ttotal: 359ms\tremaining: 0us\n",
      "0:\tlearn: 4516.4262616\ttotal: 54.5ms\tremaining: 1.04s\n",
      "1:\tlearn: 4430.3773801\ttotal: 93ms\tremaining: 837ms\n",
      "2:\tlearn: 4346.8193533\ttotal: 131ms\tremaining: 745ms\n",
      "3:\tlearn: 4267.7146274\ttotal: 187ms\tremaining: 749ms\n",
      "4:\tlearn: 4191.0386866\ttotal: 219ms\tremaining: 656ms\n",
      "5:\tlearn: 4117.7189835\ttotal: 252ms\tremaining: 587ms\n",
      "6:\tlearn: 4046.9790729\ttotal: 289ms\tremaining: 536ms\n",
      "7:\tlearn: 3979.7376348\ttotal: 350ms\tremaining: 525ms\n",
      "8:\tlearn: 3913.0472989\ttotal: 396ms\tremaining: 484ms\n",
      "9:\tlearn: 3849.3327433\ttotal: 429ms\tremaining: 429ms\n",
      "10:\tlearn: 3790.1538193\ttotal: 460ms\tremaining: 377ms\n",
      "11:\tlearn: 3731.8327153\ttotal: 493ms\tremaining: 329ms\n",
      "12:\tlearn: 3673.9269179\ttotal: 528ms\tremaining: 284ms\n",
      "13:\tlearn: 3619.6856983\ttotal: 560ms\tremaining: 240ms\n",
      "14:\tlearn: 3563.4347060\ttotal: 593ms\tremaining: 198ms\n",
      "15:\tlearn: 3514.2996995\ttotal: 626ms\tremaining: 156ms\n",
      "16:\tlearn: 3465.3126339\ttotal: 657ms\tremaining: 116ms\n",
      "17:\tlearn: 3415.3771353\ttotal: 690ms\tremaining: 76.7ms\n",
      "18:\tlearn: 3370.9203845\ttotal: 724ms\tremaining: 38.1ms\n",
      "19:\tlearn: 3325.4762635\ttotal: 756ms\tremaining: 0us\n",
      "0:\tlearn: 4515.9078804\ttotal: 41.4ms\tremaining: 786ms\n",
      "1:\tlearn: 4429.7093432\ttotal: 79.6ms\tremaining: 717ms\n",
      "2:\tlearn: 4346.2618524\ttotal: 121ms\tremaining: 684ms\n",
      "3:\tlearn: 4265.7335092\ttotal: 159ms\tremaining: 634ms\n",
      "4:\tlearn: 4188.4495259\ttotal: 196ms\tremaining: 588ms\n",
      "5:\tlearn: 4116.3452463\ttotal: 233ms\tremaining: 544ms\n",
      "6:\tlearn: 4047.0165359\ttotal: 275ms\tremaining: 510ms\n",
      "7:\tlearn: 3977.7394414\ttotal: 309ms\tremaining: 464ms\n",
      "8:\tlearn: 3911.0739453\ttotal: 344ms\tremaining: 420ms\n",
      "9:\tlearn: 3846.9540342\ttotal: 378ms\tremaining: 378ms\n",
      "10:\tlearn: 3788.5916763\ttotal: 425ms\tremaining: 348ms\n",
      "11:\tlearn: 3728.0332066\ttotal: 465ms\tremaining: 310ms\n",
      "12:\tlearn: 3672.6154169\ttotal: 502ms\tremaining: 270ms\n",
      "13:\tlearn: 3617.3002803\ttotal: 541ms\tremaining: 232ms\n",
      "14:\tlearn: 3566.0964226\ttotal: 578ms\tremaining: 193ms\n",
      "15:\tlearn: 3515.7945952\ttotal: 613ms\tremaining: 153ms\n",
      "16:\tlearn: 3464.2935722\ttotal: 646ms\tremaining: 114ms\n",
      "17:\tlearn: 3415.3037399\ttotal: 693ms\tremaining: 76.9ms\n",
      "18:\tlearn: 3372.7814614\ttotal: 737ms\tremaining: 38.8ms\n",
      "19:\tlearn: 3328.6572815\ttotal: 775ms\tremaining: 0us\n",
      "0:\tlearn: 4508.5891412\ttotal: 43.4ms\tremaining: 824ms\n",
      "1:\tlearn: 4422.4414827\ttotal: 81.5ms\tremaining: 733ms\n",
      "2:\tlearn: 4339.9181033\ttotal: 114ms\tremaining: 648ms\n",
      "3:\tlearn: 4260.6213631\ttotal: 146ms\tremaining: 583ms\n",
      "4:\tlearn: 4183.9030972\ttotal: 183ms\tremaining: 548ms\n",
      "5:\tlearn: 4111.3465294\ttotal: 215ms\tremaining: 502ms\n",
      "6:\tlearn: 4041.5456696\ttotal: 248ms\tremaining: 461ms\n",
      "7:\tlearn: 3972.5306410\ttotal: 281ms\tremaining: 421ms\n",
      "8:\tlearn: 3906.1044268\ttotal: 315ms\tremaining: 385ms\n",
      "9:\tlearn: 3842.9755020\ttotal: 347ms\tremaining: 347ms\n",
      "10:\tlearn: 3783.7998432\ttotal: 378ms\tremaining: 309ms\n",
      "11:\tlearn: 3723.8702002\ttotal: 411ms\tremaining: 274ms\n",
      "12:\tlearn: 3666.7768090\ttotal: 443ms\tremaining: 239ms\n",
      "13:\tlearn: 3612.3598088\ttotal: 476ms\tremaining: 204ms\n",
      "14:\tlearn: 3560.2185108\ttotal: 510ms\tremaining: 170ms\n",
      "15:\tlearn: 3509.6829563\ttotal: 542ms\tremaining: 136ms\n",
      "16:\tlearn: 3460.5298182\ttotal: 580ms\tremaining: 102ms\n",
      "17:\tlearn: 3411.8014459\ttotal: 612ms\tremaining: 68ms\n",
      "18:\tlearn: 3369.1732451\ttotal: 668ms\tremaining: 35.2ms\n",
      "19:\tlearn: 3325.2943645\ttotal: 702ms\tremaining: 0us\n",
      "0:\tlearn: 4508.2823541\ttotal: 41.6ms\tremaining: 790ms\n",
      "1:\tlearn: 4425.7759374\ttotal: 109ms\tremaining: 977ms\n",
      "2:\tlearn: 4346.6086601\ttotal: 141ms\tremaining: 801ms\n",
      "3:\tlearn: 4267.4267951\ttotal: 178ms\tremaining: 712ms\n",
      "4:\tlearn: 4194.4441846\ttotal: 210ms\tremaining: 630ms\n",
      "5:\tlearn: 4119.4374560\ttotal: 241ms\tremaining: 562ms\n",
      "6:\tlearn: 4046.9548910\ttotal: 273ms\tremaining: 508ms\n",
      "7:\tlearn: 3977.3925908\ttotal: 305ms\tremaining: 458ms\n",
      "8:\tlearn: 3910.6937267\ttotal: 339ms\tremaining: 414ms\n",
      "9:\tlearn: 3846.6034152\ttotal: 371ms\tremaining: 371ms\n",
      "10:\tlearn: 3784.5761270\ttotal: 402ms\tremaining: 329ms\n",
      "11:\tlearn: 3724.8368740\ttotal: 434ms\tremaining: 289ms\n",
      "12:\tlearn: 3668.3520062\ttotal: 466ms\tremaining: 251ms\n",
      "13:\tlearn: 3613.2271226\ttotal: 499ms\tremaining: 214ms\n",
      "14:\tlearn: 3561.6857604\ttotal: 530ms\tremaining: 177ms\n",
      "15:\tlearn: 3511.5468786\ttotal: 561ms\tremaining: 140ms\n",
      "16:\tlearn: 3460.7986012\ttotal: 592ms\tremaining: 104ms\n",
      "17:\tlearn: 3414.1428384\ttotal: 624ms\tremaining: 69.4ms\n",
      "18:\tlearn: 3367.0993114\ttotal: 655ms\tremaining: 34.5ms\n",
      "19:\tlearn: 3322.2167615\ttotal: 688ms\tremaining: 0us\n",
      "0:\tlearn: 4500.0664725\ttotal: 50.8ms\tremaining: 965ms\n",
      "1:\tlearn: 4417.1789355\ttotal: 92.8ms\tremaining: 835ms\n",
      "2:\tlearn: 4337.2335176\ttotal: 127ms\tremaining: 719ms\n",
      "3:\tlearn: 4257.6094120\ttotal: 165ms\tremaining: 661ms\n",
      "4:\tlearn: 4183.5837311\ttotal: 198ms\tremaining: 594ms\n",
      "5:\tlearn: 4110.2134893\ttotal: 231ms\tremaining: 540ms\n",
      "6:\tlearn: 4039.1968145\ttotal: 267ms\tremaining: 495ms\n",
      "7:\tlearn: 3972.8041900\ttotal: 298ms\tremaining: 447ms\n",
      "8:\tlearn: 3905.9599379\ttotal: 331ms\tremaining: 404ms\n",
      "9:\tlearn: 3840.7828818\ttotal: 362ms\tremaining: 362ms\n",
      "10:\tlearn: 3777.2590513\ttotal: 394ms\tremaining: 322ms\n",
      "11:\tlearn: 3719.1903096\ttotal: 425ms\tremaining: 283ms\n",
      "12:\tlearn: 3663.0633095\ttotal: 457ms\tremaining: 246ms\n",
      "13:\tlearn: 3606.4456626\ttotal: 488ms\tremaining: 209ms\n",
      "14:\tlearn: 3553.1163269\ttotal: 521ms\tremaining: 174ms\n",
      "15:\tlearn: 3500.7337831\ttotal: 555ms\tremaining: 139ms\n",
      "16:\tlearn: 3451.7919499\ttotal: 587ms\tremaining: 104ms\n",
      "17:\tlearn: 3403.2570116\ttotal: 618ms\tremaining: 68.6ms\n",
      "18:\tlearn: 3357.9751503\ttotal: 650ms\tremaining: 34.2ms\n",
      "19:\tlearn: 3313.8558157\ttotal: 682ms\tremaining: 0us\n",
      "0:\tlearn: 4315.7751895\ttotal: 38.8ms\tremaining: 737ms\n",
      "1:\tlearn: 4057.7724597\ttotal: 75.5ms\tremaining: 680ms\n",
      "2:\tlearn: 3832.0586004\ttotal: 113ms\tremaining: 641ms\n",
      "3:\tlearn: 3629.2215032\ttotal: 151ms\tremaining: 603ms\n",
      "4:\tlearn: 3452.2334334\ttotal: 183ms\tremaining: 550ms\n",
      "5:\tlearn: 3294.4642154\ttotal: 217ms\tremaining: 507ms\n",
      "6:\tlearn: 3155.6930194\ttotal: 250ms\tremaining: 464ms\n",
      "7:\tlearn: 3038.1901841\ttotal: 282ms\tremaining: 423ms\n",
      "8:\tlearn: 2930.4410666\ttotal: 315ms\tremaining: 385ms\n",
      "9:\tlearn: 2835.1043407\ttotal: 347ms\tremaining: 347ms\n",
      "10:\tlearn: 2746.0330819\ttotal: 380ms\tremaining: 311ms\n",
      "11:\tlearn: 2667.6452352\ttotal: 412ms\tremaining: 275ms\n",
      "12:\tlearn: 2597.5764159\ttotal: 443ms\tremaining: 239ms\n",
      "13:\tlearn: 2536.8474548\ttotal: 475ms\tremaining: 204ms\n",
      "14:\tlearn: 2484.4606246\ttotal: 508ms\tremaining: 169ms\n",
      "15:\tlearn: 2435.4211414\ttotal: 539ms\tremaining: 135ms\n",
      "16:\tlearn: 2392.3136253\ttotal: 571ms\tremaining: 101ms\n",
      "17:\tlearn: 2352.4972327\ttotal: 611ms\tremaining: 67.8ms\n",
      "18:\tlearn: 2317.2526608\ttotal: 643ms\tremaining: 33.8ms\n",
      "19:\tlearn: 2282.7605664\ttotal: 680ms\tremaining: 0us\n",
      "0:\tlearn: 4314.8492658\ttotal: 38.4ms\tremaining: 730ms\n",
      "1:\tlearn: 4056.3176414\ttotal: 73.3ms\tremaining: 660ms\n",
      "2:\tlearn: 3835.7174136\ttotal: 111ms\tremaining: 630ms\n",
      "3:\tlearn: 3633.9570812\ttotal: 148ms\tremaining: 593ms\n",
      "4:\tlearn: 3452.7005826\ttotal: 180ms\tremaining: 540ms\n",
      "5:\tlearn: 3295.0688571\ttotal: 215ms\tremaining: 501ms\n",
      "6:\tlearn: 3164.2054676\ttotal: 249ms\tremaining: 463ms\n",
      "7:\tlearn: 3051.6946624\ttotal: 285ms\tremaining: 427ms\n",
      "8:\tlearn: 2946.3438899\ttotal: 317ms\tremaining: 387ms\n",
      "9:\tlearn: 2853.9665873\ttotal: 348ms\tremaining: 348ms\n",
      "10:\tlearn: 2777.5027041\ttotal: 378ms\tremaining: 310ms\n",
      "11:\tlearn: 2692.8561843\ttotal: 412ms\tremaining: 275ms\n",
      "12:\tlearn: 2621.4200584\ttotal: 444ms\tremaining: 239ms\n",
      "13:\tlearn: 2556.4112112\ttotal: 476ms\tremaining: 204ms\n",
      "14:\tlearn: 2500.3640864\ttotal: 513ms\tremaining: 171ms\n",
      "15:\tlearn: 2447.2482648\ttotal: 549ms\tremaining: 137ms\n",
      "16:\tlearn: 2404.0689821\ttotal: 587ms\tremaining: 104ms\n",
      "17:\tlearn: 2366.7363095\ttotal: 618ms\tremaining: 68.7ms\n",
      "18:\tlearn: 2332.9254758\ttotal: 655ms\tremaining: 34.4ms\n",
      "19:\tlearn: 2299.7617672\ttotal: 688ms\tremaining: 0us\n",
      "0:\tlearn: 4303.2195830\ttotal: 42.1ms\tremaining: 800ms\n",
      "1:\tlearn: 4046.5794032\ttotal: 81.8ms\tremaining: 736ms\n",
      "2:\tlearn: 3817.9055479\ttotal: 114ms\tremaining: 648ms\n",
      "3:\tlearn: 3621.1346391\ttotal: 150ms\tremaining: 598ms\n",
      "4:\tlearn: 3441.4505139\ttotal: 187ms\tremaining: 560ms\n",
      "5:\tlearn: 3287.6537965\ttotal: 220ms\tremaining: 513ms\n",
      "6:\tlearn: 3157.5473853\ttotal: 252ms\tremaining: 468ms\n",
      "7:\tlearn: 3039.9679311\ttotal: 284ms\tremaining: 426ms\n",
      "8:\tlearn: 2937.3495569\ttotal: 317ms\tremaining: 388ms\n",
      "9:\tlearn: 2842.8325116\ttotal: 353ms\tremaining: 353ms\n",
      "10:\tlearn: 2758.7021359\ttotal: 385ms\tremaining: 315ms\n",
      "11:\tlearn: 2676.0571653\ttotal: 419ms\tremaining: 279ms\n",
      "12:\tlearn: 2603.0646741\ttotal: 452ms\tremaining: 243ms\n",
      "13:\tlearn: 2541.2338042\ttotal: 489ms\tremaining: 210ms\n",
      "14:\tlearn: 2487.5084876\ttotal: 528ms\tremaining: 176ms\n",
      "15:\tlearn: 2438.7686679\ttotal: 559ms\tremaining: 140ms\n",
      "16:\tlearn: 2390.2670298\ttotal: 592ms\tremaining: 104ms\n",
      "17:\tlearn: 2348.4403382\ttotal: 624ms\tremaining: 69.3ms\n",
      "18:\tlearn: 2313.6689459\ttotal: 655ms\tremaining: 34.5ms\n",
      "19:\tlearn: 2284.9164508\ttotal: 687ms\tremaining: 0us\n",
      "0:\tlearn: 4305.9627856\ttotal: 43.3ms\tremaining: 822ms\n",
      "1:\tlearn: 4053.1447178\ttotal: 85.8ms\tremaining: 772ms\n",
      "2:\tlearn: 3827.0902676\ttotal: 125ms\tremaining: 707ms\n",
      "3:\tlearn: 3623.2423733\ttotal: 157ms\tremaining: 630ms\n",
      "4:\tlearn: 3443.5869869\ttotal: 190ms\tremaining: 570ms\n",
      "5:\tlearn: 3291.2620066\ttotal: 222ms\tremaining: 518ms\n",
      "6:\tlearn: 3159.0805541\ttotal: 253ms\tremaining: 469ms\n",
      "7:\tlearn: 3039.5448099\ttotal: 284ms\tremaining: 426ms\n",
      "8:\tlearn: 2927.6642007\ttotal: 314ms\tremaining: 384ms\n",
      "9:\tlearn: 2835.9931643\ttotal: 345ms\tremaining: 345ms\n",
      "10:\tlearn: 2750.5591447\ttotal: 378ms\tremaining: 309ms\n",
      "11:\tlearn: 2673.1767587\ttotal: 411ms\tremaining: 274ms\n",
      "12:\tlearn: 2599.7742691\ttotal: 442ms\tremaining: 238ms\n",
      "13:\tlearn: 2537.5967853\ttotal: 474ms\tremaining: 203ms\n",
      "14:\tlearn: 2483.5264940\ttotal: 505ms\tremaining: 168ms\n",
      "15:\tlearn: 2433.2378819\ttotal: 537ms\tremaining: 134ms\n",
      "16:\tlearn: 2390.7809187\ttotal: 568ms\tremaining: 100ms\n",
      "17:\tlearn: 2352.4817303\ttotal: 602ms\tremaining: 66.9ms\n",
      "18:\tlearn: 2318.7788055\ttotal: 632ms\tremaining: 33.3ms\n",
      "19:\tlearn: 2286.9493330\ttotal: 665ms\tremaining: 0us\n",
      "0:\tlearn: 4297.5434948\ttotal: 39.4ms\tremaining: 748ms\n",
      "1:\tlearn: 4048.3853249\ttotal: 79.6ms\tremaining: 716ms\n",
      "2:\tlearn: 3822.3937289\ttotal: 112ms\tremaining: 633ms\n",
      "3:\tlearn: 3618.0345617\ttotal: 150ms\tremaining: 600ms\n",
      "4:\tlearn: 3435.9202988\ttotal: 182ms\tremaining: 546ms\n",
      "5:\tlearn: 3280.7983186\ttotal: 212ms\tremaining: 496ms\n",
      "6:\tlearn: 3142.8524664\ttotal: 245ms\tremaining: 454ms\n",
      "7:\tlearn: 3023.9576814\ttotal: 277ms\tremaining: 415ms\n",
      "8:\tlearn: 2923.0969094\ttotal: 311ms\tremaining: 380ms\n",
      "9:\tlearn: 2832.8860885\ttotal: 342ms\tremaining: 342ms\n",
      "10:\tlearn: 2741.3591190\ttotal: 374ms\tremaining: 306ms\n",
      "11:\tlearn: 2667.5504846\ttotal: 404ms\tremaining: 270ms\n",
      "12:\tlearn: 2594.8921562\ttotal: 435ms\tremaining: 234ms\n",
      "13:\tlearn: 2533.7428426\ttotal: 467ms\tremaining: 200ms\n",
      "14:\tlearn: 2482.1094832\ttotal: 499ms\tremaining: 166ms\n",
      "15:\tlearn: 2433.1920796\ttotal: 529ms\tremaining: 132ms\n",
      "16:\tlearn: 2393.4757460\ttotal: 559ms\tremaining: 98.6ms\n",
      "17:\tlearn: 2352.6048472\ttotal: 593ms\tremaining: 65.8ms\n",
      "18:\tlearn: 2319.7569158\ttotal: 627ms\tremaining: 33ms\n",
      "19:\tlearn: 2288.2058991\ttotal: 660ms\tremaining: 0us\n",
      "0:\tlearn: 4516.4262616\ttotal: 50.1ms\tremaining: 4.96s\n",
      "1:\tlearn: 4430.3773801\ttotal: 88.3ms\tremaining: 4.32s\n",
      "2:\tlearn: 4346.8193533\ttotal: 124ms\tremaining: 4s\n",
      "3:\tlearn: 4267.7146274\ttotal: 161ms\tremaining: 3.87s\n",
      "4:\tlearn: 4191.0386866\ttotal: 192ms\tremaining: 3.65s\n",
      "5:\tlearn: 4117.7189835\ttotal: 222ms\tremaining: 3.48s\n",
      "6:\tlearn: 4046.9790729\ttotal: 255ms\tremaining: 3.39s\n",
      "7:\tlearn: 3979.7376348\ttotal: 286ms\tremaining: 3.29s\n",
      "8:\tlearn: 3913.0472989\ttotal: 320ms\tremaining: 3.23s\n",
      "9:\tlearn: 3849.3327433\ttotal: 351ms\tremaining: 3.16s\n",
      "10:\tlearn: 3790.1538193\ttotal: 384ms\tremaining: 3.1s\n",
      "11:\tlearn: 3731.8327153\ttotal: 417ms\tremaining: 3.06s\n",
      "12:\tlearn: 3673.9269179\ttotal: 450ms\tremaining: 3.01s\n",
      "13:\tlearn: 3619.6856983\ttotal: 480ms\tremaining: 2.95s\n",
      "14:\tlearn: 3563.4347060\ttotal: 514ms\tremaining: 2.91s\n",
      "15:\tlearn: 3514.2996995\ttotal: 547ms\tremaining: 2.87s\n",
      "16:\tlearn: 3465.3126339\ttotal: 581ms\tremaining: 2.84s\n",
      "17:\tlearn: 3415.3771353\ttotal: 616ms\tremaining: 2.81s\n",
      "18:\tlearn: 3370.9203845\ttotal: 648ms\tremaining: 2.76s\n",
      "19:\tlearn: 3325.4762635\ttotal: 680ms\tremaining: 2.72s\n",
      "20:\tlearn: 3281.5849947\ttotal: 725ms\tremaining: 2.73s\n",
      "21:\tlearn: 3239.3054012\ttotal: 770ms\tremaining: 2.73s\n",
      "22:\tlearn: 3199.6399011\ttotal: 801ms\tremaining: 2.68s\n",
      "23:\tlearn: 3160.9801794\ttotal: 833ms\tremaining: 2.64s\n",
      "24:\tlearn: 3124.5857915\ttotal: 865ms\tremaining: 2.59s\n",
      "25:\tlearn: 3090.4001750\ttotal: 896ms\tremaining: 2.55s\n",
      "26:\tlearn: 3057.7823110\ttotal: 930ms\tremaining: 2.51s\n",
      "27:\tlearn: 3026.4623470\ttotal: 962ms\tremaining: 2.47s\n",
      "28:\tlearn: 2993.9103457\ttotal: 992ms\tremaining: 2.43s\n",
      "29:\tlearn: 2963.2769848\ttotal: 1.02s\tremaining: 2.39s\n",
      "30:\tlearn: 2933.8930247\ttotal: 1.06s\tremaining: 2.35s\n",
      "31:\tlearn: 2907.0161925\ttotal: 1.09s\tremaining: 2.32s\n",
      "32:\tlearn: 2878.8053032\ttotal: 1.12s\tremaining: 2.28s\n",
      "33:\tlearn: 2849.1255365\ttotal: 1.16s\tremaining: 2.24s\n",
      "34:\tlearn: 2820.4248435\ttotal: 1.19s\tremaining: 2.21s\n",
      "35:\tlearn: 2793.4436163\ttotal: 1.22s\tremaining: 2.17s\n",
      "36:\tlearn: 2769.2166616\ttotal: 1.25s\tremaining: 2.13s\n",
      "37:\tlearn: 2743.4159745\ttotal: 1.28s\tremaining: 2.09s\n",
      "38:\tlearn: 2720.3278641\ttotal: 1.31s\tremaining: 2.05s\n",
      "39:\tlearn: 2696.8652419\ttotal: 1.34s\tremaining: 2.01s\n",
      "40:\tlearn: 2674.0708479\ttotal: 1.37s\tremaining: 1.98s\n",
      "41:\tlearn: 2652.5781606\ttotal: 1.41s\tremaining: 1.94s\n",
      "42:\tlearn: 2632.3529943\ttotal: 1.44s\tremaining: 1.91s\n",
      "43:\tlearn: 2613.0822340\ttotal: 1.47s\tremaining: 1.88s\n",
      "44:\tlearn: 2594.6978867\ttotal: 1.5s\tremaining: 1.84s\n",
      "45:\tlearn: 2576.9519564\ttotal: 1.54s\tremaining: 1.81s\n",
      "46:\tlearn: 2558.4856884\ttotal: 1.57s\tremaining: 1.78s\n",
      "47:\tlearn: 2541.1879888\ttotal: 1.61s\tremaining: 1.74s\n",
      "48:\tlearn: 2524.4351610\ttotal: 1.64s\tremaining: 1.71s\n",
      "49:\tlearn: 2507.9361645\ttotal: 1.67s\tremaining: 1.67s\n",
      "50:\tlearn: 2493.0729570\ttotal: 1.7s\tremaining: 1.63s\n",
      "51:\tlearn: 2477.8344748\ttotal: 1.73s\tremaining: 1.6s\n",
      "52:\tlearn: 2463.2246434\ttotal: 1.77s\tremaining: 1.57s\n",
      "53:\tlearn: 2448.4977059\ttotal: 1.8s\tremaining: 1.53s\n",
      "54:\tlearn: 2436.0545663\ttotal: 1.84s\tremaining: 1.51s\n",
      "55:\tlearn: 2422.5329907\ttotal: 1.88s\tremaining: 1.48s\n",
      "56:\tlearn: 2409.4527933\ttotal: 1.93s\tremaining: 1.45s\n",
      "57:\tlearn: 2395.9642073\ttotal: 1.96s\tremaining: 1.42s\n",
      "58:\tlearn: 2384.6024376\ttotal: 1.99s\tremaining: 1.39s\n",
      "59:\tlearn: 2371.9048052\ttotal: 2.03s\tremaining: 1.35s\n",
      "60:\tlearn: 2361.1269671\ttotal: 2.06s\tremaining: 1.31s\n",
      "61:\tlearn: 2349.5523676\ttotal: 2.1s\tremaining: 1.29s\n",
      "62:\tlearn: 2338.6906071\ttotal: 2.13s\tremaining: 1.25s\n",
      "63:\tlearn: 2327.4978402\ttotal: 2.16s\tremaining: 1.22s\n",
      "64:\tlearn: 2317.6675467\ttotal: 2.19s\tremaining: 1.18s\n",
      "65:\tlearn: 2307.4091497\ttotal: 2.23s\tremaining: 1.15s\n",
      "66:\tlearn: 2297.1613117\ttotal: 2.26s\tremaining: 1.11s\n",
      "67:\tlearn: 2287.1906213\ttotal: 2.29s\tremaining: 1.08s\n",
      "68:\tlearn: 2278.4600544\ttotal: 2.32s\tremaining: 1.04s\n",
      "69:\tlearn: 2269.7145201\ttotal: 2.35s\tremaining: 1.01s\n",
      "70:\tlearn: 2260.8825918\ttotal: 2.38s\tremaining: 974ms\n",
      "71:\tlearn: 2252.8967561\ttotal: 2.42s\tremaining: 941ms\n",
      "72:\tlearn: 2244.6470912\ttotal: 2.45s\tremaining: 908ms\n",
      "73:\tlearn: 2236.2638936\ttotal: 2.49s\tremaining: 876ms\n",
      "74:\tlearn: 2227.7471054\ttotal: 2.53s\tremaining: 843ms\n",
      "75:\tlearn: 2219.4694622\ttotal: 2.56s\tremaining: 809ms\n",
      "76:\tlearn: 2212.2431979\ttotal: 2.59s\tremaining: 774ms\n",
      "77:\tlearn: 2204.7495521\ttotal: 2.62s\tremaining: 740ms\n",
      "78:\tlearn: 2197.2694249\ttotal: 2.66s\tremaining: 707ms\n",
      "79:\tlearn: 2189.6532923\ttotal: 2.69s\tremaining: 672ms\n",
      "80:\tlearn: 2182.8058877\ttotal: 2.72s\tremaining: 638ms\n",
      "81:\tlearn: 2175.9930051\ttotal: 2.76s\tremaining: 605ms\n",
      "82:\tlearn: 2169.2932997\ttotal: 2.79s\tremaining: 571ms\n",
      "83:\tlearn: 2163.0546066\ttotal: 2.82s\tremaining: 538ms\n",
      "84:\tlearn: 2156.5755930\ttotal: 2.85s\tremaining: 504ms\n",
      "85:\tlearn: 2150.8723955\ttotal: 2.88s\tremaining: 470ms\n",
      "86:\tlearn: 2145.4865162\ttotal: 2.92s\tremaining: 436ms\n",
      "87:\tlearn: 2139.3710969\ttotal: 2.95s\tremaining: 402ms\n",
      "88:\tlearn: 2134.5281020\ttotal: 2.98s\tremaining: 368ms\n",
      "89:\tlearn: 2129.0079534\ttotal: 3.01s\tremaining: 335ms\n",
      "90:\tlearn: 2124.2020592\ttotal: 3.04s\tremaining: 301ms\n",
      "91:\tlearn: 2119.4068034\ttotal: 3.08s\tremaining: 268ms\n",
      "92:\tlearn: 2115.1005666\ttotal: 3.11s\tremaining: 234ms\n",
      "93:\tlearn: 2110.6536469\ttotal: 3.14s\tremaining: 201ms\n",
      "94:\tlearn: 2106.5626198\ttotal: 3.17s\tremaining: 167ms\n",
      "95:\tlearn: 2102.0862355\ttotal: 3.21s\tremaining: 134ms\n",
      "96:\tlearn: 2098.0268522\ttotal: 3.24s\tremaining: 100ms\n",
      "97:\tlearn: 2093.5314867\ttotal: 3.27s\tremaining: 66.8ms\n",
      "98:\tlearn: 2089.4896216\ttotal: 3.3s\tremaining: 33.4ms\n",
      "99:\tlearn: 2085.6473504\ttotal: 3.34s\tremaining: 0us\n",
      "0:\tlearn: 4515.9078804\ttotal: 38.6ms\tremaining: 3.82s\n",
      "1:\tlearn: 4429.7093432\ttotal: 74.7ms\tremaining: 3.66s\n",
      "2:\tlearn: 4346.2618524\ttotal: 112ms\tremaining: 3.61s\n",
      "3:\tlearn: 4265.7335092\ttotal: 145ms\tremaining: 3.49s\n",
      "4:\tlearn: 4188.4495259\ttotal: 178ms\tremaining: 3.38s\n",
      "5:\tlearn: 4116.3452463\ttotal: 214ms\tremaining: 3.35s\n",
      "6:\tlearn: 4047.0165359\ttotal: 252ms\tremaining: 3.34s\n",
      "7:\tlearn: 3977.7394414\ttotal: 287ms\tremaining: 3.3s\n",
      "8:\tlearn: 3911.0739453\ttotal: 320ms\tremaining: 3.24s\n",
      "9:\tlearn: 3846.9540342\ttotal: 354ms\tremaining: 3.19s\n",
      "10:\tlearn: 3788.5916763\ttotal: 386ms\tremaining: 3.12s\n",
      "11:\tlearn: 3728.0332066\ttotal: 418ms\tremaining: 3.07s\n",
      "12:\tlearn: 3672.6154169\ttotal: 452ms\tremaining: 3.02s\n",
      "13:\tlearn: 3617.3002803\ttotal: 487ms\tremaining: 2.99s\n",
      "14:\tlearn: 3566.0964226\ttotal: 518ms\tremaining: 2.94s\n",
      "15:\tlearn: 3515.7945952\ttotal: 551ms\tremaining: 2.89s\n",
      "16:\tlearn: 3464.2935722\ttotal: 582ms\tremaining: 2.84s\n",
      "17:\tlearn: 3415.3037399\ttotal: 613ms\tremaining: 2.79s\n",
      "18:\tlearn: 3372.7814614\ttotal: 645ms\tremaining: 2.75s\n",
      "19:\tlearn: 3328.6572815\ttotal: 677ms\tremaining: 2.71s\n",
      "20:\tlearn: 3285.9669299\ttotal: 708ms\tremaining: 2.66s\n",
      "21:\tlearn: 3244.0337647\ttotal: 740ms\tremaining: 2.62s\n",
      "22:\tlearn: 3203.0049898\ttotal: 772ms\tremaining: 2.59s\n",
      "23:\tlearn: 3165.4248203\ttotal: 805ms\tremaining: 2.55s\n",
      "24:\tlearn: 3127.5838730\ttotal: 837ms\tremaining: 2.51s\n",
      "25:\tlearn: 3092.5825324\ttotal: 867ms\tremaining: 2.47s\n",
      "26:\tlearn: 3058.7283730\ttotal: 899ms\tremaining: 2.43s\n",
      "27:\tlearn: 3025.0719317\ttotal: 931ms\tremaining: 2.39s\n",
      "28:\tlearn: 2992.6927540\ttotal: 966ms\tremaining: 2.37s\n",
      "29:\tlearn: 2961.2633895\ttotal: 1000ms\tremaining: 2.33s\n",
      "30:\tlearn: 2931.2739637\ttotal: 1.03s\tremaining: 2.29s\n",
      "31:\tlearn: 2902.9431781\ttotal: 1.06s\tremaining: 2.26s\n",
      "32:\tlearn: 2875.3436122\ttotal: 1.1s\tremaining: 2.23s\n",
      "33:\tlearn: 2850.2406528\ttotal: 1.13s\tremaining: 2.2s\n",
      "34:\tlearn: 2826.7142300\ttotal: 1.17s\tremaining: 2.17s\n",
      "35:\tlearn: 2801.3544129\ttotal: 1.2s\tremaining: 2.13s\n",
      "36:\tlearn: 2777.4829257\ttotal: 1.23s\tremaining: 2.09s\n",
      "37:\tlearn: 2750.8868887\ttotal: 1.26s\tremaining: 2.06s\n",
      "38:\tlearn: 2724.5695628\ttotal: 1.3s\tremaining: 2.03s\n",
      "39:\tlearn: 2700.2368270\ttotal: 1.33s\tremaining: 2s\n",
      "40:\tlearn: 2677.3590351\ttotal: 1.38s\tremaining: 1.98s\n",
      "41:\tlearn: 2655.7031169\ttotal: 1.41s\tremaining: 1.94s\n",
      "42:\tlearn: 2633.6464812\ttotal: 1.44s\tremaining: 1.91s\n",
      "43:\tlearn: 2614.1785754\ttotal: 1.47s\tremaining: 1.88s\n",
      "44:\tlearn: 2594.0515109\ttotal: 1.5s\tremaining: 1.84s\n",
      "45:\tlearn: 2575.2288197\ttotal: 1.54s\tremaining: 1.81s\n",
      "46:\tlearn: 2555.8280403\ttotal: 1.57s\tremaining: 1.77s\n",
      "47:\tlearn: 2538.2091822\ttotal: 1.63s\tremaining: 1.77s\n",
      "48:\tlearn: 2521.6888464\ttotal: 1.67s\tremaining: 1.73s\n",
      "49:\tlearn: 2504.9800055\ttotal: 1.7s\tremaining: 1.7s\n",
      "50:\tlearn: 2489.8307001\ttotal: 1.73s\tremaining: 1.66s\n",
      "51:\tlearn: 2474.2897690\ttotal: 1.76s\tremaining: 1.63s\n",
      "52:\tlearn: 2459.4145501\ttotal: 1.8s\tremaining: 1.59s\n",
      "53:\tlearn: 2445.8812068\ttotal: 1.83s\tremaining: 1.56s\n",
      "54:\tlearn: 2432.2340592\ttotal: 1.86s\tremaining: 1.52s\n",
      "55:\tlearn: 2418.7909578\ttotal: 1.89s\tremaining: 1.49s\n",
      "56:\tlearn: 2406.6224715\ttotal: 1.93s\tremaining: 1.45s\n",
      "57:\tlearn: 2395.6797671\ttotal: 1.98s\tremaining: 1.43s\n",
      "58:\tlearn: 2383.7039557\ttotal: 2.01s\tremaining: 1.4s\n",
      "59:\tlearn: 2372.3731973\ttotal: 2.05s\tremaining: 1.36s\n",
      "60:\tlearn: 2360.5781056\ttotal: 2.08s\tremaining: 1.33s\n",
      "61:\tlearn: 2349.7021674\ttotal: 2.11s\tremaining: 1.29s\n",
      "62:\tlearn: 2339.3114455\ttotal: 2.14s\tremaining: 1.26s\n",
      "63:\tlearn: 2327.5748538\ttotal: 2.17s\tremaining: 1.22s\n",
      "64:\tlearn: 2316.8969213\ttotal: 2.21s\tremaining: 1.19s\n",
      "65:\tlearn: 2306.1989599\ttotal: 2.25s\tremaining: 1.16s\n",
      "66:\tlearn: 2296.8892237\ttotal: 2.29s\tremaining: 1.13s\n",
      "67:\tlearn: 2287.6020573\ttotal: 2.33s\tremaining: 1.09s\n",
      "68:\tlearn: 2277.8969649\ttotal: 2.38s\tremaining: 1.07s\n",
      "69:\tlearn: 2269.3979958\ttotal: 2.42s\tremaining: 1.04s\n",
      "70:\tlearn: 2260.7170438\ttotal: 2.45s\tremaining: 1s\n",
      "71:\tlearn: 2253.5698400\ttotal: 2.49s\tremaining: 967ms\n",
      "72:\tlearn: 2245.4875963\ttotal: 2.52s\tremaining: 931ms\n",
      "73:\tlearn: 2236.4175659\ttotal: 2.55s\tremaining: 896ms\n",
      "74:\tlearn: 2226.8737439\ttotal: 2.58s\tremaining: 861ms\n",
      "75:\tlearn: 2217.9624851\ttotal: 2.62s\tremaining: 826ms\n",
      "76:\tlearn: 2210.5102881\ttotal: 2.65s\tremaining: 791ms\n",
      "77:\tlearn: 2203.8191157\ttotal: 2.68s\tremaining: 756ms\n",
      "78:\tlearn: 2196.5463501\ttotal: 2.71s\tremaining: 721ms\n",
      "79:\tlearn: 2189.2331338\ttotal: 2.75s\tremaining: 686ms\n",
      "80:\tlearn: 2181.6954108\ttotal: 2.78s\tremaining: 651ms\n",
      "81:\tlearn: 2175.2492882\ttotal: 2.81s\tremaining: 616ms\n",
      "82:\tlearn: 2168.9608433\ttotal: 2.84s\tremaining: 582ms\n",
      "83:\tlearn: 2162.4649670\ttotal: 2.88s\tremaining: 548ms\n",
      "84:\tlearn: 2156.6851945\ttotal: 2.91s\tremaining: 513ms\n",
      "85:\tlearn: 2151.4170903\ttotal: 2.94s\tremaining: 479ms\n",
      "86:\tlearn: 2146.2427782\ttotal: 2.98s\tremaining: 445ms\n",
      "87:\tlearn: 2140.6175903\ttotal: 3.01s\tremaining: 410ms\n",
      "88:\tlearn: 2135.6130883\ttotal: 3.04s\tremaining: 376ms\n",
      "89:\tlearn: 2130.1801449\ttotal: 3.07s\tremaining: 341ms\n",
      "90:\tlearn: 2125.4431489\ttotal: 3.1s\tremaining: 307ms\n",
      "91:\tlearn: 2120.5748353\ttotal: 3.13s\tremaining: 272ms\n",
      "92:\tlearn: 2116.0098390\ttotal: 3.16s\tremaining: 238ms\n",
      "93:\tlearn: 2111.2409894\ttotal: 3.2s\tremaining: 204ms\n",
      "94:\tlearn: 2106.9038980\ttotal: 3.23s\tremaining: 170ms\n",
      "95:\tlearn: 2102.6209156\ttotal: 3.26s\tremaining: 136ms\n",
      "96:\tlearn: 2098.9180873\ttotal: 3.3s\tremaining: 102ms\n",
      "97:\tlearn: 2094.8532225\ttotal: 3.33s\tremaining: 68ms\n",
      "98:\tlearn: 2090.5453003\ttotal: 3.37s\tremaining: 34ms\n",
      "99:\tlearn: 2086.4372242\ttotal: 3.4s\tremaining: 0us\n",
      "0:\tlearn: 4508.5891412\ttotal: 41.8ms\tremaining: 4.14s\n",
      "1:\tlearn: 4422.4414827\ttotal: 79.9ms\tremaining: 3.91s\n",
      "2:\tlearn: 4339.9181033\ttotal: 112ms\tremaining: 3.63s\n",
      "3:\tlearn: 4260.6213631\ttotal: 144ms\tremaining: 3.46s\n",
      "4:\tlearn: 4183.9030972\ttotal: 181ms\tremaining: 3.44s\n",
      "5:\tlearn: 4111.3465294\ttotal: 215ms\tremaining: 3.36s\n",
      "6:\tlearn: 4041.5456696\ttotal: 245ms\tremaining: 3.26s\n",
      "7:\tlearn: 3972.5306410\ttotal: 277ms\tremaining: 3.19s\n",
      "8:\tlearn: 3906.1044268\ttotal: 309ms\tremaining: 3.12s\n",
      "9:\tlearn: 3842.9755020\ttotal: 341ms\tremaining: 3.07s\n",
      "10:\tlearn: 3783.7998432\ttotal: 373ms\tremaining: 3.01s\n",
      "11:\tlearn: 3723.8702002\ttotal: 404ms\tremaining: 2.96s\n",
      "12:\tlearn: 3666.7768090\ttotal: 435ms\tremaining: 2.91s\n",
      "13:\tlearn: 3612.3598088\ttotal: 481ms\tremaining: 2.95s\n",
      "14:\tlearn: 3560.2185108\ttotal: 514ms\tremaining: 2.91s\n",
      "15:\tlearn: 3509.6829563\ttotal: 548ms\tremaining: 2.88s\n",
      "16:\tlearn: 3460.5298182\ttotal: 581ms\tremaining: 2.84s\n",
      "17:\tlearn: 3411.8014459\ttotal: 615ms\tremaining: 2.8s\n",
      "18:\tlearn: 3369.1732451\ttotal: 648ms\tremaining: 2.76s\n",
      "19:\tlearn: 3325.2943645\ttotal: 682ms\tremaining: 2.73s\n",
      "20:\tlearn: 3282.3689334\ttotal: 722ms\tremaining: 2.72s\n",
      "21:\tlearn: 3241.0485677\ttotal: 774ms\tremaining: 2.74s\n",
      "22:\tlearn: 3202.6121679\ttotal: 805ms\tremaining: 2.69s\n",
      "23:\tlearn: 3164.6966020\ttotal: 838ms\tremaining: 2.65s\n",
      "24:\tlearn: 3126.7566763\ttotal: 870ms\tremaining: 2.61s\n",
      "25:\tlearn: 3092.7873260\ttotal: 903ms\tremaining: 2.57s\n",
      "26:\tlearn: 3057.2961047\ttotal: 936ms\tremaining: 2.53s\n",
      "27:\tlearn: 3026.6104820\ttotal: 967ms\tremaining: 2.49s\n",
      "28:\tlearn: 2995.0687715\ttotal: 1s\tremaining: 2.45s\n",
      "29:\tlearn: 2964.4014028\ttotal: 1.03s\tremaining: 2.42s\n",
      "30:\tlearn: 2935.4503795\ttotal: 1.07s\tremaining: 2.38s\n",
      "31:\tlearn: 2908.2435510\ttotal: 1.1s\tremaining: 2.33s\n",
      "32:\tlearn: 2881.9482413\ttotal: 1.13s\tremaining: 2.29s\n",
      "33:\tlearn: 2855.5922857\ttotal: 1.16s\tremaining: 2.25s\n",
      "34:\tlearn: 2832.3743202\ttotal: 1.19s\tremaining: 2.22s\n",
      "35:\tlearn: 2809.0418651\ttotal: 1.23s\tremaining: 2.18s\n",
      "36:\tlearn: 2785.8387163\ttotal: 1.26s\tremaining: 2.15s\n",
      "37:\tlearn: 2760.0047301\ttotal: 1.29s\tremaining: 2.11s\n",
      "38:\tlearn: 2735.1607983\ttotal: 1.32s\tremaining: 2.07s\n",
      "39:\tlearn: 2711.0584206\ttotal: 1.36s\tremaining: 2.04s\n",
      "40:\tlearn: 2687.4165788\ttotal: 1.39s\tremaining: 2s\n",
      "41:\tlearn: 2664.4536604\ttotal: 1.43s\tremaining: 1.97s\n",
      "42:\tlearn: 2643.8274241\ttotal: 1.46s\tremaining: 1.93s\n",
      "43:\tlearn: 2624.5459205\ttotal: 1.49s\tremaining: 1.9s\n",
      "44:\tlearn: 2604.7539031\ttotal: 1.52s\tremaining: 1.86s\n",
      "45:\tlearn: 2584.9856333\ttotal: 1.55s\tremaining: 1.82s\n",
      "46:\tlearn: 2565.3129521\ttotal: 1.59s\tremaining: 1.79s\n",
      "47:\tlearn: 2548.1198848\ttotal: 1.62s\tremaining: 1.75s\n",
      "48:\tlearn: 2531.3651645\ttotal: 1.65s\tremaining: 1.72s\n",
      "49:\tlearn: 2515.3667447\ttotal: 1.68s\tremaining: 1.68s\n",
      "50:\tlearn: 2500.5799806\ttotal: 1.72s\tremaining: 1.65s\n",
      "51:\tlearn: 2485.3329855\ttotal: 1.75s\tremaining: 1.61s\n",
      "52:\tlearn: 2471.3619222\ttotal: 1.78s\tremaining: 1.58s\n",
      "53:\tlearn: 2457.6145409\ttotal: 1.83s\tremaining: 1.56s\n",
      "54:\tlearn: 2443.2549236\ttotal: 1.88s\tremaining: 1.53s\n",
      "55:\tlearn: 2429.0348890\ttotal: 1.92s\tremaining: 1.5s\n",
      "56:\tlearn: 2416.0834155\ttotal: 1.95s\tremaining: 1.47s\n",
      "57:\tlearn: 2402.3271070\ttotal: 2s\tremaining: 1.45s\n",
      "58:\tlearn: 2389.1833628\ttotal: 2.03s\tremaining: 1.41s\n",
      "59:\tlearn: 2376.4645211\ttotal: 2.06s\tremaining: 1.38s\n",
      "60:\tlearn: 2364.6192886\ttotal: 2.1s\tremaining: 1.34s\n",
      "61:\tlearn: 2353.9427555\ttotal: 2.13s\tremaining: 1.3s\n",
      "62:\tlearn: 2342.5386261\ttotal: 2.16s\tremaining: 1.27s\n",
      "63:\tlearn: 2332.1494456\ttotal: 2.19s\tremaining: 1.23s\n",
      "64:\tlearn: 2322.1689123\ttotal: 2.23s\tremaining: 1.2s\n",
      "65:\tlearn: 2312.0666789\ttotal: 2.26s\tremaining: 1.16s\n",
      "66:\tlearn: 2301.3607982\ttotal: 2.29s\tremaining: 1.13s\n",
      "67:\tlearn: 2292.1776161\ttotal: 2.32s\tremaining: 1.09s\n",
      "68:\tlearn: 2282.2333063\ttotal: 2.36s\tremaining: 1.06s\n",
      "69:\tlearn: 2273.1321260\ttotal: 2.39s\tremaining: 1.02s\n",
      "70:\tlearn: 2264.8058458\ttotal: 2.42s\tremaining: 988ms\n",
      "71:\tlearn: 2257.0577272\ttotal: 2.45s\tremaining: 954ms\n",
      "72:\tlearn: 2248.0367802\ttotal: 2.48s\tremaining: 919ms\n",
      "73:\tlearn: 2238.5302793\ttotal: 2.52s\tremaining: 885ms\n",
      "74:\tlearn: 2230.0538444\ttotal: 2.55s\tremaining: 851ms\n",
      "75:\tlearn: 2221.4360565\ttotal: 2.58s\tremaining: 816ms\n",
      "76:\tlearn: 2213.4127738\ttotal: 2.62s\tremaining: 782ms\n",
      "77:\tlearn: 2206.2058365\ttotal: 2.65s\tremaining: 747ms\n",
      "78:\tlearn: 2198.5940785\ttotal: 2.69s\tremaining: 714ms\n",
      "79:\tlearn: 2190.7366014\ttotal: 2.72s\tremaining: 680ms\n",
      "80:\tlearn: 2183.1379963\ttotal: 2.77s\tremaining: 649ms\n",
      "81:\tlearn: 2176.5254789\ttotal: 2.8s\tremaining: 614ms\n",
      "82:\tlearn: 2169.5457289\ttotal: 2.83s\tremaining: 579ms\n",
      "83:\tlearn: 2163.8295288\ttotal: 2.86s\tremaining: 545ms\n",
      "84:\tlearn: 2157.6284438\ttotal: 2.89s\tremaining: 510ms\n",
      "85:\tlearn: 2152.0910536\ttotal: 2.92s\tremaining: 476ms\n",
      "86:\tlearn: 2146.4449498\ttotal: 2.96s\tremaining: 442ms\n",
      "87:\tlearn: 2140.7695725\ttotal: 2.99s\tremaining: 408ms\n",
      "88:\tlearn: 2134.9016650\ttotal: 3.02s\tremaining: 374ms\n",
      "89:\tlearn: 2130.0681039\ttotal: 3.06s\tremaining: 340ms\n",
      "90:\tlearn: 2124.9300066\ttotal: 3.09s\tremaining: 306ms\n",
      "91:\tlearn: 2120.2545894\ttotal: 3.13s\tremaining: 272ms\n",
      "92:\tlearn: 2116.0456798\ttotal: 3.16s\tremaining: 238ms\n",
      "93:\tlearn: 2110.9139047\ttotal: 3.19s\tremaining: 204ms\n",
      "94:\tlearn: 2106.5980602\ttotal: 3.22s\tremaining: 170ms\n",
      "95:\tlearn: 2102.3389792\ttotal: 3.26s\tremaining: 136ms\n",
      "96:\tlearn: 2098.3692660\ttotal: 3.29s\tremaining: 102ms\n",
      "97:\tlearn: 2094.0818562\ttotal: 3.32s\tremaining: 67.8ms\n",
      "98:\tlearn: 2089.7931321\ttotal: 3.35s\tremaining: 33.9ms\n",
      "99:\tlearn: 2086.3027332\ttotal: 3.39s\tremaining: 0us\n",
      "0:\tlearn: 4508.2823541\ttotal: 38.3ms\tremaining: 3.79s\n",
      "1:\tlearn: 4425.7759374\ttotal: 79.4ms\tremaining: 3.89s\n",
      "2:\tlearn: 4346.6086601\ttotal: 113ms\tremaining: 3.65s\n",
      "3:\tlearn: 4267.4267951\ttotal: 154ms\tremaining: 3.69s\n",
      "4:\tlearn: 4194.4441846\ttotal: 187ms\tremaining: 3.55s\n",
      "5:\tlearn: 4119.4374560\ttotal: 219ms\tremaining: 3.43s\n",
      "6:\tlearn: 4046.9548910\ttotal: 254ms\tremaining: 3.37s\n",
      "7:\tlearn: 3977.3925908\ttotal: 287ms\tremaining: 3.3s\n",
      "8:\tlearn: 3910.6937267\ttotal: 319ms\tremaining: 3.22s\n",
      "9:\tlearn: 3846.6034152\ttotal: 351ms\tremaining: 3.16s\n",
      "10:\tlearn: 3784.5761270\ttotal: 383ms\tremaining: 3.1s\n",
      "11:\tlearn: 3724.8368740\ttotal: 415ms\tremaining: 3.04s\n",
      "12:\tlearn: 3668.3520062\ttotal: 447ms\tremaining: 2.99s\n",
      "13:\tlearn: 3613.2271226\ttotal: 482ms\tremaining: 2.96s\n",
      "14:\tlearn: 3561.6857604\ttotal: 515ms\tremaining: 2.92s\n",
      "15:\tlearn: 3511.5468786\ttotal: 549ms\tremaining: 2.88s\n",
      "16:\tlearn: 3460.7986012\ttotal: 582ms\tremaining: 2.84s\n",
      "17:\tlearn: 3414.1428384\ttotal: 619ms\tremaining: 2.82s\n",
      "18:\tlearn: 3367.0993114\ttotal: 651ms\tremaining: 2.77s\n",
      "19:\tlearn: 3322.2167615\ttotal: 684ms\tremaining: 2.73s\n",
      "20:\tlearn: 3280.1302941\ttotal: 715ms\tremaining: 2.69s\n",
      "21:\tlearn: 3240.2153868\ttotal: 748ms\tremaining: 2.65s\n",
      "22:\tlearn: 3200.1808111\ttotal: 780ms\tremaining: 2.61s\n",
      "23:\tlearn: 3162.2344087\ttotal: 819ms\tremaining: 2.59s\n",
      "24:\tlearn: 3125.8630574\ttotal: 861ms\tremaining: 2.58s\n",
      "25:\tlearn: 3091.5907323\ttotal: 918ms\tremaining: 2.61s\n",
      "26:\tlearn: 3056.8944545\ttotal: 977ms\tremaining: 2.64s\n",
      "27:\tlearn: 3024.7179442\ttotal: 1.03s\tremaining: 2.66s\n",
      "28:\tlearn: 2992.2356419\ttotal: 1.08s\tremaining: 2.64s\n",
      "29:\tlearn: 2961.2601226\ttotal: 1.11s\tremaining: 2.59s\n",
      "30:\tlearn: 2929.8674272\ttotal: 1.15s\tremaining: 2.55s\n",
      "31:\tlearn: 2900.4049980\ttotal: 1.18s\tremaining: 2.5s\n",
      "32:\tlearn: 2873.3215366\ttotal: 1.21s\tremaining: 2.45s\n",
      "33:\tlearn: 2846.6567645\ttotal: 1.24s\tremaining: 2.41s\n",
      "34:\tlearn: 2822.4889846\ttotal: 1.27s\tremaining: 2.37s\n",
      "35:\tlearn: 2795.6685000\ttotal: 1.31s\tremaining: 2.32s\n",
      "36:\tlearn: 2770.3734703\ttotal: 1.34s\tremaining: 2.28s\n",
      "37:\tlearn: 2744.8778231\ttotal: 1.37s\tremaining: 2.24s\n",
      "38:\tlearn: 2720.1099278\ttotal: 1.4s\tremaining: 2.2s\n",
      "39:\tlearn: 2696.7918235\ttotal: 1.44s\tremaining: 2.16s\n",
      "40:\tlearn: 2673.9994361\ttotal: 1.47s\tremaining: 2.12s\n",
      "41:\tlearn: 2652.1569210\ttotal: 1.51s\tremaining: 2.08s\n",
      "42:\tlearn: 2632.0422046\ttotal: 1.54s\tremaining: 2.04s\n",
      "43:\tlearn: 2611.0872768\ttotal: 1.57s\tremaining: 2s\n",
      "44:\tlearn: 2591.1400956\ttotal: 1.6s\tremaining: 1.96s\n",
      "45:\tlearn: 2572.1004357\ttotal: 1.64s\tremaining: 1.92s\n",
      "46:\tlearn: 2553.2362112\ttotal: 1.67s\tremaining: 1.88s\n",
      "47:\tlearn: 2536.3001356\ttotal: 1.7s\tremaining: 1.84s\n",
      "48:\tlearn: 2520.3299609\ttotal: 1.74s\tremaining: 1.81s\n",
      "49:\tlearn: 2503.5974841\ttotal: 1.77s\tremaining: 1.77s\n",
      "50:\tlearn: 2489.3232794\ttotal: 1.8s\tremaining: 1.73s\n",
      "51:\tlearn: 2474.6677093\ttotal: 1.83s\tremaining: 1.69s\n",
      "52:\tlearn: 2460.0801121\ttotal: 1.87s\tremaining: 1.66s\n",
      "53:\tlearn: 2445.7950924\ttotal: 1.9s\tremaining: 1.62s\n",
      "54:\tlearn: 2432.4511133\ttotal: 1.93s\tremaining: 1.58s\n",
      "55:\tlearn: 2419.6431411\ttotal: 1.97s\tremaining: 1.55s\n",
      "56:\tlearn: 2407.3764871\ttotal: 2s\tremaining: 1.51s\n",
      "57:\tlearn: 2395.3545448\ttotal: 2.04s\tremaining: 1.48s\n",
      "58:\tlearn: 2383.7338666\ttotal: 2.07s\tremaining: 1.44s\n",
      "59:\tlearn: 2372.1428896\ttotal: 2.1s\tremaining: 1.4s\n",
      "60:\tlearn: 2361.3305749\ttotal: 2.13s\tremaining: 1.36s\n",
      "61:\tlearn: 2349.5679247\ttotal: 2.17s\tremaining: 1.33s\n",
      "62:\tlearn: 2338.9879324\ttotal: 2.2s\tremaining: 1.29s\n",
      "63:\tlearn: 2327.9456297\ttotal: 2.23s\tremaining: 1.26s\n",
      "64:\tlearn: 2317.1562556\ttotal: 2.27s\tremaining: 1.22s\n",
      "65:\tlearn: 2307.1725324\ttotal: 2.3s\tremaining: 1.18s\n",
      "66:\tlearn: 2297.4271778\ttotal: 2.33s\tremaining: 1.15s\n",
      "67:\tlearn: 2288.0867192\ttotal: 2.36s\tremaining: 1.11s\n",
      "68:\tlearn: 2278.9549400\ttotal: 2.39s\tremaining: 1.07s\n",
      "69:\tlearn: 2270.5091764\ttotal: 2.42s\tremaining: 1.04s\n",
      "70:\tlearn: 2262.3365771\ttotal: 2.46s\tremaining: 1s\n",
      "71:\tlearn: 2253.4505338\ttotal: 2.5s\tremaining: 970ms\n",
      "72:\tlearn: 2245.7009163\ttotal: 2.53s\tremaining: 936ms\n",
      "73:\tlearn: 2237.5640191\ttotal: 2.56s\tremaining: 901ms\n",
      "74:\tlearn: 2229.0190626\ttotal: 2.6s\tremaining: 867ms\n",
      "75:\tlearn: 2220.6884252\ttotal: 2.63s\tremaining: 832ms\n",
      "76:\tlearn: 2213.2618636\ttotal: 2.67s\tremaining: 797ms\n",
      "77:\tlearn: 2206.0118315\ttotal: 2.7s\tremaining: 762ms\n",
      "78:\tlearn: 2198.9152552\ttotal: 2.73s\tremaining: 727ms\n",
      "79:\tlearn: 2191.7215590\ttotal: 2.77s\tremaining: 692ms\n",
      "80:\tlearn: 2184.8491293\ttotal: 2.81s\tremaining: 658ms\n",
      "81:\tlearn: 2178.3697386\ttotal: 2.85s\tremaining: 626ms\n",
      "82:\tlearn: 2171.5245858\ttotal: 2.88s\tremaining: 590ms\n",
      "83:\tlearn: 2165.6643906\ttotal: 2.92s\tremaining: 556ms\n",
      "84:\tlearn: 2159.9297345\ttotal: 2.95s\tremaining: 520ms\n",
      "85:\tlearn: 2154.2797346\ttotal: 2.98s\tremaining: 485ms\n",
      "86:\tlearn: 2149.3321932\ttotal: 3.01s\tremaining: 450ms\n",
      "87:\tlearn: 2143.3984915\ttotal: 3.05s\tremaining: 416ms\n",
      "88:\tlearn: 2137.5254293\ttotal: 3.08s\tremaining: 381ms\n",
      "89:\tlearn: 2132.7363141\ttotal: 3.11s\tremaining: 346ms\n",
      "90:\tlearn: 2128.0503698\ttotal: 3.14s\tremaining: 311ms\n",
      "91:\tlearn: 2123.2823742\ttotal: 3.17s\tremaining: 276ms\n",
      "92:\tlearn: 2118.5198366\ttotal: 3.21s\tremaining: 241ms\n",
      "93:\tlearn: 2113.8324138\ttotal: 3.24s\tremaining: 207ms\n",
      "94:\tlearn: 2109.5990157\ttotal: 3.27s\tremaining: 172ms\n",
      "95:\tlearn: 2105.4313628\ttotal: 3.31s\tremaining: 138ms\n",
      "96:\tlearn: 2101.4772904\ttotal: 3.34s\tremaining: 103ms\n",
      "97:\tlearn: 2097.1586257\ttotal: 3.37s\tremaining: 68.8ms\n",
      "98:\tlearn: 2093.0214729\ttotal: 3.4s\tremaining: 34.4ms\n",
      "99:\tlearn: 2089.2052195\ttotal: 3.44s\tremaining: 0us\n",
      "0:\tlearn: 4500.0664725\ttotal: 39.7ms\tremaining: 3.93s\n",
      "1:\tlearn: 4417.1789355\ttotal: 81ms\tremaining: 3.97s\n",
      "2:\tlearn: 4337.2335176\ttotal: 114ms\tremaining: 3.67s\n",
      "3:\tlearn: 4257.6094120\ttotal: 152ms\tremaining: 3.65s\n",
      "4:\tlearn: 4183.5837311\ttotal: 192ms\tremaining: 3.64s\n",
      "5:\tlearn: 4110.2134893\ttotal: 231ms\tremaining: 3.62s\n",
      "6:\tlearn: 4039.1968145\ttotal: 265ms\tremaining: 3.52s\n",
      "7:\tlearn: 3972.8041900\ttotal: 298ms\tremaining: 3.42s\n",
      "8:\tlearn: 3905.9599379\ttotal: 333ms\tremaining: 3.36s\n",
      "9:\tlearn: 3840.7828818\ttotal: 367ms\tremaining: 3.3s\n",
      "10:\tlearn: 3777.2590513\ttotal: 399ms\tremaining: 3.23s\n",
      "11:\tlearn: 3719.1903096\ttotal: 430ms\tremaining: 3.16s\n",
      "12:\tlearn: 3663.0633095\ttotal: 462ms\tremaining: 3.09s\n",
      "13:\tlearn: 3606.4456626\ttotal: 494ms\tremaining: 3.03s\n",
      "14:\tlearn: 3553.1163269\ttotal: 528ms\tremaining: 2.99s\n",
      "15:\tlearn: 3500.7337831\ttotal: 562ms\tremaining: 2.95s\n",
      "16:\tlearn: 3451.7919499\ttotal: 593ms\tremaining: 2.9s\n",
      "17:\tlearn: 3403.2570116\ttotal: 625ms\tremaining: 2.85s\n",
      "18:\tlearn: 3357.9751503\ttotal: 657ms\tremaining: 2.8s\n",
      "19:\tlearn: 3313.8558157\ttotal: 689ms\tremaining: 2.75s\n",
      "20:\tlearn: 3270.3971574\ttotal: 721ms\tremaining: 2.71s\n",
      "21:\tlearn: 3230.8017356\ttotal: 753ms\tremaining: 2.67s\n",
      "22:\tlearn: 3190.3589071\ttotal: 784ms\tremaining: 2.63s\n",
      "23:\tlearn: 3152.2300164\ttotal: 816ms\tremaining: 2.58s\n",
      "24:\tlearn: 3115.1920477\ttotal: 848ms\tremaining: 2.54s\n",
      "25:\tlearn: 3079.9755604\ttotal: 880ms\tremaining: 2.5s\n",
      "26:\tlearn: 3045.7969995\ttotal: 912ms\tremaining: 2.46s\n",
      "27:\tlearn: 3014.3401785\ttotal: 946ms\tremaining: 2.43s\n",
      "28:\tlearn: 2981.7152066\ttotal: 983ms\tremaining: 2.41s\n",
      "29:\tlearn: 2951.6354508\ttotal: 1.02s\tremaining: 2.37s\n",
      "30:\tlearn: 2922.8448250\ttotal: 1.05s\tremaining: 2.33s\n",
      "31:\tlearn: 2893.3933562\ttotal: 1.08s\tremaining: 2.29s\n",
      "32:\tlearn: 2866.7236251\ttotal: 1.11s\tremaining: 2.26s\n",
      "33:\tlearn: 2840.7542479\ttotal: 1.15s\tremaining: 2.22s\n",
      "34:\tlearn: 2813.5737308\ttotal: 1.18s\tremaining: 2.19s\n",
      "35:\tlearn: 2786.5643166\ttotal: 1.22s\tremaining: 2.16s\n",
      "36:\tlearn: 2760.5904644\ttotal: 1.25s\tremaining: 2.13s\n",
      "37:\tlearn: 2736.7596050\ttotal: 1.28s\tremaining: 2.09s\n",
      "38:\tlearn: 2713.3603612\ttotal: 1.31s\tremaining: 2.05s\n",
      "39:\tlearn: 2691.1410272\ttotal: 1.34s\tremaining: 2.02s\n",
      "40:\tlearn: 2668.5428121\ttotal: 1.38s\tremaining: 1.98s\n",
      "41:\tlearn: 2646.4639819\ttotal: 1.41s\tremaining: 1.94s\n",
      "42:\tlearn: 2625.5826002\ttotal: 1.44s\tremaining: 1.91s\n",
      "43:\tlearn: 2606.6021051\ttotal: 1.47s\tremaining: 1.88s\n",
      "44:\tlearn: 2587.1957676\ttotal: 1.51s\tremaining: 1.84s\n",
      "45:\tlearn: 2569.1054289\ttotal: 1.54s\tremaining: 1.8s\n",
      "46:\tlearn: 2551.2545085\ttotal: 1.58s\tremaining: 1.78s\n",
      "47:\tlearn: 2535.0386427\ttotal: 1.61s\tremaining: 1.75s\n",
      "48:\tlearn: 2518.7254062\ttotal: 1.65s\tremaining: 1.71s\n",
      "49:\tlearn: 2501.7825505\ttotal: 1.68s\tremaining: 1.68s\n",
      "50:\tlearn: 2486.6913396\ttotal: 1.71s\tremaining: 1.64s\n",
      "51:\tlearn: 2470.9984408\ttotal: 1.76s\tremaining: 1.62s\n",
      "52:\tlearn: 2457.2270694\ttotal: 1.79s\tremaining: 1.59s\n",
      "53:\tlearn: 2444.1126600\ttotal: 1.82s\tremaining: 1.55s\n",
      "54:\tlearn: 2430.6425674\ttotal: 1.85s\tremaining: 1.52s\n",
      "55:\tlearn: 2417.4654236\ttotal: 1.89s\tremaining: 1.48s\n",
      "56:\tlearn: 2405.1124529\ttotal: 1.95s\tremaining: 1.47s\n",
      "57:\tlearn: 2392.8979200\ttotal: 1.99s\tremaining: 1.44s\n",
      "58:\tlearn: 2380.7386409\ttotal: 2.02s\tremaining: 1.4s\n",
      "59:\tlearn: 2368.6889345\ttotal: 2.05s\tremaining: 1.37s\n",
      "60:\tlearn: 2358.5840232\ttotal: 2.08s\tremaining: 1.33s\n",
      "61:\tlearn: 2348.8689259\ttotal: 2.12s\tremaining: 1.3s\n",
      "62:\tlearn: 2336.7688534\ttotal: 2.15s\tremaining: 1.26s\n",
      "63:\tlearn: 2325.0452342\ttotal: 2.18s\tremaining: 1.23s\n",
      "64:\tlearn: 2314.9984720\ttotal: 2.23s\tremaining: 1.2s\n",
      "65:\tlearn: 2304.7909862\ttotal: 2.26s\tremaining: 1.17s\n",
      "66:\tlearn: 2294.7164405\ttotal: 2.3s\tremaining: 1.14s\n",
      "67:\tlearn: 2285.4082866\ttotal: 2.36s\tremaining: 1.11s\n",
      "68:\tlearn: 2276.0071040\ttotal: 2.41s\tremaining: 1.08s\n",
      "69:\tlearn: 2267.2514054\ttotal: 2.45s\tremaining: 1.05s\n",
      "70:\tlearn: 2258.8044856\ttotal: 2.48s\tremaining: 1.01s\n",
      "71:\tlearn: 2250.5609104\ttotal: 2.51s\tremaining: 977ms\n",
      "72:\tlearn: 2243.3436327\ttotal: 2.54s\tremaining: 942ms\n",
      "73:\tlearn: 2233.9031782\ttotal: 2.58s\tremaining: 906ms\n",
      "74:\tlearn: 2225.5711254\ttotal: 2.61s\tremaining: 871ms\n",
      "75:\tlearn: 2216.7825684\ttotal: 2.64s\tremaining: 835ms\n",
      "76:\tlearn: 2208.6523313\ttotal: 2.67s\tremaining: 799ms\n",
      "77:\tlearn: 2200.4514248\ttotal: 2.71s\tremaining: 764ms\n",
      "78:\tlearn: 2193.0894841\ttotal: 2.74s\tremaining: 729ms\n",
      "79:\tlearn: 2185.7363190\ttotal: 2.78s\tremaining: 694ms\n",
      "80:\tlearn: 2178.9722652\ttotal: 2.81s\tremaining: 659ms\n",
      "81:\tlearn: 2172.2434807\ttotal: 2.84s\tremaining: 624ms\n",
      "82:\tlearn: 2165.8764051\ttotal: 2.88s\tremaining: 589ms\n",
      "83:\tlearn: 2159.9412492\ttotal: 2.91s\tremaining: 555ms\n",
      "84:\tlearn: 2154.3317528\ttotal: 2.94s\tremaining: 520ms\n",
      "85:\tlearn: 2148.9550633\ttotal: 2.98s\tremaining: 485ms\n",
      "86:\tlearn: 2143.7604822\ttotal: 3.01s\tremaining: 450ms\n",
      "87:\tlearn: 2138.6344268\ttotal: 3.05s\tremaining: 416ms\n",
      "88:\tlearn: 2133.6046510\ttotal: 3.08s\tremaining: 381ms\n",
      "89:\tlearn: 2127.9153781\ttotal: 3.12s\tremaining: 346ms\n",
      "90:\tlearn: 2122.8827020\ttotal: 3.15s\tremaining: 312ms\n",
      "91:\tlearn: 2117.8298809\ttotal: 3.18s\tremaining: 277ms\n",
      "92:\tlearn: 2113.3541383\ttotal: 3.22s\tremaining: 242ms\n",
      "93:\tlearn: 2108.9009838\ttotal: 3.25s\tremaining: 208ms\n",
      "94:\tlearn: 2104.1282194\ttotal: 3.28s\tremaining: 173ms\n",
      "95:\tlearn: 2099.6664099\ttotal: 3.32s\tremaining: 138ms\n",
      "96:\tlearn: 2095.3354650\ttotal: 3.35s\tremaining: 104ms\n",
      "97:\tlearn: 2091.4177645\ttotal: 3.39s\tremaining: 69.1ms\n",
      "98:\tlearn: 2087.7631254\ttotal: 3.42s\tremaining: 34.5ms\n",
      "99:\tlearn: 2084.2095763\ttotal: 3.46s\tremaining: 0us\n",
      "0:\tlearn: 4315.7751895\ttotal: 55.3ms\tremaining: 5.47s\n",
      "1:\tlearn: 4057.7724597\ttotal: 90.4ms\tremaining: 4.43s\n",
      "2:\tlearn: 3832.0586004\ttotal: 128ms\tremaining: 4.15s\n",
      "3:\tlearn: 3629.2215032\ttotal: 167ms\tremaining: 4.01s\n",
      "4:\tlearn: 3452.2334334\ttotal: 200ms\tremaining: 3.81s\n",
      "5:\tlearn: 3294.4642154\ttotal: 234ms\tremaining: 3.66s\n",
      "6:\tlearn: 3155.6930194\ttotal: 265ms\tremaining: 3.51s\n",
      "7:\tlearn: 3038.1901841\ttotal: 296ms\tremaining: 3.41s\n",
      "8:\tlearn: 2930.4410666\ttotal: 330ms\tremaining: 3.34s\n",
      "9:\tlearn: 2835.1043407\ttotal: 362ms\tremaining: 3.26s\n",
      "10:\tlearn: 2746.0330819\ttotal: 395ms\tremaining: 3.19s\n",
      "11:\tlearn: 2667.6452352\ttotal: 425ms\tremaining: 3.12s\n",
      "12:\tlearn: 2597.5764159\ttotal: 455ms\tremaining: 3.05s\n",
      "13:\tlearn: 2536.8474548\ttotal: 486ms\tremaining: 2.99s\n",
      "14:\tlearn: 2484.4606246\ttotal: 520ms\tremaining: 2.95s\n",
      "15:\tlearn: 2435.4211414\ttotal: 552ms\tremaining: 2.9s\n",
      "16:\tlearn: 2392.3136253\ttotal: 589ms\tremaining: 2.88s\n",
      "17:\tlearn: 2352.4972327\ttotal: 627ms\tremaining: 2.85s\n",
      "18:\tlearn: 2317.2526608\ttotal: 663ms\tremaining: 2.83s\n",
      "19:\tlearn: 2282.7605664\ttotal: 702ms\tremaining: 2.81s\n",
      "20:\tlearn: 2250.8976524\ttotal: 734ms\tremaining: 2.76s\n",
      "21:\tlearn: 2223.5323524\ttotal: 768ms\tremaining: 2.72s\n",
      "22:\tlearn: 2197.9211406\ttotal: 803ms\tremaining: 2.69s\n",
      "23:\tlearn: 2175.1108323\ttotal: 838ms\tremaining: 2.65s\n",
      "24:\tlearn: 2154.3900606\ttotal: 873ms\tremaining: 2.62s\n",
      "25:\tlearn: 2135.9893103\ttotal: 909ms\tremaining: 2.59s\n",
      "26:\tlearn: 2120.7255148\ttotal: 945ms\tremaining: 2.55s\n",
      "27:\tlearn: 2106.3779527\ttotal: 986ms\tremaining: 2.53s\n",
      "28:\tlearn: 2093.2812950\ttotal: 1.02s\tremaining: 2.49s\n",
      "29:\tlearn: 2082.0801873\ttotal: 1.05s\tremaining: 2.46s\n",
      "30:\tlearn: 2070.8606804\ttotal: 1.09s\tremaining: 2.42s\n",
      "31:\tlearn: 2060.4444653\ttotal: 1.12s\tremaining: 2.38s\n",
      "32:\tlearn: 2049.3559635\ttotal: 1.15s\tremaining: 2.34s\n",
      "33:\tlearn: 2041.8613043\ttotal: 1.19s\tremaining: 2.31s\n",
      "34:\tlearn: 2032.8688919\ttotal: 1.22s\tremaining: 2.27s\n",
      "35:\tlearn: 2025.2295198\ttotal: 1.26s\tremaining: 2.23s\n",
      "36:\tlearn: 2017.7308679\ttotal: 1.29s\tremaining: 2.19s\n",
      "37:\tlearn: 2009.9031812\ttotal: 1.32s\tremaining: 2.16s\n",
      "38:\tlearn: 2003.0653503\ttotal: 1.36s\tremaining: 2.12s\n",
      "39:\tlearn: 1997.8032546\ttotal: 1.39s\tremaining: 2.09s\n",
      "40:\tlearn: 1991.1277297\ttotal: 1.43s\tremaining: 2.06s\n",
      "41:\tlearn: 1986.7135747\ttotal: 1.46s\tremaining: 2.02s\n",
      "42:\tlearn: 1981.4295218\ttotal: 1.5s\tremaining: 1.99s\n",
      "43:\tlearn: 1973.9341455\ttotal: 1.55s\tremaining: 1.97s\n",
      "44:\tlearn: 1967.9613384\ttotal: 1.6s\tremaining: 1.95s\n",
      "45:\tlearn: 1962.4470441\ttotal: 1.63s\tremaining: 1.92s\n",
      "46:\tlearn: 1958.8231061\ttotal: 1.67s\tremaining: 1.89s\n",
      "47:\tlearn: 1955.1368829\ttotal: 1.71s\tremaining: 1.85s\n",
      "48:\tlearn: 1951.0085567\ttotal: 1.74s\tremaining: 1.81s\n",
      "49:\tlearn: 1947.6333007\ttotal: 1.78s\tremaining: 1.78s\n",
      "50:\tlearn: 1944.1749047\ttotal: 1.81s\tremaining: 1.74s\n",
      "51:\tlearn: 1939.2829870\ttotal: 1.85s\tremaining: 1.71s\n",
      "52:\tlearn: 1935.6273657\ttotal: 1.89s\tremaining: 1.68s\n",
      "53:\tlearn: 1932.0493808\ttotal: 1.93s\tremaining: 1.65s\n",
      "54:\tlearn: 1929.4626571\ttotal: 1.97s\tremaining: 1.61s\n",
      "55:\tlearn: 1926.3850260\ttotal: 2s\tremaining: 1.57s\n",
      "56:\tlearn: 1923.2850335\ttotal: 2.04s\tremaining: 1.54s\n",
      "57:\tlearn: 1920.0894384\ttotal: 2.07s\tremaining: 1.5s\n",
      "58:\tlearn: 1916.9973455\ttotal: 2.1s\tremaining: 1.46s\n",
      "59:\tlearn: 1913.3756461\ttotal: 2.14s\tremaining: 1.43s\n",
      "60:\tlearn: 1911.1677703\ttotal: 2.17s\tremaining: 1.39s\n",
      "61:\tlearn: 1908.5647469\ttotal: 2.21s\tremaining: 1.35s\n",
      "62:\tlearn: 1905.9726535\ttotal: 2.24s\tremaining: 1.31s\n",
      "63:\tlearn: 1903.0201504\ttotal: 2.27s\tremaining: 1.28s\n",
      "64:\tlearn: 1901.1120957\ttotal: 2.31s\tremaining: 1.24s\n",
      "65:\tlearn: 1898.5322348\ttotal: 2.34s\tremaining: 1.21s\n",
      "66:\tlearn: 1895.9534830\ttotal: 2.38s\tremaining: 1.17s\n",
      "67:\tlearn: 1893.0551261\ttotal: 2.41s\tremaining: 1.13s\n",
      "68:\tlearn: 1890.1577658\ttotal: 2.44s\tremaining: 1.1s\n",
      "69:\tlearn: 1887.6412365\ttotal: 2.48s\tremaining: 1.06s\n",
      "70:\tlearn: 1886.0414648\ttotal: 2.51s\tremaining: 1.03s\n",
      "71:\tlearn: 1884.4114819\ttotal: 2.55s\tremaining: 991ms\n",
      "72:\tlearn: 1882.5787877\ttotal: 2.58s\tremaining: 955ms\n",
      "73:\tlearn: 1880.4401826\ttotal: 2.62s\tremaining: 919ms\n",
      "74:\tlearn: 1878.3432494\ttotal: 2.65s\tremaining: 884ms\n",
      "75:\tlearn: 1875.3983062\ttotal: 2.69s\tremaining: 848ms\n",
      "76:\tlearn: 1871.3334210\ttotal: 2.72s\tremaining: 812ms\n",
      "77:\tlearn: 1868.7702828\ttotal: 2.75s\tremaining: 776ms\n",
      "78:\tlearn: 1864.8809934\ttotal: 2.79s\tremaining: 741ms\n",
      "79:\tlearn: 1863.2307269\ttotal: 2.82s\tremaining: 705ms\n",
      "80:\tlearn: 1860.0516589\ttotal: 2.85s\tremaining: 669ms\n",
      "81:\tlearn: 1858.1770861\ttotal: 2.89s\tremaining: 634ms\n",
      "82:\tlearn: 1855.0629746\ttotal: 2.92s\tremaining: 598ms\n",
      "83:\tlearn: 1852.8510159\ttotal: 2.95s\tremaining: 563ms\n",
      "84:\tlearn: 1851.8740504\ttotal: 2.99s\tremaining: 527ms\n",
      "85:\tlearn: 1850.3987681\ttotal: 3.02s\tremaining: 492ms\n",
      "86:\tlearn: 1848.6069439\ttotal: 3.06s\tremaining: 457ms\n",
      "87:\tlearn: 1847.0220774\ttotal: 3.09s\tremaining: 421ms\n",
      "88:\tlearn: 1844.5389054\ttotal: 3.12s\tremaining: 386ms\n",
      "89:\tlearn: 1842.9981808\ttotal: 3.15s\tremaining: 351ms\n",
      "90:\tlearn: 1841.5561409\ttotal: 3.19s\tremaining: 315ms\n",
      "91:\tlearn: 1840.1057277\ttotal: 3.22s\tremaining: 280ms\n",
      "92:\tlearn: 1836.7802528\ttotal: 3.26s\tremaining: 245ms\n",
      "93:\tlearn: 1835.1838670\ttotal: 3.3s\tremaining: 210ms\n",
      "94:\tlearn: 1834.1957309\ttotal: 3.34s\tremaining: 176ms\n",
      "95:\tlearn: 1832.1015756\ttotal: 3.37s\tremaining: 141ms\n",
      "96:\tlearn: 1830.8338158\ttotal: 3.4s\tremaining: 105ms\n",
      "97:\tlearn: 1828.3632183\ttotal: 3.44s\tremaining: 70.3ms\n",
      "98:\tlearn: 1827.3581151\ttotal: 3.48s\tremaining: 35.1ms\n",
      "99:\tlearn: 1825.8479809\ttotal: 3.51s\tremaining: 0us\n",
      "0:\tlearn: 4314.8492658\ttotal: 38.4ms\tremaining: 3.8s\n",
      "1:\tlearn: 4056.3176414\ttotal: 73.5ms\tremaining: 3.6s\n",
      "2:\tlearn: 3835.7174136\ttotal: 113ms\tremaining: 3.67s\n",
      "3:\tlearn: 3633.9570812\ttotal: 153ms\tremaining: 3.67s\n",
      "4:\tlearn: 3452.7005826\ttotal: 188ms\tremaining: 3.57s\n",
      "5:\tlearn: 3295.0688571\ttotal: 221ms\tremaining: 3.46s\n",
      "6:\tlearn: 3164.2054676\ttotal: 253ms\tremaining: 3.36s\n",
      "7:\tlearn: 3051.6946624\ttotal: 285ms\tremaining: 3.28s\n",
      "8:\tlearn: 2946.3438899\ttotal: 319ms\tremaining: 3.23s\n",
      "9:\tlearn: 2853.9665873\ttotal: 352ms\tremaining: 3.17s\n",
      "10:\tlearn: 2777.5027041\ttotal: 386ms\tremaining: 3.12s\n",
      "11:\tlearn: 2692.8561843\ttotal: 419ms\tremaining: 3.07s\n",
      "12:\tlearn: 2621.4200584\ttotal: 455ms\tremaining: 3.04s\n",
      "13:\tlearn: 2556.4112112\ttotal: 493ms\tremaining: 3.03s\n",
      "14:\tlearn: 2500.3640864\ttotal: 534ms\tremaining: 3.03s\n",
      "15:\tlearn: 2447.2482648\ttotal: 571ms\tremaining: 3s\n",
      "16:\tlearn: 2404.0689821\ttotal: 610ms\tremaining: 2.98s\n",
      "17:\tlearn: 2366.7363095\ttotal: 643ms\tremaining: 2.93s\n",
      "18:\tlearn: 2332.9254758\ttotal: 677ms\tremaining: 2.88s\n",
      "19:\tlearn: 2299.7617672\ttotal: 712ms\tremaining: 2.85s\n",
      "20:\tlearn: 2266.1536916\ttotal: 744ms\tremaining: 2.8s\n",
      "21:\tlearn: 2238.9340797\ttotal: 776ms\tremaining: 2.75s\n",
      "22:\tlearn: 2215.5228211\ttotal: 809ms\tremaining: 2.71s\n",
      "23:\tlearn: 2190.5483950\ttotal: 841ms\tremaining: 2.66s\n",
      "24:\tlearn: 2168.1154208\ttotal: 874ms\tremaining: 2.62s\n",
      "25:\tlearn: 2147.6840118\ttotal: 912ms\tremaining: 2.59s\n",
      "26:\tlearn: 2130.2694507\ttotal: 948ms\tremaining: 2.56s\n",
      "27:\tlearn: 2114.2359791\ttotal: 984ms\tremaining: 2.53s\n",
      "28:\tlearn: 2102.7425342\ttotal: 1.02s\tremaining: 2.49s\n",
      "29:\tlearn: 2090.8939562\ttotal: 1.05s\tremaining: 2.45s\n",
      "30:\tlearn: 2080.0032160\ttotal: 1.09s\tremaining: 2.42s\n",
      "31:\tlearn: 2071.3365457\ttotal: 1.12s\tremaining: 2.38s\n",
      "32:\tlearn: 2061.8816767\ttotal: 1.15s\tremaining: 2.34s\n",
      "33:\tlearn: 2052.6583958\ttotal: 1.19s\tremaining: 2.3s\n",
      "34:\tlearn: 2043.9070413\ttotal: 1.22s\tremaining: 2.26s\n",
      "35:\tlearn: 2036.9553148\ttotal: 1.25s\tremaining: 2.23s\n",
      "36:\tlearn: 2029.0882334\ttotal: 1.29s\tremaining: 2.19s\n",
      "37:\tlearn: 2021.4900791\ttotal: 1.32s\tremaining: 2.15s\n",
      "38:\tlearn: 2015.1350079\ttotal: 1.35s\tremaining: 2.12s\n",
      "39:\tlearn: 2007.5553503\ttotal: 1.39s\tremaining: 2.08s\n",
      "40:\tlearn: 2001.2794602\ttotal: 1.42s\tremaining: 2.05s\n",
      "41:\tlearn: 1994.1840000\ttotal: 1.46s\tremaining: 2.02s\n",
      "42:\tlearn: 1988.0327000\ttotal: 1.49s\tremaining: 1.98s\n",
      "43:\tlearn: 1983.4049214\ttotal: 1.53s\tremaining: 1.95s\n",
      "44:\tlearn: 1977.3511930\ttotal: 1.56s\tremaining: 1.91s\n",
      "45:\tlearn: 1973.2457705\ttotal: 1.6s\tremaining: 1.88s\n",
      "46:\tlearn: 1968.2312611\ttotal: 1.63s\tremaining: 1.84s\n",
      "47:\tlearn: 1964.0564914\ttotal: 1.66s\tremaining: 1.8s\n",
      "48:\tlearn: 1959.4533417\ttotal: 1.7s\tremaining: 1.77s\n",
      "49:\tlearn: 1956.2327088\ttotal: 1.74s\tremaining: 1.74s\n",
      "50:\tlearn: 1952.8722801\ttotal: 1.77s\tremaining: 1.7s\n",
      "51:\tlearn: 1950.2844612\ttotal: 1.8s\tremaining: 1.67s\n",
      "52:\tlearn: 1947.1785423\ttotal: 1.84s\tremaining: 1.63s\n",
      "53:\tlearn: 1944.0418512\ttotal: 1.87s\tremaining: 1.59s\n",
      "54:\tlearn: 1939.6714400\ttotal: 1.91s\tremaining: 1.56s\n",
      "55:\tlearn: 1936.6964284\ttotal: 1.94s\tremaining: 1.52s\n",
      "56:\tlearn: 1932.8990163\ttotal: 1.98s\tremaining: 1.49s\n",
      "57:\tlearn: 1930.0150990\ttotal: 2.01s\tremaining: 1.46s\n",
      "58:\tlearn: 1926.0113311\ttotal: 2.04s\tremaining: 1.42s\n",
      "59:\tlearn: 1923.9562837\ttotal: 2.08s\tremaining: 1.38s\n",
      "60:\tlearn: 1921.2498591\ttotal: 2.11s\tremaining: 1.35s\n",
      "61:\tlearn: 1918.2101986\ttotal: 2.14s\tremaining: 1.31s\n",
      "62:\tlearn: 1916.4957341\ttotal: 2.18s\tremaining: 1.28s\n",
      "63:\tlearn: 1914.4871704\ttotal: 2.21s\tremaining: 1.24s\n",
      "64:\tlearn: 1910.7116949\ttotal: 2.24s\tremaining: 1.21s\n",
      "65:\tlearn: 1907.7784057\ttotal: 2.28s\tremaining: 1.17s\n",
      "66:\tlearn: 1905.3289846\ttotal: 2.31s\tremaining: 1.14s\n",
      "67:\tlearn: 1903.9865476\ttotal: 2.35s\tremaining: 1.1s\n",
      "68:\tlearn: 1902.2888207\ttotal: 2.38s\tremaining: 1.07s\n",
      "69:\tlearn: 1900.8963748\ttotal: 2.42s\tremaining: 1.03s\n",
      "70:\tlearn: 1898.9009746\ttotal: 2.45s\tremaining: 1s\n",
      "71:\tlearn: 1897.0889551\ttotal: 2.49s\tremaining: 967ms\n",
      "72:\tlearn: 1895.3762015\ttotal: 2.52s\tremaining: 933ms\n",
      "73:\tlearn: 1892.9628433\ttotal: 2.56s\tremaining: 898ms\n",
      "74:\tlearn: 1891.7076830\ttotal: 2.59s\tremaining: 864ms\n",
      "75:\tlearn: 1889.8872375\ttotal: 2.62s\tremaining: 829ms\n",
      "76:\tlearn: 1887.9178734\ttotal: 2.65s\tremaining: 793ms\n",
      "77:\tlearn: 1886.6860283\ttotal: 2.69s\tremaining: 759ms\n",
      "78:\tlearn: 1883.1987302\ttotal: 2.72s\tremaining: 724ms\n",
      "79:\tlearn: 1880.8057112\ttotal: 2.75s\tremaining: 688ms\n",
      "80:\tlearn: 1875.1431849\ttotal: 2.79s\tremaining: 654ms\n",
      "81:\tlearn: 1872.2988742\ttotal: 2.82s\tremaining: 619ms\n",
      "82:\tlearn: 1869.8073817\ttotal: 2.85s\tremaining: 584ms\n",
      "83:\tlearn: 1868.4560021\ttotal: 2.88s\tremaining: 549ms\n",
      "84:\tlearn: 1864.1520877\ttotal: 2.92s\tremaining: 515ms\n",
      "85:\tlearn: 1862.1381903\ttotal: 2.95s\tremaining: 480ms\n",
      "86:\tlearn: 1860.3818130\ttotal: 2.98s\tremaining: 446ms\n",
      "87:\tlearn: 1859.0875504\ttotal: 3.02s\tremaining: 412ms\n",
      "88:\tlearn: 1856.3023609\ttotal: 3.05s\tremaining: 377ms\n",
      "89:\tlearn: 1853.8484903\ttotal: 3.08s\tremaining: 343ms\n",
      "90:\tlearn: 1850.8032951\ttotal: 3.12s\tremaining: 309ms\n",
      "91:\tlearn: 1849.3375972\ttotal: 3.15s\tremaining: 274ms\n",
      "92:\tlearn: 1847.5257321\ttotal: 3.19s\tremaining: 240ms\n",
      "93:\tlearn: 1845.4984439\ttotal: 3.25s\tremaining: 207ms\n",
      "94:\tlearn: 1843.9791642\ttotal: 3.29s\tremaining: 173ms\n",
      "95:\tlearn: 1842.9662913\ttotal: 3.32s\tremaining: 138ms\n",
      "96:\tlearn: 1841.4818547\ttotal: 3.36s\tremaining: 104ms\n",
      "97:\tlearn: 1839.1740820\ttotal: 3.4s\tremaining: 69.4ms\n",
      "98:\tlearn: 1837.7877186\ttotal: 3.45s\tremaining: 34.9ms\n",
      "99:\tlearn: 1836.0498639\ttotal: 3.51s\tremaining: 0us\n",
      "0:\tlearn: 4303.2195830\ttotal: 42.1ms\tremaining: 4.17s\n",
      "1:\tlearn: 4046.5794032\ttotal: 80ms\tremaining: 3.92s\n",
      "2:\tlearn: 3817.9055479\ttotal: 113ms\tremaining: 3.66s\n",
      "3:\tlearn: 3621.1346391\ttotal: 149ms\tremaining: 3.57s\n",
      "4:\tlearn: 3441.4505139\ttotal: 185ms\tremaining: 3.51s\n",
      "5:\tlearn: 3287.6537965\ttotal: 218ms\tremaining: 3.41s\n",
      "6:\tlearn: 3157.5473853\ttotal: 251ms\tremaining: 3.33s\n",
      "7:\tlearn: 3039.9679311\ttotal: 284ms\tremaining: 3.27s\n",
      "8:\tlearn: 2937.3495569\ttotal: 317ms\tremaining: 3.21s\n",
      "9:\tlearn: 2842.8325116\ttotal: 350ms\tremaining: 3.15s\n",
      "10:\tlearn: 2758.7021359\ttotal: 382ms\tremaining: 3.09s\n",
      "11:\tlearn: 2676.0571653\ttotal: 415ms\tremaining: 3.04s\n",
      "12:\tlearn: 2603.0646741\ttotal: 449ms\tremaining: 3s\n",
      "13:\tlearn: 2541.2338042\ttotal: 497ms\tremaining: 3.06s\n",
      "14:\tlearn: 2487.5084876\ttotal: 530ms\tremaining: 3s\n",
      "15:\tlearn: 2438.7686679\ttotal: 561ms\tremaining: 2.95s\n",
      "16:\tlearn: 2390.2670298\ttotal: 596ms\tremaining: 2.91s\n",
      "17:\tlearn: 2348.4403382\ttotal: 628ms\tremaining: 2.86s\n",
      "18:\tlearn: 2313.6689459\ttotal: 661ms\tremaining: 2.82s\n",
      "19:\tlearn: 2284.9164508\ttotal: 693ms\tremaining: 2.77s\n",
      "20:\tlearn: 2255.0632740\ttotal: 726ms\tremaining: 2.73s\n",
      "21:\tlearn: 2225.2130307\ttotal: 761ms\tremaining: 2.7s\n",
      "22:\tlearn: 2199.5205586\ttotal: 794ms\tremaining: 2.66s\n",
      "23:\tlearn: 2176.5638016\ttotal: 836ms\tremaining: 2.65s\n",
      "24:\tlearn: 2156.7439188\ttotal: 871ms\tremaining: 2.61s\n",
      "25:\tlearn: 2136.3721201\ttotal: 903ms\tremaining: 2.57s\n",
      "26:\tlearn: 2118.1534224\ttotal: 935ms\tremaining: 2.53s\n",
      "27:\tlearn: 2104.8656866\ttotal: 968ms\tremaining: 2.49s\n",
      "28:\tlearn: 2092.0219119\ttotal: 1s\tremaining: 2.45s\n",
      "29:\tlearn: 2078.9533914\ttotal: 1.03s\tremaining: 2.41s\n",
      "30:\tlearn: 2068.8401888\ttotal: 1.06s\tremaining: 2.37s\n",
      "31:\tlearn: 2058.3044070\ttotal: 1.1s\tremaining: 2.33s\n",
      "32:\tlearn: 2049.7097085\ttotal: 1.13s\tremaining: 2.29s\n",
      "33:\tlearn: 2040.6267827\ttotal: 1.16s\tremaining: 2.26s\n",
      "34:\tlearn: 2033.9008613\ttotal: 1.2s\tremaining: 2.22s\n",
      "35:\tlearn: 2025.8995298\ttotal: 1.23s\tremaining: 2.19s\n",
      "36:\tlearn: 2018.7179367\ttotal: 1.26s\tremaining: 2.15s\n",
      "37:\tlearn: 2012.3048547\ttotal: 1.3s\tremaining: 2.12s\n",
      "38:\tlearn: 2007.0881715\ttotal: 1.33s\tremaining: 2.08s\n",
      "39:\tlearn: 2001.4379527\ttotal: 1.37s\tremaining: 2.05s\n",
      "40:\tlearn: 1994.0216779\ttotal: 1.4s\tremaining: 2.01s\n",
      "41:\tlearn: 1988.7340425\ttotal: 1.43s\tremaining: 1.98s\n",
      "42:\tlearn: 1982.2615043\ttotal: 1.47s\tremaining: 1.94s\n",
      "43:\tlearn: 1979.7003987\ttotal: 1.5s\tremaining: 1.91s\n",
      "44:\tlearn: 1972.9208544\ttotal: 1.53s\tremaining: 1.88s\n",
      "45:\tlearn: 1966.7725460\ttotal: 1.57s\tremaining: 1.84s\n",
      "46:\tlearn: 1962.6005344\ttotal: 1.6s\tremaining: 1.81s\n",
      "47:\tlearn: 1958.7090037\ttotal: 1.64s\tremaining: 1.77s\n",
      "48:\tlearn: 1954.1399643\ttotal: 1.67s\tremaining: 1.74s\n",
      "49:\tlearn: 1951.1260037\ttotal: 1.71s\tremaining: 1.71s\n",
      "50:\tlearn: 1948.1102709\ttotal: 1.75s\tremaining: 1.68s\n",
      "51:\tlearn: 1944.9608428\ttotal: 1.79s\tremaining: 1.65s\n",
      "52:\tlearn: 1940.5290232\ttotal: 1.83s\tremaining: 1.62s\n",
      "53:\tlearn: 1937.4829173\ttotal: 1.87s\tremaining: 1.59s\n",
      "54:\tlearn: 1934.7856271\ttotal: 1.9s\tremaining: 1.56s\n",
      "55:\tlearn: 1931.3149988\ttotal: 1.94s\tremaining: 1.52s\n",
      "56:\tlearn: 1927.4300097\ttotal: 1.97s\tremaining: 1.49s\n",
      "57:\tlearn: 1924.3609847\ttotal: 2.01s\tremaining: 1.46s\n",
      "58:\tlearn: 1920.1199971\ttotal: 2.04s\tremaining: 1.42s\n",
      "59:\tlearn: 1917.6576903\ttotal: 2.08s\tremaining: 1.39s\n",
      "60:\tlearn: 1914.0510467\ttotal: 2.11s\tremaining: 1.35s\n",
      "61:\tlearn: 1911.8683392\ttotal: 2.15s\tremaining: 1.32s\n",
      "62:\tlearn: 1906.4237204\ttotal: 2.19s\tremaining: 1.28s\n",
      "63:\tlearn: 1903.3594936\ttotal: 2.22s\tremaining: 1.25s\n",
      "64:\tlearn: 1900.5600435\ttotal: 2.25s\tremaining: 1.21s\n",
      "65:\tlearn: 1897.1524616\ttotal: 2.29s\tremaining: 1.18s\n",
      "66:\tlearn: 1893.9569415\ttotal: 2.32s\tremaining: 1.14s\n",
      "67:\tlearn: 1890.9267930\ttotal: 2.36s\tremaining: 1.11s\n",
      "68:\tlearn: 1888.0045472\ttotal: 2.39s\tremaining: 1.07s\n",
      "69:\tlearn: 1885.9159427\ttotal: 2.42s\tremaining: 1.04s\n",
      "70:\tlearn: 1884.0279369\ttotal: 2.46s\tremaining: 1s\n",
      "71:\tlearn: 1880.7841981\ttotal: 2.49s\tremaining: 969ms\n",
      "72:\tlearn: 1878.4019816\ttotal: 2.52s\tremaining: 934ms\n",
      "73:\tlearn: 1875.9057555\ttotal: 2.56s\tremaining: 898ms\n",
      "74:\tlearn: 1872.8773960\ttotal: 2.59s\tremaining: 863ms\n",
      "75:\tlearn: 1871.1168221\ttotal: 2.62s\tremaining: 829ms\n",
      "76:\tlearn: 1869.0318917\ttotal: 2.66s\tremaining: 793ms\n",
      "77:\tlearn: 1865.8865156\ttotal: 2.69s\tremaining: 758ms\n",
      "78:\tlearn: 1864.7434914\ttotal: 2.72s\tremaining: 723ms\n",
      "79:\tlearn: 1863.6446403\ttotal: 2.75s\tremaining: 688ms\n",
      "80:\tlearn: 1862.3993542\ttotal: 2.79s\tremaining: 654ms\n",
      "81:\tlearn: 1860.2198426\ttotal: 2.82s\tremaining: 620ms\n",
      "82:\tlearn: 1857.3611878\ttotal: 2.86s\tremaining: 585ms\n",
      "83:\tlearn: 1856.0997970\ttotal: 2.89s\tremaining: 550ms\n",
      "84:\tlearn: 1853.7677482\ttotal: 2.92s\tremaining: 515ms\n",
      "85:\tlearn: 1850.6880507\ttotal: 2.95s\tremaining: 481ms\n",
      "86:\tlearn: 1848.8200832\ttotal: 2.99s\tremaining: 447ms\n",
      "87:\tlearn: 1846.6111047\ttotal: 3.03s\tremaining: 413ms\n",
      "88:\tlearn: 1845.4413784\ttotal: 3.07s\tremaining: 379ms\n",
      "89:\tlearn: 1842.2412464\ttotal: 3.1s\tremaining: 345ms\n",
      "90:\tlearn: 1840.8526796\ttotal: 3.14s\tremaining: 310ms\n",
      "91:\tlearn: 1839.4171258\ttotal: 3.17s\tremaining: 276ms\n",
      "92:\tlearn: 1838.2543392\ttotal: 3.23s\tremaining: 243ms\n",
      "93:\tlearn: 1836.1957915\ttotal: 3.27s\tremaining: 209ms\n",
      "94:\tlearn: 1834.0332180\ttotal: 3.3s\tremaining: 174ms\n",
      "95:\tlearn: 1832.6280846\ttotal: 3.33s\tremaining: 139ms\n",
      "96:\tlearn: 1831.6825485\ttotal: 3.37s\tremaining: 104ms\n",
      "97:\tlearn: 1829.6043588\ttotal: 3.4s\tremaining: 69.4ms\n",
      "98:\tlearn: 1828.4556568\ttotal: 3.44s\tremaining: 34.7ms\n",
      "99:\tlearn: 1826.7354499\ttotal: 3.47s\tremaining: 0us\n",
      "0:\tlearn: 4305.9627856\ttotal: 50.4ms\tremaining: 4.99s\n",
      "1:\tlearn: 4053.1447178\ttotal: 91.3ms\tremaining: 4.48s\n",
      "2:\tlearn: 3827.0902676\ttotal: 130ms\tremaining: 4.19s\n",
      "3:\tlearn: 3623.2423733\ttotal: 163ms\tremaining: 3.9s\n",
      "4:\tlearn: 3443.5869869\ttotal: 195ms\tremaining: 3.7s\n",
      "5:\tlearn: 3291.2620066\ttotal: 227ms\tremaining: 3.55s\n",
      "6:\tlearn: 3159.0805541\ttotal: 258ms\tremaining: 3.43s\n",
      "7:\tlearn: 3039.5448099\ttotal: 289ms\tremaining: 3.33s\n",
      "8:\tlearn: 2927.6642007\ttotal: 324ms\tremaining: 3.28s\n",
      "9:\tlearn: 2835.9931643\ttotal: 356ms\tremaining: 3.2s\n",
      "10:\tlearn: 2750.5591447\ttotal: 389ms\tremaining: 3.14s\n",
      "11:\tlearn: 2673.1767587\ttotal: 420ms\tremaining: 3.08s\n",
      "12:\tlearn: 2599.7742691\ttotal: 471ms\tremaining: 3.15s\n",
      "13:\tlearn: 2537.5967853\ttotal: 515ms\tremaining: 3.16s\n",
      "14:\tlearn: 2483.5264940\ttotal: 548ms\tremaining: 3.11s\n",
      "15:\tlearn: 2433.2378819\ttotal: 581ms\tremaining: 3.05s\n",
      "16:\tlearn: 2390.7809187\ttotal: 616ms\tremaining: 3.01s\n",
      "17:\tlearn: 2352.4817303\ttotal: 649ms\tremaining: 2.95s\n",
      "18:\tlearn: 2318.7788055\ttotal: 682ms\tremaining: 2.91s\n",
      "19:\tlearn: 2286.9493330\ttotal: 718ms\tremaining: 2.87s\n",
      "20:\tlearn: 2258.5114685\ttotal: 753ms\tremaining: 2.83s\n",
      "21:\tlearn: 2230.5726414\ttotal: 788ms\tremaining: 2.79s\n",
      "22:\tlearn: 2206.6913898\ttotal: 822ms\tremaining: 2.75s\n",
      "23:\tlearn: 2180.9298960\ttotal: 855ms\tremaining: 2.71s\n",
      "24:\tlearn: 2161.5089307\ttotal: 893ms\tremaining: 2.68s\n",
      "25:\tlearn: 2143.5934392\ttotal: 925ms\tremaining: 2.63s\n",
      "26:\tlearn: 2126.9093672\ttotal: 956ms\tremaining: 2.58s\n",
      "27:\tlearn: 2111.9688784\ttotal: 993ms\tremaining: 2.55s\n",
      "28:\tlearn: 2098.2545990\ttotal: 1.03s\tremaining: 2.52s\n",
      "29:\tlearn: 2085.1557610\ttotal: 1.06s\tremaining: 2.47s\n",
      "30:\tlearn: 2073.2684254\ttotal: 1.09s\tremaining: 2.43s\n",
      "31:\tlearn: 2062.7551138\ttotal: 1.12s\tremaining: 2.39s\n",
      "32:\tlearn: 2052.7358838\ttotal: 1.16s\tremaining: 2.35s\n",
      "33:\tlearn: 2041.3715891\ttotal: 1.2s\tremaining: 2.32s\n",
      "34:\tlearn: 2032.7032705\ttotal: 1.24s\tremaining: 2.31s\n",
      "35:\tlearn: 2026.4923247\ttotal: 1.27s\tremaining: 2.27s\n",
      "36:\tlearn: 2018.8381991\ttotal: 1.31s\tremaining: 2.23s\n",
      "37:\tlearn: 2012.6006598\ttotal: 1.34s\tremaining: 2.19s\n",
      "38:\tlearn: 2005.6619548\ttotal: 1.4s\tremaining: 2.19s\n",
      "39:\tlearn: 1998.9942205\ttotal: 1.43s\tremaining: 2.15s\n",
      "40:\tlearn: 1993.5098621\ttotal: 1.47s\tremaining: 2.11s\n",
      "41:\tlearn: 1988.6349824\ttotal: 1.5s\tremaining: 2.07s\n",
      "42:\tlearn: 1981.9068650\ttotal: 1.53s\tremaining: 2.03s\n",
      "43:\tlearn: 1976.6034982\ttotal: 1.57s\tremaining: 1.99s\n",
      "44:\tlearn: 1972.2926723\ttotal: 1.6s\tremaining: 1.96s\n",
      "45:\tlearn: 1968.2229456\ttotal: 1.63s\tremaining: 1.92s\n",
      "46:\tlearn: 1964.9798270\ttotal: 1.67s\tremaining: 1.88s\n",
      "47:\tlearn: 1960.0935470\ttotal: 1.7s\tremaining: 1.84s\n",
      "48:\tlearn: 1956.6925165\ttotal: 1.74s\tremaining: 1.81s\n",
      "49:\tlearn: 1953.4546699\ttotal: 1.77s\tremaining: 1.77s\n",
      "50:\tlearn: 1950.5017777\ttotal: 1.8s\tremaining: 1.73s\n",
      "51:\tlearn: 1946.4621366\ttotal: 1.84s\tremaining: 1.7s\n",
      "52:\tlearn: 1943.6369592\ttotal: 1.87s\tremaining: 1.66s\n",
      "53:\tlearn: 1939.5500852\ttotal: 1.91s\tremaining: 1.62s\n",
      "54:\tlearn: 1935.0035174\ttotal: 1.94s\tremaining: 1.59s\n",
      "55:\tlearn: 1932.1208254\ttotal: 1.98s\tremaining: 1.55s\n",
      "56:\tlearn: 1927.6436355\ttotal: 2.02s\tremaining: 1.52s\n",
      "57:\tlearn: 1925.0902319\ttotal: 2.06s\tremaining: 1.49s\n",
      "58:\tlearn: 1922.3232701\ttotal: 2.09s\tremaining: 1.46s\n",
      "59:\tlearn: 1919.2256162\ttotal: 2.13s\tremaining: 1.42s\n",
      "60:\tlearn: 1914.4822276\ttotal: 2.16s\tremaining: 1.38s\n",
      "61:\tlearn: 1910.8539812\ttotal: 2.19s\tremaining: 1.34s\n",
      "62:\tlearn: 1908.4176003\ttotal: 2.23s\tremaining: 1.31s\n",
      "63:\tlearn: 1904.7938347\ttotal: 2.26s\tremaining: 1.27s\n",
      "64:\tlearn: 1900.6939496\ttotal: 2.29s\tremaining: 1.24s\n",
      "65:\tlearn: 1898.6684194\ttotal: 2.34s\tremaining: 1.21s\n",
      "66:\tlearn: 1895.4406591\ttotal: 2.38s\tremaining: 1.17s\n",
      "67:\tlearn: 1893.2358569\ttotal: 2.42s\tremaining: 1.14s\n",
      "68:\tlearn: 1890.7014749\ttotal: 2.45s\tremaining: 1.1s\n",
      "69:\tlearn: 1884.6023955\ttotal: 2.49s\tremaining: 1.07s\n",
      "70:\tlearn: 1879.3094633\ttotal: 2.52s\tremaining: 1.03s\n",
      "71:\tlearn: 1875.2585786\ttotal: 2.55s\tremaining: 993ms\n",
      "72:\tlearn: 1872.9399135\ttotal: 2.59s\tremaining: 957ms\n",
      "73:\tlearn: 1870.0539181\ttotal: 2.62s\tremaining: 921ms\n",
      "74:\tlearn: 1868.4734811\ttotal: 2.65s\tremaining: 885ms\n",
      "75:\tlearn: 1866.3172768\ttotal: 2.69s\tremaining: 849ms\n",
      "76:\tlearn: 1863.7591826\ttotal: 2.72s\tremaining: 813ms\n",
      "77:\tlearn: 1862.7386343\ttotal: 2.76s\tremaining: 777ms\n",
      "78:\tlearn: 1860.5905757\ttotal: 2.79s\tremaining: 741ms\n",
      "79:\tlearn: 1858.5228044\ttotal: 2.82s\tremaining: 705ms\n",
      "80:\tlearn: 1856.5924024\ttotal: 2.85s\tremaining: 670ms\n",
      "81:\tlearn: 1855.3734514\ttotal: 2.89s\tremaining: 634ms\n",
      "82:\tlearn: 1853.6242077\ttotal: 2.93s\tremaining: 600ms\n",
      "83:\tlearn: 1852.4152084\ttotal: 2.96s\tremaining: 564ms\n",
      "84:\tlearn: 1850.7617422\ttotal: 3s\tremaining: 529ms\n",
      "85:\tlearn: 1848.1693649\ttotal: 3.03s\tremaining: 493ms\n",
      "86:\tlearn: 1846.1063944\ttotal: 3.06s\tremaining: 458ms\n",
      "87:\tlearn: 1844.4957939\ttotal: 3.1s\tremaining: 422ms\n",
      "88:\tlearn: 1842.3968655\ttotal: 3.13s\tremaining: 387ms\n",
      "89:\tlearn: 1841.2101962\ttotal: 3.16s\tremaining: 351ms\n",
      "90:\tlearn: 1839.1408140\ttotal: 3.21s\tremaining: 317ms\n",
      "91:\tlearn: 1837.5905951\ttotal: 3.24s\tremaining: 282ms\n",
      "92:\tlearn: 1836.5629709\ttotal: 3.27s\tremaining: 246ms\n",
      "93:\tlearn: 1834.3281991\ttotal: 3.31s\tremaining: 211ms\n",
      "94:\tlearn: 1833.5182989\ttotal: 3.34s\tremaining: 176ms\n",
      "95:\tlearn: 1831.3320022\ttotal: 3.37s\tremaining: 141ms\n",
      "96:\tlearn: 1830.4734445\ttotal: 3.41s\tremaining: 105ms\n",
      "97:\tlearn: 1828.9942085\ttotal: 3.44s\tremaining: 70.2ms\n",
      "98:\tlearn: 1828.0031604\ttotal: 3.48s\tremaining: 35.1ms\n",
      "99:\tlearn: 1825.8459443\ttotal: 3.51s\tremaining: 0us\n",
      "0:\tlearn: 4297.5434948\ttotal: 57.8ms\tremaining: 5.72s\n",
      "1:\tlearn: 4048.3853249\ttotal: 121ms\tremaining: 5.94s\n",
      "2:\tlearn: 3822.3937289\ttotal: 153ms\tremaining: 4.95s\n",
      "3:\tlearn: 3618.0345617\ttotal: 192ms\tremaining: 4.61s\n",
      "4:\tlearn: 3435.9202988\ttotal: 236ms\tremaining: 4.48s\n",
      "5:\tlearn: 3280.7983186\ttotal: 285ms\tremaining: 4.46s\n",
      "6:\tlearn: 3142.8524664\ttotal: 331ms\tremaining: 4.4s\n",
      "7:\tlearn: 3023.9576814\ttotal: 373ms\tremaining: 4.29s\n",
      "8:\tlearn: 2923.0969094\ttotal: 416ms\tremaining: 4.2s\n",
      "9:\tlearn: 2832.8860885\ttotal: 469ms\tremaining: 4.22s\n",
      "10:\tlearn: 2741.3591190\ttotal: 533ms\tremaining: 4.31s\n",
      "11:\tlearn: 2667.5504846\ttotal: 592ms\tremaining: 4.34s\n",
      "12:\tlearn: 2594.8921562\ttotal: 636ms\tremaining: 4.25s\n",
      "13:\tlearn: 2533.7428426\ttotal: 670ms\tremaining: 4.11s\n",
      "14:\tlearn: 2482.1094832\ttotal: 705ms\tremaining: 3.99s\n",
      "15:\tlearn: 2433.1920796\ttotal: 738ms\tremaining: 3.87s\n",
      "16:\tlearn: 2393.4757460\ttotal: 770ms\tremaining: 3.76s\n",
      "17:\tlearn: 2352.6048472\ttotal: 805ms\tremaining: 3.67s\n",
      "18:\tlearn: 2319.7569158\ttotal: 837ms\tremaining: 3.57s\n",
      "19:\tlearn: 2288.2058991\ttotal: 869ms\tremaining: 3.48s\n",
      "20:\tlearn: 2254.9215307\ttotal: 904ms\tremaining: 3.4s\n",
      "21:\tlearn: 2225.0369887\ttotal: 937ms\tremaining: 3.32s\n",
      "22:\tlearn: 2200.3232132\ttotal: 969ms\tremaining: 3.24s\n",
      "23:\tlearn: 2176.0528659\ttotal: 1s\tremaining: 3.18s\n",
      "24:\tlearn: 2156.7894436\ttotal: 1.04s\tremaining: 3.11s\n",
      "25:\tlearn: 2139.5715045\ttotal: 1.07s\tremaining: 3.04s\n",
      "26:\tlearn: 2122.9877350\ttotal: 1.1s\tremaining: 2.98s\n",
      "27:\tlearn: 2105.3375567\ttotal: 1.13s\tremaining: 2.92s\n",
      "28:\tlearn: 2089.7342475\ttotal: 1.17s\tremaining: 2.86s\n",
      "29:\tlearn: 2077.2627520\ttotal: 1.2s\tremaining: 2.8s\n",
      "30:\tlearn: 2066.6231551\ttotal: 1.23s\tremaining: 2.75s\n",
      "31:\tlearn: 2054.1392523\ttotal: 1.26s\tremaining: 2.69s\n",
      "32:\tlearn: 2044.4104961\ttotal: 1.3s\tremaining: 2.63s\n",
      "33:\tlearn: 2034.5302626\ttotal: 1.33s\tremaining: 2.58s\n",
      "34:\tlearn: 2027.2903667\ttotal: 1.36s\tremaining: 2.53s\n",
      "35:\tlearn: 2018.4958444\ttotal: 1.4s\tremaining: 2.49s\n",
      "36:\tlearn: 2010.1548511\ttotal: 1.43s\tremaining: 2.44s\n",
      "37:\tlearn: 2003.7380285\ttotal: 1.46s\tremaining: 2.39s\n",
      "38:\tlearn: 1997.9417452\ttotal: 1.5s\tremaining: 2.34s\n",
      "39:\tlearn: 1991.6424626\ttotal: 1.53s\tremaining: 2.3s\n",
      "40:\tlearn: 1985.2673836\ttotal: 1.57s\tremaining: 2.26s\n",
      "41:\tlearn: 1980.0063315\ttotal: 1.6s\tremaining: 2.21s\n",
      "42:\tlearn: 1974.5087869\ttotal: 1.64s\tremaining: 2.17s\n",
      "43:\tlearn: 1968.5103860\ttotal: 1.67s\tremaining: 2.13s\n",
      "44:\tlearn: 1964.1121929\ttotal: 1.71s\tremaining: 2.08s\n",
      "45:\tlearn: 1958.1267630\ttotal: 1.74s\tremaining: 2.04s\n",
      "46:\tlearn: 1953.2491038\ttotal: 1.77s\tremaining: 2s\n",
      "47:\tlearn: 1949.4733125\ttotal: 1.81s\tremaining: 1.96s\n",
      "48:\tlearn: 1946.3894696\ttotal: 1.85s\tremaining: 1.92s\n",
      "49:\tlearn: 1943.1835236\ttotal: 1.89s\tremaining: 1.89s\n",
      "50:\tlearn: 1940.2790610\ttotal: 1.92s\tremaining: 1.85s\n",
      "51:\tlearn: 1936.9776389\ttotal: 1.96s\tremaining: 1.8s\n",
      "52:\tlearn: 1934.6651707\ttotal: 1.99s\tremaining: 1.76s\n",
      "53:\tlearn: 1931.9189197\ttotal: 2.02s\tremaining: 1.73s\n",
      "54:\tlearn: 1928.4594599\ttotal: 2.06s\tremaining: 1.69s\n",
      "55:\tlearn: 1926.1089140\ttotal: 2.09s\tremaining: 1.65s\n",
      "56:\tlearn: 1923.7518881\ttotal: 2.13s\tremaining: 1.6s\n",
      "57:\tlearn: 1921.3678701\ttotal: 2.16s\tremaining: 1.56s\n",
      "58:\tlearn: 1918.9944439\ttotal: 2.19s\tremaining: 1.52s\n",
      "59:\tlearn: 1915.7335253\ttotal: 2.23s\tremaining: 1.49s\n",
      "60:\tlearn: 1913.2151592\ttotal: 2.27s\tremaining: 1.45s\n",
      "61:\tlearn: 1910.8771300\ttotal: 2.31s\tremaining: 1.41s\n",
      "62:\tlearn: 1908.1820763\ttotal: 2.34s\tremaining: 1.38s\n",
      "63:\tlearn: 1902.6107934\ttotal: 2.38s\tremaining: 1.34s\n",
      "64:\tlearn: 1899.6575998\ttotal: 2.41s\tremaining: 1.3s\n",
      "65:\tlearn: 1897.7642551\ttotal: 2.45s\tremaining: 1.26s\n",
      "66:\tlearn: 1895.2559649\ttotal: 2.48s\tremaining: 1.22s\n",
      "67:\tlearn: 1891.7786434\ttotal: 2.53s\tremaining: 1.19s\n",
      "68:\tlearn: 1889.9214000\ttotal: 2.57s\tremaining: 1.16s\n",
      "69:\tlearn: 1887.2766226\ttotal: 2.63s\tremaining: 1.13s\n",
      "70:\tlearn: 1885.8741526\ttotal: 2.68s\tremaining: 1.09s\n",
      "71:\tlearn: 1884.8965503\ttotal: 2.72s\tremaining: 1.06s\n",
      "72:\tlearn: 1882.3735818\ttotal: 2.75s\tremaining: 1.02s\n",
      "73:\tlearn: 1880.5222940\ttotal: 2.78s\tremaining: 978ms\n",
      "74:\tlearn: 1878.5264749\ttotal: 2.82s\tremaining: 940ms\n",
      "75:\tlearn: 1876.7462674\ttotal: 2.85s\tremaining: 902ms\n",
      "76:\tlearn: 1874.0526239\ttotal: 2.9s\tremaining: 865ms\n",
      "77:\tlearn: 1872.7418807\ttotal: 2.93s\tremaining: 827ms\n",
      "78:\tlearn: 1870.4349495\ttotal: 2.97s\tremaining: 789ms\n",
      "79:\tlearn: 1868.4547522\ttotal: 3s\tremaining: 750ms\n",
      "80:\tlearn: 1867.0719482\ttotal: 3.04s\tremaining: 712ms\n",
      "81:\tlearn: 1864.9679660\ttotal: 3.07s\tremaining: 674ms\n",
      "82:\tlearn: 1863.9606826\ttotal: 3.11s\tremaining: 637ms\n",
      "83:\tlearn: 1862.7486352\ttotal: 3.14s\tremaining: 599ms\n",
      "84:\tlearn: 1860.5827537\ttotal: 3.18s\tremaining: 561ms\n",
      "85:\tlearn: 1859.6104614\ttotal: 3.21s\tremaining: 523ms\n",
      "86:\tlearn: 1856.7362422\ttotal: 3.25s\tremaining: 485ms\n",
      "87:\tlearn: 1855.1142451\ttotal: 3.28s\tremaining: 448ms\n",
      "88:\tlearn: 1853.2334589\ttotal: 3.31s\tremaining: 410ms\n",
      "89:\tlearn: 1850.2776687\ttotal: 3.35s\tremaining: 373ms\n",
      "90:\tlearn: 1847.8913193\ttotal: 3.39s\tremaining: 335ms\n",
      "91:\tlearn: 1846.9828029\ttotal: 3.43s\tremaining: 298ms\n",
      "92:\tlearn: 1845.0050970\ttotal: 3.46s\tremaining: 261ms\n",
      "93:\tlearn: 1843.2609757\ttotal: 3.5s\tremaining: 223ms\n",
      "94:\tlearn: 1841.6974573\ttotal: 3.54s\tremaining: 186ms\n",
      "95:\tlearn: 1840.3595751\ttotal: 3.57s\tremaining: 149ms\n",
      "96:\tlearn: 1839.4854337\ttotal: 3.61s\tremaining: 112ms\n",
      "97:\tlearn: 1835.2327744\ttotal: 3.64s\tremaining: 74.3ms\n",
      "98:\tlearn: 1833.1848646\ttotal: 3.67s\tremaining: 37.1ms\n",
      "99:\tlearn: 1829.6658593\ttotal: 3.7s\tremaining: 0us\n",
      "0:\tlearn: 4508.9069017\ttotal: 66.9ms\tremaining: 602ms\n",
      "1:\tlearn: 4415.9106921\ttotal: 130ms\tremaining: 521ms\n",
      "2:\tlearn: 4326.8184900\ttotal: 188ms\tremaining: 439ms\n",
      "3:\tlearn: 4240.1825971\ttotal: 248ms\tremaining: 372ms\n",
      "4:\tlearn: 4156.5409211\ttotal: 307ms\tremaining: 307ms\n",
      "5:\tlearn: 4075.1884753\ttotal: 386ms\tremaining: 258ms\n",
      "6:\tlearn: 3996.6460850\ttotal: 446ms\tremaining: 191ms\n",
      "7:\tlearn: 3922.8684649\ttotal: 508ms\tremaining: 127ms\n",
      "8:\tlearn: 3851.5124431\ttotal: 566ms\tremaining: 62.9ms\n",
      "9:\tlearn: 3781.7171922\ttotal: 621ms\tremaining: 0us\n",
      "0:\tlearn: 4508.3988160\ttotal: 69.1ms\tremaining: 622ms\n",
      "1:\tlearn: 4415.3818377\ttotal: 141ms\tremaining: 565ms\n",
      "2:\tlearn: 4326.5464508\ttotal: 197ms\tremaining: 459ms\n",
      "3:\tlearn: 4240.9329984\ttotal: 257ms\tremaining: 386ms\n",
      "4:\tlearn: 4157.0246457\ttotal: 312ms\tremaining: 312ms\n",
      "5:\tlearn: 4076.4841902\ttotal: 367ms\tremaining: 244ms\n",
      "6:\tlearn: 3998.7002801\ttotal: 446ms\tremaining: 191ms\n",
      "7:\tlearn: 3921.7179516\ttotal: 517ms\tremaining: 129ms\n",
      "8:\tlearn: 3848.9191312\ttotal: 574ms\tremaining: 63.8ms\n",
      "9:\tlearn: 3779.2116773\ttotal: 631ms\tremaining: 0us\n",
      "0:\tlearn: 4501.0478813\ttotal: 71.6ms\tremaining: 645ms\n",
      "1:\tlearn: 4408.5147026\ttotal: 128ms\tremaining: 514ms\n",
      "2:\tlearn: 4318.9407451\ttotal: 196ms\tremaining: 458ms\n",
      "3:\tlearn: 4231.8027910\ttotal: 276ms\tremaining: 414ms\n",
      "4:\tlearn: 4147.5777959\ttotal: 353ms\tremaining: 353ms\n",
      "5:\tlearn: 4067.8244917\ttotal: 421ms\tremaining: 280ms\n",
      "6:\tlearn: 3990.2219220\ttotal: 477ms\tremaining: 204ms\n",
      "7:\tlearn: 3917.1703662\ttotal: 539ms\tremaining: 135ms\n",
      "8:\tlearn: 3844.4817468\ttotal: 595ms\tremaining: 66.1ms\n",
      "9:\tlearn: 3774.6341257\ttotal: 670ms\tremaining: 0us\n",
      "0:\tlearn: 4499.6174150\ttotal: 73.8ms\tremaining: 665ms\n",
      "1:\tlearn: 4407.6454738\ttotal: 141ms\tremaining: 566ms\n",
      "2:\tlearn: 4319.8079183\ttotal: 204ms\tremaining: 477ms\n",
      "3:\tlearn: 4234.4103951\ttotal: 271ms\tremaining: 407ms\n",
      "4:\tlearn: 4153.3483529\ttotal: 331ms\tremaining: 331ms\n",
      "5:\tlearn: 4074.2019584\ttotal: 395ms\tremaining: 263ms\n",
      "6:\tlearn: 3995.4064333\ttotal: 456ms\tremaining: 195ms\n",
      "7:\tlearn: 3921.1365522\ttotal: 521ms\tremaining: 130ms\n",
      "8:\tlearn: 3848.7084780\ttotal: 582ms\tremaining: 64.7ms\n",
      "9:\tlearn: 3781.2287138\ttotal: 654ms\tremaining: 0us\n",
      "0:\tlearn: 4491.5922867\ttotal: 84.9ms\tremaining: 764ms\n",
      "1:\tlearn: 4399.1946488\ttotal: 152ms\tremaining: 608ms\n",
      "2:\tlearn: 4308.9889408\ttotal: 212ms\tremaining: 496ms\n",
      "3:\tlearn: 4221.7163445\ttotal: 277ms\tremaining: 415ms\n",
      "4:\tlearn: 4139.0725030\ttotal: 356ms\tremaining: 356ms\n",
      "5:\tlearn: 4058.7619705\ttotal: 435ms\tremaining: 290ms\n",
      "6:\tlearn: 3983.1280520\ttotal: 495ms\tremaining: 212ms\n",
      "7:\tlearn: 3908.8651355\ttotal: 557ms\tremaining: 139ms\n",
      "8:\tlearn: 3836.5181002\ttotal: 654ms\tremaining: 72.7ms\n",
      "9:\tlearn: 3766.6415954\ttotal: 816ms\tremaining: 0us\n",
      "0:\tlearn: 4290.3851150\ttotal: 80ms\tremaining: 720ms\n",
      "1:\tlearn: 4007.9466551\ttotal: 144ms\tremaining: 576ms\n",
      "2:\tlearn: 3767.5585979\ttotal: 207ms\tremaining: 483ms\n",
      "3:\tlearn: 3551.3217923\ttotal: 269ms\tremaining: 404ms\n",
      "4:\tlearn: 3356.4042005\ttotal: 326ms\tremaining: 326ms\n",
      "5:\tlearn: 3184.0518164\ttotal: 381ms\tremaining: 254ms\n",
      "6:\tlearn: 3033.7460577\ttotal: 436ms\tremaining: 187ms\n",
      "7:\tlearn: 2902.1387025\ttotal: 499ms\tremaining: 125ms\n",
      "8:\tlearn: 2785.4550955\ttotal: 595ms\tremaining: 66.1ms\n",
      "9:\tlearn: 2685.9545169\ttotal: 652ms\tremaining: 0us\n",
      "0:\tlearn: 4289.4907167\ttotal: 66.5ms\tremaining: 599ms\n",
      "1:\tlearn: 4007.1052008\ttotal: 131ms\tremaining: 524ms\n",
      "2:\tlearn: 3764.4262586\ttotal: 190ms\tremaining: 443ms\n",
      "3:\tlearn: 3549.7982120\ttotal: 251ms\tremaining: 376ms\n",
      "4:\tlearn: 3355.5324059\ttotal: 308ms\tremaining: 308ms\n",
      "5:\tlearn: 3185.7267953\ttotal: 368ms\tremaining: 245ms\n",
      "6:\tlearn: 3039.7301996\ttotal: 423ms\tremaining: 181ms\n",
      "7:\tlearn: 2908.6317006\ttotal: 479ms\tremaining: 120ms\n",
      "8:\tlearn: 2792.9412738\ttotal: 537ms\tremaining: 59.7ms\n",
      "9:\tlearn: 2693.5838406\ttotal: 591ms\tremaining: 0us\n",
      "0:\tlearn: 4277.7006294\ttotal: 68.8ms\tremaining: 619ms\n",
      "1:\tlearn: 3995.8208062\ttotal: 124ms\tremaining: 495ms\n",
      "2:\tlearn: 3752.3492183\ttotal: 184ms\tremaining: 429ms\n",
      "3:\tlearn: 3531.3317967\ttotal: 243ms\tremaining: 365ms\n",
      "4:\tlearn: 3340.9380246\ttotal: 298ms\tremaining: 298ms\n",
      "5:\tlearn: 3172.9585146\ttotal: 355ms\tremaining: 237ms\n",
      "6:\tlearn: 3023.1718367\ttotal: 411ms\tremaining: 176ms\n",
      "7:\tlearn: 2892.6184657\ttotal: 467ms\tremaining: 117ms\n",
      "8:\tlearn: 2779.1728728\ttotal: 523ms\tremaining: 58.1ms\n",
      "9:\tlearn: 2682.6770665\ttotal: 578ms\tremaining: 0us\n",
      "0:\tlearn: 4276.7087198\ttotal: 74.4ms\tremaining: 670ms\n",
      "1:\tlearn: 3999.7972150\ttotal: 135ms\tremaining: 541ms\n",
      "2:\tlearn: 3756.3632075\ttotal: 191ms\tremaining: 446ms\n",
      "3:\tlearn: 3541.9758592\ttotal: 248ms\tremaining: 373ms\n",
      "4:\tlearn: 3349.3558008\ttotal: 303ms\tremaining: 303ms\n",
      "5:\tlearn: 3178.1411942\ttotal: 360ms\tremaining: 240ms\n",
      "6:\tlearn: 3032.5930076\ttotal: 417ms\tremaining: 179ms\n",
      "7:\tlearn: 2902.6724011\ttotal: 477ms\tremaining: 119ms\n",
      "8:\tlearn: 2791.9379757\ttotal: 541ms\tremaining: 60.1ms\n",
      "9:\tlearn: 2690.0085595\ttotal: 600ms\tremaining: 0us\n",
      "0:\tlearn: 4268.9302155\ttotal: 64.5ms\tremaining: 581ms\n",
      "1:\tlearn: 3992.7412746\ttotal: 126ms\tremaining: 504ms\n",
      "2:\tlearn: 3750.3118090\ttotal: 182ms\tremaining: 425ms\n",
      "3:\tlearn: 3531.7810542\ttotal: 243ms\tremaining: 365ms\n",
      "4:\tlearn: 3343.1647820\ttotal: 314ms\tremaining: 314ms\n",
      "5:\tlearn: 3175.0907465\ttotal: 370ms\tremaining: 247ms\n",
      "6:\tlearn: 3025.3874677\ttotal: 433ms\tremaining: 186ms\n",
      "7:\tlearn: 2897.2743421\ttotal: 488ms\tremaining: 122ms\n",
      "8:\tlearn: 2778.3844148\ttotal: 549ms\tremaining: 60.9ms\n",
      "9:\tlearn: 2667.6387766\ttotal: 606ms\tremaining: 0us\n",
      "0:\tlearn: 4508.9069017\ttotal: 64.5ms\tremaining: 1.23s\n",
      "1:\tlearn: 4415.9106921\ttotal: 134ms\tremaining: 1.2s\n",
      "2:\tlearn: 4326.8184900\ttotal: 188ms\tremaining: 1.06s\n",
      "3:\tlearn: 4240.1825971\ttotal: 247ms\tremaining: 986ms\n",
      "4:\tlearn: 4156.5409211\ttotal: 300ms\tremaining: 901ms\n",
      "5:\tlearn: 4075.1884753\ttotal: 355ms\tremaining: 828ms\n",
      "6:\tlearn: 3996.6460850\ttotal: 411ms\tremaining: 763ms\n",
      "7:\tlearn: 3922.8684649\ttotal: 466ms\tremaining: 699ms\n",
      "8:\tlearn: 3851.5124431\ttotal: 520ms\tremaining: 636ms\n",
      "9:\tlearn: 3781.7171922\ttotal: 577ms\tremaining: 577ms\n",
      "10:\tlearn: 3714.9740406\ttotal: 633ms\tremaining: 518ms\n",
      "11:\tlearn: 3649.1850417\ttotal: 687ms\tremaining: 458ms\n",
      "12:\tlearn: 3586.1625687\ttotal: 745ms\tremaining: 401ms\n",
      "13:\tlearn: 3525.9309552\ttotal: 802ms\tremaining: 344ms\n",
      "14:\tlearn: 3467.7115630\ttotal: 857ms\tremaining: 286ms\n",
      "15:\tlearn: 3411.4843799\ttotal: 917ms\tremaining: 229ms\n",
      "16:\tlearn: 3356.6908976\ttotal: 988ms\tremaining: 174ms\n",
      "17:\tlearn: 3303.4385964\ttotal: 1.04s\tremaining: 116ms\n",
      "18:\tlearn: 3254.4312594\ttotal: 1.09s\tremaining: 57.6ms\n",
      "19:\tlearn: 3205.5723274\ttotal: 1.15s\tremaining: 0us\n",
      "0:\tlearn: 4508.3988160\ttotal: 63.4ms\tremaining: 1.2s\n",
      "1:\tlearn: 4415.3818377\ttotal: 123ms\tremaining: 1.1s\n",
      "2:\tlearn: 4326.5464508\ttotal: 183ms\tremaining: 1.04s\n",
      "3:\tlearn: 4240.9329984\ttotal: 247ms\tremaining: 987ms\n",
      "4:\tlearn: 4157.0246457\ttotal: 304ms\tremaining: 911ms\n",
      "5:\tlearn: 4076.4841902\ttotal: 358ms\tremaining: 836ms\n",
      "6:\tlearn: 3998.7002801\ttotal: 453ms\tremaining: 842ms\n",
      "7:\tlearn: 3921.7179516\ttotal: 515ms\tremaining: 773ms\n",
      "8:\tlearn: 3848.9191312\ttotal: 569ms\tremaining: 696ms\n",
      "9:\tlearn: 3779.2116773\ttotal: 625ms\tremaining: 625ms\n",
      "10:\tlearn: 3710.7571280\ttotal: 681ms\tremaining: 557ms\n",
      "11:\tlearn: 3645.4322256\ttotal: 735ms\tremaining: 490ms\n",
      "12:\tlearn: 3583.7919408\ttotal: 790ms\tremaining: 425ms\n",
      "13:\tlearn: 3523.5177079\ttotal: 845ms\tremaining: 362ms\n",
      "14:\tlearn: 3464.1957606\ttotal: 899ms\tremaining: 300ms\n",
      "15:\tlearn: 3406.6072435\ttotal: 963ms\tremaining: 241ms\n",
      "16:\tlearn: 3353.5414695\ttotal: 1.04s\tremaining: 184ms\n",
      "17:\tlearn: 3301.5527805\ttotal: 1.09s\tremaining: 122ms\n",
      "18:\tlearn: 3250.0795011\ttotal: 1.15s\tremaining: 60.4ms\n",
      "19:\tlearn: 3200.7935905\ttotal: 1.21s\tremaining: 0us\n",
      "0:\tlearn: 4501.0478813\ttotal: 67.8ms\tremaining: 1.29s\n",
      "1:\tlearn: 4408.5147026\ttotal: 123ms\tremaining: 1.1s\n",
      "2:\tlearn: 4318.9407451\ttotal: 180ms\tremaining: 1.02s\n",
      "3:\tlearn: 4231.8027910\ttotal: 235ms\tremaining: 938ms\n",
      "4:\tlearn: 4147.5777959\ttotal: 294ms\tremaining: 881ms\n",
      "5:\tlearn: 4067.8244917\ttotal: 347ms\tremaining: 809ms\n",
      "6:\tlearn: 3990.2219220\ttotal: 399ms\tremaining: 741ms\n",
      "7:\tlearn: 3917.1703662\ttotal: 453ms\tremaining: 679ms\n",
      "8:\tlearn: 3844.4817468\ttotal: 508ms\tremaining: 621ms\n",
      "9:\tlearn: 3774.6341257\ttotal: 564ms\tremaining: 564ms\n",
      "10:\tlearn: 3707.5425956\ttotal: 617ms\tremaining: 505ms\n",
      "11:\tlearn: 3643.8733523\ttotal: 675ms\tremaining: 450ms\n",
      "12:\tlearn: 3582.6766370\ttotal: 730ms\tremaining: 393ms\n",
      "13:\tlearn: 3524.8727052\ttotal: 793ms\tremaining: 340ms\n",
      "14:\tlearn: 3466.4983735\ttotal: 852ms\tremaining: 284ms\n",
      "15:\tlearn: 3409.3611770\ttotal: 905ms\tremaining: 226ms\n",
      "16:\tlearn: 3354.7536284\ttotal: 960ms\tremaining: 169ms\n",
      "17:\tlearn: 3302.1321786\ttotal: 1.01s\tremaining: 113ms\n",
      "18:\tlearn: 3252.8707929\ttotal: 1.07s\tremaining: 56.3ms\n",
      "19:\tlearn: 3204.1625500\ttotal: 1.13s\tremaining: 0us\n",
      "0:\tlearn: 4499.6174150\ttotal: 63.1ms\tremaining: 1.2s\n",
      "1:\tlearn: 4407.6454738\ttotal: 123ms\tremaining: 1.1s\n",
      "2:\tlearn: 4319.8079183\ttotal: 182ms\tremaining: 1.03s\n",
      "3:\tlearn: 4234.4103951\ttotal: 239ms\tremaining: 956ms\n",
      "4:\tlearn: 4153.3483529\ttotal: 294ms\tremaining: 881ms\n",
      "5:\tlearn: 4074.2019584\ttotal: 347ms\tremaining: 811ms\n",
      "6:\tlearn: 3995.4064333\ttotal: 403ms\tremaining: 748ms\n",
      "7:\tlearn: 3921.1365522\ttotal: 457ms\tremaining: 685ms\n",
      "8:\tlearn: 3848.7084780\ttotal: 510ms\tremaining: 623ms\n",
      "9:\tlearn: 3781.2287138\ttotal: 567ms\tremaining: 567ms\n",
      "10:\tlearn: 3712.4212014\ttotal: 618ms\tremaining: 506ms\n",
      "11:\tlearn: 3647.4250932\ttotal: 670ms\tremaining: 447ms\n",
      "12:\tlearn: 3584.6608430\ttotal: 736ms\tremaining: 397ms\n",
      "13:\tlearn: 3526.1342827\ttotal: 792ms\tremaining: 339ms\n",
      "14:\tlearn: 3467.1210239\ttotal: 851ms\tremaining: 284ms\n",
      "15:\tlearn: 3411.8439592\ttotal: 906ms\tremaining: 226ms\n",
      "16:\tlearn: 3358.2064655\ttotal: 981ms\tremaining: 173ms\n",
      "17:\tlearn: 3306.6647165\ttotal: 1.04s\tremaining: 116ms\n",
      "18:\tlearn: 3257.7925854\ttotal: 1.1s\tremaining: 57.7ms\n",
      "19:\tlearn: 3210.5700778\ttotal: 1.15s\tremaining: 0us\n",
      "0:\tlearn: 4491.5922867\ttotal: 64.4ms\tremaining: 1.22s\n",
      "1:\tlearn: 4399.1946488\ttotal: 123ms\tremaining: 1.11s\n",
      "2:\tlearn: 4308.9889408\ttotal: 177ms\tremaining: 1s\n",
      "3:\tlearn: 4221.7163445\ttotal: 242ms\tremaining: 968ms\n",
      "4:\tlearn: 4139.0725030\ttotal: 296ms\tremaining: 887ms\n",
      "5:\tlearn: 4058.7619705\ttotal: 351ms\tremaining: 820ms\n",
      "6:\tlearn: 3983.1280520\ttotal: 406ms\tremaining: 754ms\n",
      "7:\tlearn: 3908.8651355\ttotal: 462ms\tremaining: 693ms\n",
      "8:\tlearn: 3836.5181002\ttotal: 516ms\tremaining: 631ms\n",
      "9:\tlearn: 3766.6415954\ttotal: 570ms\tremaining: 570ms\n",
      "10:\tlearn: 3700.1927026\ttotal: 624ms\tremaining: 510ms\n",
      "11:\tlearn: 3636.2820699\ttotal: 680ms\tremaining: 453ms\n",
      "12:\tlearn: 3574.5271224\ttotal: 736ms\tremaining: 396ms\n",
      "13:\tlearn: 3514.6605276\ttotal: 791ms\tremaining: 339ms\n",
      "14:\tlearn: 3455.4979526\ttotal: 847ms\tremaining: 282ms\n",
      "15:\tlearn: 3398.9587503\ttotal: 902ms\tremaining: 226ms\n",
      "16:\tlearn: 3346.8794675\ttotal: 966ms\tremaining: 170ms\n",
      "17:\tlearn: 3295.2281109\ttotal: 1.07s\tremaining: 119ms\n",
      "18:\tlearn: 3244.7032320\ttotal: 1.14s\tremaining: 60.2ms\n",
      "19:\tlearn: 3196.2665639\ttotal: 1.2s\tremaining: 0us\n",
      "0:\tlearn: 4290.3851150\ttotal: 64.9ms\tremaining: 1.23s\n",
      "1:\tlearn: 4007.9466551\ttotal: 136ms\tremaining: 1.22s\n",
      "2:\tlearn: 3767.5585979\ttotal: 192ms\tremaining: 1.08s\n",
      "3:\tlearn: 3551.3217923\ttotal: 253ms\tremaining: 1.01s\n",
      "4:\tlearn: 3356.4042005\ttotal: 317ms\tremaining: 950ms\n",
      "5:\tlearn: 3184.0518164\ttotal: 371ms\tremaining: 865ms\n",
      "6:\tlearn: 3033.7460577\ttotal: 424ms\tremaining: 788ms\n",
      "7:\tlearn: 2902.1387025\ttotal: 478ms\tremaining: 717ms\n",
      "8:\tlearn: 2785.4550955\ttotal: 531ms\tremaining: 649ms\n",
      "9:\tlearn: 2685.9545169\ttotal: 586ms\tremaining: 586ms\n",
      "10:\tlearn: 2599.9340113\ttotal: 638ms\tremaining: 522ms\n",
      "11:\tlearn: 2514.0847564\ttotal: 693ms\tremaining: 462ms\n",
      "12:\tlearn: 2435.0094676\ttotal: 746ms\tremaining: 402ms\n",
      "13:\tlearn: 2370.1200854\ttotal: 799ms\tremaining: 342ms\n",
      "14:\tlearn: 2312.6114543\ttotal: 861ms\tremaining: 287ms\n",
      "15:\tlearn: 2261.4590274\ttotal: 914ms\tremaining: 228ms\n",
      "16:\tlearn: 2212.4254042\ttotal: 967ms\tremaining: 171ms\n",
      "17:\tlearn: 2166.7149556\ttotal: 1.02s\tremaining: 113ms\n",
      "18:\tlearn: 2127.0054078\ttotal: 1.08s\tremaining: 56.6ms\n",
      "19:\tlearn: 2095.3746893\ttotal: 1.14s\tremaining: 0us\n",
      "0:\tlearn: 4289.4907167\ttotal: 77.7ms\tremaining: 1.48s\n",
      "1:\tlearn: 4007.1052008\ttotal: 138ms\tremaining: 1.25s\n",
      "2:\tlearn: 3764.4262586\ttotal: 195ms\tremaining: 1.1s\n",
      "3:\tlearn: 3549.7982120\ttotal: 257ms\tremaining: 1.03s\n",
      "4:\tlearn: 3355.5324059\ttotal: 311ms\tremaining: 934ms\n",
      "5:\tlearn: 3185.7267953\ttotal: 373ms\tremaining: 870ms\n",
      "6:\tlearn: 3039.7301996\ttotal: 433ms\tremaining: 803ms\n",
      "7:\tlearn: 2908.6317006\ttotal: 488ms\tremaining: 732ms\n",
      "8:\tlearn: 2792.9412738\ttotal: 543ms\tremaining: 664ms\n",
      "9:\tlearn: 2693.5838406\ttotal: 599ms\tremaining: 599ms\n",
      "10:\tlearn: 2609.8323634\ttotal: 651ms\tremaining: 533ms\n",
      "11:\tlearn: 2520.7245083\ttotal: 705ms\tremaining: 470ms\n",
      "12:\tlearn: 2443.4873985\ttotal: 761ms\tremaining: 410ms\n",
      "13:\tlearn: 2378.2510303\ttotal: 818ms\tremaining: 351ms\n",
      "14:\tlearn: 2320.9192020\ttotal: 873ms\tremaining: 291ms\n",
      "15:\tlearn: 2270.3350356\ttotal: 925ms\tremaining: 231ms\n",
      "16:\tlearn: 2220.7758957\ttotal: 979ms\tremaining: 173ms\n",
      "17:\tlearn: 2178.4717983\ttotal: 1.03s\tremaining: 115ms\n",
      "18:\tlearn: 2139.5789194\ttotal: 1.1s\tremaining: 57.8ms\n",
      "19:\tlearn: 2105.9982647\ttotal: 1.15s\tremaining: 0us\n",
      "0:\tlearn: 4277.7006294\ttotal: 65.8ms\tremaining: 1.25s\n",
      "1:\tlearn: 3995.8208062\ttotal: 119ms\tremaining: 1.07s\n",
      "2:\tlearn: 3752.3492183\ttotal: 179ms\tremaining: 1.01s\n",
      "3:\tlearn: 3531.3317967\ttotal: 238ms\tremaining: 953ms\n",
      "4:\tlearn: 3340.9380246\ttotal: 294ms\tremaining: 882ms\n",
      "5:\tlearn: 3172.9585146\ttotal: 355ms\tremaining: 829ms\n",
      "6:\tlearn: 3023.1718367\ttotal: 411ms\tremaining: 763ms\n",
      "7:\tlearn: 2892.6184657\ttotal: 465ms\tremaining: 698ms\n",
      "8:\tlearn: 2779.1728728\ttotal: 518ms\tremaining: 633ms\n",
      "9:\tlearn: 2682.6770665\ttotal: 572ms\tremaining: 572ms\n",
      "10:\tlearn: 2598.3451063\ttotal: 627ms\tremaining: 513ms\n",
      "11:\tlearn: 2507.9223364\ttotal: 682ms\tremaining: 455ms\n",
      "12:\tlearn: 2433.4256166\ttotal: 737ms\tremaining: 397ms\n",
      "13:\tlearn: 2367.3827278\ttotal: 809ms\tremaining: 347ms\n",
      "14:\tlearn: 2309.5549429\ttotal: 864ms\tremaining: 288ms\n",
      "15:\tlearn: 2260.1182898\ttotal: 917ms\tremaining: 229ms\n",
      "16:\tlearn: 2217.4877294\ttotal: 971ms\tremaining: 171ms\n",
      "17:\tlearn: 2173.8813984\ttotal: 1.03s\tremaining: 114ms\n",
      "18:\tlearn: 2134.2980205\ttotal: 1.08s\tremaining: 57ms\n",
      "19:\tlearn: 2102.7029876\ttotal: 1.14s\tremaining: 0us\n",
      "0:\tlearn: 4276.7087198\ttotal: 86.7ms\tremaining: 1.65s\n",
      "1:\tlearn: 3999.7972150\ttotal: 218ms\tremaining: 1.96s\n",
      "2:\tlearn: 3756.3632075\ttotal: 398ms\tremaining: 2.25s\n",
      "3:\tlearn: 3541.9758592\ttotal: 506ms\tremaining: 2.02s\n",
      "4:\tlearn: 3349.3558008\ttotal: 562ms\tremaining: 1.68s\n",
      "5:\tlearn: 3178.1411942\ttotal: 627ms\tremaining: 1.46s\n",
      "6:\tlearn: 3032.5930076\ttotal: 725ms\tremaining: 1.35s\n",
      "7:\tlearn: 2902.6724011\ttotal: 778ms\tremaining: 1.17s\n",
      "8:\tlearn: 2791.9379757\ttotal: 842ms\tremaining: 1.03s\n",
      "9:\tlearn: 2690.0085595\ttotal: 901ms\tremaining: 901ms\n",
      "10:\tlearn: 2593.3400766\ttotal: 959ms\tremaining: 784ms\n",
      "11:\tlearn: 2508.1723472\ttotal: 1.01s\tremaining: 677ms\n",
      "12:\tlearn: 2433.2677219\ttotal: 1.07s\tremaining: 577ms\n",
      "13:\tlearn: 2367.0640328\ttotal: 1.13s\tremaining: 484ms\n",
      "14:\tlearn: 2311.6615926\ttotal: 1.18s\tremaining: 395ms\n",
      "15:\tlearn: 2261.2909163\ttotal: 1.24s\tremaining: 310ms\n",
      "16:\tlearn: 2217.9673688\ttotal: 1.3s\tremaining: 229ms\n",
      "17:\tlearn: 2181.4738917\ttotal: 1.35s\tremaining: 150ms\n",
      "18:\tlearn: 2142.7827711\ttotal: 1.4s\tremaining: 73.9ms\n",
      "19:\tlearn: 2106.5053296\ttotal: 1.46s\tremaining: 0us\n",
      "0:\tlearn: 4268.9302155\ttotal: 64.1ms\tremaining: 1.22s\n",
      "1:\tlearn: 3992.7412746\ttotal: 128ms\tremaining: 1.15s\n",
      "2:\tlearn: 3750.3118090\ttotal: 193ms\tremaining: 1.09s\n",
      "3:\tlearn: 3531.7810542\ttotal: 254ms\tremaining: 1.02s\n",
      "4:\tlearn: 3343.1647820\ttotal: 315ms\tremaining: 945ms\n",
      "5:\tlearn: 3175.0907465\ttotal: 369ms\tremaining: 861ms\n",
      "6:\tlearn: 3025.3874677\ttotal: 423ms\tremaining: 785ms\n",
      "7:\tlearn: 2897.2743421\ttotal: 491ms\tremaining: 737ms\n",
      "8:\tlearn: 2778.3844148\ttotal: 567ms\tremaining: 693ms\n",
      "9:\tlearn: 2667.6387766\ttotal: 661ms\tremaining: 661ms\n",
      "10:\tlearn: 2573.4784293\ttotal: 714ms\tremaining: 584ms\n",
      "11:\tlearn: 2487.0717481\ttotal: 772ms\tremaining: 514ms\n",
      "12:\tlearn: 2412.5034743\ttotal: 830ms\tremaining: 447ms\n",
      "13:\tlearn: 2346.7958082\ttotal: 886ms\tremaining: 380ms\n",
      "14:\tlearn: 2291.2607534\ttotal: 939ms\tremaining: 313ms\n",
      "15:\tlearn: 2244.4789159\ttotal: 1.03s\tremaining: 258ms\n",
      "16:\tlearn: 2196.4572168\ttotal: 1.09s\tremaining: 192ms\n",
      "17:\tlearn: 2152.9161618\ttotal: 1.14s\tremaining: 127ms\n",
      "18:\tlearn: 2115.3089008\ttotal: 1.2s\tremaining: 63.1ms\n",
      "19:\tlearn: 2082.5098941\ttotal: 1.25s\tremaining: 0us\n",
      "0:\tlearn: 4508.9069017\ttotal: 64.3ms\tremaining: 6.37s\n",
      "1:\tlearn: 4415.9106921\ttotal: 125ms\tremaining: 6.13s\n",
      "2:\tlearn: 4326.8184900\ttotal: 179ms\tremaining: 5.8s\n",
      "3:\tlearn: 4240.1825971\ttotal: 246ms\tremaining: 5.91s\n",
      "4:\tlearn: 4156.5409211\ttotal: 305ms\tremaining: 5.79s\n",
      "5:\tlearn: 4075.1884753\ttotal: 360ms\tremaining: 5.64s\n",
      "6:\tlearn: 3996.6460850\ttotal: 415ms\tremaining: 5.51s\n",
      "7:\tlearn: 3922.8684649\ttotal: 477ms\tremaining: 5.48s\n",
      "8:\tlearn: 3851.5124431\ttotal: 530ms\tremaining: 5.36s\n",
      "9:\tlearn: 3781.7171922\ttotal: 588ms\tremaining: 5.29s\n",
      "10:\tlearn: 3714.9740406\ttotal: 644ms\tremaining: 5.21s\n",
      "11:\tlearn: 3649.1850417\ttotal: 698ms\tremaining: 5.12s\n",
      "12:\tlearn: 3586.1625687\ttotal: 754ms\tremaining: 5.05s\n",
      "13:\tlearn: 3525.9309552\ttotal: 809ms\tremaining: 4.97s\n",
      "14:\tlearn: 3467.7115630\ttotal: 861ms\tremaining: 4.88s\n",
      "15:\tlearn: 3411.4843799\ttotal: 914ms\tremaining: 4.8s\n",
      "16:\tlearn: 3356.6908976\ttotal: 970ms\tremaining: 4.74s\n",
      "17:\tlearn: 3303.4385964\ttotal: 1.02s\tremaining: 4.66s\n",
      "18:\tlearn: 3254.4312594\ttotal: 1.08s\tremaining: 4.61s\n",
      "19:\tlearn: 3205.5723274\ttotal: 1.14s\tremaining: 4.57s\n",
      "20:\tlearn: 3158.7818304\ttotal: 1.21s\tremaining: 4.55s\n",
      "21:\tlearn: 3114.5486890\ttotal: 1.26s\tremaining: 4.49s\n",
      "22:\tlearn: 3071.9054427\ttotal: 1.32s\tremaining: 4.42s\n",
      "23:\tlearn: 3029.8421361\ttotal: 1.37s\tremaining: 4.35s\n",
      "24:\tlearn: 2989.9240108\ttotal: 1.43s\tremaining: 4.29s\n",
      "25:\tlearn: 2951.8884377\ttotal: 1.49s\tremaining: 4.24s\n",
      "26:\tlearn: 2914.8975495\ttotal: 1.55s\tremaining: 4.19s\n",
      "27:\tlearn: 2879.0502950\ttotal: 1.6s\tremaining: 4.12s\n",
      "28:\tlearn: 2844.3216114\ttotal: 1.66s\tremaining: 4.07s\n",
      "29:\tlearn: 2810.3657914\ttotal: 1.72s\tremaining: 4.01s\n",
      "30:\tlearn: 2777.7250861\ttotal: 1.77s\tremaining: 3.95s\n",
      "31:\tlearn: 2747.3321230\ttotal: 1.84s\tremaining: 3.9s\n",
      "32:\tlearn: 2718.2808572\ttotal: 1.89s\tremaining: 3.84s\n",
      "33:\tlearn: 2686.1701330\ttotal: 1.96s\tremaining: 3.8s\n",
      "34:\tlearn: 2656.4385327\ttotal: 2.01s\tremaining: 3.74s\n",
      "35:\tlearn: 2627.2810538\ttotal: 2.07s\tremaining: 3.68s\n",
      "36:\tlearn: 2598.7290673\ttotal: 2.12s\tremaining: 3.62s\n",
      "37:\tlearn: 2571.5183243\ttotal: 2.18s\tremaining: 3.56s\n",
      "38:\tlearn: 2545.3199097\ttotal: 2.24s\tremaining: 3.5s\n",
      "39:\tlearn: 2520.1690303\ttotal: 2.29s\tremaining: 3.44s\n",
      "40:\tlearn: 2495.4903170\ttotal: 2.35s\tremaining: 3.38s\n",
      "41:\tlearn: 2473.9794889\ttotal: 2.41s\tremaining: 3.33s\n",
      "42:\tlearn: 2452.1825110\ttotal: 2.48s\tremaining: 3.28s\n",
      "43:\tlearn: 2430.2617526\ttotal: 2.54s\tremaining: 3.24s\n",
      "44:\tlearn: 2409.5403123\ttotal: 2.6s\tremaining: 3.17s\n",
      "45:\tlearn: 2389.8907356\ttotal: 2.65s\tremaining: 3.12s\n",
      "46:\tlearn: 2371.4570550\ttotal: 2.71s\tremaining: 3.05s\n",
      "47:\tlearn: 2353.1865631\ttotal: 2.76s\tremaining: 2.99s\n",
      "48:\tlearn: 2335.8579170\ttotal: 2.81s\tremaining: 2.93s\n",
      "49:\tlearn: 2319.5249552\ttotal: 2.87s\tremaining: 2.87s\n",
      "50:\tlearn: 2304.2586478\ttotal: 2.92s\tremaining: 2.81s\n",
      "51:\tlearn: 2288.0580741\ttotal: 2.98s\tremaining: 2.75s\n",
      "52:\tlearn: 2273.7466166\ttotal: 3.04s\tremaining: 2.7s\n",
      "53:\tlearn: 2258.3625269\ttotal: 3.1s\tremaining: 2.64s\n",
      "54:\tlearn: 2242.3542266\ttotal: 3.15s\tremaining: 2.58s\n",
      "55:\tlearn: 2227.1619662\ttotal: 3.21s\tremaining: 2.52s\n",
      "56:\tlearn: 2212.6621908\ttotal: 3.26s\tremaining: 2.46s\n",
      "57:\tlearn: 2199.1248903\ttotal: 3.31s\tremaining: 2.4s\n",
      "58:\tlearn: 2186.0506805\ttotal: 3.37s\tremaining: 2.34s\n",
      "59:\tlearn: 2173.6174280\ttotal: 3.43s\tremaining: 2.28s\n",
      "60:\tlearn: 2162.1528144\ttotal: 3.48s\tremaining: 2.22s\n",
      "61:\tlearn: 2150.0866345\ttotal: 3.53s\tremaining: 2.17s\n",
      "62:\tlearn: 2138.7152958\ttotal: 3.59s\tremaining: 2.11s\n",
      "63:\tlearn: 2128.2642003\ttotal: 3.64s\tremaining: 2.05s\n",
      "64:\tlearn: 2117.7715739\ttotal: 3.69s\tremaining: 1.99s\n",
      "65:\tlearn: 2108.0803983\ttotal: 3.75s\tremaining: 1.93s\n",
      "66:\tlearn: 2098.4674272\ttotal: 3.81s\tremaining: 1.88s\n",
      "67:\tlearn: 2088.8813867\ttotal: 3.87s\tremaining: 1.82s\n",
      "68:\tlearn: 2079.7055368\ttotal: 3.92s\tremaining: 1.76s\n",
      "69:\tlearn: 2071.0114391\ttotal: 3.98s\tremaining: 1.7s\n",
      "70:\tlearn: 2062.6751480\ttotal: 4.03s\tremaining: 1.65s\n",
      "71:\tlearn: 2054.7775368\ttotal: 4.09s\tremaining: 1.59s\n",
      "72:\tlearn: 2046.8930914\ttotal: 4.14s\tremaining: 1.53s\n",
      "73:\tlearn: 2039.4273202\ttotal: 4.21s\tremaining: 1.48s\n",
      "74:\tlearn: 2032.3528307\ttotal: 4.27s\tremaining: 1.42s\n",
      "75:\tlearn: 2025.4409756\ttotal: 4.32s\tremaining: 1.36s\n",
      "76:\tlearn: 2019.0317911\ttotal: 4.37s\tremaining: 1.31s\n",
      "77:\tlearn: 2012.4889954\ttotal: 4.43s\tremaining: 1.25s\n",
      "78:\tlearn: 2006.3290423\ttotal: 4.48s\tremaining: 1.19s\n",
      "79:\tlearn: 2000.9608084\ttotal: 4.53s\tremaining: 1.13s\n",
      "80:\tlearn: 1995.1178597\ttotal: 4.59s\tremaining: 1.08s\n",
      "81:\tlearn: 1989.3364188\ttotal: 4.64s\tremaining: 1.02s\n",
      "82:\tlearn: 1982.9593104\ttotal: 4.7s\tremaining: 963ms\n",
      "83:\tlearn: 1976.7667997\ttotal: 4.75s\tremaining: 905ms\n",
      "84:\tlearn: 1970.6868736\ttotal: 4.81s\tremaining: 849ms\n",
      "85:\tlearn: 1964.2070543\ttotal: 4.86s\tremaining: 792ms\n",
      "86:\tlearn: 1958.5984627\ttotal: 4.92s\tremaining: 735ms\n",
      "87:\tlearn: 1952.5679517\ttotal: 4.97s\tremaining: 678ms\n",
      "88:\tlearn: 1947.2170254\ttotal: 5.03s\tremaining: 622ms\n",
      "89:\tlearn: 1941.6232705\ttotal: 5.08s\tremaining: 565ms\n",
      "90:\tlearn: 1936.4298550\ttotal: 5.14s\tremaining: 508ms\n",
      "91:\tlearn: 1932.0122795\ttotal: 5.19s\tremaining: 452ms\n",
      "92:\tlearn: 1927.6451716\ttotal: 5.25s\tremaining: 395ms\n",
      "93:\tlearn: 1922.9852842\ttotal: 5.3s\tremaining: 338ms\n",
      "94:\tlearn: 1918.5799956\ttotal: 5.37s\tremaining: 282ms\n",
      "95:\tlearn: 1914.4777214\ttotal: 5.43s\tremaining: 226ms\n",
      "96:\tlearn: 1910.2000607\ttotal: 5.49s\tremaining: 170ms\n",
      "97:\tlearn: 1906.3222510\ttotal: 5.54s\tremaining: 113ms\n",
      "98:\tlearn: 1902.8902813\ttotal: 5.59s\tremaining: 56.5ms\n",
      "99:\tlearn: 1899.0382548\ttotal: 5.65s\tremaining: 0us\n",
      "0:\tlearn: 4508.3988160\ttotal: 66.8ms\tremaining: 6.62s\n",
      "1:\tlearn: 4415.3818377\ttotal: 128ms\tremaining: 6.25s\n",
      "2:\tlearn: 4326.5464508\ttotal: 181ms\tremaining: 5.86s\n",
      "3:\tlearn: 4240.9329984\ttotal: 239ms\tremaining: 5.74s\n",
      "4:\tlearn: 4157.0246457\ttotal: 311ms\tremaining: 5.9s\n",
      "5:\tlearn: 4076.4841902\ttotal: 380ms\tremaining: 5.96s\n",
      "6:\tlearn: 3998.7002801\ttotal: 439ms\tremaining: 5.83s\n",
      "7:\tlearn: 3921.7179516\ttotal: 492ms\tremaining: 5.66s\n",
      "8:\tlearn: 3848.9191312\ttotal: 549ms\tremaining: 5.55s\n",
      "9:\tlearn: 3779.2116773\ttotal: 606ms\tremaining: 5.45s\n",
      "10:\tlearn: 3710.7571280\ttotal: 661ms\tremaining: 5.34s\n",
      "11:\tlearn: 3645.4322256\ttotal: 719ms\tremaining: 5.27s\n",
      "12:\tlearn: 3583.7919408\ttotal: 773ms\tremaining: 5.17s\n",
      "13:\tlearn: 3523.5177079\ttotal: 829ms\tremaining: 5.09s\n",
      "14:\tlearn: 3464.1957606\ttotal: 885ms\tremaining: 5.01s\n",
      "15:\tlearn: 3406.6072435\ttotal: 938ms\tremaining: 4.92s\n",
      "16:\tlearn: 3353.5414695\ttotal: 993ms\tremaining: 4.85s\n",
      "17:\tlearn: 3301.5527805\ttotal: 1.05s\tremaining: 4.78s\n",
      "18:\tlearn: 3250.0795011\ttotal: 1.1s\tremaining: 4.7s\n",
      "19:\tlearn: 3200.7935905\ttotal: 1.15s\tremaining: 4.62s\n",
      "20:\tlearn: 3154.7459464\ttotal: 1.22s\tremaining: 4.59s\n",
      "21:\tlearn: 3110.0711408\ttotal: 1.28s\tremaining: 4.54s\n",
      "22:\tlearn: 3067.1107175\ttotal: 1.34s\tremaining: 4.48s\n",
      "23:\tlearn: 3027.2463273\ttotal: 1.39s\tremaining: 4.41s\n",
      "24:\tlearn: 2989.1951814\ttotal: 1.45s\tremaining: 4.34s\n",
      "25:\tlearn: 2951.3593758\ttotal: 1.5s\tremaining: 4.26s\n",
      "26:\tlearn: 2913.7712013\ttotal: 1.55s\tremaining: 4.2s\n",
      "27:\tlearn: 2879.3026671\ttotal: 1.61s\tremaining: 4.15s\n",
      "28:\tlearn: 2846.2807047\ttotal: 1.67s\tremaining: 4.08s\n",
      "29:\tlearn: 2812.8003403\ttotal: 1.72s\tremaining: 4.01s\n",
      "30:\tlearn: 2781.2909079\ttotal: 1.77s\tremaining: 3.95s\n",
      "31:\tlearn: 2750.4397462\ttotal: 1.83s\tremaining: 3.88s\n",
      "32:\tlearn: 2718.0376432\ttotal: 1.88s\tremaining: 3.82s\n",
      "33:\tlearn: 2686.4886236\ttotal: 1.94s\tremaining: 3.76s\n",
      "34:\tlearn: 2656.1410380\ttotal: 2s\tremaining: 3.71s\n",
      "35:\tlearn: 2627.0309541\ttotal: 2.07s\tremaining: 3.68s\n",
      "36:\tlearn: 2598.4072675\ttotal: 2.18s\tremaining: 3.71s\n",
      "37:\tlearn: 2570.4429319\ttotal: 2.25s\tremaining: 3.66s\n",
      "38:\tlearn: 2544.5036320\ttotal: 2.3s\tremaining: 3.6s\n",
      "39:\tlearn: 2519.0637811\ttotal: 2.35s\tremaining: 3.53s\n",
      "40:\tlearn: 2495.8857087\ttotal: 2.4s\tremaining: 3.46s\n",
      "41:\tlearn: 2472.8219528\ttotal: 2.46s\tremaining: 3.4s\n",
      "42:\tlearn: 2450.2099819\ttotal: 2.51s\tremaining: 3.33s\n",
      "43:\tlearn: 2429.1490092\ttotal: 2.57s\tremaining: 3.27s\n",
      "44:\tlearn: 2409.6089519\ttotal: 2.63s\tremaining: 3.21s\n",
      "45:\tlearn: 2389.4194112\ttotal: 2.68s\tremaining: 3.15s\n",
      "46:\tlearn: 2371.2167180\ttotal: 2.73s\tremaining: 3.08s\n",
      "47:\tlearn: 2352.9652917\ttotal: 2.79s\tremaining: 3.02s\n",
      "48:\tlearn: 2335.9169266\ttotal: 2.84s\tremaining: 2.96s\n",
      "49:\tlearn: 2318.5886062\ttotal: 2.9s\tremaining: 2.9s\n",
      "50:\tlearn: 2302.6617829\ttotal: 2.95s\tremaining: 2.84s\n",
      "51:\tlearn: 2287.6761328\ttotal: 3.01s\tremaining: 2.78s\n",
      "52:\tlearn: 2272.9615037\ttotal: 3.06s\tremaining: 2.72s\n",
      "53:\tlearn: 2258.3710214\ttotal: 3.12s\tremaining: 2.66s\n",
      "54:\tlearn: 2245.0477087\ttotal: 3.18s\tremaining: 2.6s\n",
      "55:\tlearn: 2231.7420486\ttotal: 3.23s\tremaining: 2.54s\n",
      "56:\tlearn: 2218.0378381\ttotal: 3.29s\tremaining: 2.48s\n",
      "57:\tlearn: 2205.4207282\ttotal: 3.34s\tremaining: 2.42s\n",
      "58:\tlearn: 2192.7961856\ttotal: 3.39s\tremaining: 2.36s\n",
      "59:\tlearn: 2180.5099706\ttotal: 3.45s\tremaining: 2.3s\n",
      "60:\tlearn: 2168.4428863\ttotal: 3.51s\tremaining: 2.24s\n",
      "61:\tlearn: 2156.8802881\ttotal: 3.57s\tremaining: 2.19s\n",
      "62:\tlearn: 2145.4145008\ttotal: 3.62s\tremaining: 2.13s\n",
      "63:\tlearn: 2133.7173848\ttotal: 3.69s\tremaining: 2.07s\n",
      "64:\tlearn: 2123.8899143\ttotal: 3.74s\tremaining: 2.01s\n",
      "65:\tlearn: 2113.4210312\ttotal: 3.79s\tremaining: 1.95s\n",
      "66:\tlearn: 2103.5589167\ttotal: 3.85s\tremaining: 1.89s\n",
      "67:\tlearn: 2094.5059495\ttotal: 3.9s\tremaining: 1.83s\n",
      "68:\tlearn: 2086.1170661\ttotal: 3.96s\tremaining: 1.78s\n",
      "69:\tlearn: 2076.9286593\ttotal: 4.03s\tremaining: 1.73s\n",
      "70:\tlearn: 2068.5251563\ttotal: 4.08s\tremaining: 1.67s\n",
      "71:\tlearn: 2060.0735098\ttotal: 4.14s\tremaining: 1.61s\n",
      "72:\tlearn: 2052.3204888\ttotal: 4.19s\tremaining: 1.55s\n",
      "73:\tlearn: 2044.9347705\ttotal: 4.25s\tremaining: 1.49s\n",
      "74:\tlearn: 2037.1394929\ttotal: 4.31s\tremaining: 1.44s\n",
      "75:\tlearn: 2030.2920564\ttotal: 4.36s\tremaining: 1.38s\n",
      "76:\tlearn: 2024.3093020\ttotal: 4.42s\tremaining: 1.32s\n",
      "77:\tlearn: 2018.0816664\ttotal: 4.47s\tremaining: 1.26s\n",
      "78:\tlearn: 2011.6776157\ttotal: 4.53s\tremaining: 1.2s\n",
      "79:\tlearn: 2004.4172246\ttotal: 4.58s\tremaining: 1.15s\n",
      "80:\tlearn: 1997.5503224\ttotal: 4.65s\tremaining: 1.09s\n",
      "81:\tlearn: 1990.6362580\ttotal: 4.7s\tremaining: 1.03s\n",
      "82:\tlearn: 1984.8071229\ttotal: 4.76s\tremaining: 974ms\n",
      "83:\tlearn: 1978.8232280\ttotal: 4.81s\tremaining: 916ms\n",
      "84:\tlearn: 1972.3426823\ttotal: 4.86s\tremaining: 858ms\n",
      "85:\tlearn: 1966.5129175\ttotal: 4.92s\tremaining: 801ms\n",
      "86:\tlearn: 1960.4995322\ttotal: 4.99s\tremaining: 745ms\n",
      "87:\tlearn: 1955.2061932\ttotal: 5.04s\tremaining: 687ms\n",
      "88:\tlearn: 1950.4440715\ttotal: 5.1s\tremaining: 630ms\n",
      "89:\tlearn: 1945.7529842\ttotal: 5.15s\tremaining: 572ms\n",
      "90:\tlearn: 1941.2637928\ttotal: 5.21s\tremaining: 515ms\n",
      "91:\tlearn: 1936.0460073\ttotal: 5.26s\tremaining: 458ms\n",
      "92:\tlearn: 1931.8258751\ttotal: 5.32s\tremaining: 401ms\n",
      "93:\tlearn: 1926.7557829\ttotal: 5.38s\tremaining: 343ms\n",
      "94:\tlearn: 1922.5563312\ttotal: 5.45s\tremaining: 287ms\n",
      "95:\tlearn: 1918.6018203\ttotal: 5.5s\tremaining: 229ms\n",
      "96:\tlearn: 1914.8319669\ttotal: 5.56s\tremaining: 172ms\n",
      "97:\tlearn: 1911.3587071\ttotal: 5.61s\tremaining: 115ms\n",
      "98:\tlearn: 1907.6530892\ttotal: 5.68s\tremaining: 57.4ms\n",
      "99:\tlearn: 1904.2791473\ttotal: 5.76s\tremaining: 0us\n",
      "0:\tlearn: 4501.0478813\ttotal: 66.5ms\tremaining: 6.59s\n",
      "1:\tlearn: 4408.5147026\ttotal: 119ms\tremaining: 5.82s\n",
      "2:\tlearn: 4318.9407451\ttotal: 182ms\tremaining: 5.88s\n",
      "3:\tlearn: 4231.8027910\ttotal: 233ms\tremaining: 5.59s\n",
      "4:\tlearn: 4147.5777959\ttotal: 287ms\tremaining: 5.46s\n",
      "5:\tlearn: 4067.8244917\ttotal: 337ms\tremaining: 5.28s\n",
      "6:\tlearn: 3990.2219220\ttotal: 389ms\tremaining: 5.17s\n",
      "7:\tlearn: 3917.1703662\ttotal: 441ms\tremaining: 5.07s\n",
      "8:\tlearn: 3844.4817468\ttotal: 490ms\tremaining: 4.96s\n",
      "9:\tlearn: 3774.6341257\ttotal: 539ms\tremaining: 4.85s\n",
      "10:\tlearn: 3707.5425956\ttotal: 591ms\tremaining: 4.78s\n",
      "11:\tlearn: 3643.8733523\ttotal: 642ms\tremaining: 4.71s\n",
      "12:\tlearn: 3582.6766370\ttotal: 693ms\tremaining: 4.64s\n",
      "13:\tlearn: 3524.8727052\ttotal: 743ms\tremaining: 4.57s\n",
      "14:\tlearn: 3466.4983735\ttotal: 799ms\tremaining: 4.53s\n",
      "15:\tlearn: 3409.3611770\ttotal: 849ms\tremaining: 4.46s\n",
      "16:\tlearn: 3354.7536284\ttotal: 900ms\tremaining: 4.39s\n",
      "17:\tlearn: 3302.1321786\ttotal: 960ms\tremaining: 4.37s\n",
      "18:\tlearn: 3252.8707929\ttotal: 1.02s\tremaining: 4.35s\n",
      "19:\tlearn: 3204.1625500\ttotal: 1.07s\tremaining: 4.28s\n",
      "20:\tlearn: 3157.5807679\ttotal: 1.12s\tremaining: 4.22s\n",
      "21:\tlearn: 3113.0363142\ttotal: 1.18s\tremaining: 4.17s\n",
      "22:\tlearn: 3070.7487076\ttotal: 1.23s\tremaining: 4.12s\n",
      "23:\tlearn: 3029.5304015\ttotal: 1.28s\tremaining: 4.06s\n",
      "24:\tlearn: 2989.8186027\ttotal: 1.34s\tremaining: 4.01s\n",
      "25:\tlearn: 2951.6871053\ttotal: 1.4s\tremaining: 3.97s\n",
      "26:\tlearn: 2914.4884611\ttotal: 1.45s\tremaining: 3.92s\n",
      "27:\tlearn: 2878.1310497\ttotal: 1.5s\tremaining: 3.86s\n",
      "28:\tlearn: 2843.0798017\ttotal: 1.55s\tremaining: 3.8s\n",
      "29:\tlearn: 2810.8387502\ttotal: 1.61s\tremaining: 3.75s\n",
      "30:\tlearn: 2780.7199160\ttotal: 1.66s\tremaining: 3.69s\n",
      "31:\tlearn: 2750.3340105\ttotal: 1.71s\tremaining: 3.64s\n",
      "32:\tlearn: 2720.7605883\ttotal: 1.76s\tremaining: 3.58s\n",
      "33:\tlearn: 2690.9638782\ttotal: 1.82s\tremaining: 3.53s\n",
      "34:\tlearn: 2660.7180823\ttotal: 1.87s\tremaining: 3.47s\n",
      "35:\tlearn: 2630.1151054\ttotal: 1.92s\tremaining: 3.41s\n",
      "36:\tlearn: 2602.0317817\ttotal: 1.97s\tremaining: 3.36s\n",
      "37:\tlearn: 2574.8066886\ttotal: 2.03s\tremaining: 3.31s\n",
      "38:\tlearn: 2549.5685476\ttotal: 2.08s\tremaining: 3.25s\n",
      "39:\tlearn: 2525.6065852\ttotal: 2.13s\tremaining: 3.19s\n",
      "40:\tlearn: 2501.3254478\ttotal: 2.18s\tremaining: 3.13s\n",
      "41:\tlearn: 2477.1002051\ttotal: 2.23s\tremaining: 3.08s\n",
      "42:\tlearn: 2454.5155382\ttotal: 2.28s\tremaining: 3.02s\n",
      "43:\tlearn: 2432.6723509\ttotal: 2.33s\tremaining: 2.96s\n",
      "44:\tlearn: 2411.9312095\ttotal: 2.38s\tremaining: 2.9s\n",
      "45:\tlearn: 2391.3071086\ttotal: 2.43s\tremaining: 2.85s\n",
      "46:\tlearn: 2371.7971365\ttotal: 2.48s\tremaining: 2.8s\n",
      "47:\tlearn: 2354.0225516\ttotal: 2.54s\tremaining: 2.75s\n",
      "48:\tlearn: 2337.1496402\ttotal: 2.61s\tremaining: 2.72s\n",
      "49:\tlearn: 2320.0585587\ttotal: 2.67s\tremaining: 2.67s\n",
      "50:\tlearn: 2304.2568298\ttotal: 2.72s\tremaining: 2.61s\n",
      "51:\tlearn: 2288.4330637\ttotal: 2.77s\tremaining: 2.56s\n",
      "52:\tlearn: 2274.0355220\ttotal: 2.82s\tremaining: 2.5s\n",
      "53:\tlearn: 2259.7375037\ttotal: 2.88s\tremaining: 2.45s\n",
      "54:\tlearn: 2245.0193349\ttotal: 2.94s\tremaining: 2.41s\n",
      "55:\tlearn: 2229.0756221\ttotal: 3s\tremaining: 2.36s\n",
      "56:\tlearn: 2213.8003889\ttotal: 3.06s\tremaining: 2.31s\n",
      "57:\tlearn: 2199.8600384\ttotal: 3.11s\tremaining: 2.25s\n",
      "58:\tlearn: 2186.4614802\ttotal: 3.16s\tremaining: 2.2s\n",
      "59:\tlearn: 2173.7818700\ttotal: 3.21s\tremaining: 2.14s\n",
      "60:\tlearn: 2160.9599643\ttotal: 3.27s\tremaining: 2.09s\n",
      "61:\tlearn: 2149.3694416\ttotal: 3.32s\tremaining: 2.03s\n",
      "62:\tlearn: 2138.5863855\ttotal: 3.37s\tremaining: 1.98s\n",
      "63:\tlearn: 2127.1632194\ttotal: 3.42s\tremaining: 1.93s\n",
      "64:\tlearn: 2116.5376651\ttotal: 3.48s\tremaining: 1.87s\n",
      "65:\tlearn: 2105.6863748\ttotal: 3.53s\tremaining: 1.82s\n",
      "66:\tlearn: 2096.1048263\ttotal: 3.58s\tremaining: 1.76s\n",
      "67:\tlearn: 2086.2449703\ttotal: 3.63s\tremaining: 1.71s\n",
      "68:\tlearn: 2076.8449286\ttotal: 3.68s\tremaining: 1.66s\n",
      "69:\tlearn: 2067.7432309\ttotal: 3.74s\tremaining: 1.6s\n",
      "70:\tlearn: 2059.8012820\ttotal: 3.79s\tremaining: 1.55s\n",
      "71:\tlearn: 2051.8835491\ttotal: 3.85s\tremaining: 1.5s\n",
      "72:\tlearn: 2044.2100888\ttotal: 3.9s\tremaining: 1.44s\n",
      "73:\tlearn: 2037.1911753\ttotal: 3.95s\tremaining: 1.39s\n",
      "74:\tlearn: 2030.0256551\ttotal: 4.01s\tremaining: 1.33s\n",
      "75:\tlearn: 2022.6377865\ttotal: 4.06s\tremaining: 1.28s\n",
      "76:\tlearn: 2015.9080877\ttotal: 4.12s\tremaining: 1.23s\n",
      "77:\tlearn: 2009.3824910\ttotal: 4.17s\tremaining: 1.18s\n",
      "78:\tlearn: 2002.7320106\ttotal: 4.22s\tremaining: 1.12s\n",
      "79:\tlearn: 1996.1592945\ttotal: 4.27s\tremaining: 1.07s\n",
      "80:\tlearn: 1989.2894967\ttotal: 4.33s\tremaining: 1.01s\n",
      "81:\tlearn: 1983.3769521\ttotal: 4.38s\tremaining: 961ms\n",
      "82:\tlearn: 1977.2035966\ttotal: 4.43s\tremaining: 907ms\n",
      "83:\tlearn: 1970.8117813\ttotal: 4.48s\tremaining: 854ms\n",
      "84:\tlearn: 1964.9510674\ttotal: 4.53s\tremaining: 800ms\n",
      "85:\tlearn: 1959.1891462\ttotal: 4.58s\tremaining: 746ms\n",
      "86:\tlearn: 1953.3887668\ttotal: 4.64s\tremaining: 693ms\n",
      "87:\tlearn: 1947.5255619\ttotal: 4.71s\tremaining: 643ms\n",
      "88:\tlearn: 1942.3151033\ttotal: 4.81s\tremaining: 595ms\n",
      "89:\tlearn: 1937.2497643\ttotal: 4.88s\tremaining: 542ms\n",
      "90:\tlearn: 1932.7062241\ttotal: 4.93s\tremaining: 488ms\n",
      "91:\tlearn: 1928.2164735\ttotal: 5s\tremaining: 435ms\n",
      "92:\tlearn: 1923.9503203\ttotal: 5.08s\tremaining: 382ms\n",
      "93:\tlearn: 1919.2049326\ttotal: 5.15s\tremaining: 329ms\n",
      "94:\tlearn: 1915.1789741\ttotal: 5.2s\tremaining: 274ms\n",
      "95:\tlearn: 1910.6855566\ttotal: 5.26s\tremaining: 219ms\n",
      "96:\tlearn: 1906.9330313\ttotal: 5.31s\tremaining: 164ms\n",
      "97:\tlearn: 1903.3419479\ttotal: 5.37s\tremaining: 110ms\n",
      "98:\tlearn: 1899.8526756\ttotal: 5.42s\tremaining: 54.7ms\n",
      "99:\tlearn: 1896.3290343\ttotal: 5.47s\tremaining: 0us\n",
      "0:\tlearn: 4499.6174150\ttotal: 70.7ms\tremaining: 7s\n",
      "1:\tlearn: 4407.6454738\ttotal: 131ms\tremaining: 6.43s\n",
      "2:\tlearn: 4319.8079183\ttotal: 184ms\tremaining: 5.95s\n",
      "3:\tlearn: 4234.4103951\ttotal: 242ms\tremaining: 5.81s\n",
      "4:\tlearn: 4153.3483529\ttotal: 296ms\tremaining: 5.63s\n",
      "5:\tlearn: 4074.2019584\ttotal: 370ms\tremaining: 5.79s\n",
      "6:\tlearn: 3995.4064333\ttotal: 424ms\tremaining: 5.63s\n",
      "7:\tlearn: 3921.1365522\ttotal: 479ms\tremaining: 5.5s\n",
      "8:\tlearn: 3848.7084780\ttotal: 531ms\tremaining: 5.37s\n",
      "9:\tlearn: 3781.2287138\ttotal: 588ms\tremaining: 5.29s\n",
      "10:\tlearn: 3712.4212014\ttotal: 644ms\tremaining: 5.21s\n",
      "11:\tlearn: 3647.4250932\ttotal: 697ms\tremaining: 5.11s\n",
      "12:\tlearn: 3584.6608430\ttotal: 750ms\tremaining: 5.02s\n",
      "13:\tlearn: 3526.1342827\ttotal: 800ms\tremaining: 4.92s\n",
      "14:\tlearn: 3467.1210239\ttotal: 854ms\tremaining: 4.84s\n",
      "15:\tlearn: 3411.8439592\ttotal: 904ms\tremaining: 4.74s\n",
      "16:\tlearn: 3358.2064655\ttotal: 953ms\tremaining: 4.65s\n",
      "17:\tlearn: 3306.6647165\ttotal: 1s\tremaining: 4.57s\n",
      "18:\tlearn: 3257.7925854\ttotal: 1.05s\tremaining: 4.5s\n",
      "19:\tlearn: 3210.5700778\ttotal: 1.11s\tremaining: 4.43s\n",
      "20:\tlearn: 3165.0970276\ttotal: 1.16s\tremaining: 4.36s\n",
      "21:\tlearn: 3120.9467822\ttotal: 1.21s\tremaining: 4.29s\n",
      "22:\tlearn: 3079.1559342\ttotal: 1.26s\tremaining: 4.22s\n",
      "23:\tlearn: 3039.3749762\ttotal: 1.31s\tremaining: 4.15s\n",
      "24:\tlearn: 2999.4851011\ttotal: 1.36s\tremaining: 4.09s\n",
      "25:\tlearn: 2960.7706636\ttotal: 1.42s\tremaining: 4.04s\n",
      "26:\tlearn: 2924.1390613\ttotal: 1.48s\tremaining: 4s\n",
      "27:\tlearn: 2888.4198982\ttotal: 1.54s\tremaining: 3.95s\n",
      "28:\tlearn: 2854.6678817\ttotal: 1.6s\tremaining: 3.91s\n",
      "29:\tlearn: 2822.4204149\ttotal: 1.65s\tremaining: 3.85s\n",
      "30:\tlearn: 2790.5218340\ttotal: 1.7s\tremaining: 3.79s\n",
      "31:\tlearn: 2759.9632292\ttotal: 1.77s\tremaining: 3.75s\n",
      "32:\tlearn: 2727.4507218\ttotal: 1.83s\tremaining: 3.71s\n",
      "33:\tlearn: 2695.4481121\ttotal: 1.88s\tremaining: 3.65s\n",
      "34:\tlearn: 2664.7880413\ttotal: 1.94s\tremaining: 3.61s\n",
      "35:\tlearn: 2635.5329749\ttotal: 2s\tremaining: 3.55s\n",
      "36:\tlearn: 2607.3056966\ttotal: 2.05s\tremaining: 3.49s\n",
      "37:\tlearn: 2580.8708360\ttotal: 2.11s\tremaining: 3.45s\n",
      "38:\tlearn: 2554.7391709\ttotal: 2.17s\tremaining: 3.39s\n",
      "39:\tlearn: 2529.5540277\ttotal: 2.22s\tremaining: 3.33s\n",
      "40:\tlearn: 2504.7426850\ttotal: 2.28s\tremaining: 3.28s\n",
      "41:\tlearn: 2480.8862620\ttotal: 2.33s\tremaining: 3.22s\n",
      "42:\tlearn: 2458.3419153\ttotal: 2.38s\tremaining: 3.15s\n",
      "43:\tlearn: 2435.9199391\ttotal: 2.44s\tremaining: 3.1s\n",
      "44:\tlearn: 2415.7154795\ttotal: 2.49s\tremaining: 3.04s\n",
      "45:\tlearn: 2396.0761973\ttotal: 2.54s\tremaining: 2.98s\n",
      "46:\tlearn: 2377.0086100\ttotal: 2.6s\tremaining: 2.93s\n",
      "47:\tlearn: 2358.5739138\ttotal: 2.65s\tremaining: 2.87s\n",
      "48:\tlearn: 2338.7481757\ttotal: 2.7s\tremaining: 2.81s\n",
      "49:\tlearn: 2320.1048728\ttotal: 2.75s\tremaining: 2.75s\n",
      "50:\tlearn: 2302.4887440\ttotal: 2.81s\tremaining: 2.7s\n",
      "51:\tlearn: 2285.3794844\ttotal: 2.88s\tremaining: 2.66s\n",
      "52:\tlearn: 2269.1152735\ttotal: 2.93s\tremaining: 2.6s\n",
      "53:\tlearn: 2253.5648778\ttotal: 2.98s\tremaining: 2.54s\n",
      "54:\tlearn: 2239.2256091\ttotal: 3.04s\tremaining: 2.48s\n",
      "55:\tlearn: 2224.4625139\ttotal: 3.09s\tremaining: 2.43s\n",
      "56:\tlearn: 2211.0704707\ttotal: 3.14s\tremaining: 2.37s\n",
      "57:\tlearn: 2197.8830781\ttotal: 3.19s\tremaining: 2.31s\n",
      "58:\tlearn: 2185.0798584\ttotal: 3.24s\tremaining: 2.25s\n",
      "59:\tlearn: 2172.6844301\ttotal: 3.31s\tremaining: 2.21s\n",
      "60:\tlearn: 2161.0444615\ttotal: 3.36s\tremaining: 2.15s\n",
      "61:\tlearn: 2149.1857214\ttotal: 3.42s\tremaining: 2.1s\n",
      "62:\tlearn: 2137.2773046\ttotal: 3.47s\tremaining: 2.04s\n",
      "63:\tlearn: 2126.3708384\ttotal: 3.52s\tremaining: 1.98s\n",
      "64:\tlearn: 2116.4106463\ttotal: 3.57s\tremaining: 1.92s\n",
      "65:\tlearn: 2106.4318145\ttotal: 3.63s\tremaining: 1.87s\n",
      "66:\tlearn: 2097.2422840\ttotal: 3.67s\tremaining: 1.81s\n",
      "67:\tlearn: 2088.1316131\ttotal: 3.73s\tremaining: 1.75s\n",
      "68:\tlearn: 2079.2368731\ttotal: 3.77s\tremaining: 1.7s\n",
      "69:\tlearn: 2070.6649326\ttotal: 3.83s\tremaining: 1.64s\n",
      "70:\tlearn: 2062.3279223\ttotal: 3.88s\tremaining: 1.58s\n",
      "71:\tlearn: 2054.6054503\ttotal: 3.93s\tremaining: 1.53s\n",
      "72:\tlearn: 2047.4074016\ttotal: 3.99s\tremaining: 1.47s\n",
      "73:\tlearn: 2040.0842787\ttotal: 4.04s\tremaining: 1.42s\n",
      "74:\tlearn: 2033.0680125\ttotal: 4.09s\tremaining: 1.36s\n",
      "75:\tlearn: 2026.0661115\ttotal: 4.15s\tremaining: 1.31s\n",
      "76:\tlearn: 2019.5906277\ttotal: 4.21s\tremaining: 1.26s\n",
      "77:\tlearn: 2013.0645897\ttotal: 4.26s\tremaining: 1.2s\n",
      "78:\tlearn: 2006.5398885\ttotal: 4.31s\tremaining: 1.15s\n",
      "79:\tlearn: 2000.5557567\ttotal: 4.36s\tremaining: 1.09s\n",
      "80:\tlearn: 1995.0986783\ttotal: 4.42s\tremaining: 1.04s\n",
      "81:\tlearn: 1988.8052577\ttotal: 4.47s\tremaining: 982ms\n",
      "82:\tlearn: 1981.9354490\ttotal: 4.53s\tremaining: 927ms\n",
      "83:\tlearn: 1976.2745338\ttotal: 4.58s\tremaining: 872ms\n",
      "84:\tlearn: 1969.9624255\ttotal: 4.63s\tremaining: 817ms\n",
      "85:\tlearn: 1964.3674198\ttotal: 4.68s\tremaining: 763ms\n",
      "86:\tlearn: 1959.1945260\ttotal: 4.74s\tremaining: 708ms\n",
      "87:\tlearn: 1954.5646424\ttotal: 4.79s\tremaining: 653ms\n",
      "88:\tlearn: 1950.0948443\ttotal: 4.84s\tremaining: 598ms\n",
      "89:\tlearn: 1945.3043028\ttotal: 4.9s\tremaining: 544ms\n",
      "90:\tlearn: 1940.0347283\ttotal: 4.95s\tremaining: 490ms\n",
      "91:\tlearn: 1935.1407879\ttotal: 5s\tremaining: 435ms\n",
      "92:\tlearn: 1930.9872799\ttotal: 5.05s\tremaining: 380ms\n",
      "93:\tlearn: 1927.0791765\ttotal: 5.11s\tremaining: 326ms\n",
      "94:\tlearn: 1923.0597110\ttotal: 5.16s\tremaining: 272ms\n",
      "95:\tlearn: 1918.1673052\ttotal: 5.21s\tremaining: 217ms\n",
      "96:\tlearn: 1914.0729238\ttotal: 5.27s\tremaining: 163ms\n",
      "97:\tlearn: 1910.3793943\ttotal: 5.33s\tremaining: 109ms\n",
      "98:\tlearn: 1906.8989229\ttotal: 5.38s\tremaining: 54.4ms\n",
      "99:\tlearn: 1903.2173063\ttotal: 5.44s\tremaining: 0us\n",
      "0:\tlearn: 4491.5922867\ttotal: 61.6ms\tremaining: 6.1s\n",
      "1:\tlearn: 4399.1946488\ttotal: 119ms\tremaining: 5.84s\n",
      "2:\tlearn: 4308.9889408\ttotal: 173ms\tremaining: 5.59s\n",
      "3:\tlearn: 4221.7163445\ttotal: 232ms\tremaining: 5.57s\n",
      "4:\tlearn: 4139.0725030\ttotal: 289ms\tremaining: 5.5s\n",
      "5:\tlearn: 4058.7619705\ttotal: 352ms\tremaining: 5.51s\n",
      "6:\tlearn: 3983.1280520\ttotal: 410ms\tremaining: 5.44s\n",
      "7:\tlearn: 3908.8651355\ttotal: 463ms\tremaining: 5.32s\n",
      "8:\tlearn: 3836.5181002\ttotal: 525ms\tremaining: 5.3s\n",
      "9:\tlearn: 3766.6415954\ttotal: 580ms\tremaining: 5.22s\n",
      "10:\tlearn: 3700.1927026\ttotal: 634ms\tremaining: 5.13s\n",
      "11:\tlearn: 3636.2820699\ttotal: 697ms\tremaining: 5.11s\n",
      "12:\tlearn: 3574.5271224\ttotal: 749ms\tremaining: 5.01s\n",
      "13:\tlearn: 3514.6605276\ttotal: 808ms\tremaining: 4.96s\n",
      "14:\tlearn: 3455.4979526\ttotal: 860ms\tremaining: 4.87s\n",
      "15:\tlearn: 3398.9587503\ttotal: 910ms\tremaining: 4.78s\n",
      "16:\tlearn: 3346.8794675\ttotal: 960ms\tremaining: 4.68s\n",
      "17:\tlearn: 3295.2281109\ttotal: 1.01s\tremaining: 4.6s\n",
      "18:\tlearn: 3244.7032320\ttotal: 1.06s\tremaining: 4.54s\n",
      "19:\tlearn: 3196.2665639\ttotal: 1.12s\tremaining: 4.49s\n",
      "20:\tlearn: 3151.5774004\ttotal: 1.18s\tremaining: 4.45s\n",
      "21:\tlearn: 3107.0990916\ttotal: 1.24s\tremaining: 4.41s\n",
      "22:\tlearn: 3063.2180311\ttotal: 1.3s\tremaining: 4.36s\n",
      "23:\tlearn: 3021.8121751\ttotal: 1.36s\tremaining: 4.31s\n",
      "24:\tlearn: 2983.3013505\ttotal: 1.42s\tremaining: 4.27s\n",
      "25:\tlearn: 2943.7073018\ttotal: 1.48s\tremaining: 4.22s\n",
      "26:\tlearn: 2906.7838379\ttotal: 1.54s\tremaining: 4.17s\n",
      "27:\tlearn: 2870.9559999\ttotal: 1.6s\tremaining: 4.12s\n",
      "28:\tlearn: 2836.0808223\ttotal: 1.66s\tremaining: 4.07s\n",
      "29:\tlearn: 2803.8308862\ttotal: 1.72s\tremaining: 4.02s\n",
      "30:\tlearn: 2772.7350711\ttotal: 1.8s\tremaining: 4s\n",
      "31:\tlearn: 2743.0358041\ttotal: 1.85s\tremaining: 3.94s\n",
      "32:\tlearn: 2713.9137688\ttotal: 1.91s\tremaining: 3.88s\n",
      "33:\tlearn: 2686.9286725\ttotal: 1.97s\tremaining: 3.82s\n",
      "34:\tlearn: 2655.9328271\ttotal: 2.03s\tremaining: 3.76s\n",
      "35:\tlearn: 2625.5715536\ttotal: 2.08s\tremaining: 3.7s\n",
      "36:\tlearn: 2597.4614058\ttotal: 2.14s\tremaining: 3.65s\n",
      "37:\tlearn: 2569.7922610\ttotal: 2.2s\tremaining: 3.59s\n",
      "38:\tlearn: 2544.2509258\ttotal: 2.26s\tremaining: 3.53s\n",
      "39:\tlearn: 2519.4330753\ttotal: 2.32s\tremaining: 3.48s\n",
      "40:\tlearn: 2495.4923183\ttotal: 2.38s\tremaining: 3.43s\n",
      "41:\tlearn: 2472.2469742\ttotal: 2.45s\tremaining: 3.38s\n",
      "42:\tlearn: 2450.3566240\ttotal: 2.53s\tremaining: 3.36s\n",
      "43:\tlearn: 2428.7885081\ttotal: 2.62s\tremaining: 3.33s\n",
      "44:\tlearn: 2408.3447593\ttotal: 2.68s\tremaining: 3.28s\n",
      "45:\tlearn: 2389.2703894\ttotal: 2.74s\tremaining: 3.22s\n",
      "46:\tlearn: 2370.2160775\ttotal: 2.8s\tremaining: 3.16s\n",
      "47:\tlearn: 2351.6492300\ttotal: 2.86s\tremaining: 3.1s\n",
      "48:\tlearn: 2334.7879730\ttotal: 2.92s\tremaining: 3.04s\n",
      "49:\tlearn: 2318.8005288\ttotal: 2.98s\tremaining: 2.98s\n",
      "50:\tlearn: 2303.0756259\ttotal: 3.04s\tremaining: 2.92s\n",
      "51:\tlearn: 2286.6977034\ttotal: 3.1s\tremaining: 2.87s\n",
      "52:\tlearn: 2269.5977224\ttotal: 3.16s\tremaining: 2.8s\n",
      "53:\tlearn: 2254.2527023\ttotal: 3.22s\tremaining: 2.74s\n",
      "54:\tlearn: 2239.7144479\ttotal: 3.28s\tremaining: 2.68s\n",
      "55:\tlearn: 2224.6136873\ttotal: 3.34s\tremaining: 2.62s\n",
      "56:\tlearn: 2210.4411493\ttotal: 3.4s\tremaining: 2.56s\n",
      "57:\tlearn: 2196.4298679\ttotal: 3.45s\tremaining: 2.5s\n",
      "58:\tlearn: 2182.7195585\ttotal: 3.51s\tremaining: 2.44s\n",
      "59:\tlearn: 2170.1954132\ttotal: 3.57s\tremaining: 2.38s\n",
      "60:\tlearn: 2157.7925566\ttotal: 3.63s\tremaining: 2.32s\n",
      "61:\tlearn: 2146.2940494\ttotal: 3.68s\tremaining: 2.26s\n",
      "62:\tlearn: 2134.7005605\ttotal: 3.74s\tremaining: 2.2s\n",
      "63:\tlearn: 2123.4831779\ttotal: 3.8s\tremaining: 2.14s\n",
      "64:\tlearn: 2113.1965890\ttotal: 3.86s\tremaining: 2.08s\n",
      "65:\tlearn: 2103.4155005\ttotal: 3.92s\tremaining: 2.02s\n",
      "66:\tlearn: 2094.4029183\ttotal: 3.97s\tremaining: 1.96s\n",
      "67:\tlearn: 2085.4651761\ttotal: 4.03s\tremaining: 1.9s\n",
      "68:\tlearn: 2076.5233342\ttotal: 4.08s\tremaining: 1.83s\n",
      "69:\tlearn: 2068.0127863\ttotal: 4.14s\tremaining: 1.77s\n",
      "70:\tlearn: 2059.5659274\ttotal: 4.19s\tremaining: 1.71s\n",
      "71:\tlearn: 2051.2752320\ttotal: 4.25s\tremaining: 1.65s\n",
      "72:\tlearn: 2043.7115340\ttotal: 4.31s\tremaining: 1.59s\n",
      "73:\tlearn: 2035.9008376\ttotal: 4.36s\tremaining: 1.53s\n",
      "74:\tlearn: 2028.0703797\ttotal: 4.41s\tremaining: 1.47s\n",
      "75:\tlearn: 2020.9015825\ttotal: 4.46s\tremaining: 1.41s\n",
      "76:\tlearn: 2014.5105135\ttotal: 4.51s\tremaining: 1.35s\n",
      "77:\tlearn: 2008.0733298\ttotal: 4.57s\tremaining: 1.29s\n",
      "78:\tlearn: 2001.9447948\ttotal: 4.62s\tremaining: 1.23s\n",
      "79:\tlearn: 1995.6993258\ttotal: 4.68s\tremaining: 1.17s\n",
      "80:\tlearn: 1990.0856479\ttotal: 4.73s\tremaining: 1.11s\n",
      "81:\tlearn: 1983.4833542\ttotal: 4.79s\tremaining: 1.05s\n",
      "82:\tlearn: 1976.5445916\ttotal: 4.84s\tremaining: 992ms\n",
      "83:\tlearn: 1970.7080246\ttotal: 4.9s\tremaining: 933ms\n",
      "84:\tlearn: 1964.9620893\ttotal: 4.98s\tremaining: 878ms\n",
      "85:\tlearn: 1959.6991049\ttotal: 5.03s\tremaining: 819ms\n",
      "86:\tlearn: 1954.2678824\ttotal: 5.08s\tremaining: 760ms\n",
      "87:\tlearn: 1949.1724819\ttotal: 5.15s\tremaining: 702ms\n",
      "88:\tlearn: 1944.5432932\ttotal: 5.22s\tremaining: 645ms\n",
      "89:\tlearn: 1939.7183145\ttotal: 5.27s\tremaining: 586ms\n",
      "90:\tlearn: 1934.6381468\ttotal: 5.32s\tremaining: 526ms\n",
      "91:\tlearn: 1929.6252534\ttotal: 5.38s\tremaining: 468ms\n",
      "92:\tlearn: 1925.4829550\ttotal: 5.43s\tremaining: 409ms\n",
      "93:\tlearn: 1921.2070496\ttotal: 5.49s\tremaining: 350ms\n",
      "94:\tlearn: 1917.0035928\ttotal: 5.54s\tremaining: 292ms\n",
      "95:\tlearn: 1913.3071260\ttotal: 5.59s\tremaining: 233ms\n",
      "96:\tlearn: 1909.8283014\ttotal: 5.65s\tremaining: 175ms\n",
      "97:\tlearn: 1906.1426773\ttotal: 5.7s\tremaining: 116ms\n",
      "98:\tlearn: 1902.3008526\ttotal: 5.77s\tremaining: 58.3ms\n",
      "99:\tlearn: 1898.6887858\ttotal: 5.82s\tremaining: 0us\n",
      "0:\tlearn: 4290.3851150\ttotal: 64.9ms\tremaining: 6.42s\n",
      "1:\tlearn: 4007.9466551\ttotal: 124ms\tremaining: 6.08s\n",
      "2:\tlearn: 3767.5585979\ttotal: 185ms\tremaining: 5.97s\n",
      "3:\tlearn: 3551.3217923\ttotal: 241ms\tremaining: 5.79s\n",
      "4:\tlearn: 3356.4042005\ttotal: 295ms\tremaining: 5.61s\n",
      "5:\tlearn: 3184.0518164\ttotal: 350ms\tremaining: 5.49s\n",
      "6:\tlearn: 3033.7460577\ttotal: 402ms\tremaining: 5.35s\n",
      "7:\tlearn: 2902.1387025\ttotal: 457ms\tremaining: 5.26s\n",
      "8:\tlearn: 2785.4550955\ttotal: 517ms\tremaining: 5.22s\n",
      "9:\tlearn: 2685.9545169\ttotal: 573ms\tremaining: 5.16s\n",
      "10:\tlearn: 2599.9340113\ttotal: 626ms\tremaining: 5.06s\n",
      "11:\tlearn: 2514.0847564\ttotal: 680ms\tremaining: 4.99s\n",
      "12:\tlearn: 2435.0094676\ttotal: 733ms\tremaining: 4.9s\n",
      "13:\tlearn: 2370.1200854\ttotal: 785ms\tremaining: 4.82s\n",
      "14:\tlearn: 2312.6114543\ttotal: 837ms\tremaining: 4.74s\n",
      "15:\tlearn: 2261.4590274\ttotal: 889ms\tremaining: 4.67s\n",
      "16:\tlearn: 2212.4254042\ttotal: 944ms\tremaining: 4.61s\n",
      "17:\tlearn: 2166.7149556\ttotal: 997ms\tremaining: 4.54s\n",
      "18:\tlearn: 2127.0054078\ttotal: 1.05s\tremaining: 4.48s\n",
      "19:\tlearn: 2095.3746893\ttotal: 1.1s\tremaining: 4.41s\n",
      "20:\tlearn: 2066.2017064\ttotal: 1.15s\tremaining: 4.34s\n",
      "21:\tlearn: 2040.9959574\ttotal: 1.21s\tremaining: 4.28s\n",
      "22:\tlearn: 2019.7878261\ttotal: 1.26s\tremaining: 4.21s\n",
      "23:\tlearn: 2001.1058774\ttotal: 1.31s\tremaining: 4.17s\n",
      "24:\tlearn: 1979.4853172\ttotal: 1.37s\tremaining: 4.12s\n",
      "25:\tlearn: 1962.7243288\ttotal: 1.43s\tremaining: 4.07s\n",
      "26:\tlearn: 1947.4635659\ttotal: 1.5s\tremaining: 4.04s\n",
      "27:\tlearn: 1931.4128644\ttotal: 1.55s\tremaining: 3.99s\n",
      "28:\tlearn: 1919.9967558\ttotal: 1.61s\tremaining: 3.95s\n",
      "29:\tlearn: 1907.9930434\ttotal: 1.67s\tremaining: 3.9s\n",
      "30:\tlearn: 1898.2310047\ttotal: 1.73s\tremaining: 3.84s\n",
      "31:\tlearn: 1887.4325586\ttotal: 1.78s\tremaining: 3.78s\n",
      "32:\tlearn: 1877.6113075\ttotal: 1.83s\tremaining: 3.72s\n",
      "33:\tlearn: 1867.7315758\ttotal: 1.89s\tremaining: 3.66s\n",
      "34:\tlearn: 1861.6669130\ttotal: 1.94s\tremaining: 3.6s\n",
      "35:\tlearn: 1854.3089787\ttotal: 1.99s\tremaining: 3.54s\n",
      "36:\tlearn: 1848.1075430\ttotal: 2.04s\tremaining: 3.48s\n",
      "37:\tlearn: 1840.2487645\ttotal: 2.1s\tremaining: 3.42s\n",
      "38:\tlearn: 1834.2478103\ttotal: 2.15s\tremaining: 3.36s\n",
      "39:\tlearn: 1828.1064974\ttotal: 2.2s\tremaining: 3.3s\n",
      "40:\tlearn: 1822.1811253\ttotal: 2.26s\tremaining: 3.25s\n",
      "41:\tlearn: 1817.4343624\ttotal: 2.31s\tremaining: 3.19s\n",
      "42:\tlearn: 1813.0688158\ttotal: 2.37s\tremaining: 3.14s\n",
      "43:\tlearn: 1807.3162994\ttotal: 2.42s\tremaining: 3.08s\n",
      "44:\tlearn: 1801.5299598\ttotal: 2.48s\tremaining: 3.03s\n",
      "45:\tlearn: 1798.1568976\ttotal: 2.53s\tremaining: 2.97s\n",
      "46:\tlearn: 1794.8261045\ttotal: 2.59s\tremaining: 2.92s\n",
      "47:\tlearn: 1791.5688992\ttotal: 2.66s\tremaining: 2.88s\n",
      "48:\tlearn: 1788.0033814\ttotal: 2.74s\tremaining: 2.86s\n",
      "49:\tlearn: 1783.5701945\ttotal: 2.8s\tremaining: 2.8s\n",
      "50:\tlearn: 1780.4612464\ttotal: 2.86s\tremaining: 2.75s\n",
      "51:\tlearn: 1777.4050086\ttotal: 2.91s\tremaining: 2.69s\n",
      "52:\tlearn: 1774.7574628\ttotal: 2.97s\tremaining: 2.63s\n",
      "53:\tlearn: 1772.2514163\ttotal: 3.03s\tremaining: 2.58s\n",
      "54:\tlearn: 1768.9923364\ttotal: 3.08s\tremaining: 2.52s\n",
      "55:\tlearn: 1765.8748377\ttotal: 3.13s\tremaining: 2.46s\n",
      "56:\tlearn: 1762.7836375\ttotal: 3.19s\tremaining: 2.41s\n",
      "57:\tlearn: 1759.9226067\ttotal: 3.25s\tremaining: 2.36s\n",
      "58:\tlearn: 1757.1820312\ttotal: 3.31s\tremaining: 2.3s\n",
      "59:\tlearn: 1755.0706660\ttotal: 3.37s\tremaining: 2.24s\n",
      "60:\tlearn: 1751.4793088\ttotal: 3.42s\tremaining: 2.19s\n",
      "61:\tlearn: 1749.8917868\ttotal: 3.48s\tremaining: 2.13s\n",
      "62:\tlearn: 1747.8097455\ttotal: 3.53s\tremaining: 2.07s\n",
      "63:\tlearn: 1745.3432827\ttotal: 3.61s\tremaining: 2.03s\n",
      "64:\tlearn: 1742.2374212\ttotal: 3.66s\tremaining: 1.97s\n",
      "65:\tlearn: 1739.2947097\ttotal: 3.72s\tremaining: 1.91s\n",
      "66:\tlearn: 1734.9003154\ttotal: 3.77s\tremaining: 1.86s\n",
      "67:\tlearn: 1732.4802348\ttotal: 3.82s\tremaining: 1.8s\n",
      "68:\tlearn: 1729.8919965\ttotal: 3.87s\tremaining: 1.74s\n",
      "69:\tlearn: 1726.9972077\ttotal: 3.93s\tremaining: 1.68s\n",
      "70:\tlearn: 1725.1714103\ttotal: 3.98s\tremaining: 1.63s\n",
      "71:\tlearn: 1722.1230695\ttotal: 4.04s\tremaining: 1.57s\n",
      "72:\tlearn: 1720.8713921\ttotal: 4.1s\tremaining: 1.51s\n",
      "73:\tlearn: 1718.5676295\ttotal: 4.15s\tremaining: 1.46s\n",
      "74:\tlearn: 1715.7435658\ttotal: 4.21s\tremaining: 1.4s\n",
      "75:\tlearn: 1713.9993909\ttotal: 4.26s\tremaining: 1.35s\n",
      "76:\tlearn: 1712.5040749\ttotal: 4.32s\tremaining: 1.29s\n",
      "77:\tlearn: 1711.4802166\ttotal: 4.37s\tremaining: 1.23s\n",
      "78:\tlearn: 1708.2865890\ttotal: 4.42s\tremaining: 1.18s\n",
      "79:\tlearn: 1703.4849281\ttotal: 4.48s\tremaining: 1.12s\n",
      "80:\tlearn: 1701.0196523\ttotal: 4.53s\tremaining: 1.06s\n",
      "81:\tlearn: 1698.1333413\ttotal: 4.58s\tremaining: 1.01s\n",
      "82:\tlearn: 1694.1284282\ttotal: 4.63s\tremaining: 949ms\n",
      "83:\tlearn: 1692.5218316\ttotal: 4.69s\tremaining: 893ms\n",
      "84:\tlearn: 1690.3405517\ttotal: 4.74s\tremaining: 837ms\n",
      "85:\tlearn: 1688.3318335\ttotal: 4.79s\tremaining: 781ms\n",
      "86:\tlearn: 1683.9336750\ttotal: 4.85s\tremaining: 725ms\n",
      "87:\tlearn: 1681.7149637\ttotal: 4.9s\tremaining: 669ms\n",
      "88:\tlearn: 1678.9480104\ttotal: 4.96s\tremaining: 613ms\n",
      "89:\tlearn: 1677.1984501\ttotal: 5.01s\tremaining: 557ms\n",
      "90:\tlearn: 1675.8081893\ttotal: 5.07s\tremaining: 501ms\n",
      "91:\tlearn: 1672.5068963\ttotal: 5.12s\tremaining: 445ms\n",
      "92:\tlearn: 1670.4524779\ttotal: 5.17s\tremaining: 389ms\n",
      "93:\tlearn: 1668.1680970\ttotal: 5.22s\tremaining: 333ms\n",
      "94:\tlearn: 1665.1381315\ttotal: 5.28s\tremaining: 278ms\n",
      "95:\tlearn: 1662.7542468\ttotal: 5.33s\tremaining: 222ms\n",
      "96:\tlearn: 1660.9115520\ttotal: 5.39s\tremaining: 167ms\n",
      "97:\tlearn: 1660.0294090\ttotal: 5.47s\tremaining: 112ms\n",
      "98:\tlearn: 1658.5231123\ttotal: 5.55s\tremaining: 56.1ms\n",
      "99:\tlearn: 1657.4767378\ttotal: 5.63s\tremaining: 0us\n",
      "0:\tlearn: 4289.4907167\ttotal: 59.3ms\tremaining: 5.87s\n",
      "1:\tlearn: 4007.1052008\ttotal: 115ms\tremaining: 5.63s\n",
      "2:\tlearn: 3764.4262586\ttotal: 165ms\tremaining: 5.35s\n",
      "3:\tlearn: 3549.7982120\ttotal: 222ms\tremaining: 5.34s\n",
      "4:\tlearn: 3355.5324059\ttotal: 275ms\tremaining: 5.23s\n",
      "5:\tlearn: 3185.7267953\ttotal: 330ms\tremaining: 5.16s\n",
      "6:\tlearn: 3039.7301996\ttotal: 381ms\tremaining: 5.07s\n",
      "7:\tlearn: 2908.6317006\ttotal: 435ms\tremaining: 5s\n",
      "8:\tlearn: 2792.9412738\ttotal: 487ms\tremaining: 4.92s\n",
      "9:\tlearn: 2693.5838406\ttotal: 538ms\tremaining: 4.84s\n",
      "10:\tlearn: 2609.8323634\ttotal: 586ms\tremaining: 4.74s\n",
      "11:\tlearn: 2520.7245083\ttotal: 637ms\tremaining: 4.67s\n",
      "12:\tlearn: 2443.4873985\ttotal: 688ms\tremaining: 4.61s\n",
      "13:\tlearn: 2378.2510303\ttotal: 741ms\tremaining: 4.55s\n",
      "14:\tlearn: 2320.9192020\ttotal: 799ms\tremaining: 4.53s\n",
      "15:\tlearn: 2270.3350356\ttotal: 896ms\tremaining: 4.7s\n",
      "16:\tlearn: 2220.7758957\ttotal: 946ms\tremaining: 4.62s\n",
      "17:\tlearn: 2178.4717983\ttotal: 996ms\tremaining: 4.54s\n",
      "18:\tlearn: 2139.5789194\ttotal: 1.04s\tremaining: 4.46s\n",
      "19:\tlearn: 2105.9982647\ttotal: 1.1s\tremaining: 4.39s\n",
      "20:\tlearn: 2076.6836087\ttotal: 1.15s\tremaining: 4.34s\n",
      "21:\tlearn: 2051.5776743\ttotal: 1.21s\tremaining: 4.27s\n",
      "22:\tlearn: 2027.0172813\ttotal: 1.26s\tremaining: 4.22s\n",
      "23:\tlearn: 2005.9017428\ttotal: 1.31s\tremaining: 4.16s\n",
      "24:\tlearn: 1985.7653436\ttotal: 1.37s\tremaining: 4.11s\n",
      "25:\tlearn: 1967.3892712\ttotal: 1.42s\tremaining: 4.05s\n",
      "26:\tlearn: 1948.9589614\ttotal: 1.48s\tremaining: 3.99s\n",
      "27:\tlearn: 1934.7221278\ttotal: 1.53s\tremaining: 3.93s\n",
      "28:\tlearn: 1920.3512001\ttotal: 1.58s\tremaining: 3.88s\n",
      "29:\tlearn: 1908.6251002\ttotal: 1.64s\tremaining: 3.83s\n",
      "30:\tlearn: 1898.0206386\ttotal: 1.7s\tremaining: 3.79s\n",
      "31:\tlearn: 1887.5862741\ttotal: 1.75s\tremaining: 3.73s\n",
      "32:\tlearn: 1878.4029156\ttotal: 1.8s\tremaining: 3.66s\n",
      "33:\tlearn: 1869.6841280\ttotal: 1.86s\tremaining: 3.61s\n",
      "34:\tlearn: 1861.7850838\ttotal: 1.92s\tremaining: 3.56s\n",
      "35:\tlearn: 1855.2096782\ttotal: 1.97s\tremaining: 3.5s\n",
      "36:\tlearn: 1849.5157975\ttotal: 2.02s\tremaining: 3.44s\n",
      "37:\tlearn: 1844.3032239\ttotal: 2.08s\tremaining: 3.39s\n",
      "38:\tlearn: 1838.6582886\ttotal: 2.14s\tremaining: 3.35s\n",
      "39:\tlearn: 1833.1028460\ttotal: 2.2s\tremaining: 3.3s\n",
      "40:\tlearn: 1829.2817477\ttotal: 2.25s\tremaining: 3.24s\n",
      "41:\tlearn: 1823.9440179\ttotal: 2.31s\tremaining: 3.19s\n",
      "42:\tlearn: 1819.5680938\ttotal: 2.36s\tremaining: 3.13s\n",
      "43:\tlearn: 1814.6604627\ttotal: 2.42s\tremaining: 3.07s\n",
      "44:\tlearn: 1810.9991716\ttotal: 2.47s\tremaining: 3.02s\n",
      "45:\tlearn: 1807.3796470\ttotal: 2.52s\tremaining: 2.96s\n",
      "46:\tlearn: 1803.4098356\ttotal: 2.58s\tremaining: 2.91s\n",
      "47:\tlearn: 1799.5551458\ttotal: 2.63s\tremaining: 2.85s\n",
      "48:\tlearn: 1795.5845788\ttotal: 2.7s\tremaining: 2.81s\n",
      "49:\tlearn: 1791.8523601\ttotal: 2.75s\tremaining: 2.75s\n",
      "50:\tlearn: 1789.3129816\ttotal: 2.81s\tremaining: 2.7s\n",
      "51:\tlearn: 1786.1341336\ttotal: 2.86s\tremaining: 2.64s\n",
      "52:\tlearn: 1782.8586786\ttotal: 2.92s\tremaining: 2.59s\n",
      "53:\tlearn: 1780.5275576\ttotal: 2.98s\tremaining: 2.54s\n",
      "54:\tlearn: 1776.3991970\ttotal: 3.04s\tremaining: 2.48s\n",
      "55:\tlearn: 1773.1414420\ttotal: 3.09s\tremaining: 2.43s\n",
      "56:\tlearn: 1768.9570777\ttotal: 3.15s\tremaining: 2.37s\n",
      "57:\tlearn: 1764.9798645\ttotal: 3.2s\tremaining: 2.32s\n",
      "58:\tlearn: 1762.9727609\ttotal: 3.25s\tremaining: 2.26s\n",
      "59:\tlearn: 1759.8023948\ttotal: 3.31s\tremaining: 2.2s\n",
      "60:\tlearn: 1757.0873854\ttotal: 3.36s\tremaining: 2.15s\n",
      "61:\tlearn: 1754.7254324\ttotal: 3.42s\tremaining: 2.1s\n",
      "62:\tlearn: 1753.2965848\ttotal: 3.48s\tremaining: 2.04s\n",
      "63:\tlearn: 1750.8739125\ttotal: 3.53s\tremaining: 1.99s\n",
      "64:\tlearn: 1748.4496243\ttotal: 3.58s\tremaining: 1.93s\n",
      "65:\tlearn: 1746.2781296\ttotal: 3.64s\tremaining: 1.87s\n",
      "66:\tlearn: 1742.1268211\ttotal: 3.69s\tremaining: 1.82s\n",
      "67:\tlearn: 1740.7595400\ttotal: 3.75s\tremaining: 1.76s\n",
      "68:\tlearn: 1738.7436024\ttotal: 3.8s\tremaining: 1.71s\n",
      "69:\tlearn: 1736.4116495\ttotal: 3.87s\tremaining: 1.66s\n",
      "70:\tlearn: 1733.9389622\ttotal: 3.92s\tremaining: 1.6s\n",
      "71:\tlearn: 1731.7290102\ttotal: 3.98s\tremaining: 1.55s\n",
      "72:\tlearn: 1730.2026109\ttotal: 4.03s\tremaining: 1.49s\n",
      "73:\tlearn: 1727.8665829\ttotal: 4.09s\tremaining: 1.44s\n",
      "74:\tlearn: 1724.8349844\ttotal: 4.14s\tremaining: 1.38s\n",
      "75:\tlearn: 1722.2446971\ttotal: 4.19s\tremaining: 1.32s\n",
      "76:\tlearn: 1719.2328979\ttotal: 4.25s\tremaining: 1.27s\n",
      "77:\tlearn: 1718.2489274\ttotal: 4.3s\tremaining: 1.21s\n",
      "78:\tlearn: 1716.4179018\ttotal: 4.36s\tremaining: 1.16s\n",
      "79:\tlearn: 1712.3564978\ttotal: 4.41s\tremaining: 1.1s\n",
      "80:\tlearn: 1709.4022987\ttotal: 4.47s\tremaining: 1.05s\n",
      "81:\tlearn: 1707.1778498\ttotal: 4.52s\tremaining: 993ms\n",
      "82:\tlearn: 1704.7473564\ttotal: 4.58s\tremaining: 937ms\n",
      "83:\tlearn: 1701.9821325\ttotal: 4.63s\tremaining: 882ms\n",
      "84:\tlearn: 1699.2476346\ttotal: 4.68s\tremaining: 826ms\n",
      "85:\tlearn: 1698.0052034\ttotal: 4.74s\tremaining: 771ms\n",
      "86:\tlearn: 1696.0036021\ttotal: 4.79s\tremaining: 717ms\n",
      "87:\tlearn: 1694.4913736\ttotal: 4.85s\tremaining: 662ms\n",
      "88:\tlearn: 1693.1512812\ttotal: 4.91s\tremaining: 607ms\n",
      "89:\tlearn: 1691.0301084\ttotal: 4.96s\tremaining: 551ms\n",
      "90:\tlearn: 1687.1142583\ttotal: 5.01s\tremaining: 496ms\n",
      "91:\tlearn: 1683.7963302\ttotal: 5.07s\tremaining: 441ms\n",
      "92:\tlearn: 1682.3230467\ttotal: 5.12s\tremaining: 385ms\n",
      "93:\tlearn: 1680.9326023\ttotal: 5.17s\tremaining: 330ms\n",
      "94:\tlearn: 1679.9751977\ttotal: 5.23s\tremaining: 275ms\n",
      "95:\tlearn: 1677.4082162\ttotal: 5.28s\tremaining: 220ms\n",
      "96:\tlearn: 1674.9350485\ttotal: 5.34s\tremaining: 165ms\n",
      "97:\tlearn: 1671.8272216\ttotal: 5.39s\tremaining: 110ms\n",
      "98:\tlearn: 1668.8983360\ttotal: 5.45s\tremaining: 55ms\n",
      "99:\tlearn: 1665.8670182\ttotal: 5.5s\tremaining: 0us\n",
      "0:\tlearn: 4277.7006294\ttotal: 68.4ms\tremaining: 6.77s\n",
      "1:\tlearn: 3995.8208062\ttotal: 121ms\tremaining: 5.93s\n",
      "2:\tlearn: 3752.3492183\ttotal: 181ms\tremaining: 5.86s\n",
      "3:\tlearn: 3531.3317967\ttotal: 239ms\tremaining: 5.74s\n",
      "4:\tlearn: 3340.9380246\ttotal: 292ms\tremaining: 5.55s\n",
      "5:\tlearn: 3172.9585146\ttotal: 350ms\tremaining: 5.48s\n",
      "6:\tlearn: 3023.1718367\ttotal: 407ms\tremaining: 5.41s\n",
      "7:\tlearn: 2892.6184657\ttotal: 462ms\tremaining: 5.32s\n",
      "8:\tlearn: 2779.1728728\ttotal: 519ms\tremaining: 5.25s\n",
      "9:\tlearn: 2682.6770665\ttotal: 574ms\tremaining: 5.17s\n",
      "10:\tlearn: 2598.3451063\ttotal: 628ms\tremaining: 5.08s\n",
      "11:\tlearn: 2507.9223364\ttotal: 680ms\tremaining: 4.99s\n",
      "12:\tlearn: 2433.4256166\ttotal: 729ms\tremaining: 4.88s\n",
      "13:\tlearn: 2367.3827278\ttotal: 778ms\tremaining: 4.78s\n",
      "14:\tlearn: 2309.5549429\ttotal: 828ms\tremaining: 4.69s\n",
      "15:\tlearn: 2260.1182898\ttotal: 878ms\tremaining: 4.61s\n",
      "16:\tlearn: 2217.4877294\ttotal: 927ms\tremaining: 4.53s\n",
      "17:\tlearn: 2173.8813984\ttotal: 979ms\tremaining: 4.46s\n",
      "18:\tlearn: 2134.2980205\ttotal: 1.03s\tremaining: 4.4s\n",
      "19:\tlearn: 2102.7029876\ttotal: 1.08s\tremaining: 4.34s\n",
      "20:\tlearn: 2072.1208782\ttotal: 1.13s\tremaining: 4.27s\n",
      "21:\tlearn: 2046.0991604\ttotal: 1.18s\tremaining: 4.2s\n",
      "22:\tlearn: 2021.7318709\ttotal: 1.24s\tremaining: 4.14s\n",
      "23:\tlearn: 1998.2610091\ttotal: 1.28s\tremaining: 4.07s\n",
      "24:\tlearn: 1978.2794378\ttotal: 1.34s\tremaining: 4.02s\n",
      "25:\tlearn: 1958.2557047\ttotal: 1.4s\tremaining: 3.97s\n",
      "26:\tlearn: 1941.9658079\ttotal: 1.46s\tremaining: 3.94s\n",
      "27:\tlearn: 1927.3092464\ttotal: 1.52s\tremaining: 3.9s\n",
      "28:\tlearn: 1914.1365246\ttotal: 1.57s\tremaining: 3.84s\n",
      "29:\tlearn: 1902.8169325\ttotal: 1.63s\tremaining: 3.79s\n",
      "30:\tlearn: 1892.8011649\ttotal: 1.68s\tremaining: 3.74s\n",
      "31:\tlearn: 1883.3551557\ttotal: 1.73s\tremaining: 3.68s\n",
      "32:\tlearn: 1873.8172688\ttotal: 1.79s\tremaining: 3.63s\n",
      "33:\tlearn: 1865.6970661\ttotal: 1.84s\tremaining: 3.57s\n",
      "34:\tlearn: 1857.4390696\ttotal: 1.91s\tremaining: 3.54s\n",
      "35:\tlearn: 1850.8179645\ttotal: 2s\tremaining: 3.56s\n",
      "36:\tlearn: 1842.8891155\ttotal: 2.09s\tremaining: 3.56s\n",
      "37:\tlearn: 1836.0517382\ttotal: 2.14s\tremaining: 3.5s\n",
      "38:\tlearn: 1831.0682825\ttotal: 2.2s\tremaining: 3.44s\n",
      "39:\tlearn: 1825.7068224\ttotal: 2.27s\tremaining: 3.4s\n",
      "40:\tlearn: 1820.9571801\ttotal: 2.33s\tremaining: 3.36s\n",
      "41:\tlearn: 1817.7993131\ttotal: 2.43s\tremaining: 3.35s\n",
      "42:\tlearn: 1814.0408296\ttotal: 2.48s\tremaining: 3.29s\n",
      "43:\tlearn: 1806.8101089\ttotal: 2.54s\tremaining: 3.23s\n",
      "44:\tlearn: 1802.0682931\ttotal: 2.59s\tremaining: 3.16s\n",
      "45:\tlearn: 1797.6702971\ttotal: 2.64s\tremaining: 3.1s\n",
      "46:\tlearn: 1793.1029897\ttotal: 2.7s\tremaining: 3.04s\n",
      "47:\tlearn: 1788.7269846\ttotal: 2.75s\tremaining: 2.98s\n",
      "48:\tlearn: 1785.4796891\ttotal: 2.81s\tremaining: 2.92s\n",
      "49:\tlearn: 1782.6867098\ttotal: 2.86s\tremaining: 2.86s\n",
      "50:\tlearn: 1779.7351492\ttotal: 2.92s\tremaining: 2.81s\n",
      "51:\tlearn: 1776.5597528\ttotal: 2.98s\tremaining: 2.75s\n",
      "52:\tlearn: 1772.6072670\ttotal: 3.03s\tremaining: 2.69s\n",
      "53:\tlearn: 1770.1865473\ttotal: 3.09s\tremaining: 2.63s\n",
      "54:\tlearn: 1768.2837994\ttotal: 3.15s\tremaining: 2.57s\n",
      "55:\tlearn: 1764.7148849\ttotal: 3.2s\tremaining: 2.52s\n",
      "56:\tlearn: 1762.4600506\ttotal: 3.26s\tremaining: 2.46s\n",
      "57:\tlearn: 1759.6699228\ttotal: 3.31s\tremaining: 2.4s\n",
      "58:\tlearn: 1755.0109289\ttotal: 3.36s\tremaining: 2.34s\n",
      "59:\tlearn: 1751.3007798\ttotal: 3.42s\tremaining: 2.28s\n",
      "60:\tlearn: 1747.7750606\ttotal: 3.5s\tremaining: 2.23s\n",
      "61:\tlearn: 1745.0557424\ttotal: 3.55s\tremaining: 2.18s\n",
      "62:\tlearn: 1743.1328969\ttotal: 3.61s\tremaining: 2.12s\n",
      "63:\tlearn: 1741.4201712\ttotal: 3.66s\tremaining: 2.06s\n",
      "64:\tlearn: 1739.5822183\ttotal: 3.72s\tremaining: 2s\n",
      "65:\tlearn: 1737.4645003\ttotal: 3.77s\tremaining: 1.94s\n",
      "66:\tlearn: 1734.6943409\ttotal: 3.83s\tremaining: 1.89s\n",
      "67:\tlearn: 1732.3416685\ttotal: 3.89s\tremaining: 1.83s\n",
      "68:\tlearn: 1731.1403328\ttotal: 3.95s\tremaining: 1.77s\n",
      "69:\tlearn: 1729.6396415\ttotal: 4.01s\tremaining: 1.72s\n",
      "70:\tlearn: 1725.9649294\ttotal: 4.07s\tremaining: 1.66s\n",
      "71:\tlearn: 1723.1980660\ttotal: 4.12s\tremaining: 1.6s\n",
      "72:\tlearn: 1721.8752146\ttotal: 4.18s\tremaining: 1.54s\n",
      "73:\tlearn: 1718.0715823\ttotal: 4.23s\tremaining: 1.49s\n",
      "74:\tlearn: 1715.5144722\ttotal: 4.29s\tremaining: 1.43s\n",
      "75:\tlearn: 1713.7282417\ttotal: 4.35s\tremaining: 1.37s\n",
      "76:\tlearn: 1711.1431753\ttotal: 4.42s\tremaining: 1.32s\n",
      "77:\tlearn: 1710.2910069\ttotal: 4.48s\tremaining: 1.26s\n",
      "78:\tlearn: 1708.0265664\ttotal: 4.54s\tremaining: 1.21s\n",
      "79:\tlearn: 1705.7601768\ttotal: 4.61s\tremaining: 1.15s\n",
      "80:\tlearn: 1704.3422300\ttotal: 4.67s\tremaining: 1.09s\n",
      "81:\tlearn: 1702.6011233\ttotal: 4.72s\tremaining: 1.04s\n",
      "82:\tlearn: 1700.2588339\ttotal: 4.78s\tremaining: 978ms\n",
      "83:\tlearn: 1697.7087481\ttotal: 4.83s\tremaining: 920ms\n",
      "84:\tlearn: 1695.4157130\ttotal: 4.89s\tremaining: 863ms\n",
      "85:\tlearn: 1692.5931095\ttotal: 4.97s\tremaining: 809ms\n",
      "86:\tlearn: 1690.9593127\ttotal: 5.02s\tremaining: 750ms\n",
      "87:\tlearn: 1689.5465112\ttotal: 5.07s\tremaining: 692ms\n",
      "88:\tlearn: 1687.4567305\ttotal: 5.13s\tremaining: 634ms\n",
      "89:\tlearn: 1685.1674003\ttotal: 5.18s\tremaining: 576ms\n",
      "90:\tlearn: 1683.2657236\ttotal: 5.24s\tremaining: 518ms\n",
      "91:\tlearn: 1681.7736606\ttotal: 5.29s\tremaining: 460ms\n",
      "92:\tlearn: 1680.0364789\ttotal: 5.35s\tremaining: 403ms\n",
      "93:\tlearn: 1678.9385108\ttotal: 5.41s\tremaining: 345ms\n",
      "94:\tlearn: 1676.2039326\ttotal: 5.46s\tremaining: 288ms\n",
      "95:\tlearn: 1673.7948171\ttotal: 5.52s\tremaining: 230ms\n",
      "96:\tlearn: 1672.1752741\ttotal: 5.58s\tremaining: 172ms\n",
      "97:\tlearn: 1671.4403198\ttotal: 5.64s\tremaining: 115ms\n",
      "98:\tlearn: 1671.4396214\ttotal: 5.66s\tremaining: 57.2ms\n",
      "99:\tlearn: 1669.5974409\ttotal: 5.72s\tremaining: 0us\n",
      "0:\tlearn: 4276.7087198\ttotal: 64.7ms\tremaining: 6.41s\n",
      "1:\tlearn: 3999.7972150\ttotal: 125ms\tremaining: 6.14s\n",
      "2:\tlearn: 3756.3632075\ttotal: 181ms\tremaining: 5.86s\n",
      "3:\tlearn: 3541.9758592\ttotal: 238ms\tremaining: 5.71s\n",
      "4:\tlearn: 3349.3558008\ttotal: 291ms\tremaining: 5.52s\n",
      "5:\tlearn: 3178.1411942\ttotal: 344ms\tremaining: 5.39s\n",
      "6:\tlearn: 3032.5930076\ttotal: 393ms\tremaining: 5.22s\n",
      "7:\tlearn: 2902.6724011\ttotal: 444ms\tremaining: 5.1s\n",
      "8:\tlearn: 2791.9379757\ttotal: 496ms\tremaining: 5.01s\n",
      "9:\tlearn: 2690.0085595\ttotal: 546ms\tremaining: 4.92s\n",
      "10:\tlearn: 2593.3400766\ttotal: 606ms\tremaining: 4.9s\n",
      "11:\tlearn: 2508.1723472\ttotal: 662ms\tremaining: 4.85s\n",
      "12:\tlearn: 2433.2677219\ttotal: 725ms\tremaining: 4.85s\n",
      "13:\tlearn: 2367.0640328\ttotal: 788ms\tremaining: 4.84s\n",
      "14:\tlearn: 2311.6615926\ttotal: 840ms\tremaining: 4.76s\n",
      "15:\tlearn: 2261.2909163\ttotal: 889ms\tremaining: 4.67s\n",
      "16:\tlearn: 2217.9673688\ttotal: 940ms\tremaining: 4.59s\n",
      "17:\tlearn: 2181.4738917\ttotal: 990ms\tremaining: 4.51s\n",
      "18:\tlearn: 2142.7827711\ttotal: 1.04s\tremaining: 4.43s\n",
      "19:\tlearn: 2106.5053296\ttotal: 1.09s\tremaining: 4.37s\n",
      "20:\tlearn: 2074.2542637\ttotal: 1.15s\tremaining: 4.31s\n",
      "21:\tlearn: 2045.5173138\ttotal: 1.2s\tremaining: 4.25s\n",
      "22:\tlearn: 2021.3929110\ttotal: 1.25s\tremaining: 4.19s\n",
      "23:\tlearn: 2001.1600133\ttotal: 1.31s\tremaining: 4.14s\n",
      "24:\tlearn: 1984.2470155\ttotal: 1.36s\tremaining: 4.08s\n",
      "25:\tlearn: 1967.7968301\ttotal: 1.41s\tremaining: 4.02s\n",
      "26:\tlearn: 1946.9176861\ttotal: 1.47s\tremaining: 3.97s\n",
      "27:\tlearn: 1931.1745456\ttotal: 1.52s\tremaining: 3.91s\n",
      "28:\tlearn: 1918.8428628\ttotal: 1.58s\tremaining: 3.87s\n",
      "29:\tlearn: 1908.4502013\ttotal: 1.64s\tremaining: 3.82s\n",
      "30:\tlearn: 1898.5298941\ttotal: 1.69s\tremaining: 3.76s\n",
      "31:\tlearn: 1886.9355861\ttotal: 1.75s\tremaining: 3.71s\n",
      "32:\tlearn: 1877.5015922\ttotal: 1.8s\tremaining: 3.65s\n",
      "33:\tlearn: 1869.8121395\ttotal: 1.85s\tremaining: 3.59s\n",
      "34:\tlearn: 1862.8078723\ttotal: 1.91s\tremaining: 3.54s\n",
      "35:\tlearn: 1855.9650818\ttotal: 1.96s\tremaining: 3.49s\n",
      "36:\tlearn: 1848.0694684\ttotal: 2.02s\tremaining: 3.44s\n",
      "37:\tlearn: 1840.8502361\ttotal: 2.07s\tremaining: 3.38s\n",
      "38:\tlearn: 1834.2566298\ttotal: 2.12s\tremaining: 3.31s\n",
      "39:\tlearn: 1828.5360393\ttotal: 2.17s\tremaining: 3.25s\n",
      "40:\tlearn: 1823.0094522\ttotal: 2.22s\tremaining: 3.2s\n",
      "41:\tlearn: 1818.0503378\ttotal: 2.27s\tremaining: 3.14s\n",
      "42:\tlearn: 1813.8743621\ttotal: 2.33s\tremaining: 3.08s\n",
      "43:\tlearn: 1809.7468534\ttotal: 2.38s\tremaining: 3.03s\n",
      "44:\tlearn: 1805.6566462\ttotal: 2.44s\tremaining: 2.98s\n",
      "45:\tlearn: 1802.4594720\ttotal: 2.49s\tremaining: 2.93s\n",
      "46:\tlearn: 1797.9057519\ttotal: 2.55s\tremaining: 2.88s\n",
      "47:\tlearn: 1793.9639299\ttotal: 2.62s\tremaining: 2.84s\n",
      "48:\tlearn: 1789.7582766\ttotal: 2.68s\tremaining: 2.79s\n",
      "49:\tlearn: 1786.7507765\ttotal: 2.76s\tremaining: 2.76s\n",
      "50:\tlearn: 1782.4633329\ttotal: 2.81s\tremaining: 2.7s\n",
      "51:\tlearn: 1779.4319349\ttotal: 2.87s\tremaining: 2.65s\n",
      "52:\tlearn: 1774.5565787\ttotal: 2.93s\tremaining: 2.6s\n",
      "53:\tlearn: 1771.9257993\ttotal: 2.98s\tremaining: 2.54s\n",
      "54:\tlearn: 1767.6643460\ttotal: 3.04s\tremaining: 2.49s\n",
      "55:\tlearn: 1765.1525771\ttotal: 3.1s\tremaining: 2.44s\n",
      "56:\tlearn: 1762.2720143\ttotal: 3.15s\tremaining: 2.38s\n",
      "57:\tlearn: 1757.8064968\ttotal: 3.21s\tremaining: 2.33s\n",
      "58:\tlearn: 1753.9737560\ttotal: 3.27s\tremaining: 2.27s\n",
      "59:\tlearn: 1749.9836855\ttotal: 3.32s\tremaining: 2.21s\n",
      "60:\tlearn: 1746.5297854\ttotal: 3.38s\tremaining: 2.16s\n",
      "61:\tlearn: 1743.2831110\ttotal: 3.43s\tremaining: 2.1s\n",
      "62:\tlearn: 1739.2923434\ttotal: 3.48s\tremaining: 2.05s\n",
      "63:\tlearn: 1736.4760671\ttotal: 3.54s\tremaining: 1.99s\n",
      "64:\tlearn: 1732.2246217\ttotal: 3.59s\tremaining: 1.93s\n",
      "65:\tlearn: 1728.7320891\ttotal: 3.64s\tremaining: 1.88s\n",
      "66:\tlearn: 1726.7779554\ttotal: 3.7s\tremaining: 1.82s\n",
      "67:\tlearn: 1724.0787659\ttotal: 3.76s\tremaining: 1.77s\n",
      "68:\tlearn: 1720.8727428\ttotal: 3.82s\tremaining: 1.71s\n",
      "69:\tlearn: 1719.0116344\ttotal: 3.87s\tremaining: 1.66s\n",
      "70:\tlearn: 1716.4491085\ttotal: 3.92s\tremaining: 1.6s\n",
      "71:\tlearn: 1714.9425905\ttotal: 3.98s\tremaining: 1.55s\n",
      "72:\tlearn: 1712.1111389\ttotal: 4.04s\tremaining: 1.49s\n",
      "73:\tlearn: 1710.0148408\ttotal: 4.1s\tremaining: 1.44s\n",
      "74:\tlearn: 1708.9788708\ttotal: 4.16s\tremaining: 1.39s\n",
      "75:\tlearn: 1706.8514345\ttotal: 4.21s\tremaining: 1.33s\n",
      "76:\tlearn: 1704.0661642\ttotal: 4.27s\tremaining: 1.27s\n",
      "77:\tlearn: 1702.6145380\ttotal: 4.32s\tremaining: 1.22s\n",
      "78:\tlearn: 1700.5410292\ttotal: 4.38s\tremaining: 1.16s\n",
      "79:\tlearn: 1698.0908366\ttotal: 4.44s\tremaining: 1.11s\n",
      "80:\tlearn: 1694.3204845\ttotal: 4.49s\tremaining: 1.05s\n",
      "81:\tlearn: 1690.7656142\ttotal: 4.54s\tremaining: 998ms\n",
      "82:\tlearn: 1689.0075937\ttotal: 4.62s\tremaining: 947ms\n",
      "83:\tlearn: 1686.7074577\ttotal: 4.67s\tremaining: 890ms\n",
      "84:\tlearn: 1684.3921048\ttotal: 4.73s\tremaining: 835ms\n",
      "85:\tlearn: 1682.6141674\ttotal: 4.8s\tremaining: 782ms\n",
      "86:\tlearn: 1681.2521891\ttotal: 4.86s\tremaining: 727ms\n",
      "87:\tlearn: 1679.1872800\ttotal: 4.93s\tremaining: 672ms\n",
      "88:\tlearn: 1678.6798079\ttotal: 4.99s\tremaining: 617ms\n",
      "89:\tlearn: 1677.2859558\ttotal: 5.04s\tremaining: 561ms\n",
      "90:\tlearn: 1675.0003249\ttotal: 5.1s\tremaining: 504ms\n",
      "91:\tlearn: 1673.6396532\ttotal: 5.16s\tremaining: 448ms\n",
      "92:\tlearn: 1672.4786342\ttotal: 5.22s\tremaining: 393ms\n",
      "93:\tlearn: 1670.0389233\ttotal: 5.27s\tremaining: 337ms\n",
      "94:\tlearn: 1668.2085388\ttotal: 5.33s\tremaining: 281ms\n",
      "95:\tlearn: 1666.5689672\ttotal: 5.39s\tremaining: 225ms\n",
      "96:\tlearn: 1664.9783514\ttotal: 5.45s\tremaining: 169ms\n",
      "97:\tlearn: 1664.0480128\ttotal: 5.5s\tremaining: 112ms\n",
      "98:\tlearn: 1662.5839801\ttotal: 5.56s\tremaining: 56.2ms\n",
      "99:\tlearn: 1660.2759648\ttotal: 5.62s\tremaining: 0us\n",
      "0:\tlearn: 4268.9302155\ttotal: 65.6ms\tremaining: 6.5s\n",
      "1:\tlearn: 3992.7412746\ttotal: 138ms\tremaining: 6.77s\n",
      "2:\tlearn: 3750.3118090\ttotal: 192ms\tremaining: 6.22s\n",
      "3:\tlearn: 3531.7810542\ttotal: 254ms\tremaining: 6.1s\n",
      "4:\tlearn: 3343.1647820\ttotal: 312ms\tremaining: 5.93s\n",
      "5:\tlearn: 3175.0907465\ttotal: 372ms\tremaining: 5.83s\n",
      "6:\tlearn: 3025.3874677\ttotal: 424ms\tremaining: 5.63s\n",
      "7:\tlearn: 2897.2743421\ttotal: 476ms\tremaining: 5.47s\n",
      "8:\tlearn: 2778.3844148\ttotal: 529ms\tremaining: 5.35s\n",
      "9:\tlearn: 2667.6387766\ttotal: 583ms\tremaining: 5.25s\n",
      "10:\tlearn: 2573.4784293\ttotal: 638ms\tremaining: 5.16s\n",
      "11:\tlearn: 2487.0717481\ttotal: 694ms\tremaining: 5.09s\n",
      "12:\tlearn: 2412.5034743\ttotal: 749ms\tremaining: 5.01s\n",
      "13:\tlearn: 2346.7958082\ttotal: 803ms\tremaining: 4.93s\n",
      "14:\tlearn: 2291.2607534\ttotal: 854ms\tremaining: 4.84s\n",
      "15:\tlearn: 2244.4789159\ttotal: 903ms\tremaining: 4.74s\n",
      "16:\tlearn: 2196.4572168\ttotal: 956ms\tremaining: 4.67s\n",
      "17:\tlearn: 2152.9161618\ttotal: 1.01s\tremaining: 4.59s\n",
      "18:\tlearn: 2115.3089008\ttotal: 1.07s\tremaining: 4.57s\n",
      "19:\tlearn: 2082.5098941\ttotal: 1.13s\tremaining: 4.53s\n",
      "20:\tlearn: 2055.5588685\ttotal: 1.19s\tremaining: 4.46s\n",
      "21:\tlearn: 2030.1185543\ttotal: 1.24s\tremaining: 4.39s\n",
      "22:\tlearn: 2006.2569094\ttotal: 1.3s\tremaining: 4.34s\n",
      "23:\tlearn: 1987.1273957\ttotal: 1.35s\tremaining: 4.27s\n",
      "24:\tlearn: 1970.7652204\ttotal: 1.4s\tremaining: 4.2s\n",
      "25:\tlearn: 1951.9107029\ttotal: 1.46s\tremaining: 4.16s\n",
      "26:\tlearn: 1934.4701784\ttotal: 1.52s\tremaining: 4.11s\n",
      "27:\tlearn: 1920.4138233\ttotal: 1.57s\tremaining: 4.05s\n",
      "28:\tlearn: 1906.3646179\ttotal: 1.64s\tremaining: 4.01s\n",
      "29:\tlearn: 1896.6416936\ttotal: 1.7s\tremaining: 3.96s\n",
      "30:\tlearn: 1885.9543795\ttotal: 1.75s\tremaining: 3.9s\n",
      "31:\tlearn: 1875.1344199\ttotal: 1.81s\tremaining: 3.84s\n",
      "32:\tlearn: 1866.6256345\ttotal: 1.86s\tremaining: 3.79s\n",
      "33:\tlearn: 1859.2861376\ttotal: 1.92s\tremaining: 3.73s\n",
      "34:\tlearn: 1853.5883530\ttotal: 1.98s\tremaining: 3.67s\n",
      "35:\tlearn: 1844.0693673\ttotal: 2.04s\tremaining: 3.62s\n",
      "36:\tlearn: 1837.6849712\ttotal: 2.09s\tremaining: 3.56s\n",
      "37:\tlearn: 1831.4274804\ttotal: 2.15s\tremaining: 3.51s\n",
      "38:\tlearn: 1826.1528257\ttotal: 2.21s\tremaining: 3.46s\n",
      "39:\tlearn: 1819.7645439\ttotal: 2.26s\tremaining: 3.39s\n",
      "40:\tlearn: 1815.1205273\ttotal: 2.32s\tremaining: 3.34s\n",
      "41:\tlearn: 1809.3486580\ttotal: 2.39s\tremaining: 3.3s\n",
      "42:\tlearn: 1805.3976409\ttotal: 2.46s\tremaining: 3.26s\n",
      "43:\tlearn: 1800.9574971\ttotal: 2.51s\tremaining: 3.2s\n",
      "44:\tlearn: 1796.9237993\ttotal: 2.57s\tremaining: 3.14s\n",
      "45:\tlearn: 1793.4653006\ttotal: 2.63s\tremaining: 3.08s\n",
      "46:\tlearn: 1790.4935669\ttotal: 2.69s\tremaining: 3.03s\n",
      "47:\tlearn: 1787.5759208\ttotal: 2.74s\tremaining: 2.97s\n",
      "48:\tlearn: 1783.9493224\ttotal: 2.8s\tremaining: 2.92s\n",
      "49:\tlearn: 1780.5027394\ttotal: 2.86s\tremaining: 2.86s\n",
      "50:\tlearn: 1777.0531047\ttotal: 2.92s\tremaining: 2.81s\n",
      "51:\tlearn: 1774.4985995\ttotal: 2.99s\tremaining: 2.76s\n",
      "52:\tlearn: 1770.4471842\ttotal: 3.04s\tremaining: 2.7s\n",
      "53:\tlearn: 1768.5692552\ttotal: 3.1s\tremaining: 2.64s\n",
      "54:\tlearn: 1765.6305864\ttotal: 3.15s\tremaining: 2.58s\n",
      "55:\tlearn: 1761.9713303\ttotal: 3.21s\tremaining: 2.52s\n",
      "56:\tlearn: 1759.4957668\ttotal: 3.27s\tremaining: 2.46s\n",
      "57:\tlearn: 1756.7133126\ttotal: 3.32s\tremaining: 2.4s\n",
      "58:\tlearn: 1755.1461941\ttotal: 3.38s\tremaining: 2.35s\n",
      "59:\tlearn: 1752.9560483\ttotal: 3.44s\tremaining: 2.29s\n",
      "60:\tlearn: 1750.8759451\ttotal: 3.49s\tremaining: 2.23s\n",
      "61:\tlearn: 1748.3230717\ttotal: 3.54s\tremaining: 2.17s\n",
      "62:\tlearn: 1745.9239524\ttotal: 3.6s\tremaining: 2.11s\n",
      "63:\tlearn: 1743.1697275\ttotal: 3.65s\tremaining: 2.05s\n",
      "64:\tlearn: 1741.3923175\ttotal: 3.71s\tremaining: 2s\n",
      "65:\tlearn: 1738.3192417\ttotal: 3.76s\tremaining: 1.94s\n",
      "66:\tlearn: 1736.2038459\ttotal: 3.81s\tremaining: 1.88s\n",
      "67:\tlearn: 1733.1453185\ttotal: 3.87s\tremaining: 1.82s\n",
      "68:\tlearn: 1730.7145252\ttotal: 3.93s\tremaining: 1.76s\n",
      "69:\tlearn: 1727.7012887\ttotal: 3.98s\tremaining: 1.71s\n",
      "70:\tlearn: 1725.9509251\ttotal: 4.04s\tremaining: 1.65s\n",
      "71:\tlearn: 1725.1630802\ttotal: 4.1s\tremaining: 1.59s\n",
      "72:\tlearn: 1722.3887635\ttotal: 4.16s\tremaining: 1.54s\n",
      "73:\tlearn: 1720.3834049\ttotal: 4.22s\tremaining: 1.48s\n",
      "74:\tlearn: 1718.2785223\ttotal: 4.27s\tremaining: 1.42s\n",
      "75:\tlearn: 1716.3151140\ttotal: 4.33s\tremaining: 1.36s\n",
      "76:\tlearn: 1713.6649863\ttotal: 4.38s\tremaining: 1.31s\n",
      "77:\tlearn: 1710.3965958\ttotal: 4.43s\tremaining: 1.25s\n",
      "78:\tlearn: 1708.7699023\ttotal: 4.49s\tremaining: 1.19s\n",
      "79:\tlearn: 1707.3056899\ttotal: 4.55s\tremaining: 1.14s\n",
      "80:\tlearn: 1704.8678539\ttotal: 4.6s\tremaining: 1.08s\n",
      "81:\tlearn: 1702.8038880\ttotal: 4.65s\tremaining: 1.02s\n",
      "82:\tlearn: 1701.4133643\ttotal: 4.71s\tremaining: 965ms\n",
      "83:\tlearn: 1700.0058956\ttotal: 4.77s\tremaining: 908ms\n",
      "84:\tlearn: 1699.4379867\ttotal: 4.82s\tremaining: 851ms\n",
      "85:\tlearn: 1697.7101357\ttotal: 4.88s\tremaining: 794ms\n",
      "86:\tlearn: 1696.4736304\ttotal: 4.93s\tremaining: 737ms\n",
      "87:\tlearn: 1695.2917546\ttotal: 4.98s\tremaining: 680ms\n",
      "88:\tlearn: 1691.4889694\ttotal: 5.04s\tremaining: 623ms\n",
      "89:\tlearn: 1689.0921687\ttotal: 5.11s\tremaining: 568ms\n",
      "90:\tlearn: 1687.8297632\ttotal: 5.17s\tremaining: 511ms\n",
      "91:\tlearn: 1686.3783166\ttotal: 5.23s\tremaining: 455ms\n",
      "92:\tlearn: 1684.6220639\ttotal: 5.29s\tremaining: 398ms\n",
      "93:\tlearn: 1683.3327553\ttotal: 5.35s\tremaining: 341ms\n",
      "94:\tlearn: 1679.1578990\ttotal: 5.4s\tremaining: 284ms\n",
      "95:\tlearn: 1676.1775658\ttotal: 5.46s\tremaining: 227ms\n",
      "96:\tlearn: 1672.5426195\ttotal: 5.52s\tremaining: 171ms\n",
      "97:\tlearn: 1668.4710719\ttotal: 5.57s\tremaining: 114ms\n",
      "98:\tlearn: 1666.9589856\ttotal: 5.63s\tremaining: 56.9ms\n",
      "99:\tlearn: 1662.4507493\ttotal: 5.68s\tremaining: 0us\n",
      "0:\tlearn: 4287.8195328\ttotal: 80.1ms\tremaining: 7.93s\n",
      "1:\tlearn: 4007.1907636\ttotal: 152ms\tremaining: 7.44s\n",
      "2:\tlearn: 3761.5432487\ttotal: 226ms\tremaining: 7.31s\n",
      "3:\tlearn: 3539.1795727\ttotal: 294ms\tremaining: 7.06s\n",
      "4:\tlearn: 3342.4115792\ttotal: 363ms\tremaining: 6.9s\n",
      "5:\tlearn: 3174.4657706\ttotal: 427ms\tremaining: 6.68s\n",
      "6:\tlearn: 3029.7853269\ttotal: 495ms\tremaining: 6.58s\n",
      "7:\tlearn: 2898.9164842\ttotal: 564ms\tremaining: 6.48s\n",
      "8:\tlearn: 2780.9963105\ttotal: 630ms\tremaining: 6.37s\n",
      "9:\tlearn: 2680.5189067\ttotal: 695ms\tremaining: 6.25s\n",
      "10:\tlearn: 2583.7758567\ttotal: 765ms\tremaining: 6.19s\n",
      "11:\tlearn: 2496.4376519\ttotal: 829ms\tremaining: 6.08s\n",
      "12:\tlearn: 2418.6470298\ttotal: 902ms\tremaining: 6.04s\n",
      "13:\tlearn: 2355.6979273\ttotal: 969ms\tremaining: 5.95s\n",
      "14:\tlearn: 2296.1495126\ttotal: 1.03s\tremaining: 5.85s\n",
      "15:\tlearn: 2249.2490457\ttotal: 1.1s\tremaining: 5.78s\n",
      "16:\tlearn: 2199.2936287\ttotal: 1.17s\tremaining: 5.69s\n",
      "17:\tlearn: 2155.5497845\ttotal: 1.23s\tremaining: 5.6s\n",
      "18:\tlearn: 2118.8000027\ttotal: 1.29s\tremaining: 5.52s\n",
      "19:\tlearn: 2084.3963998\ttotal: 1.36s\tremaining: 5.43s\n",
      "20:\tlearn: 2056.4062704\ttotal: 1.43s\tremaining: 5.39s\n",
      "21:\tlearn: 2031.7211784\ttotal: 1.52s\tremaining: 5.38s\n",
      "22:\tlearn: 2008.3816533\ttotal: 1.63s\tremaining: 5.46s\n",
      "23:\tlearn: 1990.2981315\ttotal: 1.7s\tremaining: 5.39s\n",
      "24:\tlearn: 1969.8507425\ttotal: 1.76s\tremaining: 5.3s\n",
      "25:\tlearn: 1952.6616403\ttotal: 1.83s\tremaining: 5.2s\n",
      "26:\tlearn: 1936.3480756\ttotal: 1.89s\tremaining: 5.12s\n",
      "27:\tlearn: 1921.1337830\ttotal: 1.96s\tremaining: 5.04s\n",
      "28:\tlearn: 1909.8699541\ttotal: 2.02s\tremaining: 4.94s\n",
      "29:\tlearn: 1898.5399047\ttotal: 2.08s\tremaining: 4.86s\n",
      "30:\tlearn: 1887.5734398\ttotal: 2.14s\tremaining: 4.77s\n",
      "31:\tlearn: 1877.4592305\ttotal: 2.2s\tremaining: 4.68s\n",
      "32:\tlearn: 1870.1201998\ttotal: 2.27s\tremaining: 4.61s\n",
      "33:\tlearn: 1862.4252916\ttotal: 2.33s\tremaining: 4.53s\n",
      "34:\tlearn: 1855.8071439\ttotal: 2.4s\tremaining: 4.45s\n",
      "35:\tlearn: 1848.3283661\ttotal: 2.46s\tremaining: 4.37s\n",
      "36:\tlearn: 1841.9871230\ttotal: 2.52s\tremaining: 4.29s\n",
      "37:\tlearn: 1836.3541339\ttotal: 2.58s\tremaining: 4.22s\n",
      "38:\tlearn: 1830.5458962\ttotal: 2.65s\tremaining: 4.14s\n",
      "39:\tlearn: 1824.5580404\ttotal: 2.72s\tremaining: 4.08s\n",
      "40:\tlearn: 1819.1238539\ttotal: 2.8s\tremaining: 4.02s\n",
      "41:\tlearn: 1815.5314516\ttotal: 2.88s\tremaining: 3.98s\n",
      "42:\tlearn: 1811.2307271\ttotal: 2.95s\tremaining: 3.92s\n",
      "43:\tlearn: 1807.3654219\ttotal: 3.02s\tremaining: 3.84s\n",
      "44:\tlearn: 1802.7765649\ttotal: 3.09s\tremaining: 3.77s\n",
      "45:\tlearn: 1799.7993623\ttotal: 3.16s\tremaining: 3.71s\n",
      "46:\tlearn: 1796.8888552\ttotal: 3.23s\tremaining: 3.64s\n",
      "47:\tlearn: 1792.3853836\ttotal: 3.3s\tremaining: 3.57s\n",
      "48:\tlearn: 1788.8820503\ttotal: 3.36s\tremaining: 3.5s\n",
      "49:\tlearn: 1785.4165699\ttotal: 3.44s\tremaining: 3.44s\n",
      "50:\tlearn: 1782.9167958\ttotal: 3.51s\tremaining: 3.37s\n",
      "51:\tlearn: 1779.0657161\ttotal: 3.57s\tremaining: 3.3s\n",
      "52:\tlearn: 1776.2434869\ttotal: 3.64s\tremaining: 3.23s\n",
      "53:\tlearn: 1773.3273250\ttotal: 3.71s\tremaining: 3.16s\n",
      "54:\tlearn: 1771.2757759\ttotal: 3.78s\tremaining: 3.09s\n",
      "55:\tlearn: 1769.0873960\ttotal: 3.85s\tremaining: 3.02s\n",
      "56:\tlearn: 1766.3450931\ttotal: 3.92s\tremaining: 2.95s\n",
      "57:\tlearn: 1764.2768606\ttotal: 3.99s\tremaining: 2.89s\n",
      "58:\tlearn: 1759.6933124\ttotal: 4.05s\tremaining: 2.82s\n",
      "59:\tlearn: 1756.1392348\ttotal: 4.12s\tremaining: 2.75s\n",
      "60:\tlearn: 1753.1393665\ttotal: 4.19s\tremaining: 2.68s\n",
      "61:\tlearn: 1749.4000177\ttotal: 4.26s\tremaining: 2.61s\n",
      "62:\tlearn: 1746.5743227\ttotal: 4.33s\tremaining: 2.54s\n",
      "63:\tlearn: 1744.0450024\ttotal: 4.41s\tremaining: 2.48s\n",
      "64:\tlearn: 1742.9956713\ttotal: 4.48s\tremaining: 2.41s\n",
      "65:\tlearn: 1740.8549632\ttotal: 4.55s\tremaining: 2.34s\n",
      "66:\tlearn: 1737.3672925\ttotal: 4.61s\tremaining: 2.27s\n",
      "67:\tlearn: 1735.8869313\ttotal: 4.68s\tremaining: 2.2s\n",
      "68:\tlearn: 1733.4875869\ttotal: 4.75s\tremaining: 2.13s\n",
      "69:\tlearn: 1731.9199046\ttotal: 4.82s\tremaining: 2.06s\n",
      "70:\tlearn: 1729.9831100\ttotal: 4.88s\tremaining: 1.99s\n",
      "71:\tlearn: 1727.4377010\ttotal: 4.96s\tremaining: 1.93s\n",
      "72:\tlearn: 1723.9676305\ttotal: 5.02s\tremaining: 1.86s\n",
      "73:\tlearn: 1720.8054294\ttotal: 5.09s\tremaining: 1.79s\n",
      "74:\tlearn: 1718.8522646\ttotal: 5.16s\tremaining: 1.72s\n",
      "75:\tlearn: 1715.9235603\ttotal: 5.23s\tremaining: 1.65s\n",
      "76:\tlearn: 1714.0448122\ttotal: 5.3s\tremaining: 1.58s\n",
      "77:\tlearn: 1712.1796034\ttotal: 5.38s\tremaining: 1.52s\n",
      "78:\tlearn: 1710.7044878\ttotal: 5.45s\tremaining: 1.45s\n",
      "79:\tlearn: 1708.5381644\ttotal: 5.52s\tremaining: 1.38s\n",
      "80:\tlearn: 1707.0914657\ttotal: 5.58s\tremaining: 1.31s\n",
      "81:\tlearn: 1705.4746746\ttotal: 5.67s\tremaining: 1.24s\n",
      "82:\tlearn: 1704.5211398\ttotal: 5.74s\tremaining: 1.18s\n",
      "83:\tlearn: 1703.1524495\ttotal: 5.81s\tremaining: 1.11s\n",
      "84:\tlearn: 1701.8738434\ttotal: 5.88s\tremaining: 1.04s\n",
      "85:\tlearn: 1700.6771119\ttotal: 5.95s\tremaining: 969ms\n",
      "86:\tlearn: 1699.2754932\ttotal: 6.03s\tremaining: 900ms\n",
      "87:\tlearn: 1698.2714663\ttotal: 6.09s\tremaining: 831ms\n",
      "88:\tlearn: 1694.4982127\ttotal: 6.16s\tremaining: 761ms\n",
      "89:\tlearn: 1690.9635859\ttotal: 6.22s\tremaining: 691ms\n",
      "90:\tlearn: 1687.7872307\ttotal: 6.29s\tremaining: 622ms\n",
      "91:\tlearn: 1684.7128311\ttotal: 6.35s\tremaining: 552ms\n",
      "92:\tlearn: 1682.3669169\ttotal: 6.42s\tremaining: 483ms\n",
      "93:\tlearn: 1681.0219026\ttotal: 6.49s\tremaining: 414ms\n",
      "94:\tlearn: 1678.2002344\ttotal: 6.55s\tremaining: 345ms\n",
      "95:\tlearn: 1676.7300772\ttotal: 6.62s\tremaining: 276ms\n",
      "96:\tlearn: 1673.8731051\ttotal: 6.69s\tremaining: 207ms\n",
      "97:\tlearn: 1672.3674322\ttotal: 6.75s\tremaining: 138ms\n",
      "98:\tlearn: 1671.2132308\ttotal: 6.82s\tremaining: 68.9ms\n",
      "99:\tlearn: 1668.3832332\ttotal: 6.89s\tremaining: 0us\n",
      "Best grid search hyperparameters are: {'depth': 10, 'iterations': 100, 'learning_rate': 0.1}\n",
      "CPU times: user 2min 51s, sys: 2.82 s, total: 2min 54s\n",
      "Wall time: 4min 10s\n"
     ]
    }
   ],
   "source": [
    "%%time\n",
    "#инициализируем модель CatBoost\n",
    "cat_features = ['Brand', 'VehicleType', 'Gearbox', 'FuelType','Repaired','Model']\n",
    "model_catboost = CatBoostRegressor(random_state = 12345, loss_function = 'RMSE', cat_features = cat_features)\n",
    "\n",
    "#подберем параметры модели CatBoost с помощью GridSearch\n",
    "\n",
    "grid_space={'iterations':[10, 20, 100],\n",
    "            'learning_rate':[0.03,0.1],\n",
    "              'depth':[3,6,10]\n",
    "           }\n",
    "\n",
    "#запускаем обучение\n",
    "grid = GridSearchCV(model_catboost, param_grid = grid_space, cv=5)\n",
    "model_grid = grid.fit(features_train_boosting, target_train)\n",
    "#выводим результат\n",
    "print('Best grid search hyperparameters are: '+str(model_grid.best_params_))"
   ]
  },
  {
   "cell_type": "code",
   "execution_count": 62,
   "metadata": {
    "scrolled": true
   },
   "outputs": [
    {
     "name": "stdout",
     "output_type": "stream",
     "text": [
      "0:\tlearn: 4287.8195328\ttotal: 109ms\tremaining: 10.8s\n",
      "1:\tlearn: 4007.1907636\ttotal: 189ms\tremaining: 9.26s\n",
      "2:\tlearn: 3761.5432487\ttotal: 265ms\tremaining: 8.57s\n",
      "3:\tlearn: 3539.1795727\ttotal: 329ms\tremaining: 7.9s\n",
      "4:\tlearn: 3342.4115792\ttotal: 392ms\tremaining: 7.44s\n",
      "5:\tlearn: 3174.4657706\ttotal: 454ms\tremaining: 7.11s\n",
      "6:\tlearn: 3029.7853269\ttotal: 514ms\tremaining: 6.83s\n",
      "7:\tlearn: 2898.9164842\ttotal: 579ms\tremaining: 6.66s\n",
      "8:\tlearn: 2780.9963105\ttotal: 651ms\tremaining: 6.58s\n",
      "9:\tlearn: 2680.5189067\ttotal: 717ms\tremaining: 6.45s\n",
      "10:\tlearn: 2583.7758567\ttotal: 782ms\tremaining: 6.33s\n",
      "11:\tlearn: 2496.4376519\ttotal: 843ms\tremaining: 6.18s\n",
      "12:\tlearn: 2418.6470298\ttotal: 903ms\tremaining: 6.04s\n",
      "13:\tlearn: 2355.6979273\ttotal: 964ms\tremaining: 5.92s\n",
      "14:\tlearn: 2296.1495126\ttotal: 1.02s\tremaining: 5.8s\n",
      "15:\tlearn: 2249.2490457\ttotal: 1.09s\tremaining: 5.72s\n",
      "16:\tlearn: 2199.2936287\ttotal: 1.15s\tremaining: 5.62s\n",
      "17:\tlearn: 2155.5497845\ttotal: 1.21s\tremaining: 5.52s\n",
      "18:\tlearn: 2118.8000027\ttotal: 1.28s\tremaining: 5.45s\n",
      "19:\tlearn: 2084.3963998\ttotal: 1.34s\tremaining: 5.37s\n",
      "20:\tlearn: 2056.4062704\ttotal: 1.41s\tremaining: 5.29s\n",
      "21:\tlearn: 2031.7211784\ttotal: 1.47s\tremaining: 5.21s\n",
      "22:\tlearn: 2008.3816533\ttotal: 1.53s\tremaining: 5.13s\n",
      "23:\tlearn: 1990.2981315\ttotal: 1.6s\tremaining: 5.06s\n",
      "24:\tlearn: 1969.8507425\ttotal: 1.66s\tremaining: 4.98s\n",
      "25:\tlearn: 1952.6616403\ttotal: 1.72s\tremaining: 4.9s\n",
      "26:\tlearn: 1936.3480756\ttotal: 1.78s\tremaining: 4.83s\n",
      "27:\tlearn: 1921.1337830\ttotal: 1.85s\tremaining: 4.76s\n",
      "28:\tlearn: 1909.8699541\ttotal: 1.92s\tremaining: 4.71s\n",
      "29:\tlearn: 1898.5399047\ttotal: 1.99s\tremaining: 4.64s\n",
      "30:\tlearn: 1887.5734398\ttotal: 2.05s\tremaining: 4.57s\n",
      "31:\tlearn: 1877.4592305\ttotal: 2.12s\tremaining: 4.5s\n",
      "32:\tlearn: 1870.1201998\ttotal: 2.19s\tremaining: 4.44s\n",
      "33:\tlearn: 1862.4252916\ttotal: 2.26s\tremaining: 4.39s\n",
      "34:\tlearn: 1855.8071439\ttotal: 2.33s\tremaining: 4.32s\n",
      "35:\tlearn: 1848.3283661\ttotal: 2.39s\tremaining: 4.25s\n",
      "36:\tlearn: 1841.9871230\ttotal: 2.46s\tremaining: 4.18s\n",
      "37:\tlearn: 1836.3541339\ttotal: 2.52s\tremaining: 4.12s\n",
      "38:\tlearn: 1830.5458962\ttotal: 2.59s\tremaining: 4.05s\n",
      "39:\tlearn: 1824.5580404\ttotal: 2.66s\tremaining: 3.99s\n",
      "40:\tlearn: 1819.1238539\ttotal: 2.72s\tremaining: 3.92s\n",
      "41:\tlearn: 1815.5314516\ttotal: 2.79s\tremaining: 3.85s\n",
      "42:\tlearn: 1811.2307271\ttotal: 2.86s\tremaining: 3.79s\n",
      "43:\tlearn: 1807.3654219\ttotal: 2.93s\tremaining: 3.73s\n",
      "44:\tlearn: 1802.7765649\ttotal: 2.99s\tremaining: 3.66s\n",
      "45:\tlearn: 1799.7993623\ttotal: 3.07s\tremaining: 3.6s\n",
      "46:\tlearn: 1796.8888552\ttotal: 3.14s\tremaining: 3.54s\n",
      "47:\tlearn: 1792.3853836\ttotal: 3.21s\tremaining: 3.48s\n",
      "48:\tlearn: 1788.8820503\ttotal: 3.28s\tremaining: 3.41s\n",
      "49:\tlearn: 1785.4165699\ttotal: 3.35s\tremaining: 3.35s\n",
      "50:\tlearn: 1782.9167958\ttotal: 3.41s\tremaining: 3.28s\n",
      "51:\tlearn: 1779.0657161\ttotal: 3.48s\tremaining: 3.21s\n",
      "52:\tlearn: 1776.2434869\ttotal: 3.55s\tremaining: 3.15s\n",
      "53:\tlearn: 1773.3273250\ttotal: 3.63s\tremaining: 3.09s\n",
      "54:\tlearn: 1771.2757759\ttotal: 3.69s\tremaining: 3.02s\n",
      "55:\tlearn: 1769.0873960\ttotal: 3.78s\tremaining: 2.97s\n",
      "56:\tlearn: 1766.3450931\ttotal: 3.86s\tremaining: 2.91s\n",
      "57:\tlearn: 1764.2768606\ttotal: 3.94s\tremaining: 2.86s\n",
      "58:\tlearn: 1759.6933124\ttotal: 4.02s\tremaining: 2.79s\n",
      "59:\tlearn: 1756.1392348\ttotal: 4.09s\tremaining: 2.73s\n",
      "60:\tlearn: 1753.1393665\ttotal: 4.16s\tremaining: 2.66s\n",
      "61:\tlearn: 1749.4000177\ttotal: 4.22s\tremaining: 2.59s\n",
      "62:\tlearn: 1746.5743227\ttotal: 4.29s\tremaining: 2.52s\n",
      "63:\tlearn: 1744.0450024\ttotal: 4.36s\tremaining: 2.45s\n",
      "64:\tlearn: 1742.9956713\ttotal: 4.43s\tremaining: 2.38s\n",
      "65:\tlearn: 1740.8549632\ttotal: 4.5s\tremaining: 2.32s\n",
      "66:\tlearn: 1737.3672925\ttotal: 4.56s\tremaining: 2.25s\n",
      "67:\tlearn: 1735.8869313\ttotal: 4.63s\tremaining: 2.18s\n",
      "68:\tlearn: 1733.4875869\ttotal: 4.69s\tremaining: 2.11s\n",
      "69:\tlearn: 1731.9199046\ttotal: 4.75s\tremaining: 2.04s\n",
      "70:\tlearn: 1729.9831100\ttotal: 4.82s\tremaining: 1.97s\n",
      "71:\tlearn: 1727.4377010\ttotal: 4.88s\tremaining: 1.9s\n",
      "72:\tlearn: 1723.9676305\ttotal: 4.95s\tremaining: 1.83s\n",
      "73:\tlearn: 1720.8054294\ttotal: 5.01s\tremaining: 1.76s\n",
      "74:\tlearn: 1718.8522646\ttotal: 5.08s\tremaining: 1.69s\n",
      "75:\tlearn: 1715.9235603\ttotal: 5.16s\tremaining: 1.63s\n",
      "76:\tlearn: 1714.0448122\ttotal: 5.23s\tremaining: 1.56s\n",
      "77:\tlearn: 1712.1796034\ttotal: 5.3s\tremaining: 1.5s\n",
      "78:\tlearn: 1710.7044878\ttotal: 5.37s\tremaining: 1.43s\n",
      "79:\tlearn: 1708.5381644\ttotal: 5.44s\tremaining: 1.36s\n",
      "80:\tlearn: 1707.0914657\ttotal: 5.5s\tremaining: 1.29s\n",
      "81:\tlearn: 1705.4746746\ttotal: 5.58s\tremaining: 1.23s\n",
      "82:\tlearn: 1704.5211398\ttotal: 5.65s\tremaining: 1.16s\n",
      "83:\tlearn: 1703.1524495\ttotal: 5.71s\tremaining: 1.09s\n",
      "84:\tlearn: 1701.8738434\ttotal: 5.78s\tremaining: 1.02s\n",
      "85:\tlearn: 1700.6771119\ttotal: 5.84s\tremaining: 951ms\n",
      "86:\tlearn: 1699.2754932\ttotal: 5.91s\tremaining: 883ms\n",
      "87:\tlearn: 1698.2714663\ttotal: 5.98s\tremaining: 815ms\n",
      "88:\tlearn: 1694.4982127\ttotal: 6.04s\tremaining: 747ms\n",
      "89:\tlearn: 1690.9635859\ttotal: 6.11s\tremaining: 679ms\n",
      "90:\tlearn: 1687.7872307\ttotal: 6.18s\tremaining: 611ms\n",
      "91:\tlearn: 1684.7128311\ttotal: 6.24s\tremaining: 543ms\n",
      "92:\tlearn: 1682.3669169\ttotal: 6.31s\tremaining: 475ms\n",
      "93:\tlearn: 1681.0219026\ttotal: 6.38s\tremaining: 407ms\n",
      "94:\tlearn: 1678.2002344\ttotal: 6.46s\tremaining: 340ms\n",
      "95:\tlearn: 1676.7300772\ttotal: 6.54s\tremaining: 273ms\n",
      "96:\tlearn: 1673.8731051\ttotal: 6.61s\tremaining: 204ms\n",
      "97:\tlearn: 1672.3674322\ttotal: 6.68s\tremaining: 136ms\n",
      "98:\tlearn: 1671.2132308\ttotal: 6.75s\tremaining: 68.1ms\n",
      "99:\tlearn: 1668.3832332\ttotal: 6.81s\tremaining: 0us\n",
      "Время обучения CatBoostRegressor: 7.666321039199829 секунд\n"
     ]
    }
   ],
   "source": [
    "#отдельно посчитиаем время обучения по подобранным параментрам\n",
    "\n",
    "start_time = time.time()\n",
    "\n",
    "model_catboost = CatBoostRegressor(iterations=100,\n",
    "                                   learning_rate=0.1,\n",
    "                                   depth=10,\n",
    "                                   loss_function='RMSE',\n",
    "                                   random_state=12345, cat_features = cat_features)\n",
    "\n",
    "model_catboost.fit(features_train_boosting, target_train)\n",
    "\n",
    "end_time = time.time()\n",
    "training_time_catboost = end_time - start_time\n",
    "\n",
    "# Время обучения модели CatBoostRegressor\n",
    "print(\"Время обучения CatBoostRegressor: %s секунд\" % training_time_catboost)\n"
   ]
  },
  {
   "cell_type": "code",
   "execution_count": 63,
   "metadata": {},
   "outputs": [
    {
     "name": "stdout",
     "output_type": "stream",
     "text": [
      "Время предсказания CatBoostRegressor: 0.22493720054626465 секунд\n"
     ]
    }
   ],
   "source": [
    "#посчитаем время предсказания модели CatBoostRegressor\n",
    "\n",
    "start_time = time.time()\n",
    "pred_catboost = model_catboost.predict(features_valid_boosting)\n",
    "\n",
    "end_time = time.time()\n",
    "prediction_time_catboost = end_time - start_time\n",
    "print(\"Время предсказания CatBoostRegressor: %s секунд\" % prediction_time_catboost)"
   ]
  },
  {
   "cell_type": "code",
   "execution_count": 64,
   "metadata": {},
   "outputs": [
    {
     "name": "stdout",
     "output_type": "stream",
     "text": [
      "RMSE CatBoostRegressor на тестовой выборке:' 1726.55\n"
     ]
    }
   ],
   "source": [
    "# Оценка качества модели CatBoostRegressor на тестовой выборке\n",
    "\n",
    "mse_catboost = mean_squared_error(target_valid, pred_catboost)\n",
    "rmse_catboost = round((mse_catboost) ** 0.5, 2)\n",
    "print(\"RMSE CatBoostRegressor на тестовой выборке:'\", rmse_catboost)"
   ]
  },
  {
   "cell_type": "markdown",
   "metadata": {},
   "source": [
    "***Модель LightGBM***"
   ]
  },
  {
   "cell_type": "code",
   "execution_count": 65,
   "metadata": {},
   "outputs": [
    {
     "name": "stdout",
     "output_type": "stream",
     "text": [
      "Best grid search hyperparameters are: {'learning_rate': 0.1, 'max_depth': 7, 'n_estimators': 20}\n",
      "CPU times: user 39 s, sys: 0 ns, total: 39 s\n",
      "Wall time: 39.3 s\n"
     ]
    }
   ],
   "source": [
    "%%time\n",
    "#инициализируем модель LightGBM\n",
    "\n",
    "model_LGB = LGBMRegressor(random_state = 12345, metric='rmse')\n",
    "\n",
    "#подберем параметры модели CatBoost с помощью GridSearch\n",
    "grid_space={'n_estimators':[5,20],\n",
    "            'learning_rate':[0.01, 0.1],\n",
    "              'max_depth':[3, 7]\n",
    "           }\n",
    "\n",
    "#запускаем обучение\n",
    "grid = GridSearchCV(model_LGB, param_grid = grid_space, cv=5)\n",
    "\n",
    "model_grid = grid.fit(features_train_oe, target_train)\n",
    "\n",
    "\n",
    "#выводим результат\n",
    "print('Best grid search hyperparameters are: '+str(model_grid.best_params_))"
   ]
  },
  {
   "cell_type": "code",
   "execution_count": 66,
   "metadata": {},
   "outputs": [
    {
     "name": "stdout",
     "output_type": "stream",
     "text": [
      "Время обучения LGBMRegressor: 40.51188135147095 секунд\n"
     ]
    }
   ],
   "source": [
    "#отдельно посчитиаем время обучения по подобранным параментрам\n",
    "\n",
    "start = time.time()\n",
    "\n",
    "model_LGB = LGBMRegressor(random_state=123, objective='rmse', n_estimators=20, learning_rate=0.1, ax_depth = 7 )\n",
    "model_LGB.fit(features_train_oe, target_train)\n",
    "\n",
    "end_time = time.time()\n",
    "training_time_LGBMR = end_time - start_time\n",
    "\n",
    "# Время обучения модели CatBoostRegressor\n",
    "print(\"Время обучения LGBMRegressor: %s секунд\" % training_time_LGBMR)"
   ]
  },
  {
   "cell_type": "code",
   "execution_count": 67,
   "metadata": {},
   "outputs": [
    {
     "name": "stdout",
     "output_type": "stream",
     "text": [
      "Время предсказания LGBMRegressor: 40.808552503585815 секунд\n"
     ]
    }
   ],
   "source": [
    "#посчитаем время предсказания модели LGBMRegressor(\n",
    "\n",
    "start = time.time()\n",
    "pred_LGB= model_LGB.predict(features_valid_oe)\n",
    "\n",
    "end_time = time.time()\n",
    "prediction_time_LGBMR = end_time - start_time\n",
    "print(\"Время предсказания LGBMRegressor: %s секунд\" % prediction_time_LGBMR)"
   ]
  },
  {
   "cell_type": "code",
   "execution_count": 68,
   "metadata": {},
   "outputs": [
    {
     "name": "stdout",
     "output_type": "stream",
     "text": [
      "RMSE LGBMRegressor на тестовой выборке:' 2167.63\n"
     ]
    }
   ],
   "source": [
    "# Оценка качества модели LGBMRegressorна тестовой выборке\n",
    "mse_LGB = mean_squared_error(target_valid, pred_LGB)\n",
    "rmse_LGB = round((mse_LGB) ** 0.5,2)\n",
    "print(\"RMSE LGBMRegressor на тестовой выборке:'\", rmse_LGB)"
   ]
  },
  {
   "cell_type": "code",
   "execution_count": 69,
   "metadata": {},
   "outputs": [
    {
     "data": {
      "text/html": [
       "<div>\n",
       "<style scoped>\n",
       "    .dataframe tbody tr th:only-of-type {\n",
       "        vertical-align: middle;\n",
       "    }\n",
       "\n",
       "    .dataframe tbody tr th {\n",
       "        vertical-align: top;\n",
       "    }\n",
       "\n",
       "    .dataframe thead th {\n",
       "        text-align: right;\n",
       "    }\n",
       "</style>\n",
       "<table border=\"1\" class=\"dataframe\">\n",
       "  <thead>\n",
       "    <tr style=\"text-align: right;\">\n",
       "      <th></th>\n",
       "      <th>Model</th>\n",
       "      <th>Training Time (sec)</th>\n",
       "      <th>Prediction Time (sec)</th>\n",
       "      <th>RMSE (Validation)</th>\n",
       "    </tr>\n",
       "  </thead>\n",
       "  <tbody>\n",
       "    <tr>\n",
       "      <th>0</th>\n",
       "      <td>LinearRegression</td>\n",
       "      <td>13.894652</td>\n",
       "      <td>0.211459</td>\n",
       "      <td>1.985047e+14</td>\n",
       "    </tr>\n",
       "    <tr>\n",
       "      <th>1</th>\n",
       "      <td>DecisionTreeRegressor</td>\n",
       "      <td>0.349619</td>\n",
       "      <td>0.055305</td>\n",
       "      <td>2.220530e+03</td>\n",
       "    </tr>\n",
       "    <tr>\n",
       "      <th>2</th>\n",
       "      <td>CatBoostRegressor</td>\n",
       "      <td>7.666321</td>\n",
       "      <td>0.224937</td>\n",
       "      <td>1.726550e+03</td>\n",
       "    </tr>\n",
       "    <tr>\n",
       "      <th>3</th>\n",
       "      <td>LightGBM</td>\n",
       "      <td>40.511881</td>\n",
       "      <td>40.808553</td>\n",
       "      <td>2.167630e+03</td>\n",
       "    </tr>\n",
       "  </tbody>\n",
       "</table>\n",
       "</div>"
      ],
      "text/plain": [
       "                   Model  Training Time (sec)  Prediction Time (sec)  \\\n",
       "0       LinearRegression            13.894652               0.211459   \n",
       "1  DecisionTreeRegressor             0.349619               0.055305   \n",
       "2      CatBoostRegressor             7.666321               0.224937   \n",
       "3               LightGBM            40.511881              40.808553   \n",
       "\n",
       "   RMSE (Validation)  \n",
       "0       1.985047e+14  \n",
       "1       2.220530e+03  \n",
       "2       1.726550e+03  \n",
       "3       2.167630e+03  "
      ]
     },
     "execution_count": 69,
     "metadata": {},
     "output_type": "execute_result"
    }
   ],
   "source": [
    "# Создание DataFrame с результатами\n",
    "results = pd.DataFrame({'Model': ['LinearRegression', 'DecisionTreeRegressor', 'CatBoostRegressor', 'LightGBM'],\n",
    "                        'Training Time (sec)': [training_time_lr, trainung_time_dtr, training_time_catboost, \n",
    "                                                training_time_LGBMR],\n",
    "                        'Prediction Time (sec)': [prediction_time_lr, prediction_time_dtr, prediction_time_catboost, \n",
    "                                                  prediction_time_LGBMR],\n",
    "                        'RMSE (Validation)': [rmse_lr_model, rmse_dtr_model, rmse_catboost, rmse_LGB]})\n",
    "\n",
    "\n",
    "\n",
    "\n",
    "# Вывод результатов\n",
    "results"
   ]
  },
  {
   "cell_type": "markdown",
   "metadata": {},
   "source": [
    "***Вывод***\n",
    "Мы обучили на тренировочной выборке  и сделали расчет времени времени обучения и предсказания, показателя RMSE на валидационной выборке. По показателям качества обучения  (данные по RMSE) со значительным опережением LiGHTGBM, но последней необходимо больше вреемени на обучение и предсказание. \n",
    "\n",
    "Поэтому ниже на тестовой выборке проведем финальное тестирование 2 моделей - CatBoostREgression и LiGHTGBM."
   ]
  },
  {
   "cell_type": "markdown",
   "metadata": {},
   "source": [
    "## Анализ моделей"
   ]
  },
  {
   "cell_type": "code",
   "execution_count": 70,
   "metadata": {},
   "outputs": [
    {
     "name": "stdout",
     "output_type": "stream",
     "text": [
      "Время обучения CatBoostRegressor: 0.05088639259338379 секунд\n",
      "RMSE CatBoostRegressor на тестовой выборке:' 1698.27\n",
      "CPU times: user 52.9 ms, sys: 0 ns, total: 52.9 ms\n",
      "Wall time: 52.2 ms\n"
     ]
    }
   ],
   "source": [
    "%%time\n",
    "#финальное тестирование модели CatBoostRegression на тестовой выборке, при этом оценим совокупное время на обучение\n",
    "# и предсказание и величину показателя качества RMSE\n",
    "\n",
    "start_time = time.time()\n",
    "\n",
    "#model_catboost = CatBoostRegressor(iterations=100,\n",
    "#                                   learning_rate=0.1,\n",
    "#                                   depth=10,\n",
    "#                                   loss_function='RMSE',\n",
    "#                                  random_state=12345, cat_features = cat_features)\n",
    "\n",
    "#model_catboost.fit(features_train_boosting, target_train)\n",
    "pred_catboost = model_catboost.predict(features_test_boosting)\n",
    "\n",
    "\n",
    "end_time = time.time()\n",
    "general_time_catboost = end_time - start_time\n",
    "\n",
    "\n",
    "# Время предсказания модели CatBoostRegressor\n",
    "print(\"Время обучения CatBoostRegressor: %s секунд\" % general_time_catboost)\n",
    "# Оценка качества модели CatBoostRegressor на тестовой выборке\n",
    "\n",
    "mse_catboost = mean_squared_error(target_test, pred_catboost)\n",
    "rmse_catboost = round((mse_catboost) ** 0.5, 2)\n",
    "print(\"RMSE CatBoostRegressor на тестовой выборке:'\", rmse_catboost)"
   ]
  },
  {
   "cell_type": "code",
   "execution_count": 71,
   "metadata": {},
   "outputs": [
    {
     "name": "stdout",
     "output_type": "stream",
     "text": [
      "RMSE LGBMRegressor на тестовой выборке:' 2167.63\n",
      "CPU times: user 234 ms, sys: 0 ns, total: 234 ms\n",
      "Wall time: 224 ms\n"
     ]
    }
   ],
   "source": [
    "%%time\n",
    "#финальное тестирование модели DTR на тестовой выборке, при этом оценим совокупное время на обучение\n",
    "# и предсказание и величину показателя качества RMSE\n",
    "\n",
    "pred_LGB= model_LGB.predict(features_valid_oe)\n",
    "\n",
    "\n",
    "# Оценка качества модели LGBMRegressorна тестовой выборке\n",
    "mse_LGB = mean_squared_error(target_valid, pred_LGB)\n",
    "rmse_LGB = round((mse_LGB) ** 0.5,2)\n",
    "print(\"RMSE LGBMRegressor на тестовой выборке:'\", rmse_LGB)"
   ]
  },
  {
   "cell_type": "markdown",
   "metadata": {},
   "source": [
    "***ВЫВОД:***\n",
    "\n",
    "В проекте была поставлена задача - построить модель для определения стоимости автомобиля для приложения с лучшими показателями качества предсказания, скорости и времени обучения. В нашем распоряжении были исторические данные: технические характеристики, комплектации и цены автомобилей.\n",
    "\n",
    "Мы использовали технологию градиентного бустинга в моделях CatBoostRegressor и LightGBM, и сравнили её с базовыми моделями LinearRegression и DecisionTreeRegressor.\n",
    "\n",
    "По итогам качества и скорости обучения на тестовых данных - лидирует модель CatBoostRegressor: RMSE = 1698.27, скорость обучения 9,33 сек., скорость предсказания 0,21 сек.\n",
    "\n",
    "За ней со значительно худшими показателями качества скорости идет модель LightGBM: ее RMSE = 2167.63, скорость обучения 501,14 сек., скорость предсказания 509,76 сек.\n",
    "\n",
    "Уверенно побеждает модель CatBoostRegressor.\n",
    "\n",
    "Таким образом для компании \"Не бит, не крашен\" можем смело рекомендовать модель CatBoostRegressor, так как эта модель показываем наименьшее отклонение прогнозных цен от фактических. При этом у нее достаточно быстрая скорость обучения и предсказания.\n",
    " "
   ]
  },
  {
   "cell_type": "markdown",
   "metadata": {},
   "source": [
    "## Чек-лист проверки"
   ]
  },
  {
   "cell_type": "markdown",
   "metadata": {},
   "source": [
    "Поставьте 'x' в выполненных пунктах. Далее нажмите Shift+Enter."
   ]
  },
  {
   "cell_type": "markdown",
   "metadata": {},
   "source": [
    "- [x]  Jupyter Notebook открыт\n",
    "- [ ]  Весь код выполняется без ошибок\n",
    "- [ ]  Ячейки с кодом расположены в порядке исполнения\n",
    "- [ ]  Выполнена загрузка и подготовка данных\n",
    "- [ ]  Выполнено обучение моделей\n",
    "- [ ]  Есть анализ скорости работы и качества моделей"
   ]
  }
 ],
 "metadata": {
  "ExecuteTimeLog": [
   {
    "duration": 383,
    "start_time": "2023-06-29T12:19:07.385Z"
   },
   {
    "duration": 1001,
    "start_time": "2023-06-29T12:20:32.296Z"
   },
   {
    "duration": 93,
    "start_time": "2023-06-29T12:21:00.587Z"
   },
   {
    "duration": 113,
    "start_time": "2023-06-29T12:21:18.184Z"
   },
   {
    "duration": 420,
    "start_time": "2023-06-29T12:21:34.787Z"
   },
   {
    "duration": 60,
    "start_time": "2023-06-29T12:23:08.354Z"
   },
   {
    "duration": 6,
    "start_time": "2023-06-29T12:23:16.153Z"
   },
   {
    "duration": 7,
    "start_time": "2023-06-29T12:23:26.923Z"
   },
   {
    "duration": 989,
    "start_time": "2023-06-29T12:23:59.561Z"
   },
   {
    "duration": 373,
    "start_time": "2023-06-29T12:24:41.628Z"
   },
   {
    "duration": 894,
    "start_time": "2023-06-29T12:24:42.002Z"
   },
   {
    "duration": 144,
    "start_time": "2023-06-29T12:24:42.899Z"
   },
   {
    "duration": 134,
    "start_time": "2023-06-29T12:24:43.045Z"
   },
   {
    "duration": 505,
    "start_time": "2023-06-29T12:24:43.182Z"
   },
   {
    "duration": 1117,
    "start_time": "2023-06-29T12:24:43.689Z"
   },
   {
    "duration": 448,
    "start_time": "2023-06-29T12:24:44.807Z"
   },
   {
    "duration": 459,
    "start_time": "2023-06-29T12:25:27.710Z"
   },
   {
    "duration": 600,
    "start_time": "2023-06-29T12:25:29.651Z"
   },
   {
    "duration": 447,
    "start_time": "2023-06-29T12:25:33.486Z"
   },
   {
    "duration": 121,
    "start_time": "2023-06-29T12:25:55.204Z"
   },
   {
    "duration": 425,
    "start_time": "2023-06-29T12:25:57.397Z"
   },
   {
    "duration": 4,
    "start_time": "2023-06-29T12:26:01.127Z"
   },
   {
    "duration": 824,
    "start_time": "2023-06-29T12:26:02.500Z"
   },
   {
    "duration": 810,
    "start_time": "2023-06-29T12:26:04.410Z"
   },
   {
    "duration": 152,
    "start_time": "2023-06-29T12:26:06.385Z"
   },
   {
    "duration": 388,
    "start_time": "2023-06-29T12:26:08.290Z"
   },
   {
    "duration": 891,
    "start_time": "2023-06-29T12:26:10.434Z"
   },
   {
    "duration": 5322,
    "start_time": "2023-06-29T12:30:18.041Z"
   },
   {
    "duration": 98,
    "start_time": "2023-06-29T12:31:11.217Z"
   },
   {
    "duration": 100,
    "start_time": "2023-06-29T12:31:35.693Z"
   },
   {
    "duration": 130,
    "start_time": "2023-06-29T12:32:44.400Z"
   },
   {
    "duration": 24,
    "start_time": "2023-06-29T12:35:11.628Z"
   },
   {
    "duration": 17,
    "start_time": "2023-06-29T12:36:13.305Z"
   },
   {
    "duration": 16,
    "start_time": "2023-06-29T12:36:16.114Z"
   },
   {
    "duration": 26,
    "start_time": "2023-06-29T12:41:38.112Z"
   },
   {
    "duration": 32,
    "start_time": "2023-06-29T12:43:16.567Z"
   },
   {
    "duration": 19,
    "start_time": "2023-06-29T12:46:13.055Z"
   },
   {
    "duration": 12,
    "start_time": "2023-06-29T12:53:50.374Z"
   },
   {
    "duration": 11,
    "start_time": "2023-06-29T12:54:00.844Z"
   },
   {
    "duration": 7,
    "start_time": "2023-06-29T12:54:11.334Z"
   },
   {
    "duration": 172,
    "start_time": "2023-06-29T13:00:55.631Z"
   },
   {
    "duration": 287,
    "start_time": "2023-06-29T13:01:15.098Z"
   },
   {
    "duration": 211,
    "start_time": "2023-06-29T13:02:17.444Z"
   },
   {
    "duration": 26,
    "start_time": "2023-06-29T13:06:41.134Z"
   },
   {
    "duration": 170,
    "start_time": "2023-06-29T13:06:43.435Z"
   },
   {
    "duration": 8,
    "start_time": "2023-06-29T13:10:57.304Z"
   },
   {
    "duration": 391,
    "start_time": "2023-06-29T13:11:26.854Z"
   },
   {
    "duration": 7,
    "start_time": "2023-06-29T13:11:40.739Z"
   },
   {
    "duration": 135,
    "start_time": "2023-06-29T13:11:48.727Z"
   },
   {
    "duration": 1054,
    "start_time": "2023-06-29T13:13:53.927Z"
   },
   {
    "duration": 489,
    "start_time": "2023-06-29T13:14:05.513Z"
   },
   {
    "duration": 36,
    "start_time": "2023-06-29T13:15:04.409Z"
   },
   {
    "duration": 7,
    "start_time": "2023-06-29T13:15:09.505Z"
   },
   {
    "duration": 425,
    "start_time": "2023-06-29T13:15:30.302Z"
   },
   {
    "duration": 986,
    "start_time": "2023-06-29T13:15:30.729Z"
   },
   {
    "duration": 143,
    "start_time": "2023-06-29T13:15:31.717Z"
   },
   {
    "duration": 159,
    "start_time": "2023-06-29T13:15:31.861Z"
   },
   {
    "duration": 173,
    "start_time": "2023-06-29T13:15:32.023Z"
   },
   {
    "duration": 530,
    "start_time": "2023-06-29T13:15:32.201Z"
   },
   {
    "duration": 1130,
    "start_time": "2023-06-29T13:15:32.733Z"
   },
   {
    "duration": 118,
    "start_time": "2023-06-29T13:15:33.865Z"
   },
   {
    "duration": 57,
    "start_time": "2023-06-29T13:15:33.991Z"
   },
   {
    "duration": 71,
    "start_time": "2023-06-29T13:15:34.050Z"
   },
   {
    "duration": 0,
    "start_time": "2023-06-29T13:15:34.122Z"
   },
   {
    "duration": 2,
    "start_time": "2023-06-29T13:32:34.965Z"
   },
   {
    "duration": 855,
    "start_time": "2023-06-29T13:32:37.149Z"
   },
   {
    "duration": 810,
    "start_time": "2023-06-29T13:32:42.522Z"
   },
   {
    "duration": 87,
    "start_time": "2023-06-29T13:32:43.334Z"
   },
   {
    "duration": 126,
    "start_time": "2023-06-29T13:32:43.423Z"
   },
   {
    "duration": 140,
    "start_time": "2023-06-29T13:32:43.550Z"
   },
   {
    "duration": 414,
    "start_time": "2023-06-29T13:32:43.695Z"
   },
   {
    "duration": 843,
    "start_time": "2023-06-29T13:32:44.111Z"
   },
   {
    "duration": 108,
    "start_time": "2023-06-29T13:32:44.956Z"
   },
   {
    "duration": 55,
    "start_time": "2023-06-29T13:32:45.065Z"
   },
   {
    "duration": 7,
    "start_time": "2023-06-29T13:32:45.122Z"
   },
   {
    "duration": 0,
    "start_time": "2023-06-29T13:32:45.131Z"
   },
   {
    "duration": 6,
    "start_time": "2023-06-29T13:33:18.737Z"
   },
   {
    "duration": 3,
    "start_time": "2023-06-29T13:33:27.341Z"
   },
   {
    "duration": 7,
    "start_time": "2023-06-29T13:33:29.413Z"
   },
   {
    "duration": 8,
    "start_time": "2023-06-29T13:33:40.637Z"
   },
   {
    "duration": 9,
    "start_time": "2023-06-29T13:34:15.190Z"
   },
   {
    "duration": 14,
    "start_time": "2023-06-29T13:35:38.583Z"
   },
   {
    "duration": 413,
    "start_time": "2023-06-29T13:35:50.896Z"
   },
   {
    "duration": 869,
    "start_time": "2023-06-29T13:35:51.311Z"
   },
   {
    "duration": 101,
    "start_time": "2023-06-29T13:35:52.182Z"
   },
   {
    "duration": 138,
    "start_time": "2023-06-29T13:35:52.286Z"
   },
   {
    "duration": 284,
    "start_time": "2023-06-29T13:35:52.425Z"
   },
   {
    "duration": 447,
    "start_time": "2023-06-29T13:35:52.710Z"
   },
   {
    "duration": 1062,
    "start_time": "2023-06-29T13:35:53.160Z"
   },
   {
    "duration": 106,
    "start_time": "2023-06-29T13:35:54.223Z"
   },
   {
    "duration": 74,
    "start_time": "2023-06-29T13:35:54.331Z"
   },
   {
    "duration": 2,
    "start_time": "2023-06-29T13:35:54.407Z"
   },
   {
    "duration": 72,
    "start_time": "2023-06-29T13:35:54.411Z"
   },
   {
    "duration": 15,
    "start_time": "2023-06-29T13:36:15.484Z"
   },
   {
    "duration": 2,
    "start_time": "2023-06-29T13:36:32.412Z"
   },
   {
    "duration": 14,
    "start_time": "2023-06-29T13:36:32.416Z"
   },
   {
    "duration": 3,
    "start_time": "2023-06-29T13:36:36.640Z"
   },
   {
    "duration": 878,
    "start_time": "2023-06-29T13:36:36.644Z"
   },
   {
    "duration": 103,
    "start_time": "2023-06-29T13:36:37.524Z"
   },
   {
    "duration": 147,
    "start_time": "2023-06-29T13:36:37.629Z"
   },
   {
    "duration": 120,
    "start_time": "2023-06-29T13:36:37.778Z"
   },
   {
    "duration": 398,
    "start_time": "2023-06-29T13:36:37.900Z"
   },
   {
    "duration": 958,
    "start_time": "2023-06-29T13:36:38.301Z"
   },
   {
    "duration": 106,
    "start_time": "2023-06-29T13:36:39.260Z"
   },
   {
    "duration": 66,
    "start_time": "2023-06-29T13:36:39.368Z"
   },
   {
    "duration": 1,
    "start_time": "2023-06-29T13:36:39.435Z"
   },
   {
    "duration": 0,
    "start_time": "2023-06-29T13:36:39.436Z"
   },
   {
    "duration": 8,
    "start_time": "2023-06-29T13:37:12.603Z"
   },
   {
    "duration": 7,
    "start_time": "2023-06-29T13:37:22.560Z"
   },
   {
    "duration": 427,
    "start_time": "2023-06-29T13:38:29.725Z"
   },
   {
    "duration": 984,
    "start_time": "2023-06-29T13:38:30.155Z"
   },
   {
    "duration": 191,
    "start_time": "2023-06-29T13:38:31.141Z"
   },
   {
    "duration": 173,
    "start_time": "2023-06-29T13:38:31.334Z"
   },
   {
    "duration": 147,
    "start_time": "2023-06-29T13:38:31.509Z"
   },
   {
    "duration": 600,
    "start_time": "2023-06-29T13:38:31.659Z"
   },
   {
    "duration": 1150,
    "start_time": "2023-06-29T13:38:32.261Z"
   },
   {
    "duration": 105,
    "start_time": "2023-06-29T13:38:33.412Z"
   },
   {
    "duration": 125,
    "start_time": "2023-06-29T13:38:33.519Z"
   },
   {
    "duration": 0,
    "start_time": "2023-06-29T13:38:33.646Z"
   },
   {
    "duration": 0,
    "start_time": "2023-06-29T13:38:33.648Z"
   },
   {
    "duration": 0,
    "start_time": "2023-06-29T13:38:33.649Z"
   },
   {
    "duration": 7,
    "start_time": "2023-06-29T13:38:49.716Z"
   },
   {
    "duration": 7,
    "start_time": "2023-06-29T13:39:30.298Z"
   },
   {
    "duration": 431,
    "start_time": "2023-06-29T13:39:43.980Z"
   },
   {
    "duration": 958,
    "start_time": "2023-06-29T13:39:44.413Z"
   },
   {
    "duration": 148,
    "start_time": "2023-06-29T13:39:45.375Z"
   },
   {
    "duration": 138,
    "start_time": "2023-06-29T13:39:45.525Z"
   },
   {
    "duration": 166,
    "start_time": "2023-06-29T13:39:45.665Z"
   },
   {
    "duration": 518,
    "start_time": "2023-06-29T13:39:45.832Z"
   },
   {
    "duration": 1222,
    "start_time": "2023-06-29T13:39:46.351Z"
   },
   {
    "duration": 124,
    "start_time": "2023-06-29T13:39:47.576Z"
   },
   {
    "duration": 43,
    "start_time": "2023-06-29T13:39:47.702Z"
   },
   {
    "duration": 151,
    "start_time": "2023-06-29T13:39:47.747Z"
   },
   {
    "duration": 20,
    "start_time": "2023-06-29T13:39:47.900Z"
   },
   {
    "duration": 156,
    "start_time": "2023-06-29T13:39:47.922Z"
   },
   {
    "duration": 22,
    "start_time": "2023-06-29T13:40:10.446Z"
   },
   {
    "duration": 33,
    "start_time": "2023-06-29T13:40:14.729Z"
   },
   {
    "duration": 85,
    "start_time": "2023-06-29T13:40:26.903Z"
   },
   {
    "duration": 337,
    "start_time": "2023-06-29T13:47:53.029Z"
   },
   {
    "duration": 775,
    "start_time": "2023-06-29T13:47:53.368Z"
   },
   {
    "duration": 99,
    "start_time": "2023-06-29T13:47:54.144Z"
   },
   {
    "duration": 122,
    "start_time": "2023-06-29T13:47:54.244Z"
   },
   {
    "duration": 118,
    "start_time": "2023-06-29T13:47:54.374Z"
   },
   {
    "duration": 428,
    "start_time": "2023-06-29T13:47:54.493Z"
   },
   {
    "duration": 928,
    "start_time": "2023-06-29T13:47:54.923Z"
   },
   {
    "duration": 88,
    "start_time": "2023-06-29T13:47:55.853Z"
   },
   {
    "duration": 53,
    "start_time": "2023-06-29T13:47:55.942Z"
   },
   {
    "duration": 114,
    "start_time": "2023-06-29T13:47:55.997Z"
   },
   {
    "duration": 33,
    "start_time": "2023-06-29T13:47:56.112Z"
   },
   {
    "duration": 76,
    "start_time": "2023-06-29T13:47:56.146Z"
   },
   {
    "duration": 0,
    "start_time": "2023-06-29T13:47:56.224Z"
   },
   {
    "duration": 7,
    "start_time": "2023-06-29T13:49:23.173Z"
   },
   {
    "duration": 7,
    "start_time": "2023-06-29T13:50:20.457Z"
   },
   {
    "duration": 10,
    "start_time": "2023-06-29T13:50:31.108Z"
   },
   {
    "duration": 81,
    "start_time": "2023-06-29T13:50:41.131Z"
   },
   {
    "duration": 0,
    "start_time": "2023-06-29T13:51:04.616Z"
   },
   {
    "duration": 89,
    "start_time": "2023-06-29T13:51:08.541Z"
   },
   {
    "duration": 9,
    "start_time": "2023-06-29T13:51:38.876Z"
   },
   {
    "duration": 3,
    "start_time": "2023-06-29T13:51:53.632Z"
   },
   {
    "duration": 823,
    "start_time": "2023-06-29T13:51:53.637Z"
   },
   {
    "duration": 100,
    "start_time": "2023-06-29T13:51:54.462Z"
   },
   {
    "duration": 126,
    "start_time": "2023-06-29T13:51:54.563Z"
   },
   {
    "duration": 123,
    "start_time": "2023-06-29T13:51:54.691Z"
   },
   {
    "duration": 415,
    "start_time": "2023-06-29T13:51:54.815Z"
   },
   {
    "duration": 888,
    "start_time": "2023-06-29T13:51:55.233Z"
   },
   {
    "duration": 97,
    "start_time": "2023-06-29T13:51:56.123Z"
   },
   {
    "duration": 227,
    "start_time": "2023-06-29T13:51:56.222Z"
   },
   {
    "duration": 118,
    "start_time": "2023-06-29T13:51:56.451Z"
   },
   {
    "duration": 37,
    "start_time": "2023-06-29T13:51:56.574Z"
   },
   {
    "duration": 96,
    "start_time": "2023-06-29T13:51:56.613Z"
   },
   {
    "duration": 26,
    "start_time": "2023-06-29T13:52:00.926Z"
   },
   {
    "duration": 122,
    "start_time": "2023-06-29T13:52:09.716Z"
   },
   {
    "duration": 83,
    "start_time": "2023-06-29T13:52:19.921Z"
   },
   {
    "duration": 64,
    "start_time": "2023-06-29T13:52:40.227Z"
   },
   {
    "duration": 12,
    "start_time": "2023-06-29T13:53:48.337Z"
   },
   {
    "duration": 446,
    "start_time": "2023-06-29T13:54:02.070Z"
   },
   {
    "duration": 780,
    "start_time": "2023-06-29T13:54:02.517Z"
   },
   {
    "duration": 98,
    "start_time": "2023-06-29T13:54:03.299Z"
   },
   {
    "duration": 126,
    "start_time": "2023-06-29T13:54:03.399Z"
   },
   {
    "duration": 133,
    "start_time": "2023-06-29T13:54:03.527Z"
   },
   {
    "duration": 434,
    "start_time": "2023-06-29T13:54:03.662Z"
   },
   {
    "duration": 922,
    "start_time": "2023-06-29T13:54:04.097Z"
   },
   {
    "duration": 91,
    "start_time": "2023-06-29T13:54:05.020Z"
   },
   {
    "duration": 83,
    "start_time": "2023-06-29T13:54:05.112Z"
   },
   {
    "duration": 0,
    "start_time": "2023-06-29T13:54:05.197Z"
   },
   {
    "duration": 0,
    "start_time": "2023-06-29T13:54:05.198Z"
   },
   {
    "duration": 0,
    "start_time": "2023-06-29T13:54:05.199Z"
   },
   {
    "duration": 0,
    "start_time": "2023-06-29T13:54:05.200Z"
   },
   {
    "duration": 0,
    "start_time": "2023-06-29T13:54:05.201Z"
   },
   {
    "duration": 0,
    "start_time": "2023-06-29T13:54:05.202Z"
   },
   {
    "duration": 0,
    "start_time": "2023-06-29T13:54:05.203Z"
   },
   {
    "duration": 28,
    "start_time": "2023-06-29T13:55:36.566Z"
   },
   {
    "duration": 11,
    "start_time": "2023-06-29T13:55:42.347Z"
   },
   {
    "duration": 0,
    "start_time": "2023-06-29T13:55:42.360Z"
   },
   {
    "duration": 0,
    "start_time": "2023-06-29T13:55:42.361Z"
   },
   {
    "duration": 0,
    "start_time": "2023-06-29T13:55:42.363Z"
   },
   {
    "duration": 0,
    "start_time": "2023-06-29T13:55:42.364Z"
   },
   {
    "duration": 0,
    "start_time": "2023-06-29T13:55:42.365Z"
   },
   {
    "duration": 0,
    "start_time": "2023-06-29T13:55:42.366Z"
   },
   {
    "duration": 0,
    "start_time": "2023-06-29T13:55:42.367Z"
   },
   {
    "duration": 411,
    "start_time": "2023-06-29T13:55:55.744Z"
   },
   {
    "duration": 888,
    "start_time": "2023-06-29T13:55:56.157Z"
   },
   {
    "duration": 110,
    "start_time": "2023-06-29T13:55:57.047Z"
   },
   {
    "duration": 137,
    "start_time": "2023-06-29T13:55:57.160Z"
   },
   {
    "duration": 128,
    "start_time": "2023-06-29T13:55:57.299Z"
   },
   {
    "duration": 462,
    "start_time": "2023-06-29T13:55:57.429Z"
   },
   {
    "duration": 1031,
    "start_time": "2023-06-29T13:55:57.893Z"
   },
   {
    "duration": 95,
    "start_time": "2023-06-29T13:55:58.925Z"
   },
   {
    "duration": 37,
    "start_time": "2023-06-29T13:55:59.021Z"
   },
   {
    "duration": 103,
    "start_time": "2023-06-29T13:55:59.074Z"
   },
   {
    "duration": 36,
    "start_time": "2023-06-29T13:55:59.179Z"
   },
   {
    "duration": 102,
    "start_time": "2023-06-29T13:55:59.216Z"
   },
   {
    "duration": 28,
    "start_time": "2023-06-29T13:55:59.320Z"
   },
   {
    "duration": 105,
    "start_time": "2023-06-29T13:55:59.349Z"
   },
   {
    "duration": 65,
    "start_time": "2023-06-29T13:55:59.455Z"
   },
   {
    "duration": 71,
    "start_time": "2023-06-29T13:55:59.522Z"
   },
   {
    "duration": 405,
    "start_time": "2023-06-29T14:02:14.482Z"
   },
   {
    "duration": 810,
    "start_time": "2023-06-29T14:02:14.889Z"
   },
   {
    "duration": 136,
    "start_time": "2023-06-29T14:02:15.701Z"
   },
   {
    "duration": 137,
    "start_time": "2023-06-29T14:02:15.838Z"
   },
   {
    "duration": 116,
    "start_time": "2023-06-29T14:02:15.977Z"
   },
   {
    "duration": 467,
    "start_time": "2023-06-29T14:02:16.095Z"
   },
   {
    "duration": 1017,
    "start_time": "2023-06-29T14:02:16.564Z"
   },
   {
    "duration": 94,
    "start_time": "2023-06-29T14:02:17.583Z"
   },
   {
    "duration": 35,
    "start_time": "2023-06-29T14:02:17.679Z"
   },
   {
    "duration": 112,
    "start_time": "2023-06-29T14:02:17.716Z"
   },
   {
    "duration": 65,
    "start_time": "2023-06-29T14:02:17.830Z"
   },
   {
    "duration": 66,
    "start_time": "2023-06-29T14:02:17.896Z"
   },
   {
    "duration": 34,
    "start_time": "2023-06-29T14:02:17.964Z"
   },
   {
    "duration": 103,
    "start_time": "2023-06-29T14:02:18.000Z"
   },
   {
    "duration": 72,
    "start_time": "2023-06-29T14:02:18.104Z"
   },
   {
    "duration": 61,
    "start_time": "2023-06-29T14:02:18.177Z"
   },
   {
    "duration": 163,
    "start_time": "2023-06-29T14:04:47.502Z"
   },
   {
    "duration": 80,
    "start_time": "2023-06-29T14:05:00.707Z"
   },
   {
    "duration": 14,
    "start_time": "2023-06-29T14:05:10.677Z"
   },
   {
    "duration": 13,
    "start_time": "2023-06-29T14:06:02.576Z"
   },
   {
    "duration": 507,
    "start_time": "2023-06-29T14:11:09.737Z"
   },
   {
    "duration": 16,
    "start_time": "2023-06-29T14:22:25.989Z"
   },
   {
    "duration": 4574,
    "start_time": "2023-06-29T14:22:54.635Z"
   },
   {
    "duration": 219,
    "start_time": "2023-06-29T14:23:41.890Z"
   },
   {
    "duration": 127,
    "start_time": "2023-06-29T14:23:53.376Z"
   },
   {
    "duration": 323,
    "start_time": "2023-06-29T14:24:22.512Z"
   },
   {
    "duration": 399,
    "start_time": "2023-06-29T14:25:42.920Z"
   },
   {
    "duration": 372,
    "start_time": "2023-06-29T14:26:45.691Z"
   },
   {
    "duration": 62,
    "start_time": "2023-06-30T12:20:45.291Z"
   },
   {
    "duration": 1004,
    "start_time": "2023-06-30T12:20:51.328Z"
   },
   {
    "duration": 3,
    "start_time": "2023-06-30T12:20:59.291Z"
   },
   {
    "duration": 1502,
    "start_time": "2023-06-30T12:20:59.296Z"
   },
   {
    "duration": 124,
    "start_time": "2023-06-30T12:21:00.800Z"
   },
   {
    "duration": 149,
    "start_time": "2023-06-30T12:21:00.926Z"
   },
   {
    "duration": 213,
    "start_time": "2023-06-30T12:21:01.078Z"
   },
   {
    "duration": 610,
    "start_time": "2023-06-30T12:21:01.293Z"
   },
   {
    "duration": 1235,
    "start_time": "2023-06-30T12:21:01.907Z"
   },
   {
    "duration": 107,
    "start_time": "2023-06-30T12:21:03.144Z"
   },
   {
    "duration": 37,
    "start_time": "2023-06-30T12:21:03.252Z"
   },
   {
    "duration": 122,
    "start_time": "2023-06-30T12:21:03.291Z"
   },
   {
    "duration": 55,
    "start_time": "2023-06-30T12:21:03.422Z"
   },
   {
    "duration": 83,
    "start_time": "2023-06-30T12:21:03.479Z"
   },
   {
    "duration": 30,
    "start_time": "2023-06-30T12:21:03.565Z"
   },
   {
    "duration": 122,
    "start_time": "2023-06-30T12:21:03.610Z"
   },
   {
    "duration": 61,
    "start_time": "2023-06-30T12:21:03.734Z"
   },
   {
    "duration": 90,
    "start_time": "2023-06-30T12:21:03.797Z"
   },
   {
    "duration": 433,
    "start_time": "2023-06-30T12:21:03.889Z"
   },
   {
    "duration": 248,
    "start_time": "2023-06-30T12:21:04.331Z"
   },
   {
    "duration": 41,
    "start_time": "2023-06-30T12:26:23.345Z"
   },
   {
    "duration": 623,
    "start_time": "2023-06-30T12:26:50.261Z"
   },
   {
    "duration": 355,
    "start_time": "2023-06-30T12:26:55.785Z"
   },
   {
    "duration": 15,
    "start_time": "2023-06-30T12:28:14.500Z"
   },
   {
    "duration": 10,
    "start_time": "2023-06-30T12:28:20.097Z"
   },
   {
    "duration": 12,
    "start_time": "2023-06-30T12:29:09.331Z"
   },
   {
    "duration": 10,
    "start_time": "2023-06-30T12:29:19.741Z"
   },
   {
    "duration": 12,
    "start_time": "2023-06-30T12:29:25.937Z"
   },
   {
    "duration": 15,
    "start_time": "2023-06-30T12:33:25.704Z"
   },
   {
    "duration": 32,
    "start_time": "2023-06-30T12:34:14.865Z"
   },
   {
    "duration": 36,
    "start_time": "2023-06-30T12:34:31.052Z"
   },
   {
    "duration": 33,
    "start_time": "2023-06-30T12:34:45.151Z"
   },
   {
    "duration": 22,
    "start_time": "2023-06-30T12:41:35.834Z"
   },
   {
    "duration": 57,
    "start_time": "2023-06-30T12:43:51.504Z"
   },
   {
    "duration": 87,
    "start_time": "2023-06-30T12:44:46.103Z"
   },
   {
    "duration": 121,
    "start_time": "2023-06-30T12:45:31.404Z"
   },
   {
    "duration": 1362,
    "start_time": "2023-06-30T12:45:44.933Z"
   },
   {
    "duration": 1029,
    "start_time": "2023-06-30T12:45:46.297Z"
   },
   {
    "duration": 129,
    "start_time": "2023-06-30T12:45:47.335Z"
   },
   {
    "duration": 161,
    "start_time": "2023-06-30T12:45:47.467Z"
   },
   {
    "duration": 129,
    "start_time": "2023-06-30T12:45:47.630Z"
   },
   {
    "duration": 578,
    "start_time": "2023-06-30T12:45:47.761Z"
   },
   {
    "duration": 1231,
    "start_time": "2023-06-30T12:45:48.341Z"
   },
   {
    "duration": 117,
    "start_time": "2023-06-30T12:45:49.574Z"
   },
   {
    "duration": 50,
    "start_time": "2023-06-30T12:45:49.693Z"
   },
   {
    "duration": 110,
    "start_time": "2023-06-30T12:45:49.745Z"
   },
   {
    "duration": 38,
    "start_time": "2023-06-30T12:45:49.857Z"
   },
   {
    "duration": 98,
    "start_time": "2023-06-30T12:45:49.910Z"
   },
   {
    "duration": 168,
    "start_time": "2023-06-30T12:45:50.010Z"
   },
   {
    "duration": 188,
    "start_time": "2023-06-30T12:45:50.179Z"
   },
   {
    "duration": 67,
    "start_time": "2023-06-30T12:45:50.368Z"
   },
   {
    "duration": 94,
    "start_time": "2023-06-30T12:45:50.438Z"
   },
   {
    "duration": 310,
    "start_time": "2023-06-30T12:45:50.536Z"
   },
   {
    "duration": 10,
    "start_time": "2023-06-30T12:45:50.848Z"
   },
   {
    "duration": 66,
    "start_time": "2023-06-30T12:45:50.860Z"
   },
   {
    "duration": 52,
    "start_time": "2023-06-30T12:45:50.934Z"
   },
   {
    "duration": 0,
    "start_time": "2023-06-30T12:45:50.988Z"
   },
   {
    "duration": 57,
    "start_time": "2023-06-30T12:47:39.601Z"
   },
   {
    "duration": 76,
    "start_time": "2023-06-30T12:47:58.267Z"
   },
   {
    "duration": 48,
    "start_time": "2023-06-30T12:48:04.834Z"
   },
   {
    "duration": 1300,
    "start_time": "2023-06-30T12:51:16.984Z"
   },
   {
    "duration": 957,
    "start_time": "2023-06-30T12:51:18.286Z"
   },
   {
    "duration": 124,
    "start_time": "2023-06-30T12:51:19.245Z"
   },
   {
    "duration": 173,
    "start_time": "2023-06-30T12:51:19.371Z"
   },
   {
    "duration": 625,
    "start_time": "2023-06-30T12:51:19.547Z"
   },
   {
    "duration": 1164,
    "start_time": "2023-06-30T12:51:20.174Z"
   },
   {
    "duration": 109,
    "start_time": "2023-06-30T12:51:21.340Z"
   },
   {
    "duration": 40,
    "start_time": "2023-06-30T12:51:21.451Z"
   },
   {
    "duration": 110,
    "start_time": "2023-06-30T12:51:21.492Z"
   },
   {
    "duration": 97,
    "start_time": "2023-06-30T12:51:21.616Z"
   },
   {
    "duration": 56,
    "start_time": "2023-06-30T12:51:21.714Z"
   },
   {
    "duration": 111,
    "start_time": "2023-06-30T12:51:21.771Z"
   },
   {
    "duration": 41,
    "start_time": "2023-06-30T12:51:21.884Z"
   },
   {
    "duration": 104,
    "start_time": "2023-06-30T12:51:21.930Z"
   },
   {
    "duration": 84,
    "start_time": "2023-06-30T12:51:22.039Z"
   },
   {
    "duration": 79,
    "start_time": "2023-06-30T12:51:22.124Z"
   },
   {
    "duration": 311,
    "start_time": "2023-06-30T12:51:22.210Z"
   },
   {
    "duration": 16,
    "start_time": "2023-06-30T12:51:22.529Z"
   },
   {
    "duration": 34,
    "start_time": "2023-06-30T12:51:22.547Z"
   },
   {
    "duration": 59,
    "start_time": "2023-06-30T12:51:22.582Z"
   },
   {
    "duration": 47,
    "start_time": "2023-06-30T12:51:22.643Z"
   },
   {
    "duration": 1329,
    "start_time": "2023-06-30T12:57:08.654Z"
   },
   {
    "duration": 1066,
    "start_time": "2023-06-30T12:57:09.985Z"
   },
   {
    "duration": 126,
    "start_time": "2023-06-30T12:57:11.053Z"
   },
   {
    "duration": 163,
    "start_time": "2023-06-30T12:57:11.180Z"
   },
   {
    "duration": 579,
    "start_time": "2023-06-30T12:57:11.346Z"
   },
   {
    "duration": 1210,
    "start_time": "2023-06-30T12:57:11.927Z"
   },
   {
    "duration": 119,
    "start_time": "2023-06-30T12:57:13.140Z"
   },
   {
    "duration": 37,
    "start_time": "2023-06-30T12:57:13.261Z"
   },
   {
    "duration": 121,
    "start_time": "2023-06-30T12:57:13.300Z"
   },
   {
    "duration": 106,
    "start_time": "2023-06-30T12:57:13.422Z"
   },
   {
    "duration": 66,
    "start_time": "2023-06-30T12:57:13.530Z"
   },
   {
    "duration": 97,
    "start_time": "2023-06-30T12:57:13.598Z"
   },
   {
    "duration": 47,
    "start_time": "2023-06-30T12:57:13.697Z"
   },
   {
    "duration": 128,
    "start_time": "2023-06-30T12:57:13.748Z"
   },
   {
    "duration": 81,
    "start_time": "2023-06-30T12:57:13.879Z"
   },
   {
    "duration": 105,
    "start_time": "2023-06-30T12:57:13.962Z"
   },
   {
    "duration": 322,
    "start_time": "2023-06-30T12:57:14.069Z"
   },
   {
    "duration": 27,
    "start_time": "2023-06-30T12:57:14.393Z"
   },
   {
    "duration": 42,
    "start_time": "2023-06-30T12:57:14.422Z"
   },
   {
    "duration": 76,
    "start_time": "2023-06-30T12:57:14.466Z"
   },
   {
    "duration": 79,
    "start_time": "2023-06-30T12:57:14.545Z"
   },
   {
    "duration": 98,
    "start_time": "2023-06-30T12:58:35.897Z"
   },
   {
    "duration": 67,
    "start_time": "2023-06-30T13:01:01.193Z"
   },
   {
    "duration": 63,
    "start_time": "2023-06-30T13:01:29.257Z"
   },
   {
    "duration": 121,
    "start_time": "2023-06-30T13:02:06.643Z"
   },
   {
    "duration": 1294,
    "start_time": "2023-06-30T13:02:23.076Z"
   },
   {
    "duration": 954,
    "start_time": "2023-06-30T13:02:24.372Z"
   },
   {
    "duration": 121,
    "start_time": "2023-06-30T13:02:25.328Z"
   },
   {
    "duration": 148,
    "start_time": "2023-06-30T13:02:25.451Z"
   },
   {
    "duration": 612,
    "start_time": "2023-06-30T13:02:25.601Z"
   },
   {
    "duration": 1139,
    "start_time": "2023-06-30T13:02:26.225Z"
   },
   {
    "duration": 111,
    "start_time": "2023-06-30T13:02:27.366Z"
   },
   {
    "duration": 47,
    "start_time": "2023-06-30T13:02:27.479Z"
   },
   {
    "duration": 94,
    "start_time": "2023-06-30T13:02:27.528Z"
   },
   {
    "duration": 102,
    "start_time": "2023-06-30T13:02:27.626Z"
   },
   {
    "duration": 56,
    "start_time": "2023-06-30T13:02:27.730Z"
   },
   {
    "duration": 96,
    "start_time": "2023-06-30T13:02:27.788Z"
   },
   {
    "duration": 52,
    "start_time": "2023-06-30T13:02:27.886Z"
   },
   {
    "duration": 130,
    "start_time": "2023-06-30T13:02:27.940Z"
   },
   {
    "duration": 74,
    "start_time": "2023-06-30T13:02:28.073Z"
   },
   {
    "duration": 100,
    "start_time": "2023-06-30T13:02:28.149Z"
   },
   {
    "duration": 315,
    "start_time": "2023-06-30T13:02:28.251Z"
   },
   {
    "duration": 11,
    "start_time": "2023-06-30T13:02:28.568Z"
   },
   {
    "duration": 58,
    "start_time": "2023-06-30T13:02:28.581Z"
   },
   {
    "duration": 49,
    "start_time": "2023-06-30T13:02:28.641Z"
   },
   {
    "duration": 71,
    "start_time": "2023-06-30T13:02:28.692Z"
   },
   {
    "duration": 66,
    "start_time": "2023-06-30T13:14:34.105Z"
   },
   {
    "duration": 1221,
    "start_time": "2023-06-30T13:15:27.492Z"
   },
   {
    "duration": 3,
    "start_time": "2023-06-30T13:15:37.164Z"
   },
   {
    "duration": 968,
    "start_time": "2023-06-30T13:15:37.169Z"
   },
   {
    "duration": 118,
    "start_time": "2023-06-30T13:15:38.139Z"
   },
   {
    "duration": 136,
    "start_time": "2023-06-30T13:15:38.260Z"
   },
   {
    "duration": 539,
    "start_time": "2023-06-30T13:15:38.398Z"
   },
   {
    "duration": 1160,
    "start_time": "2023-06-30T13:15:38.939Z"
   },
   {
    "duration": 149,
    "start_time": "2023-06-30T13:15:40.101Z"
   },
   {
    "duration": 24,
    "start_time": "2023-06-30T13:18:55.000Z"
   },
   {
    "duration": 3,
    "start_time": "2023-06-30T13:19:49.825Z"
   },
   {
    "duration": 11,
    "start_time": "2023-06-30T13:19:56.991Z"
   },
   {
    "duration": 3,
    "start_time": "2023-06-30T13:20:54.223Z"
   },
   {
    "duration": 739,
    "start_time": "2023-06-30T13:20:57.038Z"
   },
   {
    "duration": 45,
    "start_time": "2023-07-11T11:56:26.956Z"
   },
   {
    "duration": 1290,
    "start_time": "2023-07-11T11:56:36.045Z"
   },
   {
    "duration": 1162,
    "start_time": "2023-07-11T11:56:37.340Z"
   },
   {
    "duration": 90,
    "start_time": "2023-07-11T11:56:38.504Z"
   },
   {
    "duration": 149,
    "start_time": "2023-07-11T11:56:38.596Z"
   },
   {
    "duration": 464,
    "start_time": "2023-07-11T11:56:38.748Z"
   },
   {
    "duration": 935,
    "start_time": "2023-07-11T11:56:39.214Z"
   },
   {
    "duration": 121,
    "start_time": "2023-07-11T11:56:40.150Z"
   },
   {
    "duration": 33,
    "start_time": "2023-07-11T11:56:40.272Z"
   },
   {
    "duration": 106,
    "start_time": "2023-07-11T11:56:40.306Z"
   },
   {
    "duration": 104,
    "start_time": "2023-07-11T11:56:40.414Z"
   },
   {
    "duration": 50,
    "start_time": "2023-07-11T11:56:40.520Z"
   },
   {
    "duration": 123,
    "start_time": "2023-07-11T11:56:40.572Z"
   },
   {
    "duration": 38,
    "start_time": "2023-07-11T11:56:40.697Z"
   },
   {
    "duration": 113,
    "start_time": "2023-07-11T11:56:40.738Z"
   },
   {
    "duration": 72,
    "start_time": "2023-07-11T11:56:40.853Z"
   },
   {
    "duration": 61,
    "start_time": "2023-07-11T11:56:40.931Z"
   },
   {
    "duration": 272,
    "start_time": "2023-07-11T11:56:40.993Z"
   },
   {
    "duration": 10,
    "start_time": "2023-07-11T11:56:41.266Z"
   },
   {
    "duration": 31,
    "start_time": "2023-07-11T11:56:41.277Z"
   },
   {
    "duration": 75,
    "start_time": "2023-07-11T11:56:41.309Z"
   },
   {
    "duration": 67,
    "start_time": "2023-07-11T11:56:41.385Z"
   },
   {
    "duration": 8,
    "start_time": "2023-07-11T11:56:41.453Z"
   },
   {
    "duration": 85,
    "start_time": "2023-07-11T11:56:41.463Z"
   },
   {
    "duration": 616,
    "start_time": "2023-07-11T11:56:41.550Z"
   },
   {
    "duration": 71,
    "start_time": "2023-07-11T12:02:05.598Z"
   },
   {
    "duration": 3462,
    "start_time": "2023-07-11T12:03:16.977Z"
   },
   {
    "duration": 4849,
    "start_time": "2023-07-11T12:03:25.709Z"
   },
   {
    "duration": 3,
    "start_time": "2023-07-11T12:03:36.839Z"
   },
   {
    "duration": 726,
    "start_time": "2023-07-11T12:03:36.844Z"
   },
   {
    "duration": 92,
    "start_time": "2023-07-11T12:03:37.572Z"
   },
   {
    "duration": 148,
    "start_time": "2023-07-11T12:03:37.666Z"
   },
   {
    "duration": 386,
    "start_time": "2023-07-11T12:03:37.816Z"
   },
   {
    "duration": 829,
    "start_time": "2023-07-11T12:03:38.204Z"
   },
   {
    "duration": 121,
    "start_time": "2023-07-11T12:03:39.035Z"
   },
   {
    "duration": 233,
    "start_time": "2023-07-11T12:07:22.810Z"
   },
   {
    "duration": 12,
    "start_time": "2023-07-11T12:08:49.025Z"
   },
   {
    "duration": 3,
    "start_time": "2023-07-11T12:09:05.584Z"
   },
   {
    "duration": 711,
    "start_time": "2023-07-11T12:09:05.589Z"
   },
   {
    "duration": 85,
    "start_time": "2023-07-11T12:09:06.302Z"
   },
   {
    "duration": 124,
    "start_time": "2023-07-11T12:09:06.389Z"
   },
   {
    "duration": 384,
    "start_time": "2023-07-11T12:09:06.515Z"
   },
   {
    "duration": 816,
    "start_time": "2023-07-11T12:09:06.900Z"
   },
   {
    "duration": 131,
    "start_time": "2023-07-11T12:09:07.718Z"
   },
   {
    "duration": 33,
    "start_time": "2023-07-11T12:09:07.850Z"
   },
   {
    "duration": 110,
    "start_time": "2023-07-11T12:09:07.885Z"
   },
   {
    "duration": 97,
    "start_time": "2023-07-11T12:09:07.997Z"
   },
   {
    "duration": 43,
    "start_time": "2023-07-11T12:09:08.096Z"
   },
   {
    "duration": 73,
    "start_time": "2023-07-11T12:09:08.140Z"
   },
   {
    "duration": 39,
    "start_time": "2023-07-11T12:09:08.215Z"
   },
   {
    "duration": 103,
    "start_time": "2023-07-11T12:09:08.257Z"
   },
   {
    "duration": 77,
    "start_time": "2023-07-11T12:09:08.361Z"
   },
   {
    "duration": 58,
    "start_time": "2023-07-11T12:09:08.439Z"
   },
   {
    "duration": 334,
    "start_time": "2023-07-11T12:09:08.499Z"
   },
   {
    "duration": 9,
    "start_time": "2023-07-11T12:09:08.835Z"
   },
   {
    "duration": 33,
    "start_time": "2023-07-11T12:09:08.845Z"
   },
   {
    "duration": 58,
    "start_time": "2023-07-11T12:09:08.880Z"
   },
   {
    "duration": 46,
    "start_time": "2023-07-11T12:09:08.940Z"
   },
   {
    "duration": 8,
    "start_time": "2023-07-11T12:09:08.988Z"
   },
   {
    "duration": 247,
    "start_time": "2023-07-11T12:09:08.997Z"
   },
   {
    "duration": 10,
    "start_time": "2023-07-11T12:09:54.509Z"
   },
   {
    "duration": 9,
    "start_time": "2023-07-11T12:10:50.133Z"
   },
   {
    "duration": 11,
    "start_time": "2023-07-11T12:10:57.135Z"
   },
   {
    "duration": 4,
    "start_time": "2023-07-11T12:11:42.221Z"
   },
   {
    "duration": 12,
    "start_time": "2023-07-11T12:12:01.567Z"
   },
   {
    "duration": 11,
    "start_time": "2023-07-11T12:12:18.506Z"
   },
   {
    "duration": 4,
    "start_time": "2023-07-11T12:13:17.724Z"
   },
   {
    "duration": 119,
    "start_time": "2023-07-11T12:20:32.258Z"
   },
   {
    "duration": 71,
    "start_time": "2023-07-11T12:21:05.086Z"
   },
   {
    "duration": 596,
    "start_time": "2023-07-11T12:21:33.882Z"
   },
   {
    "duration": 25,
    "start_time": "2023-07-11T12:22:25.299Z"
   },
   {
    "duration": 32,
    "start_time": "2023-07-11T12:22:35.017Z"
   },
   {
    "duration": 110,
    "start_time": "2023-07-11T12:22:44.112Z"
   },
   {
    "duration": 9,
    "start_time": "2023-07-11T12:22:55.490Z"
   },
   {
    "duration": 85,
    "start_time": "2023-07-11T12:23:30.120Z"
   },
   {
    "duration": 13,
    "start_time": "2023-07-11T12:25:38.485Z"
   },
   {
    "duration": 4,
    "start_time": "2023-07-11T12:26:03.209Z"
   },
   {
    "duration": 792,
    "start_time": "2023-07-11T12:26:03.216Z"
   },
   {
    "duration": 93,
    "start_time": "2023-07-11T12:26:04.009Z"
   },
   {
    "duration": 144,
    "start_time": "2023-07-11T12:26:04.104Z"
   },
   {
    "duration": 420,
    "start_time": "2023-07-11T12:26:04.250Z"
   },
   {
    "duration": 952,
    "start_time": "2023-07-11T12:26:04.672Z"
   },
   {
    "duration": 139,
    "start_time": "2023-07-11T12:26:05.626Z"
   },
   {
    "duration": 30,
    "start_time": "2023-07-11T12:26:05.767Z"
   },
   {
    "duration": 117,
    "start_time": "2023-07-11T12:26:05.799Z"
   },
   {
    "duration": 105,
    "start_time": "2023-07-11T12:26:05.918Z"
   },
   {
    "duration": 44,
    "start_time": "2023-07-11T12:26:06.024Z"
   },
   {
    "duration": 102,
    "start_time": "2023-07-11T12:26:06.070Z"
   },
   {
    "duration": 32,
    "start_time": "2023-07-11T12:26:06.173Z"
   },
   {
    "duration": 105,
    "start_time": "2023-07-11T12:26:06.207Z"
   },
   {
    "duration": 83,
    "start_time": "2023-07-11T12:26:06.313Z"
   },
   {
    "duration": 67,
    "start_time": "2023-07-11T12:26:06.398Z"
   },
   {
    "duration": 251,
    "start_time": "2023-07-11T12:26:06.467Z"
   },
   {
    "duration": 25,
    "start_time": "2023-07-11T12:26:06.719Z"
   },
   {
    "duration": 30,
    "start_time": "2023-07-11T12:26:06.745Z"
   },
   {
    "duration": 42,
    "start_time": "2023-07-11T12:26:06.776Z"
   },
   {
    "duration": 56,
    "start_time": "2023-07-11T12:26:06.819Z"
   },
   {
    "duration": 8,
    "start_time": "2023-07-11T12:26:06.876Z"
   },
   {
    "duration": 9,
    "start_time": "2023-07-11T12:26:06.886Z"
   },
   {
    "duration": 53,
    "start_time": "2023-07-11T12:26:06.896Z"
   },
   {
    "duration": 58,
    "start_time": "2023-07-11T12:26:06.950Z"
   },
   {
    "duration": 498,
    "start_time": "2023-07-11T12:26:07.010Z"
   },
   {
    "duration": 83,
    "start_time": "2023-07-11T12:34:47.753Z"
   },
   {
    "duration": 8,
    "start_time": "2023-07-11T12:43:26.450Z"
   },
   {
    "duration": 283,
    "start_time": "2023-07-11T12:44:01.865Z"
   },
   {
    "duration": 37,
    "start_time": "2023-07-11T12:44:06.196Z"
   },
   {
    "duration": 3,
    "start_time": "2023-07-11T12:44:19.593Z"
   },
   {
    "duration": 785,
    "start_time": "2023-07-11T12:44:19.598Z"
   },
   {
    "duration": 93,
    "start_time": "2023-07-11T12:44:20.384Z"
   },
   {
    "duration": 144,
    "start_time": "2023-07-11T12:44:20.479Z"
   },
   {
    "duration": 489,
    "start_time": "2023-07-11T12:44:20.636Z"
   },
   {
    "duration": 935,
    "start_time": "2023-07-11T12:44:21.127Z"
   },
   {
    "duration": 136,
    "start_time": "2023-07-11T12:44:22.064Z"
   },
   {
    "duration": 44,
    "start_time": "2023-07-11T12:44:22.201Z"
   },
   {
    "duration": 140,
    "start_time": "2023-07-11T12:44:22.246Z"
   },
   {
    "duration": 136,
    "start_time": "2023-07-11T12:44:22.387Z"
   },
   {
    "duration": 46,
    "start_time": "2023-07-11T12:44:22.525Z"
   },
   {
    "duration": 94,
    "start_time": "2023-07-11T12:44:22.573Z"
   },
   {
    "duration": 31,
    "start_time": "2023-07-11T12:44:22.668Z"
   },
   {
    "duration": 113,
    "start_time": "2023-07-11T12:44:22.702Z"
   },
   {
    "duration": 132,
    "start_time": "2023-07-11T12:44:22.817Z"
   },
   {
    "duration": 90,
    "start_time": "2023-07-11T12:44:22.950Z"
   },
   {
    "duration": 399,
    "start_time": "2023-07-11T12:44:23.041Z"
   },
   {
    "duration": 11,
    "start_time": "2023-07-11T12:44:23.444Z"
   },
   {
    "duration": 49,
    "start_time": "2023-07-11T12:44:23.456Z"
   },
   {
    "duration": 56,
    "start_time": "2023-07-11T12:44:23.508Z"
   },
   {
    "duration": 47,
    "start_time": "2023-07-11T12:44:23.565Z"
   },
   {
    "duration": 30,
    "start_time": "2023-07-11T12:44:23.614Z"
   },
   {
    "duration": 39,
    "start_time": "2023-07-11T12:44:23.647Z"
   },
   {
    "duration": 39,
    "start_time": "2023-07-11T12:44:23.688Z"
   },
   {
    "duration": 79,
    "start_time": "2023-07-11T12:44:23.729Z"
   },
   {
    "duration": 466,
    "start_time": "2023-07-11T12:44:23.809Z"
   },
   {
    "duration": 102,
    "start_time": "2023-07-11T12:44:24.276Z"
   },
   {
    "duration": 29,
    "start_time": "2023-07-11T12:44:29.595Z"
   },
   {
    "duration": 40,
    "start_time": "2023-07-11T12:44:44.710Z"
   },
   {
    "duration": 99,
    "start_time": "2023-07-11T12:45:10.323Z"
   },
   {
    "duration": 42,
    "start_time": "2023-07-11T13:27:34.676Z"
   },
   {
    "duration": 30,
    "start_time": "2023-07-11T13:28:00.878Z"
   },
   {
    "duration": 16,
    "start_time": "2023-07-11T13:28:07.638Z"
   },
   {
    "duration": 93,
    "start_time": "2023-07-11T13:35:14.946Z"
   },
   {
    "duration": 6,
    "start_time": "2023-07-11T13:36:25.892Z"
   },
   {
    "duration": 26,
    "start_time": "2023-07-11T13:36:30.563Z"
   },
   {
    "duration": 19,
    "start_time": "2023-07-11T13:38:59.465Z"
   },
   {
    "duration": 6,
    "start_time": "2023-07-11T13:39:28.265Z"
   },
   {
    "duration": 800,
    "start_time": "2023-07-11T13:39:28.273Z"
   },
   {
    "duration": 96,
    "start_time": "2023-07-11T13:39:29.075Z"
   },
   {
    "duration": 162,
    "start_time": "2023-07-11T13:39:29.173Z"
   },
   {
    "duration": 481,
    "start_time": "2023-07-11T13:39:29.340Z"
   },
   {
    "duration": 935,
    "start_time": "2023-07-11T13:39:29.823Z"
   },
   {
    "duration": 144,
    "start_time": "2023-07-11T13:39:30.760Z"
   },
   {
    "duration": 61,
    "start_time": "2023-07-11T13:39:30.905Z"
   },
   {
    "duration": 179,
    "start_time": "2023-07-11T13:39:30.968Z"
   },
   {
    "duration": 242,
    "start_time": "2023-07-11T13:39:31.151Z"
   },
   {
    "duration": 136,
    "start_time": "2023-07-11T13:39:31.394Z"
   },
   {
    "duration": 172,
    "start_time": "2023-07-11T13:39:31.538Z"
   },
   {
    "duration": 61,
    "start_time": "2023-07-11T13:39:31.713Z"
   },
   {
    "duration": 291,
    "start_time": "2023-07-11T13:39:31.777Z"
   },
   {
    "duration": 85,
    "start_time": "2023-07-11T13:39:32.070Z"
   },
   {
    "duration": 106,
    "start_time": "2023-07-11T13:39:32.156Z"
   },
   {
    "duration": 309,
    "start_time": "2023-07-11T13:39:32.263Z"
   },
   {
    "duration": 11,
    "start_time": "2023-07-11T13:39:32.574Z"
   },
   {
    "duration": 56,
    "start_time": "2023-07-11T13:39:32.587Z"
   },
   {
    "duration": 100,
    "start_time": "2023-07-11T13:39:32.645Z"
   },
   {
    "duration": 50,
    "start_time": "2023-07-11T13:39:32.748Z"
   },
   {
    "duration": 8,
    "start_time": "2023-07-11T13:39:32.800Z"
   },
   {
    "duration": 42,
    "start_time": "2023-07-11T13:39:32.810Z"
   },
   {
    "duration": 54,
    "start_time": "2023-07-11T13:39:32.854Z"
   },
   {
    "duration": 75,
    "start_time": "2023-07-11T13:39:32.910Z"
   },
   {
    "duration": 484,
    "start_time": "2023-07-11T13:39:32.986Z"
   },
   {
    "duration": 101,
    "start_time": "2023-07-11T13:39:33.472Z"
   },
   {
    "duration": 87,
    "start_time": "2023-07-11T13:39:33.575Z"
   },
   {
    "duration": 19,
    "start_time": "2023-07-11T13:39:38.184Z"
   },
   {
    "duration": 18,
    "start_time": "2023-07-11T13:40:49.292Z"
   },
   {
    "duration": 951,
    "start_time": "2023-07-11T13:41:11.360Z"
   },
   {
    "duration": 84,
    "start_time": "2023-07-11T13:41:37.319Z"
   },
   {
    "duration": 63,
    "start_time": "2023-07-11T13:41:51.815Z"
   },
   {
    "duration": 390,
    "start_time": "2023-07-11T13:42:34.657Z"
   },
   {
    "duration": 1183,
    "start_time": "2023-07-11T13:48:26.709Z"
   },
   {
    "duration": 18,
    "start_time": "2023-07-11T13:55:21.261Z"
   },
   {
    "duration": 17,
    "start_time": "2023-07-11T13:55:29.493Z"
   },
   {
    "duration": 1031,
    "start_time": "2023-07-11T13:55:47.312Z"
   },
   {
    "duration": 17,
    "start_time": "2023-07-11T13:57:16.981Z"
   },
   {
    "duration": 18,
    "start_time": "2023-07-11T13:58:18.792Z"
   },
   {
    "duration": 12,
    "start_time": "2023-07-11T13:58:53.433Z"
   },
   {
    "duration": 5,
    "start_time": "2023-07-11T13:59:25.125Z"
   },
   {
    "duration": 936,
    "start_time": "2023-07-11T13:59:25.136Z"
   },
   {
    "duration": 89,
    "start_time": "2023-07-11T13:59:26.074Z"
   },
   {
    "duration": 154,
    "start_time": "2023-07-11T13:59:26.165Z"
   },
   {
    "duration": 470,
    "start_time": "2023-07-11T13:59:26.321Z"
   },
   {
    "duration": 962,
    "start_time": "2023-07-11T13:59:26.793Z"
   },
   {
    "duration": 198,
    "start_time": "2023-07-11T13:59:27.756Z"
   },
   {
    "duration": 42,
    "start_time": "2023-07-11T13:59:27.956Z"
   },
   {
    "duration": 140,
    "start_time": "2023-07-11T13:59:28.001Z"
   },
   {
    "duration": 137,
    "start_time": "2023-07-11T13:59:28.146Z"
   },
   {
    "duration": 44,
    "start_time": "2023-07-11T13:59:28.285Z"
   },
   {
    "duration": 106,
    "start_time": "2023-07-11T13:59:28.336Z"
   },
   {
    "duration": 45,
    "start_time": "2023-07-11T13:59:28.448Z"
   },
   {
    "duration": 117,
    "start_time": "2023-07-11T13:59:28.495Z"
   },
   {
    "duration": 104,
    "start_time": "2023-07-11T13:59:28.614Z"
   },
   {
    "duration": 71,
    "start_time": "2023-07-11T13:59:28.720Z"
   },
   {
    "duration": 301,
    "start_time": "2023-07-11T13:59:28.795Z"
   },
   {
    "duration": 10,
    "start_time": "2023-07-11T13:59:29.097Z"
   },
   {
    "duration": 97,
    "start_time": "2023-07-11T13:59:29.108Z"
   },
   {
    "duration": 81,
    "start_time": "2023-07-11T13:59:29.207Z"
   },
   {
    "duration": 78,
    "start_time": "2023-07-11T13:59:29.290Z"
   },
   {
    "duration": 16,
    "start_time": "2023-07-11T13:59:29.370Z"
   },
   {
    "duration": 27,
    "start_time": "2023-07-11T13:59:29.388Z"
   },
   {
    "duration": 85,
    "start_time": "2023-07-11T13:59:29.417Z"
   },
   {
    "duration": 94,
    "start_time": "2023-07-11T13:59:29.504Z"
   },
   {
    "duration": 80,
    "start_time": "2023-07-11T13:59:29.600Z"
   },
   {
    "duration": 503,
    "start_time": "2023-07-11T13:59:29.682Z"
   },
   {
    "duration": 112,
    "start_time": "2023-07-11T13:59:30.188Z"
   },
   {
    "duration": 93,
    "start_time": "2023-07-11T13:59:30.302Z"
   },
   {
    "duration": 274,
    "start_time": "2023-07-11T13:59:30.397Z"
   },
   {
    "duration": 16,
    "start_time": "2023-07-11T13:59:33.321Z"
   },
   {
    "duration": 1602,
    "start_time": "2023-07-11T14:00:41.697Z"
   },
   {
    "duration": 1440,
    "start_time": "2023-07-11T14:00:43.301Z"
   },
   {
    "duration": 125,
    "start_time": "2023-07-11T14:00:44.743Z"
   },
   {
    "duration": 212,
    "start_time": "2023-07-11T14:00:44.869Z"
   },
   {
    "duration": 609,
    "start_time": "2023-07-11T14:00:45.084Z"
   },
   {
    "duration": 1130,
    "start_time": "2023-07-11T14:00:45.695Z"
   },
   {
    "duration": 162,
    "start_time": "2023-07-11T14:00:46.827Z"
   },
   {
    "duration": 43,
    "start_time": "2023-07-11T14:00:46.992Z"
   },
   {
    "duration": 165,
    "start_time": "2023-07-11T14:00:47.037Z"
   },
   {
    "duration": 148,
    "start_time": "2023-07-11T14:00:47.204Z"
   },
   {
    "duration": 83,
    "start_time": "2023-07-11T14:00:47.364Z"
   },
   {
    "duration": 129,
    "start_time": "2023-07-11T14:00:47.456Z"
   },
   {
    "duration": 33,
    "start_time": "2023-07-11T14:00:47.588Z"
   },
   {
    "duration": 153,
    "start_time": "2023-07-11T14:00:47.632Z"
   },
   {
    "duration": 126,
    "start_time": "2023-07-11T14:00:47.790Z"
   },
   {
    "duration": 75,
    "start_time": "2023-07-11T14:00:47.918Z"
   },
   {
    "duration": 325,
    "start_time": "2023-07-11T14:00:47.995Z"
   },
   {
    "duration": 18,
    "start_time": "2023-07-11T14:00:48.322Z"
   },
   {
    "duration": 72,
    "start_time": "2023-07-11T14:00:48.342Z"
   },
   {
    "duration": 61,
    "start_time": "2023-07-11T14:00:48.416Z"
   },
   {
    "duration": 68,
    "start_time": "2023-07-11T14:00:48.479Z"
   },
   {
    "duration": 23,
    "start_time": "2023-07-11T14:00:48.549Z"
   },
   {
    "duration": 36,
    "start_time": "2023-07-11T14:00:48.575Z"
   },
   {
    "duration": 61,
    "start_time": "2023-07-11T14:00:48.613Z"
   },
   {
    "duration": 87,
    "start_time": "2023-07-11T14:00:48.675Z"
   },
   {
    "duration": 118,
    "start_time": "2023-07-11T14:00:48.763Z"
   },
   {
    "duration": 690,
    "start_time": "2023-07-11T14:00:48.884Z"
   },
   {
    "duration": 108,
    "start_time": "2023-07-11T14:00:49.580Z"
   },
   {
    "duration": 228,
    "start_time": "2023-07-11T14:00:49.690Z"
   },
   {
    "duration": 102,
    "start_time": "2023-07-11T14:23:30.689Z"
   },
   {
    "duration": 99,
    "start_time": "2023-07-11T14:23:39.370Z"
   },
   {
    "duration": 114,
    "start_time": "2023-07-11T14:25:35.302Z"
   },
   {
    "duration": 22,
    "start_time": "2023-07-11T14:25:36.701Z"
   },
   {
    "duration": 99,
    "start_time": "2023-07-11T14:28:06.287Z"
   },
   {
    "duration": 351,
    "start_time": "2023-07-11T14:28:48.768Z"
   },
   {
    "duration": 1523,
    "start_time": "2023-07-11T14:31:41.620Z"
   },
   {
    "duration": 1510,
    "start_time": "2023-07-11T14:31:43.145Z"
   },
   {
    "duration": 168,
    "start_time": "2023-07-11T14:31:44.657Z"
   },
   {
    "duration": 255,
    "start_time": "2023-07-11T14:31:44.827Z"
   },
   {
    "duration": 510,
    "start_time": "2023-07-11T14:31:45.085Z"
   },
   {
    "duration": 1165,
    "start_time": "2023-07-11T14:31:45.596Z"
   },
   {
    "duration": 155,
    "start_time": "2023-07-11T14:31:46.762Z"
   },
   {
    "duration": 47,
    "start_time": "2023-07-11T14:31:46.918Z"
   },
   {
    "duration": 135,
    "start_time": "2023-07-11T14:31:46.971Z"
   },
   {
    "duration": 133,
    "start_time": "2023-07-11T14:31:47.107Z"
   },
   {
    "duration": 82,
    "start_time": "2023-07-11T14:31:47.241Z"
   },
   {
    "duration": 129,
    "start_time": "2023-07-11T14:31:47.325Z"
   },
   {
    "duration": 40,
    "start_time": "2023-07-11T14:31:47.460Z"
   },
   {
    "duration": 122,
    "start_time": "2023-07-11T14:31:47.502Z"
   },
   {
    "duration": 116,
    "start_time": "2023-07-11T14:31:47.626Z"
   },
   {
    "duration": 114,
    "start_time": "2023-07-11T14:31:47.743Z"
   },
   {
    "duration": 314,
    "start_time": "2023-07-11T14:31:47.861Z"
   },
   {
    "duration": 13,
    "start_time": "2023-07-11T14:31:48.176Z"
   },
   {
    "duration": 77,
    "start_time": "2023-07-11T14:31:48.191Z"
   },
   {
    "duration": 75,
    "start_time": "2023-07-11T14:31:48.269Z"
   },
   {
    "duration": 58,
    "start_time": "2023-07-11T14:31:48.354Z"
   },
   {
    "duration": 11,
    "start_time": "2023-07-11T14:31:48.414Z"
   },
   {
    "duration": 59,
    "start_time": "2023-07-11T14:31:48.427Z"
   },
   {
    "duration": 158,
    "start_time": "2023-07-11T14:31:48.489Z"
   },
   {
    "duration": 95,
    "start_time": "2023-07-11T14:31:48.649Z"
   },
   {
    "duration": 76,
    "start_time": "2023-07-11T14:31:48.746Z"
   },
   {
    "duration": 611,
    "start_time": "2023-07-11T14:31:48.823Z"
   },
   {
    "duration": 124,
    "start_time": "2023-07-11T14:31:49.436Z"
   },
   {
    "duration": 79,
    "start_time": "2023-07-11T14:31:49.562Z"
   },
   {
    "duration": 33,
    "start_time": "2023-07-11T14:31:49.646Z"
   },
   {
    "duration": 1573,
    "start_time": "2023-07-11T14:35:51.035Z"
   },
   {
    "duration": 1326,
    "start_time": "2023-07-11T14:35:52.610Z"
   },
   {
    "duration": 147,
    "start_time": "2023-07-11T14:35:53.939Z"
   },
   {
    "duration": 152,
    "start_time": "2023-07-11T14:35:54.087Z"
   },
   {
    "duration": 511,
    "start_time": "2023-07-11T14:35:54.246Z"
   },
   {
    "duration": 1075,
    "start_time": "2023-07-11T14:35:54.760Z"
   },
   {
    "duration": 149,
    "start_time": "2023-07-11T14:35:55.836Z"
   },
   {
    "duration": 30,
    "start_time": "2023-07-11T14:35:55.986Z"
   },
   {
    "duration": 132,
    "start_time": "2023-07-11T14:35:56.018Z"
   },
   {
    "duration": 95,
    "start_time": "2023-07-11T14:35:56.156Z"
   },
   {
    "duration": 73,
    "start_time": "2023-07-11T14:35:56.253Z"
   },
   {
    "duration": 113,
    "start_time": "2023-07-11T14:35:56.328Z"
   },
   {
    "duration": 41,
    "start_time": "2023-07-11T14:35:56.447Z"
   },
   {
    "duration": 172,
    "start_time": "2023-07-11T14:35:56.491Z"
   },
   {
    "duration": 102,
    "start_time": "2023-07-11T14:35:56.666Z"
   },
   {
    "duration": 65,
    "start_time": "2023-07-11T14:35:56.769Z"
   },
   {
    "duration": 270,
    "start_time": "2023-07-11T14:35:56.836Z"
   },
   {
    "duration": 10,
    "start_time": "2023-07-11T14:35:57.107Z"
   },
   {
    "duration": 53,
    "start_time": "2023-07-11T14:35:57.118Z"
   },
   {
    "duration": 56,
    "start_time": "2023-07-11T14:35:57.172Z"
   },
   {
    "duration": 63,
    "start_time": "2023-07-11T14:35:57.230Z"
   },
   {
    "duration": 9,
    "start_time": "2023-07-11T14:35:57.295Z"
   },
   {
    "duration": 67,
    "start_time": "2023-07-11T14:35:57.305Z"
   },
   {
    "duration": 46,
    "start_time": "2023-07-11T14:35:57.374Z"
   },
   {
    "duration": 82,
    "start_time": "2023-07-11T14:35:57.421Z"
   },
   {
    "duration": 74,
    "start_time": "2023-07-11T14:35:57.505Z"
   },
   {
    "duration": 584,
    "start_time": "2023-07-11T14:35:57.581Z"
   },
   {
    "duration": 89,
    "start_time": "2023-07-11T14:35:58.167Z"
   },
   {
    "duration": 79,
    "start_time": "2023-07-11T14:35:58.261Z"
   },
   {
    "duration": 36,
    "start_time": "2023-07-11T14:35:58.346Z"
   },
   {
    "duration": 11,
    "start_time": "2023-07-12T12:34:30.811Z"
   },
   {
    "duration": 2130,
    "start_time": "2023-07-12T12:34:45.519Z"
   },
   {
    "duration": 1436,
    "start_time": "2023-07-12T12:34:47.653Z"
   },
   {
    "duration": 162,
    "start_time": "2023-07-12T12:34:49.091Z"
   },
   {
    "duration": 149,
    "start_time": "2023-07-12T12:34:49.255Z"
   },
   {
    "duration": 548,
    "start_time": "2023-07-12T12:34:49.408Z"
   },
   {
    "duration": 1204,
    "start_time": "2023-07-12T12:34:49.958Z"
   },
   {
    "duration": 142,
    "start_time": "2023-07-12T12:34:51.164Z"
   },
   {
    "duration": 110,
    "start_time": "2023-07-12T12:34:51.308Z"
   },
   {
    "duration": 257,
    "start_time": "2023-07-12T12:34:51.420Z"
   },
   {
    "duration": 233,
    "start_time": "2023-07-12T12:34:51.680Z"
   },
   {
    "duration": 252,
    "start_time": "2023-07-12T12:34:51.916Z"
   },
   {
    "duration": 271,
    "start_time": "2023-07-12T12:34:52.170Z"
   },
   {
    "duration": 66,
    "start_time": "2023-07-12T12:34:52.443Z"
   },
   {
    "duration": 94,
    "start_time": "2023-07-12T12:34:52.512Z"
   },
   {
    "duration": 105,
    "start_time": "2023-07-12T12:34:52.608Z"
   },
   {
    "duration": 248,
    "start_time": "2023-07-12T12:34:52.715Z"
   },
   {
    "duration": 406,
    "start_time": "2023-07-12T12:34:52.965Z"
   },
   {
    "duration": 12,
    "start_time": "2023-07-12T12:34:53.374Z"
   },
   {
    "duration": 230,
    "start_time": "2023-07-12T12:34:53.387Z"
   },
   {
    "duration": 119,
    "start_time": "2023-07-12T12:34:53.619Z"
   },
   {
    "duration": 155,
    "start_time": "2023-07-12T12:34:53.740Z"
   },
   {
    "duration": 48,
    "start_time": "2023-07-12T12:34:53.897Z"
   },
   {
    "duration": 73,
    "start_time": "2023-07-12T12:34:53.947Z"
   },
   {
    "duration": 265,
    "start_time": "2023-07-12T12:34:54.022Z"
   },
   {
    "duration": 76,
    "start_time": "2023-07-12T12:34:54.289Z"
   },
   {
    "duration": 150,
    "start_time": "2023-07-12T12:34:54.367Z"
   },
   {
    "duration": 620,
    "start_time": "2023-07-12T12:34:54.519Z"
   },
   {
    "duration": 85,
    "start_time": "2023-07-12T12:34:55.141Z"
   },
   {
    "duration": 133,
    "start_time": "2023-07-12T12:34:55.229Z"
   },
   {
    "duration": 31,
    "start_time": "2023-07-12T12:34:55.364Z"
   },
   {
    "duration": 1052,
    "start_time": "2023-07-12T12:36:16.198Z"
   },
   {
    "duration": 118,
    "start_time": "2023-07-12T12:36:46.104Z"
   },
   {
    "duration": 10,
    "start_time": "2023-07-12T12:37:06.594Z"
   },
   {
    "duration": 11,
    "start_time": "2023-07-12T12:37:50.226Z"
   },
   {
    "duration": 833,
    "start_time": "2023-07-12T12:39:26.555Z"
   },
   {
    "duration": 818,
    "start_time": "2023-07-12T12:41:43.377Z"
   },
   {
    "duration": 10,
    "start_time": "2023-07-12T12:41:52.022Z"
   },
   {
    "duration": 45,
    "start_time": "2023-07-12T12:46:16.617Z"
   },
   {
    "duration": 55,
    "start_time": "2023-07-12T12:46:44.046Z"
   },
   {
    "duration": 1038,
    "start_time": "2023-07-12T12:46:59.897Z"
   },
   {
    "duration": 31,
    "start_time": "2023-07-12T12:50:46.402Z"
   },
   {
    "duration": 5,
    "start_time": "2023-07-12T12:51:03.849Z"
   },
   {
    "duration": 831,
    "start_time": "2023-07-12T12:51:03.856Z"
   },
   {
    "duration": 104,
    "start_time": "2023-07-12T12:51:04.689Z"
   },
   {
    "duration": 123,
    "start_time": "2023-07-12T12:51:04.795Z"
   },
   {
    "duration": 434,
    "start_time": "2023-07-12T12:51:04.922Z"
   },
   {
    "duration": 920,
    "start_time": "2023-07-12T12:51:05.358Z"
   },
   {
    "duration": 132,
    "start_time": "2023-07-12T12:51:06.280Z"
   },
   {
    "duration": 48,
    "start_time": "2023-07-12T12:51:06.414Z"
   },
   {
    "duration": 101,
    "start_time": "2023-07-12T12:51:06.464Z"
   },
   {
    "duration": 93,
    "start_time": "2023-07-12T12:51:06.567Z"
   },
   {
    "duration": 52,
    "start_time": "2023-07-12T12:51:06.662Z"
   },
   {
    "duration": 78,
    "start_time": "2023-07-12T12:51:06.716Z"
   },
   {
    "duration": 35,
    "start_time": "2023-07-12T12:51:06.796Z"
   },
   {
    "duration": 100,
    "start_time": "2023-07-12T12:51:06.834Z"
   },
   {
    "duration": 85,
    "start_time": "2023-07-12T12:51:06.936Z"
   },
   {
    "duration": 83,
    "start_time": "2023-07-12T12:51:07.023Z"
   },
   {
    "duration": 293,
    "start_time": "2023-07-12T12:51:07.108Z"
   },
   {
    "duration": 9,
    "start_time": "2023-07-12T12:51:07.403Z"
   },
   {
    "duration": 54,
    "start_time": "2023-07-12T12:51:07.414Z"
   },
   {
    "duration": 51,
    "start_time": "2023-07-12T12:51:07.470Z"
   },
   {
    "duration": 71,
    "start_time": "2023-07-12T12:51:07.524Z"
   },
   {
    "duration": 10,
    "start_time": "2023-07-12T12:51:07.597Z"
   },
   {
    "duration": 9,
    "start_time": "2023-07-12T12:51:07.609Z"
   },
   {
    "duration": 61,
    "start_time": "2023-07-12T12:51:07.620Z"
   },
   {
    "duration": 69,
    "start_time": "2023-07-12T12:51:07.683Z"
   },
   {
    "duration": 66,
    "start_time": "2023-07-12T12:51:07.754Z"
   },
   {
    "duration": 580,
    "start_time": "2023-07-12T12:51:07.822Z"
   },
   {
    "duration": 103,
    "start_time": "2023-07-12T12:51:08.404Z"
   },
   {
    "duration": 104,
    "start_time": "2023-07-12T12:51:08.509Z"
   },
   {
    "duration": 32,
    "start_time": "2023-07-12T12:51:14.606Z"
   },
   {
    "duration": 34,
    "start_time": "2023-07-12T12:51:17.289Z"
   },
   {
    "duration": 859,
    "start_time": "2023-07-12T12:52:21.063Z"
   },
   {
    "duration": 864,
    "start_time": "2023-07-12T12:52:28.637Z"
   },
   {
    "duration": 885,
    "start_time": "2023-07-12T12:53:22.536Z"
   },
   {
    "duration": 865,
    "start_time": "2023-07-12T12:55:29.333Z"
   },
   {
    "duration": 1689,
    "start_time": "2023-07-12T13:01:34.869Z"
   },
   {
    "duration": 8,
    "start_time": "2023-07-12T13:13:44.094Z"
   },
   {
    "duration": 14,
    "start_time": "2023-07-12T13:17:03.060Z"
   },
   {
    "duration": 28,
    "start_time": "2023-07-12T13:17:11.652Z"
   },
   {
    "duration": 1183,
    "start_time": "2023-07-12T13:17:55.315Z"
   },
   {
    "duration": 7,
    "start_time": "2023-07-12T13:18:10.060Z"
   },
   {
    "duration": 821,
    "start_time": "2023-07-12T13:18:10.069Z"
   },
   {
    "duration": 101,
    "start_time": "2023-07-12T13:18:10.892Z"
   },
   {
    "duration": 120,
    "start_time": "2023-07-12T13:18:10.995Z"
   },
   {
    "duration": 442,
    "start_time": "2023-07-12T13:18:11.118Z"
   },
   {
    "duration": 944,
    "start_time": "2023-07-12T13:18:11.562Z"
   },
   {
    "duration": 34,
    "start_time": "2023-07-12T13:18:12.508Z"
   },
   {
    "duration": 112,
    "start_time": "2023-07-12T13:18:15.540Z"
   },
   {
    "duration": 346,
    "start_time": "2023-07-12T13:33:22.675Z"
   },
   {
    "duration": 1740,
    "start_time": "2023-07-12T18:49:15.742Z"
   },
   {
    "duration": 1171,
    "start_time": "2023-07-12T18:49:17.484Z"
   },
   {
    "duration": 107,
    "start_time": "2023-07-12T18:49:18.657Z"
   },
   {
    "duration": 115,
    "start_time": "2023-07-12T18:49:18.766Z"
   },
   {
    "duration": 505,
    "start_time": "2023-07-12T18:49:18.883Z"
   },
   {
    "duration": 1113,
    "start_time": "2023-07-12T18:49:19.390Z"
   },
   {
    "duration": 33,
    "start_time": "2023-07-12T18:49:20.508Z"
   },
   {
    "duration": 111,
    "start_time": "2023-07-12T18:49:20.543Z"
   },
   {
    "duration": 39,
    "start_time": "2023-07-12T18:49:20.656Z"
   },
   {
    "duration": 99,
    "start_time": "2023-07-12T18:49:20.697Z"
   },
   {
    "duration": 84,
    "start_time": "2023-07-12T18:49:20.808Z"
   },
   {
    "duration": 43,
    "start_time": "2023-07-12T18:49:20.894Z"
   },
   {
    "duration": 110,
    "start_time": "2023-07-12T18:49:20.939Z"
   },
   {
    "duration": 35,
    "start_time": "2023-07-12T18:49:21.052Z"
   },
   {
    "duration": 100,
    "start_time": "2023-07-12T18:49:21.088Z"
   },
   {
    "duration": 85,
    "start_time": "2023-07-12T18:49:21.190Z"
   },
   {
    "duration": 83,
    "start_time": "2023-07-12T18:49:21.276Z"
   },
   {
    "duration": 296,
    "start_time": "2023-07-12T18:49:21.361Z"
   },
   {
    "duration": 11,
    "start_time": "2023-07-12T18:49:21.658Z"
   },
   {
    "duration": 53,
    "start_time": "2023-07-12T18:49:21.671Z"
   },
   {
    "duration": 47,
    "start_time": "2023-07-12T18:49:21.726Z"
   },
   {
    "duration": 75,
    "start_time": "2023-07-12T18:49:21.775Z"
   },
   {
    "duration": 10,
    "start_time": "2023-07-12T18:49:21.852Z"
   },
   {
    "duration": 8,
    "start_time": "2023-07-12T18:49:21.864Z"
   },
   {
    "duration": 156,
    "start_time": "2023-07-12T18:49:21.874Z"
   },
   {
    "duration": 65,
    "start_time": "2023-07-12T18:49:22.032Z"
   },
   {
    "duration": 74,
    "start_time": "2023-07-12T18:49:22.110Z"
   },
   {
    "duration": 585,
    "start_time": "2023-07-12T18:49:22.186Z"
   },
   {
    "duration": 99,
    "start_time": "2023-07-12T18:49:22.773Z"
   },
   {
    "duration": 101,
    "start_time": "2023-07-12T18:49:22.873Z"
   },
   {
    "duration": 34,
    "start_time": "2023-07-12T18:49:22.975Z"
   },
   {
    "duration": 129,
    "start_time": "2023-07-12T18:49:25.412Z"
   },
   {
    "duration": 22,
    "start_time": "2023-07-12T19:11:53.998Z"
   },
   {
    "duration": 8,
    "start_time": "2023-07-12T19:12:09.844Z"
   },
   {
    "duration": 933,
    "start_time": "2023-07-12T19:12:09.854Z"
   },
   {
    "duration": 112,
    "start_time": "2023-07-12T19:12:10.789Z"
   },
   {
    "duration": 127,
    "start_time": "2023-07-12T19:12:10.903Z"
   },
   {
    "duration": 524,
    "start_time": "2023-07-12T19:12:11.033Z"
   },
   {
    "duration": 1084,
    "start_time": "2023-07-12T19:12:11.559Z"
   },
   {
    "duration": 32,
    "start_time": "2023-07-12T19:12:12.646Z"
   },
   {
    "duration": 115,
    "start_time": "2023-07-12T19:12:12.681Z"
   },
   {
    "duration": 50,
    "start_time": "2023-07-12T19:12:12.798Z"
   },
   {
    "duration": 98,
    "start_time": "2023-07-12T19:12:12.850Z"
   },
   {
    "duration": 100,
    "start_time": "2023-07-12T19:12:12.951Z"
   },
   {
    "duration": 38,
    "start_time": "2023-07-12T19:12:13.053Z"
   },
   {
    "duration": 105,
    "start_time": "2023-07-12T19:12:13.110Z"
   },
   {
    "duration": 36,
    "start_time": "2023-07-12T19:12:13.219Z"
   },
   {
    "duration": 119,
    "start_time": "2023-07-12T19:12:13.257Z"
   },
   {
    "duration": 80,
    "start_time": "2023-07-12T19:12:13.378Z"
   },
   {
    "duration": 92,
    "start_time": "2023-07-12T19:12:13.460Z"
   },
   {
    "duration": 297,
    "start_time": "2023-07-12T19:12:13.554Z"
   },
   {
    "duration": 13,
    "start_time": "2023-07-12T19:12:13.854Z"
   },
   {
    "duration": 60,
    "start_time": "2023-07-12T19:12:13.868Z"
   },
   {
    "duration": 52,
    "start_time": "2023-07-12T19:12:13.931Z"
   },
   {
    "duration": 69,
    "start_time": "2023-07-12T19:12:13.991Z"
   },
   {
    "duration": 10,
    "start_time": "2023-07-12T19:12:14.062Z"
   },
   {
    "duration": 12,
    "start_time": "2023-07-12T19:12:14.074Z"
   },
   {
    "duration": 60,
    "start_time": "2023-07-12T19:12:14.088Z"
   },
   {
    "duration": 77,
    "start_time": "2023-07-12T19:12:14.149Z"
   },
   {
    "duration": 86,
    "start_time": "2023-07-12T19:12:14.228Z"
   },
   {
    "duration": 529,
    "start_time": "2023-07-12T19:12:14.315Z"
   },
   {
    "duration": 99,
    "start_time": "2023-07-12T19:12:14.846Z"
   },
   {
    "duration": 17,
    "start_time": "2023-07-12T19:12:18.760Z"
   },
   {
    "duration": 30,
    "start_time": "2023-07-12T19:12:27.240Z"
   },
   {
    "duration": 130,
    "start_time": "2023-07-12T19:12:37.994Z"
   },
   {
    "duration": 127,
    "start_time": "2023-07-12T19:13:03.801Z"
   },
   {
    "duration": 1628,
    "start_time": "2023-07-14T11:38:11.719Z"
   },
   {
    "duration": 123,
    "start_time": "2023-07-14T11:38:21.946Z"
   },
   {
    "duration": 13,
    "start_time": "2023-07-14T11:38:27.935Z"
   },
   {
    "duration": 7,
    "start_time": "2023-07-14T11:39:06.668Z"
   },
   {
    "duration": 10,
    "start_time": "2023-07-14T11:39:42.988Z"
   },
   {
    "duration": 1119,
    "start_time": "2023-07-14T11:39:43.000Z"
   },
   {
    "duration": 138,
    "start_time": "2023-07-14T11:39:44.121Z"
   },
   {
    "duration": 144,
    "start_time": "2023-07-14T11:39:44.261Z"
   },
   {
    "duration": 457,
    "start_time": "2023-07-14T11:39:44.408Z"
   },
   {
    "duration": 1001,
    "start_time": "2023-07-14T11:39:44.867Z"
   },
   {
    "duration": 34,
    "start_time": "2023-07-14T11:39:45.869Z"
   },
   {
    "duration": 118,
    "start_time": "2023-07-14T11:39:45.905Z"
   },
   {
    "duration": 34,
    "start_time": "2023-07-14T11:39:46.025Z"
   },
   {
    "duration": 118,
    "start_time": "2023-07-14T11:39:46.061Z"
   },
   {
    "duration": 108,
    "start_time": "2023-07-14T11:39:46.180Z"
   },
   {
    "duration": 47,
    "start_time": "2023-07-14T11:39:46.289Z"
   },
   {
    "duration": 92,
    "start_time": "2023-07-14T11:39:46.337Z"
   },
   {
    "duration": 43,
    "start_time": "2023-07-14T11:39:46.432Z"
   },
   {
    "duration": 104,
    "start_time": "2023-07-14T11:39:46.477Z"
   },
   {
    "duration": 92,
    "start_time": "2023-07-14T11:39:46.583Z"
   },
   {
    "duration": 61,
    "start_time": "2023-07-14T11:39:46.677Z"
   },
   {
    "duration": 288,
    "start_time": "2023-07-14T11:39:46.740Z"
   },
   {
    "duration": 10,
    "start_time": "2023-07-14T11:39:47.030Z"
   },
   {
    "duration": 52,
    "start_time": "2023-07-14T11:39:47.041Z"
   },
   {
    "duration": 50,
    "start_time": "2023-07-14T11:39:47.095Z"
   },
   {
    "duration": 69,
    "start_time": "2023-07-14T11:39:47.147Z"
   },
   {
    "duration": 10,
    "start_time": "2023-07-14T11:39:47.219Z"
   },
   {
    "duration": 20,
    "start_time": "2023-07-14T11:39:47.231Z"
   },
   {
    "duration": 74,
    "start_time": "2023-07-14T11:39:47.253Z"
   },
   {
    "duration": 71,
    "start_time": "2023-07-14T11:39:47.329Z"
   },
   {
    "duration": 73,
    "start_time": "2023-07-14T11:39:47.402Z"
   },
   {
    "duration": 674,
    "start_time": "2023-07-14T11:39:47.477Z"
   },
   {
    "duration": 91,
    "start_time": "2023-07-14T11:39:48.153Z"
   },
   {
    "duration": 89,
    "start_time": "2023-07-14T11:40:58.712Z"
   },
   {
    "duration": 1686,
    "start_time": "2023-07-14T11:41:00.962Z"
   },
   {
    "duration": 341,
    "start_time": "2023-07-14T11:47:56.179Z"
   },
   {
    "duration": 8,
    "start_time": "2023-07-14T11:48:08.388Z"
   },
   {
    "duration": 821,
    "start_time": "2023-07-14T11:48:08.397Z"
   },
   {
    "duration": 93,
    "start_time": "2023-07-14T11:48:09.220Z"
   },
   {
    "duration": 127,
    "start_time": "2023-07-14T11:48:09.315Z"
   },
   {
    "duration": 408,
    "start_time": "2023-07-14T11:48:09.444Z"
   },
   {
    "duration": 903,
    "start_time": "2023-07-14T11:48:09.853Z"
   },
   {
    "duration": 39,
    "start_time": "2023-07-14T11:48:10.758Z"
   },
   {
    "duration": 112,
    "start_time": "2023-07-14T11:48:10.799Z"
   },
   {
    "duration": 33,
    "start_time": "2023-07-14T11:48:10.913Z"
   },
   {
    "duration": 120,
    "start_time": "2023-07-14T11:48:10.947Z"
   },
   {
    "duration": 109,
    "start_time": "2023-07-14T11:48:11.074Z"
   },
   {
    "duration": 63,
    "start_time": "2023-07-14T11:48:11.185Z"
   },
   {
    "duration": 98,
    "start_time": "2023-07-14T11:48:11.250Z"
   },
   {
    "duration": 37,
    "start_time": "2023-07-14T11:48:11.351Z"
   },
   {
    "duration": 104,
    "start_time": "2023-07-14T11:48:11.390Z"
   },
   {
    "duration": 87,
    "start_time": "2023-07-14T11:48:11.495Z"
   },
   {
    "duration": 68,
    "start_time": "2023-07-14T11:48:11.583Z"
   },
   {
    "duration": 300,
    "start_time": "2023-07-14T11:48:11.653Z"
   },
   {
    "duration": 23,
    "start_time": "2023-07-14T11:48:11.955Z"
   },
   {
    "duration": 36,
    "start_time": "2023-07-14T11:48:11.980Z"
   },
   {
    "duration": 61,
    "start_time": "2023-07-14T11:48:12.017Z"
   },
   {
    "duration": 53,
    "start_time": "2023-07-14T11:48:12.081Z"
   },
   {
    "duration": 8,
    "start_time": "2023-07-14T11:48:12.136Z"
   },
   {
    "duration": 39,
    "start_time": "2023-07-14T11:48:12.146Z"
   },
   {
    "duration": 54,
    "start_time": "2023-07-14T11:48:12.187Z"
   },
   {
    "duration": 89,
    "start_time": "2023-07-14T11:48:12.243Z"
   },
   {
    "duration": 76,
    "start_time": "2023-07-14T11:48:12.334Z"
   },
   {
    "duration": 482,
    "start_time": "2023-07-14T11:48:12.412Z"
   },
   {
    "duration": 97,
    "start_time": "2023-07-14T11:48:12.895Z"
   },
   {
    "duration": 109,
    "start_time": "2023-07-14T11:48:12.993Z"
   },
   {
    "duration": 280,
    "start_time": "2023-07-14T11:48:16.829Z"
   },
   {
    "duration": 284,
    "start_time": "2023-07-14T11:48:28.999Z"
   },
   {
    "duration": 1599,
    "start_time": "2023-07-14T11:49:33.168Z"
   },
   {
    "duration": 1727,
    "start_time": "2023-07-14T11:51:03.939Z"
   },
   {
    "duration": 1701,
    "start_time": "2023-07-14T11:51:13.102Z"
   },
   {
    "duration": 1635,
    "start_time": "2023-07-14T11:51:24.556Z"
   },
   {
    "duration": 82,
    "start_time": "2023-07-14T11:52:51.902Z"
   },
   {
    "duration": 7,
    "start_time": "2023-07-14T11:55:41.552Z"
   },
   {
    "duration": 816,
    "start_time": "2023-07-14T11:55:41.560Z"
   },
   {
    "duration": 86,
    "start_time": "2023-07-14T11:55:42.377Z"
   },
   {
    "duration": 139,
    "start_time": "2023-07-14T11:55:42.465Z"
   },
   {
    "duration": 422,
    "start_time": "2023-07-14T11:55:42.606Z"
   },
   {
    "duration": 946,
    "start_time": "2023-07-14T11:55:43.029Z"
   },
   {
    "duration": 36,
    "start_time": "2023-07-14T11:55:43.976Z"
   },
   {
    "duration": 116,
    "start_time": "2023-07-14T11:55:44.014Z"
   },
   {
    "duration": 30,
    "start_time": "2023-07-14T11:55:44.131Z"
   },
   {
    "duration": 95,
    "start_time": "2023-07-14T11:55:44.162Z"
   },
   {
    "duration": 109,
    "start_time": "2023-07-14T11:55:44.259Z"
   },
   {
    "duration": 43,
    "start_time": "2023-07-14T11:55:44.370Z"
   },
   {
    "duration": 67,
    "start_time": "2023-07-14T11:55:44.415Z"
   },
   {
    "duration": 32,
    "start_time": "2023-07-14T11:55:44.485Z"
   },
   {
    "duration": 98,
    "start_time": "2023-07-14T11:55:44.518Z"
   },
   {
    "duration": 72,
    "start_time": "2023-07-14T11:55:44.618Z"
   },
   {
    "duration": 58,
    "start_time": "2023-07-14T11:55:44.691Z"
   },
   {
    "duration": 278,
    "start_time": "2023-07-14T11:55:44.751Z"
   },
   {
    "duration": 9,
    "start_time": "2023-07-14T11:55:45.031Z"
   },
   {
    "duration": 46,
    "start_time": "2023-07-14T11:55:45.042Z"
   },
   {
    "duration": 73,
    "start_time": "2023-07-14T11:55:45.090Z"
   },
   {
    "duration": 201,
    "start_time": "2023-07-14T11:55:45.165Z"
   },
   {
    "duration": 9,
    "start_time": "2023-07-14T11:55:45.368Z"
   },
   {
    "duration": 9,
    "start_time": "2023-07-14T11:55:45.378Z"
   },
   {
    "duration": 31,
    "start_time": "2023-07-14T11:55:45.388Z"
   },
   {
    "duration": 77,
    "start_time": "2023-07-14T11:55:45.421Z"
   },
   {
    "duration": 63,
    "start_time": "2023-07-14T11:55:45.500Z"
   },
   {
    "duration": 514,
    "start_time": "2023-07-14T11:55:45.575Z"
   },
   {
    "duration": 66,
    "start_time": "2023-07-14T11:55:46.091Z"
   },
   {
    "duration": 82,
    "start_time": "2023-07-14T11:55:46.159Z"
   },
   {
    "duration": 537,
    "start_time": "2023-07-14T12:03:49.993Z"
   },
   {
    "duration": 405,
    "start_time": "2023-07-14T12:17:49.635Z"
   },
   {
    "duration": 16,
    "start_time": "2023-07-14T12:18:54.906Z"
   },
   {
    "duration": 7,
    "start_time": "2023-07-14T12:19:31.269Z"
   },
   {
    "duration": 1037,
    "start_time": "2023-07-14T12:19:31.277Z"
   },
   {
    "duration": 116,
    "start_time": "2023-07-14T12:19:32.315Z"
   },
   {
    "duration": 150,
    "start_time": "2023-07-14T12:19:32.434Z"
   },
   {
    "duration": 430,
    "start_time": "2023-07-14T12:19:32.585Z"
   },
   {
    "duration": 908,
    "start_time": "2023-07-14T12:19:33.017Z"
   },
   {
    "duration": 35,
    "start_time": "2023-07-14T12:19:33.927Z"
   },
   {
    "duration": 103,
    "start_time": "2023-07-14T12:19:33.976Z"
   },
   {
    "duration": 26,
    "start_time": "2023-07-14T12:19:34.081Z"
   },
   {
    "duration": 115,
    "start_time": "2023-07-14T12:19:34.110Z"
   },
   {
    "duration": 128,
    "start_time": "2023-07-14T12:19:34.226Z"
   },
   {
    "duration": 45,
    "start_time": "2023-07-14T12:19:34.356Z"
   },
   {
    "duration": 88,
    "start_time": "2023-07-14T12:19:34.403Z"
   },
   {
    "duration": 34,
    "start_time": "2023-07-14T12:19:34.493Z"
   },
   {
    "duration": 99,
    "start_time": "2023-07-14T12:19:34.529Z"
   },
   {
    "duration": 74,
    "start_time": "2023-07-14T12:19:34.629Z"
   },
   {
    "duration": 136,
    "start_time": "2023-07-14T12:19:34.705Z"
   },
   {
    "duration": 272,
    "start_time": "2023-07-14T12:19:34.843Z"
   },
   {
    "duration": 8,
    "start_time": "2023-07-14T12:19:35.117Z"
   },
   {
    "duration": 55,
    "start_time": "2023-07-14T12:19:35.126Z"
   },
   {
    "duration": 45,
    "start_time": "2023-07-14T12:19:35.183Z"
   },
   {
    "duration": 62,
    "start_time": "2023-07-14T12:19:35.230Z"
   },
   {
    "duration": 8,
    "start_time": "2023-07-14T12:19:35.294Z"
   },
   {
    "duration": 17,
    "start_time": "2023-07-14T12:19:35.304Z"
   },
   {
    "duration": 47,
    "start_time": "2023-07-14T12:19:35.322Z"
   },
   {
    "duration": 61,
    "start_time": "2023-07-14T12:19:35.371Z"
   },
   {
    "duration": 77,
    "start_time": "2023-07-14T12:19:35.434Z"
   },
   {
    "duration": 506,
    "start_time": "2023-07-14T12:19:35.514Z"
   },
   {
    "duration": 75,
    "start_time": "2023-07-14T12:19:36.022Z"
   },
   {
    "duration": 79,
    "start_time": "2023-07-14T12:19:36.099Z"
   },
   {
    "duration": 500,
    "start_time": "2023-07-14T12:19:36.180Z"
   },
   {
    "duration": 14,
    "start_time": "2023-07-14T12:19:39.287Z"
   },
   {
    "duration": 9,
    "start_time": "2023-07-14T12:22:06.488Z"
   },
   {
    "duration": 14,
    "start_time": "2023-07-14T12:22:10.337Z"
   },
   {
    "duration": 16,
    "start_time": "2023-07-14T12:23:24.123Z"
   },
   {
    "duration": 15,
    "start_time": "2023-07-14T12:23:36.604Z"
   },
   {
    "duration": 13,
    "start_time": "2023-07-14T12:24:14.121Z"
   },
   {
    "duration": 14,
    "start_time": "2023-07-14T12:24:33.939Z"
   },
   {
    "duration": 9,
    "start_time": "2023-07-14T12:25:02.478Z"
   },
   {
    "duration": 64,
    "start_time": "2023-07-14T12:26:29.806Z"
   },
   {
    "duration": 416,
    "start_time": "2023-07-14T12:26:36.551Z"
   },
   {
    "duration": 10,
    "start_time": "2023-07-14T12:28:10.162Z"
   },
   {
    "duration": 805,
    "start_time": "2023-07-14T12:28:10.174Z"
   },
   {
    "duration": 95,
    "start_time": "2023-07-14T12:28:10.981Z"
   },
   {
    "duration": 139,
    "start_time": "2023-07-14T12:28:11.079Z"
   },
   {
    "duration": 413,
    "start_time": "2023-07-14T12:28:11.220Z"
   },
   {
    "duration": 930,
    "start_time": "2023-07-14T12:28:11.635Z"
   },
   {
    "duration": 44,
    "start_time": "2023-07-14T12:28:12.567Z"
   },
   {
    "duration": 114,
    "start_time": "2023-07-14T12:28:12.612Z"
   },
   {
    "duration": 26,
    "start_time": "2023-07-14T12:28:12.728Z"
   },
   {
    "duration": 101,
    "start_time": "2023-07-14T12:28:12.757Z"
   },
   {
    "duration": 91,
    "start_time": "2023-07-14T12:28:12.860Z"
   },
   {
    "duration": 51,
    "start_time": "2023-07-14T12:28:12.953Z"
   },
   {
    "duration": 91,
    "start_time": "2023-07-14T12:28:13.005Z"
   },
   {
    "duration": 35,
    "start_time": "2023-07-14T12:28:13.097Z"
   },
   {
    "duration": 101,
    "start_time": "2023-07-14T12:28:13.134Z"
   },
   {
    "duration": 72,
    "start_time": "2023-07-14T12:28:13.237Z"
   },
   {
    "duration": 73,
    "start_time": "2023-07-14T12:28:13.310Z"
   },
   {
    "duration": 384,
    "start_time": "2023-07-14T12:28:13.385Z"
   },
   {
    "duration": 10,
    "start_time": "2023-07-14T12:28:13.771Z"
   },
   {
    "duration": 27,
    "start_time": "2023-07-14T12:28:13.782Z"
   },
   {
    "duration": 69,
    "start_time": "2023-07-14T12:28:13.810Z"
   },
   {
    "duration": 53,
    "start_time": "2023-07-14T12:28:13.880Z"
   },
   {
    "duration": 10,
    "start_time": "2023-07-14T12:28:13.935Z"
   },
   {
    "duration": 28,
    "start_time": "2023-07-14T12:28:13.947Z"
   },
   {
    "duration": 35,
    "start_time": "2023-07-14T12:28:13.977Z"
   },
   {
    "duration": 72,
    "start_time": "2023-07-14T12:28:14.013Z"
   },
   {
    "duration": 63,
    "start_time": "2023-07-14T12:28:14.086Z"
   },
   {
    "duration": 545,
    "start_time": "2023-07-14T12:28:14.153Z"
   },
   {
    "duration": 83,
    "start_time": "2023-07-14T12:28:14.700Z"
   },
   {
    "duration": 63,
    "start_time": "2023-07-14T12:28:14.785Z"
   },
   {
    "duration": 520,
    "start_time": "2023-07-14T12:28:20.029Z"
   },
   {
    "duration": 36,
    "start_time": "2023-07-14T12:29:01.055Z"
   },
   {
    "duration": 35,
    "start_time": "2023-07-14T12:29:34.303Z"
   },
   {
    "duration": 7,
    "start_time": "2023-07-14T12:29:54.729Z"
   },
   {
    "duration": 786,
    "start_time": "2023-07-14T12:29:54.738Z"
   },
   {
    "duration": 88,
    "start_time": "2023-07-14T12:29:55.525Z"
   },
   {
    "duration": 129,
    "start_time": "2023-07-14T12:29:55.615Z"
   },
   {
    "duration": 459,
    "start_time": "2023-07-14T12:29:55.745Z"
   },
   {
    "duration": 917,
    "start_time": "2023-07-14T12:29:56.205Z"
   },
   {
    "duration": 34,
    "start_time": "2023-07-14T12:29:57.124Z"
   },
   {
    "duration": 104,
    "start_time": "2023-07-14T12:29:57.175Z"
   },
   {
    "duration": 25,
    "start_time": "2023-07-14T12:29:57.281Z"
   },
   {
    "duration": 111,
    "start_time": "2023-07-14T12:29:57.309Z"
   },
   {
    "duration": 91,
    "start_time": "2023-07-14T12:29:57.423Z"
   },
   {
    "duration": 48,
    "start_time": "2023-07-14T12:29:57.516Z"
   },
   {
    "duration": 73,
    "start_time": "2023-07-14T12:29:57.566Z"
   },
   {
    "duration": 46,
    "start_time": "2023-07-14T12:29:57.640Z"
   },
   {
    "duration": 79,
    "start_time": "2023-07-14T12:29:57.687Z"
   },
   {
    "duration": 69,
    "start_time": "2023-07-14T12:29:57.776Z"
   },
   {
    "duration": 73,
    "start_time": "2023-07-14T12:29:57.846Z"
   },
   {
    "duration": 270,
    "start_time": "2023-07-14T12:29:57.921Z"
   },
   {
    "duration": 9,
    "start_time": "2023-07-14T12:29:58.193Z"
   },
   {
    "duration": 30,
    "start_time": "2023-07-14T12:29:58.204Z"
   },
   {
    "duration": 66,
    "start_time": "2023-07-14T12:29:58.235Z"
   },
   {
    "duration": 52,
    "start_time": "2023-07-14T12:29:58.302Z"
   },
   {
    "duration": 8,
    "start_time": "2023-07-14T12:29:58.356Z"
   },
   {
    "duration": 24,
    "start_time": "2023-07-14T12:29:58.366Z"
   },
   {
    "duration": 34,
    "start_time": "2023-07-14T12:29:58.392Z"
   },
   {
    "duration": 69,
    "start_time": "2023-07-14T12:29:58.428Z"
   },
   {
    "duration": 63,
    "start_time": "2023-07-14T12:29:58.499Z"
   },
   {
    "duration": 504,
    "start_time": "2023-07-14T12:29:58.574Z"
   },
   {
    "duration": 64,
    "start_time": "2023-07-14T12:29:59.079Z"
   },
   {
    "duration": 81,
    "start_time": "2023-07-14T12:29:59.145Z"
   },
   {
    "duration": 535,
    "start_time": "2023-07-14T12:29:59.228Z"
   },
   {
    "duration": 16,
    "start_time": "2023-07-14T12:29:59.764Z"
   },
   {
    "duration": 37,
    "start_time": "2023-07-14T12:30:25.010Z"
   },
   {
    "duration": 30,
    "start_time": "2023-07-14T12:31:26.949Z"
   },
   {
    "duration": 48,
    "start_time": "2023-07-14T12:34:31.661Z"
   },
   {
    "duration": 46,
    "start_time": "2023-07-14T12:35:31.620Z"
   },
   {
    "duration": 488,
    "start_time": "2023-07-14T12:38:56.688Z"
   },
   {
    "duration": 416,
    "start_time": "2023-07-14T12:39:38.555Z"
   },
   {
    "duration": 252,
    "start_time": "2023-07-14T12:40:12.588Z"
   },
   {
    "duration": 257,
    "start_time": "2023-07-14T12:40:42.937Z"
   },
   {
    "duration": 235,
    "start_time": "2023-07-14T12:41:04.765Z"
   },
   {
    "duration": 8,
    "start_time": "2023-07-14T12:41:15.735Z"
   },
   {
    "duration": 804,
    "start_time": "2023-07-14T12:41:15.746Z"
   },
   {
    "duration": 99,
    "start_time": "2023-07-14T12:41:16.552Z"
   },
   {
    "duration": 133,
    "start_time": "2023-07-14T12:41:16.653Z"
   },
   {
    "duration": 390,
    "start_time": "2023-07-14T12:41:16.788Z"
   },
   {
    "duration": 829,
    "start_time": "2023-07-14T12:41:17.180Z"
   },
   {
    "duration": 36,
    "start_time": "2023-07-14T12:41:18.011Z"
   },
   {
    "duration": 109,
    "start_time": "2023-07-14T12:41:18.049Z"
   },
   {
    "duration": 27,
    "start_time": "2023-07-14T12:41:18.159Z"
   },
   {
    "duration": 97,
    "start_time": "2023-07-14T12:41:18.188Z"
   },
   {
    "duration": 111,
    "start_time": "2023-07-14T12:41:18.287Z"
   },
   {
    "duration": 111,
    "start_time": "2023-07-14T12:41:18.400Z"
   },
   {
    "duration": 65,
    "start_time": "2023-07-14T12:41:18.513Z"
   },
   {
    "duration": 31,
    "start_time": "2023-07-14T12:41:18.581Z"
   },
   {
    "duration": 89,
    "start_time": "2023-07-14T12:41:18.613Z"
   },
   {
    "duration": 73,
    "start_time": "2023-07-14T12:41:18.704Z"
   },
   {
    "duration": 73,
    "start_time": "2023-07-14T12:41:18.779Z"
   },
   {
    "duration": 259,
    "start_time": "2023-07-14T12:41:18.853Z"
   },
   {
    "duration": 7,
    "start_time": "2023-07-14T12:41:19.114Z"
   },
   {
    "duration": 40,
    "start_time": "2023-07-14T12:41:19.123Z"
   },
   {
    "duration": 58,
    "start_time": "2023-07-14T12:41:19.165Z"
   },
   {
    "duration": 54,
    "start_time": "2023-07-14T12:41:19.225Z"
   },
   {
    "duration": 9,
    "start_time": "2023-07-14T12:41:19.281Z"
   },
   {
    "duration": 15,
    "start_time": "2023-07-14T12:41:19.292Z"
   },
   {
    "duration": 33,
    "start_time": "2023-07-14T12:41:19.309Z"
   },
   {
    "duration": 62,
    "start_time": "2023-07-14T12:41:19.344Z"
   },
   {
    "duration": 73,
    "start_time": "2023-07-14T12:41:19.407Z"
   },
   {
    "duration": 530,
    "start_time": "2023-07-14T12:41:19.482Z"
   },
   {
    "duration": 79,
    "start_time": "2023-07-14T12:41:20.014Z"
   },
   {
    "duration": 62,
    "start_time": "2023-07-14T12:41:20.094Z"
   },
   {
    "duration": 479,
    "start_time": "2023-07-14T12:41:22.820Z"
   },
   {
    "duration": 8,
    "start_time": "2023-07-14T12:41:48.519Z"
   },
   {
    "duration": 745,
    "start_time": "2023-07-14T12:41:48.529Z"
   },
   {
    "duration": 82,
    "start_time": "2023-07-14T12:41:49.276Z"
   },
   {
    "duration": 135,
    "start_time": "2023-07-14T12:41:49.359Z"
   },
   {
    "duration": 443,
    "start_time": "2023-07-14T12:41:49.496Z"
   },
   {
    "duration": 837,
    "start_time": "2023-07-14T12:41:49.941Z"
   },
   {
    "duration": 36,
    "start_time": "2023-07-14T12:41:50.780Z"
   },
   {
    "duration": 110,
    "start_time": "2023-07-14T12:41:50.818Z"
   },
   {
    "duration": 26,
    "start_time": "2023-07-14T12:41:50.931Z"
   },
   {
    "duration": 96,
    "start_time": "2023-07-14T12:41:50.959Z"
   },
   {
    "duration": 97,
    "start_time": "2023-07-14T12:41:51.057Z"
   },
   {
    "duration": 50,
    "start_time": "2023-07-14T12:41:51.156Z"
   },
   {
    "duration": 88,
    "start_time": "2023-07-14T12:41:51.207Z"
   },
   {
    "duration": 30,
    "start_time": "2023-07-14T12:41:51.298Z"
   },
   {
    "duration": 91,
    "start_time": "2023-07-14T12:41:51.330Z"
   },
   {
    "duration": 71,
    "start_time": "2023-07-14T12:41:51.423Z"
   },
   {
    "duration": 61,
    "start_time": "2023-07-14T12:41:51.495Z"
   },
   {
    "duration": 265,
    "start_time": "2023-07-14T12:41:51.558Z"
   },
   {
    "duration": 9,
    "start_time": "2023-07-14T12:41:51.825Z"
   },
   {
    "duration": 41,
    "start_time": "2023-07-14T12:41:51.835Z"
   },
   {
    "duration": 42,
    "start_time": "2023-07-14T12:41:51.877Z"
   },
   {
    "duration": 56,
    "start_time": "2023-07-14T12:41:51.920Z"
   },
   {
    "duration": 8,
    "start_time": "2023-07-14T12:41:51.978Z"
   },
   {
    "duration": 8,
    "start_time": "2023-07-14T12:41:51.988Z"
   },
   {
    "duration": 36,
    "start_time": "2023-07-14T12:41:51.998Z"
   },
   {
    "duration": 75,
    "start_time": "2023-07-14T12:41:52.035Z"
   },
   {
    "duration": 67,
    "start_time": "2023-07-14T12:41:52.112Z"
   },
   {
    "duration": 517,
    "start_time": "2023-07-14T12:41:52.181Z"
   },
   {
    "duration": 65,
    "start_time": "2023-07-14T12:41:52.699Z"
   },
   {
    "duration": 59,
    "start_time": "2023-07-14T12:41:52.776Z"
   },
   {
    "duration": 505,
    "start_time": "2023-07-14T12:41:58.868Z"
   },
   {
    "duration": 13,
    "start_time": "2023-07-14T12:42:04.206Z"
   },
   {
    "duration": 273,
    "start_time": "2023-07-14T12:45:02.048Z"
   },
   {
    "duration": 120,
    "start_time": "2023-07-14T12:45:51.824Z"
   },
   {
    "duration": 770,
    "start_time": "2023-07-14T12:45:51.946Z"
   },
   {
    "duration": 105,
    "start_time": "2023-07-14T12:45:52.718Z"
   },
   {
    "duration": 133,
    "start_time": "2023-07-14T12:45:52.825Z"
   },
   {
    "duration": 425,
    "start_time": "2023-07-14T12:45:52.960Z"
   },
   {
    "duration": 919,
    "start_time": "2023-07-14T12:45:53.389Z"
   },
   {
    "duration": 31,
    "start_time": "2023-07-14T12:45:54.310Z"
   },
   {
    "duration": 115,
    "start_time": "2023-07-14T12:45:54.343Z"
   },
   {
    "duration": 39,
    "start_time": "2023-07-14T12:45:54.459Z"
   },
   {
    "duration": 94,
    "start_time": "2023-07-14T12:45:54.500Z"
   },
   {
    "duration": 92,
    "start_time": "2023-07-14T12:45:54.595Z"
   },
   {
    "duration": 40,
    "start_time": "2023-07-14T12:45:54.690Z"
   },
   {
    "duration": 94,
    "start_time": "2023-07-14T12:45:54.732Z"
   },
   {
    "duration": 31,
    "start_time": "2023-07-14T12:45:54.827Z"
   },
   {
    "duration": 89,
    "start_time": "2023-07-14T12:45:54.860Z"
   },
   {
    "duration": 86,
    "start_time": "2023-07-14T12:45:54.951Z"
   },
   {
    "duration": 79,
    "start_time": "2023-07-14T12:45:55.038Z"
   },
   {
    "duration": 292,
    "start_time": "2023-07-14T12:45:55.118Z"
   },
   {
    "duration": 8,
    "start_time": "2023-07-14T12:45:55.412Z"
   },
   {
    "duration": 24,
    "start_time": "2023-07-14T12:45:55.421Z"
   },
   {
    "duration": 58,
    "start_time": "2023-07-14T12:45:55.446Z"
   },
   {
    "duration": 42,
    "start_time": "2023-07-14T12:45:55.506Z"
   },
   {
    "duration": 8,
    "start_time": "2023-07-14T12:45:55.549Z"
   },
   {
    "duration": 10,
    "start_time": "2023-07-14T12:45:55.558Z"
   },
   {
    "duration": 34,
    "start_time": "2023-07-14T12:45:55.569Z"
   },
   {
    "duration": 55,
    "start_time": "2023-07-14T12:45:55.604Z"
   },
   {
    "duration": 67,
    "start_time": "2023-07-14T12:45:55.661Z"
   },
   {
    "duration": 483,
    "start_time": "2023-07-14T12:45:55.731Z"
   },
   {
    "duration": 99,
    "start_time": "2023-07-14T12:45:56.216Z"
   },
   {
    "duration": 105,
    "start_time": "2023-07-14T12:45:56.317Z"
   },
   {
    "duration": 646,
    "start_time": "2023-07-14T12:45:56.424Z"
   },
   {
    "duration": 270,
    "start_time": "2023-07-14T12:46:00.135Z"
   },
   {
    "duration": 8,
    "start_time": "2023-07-14T12:46:32.816Z"
   },
   {
    "duration": 869,
    "start_time": "2023-07-14T12:46:32.826Z"
   },
   {
    "duration": 93,
    "start_time": "2023-07-14T12:46:33.697Z"
   },
   {
    "duration": 161,
    "start_time": "2023-07-14T12:46:33.792Z"
   },
   {
    "duration": 456,
    "start_time": "2023-07-14T12:46:33.955Z"
   },
   {
    "duration": 990,
    "start_time": "2023-07-14T12:46:34.413Z"
   },
   {
    "duration": 41,
    "start_time": "2023-07-14T12:46:35.404Z"
   },
   {
    "duration": 141,
    "start_time": "2023-07-14T12:46:35.447Z"
   },
   {
    "duration": 29,
    "start_time": "2023-07-14T12:46:35.591Z"
   },
   {
    "duration": 112,
    "start_time": "2023-07-14T12:46:35.622Z"
   },
   {
    "duration": 108,
    "start_time": "2023-07-14T12:46:35.736Z"
   },
   {
    "duration": 58,
    "start_time": "2023-07-14T12:46:35.846Z"
   },
   {
    "duration": 98,
    "start_time": "2023-07-14T12:46:35.906Z"
   },
   {
    "duration": 36,
    "start_time": "2023-07-14T12:46:36.007Z"
   },
   {
    "duration": 100,
    "start_time": "2023-07-14T12:46:36.045Z"
   },
   {
    "duration": 87,
    "start_time": "2023-07-14T12:46:36.147Z"
   },
   {
    "duration": 74,
    "start_time": "2023-07-14T12:46:36.236Z"
   },
   {
    "duration": 347,
    "start_time": "2023-07-14T12:46:36.312Z"
   },
   {
    "duration": 17,
    "start_time": "2023-07-14T12:46:36.660Z"
   },
   {
    "duration": 27,
    "start_time": "2023-07-14T12:46:36.680Z"
   },
   {
    "duration": 46,
    "start_time": "2023-07-14T12:46:36.709Z"
   },
   {
    "duration": 69,
    "start_time": "2023-07-14T12:46:36.757Z"
   },
   {
    "duration": 10,
    "start_time": "2023-07-14T12:46:36.828Z"
   },
   {
    "duration": 9,
    "start_time": "2023-07-14T12:46:36.839Z"
   },
   {
    "duration": 38,
    "start_time": "2023-07-14T12:46:36.874Z"
   },
   {
    "duration": 67,
    "start_time": "2023-07-14T12:46:36.913Z"
   },
   {
    "duration": 73,
    "start_time": "2023-07-14T12:46:36.982Z"
   },
   {
    "duration": 540,
    "start_time": "2023-07-14T12:46:37.057Z"
   },
   {
    "duration": 82,
    "start_time": "2023-07-14T12:46:37.599Z"
   },
   {
    "duration": 64,
    "start_time": "2023-07-14T12:46:37.684Z"
   },
   {
    "duration": 601,
    "start_time": "2023-07-14T12:46:37.749Z"
   },
   {
    "duration": 62,
    "start_time": "2023-07-14T12:46:41.436Z"
   },
   {
    "duration": 10,
    "start_time": "2023-07-14T12:48:35.890Z"
   },
   {
    "duration": 20,
    "start_time": "2023-07-14T12:48:46.435Z"
   },
   {
    "duration": 148,
    "start_time": "2023-07-14T12:52:00.062Z"
   },
   {
    "duration": 204,
    "start_time": "2023-07-14T12:52:28.452Z"
   },
   {
    "duration": 8,
    "start_time": "2023-07-14T12:56:31.148Z"
   },
   {
    "duration": 967,
    "start_time": "2023-07-14T12:56:31.158Z"
   },
   {
    "duration": 106,
    "start_time": "2023-07-14T12:56:32.126Z"
   },
   {
    "duration": 164,
    "start_time": "2023-07-14T12:56:32.234Z"
   },
   {
    "duration": 488,
    "start_time": "2023-07-14T12:56:32.401Z"
   },
   {
    "duration": 988,
    "start_time": "2023-07-14T12:56:32.892Z"
   },
   {
    "duration": 50,
    "start_time": "2023-07-14T12:56:33.883Z"
   },
   {
    "duration": 127,
    "start_time": "2023-07-14T12:56:33.934Z"
   },
   {
    "duration": 44,
    "start_time": "2023-07-14T12:56:34.063Z"
   },
   {
    "duration": 104,
    "start_time": "2023-07-14T12:56:34.109Z"
   },
   {
    "duration": 109,
    "start_time": "2023-07-14T12:56:34.215Z"
   },
   {
    "duration": 49,
    "start_time": "2023-07-14T12:56:34.326Z"
   },
   {
    "duration": 84,
    "start_time": "2023-07-14T12:56:34.378Z"
   },
   {
    "duration": 50,
    "start_time": "2023-07-14T12:56:34.464Z"
   },
   {
    "duration": 100,
    "start_time": "2023-07-14T12:56:34.516Z"
   },
   {
    "duration": 81,
    "start_time": "2023-07-14T12:56:34.617Z"
   },
   {
    "duration": 59,
    "start_time": "2023-07-14T12:56:34.700Z"
   },
   {
    "duration": 301,
    "start_time": "2023-07-14T12:56:34.760Z"
   },
   {
    "duration": 17,
    "start_time": "2023-07-14T12:56:35.062Z"
   },
   {
    "duration": 56,
    "start_time": "2023-07-14T12:56:35.081Z"
   },
   {
    "duration": 72,
    "start_time": "2023-07-14T12:56:35.139Z"
   },
   {
    "duration": 52,
    "start_time": "2023-07-14T12:56:35.213Z"
   },
   {
    "duration": 18,
    "start_time": "2023-07-14T12:56:35.267Z"
   },
   {
    "duration": 50,
    "start_time": "2023-07-14T12:56:35.288Z"
   },
   {
    "duration": 55,
    "start_time": "2023-07-14T12:56:35.340Z"
   },
   {
    "duration": 68,
    "start_time": "2023-07-14T12:56:35.398Z"
   },
   {
    "duration": 70,
    "start_time": "2023-07-14T12:56:35.468Z"
   },
   {
    "duration": 520,
    "start_time": "2023-07-14T12:56:35.542Z"
   },
   {
    "duration": 86,
    "start_time": "2023-07-14T12:56:36.064Z"
   },
   {
    "duration": 84,
    "start_time": "2023-07-14T12:56:36.151Z"
   },
   {
    "duration": 626,
    "start_time": "2023-07-14T12:56:36.237Z"
   },
   {
    "duration": 26,
    "start_time": "2023-07-14T12:56:36.865Z"
   },
   {
    "duration": 245,
    "start_time": "2023-07-14T12:56:36.893Z"
   },
   {
    "duration": 59,
    "start_time": "2023-07-14T12:56:49.167Z"
   },
   {
    "duration": 8,
    "start_time": "2023-07-14T12:58:03.424Z"
   },
   {
    "duration": 819,
    "start_time": "2023-07-14T12:58:03.434Z"
   },
   {
    "duration": 99,
    "start_time": "2023-07-14T12:58:04.255Z"
   },
   {
    "duration": 149,
    "start_time": "2023-07-14T12:58:04.356Z"
   },
   {
    "duration": 402,
    "start_time": "2023-07-14T12:58:04.507Z"
   },
   {
    "duration": 930,
    "start_time": "2023-07-14T12:58:04.911Z"
   },
   {
    "duration": 46,
    "start_time": "2023-07-14T12:58:05.843Z"
   },
   {
    "duration": 111,
    "start_time": "2023-07-14T12:58:05.891Z"
   },
   {
    "duration": 29,
    "start_time": "2023-07-14T12:58:06.004Z"
   },
   {
    "duration": 100,
    "start_time": "2023-07-14T12:58:06.036Z"
   },
   {
    "duration": 99,
    "start_time": "2023-07-14T12:58:06.137Z"
   },
   {
    "duration": 51,
    "start_time": "2023-07-14T12:58:06.238Z"
   },
   {
    "duration": 89,
    "start_time": "2023-07-14T12:58:06.291Z"
   },
   {
    "duration": 46,
    "start_time": "2023-07-14T12:58:06.383Z"
   },
   {
    "duration": 122,
    "start_time": "2023-07-14T12:58:06.432Z"
   },
   {
    "duration": 79,
    "start_time": "2023-07-14T12:58:06.556Z"
   },
   {
    "duration": 73,
    "start_time": "2023-07-14T12:58:06.636Z"
   },
   {
    "duration": 258,
    "start_time": "2023-07-14T12:58:06.710Z"
   },
   {
    "duration": 10,
    "start_time": "2023-07-14T12:58:06.975Z"
   },
   {
    "duration": 30,
    "start_time": "2023-07-14T12:58:06.987Z"
   },
   {
    "duration": 59,
    "start_time": "2023-07-14T12:58:07.018Z"
   },
   {
    "duration": 44,
    "start_time": "2023-07-14T12:58:07.080Z"
   },
   {
    "duration": 8,
    "start_time": "2023-07-14T12:58:07.126Z"
   },
   {
    "duration": 23,
    "start_time": "2023-07-14T12:58:07.136Z"
   },
   {
    "duration": 39,
    "start_time": "2023-07-14T12:58:07.160Z"
   },
   {
    "duration": 76,
    "start_time": "2023-07-14T12:58:07.201Z"
   },
   {
    "duration": 186,
    "start_time": "2023-07-14T12:58:07.280Z"
   },
   {
    "duration": 497,
    "start_time": "2023-07-14T12:58:07.470Z"
   },
   {
    "duration": 77,
    "start_time": "2023-07-14T12:58:07.968Z"
   },
   {
    "duration": 76,
    "start_time": "2023-07-14T12:58:08.046Z"
   },
   {
    "duration": 542,
    "start_time": "2023-07-14T12:58:08.123Z"
   },
   {
    "duration": 27,
    "start_time": "2023-07-14T12:58:08.667Z"
   },
   {
    "duration": 281,
    "start_time": "2023-07-14T12:58:30.815Z"
   },
   {
    "duration": 7,
    "start_time": "2023-07-14T12:59:04.158Z"
   },
   {
    "duration": 793,
    "start_time": "2023-07-14T12:59:04.166Z"
   },
   {
    "duration": 86,
    "start_time": "2023-07-14T12:59:04.961Z"
   },
   {
    "duration": 139,
    "start_time": "2023-07-14T12:59:05.048Z"
   },
   {
    "duration": 415,
    "start_time": "2023-07-14T12:59:05.189Z"
   },
   {
    "duration": 900,
    "start_time": "2023-07-14T12:59:05.605Z"
   },
   {
    "duration": 37,
    "start_time": "2023-07-14T12:59:06.507Z"
   },
   {
    "duration": 154,
    "start_time": "2023-07-14T12:59:06.546Z"
   },
   {
    "duration": 30,
    "start_time": "2023-07-14T12:59:06.702Z"
   },
   {
    "duration": 113,
    "start_time": "2023-07-14T12:59:06.734Z"
   },
   {
    "duration": 99,
    "start_time": "2023-07-14T12:59:06.849Z"
   },
   {
    "duration": 53,
    "start_time": "2023-07-14T12:59:06.949Z"
   },
   {
    "duration": 92,
    "start_time": "2023-07-14T12:59:07.004Z"
   },
   {
    "duration": 32,
    "start_time": "2023-07-14T12:59:07.099Z"
   },
   {
    "duration": 106,
    "start_time": "2023-07-14T12:59:07.132Z"
   },
   {
    "duration": 84,
    "start_time": "2023-07-14T12:59:07.240Z"
   },
   {
    "duration": 75,
    "start_time": "2023-07-14T12:59:07.326Z"
   },
   {
    "duration": 299,
    "start_time": "2023-07-14T12:59:07.403Z"
   },
   {
    "duration": 8,
    "start_time": "2023-07-14T12:59:07.703Z"
   },
   {
    "duration": 25,
    "start_time": "2023-07-14T12:59:07.712Z"
   },
   {
    "duration": 66,
    "start_time": "2023-07-14T12:59:07.738Z"
   },
   {
    "duration": 40,
    "start_time": "2023-07-14T12:59:07.806Z"
   },
   {
    "duration": 30,
    "start_time": "2023-07-14T12:59:07.848Z"
   },
   {
    "duration": 8,
    "start_time": "2023-07-14T12:59:07.880Z"
   },
   {
    "duration": 33,
    "start_time": "2023-07-14T12:59:07.890Z"
   },
   {
    "duration": 78,
    "start_time": "2023-07-14T12:59:07.925Z"
   },
   {
    "duration": 72,
    "start_time": "2023-07-14T12:59:08.005Z"
   },
   {
    "duration": 506,
    "start_time": "2023-07-14T12:59:08.080Z"
   },
   {
    "duration": 62,
    "start_time": "2023-07-14T12:59:08.588Z"
   },
   {
    "duration": 79,
    "start_time": "2023-07-14T12:59:08.651Z"
   },
   {
    "duration": 564,
    "start_time": "2023-07-14T12:59:08.732Z"
   },
   {
    "duration": 14,
    "start_time": "2023-07-14T12:59:09.298Z"
   },
   {
    "duration": 33,
    "start_time": "2023-07-14T12:59:15.815Z"
   },
   {
    "duration": 29,
    "start_time": "2023-07-14T12:59:48.077Z"
   },
   {
    "duration": 7,
    "start_time": "2023-07-14T13:01:31.931Z"
   },
   {
    "duration": 827,
    "start_time": "2023-07-14T13:01:31.940Z"
   },
   {
    "duration": 92,
    "start_time": "2023-07-14T13:01:32.769Z"
   },
   {
    "duration": 131,
    "start_time": "2023-07-14T13:01:32.874Z"
   },
   {
    "duration": 444,
    "start_time": "2023-07-14T13:01:33.007Z"
   },
   {
    "duration": 893,
    "start_time": "2023-07-14T13:01:33.453Z"
   },
   {
    "duration": 39,
    "start_time": "2023-07-14T13:01:34.347Z"
   },
   {
    "duration": 111,
    "start_time": "2023-07-14T13:01:34.387Z"
   },
   {
    "duration": 29,
    "start_time": "2023-07-14T13:01:34.500Z"
   },
   {
    "duration": 104,
    "start_time": "2023-07-14T13:01:34.532Z"
   },
   {
    "duration": 91,
    "start_time": "2023-07-14T13:01:34.638Z"
   },
   {
    "duration": 78,
    "start_time": "2023-07-14T13:01:34.731Z"
   },
   {
    "duration": 82,
    "start_time": "2023-07-14T13:01:34.811Z"
   },
   {
    "duration": 39,
    "start_time": "2023-07-14T13:01:34.896Z"
   },
   {
    "duration": 101,
    "start_time": "2023-07-14T13:01:34.937Z"
   },
   {
    "duration": 79,
    "start_time": "2023-07-14T13:01:35.040Z"
   },
   {
    "duration": 81,
    "start_time": "2023-07-14T13:01:35.121Z"
   },
   {
    "duration": 280,
    "start_time": "2023-07-14T13:01:35.204Z"
   },
   {
    "duration": 10,
    "start_time": "2023-07-14T13:01:35.486Z"
   },
   {
    "duration": 43,
    "start_time": "2023-07-14T13:01:35.498Z"
   },
   {
    "duration": 59,
    "start_time": "2023-07-14T13:01:35.543Z"
   },
   {
    "duration": 45,
    "start_time": "2023-07-14T13:01:35.604Z"
   },
   {
    "duration": 26,
    "start_time": "2023-07-14T13:01:35.651Z"
   },
   {
    "duration": 46,
    "start_time": "2023-07-14T13:01:35.680Z"
   },
   {
    "duration": 39,
    "start_time": "2023-07-14T13:01:35.728Z"
   },
   {
    "duration": 64,
    "start_time": "2023-07-14T13:01:35.769Z"
   },
   {
    "duration": 129,
    "start_time": "2023-07-14T13:01:35.835Z"
   },
   {
    "duration": 585,
    "start_time": "2023-07-14T13:01:35.968Z"
   },
   {
    "duration": 89,
    "start_time": "2023-07-14T13:01:36.555Z"
   },
   {
    "duration": 70,
    "start_time": "2023-07-14T13:01:36.646Z"
   },
   {
    "duration": 513,
    "start_time": "2023-07-14T13:01:36.718Z"
   },
   {
    "duration": 15,
    "start_time": "2023-07-14T13:01:37.233Z"
   },
   {
    "duration": 76,
    "start_time": "2023-07-14T13:01:43.076Z"
   },
   {
    "duration": 63,
    "start_time": "2023-07-14T13:02:10.340Z"
   },
   {
    "duration": 19,
    "start_time": "2023-07-14T13:03:22.933Z"
   },
   {
    "duration": 51,
    "start_time": "2023-07-14T13:28:37.558Z"
   },
   {
    "duration": 14,
    "start_time": "2023-07-14T13:29:07.822Z"
   },
   {
    "duration": 50,
    "start_time": "2023-07-14T13:29:12.920Z"
   },
   {
    "duration": 68,
    "start_time": "2023-07-14T13:31:18.814Z"
   },
   {
    "duration": 10,
    "start_time": "2023-07-14T13:31:44.672Z"
   },
   {
    "duration": 9,
    "start_time": "2023-07-14T13:32:52.898Z"
   },
   {
    "duration": 10,
    "start_time": "2023-07-14T13:33:09.206Z"
   },
   {
    "duration": 10,
    "start_time": "2023-07-14T13:33:17.598Z"
   },
   {
    "duration": 5,
    "start_time": "2023-07-14T13:33:28.160Z"
   },
   {
    "duration": 338,
    "start_time": "2023-07-14T13:37:02.402Z"
   },
   {
    "duration": 9,
    "start_time": "2023-07-14T13:37:05.095Z"
   },
   {
    "duration": 10,
    "start_time": "2023-07-14T13:37:06.168Z"
   },
   {
    "duration": 10,
    "start_time": "2023-07-14T13:37:15.583Z"
   },
   {
    "duration": 6,
    "start_time": "2023-07-14T13:37:34.581Z"
   },
   {
    "duration": 77,
    "start_time": "2023-07-14T17:30:57.256Z"
   },
   {
    "duration": 1633,
    "start_time": "2023-07-14T17:52:22.158Z"
   },
   {
    "duration": 181,
    "start_time": "2023-07-14T17:53:54.611Z"
   },
   {
    "duration": 11,
    "start_time": "2023-07-14T17:56:01.496Z"
   },
   {
    "duration": 1006,
    "start_time": "2023-07-14T17:56:01.509Z"
   },
   {
    "duration": 122,
    "start_time": "2023-07-14T17:56:02.516Z"
   },
   {
    "duration": 130,
    "start_time": "2023-07-14T17:56:02.640Z"
   },
   {
    "duration": 374,
    "start_time": "2023-07-14T17:56:02.773Z"
   },
   {
    "duration": 787,
    "start_time": "2023-07-14T17:56:03.148Z"
   },
   {
    "duration": 28,
    "start_time": "2023-07-14T17:56:03.936Z"
   },
   {
    "duration": 96,
    "start_time": "2023-07-14T17:56:03.966Z"
   },
   {
    "duration": 25,
    "start_time": "2023-07-14T17:56:04.063Z"
   },
   {
    "duration": 68,
    "start_time": "2023-07-14T17:56:04.100Z"
   },
   {
    "duration": 75,
    "start_time": "2023-07-14T17:56:04.169Z"
   },
   {
    "duration": 32,
    "start_time": "2023-07-14T17:56:04.246Z"
   },
   {
    "duration": 84,
    "start_time": "2023-07-14T17:56:04.279Z"
   },
   {
    "duration": 42,
    "start_time": "2023-07-14T17:56:04.367Z"
   },
   {
    "duration": 63,
    "start_time": "2023-07-14T17:56:04.411Z"
   },
   {
    "duration": 64,
    "start_time": "2023-07-14T17:56:04.475Z"
   },
   {
    "duration": 68,
    "start_time": "2023-07-14T17:56:04.540Z"
   },
   {
    "duration": 239,
    "start_time": "2023-07-14T17:56:04.609Z"
   },
   {
    "duration": 7,
    "start_time": "2023-07-14T17:56:04.849Z"
   },
   {
    "duration": 26,
    "start_time": "2023-07-14T17:56:04.857Z"
   },
   {
    "duration": 50,
    "start_time": "2023-07-14T17:56:04.884Z"
   },
   {
    "duration": 38,
    "start_time": "2023-07-14T17:56:04.935Z"
   },
   {
    "duration": 26,
    "start_time": "2023-07-14T17:56:04.975Z"
   },
   {
    "duration": 6,
    "start_time": "2023-07-14T17:56:05.002Z"
   },
   {
    "duration": 98,
    "start_time": "2023-07-14T17:56:05.009Z"
   },
   {
    "duration": 48,
    "start_time": "2023-07-14T17:56:05.108Z"
   },
   {
    "duration": 66,
    "start_time": "2023-07-14T17:56:05.158Z"
   },
   {
    "duration": 474,
    "start_time": "2023-07-14T17:56:05.226Z"
   },
   {
    "duration": 54,
    "start_time": "2023-07-14T17:56:05.702Z"
   },
   {
    "duration": 62,
    "start_time": "2023-07-14T17:56:05.758Z"
   },
   {
    "duration": 549,
    "start_time": "2023-07-14T17:56:05.822Z"
   },
   {
    "duration": 15,
    "start_time": "2023-07-14T17:56:06.372Z"
   },
   {
    "duration": 61,
    "start_time": "2023-07-14T17:56:06.389Z"
   },
   {
    "duration": 15,
    "start_time": "2023-07-14T17:56:06.451Z"
   },
   {
    "duration": 86,
    "start_time": "2023-07-14T17:56:06.467Z"
   },
   {
    "duration": 76,
    "start_time": "2023-07-14T17:56:06.555Z"
   },
   {
    "duration": 8,
    "start_time": "2023-07-14T17:56:06.633Z"
   },
   {
    "duration": 0,
    "start_time": "2023-07-14T17:56:06.642Z"
   },
   {
    "duration": 0,
    "start_time": "2023-07-14T17:56:06.643Z"
   },
   {
    "duration": 0,
    "start_time": "2023-07-14T17:56:06.644Z"
   },
   {
    "duration": 229,
    "start_time": "2023-07-14T17:56:53.570Z"
   },
   {
    "duration": 8,
    "start_time": "2023-07-14T17:56:56.160Z"
   },
   {
    "duration": 5,
    "start_time": "2023-07-14T17:56:58.575Z"
   },
   {
    "duration": 332,
    "start_time": "2023-07-14T17:57:01.599Z"
   },
   {
    "duration": 9,
    "start_time": "2023-07-14T17:57:04.159Z"
   },
   {
    "duration": 4,
    "start_time": "2023-07-14T17:57:05.654Z"
   },
   {
    "duration": 39,
    "start_time": "2023-07-14T17:57:12.736Z"
   },
   {
    "duration": 66,
    "start_time": "2023-07-14T17:57:24.200Z"
   },
   {
    "duration": 82,
    "start_time": "2023-07-14T17:57:33.326Z"
   },
   {
    "duration": 1740,
    "start_time": "2023-07-14T17:57:48.132Z"
   },
   {
    "duration": 1752,
    "start_time": "2023-07-17T09:15:02.708Z"
   },
   {
    "duration": 3227,
    "start_time": "2023-07-17T09:15:04.462Z"
   },
   {
    "duration": 132,
    "start_time": "2023-07-17T09:15:07.691Z"
   },
   {
    "duration": 138,
    "start_time": "2023-07-17T09:15:07.824Z"
   },
   {
    "duration": 437,
    "start_time": "2023-07-17T09:15:07.969Z"
   },
   {
    "duration": 956,
    "start_time": "2023-07-17T09:15:08.408Z"
   },
   {
    "duration": 32,
    "start_time": "2023-07-17T09:15:09.368Z"
   },
   {
    "duration": 106,
    "start_time": "2023-07-17T09:15:09.402Z"
   },
   {
    "duration": 24,
    "start_time": "2023-07-17T09:15:09.510Z"
   },
   {
    "duration": 95,
    "start_time": "2023-07-17T09:15:09.535Z"
   },
   {
    "duration": 85,
    "start_time": "2023-07-17T09:15:09.632Z"
   },
   {
    "duration": 54,
    "start_time": "2023-07-17T09:15:09.719Z"
   },
   {
    "duration": 74,
    "start_time": "2023-07-17T09:15:09.775Z"
   },
   {
    "duration": 36,
    "start_time": "2023-07-17T09:15:09.851Z"
   },
   {
    "duration": 98,
    "start_time": "2023-07-17T09:15:09.889Z"
   },
   {
    "duration": 87,
    "start_time": "2023-07-17T09:15:09.989Z"
   },
   {
    "duration": 68,
    "start_time": "2023-07-17T09:15:10.079Z"
   },
   {
    "duration": 278,
    "start_time": "2023-07-17T09:15:10.149Z"
   },
   {
    "duration": 8,
    "start_time": "2023-07-17T09:15:10.429Z"
   },
   {
    "duration": 39,
    "start_time": "2023-07-17T09:15:10.439Z"
   },
   {
    "duration": 43,
    "start_time": "2023-07-17T09:15:10.480Z"
   },
   {
    "duration": 58,
    "start_time": "2023-07-17T09:15:10.524Z"
   },
   {
    "duration": 8,
    "start_time": "2023-07-17T09:15:10.584Z"
   },
   {
    "duration": 5,
    "start_time": "2023-07-17T09:15:10.593Z"
   },
   {
    "duration": 37,
    "start_time": "2023-07-17T09:15:10.600Z"
   },
   {
    "duration": 69,
    "start_time": "2023-07-17T09:15:10.639Z"
   },
   {
    "duration": 71,
    "start_time": "2023-07-17T09:15:10.710Z"
   },
   {
    "duration": 586,
    "start_time": "2023-07-17T09:15:10.783Z"
   },
   {
    "duration": 62,
    "start_time": "2023-07-17T09:15:11.371Z"
   },
   {
    "duration": 72,
    "start_time": "2023-07-17T09:15:11.435Z"
   },
   {
    "duration": 516,
    "start_time": "2023-07-17T09:15:11.508Z"
   },
   {
    "duration": 17,
    "start_time": "2023-07-17T09:15:12.026Z"
   },
   {
    "duration": 85,
    "start_time": "2023-07-17T09:15:12.046Z"
   },
   {
    "duration": 19,
    "start_time": "2023-07-17T09:15:12.133Z"
   },
   {
    "duration": 119,
    "start_time": "2023-07-17T09:15:12.154Z"
   },
   {
    "duration": 98,
    "start_time": "2023-07-17T09:15:12.276Z"
   },
   {
    "duration": 97,
    "start_time": "2023-07-17T09:15:12.376Z"
   },
   {
    "duration": 438,
    "start_time": "2023-07-17T09:15:12.475Z"
   },
   {
    "duration": 10,
    "start_time": "2023-07-17T09:15:12.914Z"
   },
   {
    "duration": 5,
    "start_time": "2023-07-17T09:15:12.925Z"
   },
   {
    "duration": 360,
    "start_time": "2023-07-17T09:15:45.455Z"
   },
   {
    "duration": 83,
    "start_time": "2023-07-17T09:15:54.493Z"
   },
   {
    "duration": 98,
    "start_time": "2023-07-17T10:11:50.177Z"
   },
   {
    "duration": 73,
    "start_time": "2023-07-17T10:12:01.900Z"
   },
   {
    "duration": 63,
    "start_time": "2023-07-17T11:48:03.797Z"
   },
   {
    "duration": 8,
    "start_time": "2023-07-17T11:48:08.196Z"
   },
   {
    "duration": 727,
    "start_time": "2023-07-17T11:48:08.206Z"
   },
   {
    "duration": 86,
    "start_time": "2023-07-17T11:48:08.934Z"
   },
   {
    "duration": 132,
    "start_time": "2023-07-17T11:48:09.022Z"
   },
   {
    "duration": 390,
    "start_time": "2023-07-17T11:48:09.156Z"
   },
   {
    "duration": 813,
    "start_time": "2023-07-17T11:48:09.547Z"
   },
   {
    "duration": 33,
    "start_time": "2023-07-17T11:48:10.361Z"
   },
   {
    "duration": 101,
    "start_time": "2023-07-17T11:48:10.396Z"
   },
   {
    "duration": 25,
    "start_time": "2023-07-17T11:48:10.498Z"
   },
   {
    "duration": 96,
    "start_time": "2023-07-17T11:48:10.524Z"
   },
   {
    "duration": 85,
    "start_time": "2023-07-17T11:48:10.621Z"
   },
   {
    "duration": 35,
    "start_time": "2023-07-17T11:48:10.707Z"
   },
   {
    "duration": 82,
    "start_time": "2023-07-17T11:48:10.743Z"
   },
   {
    "duration": 40,
    "start_time": "2023-07-17T11:48:10.828Z"
   },
   {
    "duration": 72,
    "start_time": "2023-07-17T11:48:10.869Z"
   },
   {
    "duration": 72,
    "start_time": "2023-07-17T11:48:10.943Z"
   },
   {
    "duration": 74,
    "start_time": "2023-07-17T11:48:11.017Z"
   },
   {
    "duration": 257,
    "start_time": "2023-07-17T11:48:11.093Z"
   },
   {
    "duration": 17,
    "start_time": "2023-07-17T11:48:11.352Z"
   },
   {
    "duration": 24,
    "start_time": "2023-07-17T11:48:11.371Z"
   },
   {
    "duration": 44,
    "start_time": "2023-07-17T11:48:11.397Z"
   },
   {
    "duration": 63,
    "start_time": "2023-07-17T11:48:11.443Z"
   },
   {
    "duration": 9,
    "start_time": "2023-07-17T11:48:11.508Z"
   },
   {
    "duration": 32,
    "start_time": "2023-07-17T11:48:11.519Z"
   },
   {
    "duration": 47,
    "start_time": "2023-07-17T11:48:11.553Z"
   },
   {
    "duration": 56,
    "start_time": "2023-07-17T11:48:11.601Z"
   },
   {
    "duration": 76,
    "start_time": "2023-07-17T11:48:11.659Z"
   },
   {
    "duration": 444,
    "start_time": "2023-07-17T11:48:11.737Z"
   },
   {
    "duration": 62,
    "start_time": "2023-07-17T11:48:12.182Z"
   },
   {
    "duration": 76,
    "start_time": "2023-07-17T11:48:12.246Z"
   },
   {
    "duration": 520,
    "start_time": "2023-07-17T11:48:12.323Z"
   },
   {
    "duration": 15,
    "start_time": "2023-07-17T11:48:12.845Z"
   },
   {
    "duration": 63,
    "start_time": "2023-07-17T11:48:12.868Z"
   },
   {
    "duration": 17,
    "start_time": "2023-07-17T11:48:12.933Z"
   },
   {
    "duration": 104,
    "start_time": "2023-07-17T11:48:12.969Z"
   },
   {
    "duration": 98,
    "start_time": "2023-07-17T11:48:13.075Z"
   },
   {
    "duration": 95,
    "start_time": "2023-07-17T11:48:13.176Z"
   },
   {
    "duration": 412,
    "start_time": "2023-07-17T11:48:13.272Z"
   },
   {
    "duration": 10,
    "start_time": "2023-07-17T11:48:13.686Z"
   },
   {
    "duration": 10,
    "start_time": "2023-07-17T11:48:13.698Z"
   },
   {
    "duration": 71,
    "start_time": "2023-07-17T11:48:15.360Z"
   },
   {
    "duration": 28172,
    "start_time": "2023-07-17T11:48:23.920Z"
   },
   {
    "duration": 26534,
    "start_time": "2023-07-17T11:50:01.633Z"
   },
   {
    "duration": 67,
    "start_time": "2023-07-17T11:50:28.168Z"
   },
   {
    "duration": 4,
    "start_time": "2023-07-17T11:50:46.358Z"
   },
   {
    "duration": 5,
    "start_time": "2023-07-17T11:52:34.970Z"
   },
   {
    "duration": 128,
    "start_time": "2023-07-17T12:27:32.788Z"
   },
   {
    "duration": 126,
    "start_time": "2023-07-17T12:28:01.231Z"
   },
   {
    "duration": 25813,
    "start_time": "2023-07-17T12:28:07.867Z"
   },
   {
    "duration": 126,
    "start_time": "2023-07-17T12:28:36.126Z"
   },
   {
    "duration": 4712,
    "start_time": "2023-07-17T12:28:46.774Z"
   },
   {
    "duration": 5,
    "start_time": "2023-07-17T12:28:53.658Z"
   },
   {
    "duration": 12,
    "start_time": "2023-07-17T12:51:27.266Z"
   },
   {
    "duration": 191,
    "start_time": "2023-07-17T12:52:48.690Z"
   },
   {
    "duration": 44,
    "start_time": "2023-07-17T12:52:58.157Z"
   },
   {
    "duration": 42,
    "start_time": "2023-07-17T12:54:01.557Z"
   },
   {
    "duration": 42,
    "start_time": "2023-07-17T12:54:07.592Z"
   },
   {
    "duration": 41,
    "start_time": "2023-07-17T12:54:10.256Z"
   },
   {
    "duration": 42,
    "start_time": "2023-07-17T12:54:15.303Z"
   },
   {
    "duration": 43,
    "start_time": "2023-07-17T12:54:44.324Z"
   },
   {
    "duration": 14,
    "start_time": "2023-07-17T12:55:24.409Z"
   },
   {
    "duration": 9,
    "start_time": "2023-07-17T12:55:40.027Z"
   },
   {
    "duration": 5,
    "start_time": "2023-07-17T12:55:41.517Z"
   },
   {
    "duration": 187,
    "start_time": "2023-07-17T12:56:31.285Z"
   },
   {
    "duration": 41,
    "start_time": "2023-07-17T12:56:36.965Z"
   },
   {
    "duration": 41,
    "start_time": "2023-07-17T12:56:43.501Z"
   },
   {
    "duration": 15,
    "start_time": "2023-07-17T12:57:12.389Z"
   },
   {
    "duration": 5,
    "start_time": "2023-07-17T12:57:39.661Z"
   },
   {
    "duration": 347,
    "start_time": "2023-07-17T12:58:52.864Z"
   },
   {
    "duration": 368,
    "start_time": "2023-07-17T12:59:05.556Z"
   },
   {
    "duration": 14,
    "start_time": "2023-07-17T12:59:45.361Z"
   },
   {
    "duration": 356,
    "start_time": "2023-07-17T13:00:03.513Z"
   },
   {
    "duration": 383,
    "start_time": "2023-07-17T13:00:22.757Z"
   },
   {
    "duration": 10,
    "start_time": "2023-07-17T13:00:25.113Z"
   },
   {
    "duration": 53,
    "start_time": "2023-07-17T13:01:44.454Z"
   },
   {
    "duration": 7,
    "start_time": "2023-07-17T13:01:46.401Z"
   },
   {
    "duration": 371,
    "start_time": "2023-07-17T13:02:09.270Z"
   },
   {
    "duration": 16,
    "start_time": "2023-07-17T13:02:26.551Z"
   },
   {
    "duration": 70,
    "start_time": "2023-07-17T13:03:03.413Z"
   },
   {
    "duration": 45,
    "start_time": "2023-07-17T13:04:14.665Z"
   },
   {
    "duration": 350,
    "start_time": "2023-07-17T13:04:24.576Z"
   },
   {
    "duration": 441573,
    "start_time": "2023-07-17T13:05:40.812Z"
   },
   {
    "duration": 0,
    "start_time": "2023-07-17T13:13:02.387Z"
   },
   {
    "duration": 9,
    "start_time": "2023-07-17T13:13:08.256Z"
   },
   {
    "duration": 784,
    "start_time": "2023-07-17T13:13:08.267Z"
   },
   {
    "duration": 96,
    "start_time": "2023-07-17T13:13:09.053Z"
   },
   {
    "duration": 140,
    "start_time": "2023-07-17T13:13:09.150Z"
   },
   {
    "duration": 415,
    "start_time": "2023-07-17T13:13:09.292Z"
   },
   {
    "duration": 886,
    "start_time": "2023-07-17T13:13:09.709Z"
   },
   {
    "duration": 37,
    "start_time": "2023-07-17T13:13:10.597Z"
   },
   {
    "duration": 116,
    "start_time": "2023-07-17T13:13:10.636Z"
   },
   {
    "duration": 38,
    "start_time": "2023-07-17T13:13:10.755Z"
   },
   {
    "duration": 106,
    "start_time": "2023-07-17T13:13:10.795Z"
   },
   {
    "duration": 103,
    "start_time": "2023-07-17T13:13:10.903Z"
   },
   {
    "duration": 40,
    "start_time": "2023-07-17T13:13:11.008Z"
   },
   {
    "duration": 82,
    "start_time": "2023-07-17T13:13:11.050Z"
   },
   {
    "duration": 48,
    "start_time": "2023-07-17T13:13:11.135Z"
   },
   {
    "duration": 89,
    "start_time": "2023-07-17T13:13:11.185Z"
   },
   {
    "duration": 64,
    "start_time": "2023-07-17T13:13:11.275Z"
   },
   {
    "duration": 75,
    "start_time": "2023-07-17T13:13:11.340Z"
   },
   {
    "duration": 247,
    "start_time": "2023-07-17T13:13:11.416Z"
   },
   {
    "duration": 8,
    "start_time": "2023-07-17T13:13:11.667Z"
   },
   {
    "duration": 31,
    "start_time": "2023-07-17T13:13:11.677Z"
   },
   {
    "duration": 59,
    "start_time": "2023-07-17T13:13:11.710Z"
   },
   {
    "duration": 45,
    "start_time": "2023-07-17T13:13:11.771Z"
   },
   {
    "duration": 8,
    "start_time": "2023-07-17T13:13:11.817Z"
   },
   {
    "duration": 6,
    "start_time": "2023-07-17T13:13:11.827Z"
   },
   {
    "duration": 50,
    "start_time": "2023-07-17T13:13:11.835Z"
   },
   {
    "duration": 56,
    "start_time": "2023-07-17T13:13:11.887Z"
   },
   {
    "duration": 73,
    "start_time": "2023-07-17T13:13:11.945Z"
   },
   {
    "duration": 465,
    "start_time": "2023-07-17T13:13:12.020Z"
   },
   {
    "duration": 63,
    "start_time": "2023-07-17T13:13:12.487Z"
   },
   {
    "duration": 74,
    "start_time": "2023-07-17T13:13:12.552Z"
   },
   {
    "duration": 509,
    "start_time": "2023-07-17T13:13:12.627Z"
   },
   {
    "duration": 15,
    "start_time": "2023-07-17T13:13:13.138Z"
   },
   {
    "duration": 72,
    "start_time": "2023-07-17T13:13:13.155Z"
   },
   {
    "duration": 17,
    "start_time": "2023-07-17T13:13:13.228Z"
   },
   {
    "duration": 52,
    "start_time": "2023-07-17T13:13:13.269Z"
   },
   {
    "duration": 13,
    "start_time": "2023-07-17T13:13:17.521Z"
   },
   {
    "duration": 3,
    "start_time": "2023-07-17T13:13:20.570Z"
   },
   {
    "duration": 4,
    "start_time": "2023-07-17T13:13:25.814Z"
   },
   {
    "duration": 10,
    "start_time": "2023-07-17T13:13:56.788Z"
   },
   {
    "duration": 5,
    "start_time": "2023-07-17T13:14:52.852Z"
   },
   {
    "duration": 6,
    "start_time": "2023-07-17T13:15:41.760Z"
   },
   {
    "duration": 5,
    "start_time": "2023-07-17T13:16:19.300Z"
   },
   {
    "duration": 0,
    "start_time": "2023-07-17T13:22:50.380Z"
   },
   {
    "duration": 36379,
    "start_time": "2023-07-17T13:22:51.493Z"
   },
   {
    "duration": 51,
    "start_time": "2023-07-17T13:24:15.718Z"
   },
   {
    "duration": 3,
    "start_time": "2023-07-17T13:24:38.852Z"
   },
   {
    "duration": 5,
    "start_time": "2023-07-17T13:24:43.318Z"
   },
   {
    "duration": 136,
    "start_time": "2023-07-17T13:24:50.953Z"
   },
   {
    "duration": 10,
    "start_time": "2023-07-17T13:24:59.417Z"
   },
   {
    "duration": 10,
    "start_time": "2023-07-17T13:25:22.120Z"
   },
   {
    "duration": 14,
    "start_time": "2023-07-17T13:28:50.664Z"
   },
   {
    "duration": 13,
    "start_time": "2023-07-17T13:29:29.722Z"
   },
   {
    "duration": 9,
    "start_time": "2023-07-17T13:31:57.918Z"
   },
   {
    "duration": 7,
    "start_time": "2023-07-17T13:32:24.801Z"
   },
   {
    "duration": 10,
    "start_time": "2023-07-17T13:32:27.256Z"
   },
   {
    "duration": 14,
    "start_time": "2023-07-17T13:32:51.181Z"
   },
   {
    "duration": 50,
    "start_time": "2023-07-18T09:55:26.080Z"
   },
   {
    "duration": 1829,
    "start_time": "2023-07-18T09:55:30.144Z"
   },
   {
    "duration": 1185,
    "start_time": "2023-07-18T09:55:31.976Z"
   },
   {
    "duration": 107,
    "start_time": "2023-07-18T09:55:33.162Z"
   },
   {
    "duration": 120,
    "start_time": "2023-07-18T09:55:33.270Z"
   },
   {
    "duration": 512,
    "start_time": "2023-07-18T09:55:33.392Z"
   },
   {
    "duration": 1086,
    "start_time": "2023-07-18T09:55:33.906Z"
   },
   {
    "duration": 35,
    "start_time": "2023-07-18T09:55:34.995Z"
   },
   {
    "duration": 158,
    "start_time": "2023-07-18T09:55:35.032Z"
   },
   {
    "duration": 45,
    "start_time": "2023-07-18T09:55:35.192Z"
   },
   {
    "duration": 152,
    "start_time": "2023-07-18T09:55:35.238Z"
   },
   {
    "duration": 71,
    "start_time": "2023-07-18T09:55:35.392Z"
   },
   {
    "duration": 44,
    "start_time": "2023-07-18T09:55:35.464Z"
   },
   {
    "duration": 94,
    "start_time": "2023-07-18T09:55:35.510Z"
   },
   {
    "duration": 34,
    "start_time": "2023-07-18T09:55:35.607Z"
   },
   {
    "duration": 96,
    "start_time": "2023-07-18T09:55:35.643Z"
   },
   {
    "duration": 82,
    "start_time": "2023-07-18T09:55:35.740Z"
   },
   {
    "duration": 91,
    "start_time": "2023-07-18T09:55:35.825Z"
   },
   {
    "duration": 308,
    "start_time": "2023-07-18T09:55:35.918Z"
   },
   {
    "duration": 10,
    "start_time": "2023-07-18T09:55:36.228Z"
   },
   {
    "duration": 35,
    "start_time": "2023-07-18T09:55:36.240Z"
   },
   {
    "duration": 58,
    "start_time": "2023-07-18T09:55:36.277Z"
   },
   {
    "duration": 47,
    "start_time": "2023-07-18T09:55:36.337Z"
   },
   {
    "duration": 25,
    "start_time": "2023-07-18T09:55:36.386Z"
   },
   {
    "duration": 19,
    "start_time": "2023-07-18T09:55:36.412Z"
   },
   {
    "duration": 51,
    "start_time": "2023-07-18T09:55:36.433Z"
   },
   {
    "duration": 55,
    "start_time": "2023-07-18T09:55:36.486Z"
   },
   {
    "duration": 88,
    "start_time": "2023-07-18T09:55:36.543Z"
   },
   {
    "duration": 630,
    "start_time": "2023-07-18T09:55:36.633Z"
   },
   {
    "duration": 70,
    "start_time": "2023-07-18T09:55:37.264Z"
   },
   {
    "duration": 87,
    "start_time": "2023-07-18T09:55:37.335Z"
   },
   {
    "duration": 557,
    "start_time": "2023-07-18T09:55:37.424Z"
   },
   {
    "duration": 33,
    "start_time": "2023-07-18T09:55:37.983Z"
   },
   {
    "duration": 76,
    "start_time": "2023-07-18T09:55:38.018Z"
   },
   {
    "duration": 34,
    "start_time": "2023-07-18T09:55:38.096Z"
   },
   {
    "duration": 92,
    "start_time": "2023-07-18T09:55:38.132Z"
   },
   {
    "duration": 85,
    "start_time": "2023-07-18T09:55:38.226Z"
   },
   {
    "duration": 109,
    "start_time": "2023-07-18T09:55:38.313Z"
   },
   {
    "duration": 414,
    "start_time": "2023-07-18T09:55:38.424Z"
   },
   {
    "duration": 11,
    "start_time": "2023-07-18T09:55:38.840Z"
   },
   {
    "duration": 16,
    "start_time": "2023-07-18T09:55:38.854Z"
   },
   {
    "duration": 130,
    "start_time": "2023-07-18T09:55:38.874Z"
   },
   {
    "duration": 0,
    "start_time": "2023-07-18T09:55:39.005Z"
   },
   {
    "duration": 0,
    "start_time": "2023-07-18T09:55:39.006Z"
   },
   {
    "duration": 0,
    "start_time": "2023-07-18T09:55:39.008Z"
   },
   {
    "duration": 0,
    "start_time": "2023-07-18T09:55:39.009Z"
   },
   {
    "duration": 0,
    "start_time": "2023-07-18T09:55:39.010Z"
   },
   {
    "duration": 0,
    "start_time": "2023-07-18T09:55:39.011Z"
   },
   {
    "duration": 34581,
    "start_time": "2023-07-18T09:58:02.372Z"
   },
   {
    "duration": 81,
    "start_time": "2023-07-18T09:58:39.275Z"
   },
   {
    "duration": 5,
    "start_time": "2023-07-18T09:58:41.735Z"
   },
   {
    "duration": 1516,
    "start_time": "2023-07-18T09:58:43.697Z"
   },
   {
    "duration": 34,
    "start_time": "2023-07-18T09:58:46.683Z"
   },
   {
    "duration": 6,
    "start_time": "2023-07-18T09:58:48.112Z"
   },
   {
    "duration": 82,
    "start_time": "2023-07-18T09:58:50.099Z"
   },
   {
    "duration": 4,
    "start_time": "2023-07-18T09:59:24.970Z"
   },
   {
    "duration": 6,
    "start_time": "2023-07-18T09:59:30.183Z"
   },
   {
    "duration": 11,
    "start_time": "2023-07-18T09:59:43.737Z"
   },
   {
    "duration": 9,
    "start_time": "2023-07-18T10:05:08.856Z"
   },
   {
    "duration": 11,
    "start_time": "2023-07-18T10:05:35.554Z"
   },
   {
    "duration": 56,
    "start_time": "2023-07-18T10:09:37.147Z"
   },
   {
    "duration": 4,
    "start_time": "2023-07-18T10:09:38.892Z"
   },
   {
    "duration": 52,
    "start_time": "2023-07-18T10:09:41.519Z"
   },
   {
    "duration": 4521,
    "start_time": "2023-07-18T10:16:00.692Z"
   },
   {
    "duration": 4220,
    "start_time": "2023-07-18T10:16:45.600Z"
   },
   {
    "duration": 4218,
    "start_time": "2023-07-18T10:17:13.191Z"
   },
   {
    "duration": 3847,
    "start_time": "2023-07-18T10:17:38.362Z"
   },
   {
    "duration": 16,
    "start_time": "2023-07-18T10:21:24.402Z"
   },
   {
    "duration": 3950,
    "start_time": "2023-07-18T10:21:54.868Z"
   },
   {
    "duration": 4551,
    "start_time": "2023-07-18T10:23:42.159Z"
   },
   {
    "duration": 57,
    "start_time": "2023-07-18T10:24:04.648Z"
   },
   {
    "duration": 5,
    "start_time": "2023-07-18T10:24:07.061Z"
   },
   {
    "duration": 15,
    "start_time": "2023-07-18T10:24:18.610Z"
   },
   {
    "duration": 57,
    "start_time": "2023-07-18T10:24:39.052Z"
   },
   {
    "duration": 10,
    "start_time": "2023-07-18T10:25:06.180Z"
   },
   {
    "duration": 6,
    "start_time": "2023-07-18T10:25:09.710Z"
   },
   {
    "duration": 4669,
    "start_time": "2023-07-18T10:26:52.444Z"
   },
   {
    "duration": 67,
    "start_time": "2023-07-18T10:27:44.843Z"
   },
   {
    "duration": 70,
    "start_time": "2023-07-18T10:27:50.344Z"
   },
   {
    "duration": 12,
    "start_time": "2023-07-18T10:28:07.372Z"
   },
   {
    "duration": 6,
    "start_time": "2023-07-18T10:28:08.162Z"
   },
   {
    "duration": 13,
    "start_time": "2023-07-18T10:36:28.868Z"
   },
   {
    "duration": 12,
    "start_time": "2023-07-18T10:36:56.354Z"
   },
   {
    "duration": 48043,
    "start_time": "2023-07-18T10:37:30.048Z"
   },
   {
    "duration": 22980,
    "start_time": "2023-07-18T10:39:13.373Z"
   },
   {
    "duration": 23614,
    "start_time": "2023-07-18T10:41:45.002Z"
   },
   {
    "duration": 34,
    "start_time": "2023-07-18T10:43:11.810Z"
   },
   {
    "duration": 9,
    "start_time": "2023-07-18T10:43:15.083Z"
   },
   {
    "duration": 6,
    "start_time": "2023-07-18T10:43:16.731Z"
   },
   {
    "duration": 22751,
    "start_time": "2023-07-18T10:43:28.576Z"
   },
   {
    "duration": 13,
    "start_time": "2023-07-18T11:10:16.970Z"
   },
   {
    "duration": 75,
    "start_time": "2023-07-18T11:11:36.357Z"
   },
   {
    "duration": 82,
    "start_time": "2023-07-18T11:11:50.473Z"
   },
   {
    "duration": 44292,
    "start_time": "2023-07-18T11:12:23.945Z"
   },
   {
    "duration": 443,
    "start_time": "2023-07-18T11:13:41.468Z"
   },
   {
    "duration": 29,
    "start_time": "2023-07-18T11:13:47.771Z"
   },
   {
    "duration": 5,
    "start_time": "2023-07-18T11:13:50.153Z"
   },
   {
    "duration": 17,
    "start_time": "2023-07-18T11:34:07.207Z"
   },
   {
    "duration": 53929,
    "start_time": "2023-07-18T11:34:38.000Z"
   },
   {
    "duration": 138998,
    "start_time": "2023-07-18T11:35:55.588Z"
   },
   {
    "duration": 0,
    "start_time": "2023-07-18T11:51:01.935Z"
   },
   {
    "duration": 1832,
    "start_time": "2023-07-18T11:51:14.913Z"
   },
   {
    "duration": 1036,
    "start_time": "2023-07-18T11:51:16.747Z"
   },
   {
    "duration": 201,
    "start_time": "2023-07-18T11:51:17.785Z"
   },
   {
    "duration": 152,
    "start_time": "2023-07-18T11:51:17.988Z"
   },
   {
    "duration": 577,
    "start_time": "2023-07-18T11:51:18.143Z"
   },
   {
    "duration": 1286,
    "start_time": "2023-07-18T11:51:18.722Z"
   },
   {
    "duration": 41,
    "start_time": "2023-07-18T11:51:20.011Z"
   },
   {
    "duration": 161,
    "start_time": "2023-07-18T11:51:20.054Z"
   },
   {
    "duration": 96,
    "start_time": "2023-07-18T11:51:20.217Z"
   },
   {
    "duration": 157,
    "start_time": "2023-07-18T11:51:20.315Z"
   },
   {
    "duration": 148,
    "start_time": "2023-07-18T11:51:20.474Z"
   },
   {
    "duration": 77,
    "start_time": "2023-07-18T11:51:20.624Z"
   },
   {
    "duration": 87,
    "start_time": "2023-07-18T11:51:20.703Z"
   },
   {
    "duration": 47,
    "start_time": "2023-07-18T11:51:20.793Z"
   },
   {
    "duration": 94,
    "start_time": "2023-07-18T11:51:20.842Z"
   },
   {
    "duration": 61,
    "start_time": "2023-07-18T11:51:20.937Z"
   },
   {
    "duration": 97,
    "start_time": "2023-07-18T11:51:21.011Z"
   },
   {
    "duration": 326,
    "start_time": "2023-07-18T11:51:21.110Z"
   },
   {
    "duration": 12,
    "start_time": "2023-07-18T11:51:21.438Z"
   },
   {
    "duration": 39,
    "start_time": "2023-07-18T11:51:21.452Z"
   },
   {
    "duration": 54,
    "start_time": "2023-07-18T11:51:21.512Z"
   },
   {
    "duration": 68,
    "start_time": "2023-07-18T11:51:21.568Z"
   },
   {
    "duration": 10,
    "start_time": "2023-07-18T11:51:21.638Z"
   },
   {
    "duration": 22,
    "start_time": "2023-07-18T11:51:21.649Z"
   },
   {
    "duration": 45,
    "start_time": "2023-07-18T11:51:21.673Z"
   },
   {
    "duration": 53,
    "start_time": "2023-07-18T11:51:21.720Z"
   },
   {
    "duration": 111,
    "start_time": "2023-07-18T11:51:21.775Z"
   },
   {
    "duration": 657,
    "start_time": "2023-07-18T11:51:21.888Z"
   },
   {
    "duration": 74,
    "start_time": "2023-07-18T11:51:22.547Z"
   },
   {
    "duration": 100,
    "start_time": "2023-07-18T11:51:22.623Z"
   },
   {
    "duration": 588,
    "start_time": "2023-07-18T11:51:22.725Z"
   },
   {
    "duration": 24,
    "start_time": "2023-07-18T11:51:23.316Z"
   },
   {
    "duration": 98,
    "start_time": "2023-07-18T11:51:23.343Z"
   },
   {
    "duration": 23,
    "start_time": "2023-07-18T11:51:23.442Z"
   },
   {
    "duration": 4258,
    "start_time": "2023-07-18T11:51:23.467Z"
   },
   {
    "duration": 181,
    "start_time": "2023-07-18T11:51:27.729Z"
   },
   {
    "duration": 18,
    "start_time": "2023-07-18T11:51:27.912Z"
   },
   {
    "duration": 93,
    "start_time": "2023-07-18T11:51:28.020Z"
   },
   {
    "duration": 46070,
    "start_time": "2023-07-18T11:51:28.116Z"
   },
   {
    "duration": 480,
    "start_time": "2023-07-18T11:52:14.188Z"
   },
   {
    "duration": 41,
    "start_time": "2023-07-18T11:52:14.672Z"
   },
   {
    "duration": 9,
    "start_time": "2023-07-18T11:52:14.717Z"
   },
   {
    "duration": 44,
    "start_time": "2023-07-18T12:33:52.326Z"
   },
   {
    "duration": 33557,
    "start_time": "2023-07-18T12:46:56.447Z"
   },
   {
    "duration": 1576,
    "start_time": "2023-07-18T12:48:48.453Z"
   },
   {
    "duration": 22,
    "start_time": "2023-07-18T12:48:53.296Z"
   },
   {
    "duration": 7,
    "start_time": "2023-07-18T12:48:55.819Z"
   },
   {
    "duration": 1050394,
    "start_time": "2023-07-18T12:49:06.698Z"
   },
   {
    "duration": 60978,
    "start_time": "2023-07-18T13:18:06.629Z"
   },
   {
    "duration": 330,
    "start_time": "2023-07-18T13:22:28.512Z"
   },
   {
    "duration": 5,
    "start_time": "2023-07-18T13:22:32.132Z"
   },
   {
    "duration": 0,
    "start_time": "2023-07-18T16:53:07.057Z"
   },
   {
    "duration": 0,
    "start_time": "2023-07-18T16:53:07.058Z"
   },
   {
    "duration": 1,
    "start_time": "2023-07-18T16:53:07.061Z"
   },
   {
    "duration": 0,
    "start_time": "2023-07-18T16:53:07.063Z"
   },
   {
    "duration": 0,
    "start_time": "2023-07-18T16:53:07.065Z"
   },
   {
    "duration": 0,
    "start_time": "2023-07-18T16:53:07.066Z"
   },
   {
    "duration": 0,
    "start_time": "2023-07-18T16:53:07.068Z"
   },
   {
    "duration": 0,
    "start_time": "2023-07-18T16:53:07.069Z"
   },
   {
    "duration": 0,
    "start_time": "2023-07-18T16:53:07.071Z"
   },
   {
    "duration": 0,
    "start_time": "2023-07-18T16:53:07.073Z"
   },
   {
    "duration": 0,
    "start_time": "2023-07-18T16:53:07.074Z"
   },
   {
    "duration": 0,
    "start_time": "2023-07-18T16:53:07.110Z"
   },
   {
    "duration": 0,
    "start_time": "2023-07-18T16:53:07.112Z"
   },
   {
    "duration": 0,
    "start_time": "2023-07-18T16:53:07.128Z"
   },
   {
    "duration": 0,
    "start_time": "2023-07-18T16:53:07.130Z"
   },
   {
    "duration": 0,
    "start_time": "2023-07-18T16:53:07.132Z"
   },
   {
    "duration": 0,
    "start_time": "2023-07-18T16:53:07.133Z"
   },
   {
    "duration": 0,
    "start_time": "2023-07-18T16:53:07.135Z"
   },
   {
    "duration": 0,
    "start_time": "2023-07-18T16:53:07.136Z"
   },
   {
    "duration": 0,
    "start_time": "2023-07-18T16:53:07.138Z"
   },
   {
    "duration": 0,
    "start_time": "2023-07-18T16:53:07.140Z"
   },
   {
    "duration": 0,
    "start_time": "2023-07-18T16:53:07.141Z"
   },
   {
    "duration": 0,
    "start_time": "2023-07-18T16:53:07.143Z"
   },
   {
    "duration": 0,
    "start_time": "2023-07-18T16:53:07.144Z"
   },
   {
    "duration": 0,
    "start_time": "2023-07-18T16:53:07.146Z"
   },
   {
    "duration": 0,
    "start_time": "2023-07-18T16:53:07.148Z"
   },
   {
    "duration": 0,
    "start_time": "2023-07-18T16:53:07.149Z"
   },
   {
    "duration": 0,
    "start_time": "2023-07-18T16:53:07.151Z"
   },
   {
    "duration": 0,
    "start_time": "2023-07-18T16:53:07.152Z"
   },
   {
    "duration": 0,
    "start_time": "2023-07-18T16:53:07.154Z"
   },
   {
    "duration": 0,
    "start_time": "2023-07-18T16:53:07.155Z"
   },
   {
    "duration": 0,
    "start_time": "2023-07-18T16:53:07.210Z"
   },
   {
    "duration": 0,
    "start_time": "2023-07-18T16:53:07.212Z"
   },
   {
    "duration": 0,
    "start_time": "2023-07-18T16:53:07.214Z"
   },
   {
    "duration": 0,
    "start_time": "2023-07-18T16:53:07.215Z"
   },
   {
    "duration": 0,
    "start_time": "2023-07-18T16:53:07.216Z"
   },
   {
    "duration": 0,
    "start_time": "2023-07-18T16:53:07.218Z"
   },
   {
    "duration": 0,
    "start_time": "2023-07-18T16:53:07.218Z"
   },
   {
    "duration": 0,
    "start_time": "2023-07-18T16:53:07.221Z"
   },
   {
    "duration": 0,
    "start_time": "2023-07-18T16:53:07.223Z"
   },
   {
    "duration": 0,
    "start_time": "2023-07-18T16:53:07.224Z"
   },
   {
    "duration": 0,
    "start_time": "2023-07-18T16:53:07.225Z"
   },
   {
    "duration": 0,
    "start_time": "2023-07-18T16:53:07.230Z"
   },
   {
    "duration": 0,
    "start_time": "2023-07-18T16:53:07.231Z"
   },
   {
    "duration": 0,
    "start_time": "2023-07-18T16:53:07.232Z"
   },
   {
    "duration": 0,
    "start_time": "2023-07-18T16:53:07.234Z"
   },
   {
    "duration": 0,
    "start_time": "2023-07-18T16:53:07.236Z"
   },
   {
    "duration": 0,
    "start_time": "2023-07-18T16:53:07.238Z"
   },
   {
    "duration": 0,
    "start_time": "2023-07-18T16:53:07.239Z"
   },
   {
    "duration": 0,
    "start_time": "2023-07-18T16:53:07.240Z"
   },
   {
    "duration": 0,
    "start_time": "2023-07-18T16:53:07.242Z"
   },
   {
    "duration": 11,
    "start_time": "2023-07-18T16:53:17.140Z"
   },
   {
    "duration": 892,
    "start_time": "2023-07-18T16:53:17.153Z"
   },
   {
    "duration": 109,
    "start_time": "2023-07-18T16:53:18.047Z"
   },
   {
    "duration": 127,
    "start_time": "2023-07-18T16:53:18.158Z"
   },
   {
    "duration": 496,
    "start_time": "2023-07-18T16:53:18.288Z"
   },
   {
    "duration": 1046,
    "start_time": "2023-07-18T16:53:18.786Z"
   },
   {
    "duration": 32,
    "start_time": "2023-07-18T16:53:19.834Z"
   },
   {
    "duration": 134,
    "start_time": "2023-07-18T16:53:19.868Z"
   },
   {
    "duration": 32,
    "start_time": "2023-07-18T16:53:20.008Z"
   },
   {
    "duration": 106,
    "start_time": "2023-07-18T16:53:20.042Z"
   },
   {
    "duration": 76,
    "start_time": "2023-07-18T16:53:20.150Z"
   },
   {
    "duration": 42,
    "start_time": "2023-07-18T16:53:20.228Z"
   },
   {
    "duration": 83,
    "start_time": "2023-07-18T16:53:20.272Z"
   },
   {
    "duration": 51,
    "start_time": "2023-07-18T16:53:20.358Z"
   },
   {
    "duration": 78,
    "start_time": "2023-07-18T16:53:20.412Z"
   },
   {
    "duration": 86,
    "start_time": "2023-07-18T16:53:20.491Z"
   },
   {
    "duration": 93,
    "start_time": "2023-07-18T16:53:20.579Z"
   },
   {
    "duration": 319,
    "start_time": "2023-07-18T16:53:20.674Z"
   },
   {
    "duration": 21,
    "start_time": "2023-07-18T16:53:20.995Z"
   },
   {
    "duration": 35,
    "start_time": "2023-07-18T16:53:21.020Z"
   },
   {
    "duration": 81,
    "start_time": "2023-07-18T16:53:21.057Z"
   },
   {
    "duration": 45,
    "start_time": "2023-07-18T16:53:21.140Z"
   },
   {
    "duration": 32,
    "start_time": "2023-07-18T16:53:21.186Z"
   },
   {
    "duration": 11,
    "start_time": "2023-07-18T16:53:21.220Z"
   },
   {
    "duration": 42,
    "start_time": "2023-07-18T16:53:21.233Z"
   },
   {
    "duration": 91,
    "start_time": "2023-07-18T16:53:21.277Z"
   },
   {
    "duration": 94,
    "start_time": "2023-07-18T16:53:21.370Z"
   },
   {
    "duration": 594,
    "start_time": "2023-07-18T16:53:21.466Z"
   },
   {
    "duration": 69,
    "start_time": "2023-07-18T16:53:22.061Z"
   },
   {
    "duration": 103,
    "start_time": "2023-07-18T16:53:22.132Z"
   },
   {
    "duration": 566,
    "start_time": "2023-07-18T16:53:22.237Z"
   },
   {
    "duration": 27,
    "start_time": "2023-07-18T16:53:22.807Z"
   },
   {
    "duration": 101,
    "start_time": "2023-07-18T16:53:22.836Z"
   },
   {
    "duration": 24,
    "start_time": "2023-07-18T16:53:29.192Z"
   },
   {
    "duration": 1593424,
    "start_time": "2023-07-18T16:56:00.290Z"
   },
   {
    "duration": 4851,
    "start_time": "2023-07-18T17:35:49.467Z"
   },
   {
    "duration": 255,
    "start_time": "2023-07-18T17:36:00.554Z"
   },
   {
    "duration": 5,
    "start_time": "2023-07-18T17:36:03.761Z"
   },
   {
    "duration": 5,
    "start_time": "2023-07-18T17:46:11.855Z"
   },
   {
    "duration": 25,
    "start_time": "2023-07-18T17:46:54.054Z"
   },
   {
    "duration": 28,
    "start_time": "2023-07-18T17:54:11.033Z"
   },
   {
    "duration": 62,
    "start_time": "2023-07-18T17:57:22.815Z"
   },
   {
    "duration": 66,
    "start_time": "2023-07-18T17:59:04.754Z"
   },
   {
    "duration": 1610,
    "start_time": "2023-07-18T18:12:22.507Z"
   },
   {
    "duration": 981,
    "start_time": "2023-07-18T18:12:24.123Z"
   },
   {
    "duration": 121,
    "start_time": "2023-07-18T18:12:25.106Z"
   },
   {
    "duration": 140,
    "start_time": "2023-07-18T18:12:25.229Z"
   },
   {
    "duration": 560,
    "start_time": "2023-07-18T18:12:25.372Z"
   },
   {
    "duration": 1220,
    "start_time": "2023-07-18T18:12:25.934Z"
   },
   {
    "duration": 32,
    "start_time": "2023-07-18T18:12:27.156Z"
   },
   {
    "duration": 116,
    "start_time": "2023-07-18T18:12:27.190Z"
   },
   {
    "duration": 43,
    "start_time": "2023-07-18T18:12:27.309Z"
   },
   {
    "duration": 164,
    "start_time": "2023-07-18T18:12:27.354Z"
   },
   {
    "duration": 38,
    "start_time": "2023-07-18T18:12:27.520Z"
   },
   {
    "duration": 88,
    "start_time": "2023-07-18T18:12:27.560Z"
   },
   {
    "duration": 34,
    "start_time": "2023-07-18T18:12:27.650Z"
   },
   {
    "duration": 108,
    "start_time": "2023-07-18T18:12:27.687Z"
   },
   {
    "duration": 67,
    "start_time": "2023-07-18T18:12:27.797Z"
   },
   {
    "duration": 107,
    "start_time": "2023-07-18T18:12:27.866Z"
   },
   {
    "duration": 300,
    "start_time": "2023-07-18T18:12:27.975Z"
   },
   {
    "duration": 10,
    "start_time": "2023-07-18T18:12:28.277Z"
   },
   {
    "duration": 57,
    "start_time": "2023-07-18T18:12:28.288Z"
   },
   {
    "duration": 68,
    "start_time": "2023-07-18T18:12:28.347Z"
   },
   {
    "duration": 47,
    "start_time": "2023-07-18T18:12:28.417Z"
   },
   {
    "duration": 10,
    "start_time": "2023-07-18T18:12:28.466Z"
   },
   {
    "duration": 34,
    "start_time": "2023-07-18T18:12:28.478Z"
   },
   {
    "duration": 45,
    "start_time": "2023-07-18T18:12:28.514Z"
   },
   {
    "duration": 62,
    "start_time": "2023-07-18T18:12:28.561Z"
   },
   {
    "duration": 95,
    "start_time": "2023-07-18T18:12:28.626Z"
   },
   {
    "duration": 612,
    "start_time": "2023-07-18T18:12:28.727Z"
   },
   {
    "duration": 79,
    "start_time": "2023-07-18T18:12:29.340Z"
   },
   {
    "duration": 101,
    "start_time": "2023-07-18T18:12:29.422Z"
   },
   {
    "duration": 569,
    "start_time": "2023-07-18T18:12:29.526Z"
   },
   {
    "duration": 28,
    "start_time": "2023-07-18T18:12:30.097Z"
   },
   {
    "duration": 103,
    "start_time": "2023-07-18T18:12:30.127Z"
   },
   {
    "duration": 22,
    "start_time": "2023-07-18T18:12:30.232Z"
   },
   {
    "duration": 4262,
    "start_time": "2023-07-18T18:12:30.256Z"
   },
   {
    "duration": 140,
    "start_time": "2023-07-18T18:12:34.520Z"
   },
   {
    "duration": 150,
    "start_time": "2023-07-18T18:12:34.662Z"
   },
   {
    "duration": 123,
    "start_time": "2023-07-18T18:12:34.814Z"
   },
   {
    "duration": 137,
    "start_time": "2023-07-18T18:12:34.939Z"
   },
   {
    "duration": 0,
    "start_time": "2023-07-18T18:12:35.078Z"
   },
   {
    "duration": 0,
    "start_time": "2023-07-18T18:12:35.079Z"
   },
   {
    "duration": 0,
    "start_time": "2023-07-18T18:12:35.080Z"
   },
   {
    "duration": 0,
    "start_time": "2023-07-18T18:12:35.082Z"
   },
   {
    "duration": 0,
    "start_time": "2023-07-18T18:12:35.083Z"
   },
   {
    "duration": 0,
    "start_time": "2023-07-18T18:12:35.084Z"
   },
   {
    "duration": 0,
    "start_time": "2023-07-18T18:12:35.086Z"
   },
   {
    "duration": 0,
    "start_time": "2023-07-18T18:12:35.087Z"
   },
   {
    "duration": 0,
    "start_time": "2023-07-18T18:12:35.088Z"
   },
   {
    "duration": 0,
    "start_time": "2023-07-18T18:12:35.108Z"
   },
   {
    "duration": 0,
    "start_time": "2023-07-18T18:12:35.109Z"
   },
   {
    "duration": 0,
    "start_time": "2023-07-18T18:12:35.113Z"
   },
   {
    "duration": 6,
    "start_time": "2023-07-18T18:14:31.354Z"
   },
   {
    "duration": 43436,
    "start_time": "2023-07-18T18:14:38.119Z"
   },
   {
    "duration": 456,
    "start_time": "2023-07-18T18:16:08.771Z"
   },
   {
    "duration": 33,
    "start_time": "2023-07-18T18:16:10.202Z"
   },
   {
    "duration": 7,
    "start_time": "2023-07-18T18:16:11.921Z"
   },
   {
    "duration": 1050449,
    "start_time": "2023-07-18T18:16:20.464Z"
   },
   {
    "duration": 61923,
    "start_time": "2023-07-18T18:34:14.821Z"
   },
   {
    "duration": 323,
    "start_time": "2023-07-18T18:35:56.403Z"
   },
   {
    "duration": 130,
    "start_time": "2023-07-18T18:36:30.164Z"
   },
   {
    "duration": 320,
    "start_time": "2023-07-18T18:36:37.322Z"
   },
   {
    "duration": 5,
    "start_time": "2023-07-18T18:36:41.281Z"
   },
   {
    "duration": 12,
    "start_time": "2023-07-18T18:36:44.773Z"
   },
   {
    "duration": 2153916,
    "start_time": "2023-07-18T18:38:26.003Z"
   },
   {
    "duration": 14094,
    "start_time": "2023-07-18T19:14:19.921Z"
   },
   {
    "duration": 302,
    "start_time": "2023-07-18T19:14:40.916Z"
   },
   {
    "duration": 5,
    "start_time": "2023-07-18T19:14:44.294Z"
   },
   {
    "duration": 11,
    "start_time": "2023-07-18T19:14:48.632Z"
   },
   {
    "duration": 74,
    "start_time": "2023-07-18T19:15:36.860Z"
   },
   {
    "duration": 2930,
    "start_time": "2023-07-19T05:28:10.592Z"
   },
   {
    "duration": 2796,
    "start_time": "2023-07-19T05:28:13.523Z"
   },
   {
    "duration": 126,
    "start_time": "2023-07-19T05:28:16.320Z"
   },
   {
    "duration": 127,
    "start_time": "2023-07-19T05:28:16.448Z"
   },
   {
    "duration": 444,
    "start_time": "2023-07-19T05:28:16.577Z"
   },
   {
    "duration": 1001,
    "start_time": "2023-07-19T05:28:17.023Z"
   },
   {
    "duration": 32,
    "start_time": "2023-07-19T05:28:18.026Z"
   },
   {
    "duration": 91,
    "start_time": "2023-07-19T05:28:18.068Z"
   },
   {
    "duration": 29,
    "start_time": "2023-07-19T05:28:18.168Z"
   },
   {
    "duration": 86,
    "start_time": "2023-07-19T05:28:18.199Z"
   },
   {
    "duration": 35,
    "start_time": "2023-07-19T05:28:18.286Z"
   },
   {
    "duration": 94,
    "start_time": "2023-07-19T05:28:18.323Z"
   },
   {
    "duration": 31,
    "start_time": "2023-07-19T05:28:18.419Z"
   },
   {
    "duration": 88,
    "start_time": "2023-07-19T05:28:18.452Z"
   },
   {
    "duration": 68,
    "start_time": "2023-07-19T05:28:18.541Z"
   },
   {
    "duration": 71,
    "start_time": "2023-07-19T05:28:18.611Z"
   },
   {
    "duration": 249,
    "start_time": "2023-07-19T05:28:18.683Z"
   },
   {
    "duration": 9,
    "start_time": "2023-07-19T05:28:18.934Z"
   },
   {
    "duration": 38,
    "start_time": "2023-07-19T05:28:18.944Z"
   },
   {
    "duration": 41,
    "start_time": "2023-07-19T05:28:18.984Z"
   },
   {
    "duration": 59,
    "start_time": "2023-07-19T05:28:19.027Z"
   },
   {
    "duration": 8,
    "start_time": "2023-07-19T05:28:19.087Z"
   },
   {
    "duration": 6,
    "start_time": "2023-07-19T05:28:19.096Z"
   },
   {
    "duration": 116,
    "start_time": "2023-07-19T05:28:19.103Z"
   },
   {
    "duration": 60,
    "start_time": "2023-07-19T05:28:19.221Z"
   },
   {
    "duration": 63,
    "start_time": "2023-07-19T05:28:19.282Z"
   },
   {
    "duration": 541,
    "start_time": "2023-07-19T05:28:19.346Z"
   },
   {
    "duration": 63,
    "start_time": "2023-07-19T05:28:19.890Z"
   },
   {
    "duration": 68,
    "start_time": "2023-07-19T05:28:19.955Z"
   },
   {
    "duration": 525,
    "start_time": "2023-07-19T05:28:20.025Z"
   },
   {
    "duration": 20,
    "start_time": "2023-07-19T05:28:20.552Z"
   },
   {
    "duration": 62,
    "start_time": "2023-07-19T05:28:20.574Z"
   },
   {
    "duration": 32,
    "start_time": "2023-07-19T05:28:20.637Z"
   },
   {
    "duration": 3901,
    "start_time": "2023-07-19T05:28:20.670Z"
   },
   {
    "duration": 143,
    "start_time": "2023-07-19T05:28:24.574Z"
   },
   {
    "duration": 56,
    "start_time": "2023-07-19T05:28:24.718Z"
   },
   {
    "duration": 95,
    "start_time": "2023-07-19T05:28:24.776Z"
   },
   {
    "duration": 36232,
    "start_time": "2023-07-19T05:28:24.874Z"
   },
   {
    "duration": 385,
    "start_time": "2023-07-19T05:29:01.108Z"
   },
   {
    "duration": 23,
    "start_time": "2023-07-19T05:29:01.494Z"
   },
   {
    "duration": 383,
    "start_time": "2023-07-19T05:29:01.519Z"
   },
   {
    "duration": 893590,
    "start_time": "2023-07-19T05:29:01.903Z"
   },
   {
    "duration": 52856,
    "start_time": "2023-07-19T05:43:55.495Z"
   },
   {
    "duration": 298,
    "start_time": "2023-07-19T05:44:48.353Z"
   },
   {
    "duration": 5,
    "start_time": "2023-07-19T05:44:48.653Z"
   },
   {
    "duration": 832164,
    "start_time": "2023-07-19T05:44:48.668Z"
   },
   {
    "duration": 0,
    "start_time": "2023-07-19T05:58:40.835Z"
   },
   {
    "duration": 0,
    "start_time": "2023-07-19T05:58:40.836Z"
   },
   {
    "duration": 0,
    "start_time": "2023-07-19T05:58:40.838Z"
   },
   {
    "duration": 0,
    "start_time": "2023-07-19T05:58:40.839Z"
   },
   {
    "duration": 59,
    "start_time": "2023-07-19T09:11:37.831Z"
   },
   {
    "duration": 2071,
    "start_time": "2023-07-19T09:11:44.219Z"
   },
   {
    "duration": 3246,
    "start_time": "2023-07-19T09:11:49.042Z"
   },
   {
    "duration": 160,
    "start_time": "2023-07-19T09:11:54.841Z"
   },
   {
    "duration": 130,
    "start_time": "2023-07-19T09:11:57.994Z"
   },
   {
    "duration": 567,
    "start_time": "2023-07-19T09:12:01.416Z"
   },
   {
    "duration": 1253,
    "start_time": "2023-07-19T09:12:03.261Z"
   },
   {
    "duration": 24,
    "start_time": "2023-07-19T09:12:11.624Z"
   },
   {
    "duration": 140,
    "start_time": "2023-07-19T09:32:42.456Z"
   },
   {
    "duration": 12,
    "start_time": "2023-07-19T09:45:25.217Z"
   },
   {
    "duration": 24,
    "start_time": "2023-07-19T09:45:27.625Z"
   },
   {
    "duration": 240,
    "start_time": "2023-07-19T09:48:09.835Z"
   },
   {
    "duration": 110,
    "start_time": "2023-07-19T09:52:38.629Z"
   },
   {
    "duration": 99,
    "start_time": "2023-07-19T09:52:51.459Z"
   },
   {
    "duration": 31,
    "start_time": "2023-07-19T09:52:54.769Z"
   },
   {
    "duration": 71,
    "start_time": "2023-07-19T09:52:57.215Z"
   },
   {
    "duration": 44,
    "start_time": "2023-07-19T09:53:03.987Z"
   },
   {
    "duration": 82,
    "start_time": "2023-07-19T09:53:07.719Z"
   },
   {
    "duration": 139,
    "start_time": "2023-07-19T10:02:36.372Z"
   },
   {
    "duration": 5,
    "start_time": "2023-07-19T10:07:50.689Z"
   },
   {
    "duration": 922,
    "start_time": "2023-07-19T10:07:50.696Z"
   },
   {
    "duration": 105,
    "start_time": "2023-07-19T10:07:51.619Z"
   },
   {
    "duration": 120,
    "start_time": "2023-07-19T10:07:51.726Z"
   },
   {
    "duration": 460,
    "start_time": "2023-07-19T10:07:51.849Z"
   },
   {
    "duration": 1010,
    "start_time": "2023-07-19T10:07:52.312Z"
   },
   {
    "duration": 31,
    "start_time": "2023-07-19T10:07:53.324Z"
   },
   {
    "duration": 11,
    "start_time": "2023-07-19T10:07:53.367Z"
   },
   {
    "duration": 36,
    "start_time": "2023-07-19T10:07:53.380Z"
   },
   {
    "duration": 111,
    "start_time": "2023-07-19T10:07:53.418Z"
   },
   {
    "duration": 39,
    "start_time": "2023-07-19T10:07:53.531Z"
   },
   {
    "duration": 77,
    "start_time": "2023-07-19T10:07:53.572Z"
   },
   {
    "duration": 3,
    "start_time": "2023-07-19T10:09:03.766Z"
   },
   {
    "duration": 2061,
    "start_time": "2023-07-19T10:12:12.633Z"
   },
   {
    "duration": 2096,
    "start_time": "2023-07-19T10:12:29.709Z"
   },
   {
    "duration": 26,
    "start_time": "2023-07-19T10:15:43.835Z"
   },
   {
    "duration": 26335,
    "start_time": "2023-07-19T10:15:49.987Z"
   },
   {
    "duration": 19,
    "start_time": "2023-07-19T10:16:32.309Z"
   },
   {
    "duration": 52,
    "start_time": "2023-07-19T10:17:37.127Z"
   },
   {
    "duration": 65,
    "start_time": "2023-07-19T10:17:59.369Z"
   },
   {
    "duration": 113,
    "start_time": "2023-07-19T10:18:27.024Z"
   },
   {
    "duration": 35,
    "start_time": "2023-07-19T10:22:40.953Z"
   },
   {
    "duration": 82,
    "start_time": "2023-07-19T10:22:42.582Z"
   },
   {
    "duration": 58,
    "start_time": "2023-07-19T10:23:00.335Z"
   },
   {
    "duration": 67,
    "start_time": "2023-07-19T10:23:03.114Z"
   },
   {
    "duration": 69,
    "start_time": "2023-07-19T10:23:20.830Z"
   },
   {
    "duration": 303,
    "start_time": "2023-07-19T10:23:22.926Z"
   },
   {
    "duration": 10,
    "start_time": "2023-07-19T10:23:33.139Z"
   },
   {
    "duration": 29,
    "start_time": "2023-07-19T10:23:35.194Z"
   },
   {
    "duration": 49,
    "start_time": "2023-07-19T10:24:17.562Z"
   },
   {
    "duration": 53,
    "start_time": "2023-07-19T10:24:23.850Z"
   },
   {
    "duration": 11,
    "start_time": "2023-07-19T10:24:30.738Z"
   },
   {
    "duration": 6,
    "start_time": "2023-07-19T10:25:41.479Z"
   },
   {
    "duration": 5,
    "start_time": "2023-07-19T10:26:36.762Z"
   },
   {
    "duration": 36,
    "start_time": "2023-07-19T10:27:01.943Z"
   },
   {
    "duration": 57,
    "start_time": "2023-07-19T10:27:04.189Z"
   },
   {
    "duration": 69,
    "start_time": "2023-07-19T10:27:14.617Z"
   },
   {
    "duration": 520,
    "start_time": "2023-07-19T10:27:17.039Z"
   },
   {
    "duration": 5,
    "start_time": "2023-07-19T10:31:36.981Z"
   },
   {
    "duration": 826,
    "start_time": "2023-07-19T10:31:36.988Z"
   },
   {
    "duration": 110,
    "start_time": "2023-07-19T10:31:37.816Z"
   },
   {
    "duration": 117,
    "start_time": "2023-07-19T10:31:37.928Z"
   },
   {
    "duration": 447,
    "start_time": "2023-07-19T10:31:38.047Z"
   },
   {
    "duration": 1083,
    "start_time": "2023-07-19T10:31:38.496Z"
   },
   {
    "duration": 31,
    "start_time": "2023-07-19T10:31:39.581Z"
   },
   {
    "duration": 24,
    "start_time": "2023-07-19T10:31:39.614Z"
   },
   {
    "duration": 36,
    "start_time": "2023-07-19T10:31:39.640Z"
   },
   {
    "duration": 103,
    "start_time": "2023-07-19T10:31:39.678Z"
   },
   {
    "duration": 26,
    "start_time": "2023-07-19T10:31:39.784Z"
   },
   {
    "duration": 87,
    "start_time": "2023-07-19T10:31:39.812Z"
   },
   {
    "duration": 83,
    "start_time": "2023-07-19T10:31:39.901Z"
   },
   {
    "duration": 121,
    "start_time": "2023-07-19T10:31:39.986Z"
   },
   {
    "duration": 36,
    "start_time": "2023-07-19T10:31:40.109Z"
   },
   {
    "duration": 81,
    "start_time": "2023-07-19T10:31:40.146Z"
   },
   {
    "duration": 80,
    "start_time": "2023-07-19T10:31:40.229Z"
   },
   {
    "duration": 70,
    "start_time": "2023-07-19T10:31:40.311Z"
   },
   {
    "duration": 316,
    "start_time": "2023-07-19T10:31:40.382Z"
   },
   {
    "duration": 11,
    "start_time": "2023-07-19T10:31:40.700Z"
   },
   {
    "duration": 31,
    "start_time": "2023-07-19T10:31:40.712Z"
   },
   {
    "duration": 63,
    "start_time": "2023-07-19T10:31:40.745Z"
   },
   {
    "duration": 9,
    "start_time": "2023-07-19T10:31:50.434Z"
   },
   {
    "duration": 5,
    "start_time": "2023-07-19T10:31:55.136Z"
   },
   {
    "duration": 33,
    "start_time": "2023-07-19T10:31:57.134Z"
   },
   {
    "duration": 69,
    "start_time": "2023-07-19T10:31:58.690Z"
   },
   {
    "duration": 5,
    "start_time": "2023-07-19T10:33:49.244Z"
   },
   {
    "duration": 817,
    "start_time": "2023-07-19T10:33:49.251Z"
   },
   {
    "duration": 108,
    "start_time": "2023-07-19T10:33:50.069Z"
   },
   {
    "duration": 121,
    "start_time": "2023-07-19T10:33:50.179Z"
   },
   {
    "duration": 454,
    "start_time": "2023-07-19T10:33:50.302Z"
   },
   {
    "duration": 978,
    "start_time": "2023-07-19T10:33:50.758Z"
   },
   {
    "duration": 38,
    "start_time": "2023-07-19T10:33:51.739Z"
   },
   {
    "duration": 48,
    "start_time": "2023-07-19T10:33:51.779Z"
   },
   {
    "duration": 38,
    "start_time": "2023-07-19T10:33:51.829Z"
   },
   {
    "duration": 102,
    "start_time": "2023-07-19T10:33:51.869Z"
   },
   {
    "duration": 28,
    "start_time": "2023-07-19T10:33:51.973Z"
   },
   {
    "duration": 85,
    "start_time": "2023-07-19T10:33:52.003Z"
   },
   {
    "duration": 98,
    "start_time": "2023-07-19T10:33:52.090Z"
   },
   {
    "duration": 75,
    "start_time": "2023-07-19T10:33:55.617Z"
   },
   {
    "duration": 37,
    "start_time": "2023-07-19T10:34:05.619Z"
   },
   {
    "duration": 71,
    "start_time": "2023-07-19T10:34:07.403Z"
   },
   {
    "duration": 76,
    "start_time": "2023-07-19T10:34:10.384Z"
   },
   {
    "duration": 71,
    "start_time": "2023-07-19T10:34:13.833Z"
   },
   {
    "duration": 298,
    "start_time": "2023-07-19T10:34:15.719Z"
   },
   {
    "duration": 13,
    "start_time": "2023-07-19T10:34:18.840Z"
   },
   {
    "duration": 31,
    "start_time": "2023-07-19T10:34:20.775Z"
   },
   {
    "duration": 58,
    "start_time": "2023-07-19T10:34:22.842Z"
   },
   {
    "duration": 3,
    "start_time": "2023-07-19T10:34:26.863Z"
   },
   {
    "duration": 11,
    "start_time": "2023-07-19T10:34:29.045Z"
   },
   {
    "duration": 6,
    "start_time": "2023-07-19T10:34:32.193Z"
   },
   {
    "duration": 35,
    "start_time": "2023-07-19T10:34:34.308Z"
   },
   {
    "duration": 71,
    "start_time": "2023-07-19T10:34:35.701Z"
   },
   {
    "duration": 70,
    "start_time": "2023-07-19T10:36:05.560Z"
   },
   {
    "duration": 409,
    "start_time": "2023-07-19T10:36:07.716Z"
   },
   {
    "duration": 85,
    "start_time": "2023-07-19T10:38:47.561Z"
   },
   {
    "duration": 14,
    "start_time": "2023-07-19T11:54:34.912Z"
   },
   {
    "duration": 5,
    "start_time": "2023-07-19T11:54:42.514Z"
   },
   {
    "duration": 864,
    "start_time": "2023-07-19T11:54:42.521Z"
   },
   {
    "duration": 117,
    "start_time": "2023-07-19T11:54:43.387Z"
   },
   {
    "duration": 124,
    "start_time": "2023-07-19T11:54:43.506Z"
   },
   {
    "duration": 535,
    "start_time": "2023-07-19T11:54:43.632Z"
   },
   {
    "duration": 1124,
    "start_time": "2023-07-19T11:54:44.169Z"
   },
   {
    "duration": 35,
    "start_time": "2023-07-19T11:54:45.295Z"
   },
   {
    "duration": 30,
    "start_time": "2023-07-19T11:54:45.332Z"
   },
   {
    "duration": 71,
    "start_time": "2023-07-19T11:54:45.364Z"
   },
   {
    "duration": 145,
    "start_time": "2023-07-19T11:54:45.437Z"
   },
   {
    "duration": 31,
    "start_time": "2023-07-19T11:54:45.584Z"
   },
   {
    "duration": 94,
    "start_time": "2023-07-19T11:54:45.617Z"
   },
   {
    "duration": 113,
    "start_time": "2023-07-19T11:54:45.713Z"
   },
   {
    "duration": 81,
    "start_time": "2023-07-19T11:54:45.830Z"
   },
   {
    "duration": 54,
    "start_time": "2023-07-19T11:54:45.913Z"
   },
   {
    "duration": 73,
    "start_time": "2023-07-19T11:54:45.969Z"
   },
   {
    "duration": 95,
    "start_time": "2023-07-19T11:54:46.043Z"
   },
   {
    "duration": 132,
    "start_time": "2023-07-19T11:54:46.140Z"
   },
   {
    "duration": 302,
    "start_time": "2023-07-19T11:54:46.274Z"
   },
   {
    "duration": 11,
    "start_time": "2023-07-19T11:54:46.578Z"
   },
   {
    "duration": 34,
    "start_time": "2023-07-19T11:54:46.591Z"
   },
   {
    "duration": 73,
    "start_time": "2023-07-19T11:54:46.627Z"
   },
   {
    "duration": 3,
    "start_time": "2023-07-19T11:54:46.702Z"
   },
   {
    "duration": 44,
    "start_time": "2023-07-19T11:54:46.706Z"
   },
   {
    "duration": 27,
    "start_time": "2023-07-19T11:54:46.751Z"
   },
   {
    "duration": 51,
    "start_time": "2023-07-19T11:54:46.780Z"
   },
   {
    "duration": 72,
    "start_time": "2023-07-19T11:54:46.833Z"
   },
   {
    "duration": 82,
    "start_time": "2023-07-19T11:54:46.908Z"
   },
   {
    "duration": 427,
    "start_time": "2023-07-19T11:54:46.992Z"
   },
   {
    "duration": 95,
    "start_time": "2023-07-19T11:54:47.420Z"
   },
   {
    "duration": 139,
    "start_time": "2023-07-19T11:54:47.517Z"
   },
   {
    "duration": 0,
    "start_time": "2023-07-19T11:54:47.658Z"
   },
   {
    "duration": 89,
    "start_time": "2023-07-19T11:55:05.372Z"
   },
   {
    "duration": 88,
    "start_time": "2023-07-19T11:55:26.647Z"
   },
   {
    "duration": 544,
    "start_time": "2023-07-19T11:57:14.630Z"
   },
   {
    "duration": 121,
    "start_time": "2023-07-19T11:58:39.129Z"
   },
   {
    "duration": 65,
    "start_time": "2023-07-19T11:59:00.662Z"
   },
   {
    "duration": 354,
    "start_time": "2023-07-19T11:59:41.414Z"
   },
   {
    "duration": 356,
    "start_time": "2023-07-19T11:59:51.705Z"
   },
   {
    "duration": 6,
    "start_time": "2023-07-19T12:01:58.752Z"
   },
   {
    "duration": 907,
    "start_time": "2023-07-19T12:01:58.761Z"
   },
   {
    "duration": 121,
    "start_time": "2023-07-19T12:01:59.670Z"
   },
   {
    "duration": 157,
    "start_time": "2023-07-19T12:01:59.792Z"
   },
   {
    "duration": 506,
    "start_time": "2023-07-19T12:01:59.952Z"
   },
   {
    "duration": 1061,
    "start_time": "2023-07-19T12:02:00.460Z"
   },
   {
    "duration": 33,
    "start_time": "2023-07-19T12:02:01.523Z"
   },
   {
    "duration": 115,
    "start_time": "2023-07-19T12:02:01.568Z"
   },
   {
    "duration": 139,
    "start_time": "2023-07-19T12:02:01.685Z"
   },
   {
    "duration": 192,
    "start_time": "2023-07-19T12:02:01.826Z"
   },
   {
    "duration": 97,
    "start_time": "2023-07-19T12:02:02.021Z"
   },
   {
    "duration": 142,
    "start_time": "2023-07-19T12:02:02.120Z"
   },
   {
    "duration": 119,
    "start_time": "2023-07-19T12:02:02.265Z"
   },
   {
    "duration": 98,
    "start_time": "2023-07-19T12:02:02.388Z"
   },
   {
    "duration": 69,
    "start_time": "2023-07-19T12:02:02.489Z"
   },
   {
    "duration": 75,
    "start_time": "2023-07-19T12:02:02.560Z"
   },
   {
    "duration": 105,
    "start_time": "2023-07-19T12:02:02.637Z"
   },
   {
    "duration": 69,
    "start_time": "2023-07-19T12:02:02.744Z"
   },
   {
    "duration": 311,
    "start_time": "2023-07-19T12:02:02.815Z"
   },
   {
    "duration": 12,
    "start_time": "2023-07-19T12:02:03.127Z"
   },
   {
    "duration": 92,
    "start_time": "2023-07-19T12:02:03.140Z"
   },
   {
    "duration": 79,
    "start_time": "2023-07-19T12:02:03.234Z"
   },
   {
    "duration": 35,
    "start_time": "2023-07-19T12:02:03.315Z"
   },
   {
    "duration": 50,
    "start_time": "2023-07-19T12:02:03.352Z"
   },
   {
    "duration": 35,
    "start_time": "2023-07-19T12:02:03.404Z"
   },
   {
    "duration": 54,
    "start_time": "2023-07-19T12:02:03.441Z"
   },
   {
    "duration": 77,
    "start_time": "2023-07-19T12:02:03.497Z"
   },
   {
    "duration": 96,
    "start_time": "2023-07-19T12:02:03.576Z"
   },
   {
    "duration": 504,
    "start_time": "2023-07-19T12:02:03.674Z"
   },
   {
    "duration": 99,
    "start_time": "2023-07-19T12:02:04.181Z"
   },
   {
    "duration": 112,
    "start_time": "2023-07-19T12:02:04.282Z"
   },
   {
    "duration": 544,
    "start_time": "2023-07-19T12:02:12.474Z"
   },
   {
    "duration": 58,
    "start_time": "2023-07-19T12:02:15.900Z"
   },
   {
    "duration": 56,
    "start_time": "2023-07-19T12:02:33.617Z"
   },
   {
    "duration": 62,
    "start_time": "2023-07-19T12:02:57.815Z"
   },
   {
    "duration": 21,
    "start_time": "2023-07-19T12:04:33.417Z"
   },
   {
    "duration": 23,
    "start_time": "2023-07-19T12:05:49.703Z"
   },
   {
    "duration": 23,
    "start_time": "2023-07-19T12:06:28.615Z"
   },
   {
    "duration": 13,
    "start_time": "2023-07-19T12:09:07.186Z"
   },
   {
    "duration": 15,
    "start_time": "2023-07-19T12:09:37.914Z"
   },
   {
    "duration": 17,
    "start_time": "2023-07-19T12:09:50.814Z"
   },
   {
    "duration": 51,
    "start_time": "2023-07-19T12:10:13.849Z"
   },
   {
    "duration": 5,
    "start_time": "2023-07-19T12:10:27.526Z"
   },
   {
    "duration": 940,
    "start_time": "2023-07-19T12:10:27.533Z"
   },
   {
    "duration": 275,
    "start_time": "2023-07-19T12:10:28.475Z"
   },
   {
    "duration": 153,
    "start_time": "2023-07-19T12:10:28.752Z"
   },
   {
    "duration": 511,
    "start_time": "2023-07-19T12:10:28.909Z"
   },
   {
    "duration": 1016,
    "start_time": "2023-07-19T12:10:29.423Z"
   },
   {
    "duration": 37,
    "start_time": "2023-07-19T12:10:30.441Z"
   },
   {
    "duration": 72,
    "start_time": "2023-07-19T12:10:30.480Z"
   },
   {
    "duration": 45,
    "start_time": "2023-07-19T12:10:30.554Z"
   },
   {
    "duration": 130,
    "start_time": "2023-07-19T12:10:30.601Z"
   },
   {
    "duration": 42,
    "start_time": "2023-07-19T12:10:30.734Z"
   },
   {
    "duration": 87,
    "start_time": "2023-07-19T12:10:30.779Z"
   },
   {
    "duration": 150,
    "start_time": "2023-07-19T12:10:30.868Z"
   },
   {
    "duration": 85,
    "start_time": "2023-07-19T12:10:31.022Z"
   },
   {
    "duration": 103,
    "start_time": "2023-07-19T12:10:31.110Z"
   },
   {
    "duration": 196,
    "start_time": "2023-07-19T12:10:31.215Z"
   },
   {
    "duration": 200,
    "start_time": "2023-07-19T12:10:31.413Z"
   },
   {
    "duration": 97,
    "start_time": "2023-07-19T12:10:31.616Z"
   },
   {
    "duration": 323,
    "start_time": "2023-07-19T12:10:31.715Z"
   },
   {
    "duration": 11,
    "start_time": "2023-07-19T12:10:32.040Z"
   },
   {
    "duration": 57,
    "start_time": "2023-07-19T12:10:32.053Z"
   },
   {
    "duration": 56,
    "start_time": "2023-07-19T12:10:32.112Z"
   },
   {
    "duration": 6,
    "start_time": "2023-07-19T12:10:32.170Z"
   },
   {
    "duration": 62,
    "start_time": "2023-07-19T12:10:32.178Z"
   },
   {
    "duration": 42,
    "start_time": "2023-07-19T12:10:32.243Z"
   },
   {
    "duration": 62,
    "start_time": "2023-07-19T12:10:32.287Z"
   },
   {
    "duration": 116,
    "start_time": "2023-07-19T12:10:32.352Z"
   },
   {
    "duration": 101,
    "start_time": "2023-07-19T12:10:32.470Z"
   },
   {
    "duration": 446,
    "start_time": "2023-07-19T12:10:32.573Z"
   },
   {
    "duration": 107,
    "start_time": "2023-07-19T12:10:33.021Z"
   },
   {
    "duration": 133,
    "start_time": "2023-07-19T12:10:33.130Z"
   },
   {
    "duration": 49,
    "start_time": "2023-07-19T12:10:41.974Z"
   },
   {
    "duration": 33,
    "start_time": "2023-07-19T12:11:14.478Z"
   },
   {
    "duration": 938,
    "start_time": "2023-07-19T12:16:08.151Z"
   },
   {
    "duration": 597,
    "start_time": "2023-07-19T12:23:44.619Z"
   },
   {
    "duration": 28,
    "start_time": "2023-07-19T12:25:02.733Z"
   },
   {
    "duration": 127,
    "start_time": "2023-07-19T12:28:43.563Z"
   },
   {
    "duration": 2029,
    "start_time": "2023-07-19T12:28:48.565Z"
   },
   {
    "duration": 4,
    "start_time": "2023-07-19T12:28:53.558Z"
   },
   {
    "duration": 908,
    "start_time": "2023-07-19T12:28:53.565Z"
   },
   {
    "duration": 106,
    "start_time": "2023-07-19T12:28:54.476Z"
   },
   {
    "duration": 125,
    "start_time": "2023-07-19T12:28:54.584Z"
   },
   {
    "duration": 464,
    "start_time": "2023-07-19T12:28:54.711Z"
   },
   {
    "duration": 989,
    "start_time": "2023-07-19T12:28:55.178Z"
   },
   {
    "duration": 32,
    "start_time": "2023-07-19T12:28:56.169Z"
   },
   {
    "duration": 33,
    "start_time": "2023-07-19T12:28:56.203Z"
   },
   {
    "duration": 29,
    "start_time": "2023-07-19T12:28:56.238Z"
   },
   {
    "duration": 130,
    "start_time": "2023-07-19T12:28:56.269Z"
   },
   {
    "duration": 34,
    "start_time": "2023-07-19T12:28:56.401Z"
   },
   {
    "duration": 87,
    "start_time": "2023-07-19T12:28:56.437Z"
   },
   {
    "duration": 97,
    "start_time": "2023-07-19T12:28:56.526Z"
   },
   {
    "duration": 78,
    "start_time": "2023-07-19T12:28:56.626Z"
   },
   {
    "duration": 40,
    "start_time": "2023-07-19T12:28:56.706Z"
   },
   {
    "duration": 87,
    "start_time": "2023-07-19T12:28:56.747Z"
   },
   {
    "duration": 94,
    "start_time": "2023-07-19T12:28:56.837Z"
   },
   {
    "duration": 101,
    "start_time": "2023-07-19T12:28:56.933Z"
   },
   {
    "duration": 301,
    "start_time": "2023-07-19T12:28:57.036Z"
   },
   {
    "duration": 11,
    "start_time": "2023-07-19T12:28:57.338Z"
   },
   {
    "duration": 125,
    "start_time": "2023-07-19T12:28:57.351Z"
   },
   {
    "duration": 56,
    "start_time": "2023-07-19T12:28:57.478Z"
   },
   {
    "duration": 3,
    "start_time": "2023-07-19T12:28:57.536Z"
   },
   {
    "duration": 14,
    "start_time": "2023-07-19T12:29:03.160Z"
   },
   {
    "duration": 6,
    "start_time": "2023-07-19T12:29:39.285Z"
   },
   {
    "duration": 889,
    "start_time": "2023-07-19T12:29:39.294Z"
   },
   {
    "duration": 113,
    "start_time": "2023-07-19T12:29:40.185Z"
   },
   {
    "duration": 122,
    "start_time": "2023-07-19T12:29:40.300Z"
   },
   {
    "duration": 499,
    "start_time": "2023-07-19T12:29:40.425Z"
   },
   {
    "duration": 1113,
    "start_time": "2023-07-19T12:29:40.926Z"
   },
   {
    "duration": 40,
    "start_time": "2023-07-19T12:29:42.041Z"
   },
   {
    "duration": 22,
    "start_time": "2023-07-19T12:29:42.083Z"
   },
   {
    "duration": 44,
    "start_time": "2023-07-19T12:29:42.107Z"
   },
   {
    "duration": 140,
    "start_time": "2023-07-19T12:29:42.153Z"
   },
   {
    "duration": 36,
    "start_time": "2023-07-19T12:29:42.295Z"
   },
   {
    "duration": 95,
    "start_time": "2023-07-19T12:29:42.333Z"
   },
   {
    "duration": 90,
    "start_time": "2023-07-19T12:29:42.429Z"
   },
   {
    "duration": 83,
    "start_time": "2023-07-19T12:29:42.523Z"
   },
   {
    "duration": 53,
    "start_time": "2023-07-19T12:29:42.608Z"
   },
   {
    "duration": 72,
    "start_time": "2023-07-19T12:29:42.668Z"
   },
   {
    "duration": 91,
    "start_time": "2023-07-19T12:29:42.742Z"
   },
   {
    "duration": 79,
    "start_time": "2023-07-19T12:29:42.835Z"
   },
   {
    "duration": 331,
    "start_time": "2023-07-19T12:29:42.916Z"
   },
   {
    "duration": 23,
    "start_time": "2023-07-19T12:29:43.249Z"
   },
   {
    "duration": 30,
    "start_time": "2023-07-19T12:29:43.273Z"
   },
   {
    "duration": 68,
    "start_time": "2023-07-19T12:29:43.305Z"
   },
   {
    "duration": 2,
    "start_time": "2023-07-19T12:29:43.375Z"
   },
   {
    "duration": 33,
    "start_time": "2023-07-19T12:29:43.379Z"
   },
   {
    "duration": 29,
    "start_time": "2023-07-19T12:29:43.414Z"
   },
   {
    "duration": 65,
    "start_time": "2023-07-19T12:29:43.445Z"
   },
   {
    "duration": 75,
    "start_time": "2023-07-19T12:29:43.512Z"
   },
   {
    "duration": 80,
    "start_time": "2023-07-19T12:29:43.589Z"
   },
   {
    "duration": 483,
    "start_time": "2023-07-19T12:29:43.671Z"
   },
   {
    "duration": 89,
    "start_time": "2023-07-19T12:29:44.167Z"
   },
   {
    "duration": 117,
    "start_time": "2023-07-19T12:29:44.257Z"
   },
   {
    "duration": 740,
    "start_time": "2023-07-19T12:29:48.970Z"
   },
   {
    "duration": 131,
    "start_time": "2023-07-19T12:30:20.095Z"
   },
   {
    "duration": 20,
    "start_time": "2023-07-19T12:31:29.117Z"
   },
   {
    "duration": 18,
    "start_time": "2023-07-19T12:32:32.267Z"
   },
   {
    "duration": 55,
    "start_time": "2023-07-19T12:32:46.841Z"
   },
   {
    "duration": 4,
    "start_time": "2023-07-19T12:33:11.684Z"
   },
   {
    "duration": 885,
    "start_time": "2023-07-19T12:33:11.690Z"
   },
   {
    "duration": 105,
    "start_time": "2023-07-19T12:33:12.576Z"
   },
   {
    "duration": 127,
    "start_time": "2023-07-19T12:33:12.684Z"
   },
   {
    "duration": 484,
    "start_time": "2023-07-19T12:33:12.812Z"
   },
   {
    "duration": 1069,
    "start_time": "2023-07-19T12:33:13.298Z"
   },
   {
    "duration": 32,
    "start_time": "2023-07-19T12:33:14.370Z"
   },
   {
    "duration": 33,
    "start_time": "2023-07-19T12:33:14.404Z"
   },
   {
    "duration": 31,
    "start_time": "2023-07-19T12:33:14.439Z"
   },
   {
    "duration": 107,
    "start_time": "2023-07-19T12:33:14.474Z"
   },
   {
    "duration": 35,
    "start_time": "2023-07-19T12:33:14.583Z"
   },
   {
    "duration": 85,
    "start_time": "2023-07-19T12:33:14.620Z"
   },
   {
    "duration": 100,
    "start_time": "2023-07-19T12:33:14.707Z"
   },
   {
    "duration": 81,
    "start_time": "2023-07-19T12:33:14.809Z"
   },
   {
    "duration": 83,
    "start_time": "2023-07-19T12:33:14.892Z"
   },
   {
    "duration": 87,
    "start_time": "2023-07-19T12:33:14.977Z"
   },
   {
    "duration": 128,
    "start_time": "2023-07-19T12:33:15.066Z"
   },
   {
    "duration": 92,
    "start_time": "2023-07-19T12:33:15.196Z"
   },
   {
    "duration": 318,
    "start_time": "2023-07-19T12:33:15.290Z"
   },
   {
    "duration": 12,
    "start_time": "2023-07-19T12:33:15.609Z"
   },
   {
    "duration": 74,
    "start_time": "2023-07-19T12:33:15.622Z"
   },
   {
    "duration": 50,
    "start_time": "2023-07-19T12:33:15.698Z"
   },
   {
    "duration": 3,
    "start_time": "2023-07-19T12:33:15.749Z"
   },
   {
    "duration": 51,
    "start_time": "2023-07-19T12:33:15.753Z"
   },
   {
    "duration": 6,
    "start_time": "2023-07-19T12:33:15.806Z"
   },
   {
    "duration": 60,
    "start_time": "2023-07-19T12:33:15.814Z"
   },
   {
    "duration": 80,
    "start_time": "2023-07-19T12:33:15.876Z"
   },
   {
    "duration": 78,
    "start_time": "2023-07-19T12:33:15.966Z"
   },
   {
    "duration": 489,
    "start_time": "2023-07-19T12:33:16.046Z"
   },
   {
    "duration": 135,
    "start_time": "2023-07-19T12:33:16.538Z"
   },
   {
    "duration": 109,
    "start_time": "2023-07-19T12:33:16.675Z"
   },
   {
    "duration": 801,
    "start_time": "2023-07-19T12:33:26.455Z"
   },
   {
    "duration": 21,
    "start_time": "2023-07-19T12:33:31.595Z"
   },
   {
    "duration": 50,
    "start_time": "2023-07-19T12:33:33.500Z"
   },
   {
    "duration": 39,
    "start_time": "2023-07-19T12:35:55.348Z"
   },
   {
    "duration": 5,
    "start_time": "2023-07-19T12:36:05.243Z"
   },
   {
    "duration": 877,
    "start_time": "2023-07-19T12:36:05.250Z"
   },
   {
    "duration": 110,
    "start_time": "2023-07-19T12:36:06.129Z"
   },
   {
    "duration": 127,
    "start_time": "2023-07-19T12:36:06.242Z"
   },
   {
    "duration": 573,
    "start_time": "2023-07-19T12:36:06.372Z"
   },
   {
    "duration": 1197,
    "start_time": "2023-07-19T12:36:06.947Z"
   },
   {
    "duration": 42,
    "start_time": "2023-07-19T12:36:08.146Z"
   },
   {
    "duration": 21,
    "start_time": "2023-07-19T12:36:08.190Z"
   },
   {
    "duration": 36,
    "start_time": "2023-07-19T12:36:08.213Z"
   },
   {
    "duration": 120,
    "start_time": "2023-07-19T12:36:08.251Z"
   },
   {
    "duration": 28,
    "start_time": "2023-07-19T12:36:08.373Z"
   },
   {
    "duration": 89,
    "start_time": "2023-07-19T12:36:08.403Z"
   },
   {
    "duration": 109,
    "start_time": "2023-07-19T12:36:08.494Z"
   },
   {
    "duration": 85,
    "start_time": "2023-07-19T12:36:08.607Z"
   },
   {
    "duration": 41,
    "start_time": "2023-07-19T12:36:08.694Z"
   },
   {
    "duration": 97,
    "start_time": "2023-07-19T12:36:08.737Z"
   },
   {
    "duration": 101,
    "start_time": "2023-07-19T12:36:08.836Z"
   },
   {
    "duration": 81,
    "start_time": "2023-07-19T12:36:08.938Z"
   },
   {
    "duration": 315,
    "start_time": "2023-07-19T12:36:09.021Z"
   },
   {
    "duration": 11,
    "start_time": "2023-07-19T12:36:09.339Z"
   },
   {
    "duration": 51,
    "start_time": "2023-07-19T12:36:09.352Z"
   },
   {
    "duration": 48,
    "start_time": "2023-07-19T12:36:09.405Z"
   },
   {
    "duration": 12,
    "start_time": "2023-07-19T12:36:09.455Z"
   },
   {
    "duration": 49,
    "start_time": "2023-07-19T12:36:09.469Z"
   },
   {
    "duration": 14,
    "start_time": "2023-07-19T12:36:09.521Z"
   },
   {
    "duration": 63,
    "start_time": "2023-07-19T12:36:09.537Z"
   },
   {
    "duration": 112,
    "start_time": "2023-07-19T12:36:09.602Z"
   },
   {
    "duration": 74,
    "start_time": "2023-07-19T12:36:09.716Z"
   },
   {
    "duration": 467,
    "start_time": "2023-07-19T12:36:09.791Z"
   },
   {
    "duration": 85,
    "start_time": "2023-07-19T12:36:10.260Z"
   },
   {
    "duration": 120,
    "start_time": "2023-07-19T12:36:10.347Z"
   },
   {
    "duration": 949,
    "start_time": "2023-07-19T12:37:58.143Z"
   },
   {
    "duration": 178,
    "start_time": "2023-07-19T12:38:04.890Z"
   },
   {
    "duration": 803,
    "start_time": "2023-07-19T12:39:09.372Z"
   },
   {
    "duration": 277,
    "start_time": "2023-07-19T12:40:41.994Z"
   },
   {
    "duration": 5,
    "start_time": "2023-07-19T12:40:54.543Z"
   },
   {
    "duration": 853,
    "start_time": "2023-07-19T12:40:54.551Z"
   },
   {
    "duration": 112,
    "start_time": "2023-07-19T12:40:55.406Z"
   },
   {
    "duration": 132,
    "start_time": "2023-07-19T12:40:55.520Z"
   },
   {
    "duration": 471,
    "start_time": "2023-07-19T12:40:55.654Z"
   },
   {
    "duration": 997,
    "start_time": "2023-07-19T12:40:56.127Z"
   },
   {
    "duration": 32,
    "start_time": "2023-07-19T12:40:57.126Z"
   },
   {
    "duration": 13,
    "start_time": "2023-07-19T12:40:57.166Z"
   },
   {
    "duration": 26,
    "start_time": "2023-07-19T12:40:57.181Z"
   },
   {
    "duration": 119,
    "start_time": "2023-07-19T12:40:57.209Z"
   },
   {
    "duration": 45,
    "start_time": "2023-07-19T12:40:57.330Z"
   },
   {
    "duration": 73,
    "start_time": "2023-07-19T12:40:57.377Z"
   },
   {
    "duration": 96,
    "start_time": "2023-07-19T12:40:57.452Z"
   },
   {
    "duration": 82,
    "start_time": "2023-07-19T12:40:57.551Z"
   },
   {
    "duration": 50,
    "start_time": "2023-07-19T12:40:57.635Z"
   },
   {
    "duration": 82,
    "start_time": "2023-07-19T12:40:57.687Z"
   },
   {
    "duration": 79,
    "start_time": "2023-07-19T12:40:57.771Z"
   },
   {
    "duration": 74,
    "start_time": "2023-07-19T12:40:57.852Z"
   },
   {
    "duration": 313,
    "start_time": "2023-07-19T12:40:57.928Z"
   },
   {
    "duration": 12,
    "start_time": "2023-07-19T12:40:58.242Z"
   },
   {
    "duration": 33,
    "start_time": "2023-07-19T12:40:58.266Z"
   },
   {
    "duration": 66,
    "start_time": "2023-07-19T12:40:58.301Z"
   },
   {
    "duration": 3,
    "start_time": "2023-07-19T12:40:58.369Z"
   },
   {
    "duration": 31,
    "start_time": "2023-07-19T12:40:58.373Z"
   },
   {
    "duration": 5,
    "start_time": "2023-07-19T12:40:58.406Z"
   },
   {
    "duration": 37,
    "start_time": "2023-07-19T12:40:58.413Z"
   },
   {
    "duration": 79,
    "start_time": "2023-07-19T12:40:58.452Z"
   },
   {
    "duration": 89,
    "start_time": "2023-07-19T12:40:58.533Z"
   },
   {
    "duration": 427,
    "start_time": "2023-07-19T12:40:58.624Z"
   },
   {
    "duration": 88,
    "start_time": "2023-07-19T12:40:59.053Z"
   },
   {
    "duration": 111,
    "start_time": "2023-07-19T12:40:59.143Z"
   },
   {
    "duration": 731,
    "start_time": "2023-07-19T12:41:25.506Z"
   },
   {
    "duration": 278,
    "start_time": "2023-07-19T12:42:22.956Z"
   },
   {
    "duration": 6,
    "start_time": "2023-07-19T12:43:54.071Z"
   },
   {
    "duration": 846,
    "start_time": "2023-07-19T12:43:54.080Z"
   },
   {
    "duration": 111,
    "start_time": "2023-07-19T12:43:54.928Z"
   },
   {
    "duration": 125,
    "start_time": "2023-07-19T12:43:55.041Z"
   },
   {
    "duration": 464,
    "start_time": "2023-07-19T12:43:55.169Z"
   },
   {
    "duration": 989,
    "start_time": "2023-07-19T12:43:55.635Z"
   },
   {
    "duration": 32,
    "start_time": "2023-07-19T12:43:56.625Z"
   },
   {
    "duration": 34,
    "start_time": "2023-07-19T12:43:56.659Z"
   },
   {
    "duration": 51,
    "start_time": "2023-07-19T12:43:56.695Z"
   },
   {
    "duration": 158,
    "start_time": "2023-07-19T12:43:56.749Z"
   },
   {
    "duration": 31,
    "start_time": "2023-07-19T12:43:56.909Z"
   },
   {
    "duration": 82,
    "start_time": "2023-07-19T12:43:56.941Z"
   },
   {
    "duration": 101,
    "start_time": "2023-07-19T12:43:57.025Z"
   },
   {
    "duration": 79,
    "start_time": "2023-07-19T12:43:57.128Z"
   },
   {
    "duration": 37,
    "start_time": "2023-07-19T12:43:57.208Z"
   },
   {
    "duration": 86,
    "start_time": "2023-07-19T12:43:57.247Z"
   },
   {
    "duration": 81,
    "start_time": "2023-07-19T12:43:57.335Z"
   },
   {
    "duration": 75,
    "start_time": "2023-07-19T12:43:57.418Z"
   },
   {
    "duration": 291,
    "start_time": "2023-07-19T12:43:57.494Z"
   },
   {
    "duration": 11,
    "start_time": "2023-07-19T12:43:57.787Z"
   },
   {
    "duration": 44,
    "start_time": "2023-07-19T12:43:57.799Z"
   },
   {
    "duration": 70,
    "start_time": "2023-07-19T12:43:57.845Z"
   },
   {
    "duration": 44,
    "start_time": "2023-07-19T12:43:57.916Z"
   },
   {
    "duration": 29,
    "start_time": "2023-07-19T12:43:57.962Z"
   },
   {
    "duration": 5,
    "start_time": "2023-07-19T12:43:57.993Z"
   },
   {
    "duration": 71,
    "start_time": "2023-07-19T12:43:58.000Z"
   },
   {
    "duration": 73,
    "start_time": "2023-07-19T12:43:58.073Z"
   },
   {
    "duration": 82,
    "start_time": "2023-07-19T12:43:58.148Z"
   },
   {
    "duration": 446,
    "start_time": "2023-07-19T12:43:58.231Z"
   },
   {
    "duration": 95,
    "start_time": "2023-07-19T12:43:58.679Z"
   },
   {
    "duration": 800,
    "start_time": "2023-07-19T12:44:08.062Z"
   },
   {
    "duration": 285,
    "start_time": "2023-07-19T12:44:37.567Z"
   },
   {
    "duration": 41,
    "start_time": "2023-07-19T12:44:56.038Z"
   },
   {
    "duration": 5,
    "start_time": "2023-07-19T12:45:21.667Z"
   },
   {
    "duration": 850,
    "start_time": "2023-07-19T12:45:21.675Z"
   },
   {
    "duration": 110,
    "start_time": "2023-07-19T12:45:22.527Z"
   },
   {
    "duration": 129,
    "start_time": "2023-07-19T12:45:22.639Z"
   },
   {
    "duration": 480,
    "start_time": "2023-07-19T12:45:22.770Z"
   },
   {
    "duration": 1054,
    "start_time": "2023-07-19T12:45:23.252Z"
   },
   {
    "duration": 32,
    "start_time": "2023-07-19T12:45:24.308Z"
   },
   {
    "duration": 35,
    "start_time": "2023-07-19T12:45:24.341Z"
   },
   {
    "duration": 27,
    "start_time": "2023-07-19T12:45:24.378Z"
   },
   {
    "duration": 114,
    "start_time": "2023-07-19T12:45:24.407Z"
   },
   {
    "duration": 30,
    "start_time": "2023-07-19T12:45:24.523Z"
   },
   {
    "duration": 80,
    "start_time": "2023-07-19T12:45:24.555Z"
   },
   {
    "duration": 117,
    "start_time": "2023-07-19T12:45:24.637Z"
   },
   {
    "duration": 76,
    "start_time": "2023-07-19T12:45:24.757Z"
   },
   {
    "duration": 63,
    "start_time": "2023-07-19T12:45:24.835Z"
   },
   {
    "duration": 71,
    "start_time": "2023-07-19T12:45:24.900Z"
   },
   {
    "duration": 83,
    "start_time": "2023-07-19T12:45:24.972Z"
   },
   {
    "duration": 69,
    "start_time": "2023-07-19T12:45:25.057Z"
   },
   {
    "duration": 325,
    "start_time": "2023-07-19T12:45:25.128Z"
   },
   {
    "duration": 18,
    "start_time": "2023-07-19T12:45:25.455Z"
   },
   {
    "duration": 38,
    "start_time": "2023-07-19T12:45:25.475Z"
   },
   {
    "duration": 61,
    "start_time": "2023-07-19T12:45:25.516Z"
   },
   {
    "duration": 3,
    "start_time": "2023-07-19T12:45:25.579Z"
   },
   {
    "duration": 16,
    "start_time": "2023-07-19T12:45:25.584Z"
   },
   {
    "duration": 6,
    "start_time": "2023-07-19T12:45:25.602Z"
   },
   {
    "duration": 57,
    "start_time": "2023-07-19T12:45:25.610Z"
   },
   {
    "duration": 72,
    "start_time": "2023-07-19T12:45:25.669Z"
   },
   {
    "duration": 87,
    "start_time": "2023-07-19T12:45:25.743Z"
   },
   {
    "duration": 572,
    "start_time": "2023-07-19T12:45:25.833Z"
   },
   {
    "duration": 93,
    "start_time": "2023-07-19T12:45:26.407Z"
   },
   {
    "duration": 99,
    "start_time": "2023-07-19T12:45:26.502Z"
   },
   {
    "duration": 775,
    "start_time": "2023-07-19T12:45:39.454Z"
   },
   {
    "duration": 753,
    "start_time": "2023-07-19T12:45:47.010Z"
   },
   {
    "duration": 41,
    "start_time": "2023-07-19T12:46:05.111Z"
   },
   {
    "duration": 131,
    "start_time": "2023-07-19T12:46:45.988Z"
   },
   {
    "duration": 38,
    "start_time": "2023-07-19T12:47:04.620Z"
   },
   {
    "duration": 38,
    "start_time": "2023-07-19T12:47:27.479Z"
   },
   {
    "duration": 5,
    "start_time": "2023-07-19T12:47:44.123Z"
   },
   {
    "duration": 847,
    "start_time": "2023-07-19T12:47:44.130Z"
   },
   {
    "duration": 111,
    "start_time": "2023-07-19T12:47:44.978Z"
   },
   {
    "duration": 125,
    "start_time": "2023-07-19T12:47:45.092Z"
   },
   {
    "duration": 511,
    "start_time": "2023-07-19T12:47:45.219Z"
   },
   {
    "duration": 1025,
    "start_time": "2023-07-19T12:47:45.732Z"
   },
   {
    "duration": 35,
    "start_time": "2023-07-19T12:47:46.759Z"
   },
   {
    "duration": 25,
    "start_time": "2023-07-19T12:47:46.796Z"
   },
   {
    "duration": 46,
    "start_time": "2023-07-19T12:47:46.823Z"
   },
   {
    "duration": 127,
    "start_time": "2023-07-19T12:47:46.872Z"
   },
   {
    "duration": 37,
    "start_time": "2023-07-19T12:47:47.001Z"
   },
   {
    "duration": 91,
    "start_time": "2023-07-19T12:47:47.040Z"
   },
   {
    "duration": 116,
    "start_time": "2023-07-19T12:47:47.133Z"
   },
   {
    "duration": 93,
    "start_time": "2023-07-19T12:47:47.252Z"
   },
   {
    "duration": 54,
    "start_time": "2023-07-19T12:47:47.347Z"
   },
   {
    "duration": 86,
    "start_time": "2023-07-19T12:47:47.403Z"
   },
   {
    "duration": 96,
    "start_time": "2023-07-19T12:47:47.491Z"
   },
   {
    "duration": 72,
    "start_time": "2023-07-19T12:47:47.589Z"
   },
   {
    "duration": 327,
    "start_time": "2023-07-19T12:47:47.666Z"
   },
   {
    "duration": 11,
    "start_time": "2023-07-19T12:47:47.995Z"
   },
   {
    "duration": 32,
    "start_time": "2023-07-19T12:47:48.009Z"
   },
   {
    "duration": 71,
    "start_time": "2023-07-19T12:47:48.043Z"
   },
   {
    "duration": 3,
    "start_time": "2023-07-19T12:47:48.116Z"
   },
   {
    "duration": 24,
    "start_time": "2023-07-19T12:47:48.121Z"
   },
   {
    "duration": 20,
    "start_time": "2023-07-19T12:47:48.147Z"
   },
   {
    "duration": 34,
    "start_time": "2023-07-19T12:47:48.169Z"
   },
   {
    "duration": 85,
    "start_time": "2023-07-19T12:47:48.206Z"
   },
   {
    "duration": 80,
    "start_time": "2023-07-19T12:47:48.294Z"
   },
   {
    "duration": 443,
    "start_time": "2023-07-19T12:47:48.376Z"
   },
   {
    "duration": 97,
    "start_time": "2023-07-19T12:47:48.821Z"
   },
   {
    "duration": 102,
    "start_time": "2023-07-19T12:47:48.920Z"
   },
   {
    "duration": 758,
    "start_time": "2023-07-19T12:48:11.815Z"
   },
   {
    "duration": 125,
    "start_time": "2023-07-19T12:48:19.053Z"
   },
   {
    "duration": 32,
    "start_time": "2023-07-19T12:48:52.942Z"
   },
   {
    "duration": 5,
    "start_time": "2023-07-19T12:49:06.792Z"
   },
   {
    "duration": 828,
    "start_time": "2023-07-19T12:49:06.799Z"
   },
   {
    "duration": 106,
    "start_time": "2023-07-19T12:49:07.629Z"
   },
   {
    "duration": 130,
    "start_time": "2023-07-19T12:49:07.737Z"
   },
   {
    "duration": 444,
    "start_time": "2023-07-19T12:49:07.869Z"
   },
   {
    "duration": 1007,
    "start_time": "2023-07-19T12:49:08.315Z"
   },
   {
    "duration": 44,
    "start_time": "2023-07-19T12:49:09.323Z"
   },
   {
    "duration": 24,
    "start_time": "2023-07-19T12:49:09.369Z"
   },
   {
    "duration": 36,
    "start_time": "2023-07-19T12:49:09.395Z"
   },
   {
    "duration": 106,
    "start_time": "2023-07-19T12:49:09.433Z"
   },
   {
    "duration": 42,
    "start_time": "2023-07-19T12:49:09.540Z"
   },
   {
    "duration": 87,
    "start_time": "2023-07-19T12:49:09.584Z"
   },
   {
    "duration": 99,
    "start_time": "2023-07-19T12:49:09.673Z"
   },
   {
    "duration": 77,
    "start_time": "2023-07-19T12:49:09.775Z"
   },
   {
    "duration": 72,
    "start_time": "2023-07-19T12:49:09.853Z"
   },
   {
    "duration": 71,
    "start_time": "2023-07-19T12:49:09.926Z"
   },
   {
    "duration": 89,
    "start_time": "2023-07-19T12:49:09.999Z"
   },
   {
    "duration": 67,
    "start_time": "2023-07-19T12:49:10.090Z"
   },
   {
    "duration": 296,
    "start_time": "2023-07-19T12:49:10.160Z"
   },
   {
    "duration": 19,
    "start_time": "2023-07-19T12:49:10.458Z"
   },
   {
    "duration": 38,
    "start_time": "2023-07-19T12:49:10.479Z"
   },
   {
    "duration": 64,
    "start_time": "2023-07-19T12:49:10.519Z"
   },
   {
    "duration": 2,
    "start_time": "2023-07-19T12:49:10.585Z"
   },
   {
    "duration": 45,
    "start_time": "2023-07-19T12:49:10.589Z"
   },
   {
    "duration": 7,
    "start_time": "2023-07-19T12:49:10.635Z"
   },
   {
    "duration": 54,
    "start_time": "2023-07-19T12:49:10.644Z"
   },
   {
    "duration": 75,
    "start_time": "2023-07-19T12:49:10.700Z"
   },
   {
    "duration": 91,
    "start_time": "2023-07-19T12:49:10.778Z"
   },
   {
    "duration": 444,
    "start_time": "2023-07-19T12:49:10.871Z"
   },
   {
    "duration": 92,
    "start_time": "2023-07-19T12:49:11.318Z"
   },
   {
    "duration": 104,
    "start_time": "2023-07-19T12:49:11.413Z"
   },
   {
    "duration": 770,
    "start_time": "2023-07-19T12:49:17.116Z"
   },
   {
    "duration": 290,
    "start_time": "2023-07-19T12:49:21.882Z"
   },
   {
    "duration": 186,
    "start_time": "2023-07-19T12:51:37.592Z"
   },
   {
    "duration": 187,
    "start_time": "2023-07-19T12:52:10.411Z"
   },
   {
    "duration": 762,
    "start_time": "2023-07-19T12:53:15.928Z"
   },
   {
    "duration": 806,
    "start_time": "2023-07-19T12:53:35.499Z"
   },
   {
    "duration": 278,
    "start_time": "2023-07-19T12:54:00.698Z"
   },
   {
    "duration": 196,
    "start_time": "2023-07-19T12:54:11.228Z"
   },
   {
    "duration": 186,
    "start_time": "2023-07-19T12:54:20.550Z"
   },
   {
    "duration": 195,
    "start_time": "2023-07-19T12:54:25.912Z"
   },
   {
    "duration": 129,
    "start_time": "2023-07-19T12:55:18.771Z"
   },
   {
    "duration": 4,
    "start_time": "2023-07-19T13:17:50.039Z"
   },
   {
    "duration": 783,
    "start_time": "2023-07-19T13:17:50.046Z"
   },
   {
    "duration": 107,
    "start_time": "2023-07-19T13:17:50.831Z"
   },
   {
    "duration": 133,
    "start_time": "2023-07-19T13:17:50.940Z"
   },
   {
    "duration": 449,
    "start_time": "2023-07-19T13:17:51.076Z"
   },
   {
    "duration": 983,
    "start_time": "2023-07-19T13:17:51.528Z"
   },
   {
    "duration": 33,
    "start_time": "2023-07-19T13:17:52.513Z"
   },
   {
    "duration": 28,
    "start_time": "2023-07-19T13:17:52.549Z"
   },
   {
    "duration": 59,
    "start_time": "2023-07-19T13:17:52.579Z"
   },
   {
    "duration": 106,
    "start_time": "2023-07-19T13:17:52.641Z"
   },
   {
    "duration": 38,
    "start_time": "2023-07-19T13:17:52.749Z"
   },
   {
    "duration": 81,
    "start_time": "2023-07-19T13:17:52.789Z"
   },
   {
    "duration": 96,
    "start_time": "2023-07-19T13:17:52.872Z"
   },
   {
    "duration": 74,
    "start_time": "2023-07-19T13:17:52.971Z"
   },
   {
    "duration": 50,
    "start_time": "2023-07-19T13:17:53.047Z"
   },
   {
    "duration": 81,
    "start_time": "2023-07-19T13:17:53.099Z"
   },
   {
    "duration": 89,
    "start_time": "2023-07-19T13:17:53.182Z"
   },
   {
    "duration": 65,
    "start_time": "2023-07-19T13:17:53.273Z"
   },
   {
    "duration": 298,
    "start_time": "2023-07-19T13:17:53.339Z"
   },
   {
    "duration": 11,
    "start_time": "2023-07-19T13:17:53.639Z"
   },
   {
    "duration": 44,
    "start_time": "2023-07-19T13:17:53.651Z"
   },
   {
    "duration": 49,
    "start_time": "2023-07-19T13:17:53.697Z"
   },
   {
    "duration": 3,
    "start_time": "2023-07-19T13:17:53.766Z"
   },
   {
    "duration": 23,
    "start_time": "2023-07-19T13:17:53.771Z"
   },
   {
    "duration": 12,
    "start_time": "2023-07-19T13:17:53.796Z"
   },
   {
    "duration": 40,
    "start_time": "2023-07-19T13:17:53.809Z"
   },
   {
    "duration": 109,
    "start_time": "2023-07-19T13:17:53.868Z"
   },
   {
    "duration": 90,
    "start_time": "2023-07-19T13:17:53.979Z"
   },
   {
    "duration": 456,
    "start_time": "2023-07-19T13:17:54.071Z"
   },
   {
    "duration": 94,
    "start_time": "2023-07-19T13:17:54.529Z"
   },
   {
    "duration": 121,
    "start_time": "2023-07-19T13:17:54.625Z"
   },
   {
    "duration": 125,
    "start_time": "2023-07-19T13:18:16.534Z"
   },
   {
    "duration": 5,
    "start_time": "2023-07-19T13:18:42.011Z"
   },
   {
    "duration": 820,
    "start_time": "2023-07-19T13:18:42.020Z"
   },
   {
    "duration": 107,
    "start_time": "2023-07-19T13:18:42.842Z"
   },
   {
    "duration": 132,
    "start_time": "2023-07-19T13:18:42.952Z"
   },
   {
    "duration": 464,
    "start_time": "2023-07-19T13:18:43.087Z"
   },
   {
    "duration": 1033,
    "start_time": "2023-07-19T13:18:43.553Z"
   },
   {
    "duration": 33,
    "start_time": "2023-07-19T13:18:44.588Z"
   },
   {
    "duration": 25,
    "start_time": "2023-07-19T13:18:44.622Z"
   },
   {
    "duration": 31,
    "start_time": "2023-07-19T13:18:44.649Z"
   },
   {
    "duration": 114,
    "start_time": "2023-07-19T13:18:44.682Z"
   },
   {
    "duration": 33,
    "start_time": "2023-07-19T13:18:44.799Z"
   },
   {
    "duration": 105,
    "start_time": "2023-07-19T13:18:44.834Z"
   },
   {
    "duration": 102,
    "start_time": "2023-07-19T13:18:44.941Z"
   },
   {
    "duration": 89,
    "start_time": "2023-07-19T13:18:45.045Z"
   },
   {
    "duration": 53,
    "start_time": "2023-07-19T13:18:45.136Z"
   },
   {
    "duration": 80,
    "start_time": "2023-07-19T13:18:45.191Z"
   },
   {
    "duration": 78,
    "start_time": "2023-07-19T13:18:45.273Z"
   },
   {
    "duration": 64,
    "start_time": "2023-07-19T13:18:45.367Z"
   },
   {
    "duration": 315,
    "start_time": "2023-07-19T13:18:45.433Z"
   },
   {
    "duration": 19,
    "start_time": "2023-07-19T13:18:45.749Z"
   },
   {
    "duration": 37,
    "start_time": "2023-07-19T13:18:45.770Z"
   },
   {
    "duration": 71,
    "start_time": "2023-07-19T13:18:45.808Z"
   },
   {
    "duration": 2,
    "start_time": "2023-07-19T13:18:45.881Z"
   },
   {
    "duration": 34,
    "start_time": "2023-07-19T13:18:45.885Z"
   },
   {
    "duration": 17,
    "start_time": "2023-07-19T13:18:45.921Z"
   },
   {
    "duration": 47,
    "start_time": "2023-07-19T13:18:45.940Z"
   },
   {
    "duration": 82,
    "start_time": "2023-07-19T13:18:45.990Z"
   },
   {
    "duration": 72,
    "start_time": "2023-07-19T13:18:46.075Z"
   },
   {
    "duration": 550,
    "start_time": "2023-07-19T13:18:46.167Z"
   },
   {
    "duration": 86,
    "start_time": "2023-07-19T13:18:46.719Z"
   },
   {
    "duration": 129,
    "start_time": "2023-07-19T13:21:49.370Z"
   },
   {
    "duration": 115,
    "start_time": "2023-07-19T13:23:20.226Z"
   },
   {
    "duration": 93,
    "start_time": "2023-07-19T13:23:50.064Z"
   },
   {
    "duration": 126,
    "start_time": "2023-07-19T13:23:59.588Z"
   },
   {
    "duration": 3865,
    "start_time": "2023-07-19T13:24:59.359Z"
   },
   {
    "duration": 2667,
    "start_time": "2023-07-19T13:25:19.272Z"
   },
   {
    "duration": 12,
    "start_time": "2023-07-19T13:35:56.155Z"
   },
   {
    "duration": 120,
    "start_time": "2023-07-19T13:36:18.891Z"
   },
   {
    "duration": 109,
    "start_time": "2023-07-19T13:36:35.718Z"
   },
   {
    "duration": 168,
    "start_time": "2023-07-19T13:40:00.281Z"
   },
   {
    "duration": 179,
    "start_time": "2023-07-19T13:47:07.384Z"
   },
   {
    "duration": 124,
    "start_time": "2023-07-19T14:01:11.985Z"
   },
   {
    "duration": 125,
    "start_time": "2023-07-19T14:10:16.918Z"
   },
   {
    "duration": 1564,
    "start_time": "2023-07-19T14:11:19.418Z"
   },
   {
    "duration": 942,
    "start_time": "2023-07-19T14:11:20.985Z"
   },
   {
    "duration": 167,
    "start_time": "2023-07-19T14:11:21.929Z"
   },
   {
    "duration": 119,
    "start_time": "2023-07-19T14:11:22.098Z"
   },
   {
    "duration": 600,
    "start_time": "2023-07-19T14:11:22.220Z"
   },
   {
    "duration": 1215,
    "start_time": "2023-07-19T14:11:22.822Z"
   },
   {
    "duration": 41,
    "start_time": "2023-07-19T14:11:24.040Z"
   },
   {
    "duration": 42,
    "start_time": "2023-07-19T14:11:24.083Z"
   },
   {
    "duration": 37,
    "start_time": "2023-07-19T14:11:24.128Z"
   },
   {
    "duration": 124,
    "start_time": "2023-07-19T14:11:24.167Z"
   },
   {
    "duration": 37,
    "start_time": "2023-07-19T14:11:24.294Z"
   },
   {
    "duration": 97,
    "start_time": "2023-07-19T14:11:24.334Z"
   },
   {
    "duration": 117,
    "start_time": "2023-07-19T14:11:24.433Z"
   },
   {
    "duration": 79,
    "start_time": "2023-07-19T14:11:24.554Z"
   },
   {
    "duration": 60,
    "start_time": "2023-07-19T14:11:24.635Z"
   },
   {
    "duration": 81,
    "start_time": "2023-07-19T14:11:24.697Z"
   },
   {
    "duration": 94,
    "start_time": "2023-07-19T14:11:24.780Z"
   },
   {
    "duration": 68,
    "start_time": "2023-07-19T14:11:24.877Z"
   },
   {
    "duration": 305,
    "start_time": "2023-07-19T14:11:24.947Z"
   },
   {
    "duration": 20,
    "start_time": "2023-07-19T14:11:25.253Z"
   },
   {
    "duration": 46,
    "start_time": "2023-07-19T14:11:25.275Z"
   },
   {
    "duration": 56,
    "start_time": "2023-07-19T14:11:25.323Z"
   },
   {
    "duration": 2,
    "start_time": "2023-07-19T14:11:25.381Z"
   },
   {
    "duration": 28,
    "start_time": "2023-07-19T14:11:25.385Z"
   },
   {
    "duration": 13,
    "start_time": "2023-07-19T14:11:25.415Z"
   },
   {
    "duration": 72,
    "start_time": "2023-07-19T14:11:25.429Z"
   },
   {
    "duration": 78,
    "start_time": "2023-07-19T14:11:25.502Z"
   },
   {
    "duration": 87,
    "start_time": "2023-07-19T14:11:25.582Z"
   },
   {
    "duration": 445,
    "start_time": "2023-07-19T14:11:25.670Z"
   },
   {
    "duration": 98,
    "start_time": "2023-07-19T14:11:26.118Z"
   },
   {
    "duration": 122,
    "start_time": "2023-07-19T14:11:26.218Z"
   },
   {
    "duration": 0,
    "start_time": "2023-07-19T14:11:26.342Z"
   },
   {
    "duration": 0,
    "start_time": "2023-07-19T14:11:26.343Z"
   },
   {
    "duration": 0,
    "start_time": "2023-07-19T14:11:26.345Z"
   },
   {
    "duration": 0,
    "start_time": "2023-07-19T14:11:26.345Z"
   },
   {
    "duration": 0,
    "start_time": "2023-07-19T14:11:26.347Z"
   },
   {
    "duration": 0,
    "start_time": "2023-07-19T14:11:26.348Z"
   },
   {
    "duration": 0,
    "start_time": "2023-07-19T14:11:26.349Z"
   },
   {
    "duration": 0,
    "start_time": "2023-07-19T14:11:26.350Z"
   },
   {
    "duration": 1,
    "start_time": "2023-07-19T14:11:26.466Z"
   },
   {
    "duration": 0,
    "start_time": "2023-07-19T14:11:26.468Z"
   },
   {
    "duration": 0,
    "start_time": "2023-07-19T14:11:26.470Z"
   },
   {
    "duration": 0,
    "start_time": "2023-07-19T14:11:26.471Z"
   },
   {
    "duration": 0,
    "start_time": "2023-07-19T14:11:26.472Z"
   },
   {
    "duration": 0,
    "start_time": "2023-07-19T14:11:26.473Z"
   },
   {
    "duration": 0,
    "start_time": "2023-07-19T14:11:26.474Z"
   },
   {
    "duration": 0,
    "start_time": "2023-07-19T14:11:26.475Z"
   },
   {
    "duration": 0,
    "start_time": "2023-07-19T14:11:26.476Z"
   },
   {
    "duration": 0,
    "start_time": "2023-07-19T14:11:26.477Z"
   },
   {
    "duration": 0,
    "start_time": "2023-07-19T14:11:26.479Z"
   },
   {
    "duration": 0,
    "start_time": "2023-07-19T14:11:26.480Z"
   },
   {
    "duration": 0,
    "start_time": "2023-07-19T14:11:26.481Z"
   },
   {
    "duration": 0,
    "start_time": "2023-07-19T14:11:26.482Z"
   },
   {
    "duration": 0,
    "start_time": "2023-07-19T14:11:26.483Z"
   },
   {
    "duration": 0,
    "start_time": "2023-07-19T14:11:26.484Z"
   },
   {
    "duration": 17,
    "start_time": "2023-07-19T14:12:21.830Z"
   },
   {
    "duration": 162,
    "start_time": "2023-07-19T14:12:24.002Z"
   },
   {
    "duration": 669,
    "start_time": "2023-07-19T14:12:32.515Z"
   },
   {
    "duration": 11,
    "start_time": "2023-07-19T14:13:52.148Z"
   },
   {
    "duration": 18,
    "start_time": "2023-07-19T14:14:03.395Z"
   },
   {
    "duration": 266,
    "start_time": "2023-07-19T14:14:08.998Z"
   },
   {
    "duration": 191,
    "start_time": "2023-07-19T14:14:22.344Z"
   },
   {
    "duration": 29,
    "start_time": "2023-07-19T14:14:28.746Z"
   },
   {
    "duration": 20,
    "start_time": "2023-07-19T14:17:01.925Z"
   },
   {
    "duration": 197,
    "start_time": "2023-07-19T14:17:08.624Z"
   },
   {
    "duration": 14,
    "start_time": "2023-07-19T14:17:44.539Z"
   },
   {
    "duration": 57,
    "start_time": "2023-07-19T14:18:17.933Z"
   },
   {
    "duration": 198,
    "start_time": "2023-07-19T14:18:39.956Z"
   },
   {
    "duration": 54,
    "start_time": "2023-07-19T14:19:05.803Z"
   },
   {
    "duration": 52,
    "start_time": "2023-07-19T14:19:21.606Z"
   },
   {
    "duration": 62,
    "start_time": "2023-07-19T14:19:53.086Z"
   },
   {
    "duration": 1663,
    "start_time": "2023-07-19T17:07:18.576Z"
   },
   {
    "duration": 941,
    "start_time": "2023-07-19T17:07:20.241Z"
   },
   {
    "duration": 122,
    "start_time": "2023-07-19T17:07:21.184Z"
   },
   {
    "duration": 128,
    "start_time": "2023-07-19T17:07:21.308Z"
   },
   {
    "duration": 519,
    "start_time": "2023-07-19T17:07:21.439Z"
   },
   {
    "duration": 1139,
    "start_time": "2023-07-19T17:07:21.960Z"
   },
   {
    "duration": 33,
    "start_time": "2023-07-19T17:07:23.101Z"
   },
   {
    "duration": 46,
    "start_time": "2023-07-19T17:07:23.136Z"
   },
   {
    "duration": 31,
    "start_time": "2023-07-19T17:07:23.185Z"
   },
   {
    "duration": 128,
    "start_time": "2023-07-19T17:07:23.218Z"
   },
   {
    "duration": 48,
    "start_time": "2023-07-19T17:07:23.348Z"
   },
   {
    "duration": 105,
    "start_time": "2023-07-19T17:07:23.399Z"
   },
   {
    "duration": 134,
    "start_time": "2023-07-19T17:07:23.506Z"
   },
   {
    "duration": 76,
    "start_time": "2023-07-19T17:07:23.644Z"
   },
   {
    "duration": 53,
    "start_time": "2023-07-19T17:07:23.722Z"
   },
   {
    "duration": 69,
    "start_time": "2023-07-19T17:07:23.777Z"
   },
   {
    "duration": 134,
    "start_time": "2023-07-19T17:07:23.848Z"
   },
   {
    "duration": 90,
    "start_time": "2023-07-19T17:07:23.985Z"
   },
   {
    "duration": 380,
    "start_time": "2023-07-19T17:07:24.078Z"
   },
   {
    "duration": 15,
    "start_time": "2023-07-19T17:07:24.467Z"
   },
   {
    "duration": 77,
    "start_time": "2023-07-19T17:07:24.484Z"
   },
   {
    "duration": 65,
    "start_time": "2023-07-19T17:07:24.563Z"
   },
   {
    "duration": 13,
    "start_time": "2023-07-19T17:07:24.630Z"
   },
   {
    "duration": 43,
    "start_time": "2023-07-19T17:07:24.645Z"
   },
   {
    "duration": 23,
    "start_time": "2023-07-19T17:07:24.690Z"
   },
   {
    "duration": 52,
    "start_time": "2023-07-19T17:07:24.716Z"
   },
   {
    "duration": 81,
    "start_time": "2023-07-19T17:07:24.770Z"
   },
   {
    "duration": 86,
    "start_time": "2023-07-19T17:07:24.853Z"
   },
   {
    "duration": 453,
    "start_time": "2023-07-19T17:07:24.941Z"
   },
   {
    "duration": 95,
    "start_time": "2023-07-19T17:07:25.396Z"
   },
   {
    "duration": 245,
    "start_time": "2023-07-19T17:07:25.493Z"
   },
   {
    "duration": 0,
    "start_time": "2023-07-19T17:07:25.740Z"
   },
   {
    "duration": 137,
    "start_time": "2023-07-19T17:08:02.450Z"
   },
   {
    "duration": 36,
    "start_time": "2023-07-19T17:08:07.239Z"
   },
   {
    "duration": 27,
    "start_time": "2023-07-19T17:08:33.689Z"
   },
   {
    "duration": 788,
    "start_time": "2023-07-19T17:08:42.699Z"
   },
   {
    "duration": 266,
    "start_time": "2023-07-19T17:08:54.464Z"
   },
   {
    "duration": 189,
    "start_time": "2023-07-19T17:08:58.558Z"
   },
   {
    "duration": 55,
    "start_time": "2023-07-19T17:09:10.452Z"
   },
   {
    "duration": 505669,
    "start_time": "2023-07-19T17:09:18.713Z"
   },
   {
    "duration": 357061,
    "start_time": "2023-07-19T17:17:49.211Z"
   },
   {
    "duration": 18490,
    "start_time": "2023-07-19T17:25:23.980Z"
   },
   {
    "duration": 198,
    "start_time": "2023-07-19T17:26:01.870Z"
   },
   {
    "duration": 5,
    "start_time": "2023-07-19T17:26:04.818Z"
   },
   {
    "duration": 6,
    "start_time": "2023-07-19T17:26:14.806Z"
   },
   {
    "duration": 10,
    "start_time": "2023-07-19T17:26:27.845Z"
   },
   {
    "duration": 7,
    "start_time": "2023-07-19T17:26:51.924Z"
   },
   {
    "duration": 110684,
    "start_time": "2023-07-19T17:27:10.366Z"
   },
   {
    "duration": 110857,
    "start_time": "2023-07-19T17:29:33.982Z"
   },
   {
    "duration": 112438,
    "start_time": "2023-07-19T17:32:10.796Z"
   },
   {
    "duration": 1689,
    "start_time": "2023-07-19T17:34:27.610Z"
   },
   {
    "duration": 272,
    "start_time": "2023-07-19T17:34:34.891Z"
   },
   {
    "duration": 5,
    "start_time": "2023-07-19T17:34:46.588Z"
   },
   {
    "duration": 261,
    "start_time": "2023-07-19T17:34:55.134Z"
   },
   {
    "duration": 745,
    "start_time": "2023-07-19T17:35:17.635Z"
   },
   {
    "duration": 35,
    "start_time": "2023-07-19T18:42:20.537Z"
   },
   {
    "duration": 12,
    "start_time": "2023-07-19T18:42:56.827Z"
   },
   {
    "duration": 18,
    "start_time": "2023-07-19T18:43:13.242Z"
   },
   {
    "duration": 6433,
    "start_time": "2023-07-19T18:43:47.909Z"
   },
   {
    "duration": 6749,
    "start_time": "2023-07-19T18:46:58.140Z"
   },
   {
    "duration": 886,
    "start_time": "2023-07-19T18:47:59.832Z"
   },
   {
    "duration": 308996,
    "start_time": "2023-07-19T18:50:03.490Z"
   },
   {
    "duration": 4714,
    "start_time": "2023-07-19T18:56:14.499Z"
   },
   {
    "duration": 12044,
    "start_time": "2023-07-19T18:57:07.583Z"
   },
   {
    "duration": 288,
    "start_time": "2023-07-19T18:57:29.720Z"
   },
   {
    "duration": 7,
    "start_time": "2023-07-19T18:57:32.843Z"
   },
   {
    "duration": 1928,
    "start_time": "2023-07-19T19:07:31.684Z"
   },
   {
    "duration": 226687,
    "start_time": "2023-07-19T19:24:00.115Z"
   },
   {
    "duration": 8539,
    "start_time": "2023-07-19T19:28:11.064Z"
   },
   {
    "duration": 8,
    "start_time": "2023-07-19T19:28:28.317Z"
   },
   {
    "duration": 857698,
    "start_time": "2023-07-19T19:28:39.983Z"
   },
   {
    "duration": 53007,
    "start_time": "2023-07-19T19:48:23.664Z"
   },
   {
    "duration": 506,
    "start_time": "2023-07-19T19:49:22.679Z"
   },
   {
    "duration": 6,
    "start_time": "2023-07-19T19:49:27.772Z"
   },
   {
    "duration": 17,
    "start_time": "2023-07-19T19:50:00.713Z"
   },
   {
    "duration": 152,
    "start_time": "2023-07-19T19:50:34.878Z"
   },
   {
    "duration": 74,
    "start_time": "2023-07-19T20:05:23.472Z"
   },
   {
    "duration": 10939,
    "start_time": "2023-07-19T20:05:31.458Z"
   },
   {
    "duration": 1880,
    "start_time": "2023-07-19T20:05:48.990Z"
   },
   {
    "duration": 2096,
    "start_time": "2023-07-19T20:06:32.390Z"
   },
   {
    "duration": 2188,
    "start_time": "2023-07-19T20:07:30.288Z"
   },
   {
    "duration": 1925,
    "start_time": "2023-07-19T20:07:44.060Z"
   },
   {
    "duration": 2283,
    "start_time": "2023-07-19T20:08:00.489Z"
   },
   {
    "duration": 66,
    "start_time": "2023-07-19T20:08:59.300Z"
   },
   {
    "duration": 6,
    "start_time": "2023-07-19T20:09:18.549Z"
   },
   {
    "duration": 1200,
    "start_time": "2023-07-19T20:09:18.558Z"
   },
   {
    "duration": 130,
    "start_time": "2023-07-19T20:09:19.761Z"
   },
   {
    "duration": 140,
    "start_time": "2023-07-19T20:09:19.894Z"
   },
   {
    "duration": 544,
    "start_time": "2023-07-19T20:09:20.037Z"
   },
   {
    "duration": 1233,
    "start_time": "2023-07-19T20:09:20.584Z"
   },
   {
    "duration": 49,
    "start_time": "2023-07-19T20:09:21.820Z"
   },
   {
    "duration": 50,
    "start_time": "2023-07-19T20:09:21.871Z"
   },
   {
    "duration": 64,
    "start_time": "2023-07-19T20:09:21.924Z"
   },
   {
    "duration": 179,
    "start_time": "2023-07-19T20:09:21.990Z"
   },
   {
    "duration": 40,
    "start_time": "2023-07-19T20:09:22.171Z"
   },
   {
    "duration": 164,
    "start_time": "2023-07-19T20:09:22.213Z"
   },
   {
    "duration": 100,
    "start_time": "2023-07-19T20:09:22.382Z"
   },
   {
    "duration": 150,
    "start_time": "2023-07-19T20:09:22.485Z"
   },
   {
    "duration": 86,
    "start_time": "2023-07-19T20:09:22.638Z"
   },
   {
    "duration": 96,
    "start_time": "2023-07-19T20:09:22.726Z"
   },
   {
    "duration": 128,
    "start_time": "2023-07-19T20:09:22.825Z"
   },
   {
    "duration": 104,
    "start_time": "2023-07-19T20:09:22.966Z"
   },
   {
    "duration": 376,
    "start_time": "2023-07-19T20:09:23.073Z"
   },
   {
    "duration": 20,
    "start_time": "2023-07-19T20:09:23.452Z"
   },
   {
    "duration": 41,
    "start_time": "2023-07-19T20:09:23.474Z"
   },
   {
    "duration": 73,
    "start_time": "2023-07-19T20:09:23.518Z"
   },
   {
    "duration": 11,
    "start_time": "2023-07-19T20:09:23.594Z"
   },
   {
    "duration": 89,
    "start_time": "2023-07-19T20:09:23.607Z"
   },
   {
    "duration": 21,
    "start_time": "2023-07-19T20:09:23.700Z"
   },
   {
    "duration": 58,
    "start_time": "2023-07-19T20:09:23.728Z"
   },
   {
    "duration": 99,
    "start_time": "2023-07-19T20:09:23.789Z"
   },
   {
    "duration": 101,
    "start_time": "2023-07-19T20:09:23.891Z"
   },
   {
    "duration": 519,
    "start_time": "2023-07-19T20:09:23.995Z"
   },
   {
    "duration": 121,
    "start_time": "2023-07-19T20:09:24.517Z"
   },
   {
    "duration": 170,
    "start_time": "2023-07-19T20:09:24.640Z"
   },
   {
    "duration": 52,
    "start_time": "2023-07-19T20:09:24.815Z"
   },
   {
    "duration": 745,
    "start_time": "2023-07-19T20:09:27.738Z"
   },
   {
    "duration": 274,
    "start_time": "2023-07-19T20:09:34.772Z"
   },
   {
    "duration": 234,
    "start_time": "2023-07-19T20:09:38.392Z"
   },
   {
    "duration": 77,
    "start_time": "2023-07-19T20:09:41.932Z"
   },
   {
    "duration": 208,
    "start_time": "2023-07-19T20:10:01.937Z"
   },
   {
    "duration": 74,
    "start_time": "2023-07-19T20:10:06.923Z"
   },
   {
    "duration": 2270,
    "start_time": "2023-07-19T20:10:22.848Z"
   },
   {
    "duration": 20,
    "start_time": "2023-07-19T20:12:29.343Z"
   },
   {
    "duration": 20,
    "start_time": "2023-07-19T20:12:53.831Z"
   },
   {
    "duration": 18,
    "start_time": "2023-07-19T20:13:21.647Z"
   },
   {
    "duration": 14,
    "start_time": "2023-07-19T20:13:30.187Z"
   },
   {
    "duration": 1939,
    "start_time": "2023-07-19T20:13:55.713Z"
   },
   {
    "duration": 188,
    "start_time": "2023-07-19T20:16:33.439Z"
   },
   {
    "duration": 2175,
    "start_time": "2023-07-19T20:19:00.674Z"
   },
   {
    "duration": 30,
    "start_time": "2023-07-19T20:19:36.913Z"
   },
   {
    "duration": 34,
    "start_time": "2023-07-19T20:20:02.066Z"
   },
   {
    "duration": 35,
    "start_time": "2023-07-19T20:20:19.410Z"
   },
   {
    "duration": 199,
    "start_time": "2023-07-19T20:21:00.110Z"
   },
   {
    "duration": 24,
    "start_time": "2023-07-19T20:21:03.699Z"
   },
   {
    "duration": 672,
    "start_time": "2023-07-19T20:21:11.129Z"
   },
   {
    "duration": 287,
    "start_time": "2023-07-19T20:21:18.439Z"
   },
   {
    "duration": 33,
    "start_time": "2023-07-19T20:21:30.112Z"
   },
   {
    "duration": 32,
    "start_time": "2023-07-19T20:21:32.532Z"
   },
   {
    "duration": 30,
    "start_time": "2023-07-19T20:21:37.520Z"
   },
   {
    "duration": 284,
    "start_time": "2023-07-19T20:22:10.815Z"
   },
   {
    "duration": 44,
    "start_time": "2023-07-19T20:22:18.937Z"
   },
   {
    "duration": 866,
    "start_time": "2023-07-19T20:22:22.440Z"
   },
   {
    "duration": 331,
    "start_time": "2023-07-19T20:22:42.709Z"
   },
   {
    "duration": 193,
    "start_time": "2023-07-19T20:22:46.644Z"
   },
   {
    "duration": 32,
    "start_time": "2023-07-19T20:22:53.099Z"
   },
   {
    "duration": 27,
    "start_time": "2023-07-19T20:22:54.547Z"
   },
   {
    "duration": 32,
    "start_time": "2023-07-19T20:22:57.387Z"
   },
   {
    "duration": 168,
    "start_time": "2023-07-19T20:24:03.205Z"
   },
   {
    "duration": 25,
    "start_time": "2023-07-19T20:24:05.674Z"
   },
   {
    "duration": 675,
    "start_time": "2023-07-19T20:24:09.897Z"
   },
   {
    "duration": 15,
    "start_time": "2023-07-19T20:24:42.196Z"
   },
   {
    "duration": 23,
    "start_time": "2023-07-19T20:24:56.906Z"
   },
   {
    "duration": 20,
    "start_time": "2023-07-19T20:25:08.178Z"
   },
   {
    "duration": 140,
    "start_time": "2023-07-19T20:25:10.158Z"
   },
   {
    "duration": 134,
    "start_time": "2023-07-19T20:25:35.693Z"
   },
   {
    "duration": 12,
    "start_time": "2023-07-19T20:25:40.902Z"
   },
   {
    "duration": 14,
    "start_time": "2023-07-19T20:25:42.018Z"
   },
   {
    "duration": 13,
    "start_time": "2023-07-19T20:25:42.915Z"
   },
   {
    "duration": 158,
    "start_time": "2023-07-19T20:25:53.089Z"
   },
   {
    "duration": 14,
    "start_time": "2023-07-19T20:25:57.821Z"
   },
   {
    "duration": 12,
    "start_time": "2023-07-19T20:25:58.800Z"
   },
   {
    "duration": 12,
    "start_time": "2023-07-19T20:25:59.410Z"
   },
   {
    "duration": 125,
    "start_time": "2023-07-19T20:26:08.163Z"
   },
   {
    "duration": 12,
    "start_time": "2023-07-19T20:26:12.469Z"
   },
   {
    "duration": 12,
    "start_time": "2023-07-19T20:26:13.049Z"
   },
   {
    "duration": 13,
    "start_time": "2023-07-19T20:26:13.523Z"
   },
   {
    "duration": 129,
    "start_time": "2023-07-19T20:26:28.040Z"
   },
   {
    "duration": 18,
    "start_time": "2023-07-19T20:26:32.294Z"
   },
   {
    "duration": 16,
    "start_time": "2023-07-19T20:26:32.905Z"
   },
   {
    "duration": 12,
    "start_time": "2023-07-19T20:26:33.466Z"
   },
   {
    "duration": 15,
    "start_time": "2023-07-19T20:27:15.027Z"
   },
   {
    "duration": 70,
    "start_time": "2023-07-20T10:14:19.296Z"
   },
   {
    "duration": 1766,
    "start_time": "2023-07-20T10:14:58.940Z"
   },
   {
    "duration": 1191,
    "start_time": "2023-07-20T10:15:00.708Z"
   },
   {
    "duration": 97,
    "start_time": "2023-07-20T10:15:01.901Z"
   },
   {
    "duration": 236,
    "start_time": "2023-07-20T10:15:02.000Z"
   },
   {
    "duration": 1024,
    "start_time": "2023-07-20T10:15:02.239Z"
   },
   {
    "duration": 846,
    "start_time": "2023-07-20T10:15:03.265Z"
   },
   {
    "duration": 38,
    "start_time": "2023-07-20T10:15:04.112Z"
   },
   {
    "duration": 26,
    "start_time": "2023-07-20T10:15:04.151Z"
   },
   {
    "duration": 48,
    "start_time": "2023-07-20T10:15:04.179Z"
   },
   {
    "duration": 84,
    "start_time": "2023-07-20T10:15:04.229Z"
   },
   {
    "duration": 54,
    "start_time": "2023-07-20T10:15:04.314Z"
   },
   {
    "duration": 74,
    "start_time": "2023-07-20T10:15:04.370Z"
   },
   {
    "duration": 97,
    "start_time": "2023-07-20T10:15:04.446Z"
   },
   {
    "duration": 89,
    "start_time": "2023-07-20T10:15:04.545Z"
   },
   {
    "duration": 40,
    "start_time": "2023-07-20T10:15:04.636Z"
   },
   {
    "duration": 78,
    "start_time": "2023-07-20T10:15:04.678Z"
   },
   {
    "duration": 87,
    "start_time": "2023-07-20T10:15:04.757Z"
   },
   {
    "duration": 57,
    "start_time": "2023-07-20T10:15:04.845Z"
   },
   {
    "duration": 265,
    "start_time": "2023-07-20T10:15:04.903Z"
   },
   {
    "duration": 11,
    "start_time": "2023-07-20T10:15:05.172Z"
   },
   {
    "duration": 65,
    "start_time": "2023-07-20T10:15:05.185Z"
   },
   {
    "duration": 56,
    "start_time": "2023-07-20T10:15:05.252Z"
   },
   {
    "duration": 17,
    "start_time": "2023-07-20T10:15:05.321Z"
   },
   {
    "duration": 74,
    "start_time": "2023-07-20T10:15:05.340Z"
   },
   {
    "duration": 31,
    "start_time": "2023-07-20T10:15:05.416Z"
   },
   {
    "duration": 113,
    "start_time": "2023-07-20T10:15:05.449Z"
   },
   {
    "duration": 79,
    "start_time": "2023-07-20T10:15:05.563Z"
   },
   {
    "duration": 84,
    "start_time": "2023-07-20T10:15:05.643Z"
   },
   {
    "duration": 426,
    "start_time": "2023-07-20T10:15:05.729Z"
   },
   {
    "duration": 87,
    "start_time": "2023-07-20T10:15:06.157Z"
   },
   {
    "duration": 88,
    "start_time": "2023-07-20T10:15:06.246Z"
   },
   {
    "duration": 33,
    "start_time": "2023-07-20T10:15:06.336Z"
   },
   {
    "duration": 81,
    "start_time": "2023-07-20T10:15:41.432Z"
   },
   {
    "duration": 47,
    "start_time": "2023-07-20T10:17:26.520Z"
   },
   {
    "duration": 628,
    "start_time": "2023-07-20T10:17:50.617Z"
   },
   {
    "duration": 514,
    "start_time": "2023-07-20T10:18:54.837Z"
   },
   {
    "duration": 10,
    "start_time": "2023-07-20T10:19:17.515Z"
   },
   {
    "duration": 21535,
    "start_time": "2023-07-20T10:23:11.756Z"
   },
   {
    "duration": 31,
    "start_time": "2023-07-20T10:23:55.367Z"
   },
   {
    "duration": 21024,
    "start_time": "2023-07-20T10:24:14.362Z"
   },
   {
    "duration": 20565,
    "start_time": "2023-07-20T10:26:09.175Z"
   },
   {
    "duration": 30,
    "start_time": "2023-07-20T10:27:20.088Z"
   },
   {
    "duration": 23,
    "start_time": "2023-07-20T10:27:49.680Z"
   },
   {
    "duration": 20183,
    "start_time": "2023-07-20T10:27:59.574Z"
   },
   {
    "duration": 21,
    "start_time": "2023-07-20T10:35:28.535Z"
   },
   {
    "duration": 61,
    "start_time": "2023-07-20T10:35:59.315Z"
   },
   {
    "duration": 444,
    "start_time": "2023-07-20T10:37:17.419Z"
   },
   {
    "duration": 100,
    "start_time": "2023-07-20T10:38:58.010Z"
   },
   {
    "duration": 90,
    "start_time": "2023-07-20T10:39:20.365Z"
   },
   {
    "duration": 38,
    "start_time": "2023-07-20T10:43:17.709Z"
   },
   {
    "duration": 42,
    "start_time": "2023-07-20T10:55:59.669Z"
   },
   {
    "duration": 233,
    "start_time": "2023-07-20T10:58:11.338Z"
   },
   {
    "duration": 231,
    "start_time": "2023-07-20T10:58:28.354Z"
   },
   {
    "duration": 89,
    "start_time": "2023-07-20T11:01:11.178Z"
   },
   {
    "duration": 241,
    "start_time": "2023-07-20T11:03:59.552Z"
   },
   {
    "duration": 101,
    "start_time": "2023-07-20T11:04:18.866Z"
   },
   {
    "duration": 274,
    "start_time": "2023-07-20T11:04:52.183Z"
   },
   {
    "duration": 66,
    "start_time": "2023-07-20T11:09:27.180Z"
   },
   {
    "duration": 9,
    "start_time": "2023-07-20T11:09:50.067Z"
   },
   {
    "duration": 9,
    "start_time": "2023-07-20T11:10:15.636Z"
   },
   {
    "duration": 10,
    "start_time": "2023-07-20T11:10:27.108Z"
   },
   {
    "duration": 113,
    "start_time": "2023-07-20T11:10:35.625Z"
   },
   {
    "duration": 303,
    "start_time": "2023-07-20T11:10:45.908Z"
   },
   {
    "duration": 387,
    "start_time": "2023-07-20T11:13:30.551Z"
   },
   {
    "duration": 512,
    "start_time": "2023-07-20T11:14:30.565Z"
   },
   {
    "duration": 612,
    "start_time": "2023-07-20T11:14:58.207Z"
   },
   {
    "duration": 9,
    "start_time": "2023-07-20T11:15:05.564Z"
   },
   {
    "duration": 586,
    "start_time": "2023-07-20T11:15:22.021Z"
   },
   {
    "duration": 555,
    "start_time": "2023-07-20T11:15:28.271Z"
   },
   {
    "duration": 599,
    "start_time": "2023-07-20T11:15:54.795Z"
   },
   {
    "duration": 15,
    "start_time": "2023-07-20T11:17:24.947Z"
   },
   {
    "duration": 639,
    "start_time": "2023-07-20T11:19:04.948Z"
   },
   {
    "duration": 355,
    "start_time": "2023-07-20T11:19:46.460Z"
   },
   {
    "duration": 11,
    "start_time": "2023-07-20T11:20:05.046Z"
   },
   {
    "duration": 174,
    "start_time": "2023-07-20T11:20:24.359Z"
   },
   {
    "duration": 20,
    "start_time": "2023-07-20T11:20:34.589Z"
   },
   {
    "duration": 582,
    "start_time": "2023-07-20T11:20:51.603Z"
   },
   {
    "duration": 15,
    "start_time": "2023-07-20T11:21:00.740Z"
   },
   {
    "duration": 16,
    "start_time": "2023-07-20T11:21:37.107Z"
   },
   {
    "duration": 7,
    "start_time": "2023-07-20T11:21:53.452Z"
   },
   {
    "duration": 1008,
    "start_time": "2023-07-20T11:21:53.462Z"
   },
   {
    "duration": 113,
    "start_time": "2023-07-20T11:21:54.472Z"
   },
   {
    "duration": 202,
    "start_time": "2023-07-20T11:21:54.587Z"
   },
   {
    "duration": 507,
    "start_time": "2023-07-20T11:21:54.791Z"
   },
   {
    "duration": 1403,
    "start_time": "2023-07-20T11:21:55.300Z"
   },
   {
    "duration": 65,
    "start_time": "2023-07-20T11:21:56.706Z"
   },
   {
    "duration": 21,
    "start_time": "2023-07-20T11:21:56.773Z"
   },
   {
    "duration": 45,
    "start_time": "2023-07-20T11:21:56.796Z"
   },
   {
    "duration": 149,
    "start_time": "2023-07-20T11:21:56.842Z"
   },
   {
    "duration": 34,
    "start_time": "2023-07-20T11:21:56.993Z"
   },
   {
    "duration": 92,
    "start_time": "2023-07-20T11:21:57.029Z"
   },
   {
    "duration": 168,
    "start_time": "2023-07-20T11:21:57.123Z"
   },
   {
    "duration": 106,
    "start_time": "2023-07-20T11:21:57.295Z"
   },
   {
    "duration": 76,
    "start_time": "2023-07-20T11:21:57.403Z"
   },
   {
    "duration": 128,
    "start_time": "2023-07-20T11:21:57.482Z"
   },
   {
    "duration": 95,
    "start_time": "2023-07-20T11:21:57.612Z"
   },
   {
    "duration": 123,
    "start_time": "2023-07-20T11:21:57.722Z"
   },
   {
    "duration": 331,
    "start_time": "2023-07-20T11:21:57.848Z"
   },
   {
    "duration": 10,
    "start_time": "2023-07-20T11:21:58.181Z"
   },
   {
    "duration": 56,
    "start_time": "2023-07-20T11:21:58.193Z"
   },
   {
    "duration": 85,
    "start_time": "2023-07-20T11:21:58.251Z"
   },
   {
    "duration": 6,
    "start_time": "2023-07-20T11:21:58.338Z"
   },
   {
    "duration": 56,
    "start_time": "2023-07-20T11:21:58.346Z"
   },
   {
    "duration": 8,
    "start_time": "2023-07-20T11:21:58.405Z"
   },
   {
    "duration": 69,
    "start_time": "2023-07-20T11:21:58.415Z"
   },
   {
    "duration": 101,
    "start_time": "2023-07-20T11:21:58.487Z"
   },
   {
    "duration": 82,
    "start_time": "2023-07-20T11:21:58.589Z"
   },
   {
    "duration": 420,
    "start_time": "2023-07-20T11:21:58.672Z"
   },
   {
    "duration": 124,
    "start_time": "2023-07-20T11:21:59.094Z"
   },
   {
    "duration": 101,
    "start_time": "2023-07-20T11:21:59.220Z"
   },
   {
    "duration": 32,
    "start_time": "2023-07-20T11:21:59.323Z"
   },
   {
    "duration": 80,
    "start_time": "2023-07-20T11:21:59.357Z"
   },
   {
    "duration": 127,
    "start_time": "2023-07-20T11:21:59.440Z"
   },
   {
    "duration": 31,
    "start_time": "2023-07-20T11:21:59.570Z"
   },
   {
    "duration": 537,
    "start_time": "2023-07-20T11:21:59.603Z"
   },
   {
    "duration": 614,
    "start_time": "2023-07-20T11:22:00.143Z"
   },
   {
    "duration": 17,
    "start_time": "2023-07-20T11:22:12.749Z"
   },
   {
    "duration": 22,
    "start_time": "2023-07-20T11:22:26.388Z"
   },
   {
    "duration": 6,
    "start_time": "2023-07-20T11:22:54.746Z"
   },
   {
    "duration": 971,
    "start_time": "2023-07-20T11:22:54.754Z"
   },
   {
    "duration": 142,
    "start_time": "2023-07-20T11:22:55.730Z"
   },
   {
    "duration": 177,
    "start_time": "2023-07-20T11:22:55.874Z"
   },
   {
    "duration": 524,
    "start_time": "2023-07-20T11:22:56.054Z"
   },
   {
    "duration": 907,
    "start_time": "2023-07-20T11:22:56.581Z"
   },
   {
    "duration": 51,
    "start_time": "2023-07-20T11:22:57.490Z"
   },
   {
    "duration": 33,
    "start_time": "2023-07-20T11:22:57.545Z"
   },
   {
    "duration": 29,
    "start_time": "2023-07-20T11:22:57.580Z"
   },
   {
    "duration": 173,
    "start_time": "2023-07-20T11:22:57.611Z"
   },
   {
    "duration": 52,
    "start_time": "2023-07-20T11:22:57.787Z"
   },
   {
    "duration": 91,
    "start_time": "2023-07-20T11:22:57.842Z"
   },
   {
    "duration": 160,
    "start_time": "2023-07-20T11:22:57.935Z"
   },
   {
    "duration": 120,
    "start_time": "2023-07-20T11:22:58.098Z"
   },
   {
    "duration": 81,
    "start_time": "2023-07-20T11:22:58.219Z"
   },
   {
    "duration": 92,
    "start_time": "2023-07-20T11:22:58.302Z"
   },
   {
    "duration": 106,
    "start_time": "2023-07-20T11:22:58.396Z"
   },
   {
    "duration": 82,
    "start_time": "2023-07-20T11:22:58.503Z"
   },
   {
    "duration": 289,
    "start_time": "2023-07-20T11:22:58.587Z"
   },
   {
    "duration": 8,
    "start_time": "2023-07-20T11:22:58.879Z"
   },
   {
    "duration": 50,
    "start_time": "2023-07-20T11:22:58.888Z"
   },
   {
    "duration": 57,
    "start_time": "2023-07-20T11:22:58.940Z"
   },
   {
    "duration": 3,
    "start_time": "2023-07-20T11:22:58.999Z"
   },
   {
    "duration": 78,
    "start_time": "2023-07-20T11:22:59.004Z"
   },
   {
    "duration": 10,
    "start_time": "2023-07-20T11:22:59.084Z"
   },
   {
    "duration": 47,
    "start_time": "2023-07-20T11:22:59.096Z"
   },
   {
    "duration": 100,
    "start_time": "2023-07-20T11:22:59.144Z"
   },
   {
    "duration": 112,
    "start_time": "2023-07-20T11:22:59.246Z"
   },
   {
    "duration": 450,
    "start_time": "2023-07-20T11:22:59.360Z"
   },
   {
    "duration": 115,
    "start_time": "2023-07-20T11:22:59.811Z"
   },
   {
    "duration": 96,
    "start_time": "2023-07-20T11:22:59.928Z"
   },
   {
    "duration": 40,
    "start_time": "2023-07-20T11:23:00.027Z"
   },
   {
    "duration": 20,
    "start_time": "2023-07-20T11:24:41.646Z"
   },
   {
    "duration": 6,
    "start_time": "2023-07-20T11:24:59.498Z"
   },
   {
    "duration": 835,
    "start_time": "2023-07-20T11:24:59.506Z"
   },
   {
    "duration": 103,
    "start_time": "2023-07-20T11:25:00.344Z"
   },
   {
    "duration": 134,
    "start_time": "2023-07-20T11:25:00.448Z"
   },
   {
    "duration": 616,
    "start_time": "2023-07-20T11:25:00.585Z"
   },
   {
    "duration": 1201,
    "start_time": "2023-07-20T11:25:01.203Z"
   },
   {
    "duration": 48,
    "start_time": "2023-07-20T11:25:02.407Z"
   },
   {
    "duration": 405,
    "start_time": "2023-07-20T11:25:02.457Z"
   },
   {
    "duration": 62,
    "start_time": "2023-07-20T11:25:02.864Z"
   },
   {
    "duration": 150,
    "start_time": "2023-07-20T11:25:02.929Z"
   },
   {
    "duration": 27,
    "start_time": "2023-07-20T11:25:03.080Z"
   },
   {
    "duration": 169,
    "start_time": "2023-07-20T11:25:03.109Z"
   },
   {
    "duration": 121,
    "start_time": "2023-07-20T11:25:03.280Z"
   },
   {
    "duration": 121,
    "start_time": "2023-07-20T11:25:03.405Z"
   },
   {
    "duration": 85,
    "start_time": "2023-07-20T11:25:03.528Z"
   },
   {
    "duration": 148,
    "start_time": "2023-07-20T11:25:03.615Z"
   },
   {
    "duration": 100,
    "start_time": "2023-07-20T11:25:03.765Z"
   },
   {
    "duration": 83,
    "start_time": "2023-07-20T11:25:03.869Z"
   },
   {
    "duration": 282,
    "start_time": "2023-07-20T11:25:03.954Z"
   },
   {
    "duration": 9,
    "start_time": "2023-07-20T11:25:04.238Z"
   },
   {
    "duration": 64,
    "start_time": "2023-07-20T11:25:04.249Z"
   },
   {
    "duration": 69,
    "start_time": "2023-07-20T11:25:04.315Z"
   },
   {
    "duration": 4,
    "start_time": "2023-07-20T11:25:04.385Z"
   },
   {
    "duration": 90,
    "start_time": "2023-07-20T11:25:04.391Z"
   },
   {
    "duration": 17,
    "start_time": "2023-07-20T11:25:04.483Z"
   },
   {
    "duration": 72,
    "start_time": "2023-07-20T11:25:04.502Z"
   },
   {
    "duration": 127,
    "start_time": "2023-07-20T11:25:04.576Z"
   },
   {
    "duration": 80,
    "start_time": "2023-07-20T11:25:04.705Z"
   },
   {
    "duration": 408,
    "start_time": "2023-07-20T11:25:04.787Z"
   },
   {
    "duration": 107,
    "start_time": "2023-07-20T11:25:05.197Z"
   },
   {
    "duration": 118,
    "start_time": "2023-07-20T11:25:05.307Z"
   },
   {
    "duration": 33,
    "start_time": "2023-07-20T11:25:05.426Z"
   },
   {
    "duration": 585,
    "start_time": "2023-07-20T11:25:34.366Z"
   },
   {
    "duration": 15,
    "start_time": "2023-07-20T11:25:37.705Z"
   },
   {
    "duration": 490,
    "start_time": "2023-07-20T11:57:56.368Z"
   },
   {
    "duration": 18,
    "start_time": "2023-07-20T11:58:32.809Z"
   },
   {
    "duration": 5,
    "start_time": "2023-07-20T11:58:48.635Z"
   },
   {
    "duration": 797,
    "start_time": "2023-07-20T11:58:48.642Z"
   },
   {
    "duration": 87,
    "start_time": "2023-07-20T11:58:49.441Z"
   },
   {
    "duration": 121,
    "start_time": "2023-07-20T11:58:49.530Z"
   },
   {
    "duration": 380,
    "start_time": "2023-07-20T11:58:49.653Z"
   },
   {
    "duration": 820,
    "start_time": "2023-07-20T11:58:50.035Z"
   },
   {
    "duration": 31,
    "start_time": "2023-07-20T11:58:50.857Z"
   },
   {
    "duration": 64,
    "start_time": "2023-07-20T11:58:50.890Z"
   },
   {
    "duration": 67,
    "start_time": "2023-07-20T11:58:50.956Z"
   },
   {
    "duration": 175,
    "start_time": "2023-07-20T11:58:51.027Z"
   },
   {
    "duration": 36,
    "start_time": "2023-07-20T11:58:51.204Z"
   },
   {
    "duration": 104,
    "start_time": "2023-07-20T11:58:51.242Z"
   },
   {
    "duration": 90,
    "start_time": "2023-07-20T11:58:51.349Z"
   },
   {
    "duration": 67,
    "start_time": "2023-07-20T11:58:51.440Z"
   },
   {
    "duration": 54,
    "start_time": "2023-07-20T11:58:51.508Z"
   },
   {
    "duration": 90,
    "start_time": "2023-07-20T11:58:51.564Z"
   },
   {
    "duration": 78,
    "start_time": "2023-07-20T11:58:51.656Z"
   },
   {
    "duration": 68,
    "start_time": "2023-07-20T11:58:51.737Z"
   },
   {
    "duration": 341,
    "start_time": "2023-07-20T11:58:51.806Z"
   },
   {
    "duration": 7,
    "start_time": "2023-07-20T11:58:52.148Z"
   },
   {
    "duration": 31,
    "start_time": "2023-07-20T11:58:52.157Z"
   },
   {
    "duration": 64,
    "start_time": "2023-07-20T11:58:52.189Z"
   },
   {
    "duration": 2,
    "start_time": "2023-07-20T11:58:52.255Z"
   },
   {
    "duration": 69,
    "start_time": "2023-07-20T11:58:52.259Z"
   },
   {
    "duration": 15,
    "start_time": "2023-07-20T11:58:52.329Z"
   },
   {
    "duration": 34,
    "start_time": "2023-07-20T11:58:52.345Z"
   },
   {
    "duration": 80,
    "start_time": "2023-07-20T11:58:52.381Z"
   },
   {
    "duration": 84,
    "start_time": "2023-07-20T11:58:52.465Z"
   },
   {
    "duration": 402,
    "start_time": "2023-07-20T11:58:52.551Z"
   },
   {
    "duration": 98,
    "start_time": "2023-07-20T11:58:52.955Z"
   },
   {
    "duration": 86,
    "start_time": "2023-07-20T11:58:53.054Z"
   },
   {
    "duration": 21,
    "start_time": "2023-07-20T11:58:53.142Z"
   },
   {
    "duration": 548,
    "start_time": "2023-07-20T11:58:53.165Z"
   },
   {
    "duration": 13,
    "start_time": "2023-07-20T11:58:53.715Z"
   },
   {
    "duration": 15,
    "start_time": "2023-07-20T11:59:04.170Z"
   },
   {
    "duration": 15,
    "start_time": "2023-07-20T11:59:38.188Z"
   },
   {
    "duration": 4,
    "start_time": "2023-07-20T11:59:44.376Z"
   },
   {
    "duration": 714,
    "start_time": "2023-07-20T11:59:44.382Z"
   },
   {
    "duration": 93,
    "start_time": "2023-07-20T11:59:45.097Z"
   },
   {
    "duration": 111,
    "start_time": "2023-07-20T11:59:45.193Z"
   },
   {
    "duration": 354,
    "start_time": "2023-07-20T11:59:45.305Z"
   },
   {
    "duration": 806,
    "start_time": "2023-07-20T11:59:45.660Z"
   },
   {
    "duration": 34,
    "start_time": "2023-07-20T11:59:46.467Z"
   },
   {
    "duration": 38,
    "start_time": "2023-07-20T11:59:46.503Z"
   },
   {
    "duration": 114,
    "start_time": "2023-07-20T11:59:46.542Z"
   },
   {
    "duration": 110,
    "start_time": "2023-07-20T11:59:46.659Z"
   },
   {
    "duration": 25,
    "start_time": "2023-07-20T11:59:46.770Z"
   },
   {
    "duration": 84,
    "start_time": "2023-07-20T11:59:46.797Z"
   },
   {
    "duration": 85,
    "start_time": "2023-07-20T11:59:46.882Z"
   },
   {
    "duration": 76,
    "start_time": "2023-07-20T11:59:46.969Z"
   },
   {
    "duration": 39,
    "start_time": "2023-07-20T11:59:47.047Z"
   },
   {
    "duration": 103,
    "start_time": "2023-07-20T11:59:47.088Z"
   },
   {
    "duration": 83,
    "start_time": "2023-07-20T11:59:47.193Z"
   },
   {
    "duration": 175,
    "start_time": "2023-07-20T11:59:47.278Z"
   },
   {
    "duration": 243,
    "start_time": "2023-07-20T11:59:47.455Z"
   },
   {
    "duration": 8,
    "start_time": "2023-07-20T11:59:47.700Z"
   },
   {
    "duration": 45,
    "start_time": "2023-07-20T11:59:47.710Z"
   },
   {
    "duration": 79,
    "start_time": "2023-07-20T11:59:47.757Z"
   },
   {
    "duration": 2,
    "start_time": "2023-07-20T11:59:47.838Z"
   },
   {
    "duration": 64,
    "start_time": "2023-07-20T11:59:47.842Z"
   },
   {
    "duration": 27,
    "start_time": "2023-07-20T11:59:47.908Z"
   },
   {
    "duration": 45,
    "start_time": "2023-07-20T11:59:47.937Z"
   },
   {
    "duration": 92,
    "start_time": "2023-07-20T11:59:47.984Z"
   },
   {
    "duration": 170,
    "start_time": "2023-07-20T11:59:48.080Z"
   },
   {
    "duration": 385,
    "start_time": "2023-07-20T11:59:48.251Z"
   },
   {
    "duration": 74,
    "start_time": "2023-07-20T11:59:48.638Z"
   },
   {
    "duration": 75,
    "start_time": "2023-07-20T11:59:48.720Z"
   },
   {
    "duration": 36,
    "start_time": "2023-07-20T11:59:48.797Z"
   },
   {
    "duration": 484,
    "start_time": "2023-07-20T11:59:48.834Z"
   },
   {
    "duration": 16,
    "start_time": "2023-07-20T11:59:49.321Z"
   },
   {
    "duration": 27,
    "start_time": "2023-07-20T11:59:56.444Z"
   },
   {
    "duration": 15,
    "start_time": "2023-07-20T12:00:03.337Z"
   },
   {
    "duration": 4,
    "start_time": "2023-07-20T12:00:11.211Z"
   },
   {
    "duration": 743,
    "start_time": "2023-07-20T12:00:11.217Z"
   },
   {
    "duration": 92,
    "start_time": "2023-07-20T12:00:11.961Z"
   },
   {
    "duration": 113,
    "start_time": "2023-07-20T12:00:12.055Z"
   },
   {
    "duration": 334,
    "start_time": "2023-07-20T12:00:12.169Z"
   },
   {
    "duration": 767,
    "start_time": "2023-07-20T12:00:12.504Z"
   },
   {
    "duration": 28,
    "start_time": "2023-07-20T12:00:13.273Z"
   },
   {
    "duration": 97,
    "start_time": "2023-07-20T12:00:13.303Z"
   },
   {
    "duration": 76,
    "start_time": "2023-07-20T12:00:13.401Z"
   },
   {
    "duration": 125,
    "start_time": "2023-07-20T12:00:13.479Z"
   },
   {
    "duration": 38,
    "start_time": "2023-07-20T12:00:13.605Z"
   },
   {
    "duration": 89,
    "start_time": "2023-07-20T12:00:13.645Z"
   },
   {
    "duration": 87,
    "start_time": "2023-07-20T12:00:13.736Z"
   },
   {
    "duration": 71,
    "start_time": "2023-07-20T12:00:13.826Z"
   },
   {
    "duration": 52,
    "start_time": "2023-07-20T12:00:13.899Z"
   },
   {
    "duration": 111,
    "start_time": "2023-07-20T12:00:13.953Z"
   },
   {
    "duration": 109,
    "start_time": "2023-07-20T12:00:14.066Z"
   },
   {
    "duration": 71,
    "start_time": "2023-07-20T12:00:14.176Z"
   },
   {
    "duration": 234,
    "start_time": "2023-07-20T12:00:14.249Z"
   },
   {
    "duration": 7,
    "start_time": "2023-07-20T12:00:14.484Z"
   },
   {
    "duration": 92,
    "start_time": "2023-07-20T12:00:14.493Z"
   },
   {
    "duration": 66,
    "start_time": "2023-07-20T12:00:14.586Z"
   },
   {
    "duration": 2,
    "start_time": "2023-07-20T12:00:14.654Z"
   },
   {
    "duration": 22,
    "start_time": "2023-07-20T12:00:14.657Z"
   },
   {
    "duration": 15,
    "start_time": "2023-07-20T12:00:14.680Z"
   },
   {
    "duration": 46,
    "start_time": "2023-07-20T12:00:14.696Z"
   },
   {
    "duration": 75,
    "start_time": "2023-07-20T12:00:14.744Z"
   },
   {
    "duration": 64,
    "start_time": "2023-07-20T12:00:14.823Z"
   },
   {
    "duration": 380,
    "start_time": "2023-07-20T12:00:14.889Z"
   },
   {
    "duration": 102,
    "start_time": "2023-07-20T12:00:15.271Z"
   },
   {
    "duration": 90,
    "start_time": "2023-07-20T12:00:15.375Z"
   },
   {
    "duration": 19,
    "start_time": "2023-07-20T12:00:15.466Z"
   },
   {
    "duration": 475,
    "start_time": "2023-07-20T12:00:15.486Z"
   },
   {
    "duration": 10,
    "start_time": "2023-07-20T12:00:15.962Z"
   },
   {
    "duration": 28,
    "start_time": "2023-07-20T12:00:18.749Z"
   },
   {
    "duration": 163,
    "start_time": "2023-07-20T12:02:25.496Z"
   },
   {
    "duration": 36,
    "start_time": "2023-07-20T12:02:47.979Z"
   },
   {
    "duration": 42,
    "start_time": "2023-07-20T12:03:03.361Z"
   },
   {
    "duration": 50,
    "start_time": "2023-07-20T12:03:13.791Z"
   },
   {
    "duration": 51,
    "start_time": "2023-07-20T12:03:26.135Z"
   },
   {
    "duration": 38,
    "start_time": "2023-07-20T12:03:43.962Z"
   },
   {
    "duration": 145,
    "start_time": "2023-07-20T12:03:45.655Z"
   },
   {
    "duration": 37,
    "start_time": "2023-07-20T12:04:00.964Z"
   },
   {
    "duration": 466,
    "start_time": "2023-07-20T12:04:26.185Z"
   },
   {
    "duration": 460,
    "start_time": "2023-07-20T12:04:34.133Z"
   },
   {
    "duration": 12,
    "start_time": "2023-07-20T12:05:42.250Z"
   },
   {
    "duration": 20,
    "start_time": "2023-07-20T12:06:08.697Z"
   },
   {
    "duration": 4,
    "start_time": "2023-07-20T12:06:42.914Z"
   },
   {
    "duration": 720,
    "start_time": "2023-07-20T12:06:42.920Z"
   },
   {
    "duration": 100,
    "start_time": "2023-07-20T12:06:43.641Z"
   },
   {
    "duration": 118,
    "start_time": "2023-07-20T12:06:43.742Z"
   },
   {
    "duration": 360,
    "start_time": "2023-07-20T12:06:43.862Z"
   },
   {
    "duration": 751,
    "start_time": "2023-07-20T12:06:44.223Z"
   },
   {
    "duration": 29,
    "start_time": "2023-07-20T12:06:44.976Z"
   },
   {
    "duration": 71,
    "start_time": "2023-07-20T12:06:45.006Z"
   },
   {
    "duration": 24,
    "start_time": "2023-07-20T12:06:45.079Z"
   },
   {
    "duration": 99,
    "start_time": "2023-07-20T12:06:45.104Z"
   },
   {
    "duration": 35,
    "start_time": "2023-07-20T12:06:45.205Z"
   },
   {
    "duration": 63,
    "start_time": "2023-07-20T12:06:45.242Z"
   },
   {
    "duration": 103,
    "start_time": "2023-07-20T12:06:45.307Z"
   },
   {
    "duration": 89,
    "start_time": "2023-07-20T12:06:45.414Z"
   },
   {
    "duration": 62,
    "start_time": "2023-07-20T12:06:45.505Z"
   },
   {
    "duration": 90,
    "start_time": "2023-07-20T12:06:45.569Z"
   },
   {
    "duration": 76,
    "start_time": "2023-07-20T12:06:45.660Z"
   },
   {
    "duration": 54,
    "start_time": "2023-07-20T12:06:45.738Z"
   },
   {
    "duration": 251,
    "start_time": "2023-07-20T12:06:45.794Z"
   },
   {
    "duration": 7,
    "start_time": "2023-07-20T12:06:46.047Z"
   },
   {
    "duration": 56,
    "start_time": "2023-07-20T12:06:46.055Z"
   },
   {
    "duration": 47,
    "start_time": "2023-07-20T12:06:46.112Z"
   },
   {
    "duration": 2,
    "start_time": "2023-07-20T12:06:46.160Z"
   },
   {
    "duration": 46,
    "start_time": "2023-07-20T12:06:46.163Z"
   },
   {
    "duration": 25,
    "start_time": "2023-07-20T12:06:46.210Z"
   },
   {
    "duration": 30,
    "start_time": "2023-07-20T12:06:46.237Z"
   },
   {
    "duration": 82,
    "start_time": "2023-07-20T12:06:46.269Z"
   },
   {
    "duration": 60,
    "start_time": "2023-07-20T12:06:46.352Z"
   },
   {
    "duration": 350,
    "start_time": "2023-07-20T12:06:46.413Z"
   },
   {
    "duration": 84,
    "start_time": "2023-07-20T12:06:46.764Z"
   },
   {
    "duration": 76,
    "start_time": "2023-07-20T12:06:46.849Z"
   },
   {
    "duration": 20,
    "start_time": "2023-07-20T12:06:46.927Z"
   },
   {
    "duration": 596,
    "start_time": "2023-07-20T12:06:46.949Z"
   },
   {
    "duration": 10,
    "start_time": "2023-07-20T12:06:47.546Z"
   },
   {
    "duration": 34,
    "start_time": "2023-07-20T12:06:47.557Z"
   },
   {
    "duration": 12,
    "start_time": "2023-07-20T12:06:47.593Z"
   },
   {
    "duration": 157,
    "start_time": "2023-07-20T12:06:47.606Z"
   },
   {
    "duration": 19,
    "start_time": "2023-07-20T12:07:32.094Z"
   },
   {
    "duration": 32,
    "start_time": "2023-07-20T12:08:25.480Z"
   },
   {
    "duration": 18,
    "start_time": "2023-07-20T12:08:39.352Z"
   },
   {
    "duration": 23,
    "start_time": "2023-07-20T12:08:55.485Z"
   },
   {
    "duration": 177,
    "start_time": "2023-07-20T12:09:44.895Z"
   },
   {
    "duration": 22,
    "start_time": "2023-07-20T12:10:11.871Z"
   },
   {
    "duration": 24,
    "start_time": "2023-07-20T12:10:29.660Z"
   },
   {
    "duration": 16266,
    "start_time": "2023-07-20T12:11:17.693Z"
   },
   {
    "duration": 3530,
    "start_time": "2023-07-20T12:11:37.701Z"
   },
   {
    "duration": 25,
    "start_time": "2023-07-20T12:21:16.866Z"
   },
   {
    "duration": 14039,
    "start_time": "2023-07-20T12:21:38.458Z"
   },
   {
    "duration": 35,
    "start_time": "2023-07-20T12:22:56.710Z"
   },
   {
    "duration": 31,
    "start_time": "2023-07-20T12:24:07.963Z"
   },
   {
    "duration": 20,
    "start_time": "2023-07-20T12:25:08.028Z"
   },
   {
    "duration": 18,
    "start_time": "2023-07-20T12:26:12.359Z"
   },
   {
    "duration": 365,
    "start_time": "2023-07-20T12:26:36.108Z"
   },
   {
    "duration": 309,
    "start_time": "2023-07-20T12:27:35.813Z"
   },
   {
    "duration": 76,
    "start_time": "2023-07-20T12:27:58.942Z"
   },
   {
    "duration": 1815,
    "start_time": "2023-07-20T12:28:04.684Z"
   },
   {
    "duration": 1013,
    "start_time": "2023-07-20T12:28:06.501Z"
   },
   {
    "duration": 127,
    "start_time": "2023-07-20T12:28:07.515Z"
   },
   {
    "duration": 121,
    "start_time": "2023-07-20T12:28:07.643Z"
   },
   {
    "duration": 443,
    "start_time": "2023-07-20T12:28:07.766Z"
   },
   {
    "duration": 822,
    "start_time": "2023-07-20T12:28:08.211Z"
   },
   {
    "duration": 29,
    "start_time": "2023-07-20T12:28:09.035Z"
   },
   {
    "duration": 15,
    "start_time": "2023-07-20T12:28:09.065Z"
   },
   {
    "duration": 40,
    "start_time": "2023-07-20T12:28:09.081Z"
   },
   {
    "duration": 131,
    "start_time": "2023-07-20T12:28:09.122Z"
   },
   {
    "duration": 27,
    "start_time": "2023-07-20T12:28:09.255Z"
   },
   {
    "duration": 79,
    "start_time": "2023-07-20T12:28:09.284Z"
   },
   {
    "duration": 109,
    "start_time": "2023-07-20T12:28:09.365Z"
   },
   {
    "duration": 83,
    "start_time": "2023-07-20T12:28:09.478Z"
   },
   {
    "duration": 37,
    "start_time": "2023-07-20T12:28:09.563Z"
   },
   {
    "duration": 68,
    "start_time": "2023-07-20T12:28:09.620Z"
   },
   {
    "duration": 79,
    "start_time": "2023-07-20T12:28:09.689Z"
   },
   {
    "duration": 71,
    "start_time": "2023-07-20T12:28:09.770Z"
   },
   {
    "duration": 251,
    "start_time": "2023-07-20T12:28:09.843Z"
   },
   {
    "duration": 10,
    "start_time": "2023-07-20T12:28:10.095Z"
   },
   {
    "duration": 52,
    "start_time": "2023-07-20T12:28:10.106Z"
   },
   {
    "duration": 64,
    "start_time": "2023-07-20T12:28:10.161Z"
   },
   {
    "duration": 3,
    "start_time": "2023-07-20T12:28:10.227Z"
   },
   {
    "duration": 28,
    "start_time": "2023-07-20T12:28:10.231Z"
   },
   {
    "duration": 12,
    "start_time": "2023-07-20T12:28:10.261Z"
   },
   {
    "duration": 37,
    "start_time": "2023-07-20T12:28:10.275Z"
   },
   {
    "duration": 68,
    "start_time": "2023-07-20T12:28:10.314Z"
   },
   {
    "duration": 75,
    "start_time": "2023-07-20T12:28:10.384Z"
   },
   {
    "duration": 366,
    "start_time": "2023-07-20T12:28:10.460Z"
   },
   {
    "duration": 73,
    "start_time": "2023-07-20T12:28:10.828Z"
   },
   {
    "duration": 79,
    "start_time": "2023-07-20T12:28:10.903Z"
   },
   {
    "duration": 40,
    "start_time": "2023-07-20T12:28:10.984Z"
   },
   {
    "duration": 15336,
    "start_time": "2023-07-20T12:28:14.879Z"
   },
   {
    "duration": 34,
    "start_time": "2023-07-20T12:29:33.785Z"
   },
   {
    "duration": 20,
    "start_time": "2023-07-20T12:34:27.335Z"
   },
   {
    "duration": 12,
    "start_time": "2023-07-20T12:34:44.193Z"
   },
   {
    "duration": 14,
    "start_time": "2023-07-20T12:37:07.065Z"
   },
   {
    "duration": 19453,
    "start_time": "2023-07-20T12:37:09.624Z"
   },
   {
    "duration": 554,
    "start_time": "2023-07-20T12:39:00.036Z"
   },
   {
    "duration": 15810,
    "start_time": "2023-07-20T12:39:28.759Z"
   },
   {
    "duration": 139,
    "start_time": "2023-07-20T12:41:36.377Z"
   },
   {
    "duration": 354,
    "start_time": "2023-07-20T12:42:14.622Z"
   },
   {
    "duration": 4,
    "start_time": "2023-07-20T12:42:19.091Z"
   },
   {
    "duration": 698,
    "start_time": "2023-07-20T12:42:19.097Z"
   },
   {
    "duration": 87,
    "start_time": "2023-07-20T12:42:19.797Z"
   },
   {
    "duration": 124,
    "start_time": "2023-07-20T12:42:19.886Z"
   },
   {
    "duration": 340,
    "start_time": "2023-07-20T12:42:20.012Z"
   },
   {
    "duration": 797,
    "start_time": "2023-07-20T12:42:20.354Z"
   },
   {
    "duration": 32,
    "start_time": "2023-07-20T12:42:21.153Z"
   },
   {
    "duration": 69,
    "start_time": "2023-07-20T12:42:21.187Z"
   },
   {
    "duration": 61,
    "start_time": "2023-07-20T12:42:21.257Z"
   },
   {
    "duration": 31,
    "start_time": "2023-07-20T12:42:21.320Z"
   },
   {
    "duration": 104,
    "start_time": "2023-07-20T12:42:21.352Z"
   },
   {
    "duration": 24,
    "start_time": "2023-07-20T12:42:21.458Z"
   },
   {
    "duration": 108,
    "start_time": "2023-07-20T12:42:21.485Z"
   },
   {
    "duration": 88,
    "start_time": "2023-07-20T12:42:21.595Z"
   },
   {
    "duration": 74,
    "start_time": "2023-07-20T12:42:21.684Z"
   },
   {
    "duration": 47,
    "start_time": "2023-07-20T12:42:21.759Z"
   },
   {
    "duration": 72,
    "start_time": "2023-07-20T12:42:21.807Z"
   },
   {
    "duration": 87,
    "start_time": "2023-07-20T12:42:21.880Z"
   },
   {
    "duration": 85,
    "start_time": "2023-07-20T12:42:21.969Z"
   },
   {
    "duration": 239,
    "start_time": "2023-07-20T12:42:22.055Z"
   },
   {
    "duration": 9,
    "start_time": "2023-07-20T12:42:22.296Z"
   },
   {
    "duration": 39,
    "start_time": "2023-07-20T12:42:22.307Z"
   },
   {
    "duration": 44,
    "start_time": "2023-07-20T12:42:22.348Z"
   },
   {
    "duration": 10,
    "start_time": "2023-07-20T12:42:22.393Z"
   },
   {
    "duration": 33,
    "start_time": "2023-07-20T12:42:22.404Z"
   },
   {
    "duration": 15,
    "start_time": "2023-07-20T12:42:22.439Z"
   },
   {
    "duration": 65,
    "start_time": "2023-07-20T12:42:22.455Z"
   },
   {
    "duration": 69,
    "start_time": "2023-07-20T12:42:22.523Z"
   },
   {
    "duration": 65,
    "start_time": "2023-07-20T12:42:22.594Z"
   },
   {
    "duration": 369,
    "start_time": "2023-07-20T12:42:22.660Z"
   },
   {
    "duration": 86,
    "start_time": "2023-07-20T12:42:23.031Z"
   },
   {
    "duration": 0,
    "start_time": "2023-07-20T12:42:23.118Z"
   },
   {
    "duration": 1511,
    "start_time": "2023-07-20T12:42:28.007Z"
   },
   {
    "duration": 739,
    "start_time": "2023-07-20T12:42:29.520Z"
   },
   {
    "duration": 128,
    "start_time": "2023-07-20T12:42:30.260Z"
   },
   {
    "duration": 109,
    "start_time": "2023-07-20T12:42:30.389Z"
   },
   {
    "duration": 421,
    "start_time": "2023-07-20T12:42:30.500Z"
   },
   {
    "duration": 876,
    "start_time": "2023-07-20T12:42:30.922Z"
   },
   {
    "duration": 34,
    "start_time": "2023-07-20T12:42:31.799Z"
   },
   {
    "duration": 81,
    "start_time": "2023-07-20T12:42:31.834Z"
   },
   {
    "duration": 64,
    "start_time": "2023-07-20T12:42:31.916Z"
   },
   {
    "duration": 48,
    "start_time": "2023-07-20T12:42:31.982Z"
   },
   {
    "duration": 122,
    "start_time": "2023-07-20T12:42:32.031Z"
   },
   {
    "duration": 29,
    "start_time": "2023-07-20T12:42:32.154Z"
   },
   {
    "duration": 99,
    "start_time": "2023-07-20T12:42:32.184Z"
   },
   {
    "duration": 127,
    "start_time": "2023-07-20T12:42:32.287Z"
   },
   {
    "duration": 80,
    "start_time": "2023-07-20T12:42:32.415Z"
   },
   {
    "duration": 80,
    "start_time": "2023-07-20T12:42:32.496Z"
   },
   {
    "duration": 78,
    "start_time": "2023-07-20T12:42:32.578Z"
   },
   {
    "duration": 142,
    "start_time": "2023-07-20T12:42:32.658Z"
   },
   {
    "duration": 80,
    "start_time": "2023-07-20T12:42:32.801Z"
   },
   {
    "duration": 234,
    "start_time": "2023-07-20T12:42:32.882Z"
   },
   {
    "duration": 9,
    "start_time": "2023-07-20T12:42:33.119Z"
   },
   {
    "duration": 69,
    "start_time": "2023-07-20T12:42:33.130Z"
   },
   {
    "duration": 51,
    "start_time": "2023-07-20T12:42:33.200Z"
   },
   {
    "duration": 2,
    "start_time": "2023-07-20T12:42:33.252Z"
   },
   {
    "duration": 38,
    "start_time": "2023-07-20T12:42:33.256Z"
   },
   {
    "duration": 36,
    "start_time": "2023-07-20T12:42:33.295Z"
   },
   {
    "duration": 54,
    "start_time": "2023-07-20T12:42:33.333Z"
   },
   {
    "duration": 68,
    "start_time": "2023-07-20T12:42:33.389Z"
   },
   {
    "duration": 74,
    "start_time": "2023-07-20T12:42:33.458Z"
   },
   {
    "duration": 389,
    "start_time": "2023-07-20T12:42:33.533Z"
   },
   {
    "duration": 68,
    "start_time": "2023-07-20T12:42:33.923Z"
   },
   {
    "duration": 0,
    "start_time": "2023-07-20T12:42:33.993Z"
   },
   {
    "duration": 0,
    "start_time": "2023-07-20T12:42:33.994Z"
   },
   {
    "duration": 0,
    "start_time": "2023-07-20T12:42:33.995Z"
   },
   {
    "duration": 0,
    "start_time": "2023-07-20T12:42:33.996Z"
   },
   {
    "duration": 0,
    "start_time": "2023-07-20T12:42:33.997Z"
   },
   {
    "duration": 0,
    "start_time": "2023-07-20T12:42:33.998Z"
   },
   {
    "duration": 0,
    "start_time": "2023-07-20T12:42:33.999Z"
   },
   {
    "duration": 0,
    "start_time": "2023-07-20T12:42:34.000Z"
   },
   {
    "duration": 0,
    "start_time": "2023-07-20T12:42:34.001Z"
   },
   {
    "duration": 0,
    "start_time": "2023-07-20T12:42:34.002Z"
   },
   {
    "duration": 0,
    "start_time": "2023-07-20T12:42:34.003Z"
   },
   {
    "duration": 0,
    "start_time": "2023-07-20T12:42:34.004Z"
   },
   {
    "duration": 0,
    "start_time": "2023-07-20T12:42:34.005Z"
   },
   {
    "duration": 0,
    "start_time": "2023-07-20T12:42:34.006Z"
   },
   {
    "duration": 0,
    "start_time": "2023-07-20T12:42:34.070Z"
   },
   {
    "duration": 0,
    "start_time": "2023-07-20T12:42:34.071Z"
   },
   {
    "duration": 0,
    "start_time": "2023-07-20T12:42:34.072Z"
   },
   {
    "duration": 0,
    "start_time": "2023-07-20T12:42:34.073Z"
   },
   {
    "duration": 0,
    "start_time": "2023-07-20T12:42:34.073Z"
   },
   {
    "duration": 0,
    "start_time": "2023-07-20T12:42:34.074Z"
   },
   {
    "duration": 0,
    "start_time": "2023-07-20T12:42:34.075Z"
   },
   {
    "duration": 0,
    "start_time": "2023-07-20T12:42:34.076Z"
   },
   {
    "duration": 0,
    "start_time": "2023-07-20T12:42:34.077Z"
   },
   {
    "duration": 0,
    "start_time": "2023-07-20T12:42:34.077Z"
   },
   {
    "duration": 0,
    "start_time": "2023-07-20T12:42:34.078Z"
   },
   {
    "duration": 0,
    "start_time": "2023-07-20T12:42:34.079Z"
   },
   {
    "duration": 1,
    "start_time": "2023-07-20T12:42:34.079Z"
   },
   {
    "duration": 0,
    "start_time": "2023-07-20T12:42:34.080Z"
   },
   {
    "duration": 0,
    "start_time": "2023-07-20T12:42:34.081Z"
   },
   {
    "duration": 0,
    "start_time": "2023-07-20T12:42:34.082Z"
   },
   {
    "duration": 0,
    "start_time": "2023-07-20T12:42:34.083Z"
   },
   {
    "duration": 0,
    "start_time": "2023-07-20T12:42:34.084Z"
   },
   {
    "duration": 0,
    "start_time": "2023-07-20T12:42:34.084Z"
   },
   {
    "duration": 0,
    "start_time": "2023-07-20T12:42:34.085Z"
   },
   {
    "duration": 0,
    "start_time": "2023-07-20T12:42:34.086Z"
   },
   {
    "duration": 0,
    "start_time": "2023-07-20T12:42:34.087Z"
   },
   {
    "duration": 316,
    "start_time": "2023-07-20T12:42:52.638Z"
   },
   {
    "duration": 259,
    "start_time": "2023-07-20T12:42:57.214Z"
   },
   {
    "duration": 72,
    "start_time": "2023-07-20T12:43:11.969Z"
   },
   {
    "duration": 5,
    "start_time": "2023-07-20T12:44:06.687Z"
   },
   {
    "duration": 772,
    "start_time": "2023-07-20T12:44:06.694Z"
   },
   {
    "duration": 91,
    "start_time": "2023-07-20T12:44:07.467Z"
   },
   {
    "duration": 106,
    "start_time": "2023-07-20T12:44:07.560Z"
   },
   {
    "duration": 366,
    "start_time": "2023-07-20T12:44:07.668Z"
   },
   {
    "duration": 766,
    "start_time": "2023-07-20T12:44:08.037Z"
   },
   {
    "duration": 38,
    "start_time": "2023-07-20T12:44:08.804Z"
   },
   {
    "duration": 93,
    "start_time": "2023-07-20T12:44:08.844Z"
   },
   {
    "duration": 23,
    "start_time": "2023-07-20T12:44:08.938Z"
   },
   {
    "duration": 21,
    "start_time": "2023-07-20T12:44:08.963Z"
   },
   {
    "duration": 115,
    "start_time": "2023-07-20T12:44:08.985Z"
   },
   {
    "duration": 27,
    "start_time": "2023-07-20T12:44:09.101Z"
   },
   {
    "duration": 76,
    "start_time": "2023-07-20T12:44:09.129Z"
   },
   {
    "duration": 82,
    "start_time": "2023-07-20T12:44:09.207Z"
   },
   {
    "duration": 72,
    "start_time": "2023-07-20T12:44:09.290Z"
   },
   {
    "duration": 56,
    "start_time": "2023-07-20T12:44:09.364Z"
   },
   {
    "duration": 84,
    "start_time": "2023-07-20T12:44:09.421Z"
   },
   {
    "duration": 92,
    "start_time": "2023-07-20T12:44:09.507Z"
   },
   {
    "duration": 73,
    "start_time": "2023-07-20T12:44:09.600Z"
   },
   {
    "duration": 237,
    "start_time": "2023-07-20T12:44:09.675Z"
   },
   {
    "duration": 10,
    "start_time": "2023-07-20T12:44:09.913Z"
   },
   {
    "duration": 76,
    "start_time": "2023-07-20T12:44:09.925Z"
   },
   {
    "duration": 59,
    "start_time": "2023-07-20T12:44:10.003Z"
   },
   {
    "duration": 15,
    "start_time": "2023-07-20T12:44:10.063Z"
   },
   {
    "duration": 63,
    "start_time": "2023-07-20T12:44:10.080Z"
   },
   {
    "duration": 47,
    "start_time": "2023-07-20T12:44:10.144Z"
   },
   {
    "duration": 53,
    "start_time": "2023-07-20T12:44:10.192Z"
   },
   {
    "duration": 65,
    "start_time": "2023-07-20T12:44:10.249Z"
   },
   {
    "duration": 90,
    "start_time": "2023-07-20T12:44:10.319Z"
   },
   {
    "duration": 352,
    "start_time": "2023-07-20T12:44:10.411Z"
   },
   {
    "duration": 280,
    "start_time": "2023-07-20T12:44:10.764Z"
   },
   {
    "duration": 272,
    "start_time": "2023-07-20T12:44:11.046Z"
   },
   {
    "duration": 66,
    "start_time": "2023-07-20T12:44:11.319Z"
   },
   {
    "duration": 60,
    "start_time": "2023-07-20T12:44:22.644Z"
   },
   {
    "duration": 15,
    "start_time": "2023-07-20T12:44:22.706Z"
   },
   {
    "duration": 445,
    "start_time": "2023-07-20T12:44:22.723Z"
   },
   {
    "duration": 438,
    "start_time": "2023-07-20T12:44:23.170Z"
   },
   {
    "duration": 14,
    "start_time": "2023-07-20T12:44:23.609Z"
   },
   {
    "duration": 61,
    "start_time": "2023-07-20T12:44:23.624Z"
   },
   {
    "duration": 22,
    "start_time": "2023-07-20T12:44:23.687Z"
   },
   {
    "duration": 171,
    "start_time": "2023-07-20T12:44:23.711Z"
   },
   {
    "duration": 16,
    "start_time": "2023-07-20T12:44:23.884Z"
   },
   {
    "duration": 141,
    "start_time": "2023-07-20T12:44:23.903Z"
   },
   {
    "duration": 21,
    "start_time": "2023-07-20T12:44:24.046Z"
   },
   {
    "duration": 3060,
    "start_time": "2023-07-20T12:44:24.068Z"
   },
   {
    "duration": 10798,
    "start_time": "2023-07-20T12:44:27.129Z"
   },
   {
    "duration": 349,
    "start_time": "2023-07-20T12:44:37.929Z"
   },
   {
    "duration": 0,
    "start_time": "2023-07-20T12:44:38.280Z"
   },
   {
    "duration": 0,
    "start_time": "2023-07-20T12:44:38.281Z"
   },
   {
    "duration": 0,
    "start_time": "2023-07-20T12:44:38.282Z"
   },
   {
    "duration": 0,
    "start_time": "2023-07-20T12:44:38.283Z"
   },
   {
    "duration": 0,
    "start_time": "2023-07-20T12:44:38.284Z"
   },
   {
    "duration": 0,
    "start_time": "2023-07-20T12:44:38.285Z"
   },
   {
    "duration": 0,
    "start_time": "2023-07-20T12:44:38.286Z"
   },
   {
    "duration": 0,
    "start_time": "2023-07-20T12:44:38.288Z"
   },
   {
    "duration": 0,
    "start_time": "2023-07-20T12:44:38.289Z"
   },
   {
    "duration": 0,
    "start_time": "2023-07-20T12:44:38.291Z"
   },
   {
    "duration": 0,
    "start_time": "2023-07-20T12:44:38.292Z"
   },
   {
    "duration": 0,
    "start_time": "2023-07-20T12:44:38.293Z"
   },
   {
    "duration": 0,
    "start_time": "2023-07-20T12:44:38.321Z"
   },
   {
    "duration": 0,
    "start_time": "2023-07-20T12:44:38.322Z"
   },
   {
    "duration": 0,
    "start_time": "2023-07-20T12:44:38.324Z"
   },
   {
    "duration": 0,
    "start_time": "2023-07-20T12:44:38.325Z"
   },
   {
    "duration": 0,
    "start_time": "2023-07-20T12:44:38.327Z"
   },
   {
    "duration": 0,
    "start_time": "2023-07-20T12:44:38.328Z"
   },
   {
    "duration": 0,
    "start_time": "2023-07-20T12:44:38.329Z"
   },
   {
    "duration": 0,
    "start_time": "2023-07-20T12:44:38.330Z"
   },
   {
    "duration": 19,
    "start_time": "2023-07-20T12:45:54.958Z"
   },
   {
    "duration": 12,
    "start_time": "2023-07-20T12:46:34.337Z"
   },
   {
    "duration": 14,
    "start_time": "2023-07-20T12:47:08.695Z"
   },
   {
    "duration": 11,
    "start_time": "2023-07-20T12:48:24.063Z"
   },
   {
    "duration": 3315,
    "start_time": "2023-07-20T12:48:46.519Z"
   },
   {
    "duration": 23,
    "start_time": "2023-07-20T12:49:16.940Z"
   },
   {
    "duration": 7,
    "start_time": "2023-07-20T12:49:23.446Z"
   },
   {
    "duration": 11,
    "start_time": "2023-07-20T12:49:27.252Z"
   },
   {
    "duration": 5,
    "start_time": "2023-07-20T12:49:30.149Z"
   },
   {
    "duration": 21849,
    "start_time": "2023-07-20T12:49:52.380Z"
   },
   {
    "duration": 344,
    "start_time": "2023-07-20T12:50:51.758Z"
   },
   {
    "duration": 61,
    "start_time": "2023-07-20T12:50:54.379Z"
   },
   {
    "duration": 5,
    "start_time": "2023-07-20T12:50:59.775Z"
   },
   {
    "duration": 29,
    "start_time": "2023-07-20T12:51:05.343Z"
   },
   {
    "duration": 239866,
    "start_time": "2023-07-20T12:51:11.072Z"
   },
   {
    "duration": 8942,
    "start_time": "2023-07-20T13:13:07.540Z"
   },
   {
    "duration": 9340,
    "start_time": "2023-07-20T13:13:24.421Z"
   },
   {
    "duration": 214,
    "start_time": "2023-07-20T13:13:33.763Z"
   },
   {
    "duration": 4,
    "start_time": "2023-07-20T13:13:33.978Z"
   },
   {
    "duration": 49039,
    "start_time": "2023-07-20T13:13:33.984Z"
   },
   {
    "duration": 799,
    "start_time": "2023-07-20T13:14:23.024Z"
   },
   {
    "duration": 201,
    "start_time": "2023-07-20T13:14:23.826Z"
   },
   {
    "duration": 94,
    "start_time": "2023-07-20T13:14:24.029Z"
   },
   {
    "duration": 15,
    "start_time": "2023-07-20T13:14:24.124Z"
   },
   {
    "duration": 8689,
    "start_time": "2023-07-20T13:14:24.140Z"
   },
   {
    "duration": 16,
    "start_time": "2023-07-20T13:14:32.832Z"
   },
   {
    "duration": 51,
    "start_time": "2023-07-20T13:14:32.850Z"
   },
   {
    "duration": 47,
    "start_time": "2023-07-20T13:14:32.902Z"
   },
   {
    "duration": 1457,
    "start_time": "2023-07-20T13:14:32.951Z"
   },
   {
    "duration": 34342,
    "start_time": "2023-07-20T13:19:08.780Z"
   },
   {
    "duration": 10919,
    "start_time": "2023-07-20T13:22:43.219Z"
   },
   {
    "duration": 272,
    "start_time": "2023-07-20T13:23:02.467Z"
   },
   {
    "duration": 5,
    "start_time": "2023-07-20T13:23:04.569Z"
   },
   {
    "duration": 9,
    "start_time": "2023-07-20T13:23:10.521Z"
   },
   {
    "duration": 46,
    "start_time": "2023-07-20T13:26:53.904Z"
   },
   {
    "duration": 61,
    "start_time": "2023-07-20T13:27:03.018Z"
   },
   {
    "duration": 57,
    "start_time": "2023-07-20T13:27:26.956Z"
   },
   {
    "duration": 199,
    "start_time": "2023-07-20T13:28:41.926Z"
   },
   {
    "duration": 2607,
    "start_time": "2023-07-20T17:24:37.025Z"
   },
   {
    "duration": 892,
    "start_time": "2023-07-20T17:24:39.634Z"
   },
   {
    "duration": 139,
    "start_time": "2023-07-20T17:24:40.528Z"
   },
   {
    "duration": 137,
    "start_time": "2023-07-20T17:24:40.669Z"
   },
   {
    "duration": 481,
    "start_time": "2023-07-20T17:24:40.808Z"
   },
   {
    "duration": 1072,
    "start_time": "2023-07-20T17:24:41.291Z"
   },
   {
    "duration": 40,
    "start_time": "2023-07-20T17:24:42.365Z"
   },
   {
    "duration": 31,
    "start_time": "2023-07-20T17:24:42.407Z"
   },
   {
    "duration": 25,
    "start_time": "2023-07-20T17:24:42.439Z"
   },
   {
    "duration": 23,
    "start_time": "2023-07-20T17:24:42.466Z"
   },
   {
    "duration": 117,
    "start_time": "2023-07-20T17:24:42.491Z"
   },
   {
    "duration": 31,
    "start_time": "2023-07-20T17:24:42.609Z"
   },
   {
    "duration": 100,
    "start_time": "2023-07-20T17:24:42.641Z"
   },
   {
    "duration": 98,
    "start_time": "2023-07-20T17:24:42.743Z"
   },
   {
    "duration": 90,
    "start_time": "2023-07-20T17:24:42.842Z"
   },
   {
    "duration": 49,
    "start_time": "2023-07-20T17:24:42.933Z"
   },
   {
    "duration": 96,
    "start_time": "2023-07-20T17:24:42.984Z"
   },
   {
    "duration": 96,
    "start_time": "2023-07-20T17:24:43.081Z"
   },
   {
    "duration": 61,
    "start_time": "2023-07-20T17:24:43.179Z"
   },
   {
    "duration": 318,
    "start_time": "2023-07-20T17:24:43.241Z"
   },
   {
    "duration": 20,
    "start_time": "2023-07-20T17:24:43.560Z"
   },
   {
    "duration": 42,
    "start_time": "2023-07-20T17:24:43.583Z"
   },
   {
    "duration": 63,
    "start_time": "2023-07-20T17:24:43.626Z"
   },
   {
    "duration": 2,
    "start_time": "2023-07-20T17:24:43.691Z"
   },
   {
    "duration": 28,
    "start_time": "2023-07-20T17:24:43.695Z"
   },
   {
    "duration": 19,
    "start_time": "2023-07-20T17:24:43.724Z"
   },
   {
    "duration": 63,
    "start_time": "2023-07-20T17:24:43.745Z"
   },
   {
    "duration": 100,
    "start_time": "2023-07-20T17:24:43.809Z"
   },
   {
    "duration": 80,
    "start_time": "2023-07-20T17:24:43.912Z"
   },
   {
    "duration": 500,
    "start_time": "2023-07-20T17:24:43.994Z"
   },
   {
    "duration": 332,
    "start_time": "2023-07-20T17:24:44.496Z"
   },
   {
    "duration": 287,
    "start_time": "2023-07-20T17:24:44.830Z"
   },
   {
    "duration": 97,
    "start_time": "2023-07-20T17:24:45.119Z"
   },
   {
    "duration": 98,
    "start_time": "2023-07-20T17:24:45.218Z"
   },
   {
    "duration": 113,
    "start_time": "2023-07-20T17:24:45.318Z"
   },
   {
    "duration": 529,
    "start_time": "2023-07-20T17:24:45.433Z"
   },
   {
    "duration": 511,
    "start_time": "2023-07-20T17:24:45.964Z"
   },
   {
    "duration": 14,
    "start_time": "2023-07-20T17:24:46.478Z"
   },
   {
    "duration": 39,
    "start_time": "2023-07-20T17:24:46.493Z"
   },
   {
    "duration": 15,
    "start_time": "2023-07-20T17:24:46.534Z"
   },
   {
    "duration": 179,
    "start_time": "2023-07-20T17:24:46.577Z"
   },
   {
    "duration": 23,
    "start_time": "2023-07-20T17:24:46.758Z"
   },
   {
    "duration": 183,
    "start_time": "2023-07-20T17:24:46.783Z"
   },
   {
    "duration": 34,
    "start_time": "2023-07-20T17:24:46.968Z"
   },
   {
    "duration": 3772,
    "start_time": "2023-07-20T17:24:47.004Z"
   },
   {
    "duration": 33,
    "start_time": "2023-07-20T17:24:50.778Z"
   },
   {
    "duration": 105,
    "start_time": "2023-07-20T17:24:50.874Z"
   },
   {
    "duration": 103,
    "start_time": "2023-07-20T17:24:50.982Z"
   },
   {
    "duration": 24,
    "start_time": "2023-07-20T17:24:51.087Z"
   },
   {
    "duration": 22673,
    "start_time": "2023-07-20T17:24:51.113Z"
   },
   {
    "duration": 374,
    "start_time": "2023-07-20T17:25:13.788Z"
   },
   {
    "duration": 69,
    "start_time": "2023-07-20T17:25:14.164Z"
   },
   {
    "duration": 6,
    "start_time": "2023-07-20T17:25:14.235Z"
   },
   {
    "duration": 241939,
    "start_time": "2023-07-20T17:25:14.243Z"
   },
   {
    "duration": 8448,
    "start_time": "2023-07-20T17:29:16.184Z"
   },
   {
    "duration": 221,
    "start_time": "2023-07-20T17:29:24.633Z"
   },
   {
    "duration": 5,
    "start_time": "2023-07-20T17:29:24.856Z"
   },
   {
    "duration": 24211,
    "start_time": "2023-07-20T17:29:24.875Z"
   },
   {
    "duration": 990,
    "start_time": "2023-07-20T17:29:49.088Z"
   },
   {
    "duration": 203,
    "start_time": "2023-07-20T17:29:50.080Z"
   },
   {
    "duration": 6,
    "start_time": "2023-07-20T17:29:50.284Z"
   },
   {
    "duration": 86,
    "start_time": "2023-07-20T17:29:50.291Z"
   },
   {
    "duration": 88,
    "start_time": "2023-07-20T17:29:50.378Z"
   },
   {
    "duration": 216,
    "start_time": "2023-07-20T17:29:50.468Z"
   },
   {
    "duration": 49,
    "start_time": "2023-07-20T18:29:33.286Z"
   },
   {
    "duration": 1782,
    "start_time": "2023-07-20T18:38:14.552Z"
   },
   {
    "duration": 1203,
    "start_time": "2023-07-20T18:38:16.336Z"
   },
   {
    "duration": 109,
    "start_time": "2023-07-20T18:38:17.541Z"
   },
   {
    "duration": 119,
    "start_time": "2023-07-20T18:38:17.651Z"
   },
   {
    "duration": 541,
    "start_time": "2023-07-20T18:38:17.772Z"
   },
   {
    "duration": 1138,
    "start_time": "2023-07-20T18:38:18.315Z"
   },
   {
    "duration": 40,
    "start_time": "2023-07-20T18:38:19.455Z"
   },
   {
    "duration": 24,
    "start_time": "2023-07-20T18:38:19.496Z"
   },
   {
    "duration": 24,
    "start_time": "2023-07-20T18:38:19.522Z"
   },
   {
    "duration": 24,
    "start_time": "2023-07-20T18:38:19.547Z"
   },
   {
    "duration": 125,
    "start_time": "2023-07-20T18:38:19.572Z"
   },
   {
    "duration": 34,
    "start_time": "2023-07-20T18:38:19.708Z"
   },
   {
    "duration": 82,
    "start_time": "2023-07-20T18:38:19.744Z"
   },
   {
    "duration": 101,
    "start_time": "2023-07-20T18:38:19.829Z"
   },
   {
    "duration": 88,
    "start_time": "2023-07-20T18:38:19.932Z"
   },
   {
    "duration": 81,
    "start_time": "2023-07-20T18:38:20.022Z"
   },
   {
    "duration": 75,
    "start_time": "2023-07-20T18:38:20.105Z"
   },
   {
    "duration": 92,
    "start_time": "2023-07-20T18:38:20.181Z"
   },
   {
    "duration": 94,
    "start_time": "2023-07-20T18:38:20.275Z"
   },
   {
    "duration": 344,
    "start_time": "2023-07-20T18:38:20.370Z"
   },
   {
    "duration": 13,
    "start_time": "2023-07-20T18:38:20.717Z"
   },
   {
    "duration": 44,
    "start_time": "2023-07-20T18:38:20.732Z"
   },
   {
    "duration": 67,
    "start_time": "2023-07-20T18:38:20.778Z"
   },
   {
    "duration": 2,
    "start_time": "2023-07-20T18:38:20.847Z"
   },
   {
    "duration": 41,
    "start_time": "2023-07-20T18:38:20.850Z"
   },
   {
    "duration": 43,
    "start_time": "2023-07-20T18:38:20.892Z"
   },
   {
    "duration": 172,
    "start_time": "2023-07-20T18:38:20.936Z"
   },
   {
    "duration": 70,
    "start_time": "2023-07-20T18:38:21.110Z"
   },
   {
    "duration": 90,
    "start_time": "2023-07-20T18:38:21.182Z"
   },
   {
    "duration": 526,
    "start_time": "2023-07-20T18:38:21.273Z"
   },
   {
    "duration": 337,
    "start_time": "2023-07-20T18:38:21.801Z"
   },
   {
    "duration": 310,
    "start_time": "2023-07-20T18:38:22.141Z"
   },
   {
    "duration": 83,
    "start_time": "2023-07-20T18:38:22.453Z"
   },
   {
    "duration": 114,
    "start_time": "2023-07-20T18:38:22.538Z"
   },
   {
    "duration": 21,
    "start_time": "2023-07-20T18:38:22.654Z"
   },
   {
    "duration": 36,
    "start_time": "2023-07-20T18:38:44.817Z"
   },
   {
    "duration": 47,
    "start_time": "2023-07-20T18:40:33.604Z"
   },
   {
    "duration": 869,
    "start_time": "2023-07-20T18:41:55.468Z"
   },
   {
    "duration": 79,
    "start_time": "2023-07-20T18:45:50.785Z"
   },
   {
    "duration": 557,
    "start_time": "2023-07-20T18:46:15.684Z"
   },
   {
    "duration": 456,
    "start_time": "2023-07-20T18:46:37.456Z"
   },
   {
    "duration": 15,
    "start_time": "2023-07-20T18:46:45.255Z"
   },
   {
    "duration": 46,
    "start_time": "2023-07-20T18:46:50.263Z"
   },
   {
    "duration": 12,
    "start_time": "2023-07-20T18:47:24.622Z"
   },
   {
    "duration": 16,
    "start_time": "2023-07-20T18:47:44.864Z"
   },
   {
    "duration": 14,
    "start_time": "2023-07-20T18:48:36.786Z"
   },
   {
    "duration": 15,
    "start_time": "2023-07-20T18:48:50.148Z"
   },
   {
    "duration": 153,
    "start_time": "2023-07-20T18:50:46.483Z"
   },
   {
    "duration": 155,
    "start_time": "2023-07-20T18:51:01.423Z"
   },
   {
    "duration": 21,
    "start_time": "2023-07-20T18:51:04.852Z"
   },
   {
    "duration": 13443,
    "start_time": "2023-07-20T18:51:53.440Z"
   },
   {
    "duration": 176,
    "start_time": "2023-07-20T18:59:05.513Z"
   },
   {
    "duration": 548,
    "start_time": "2023-07-20T19:01:03.179Z"
   },
   {
    "duration": 20,
    "start_time": "2023-07-20T19:01:41.252Z"
   },
   {
    "duration": 24,
    "start_time": "2023-07-20T19:02:34.316Z"
   },
   {
    "duration": 6,
    "start_time": "2023-07-20T19:02:47.440Z"
   },
   {
    "duration": 1055,
    "start_time": "2023-07-20T19:02:47.448Z"
   },
   {
    "duration": 135,
    "start_time": "2023-07-20T19:02:48.504Z"
   },
   {
    "duration": 153,
    "start_time": "2023-07-20T19:02:48.642Z"
   },
   {
    "duration": 507,
    "start_time": "2023-07-20T19:02:48.798Z"
   },
   {
    "duration": 1234,
    "start_time": "2023-07-20T19:02:49.307Z"
   },
   {
    "duration": 52,
    "start_time": "2023-07-20T19:02:50.543Z"
   },
   {
    "duration": 65,
    "start_time": "2023-07-20T19:02:50.597Z"
   },
   {
    "duration": 40,
    "start_time": "2023-07-20T19:02:50.664Z"
   },
   {
    "duration": 62,
    "start_time": "2023-07-20T19:02:50.706Z"
   },
   {
    "duration": 125,
    "start_time": "2023-07-20T19:02:50.770Z"
   },
   {
    "duration": 50,
    "start_time": "2023-07-20T19:02:50.897Z"
   },
   {
    "duration": 101,
    "start_time": "2023-07-20T19:02:50.950Z"
   },
   {
    "duration": 109,
    "start_time": "2023-07-20T19:02:51.054Z"
   },
   {
    "duration": 98,
    "start_time": "2023-07-20T19:02:51.165Z"
   },
   {
    "duration": 55,
    "start_time": "2023-07-20T19:02:51.265Z"
   },
   {
    "duration": 104,
    "start_time": "2023-07-20T19:02:51.323Z"
   },
   {
    "duration": 139,
    "start_time": "2023-07-20T19:02:51.434Z"
   },
   {
    "duration": 92,
    "start_time": "2023-07-20T19:02:51.575Z"
   },
   {
    "duration": 376,
    "start_time": "2023-07-20T19:02:51.669Z"
   },
   {
    "duration": 11,
    "start_time": "2023-07-20T19:02:52.047Z"
   },
   {
    "duration": 74,
    "start_time": "2023-07-20T19:02:52.060Z"
   },
   {
    "duration": 93,
    "start_time": "2023-07-20T19:02:52.137Z"
   },
   {
    "duration": 19,
    "start_time": "2023-07-20T19:02:52.233Z"
   },
   {
    "duration": 72,
    "start_time": "2023-07-20T19:02:52.254Z"
   },
   {
    "duration": 60,
    "start_time": "2023-07-20T19:02:52.333Z"
   },
   {
    "duration": 87,
    "start_time": "2023-07-20T19:02:52.396Z"
   },
   {
    "duration": 91,
    "start_time": "2023-07-20T19:02:52.484Z"
   },
   {
    "duration": 95,
    "start_time": "2023-07-20T19:02:52.576Z"
   },
   {
    "duration": 510,
    "start_time": "2023-07-20T19:02:52.672Z"
   },
   {
    "duration": 385,
    "start_time": "2023-07-20T19:02:53.183Z"
   },
   {
    "duration": 345,
    "start_time": "2023-07-20T19:02:53.570Z"
   },
   {
    "duration": 99,
    "start_time": "2023-07-20T19:02:53.918Z"
   },
   {
    "duration": 178,
    "start_time": "2023-07-20T19:02:54.019Z"
   },
   {
    "duration": 37,
    "start_time": "2023-07-20T19:02:54.200Z"
   },
   {
    "duration": 16,
    "start_time": "2023-07-20T19:02:54.239Z"
   },
   {
    "duration": 203,
    "start_time": "2023-07-20T19:02:54.259Z"
   },
   {
    "duration": 549,
    "start_time": "2023-07-20T19:02:54.464Z"
   },
   {
    "duration": 19,
    "start_time": "2023-07-20T19:03:00.133Z"
   },
   {
    "duration": 6,
    "start_time": "2023-07-20T19:03:24.267Z"
   },
   {
    "duration": 997,
    "start_time": "2023-07-20T19:03:24.276Z"
   },
   {
    "duration": 111,
    "start_time": "2023-07-20T19:03:25.275Z"
   },
   {
    "duration": 142,
    "start_time": "2023-07-20T19:03:25.388Z"
   },
   {
    "duration": 536,
    "start_time": "2023-07-20T19:03:25.534Z"
   },
   {
    "duration": 1192,
    "start_time": "2023-07-20T19:03:26.072Z"
   },
   {
    "duration": 45,
    "start_time": "2023-07-20T19:03:27.266Z"
   },
   {
    "duration": 46,
    "start_time": "2023-07-20T19:03:27.314Z"
   },
   {
    "duration": 31,
    "start_time": "2023-07-20T19:03:27.362Z"
   },
   {
    "duration": 38,
    "start_time": "2023-07-20T19:03:27.395Z"
   },
   {
    "duration": 132,
    "start_time": "2023-07-20T19:03:27.436Z"
   },
   {
    "duration": 29,
    "start_time": "2023-07-20T19:03:27.569Z"
   },
   {
    "duration": 96,
    "start_time": "2023-07-20T19:03:27.600Z"
   },
   {
    "duration": 112,
    "start_time": "2023-07-20T19:03:27.700Z"
   },
   {
    "duration": 114,
    "start_time": "2023-07-20T19:03:27.815Z"
   },
   {
    "duration": 65,
    "start_time": "2023-07-20T19:03:27.934Z"
   },
   {
    "duration": 101,
    "start_time": "2023-07-20T19:03:28.001Z"
   },
   {
    "duration": 97,
    "start_time": "2023-07-20T19:03:28.104Z"
   },
   {
    "duration": 104,
    "start_time": "2023-07-20T19:03:28.203Z"
   },
   {
    "duration": 365,
    "start_time": "2023-07-20T19:03:28.309Z"
   },
   {
    "duration": 11,
    "start_time": "2023-07-20T19:03:28.676Z"
   },
   {
    "duration": 81,
    "start_time": "2023-07-20T19:03:28.689Z"
   },
   {
    "duration": 84,
    "start_time": "2023-07-20T19:03:28.771Z"
   },
   {
    "duration": 3,
    "start_time": "2023-07-20T19:03:28.857Z"
   },
   {
    "duration": 27,
    "start_time": "2023-07-20T19:03:28.862Z"
   },
   {
    "duration": 14,
    "start_time": "2023-07-20T19:03:28.891Z"
   },
   {
    "duration": 106,
    "start_time": "2023-07-20T19:03:28.907Z"
   },
   {
    "duration": 87,
    "start_time": "2023-07-20T19:03:29.015Z"
   },
   {
    "duration": 205,
    "start_time": "2023-07-20T19:03:29.113Z"
   },
   {
    "duration": 486,
    "start_time": "2023-07-20T19:03:29.320Z"
   },
   {
    "duration": 368,
    "start_time": "2023-07-20T19:03:29.807Z"
   },
   {
    "duration": 325,
    "start_time": "2023-07-20T19:03:30.177Z"
   },
   {
    "duration": 175,
    "start_time": "2023-07-20T19:03:30.509Z"
   },
   {
    "duration": 129,
    "start_time": "2023-07-20T19:03:30.686Z"
   },
   {
    "duration": 28,
    "start_time": "2023-07-20T19:03:30.818Z"
   },
   {
    "duration": 50,
    "start_time": "2023-07-20T19:03:30.847Z"
   },
   {
    "duration": 950,
    "start_time": "2023-07-20T19:03:33.106Z"
   },
   {
    "duration": 626,
    "start_time": "2023-07-20T19:03:35.244Z"
   },
   {
    "duration": 115,
    "start_time": "2023-07-20T19:03:38.959Z"
   },
   {
    "duration": 20,
    "start_time": "2023-07-20T19:04:07.960Z"
   },
   {
    "duration": 6,
    "start_time": "2023-07-20T19:04:15.014Z"
   },
   {
    "duration": 1632,
    "start_time": "2023-07-20T19:06:33.560Z"
   },
   {
    "duration": 990,
    "start_time": "2023-07-20T19:06:35.194Z"
   },
   {
    "duration": 148,
    "start_time": "2023-07-20T19:06:36.186Z"
   },
   {
    "duration": 177,
    "start_time": "2023-07-20T19:06:36.337Z"
   },
   {
    "duration": 590,
    "start_time": "2023-07-20T19:06:36.518Z"
   },
   {
    "duration": 1193,
    "start_time": "2023-07-20T19:06:37.111Z"
   },
   {
    "duration": 42,
    "start_time": "2023-07-20T19:06:38.306Z"
   },
   {
    "duration": 29,
    "start_time": "2023-07-20T19:06:38.350Z"
   },
   {
    "duration": 55,
    "start_time": "2023-07-20T19:06:38.381Z"
   },
   {
    "duration": 42,
    "start_time": "2023-07-20T19:06:38.439Z"
   },
   {
    "duration": 135,
    "start_time": "2023-07-20T19:06:38.483Z"
   },
   {
    "duration": 36,
    "start_time": "2023-07-20T19:06:38.621Z"
   },
   {
    "duration": 109,
    "start_time": "2023-07-20T19:06:38.659Z"
   },
   {
    "duration": 176,
    "start_time": "2023-07-20T19:06:38.770Z"
   },
   {
    "duration": 83,
    "start_time": "2023-07-20T19:06:38.948Z"
   },
   {
    "duration": 213,
    "start_time": "2023-07-20T19:06:39.033Z"
   },
   {
    "duration": 157,
    "start_time": "2023-07-20T19:06:39.248Z"
   },
   {
    "duration": 127,
    "start_time": "2023-07-20T19:06:39.406Z"
   },
   {
    "duration": 153,
    "start_time": "2023-07-20T19:06:39.535Z"
   },
   {
    "duration": 315,
    "start_time": "2023-07-20T19:06:39.690Z"
   },
   {
    "duration": 17,
    "start_time": "2023-07-20T19:06:40.006Z"
   },
   {
    "duration": 121,
    "start_time": "2023-07-20T19:06:40.024Z"
   },
   {
    "duration": 64,
    "start_time": "2023-07-20T19:06:40.147Z"
   },
   {
    "duration": 4,
    "start_time": "2023-07-20T19:06:40.214Z"
   },
   {
    "duration": 53,
    "start_time": "2023-07-20T19:06:40.220Z"
   },
   {
    "duration": 60,
    "start_time": "2023-07-20T19:06:40.276Z"
   },
   {
    "duration": 80,
    "start_time": "2023-07-20T19:06:40.338Z"
   },
   {
    "duration": 75,
    "start_time": "2023-07-20T19:06:40.424Z"
   },
   {
    "duration": 130,
    "start_time": "2023-07-20T19:06:40.501Z"
   },
   {
    "duration": 462,
    "start_time": "2023-07-20T19:06:40.634Z"
   },
   {
    "duration": 372,
    "start_time": "2023-07-20T19:06:41.098Z"
   },
   {
    "duration": 329,
    "start_time": "2023-07-20T19:06:41.472Z"
   },
   {
    "duration": 87,
    "start_time": "2023-07-20T19:06:41.802Z"
   },
   {
    "duration": 140,
    "start_time": "2023-07-20T19:06:41.891Z"
   },
   {
    "duration": 135,
    "start_time": "2023-07-20T19:06:42.034Z"
   },
   {
    "duration": 39,
    "start_time": "2023-07-20T19:06:42.170Z"
   },
   {
    "duration": 1083,
    "start_time": "2023-07-20T19:06:42.211Z"
   },
   {
    "duration": 599,
    "start_time": "2023-07-20T19:06:43.296Z"
   },
   {
    "duration": 127,
    "start_time": "2023-07-20T19:06:43.897Z"
   },
   {
    "duration": 7,
    "start_time": "2023-07-20T19:06:44.026Z"
   },
   {
    "duration": 595,
    "start_time": "2023-07-20T19:06:44.035Z"
   },
   {
    "duration": 16,
    "start_time": "2023-07-20T19:06:44.634Z"
   },
   {
    "duration": 123,
    "start_time": "2023-07-20T19:06:44.652Z"
   },
   {
    "duration": 59,
    "start_time": "2023-07-20T19:06:44.777Z"
   },
   {
    "duration": 235,
    "start_time": "2023-07-20T19:06:44.838Z"
   },
   {
    "duration": 23,
    "start_time": "2023-07-20T19:06:45.075Z"
   },
   {
    "duration": 240,
    "start_time": "2023-07-20T19:06:45.099Z"
   },
   {
    "duration": 22,
    "start_time": "2023-07-20T19:06:45.341Z"
   },
   {
    "duration": 259,
    "start_time": "2023-07-20T19:06:45.365Z"
   },
   {
    "duration": 45,
    "start_time": "2023-07-20T19:06:45.626Z"
   },
   {
    "duration": 10,
    "start_time": "2023-07-20T19:43:52.212Z"
   },
   {
    "duration": 5,
    "start_time": "2023-07-20T20:29:55.131Z"
   },
   {
    "duration": 6,
    "start_time": "2023-07-20T20:30:01.062Z"
   },
   {
    "duration": 915,
    "start_time": "2023-07-20T20:30:01.070Z"
   },
   {
    "duration": 112,
    "start_time": "2023-07-20T20:30:01.987Z"
   },
   {
    "duration": 115,
    "start_time": "2023-07-20T20:30:02.108Z"
   },
   {
    "duration": 492,
    "start_time": "2023-07-20T20:30:02.225Z"
   },
   {
    "duration": 940,
    "start_time": "2023-07-20T20:30:02.719Z"
   },
   {
    "duration": 29,
    "start_time": "2023-07-20T20:30:03.661Z"
   },
   {
    "duration": 55,
    "start_time": "2023-07-20T20:30:03.692Z"
   },
   {
    "duration": 76,
    "start_time": "2023-07-20T20:30:03.748Z"
   },
   {
    "duration": 26,
    "start_time": "2023-07-20T20:30:03.826Z"
   },
   {
    "duration": 119,
    "start_time": "2023-07-20T20:30:03.854Z"
   },
   {
    "duration": 46,
    "start_time": "2023-07-20T20:30:03.975Z"
   },
   {
    "duration": 87,
    "start_time": "2023-07-20T20:30:04.023Z"
   },
   {
    "duration": 111,
    "start_time": "2023-07-20T20:30:04.114Z"
   },
   {
    "duration": 72,
    "start_time": "2023-07-20T20:30:04.227Z"
   },
   {
    "duration": 48,
    "start_time": "2023-07-20T20:30:04.300Z"
   },
   {
    "duration": 88,
    "start_time": "2023-07-20T20:30:04.350Z"
   },
   {
    "duration": 88,
    "start_time": "2023-07-20T20:30:04.439Z"
   },
   {
    "duration": 63,
    "start_time": "2023-07-20T20:30:04.529Z"
   },
   {
    "duration": 276,
    "start_time": "2023-07-20T20:30:04.594Z"
   },
   {
    "duration": 11,
    "start_time": "2023-07-20T20:30:04.872Z"
   },
   {
    "duration": 61,
    "start_time": "2023-07-20T20:30:04.885Z"
   },
   {
    "duration": 48,
    "start_time": "2023-07-20T20:30:04.947Z"
   },
   {
    "duration": 3,
    "start_time": "2023-07-20T20:30:05.009Z"
   },
   {
    "duration": 24,
    "start_time": "2023-07-20T20:30:05.014Z"
   },
   {
    "duration": 13,
    "start_time": "2023-07-20T20:30:05.041Z"
   },
   {
    "duration": 71,
    "start_time": "2023-07-20T20:30:05.056Z"
   },
   {
    "duration": 91,
    "start_time": "2023-07-20T20:30:05.129Z"
   },
   {
    "duration": 106,
    "start_time": "2023-07-20T20:30:05.222Z"
   },
   {
    "duration": 444,
    "start_time": "2023-07-20T20:30:05.330Z"
   },
   {
    "duration": 342,
    "start_time": "2023-07-20T20:30:05.776Z"
   },
   {
    "duration": 276,
    "start_time": "2023-07-20T20:30:06.119Z"
   },
   {
    "duration": 78,
    "start_time": "2023-07-20T20:30:06.397Z"
   },
   {
    "duration": 111,
    "start_time": "2023-07-20T20:30:06.477Z"
   },
   {
    "duration": 29,
    "start_time": "2023-07-20T20:30:06.590Z"
   },
   {
    "duration": 11,
    "start_time": "2023-07-20T20:30:06.621Z"
   },
   {
    "duration": 744,
    "start_time": "2023-07-20T20:30:06.634Z"
   },
   {
    "duration": 531,
    "start_time": "2023-07-20T20:30:07.380Z"
   },
   {
    "duration": 124,
    "start_time": "2023-07-20T20:30:07.913Z"
   },
   {
    "duration": 5,
    "start_time": "2023-07-20T20:30:08.039Z"
   },
   {
    "duration": 439,
    "start_time": "2023-07-20T20:30:08.050Z"
   },
   {
    "duration": 24,
    "start_time": "2023-07-20T20:30:08.491Z"
   },
   {
    "duration": 115,
    "start_time": "2023-07-20T20:30:08.517Z"
   },
   {
    "duration": 16,
    "start_time": "2023-07-20T20:30:08.634Z"
   },
   {
    "duration": 168,
    "start_time": "2023-07-20T20:30:08.652Z"
   },
   {
    "duration": 21,
    "start_time": "2023-07-20T20:30:08.822Z"
   },
   {
    "duration": 193,
    "start_time": "2023-07-20T20:30:08.844Z"
   },
   {
    "duration": 19,
    "start_time": "2023-07-20T20:30:09.039Z"
   },
   {
    "duration": 181,
    "start_time": "2023-07-20T20:30:09.060Z"
   },
   {
    "duration": 28,
    "start_time": "2023-07-20T20:30:09.243Z"
   },
   {
    "duration": 212241,
    "start_time": "2023-07-20T20:30:09.273Z"
   },
   {
    "duration": 10900,
    "start_time": "2023-07-20T20:33:41.516Z"
   },
   {
    "duration": 390,
    "start_time": "2023-07-20T20:33:52.418Z"
   },
   {
    "duration": 103,
    "start_time": "2023-07-20T20:33:52.810Z"
   },
   {
    "duration": 37,
    "start_time": "2023-07-20T20:33:52.915Z"
   },
   {
    "duration": 21817,
    "start_time": "2023-07-20T20:33:52.955Z"
   },
   {
    "duration": 362,
    "start_time": "2023-07-20T20:34:14.774Z"
   },
   {
    "duration": 74,
    "start_time": "2023-07-20T20:34:15.138Z"
   },
   {
    "duration": 5,
    "start_time": "2023-07-20T20:34:15.214Z"
   },
   {
    "duration": 233346,
    "start_time": "2023-07-20T20:34:15.220Z"
   },
   {
    "duration": 8709,
    "start_time": "2023-07-20T20:38:08.569Z"
   },
   {
    "duration": 229,
    "start_time": "2023-07-20T20:38:17.280Z"
   },
   {
    "duration": 16,
    "start_time": "2023-07-20T20:38:17.511Z"
   },
   {
    "duration": 23281,
    "start_time": "2023-07-20T20:38:17.528Z"
   },
   {
    "duration": 806,
    "start_time": "2023-07-20T20:38:40.811Z"
   },
   {
    "duration": 292,
    "start_time": "2023-07-20T20:38:41.618Z"
   },
   {
    "duration": 6,
    "start_time": "2023-07-20T20:38:41.911Z"
   },
   {
    "duration": 13,
    "start_time": "2023-07-20T20:38:41.919Z"
   },
   {
    "duration": 119,
    "start_time": "2023-07-20T20:38:41.934Z"
   },
   {
    "duration": 262,
    "start_time": "2023-07-20T20:38:42.055Z"
   },
   {
    "duration": 12,
    "start_time": "2023-07-20T20:39:33.931Z"
   },
   {
    "duration": 12,
    "start_time": "2023-07-20T20:39:36.160Z"
   },
   {
    "duration": 21,
    "start_time": "2023-07-20T20:42:04.410Z"
   },
   {
    "duration": 8,
    "start_time": "2023-07-20T20:42:43.732Z"
   },
   {
    "duration": 16,
    "start_time": "2023-07-20T20:43:25.244Z"
   },
   {
    "duration": 2638,
    "start_time": "2023-07-21T12:36:46.613Z"
   },
   {
    "duration": 940,
    "start_time": "2023-07-21T12:36:49.252Z"
   },
   {
    "duration": 113,
    "start_time": "2023-07-21T12:36:50.194Z"
   },
   {
    "duration": 112,
    "start_time": "2023-07-21T12:36:50.309Z"
   },
   {
    "duration": 393,
    "start_time": "2023-07-21T12:36:50.422Z"
   },
   {
    "duration": 901,
    "start_time": "2023-07-21T12:36:50.819Z"
   },
   {
    "duration": 29,
    "start_time": "2023-07-21T12:36:51.721Z"
   },
   {
    "duration": 45,
    "start_time": "2023-07-21T12:36:51.752Z"
   },
   {
    "duration": 32,
    "start_time": "2023-07-21T12:36:51.799Z"
   },
   {
    "duration": 32,
    "start_time": "2023-07-21T12:36:51.835Z"
   },
   {
    "duration": 107,
    "start_time": "2023-07-21T12:36:51.868Z"
   },
   {
    "duration": 29,
    "start_time": "2023-07-21T12:36:51.977Z"
   },
   {
    "duration": 82,
    "start_time": "2023-07-21T12:36:52.008Z"
   },
   {
    "duration": 96,
    "start_time": "2023-07-21T12:36:52.091Z"
   },
   {
    "duration": 72,
    "start_time": "2023-07-21T12:36:52.189Z"
   },
   {
    "duration": 61,
    "start_time": "2023-07-21T12:36:52.263Z"
   },
   {
    "duration": 81,
    "start_time": "2023-07-21T12:36:52.326Z"
   },
   {
    "duration": 78,
    "start_time": "2023-07-21T12:36:52.408Z"
   },
   {
    "duration": 60,
    "start_time": "2023-07-21T12:36:52.487Z"
   },
   {
    "duration": 235,
    "start_time": "2023-07-21T12:36:52.548Z"
   },
   {
    "duration": 9,
    "start_time": "2023-07-21T12:36:52.784Z"
   },
   {
    "duration": 48,
    "start_time": "2023-07-21T12:36:52.794Z"
   },
   {
    "duration": 44,
    "start_time": "2023-07-21T12:36:52.844Z"
   },
   {
    "duration": 2,
    "start_time": "2023-07-21T12:36:52.889Z"
   },
   {
    "duration": 36,
    "start_time": "2023-07-21T12:36:52.894Z"
   },
   {
    "duration": 10,
    "start_time": "2023-07-21T12:36:52.932Z"
   },
   {
    "duration": 60,
    "start_time": "2023-07-21T12:36:52.943Z"
   },
   {
    "duration": 78,
    "start_time": "2023-07-21T12:36:53.006Z"
   },
   {
    "duration": 84,
    "start_time": "2023-07-21T12:36:53.085Z"
   },
   {
    "duration": 363,
    "start_time": "2023-07-21T12:36:53.171Z"
   },
   {
    "duration": 296,
    "start_time": "2023-07-21T12:36:53.536Z"
   },
   {
    "duration": 260,
    "start_time": "2023-07-21T12:36:53.834Z"
   },
   {
    "duration": 79,
    "start_time": "2023-07-21T12:36:54.095Z"
   },
   {
    "duration": 76,
    "start_time": "2023-07-21T12:36:54.176Z"
   },
   {
    "duration": 87,
    "start_time": "2023-07-21T12:36:54.254Z"
   },
   {
    "duration": 25,
    "start_time": "2023-07-21T12:36:54.343Z"
   },
   {
    "duration": 455,
    "start_time": "2023-07-21T12:36:54.370Z"
   },
   {
    "duration": 341,
    "start_time": "2023-07-21T12:36:54.827Z"
   },
   {
    "duration": 15,
    "start_time": "2023-07-21T12:36:55.170Z"
   },
   {
    "duration": 97,
    "start_time": "2023-07-21T12:36:55.187Z"
   },
   {
    "duration": 6,
    "start_time": "2023-07-21T12:36:55.286Z"
   },
   {
    "duration": 442,
    "start_time": "2023-07-21T12:36:55.294Z"
   },
   {
    "duration": 14,
    "start_time": "2023-07-21T12:36:55.738Z"
   },
   {
    "duration": 39,
    "start_time": "2023-07-21T12:36:55.753Z"
   },
   {
    "duration": 29,
    "start_time": "2023-07-21T12:36:55.794Z"
   },
   {
    "duration": 171,
    "start_time": "2023-07-21T12:36:55.824Z"
   },
   {
    "duration": 34,
    "start_time": "2023-07-21T12:36:55.996Z"
   },
   {
    "duration": 160,
    "start_time": "2023-07-21T12:36:56.032Z"
   },
   {
    "duration": 17,
    "start_time": "2023-07-21T12:36:56.194Z"
   },
   {
    "duration": 146,
    "start_time": "2023-07-21T12:36:56.219Z"
   },
   {
    "duration": 32,
    "start_time": "2023-07-21T12:36:56.367Z"
   },
   {
    "duration": 238320,
    "start_time": "2023-07-21T12:36:56.401Z"
   },
   {
    "duration": 13900,
    "start_time": "2023-07-21T12:40:54.723Z"
   },
   {
    "duration": 297,
    "start_time": "2023-07-21T12:41:08.625Z"
   },
   {
    "duration": 96,
    "start_time": "2023-07-21T12:41:08.924Z"
   },
   {
    "duration": 7,
    "start_time": "2023-07-21T12:41:09.022Z"
   },
   {
    "duration": 20839,
    "start_time": "2023-07-21T12:41:09.031Z"
   },
   {
    "duration": 354,
    "start_time": "2023-07-21T12:41:29.871Z"
   },
   {
    "duration": 58,
    "start_time": "2023-07-21T12:41:30.226Z"
   },
   {
    "duration": 55,
    "start_time": "2023-07-21T12:41:30.286Z"
   },
   {
    "duration": 250698,
    "start_time": "2023-07-21T12:41:30.343Z"
   },
   {
    "duration": 7670,
    "start_time": "2023-07-21T12:45:41.042Z"
   },
   {
    "duration": 228,
    "start_time": "2023-07-21T12:45:48.714Z"
   },
   {
    "duration": 6,
    "start_time": "2023-07-21T12:45:48.943Z"
   },
   {
    "duration": 39369,
    "start_time": "2023-07-21T12:45:48.951Z"
   },
   {
    "duration": 907,
    "start_time": "2023-07-21T12:46:28.322Z"
   },
   {
    "duration": 205,
    "start_time": "2023-07-21T12:46:29.321Z"
   },
   {
    "duration": 96,
    "start_time": "2023-07-21T12:46:29.528Z"
   },
   {
    "duration": 11,
    "start_time": "2023-07-21T12:46:29.625Z"
   },
   {
    "duration": 58,
    "start_time": "2023-07-21T12:46:29.638Z"
   },
   {
    "duration": 229,
    "start_time": "2023-07-21T12:46:29.697Z"
   },
   {
    "duration": 1830,
    "start_time": "2023-07-21T19:56:51.580Z"
   },
   {
    "duration": 1333,
    "start_time": "2023-07-21T19:56:53.412Z"
   },
   {
    "duration": 111,
    "start_time": "2023-07-21T19:56:54.747Z"
   },
   {
    "duration": 134,
    "start_time": "2023-07-21T19:56:54.861Z"
   },
   {
    "duration": 529,
    "start_time": "2023-07-21T19:56:54.998Z"
   },
   {
    "duration": 1109,
    "start_time": "2023-07-21T19:56:55.529Z"
   },
   {
    "duration": 44,
    "start_time": "2023-07-21T19:56:56.640Z"
   },
   {
    "duration": 35,
    "start_time": "2023-07-21T19:56:56.686Z"
   },
   {
    "duration": 22,
    "start_time": "2023-07-21T19:56:56.723Z"
   },
   {
    "duration": 40,
    "start_time": "2023-07-21T19:56:56.746Z"
   },
   {
    "duration": 125,
    "start_time": "2023-07-21T19:56:56.789Z"
   },
   {
    "duration": 45,
    "start_time": "2023-07-21T19:56:56.916Z"
   },
   {
    "duration": 102,
    "start_time": "2023-07-21T19:56:56.963Z"
   },
   {
    "duration": 120,
    "start_time": "2023-07-21T19:56:57.071Z"
   },
   {
    "duration": 94,
    "start_time": "2023-07-21T19:56:57.193Z"
   },
   {
    "duration": 44,
    "start_time": "2023-07-21T19:56:57.294Z"
   },
   {
    "duration": 85,
    "start_time": "2023-07-21T19:56:57.340Z"
   },
   {
    "duration": 95,
    "start_time": "2023-07-21T19:56:57.427Z"
   },
   {
    "duration": 86,
    "start_time": "2023-07-21T19:56:57.524Z"
   },
   {
    "duration": 332,
    "start_time": "2023-07-21T19:56:57.612Z"
   },
   {
    "duration": 14,
    "start_time": "2023-07-21T19:56:57.955Z"
   },
   {
    "duration": 68,
    "start_time": "2023-07-21T19:56:57.970Z"
   },
   {
    "duration": 63,
    "start_time": "2023-07-21T19:56:58.040Z"
   },
   {
    "duration": 2,
    "start_time": "2023-07-21T19:56:58.105Z"
   },
   {
    "duration": 26,
    "start_time": "2023-07-21T19:56:58.109Z"
   },
   {
    "duration": 109,
    "start_time": "2023-07-21T19:56:58.136Z"
   },
   {
    "duration": 81,
    "start_time": "2023-07-21T19:56:58.247Z"
   },
   {
    "duration": 105,
    "start_time": "2023-07-21T19:56:58.331Z"
   },
   {
    "duration": 82,
    "start_time": "2023-07-21T19:56:58.438Z"
   },
   {
    "duration": 498,
    "start_time": "2023-07-21T19:56:58.524Z"
   },
   {
    "duration": 352,
    "start_time": "2023-07-21T19:56:59.023Z"
   },
   {
    "duration": 315,
    "start_time": "2023-07-21T19:56:59.386Z"
   },
   {
    "duration": 79,
    "start_time": "2023-07-21T19:56:59.703Z"
   },
   {
    "duration": 114,
    "start_time": "2023-07-21T19:56:59.786Z"
   },
   {
    "duration": 19,
    "start_time": "2023-07-21T19:56:59.902Z"
   },
   {
    "duration": 55,
    "start_time": "2023-07-21T19:56:59.922Z"
   },
   {
    "duration": 853,
    "start_time": "2023-07-21T19:56:59.979Z"
   },
   {
    "duration": 571,
    "start_time": "2023-07-21T19:57:00.834Z"
   },
   {
    "duration": 15,
    "start_time": "2023-07-21T19:57:01.407Z"
   },
   {
    "duration": 176,
    "start_time": "2023-07-21T19:57:01.424Z"
   },
   {
    "duration": 7,
    "start_time": "2023-07-21T19:57:01.603Z"
   },
   {
    "duration": 617,
    "start_time": "2023-07-21T19:57:01.612Z"
   },
   {
    "duration": 15,
    "start_time": "2023-07-21T19:57:02.231Z"
   },
   {
    "duration": 81,
    "start_time": "2023-07-21T19:57:02.261Z"
   },
   {
    "duration": 26,
    "start_time": "2023-07-21T19:57:02.343Z"
   },
   {
    "duration": 206,
    "start_time": "2023-07-21T19:57:02.378Z"
   },
   {
    "duration": 126,
    "start_time": "2023-07-21T19:57:47.383Z"
   },
   {
    "duration": 8,
    "start_time": "2023-07-21T19:58:04.480Z"
   },
   {
    "duration": 26,
    "start_time": "2023-07-21T19:58:14.231Z"
   },
   {
    "duration": 293,
    "start_time": "2023-07-21T19:59:37.892Z"
   },
   {
    "duration": 5,
    "start_time": "2023-07-21T20:00:16.973Z"
   },
   {
    "duration": 1742,
    "start_time": "2023-07-21T20:00:46.735Z"
   }
  ],
  "kernelspec": {
   "display_name": "Python 3 (ipykernel)",
   "language": "python",
   "name": "python3"
  },
  "language_info": {
   "codemirror_mode": {
    "name": "ipython",
    "version": 3
   },
   "file_extension": ".py",
   "mimetype": "text/x-python",
   "name": "python",
   "nbconvert_exporter": "python",
   "pygments_lexer": "ipython3",
   "version": "3.9.13"
  },
  "toc": {
   "base_numbering": 1,
   "nav_menu": {},
   "number_sections": true,
   "sideBar": true,
   "skip_h1_title": true,
   "title_cell": "Table of Contents",
   "title_sidebar": "Contents",
   "toc_cell": false,
   "toc_position": {
    "height": "calc(100% - 180px)",
    "left": "10px",
    "top": "150px",
    "width": "165px"
   },
   "toc_section_display": true,
   "toc_window_display": true
  }
 },
 "nbformat": 4,
 "nbformat_minor": 2
}
