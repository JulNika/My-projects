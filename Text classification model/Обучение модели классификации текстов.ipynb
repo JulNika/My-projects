{
 "cells": [
  {
   "cell_type": "markdown",
   "id": "60488c04",
   "metadata": {},
   "source": [
    "# Обучение модели классификации текстов"
   ]
  },
  {
   "cell_type": "markdown",
   "id": "73be075d",
   "metadata": {},
   "source": [
    "## Проект \"Проверка токсичных комментариев в интернет-магазине \"Викишоп\" #"
   ]
  },
  {
   "cell_type": "markdown",
   "id": "c63ae261",
   "metadata": {},
   "source": [
    "## Описание проекта ##\n",
    "\n",
    "Интернет-магазин «Викишоп» запускает новый сервис. Теперь пользователи могут редактировать и дополнять описания товаров, как в вики-сообществах. То есть клиенты предлагают свои правки и комментируют изменения других. Магазину нужен инструмент, который будет искать токсичные комментарии и отправлять их на модерацию.\n",
    "\n",
    "Цель проекта - обучить модель классифицировать комментарии на позитивные и негативные. В вашем распоряжении набор данных с разметкой о токсичности правок.\n",
    "\n",
    "Постройте модель со значением метрики качества F1 не меньше 0.75.\n",
    "\n",
    "***План работы:***\n",
    "\n",
    "- загрузить и подготовить данные,\n",
    "- обучите разные модели,\n",
    "- сделать выводы.\n",
    "\n",
    "***Описание данных***\n",
    "\n",
    "Данные находятся в файле /datasets/toxic_comments.csv. \n",
    "\n",
    "Столбец text в нём содержит текст комментария, а toxic — целевой признак."
   ]
  },
  {
   "cell_type": "code",
   "execution_count": 1,
   "id": "e09a659e",
   "metadata": {},
   "outputs": [
    {
     "name": "stdout",
     "output_type": "stream",
     "text": [
      "Collecting pymystem3\n",
      "  Using cached pymystem3-0.2.0-py3-none-any.whl (10 kB)\n",
      "Requirement already satisfied: requests in c:\\pyton\\lib\\site-packages (from pymystem3) (2.28.1)\n",
      "Requirement already satisfied: charset-normalizer<3,>=2 in c:\\pyton\\lib\\site-packages (from requests->pymystem3) (2.0.4)\n",
      "Requirement already satisfied: certifi>=2017.4.17 in c:\\pyton\\lib\\site-packages (from requests->pymystem3) (2022.9.14)\n",
      "Requirement already satisfied: idna<4,>=2.5 in c:\\pyton\\lib\\site-packages (from requests->pymystem3) (3.3)\n",
      "Requirement already satisfied: urllib3<1.27,>=1.21.1 in c:\\pyton\\lib\\site-packages (from requests->pymystem3) (1.26.11)\n",
      "Installing collected packages: pymystem3\n",
      "Successfully installed pymystem3-0.2.0\n"
     ]
    },
    {
     "name": "stderr",
     "output_type": "stream",
     "text": [
      "[nltk_data] Downloading package omw-1.4 to\n",
      "[nltk_data]     C:\\Users\\LeeLoo\\AppData\\Roaming\\nltk_data...\n",
      "[nltk_data]   Package omw-1.4 is already up-to-date!\n",
      "[nltk_data] Downloading package averaged_perceptron_tagger to\n",
      "[nltk_data]     C:\\Users\\LeeLoo\\AppData\\Roaming\\nltk_data...\n",
      "[nltk_data]   Package averaged_perceptron_tagger is already up-to-\n",
      "[nltk_data]       date!\n",
      "[nltk_data] Downloading package stopwords to\n",
      "[nltk_data]     C:\\Users\\LeeLoo\\AppData\\Roaming\\nltk_data...\n",
      "[nltk_data]   Package stopwords is already up-to-date!\n",
      "[nltk_data] Downloading package wordnet to\n",
      "[nltk_data]     C:\\Users\\LeeLoo\\AppData\\Roaming\\nltk_data...\n",
      "[nltk_data]   Package wordnet is already up-to-date!\n"
     ]
    }
   ],
   "source": [
    "# загружаем библиотеки\n",
    "import pandas as pd\n",
    "import numpy as np\n",
    "import matplotlib.pyplot as plt\n",
    "import re\n",
    "import time\n",
    "import seaborn as sns\n",
    "\n",
    "!pip install pymystem3\n",
    "\n",
    "\n",
    "\n",
    "from pymystem3 import Mystem\n",
    "import nltk\n",
    "nltk.download('omw-1.4') #присипользовании  WordNetLemmatizer запросили сделать эту загрузку\n",
    "nltk.download('averaged_perceptron_tagger') #попрсили загурзить, когда проставляла POS-теги при лемматизации\n",
    "from nltk.stem import WordNetLemmatizer\n",
    "from nltk.corpus import stopwords as nltk_stopwords\n",
    "nltk.download('stopwords')\n",
    "nltk.download('wordnet')\n",
    "from nltk.corpus import wordnet\n",
    "stopwords = set(nltk_stopwords.words('russian'))\n",
    "from sklearn.model_selection import train_test_split, cross_val_score, GridSearchCV\n",
    "from sklearn.linear_model import LogisticRegression\n",
    "from sklearn.metrics import accuracy_score, recall_score, f1_score, roc_auc_score, roc_curve, confusion_matrix, precision_score, fbeta_score, make_scorer, precision_recall_curve\n",
    "from sklearn.pipeline import Pipeline\n",
    "\n",
    "from sklearn.tree import DecisionTreeClassifier\n",
    "from catboost import CatBoostClassifier\n",
    "\n",
    "#для pipelime\n",
    "from sklearn.compose import make_column_transformer\n",
    "from sklearn.pipeline import make_pipeline\n",
    "\n",
    "from sklearn.feature_extraction.text import TfidfVectorizer, CountVectorizer"
   ]
  },
  {
   "cell_type": "code",
   "execution_count": 2,
   "id": "74c0cbb2",
   "metadata": {},
   "outputs": [],
   "source": [
    "#загрузка обучающей выборки\n",
    "\n",
    "data = pd.read_csv('https://code.s3.yandex.net/datasets/toxic_comments.csv') "
   ]
  },
  {
   "cell_type": "code",
   "execution_count": 3,
   "id": "851c077a",
   "metadata": {},
   "outputs": [
    {
     "data": {
      "text/html": [
       "<div>\n",
       "<style scoped>\n",
       "    .dataframe tbody tr th:only-of-type {\n",
       "        vertical-align: middle;\n",
       "    }\n",
       "\n",
       "    .dataframe tbody tr th {\n",
       "        vertical-align: top;\n",
       "    }\n",
       "\n",
       "    .dataframe thead th {\n",
       "        text-align: right;\n",
       "    }\n",
       "</style>\n",
       "<table border=\"1\" class=\"dataframe\">\n",
       "  <thead>\n",
       "    <tr style=\"text-align: right;\">\n",
       "      <th></th>\n",
       "      <th>Unnamed: 0</th>\n",
       "      <th>text</th>\n",
       "      <th>toxic</th>\n",
       "    </tr>\n",
       "  </thead>\n",
       "  <tbody>\n",
       "    <tr>\n",
       "      <th>0</th>\n",
       "      <td>0</td>\n",
       "      <td>Explanation\\nWhy the edits made under my usern...</td>\n",
       "      <td>0</td>\n",
       "    </tr>\n",
       "    <tr>\n",
       "      <th>1</th>\n",
       "      <td>1</td>\n",
       "      <td>D'aww! He matches this background colour I'm s...</td>\n",
       "      <td>0</td>\n",
       "    </tr>\n",
       "    <tr>\n",
       "      <th>2</th>\n",
       "      <td>2</td>\n",
       "      <td>Hey man, I'm really not trying to edit war. It...</td>\n",
       "      <td>0</td>\n",
       "    </tr>\n",
       "    <tr>\n",
       "      <th>3</th>\n",
       "      <td>3</td>\n",
       "      <td>\"\\nMore\\nI can't make any real suggestions on ...</td>\n",
       "      <td>0</td>\n",
       "    </tr>\n",
       "    <tr>\n",
       "      <th>4</th>\n",
       "      <td>4</td>\n",
       "      <td>You, sir, are my hero. Any chance you remember...</td>\n",
       "      <td>0</td>\n",
       "    </tr>\n",
       "  </tbody>\n",
       "</table>\n",
       "</div>"
      ],
      "text/plain": [
       "   Unnamed: 0                                               text  toxic\n",
       "0           0  Explanation\\nWhy the edits made under my usern...      0\n",
       "1           1  D'aww! He matches this background colour I'm s...      0\n",
       "2           2  Hey man, I'm really not trying to edit war. It...      0\n",
       "3           3  \"\\nMore\\nI can't make any real suggestions on ...      0\n",
       "4           4  You, sir, are my hero. Any chance you remember...      0"
      ]
     },
     "execution_count": 3,
     "metadata": {},
     "output_type": "execute_result"
    }
   ],
   "source": [
    "#посмотрим на данные в таблице\n",
    "data.head()"
   ]
  },
  {
   "cell_type": "code",
   "execution_count": 4,
   "id": "38af952d",
   "metadata": {},
   "outputs": [
    {
     "name": "stdout",
     "output_type": "stream",
     "text": [
      "<class 'pandas.core.frame.DataFrame'>\n",
      "RangeIndex: 159292 entries, 0 to 159291\n",
      "Data columns (total 3 columns):\n",
      " #   Column      Non-Null Count   Dtype \n",
      "---  ------      --------------   ----- \n",
      " 0   Unnamed: 0  159292 non-null  int64 \n",
      " 1   text        159292 non-null  object\n",
      " 2   toxic       159292 non-null  int64 \n",
      "dtypes: int64(2), object(1)\n",
      "memory usage: 3.6+ MB\n"
     ]
    }
   ],
   "source": [
    "#информация по датасету\n",
    "data.info()"
   ]
  },
  {
   "cell_type": "code",
   "execution_count": 5,
   "id": "2a2445f8",
   "metadata": {},
   "outputs": [],
   "source": [
    "#удалим столбец unnamed\n",
    "\n",
    "data = data.drop(['Unnamed: 0'], axis=1)"
   ]
  },
  {
   "cell_type": "code",
   "execution_count": 6,
   "id": "35407061",
   "metadata": {},
   "outputs": [
    {
     "data": {
      "image/png": "[encoded data removed]",
      "text/plain": [
       "<Figure size 640x480 with 1 Axes>"
      ]
     },
     "metadata": {},
     "output_type": "display_data"
    }
   ],
   "source": [
    "#проверка распределения классов в обучающей выборке\n",
    "data['toxic'].value_counts().plot.bar();"
   ]
  },
  {
   "cell_type": "code",
   "execution_count": 7,
   "id": "279f22f3",
   "metadata": {},
   "outputs": [
    {
     "name": "stdout",
     "output_type": "stream",
     "text": [
      "0    143106\n",
      "1     16186\n",
      "Name: toxic, dtype: int64\n"
     ]
    }
   ],
   "source": [
    "print(data['toxic'].value_counts())"
   ]
  },
  {
   "cell_type": "code",
   "execution_count": 8,
   "id": "f46688f1",
   "metadata": {},
   "outputs": [
    {
     "name": "stdout",
     "output_type": "stream",
     "text": [
      "9\n"
     ]
    }
   ],
   "source": [
    "#расчет для параметра scale_pos_weight для модели CatBoostClassifier, округлим до целого\n",
    "scale_pos_weight = 143106/16186\n",
    "print(round(scale_pos_weight))"
   ]
  },
  {
   "cell_type": "markdown",
   "id": "56802003",
   "metadata": {},
   "source": [
    "***Вывод:*** В данных нет пропусков. Данные не сбалансированы, учтем это в параметре class_weight  модели при прогнозировани."
   ]
  },
  {
   "cell_type": "markdown",
   "id": "50f626d0",
   "metadata": {},
   "source": [
    "## 1. Подготовка данных ##"
   ]
  },
  {
   "cell_type": "code",
   "execution_count": 9,
   "id": "55c52c40",
   "metadata": {},
   "outputs": [
    {
     "name": "stdout",
     "output_type": "stream",
     "text": [
      "Wall time: 1.48 s\n"
     ]
    }
   ],
   "source": [
    "%%time\n",
    "#очистим данные от лишних симфолом, разделителей, пробелы в начале и конце строки и пр.\n",
    "def cleaning(text):\n",
    "    text = re.sub(r\"(?:\\n|\\r)\", \" \", text)\n",
    "    text = re.sub(r\"[^a-zA-Z ]+\", \"\", text).strip()\n",
    "    text = text.lower()\n",
    "    return text\n",
    "\n",
    "data['text'] = data['text'].apply(cleaning)"
   ]
  },
  {
   "cell_type": "code",
   "execution_count": 10,
   "id": "0b8ae9cd",
   "metadata": {},
   "outputs": [
    {
     "data": {
      "text/html": [
       "<div>\n",
       "<style scoped>\n",
       "    .dataframe tbody tr th:only-of-type {\n",
       "        vertical-align: middle;\n",
       "    }\n",
       "\n",
       "    .dataframe tbody tr th {\n",
       "        vertical-align: top;\n",
       "    }\n",
       "\n",
       "    .dataframe thead th {\n",
       "        text-align: right;\n",
       "    }\n",
       "</style>\n",
       "<table border=\"1\" class=\"dataframe\">\n",
       "  <thead>\n",
       "    <tr style=\"text-align: right;\">\n",
       "      <th></th>\n",
       "      <th>text</th>\n",
       "      <th>toxic</th>\n",
       "    </tr>\n",
       "  </thead>\n",
       "  <tbody>\n",
       "    <tr>\n",
       "      <th>0</th>\n",
       "      <td>explanation why the edits made under my userna...</td>\n",
       "      <td>0</td>\n",
       "    </tr>\n",
       "    <tr>\n",
       "      <th>1</th>\n",
       "      <td>daww he matches this background colour im seem...</td>\n",
       "      <td>0</td>\n",
       "    </tr>\n",
       "    <tr>\n",
       "      <th>2</th>\n",
       "      <td>hey man im really not trying to edit war its j...</td>\n",
       "      <td>0</td>\n",
       "    </tr>\n",
       "    <tr>\n",
       "      <th>3</th>\n",
       "      <td>more i cant make any real suggestions on impro...</td>\n",
       "      <td>0</td>\n",
       "    </tr>\n",
       "    <tr>\n",
       "      <th>4</th>\n",
       "      <td>you sir are my hero any chance you remember wh...</td>\n",
       "      <td>0</td>\n",
       "    </tr>\n",
       "  </tbody>\n",
       "</table>\n",
       "</div>"
      ],
      "text/plain": [
       "                                                text  toxic\n",
       "0  explanation why the edits made under my userna...      0\n",
       "1  daww he matches this background colour im seem...      0\n",
       "2  hey man im really not trying to edit war its j...      0\n",
       "3  more i cant make any real suggestions on impro...      0\n",
       "4  you sir are my hero any chance you remember wh...      0"
      ]
     },
     "execution_count": 10,
     "metadata": {},
     "output_type": "execute_result"
    }
   ],
   "source": [
    "data.head()"
   ]
  },
  {
   "cell_type": "markdown",
   "id": "e04f42ea",
   "metadata": {},
   "source": [
    "***Токенизация и лемматизация через функцию***"
   ]
  },
  {
   "cell_type": "code",
   "execution_count": 11,
   "id": "61e5ea81",
   "metadata": {},
   "outputs": [
    {
     "name": "stdout",
     "output_type": "stream",
     "text": [
      "Wall time: 1h 6min 49s\n"
     ]
    }
   ],
   "source": [
    "%%time\n",
    "#проведем лемматизацию с помощью лексической базы Wordnet для английского языка\n",
    "lemmatizer = WordNetLemmatizer()\n",
    "\n",
    "def get_wordnet_pos(word):\n",
    "    #сопоставление POS-тегов NLTK с форматом, принятым лемматизатором wordnet\n",
    "    tag = nltk.pos_tag([word])[0][1][0].upper()\n",
    "    tag_dict = {\"J\": wordnet.ADJ,\n",
    "                \"N\": wordnet.NOUN,\n",
    "                \"V\": wordnet.VERB,\n",
    "                \"R\": wordnet.ADV}\n",
    "    return tag_dict.get(tag, wordnet.NOUN)\n",
    "\n",
    "def lemm_text_with_pos_tag (text):\n",
    "   \n",
    "    new_text = [lemmatizer.lemmatize(w, get_wordnet_pos(w)) for w in nltk.word_tokenize(text)]\n",
    "    text = \" \".join(new_text)\n",
    "    return text\n",
    "\n",
    "data['new_text'] = data['text'].apply(lemm_text_with_pos_tag)"
   ]
  },
  {
   "cell_type": "code",
   "execution_count": 12,
   "id": "d0a81529",
   "metadata": {
    "scrolled": true
   },
   "outputs": [
    {
     "data": {
      "text/html": [
       "<div>\n",
       "<style scoped>\n",
       "    .dataframe tbody tr th:only-of-type {\n",
       "        vertical-align: middle;\n",
       "    }\n",
       "\n",
       "    .dataframe tbody tr th {\n",
       "        vertical-align: top;\n",
       "    }\n",
       "\n",
       "    .dataframe thead th {\n",
       "        text-align: right;\n",
       "    }\n",
       "</style>\n",
       "<table border=\"1\" class=\"dataframe\">\n",
       "  <thead>\n",
       "    <tr style=\"text-align: right;\">\n",
       "      <th></th>\n",
       "      <th>text</th>\n",
       "      <th>toxic</th>\n",
       "      <th>new_text</th>\n",
       "    </tr>\n",
       "  </thead>\n",
       "  <tbody>\n",
       "    <tr>\n",
       "      <th>0</th>\n",
       "      <td>explanation why the edits made under my userna...</td>\n",
       "      <td>0</td>\n",
       "      <td>explanation why the edits make under my userna...</td>\n",
       "    </tr>\n",
       "    <tr>\n",
       "      <th>1</th>\n",
       "      <td>daww he matches this background colour im seem...</td>\n",
       "      <td>0</td>\n",
       "      <td>daww he match this background colour im seemin...</td>\n",
       "    </tr>\n",
       "    <tr>\n",
       "      <th>2</th>\n",
       "      <td>hey man im really not trying to edit war its j...</td>\n",
       "      <td>0</td>\n",
       "      <td>hey man im really not try to edit war it just ...</td>\n",
       "    </tr>\n",
       "    <tr>\n",
       "      <th>3</th>\n",
       "      <td>more i cant make any real suggestions on impro...</td>\n",
       "      <td>0</td>\n",
       "      <td>more i cant make any real suggestion on improv...</td>\n",
       "    </tr>\n",
       "    <tr>\n",
       "      <th>4</th>\n",
       "      <td>you sir are my hero any chance you remember wh...</td>\n",
       "      <td>0</td>\n",
       "      <td>you sir be my hero any chance you remember wha...</td>\n",
       "    </tr>\n",
       "  </tbody>\n",
       "</table>\n",
       "</div>"
      ],
      "text/plain": [
       "                                                text  toxic  \\\n",
       "0  explanation why the edits made under my userna...      0   \n",
       "1  daww he matches this background colour im seem...      0   \n",
       "2  hey man im really not trying to edit war its j...      0   \n",
       "3  more i cant make any real suggestions on impro...      0   \n",
       "4  you sir are my hero any chance you remember wh...      0   \n",
       "\n",
       "                                            new_text  \n",
       "0  explanation why the edits make under my userna...  \n",
       "1  daww he match this background colour im seemin...  \n",
       "2  hey man im really not try to edit war it just ...  \n",
       "3  more i cant make any real suggestion on improv...  \n",
       "4  you sir be my hero any chance you remember wha...  "
      ]
     },
     "execution_count": 12,
     "metadata": {},
     "output_type": "execute_result"
    }
   ],
   "source": [
    "data.head()"
   ]
  },
  {
   "cell_type": "markdown",
   "id": "ec02817e",
   "metadata": {},
   "source": [
    "***Вариант токенизации и лемматизации, когда делаю без функции***"
   ]
  },
  {
   "cell_type": "code",
   "execution_count": 13,
   "id": "fe95d1a1",
   "metadata": {},
   "outputs": [
    {
     "data": {
      "text/plain": [
       "'explanation why the edits made under my username hardcore metallica fan were reverted they werent vandalisms just closure on some gas after i voted at new york dolls fac and please dont remove the template from the talk page since im retired now'"
      ]
     },
     "execution_count": 13,
     "metadata": {},
     "output_type": "execute_result"
    }
   ],
   "source": [
    "corpus = data['text'].values\n",
    "corpus = corpus[0]\n",
    "corpus"
   ]
  },
  {
   "cell_type": "code",
   "execution_count": 14,
   "id": "6ec25f01",
   "metadata": {},
   "outputs": [
    {
     "name": "stdout",
     "output_type": "stream",
     "text": [
      "['explanation', 'why', 'the', 'edits', 'made', 'under', 'my', 'username', 'hardcore', 'metallica', 'fan', 'were', 'reverted', 'they', 'werent', 'vandalisms', 'just', 'closure', 'on', 'some', 'gas', 'after', 'i', 'voted', 'at', 'new', 'york', 'dolls', 'fac', 'and', 'please', 'dont', 'remove', 'the', 'template', 'from', 'the', 'talk', 'page', 'since', 'im', 'retired', 'now']\n"
     ]
    }
   ],
   "source": [
    "# Tokenize: Split the sentence into words\n",
    "#corpus = str(corpus)\n",
    "word_list = corpus.split()\n",
    "print(word_list)"
   ]
  },
  {
   "cell_type": "code",
   "execution_count": 15,
   "id": "3da072f2",
   "metadata": {},
   "outputs": [
    {
     "name": "stdout",
     "output_type": "stream",
     "text": [
      "explanation why the edits made under my username hardcore metallica fan were reverted they werent vandalism just closure on some gas after i voted at new york doll fac and please dont remove the template from the talk page since im retired now\n"
     ]
    }
   ],
   "source": [
    "lemmatizer = WordNetLemmatizer()\n",
    "lemmatized_output = ' '.join([lemmatizer.lemmatize(w) for w in word_list])\n",
    "print(lemmatized_output)"
   ]
  },
  {
   "cell_type": "code",
   "execution_count": 16,
   "id": "bbfe8630",
   "metadata": {},
   "outputs": [
    {
     "name": "stdout",
     "output_type": "stream",
     "text": [
      "['explanation', 'why', 'the', 'edits', 'make', 'under', 'my', 'username', 'hardcore', 'metallica', 'fan', 'be', 'revert', 'they', 'werent', 'vandalism', 'just', 'closure', 'on', 'some', 'gas', 'after', 'i', 'vote', 'at', 'new', 'york', 'doll', 'fac', 'and', 'please', 'dont', 'remove', 'the', 'template', 'from', 'the', 'talk', 'page', 'since', 'im', 'retire', 'now']\n"
     ]
    }
   ],
   "source": [
    "# Lemmatize with POS Tag\n",
    "from nltk.corpus import wordnet\n",
    "def get_wordnet_pos(word):\n",
    "    \"\"\"Map POS tag to first character lemmatize() accepts\"\"\"\n",
    "    tag = nltk.pos_tag([word])[0][1][0].upper()\n",
    "    tag_dict = {\"J\": wordnet.ADJ,\n",
    "                \"N\": wordnet.NOUN,\n",
    "                \"V\": wordnet.VERB,\n",
    "                \"R\": wordnet.ADV}\n",
    "    return tag_dict.get(tag, wordnet.NOUN)\n",
    "\n",
    "# 1. Init Lemmatizer\n",
    "lemmatizer = WordNetLemmatizer()\n",
    "\n",
    "\n",
    "# 3. Lemmatize a Sentence with the appropriate POS tag\n",
    "sentence = \"The striped bats are hanging on their feet for best\"\n",
    "new_text = [lemmatizer.lemmatize(w, get_wordnet_pos(w)) for w in nltk.word_tokenize(lemmatized_output)]\n",
    "\n",
    "print(new_text)\n",
    "    \n"
   ]
  },
  {
   "cell_type": "code",
   "execution_count": 17,
   "id": "3df42150",
   "metadata": {},
   "outputs": [
    {
     "data": {
      "text/plain": [
       "'explanation why the edits make under my username hardcore metallica fan be revert they werent vandalism just closure on some gas after i vote at new york doll fac and please dont remove the template from the talk page since im retire now'"
      ]
     },
     "execution_count": 17,
     "metadata": {},
     "output_type": "execute_result"
    }
   ],
   "source": [
    "text = text = \" \".join(new_text)\n",
    "text"
   ]
  },
  {
   "cell_type": "code",
   "execution_count": 18,
   "id": "ef39d94e",
   "metadata": {},
   "outputs": [
    {
     "data": {
      "text/html": [
       "<div>\n",
       "<style scoped>\n",
       "    .dataframe tbody tr th:only-of-type {\n",
       "        vertical-align: middle;\n",
       "    }\n",
       "\n",
       "    .dataframe tbody tr th {\n",
       "        vertical-align: top;\n",
       "    }\n",
       "\n",
       "    .dataframe thead th {\n",
       "        text-align: right;\n",
       "    }\n",
       "</style>\n",
       "<table border=\"1\" class=\"dataframe\">\n",
       "  <thead>\n",
       "    <tr style=\"text-align: right;\">\n",
       "      <th></th>\n",
       "      <th>0</th>\n",
       "    </tr>\n",
       "  </thead>\n",
       "  <tbody>\n",
       "    <tr>\n",
       "      <th>0</th>\n",
       "      <td>explanation why the edits make under my userna...</td>\n",
       "    </tr>\n",
       "  </tbody>\n",
       "</table>\n",
       "</div>"
      ],
      "text/plain": [
       "                                                   0\n",
       "0  explanation why the edits make under my userna..."
      ]
     },
     "execution_count": 18,
     "metadata": {},
     "output_type": "execute_result"
    }
   ],
   "source": [
    "data1 = pd.DataFrame([text])\n",
    "data1"
   ]
  },
  {
   "cell_type": "code",
   "execution_count": 19,
   "id": "94ad6935",
   "metadata": {},
   "outputs": [
    {
     "data": {
      "text/html": [
       "<div>\n",
       "<style scoped>\n",
       "    .dataframe tbody tr th:only-of-type {\n",
       "        vertical-align: middle;\n",
       "    }\n",
       "\n",
       "    .dataframe tbody tr th {\n",
       "        vertical-align: top;\n",
       "    }\n",
       "\n",
       "    .dataframe thead th {\n",
       "        text-align: right;\n",
       "    }\n",
       "</style>\n",
       "<table border=\"1\" class=\"dataframe\">\n",
       "  <thead>\n",
       "    <tr style=\"text-align: right;\">\n",
       "      <th></th>\n",
       "      <th>text</th>\n",
       "      <th>toxic</th>\n",
       "      <th>new_text</th>\n",
       "    </tr>\n",
       "  </thead>\n",
       "  <tbody>\n",
       "    <tr>\n",
       "      <th>0</th>\n",
       "      <td>explanation why the edits made under my userna...</td>\n",
       "      <td>0</td>\n",
       "      <td>explanation why the edits make under my userna...</td>\n",
       "    </tr>\n",
       "    <tr>\n",
       "      <th>1</th>\n",
       "      <td>daww he matches this background colour im seem...</td>\n",
       "      <td>0</td>\n",
       "      <td>daww he match this background colour im seemin...</td>\n",
       "    </tr>\n",
       "    <tr>\n",
       "      <th>2</th>\n",
       "      <td>hey man im really not trying to edit war its j...</td>\n",
       "      <td>0</td>\n",
       "      <td>hey man im really not try to edit war it just ...</td>\n",
       "    </tr>\n",
       "    <tr>\n",
       "      <th>3</th>\n",
       "      <td>more i cant make any real suggestions on impro...</td>\n",
       "      <td>0</td>\n",
       "      <td>more i cant make any real suggestion on improv...</td>\n",
       "    </tr>\n",
       "    <tr>\n",
       "      <th>4</th>\n",
       "      <td>you sir are my hero any chance you remember wh...</td>\n",
       "      <td>0</td>\n",
       "      <td>you sir be my hero any chance you remember wha...</td>\n",
       "    </tr>\n",
       "  </tbody>\n",
       "</table>\n",
       "</div>"
      ],
      "text/plain": [
       "                                                text  toxic  \\\n",
       "0  explanation why the edits made under my userna...      0   \n",
       "1  daww he matches this background colour im seem...      0   \n",
       "2  hey man im really not trying to edit war its j...      0   \n",
       "3  more i cant make any real suggestions on impro...      0   \n",
       "4  you sir are my hero any chance you remember wh...      0   \n",
       "\n",
       "                                            new_text  \n",
       "0  explanation why the edits make under my userna...  \n",
       "1  daww he match this background colour im seemin...  \n",
       "2  hey man im really not try to edit war it just ...  \n",
       "3  more i cant make any real suggestion on improv...  \n",
       "4  you sir be my hero any chance you remember wha...  "
      ]
     },
     "execution_count": 19,
     "metadata": {},
     "output_type": "execute_result"
    }
   ],
   "source": [
    "data.head()"
   ]
  },
  {
   "cell_type": "markdown",
   "id": "94d7b93f",
   "metadata": {},
   "source": [
    "***Разобъем данные на выборки***"
   ]
  },
  {
   "cell_type": "code",
   "execution_count": 20,
   "id": "90fe2476",
   "metadata": {},
   "outputs": [],
   "source": [
    "#введем коснтанту RANDOM_STATE\n",
    "RANDOM_STATE = 12345\n",
    "\n",
    "target = data['toxic']\n",
    "features = data.drop(['toxic'], axis=1)\n",
    "features = features.drop(['text'], axis=1)\n",
    "\n",
    "\n",
    "#Разобьем выборку по отношению 50 - 20, на обучающую и тестовую. Валидационная нам не потребуется, \n",
    "#так как при подборе параментров модели с помощью greadsearch будем использовать кросс-валидацию\n",
    "\n",
    "features_train, features_test, target_train, target_test = train_test_split(features, \n",
    "                                                                              target, \n",
    "                                                                              test_size=0.2, \n",
    "                                                                              random_state=RANDOM_STATE)\n"
   ]
  },
  {
   "cell_type": "code",
   "execution_count": 21,
   "id": "3ed75d32",
   "metadata": {},
   "outputs": [
    {
     "name": "stdout",
     "output_type": "stream",
     "text": [
      "Размер тренировочной выборки (127433, 1)\n",
      "Размер тестовой выборки (31859, 1)\n",
      "Index(['new_text'], dtype='object')\n"
     ]
    }
   ],
   "source": [
    "print('Размер тренировочной выборки', features_train.shape)\n",
    "print('Размер тестовой выборки', features_test.shape)\n",
    "print(features_train.columns)"
   ]
  },
  {
   "cell_type": "markdown",
   "id": "80fed1ab",
   "metadata": {},
   "source": [
    "***Удалим стоп-слова, а вектрризвацию проведем через Pipeline в GreadSearch***"
   ]
  },
  {
   "cell_type": "code",
   "execution_count": null,
   "id": "0446feae",
   "metadata": {},
   "outputs": [],
   "source": [
    "#установим список стоп-слов\n",
    "\n",
    "stopwords = set(nltk_stopwords.words('english')) \n",
    "count_tf_idf = TfidfVectorizer(stop_words=stopwords)\n",
    "\n",
    "#создадим матрицу cо значениями \n",
    "\n",
    "tfidf_train = count_tf_idf.fit_transform(features_train['new_text'])\n",
    "tfidf_test = count_tf_idf.transform(features_test['new_text'])\n",
    "\n",
    "print(features_train.shape)\n",
    "print(features_test.shape)"
   ]
  },
  {
   "cell_type": "code",
   "execution_count": 22,
   "id": "51832655",
   "metadata": {},
   "outputs": [
    {
     "name": "stdout",
     "output_type": "stream",
     "text": [
      "(127433, 1)\n",
      "(31859, 1)\n"
     ]
    }
   ],
   "source": [
    "#установим список стоп-слов\n",
    "\n",
    "stopwords = set(nltk_stopwords.words('english')) \n",
    "\n",
    "#создаем объект count_tf_idf для использования TfidfVectorizer (его будем использовать ниже в pipeline при обучении моделей)\n",
    "count_tf_idf = TfidfVectorizer(stop_words=stopwords)\n",
    "\n",
    "#создадим матрицу cо значениями \n",
    "\n",
    "tfidf_train = count_tf_idf.fit_transform(features_train['new_text'])\n",
    "tfidf_test = count_tf_idf.transform(features_test['new_text'])\n",
    "\n",
    "print(features_train.shape)\n",
    "print(features_test.shape)"
   ]
  },
  {
   "cell_type": "code",
   "execution_count": 23,
   "id": "14daaba4",
   "metadata": {},
   "outputs": [
    {
     "name": "stdout",
     "output_type": "stream",
     "text": [
      "(127433, 176440)\n",
      "(31859, 176440)\n"
     ]
    }
   ],
   "source": [
    "print(tfidf_train.shape)\n",
    "print(tfidf_test.shape)"
   ]
  },
  {
   "cell_type": "markdown",
   "id": "9c4f2c1e",
   "metadata": {},
   "source": [
    "## 2. Обучение "
   ]
  },
  {
   "cell_type": "markdown",
   "id": "2a43af09",
   "metadata": {},
   "source": [
    "### Выбор лучшей модели прогнозирования из трех: LogisticRegression, DecisionTreeClassifier, CatBoostClassifier ##"
   ]
  },
  {
   "cell_type": "markdown",
   "id": "8c32bce3",
   "metadata": {},
   "source": [
    "*Примечание: при подборе параметров моделей был использован более широкий диапазон, но когда были найдены оптимальные параметры, диапазон был сужен, чтобы при обновлении проекта обучение не длилось бесссмысленно долго."
   ]
  },
  {
   "cell_type": "markdown",
   "id": "3544e26b",
   "metadata": {},
   "source": [
    "***Обучение модели LogisticRegression***"
   ]
  },
  {
   "cell_type": "code",
   "execution_count": 54,
   "id": "0f1fdf23",
   "metadata": {},
   "outputs": [],
   "source": [
    "model_lr = LogisticRegression(random_state = RANDOM_STATE)"
   ]
  },
  {
   "cell_type": "code",
   "execution_count": 55,
   "id": "288fe788",
   "metadata": {},
   "outputs": [
    {
     "name": "stdout",
     "output_type": "stream",
     "text": [
      "Fitting 5 folds for each of 6 candidates, totalling 30 fits\n",
      "[CV 1/5] END logisticregression__C=0.1, logisticregression__class_weight=balanced, logisticregression__solver=liblinear;, score=0.672 total time=   5.2s\n",
      "[CV 2/5] END logisticregression__C=0.1, logisticregression__class_weight=balanced, logisticregression__solver=liblinear;, score=0.677 total time=   5.0s\n",
      "[CV 3/5] END logisticregression__C=0.1, logisticregression__class_weight=balanced, logisticregression__solver=liblinear;, score=0.675 total time=   4.9s\n",
      "[CV 4/5] END logisticregression__C=0.1, logisticregression__class_weight=balanced, logisticregression__solver=liblinear;, score=0.683 total time=   5.0s\n",
      "[CV 5/5] END logisticregression__C=0.1, logisticregression__class_weight=balanced, logisticregression__solver=liblinear;, score=0.684 total time=   4.9s\n",
      "[CV 1/5] END logisticregression__C=0.1, logisticregression__class_weight=balanced, logisticregression__solver=newton-cg;, score=0.672 total time=   6.4s\n",
      "[CV 2/5] END logisticregression__C=0.1, logisticregression__class_weight=balanced, logisticregression__solver=newton-cg;, score=0.676 total time=   6.5s\n",
      "[CV 3/5] END logisticregression__C=0.1, logisticregression__class_weight=balanced, logisticregression__solver=newton-cg;, score=0.675 total time=   6.4s\n",
      "[CV 4/5] END logisticregression__C=0.1, logisticregression__class_weight=balanced, logisticregression__solver=newton-cg;, score=0.683 total time=   6.4s\n",
      "[CV 5/5] END logisticregression__C=0.1, logisticregression__class_weight=balanced, logisticregression__solver=newton-cg;, score=0.684 total time=   6.4s\n",
      "[CV 1/5] END logisticregression__C=7, logisticregression__class_weight=balanced, logisticregression__solver=liblinear;, score=0.769 total time=   6.4s\n",
      "[CV 2/5] END logisticregression__C=7, logisticregression__class_weight=balanced, logisticregression__solver=liblinear;, score=0.773 total time=   6.4s\n",
      "[CV 3/5] END logisticregression__C=7, logisticregression__class_weight=balanced, logisticregression__solver=liblinear;, score=0.766 total time=   6.7s\n",
      "[CV 4/5] END logisticregression__C=7, logisticregression__class_weight=balanced, logisticregression__solver=liblinear;, score=0.768 total time=   7.4s\n",
      "[CV 5/5] END logisticregression__C=7, logisticregression__class_weight=balanced, logisticregression__solver=liblinear;, score=0.776 total time=   6.8s\n",
      "[CV 1/5] END logisticregression__C=7, logisticregression__class_weight=balanced, logisticregression__solver=newton-cg;, score=0.769 total time=   8.7s\n",
      "[CV 2/5] END logisticregression__C=7, logisticregression__class_weight=balanced, logisticregression__solver=newton-cg;, score=0.773 total time=   8.7s\n",
      "[CV 3/5] END logisticregression__C=7, logisticregression__class_weight=balanced, logisticregression__solver=newton-cg;, score=0.766 total time=   8.4s\n",
      "[CV 4/5] END logisticregression__C=7, logisticregression__class_weight=balanced, logisticregression__solver=newton-cg;, score=0.768 total time=   8.6s\n",
      "[CV 5/5] END logisticregression__C=7, logisticregression__class_weight=balanced, logisticregression__solver=newton-cg;, score=0.776 total time=   8.6s\n",
      "[CV 1/5] END logisticregression__C=10, logisticregression__class_weight=balanced, logisticregression__solver=liblinear;, score=0.771 total time=   6.8s\n",
      "[CV 2/5] END logisticregression__C=10, logisticregression__class_weight=balanced, logisticregression__solver=liblinear;, score=0.773 total time=   6.6s\n",
      "[CV 3/5] END logisticregression__C=10, logisticregression__class_weight=balanced, logisticregression__solver=liblinear;, score=0.765 total time=   6.4s\n",
      "[CV 4/5] END logisticregression__C=10, logisticregression__class_weight=balanced, logisticregression__solver=liblinear;, score=0.769 total time=   6.4s\n",
      "[CV 5/5] END logisticregression__C=10, logisticregression__class_weight=balanced, logisticregression__solver=liblinear;, score=0.778 total time=   6.5s\n",
      "[CV 1/5] END logisticregression__C=10, logisticregression__class_weight=balanced, logisticregression__solver=newton-cg;, score=0.771 total time=   8.4s\n",
      "[CV 2/5] END logisticregression__C=10, logisticregression__class_weight=balanced, logisticregression__solver=newton-cg;, score=0.773 total time=   8.5s\n",
      "[CV 3/5] END logisticregression__C=10, logisticregression__class_weight=balanced, logisticregression__solver=newton-cg;, score=0.765 total time=   8.5s\n",
      "[CV 4/5] END logisticregression__C=10, logisticregression__class_weight=balanced, logisticregression__solver=newton-cg;, score=0.769 total time=   8.6s\n",
      "[CV 5/5] END logisticregression__C=10, logisticregression__class_weight=balanced, logisticregression__solver=newton-cg;, score=0.778 total time=   8.9s\n",
      "{'logisticregression__C': 10, 'logisticregression__class_weight': 'balanced', 'logisticregression__solver': 'liblinear'}\n",
      "Wall time: 3min 40s\n"
     ]
    }
   ],
   "source": [
    "%%time\n",
    "pipe = make_pipeline(TfidfVectorizer(), \n",
    "                     LogisticRegression()) \n",
    "\n",
    "parametrs = {\n",
    "    'logisticregression__solver':['liblinear', 'newton-cg'],\n",
    "    'logisticregression__C': [0.1, 7, 10],\n",
    "    'logisticregression__class_weight': ['balanced']\n",
    "}\n",
    "grid = GridSearchCV(pipe,\n",
    "                     parametrs, cv=5,  scoring='f1', verbose=3)\n",
    "grid.fit(features_train['new_text'], target_train)\n",
    "#выводим результат\n",
    "print(grid.best_params_)"
   ]
  },
  {
   "cell_type": "code",
   "execution_count": 57,
   "id": "4c15b26a",
   "metadata": {},
   "outputs": [],
   "source": [
    "#передадим лучшие параметры на вход модели\n",
    "\n",
    "model_lr = grid.best_estimator_"
   ]
  },
  {
   "cell_type": "code",
   "execution_count": 44,
   "id": "be94e3ea",
   "metadata": {},
   "outputs": [
    {
     "name": "stdout",
     "output_type": "stream",
     "text": [
      "0.7160109767612151\n"
     ]
    }
   ],
   "source": [
    "#сохраним и выведем на печать лучшую метрику для модели\n",
    "\n",
    "best_score_lr = grid.best_score_\n",
    "print(best_score_lr)"
   ]
  },
  {
   "cell_type": "markdown",
   "id": "234db5e6",
   "metadata": {},
   "source": [
    "***Обучение модели DecisionTreeClassifier***"
   ]
  },
  {
   "cell_type": "code",
   "execution_count": 28,
   "id": "cb3d0b49",
   "metadata": {},
   "outputs": [
    {
     "name": "stdout",
     "output_type": "stream",
     "text": [
      "Fitting 5 folds for each of 4 candidates, totalling 20 fits\n",
      "[CV 1/5] END decisiontreeclassifier__class_weight=balanced, decisiontreeclassifier__max_depth=160;, score=0.565 total time= 1.1min\n",
      "[CV 2/5] END decisiontreeclassifier__class_weight=balanced, decisiontreeclassifier__max_depth=160;, score=0.579 total time= 1.1min\n",
      "[CV 3/5] END decisiontreeclassifier__class_weight=balanced, decisiontreeclassifier__max_depth=160;, score=0.588 total time= 1.2min\n",
      "[CV 4/5] END decisiontreeclassifier__class_weight=balanced, decisiontreeclassifier__max_depth=160;, score=0.576 total time= 1.0min\n",
      "[CV 5/5] END decisiontreeclassifier__class_weight=balanced, decisiontreeclassifier__max_depth=160;, score=0.575 total time= 1.1min\n",
      "[CV 1/5] END decisiontreeclassifier__class_weight=balanced, decisiontreeclassifier__max_depth=210;, score=0.567 total time= 1.1min\n",
      "[CV 2/5] END decisiontreeclassifier__class_weight=balanced, decisiontreeclassifier__max_depth=210;, score=0.576 total time= 1.0min\n",
      "[CV 3/5] END decisiontreeclassifier__class_weight=balanced, decisiontreeclassifier__max_depth=210;, score=0.584 total time= 1.1min\n",
      "[CV 4/5] END decisiontreeclassifier__class_weight=balanced, decisiontreeclassifier__max_depth=210;, score=0.580 total time= 1.0min\n",
      "[CV 5/5] END decisiontreeclassifier__class_weight=balanced, decisiontreeclassifier__max_depth=210;, score=0.580 total time= 1.1min\n",
      "[CV 1/5] END decisiontreeclassifier__class_weight=balanced, decisiontreeclassifier__max_depth=260;, score=0.569 total time= 1.1min\n",
      "[CV 2/5] END decisiontreeclassifier__class_weight=balanced, decisiontreeclassifier__max_depth=260;, score=0.576 total time= 1.0min\n",
      "[CV 3/5] END decisiontreeclassifier__class_weight=balanced, decisiontreeclassifier__max_depth=260;, score=0.583 total time= 1.1min\n",
      "[CV 4/5] END decisiontreeclassifier__class_weight=balanced, decisiontreeclassifier__max_depth=260;, score=0.577 total time= 1.0min\n",
      "[CV 5/5] END decisiontreeclassifier__class_weight=balanced, decisiontreeclassifier__max_depth=260;, score=0.577 total time= 1.1min\n",
      "[CV 1/5] END decisiontreeclassifier__class_weight=balanced, decisiontreeclassifier__max_depth=310;, score=0.569 total time= 1.1min\n",
      "[CV 2/5] END decisiontreeclassifier__class_weight=balanced, decisiontreeclassifier__max_depth=310;, score=0.579 total time= 1.1min\n",
      "[CV 3/5] END decisiontreeclassifier__class_weight=balanced, decisiontreeclassifier__max_depth=310;, score=0.585 total time= 1.1min\n",
      "[CV 4/5] END decisiontreeclassifier__class_weight=balanced, decisiontreeclassifier__max_depth=310;, score=0.580 total time= 1.0min\n",
      "[CV 5/5] END decisiontreeclassifier__class_weight=balanced, decisiontreeclassifier__max_depth=310;, score=0.578 total time= 1.2min\n",
      "{'decisiontreeclassifier__class_weight': 'balanced', 'decisiontreeclassifier__max_depth': 310}\n",
      "Wall time: 23min 19s\n"
     ]
    }
   ],
   "source": [
    "%%time\n",
    "pipe = make_pipeline(TfidfVectorizer(), \n",
    "                     DecisionTreeClassifier(criterion='gini',random_state=RANDOM_STATE)) \n",
    "\n",
    "parametrs = {\n",
    "    'decisiontreeclassifier__max_depth':range (160,360, 50),\n",
    "    'decisiontreeclassifier__class_weight': ['balanced']\n",
    "}\n",
    "grid = GridSearchCV(pipe,\n",
    "                     parametrs, cv=5,  scoring='f1', verbose=3)\n",
    "grid.fit(features_train['new_text'], target_train)\n",
    "#выводим результат\n",
    "print(grid.best_params_)"
   ]
  },
  {
   "cell_type": "code",
   "execution_count": 29,
   "id": "ef06914a",
   "metadata": {},
   "outputs": [],
   "source": [
    "#передадим лучшие параметры на вход модели\n",
    "\n",
    "model_dt = grid.best_estimator_"
   ]
  },
  {
   "cell_type": "code",
   "execution_count": 30,
   "id": "9c933cdf",
   "metadata": {},
   "outputs": [
    {
     "name": "stdout",
     "output_type": "stream",
     "text": [
      "0.5780526136111316\n"
     ]
    }
   ],
   "source": [
    "#сохраним и выведем на печать лучшую метрику для модели\n",
    "\n",
    "best_score_dt = grid.best_score_\n",
    "print(best_score_dt)"
   ]
  },
  {
   "cell_type": "markdown",
   "id": "6c9310b7",
   "metadata": {},
   "source": [
    "***Обучение модели CatBoostClassifier***"
   ]
  },
  {
   "cell_type": "code",
   "execution_count": 31,
   "id": "efe1fc5f",
   "metadata": {},
   "outputs": [
    {
     "name": "stdout",
     "output_type": "stream",
     "text": [
      "Fitting 5 folds for each of 4 candidates, totalling 20 fits\n",
      "[CV 1/5] END catboostclassifier__depth=4, catboostclassifier__learning_rate=0.1;, score=0.681 total time= 1.6min\n",
      "[CV 2/5] END catboostclassifier__depth=4, catboostclassifier__learning_rate=0.1;, score=0.681 total time= 1.6min\n",
      "[CV 3/5] END catboostclassifier__depth=4, catboostclassifier__learning_rate=0.1;, score=0.684 total time= 1.6min\n",
      "[CV 4/5] END catboostclassifier__depth=4, catboostclassifier__learning_rate=0.1;, score=0.686 total time= 1.6min\n",
      "[CV 5/5] END catboostclassifier__depth=4, catboostclassifier__learning_rate=0.1;, score=0.687 total time= 1.6min\n",
      "[CV 1/5] END catboostclassifier__depth=4, catboostclassifier__learning_rate=0.15;, score=0.703 total time= 1.6min\n",
      "[CV 2/5] END catboostclassifier__depth=4, catboostclassifier__learning_rate=0.15;, score=0.700 total time= 1.6min\n",
      "[CV 3/5] END catboostclassifier__depth=4, catboostclassifier__learning_rate=0.15;, score=0.701 total time= 1.6min\n",
      "[CV 4/5] END catboostclassifier__depth=4, catboostclassifier__learning_rate=0.15;, score=0.702 total time= 1.6min\n",
      "[CV 5/5] END catboostclassifier__depth=4, catboostclassifier__learning_rate=0.15;, score=0.697 total time= 1.6min\n",
      "[CV 1/5] END catboostclassifier__depth=6, catboostclassifier__learning_rate=0.1;, score=0.699 total time= 3.0min\n",
      "[CV 2/5] END catboostclassifier__depth=6, catboostclassifier__learning_rate=0.1;, score=0.700 total time= 3.0min\n",
      "[CV 3/5] END catboostclassifier__depth=6, catboostclassifier__learning_rate=0.1;, score=0.697 total time= 3.0min\n",
      "[CV 4/5] END catboostclassifier__depth=6, catboostclassifier__learning_rate=0.1;, score=0.702 total time= 3.0min\n",
      "[CV 5/5] END catboostclassifier__depth=6, catboostclassifier__learning_rate=0.1;, score=0.697 total time= 3.0min\n",
      "[CV 1/5] END catboostclassifier__depth=6, catboostclassifier__learning_rate=0.15;, score=0.713 total time= 3.0min\n",
      "[CV 2/5] END catboostclassifier__depth=6, catboostclassifier__learning_rate=0.15;, score=0.720 total time= 3.0min\n",
      "[CV 3/5] END catboostclassifier__depth=6, catboostclassifier__learning_rate=0.15;, score=0.711 total time= 3.0min\n",
      "[CV 4/5] END catboostclassifier__depth=6, catboostclassifier__learning_rate=0.15;, score=0.717 total time= 3.0min\n",
      "[CV 5/5] END catboostclassifier__depth=6, catboostclassifier__learning_rate=0.15;, score=0.719 total time= 3.0min\n",
      "{'catboostclassifier__depth': 6, 'catboostclassifier__learning_rate': 0.15}\n",
      "Wall time: 49min 39s\n"
     ]
    }
   ],
   "source": [
    "%%time\n",
    "pipe = make_pipeline(TfidfVectorizer(), \n",
    "                     CatBoostClassifier(verbose=False, iterations=250, scale_pos_weight = 9, random_state = RANDOM_STATE)) \n",
    "\n",
    "parametrs = {\n",
    "    'catboostclassifier__depth':[4, 6],\n",
    "    'catboostclassifier__learning_rate': [0.1, 0.15]\n",
    "}\n",
    "grid = GridSearchCV(pipe,\n",
    "                     parametrs, cv=5,  scoring='f1', verbose=3)\n",
    "grid.fit(features_train['new_text'], target_train)\n",
    "#выводим результат\n",
    "print(grid.best_params_)"
   ]
  },
  {
   "cell_type": "code",
   "execution_count": 32,
   "id": "0948b236",
   "metadata": {},
   "outputs": [],
   "source": [
    "#передадим лучшие параметры на вход модели\n",
    "\n",
    "model_cb = grid.best_estimator_"
   ]
  },
  {
   "cell_type": "code",
   "execution_count": 33,
   "id": "4e97e0b7",
   "metadata": {},
   "outputs": [
    {
     "name": "stdout",
     "output_type": "stream",
     "text": [
      "0.7160109767612151\n"
     ]
    }
   ],
   "source": [
    "#сохраним и выведем на печать лучшую метрику для модели\n",
    "\n",
    "best_score_cb = grid.best_score_\n",
    "print(best_score_cb)"
   ]
  },
  {
   "cell_type": "markdown",
   "id": "0308d13d",
   "metadata": {},
   "source": [
    "***Выбор лучшей модели***"
   ]
  },
  {
   "cell_type": "code",
   "execution_count": 34,
   "id": "cfc71841",
   "metadata": {},
   "outputs": [
    {
     "data": {
      "text/html": [
       "<div>\n",
       "<style scoped>\n",
       "    .dataframe tbody tr th:only-of-type {\n",
       "        vertical-align: middle;\n",
       "    }\n",
       "\n",
       "    .dataframe tbody tr th {\n",
       "        vertical-align: top;\n",
       "    }\n",
       "\n",
       "    .dataframe thead th {\n",
       "        text-align: right;\n",
       "    }\n",
       "</style>\n",
       "<table border=\"1\" class=\"dataframe\">\n",
       "  <thead>\n",
       "    <tr style=\"text-align: right;\">\n",
       "      <th></th>\n",
       "      <th>F1-score</th>\n",
       "      <th>метрика качества F1&gt;0.75</th>\n",
       "    </tr>\n",
       "  </thead>\n",
       "  <tbody>\n",
       "    <tr>\n",
       "      <th>LogisticRegression</th>\n",
       "      <td>0.771294</td>\n",
       "      <td>True</td>\n",
       "    </tr>\n",
       "    <tr>\n",
       "      <th>DecisionTreeClassifier</th>\n",
       "      <td>0.578053</td>\n",
       "      <td>False</td>\n",
       "    </tr>\n",
       "    <tr>\n",
       "      <th>CatBoostClassifier</th>\n",
       "      <td>0.716011</td>\n",
       "      <td>False</td>\n",
       "    </tr>\n",
       "  </tbody>\n",
       "</table>\n",
       "</div>"
      ],
      "text/plain": [
       "                        F1-score  метрика качества F1>0.75\n",
       "LogisticRegression      0.771294                      True\n",
       "DecisionTreeClassifier  0.578053                     False\n",
       "CatBoostClassifier      0.716011                     False"
      ]
     },
     "execution_count": 34,
     "metadata": {},
     "output_type": "execute_result"
    }
   ],
   "source": [
    "#построим датасет для сравнения метрики F1 по моделям\n",
    "\n",
    "index = ['LogisticRegression',\n",
    "         'DecisionTreeClassifier',\n",
    "         'CatBoostClassifier']\n",
    "data = {'F1-score':[best_score_lr,\n",
    "                    best_score_dt,\n",
    "                    best_score_cb]}\n",
    "\n",
    "best_score_by_model = pd.DataFrame(data=data, index=index)\n",
    "\n",
    "#добавим новый столбец, который покажет соответствует ли метрика условию задачи\n",
    "\n",
    "best_score_by_model['метрика качества F1>0.75'] = best_score_by_model['F1-score'] > 0.75\n",
    "best_score_by_model"
   ]
  },
  {
   "cell_type": "markdown",
   "id": "f3fd033d",
   "metadata": {},
   "source": [
    "***Вывод:***"
   ]
  },
  {
   "cell_type": "markdown",
   "id": "23a0ebeb",
   "metadata": {},
   "source": [
    "С помощью подбора параметром и метода кросс-валидации мы проверили на обучающей выборке 3 модели LogisticRegression, DecisionTreeClassifier, CatBoostClassifier.\n",
    "\n",
    "По условиям проекта необходимо подобрать модель с метрикой F1 не ниже 0,75. Под этом критерий попадает только модель Логистической регресии, ее F1 равна 0,769057. Что еще важно это одна из самых быстрых моделей в обучении. \n",
    "\n",
    "*Примечение: У Модели CatBoostClassifier есть потенциал достичь требуемую метрику, но на обучение уходит очень  много времени. "
   ]
  },
  {
   "cell_type": "markdown",
   "id": "e1f1afe8",
   "metadata": {},
   "source": [
    "## Проверка лучшей модели на тестовой выборке ##"
   ]
  },
  {
   "cell_type": "code",
   "execution_count": 61,
   "id": "40664840",
   "metadata": {},
   "outputs": [],
   "source": [
    "#обучим модель по полученным параметрам и рассчитаем ее показатели на тестовой выборке\n",
    "model_lr = grid.best_estimator_\n",
    "predictions_test = grid.best_estimator_.predict(features_test['new_text'])\n",
    "#predictions_test= model_lr.predict(features_test)"
   ]
  },
  {
   "cell_type": "code",
   "execution_count": 62,
   "id": "6c25f8cf",
   "metadata": {},
   "outputs": [
    {
     "name": "stdout",
     "output_type": "stream",
     "text": [
      "[0 1 0 ... 0 0 0]\n"
     ]
    }
   ],
   "source": [
    "print(predictions_test)"
   ]
  },
  {
   "cell_type": "code",
   "execution_count": 63,
   "id": "9f4dccce",
   "metadata": {},
   "outputs": [
    {
     "name": "stdout",
     "output_type": "stream",
     "text": [
      "f1-мера - среднее гармоническое полноты и точности: 0.779373743177248\n"
     ]
    }
   ],
   "source": [
    "#рассчитаем метрику F1 на тестовой выборке\n",
    "\n",
    "f1_score_lr = f1_score(target_test, predictions_test)\n",
    "\n",
    "print('f1-мера - среднее гармоническое полноты и точности:', f1_score_lr) "
   ]
  },
  {
   "cell_type": "markdown",
   "id": "f0d428d6",
   "metadata": {},
   "source": [
    "***Вывод:*** На тестовой выборке метрика даже немного выше, чем на кросс-валидации, что хорошо. "
   ]
  },
  {
   "cell_type": "markdown",
   "id": "71a3a11f",
   "metadata": {},
   "source": [
    "***Матрица ошибок и график полноты и точности для лучшей модели***"
   ]
  },
  {
   "cell_type": "code",
   "execution_count": 65,
   "id": "2c0c3bb9",
   "metadata": {},
   "outputs": [
    {
     "data": {
      "image/png": "[encoded data removed]",
      "text/plain": [
       "<Figure size 700x300 with 2 Axes>"
      ]
     },
     "metadata": {},
     "output_type": "display_data"
    }
   ],
   "source": [
    "#построим матрицу ошибок\n",
    "\n",
    "cm_lr = confusion_matrix(target_test, predictions_test)\n",
    "cm = pd.DataFrame(cm_lr, index=['Actually Not At Fault', 'Actually At Fault'],\n",
    "                 columns=['Predicted Not At Fault', 'Predicted At Fault'])\n",
    "\n",
    "\n",
    "sns.set(font_scale=1.2)\n",
    "plt.figure(figsize=(7,3))\n",
    "    \n",
    "sns.heatmap(cm, annot=True, fmt='g', cmap=\"Blues\",xticklabels=cm.columns, yticklabels=cm.index, annot_kws={\"size\": 20})\n",
    "plt.title(\"Матрица ошибок модели XGBClassifier\", size=15)\n",
    "plt.xlabel('Класс предсказаний')\n",
    "plt.ylabel('Реальный класс');\n"
   ]
  },
  {
   "cell_type": "code",
   "execution_count": 66,
   "id": "c9380a4f",
   "metadata": {},
   "outputs": [
    {
     "name": "stdout",
     "output_type": "stream",
     "text": [
      "Всего предсказаний: 31859\n",
      "Правильно классифицированы : 95.0%\n",
      "Правильно классифицированны негативные комментарии: 98.0%\n",
      "Правильно классифицированнр отсутствие негативных комментариев: 73.0%\n",
      "Прогнозируемое начичие негативных комментарией, которые есть на самом деле: 96.0%\n",
      "Прогнозируемое негативных комментарией, которой так же на самом деле нет: 84.0%\n"
     ]
    }
   ],
   "source": [
    "TP3 = cm_lr[0][0]\n",
    "TN3 = cm_lr[1][1]\n",
    "FP3 = cm_lr[0][1]\n",
    "FN3 = cm_lr[1][0]\n",
    "total = cm_lr[0][0]+cm_lr[1][1]+cm_lr[0][1]+cm_lr[1][0]\n",
    "\n",
    "print('Всего предсказаний:',total)\n",
    "print(f'Правильно классифицированы : {np.round((TP3+TN3)/total*100)}%')\n",
    "print(f'Правильно классифицированны негативные комментарии: {np.round(TP3/(TP3+FN3)*100)}%')\n",
    "print(f'Правильно классифицированнр отсутствие негативных комментариев: {np.round(TN3/(TN3+FP3)*100)}%')\n",
    "print(f'Прогнозируемое начичие негативных комментарией, которые есть на самом деле: {np.round(TP3/(TP3+FP3)*100)}%')\n",
    "print(f'Прогнозируемое негативных комментарией, которой так же на самом деле нет: {np.round(TN3/(TN3+FN3)*100)}%')"
   ]
  },
  {
   "cell_type": "markdown",
   "id": "98f0a3c0",
   "metadata": {},
   "source": [
    "Хорошие показатели, высокий процент негативных комментариев определен верно и низкий процент ошибок."
   ]
  },
  {
   "cell_type": "code",
   "execution_count": 69,
   "id": "8627fdba",
   "metadata": {},
   "outputs": [
    {
     "data": {
      "image/png": "[encoded data removed]",
      "text/plain": [
       "<Figure size 640x480 with 1 Axes>"
      ]
     },
     "metadata": {},
     "output_type": "display_data"
    }
   ],
   "source": [
    "#график точноти и полноты модели Линейной регрессии\n",
    "\n",
    "probabilities_test = model_lr.predict_proba(features_test['new_text'])\n",
    "precision, recall, thresholds = precision_recall_curve(target_test, probabilities_test[:, 1])\n",
    "\n",
    "#график\n",
    "fig, ax = plt.subplots()\n",
    "ax.plot(recall, precision, color='blue')\n",
    "\n",
    "#название осей\n",
    "ax.set_title('Precision-Recall Curve/График Точность-Полнота ')\n",
    "ax.set_ylabel('Precision')\n",
    "ax.set_xlabel('Recall')\n",
    "\n",
    "#отобразиь график\n",
    "plt.show() "
   ]
  },
  {
   "cell_type": "markdown",
   "id": "bd4b5553",
   "metadata": {},
   "source": [
    "Чем выше график, тем лучше работает модель. Наша модель работает хорошо."
   ]
  },
  {
   "cell_type": "markdown",
   "id": "a48d64a8",
   "metadata": {},
   "source": [
    "## 3. ВЫВОДЫ"
   ]
  },
  {
   "cell_type": "markdown",
   "id": "55ae8164",
   "metadata": {},
   "source": [
    "Цель проекта - обучить модель классифицировать комментарии на позитивные и негативные.\n",
    "\n",
    "Что было сделано:\n",
    "1. Мы проверили данные на сбалансированность  классов, оказалось, что они не сбалансированы, этот момент мы учли в \n",
    "параметрах модели, укаазыв class_weight 'balanced'.\n",
    "\n",
    "2. Очистили данные от лишних символов, привели их к стандартной кодировке кодировку Unicode U, проведем лемматизацию с помощью лексической базы Wordnet для английского языка.\n",
    "\n",
    "3. Разбили данные на выборки, удалили стоп-слова и провели векторизацию.\n",
    "\n",
    "4. Обучили с помощью подбора параметров и кросс-валидации 3 модели - LogisticRegression, DecisionTreeClassifier, CatBoostClassifier. Но по условию задачи требуемой метрике F1 >0.75 подошла только модель LogisticRegression, ее F1 составила 0.769057.\n",
    "\n",
    "Можно было бы еще потренирваться подобрать параметры для модели CatBoostClassifier, ее метрика относительно близка к требуемоей, но на её обучение уходит слишком много времени.  А модель Логистической регрессии сработала быстро и точно, поэтому остановились на ней.\n",
    "\n",
    "5. Проверил метрику выбранной модели на тестовой выборке, ее F1 составила 0.779374, что хорошо значит модель не переобучилась и наша тестовая выборка была репрезентативной.\n",
    "\n",
    "6. Построили матрицу ошибок и график полноты-точности, тут тоже модель показала хороший результат - большой процент точности предсказаний и мало ошибок. \n",
    "\n",
    "Поэтому полученную  модель Логистической регрессии рекомендуем использовать для определения токсичных комментариев в интернет-магазине «Викишоп»."
   ]
  },
  {
   "cell_type": "markdown",
   "id": "0351e329",
   "metadata": {},
   "source": [
    "## Чек-лист проверки"
   ]
  },
  {
   "cell_type": "markdown",
   "id": "8c802656",
   "metadata": {},
   "source": [
    "- [x]  Jupyter Notebook открыт\n",
    "- [ ]  Весь код выполняется без ошибок\n",
    "- [ ]  Ячейки с кодом расположены в порядке исполнения\n",
    "- [ ]  Данные загружены и подготовлены\n",
    "- [ ]  Модели обучены\n",
    "- [ ]  Значение метрики *F1* не меньше 0.75\n",
    "- [ ]  Выводы написаны"
   ]
  },
  {
   "cell_type": "code",
   "execution_count": null,
   "id": "f4ccdf5a",
   "metadata": {},
   "outputs": [],
   "source": []
  }
 ],
 "metadata": {
  "ExecuteTimeLog": [
   {
    "duration": 3,
    "start_time": "2023-11-09T07:01:19.996Z"
   },
   {
    "duration": 6087,
    "start_time": "2023-11-09T07:04:21.435Z"
   },
   {
    "duration": 2154,
    "start_time": "2023-11-09T07:04:27.525Z"
   },
   {
    "duration": 21,
    "start_time": "2023-11-09T07:04:29.681Z"
   },
   {
    "duration": 43,
    "start_time": "2023-11-09T07:04:29.703Z"
   },
   {
    "duration": 17,
    "start_time": "2023-11-09T07:04:29.747Z"
   },
   {
    "duration": 141,
    "start_time": "2023-11-09T07:04:29.766Z"
   },
   {
    "duration": 5,
    "start_time": "2023-11-09T07:04:29.909Z"
   },
   {
    "duration": 4,
    "start_time": "2023-11-09T07:04:29.915Z"
   },
   {
    "duration": 2586,
    "start_time": "2023-11-09T07:04:29.921Z"
   },
   {
    "duration": 7,
    "start_time": "2023-11-09T07:04:32.511Z"
   },
   {
    "duration": 7,
    "start_time": "2023-11-09T07:04:44.193Z"
   },
   {
    "duration": 998,
    "start_time": "2023-11-09T07:05:03.455Z"
   },
   {
    "duration": 2691,
    "start_time": "2023-11-09T07:06:39.478Z"
   },
   {
    "duration": 1734,
    "start_time": "2023-11-09T07:06:56.506Z"
   },
   {
    "duration": 20413,
    "start_time": "2023-11-09T07:08:26.651Z"
   },
   {
    "duration": 424,
    "start_time": "2023-11-09T07:08:50.892Z"
   },
   {
    "duration": 35,
    "start_time": "2023-11-09T07:16:31.098Z"
   },
   {
    "duration": 113,
    "start_time": "2023-11-09T07:18:38.369Z"
   },
   {
    "duration": 49146,
    "start_time": "2023-11-09T07:18:48.739Z"
   },
   {
    "duration": 355,
    "start_time": "2023-11-09T07:24:42.265Z"
   },
   {
    "duration": 50514,
    "start_time": "2023-11-09T07:25:05.735Z"
   },
   {
    "duration": 21,
    "start_time": "2023-11-09T07:34:37.189Z"
   },
   {
    "duration": 741,
    "start_time": "2023-11-09T07:35:14.770Z"
   },
   {
    "duration": 599,
    "start_time": "2023-11-09T07:35:47.740Z"
   },
   {
    "duration": 430,
    "start_time": "2023-11-09T07:36:41.857Z"
   },
   {
    "duration": 569,
    "start_time": "2023-11-09T07:37:19.219Z"
   },
   {
    "duration": 9,
    "start_time": "2023-11-09T08:10:12.813Z"
   },
   {
    "duration": 19,
    "start_time": "2023-11-09T08:10:32.007Z"
   },
   {
    "duration": 20,
    "start_time": "2023-11-09T08:11:46.909Z"
   },
   {
    "duration": 1809,
    "start_time": "2023-11-09T08:12:43.224Z"
   },
   {
    "duration": 4,
    "start_time": "2023-11-09T08:16:17.383Z"
   },
   {
    "duration": 54,
    "start_time": "2023-11-09T08:16:48.128Z"
   },
   {
    "duration": 17,
    "start_time": "2023-11-09T08:18:27.544Z"
   },
   {
    "duration": 10,
    "start_time": "2023-11-09T08:18:52.692Z"
   },
   {
    "duration": 11,
    "start_time": "2023-11-09T08:19:04.872Z"
   },
   {
    "duration": 3,
    "start_time": "2023-11-09T08:22:55.770Z"
   },
   {
    "duration": 5,
    "start_time": "2023-11-09T08:23:28.295Z"
   },
   {
    "duration": 49824,
    "start_time": "2023-11-09T08:24:45.168Z"
   },
   {
    "duration": 454,
    "start_time": "2023-11-09T08:26:11.178Z"
   },
   {
    "duration": 53574,
    "start_time": "2023-11-09T08:27:43.960Z"
   },
   {
    "duration": 19,
    "start_time": "2023-11-09T08:38:47.721Z"
   },
   {
    "duration": 9,
    "start_time": "2023-11-09T08:41:55.911Z"
   },
   {
    "duration": 11,
    "start_time": "2023-11-09T08:42:24.476Z"
   },
   {
    "duration": 14,
    "start_time": "2023-11-09T08:46:01.492Z"
   },
   {
    "duration": 25,
    "start_time": "2023-11-09T08:46:10.239Z"
   },
   {
    "duration": 10,
    "start_time": "2023-11-09T08:47:36.248Z"
   },
   {
    "duration": 3,
    "start_time": "2023-11-09T08:47:43.815Z"
   },
   {
    "duration": 5,
    "start_time": "2023-11-09T08:48:33.785Z"
   },
   {
    "duration": 22,
    "start_time": "2023-11-09T08:50:01.205Z"
   },
   {
    "duration": 27,
    "start_time": "2023-11-09T08:51:23.104Z"
   },
   {
    "duration": 34,
    "start_time": "2023-11-09T08:52:09.374Z"
   },
   {
    "duration": 4,
    "start_time": "2023-11-09T08:52:20.658Z"
   },
   {
    "duration": 4,
    "start_time": "2023-11-09T08:52:26.172Z"
   },
   {
    "duration": 124,
    "start_time": "2023-11-09T08:55:39.306Z"
   },
   {
    "duration": 27,
    "start_time": "2023-11-09T08:55:50.344Z"
   },
   {
    "duration": 457,
    "start_time": "2023-11-09T08:57:15.760Z"
   },
   {
    "duration": 21153,
    "start_time": "2023-11-09T08:57:33.496Z"
   },
   {
    "duration": 39,
    "start_time": "2023-11-09T08:57:56.811Z"
   },
   {
    "duration": 37,
    "start_time": "2023-11-09T08:58:05.109Z"
   },
   {
    "duration": 435662,
    "start_time": "2023-11-09T08:58:09.261Z"
   },
   {
    "duration": 848,
    "start_time": "2023-11-09T09:06:42.753Z"
   },
   {
    "duration": 859,
    "start_time": "2023-11-09T09:07:01.945Z"
   },
   {
    "duration": 1235288,
    "start_time": "2023-11-09T09:07:25.579Z"
   },
   {
    "duration": 10,
    "start_time": "2023-11-09T09:32:34.771Z"
   },
   {
    "duration": 2976,
    "start_time": "2023-11-09T09:33:09.742Z"
   },
   {
    "duration": 2697,
    "start_time": "2023-11-09T09:33:12.721Z"
   },
   {
    "duration": 9,
    "start_time": "2023-11-09T09:33:15.420Z"
   },
   {
    "duration": 34,
    "start_time": "2023-11-09T09:33:15.432Z"
   },
   {
    "duration": 43,
    "start_time": "2023-11-09T09:33:15.468Z"
   },
   {
    "duration": 152,
    "start_time": "2023-11-09T09:33:15.513Z"
   },
   {
    "duration": 6,
    "start_time": "2023-11-09T09:33:15.667Z"
   },
   {
    "duration": 5,
    "start_time": "2023-11-09T09:33:15.675Z"
   },
   {
    "duration": 3069,
    "start_time": "2023-11-09T09:33:15.682Z"
   },
   {
    "duration": 10,
    "start_time": "2023-11-09T09:33:22.937Z"
   },
   {
    "duration": 4,
    "start_time": "2023-11-09T09:33:29.274Z"
   },
   {
    "duration": 1967,
    "start_time": "2023-11-09T09:34:06.361Z"
   },
   {
    "duration": 7,
    "start_time": "2023-11-09T09:34:15.147Z"
   },
   {
    "duration": 2642,
    "start_time": "2023-11-09T09:45:43.434Z"
   },
   {
    "duration": 5446,
    "start_time": "2023-11-09T10:14:26.908Z"
   },
   {
    "duration": 2361,
    "start_time": "2023-11-09T10:14:32.356Z"
   },
   {
    "duration": 17,
    "start_time": "2023-11-09T10:14:34.722Z"
   },
   {
    "duration": 46,
    "start_time": "2023-11-09T10:14:34.740Z"
   },
   {
    "duration": 20,
    "start_time": "2023-11-09T10:14:34.789Z"
   },
   {
    "duration": 171,
    "start_time": "2023-11-09T10:14:34.817Z"
   },
   {
    "duration": 24,
    "start_time": "2023-11-09T10:14:34.991Z"
   },
   {
    "duration": 13,
    "start_time": "2023-11-09T10:14:35.021Z"
   },
   {
    "duration": 3504,
    "start_time": "2023-11-09T10:14:35.040Z"
   },
   {
    "duration": 9,
    "start_time": "2023-11-09T10:14:38.547Z"
   },
   {
    "duration": 1283,
    "start_time": "2023-11-09T10:14:38.558Z"
   },
   {
    "duration": 15,
    "start_time": "2023-11-09T10:14:39.842Z"
   },
   {
    "duration": 0,
    "start_time": "2023-11-09T10:14:39.861Z"
   },
   {
    "duration": 1,
    "start_time": "2023-11-09T10:14:39.862Z"
   },
   {
    "duration": 0,
    "start_time": "2023-11-09T10:14:39.864Z"
   },
   {
    "duration": 0,
    "start_time": "2023-11-09T10:14:39.866Z"
   },
   {
    "duration": 0,
    "start_time": "2023-11-09T10:14:39.868Z"
   },
   {
    "duration": 0,
    "start_time": "2023-11-09T10:14:39.870Z"
   },
   {
    "duration": 0,
    "start_time": "2023-11-09T10:14:39.871Z"
   },
   {
    "duration": 0,
    "start_time": "2023-11-09T10:14:39.873Z"
   },
   {
    "duration": 0,
    "start_time": "2023-11-09T10:14:39.875Z"
   },
   {
    "duration": 0,
    "start_time": "2023-11-09T10:14:39.876Z"
   },
   {
    "duration": 0,
    "start_time": "2023-11-09T10:14:39.878Z"
   },
   {
    "duration": 0,
    "start_time": "2023-11-09T10:14:39.880Z"
   },
   {
    "duration": 0,
    "start_time": "2023-11-09T10:14:39.881Z"
   },
   {
    "duration": 1,
    "start_time": "2023-11-09T10:14:39.882Z"
   },
   {
    "duration": 0,
    "start_time": "2023-11-09T10:14:39.884Z"
   },
   {
    "duration": 0,
    "start_time": "2023-11-09T10:14:39.886Z"
   },
   {
    "duration": 0,
    "start_time": "2023-11-09T10:14:39.887Z"
   },
   {
    "duration": 0,
    "start_time": "2023-11-09T10:14:39.889Z"
   },
   {
    "duration": 0,
    "start_time": "2023-11-09T10:14:39.909Z"
   },
   {
    "duration": 0,
    "start_time": "2023-11-09T10:14:39.911Z"
   },
   {
    "duration": 0,
    "start_time": "2023-11-09T10:14:39.912Z"
   },
   {
    "duration": 0,
    "start_time": "2023-11-09T10:14:39.914Z"
   },
   {
    "duration": 0,
    "start_time": "2023-11-09T10:14:39.915Z"
   },
   {
    "duration": 0,
    "start_time": "2023-11-09T10:14:39.916Z"
   },
   {
    "duration": 0,
    "start_time": "2023-11-09T10:14:39.918Z"
   },
   {
    "duration": 0,
    "start_time": "2023-11-09T10:14:39.918Z"
   },
   {
    "duration": 0,
    "start_time": "2023-11-09T10:14:39.919Z"
   },
   {
    "duration": 1032,
    "start_time": "2023-11-09T10:21:10.838Z"
   },
   {
    "duration": 13,
    "start_time": "2023-11-09T10:21:11.872Z"
   },
   {
    "duration": 0,
    "start_time": "2023-11-09T10:21:11.887Z"
   },
   {
    "duration": 0,
    "start_time": "2023-11-09T10:21:11.889Z"
   },
   {
    "duration": 0,
    "start_time": "2023-11-09T10:21:11.890Z"
   },
   {
    "duration": 0,
    "start_time": "2023-11-09T10:21:11.892Z"
   },
   {
    "duration": 0,
    "start_time": "2023-11-09T10:21:11.893Z"
   },
   {
    "duration": 0,
    "start_time": "2023-11-09T10:21:11.894Z"
   },
   {
    "duration": 0,
    "start_time": "2023-11-09T10:21:11.896Z"
   },
   {
    "duration": 0,
    "start_time": "2023-11-09T10:21:11.897Z"
   },
   {
    "duration": 0,
    "start_time": "2023-11-09T10:21:11.899Z"
   },
   {
    "duration": 0,
    "start_time": "2023-11-09T10:21:11.899Z"
   },
   {
    "duration": 0,
    "start_time": "2023-11-09T10:21:11.900Z"
   },
   {
    "duration": 0,
    "start_time": "2023-11-09T10:21:11.905Z"
   },
   {
    "duration": 0,
    "start_time": "2023-11-09T10:21:11.906Z"
   },
   {
    "duration": 0,
    "start_time": "2023-11-09T10:21:11.906Z"
   },
   {
    "duration": 0,
    "start_time": "2023-11-09T10:21:11.907Z"
   },
   {
    "duration": 0,
    "start_time": "2023-11-09T10:21:11.908Z"
   },
   {
    "duration": 0,
    "start_time": "2023-11-09T10:21:11.912Z"
   },
   {
    "duration": 0,
    "start_time": "2023-11-09T10:21:11.915Z"
   },
   {
    "duration": 0,
    "start_time": "2023-11-09T10:21:11.931Z"
   },
   {
    "duration": 0,
    "start_time": "2023-11-09T10:21:11.932Z"
   },
   {
    "duration": 0,
    "start_time": "2023-11-09T10:21:11.934Z"
   },
   {
    "duration": 0,
    "start_time": "2023-11-09T10:21:11.937Z"
   },
   {
    "duration": 0,
    "start_time": "2023-11-09T10:21:11.938Z"
   },
   {
    "duration": 0,
    "start_time": "2023-11-09T10:21:11.940Z"
   },
   {
    "duration": 0,
    "start_time": "2023-11-09T10:21:11.942Z"
   },
   {
    "duration": 0,
    "start_time": "2023-11-09T10:21:11.944Z"
   },
   {
    "duration": 0,
    "start_time": "2023-11-09T10:21:11.945Z"
   },
   {
    "duration": 2598,
    "start_time": "2023-11-09T10:21:46.928Z"
   },
   {
    "duration": 5181,
    "start_time": "2023-11-09T10:21:57.481Z"
   },
   {
    "duration": 1992,
    "start_time": "2023-11-09T10:22:02.664Z"
   },
   {
    "duration": 21,
    "start_time": "2023-11-09T10:22:04.658Z"
   },
   {
    "duration": 54,
    "start_time": "2023-11-09T10:22:04.682Z"
   },
   {
    "duration": 21,
    "start_time": "2023-11-09T10:22:04.741Z"
   },
   {
    "duration": 184,
    "start_time": "2023-11-09T10:22:04.764Z"
   },
   {
    "duration": 7,
    "start_time": "2023-11-09T10:22:04.950Z"
   },
   {
    "duration": 19,
    "start_time": "2023-11-09T10:22:04.959Z"
   },
   {
    "duration": 3225,
    "start_time": "2023-11-09T10:22:04.981Z"
   },
   {
    "duration": 11,
    "start_time": "2023-11-09T10:22:08.208Z"
   },
   {
    "duration": 1418186,
    "start_time": "2023-11-09T10:22:08.221Z"
   },
   {
    "duration": 182,
    "start_time": "2023-11-09T10:45:46.415Z"
   },
   {
    "duration": 1,
    "start_time": "2023-11-09T10:45:46.600Z"
   },
   {
    "duration": 0,
    "start_time": "2023-11-09T10:45:46.611Z"
   },
   {
    "duration": 0,
    "start_time": "2023-11-09T10:45:46.613Z"
   },
   {
    "duration": 0,
    "start_time": "2023-11-09T10:45:46.615Z"
   },
   {
    "duration": 0,
    "start_time": "2023-11-09T10:45:46.617Z"
   },
   {
    "duration": 0,
    "start_time": "2023-11-09T10:45:46.619Z"
   },
   {
    "duration": 0,
    "start_time": "2023-11-09T10:45:46.620Z"
   },
   {
    "duration": 0,
    "start_time": "2023-11-09T10:45:46.622Z"
   },
   {
    "duration": 0,
    "start_time": "2023-11-09T10:45:46.623Z"
   },
   {
    "duration": 0,
    "start_time": "2023-11-09T10:45:46.625Z"
   },
   {
    "duration": 0,
    "start_time": "2023-11-09T10:45:46.626Z"
   },
   {
    "duration": 0,
    "start_time": "2023-11-09T10:45:46.626Z"
   },
   {
    "duration": 0,
    "start_time": "2023-11-09T10:45:46.627Z"
   },
   {
    "duration": 0,
    "start_time": "2023-11-09T10:45:46.629Z"
   },
   {
    "duration": 0,
    "start_time": "2023-11-09T10:45:46.631Z"
   },
   {
    "duration": 0,
    "start_time": "2023-11-09T10:45:46.632Z"
   },
   {
    "duration": 0,
    "start_time": "2023-11-09T10:45:46.634Z"
   },
   {
    "duration": 0,
    "start_time": "2023-11-09T10:45:46.636Z"
   },
   {
    "duration": 0,
    "start_time": "2023-11-09T10:45:46.638Z"
   },
   {
    "duration": 0,
    "start_time": "2023-11-09T10:45:46.640Z"
   },
   {
    "duration": 0,
    "start_time": "2023-11-09T10:45:46.642Z"
   },
   {
    "duration": 0,
    "start_time": "2023-11-09T10:45:46.643Z"
   },
   {
    "duration": 0,
    "start_time": "2023-11-09T10:45:46.645Z"
   },
   {
    "duration": 0,
    "start_time": "2023-11-09T10:45:46.646Z"
   },
   {
    "duration": 0,
    "start_time": "2023-11-09T10:45:46.647Z"
   },
   {
    "duration": 0,
    "start_time": "2023-11-09T10:45:46.649Z"
   },
   {
    "duration": 0,
    "start_time": "2023-11-09T10:45:46.651Z"
   },
   {
    "duration": 1390235,
    "start_time": "2023-11-09T10:46:13.225Z"
   },
   {
    "duration": 7,
    "start_time": "2023-11-09T11:09:23.463Z"
   },
   {
    "duration": 33,
    "start_time": "2023-11-09T11:09:23.471Z"
   },
   {
    "duration": 7,
    "start_time": "2023-11-09T11:09:23.508Z"
   },
   {
    "duration": 19,
    "start_time": "2023-11-09T11:09:23.523Z"
   },
   {
    "duration": 70,
    "start_time": "2023-11-09T11:09:23.545Z"
   },
   {
    "duration": 5,
    "start_time": "2023-11-09T11:09:23.621Z"
   },
   {
    "duration": 27,
    "start_time": "2023-11-09T11:09:23.629Z"
   },
   {
    "duration": 90,
    "start_time": "2023-11-09T11:09:23.658Z"
   },
   {
    "duration": 5,
    "start_time": "2023-11-09T11:09:23.750Z"
   },
   {
    "duration": 9792,
    "start_time": "2023-11-09T11:09:23.757Z"
   },
   {
    "duration": 4,
    "start_time": "2023-11-09T11:09:33.551Z"
   },
   {
    "duration": 22,
    "start_time": "2023-11-09T11:09:33.557Z"
   },
   {
    "duration": 682237,
    "start_time": "2023-11-09T11:09:33.583Z"
   },
   {
    "duration": 5,
    "start_time": "2023-11-09T11:20:55.824Z"
   },
   {
    "duration": 14,
    "start_time": "2023-11-09T11:20:55.832Z"
   },
   {
    "duration": 2597549,
    "start_time": "2023-11-09T11:20:55.847Z"
   },
   {
    "duration": 3,
    "start_time": "2023-11-09T12:04:13.401Z"
   },
   {
    "duration": 11,
    "start_time": "2023-11-09T12:04:13.406Z"
   },
   {
    "duration": 148071,
    "start_time": "2023-11-11T13:12:24.774Z"
   },
   {
    "duration": 2745,
    "start_time": "2023-11-11T13:14:52.848Z"
   },
   {
    "duration": 20,
    "start_time": "2023-11-11T13:14:55.595Z"
   },
   {
    "duration": 3,
    "start_time": "2023-11-11T13:19:02.011Z"
   },
   {
    "duration": 11,
    "start_time": "2023-11-11T13:19:04.408Z"
   },
   {
    "duration": 4,
    "start_time": "2023-11-11T13:19:04.619Z"
   },
   {
    "duration": 97,
    "start_time": "2023-11-11T13:19:04.838Z"
   },
   {
    "duration": 4,
    "start_time": "2023-11-11T13:19:05.052Z"
   },
   {
    "duration": 3,
    "start_time": "2023-11-11T13:19:05.224Z"
   },
   {
    "duration": 5,
    "start_time": "2023-11-11T13:19:05.951Z"
   },
   {
    "duration": 7,
    "start_time": "2023-11-11T13:19:06.135Z"
   },
   {
    "duration": 1324,
    "start_time": "2023-11-11T13:19:06.889Z"
   },
   {
    "duration": 7,
    "start_time": "2023-11-11T13:19:08.215Z"
   },
   {
    "duration": 21,
    "start_time": "2023-11-11T13:19:08.223Z"
   },
   {
    "duration": 4,
    "start_time": "2023-11-11T13:19:11.650Z"
   },
   {
    "duration": 4,
    "start_time": "2023-11-11T13:19:13.944Z"
   }
  ],
  "kernelspec": {
   "display_name": "Python 3 (ipykernel)",
   "language": "python",
   "name": "python3"
  },
  "language_info": {
   "codemirror_mode": {
    "name": "ipython",
    "version": 3
   },
   "file_extension": ".py",
   "mimetype": "text/x-python",
   "name": "python",
   "nbconvert_exporter": "python",
   "pygments_lexer": "ipython3",
   "version": "3.9.13"
  },
  "toc": {
   "base_numbering": 1,
   "nav_menu": {},
   "number_sections": true,
   "sideBar": true,
   "skip_h1_title": true,
   "title_cell": "Table of Contents",
   "title_sidebar": "Contents",
   "toc_cell": false,
   "toc_position": {},
   "toc_section_display": true,
   "toc_window_display": false
  }
 },
 "nbformat": 4,
 "nbformat_minor": 5
}
