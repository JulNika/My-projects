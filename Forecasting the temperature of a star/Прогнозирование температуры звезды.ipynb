{
 "cells": [
  {
   "cell_type": "markdown",
   "id": "be7208e0",
   "metadata": {},
   "source": [
    "## Проект \"Прогнозирование температуры звезд\""
   ]
  },
  {
   "cell_type": "markdown",
   "id": "8c5aa8f4",
   "metadata": {},
   "source": [
    "Перед нами cтоит задача от обсерватории «Небо на ладони»: с помощью нейросети определять температуру на поверхности обнаруженных звёзд. \n",
    "\n",
    "\n",
    "Обычно для расчёта температуры учёные пользуются следующими методами:\n",
    "Закон смещения Вина.\n",
    "Закон Стефана-Больцмана.\n",
    "Спектральный анализ.\n",
    "\n",
    "Каждый из них имеет плюсы и минусы. Обсерватория хочет внедрить технологии машинного обучения для предсказания температуры звёзд, надеясь, что этот метод будет наиболее точным и удобным.\n",
    "В базе обсерватории есть характеристики уже изученных 240 звёзд.\n",
    "\n",
    "Данные находятся в файле /datasets/6_class.csv. \n",
    "\n",
    "\n",
    "***Характеристики / признаки***\n",
    "\n",
    "Температура Temperature (K) - температуры поверхности звезд.\n",
    "\n",
    "Относительная светимость L/Lo — светимость звезды относительно Солнца.\n",
    "\n",
    "Относительный радиус R/Ro — радиус звезды относительно радиуса Солнца.\n",
    "\n",
    "Абсолютная звёздная величина Mv — физическая величина, характеризующая блеск звезды.\n",
    "\n",
    "Звёздный цвет (white, red, blue, yellow, yellow-orange и др.) — цвет звезды, который определяют на основе спектрального анализа.\n",
    "Тип звезды.\n",
    "\n",
    "\n",
    "Основные этапы работы будут такие:\n",
    "\n",
    " - Загрузка данны и исследовательский анализ. По поставленной задаче - решаем задачу линейной регрессии.\n",
    " \n",
    " - Подготовка данных к построению модели: \n",
    "корректировки порезультатам исследовательского анализа, категоризируйте исходные данные, подготовка обучающей и тестовой выборки, масштабирование количественных данных.\n",
    " \n",
    " - Построение простой модели нейронной сети — baseline. \n",
    "Создание класс для задания архитектуры нейронной сети.\n",
    "Выбор количество скрытых слоёв, количество нейронов на них, функции активации на скрытых и выходном слоях. Попробуем и сравним несколько подобных комбинаций.Проведение обучения нейронной сети. Создание функцию для обучения нейронной сети.Проведение обучение модели.Построение графика «Факт — Прогноз», где по горизонтальной оси будут отложены условные номера звёзд, а по вертикальной — температура в Кельвинах. Выводы.\n",
    "\n",
    " - Улучшение сети\n",
    "Решение с перебором параметров нейросети. Список параметров для перебора должен включать как минимум «dropout» и «размер батча». Архитектуру нейронной сети: количество слоёв, нейронов, вид функции активации — оставьте как в Baseline, чтобы сравнить результат.\n",
    "Проведение бучения нейронной сети. Выведение метрики RMSE и график «Факт — прогноз». Метрика RMSE не должна превышать 4500.\n",
    "Вывод в виде таблицы или графика.\n",
    "\n",
    " - Выводы по проекту\n",
    "Описание результатом каждого типа модели.\n",
    "Выводы по сравнению двух  наилучших моделей."
   ]
  },
  {
   "cell_type": "markdown",
   "id": "2a35f6e8",
   "metadata": {},
   "source": [
    "## Методы расчета темпераутры звезды:\n",
    "\n",
    "***1) Закон смещения Вина.***\n",
    "\n",
    "***2) Закон Стефана-Больцмана.***\n",
    "\n",
    "***3) Спектральный анализ.***"
   ]
  },
  {
   "cell_type": "markdown",
   "id": "corresponding-armstrong",
   "metadata": {
    "ExecuteTime": {
     "end_time": "2022-05-05T04:58:05.692448Z",
     "start_time": "2022-05-05T04:58:05.688565Z"
    }
   },
   "source": [
    "## Загрузка данных"
   ]
  },
  {
   "cell_type": "code",
   "execution_count": 1,
   "id": "7518936b",
   "metadata": {},
   "outputs": [
    {
     "name": "stdout",
     "output_type": "stream",
     "text": [
      "Requirement already satisfied: skorch in /opt/conda/lib/python3.9/site-packages (0.15.0)\n",
      "Requirement already satisfied: numpy>=1.13.3 in /opt/conda/lib/python3.9/site-packages (from skorch) (1.21.1)\n",
      "Requirement already satisfied: scikit-learn>=0.22.0 in /opt/conda/lib/python3.9/site-packages (from skorch) (0.24.1)\n",
      "Requirement already satisfied: tabulate>=0.7.7 in /opt/conda/lib/python3.9/site-packages (from skorch) (0.9.0)\n",
      "Requirement already satisfied: tqdm>=4.14.0 in /opt/conda/lib/python3.9/site-packages (from skorch) (4.61.2)\n",
      "Requirement already satisfied: scipy>=1.1.0 in /opt/conda/lib/python3.9/site-packages (from skorch) (1.9.1)\n",
      "Requirement already satisfied: threadpoolctl>=2.0.0 in /opt/conda/lib/python3.9/site-packages (from scikit-learn>=0.22.0->skorch) (3.1.0)\n",
      "Requirement already satisfied: joblib>=0.11 in /opt/conda/lib/python3.9/site-packages (from scikit-learn>=0.22.0->skorch) (1.1.0)\n"
     ]
    }
   ],
   "source": [
    "!pip install -U skorch"
   ]
  },
  {
   "cell_type": "code",
   "execution_count": 2,
   "id": "1125128c",
   "metadata": {},
   "outputs": [],
   "source": [
    "#тут будуь все импорты\n",
    "import pandas as pd\n",
    "import torch\n",
    "import torch.nn as nn\n",
    "\n",
    "\n",
    "import matplotlib.pyplot as plt\n",
    "import matplotlib.colors as mcolors\n",
    "import seaborn as sns\n",
    "import numpy as np\n",
    "\n",
    "import sklearn\n",
    "from sklearn.model_selection import train_test_split\n",
    "from sklearn.preprocessing import OneHotEncoder, StandardScaler\n",
    "from sklearn.model_selection import RandomizedSearchCV\n",
    "\n",
    "import torch.nn as nn\n",
    "from skorch import NeuralNetRegressor\n",
    "import random\n",
    "from math import ceil\n",
    "\n"
   ]
  },
  {
   "cell_type": "code",
   "execution_count": 3,
   "id": "74d158c6",
   "metadata": {},
   "outputs": [
    {
     "data": {
      "text/html": [
       "<div>\n",
       "<style scoped>\n",
       "    .dataframe tbody tr th:only-of-type {\n",
       "        vertical-align: middle;\n",
       "    }\n",
       "\n",
       "    .dataframe tbody tr th {\n",
       "        vertical-align: top;\n",
       "    }\n",
       "\n",
       "    .dataframe thead th {\n",
       "        text-align: right;\n",
       "    }\n",
       "</style>\n",
       "<table border=\"1\" class=\"dataframe\">\n",
       "  <thead>\n",
       "    <tr style=\"text-align: right;\">\n",
       "      <th></th>\n",
       "      <th>Unnamed: 0</th>\n",
       "      <th>Temperature (K)</th>\n",
       "      <th>Luminosity(L/Lo)</th>\n",
       "      <th>Radius(R/Ro)</th>\n",
       "      <th>Absolute magnitude(Mv)</th>\n",
       "      <th>Star type</th>\n",
       "      <th>Star color</th>\n",
       "    </tr>\n",
       "  </thead>\n",
       "  <tbody>\n",
       "    <tr>\n",
       "      <th>0</th>\n",
       "      <td>0</td>\n",
       "      <td>3068</td>\n",
       "      <td>0.002400</td>\n",
       "      <td>0.1700</td>\n",
       "      <td>16.120</td>\n",
       "      <td>0</td>\n",
       "      <td>Red</td>\n",
       "    </tr>\n",
       "    <tr>\n",
       "      <th>1</th>\n",
       "      <td>1</td>\n",
       "      <td>3042</td>\n",
       "      <td>0.000500</td>\n",
       "      <td>0.1542</td>\n",
       "      <td>16.600</td>\n",
       "      <td>0</td>\n",
       "      <td>Red</td>\n",
       "    </tr>\n",
       "    <tr>\n",
       "      <th>2</th>\n",
       "      <td>2</td>\n",
       "      <td>2600</td>\n",
       "      <td>0.000300</td>\n",
       "      <td>0.1020</td>\n",
       "      <td>18.700</td>\n",
       "      <td>0</td>\n",
       "      <td>Red</td>\n",
       "    </tr>\n",
       "    <tr>\n",
       "      <th>3</th>\n",
       "      <td>3</td>\n",
       "      <td>2800</td>\n",
       "      <td>0.000200</td>\n",
       "      <td>0.1600</td>\n",
       "      <td>16.650</td>\n",
       "      <td>0</td>\n",
       "      <td>Red</td>\n",
       "    </tr>\n",
       "    <tr>\n",
       "      <th>4</th>\n",
       "      <td>4</td>\n",
       "      <td>1939</td>\n",
       "      <td>0.000138</td>\n",
       "      <td>0.1030</td>\n",
       "      <td>20.060</td>\n",
       "      <td>0</td>\n",
       "      <td>Red</td>\n",
       "    </tr>\n",
       "    <tr>\n",
       "      <th>5</th>\n",
       "      <td>5</td>\n",
       "      <td>2840</td>\n",
       "      <td>0.000650</td>\n",
       "      <td>0.1100</td>\n",
       "      <td>16.980</td>\n",
       "      <td>0</td>\n",
       "      <td>Red</td>\n",
       "    </tr>\n",
       "    <tr>\n",
       "      <th>6</th>\n",
       "      <td>6</td>\n",
       "      <td>2637</td>\n",
       "      <td>0.000730</td>\n",
       "      <td>0.1270</td>\n",
       "      <td>17.220</td>\n",
       "      <td>0</td>\n",
       "      <td>Red</td>\n",
       "    </tr>\n",
       "    <tr>\n",
       "      <th>7</th>\n",
       "      <td>7</td>\n",
       "      <td>2600</td>\n",
       "      <td>0.000400</td>\n",
       "      <td>0.0960</td>\n",
       "      <td>17.400</td>\n",
       "      <td>0</td>\n",
       "      <td>Red</td>\n",
       "    </tr>\n",
       "    <tr>\n",
       "      <th>8</th>\n",
       "      <td>8</td>\n",
       "      <td>2650</td>\n",
       "      <td>0.000690</td>\n",
       "      <td>0.1100</td>\n",
       "      <td>17.450</td>\n",
       "      <td>0</td>\n",
       "      <td>Red</td>\n",
       "    </tr>\n",
       "    <tr>\n",
       "      <th>9</th>\n",
       "      <td>9</td>\n",
       "      <td>2700</td>\n",
       "      <td>0.000180</td>\n",
       "      <td>0.1300</td>\n",
       "      <td>16.050</td>\n",
       "      <td>0</td>\n",
       "      <td>Red</td>\n",
       "    </tr>\n",
       "    <tr>\n",
       "      <th>10</th>\n",
       "      <td>10</td>\n",
       "      <td>3600</td>\n",
       "      <td>0.002900</td>\n",
       "      <td>0.5100</td>\n",
       "      <td>10.690</td>\n",
       "      <td>1</td>\n",
       "      <td>Red</td>\n",
       "    </tr>\n",
       "    <tr>\n",
       "      <th>11</th>\n",
       "      <td>11</td>\n",
       "      <td>3129</td>\n",
       "      <td>0.012200</td>\n",
       "      <td>0.3761</td>\n",
       "      <td>11.790</td>\n",
       "      <td>1</td>\n",
       "      <td>Red</td>\n",
       "    </tr>\n",
       "    <tr>\n",
       "      <th>12</th>\n",
       "      <td>12</td>\n",
       "      <td>3134</td>\n",
       "      <td>0.000400</td>\n",
       "      <td>0.1960</td>\n",
       "      <td>13.210</td>\n",
       "      <td>1</td>\n",
       "      <td>Red</td>\n",
       "    </tr>\n",
       "    <tr>\n",
       "      <th>13</th>\n",
       "      <td>13</td>\n",
       "      <td>3628</td>\n",
       "      <td>0.005500</td>\n",
       "      <td>0.3930</td>\n",
       "      <td>10.480</td>\n",
       "      <td>1</td>\n",
       "      <td>Red</td>\n",
       "    </tr>\n",
       "    <tr>\n",
       "      <th>14</th>\n",
       "      <td>14</td>\n",
       "      <td>2650</td>\n",
       "      <td>0.000600</td>\n",
       "      <td>0.1400</td>\n",
       "      <td>11.782</td>\n",
       "      <td>1</td>\n",
       "      <td>Red</td>\n",
       "    </tr>\n",
       "    <tr>\n",
       "      <th>15</th>\n",
       "      <td>15</td>\n",
       "      <td>3340</td>\n",
       "      <td>0.003800</td>\n",
       "      <td>0.2400</td>\n",
       "      <td>13.070</td>\n",
       "      <td>1</td>\n",
       "      <td>Red</td>\n",
       "    </tr>\n",
       "    <tr>\n",
       "      <th>16</th>\n",
       "      <td>16</td>\n",
       "      <td>2799</td>\n",
       "      <td>0.001800</td>\n",
       "      <td>0.1600</td>\n",
       "      <td>14.790</td>\n",
       "      <td>1</td>\n",
       "      <td>Red</td>\n",
       "    </tr>\n",
       "    <tr>\n",
       "      <th>17</th>\n",
       "      <td>17</td>\n",
       "      <td>3692</td>\n",
       "      <td>0.003670</td>\n",
       "      <td>0.4700</td>\n",
       "      <td>10.800</td>\n",
       "      <td>1</td>\n",
       "      <td>Red</td>\n",
       "    </tr>\n",
       "    <tr>\n",
       "      <th>18</th>\n",
       "      <td>18</td>\n",
       "      <td>3192</td>\n",
       "      <td>0.003620</td>\n",
       "      <td>0.1967</td>\n",
       "      <td>13.530</td>\n",
       "      <td>1</td>\n",
       "      <td>Red</td>\n",
       "    </tr>\n",
       "    <tr>\n",
       "      <th>19</th>\n",
       "      <td>19</td>\n",
       "      <td>3441</td>\n",
       "      <td>0.039000</td>\n",
       "      <td>0.3510</td>\n",
       "      <td>11.180</td>\n",
       "      <td>1</td>\n",
       "      <td>Red</td>\n",
       "    </tr>\n",
       "  </tbody>\n",
       "</table>\n",
       "</div>"
      ],
      "text/plain": [
       "    Unnamed: 0  Temperature (K)  Luminosity(L/Lo)  Radius(R/Ro)  \\\n",
       "0            0             3068          0.002400        0.1700   \n",
       "1            1             3042          0.000500        0.1542   \n",
       "2            2             2600          0.000300        0.1020   \n",
       "3            3             2800          0.000200        0.1600   \n",
       "4            4             1939          0.000138        0.1030   \n",
       "5            5             2840          0.000650        0.1100   \n",
       "6            6             2637          0.000730        0.1270   \n",
       "7            7             2600          0.000400        0.0960   \n",
       "8            8             2650          0.000690        0.1100   \n",
       "9            9             2700          0.000180        0.1300   \n",
       "10          10             3600          0.002900        0.5100   \n",
       "11          11             3129          0.012200        0.3761   \n",
       "12          12             3134          0.000400        0.1960   \n",
       "13          13             3628          0.005500        0.3930   \n",
       "14          14             2650          0.000600        0.1400   \n",
       "15          15             3340          0.003800        0.2400   \n",
       "16          16             2799          0.001800        0.1600   \n",
       "17          17             3692          0.003670        0.4700   \n",
       "18          18             3192          0.003620        0.1967   \n",
       "19          19             3441          0.039000        0.3510   \n",
       "\n",
       "    Absolute magnitude(Mv)  Star type Star color  \n",
       "0                   16.120          0        Red  \n",
       "1                   16.600          0        Red  \n",
       "2                   18.700          0        Red  \n",
       "3                   16.650          0        Red  \n",
       "4                   20.060          0        Red  \n",
       "5                   16.980          0        Red  \n",
       "6                   17.220          0        Red  \n",
       "7                   17.400          0        Red  \n",
       "8                   17.450          0        Red  \n",
       "9                   16.050          0        Red  \n",
       "10                  10.690          1        Red  \n",
       "11                  11.790          1        Red  \n",
       "12                  13.210          1        Red  \n",
       "13                  10.480          1        Red  \n",
       "14                  11.782          1        Red  \n",
       "15                  13.070          1        Red  \n",
       "16                  14.790          1        Red  \n",
       "17                  10.800          1        Red  \n",
       "18                  13.530          1        Red  \n",
       "19                  11.180          1        Red  "
      ]
     },
     "execution_count": 3,
     "metadata": {},
     "output_type": "execute_result"
    }
   ],
   "source": [
    "#загрузка данных\n",
    "data = pd.read_csv('/datasets/6_class.csv')\n",
    "data.head(20)"
   ]
  },
  {
   "cell_type": "code",
   "execution_count": 4,
   "id": "3580df10",
   "metadata": {},
   "outputs": [
    {
     "data": {
      "text/html": [
       "<div>\n",
       "<style scoped>\n",
       "    .dataframe tbody tr th:only-of-type {\n",
       "        vertical-align: middle;\n",
       "    }\n",
       "\n",
       "    .dataframe tbody tr th {\n",
       "        vertical-align: top;\n",
       "    }\n",
       "\n",
       "    .dataframe thead th {\n",
       "        text-align: right;\n",
       "    }\n",
       "</style>\n",
       "<table border=\"1\" class=\"dataframe\">\n",
       "  <thead>\n",
       "    <tr style=\"text-align: right;\">\n",
       "      <th></th>\n",
       "      <th>Temperature (K)</th>\n",
       "      <th>Luminosity(L/Lo)</th>\n",
       "      <th>Radius(R/Ro)</th>\n",
       "      <th>Absolute magnitude(Mv)</th>\n",
       "      <th>Star type</th>\n",
       "      <th>Star color</th>\n",
       "    </tr>\n",
       "  </thead>\n",
       "  <tbody>\n",
       "    <tr>\n",
       "      <th>0</th>\n",
       "      <td>3068</td>\n",
       "      <td>0.002400</td>\n",
       "      <td>0.1700</td>\n",
       "      <td>16.12</td>\n",
       "      <td>0</td>\n",
       "      <td>Red</td>\n",
       "    </tr>\n",
       "    <tr>\n",
       "      <th>1</th>\n",
       "      <td>3042</td>\n",
       "      <td>0.000500</td>\n",
       "      <td>0.1542</td>\n",
       "      <td>16.60</td>\n",
       "      <td>0</td>\n",
       "      <td>Red</td>\n",
       "    </tr>\n",
       "    <tr>\n",
       "      <th>2</th>\n",
       "      <td>2600</td>\n",
       "      <td>0.000300</td>\n",
       "      <td>0.1020</td>\n",
       "      <td>18.70</td>\n",
       "      <td>0</td>\n",
       "      <td>Red</td>\n",
       "    </tr>\n",
       "    <tr>\n",
       "      <th>3</th>\n",
       "      <td>2800</td>\n",
       "      <td>0.000200</td>\n",
       "      <td>0.1600</td>\n",
       "      <td>16.65</td>\n",
       "      <td>0</td>\n",
       "      <td>Red</td>\n",
       "    </tr>\n",
       "    <tr>\n",
       "      <th>4</th>\n",
       "      <td>1939</td>\n",
       "      <td>0.000138</td>\n",
       "      <td>0.1030</td>\n",
       "      <td>20.06</td>\n",
       "      <td>0</td>\n",
       "      <td>Red</td>\n",
       "    </tr>\n",
       "  </tbody>\n",
       "</table>\n",
       "</div>"
      ],
      "text/plain": [
       "   Temperature (K)  Luminosity(L/Lo)  Radius(R/Ro)  Absolute magnitude(Mv)  \\\n",
       "0             3068          0.002400        0.1700                   16.12   \n",
       "1             3042          0.000500        0.1542                   16.60   \n",
       "2             2600          0.000300        0.1020                   18.70   \n",
       "3             2800          0.000200        0.1600                   16.65   \n",
       "4             1939          0.000138        0.1030                   20.06   \n",
       "\n",
       "   Star type Star color  \n",
       "0          0        Red  \n",
       "1          0        Red  \n",
       "2          0        Red  \n",
       "3          0        Red  \n",
       "4          0        Red  "
      ]
     },
     "execution_count": 4,
     "metadata": {},
     "output_type": "execute_result"
    }
   ],
   "source": [
    "#колонка Unnamed дублирует номер по порядку, ее можно удалить\n",
    "data = data.drop('Unnamed: 0', axis=1)\n",
    "data.head()"
   ]
  },
  {
   "cell_type": "markdown",
   "id": "simple-subdivision",
   "metadata": {},
   "source": [
    "## Предобработка и анализ данных"
   ]
  },
  {
   "cell_type": "code",
   "execution_count": 5,
   "id": "flush-dream",
   "metadata": {},
   "outputs": [
    {
     "name": "stdout",
     "output_type": "stream",
     "text": [
      "<class 'pandas.core.frame.DataFrame'>\n",
      "RangeIndex: 240 entries, 0 to 239\n",
      "Data columns (total 6 columns):\n",
      " #   Column                  Non-Null Count  Dtype  \n",
      "---  ------                  --------------  -----  \n",
      " 0   Temperature (K)         240 non-null    int64  \n",
      " 1   Luminosity(L/Lo)        240 non-null    float64\n",
      " 2   Radius(R/Ro)            240 non-null    float64\n",
      " 3   Absolute magnitude(Mv)  240 non-null    float64\n",
      " 4   Star type               240 non-null    int64  \n",
      " 5   Star color              240 non-null    object \n",
      "dtypes: float64(3), int64(2), object(1)\n",
      "memory usage: 11.4+ KB\n"
     ]
    }
   ],
   "source": [
    "data.info()"
   ]
  },
  {
   "cell_type": "markdown",
   "id": "15f7a60b",
   "metadata": {},
   "source": [
    "Пропусков в данных нет. Проверим уникальность, наличие дубликатов и проанализируем разброс данных."
   ]
  },
  {
   "cell_type": "code",
   "execution_count": 6,
   "id": "2ece9608",
   "metadata": {},
   "outputs": [
    {
     "name": "stdout",
     "output_type": "stream",
     "text": [
      "0\n"
     ]
    }
   ],
   "source": [
    "#проверка на наличие полных дубликатов\n",
    "print(data.duplicated().sum())"
   ]
  },
  {
   "cell_type": "markdown",
   "id": "26d263b6",
   "metadata": {},
   "source": [
    "Полных дубликатов нет. Проверим наличие неявных дубликатов для этого необходимо проанализировать уникальные значения признаков.\n",
    "колонках Temperature (K),Luminosity(L/Lo), Radius(R/Ro)  у нас количесвенные признаким - у ни проверим разброс данных. Их уникальнсть мы смотреть не будем.\n",
    "\n",
    "Изучим уникальность категориальных данных в колонках Star type и Star color."
   ]
  },
  {
   "cell_type": "code",
   "execution_count": 7,
   "id": "d00cec43",
   "metadata": {},
   "outputs": [
    {
     "data": {
      "text/plain": [
       "array([0, 1, 2, 3, 4, 5])"
      ]
     },
     "execution_count": 7,
     "metadata": {},
     "output_type": "execute_result"
    }
   ],
   "source": [
    "data['Star type'].unique()\n"
   ]
  },
  {
   "cell_type": "code",
   "execution_count": 8,
   "id": "be891306",
   "metadata": {},
   "outputs": [
    {
     "data": {
      "text/plain": [
       "array(['Red', 'Blue White', 'White', 'Yellowish White', 'Blue white',\n",
       "       'Pale yellow orange', 'Blue', 'Blue-white', 'Whitish',\n",
       "       'yellow-white', 'Orange', 'White-Yellow', 'white', 'Blue ',\n",
       "       'yellowish', 'Yellowish', 'Orange-Red', 'Blue white ',\n",
       "       'Blue-White'], dtype=object)"
      ]
     },
     "execution_count": 8,
     "metadata": {},
     "output_type": "execute_result"
    }
   ],
   "source": [
    "data['Star color'].unique()"
   ]
  },
  {
   "cell_type": "code",
   "execution_count": 9,
   "id": "b5d2c73a",
   "metadata": {},
   "outputs": [
    {
     "name": "stdout",
     "output_type": "stream",
     "text": [
      "<class 'pandas.core.frame.DataFrame'>\n",
      "RangeIndex: 240 entries, 0 to 239\n",
      "Data columns (total 6 columns):\n",
      " #   Column                  Non-Null Count  Dtype  \n",
      "---  ------                  --------------  -----  \n",
      " 0   Temperature (K)         240 non-null    int64  \n",
      " 1   Luminosity(L/Lo)        240 non-null    float64\n",
      " 2   Radius(R/Ro)            240 non-null    float64\n",
      " 3   Absolute magnitude(Mv)  240 non-null    float64\n",
      " 4   Star type               240 non-null    object \n",
      " 5   Star color              240 non-null    object \n",
      "dtypes: float64(3), int64(1), object(2)\n",
      "memory usage: 11.4+ KB\n"
     ]
    }
   ],
   "source": [
    "#поменяем тип данных в колонке Star type, потому что хоть он и выражен в цифрах по сути это качественные переменные\n",
    "data['Star type'] = data['Star type'].astype('object')\n",
    "data.info()"
   ]
  },
  {
   "cell_type": "markdown",
   "id": "e51e5e51",
   "metadata": {},
   "source": [
    "Есть неявные дубликаты в признаках Star color, чтобы он низх избавится приведем все данные в этой колонке к нижнему регистру."
   ]
  },
  {
   "cell_type": "code",
   "execution_count": 10,
   "id": "9d84b66e",
   "metadata": {},
   "outputs": [
    {
     "data": {
      "text/plain": [
       "array(['red', 'blue white', 'white', 'yellowish white',\n",
       "       'pale yellow orange', 'blue', 'blue-white', 'whitish',\n",
       "       'yellow-white', 'orange', 'white-yellow', 'blue ', 'yellowish',\n",
       "       'orange-red', 'blue white '], dtype=object)"
      ]
     },
     "execution_count": 10,
     "metadata": {},
     "output_type": "execute_result"
    }
   ],
   "source": [
    "data['Star color'] = data['Star color'].str.lower()\n",
    "data['Star color'].unique()"
   ]
  },
  {
   "cell_type": "code",
   "execution_count": 11,
   "id": "df2dd111",
   "metadata": {},
   "outputs": [],
   "source": [
    "#заменим неявные дубликаты в колонке Star color\n",
    "data['Star color'] = data['Star color'].replace('blue white', 'blue-white')\n",
    "data['Star color'] = data['Star color'].replace('blue ', 'blue')\n",
    "data['Star color'] = data['Star color'].replace('blue white ', 'blue-white')"
   ]
  },
  {
   "cell_type": "markdown",
   "id": "099c8939",
   "metadata": {},
   "source": [
    "Мы заменили неявные дубликаты. Теперь проанализируем разброс количественнызх данных с помощь диаграммы размаха и гистрогамм."
   ]
  },
  {
   "cell_type": "code",
   "execution_count": 12,
   "id": "a9358174",
   "metadata": {},
   "outputs": [
    {
     "name": "stdout",
     "output_type": "stream",
     "text": [
      "       Temperature (K)  Luminosity(L/Lo)  Radius(R/Ro)  Absolute magnitude(Mv)\n",
      "count       240.000000        240.000000    240.000000              240.000000\n",
      "mean      10497.462500     107188.361635    237.157781                4.382396\n",
      "std        9552.425037     179432.244940    517.155763               10.532512\n",
      "min        1939.000000          0.000080      0.008400              -11.920000\n",
      "25%        3344.250000          0.000865      0.102750               -6.232500\n",
      "50%        5776.000000          0.070500      0.762500                8.313000\n",
      "75%       15055.500000     198050.000000     42.750000               13.697500\n",
      "max       40000.000000     849420.000000   1948.500000               20.060000\n"
     ]
    }
   ],
   "source": [
    "print(data.describe()) "
   ]
  },
  {
   "cell_type": "code",
   "execution_count": 13,
   "id": "5a0090b3",
   "metadata": {},
   "outputs": [
    {
     "data": {
      "image/png": "[encoded data removed]",
      "text/plain": [
       "<Figure size 432x288 with 1 Axes>"
      ]
     },
     "metadata": {
      "needs_background": "light"
     },
     "output_type": "display_data"
    },
    {
     "data": {
      "image/png": "[encoded data removed]",
      "text/plain": [
       "<Figure size 432x288 with 1 Axes>"
      ]
     },
     "metadata": {
      "needs_background": "light"
     },
     "output_type": "display_data"
    }
   ],
   "source": [
    "data.boxplot(column=['Temperature (K)'])\n",
    "plt.title(f'Диаграмма размаха на столбце Temperature (K)')\n",
    "plt.show()\n",
    "data['Temperature (K)'].plot(kind='hist', bins=100, grid=True)\n",
    "plt.title(f'Гистограмма на столбце Temperature (K)')\n",
    "plt.xlabel(['Temperature (K)'])\n",
    "plt.ylabel('Кол-во наблюдений')\n",
    "plt.show()"
   ]
  },
  {
   "cell_type": "code",
   "execution_count": 14,
   "id": "7d8061f6",
   "metadata": {},
   "outputs": [
    {
     "data": {
      "image/png": "[encoded data removed]",
      "text/plain": [
       "<Figure size 432x288 with 1 Axes>"
      ]
     },
     "metadata": {
      "needs_background": "light"
     },
     "output_type": "display_data"
    },
    {
     "data": {
      "image/png": "[encoded data removed]",
      "text/plain": [
       "<Figure size 432x288 with 1 Axes>"
      ]
     },
     "metadata": {
      "needs_background": "light"
     },
     "output_type": "display_data"
    }
   ],
   "source": [
    "data.boxplot(column=['Luminosity(L/Lo)'])\n",
    "plt.title(f'Диаграмма размаха на столбце Luminosity(L/Lo)')\n",
    "plt.show()\n",
    "data['Luminosity(L/Lo)'].plot(kind='hist', bins=100, grid=True)\n",
    "plt.title(f'Гистограмма на столбце Luminosity(L/Lo)')\n",
    "plt.xlabel(['Luminosity(L/Lo)'])\n",
    "plt.ylabel('Кол-во наблюдений')\n",
    "plt.show()"
   ]
  },
  {
   "cell_type": "code",
   "execution_count": 15,
   "id": "616ae97c",
   "metadata": {},
   "outputs": [
    {
     "data": {
      "text/html": [
       "<div>\n",
       "<style scoped>\n",
       "    .dataframe tbody tr th:only-of-type {\n",
       "        vertical-align: middle;\n",
       "    }\n",
       "\n",
       "    .dataframe tbody tr th {\n",
       "        vertical-align: top;\n",
       "    }\n",
       "\n",
       "    .dataframe thead th {\n",
       "        text-align: right;\n",
       "    }\n",
       "</style>\n",
       "<table border=\"1\" class=\"dataframe\">\n",
       "  <thead>\n",
       "    <tr style=\"text-align: right;\">\n",
       "      <th></th>\n",
       "      <th>Temperature (K)</th>\n",
       "      <th>Luminosity(L/Lo)</th>\n",
       "      <th>Radius(R/Ro)</th>\n",
       "      <th>Absolute magnitude(Mv)</th>\n",
       "      <th>Star type</th>\n",
       "      <th>Star color</th>\n",
       "    </tr>\n",
       "  </thead>\n",
       "  <tbody>\n",
       "    <tr>\n",
       "      <th>172</th>\n",
       "      <td>4287</td>\n",
       "      <td>630000.0</td>\n",
       "      <td>1315.0</td>\n",
       "      <td>-9.200</td>\n",
       "      <td>5</td>\n",
       "      <td>orange</td>\n",
       "    </tr>\n",
       "    <tr>\n",
       "      <th>232</th>\n",
       "      <td>32489</td>\n",
       "      <td>648430.0</td>\n",
       "      <td>1948.5</td>\n",
       "      <td>-10.840</td>\n",
       "      <td>5</td>\n",
       "      <td>blue</td>\n",
       "    </tr>\n",
       "    <tr>\n",
       "      <th>234</th>\n",
       "      <td>21904</td>\n",
       "      <td>748490.0</td>\n",
       "      <td>1130.0</td>\n",
       "      <td>-7.670</td>\n",
       "      <td>5</td>\n",
       "      <td>blue-white</td>\n",
       "    </tr>\n",
       "    <tr>\n",
       "      <th>229</th>\n",
       "      <td>21738</td>\n",
       "      <td>748890.0</td>\n",
       "      <td>92.0</td>\n",
       "      <td>-7.346</td>\n",
       "      <td>4</td>\n",
       "      <td>blue</td>\n",
       "    </tr>\n",
       "    <tr>\n",
       "      <th>227</th>\n",
       "      <td>10930</td>\n",
       "      <td>783930.0</td>\n",
       "      <td>25.0</td>\n",
       "      <td>-6.224</td>\n",
       "      <td>4</td>\n",
       "      <td>blue</td>\n",
       "    </tr>\n",
       "    <tr>\n",
       "      <th>101</th>\n",
       "      <td>40000</td>\n",
       "      <td>813000.0</td>\n",
       "      <td>14.0</td>\n",
       "      <td>-6.230</td>\n",
       "      <td>4</td>\n",
       "      <td>blue</td>\n",
       "    </tr>\n",
       "    <tr>\n",
       "      <th>236</th>\n",
       "      <td>30839</td>\n",
       "      <td>834042.0</td>\n",
       "      <td>1194.0</td>\n",
       "      <td>-10.630</td>\n",
       "      <td>5</td>\n",
       "      <td>blue</td>\n",
       "    </tr>\n",
       "    <tr>\n",
       "      <th>233</th>\n",
       "      <td>27739</td>\n",
       "      <td>849420.0</td>\n",
       "      <td>1252.0</td>\n",
       "      <td>-7.590</td>\n",
       "      <td>5</td>\n",
       "      <td>blue-white</td>\n",
       "    </tr>\n",
       "  </tbody>\n",
       "</table>\n",
       "</div>"
      ],
      "text/plain": [
       "     Temperature (K)  Luminosity(L/Lo)  Radius(R/Ro)  Absolute magnitude(Mv)  \\\n",
       "172             4287          630000.0        1315.0                  -9.200   \n",
       "232            32489          648430.0        1948.5                 -10.840   \n",
       "234            21904          748490.0        1130.0                  -7.670   \n",
       "229            21738          748890.0          92.0                  -7.346   \n",
       "227            10930          783930.0          25.0                  -6.224   \n",
       "101            40000          813000.0          14.0                  -6.230   \n",
       "236            30839          834042.0        1194.0                 -10.630   \n",
       "233            27739          849420.0        1252.0                  -7.590   \n",
       "\n",
       "    Star type  Star color  \n",
       "172         5      orange  \n",
       "232         5        blue  \n",
       "234         5  blue-white  \n",
       "229         4        blue  \n",
       "227         4        blue  \n",
       "101         4        blue  \n",
       "236         5        blue  \n",
       "233         5  blue-white  "
      ]
     },
     "metadata": {},
     "output_type": "display_data"
    }
   ],
   "source": [
    "#посмотрим на данные, где есть выбросы - в данном случае очень большие значения\n",
    "display(data.loc[data['Luminosity(L/Lo)'] > 600000].sort_values(by=['Luminosity(L/Lo)']))"
   ]
  },
  {
   "cell_type": "code",
   "execution_count": 16,
   "id": "86b23dc9",
   "metadata": {},
   "outputs": [
    {
     "data": {
      "text/html": [
       "<div>\n",
       "<style scoped>\n",
       "    .dataframe tbody tr th:only-of-type {\n",
       "        vertical-align: middle;\n",
       "    }\n",
       "\n",
       "    .dataframe tbody tr th {\n",
       "        vertical-align: top;\n",
       "    }\n",
       "\n",
       "    .dataframe thead th {\n",
       "        text-align: right;\n",
       "    }\n",
       "</style>\n",
       "<table border=\"1\" class=\"dataframe\">\n",
       "  <thead>\n",
       "    <tr style=\"text-align: right;\">\n",
       "      <th></th>\n",
       "      <th>Temperature (K)</th>\n",
       "      <th>Luminosity(L/Lo)</th>\n",
       "      <th>Radius(R/Ro)</th>\n",
       "      <th>Absolute magnitude(Mv)</th>\n",
       "      <th>Star type</th>\n",
       "      <th>Star color</th>\n",
       "    </tr>\n",
       "  </thead>\n",
       "  <tbody>\n",
       "    <tr>\n",
       "      <th>29</th>\n",
       "      <td>7230</td>\n",
       "      <td>0.000080</td>\n",
       "      <td>0.01300</td>\n",
       "      <td>14.080</td>\n",
       "      <td>2</td>\n",
       "      <td>pale yellow orange</td>\n",
       "    </tr>\n",
       "    <tr>\n",
       "      <th>25</th>\n",
       "      <td>12990</td>\n",
       "      <td>0.000085</td>\n",
       "      <td>0.00984</td>\n",
       "      <td>12.230</td>\n",
       "      <td>2</td>\n",
       "      <td>yellowish white</td>\n",
       "    </tr>\n",
       "    <tr>\n",
       "      <th>147</th>\n",
       "      <td>14732</td>\n",
       "      <td>0.000110</td>\n",
       "      <td>0.00892</td>\n",
       "      <td>12.890</td>\n",
       "      <td>2</td>\n",
       "      <td>white</td>\n",
       "    </tr>\n",
       "    <tr>\n",
       "      <th>27</th>\n",
       "      <td>7700</td>\n",
       "      <td>0.000110</td>\n",
       "      <td>0.01280</td>\n",
       "      <td>14.470</td>\n",
       "      <td>2</td>\n",
       "      <td>yellowish white</td>\n",
       "    </tr>\n",
       "    <tr>\n",
       "      <th>4</th>\n",
       "      <td>1939</td>\n",
       "      <td>0.000138</td>\n",
       "      <td>0.10300</td>\n",
       "      <td>20.060</td>\n",
       "      <td>0</td>\n",
       "      <td>red</td>\n",
       "    </tr>\n",
       "    <tr>\n",
       "      <th>...</th>\n",
       "      <td>...</td>\n",
       "      <td>...</td>\n",
       "      <td>...</td>\n",
       "      <td>...</td>\n",
       "      <td>...</td>\n",
       "      <td>...</td>\n",
       "    </tr>\n",
       "    <tr>\n",
       "      <th>35</th>\n",
       "      <td>8052</td>\n",
       "      <td>8.700000</td>\n",
       "      <td>1.80000</td>\n",
       "      <td>2.420</td>\n",
       "      <td>3</td>\n",
       "      <td>whitish</td>\n",
       "    </tr>\n",
       "    <tr>\n",
       "      <th>219</th>\n",
       "      <td>8250</td>\n",
       "      <td>9.250000</td>\n",
       "      <td>1.93000</td>\n",
       "      <td>-0.980</td>\n",
       "      <td>3</td>\n",
       "      <td>yellow-white</td>\n",
       "    </tr>\n",
       "    <tr>\n",
       "      <th>216</th>\n",
       "      <td>9320</td>\n",
       "      <td>29.000000</td>\n",
       "      <td>1.91000</td>\n",
       "      <td>1.236</td>\n",
       "      <td>3</td>\n",
       "      <td>blue-white</td>\n",
       "    </tr>\n",
       "    <tr>\n",
       "      <th>151</th>\n",
       "      <td>8945</td>\n",
       "      <td>38.000000</td>\n",
       "      <td>2.48700</td>\n",
       "      <td>0.120</td>\n",
       "      <td>3</td>\n",
       "      <td>blue-white</td>\n",
       "    </tr>\n",
       "    <tr>\n",
       "      <th>94</th>\n",
       "      <td>9030</td>\n",
       "      <td>45.000000</td>\n",
       "      <td>2.63000</td>\n",
       "      <td>1.450</td>\n",
       "      <td>3</td>\n",
       "      <td>blue-white</td>\n",
       "    </tr>\n",
       "  </tbody>\n",
       "</table>\n",
       "<p>136 rows × 6 columns</p>\n",
       "</div>"
      ],
      "text/plain": [
       "     Temperature (K)  Luminosity(L/Lo)  Radius(R/Ro)  Absolute magnitude(Mv)  \\\n",
       "29              7230          0.000080       0.01300                  14.080   \n",
       "25             12990          0.000085       0.00984                  12.230   \n",
       "147            14732          0.000110       0.00892                  12.890   \n",
       "27              7700          0.000110       0.01280                  14.470   \n",
       "4               1939          0.000138       0.10300                  20.060   \n",
       "..               ...               ...           ...                     ...   \n",
       "35              8052          8.700000       1.80000                   2.420   \n",
       "219             8250          9.250000       1.93000                  -0.980   \n",
       "216             9320         29.000000       1.91000                   1.236   \n",
       "151             8945         38.000000       2.48700                   0.120   \n",
       "94              9030         45.000000       2.63000                   1.450   \n",
       "\n",
       "    Star type          Star color  \n",
       "29          2  pale yellow orange  \n",
       "25          2     yellowish white  \n",
       "147         2               white  \n",
       "27          2     yellowish white  \n",
       "4           0                 red  \n",
       "..        ...                 ...  \n",
       "35          3             whitish  \n",
       "219         3        yellow-white  \n",
       "216         3          blue-white  \n",
       "151         3          blue-white  \n",
       "94          3          blue-white  \n",
       "\n",
       "[136 rows x 6 columns]"
      ]
     },
     "metadata": {},
     "output_type": "display_data"
    }
   ],
   "source": [
    "#посмотрим детальнее на данные, где есть выбросы - в данном случае очень низкие значения, стремящиеся к нулю.\n",
    "display(data.loc[data['Luminosity(L/Lo)'] <50].sort_values(by=['Luminosity(L/Lo)']))"
   ]
  },
  {
   "cell_type": "code",
   "execution_count": 17,
   "id": "f6a5d80e",
   "metadata": {},
   "outputs": [
    {
     "data": {
      "image/png": "[encoded data removed]",
      "text/plain": [
       "<Figure size 432x288 with 1 Axes>"
      ]
     },
     "metadata": {
      "needs_background": "light"
     },
     "output_type": "display_data"
    },
    {
     "data": {
      "image/png": "[encoded data removed]",
      "text/plain": [
       "<Figure size 432x288 with 1 Axes>"
      ]
     },
     "metadata": {
      "needs_background": "light"
     },
     "output_type": "display_data"
    }
   ],
   "source": [
    "data.boxplot(column=['Radius(R/Ro)'])\n",
    "plt.title(f'Диаграмма размаха на столбце Radius(R/Ro)')\n",
    "plt.show()\n",
    "data['Radius(R/Ro)'].plot(kind='hist', bins=100, grid=True)\n",
    "plt.title(f'Гистограмма на столбце Radius(R/Ro)')\n",
    "plt.xlabel(['Radius(R/Ro)'])\n",
    "plt.ylabel('Кол-во наблюдений')\n",
    "plt.show()"
   ]
  },
  {
   "cell_type": "code",
   "execution_count": 18,
   "id": "7f347442",
   "metadata": {},
   "outputs": [
    {
     "data": {
      "image/png": "[encoded data removed]",
      "text/plain": [
       "<Figure size 432x288 with 1 Axes>"
      ]
     },
     "metadata": {
      "needs_background": "light"
     },
     "output_type": "display_data"
    },
    {
     "data": {
      "image/png": "[encoded data removed]",
      "text/plain": [
       "<Figure size 432x288 with 1 Axes>"
      ]
     },
     "metadata": {
      "needs_background": "light"
     },
     "output_type": "display_data"
    }
   ],
   "source": [
    "data.boxplot(column=['Absolute magnitude(Mv)'])\n",
    "plt.title(f'Диаграмма размаха на столбце Absolute magnitude(Mv)')\n",
    "plt.show()\n",
    "data['Absolute magnitude(Mv)'].plot(kind='hist', bins=100, grid=True)\n",
    "plt.title(f'Гистограмма на столбце Absolute magnitude(Mv)')\n",
    "plt.xlabel(['Absolute magnitude(Mv)'])\n",
    "plt.ylabel('Кол-во наблюдений')\n",
    "plt.show()"
   ]
  },
  {
   "cell_type": "code",
   "execution_count": null,
   "id": "865bfaf3",
   "metadata": {},
   "outputs": [],
   "source": [
    "#построим тепловую карту корреляции  - проверим корреляцию данных \n",
    "print ('Признаки')\n",
    "upp_mat = np.triu(data.corr())\n",
    "sns.heatmap(data.corr(), annot = True)"
   ]
  },
  {
   "cell_type": "markdown",
   "id": "41daed0d",
   "metadata": {},
   "source": [
    "***ВЫВОДЫ по предобработке и анализу данных***"
   ]
  },
  {
   "cell_type": "markdown",
   "id": "0ffc3c40",
   "metadata": {},
   "source": [
    "Мы проанализировали датасет из 240 данных о звездных телах. В данных у нас 6 признаков: 4 - количественных (Temperature (K)\t, uminosity(L/Lo),\tRadius(R/Ro), Absolute magnitude(Mv)) и 2 категориальных - Star type и Star color.\n",
    "\n",
    "По категориальным данным мы проверили уникальность значений и удалили неявные дубликаты по признаку Star color.\n",
    "\n",
    "В количественных данных было изучено распреление данных и выборосы с помощью графиков гистрограмм и диаграмм размаха. Посмотрим, что можно отметить:\n",
    "\n",
    "Температуры поверхности обычных звезд Temperature (K)  - среднее значение примерно 6000 К, но есть выбросы, где темпераутра достигает 40 тыс. В открытых источниках указано, что \"Температура горячих звезд достигает 50 000 К\", значит имеющие значения не являются аномалиями.\n",
    "\n",
    "Относительная светимость L/Lo Luminosity(L/Lo)  - зависит  от температуры и радиуса звезды. Среднее значение светимости составялет около 0 люмен, есть данные, где светимость равна 600 тыс люмен, эти данные мы рассмотрели более детально. Так звезды со светимостью более 600 тыс люминов 0, как правило, имеют большой радиус, что соответсвует данным по срезам вышще. , что соответствует информации  в сети. А планеты со светимостью близкой к нулю - имеют маленький радиус. Тут корретирвать в данных тоже ничего не будем.\n",
    "\n",
    "Относительный радиус R/Ro - среднее значение  около нуля, есть звезды, которые превышают радиус Солнца в 2000 раз - это гипергиганты, что тоже естестенно для нашей вселенной.\n",
    "\n",
    "Абсолютная звёздная величина Mv - среднее значение около 7 Mv, у нас гистрограмма  двухмодального типа с двумя вершинами. Это обычно происходит, когда смешиваются две различные группы данных, например, данные звезд карликов и гипергигантов, что соответствует нашей ситуации. В данных также ничего корректировать не будем. \n",
    "\n",
    "По корреляции данных: у нас есть сильная обратная зависимость между типом звезды (Star type) и Абсолютная звёздная величина. Как видим наш целевой признак (Temperature) имеет низкую корреляцию со всеми остальными.\n",
    "\n",
    "Переходим к подготовке данных к обучению."
   ]
  },
  {
   "cell_type": "markdown",
   "id": "35ae54d7",
   "metadata": {},
   "source": [
    "### Подготовка данных"
   ]
  },
  {
   "cell_type": "markdown",
   "id": "9983ba38",
   "metadata": {},
   "source": [
    "***Кодирование качестенных признаков***"
   ]
  },
  {
   "cell_type": "code",
   "execution_count": 20,
   "id": "781e1a59",
   "metadata": {},
   "outputs": [
    {
     "data": {
      "text/html": [
       "<div>\n",
       "<style scoped>\n",
       "    .dataframe tbody tr th:only-of-type {\n",
       "        vertical-align: middle;\n",
       "    }\n",
       "\n",
       "    .dataframe tbody tr th {\n",
       "        vertical-align: top;\n",
       "    }\n",
       "\n",
       "    .dataframe thead th {\n",
       "        text-align: right;\n",
       "    }\n",
       "</style>\n",
       "<table border=\"1\" class=\"dataframe\">\n",
       "  <thead>\n",
       "    <tr style=\"text-align: right;\">\n",
       "      <th></th>\n",
       "      <th>Temperature (K)</th>\n",
       "      <th>Luminosity(L/Lo)</th>\n",
       "      <th>Radius(R/Ro)</th>\n",
       "      <th>Absolute magnitude(Mv)</th>\n",
       "      <th>Star type_1</th>\n",
       "      <th>Star type_2</th>\n",
       "      <th>Star type_3</th>\n",
       "      <th>Star type_4</th>\n",
       "      <th>Star type_5</th>\n",
       "      <th>Star color_blue-white</th>\n",
       "      <th>Star color_orange</th>\n",
       "      <th>Star color_orange-red</th>\n",
       "      <th>Star color_pale yellow orange</th>\n",
       "      <th>Star color_red</th>\n",
       "      <th>Star color_white</th>\n",
       "      <th>Star color_white-yellow</th>\n",
       "      <th>Star color_whitish</th>\n",
       "      <th>Star color_yellow-white</th>\n",
       "      <th>Star color_yellowish</th>\n",
       "      <th>Star color_yellowish white</th>\n",
       "    </tr>\n",
       "  </thead>\n",
       "  <tbody>\n",
       "    <tr>\n",
       "      <th>0</th>\n",
       "      <td>3068</td>\n",
       "      <td>0.002400</td>\n",
       "      <td>0.1700</td>\n",
       "      <td>16.12</td>\n",
       "      <td>0</td>\n",
       "      <td>0</td>\n",
       "      <td>0</td>\n",
       "      <td>0</td>\n",
       "      <td>0</td>\n",
       "      <td>0</td>\n",
       "      <td>0</td>\n",
       "      <td>0</td>\n",
       "      <td>0</td>\n",
       "      <td>1</td>\n",
       "      <td>0</td>\n",
       "      <td>0</td>\n",
       "      <td>0</td>\n",
       "      <td>0</td>\n",
       "      <td>0</td>\n",
       "      <td>0</td>\n",
       "    </tr>\n",
       "    <tr>\n",
       "      <th>1</th>\n",
       "      <td>3042</td>\n",
       "      <td>0.000500</td>\n",
       "      <td>0.1542</td>\n",
       "      <td>16.60</td>\n",
       "      <td>0</td>\n",
       "      <td>0</td>\n",
       "      <td>0</td>\n",
       "      <td>0</td>\n",
       "      <td>0</td>\n",
       "      <td>0</td>\n",
       "      <td>0</td>\n",
       "      <td>0</td>\n",
       "      <td>0</td>\n",
       "      <td>1</td>\n",
       "      <td>0</td>\n",
       "      <td>0</td>\n",
       "      <td>0</td>\n",
       "      <td>0</td>\n",
       "      <td>0</td>\n",
       "      <td>0</td>\n",
       "    </tr>\n",
       "    <tr>\n",
       "      <th>2</th>\n",
       "      <td>2600</td>\n",
       "      <td>0.000300</td>\n",
       "      <td>0.1020</td>\n",
       "      <td>18.70</td>\n",
       "      <td>0</td>\n",
       "      <td>0</td>\n",
       "      <td>0</td>\n",
       "      <td>0</td>\n",
       "      <td>0</td>\n",
       "      <td>0</td>\n",
       "      <td>0</td>\n",
       "      <td>0</td>\n",
       "      <td>0</td>\n",
       "      <td>1</td>\n",
       "      <td>0</td>\n",
       "      <td>0</td>\n",
       "      <td>0</td>\n",
       "      <td>0</td>\n",
       "      <td>0</td>\n",
       "      <td>0</td>\n",
       "    </tr>\n",
       "    <tr>\n",
       "      <th>3</th>\n",
       "      <td>2800</td>\n",
       "      <td>0.000200</td>\n",
       "      <td>0.1600</td>\n",
       "      <td>16.65</td>\n",
       "      <td>0</td>\n",
       "      <td>0</td>\n",
       "      <td>0</td>\n",
       "      <td>0</td>\n",
       "      <td>0</td>\n",
       "      <td>0</td>\n",
       "      <td>0</td>\n",
       "      <td>0</td>\n",
       "      <td>0</td>\n",
       "      <td>1</td>\n",
       "      <td>0</td>\n",
       "      <td>0</td>\n",
       "      <td>0</td>\n",
       "      <td>0</td>\n",
       "      <td>0</td>\n",
       "      <td>0</td>\n",
       "    </tr>\n",
       "    <tr>\n",
       "      <th>4</th>\n",
       "      <td>1939</td>\n",
       "      <td>0.000138</td>\n",
       "      <td>0.1030</td>\n",
       "      <td>20.06</td>\n",
       "      <td>0</td>\n",
       "      <td>0</td>\n",
       "      <td>0</td>\n",
       "      <td>0</td>\n",
       "      <td>0</td>\n",
       "      <td>0</td>\n",
       "      <td>0</td>\n",
       "      <td>0</td>\n",
       "      <td>0</td>\n",
       "      <td>1</td>\n",
       "      <td>0</td>\n",
       "      <td>0</td>\n",
       "      <td>0</td>\n",
       "      <td>0</td>\n",
       "      <td>0</td>\n",
       "      <td>0</td>\n",
       "    </tr>\n",
       "  </tbody>\n",
       "</table>\n",
       "</div>"
      ],
      "text/plain": [
       "   Temperature (K)  Luminosity(L/Lo)  Radius(R/Ro)  Absolute magnitude(Mv)  \\\n",
       "0             3068          0.002400        0.1700                   16.12   \n",
       "1             3042          0.000500        0.1542                   16.60   \n",
       "2             2600          0.000300        0.1020                   18.70   \n",
       "3             2800          0.000200        0.1600                   16.65   \n",
       "4             1939          0.000138        0.1030                   20.06   \n",
       "\n",
       "   Star type_1  Star type_2  Star type_3  Star type_4  Star type_5  \\\n",
       "0            0            0            0            0            0   \n",
       "1            0            0            0            0            0   \n",
       "2            0            0            0            0            0   \n",
       "3            0            0            0            0            0   \n",
       "4            0            0            0            0            0   \n",
       "\n",
       "   Star color_blue-white  Star color_orange  Star color_orange-red  \\\n",
       "0                      0                  0                      0   \n",
       "1                      0                  0                      0   \n",
       "2                      0                  0                      0   \n",
       "3                      0                  0                      0   \n",
       "4                      0                  0                      0   \n",
       "\n",
       "   Star color_pale yellow orange  Star color_red  Star color_white  \\\n",
       "0                              0               1                 0   \n",
       "1                              0               1                 0   \n",
       "2                              0               1                 0   \n",
       "3                              0               1                 0   \n",
       "4                              0               1                 0   \n",
       "\n",
       "   Star color_white-yellow  Star color_whitish  Star color_yellow-white  \\\n",
       "0                        0                   0                        0   \n",
       "1                        0                   0                        0   \n",
       "2                        0                   0                        0   \n",
       "3                        0                   0                        0   \n",
       "4                        0                   0                        0   \n",
       "\n",
       "   Star color_yellowish  Star color_yellowish white  \n",
       "0                     0                           0  \n",
       "1                     0                           0  \n",
       "2                     0                           0  \n",
       "3                     0                           0  \n",
       "4                     0                           0  "
      ]
     },
     "execution_count": 20,
     "metadata": {},
     "output_type": "execute_result"
    }
   ],
   "source": [
    "# так как get_dummies() , который работает до разбиения данных на выборки, слелаем копию изначального датасета, \n",
    "#потом закодируем его и разобьем на выборки \n",
    "\n",
    "#сделаем копию датасета\n",
    "data1 = data.copy()\n",
    "\n",
    "#кодируем прищнаки данных техникой OHE \n",
    "data1 = pd.get_dummies(data1, drop_first=True)\n",
    "\n",
    "data1.head()"
   ]
  },
  {
   "cell_type": "markdown",
   "id": "4b9e2701",
   "metadata": {},
   "source": [
    "***Разделение на выборки***"
   ]
  },
  {
   "cell_type": "code",
   "execution_count": 21,
   "id": "ca8a342f",
   "metadata": {},
   "outputs": [
    {
     "name": "stdout",
     "output_type": "stream",
     "text": [
      "(168, 19) (72, 19) (168,) (72,)\n"
     ]
    }
   ],
   "source": [
    "# Разделим данные на выборки\n",
    "X_train1, X_test1, y_train1, y_test1 = train_test_split(data1.drop('Temperature (K)', axis = 1),\n",
    "                                                    data1['Temperature (K)'],\n",
    "                                                    test_size=0.3,\n",
    "                                                    shuffle=True,\n",
    "                                                    random_state=1)\n",
    "print(X_train1.shape, X_test1.shape, y_train1.shape, y_test1.shape)"
   ]
  },
  {
   "cell_type": "markdown",
   "id": "609db985",
   "metadata": {},
   "source": [
    "***Масштабирование количесвенных признаков***"
   ]
  },
  {
   "cell_type": "code",
   "execution_count": 22,
   "id": "5cc601b9",
   "metadata": {},
   "outputs": [],
   "source": [
    "#масштабирование данных для моделей\n",
    "\n",
    "#выделим количественные признаким\n",
    "\n",
    "numeric=['Luminosity(L/Lo)','Radius(R/Ro)', 'Absolute magnitude(Mv)']\n",
    "\n",
    "#создадим объект стандартизации и обучим его для моделей Л\n",
    "scaler = StandardScaler()    \n",
    "scaler.fit(X_train1[numeric])\n",
    "\n",
    "#сохраним преобразованные обучающую и тестовую  выборки в переменные\n",
    "X_train1[numeric] = scaler.transform(X_train1[numeric])\n",
    "X_test1[numeric] = scaler.transform(X_test1[numeric])\n",
    "\n",
    "\n",
    "features_train_scaled = scaler.transform(X_train1[numeric])\n",
    "features_test_scaled = scaler.transform(X_test1[numeric])\n",
    "\n",
    "\n",
    "pd.options.mode.chained_assignment = None"
   ]
  },
  {
   "cell_type": "code",
   "execution_count": 23,
   "id": "ff200430",
   "metadata": {},
   "outputs": [
    {
     "name": "stdout",
     "output_type": "stream",
     "text": [
      "Проверка выполения стандартизации\n",
      " \n",
      "Обучающая выборка\n",
      "   Luminosity(L/Lo)  Radius(R/Ro)  Absolute magnitude(Mv)  Star type_1  \\\n",
      "0         -0.560864     -0.404550                1.207543            0   \n",
      "1          0.504620      2.904125               -1.570978            0   \n",
      "2          1.312749     -0.340610               -1.064657            0   \n",
      "3          1.256032     -0.242155               -1.154008            0   \n",
      "4         -0.560864     -0.404092                0.695457            1   \n",
      "\n",
      "   Star type_2  Star type_3  Star type_4  Star type_5  Star color_blue-white  \\\n",
      "0            0            0            0            0                      0   \n",
      "1            0            0            0            1                      0   \n",
      "2            0            0            1            0                      0   \n",
      "3            0            0            1            0                      0   \n",
      "4            0            0            0            0                      0   \n",
      "\n",
      "   Star color_orange  Star color_orange-red  Star color_pale yellow orange  \\\n",
      "0                  0                      0                              0   \n",
      "1                  0                      0                              0   \n",
      "2                  0                      0                              0   \n",
      "3                  0                      0                              0   \n",
      "4                  0                      0                              0   \n",
      "\n",
      "   Star color_red  Star color_white  Star color_white-yellow  \\\n",
      "0               1                 0                        0   \n",
      "1               1                 0                        0   \n",
      "2               0                 0                        0   \n",
      "3               0                 0                        0   \n",
      "4               1                 0                        0   \n",
      "\n",
      "   Star color_whitish  Star color_yellow-white  Star color_yellowish  \\\n",
      "0                   0                        0                     0   \n",
      "1                   0                        0                     0   \n",
      "2                   0                        0                     0   \n",
      "3                   0                        0                     0   \n",
      "4                   0                        0                     0   \n",
      "\n",
      "   Star color_yellowish white  \n",
      "0                           0  \n",
      "1                           0  \n",
      "2                           0  \n",
      "3                           0  \n",
      "4                           0  \n",
      "Тестовая выборка\n",
      "   Luminosity(L/Lo)  Radius(R/Ro)  Absolute magnitude(Mv)  Star type_1  \\\n",
      "0          1.339632     -0.220752               -1.046883            0   \n",
      "1         -0.560864     -0.404137                0.714672            1   \n",
      "2         -0.560864     -0.404801                0.766553            0   \n",
      "3         -0.557192     -0.389881               -0.700529            0   \n",
      "4          0.522105     -0.391143               -0.918621            0   \n",
      "\n",
      "   Star type_2  Star type_3  Star type_4  Star type_5  Star color_blue-white  \\\n",
      "0            0            0            1            0                      0   \n",
      "1            0            0            0            0                      0   \n",
      "2            1            0            0            0                      0   \n",
      "3            0            1            0            0                      1   \n",
      "4            0            1            0            0                      0   \n",
      "\n",
      "   Star color_orange  Star color_orange-red  Star color_pale yellow orange  \\\n",
      "0                  0                      0                              0   \n",
      "1                  0                      0                              0   \n",
      "2                  0                      0                              0   \n",
      "3                  0                      0                              0   \n",
      "4                  0                      0                              0   \n",
      "\n",
      "   Star color_red  Star color_white  Star color_white-yellow  \\\n",
      "0               0                 0                        0   \n",
      "1               1                 0                        0   \n",
      "2               0                 1                        0   \n",
      "3               0                 0                        0   \n",
      "4               0                 0                        0   \n",
      "\n",
      "   Star color_whitish  Star color_yellow-white  Star color_yellowish  \\\n",
      "0                   0                        0                     0   \n",
      "1                   0                        0                     0   \n",
      "2                   0                        0                     0   \n",
      "3                   0                        0                     0   \n",
      "4                   0                        0                     0   \n",
      "\n",
      "   Star color_yellowish white  \n",
      "0                           0  \n",
      "1                           0  \n",
      "2                           0  \n",
      "3                           0  \n",
      "4                           0  \n"
     ]
    }
   ],
   "source": [
    "#сбросим индексы, чтобы в дальнейшем было проще сопостовлять данные в target и prediction\n",
    "\n",
    "X_train1 = X_train1.reset_index(drop=True)\n",
    "X_test1 = X_test1.reset_index(drop=True)\n",
    "\n",
    "print('Проверка выполения стандартизации')\n",
    "print(' ')\n",
    "print('Обучающая выборка')\n",
    "print(X_train1.head())\n",
    "print('Тестовая выборка')\n",
    "print(X_test1.head())"
   ]
  },
  {
   "cell_type": "markdown",
   "id": "funded-electric",
   "metadata": {},
   "source": [
    "## Построение базовой нейронной сети"
   ]
  },
  {
   "cell_type": "markdown",
   "id": "04628782",
   "metadata": {},
   "source": [
    "Для определения темпераутры на поверхности небесных тел будет использовать модель линейной регрессии."
   ]
  },
  {
   "cell_type": "code",
   "execution_count": 24,
   "id": "6e81b279",
   "metadata": {},
   "outputs": [],
   "source": [
    "#X_train = torch.FloatTensor(X_train.values)\n",
    "\n",
    "# преобразуем признаки и целевые значения в тензоры\n",
    "X_train = torch.Tensor(X_train1.values)\n",
    "X_test = torch.Tensor(X_test1.values)\n",
    "y_train = torch.Tensor(y_train1.values)\n",
    "y_test = torch.Tensor(y_test1.values)"
   ]
  },
  {
   "cell_type": "code",
   "execution_count": 25,
   "id": "72ac43ef",
   "metadata": {},
   "outputs": [
    {
     "name": "stdout",
     "output_type": "stream",
     "text": [
      "19\n"
     ]
    }
   ],
   "source": [
    "print(X_train.shape[1])"
   ]
  },
  {
   "cell_type": "code",
   "execution_count": 26,
   "id": "d709e183",
   "metadata": {
    "scrolled": true
   },
   "outputs": [
    {
     "name": "stdout",
     "output_type": "stream",
     "text": [
      "tensor([[-0.5609, -0.4046,  1.2075,  ...,  0.0000,  0.0000,  0.0000],\n",
      "        [ 0.5046,  2.9041, -1.5710,  ...,  0.0000,  0.0000,  0.0000],\n",
      "        [ 1.3127, -0.3406, -1.0647,  ...,  0.0000,  0.0000,  0.0000],\n",
      "        ...,\n",
      "        [-0.5609, -0.4048,  0.8338,  ...,  0.0000,  0.0000,  0.0000],\n",
      "        [ 1.4872,  2.4975, -1.4336,  ...,  0.0000,  0.0000,  0.0000],\n",
      "        [-0.5609, -0.4027, -0.1981,  ...,  1.0000,  0.0000,  0.0000]])\n"
     ]
    }
   ],
   "source": [
    "print(X_train)"
   ]
  },
  {
   "cell_type": "markdown",
   "id": "54e44b00",
   "metadata": {},
   "source": [
    "***Базовая нейронная сеть с 2 скрытыми слоями*** "
   ]
  },
  {
   "cell_type": "code",
   "execution_count": 27,
   "id": "897f824c",
   "metadata": {},
   "outputs": [],
   "source": [
    "#нейронная сеть  со скрытым слоем\n",
    "#объявляем объект класса\n",
    "\n",
    "\n",
    "# количество слоев и нейронов\n",
    "input_size = X_train.shape[1]\n",
    "hidden_size_1 = 14 # 2/3 от входного слоя + выходной + округление\n",
    "hidden_size_2 = 10 # 1/2 от входного слоя с округлением\n",
    "out_size = 1  \n",
    "# количество эпох\n",
    "num_epochs = 1000\n",
    "# скорость обучения\n",
    "learn = 0.2\n",
    "\n",
    "\n",
    "# класс нейронной сети (Создайте класс для задания архитектуры нейронной сети)\n",
    "class Net(nn.Module):\n",
    "    def __init__(self, input_size, hidden_size_1, hidden_size_2, out_size):\n",
    "        super(Net, self).__init__()\n",
    "        self.fc1 = nn.Linear(input_size, hidden_size_1)  \n",
    "        self.relu1 = nn.ReLU()\n",
    "        self.fc2 = nn.Linear(hidden_size_1, hidden_size_2)  \n",
    "        self.relu2 = nn.ReLU()\n",
    "        self.fc3 = nn.Linear(hidden_size_2, out_size)\n",
    "    \n",
    "    def forward(self, x):\n",
    "        out = self.fc1(x)\n",
    "        out = self.relu1(out)\n",
    "        out = self.fc2(out)\n",
    "        out = self.relu2(out)\n",
    "        out = self.fc3(out)\n",
    "        return out\n",
    "\n",
    "\n",
    "\n",
    "# создание нейронной сети\n",
    "model = Net(input_size, hidden_size_1, hidden_size_2, out_size)\n",
    "\n",
    "# В качестве функции потерь используем MSE\n",
    "loss = nn.MSELoss()  \n",
    "# создаем Adam оптимизатор \n",
    "optimizer = torch.optim.Adam(model.parameters(), lr=learn)  \n",
    "\n",
    "# списки для сохранения \n",
    "train_lost = []\n",
    "test_lost = []\n",
    "pred_test = []\n",
    "best_predicted_temp = []\n",
    "# лучший скор\n",
    "best_rmse = 4500\n"
   ]
  },
  {
   "cell_type": "code",
   "execution_count": 28,
   "id": "89e491fa",
   "metadata": {},
   "outputs": [
    {
     "name": "stdout",
     "output_type": "stream",
     "text": [
      "Эпоха №0, RMSE на тестовой выборке: 14774.255988035404\n",
      "Эпоха №30, RMSE на тестовой выборке: 9101.134434783391\n",
      "Эпоха №60, RMSE на тестовой выборке: 8060.155085356609\n",
      "Эпоха №90, RMSE на тестовой выборке: 6875.605864212986\n",
      "Эпоха №120, RMSE на тестовой выборке: 5870.983563254116\n",
      "Эпоха №150, RMSE на тестовой выборке: 5465.185815688246\n",
      "Эпоха №180, RMSE на тестовой выборке: 5391.172785211025\n",
      "Эпоха №210, RMSE на тестовой выборке: 5433.196112786653\n",
      "Эпоха №240, RMSE на тестовой выборке: 5482.470793355857\n",
      "Эпоха №270, RMSE на тестовой выборке: 5459.113297963324\n",
      "Эпоха №300, RMSE на тестовой выборке: 5398.491270716291\n",
      "Эпоха №330, RMSE на тестовой выборке: 5337.80722769191\n",
      "Эпоха №360, RMSE на тестовой выборке: 5265.719324080994\n",
      "Эпоха №390, RMSE на тестовой выборке: 5193.845973842505\n",
      "Эпоха №420, RMSE на тестовой выборке: 5068.695690214594\n",
      "Эпоха №450, RMSE на тестовой выборке: 4966.987215606659\n",
      "Эпоха №480, RMSE на тестовой выборке: 4871.4673354134275\n",
      "Эпоха №510, RMSE на тестовой выборке: 4765.505639488846\n",
      "Эпоха №540, RMSE на тестовой выборке: 4666.170378372397\n",
      "Эпоха №570, RMSE на тестовой выборке: 4558.6544067301265\n",
      "Эпоха №600, RMSE на тестовой выборке: 4481.379028825837\n",
      "Эпоха №630, RMSE на тестовой выборке: 4357.988526832075\n",
      "Эпоха №660, RMSE на тестовой выборке: 4329.325351599254\n",
      "Эпоха №690, RMSE на тестовой выборке: 4260.453262271516\n",
      "Эпоха №720, RMSE на тестовой выборке: 4240.156365041271\n",
      "Эпоха №750, RMSE на тестовой выборке: 4192.41505578825\n",
      "Эпоха №780, RMSE на тестовой выборке: 4149.285239652729\n",
      "Эпоха №810, RMSE на тестовой выборке: 4098.444095019475\n",
      "Эпоха №840, RMSE на тестовой выборке: 4119.220557338487\n",
      "Эпоха №870, RMSE на тестовой выборке: 4159.597336281482\n",
      "Эпоха №900, RMSE на тестовой выборке: 4290.650533427303\n",
      "Эпоха №930, RMSE на тестовой выборке: 4392.7806683238805\n",
      "Эпоха №960, RMSE на тестовой выборке: 4511.781244697043\n",
      "Эпоха №990, RMSE на тестовой выборке: 4615.053195793089\n",
      "Эпоха №999, RMSE на тестовой выборке: 4651.1880202804105\n",
      "Best RMSE test 4098.444095019475\n"
     ]
    }
   ],
   "source": [
    "# Цикл обучения\n",
    "for epoch in range(num_epochs):\n",
    "    \n",
    "    model.train()\n",
    "    \n",
    "    optimizer.zero_grad()\n",
    "    \n",
    "    # перевод сети в режим предсказания\n",
    "    model.eval()\n",
    "    preds = model.forward(X_train).flatten()\n",
    "            \n",
    "    loss_value = loss(preds, y_train)\n",
    "\n",
    "    loss_value.backward()\n",
    "            \n",
    "    optimizer.step()\n",
    "    \n",
    "    # на каждой 30-й эпохе предсказываем температуру на тестовой выборке\n",
    "    if epoch % 30 == 0 or epoch == num_epochs - 1:\n",
    "        model.eval()\n",
    "        test_preds = model.forward(X_test).flatten()\n",
    "        rmse = ((test_preds.squeeze(-1) - y_test).pow(2).mean().item())**0.5\n",
    "        \n",
    "        # внесение метрики качества в заранее созданные списки\n",
    "        train_lost.append(loss_value.item()**0.5)\n",
    "        test_lost.append(rmse)\n",
    "        pred_test.append(test_preds)\n",
    "        print(f'Эпоха №{epoch}, RMSE на тестовой выборке: {rmse}')\n",
    "        \n",
    "        \n",
    "        # сохранение лучшего результата\n",
    "        if rmse < best_rmse:\n",
    "            best_rmse = rmse\n",
    "            best_predicted_temp = test_preds\n",
    "            best_train_loss = loss_value\n",
    "print(f'Best RMSE test {best_rmse}')\n",
    "        "
   ]
  },
  {
   "cell_type": "code",
   "execution_count": 29,
   "id": "2922cfbb",
   "metadata": {},
   "outputs": [
    {
     "data": {
      "image/png": "[encoded data removed]",
      "text/plain": [
       "<Figure size 720x864 with 1 Axes>"
      ]
     },
     "metadata": {
      "needs_background": "light"
     },
     "output_type": "display_data"
    }
   ],
   "source": [
    "# график метрики качества        \n",
    "df_gr = pd.DataFrame({'Train': train_lost, 'Test': test_lost})       \n",
    "df_gr.plot(figsize=(10, 12))\n",
    "plt.show();"
   ]
  },
  {
   "cell_type": "code",
   "execution_count": 30,
   "id": "7435265b",
   "metadata": {},
   "outputs": [
    {
     "data": {
      "image/png": "[encoded data removed]",
      "text/plain": [
       "<Figure size 1224x648 with 1 Axes>"
      ]
     },
     "metadata": {
      "needs_background": "light"
     },
     "output_type": "display_data"
    }
   ],
   "source": [
    "# функция для вывода качества регрессии факт-прогноз\n",
    "#построение графика «Факт — Прогноз», где по горизонтальной оси будут отложены условные номера звёзд, \n",
    "#а по вертикальной — температура в Кельвинах.\n",
    "def predcit_fact_graph(pred_test, y_test, detach=True):\n",
    "    \n",
    "    if detach:\n",
    "        y1 = torch.FloatTensor(pred_test)\n",
    "        y1 = y1.detach().numpy().reshape([-1])\n",
    "        y2 = y_test.detach().numpy().reshape([-1])\n",
    "    else:\n",
    "        y1 = pred_test.reshape([-1])\n",
    "        y2 = y_test.reshape([-1])\n",
    "    x = np.arange(len(y1))\n",
    "\n",
    "    fig, ax = plt.subplots(figsize=(17, 9))\n",
    "    ax.set_xticks(x)\n",
    "    fact = ax.bar(x, y2, width = 0.8, label = 'Факт')\n",
    "    forecast = ax.bar(x, y1, width = 0.3, label = 'Прогноз')\n",
    "    ax.legend()\n",
    "    ax.set_title('График \"Факт-прогноз\"')\n",
    "    ax.set_xlabel('№ звезды')\n",
    "    ax.set_ylabel('Температура звезды')\n",
    "    plt.show()\n",
    "    \n",
    "# вывод графика\n",
    "predcit_fact_graph(best_predicted_temp, y_test)"
   ]
  },
  {
   "cell_type": "markdown",
   "id": "5b1fc84d",
   "metadata": {},
   "source": [
    "***Вывод:***\n",
    "Обучение проходило на базовой нейронной сети с 2 скрытыми слоями.\n",
    "На эпохе 840 достишнут лучший показатель метрики RMSE  = 4229 К, что соответствует порогу (менее 4500К), установленному заказчиком.\n",
    "После 840 эпохи качество модели ухудшается, так как модель переобучается.\n",
    "\n",
    "Стоит отметить, что точноть модели лучше определяте для звезд с температурой ниже 10000К, скорее всего это связано  с тем, что данных в этим  звездам в выборках больше и модель там лучше обучилась, а данных по звездам с температурой выше немного и, соответственно, по ним показатели точности хуже. "
   ]
  },
  {
   "cell_type": "markdown",
   "id": "3451211b",
   "metadata": {},
   "source": [
    "***Базовая нейронная сеть с 1 скрытым слоем***"
   ]
  },
  {
   "cell_type": "code",
   "execution_count": 31,
   "id": "66dcc86b",
   "metadata": {},
   "outputs": [],
   "source": [
    "#нполносвязную нейронную сеть из двух полносвязных слоёв\n",
    "#объявляем объект класса\n",
    "\n",
    "# количество слоев и нейронов\n",
    "input_size = X_train.shape[1]\n",
    "hidden_size_1 = 14 # 2/3 от входного слоя + выходной + округление\n",
    "#hidden_size_2 = 10 # 1/2 от входного слоя с округлением\n",
    "out_size = 1 \n",
    "\n",
    "# количество эпох\n",
    "num_epochs = 2000\n",
    "# скорость обучения\n",
    "learn = 0.2\n",
    "\n",
    "\n",
    "# класс нейронной сети (Создайте класс для задания архитектуры нейронной сети)\n",
    "class Net(nn.Module):\n",
    "    def __init__(self, input_size, hidden_size_1, out_size):\n",
    "        super(Net, self).__init__()\n",
    "        self.fc1 = nn.Linear(input_size, hidden_size_1)  \n",
    "        self.relu1 = nn.ReLU()\n",
    "        self.fc2 = nn.Linear(hidden_size_1, out_size)\n",
    "    \n",
    "    def forward(self, x):\n",
    "        out = self.fc1(x)\n",
    "        out = self.relu1(out)\n",
    "        out = self.fc2(out)\n",
    "        return out\n",
    "\n",
    "\n",
    "# создание нейронной сети\n",
    "model = Net(input_size, hidden_size_1, out_size)\n",
    "\n",
    "# инициализация весов и смещений\n",
    "#model.apply(init_weights)\n",
    "\n",
    "# В качестве функции потерь используем MSE\n",
    "loss = nn.MSELoss()  \n",
    "# создаем Adam оптимизатор \n",
    "optimizer = torch.optim.Adam(model.parameters(), lr=learn)  \n",
    "\n",
    "# списки для сохранения \n",
    "train_lost = []\n",
    "test_lost = []\n",
    "pred_test1= []\n",
    "best_predicted_temp = []\n",
    "# лучший скор\n",
    "best_rmse2 = 4500"
   ]
  },
  {
   "cell_type": "code",
   "execution_count": 32,
   "id": "42629525",
   "metadata": {},
   "outputs": [
    {
     "name": "stdout",
     "output_type": "stream",
     "text": [
      "Эпоха №0, RMSE на тестовой выборке: 14773.95221327049\n",
      "Эпоха №30, RMSE на тестовой выборке: 13713.989353940742\n",
      "Эпоха №60, RMSE на тестовой выборке: 10454.169694432934\n",
      "Эпоха №90, RMSE на тестовой выборке: 8773.799177095405\n",
      "Эпоха №120, RMSE на тестовой выборке: 8252.060106421912\n",
      "Эпоха №150, RMSE на тестовой выборке: 7834.433738311915\n",
      "Эпоха №180, RMSE на тестовой выборке: 7479.975668409624\n",
      "Эпоха №210, RMSE на тестовой выборке: 7158.155907774013\n",
      "Эпоха №240, RMSE на тестовой выборке: 6868.851432372082\n",
      "Эпоха №270, RMSE на тестовой выборке: 6607.513904639172\n",
      "Эпоха №300, RMSE на тестовой выборке: 6376.262227982786\n",
      "Эпоха №330, RMSE на тестовой выборке: 6180.199349535579\n",
      "Эпоха №360, RMSE на тестовой выборке: 6024.086652763222\n",
      "Эпоха №390, RMSE на тестовой выборке: 5902.348007361138\n",
      "Эпоха №420, RMSE на тестовой выборке: 5809.538363760067\n",
      "Эпоха №450, RMSE на тестовой выборке: 5734.926852192624\n",
      "Эпоха №480, RMSE на тестовой выборке: 5671.354688255708\n",
      "Эпоха №510, RMSE на тестовой выборке: 5612.118673014676\n",
      "Эпоха №540, RMSE на тестовой выборке: 5559.552320106359\n",
      "Эпоха №570, RMSE на тестовой выборке: 5509.543356758344\n",
      "Эпоха №600, RMSE на тестовой выборке: 5463.37624550973\n",
      "Эпоха №630, RMSE на тестовой выборке: 5417.66665641215\n",
      "Эпоха №660, RMSE на тестовой выборке: 5378.830170213594\n",
      "Эпоха №690, RMSE на тестовой выборке: 5335.562200930657\n",
      "Эпоха №720, RMSE на тестовой выборке: 5295.9242819360625\n",
      "Эпоха №750, RMSE на тестовой выборке: 5257.163493748316\n",
      "Эпоха №780, RMSE на тестовой выборке: 5212.601461842253\n",
      "Эпоха №810, RMSE на тестовой выборке: 5173.149330920189\n",
      "Эпоха №840, RMSE на тестовой выборке: 5151.424657315682\n",
      "Эпоха №870, RMSE на тестовой выборке: 5130.203114887363\n",
      "Эпоха №900, RMSE на тестовой выборке: 5108.4815747930425\n",
      "Эпоха №930, RMSE на тестовой выборке: 5082.116685004389\n",
      "Эпоха №960, RMSE на тестовой выборке: 5068.291230779857\n",
      "Эпоха №990, RMSE на тестовой выборке: 5036.655239342872\n",
      "Эпоха №1020, RMSE на тестовой выборке: 5023.542375654853\n",
      "Эпоха №1050, RMSE на тестовой выборке: 5025.967369571752\n",
      "Эпоха №1080, RMSE на тестовой выборке: 5026.991346720223\n",
      "Эпоха №1110, RMSE на тестовой выборке: 5027.792358481006\n",
      "Эпоха №1140, RMSE на тестовой выборке: 5034.408803424688\n",
      "Эпоха №1170, RMSE на тестовой выборке: 5041.267300986926\n",
      "Эпоха №1200, RMSE на тестовой выборке: 5041.968068125779\n",
      "Эпоха №1230, RMSE на тестовой выборке: 5049.033570892552\n",
      "Эпоха №1260, RMSE на тестовой выборке: 5057.918741933287\n",
      "Эпоха №1290, RMSE на тестовой выборке: 5067.044108748216\n",
      "Эпоха №1320, RMSE на тестовой выборке: 5076.083529651576\n",
      "Эпоха №1350, RMSE на тестовой выборке: 5084.920058368666\n",
      "Эпоха №1380, RMSE на тестовой выборке: 5093.171703369129\n",
      "Эпоха №1410, RMSE на тестовой выборке: 5098.127891687301\n",
      "Эпоха №1440, RMSE на тестовой выборке: 5102.070364077705\n",
      "Эпоха №1470, RMSE на тестовой выборке: 5104.227855415547\n",
      "Эпоха №1500, RMSE на тестовой выборке: 5109.050792466248\n",
      "Эпоха №1530, RMSE на тестовой выборке: 5114.628627769566\n",
      "Эпоха №1560, RMSE на тестовой выборке: 5121.722952288615\n",
      "Эпоха №1590, RMSE на тестовой выборке: 5129.19545348001\n",
      "Эпоха №1620, RMSE на тестовой выборке: 5136.59906942327\n",
      "Эпоха №1650, RMSE на тестовой выборке: 5144.005054429866\n",
      "Эпоха №1680, RMSE на тестовой выборке: 5150.999320520243\n",
      "Эпоха №1710, RMSE на тестовой выборке: 5157.712089676972\n",
      "Эпоха №1740, RMSE на тестовой выборке: 5163.38590461724\n",
      "Эпоха №1770, RMSE на тестовой выборке: 5169.805992491401\n",
      "Эпоха №1800, RMSE на тестовой выборке: 5174.904636802498\n",
      "Эпоха №1830, RMSE на тестовой выборке: 5179.023266987705\n",
      "Эпоха №1860, RMSE на тестовой выборке: 5183.075341918155\n",
      "Эпоха №1890, RMSE на тестовой выборке: 5186.181254063533\n",
      "Эпоха №1920, RMSE на тестовой выборке: 5189.68419077693\n",
      "Эпоха №1950, RMSE на тестовой выборке: 5192.532330183414\n",
      "Эпоха №1980, RMSE на тестовой выборке: 5196.261925653864\n",
      "Эпоха №1999, RMSE на тестовой выборке: 5198.051173276384\n",
      "Best RMSE test 4500\n"
     ]
    }
   ],
   "source": [
    "# Цикл обучения\n",
    "for epoch in range(num_epochs):\n",
    "    \n",
    "    model.train()\n",
    "    \n",
    "    optimizer.zero_grad()\n",
    "    \n",
    "    # перевод сети в режим предсказания\n",
    "    model.eval()\n",
    "    preds = model.forward(X_train).flatten()\n",
    "            \n",
    "    loss_value = loss(preds, y_train)\n",
    "\n",
    "    loss_value.backward()\n",
    "            \n",
    "    optimizer.step()\n",
    "    \n",
    "    # на каждой 30-й эпохе предсказываем температуру на тестовой выборке\n",
    "    if epoch % 30 == 0 or epoch == num_epochs - 1:\n",
    "        model.eval()\n",
    "        test_preds = model.forward(X_test).flatten()\n",
    "        rmse = ((test_preds.squeeze(-1) - y_test).pow(2).mean().item())**0.5\n",
    "        \n",
    "        # внесение метрики качества в заранее созданные списки\n",
    "        train_lost.append(loss_value.item()**0.5)\n",
    "        test_lost.append(rmse)\n",
    "        pred_test1.append(test_preds)\n",
    "        print(f'Эпоха №{epoch}, RMSE на тестовой выборке: {rmse}')\n",
    "    \n",
    "        # сохранение лучшего результата\n",
    "        if rmse < best_rmse2:\n",
    "            best_rmse2 = rmse\n",
    "            best_predicted_temp = test_preds\n",
    "            best_train_loss = loss_value\n",
    "        else:\n",
    "            best_predicted_temp = test_preds\n",
    "\n",
    "print(f'Best RMSE test {best_rmse2}')"
   ]
  },
  {
   "cell_type": "code",
   "execution_count": 33,
   "id": "fbd4d489",
   "metadata": {},
   "outputs": [
    {
     "data": {
      "image/png": "[encoded data removed]",
      "text/plain": [
       "<Figure size 720x864 with 1 Axes>"
      ]
     },
     "metadata": {
      "needs_background": "light"
     },
     "output_type": "display_data"
    }
   ],
   "source": [
    "# график метрики качества        \n",
    "df_gr = pd.DataFrame({'Train': train_lost, 'Test': test_lost})       \n",
    "df_gr.plot(figsize=(10, 12))\n",
    "plt.show();"
   ]
  },
  {
   "cell_type": "code",
   "execution_count": 34,
   "id": "817d4e7d",
   "metadata": {},
   "outputs": [
    {
     "data": {
      "image/png": "[encoded data removed]",
      "text/plain": [
       "<Figure size 1224x648 with 1 Axes>"
      ]
     },
     "metadata": {
      "needs_background": "light"
     },
     "output_type": "display_data"
    }
   ],
   "source": [
    "# функция для вывода качества регрессии факт-прогноз\n",
    "#построение графика «Факт — Прогноз», где по горизонтальной оси будут отложены условные номера звёзд, \n",
    "#а по вертикальной — температура в Кельвинах.\n",
    "def predcit_fact_graph(pred_test, y_test, detach=True):\n",
    "    \n",
    "    if detach:\n",
    "        y1 = torch.FloatTensor(pred_test)\n",
    "        y1 = y1.detach().numpy().reshape([-1])\n",
    "        y2 = y_test.detach().numpy().reshape([-1])\n",
    "    else:\n",
    "        y1 = pred_test1.reshape([-1])\n",
    "        y2 = y_test.reshape([-1])\n",
    "    x = np.arange(len(y1))\n",
    "\n",
    "    fig, ax = plt.subplots(figsize=(17, 9))\n",
    "    ax.set_xticks(x)\n",
    "    fact = ax.bar(x, y2, width = 0.8, label = 'Факт')\n",
    "    forecast = ax.bar(x, y1, width = 0.3, label = 'Прогноз')\n",
    "    ax.legend()\n",
    "    ax.set_title('График \"Факт-прогноз\"')\n",
    "    ax.set_xlabel('№ звезды')\n",
    "    ax.set_ylabel('Температура звезды')\n",
    "    plt.show()\n",
    "    \n",
    "# вывод графика\n",
    "predcit_fact_graph(best_predicted_temp, y_test)"
   ]
  },
  {
   "cell_type": "markdown",
   "id": "bab892b7",
   "metadata": {},
   "source": [
    "***Вывод:***\n",
    "\n",
    "После уменьшения числа скрытых слоев с 1 до 0, точность предсказания стала хуже, требуемое значение RMSE ниже 4500К не было достигнуто, а минимальное составило 4979К. \n",
    "\n",
    "Изначально обучение было провелено на 1000 эпох, так как показатели RMSE к 1000 эпохи по тенденции уменьшался и переобучение не наступало, было принято решение, увеличить количество эпох до 2000. Но в графику видно, что после 1230 эпохи стало происходить переобучение модели.\n",
    "\n",
    "Поэтому делаем вывод, что для решения этой задачи полносвязную нейронную сеть из двух полносвязных слоёв не подходит и далее улучшение нейросети будем проводить на сети с одним скрытым слоем сети, которая показала лучше метрику качества RMSE."
   ]
  },
  {
   "cell_type": "markdown",
   "id": "growing-supply",
   "metadata": {},
   "source": [
    "## Улучшение нейронной сети"
   ]
  },
  {
   "cell_type": "markdown",
   "id": "552aa417",
   "metadata": {},
   "source": [
    "Улучшение модели сначала проведем с помощью метода регуляризации 'BatchNorm', а потом - с 'dropout'."
   ]
  },
  {
   "cell_type": "markdown",
   "id": "30ed72ae",
   "metadata": {},
   "source": [
    "### Метод BatchNorm"
   ]
  },
  {
   "cell_type": "code",
   "execution_count": 35,
   "id": "abd9a240",
   "metadata": {},
   "outputs": [],
   "source": [
    "# преобразуем признаки и целевые значения в тензоры\n",
    "X_train = torch.Tensor(X_train1.values)\n",
    "X_test = torch.Tensor(X_test1.values)\n",
    "y_train = torch.Tensor(y_train1.values)\n",
    "y_test = torch.Tensor(y_test1.values)"
   ]
  },
  {
   "cell_type": "code",
   "execution_count": 44,
   "id": "2f3e4ad1",
   "metadata": {},
   "outputs": [],
   "source": [
    "#нейронная сеть  с 2 скрытыми слоями\n",
    "#объявляем объект класса\n",
    "\n",
    "# количество слоев и нейронов\n",
    "input_size = X_train.shape[1]\n",
    "hidden_size_1 = 14 # 2/3 от входного слоя + выходной + округление\n",
    "hidden_size_2 = 10 # 1/2 от входного слоя с округлением\n",
    "out_size = 1 \n",
    "# количество эпох\n",
    "num_epochs = 1000\n",
    "# скорость обучения\n",
    "learn = 0.4\n",
    "\n",
    "\n",
    "# класс нейронной сети (Создайте класс для задания архитектуры нейронной сети)\n",
    "class Net(nn.Module):\n",
    "    def __init__(self, input_size, hidden_size_1, hidden_size_2, out_size):\n",
    "        super(Net, self).__init__()\n",
    "        self.fc1 = nn.Linear(input_size, hidden_size_1)  \n",
    "        self.bn1 = nn.BatchNorm1d(hidden_size_1)\n",
    "        self.relu1 = nn.ReLU()\n",
    "        self.fc2 = nn.Linear(hidden_size_1, hidden_size_2) \n",
    "        self.bn2 = nn.BatchNorm1d(hidden_size_2)\n",
    "        self.relu2 = nn.ReLU()\n",
    "        self.fc3 = nn.Linear(hidden_size_2, out_size)\n",
    "    \n",
    "    def forward(self, x):\n",
    "        out = self.fc1(x)\n",
    "        out = self.bn1(out)\n",
    "        out = self.relu1(out)\n",
    "        out = self.fc2(out)\n",
    "        out = self.bn2(out)\n",
    "        out = self.relu2(out)\n",
    "        out = self.fc3(out)\n",
    "        return out"
   ]
  },
  {
   "cell_type": "code",
   "execution_count": 45,
   "id": "2ffeb172",
   "metadata": {},
   "outputs": [],
   "source": [
    "# создание нейронной сети\n",
    "model = Net(input_size, hidden_size_1, hidden_size_2, out_size)\n",
    "\n",
    "# В качестве функции потерь используем MSE\n",
    "loss = nn.MSELoss()  \n",
    "# создаем Adam оптимизатор \n",
    "optimizer = torch.optim.Adam(model.parameters(), lr=learn)  \n",
    "\n",
    "# списки для сохранения \n",
    "train_lost = []\n",
    "test_lost = []\n",
    "pred_test2= []\n",
    "best_predicted_temp = []\n",
    "# лучший скор\n",
    "best_rmse = 4500"
   ]
  },
  {
   "cell_type": "code",
   "execution_count": 46,
   "id": "ed770beb",
   "metadata": {},
   "outputs": [
    {
     "name": "stdout",
     "output_type": "stream",
     "text": [
      "Эпоха №0, RMSE на тестовой выборке: 14761.532711747788\n",
      "Эпоха №30, RMSE на тестовой выборке: 7705.868153556742\n",
      "Эпоха №60, RMSE на тестовой выборке: 5145.672745132554\n",
      "Эпоха №90, RMSE на тестовой выборке: 5031.706867455615\n",
      "Эпоха №120, RMSE на тестовой выборке: 5029.320232397217\n",
      "Эпоха №150, RMSE на тестовой выборке: 5242.062189634915\n",
      "Эпоха №180, RMSE на тестовой выборке: 4910.816429067574\n",
      "Эпоха №210, RMSE на тестовой выборке: 5012.82934080146\n",
      "Эпоха №240, RMSE на тестовой выборке: 4675.74742688268\n",
      "Эпоха №270, RMSE на тестовой выборке: 4516.37974488417\n",
      "Эпоха №300, RMSE на тестовой выборке: 4374.650157441164\n",
      "Эпоха №330, RMSE на тестовой выборке: 4285.972001775093\n",
      "Эпоха №360, RMSE на тестовой выборке: 4586.792997291244\n",
      "Эпоха №390, RMSE на тестовой выборке: 4126.8949586826175\n",
      "Эпоха №420, RMSE на тестовой выборке: 5228.2593661753235\n",
      "Эпоха №450, RMSE на тестовой выборке: 5436.994022435559\n",
      "Эпоха №480, RMSE на тестовой выборке: 6077.249706898672\n",
      "Эпоха №510, RMSE на тестовой выборке: 4925.54037644602\n",
      "Эпоха №540, RMSE на тестовой выборке: 5826.758618648965\n",
      "Эпоха №570, RMSE на тестовой выборке: 6089.2764759041775\n",
      "Эпоха №600, RMSE на тестовой выборке: 6117.719182832766\n",
      "Эпоха №630, RMSE на тестовой выборке: 6116.062785812454\n",
      "Эпоха №660, RMSE на тестовой выборке: 6724.692706733892\n",
      "Эпоха №690, RMSE на тестовой выборке: 6291.802921261918\n",
      "Эпоха №720, RMSE на тестовой выборке: 5921.44171633902\n",
      "Эпоха №750, RMSE на тестовой выборке: 7312.357212281139\n",
      "Эпоха №780, RMSE на тестовой выборке: 7657.697826370534\n",
      "Эпоха №810, RMSE на тестовой выборке: 7983.22741752983\n",
      "Эпоха №840, RMSE на тестовой выборке: 7855.096180187738\n",
      "Эпоха №870, RMSE на тестовой выборке: 7172.644700527136\n",
      "Эпоха №900, RMSE на тестовой выборке: 7299.8643823019065\n",
      "Эпоха №930, RMSE на тестовой выборке: 6972.565668389219\n",
      "Эпоха №960, RMSE на тестовой выборке: 7603.945291754801\n",
      "Эпоха №990, RMSE на тестовой выборке: 7066.613050111065\n",
      "Эпоха №999, RMSE на тестовой выборке: 7017.989740659358\n",
      "Best RMSE test 4126.8949586826175\n"
     ]
    }
   ],
   "source": [
    "# Цикл обучения\n",
    "for epoch in range(num_epochs):\n",
    "    \n",
    "    model.train()\n",
    "    \n",
    "    optimizer.zero_grad()\n",
    "    \n",
    "    #перевод сети в режим предсказания\n",
    "    model.eval()\n",
    "    preds = model.forward(X_train).flatten()\n",
    "            \n",
    "    loss_value = loss(preds, y_train)\n",
    "\n",
    "    loss_value.backward()\n",
    "            \n",
    "    optimizer.step()\n",
    "    \n",
    "    # на каждой 30-й эпохе предсказываем температуру на тестовой выборке\n",
    "    if epoch % 30 == 0 or epoch == num_epochs - 1:\n",
    "        model.eval()\n",
    "        test_preds = model.forward(X_test).flatten()\n",
    "        rmse = ((test_preds.squeeze(-1) - y_test).pow(2).mean().item())**0.5\n",
    "        \n",
    "        # внесение метрики качества в заранее созданные списки\n",
    "        train_lost.append(loss_value.item()**0.5)\n",
    "        test_lost.append(rmse)\n",
    "        pred_test2.append(test_preds)\n",
    "        print(f'Эпоха №{epoch}, RMSE на тестовой выборке: {rmse}')\n",
    "        # сохранение лучшего результата\n",
    "        if rmse < best_rmse:\n",
    "            best_rmse = rmse\n",
    "            best_predicted_temp = test_preds\n",
    "            best_train_loss = loss_value\n",
    "print(f'Best RMSE test {best_rmse}')            \n",
    "           "
   ]
  },
  {
   "cell_type": "code",
   "execution_count": 47,
   "id": "67212f60",
   "metadata": {},
   "outputs": [
    {
     "data": {
      "image/png": "[encoded data removed]",
      "text/plain": [
       "<Figure size 720x864 with 1 Axes>"
      ]
     },
     "metadata": {
      "needs_background": "light"
     },
     "output_type": "display_data"
    }
   ],
   "source": [
    "# график метрики качества        \n",
    "df_gr = pd.DataFrame({'Train': train_lost, 'Test': test_lost})       \n",
    "df_gr.plot(figsize=(10, 12))\n",
    "plt.show();"
   ]
  },
  {
   "cell_type": "code",
   "execution_count": 48,
   "id": "cecdb03c",
   "metadata": {},
   "outputs": [
    {
     "data": {
      "image/png": "[encoded data removed]",
      "text/plain": [
       "<Figure size 1224x648 with 1 Axes>"
      ]
     },
     "metadata": {
      "needs_background": "light"
     },
     "output_type": "display_data"
    }
   ],
   "source": [
    "# функция для вывода качества регрессии факт-прогноз\n",
    "#построение графика «Факт — Прогноз», где по горизонтальной оси будут отложены условные номера звёзд, \n",
    "#а по вертикальной — температура в Кельвинах.\n",
    "def predcit_fact_graph(pred_test, y_test, detach=True):\n",
    "    \n",
    "    if detach:\n",
    "        y1 = torch.FloatTensor(pred_test)\n",
    "        y1 = y1.detach().numpy().reshape([-1])\n",
    "        y2 = y_test.detach().numpy().reshape([-1])\n",
    "    else:\n",
    "        y1 = pred_test2.reshape([-1])\n",
    "        y2 = y_test.reshape([-1])\n",
    "    x = np.arange(len(y1))\n",
    "\n",
    "    fig, ax = plt.subplots(figsize=(17, 9))\n",
    "    ax.set_xticks(x)\n",
    "    fact = ax.bar(x, y2, width = 0.8, label = 'Факт')\n",
    "    forecast = ax.bar(x, y1, width = 0.3, label = 'Прогноз')\n",
    "    ax.legend()\n",
    "    ax.set_title('График \"Факт-прогноз\"')\n",
    "    ax.set_xlabel('№ звезды')\n",
    "    ax.set_ylabel('Температура звезды')\n",
    "    plt.show()\n",
    "    \n",
    "# вывод графика\n",
    "predcit_fact_graph(best_predicted_temp, y_test)"
   ]
  },
  {
   "cell_type": "markdown",
   "id": "83401c1f",
   "metadata": {},
   "source": [
    "***Вывод:***\n",
    "\n",
    "Мы провели улучшение нейросети с двуями скрытыми слоями с помощью метода регуляризации BatchNorm., добавим его в виде дополнительного слоя сети.\n",
    "\n",
    "Наилучший показатель RMSE был достигнут на 720 эпохи и он составил 3752К, что лучше, чт лучше, чем было при построении базовой нейросети."
   ]
  },
  {
   "cell_type": "markdown",
   "id": "241c7fe3",
   "metadata": {},
   "source": [
    "### Метод DropOut"
   ]
  },
  {
   "cell_type": "code",
   "execution_count": 49,
   "id": "5e336838",
   "metadata": {},
   "outputs": [],
   "source": [
    "# преобразуем признаки и целевые значения в тензоры\n",
    "X_train = torch.Tensor(X_train1.values)\n",
    "X_test = torch.Tensor(X_test1.values)\n",
    "y_train = torch.Tensor(y_train1.values)\n",
    "y_test = torch.Tensor(y_test1.values)"
   ]
  },
  {
   "cell_type": "code",
   "execution_count": 50,
   "id": "122cfff6",
   "metadata": {},
   "outputs": [],
   "source": [
    "#нейронная сеть  с 1 скрытым слоем\n",
    "#объявляем объект класса\n",
    "\n",
    "# количество слоев и нейронов\n",
    "input_size = X_train.shape[1]\n",
    "hidden_size_1 = 14 # 2/3 от входного слоя + выходной + округление\n",
    "hidden_size_2 = 10 # 1/2 от входного слоя с округлением\n",
    "out_size = 1 \n",
    "# количество эпох\n",
    "num_epochs = 1000\n",
    "# скорость обучения\n",
    "learn = 0.2\n",
    "\n",
    "\n",
    "# класс нейронной сети и добавляем регуляризацию  DropOut как еще один из слоёв\n",
    "class Net(nn.Module):\n",
    "    def __init__(self, input_size, hidden_size_1, hidden_size_2, out_size):\n",
    "        super(Net, self).__init__()\n",
    "        self.fc1 = nn.Linear(input_size, hidden_size_1)  \n",
    "        self.dp1 = nn.Dropout(p=0.3)\n",
    "        self.relu1 = nn.ReLU()\n",
    "        self.fc2 = nn.Linear(hidden_size_1, hidden_size_2) \n",
    "        self.dp2 = nn.Dropout(p=0.3)\n",
    "        self.relu2 = nn.ReLU()\n",
    "        self.fc3 = nn.Linear(hidden_size_2, out_size)\n",
    "    \n",
    "    def forward(self, x):\n",
    "        out = self.fc1(x)\n",
    "        out = self.relu1(out)\n",
    "        out = self.dp1(out)\n",
    "        out = self.fc2(out)\n",
    "        out = self.relu2(out)\n",
    "        out = self.dp2(out)\n",
    "        out = self.fc3(out)\n",
    "        return out"
   ]
  },
  {
   "cell_type": "code",
   "execution_count": 51,
   "id": "5b3c477a",
   "metadata": {},
   "outputs": [],
   "source": [
    "# создание нейронной сети\n",
    "model = Net(input_size, hidden_size_1, hidden_size_2, out_size)\n",
    "\n",
    "# В качестве функции потерь используем MSE\n",
    "loss = nn.MSELoss()  \n",
    "# создаем Adam оптимизатор \n",
    "optimizer = torch.optim.Adam(model.parameters(), lr=learn)  \n",
    "\n",
    "# списки для сохранения \n",
    "train_lost = []\n",
    "test_lost = []\n",
    "pred_test3 = [] \n",
    "# лучший скор\n",
    "best_rmse = 4500"
   ]
  },
  {
   "cell_type": "code",
   "execution_count": 52,
   "id": "298e9546",
   "metadata": {},
   "outputs": [
    {
     "name": "stdout",
     "output_type": "stream",
     "text": [
      "Эпоха №0, RMSE на тестовой выборке: 14773.064678664343\n",
      "Эпоха №30, RMSE на тестовой выборке: 8860.548064312952\n",
      "Эпоха №60, RMSE на тестовой выборке: 7361.548750093285\n",
      "Эпоха №90, RMSE на тестовой выборке: 6320.346825926565\n",
      "Эпоха №120, RMSE на тестовой выборке: 5659.410923408902\n",
      "Эпоха №150, RMSE на тестовой выборке: 5367.679386848659\n",
      "Эпоха №180, RMSE на тестовой выборке: 5313.9776062757355\n",
      "Эпоха №210, RMSE на тестовой выборке: 5384.212662961967\n",
      "Эпоха №240, RMSE на тестовой выборке: 5397.170925586848\n",
      "Эпоха №270, RMSE на тестовой выборке: 5362.025736603658\n",
      "Эпоха №300, RMSE на тестовой выборке: 5254.833774725895\n",
      "Эпоха №330, RMSE на тестовой выборке: 5153.884166335134\n",
      "Эпоха №360, RMSE на тестовой выборке: 5019.907369663309\n",
      "Эпоха №390, RMSE на тестовой выборке: 4902.050999326711\n",
      "Эпоха №420, RMSE на тестовой выборке: 4797.436815633949\n",
      "Эпоха №450, RMSE на тестовой выборке: 4727.181401215739\n",
      "Эпоха №480, RMSE на тестовой выборке: 4640.84496616726\n",
      "Эпоха №510, RMSE на тестовой выборке: 4580.400419177346\n",
      "Эпоха №540, RMSE на тестовой выборке: 4516.924838869914\n",
      "Эпоха №570, RMSE на тестовой выборке: 4484.002899196208\n",
      "Эпоха №570, RMSE на тестовой выборке: 4484.002899196208\n",
      "Эпоха №600, RMSE на тестовой выборке: 4429.220924722541\n",
      "Эпоха №600, RMSE на тестовой выборке: 4429.220924722541\n",
      "Эпоха №630, RMSE на тестовой выборке: 4379.025690721624\n",
      "Эпоха №630, RMSE на тестовой выборке: 4379.025690721624\n",
      "Эпоха №660, RMSE на тестовой выборке: 4388.419761144096\n",
      "Эпоха №690, RMSE на тестовой выборке: 4383.994297441546\n",
      "Эпоха №720, RMSE на тестовой выборке: 4392.933643933175\n",
      "Эпоха №750, RMSE на тестовой выборке: 4402.646022564158\n",
      "Эпоха №780, RMSE на тестовой выборке: 4362.9664220573595\n",
      "Эпоха №780, RMSE на тестовой выборке: 4362.9664220573595\n",
      "Эпоха №810, RMSE на тестовой выборке: 4408.037431782993\n",
      "Эпоха №840, RMSE на тестовой выборке: 4381.751704512705\n",
      "Эпоха №870, RMSE на тестовой выборке: 4443.2328320717115\n",
      "Эпоха №900, RMSE на тестовой выборке: 4468.268792272909\n",
      "Эпоха №930, RMSE на тестовой выборке: 4516.169615946682\n",
      "Эпоха №960, RMSE на тестовой выборке: 4493.22779302363\n",
      "Эпоха №990, RMSE на тестовой выборке: 4553.601651440319\n",
      "Эпоха №999, RMSE на тестовой выборке: 4639.055722881543\n",
      "Best RMSE test 4362.9664220573595\n"
     ]
    }
   ],
   "source": [
    "\n",
    "# Цикл обучения\n",
    "for epoch in range(num_epochs):\n",
    "    \n",
    "    model.train()\n",
    "    \n",
    "    optimizer.zero_grad()\n",
    "    \n",
    "    #перевод сети в режим предсказания\n",
    "    model.eval()\n",
    "    preds = model.forward(X_train).flatten()\n",
    "            \n",
    "    loss_value = loss(preds, y_train)\n",
    "\n",
    "    loss_value.backward()\n",
    "            \n",
    "    optimizer.step()\n",
    "    \n",
    "    # на каждой 30-й эпохе предсказываем температуру на тестовой выборке\n",
    "    if epoch % 30 == 0 or epoch == num_epochs - 1:\n",
    "        model.eval()\n",
    "        test_preds = model.forward(X_test).flatten()\n",
    "        rmse = ((test_preds.squeeze(-1) - y_test).pow(2).mean().item())**0.5\n",
    "        \n",
    "        # внесение метрики качества в заранее созданные списки\n",
    "        train_lost.append(loss_value.item()**0.5)\n",
    "        test_lost.append(rmse)\n",
    "        pred_test3.append(test_preds)\n",
    "        print(f'Эпоха №{epoch}, RMSE на тестовой выборке: {rmse}')\n",
    "        # сохранение лучшего результата\n",
    "        if rmse < best_rmse:\n",
    "            best_rmse = rmse\n",
    "            best_predicted_temp = test_preds\n",
    "            best_train_loss = loss_value\n",
    "            \n",
    "            print(f'Эпоха №{epoch}, RMSE на тестовой выборке: {best_rmse}')\n",
    "print(f'Best RMSE test {best_rmse}')"
   ]
  },
  {
   "cell_type": "code",
   "execution_count": 53,
   "id": "8a90c005",
   "metadata": {},
   "outputs": [
    {
     "data": {
      "image/png": "[encoded data removed]",
      "text/plain": [
       "<Figure size 720x864 with 1 Axes>"
      ]
     },
     "metadata": {
      "needs_background": "light"
     },
     "output_type": "display_data"
    }
   ],
   "source": [
    "# график метрики качества        \n",
    "df_gr = pd.DataFrame({'Train': train_lost, 'Test': test_lost})       \n",
    "df_gr.plot(figsize=(10, 12))\n",
    "plt.show();"
   ]
  },
  {
   "cell_type": "code",
   "execution_count": 54,
   "id": "cb312411",
   "metadata": {
    "scrolled": true
   },
   "outputs": [
    {
     "data": {
      "image/png": "[encoded data removed]",
      "text/plain": [
       "<Figure size 1224x648 with 1 Axes>"
      ]
     },
     "metadata": {
      "needs_background": "light"
     },
     "output_type": "display_data"
    }
   ],
   "source": [
    "# функция для вывода качества регрессии факт-прогноз\n",
    "#построение графика «Факт — Прогноз», где по горизонтальной оси будут отложены условные номера звёзд, \n",
    "#а по вертикальной — температура в Кельвинах.\n",
    "def predcit_fact_graph(pred_test, y_test, detach=True):\n",
    "    \n",
    "    if detach:\n",
    "        y1 = torch.FloatTensor(pred_test)\n",
    "        y1 = y1.detach().numpy().reshape([-1])\n",
    "        y2 = y_test.detach().numpy().reshape([-1])\n",
    "    else:\n",
    "        y1 = pred_test3.reshape([-1])\n",
    "        y2 = y_test.reshape([-1])\n",
    "    x = np.arange(len(y1))\n",
    "\n",
    "    fig, ax = plt.subplots(figsize=(17, 9))\n",
    "    ax.set_xticks(x)\n",
    "    fact = ax.bar(x, y2, width = 0.8, label = 'Факт')\n",
    "    forecast = ax.bar(x, y1, width = 0.3, label = 'Прогноз')\n",
    "    ax.legend()\n",
    "    ax.set_title('График \"Факт-прогноз\"')\n",
    "    ax.set_xlabel('№ звезды')\n",
    "    ax.set_ylabel('Температура звезды')\n",
    "    plt.show()\n",
    "    \n",
    "# вывод графика\n",
    "predcit_fact_graph(best_predicted_temp, y_test)"
   ]
  },
  {
   "cell_type": "markdown",
   "id": "94458110",
   "metadata": {},
   "source": [
    "***Вывод:***\n",
    "\n",
    "Мы улучшили базовую нейросеть с помощью техники регуляризации Dropout, при этом удалось достичь лучшей метрики RMSE = 4232 на 630 эпохе.И на данный момент это лучший показатель  RMSE по 4 обученным моделям."
   ]
  },
  {
   "cell_type": "markdown",
   "id": "b54f3e19",
   "metadata": {},
   "source": [
    "### Обучением с батчами"
   ]
  },
  {
   "cell_type": "code",
   "execution_count": 55,
   "id": "4e38027e",
   "metadata": {},
   "outputs": [],
   "source": [
    "# преобразуем признаки и целевые значения в тензоры\n",
    "X_train = torch.Tensor(X_train1.values)\n",
    "X_test = torch.Tensor(X_test1.values)\n",
    "y_train = torch.Tensor(y_train1.values)\n",
    "y_test = torch.Tensor(y_test1.values)"
   ]
  },
  {
   "cell_type": "code",
   "execution_count": 56,
   "id": "a640ca0c",
   "metadata": {},
   "outputs": [
    {
     "name": "stdout",
     "output_type": "stream",
     "text": [
      "Эпоха №0, RMSE на тестовой выборке: 14775.041116694058\n",
      "Эпоха №30, RMSE на тестовой выборке: 14775.041116694058\n",
      "Эпоха №60, RMSE на тестовой выборке: 14775.041116694058\n",
      "Эпоха №90, RMSE на тестовой выборке: 14775.041116694058\n",
      "Эпоха №120, RMSE на тестовой выборке: 14775.041116694058\n",
      "Эпоха №150, RMSE на тестовой выборке: 14775.041116694058\n",
      "Эпоха №180, RMSE на тестовой выборке: 14775.041116694058\n",
      "Эпоха №210, RMSE на тестовой выборке: 14775.041116694058\n",
      "Эпоха №240, RMSE на тестовой выборке: 14775.041116694058\n",
      "Эпоха №270, RMSE на тестовой выборке: 14775.041116694058\n",
      "Эпоха №300, RMSE на тестовой выборке: 14775.041116694058\n",
      "Эпоха №330, RMSE на тестовой выборке: 14775.041116694058\n",
      "Эпоха №360, RMSE на тестовой выборке: 14775.041116694058\n",
      "Эпоха №390, RMSE на тестовой выборке: 14775.041116694058\n",
      "Эпоха №420, RMSE на тестовой выборке: 14775.041116694058\n",
      "Эпоха №450, RMSE на тестовой выборке: 14775.041116694058\n",
      "Эпоха №480, RMSE на тестовой выборке: 14775.041116694058\n",
      "Эпоха №510, RMSE на тестовой выборке: 14775.041116694058\n",
      "Эпоха №540, RMSE на тестовой выборке: 14775.041116694058\n",
      "Эпоха №570, RMSE на тестовой выборке: 14775.041116694058\n",
      "Эпоха №600, RMSE на тестовой выборке: 14775.041116694058\n",
      "Эпоха №630, RMSE на тестовой выборке: 14775.041116694058\n",
      "Эпоха №660, RMSE на тестовой выборке: 14775.041116694058\n",
      "Эпоха №690, RMSE на тестовой выборке: 14775.041116694058\n",
      "Эпоха №720, RMSE на тестовой выборке: 14775.041116694058\n",
      "Эпоха №750, RMSE на тестовой выборке: 14775.041116694058\n",
      "Эпоха №780, RMSE на тестовой выборке: 14775.041116694058\n",
      "Эпоха №810, RMSE на тестовой выборке: 14775.041116694058\n",
      "Эпоха №840, RMSE на тестовой выборке: 14775.041116694058\n",
      "Эпоха №870, RMSE на тестовой выборке: 14775.041116694058\n",
      "Эпоха №900, RMSE на тестовой выборке: 14775.041116694058\n",
      "Эпоха №930, RMSE на тестовой выборке: 14775.041116694058\n",
      "Эпоха №960, RMSE на тестовой выборке: 14775.041116694058\n",
      "Эпоха №990, RMSE на тестовой выборке: 14775.041116694058\n",
      "Эпоха №999, RMSE на тестовой выборке: 14775.041116694058\n"
     ]
    }
   ],
   "source": [
    "n_in_neurons = X_train.shape[1]\n",
    "n_hidden_neurons_1 = 14\n",
    "n_hidden_neurons_2 = 10\n",
    "n_out_neurons = 1 \n",
    "\n",
    "net = nn.Sequential(\n",
    "    nn.Linear(n_in_neurons, n_hidden_neurons_1),\n",
    "    nn.ReLU(),\n",
    "    nn.Linear(n_hidden_neurons_1, n_hidden_neurons_2),\n",
    "    nn.ReLU(),\n",
    "    nn.Linear(n_hidden_neurons_2, n_out_neurons), \n",
    "    nn.ReLU()\n",
    ")\n",
    "\n",
    "\n",
    "optimizer = torch.optim.Adam(net.parameters(), lr=0.2)\n",
    "\n",
    "loss = nn.BCELoss()\n",
    "\n",
    "batch_size = 250\n",
    "\n",
    "num_epochs = 1000\n",
    "\n",
    "num_batches = ceil(len(X_train)/batch_size)\n",
    "\n",
    "for epoch in range(num_epochs):\n",
    "\torder = np.random.permutation(len(X_train))\n",
    "\tfor batch_idx in range(num_batches):\n",
    "\t\tstart_index = batch_idx * batch_size # посчитайте номер стартового объекта батча\n",
    "\t\toptimizer.zero_grad()\n",
    "  \n",
    "\t\tbatch_indexes = order[start_index:start_index+batch_size] # извлеките индексы объектов текущего обатча\n",
    "\t\tX_batch = X_train[batch_indexes]\n",
    "\t\ty_batch = y_train[batch_indexes]\n",
    "  \n",
    "\t\tpreds = net.forward(X_batch).flatten()\n",
    "\t        \n",
    "\t\tloss_value = loss(preds, y_batch)\n",
    "\n",
    "\t\tloss_value.backward()\n",
    "\t        \n",
    "\t\toptimizer.step()\n",
    "\t\t\n",
    "\tif epoch % 30 == 0 or epoch == num_epochs - 1:\n",
    "\t\tnet.eval()\n",
    "\t\ttest_preds = net.forward(X_test)\n",
    "\t\trmse = ((test_preds.squeeze(-1) - y_test).pow(2).mean().item())**0.5\n",
    "\t\tprint(f'Эпоха №{epoch}, RMSE на тестовой выборке: {rmse}')\n",
    "       "
   ]
  },
  {
   "cell_type": "markdown",
   "id": "dde6dbbd",
   "metadata": {},
   "source": [
    "***Вывод***\n",
    "\n",
    "Как видим эксперимент с батчами не удался. Метрика RMSE стала еще хуже, видимо это связано  с тем, что изначально наша выборка была небольшого размера.\n"
   ]
  },
  {
   "cell_type": "markdown",
   "id": "caf1f7ad",
   "metadata": {},
   "source": [
    "### Перебор параметра у Dropout (уменьшением p c 0.3 до 0.2)"
   ]
  },
  {
   "cell_type": "code",
   "execution_count": 57,
   "id": "671b433e",
   "metadata": {},
   "outputs": [],
   "source": [
    "# преобразуем признаки и целевые значения в тензоры\n",
    "X_train = torch.Tensor(X_train1.values)\n",
    "X_test = torch.Tensor(X_test1.values)\n",
    "y_train = torch.Tensor(y_train1.values)\n",
    "y_test = torch.Tensor(y_test1.values)"
   ]
  },
  {
   "cell_type": "code",
   "execution_count": 67,
   "id": "4fb325ed",
   "metadata": {},
   "outputs": [],
   "source": [
    "#нейронная сеть  с 1 скрытым слоем\n",
    "#объявляем объект класса\n",
    "\n",
    "# количество слоев и нейронов\n",
    "input_size = X_train.shape[1]\n",
    "hidden_size_1 = 14 # 2/3 от входного слоя + выходной + округление\n",
    "hidden_size_2 = 10 # 1/2 от входного слоя с округлением\n",
    "out_size = 1 \n",
    "# количество эпох\n",
    "num_epochs = 1000\n",
    "# скорость обучения\n",
    "learn = 0.2\n",
    "\n",
    "\n",
    "# класс нейронной сети и добавляем регуляризацию  DropOut как еще один из слоёв\n",
    "class Net(nn.Module):\n",
    "    def __init__(self, input_size, hidden_size_1, hidden_size_2, out_size):\n",
    "        super(Net, self).__init__()\n",
    "        self.fc1 = nn.Linear(input_size, hidden_size_1)  \n",
    "        self.dp1 = nn.Dropout(p=0.2)\n",
    "        self.relu1 = nn.ReLU()\n",
    "        self.fc2 = nn.Linear(hidden_size_1, hidden_size_2) \n",
    "        self.dp2 = nn.Dropout(p=0.2)\n",
    "        self.relu2 = nn.ReLU()\n",
    "        self.fc3 = nn.Linear(hidden_size_2, out_size)\n",
    "    \n",
    "    def forward(self, x):\n",
    "        out = self.fc1(x)\n",
    "        out = self.relu1(out)\n",
    "        out = self.dp1(out)\n",
    "        out = self.fc2(out)\n",
    "        out = self.relu2(out)\n",
    "        out = self.dp2(out)\n",
    "        out = self.fc3(out)\n",
    "        return out\n",
    "    \n"
   ]
  },
  {
   "cell_type": "code",
   "execution_count": 68,
   "id": "5a2e9393",
   "metadata": {},
   "outputs": [],
   "source": [
    "# создание нейронной сети\n",
    "\n",
    "dropout = [0.2, 0.3, 0.4, 0.5]\n",
    "\n",
    "    \n",
    "model = Net(input_size, hidden_size_1, hidden_size_2, out_size)\n",
    "\n",
    "# В качестве функции потерь используем MSE\n",
    "loss = nn.MSELoss()  \n",
    "# создаем Adam оптимизатор \n",
    "optimizer = torch.optim.Adam(model.parameters(), lr=learn)  \n",
    "\n",
    "# списки для сохранения \n",
    "train_lost = []\n",
    "test_lost = []\n",
    "pred_test3 = [] \n",
    "# лучший скор\n",
    "best_rmse = 4500"
   ]
  },
  {
   "cell_type": "code",
   "execution_count": 69,
   "id": "cd59356b",
   "metadata": {},
   "outputs": [
    {
     "name": "stdout",
     "output_type": "stream",
     "text": [
      "Эпоха №0, RMSE на тестовой выборке: 14774.031812609583\n",
      "Эпоха №30, RMSE на тестовой выборке: 8935.845567152557\n",
      "Эпоха №60, RMSE на тестовой выборке: 7793.077697546714\n",
      "Эпоха №90, RMSE на тестовой выборке: 6594.7506397133775\n",
      "Эпоха №120, RMSE на тестовой выборке: 5686.084065505891\n",
      "Эпоха №150, RMSE на тестовой выборке: 5730.491950958486\n",
      "Эпоха №180, RMSE на тестовой выборке: 5667.848974699308\n",
      "Эпоха №210, RMSE на тестовой выборке: 5597.3193584072005\n",
      "Эпоха №240, RMSE на тестовой выборке: 5584.116760956919\n",
      "Эпоха №270, RMSE на тестовой выборке: 5489.268985939749\n",
      "Эпоха №300, RMSE на тестовой выборке: 5423.8606176781495\n",
      "Эпоха №330, RMSE на тестовой выборке: 5372.756834251853\n",
      "Эпоха №360, RMSE на тестовой выборке: 5352.846345637057\n",
      "Эпоха №390, RMSE на тестовой выборке: 5378.160280244538\n",
      "Эпоха №420, RMSE на тестовой выборке: 5361.689472545011\n",
      "Эпоха №450, RMSE на тестовой выборке: 5351.813337552049\n",
      "Эпоха №480, RMSE на тестовой выборке: 5368.777887005571\n",
      "Эпоха №510, RMSE на тестовой выборке: 5358.403680201782\n",
      "Эпоха №540, RMSE на тестовой выборке: 5386.82076924785\n",
      "Эпоха №570, RMSE на тестовой выборке: 5414.606356883204\n",
      "Эпоха №600, RMSE на тестовой выборке: 5430.395749851018\n",
      "Эпоха №630, RMSE на тестовой выборке: 5429.168628804967\n",
      "Эпоха №660, RMSE на тестовой выборке: 5458.723110765008\n",
      "Эпоха №690, RMSE на тестовой выборке: 5481.960780596665\n",
      "Эпоха №720, RMSE на тестовой выборке: 5496.051127855344\n",
      "Эпоха №750, RMSE на тестовой выборке: 5479.028928560243\n",
      "Эпоха №780, RMSE на тестовой выборке: 5517.6761412754195\n",
      "Эпоха №810, RMSE на тестовой выборке: 5550.960817732368\n",
      "Эпоха №840, RMSE на тестовой выборке: 5476.730959249322\n",
      "Эпоха №870, RMSE на тестовой выборке: 5457.129098711153\n",
      "Эпоха №900, RMSE на тестовой выборке: 5390.560638746215\n",
      "Эпоха №930, RMSE на тестовой выборке: 5386.919156623756\n",
      "Эпоха №960, RMSE на тестовой выборке: 5392.85453169284\n",
      "Эпоха №990, RMSE на тестовой выборке: 5394.5885848691005\n",
      "Эпоха №999, RMSE на тестовой выборке: 5371.105658986798\n",
      "Best RMSE test 4500\n"
     ]
    }
   ],
   "source": [
    "\n",
    "# Цикл обучения\n",
    "for epoch in range(num_epochs):\n",
    "    \n",
    "    model.train()\n",
    "    \n",
    "    optimizer.zero_grad()\n",
    "    \n",
    "    #перевод сети в режим предсказания\n",
    "    model.eval()\n",
    "    preds = model.forward(X_train).flatten()\n",
    "            \n",
    "    loss_value = loss(preds, y_train)\n",
    "\n",
    "    loss_value.backward()\n",
    "            \n",
    "    optimizer.step()\n",
    "    \n",
    "    # на каждой 30-й эпохе предсказываем температуру на тестовой выборке\n",
    "    if epoch % 30 == 0 or epoch == num_epochs - 1:\n",
    "        model.eval()\n",
    "        test_preds = model.forward(X_test).flatten()\n",
    "        rmse = ((test_preds.squeeze(-1) - y_test).pow(2).mean().item())**0.5\n",
    "        \n",
    "        # внесение метрики качества в заранее созданные списки\n",
    "        train_lost.append(loss_value.item()**0.5)\n",
    "        test_lost.append(rmse)\n",
    "        pred_test3.append(test_preds)\n",
    "        print(f'Эпоха №{epoch}, RMSE на тестовой выборке: {rmse}')\n",
    "        # сохранение лучшего результата\n",
    "        if rmse < best_rmse:\n",
    "            best_rmse = rmse\n",
    "            best_predicted_temp = test_preds\n",
    "            best_train_loss = loss_value\n",
    "            \n",
    "            print(f'Эпоха №{epoch}, RMSE на тестовой выборке: {best_rmse}')\n",
    "print(f'Best RMSE test {best_rmse}')"
   ]
  },
  {
   "cell_type": "code",
   "execution_count": 70,
   "id": "edcd3252",
   "metadata": {},
   "outputs": [
    {
     "data": {
      "image/png": "[encoded data removed]",
      "text/plain": [
       "<Figure size 720x864 with 1 Axes>"
      ]
     },
     "metadata": {
      "needs_background": "light"
     },
     "output_type": "display_data"
    }
   ],
   "source": [
    "# график метрики качества        \n",
    "df_gr = pd.DataFrame({'Train': train_lost, 'Test': test_lost})       \n",
    "df_gr.plot(figsize=(10, 12))\n",
    "plt.show();"
   ]
  },
  {
   "cell_type": "code",
   "execution_count": 71,
   "id": "8130c5d6",
   "metadata": {},
   "outputs": [
    {
     "data": {
      "image/png": "[encoded data removed]",
      "text/plain": [
       "<Figure size 1224x648 with 1 Axes>"
      ]
     },
     "metadata": {
      "needs_background": "light"
     },
     "output_type": "display_data"
    }
   ],
   "source": [
    "# функция для вывода качества регрессии факт-прогноз\n",
    "#построение графика «Факт — Прогноз», где по горизонтальной оси будут отложены условные номера звёзд, \n",
    "#а по вертикальной — температура в Кельвинах.\n",
    "def predcit_fact_graph(pred_test, y_test, detach=True):\n",
    "    \n",
    "    if detach:\n",
    "        y1 = torch.FloatTensor(pred_test)\n",
    "        y1 = y1.detach().numpy().reshape([-1])\n",
    "        y2 = y_test.detach().numpy().reshape([-1])\n",
    "    else:\n",
    "        y1 = pred_test3.reshape([-1])\n",
    "        y2 = y_test.reshape([-1])\n",
    "    x = np.arange(len(y1))\n",
    "\n",
    "    fig, ax = plt.subplots(figsize=(17, 9))\n",
    "    ax.set_xticks(x)\n",
    "    fact = ax.bar(x, y2, width = 0.8, label = 'Факт')\n",
    "    forecast = ax.bar(x, y1, width = 0.3, label = 'Прогноз')\n",
    "    ax.legend()\n",
    "    ax.set_title('График \"Факт-прогноз\"')\n",
    "    ax.set_xlabel('№ звезды')\n",
    "    ax.set_ylabel('Температура звезды')\n",
    "    plt.show()\n",
    "    \n",
    "# вывод графика\n",
    "predcit_fact_graph(best_predicted_temp, y_test)"
   ]
  },
  {
   "cell_type": "markdown",
   "id": "accurate-infrastructure",
   "metadata": {},
   "source": [
    "## Выводы"
   ]
  },
  {
   "cell_type": "markdown",
   "id": "b2528167",
   "metadata": {},
   "source": [
    "Мы проанализировали 6 моделей - 2 из них базовые: первая с 1 скрытым слоем, вторая без скрытых слоев. И две улучшенные модели - с подбором гиперпараметров и регуляризацией с помощью Dropout и Batchnorm, и еще на двух провели эксперимент с батчами и умеьшили Dropout/ На основе этого можно сделать следующие выводы:\n",
    "\n",
    "1) лучшее качество модели №3,где использовали метод регуляции BatchNorm  =- ее RMSE составляет  3772К\n",
    "\n",
    "2) следом идет базовая модель с 1 скрытым слоем - ее RMSE составляет   4229К.\n",
    "\n",
    "3) на третьем месте модель с регуляцией DropOut = 0.2 и RMSE = 4230К.\n",
    "\n",
    "4)  за ней модель с регуляцией DropOut = 0.3  и RMSE  = 4525.\n",
    "\n",
    "5) на предпоследнем месте у нас базовая модель без скрытых слоев, где RMSE = 4978К, что уже выше уровня, допустимого заказчиком.\n",
    "\n",
    "6) на последнем месте модель, где экспериментировали с батчами тут RMSE = 14 775К.\n",
    "\n",
    "Поэтому заказчику мы рекомендуем использовать модель №3 улучшенную с помощью техники регуляции Dropout."
   ]
  },
  {
   "cell_type": "code",
   "execution_count": null,
   "id": "ed16e5e4",
   "metadata": {},
   "outputs": [],
   "source": []
  }
 ],
 "metadata": {
  "ExecuteTimeLog": [
   {
    "duration": 2343,
    "start_time": "2023-08-30T12:02:52.576Z"
   },
   {
    "duration": 2950,
    "start_time": "2023-08-30T12:02:54.963Z"
   },
   {
    "duration": 75,
    "start_time": "2023-08-30T12:03:22.358Z"
   },
   {
    "duration": 37,
    "start_time": "2023-08-30T12:03:51.806Z"
   },
   {
    "duration": 35,
    "start_time": "2023-08-30T12:04:03.686Z"
   },
   {
    "duration": 92,
    "start_time": "2023-09-01T09:55:38.717Z"
   },
   {
    "duration": 1657,
    "start_time": "2023-09-01T09:55:43.347Z"
   },
   {
    "duration": 0,
    "start_time": "2023-09-01T09:55:45.006Z"
   },
   {
    "duration": 9,
    "start_time": "2023-09-01T09:56:23.763Z"
   },
   {
    "duration": 132,
    "start_time": "2023-09-01T10:30:26.042Z"
   },
   {
    "duration": 371792,
    "start_time": "2023-09-01T10:30:36.016Z"
   },
   {
    "duration": 1,
    "start_time": "2023-09-01T10:36:47.809Z"
   },
   {
    "duration": 60,
    "start_time": "2023-09-01T10:37:44.872Z"
   },
   {
    "duration": 1460,
    "start_time": "2023-09-01T10:38:04.434Z"
   },
   {
    "duration": 129,
    "start_time": "2023-09-01T10:38:15.164Z"
   },
   {
    "duration": 27,
    "start_time": "2023-09-01T10:38:18.904Z"
   },
   {
    "duration": 3,
    "start_time": "2023-09-01T10:40:41.232Z"
   },
   {
    "duration": 5,
    "start_time": "2023-09-01T10:41:07.437Z"
   },
   {
    "duration": 61,
    "start_time": "2023-09-01T10:43:51.996Z"
   },
   {
    "duration": 42,
    "start_time": "2023-09-01T10:43:59.527Z"
   },
   {
    "duration": 13,
    "start_time": "2023-09-01T10:45:19.427Z"
   },
   {
    "duration": 40,
    "start_time": "2023-09-01T10:45:30.777Z"
   },
   {
    "duration": 16,
    "start_time": "2023-09-01T10:45:51.268Z"
   },
   {
    "duration": 29,
    "start_time": "2023-09-01T10:46:00.004Z"
   },
   {
    "duration": 46,
    "start_time": "2023-09-01T10:46:03.311Z"
   },
   {
    "duration": 15,
    "start_time": "2023-09-01T10:46:06.261Z"
   },
   {
    "duration": 12,
    "start_time": "2023-09-01T10:46:15.366Z"
   },
   {
    "duration": 8,
    "start_time": "2023-09-01T10:46:21.914Z"
   },
   {
    "duration": 60,
    "start_time": "2023-09-01T10:46:39.343Z"
   },
   {
    "duration": 11,
    "start_time": "2023-09-01T10:46:55.196Z"
   },
   {
    "duration": 10,
    "start_time": "2023-09-01T10:47:00.733Z"
   },
   {
    "duration": 11,
    "start_time": "2023-09-01T10:48:04.637Z"
   },
   {
    "duration": 8,
    "start_time": "2023-09-01T10:48:33.453Z"
   },
   {
    "duration": 17,
    "start_time": "2023-09-01T10:49:08.936Z"
   },
   {
    "duration": 9,
    "start_time": "2023-09-01T10:49:57.002Z"
   },
   {
    "duration": 2265,
    "start_time": "2023-09-01T10:50:18.918Z"
   },
   {
    "duration": 7,
    "start_time": "2023-09-01T10:50:30.349Z"
   },
   {
    "duration": 6,
    "start_time": "2023-09-01T10:55:03.794Z"
   },
   {
    "duration": 4,
    "start_time": "2023-09-01T10:56:24.183Z"
   },
   {
    "duration": 7,
    "start_time": "2023-09-01T10:56:26.038Z"
   },
   {
    "duration": 4,
    "start_time": "2023-09-01T10:57:05.619Z"
   },
   {
    "duration": 8,
    "start_time": "2023-09-01T10:57:06.902Z"
   },
   {
    "duration": 6,
    "start_time": "2023-09-01T10:57:37.915Z"
   },
   {
    "duration": 6,
    "start_time": "2023-09-01T10:57:39.596Z"
   },
   {
    "duration": 5,
    "start_time": "2023-09-01T10:57:53.937Z"
   },
   {
    "duration": 6,
    "start_time": "2023-09-01T10:57:55.597Z"
   },
   {
    "duration": 12,
    "start_time": "2023-09-01T11:06:14.256Z"
   },
   {
    "duration": 34,
    "start_time": "2023-09-01T11:06:37.163Z"
   },
   {
    "duration": 11,
    "start_time": "2023-09-01T11:07:45.333Z"
   },
   {
    "duration": 79,
    "start_time": "2023-09-01T11:07:49.723Z"
   },
   {
    "duration": 15,
    "start_time": "2023-09-01T11:07:54.619Z"
   },
   {
    "duration": 11,
    "start_time": "2023-09-01T11:31:01.311Z"
   },
   {
    "duration": 14,
    "start_time": "2023-09-01T11:33:03.086Z"
   },
   {
    "duration": 144,
    "start_time": "2023-09-01T11:33:17.400Z"
   },
   {
    "duration": 469,
    "start_time": "2023-09-01T11:33:46.485Z"
   },
   {
    "duration": 426,
    "start_time": "2023-09-01T11:34:06.115Z"
   },
   {
    "duration": 508,
    "start_time": "2023-09-01T11:34:21.320Z"
   },
   {
    "duration": 372,
    "start_time": "2023-09-01T11:35:47.559Z"
   },
   {
    "duration": 385,
    "start_time": "2023-09-01T11:36:23.293Z"
   },
   {
    "duration": 388,
    "start_time": "2023-09-01T11:36:57.968Z"
   },
   {
    "duration": 24,
    "start_time": "2023-09-01T12:01:23.443Z"
   },
   {
    "duration": 24,
    "start_time": "2023-09-01T12:01:48.257Z"
   },
   {
    "duration": 13,
    "start_time": "2023-09-01T12:08:38.139Z"
   },
   {
    "duration": 15,
    "start_time": "2023-09-01T12:11:22.324Z"
   },
   {
    "duration": 12,
    "start_time": "2023-09-01T12:14:38.698Z"
   },
   {
    "duration": 580,
    "start_time": "2023-09-01T12:59:51.072Z"
   },
   {
    "duration": 14,
    "start_time": "2023-09-01T13:04:00.829Z"
   },
   {
    "duration": 60,
    "start_time": "2023-09-01T13:04:47.298Z"
   },
   {
    "duration": 7,
    "start_time": "2023-09-01T13:04:50.783Z"
   },
   {
    "duration": 2472,
    "start_time": "2023-09-04T07:07:51.684Z"
   },
   {
    "duration": 93,
    "start_time": "2023-09-04T07:07:54.158Z"
   },
   {
    "duration": 10,
    "start_time": "2023-09-04T07:07:54.253Z"
   },
   {
    "duration": 26,
    "start_time": "2023-09-04T07:07:54.265Z"
   },
   {
    "duration": 13,
    "start_time": "2023-09-04T07:07:54.292Z"
   },
   {
    "duration": 20,
    "start_time": "2023-09-04T07:07:54.307Z"
   },
   {
    "duration": 6,
    "start_time": "2023-09-04T07:07:54.328Z"
   },
   {
    "duration": 25,
    "start_time": "2023-09-04T07:07:54.336Z"
   },
   {
    "duration": 32,
    "start_time": "2023-09-04T07:07:54.363Z"
   },
   {
    "duration": 27,
    "start_time": "2023-09-04T07:07:54.398Z"
   },
   {
    "duration": 466,
    "start_time": "2023-09-04T07:07:54.426Z"
   },
   {
    "duration": 447,
    "start_time": "2023-09-04T07:07:54.894Z"
   },
   {
    "duration": 17,
    "start_time": "2023-09-04T07:07:55.343Z"
   },
   {
    "duration": 20,
    "start_time": "2023-09-04T07:07:55.362Z"
   },
   {
    "duration": 476,
    "start_time": "2023-09-04T07:07:55.384Z"
   },
   {
    "duration": 532,
    "start_time": "2023-09-04T07:07:55.862Z"
   },
   {
    "duration": 470,
    "start_time": "2023-09-04T07:07:56.396Z"
   },
   {
    "duration": 18,
    "start_time": "2023-09-04T07:07:56.868Z"
   },
   {
    "duration": 26,
    "start_time": "2023-09-04T07:07:56.888Z"
   },
   {
    "duration": 14,
    "start_time": "2023-09-04T07:10:32.730Z"
   },
   {
    "duration": 6,
    "start_time": "2023-09-04T07:10:41.747Z"
   },
   {
    "duration": 4,
    "start_time": "2023-09-04T07:10:48.777Z"
   },
   {
    "duration": 12,
    "start_time": "2023-09-04T07:10:51.845Z"
   },
   {
    "duration": 11,
    "start_time": "2023-09-04T07:10:56.151Z"
   },
   {
    "duration": 12,
    "start_time": "2023-09-04T07:12:39.670Z"
   },
   {
    "duration": 14,
    "start_time": "2023-09-04T07:15:56.223Z"
   },
   {
    "duration": 16,
    "start_time": "2023-09-04T07:15:56.239Z"
   },
   {
    "duration": 10,
    "start_time": "2023-09-04T07:15:56.257Z"
   },
   {
    "duration": 18,
    "start_time": "2023-09-04T07:15:56.269Z"
   },
   {
    "duration": 458,
    "start_time": "2023-09-04T07:15:56.290Z"
   },
   {
    "duration": 398,
    "start_time": "2023-09-04T07:15:56.750Z"
   },
   {
    "duration": 14,
    "start_time": "2023-09-04T07:15:57.150Z"
   },
   {
    "duration": 15,
    "start_time": "2023-09-04T07:15:57.166Z"
   },
   {
    "duration": 574,
    "start_time": "2023-09-04T07:15:57.183Z"
   },
   {
    "duration": 426,
    "start_time": "2023-09-04T07:15:57.758Z"
   },
   {
    "duration": 449,
    "start_time": "2023-09-04T07:15:58.185Z"
   },
   {
    "duration": 21,
    "start_time": "2023-09-04T07:15:58.636Z"
   },
   {
    "duration": 8,
    "start_time": "2023-09-04T07:15:58.659Z"
   },
   {
    "duration": 101,
    "start_time": "2023-09-04T07:18:03.801Z"
   },
   {
    "duration": 69,
    "start_time": "2023-09-04T07:18:39.972Z"
   },
   {
    "duration": 154,
    "start_time": "2023-09-04T07:19:15.830Z"
   },
   {
    "duration": 4,
    "start_time": "2023-09-04T07:20:00.984Z"
   },
   {
    "duration": 18,
    "start_time": "2023-09-04T07:20:05.210Z"
   },
   {
    "duration": 31,
    "start_time": "2023-09-04T07:22:33.205Z"
   },
   {
    "duration": 15,
    "start_time": "2023-09-04T07:22:52.788Z"
   },
   {
    "duration": 25,
    "start_time": "2023-09-04T07:23:24.718Z"
   },
   {
    "duration": 20,
    "start_time": "2023-09-04T07:24:15.571Z"
   },
   {
    "duration": 15,
    "start_time": "2023-09-04T07:24:32.482Z"
   },
   {
    "duration": 10,
    "start_time": "2023-09-04T07:25:55.391Z"
   },
   {
    "duration": 7,
    "start_time": "2023-09-04T07:26:09.699Z"
   },
   {
    "duration": 14,
    "start_time": "2023-09-04T07:27:33.730Z"
   },
   {
    "duration": 2245,
    "start_time": "2023-09-04T07:28:12.376Z"
   },
   {
    "duration": 44,
    "start_time": "2023-09-04T07:28:14.635Z"
   },
   {
    "duration": 12,
    "start_time": "2023-09-04T07:28:14.681Z"
   },
   {
    "duration": 27,
    "start_time": "2023-09-04T07:28:14.695Z"
   },
   {
    "duration": 6,
    "start_time": "2023-09-04T07:28:14.727Z"
   },
   {
    "duration": 7,
    "start_time": "2023-09-04T07:28:14.737Z"
   },
   {
    "duration": 10,
    "start_time": "2023-09-04T07:28:14.746Z"
   },
   {
    "duration": 22,
    "start_time": "2023-09-04T07:28:14.758Z"
   },
   {
    "duration": 15,
    "start_time": "2023-09-04T07:28:14.781Z"
   },
   {
    "duration": 5,
    "start_time": "2023-09-04T07:28:14.798Z"
   },
   {
    "duration": 28,
    "start_time": "2023-09-04T07:28:14.810Z"
   },
   {
    "duration": 481,
    "start_time": "2023-09-04T07:28:14.839Z"
   },
   {
    "duration": 432,
    "start_time": "2023-09-04T07:28:15.324Z"
   },
   {
    "duration": 13,
    "start_time": "2023-09-04T07:28:15.759Z"
   },
   {
    "duration": 43,
    "start_time": "2023-09-04T07:28:15.774Z"
   },
   {
    "duration": 481,
    "start_time": "2023-09-04T07:28:15.819Z"
   },
   {
    "duration": 555,
    "start_time": "2023-09-04T07:28:16.302Z"
   },
   {
    "duration": 435,
    "start_time": "2023-09-04T07:28:16.859Z"
   },
   {
    "duration": 42,
    "start_time": "2023-09-04T07:28:17.296Z"
   },
   {
    "duration": 8,
    "start_time": "2023-09-04T07:28:17.340Z"
   },
   {
    "duration": 22,
    "start_time": "2023-09-04T07:28:17.349Z"
   },
   {
    "duration": 14,
    "start_time": "2023-09-04T07:28:17.373Z"
   },
   {
    "duration": 9,
    "start_time": "2023-09-04T07:30:00.680Z"
   },
   {
    "duration": 15,
    "start_time": "2023-09-04T07:30:47.723Z"
   },
   {
    "duration": 5,
    "start_time": "2023-09-04T07:31:31.089Z"
   },
   {
    "duration": 2159,
    "start_time": "2023-09-04T13:04:46.928Z"
   },
   {
    "duration": 90,
    "start_time": "2023-09-04T13:04:49.089Z"
   },
   {
    "duration": 11,
    "start_time": "2023-09-04T13:04:49.181Z"
   },
   {
    "duration": 22,
    "start_time": "2023-09-04T13:04:49.194Z"
   },
   {
    "duration": 14,
    "start_time": "2023-09-04T13:04:49.218Z"
   },
   {
    "duration": 14,
    "start_time": "2023-09-04T13:04:49.234Z"
   },
   {
    "duration": 11,
    "start_time": "2023-09-04T13:04:49.249Z"
   },
   {
    "duration": 13,
    "start_time": "2023-09-04T13:04:49.262Z"
   },
   {
    "duration": 9,
    "start_time": "2023-09-04T13:04:49.277Z"
   },
   {
    "duration": 6,
    "start_time": "2023-09-04T13:04:49.290Z"
   },
   {
    "duration": 28,
    "start_time": "2023-09-04T13:04:49.297Z"
   },
   {
    "duration": 423,
    "start_time": "2023-09-04T13:04:49.326Z"
   },
   {
    "duration": 381,
    "start_time": "2023-09-04T13:04:49.751Z"
   },
   {
    "duration": 15,
    "start_time": "2023-09-04T13:04:50.134Z"
   },
   {
    "duration": 24,
    "start_time": "2023-09-04T13:04:50.151Z"
   },
   {
    "duration": 454,
    "start_time": "2023-09-04T13:04:50.177Z"
   },
   {
    "duration": 469,
    "start_time": "2023-09-04T13:04:50.633Z"
   },
   {
    "duration": 412,
    "start_time": "2023-09-04T13:04:51.104Z"
   },
   {
    "duration": 20,
    "start_time": "2023-09-04T13:04:51.518Z"
   },
   {
    "duration": 32,
    "start_time": "2023-09-04T13:04:51.539Z"
   },
   {
    "duration": 34,
    "start_time": "2023-09-04T13:04:51.573Z"
   },
   {
    "duration": 22,
    "start_time": "2023-09-04T13:04:51.609Z"
   },
   {
    "duration": 23,
    "start_time": "2023-09-04T13:04:51.633Z"
   },
   {
    "duration": 34,
    "start_time": "2023-09-04T13:04:51.658Z"
   },
   {
    "duration": 8,
    "start_time": "2023-09-04T13:04:51.693Z"
   },
   {
    "duration": 93,
    "start_time": "2023-09-04T13:07:50.381Z"
   },
   {
    "duration": 2044,
    "start_time": "2023-09-04T13:17:23.812Z"
   },
   {
    "duration": 44,
    "start_time": "2023-09-04T13:17:25.858Z"
   },
   {
    "duration": 12,
    "start_time": "2023-09-04T13:17:25.904Z"
   },
   {
    "duration": 30,
    "start_time": "2023-09-04T13:17:25.918Z"
   },
   {
    "duration": 12,
    "start_time": "2023-09-04T13:17:25.950Z"
   },
   {
    "duration": 10,
    "start_time": "2023-09-04T13:17:25.963Z"
   },
   {
    "duration": 7,
    "start_time": "2023-09-04T13:17:25.974Z"
   },
   {
    "duration": 18,
    "start_time": "2023-09-04T13:17:25.983Z"
   },
   {
    "duration": 18,
    "start_time": "2023-09-04T13:17:26.002Z"
   },
   {
    "duration": 16,
    "start_time": "2023-09-04T13:17:26.022Z"
   },
   {
    "duration": 22,
    "start_time": "2023-09-04T13:17:26.040Z"
   },
   {
    "duration": 427,
    "start_time": "2023-09-04T13:17:26.064Z"
   },
   {
    "duration": 405,
    "start_time": "2023-09-04T13:17:26.493Z"
   },
   {
    "duration": 22,
    "start_time": "2023-09-04T13:17:26.899Z"
   },
   {
    "duration": 17,
    "start_time": "2023-09-04T13:17:26.923Z"
   },
   {
    "duration": 429,
    "start_time": "2023-09-04T13:17:26.941Z"
   },
   {
    "duration": 497,
    "start_time": "2023-09-04T13:17:27.372Z"
   },
   {
    "duration": 408,
    "start_time": "2023-09-04T13:17:27.871Z"
   },
   {
    "duration": 30,
    "start_time": "2023-09-04T13:17:28.281Z"
   },
   {
    "duration": 24,
    "start_time": "2023-09-04T13:17:28.313Z"
   },
   {
    "duration": 46,
    "start_time": "2023-09-04T13:17:28.339Z"
   },
   {
    "duration": 26,
    "start_time": "2023-09-04T13:17:28.386Z"
   },
   {
    "duration": 9,
    "start_time": "2023-09-04T13:17:28.414Z"
   },
   {
    "duration": 19,
    "start_time": "2023-09-04T13:17:28.425Z"
   },
   {
    "duration": 22,
    "start_time": "2023-09-04T13:17:28.446Z"
   },
   {
    "duration": 55,
    "start_time": "2023-09-04T13:17:28.470Z"
   },
   {
    "duration": 601,
    "start_time": "2023-09-04T13:19:22.713Z"
   },
   {
    "duration": 2126,
    "start_time": "2023-09-04T13:20:34.681Z"
   },
   {
    "duration": 44,
    "start_time": "2023-09-04T13:20:36.809Z"
   },
   {
    "duration": 11,
    "start_time": "2023-09-04T13:20:36.855Z"
   },
   {
    "duration": 21,
    "start_time": "2023-09-04T13:20:36.868Z"
   },
   {
    "duration": 13,
    "start_time": "2023-09-04T13:20:36.891Z"
   },
   {
    "duration": 21,
    "start_time": "2023-09-04T13:20:36.906Z"
   },
   {
    "duration": 15,
    "start_time": "2023-09-04T13:20:36.928Z"
   },
   {
    "duration": 17,
    "start_time": "2023-09-04T13:20:36.945Z"
   },
   {
    "duration": 68,
    "start_time": "2023-09-04T13:20:36.964Z"
   },
   {
    "duration": 110,
    "start_time": "2023-09-04T13:20:37.034Z"
   },
   {
    "duration": 88,
    "start_time": "2023-09-04T13:20:37.146Z"
   },
   {
    "duration": 483,
    "start_time": "2023-09-04T13:20:37.235Z"
   },
   {
    "duration": 391,
    "start_time": "2023-09-04T13:20:37.720Z"
   },
   {
    "duration": 14,
    "start_time": "2023-09-04T13:20:38.113Z"
   },
   {
    "duration": 15,
    "start_time": "2023-09-04T13:20:38.128Z"
   },
   {
    "duration": 433,
    "start_time": "2023-09-04T13:20:38.144Z"
   },
   {
    "duration": 520,
    "start_time": "2023-09-04T13:20:38.578Z"
   },
   {
    "duration": 384,
    "start_time": "2023-09-04T13:20:39.099Z"
   },
   {
    "duration": 31,
    "start_time": "2023-09-04T13:20:39.485Z"
   },
   {
    "duration": 79,
    "start_time": "2023-09-04T13:20:39.518Z"
   },
   {
    "duration": 17,
    "start_time": "2023-09-04T13:20:39.599Z"
   },
   {
    "duration": 28,
    "start_time": "2023-09-04T13:20:39.618Z"
   },
   {
    "duration": 29,
    "start_time": "2023-09-04T13:20:39.648Z"
   },
   {
    "duration": 7,
    "start_time": "2023-09-04T13:20:39.679Z"
   },
   {
    "duration": 12,
    "start_time": "2023-09-04T13:20:39.688Z"
   },
   {
    "duration": 707,
    "start_time": "2023-09-04T13:20:39.702Z"
   },
   {
    "duration": 163,
    "start_time": "2023-09-04T13:20:54.433Z"
   },
   {
    "duration": 2159,
    "start_time": "2023-09-04T13:21:01.132Z"
   },
   {
    "duration": 43,
    "start_time": "2023-09-04T13:21:03.294Z"
   },
   {
    "duration": 12,
    "start_time": "2023-09-04T13:21:03.339Z"
   },
   {
    "duration": 14,
    "start_time": "2023-09-04T13:21:03.353Z"
   },
   {
    "duration": 26,
    "start_time": "2023-09-04T13:21:03.369Z"
   },
   {
    "duration": 6,
    "start_time": "2023-09-04T13:21:03.398Z"
   },
   {
    "duration": 6,
    "start_time": "2023-09-04T13:21:03.406Z"
   },
   {
    "duration": 17,
    "start_time": "2023-09-04T13:21:03.413Z"
   },
   {
    "duration": 25,
    "start_time": "2023-09-04T13:21:03.432Z"
   },
   {
    "duration": 7,
    "start_time": "2023-09-04T13:21:03.460Z"
   },
   {
    "duration": 18,
    "start_time": "2023-09-04T13:21:03.469Z"
   },
   {
    "duration": 440,
    "start_time": "2023-09-04T13:21:03.489Z"
   },
   {
    "duration": 385,
    "start_time": "2023-09-04T13:21:03.931Z"
   },
   {
    "duration": 14,
    "start_time": "2023-09-04T13:21:04.318Z"
   },
   {
    "duration": 17,
    "start_time": "2023-09-04T13:21:04.334Z"
   },
   {
    "duration": 449,
    "start_time": "2023-09-04T13:21:04.353Z"
   },
   {
    "duration": 570,
    "start_time": "2023-09-04T13:21:04.804Z"
   },
   {
    "duration": 409,
    "start_time": "2023-09-04T13:21:05.376Z"
   },
   {
    "duration": 32,
    "start_time": "2023-09-04T13:21:05.787Z"
   },
   {
    "duration": 27,
    "start_time": "2023-09-04T13:21:05.820Z"
   },
   {
    "duration": 25,
    "start_time": "2023-09-04T13:21:05.849Z"
   },
   {
    "duration": 17,
    "start_time": "2023-09-04T13:21:05.876Z"
   },
   {
    "duration": 6,
    "start_time": "2023-09-04T13:21:05.895Z"
   },
   {
    "duration": 12,
    "start_time": "2023-09-04T13:21:05.902Z"
   },
   {
    "duration": 604,
    "start_time": "2023-09-04T13:21:05.916Z"
   },
   {
    "duration": 6,
    "start_time": "2023-09-04T13:23:19.003Z"
   },
   {
    "duration": 602,
    "start_time": "2023-09-04T13:23:23.526Z"
   },
   {
    "duration": 48,
    "start_time": "2023-09-05T07:22:01.154Z"
   },
   {
    "duration": 2110,
    "start_time": "2023-09-05T07:22:06.556Z"
   },
   {
    "duration": 90,
    "start_time": "2023-09-05T07:22:08.668Z"
   },
   {
    "duration": 11,
    "start_time": "2023-09-05T07:22:08.759Z"
   },
   {
    "duration": 22,
    "start_time": "2023-09-05T07:22:08.772Z"
   },
   {
    "duration": 10,
    "start_time": "2023-09-05T07:22:08.795Z"
   },
   {
    "duration": 15,
    "start_time": "2023-09-05T07:22:08.807Z"
   },
   {
    "duration": 21,
    "start_time": "2023-09-05T07:22:08.824Z"
   },
   {
    "duration": 28,
    "start_time": "2023-09-05T07:22:08.846Z"
   },
   {
    "duration": 17,
    "start_time": "2023-09-05T07:22:08.875Z"
   },
   {
    "duration": 29,
    "start_time": "2023-09-05T07:22:08.894Z"
   },
   {
    "duration": 23,
    "start_time": "2023-09-05T07:22:08.925Z"
   },
   {
    "duration": 412,
    "start_time": "2023-09-05T07:22:08.950Z"
   },
   {
    "duration": 369,
    "start_time": "2023-09-05T07:22:09.363Z"
   },
   {
    "duration": 14,
    "start_time": "2023-09-05T07:22:09.734Z"
   },
   {
    "duration": 23,
    "start_time": "2023-09-05T07:22:09.749Z"
   },
   {
    "duration": 427,
    "start_time": "2023-09-05T07:22:09.774Z"
   },
   {
    "duration": 476,
    "start_time": "2023-09-05T07:22:10.202Z"
   },
   {
    "duration": 423,
    "start_time": "2023-09-05T07:22:10.680Z"
   },
   {
    "duration": 23,
    "start_time": "2023-09-05T07:22:11.105Z"
   },
   {
    "duration": 36,
    "start_time": "2023-09-05T07:22:11.129Z"
   },
   {
    "duration": 43,
    "start_time": "2023-09-05T07:22:11.167Z"
   },
   {
    "duration": 44,
    "start_time": "2023-09-05T07:22:11.212Z"
   },
   {
    "duration": 28,
    "start_time": "2023-09-05T07:22:11.260Z"
   },
   {
    "duration": 165,
    "start_time": "2023-09-05T07:22:11.290Z"
   },
   {
    "duration": 0,
    "start_time": "2023-09-05T07:22:11.456Z"
   },
   {
    "duration": 0,
    "start_time": "2023-09-05T07:22:11.458Z"
   },
   {
    "duration": 21,
    "start_time": "2023-09-05T07:22:25.448Z"
   },
   {
    "duration": 7,
    "start_time": "2023-09-05T07:34:14.115Z"
   },
   {
    "duration": 583,
    "start_time": "2023-09-05T07:34:16.144Z"
   },
   {
    "duration": 260,
    "start_time": "2023-09-05T07:37:35.056Z"
   },
   {
    "duration": 153,
    "start_time": "2023-09-05T07:38:20.659Z"
   },
   {
    "duration": 5,
    "start_time": "2023-09-05T07:42:52.772Z"
   },
   {
    "duration": 86,
    "start_time": "2023-09-05T07:42:54.010Z"
   },
   {
    "duration": 6,
    "start_time": "2023-09-05T07:52:15.824Z"
   },
   {
    "duration": 6,
    "start_time": "2023-09-05T07:52:34.174Z"
   },
   {
    "duration": 8,
    "start_time": "2023-09-05T07:52:49.653Z"
   },
   {
    "duration": 2245,
    "start_time": "2023-09-05T10:48:11.308Z"
   },
   {
    "duration": 44,
    "start_time": "2023-09-05T10:48:13.555Z"
   },
   {
    "duration": 15,
    "start_time": "2023-09-05T10:48:13.601Z"
   },
   {
    "duration": 63,
    "start_time": "2023-09-05T10:48:13.618Z"
   },
   {
    "duration": 28,
    "start_time": "2023-09-05T10:48:13.682Z"
   },
   {
    "duration": 16,
    "start_time": "2023-09-05T10:48:13.716Z"
   },
   {
    "duration": 39,
    "start_time": "2023-09-05T10:48:13.735Z"
   },
   {
    "duration": 52,
    "start_time": "2023-09-05T10:48:13.776Z"
   },
   {
    "duration": 29,
    "start_time": "2023-09-05T10:48:13.830Z"
   },
   {
    "duration": 27,
    "start_time": "2023-09-05T10:48:13.861Z"
   },
   {
    "duration": 66,
    "start_time": "2023-09-05T10:48:13.890Z"
   },
   {
    "duration": 473,
    "start_time": "2023-09-05T10:48:13.958Z"
   },
   {
    "duration": 416,
    "start_time": "2023-09-05T10:48:14.433Z"
   },
   {
    "duration": 18,
    "start_time": "2023-09-05T10:48:14.850Z"
   },
   {
    "duration": 23,
    "start_time": "2023-09-05T10:48:14.870Z"
   },
   {
    "duration": 489,
    "start_time": "2023-09-05T10:48:14.895Z"
   },
   {
    "duration": 512,
    "start_time": "2023-09-05T10:48:15.386Z"
   },
   {
    "duration": 394,
    "start_time": "2023-09-05T10:48:15.901Z"
   },
   {
    "duration": 37,
    "start_time": "2023-09-05T10:48:16.297Z"
   },
   {
    "duration": 8,
    "start_time": "2023-09-05T10:48:16.336Z"
   },
   {
    "duration": 20,
    "start_time": "2023-09-05T10:48:16.346Z"
   },
   {
    "duration": 19,
    "start_time": "2023-09-05T10:48:16.367Z"
   },
   {
    "duration": 33,
    "start_time": "2023-09-05T10:48:16.388Z"
   },
   {
    "duration": 4,
    "start_time": "2023-09-05T10:48:16.425Z"
   },
   {
    "duration": 19,
    "start_time": "2023-09-05T10:48:16.431Z"
   },
   {
    "duration": 7,
    "start_time": "2023-09-05T10:48:16.452Z"
   },
   {
    "duration": 361,
    "start_time": "2023-09-05T10:48:16.462Z"
   },
   {
    "duration": 149,
    "start_time": "2023-09-05T10:49:16.780Z"
   },
   {
    "duration": 15,
    "start_time": "2023-09-05T10:49:55.545Z"
   },
   {
    "duration": 30,
    "start_time": "2023-09-05T10:50:36.733Z"
   },
   {
    "duration": 9770,
    "start_time": "2023-09-05T10:51:22.057Z"
   },
   {
    "duration": 184,
    "start_time": "2023-09-05T10:51:47.335Z"
   },
   {
    "duration": 8351,
    "start_time": "2023-09-05T10:51:54.460Z"
   },
   {
    "duration": 2,
    "start_time": "2023-09-05T10:53:48.755Z"
   },
   {
    "duration": 5673,
    "start_time": "2023-09-05T10:54:09.253Z"
   },
   {
    "duration": 5895,
    "start_time": "2023-09-05T10:54:46.316Z"
   },
   {
    "duration": 7427,
    "start_time": "2023-09-05T10:55:15.201Z"
   },
   {
    "duration": 7761,
    "start_time": "2023-09-05T10:56:34.784Z"
   },
   {
    "duration": 7371,
    "start_time": "2023-09-05T10:57:03.062Z"
   },
   {
    "duration": 8282,
    "start_time": "2023-09-05T10:57:44.639Z"
   },
   {
    "duration": 7552,
    "start_time": "2023-09-05T10:58:24.888Z"
   },
   {
    "duration": 7895,
    "start_time": "2023-09-05T10:58:57.723Z"
   },
   {
    "duration": 7449,
    "start_time": "2023-09-05T10:59:12.972Z"
   },
   {
    "duration": 10699,
    "start_time": "2023-09-05T10:59:59.336Z"
   },
   {
    "duration": 2050,
    "start_time": "2023-09-05T11:00:16.546Z"
   },
   {
    "duration": 67,
    "start_time": "2023-09-05T11:00:18.598Z"
   },
   {
    "duration": 10,
    "start_time": "2023-09-05T11:00:18.667Z"
   },
   {
    "duration": 25,
    "start_time": "2023-09-05T11:00:18.679Z"
   },
   {
    "duration": 26,
    "start_time": "2023-09-05T11:00:18.706Z"
   },
   {
    "duration": 22,
    "start_time": "2023-09-05T11:00:18.734Z"
   },
   {
    "duration": 25,
    "start_time": "2023-09-05T11:00:18.758Z"
   },
   {
    "duration": 31,
    "start_time": "2023-09-05T11:00:18.785Z"
   },
   {
    "duration": 29,
    "start_time": "2023-09-05T11:00:18.820Z"
   },
   {
    "duration": 28,
    "start_time": "2023-09-05T11:00:18.852Z"
   },
   {
    "duration": 44,
    "start_time": "2023-09-05T11:00:18.882Z"
   },
   {
    "duration": 450,
    "start_time": "2023-09-05T11:00:18.927Z"
   },
   {
    "duration": 412,
    "start_time": "2023-09-05T11:00:19.380Z"
   },
   {
    "duration": 28,
    "start_time": "2023-09-05T11:00:19.794Z"
   },
   {
    "duration": 25,
    "start_time": "2023-09-05T11:00:19.823Z"
   },
   {
    "duration": 447,
    "start_time": "2023-09-05T11:00:19.850Z"
   },
   {
    "duration": 505,
    "start_time": "2023-09-05T11:00:20.299Z"
   },
   {
    "duration": 391,
    "start_time": "2023-09-05T11:00:20.810Z"
   },
   {
    "duration": 29,
    "start_time": "2023-09-05T11:00:21.203Z"
   },
   {
    "duration": 22,
    "start_time": "2023-09-05T11:00:21.235Z"
   },
   {
    "duration": 33,
    "start_time": "2023-09-05T11:00:21.259Z"
   },
   {
    "duration": 44,
    "start_time": "2023-09-05T11:00:21.294Z"
   },
   {
    "duration": 11,
    "start_time": "2023-09-05T11:00:21.339Z"
   },
   {
    "duration": 25,
    "start_time": "2023-09-05T11:00:21.352Z"
   },
   {
    "duration": 51,
    "start_time": "2023-09-05T11:00:21.379Z"
   },
   {
    "duration": 159,
    "start_time": "2023-09-05T11:00:21.432Z"
   },
   {
    "duration": 0,
    "start_time": "2023-09-05T11:00:21.593Z"
   },
   {
    "duration": 0,
    "start_time": "2023-09-05T11:00:21.595Z"
   },
   {
    "duration": 9820,
    "start_time": "2023-09-05T11:00:35.213Z"
   },
   {
    "duration": 9801,
    "start_time": "2023-09-05T11:00:59.815Z"
   },
   {
    "duration": 12110,
    "start_time": "2023-09-05T11:01:17.023Z"
   },
   {
    "duration": 10405,
    "start_time": "2023-09-05T11:01:35.929Z"
   },
   {
    "duration": 22,
    "start_time": "2023-09-05T11:02:20.527Z"
   },
   {
    "duration": 10728,
    "start_time": "2023-09-05T11:02:53.786Z"
   },
   {
    "duration": 8931,
    "start_time": "2023-09-05T11:32:49.697Z"
   },
   {
    "duration": 8173,
    "start_time": "2023-09-05T11:35:13.545Z"
   },
   {
    "duration": 36,
    "start_time": "2023-09-05T11:38:01.419Z"
   },
   {
    "duration": 7703,
    "start_time": "2023-09-05T11:38:17.127Z"
   },
   {
    "duration": 18,
    "start_time": "2023-09-05T11:38:52.806Z"
   },
   {
    "duration": 24,
    "start_time": "2023-09-05T11:54:43.764Z"
   },
   {
    "duration": 2203,
    "start_time": "2023-09-05T11:55:00.318Z"
   },
   {
    "duration": 57,
    "start_time": "2023-09-05T11:55:02.524Z"
   },
   {
    "duration": 14,
    "start_time": "2023-09-05T11:55:02.584Z"
   },
   {
    "duration": 34,
    "start_time": "2023-09-05T11:55:02.600Z"
   },
   {
    "duration": 9,
    "start_time": "2023-09-05T11:55:02.638Z"
   },
   {
    "duration": 14,
    "start_time": "2023-09-05T11:55:02.648Z"
   },
   {
    "duration": 23,
    "start_time": "2023-09-05T11:55:02.664Z"
   },
   {
    "duration": 18,
    "start_time": "2023-09-05T11:55:02.689Z"
   },
   {
    "duration": 21,
    "start_time": "2023-09-05T11:55:02.709Z"
   },
   {
    "duration": 8,
    "start_time": "2023-09-05T11:55:02.732Z"
   },
   {
    "duration": 28,
    "start_time": "2023-09-05T11:55:02.743Z"
   },
   {
    "duration": 453,
    "start_time": "2023-09-05T11:55:02.773Z"
   },
   {
    "duration": 376,
    "start_time": "2023-09-05T11:55:03.227Z"
   },
   {
    "duration": 19,
    "start_time": "2023-09-05T11:55:03.609Z"
   },
   {
    "duration": 16,
    "start_time": "2023-09-05T11:55:03.629Z"
   },
   {
    "duration": 440,
    "start_time": "2023-09-05T11:55:03.647Z"
   },
   {
    "duration": 559,
    "start_time": "2023-09-05T11:55:04.089Z"
   },
   {
    "duration": 352,
    "start_time": "2023-09-05T11:55:04.649Z"
   },
   {
    "duration": 24,
    "start_time": "2023-09-05T11:55:05.009Z"
   },
   {
    "duration": 33,
    "start_time": "2023-09-05T11:55:05.035Z"
   },
   {
    "duration": 29,
    "start_time": "2023-09-05T11:55:05.070Z"
   },
   {
    "duration": 64,
    "start_time": "2023-09-05T11:55:05.101Z"
   },
   {
    "duration": 60,
    "start_time": "2023-09-05T11:55:05.167Z"
   },
   {
    "duration": 76,
    "start_time": "2023-09-05T11:55:05.230Z"
   },
   {
    "duration": 38,
    "start_time": "2023-09-05T11:55:05.308Z"
   },
   {
    "duration": 178,
    "start_time": "2023-09-05T11:55:05.347Z"
   },
   {
    "duration": 0,
    "start_time": "2023-09-05T11:55:05.527Z"
   },
   {
    "duration": 0,
    "start_time": "2023-09-05T11:55:05.529Z"
   },
   {
    "duration": 0,
    "start_time": "2023-09-05T11:55:05.530Z"
   },
   {
    "duration": 10,
    "start_time": "2023-09-05T12:10:33.806Z"
   },
   {
    "duration": 6882,
    "start_time": "2023-09-05T12:10:37.233Z"
   },
   {
    "duration": 210,
    "start_time": "2023-09-05T12:11:08.599Z"
   },
   {
    "duration": 8,
    "start_time": "2023-09-05T12:14:57.040Z"
   },
   {
    "duration": 152,
    "start_time": "2023-09-05T12:15:03.262Z"
   },
   {
    "duration": 11,
    "start_time": "2023-09-05T12:18:23.010Z"
   },
   {
    "duration": 5,
    "start_time": "2023-09-05T12:18:48.874Z"
   },
   {
    "duration": 241,
    "start_time": "2023-09-05T12:18:59.563Z"
   },
   {
    "duration": 11,
    "start_time": "2023-09-05T12:19:08.799Z"
   },
   {
    "duration": 4,
    "start_time": "2023-09-05T12:19:21.908Z"
   },
   {
    "duration": 11,
    "start_time": "2023-09-05T12:19:34.443Z"
   },
   {
    "duration": 4,
    "start_time": "2023-09-05T12:19:48.029Z"
   },
   {
    "duration": 3,
    "start_time": "2023-09-05T12:22:11.601Z"
   },
   {
    "duration": 4,
    "start_time": "2023-09-05T12:22:49.654Z"
   },
   {
    "duration": 8,
    "start_time": "2023-09-05T12:22:57.053Z"
   },
   {
    "duration": 5773,
    "start_time": "2023-09-05T12:23:05.464Z"
   },
   {
    "duration": 199,
    "start_time": "2023-09-05T12:23:14.198Z"
   },
   {
    "duration": 4,
    "start_time": "2023-09-05T12:28:39.426Z"
   },
   {
    "duration": 4,
    "start_time": "2023-09-05T12:28:47.725Z"
   },
   {
    "duration": 16,
    "start_time": "2023-09-05T12:29:10.384Z"
   },
   {
    "duration": 205,
    "start_time": "2023-09-05T12:29:13.913Z"
   },
   {
    "duration": 4,
    "start_time": "2023-09-05T12:30:00.141Z"
   },
   {
    "duration": 8,
    "start_time": "2023-09-05T12:30:02.050Z"
   },
   {
    "duration": 154,
    "start_time": "2023-09-05T12:30:11.215Z"
   },
   {
    "duration": 182,
    "start_time": "2023-09-05T12:30:15.237Z"
   },
   {
    "duration": 7,
    "start_time": "2023-09-05T12:30:59.494Z"
   },
   {
    "duration": 156,
    "start_time": "2023-09-05T12:31:00.944Z"
   },
   {
    "duration": 8,
    "start_time": "2023-09-05T12:31:27.754Z"
   },
   {
    "duration": 8,
    "start_time": "2023-09-05T12:31:43.117Z"
   },
   {
    "duration": 4240,
    "start_time": "2023-09-05T12:31:43.992Z"
   },
   {
    "duration": 205,
    "start_time": "2023-09-05T12:31:49.795Z"
   },
   {
    "duration": 23,
    "start_time": "2023-09-05T12:52:47.398Z"
   },
   {
    "duration": 7,
    "start_time": "2023-09-05T12:53:35.697Z"
   },
   {
    "duration": 4,
    "start_time": "2023-09-05T13:15:46.623Z"
   },
   {
    "duration": 63,
    "start_time": "2023-09-05T13:15:46.629Z"
   },
   {
    "duration": 11,
    "start_time": "2023-09-05T13:15:46.695Z"
   },
   {
    "duration": 24,
    "start_time": "2023-09-05T13:15:46.710Z"
   },
   {
    "duration": 8,
    "start_time": "2023-09-05T13:15:46.737Z"
   },
   {
    "duration": 14,
    "start_time": "2023-09-05T13:15:46.747Z"
   },
   {
    "duration": 14,
    "start_time": "2023-09-05T13:15:46.762Z"
   },
   {
    "duration": 18,
    "start_time": "2023-09-05T13:15:46.778Z"
   },
   {
    "duration": 26,
    "start_time": "2023-09-05T13:15:46.798Z"
   },
   {
    "duration": 15,
    "start_time": "2023-09-05T13:15:46.826Z"
   },
   {
    "duration": 39,
    "start_time": "2023-09-05T13:15:46.843Z"
   },
   {
    "duration": 543,
    "start_time": "2023-09-05T13:15:46.883Z"
   },
   {
    "duration": 371,
    "start_time": "2023-09-05T13:15:47.428Z"
   },
   {
    "duration": 23,
    "start_time": "2023-09-05T13:15:47.803Z"
   },
   {
    "duration": 87,
    "start_time": "2023-09-05T13:15:47.828Z"
   },
   {
    "duration": 505,
    "start_time": "2023-09-05T13:15:47.917Z"
   },
   {
    "duration": 404,
    "start_time": "2023-09-05T13:15:48.427Z"
   },
   {
    "duration": 540,
    "start_time": "2023-09-05T13:15:48.833Z"
   },
   {
    "duration": 45,
    "start_time": "2023-09-05T13:15:49.375Z"
   },
   {
    "duration": 42,
    "start_time": "2023-09-05T13:15:49.427Z"
   },
   {
    "duration": 48,
    "start_time": "2023-09-05T13:15:49.471Z"
   },
   {
    "duration": 30,
    "start_time": "2023-09-05T13:15:49.521Z"
   },
   {
    "duration": 23,
    "start_time": "2023-09-05T13:15:49.554Z"
   },
   {
    "duration": 17,
    "start_time": "2023-09-05T13:15:49.580Z"
   },
   {
    "duration": 7,
    "start_time": "2023-09-05T13:15:49.599Z"
   },
   {
    "duration": 15,
    "start_time": "2023-09-05T13:15:49.608Z"
   },
   {
    "duration": 4,
    "start_time": "2023-09-05T13:15:49.626Z"
   },
   {
    "duration": 16,
    "start_time": "2023-09-05T13:15:49.632Z"
   },
   {
    "duration": 8785,
    "start_time": "2023-09-05T13:15:49.651Z"
   },
   {
    "duration": 241,
    "start_time": "2023-09-05T13:15:58.512Z"
   },
   {
    "duration": 4,
    "start_time": "2023-09-05T13:15:58.755Z"
   },
   {
    "duration": 7,
    "start_time": "2023-09-05T13:16:03.188Z"
   },
   {
    "duration": 2297,
    "start_time": "2023-09-05T13:16:08.624Z"
   },
   {
    "duration": 207,
    "start_time": "2023-09-05T13:16:19.348Z"
   },
   {
    "duration": 7,
    "start_time": "2023-09-05T13:17:03.163Z"
   },
   {
    "duration": 2488,
    "start_time": "2023-09-05T13:17:06.941Z"
   },
   {
    "duration": 8,
    "start_time": "2023-09-05T13:20:33.803Z"
   },
   {
    "duration": 12,
    "start_time": "2023-09-05T13:21:22.860Z"
   },
   {
    "duration": 19,
    "start_time": "2023-09-05T13:24:48.939Z"
   },
   {
    "duration": 15,
    "start_time": "2023-09-05T13:25:36.787Z"
   },
   {
    "duration": 2140,
    "start_time": "2023-09-05T13:29:18.298Z"
   },
   {
    "duration": 45,
    "start_time": "2023-09-05T13:29:20.441Z"
   },
   {
    "duration": 10,
    "start_time": "2023-09-05T13:29:20.488Z"
   },
   {
    "duration": 33,
    "start_time": "2023-09-05T13:29:20.500Z"
   },
   {
    "duration": 15,
    "start_time": "2023-09-05T13:29:20.536Z"
   },
   {
    "duration": 28,
    "start_time": "2023-09-05T13:29:20.553Z"
   },
   {
    "duration": 21,
    "start_time": "2023-09-05T13:29:20.583Z"
   },
   {
    "duration": 30,
    "start_time": "2023-09-05T13:29:20.606Z"
   },
   {
    "duration": 20,
    "start_time": "2023-09-05T13:29:20.638Z"
   },
   {
    "duration": 18,
    "start_time": "2023-09-05T13:29:20.660Z"
   },
   {
    "duration": 38,
    "start_time": "2023-09-05T13:29:20.679Z"
   },
   {
    "duration": 430,
    "start_time": "2023-09-05T13:29:20.723Z"
   },
   {
    "duration": 386,
    "start_time": "2023-09-05T13:29:21.155Z"
   },
   {
    "duration": 15,
    "start_time": "2023-09-05T13:29:21.544Z"
   },
   {
    "duration": 17,
    "start_time": "2023-09-05T13:29:21.560Z"
   },
   {
    "duration": 450,
    "start_time": "2023-09-05T13:29:21.578Z"
   },
   {
    "duration": 546,
    "start_time": "2023-09-05T13:29:22.030Z"
   },
   {
    "duration": 414,
    "start_time": "2023-09-05T13:29:22.579Z"
   },
   {
    "duration": 31,
    "start_time": "2023-09-05T13:29:22.994Z"
   },
   {
    "duration": 8,
    "start_time": "2023-09-05T13:29:23.027Z"
   },
   {
    "duration": 30,
    "start_time": "2023-09-05T13:29:23.037Z"
   },
   {
    "duration": 15,
    "start_time": "2023-09-05T13:29:23.069Z"
   },
   {
    "duration": 14,
    "start_time": "2023-09-05T13:29:23.086Z"
   },
   {
    "duration": 17,
    "start_time": "2023-09-05T13:29:23.109Z"
   },
   {
    "duration": 14,
    "start_time": "2023-09-05T13:29:23.128Z"
   },
   {
    "duration": 11,
    "start_time": "2023-09-05T13:29:23.144Z"
   },
   {
    "duration": 5,
    "start_time": "2023-09-05T13:29:23.157Z"
   },
   {
    "duration": 29,
    "start_time": "2023-09-05T13:29:23.164Z"
   },
   {
    "duration": 9541,
    "start_time": "2023-09-05T13:29:23.195Z"
   },
   {
    "duration": 270,
    "start_time": "2023-09-05T13:29:32.815Z"
   },
   {
    "duration": 4,
    "start_time": "2023-09-05T13:29:33.087Z"
   },
   {
    "duration": 173,
    "start_time": "2023-09-05T13:29:33.093Z"
   },
   {
    "duration": 0,
    "start_time": "2023-09-05T13:29:33.268Z"
   },
   {
    "duration": 0,
    "start_time": "2023-09-05T13:29:33.270Z"
   },
   {
    "duration": 7,
    "start_time": "2023-09-05T13:30:54.801Z"
   },
   {
    "duration": 8916,
    "start_time": "2023-09-05T13:30:57.502Z"
   },
   {
    "duration": 6,
    "start_time": "2023-09-05T13:31:18.190Z"
   },
   {
    "duration": 6493,
    "start_time": "2023-09-05T13:31:23.460Z"
   },
   {
    "duration": 18,
    "start_time": "2023-09-05T13:44:21.836Z"
   },
   {
    "duration": 6744,
    "start_time": "2023-09-05T13:44:36.829Z"
   },
   {
    "duration": 7,
    "start_time": "2023-09-05T13:44:59.537Z"
   },
   {
    "duration": 15675,
    "start_time": "2023-09-05T13:45:01.654Z"
   },
   {
    "duration": 233,
    "start_time": "2023-09-05T13:45:21.587Z"
   },
   {
    "duration": 47,
    "start_time": "2023-09-05T14:00:42.830Z"
   },
   {
    "duration": 35,
    "start_time": "2023-09-05T14:13:50.106Z"
   },
   {
    "duration": 29,
    "start_time": "2023-09-05T14:14:07.802Z"
   },
   {
    "duration": 5,
    "start_time": "2023-09-05T14:22:38.985Z"
   },
   {
    "duration": 49,
    "start_time": "2023-09-05T14:22:48.470Z"
   },
   {
    "duration": 13,
    "start_time": "2023-09-05T14:23:20.068Z"
   },
   {
    "duration": 11,
    "start_time": "2023-09-05T14:23:37.545Z"
   },
   {
    "duration": 106,
    "start_time": "2023-09-05T14:23:37.559Z"
   },
   {
    "duration": 16,
    "start_time": "2023-09-05T14:23:37.670Z"
   },
   {
    "duration": 31,
    "start_time": "2023-09-05T14:23:37.688Z"
   },
   {
    "duration": 25,
    "start_time": "2023-09-05T14:23:37.729Z"
   },
   {
    "duration": 6,
    "start_time": "2023-09-05T14:23:37.767Z"
   },
   {
    "duration": 9,
    "start_time": "2023-09-05T14:23:37.775Z"
   },
   {
    "duration": 12,
    "start_time": "2023-09-05T14:23:37.787Z"
   },
   {
    "duration": 16,
    "start_time": "2023-09-05T14:23:37.802Z"
   },
   {
    "duration": 21,
    "start_time": "2023-09-05T14:23:37.820Z"
   },
   {
    "duration": 42,
    "start_time": "2023-09-05T14:23:37.843Z"
   },
   {
    "duration": 599,
    "start_time": "2023-09-05T14:23:37.887Z"
   },
   {
    "duration": 520,
    "start_time": "2023-09-05T14:23:38.500Z"
   },
   {
    "duration": 58,
    "start_time": "2023-09-05T14:23:39.024Z"
   },
   {
    "duration": 21,
    "start_time": "2023-09-05T14:23:39.084Z"
   },
   {
    "duration": 667,
    "start_time": "2023-09-05T14:23:39.107Z"
   },
   {
    "duration": 488,
    "start_time": "2023-09-05T14:23:39.775Z"
   },
   {
    "duration": 406,
    "start_time": "2023-09-05T14:23:40.267Z"
   },
   {
    "duration": 21,
    "start_time": "2023-09-05T14:23:40.675Z"
   },
   {
    "duration": 20,
    "start_time": "2023-09-05T14:23:40.709Z"
   },
   {
    "duration": 28,
    "start_time": "2023-09-05T14:23:40.733Z"
   },
   {
    "duration": 29,
    "start_time": "2023-09-05T14:23:40.763Z"
   },
   {
    "duration": 12,
    "start_time": "2023-09-05T14:23:40.793Z"
   },
   {
    "duration": 33,
    "start_time": "2023-09-05T14:23:40.807Z"
   },
   {
    "duration": 16,
    "start_time": "2023-09-05T14:23:40.844Z"
   },
   {
    "duration": 4,
    "start_time": "2023-09-05T14:23:40.862Z"
   },
   {
    "duration": 8,
    "start_time": "2023-09-05T14:23:40.867Z"
   },
   {
    "duration": 29,
    "start_time": "2023-09-05T14:23:40.877Z"
   },
   {
    "duration": 29853,
    "start_time": "2023-09-05T14:23:40.907Z"
   },
   {
    "duration": 292,
    "start_time": "2023-09-05T14:24:10.768Z"
   },
   {
    "duration": 7,
    "start_time": "2023-09-05T14:24:11.063Z"
   },
   {
    "duration": 8,
    "start_time": "2023-09-05T14:24:11.072Z"
   },
   {
    "duration": 8764,
    "start_time": "2023-09-05T14:24:11.082Z"
   },
   {
    "duration": 226,
    "start_time": "2023-09-05T14:24:19.858Z"
   },
   {
    "duration": 12,
    "start_time": "2023-09-05T14:24:20.085Z"
   },
   {
    "duration": 2488,
    "start_time": "2023-09-05T14:26:41.538Z"
   },
   {
    "duration": 55,
    "start_time": "2023-09-05T14:26:44.028Z"
   },
   {
    "duration": 12,
    "start_time": "2023-09-05T14:26:44.084Z"
   },
   {
    "duration": 34,
    "start_time": "2023-09-05T14:26:44.098Z"
   },
   {
    "duration": 14,
    "start_time": "2023-09-05T14:26:44.147Z"
   },
   {
    "duration": 10,
    "start_time": "2023-09-05T14:26:44.163Z"
   },
   {
    "duration": 21,
    "start_time": "2023-09-05T14:26:44.175Z"
   },
   {
    "duration": 21,
    "start_time": "2023-09-05T14:26:44.199Z"
   },
   {
    "duration": 29,
    "start_time": "2023-09-05T14:26:44.221Z"
   },
   {
    "duration": 14,
    "start_time": "2023-09-05T14:26:44.252Z"
   },
   {
    "duration": 21,
    "start_time": "2023-09-05T14:26:44.268Z"
   },
   {
    "duration": 550,
    "start_time": "2023-09-05T14:26:44.292Z"
   },
   {
    "duration": 460,
    "start_time": "2023-09-05T14:26:44.845Z"
   },
   {
    "duration": 24,
    "start_time": "2023-09-05T14:26:45.308Z"
   },
   {
    "duration": 28,
    "start_time": "2023-09-05T14:26:45.334Z"
   },
   {
    "duration": 516,
    "start_time": "2023-09-05T14:26:45.364Z"
   },
   {
    "duration": 576,
    "start_time": "2023-09-05T14:26:45.882Z"
   },
   {
    "duration": 419,
    "start_time": "2023-09-05T14:26:46.459Z"
   },
   {
    "duration": 37,
    "start_time": "2023-09-05T14:26:46.880Z"
   },
   {
    "duration": 42,
    "start_time": "2023-09-05T14:26:46.918Z"
   },
   {
    "duration": 51,
    "start_time": "2023-09-05T14:26:46.962Z"
   },
   {
    "duration": 183,
    "start_time": "2023-09-05T14:26:47.021Z"
   },
   {
    "duration": 0,
    "start_time": "2023-09-05T14:26:47.206Z"
   },
   {
    "duration": 0,
    "start_time": "2023-09-05T14:26:47.207Z"
   },
   {
    "duration": 0,
    "start_time": "2023-09-05T14:26:47.211Z"
   },
   {
    "duration": 0,
    "start_time": "2023-09-05T14:26:47.212Z"
   },
   {
    "duration": 0,
    "start_time": "2023-09-05T14:26:47.213Z"
   },
   {
    "duration": 0,
    "start_time": "2023-09-05T14:26:47.214Z"
   },
   {
    "duration": 0,
    "start_time": "2023-09-05T14:26:47.215Z"
   },
   {
    "duration": 0,
    "start_time": "2023-09-05T14:26:47.216Z"
   },
   {
    "duration": 0,
    "start_time": "2023-09-05T14:26:47.217Z"
   },
   {
    "duration": 0,
    "start_time": "2023-09-05T14:26:47.218Z"
   },
   {
    "duration": 0,
    "start_time": "2023-09-05T14:26:47.219Z"
   },
   {
    "duration": 0,
    "start_time": "2023-09-05T14:26:47.220Z"
   },
   {
    "duration": 0,
    "start_time": "2023-09-05T14:26:47.223Z"
   },
   {
    "duration": 0,
    "start_time": "2023-09-05T14:26:47.224Z"
   },
   {
    "duration": 0,
    "start_time": "2023-09-05T14:26:47.225Z"
   },
   {
    "duration": 0,
    "start_time": "2023-09-05T14:26:47.229Z"
   },
   {
    "duration": 0,
    "start_time": "2023-09-05T14:26:47.231Z"
   },
   {
    "duration": 28,
    "start_time": "2023-09-05T14:27:25.450Z"
   },
   {
    "duration": 22,
    "start_time": "2023-09-05T14:27:33.231Z"
   },
   {
    "duration": 23,
    "start_time": "2023-09-05T14:27:40.573Z"
   },
   {
    "duration": 14,
    "start_time": "2023-09-05T14:27:40.598Z"
   },
   {
    "duration": 12,
    "start_time": "2023-09-05T14:27:40.616Z"
   },
   {
    "duration": 47,
    "start_time": "2023-09-05T14:27:40.632Z"
   },
   {
    "duration": 15,
    "start_time": "2023-09-05T14:27:40.682Z"
   },
   {
    "duration": 14,
    "start_time": "2023-09-05T14:27:40.702Z"
   },
   {
    "duration": 20,
    "start_time": "2023-09-05T14:27:40.718Z"
   },
   {
    "duration": 29514,
    "start_time": "2023-09-05T14:27:40.741Z"
   },
   {
    "duration": 247,
    "start_time": "2023-09-05T14:28:10.258Z"
   },
   {
    "duration": 14,
    "start_time": "2023-09-05T14:28:10.518Z"
   },
   {
    "duration": 36,
    "start_time": "2023-09-05T14:28:10.536Z"
   },
   {
    "duration": 8958,
    "start_time": "2023-09-05T14:28:10.573Z"
   },
   {
    "duration": 274,
    "start_time": "2023-09-05T14:28:19.534Z"
   },
   {
    "duration": 10,
    "start_time": "2023-09-05T14:28:19.810Z"
   },
   {
    "duration": 25,
    "start_time": "2023-09-05T14:28:19.826Z"
   },
   {
    "duration": 40,
    "start_time": "2023-09-05T14:28:19.862Z"
   },
   {
    "duration": 0,
    "start_time": "2023-09-05T14:28:19.905Z"
   },
   {
    "duration": 0,
    "start_time": "2023-09-05T14:28:19.907Z"
   },
   {
    "duration": 61,
    "start_time": "2023-09-05T14:29:52.090Z"
   },
   {
    "duration": 43,
    "start_time": "2023-09-05T14:30:32.373Z"
   },
   {
    "duration": 51,
    "start_time": "2023-09-06T06:59:57.964Z"
   },
   {
    "duration": 2187,
    "start_time": "2023-09-06T07:00:04.710Z"
   },
   {
    "duration": 74,
    "start_time": "2023-09-06T07:00:06.899Z"
   },
   {
    "duration": 11,
    "start_time": "2023-09-06T07:00:06.975Z"
   },
   {
    "duration": 27,
    "start_time": "2023-09-06T07:00:06.988Z"
   },
   {
    "duration": 24,
    "start_time": "2023-09-06T07:00:07.017Z"
   },
   {
    "duration": 21,
    "start_time": "2023-09-06T07:00:07.043Z"
   },
   {
    "duration": 36,
    "start_time": "2023-09-06T07:00:07.065Z"
   },
   {
    "duration": 22,
    "start_time": "2023-09-06T07:00:07.103Z"
   },
   {
    "duration": 8,
    "start_time": "2023-09-06T07:00:07.126Z"
   },
   {
    "duration": 6,
    "start_time": "2023-09-06T07:00:07.136Z"
   },
   {
    "duration": 31,
    "start_time": "2023-09-06T07:00:07.144Z"
   },
   {
    "duration": 450,
    "start_time": "2023-09-06T07:00:07.176Z"
   },
   {
    "duration": 386,
    "start_time": "2023-09-06T07:00:07.627Z"
   },
   {
    "duration": 15,
    "start_time": "2023-09-06T07:00:08.015Z"
   },
   {
    "duration": 21,
    "start_time": "2023-09-06T07:00:08.031Z"
   },
   {
    "duration": 418,
    "start_time": "2023-09-06T07:00:08.054Z"
   },
   {
    "duration": 490,
    "start_time": "2023-09-06T07:00:08.474Z"
   },
   {
    "duration": 392,
    "start_time": "2023-09-06T07:00:08.966Z"
   },
   {
    "duration": 22,
    "start_time": "2023-09-06T07:00:09.360Z"
   },
   {
    "duration": 10,
    "start_time": "2023-09-06T07:00:09.384Z"
   },
   {
    "duration": 25,
    "start_time": "2023-09-06T07:00:09.396Z"
   },
   {
    "duration": 26,
    "start_time": "2023-09-06T07:00:09.423Z"
   },
   {
    "duration": 119,
    "start_time": "2023-09-06T07:00:09.451Z"
   },
   {
    "duration": 39,
    "start_time": "2023-09-06T07:00:09.571Z"
   },
   {
    "duration": 19,
    "start_time": "2023-09-06T07:00:09.612Z"
   },
   {
    "duration": 21,
    "start_time": "2023-09-06T07:00:09.633Z"
   },
   {
    "duration": 94,
    "start_time": "2023-09-06T07:00:09.656Z"
   },
   {
    "duration": 9,
    "start_time": "2023-09-06T07:00:09.753Z"
   },
   {
    "duration": 5808,
    "start_time": "2023-09-06T07:00:09.763Z"
   },
   {
    "duration": 226,
    "start_time": "2023-09-06T07:00:15.573Z"
   },
   {
    "duration": 5,
    "start_time": "2023-09-06T07:00:15.800Z"
   },
   {
    "duration": 14,
    "start_time": "2023-09-06T07:00:15.807Z"
   },
   {
    "duration": 3356,
    "start_time": "2023-09-06T07:00:15.823Z"
   },
   {
    "duration": 241,
    "start_time": "2023-09-06T07:00:19.181Z"
   },
   {
    "duration": 6,
    "start_time": "2023-09-06T07:00:19.423Z"
   },
   {
    "duration": 28,
    "start_time": "2023-09-06T07:00:19.431Z"
   },
   {
    "duration": 240,
    "start_time": "2023-09-06T07:00:19.461Z"
   },
   {
    "duration": 0,
    "start_time": "2023-09-06T07:00:19.702Z"
   },
   {
    "duration": 0,
    "start_time": "2023-09-06T07:00:19.704Z"
   },
   {
    "duration": 28,
    "start_time": "2023-09-06T07:08:23.682Z"
   },
   {
    "duration": 6,
    "start_time": "2023-09-06T07:09:41.374Z"
   },
   {
    "duration": 27,
    "start_time": "2023-09-06T07:09:44.778Z"
   },
   {
    "duration": 30,
    "start_time": "2023-09-06T07:11:26.755Z"
   },
   {
    "duration": 26,
    "start_time": "2023-09-06T07:11:44.589Z"
   },
   {
    "duration": 13,
    "start_time": "2023-09-06T07:12:19.698Z"
   },
   {
    "duration": 73,
    "start_time": "2023-09-06T16:17:04.625Z"
   },
   {
    "duration": 4,
    "start_time": "2023-09-06T16:19:56.560Z"
   },
   {
    "duration": 112,
    "start_time": "2023-09-06T16:19:56.566Z"
   },
   {
    "duration": 11,
    "start_time": "2023-09-06T16:19:56.680Z"
   },
   {
    "duration": 51,
    "start_time": "2023-09-06T16:19:56.693Z"
   },
   {
    "duration": 10,
    "start_time": "2023-09-06T16:19:56.746Z"
   },
   {
    "duration": 20,
    "start_time": "2023-09-06T16:19:56.757Z"
   },
   {
    "duration": 11,
    "start_time": "2023-09-06T16:19:56.779Z"
   },
   {
    "duration": 41,
    "start_time": "2023-09-06T16:19:56.792Z"
   },
   {
    "duration": 10,
    "start_time": "2023-09-06T16:19:56.836Z"
   },
   {
    "duration": 7,
    "start_time": "2023-09-06T16:19:56.848Z"
   },
   {
    "duration": 25,
    "start_time": "2023-09-06T16:19:56.857Z"
   },
   {
    "duration": 429,
    "start_time": "2023-09-06T16:19:56.884Z"
   },
   {
    "duration": 386,
    "start_time": "2023-09-06T16:19:57.315Z"
   },
   {
    "duration": 13,
    "start_time": "2023-09-06T16:19:57.703Z"
   },
   {
    "duration": 32,
    "start_time": "2023-09-06T16:19:57.718Z"
   },
   {
    "duration": 446,
    "start_time": "2023-09-06T16:19:57.752Z"
   },
   {
    "duration": 475,
    "start_time": "2023-09-06T16:19:58.201Z"
   },
   {
    "duration": 462,
    "start_time": "2023-09-06T16:19:58.677Z"
   },
   {
    "duration": 21,
    "start_time": "2023-09-06T16:19:59.141Z"
   },
   {
    "duration": 8,
    "start_time": "2023-09-06T16:19:59.164Z"
   },
   {
    "duration": 21,
    "start_time": "2023-09-06T16:19:59.174Z"
   },
   {
    "duration": 26,
    "start_time": "2023-09-06T16:19:59.197Z"
   },
   {
    "duration": 6,
    "start_time": "2023-09-06T16:19:59.244Z"
   },
   {
    "duration": 16,
    "start_time": "2023-09-06T16:19:59.251Z"
   },
   {
    "duration": 54,
    "start_time": "2023-09-06T16:19:59.270Z"
   },
   {
    "duration": 4,
    "start_time": "2023-09-06T16:19:59.326Z"
   },
   {
    "duration": 23,
    "start_time": "2023-09-06T16:19:59.332Z"
   },
   {
    "duration": 23,
    "start_time": "2023-09-06T16:19:59.358Z"
   },
   {
    "duration": 6277,
    "start_time": "2023-09-06T16:19:59.384Z"
   },
   {
    "duration": 277,
    "start_time": "2023-09-06T16:20:05.662Z"
   },
   {
    "duration": 5,
    "start_time": "2023-09-06T16:20:05.943Z"
   },
   {
    "duration": 49,
    "start_time": "2023-09-06T16:20:05.950Z"
   },
   {
    "duration": 3749,
    "start_time": "2023-09-06T16:20:06.001Z"
   },
   {
    "duration": 227,
    "start_time": "2023-09-06T16:20:09.751Z"
   },
   {
    "duration": 4,
    "start_time": "2023-09-06T16:20:09.980Z"
   },
   {
    "duration": 9,
    "start_time": "2023-09-06T16:20:09.986Z"
   },
   {
    "duration": 36,
    "start_time": "2023-09-06T16:20:09.996Z"
   },
   {
    "duration": 251,
    "start_time": "2023-09-06T16:20:10.034Z"
   },
   {
    "duration": 0,
    "start_time": "2023-09-06T16:20:10.287Z"
   },
   {
    "duration": 0,
    "start_time": "2023-09-06T16:20:10.289Z"
   },
   {
    "duration": 4,
    "start_time": "2023-09-06T16:20:10.342Z"
   },
   {
    "duration": 58,
    "start_time": "2023-09-06T16:20:10.347Z"
   },
   {
    "duration": 12,
    "start_time": "2023-09-06T16:20:10.407Z"
   },
   {
    "duration": 11,
    "start_time": "2023-09-06T16:20:10.421Z"
   },
   {
    "duration": 5,
    "start_time": "2023-09-06T16:20:10.434Z"
   },
   {
    "duration": 5,
    "start_time": "2023-09-06T16:20:10.441Z"
   },
   {
    "duration": 4,
    "start_time": "2023-09-06T16:20:10.448Z"
   },
   {
    "duration": 12,
    "start_time": "2023-09-06T16:20:10.454Z"
   },
   {
    "duration": 9,
    "start_time": "2023-09-06T16:20:10.468Z"
   },
   {
    "duration": 25,
    "start_time": "2023-09-06T16:20:10.479Z"
   },
   {
    "duration": 21,
    "start_time": "2023-09-06T16:20:10.506Z"
   },
   {
    "duration": 449,
    "start_time": "2023-09-06T16:20:10.529Z"
   },
   {
    "duration": 507,
    "start_time": "2023-09-06T16:20:10.981Z"
   },
   {
    "duration": 15,
    "start_time": "2023-09-06T16:20:11.493Z"
   },
   {
    "duration": 17,
    "start_time": "2023-09-06T16:20:11.509Z"
   },
   {
    "duration": 489,
    "start_time": "2023-09-06T16:20:11.527Z"
   },
   {
    "duration": 424,
    "start_time": "2023-09-06T16:20:12.018Z"
   },
   {
    "duration": 382,
    "start_time": "2023-09-06T16:20:12.445Z"
   },
   {
    "duration": 30,
    "start_time": "2023-09-06T16:20:12.829Z"
   },
   {
    "duration": 28,
    "start_time": "2023-09-06T16:20:12.861Z"
   },
   {
    "duration": 41,
    "start_time": "2023-09-06T16:20:12.891Z"
   },
   {
    "duration": 33,
    "start_time": "2023-09-06T16:20:12.934Z"
   },
   {
    "duration": 11,
    "start_time": "2023-09-06T16:20:12.970Z"
   },
   {
    "duration": 23,
    "start_time": "2023-09-06T16:20:12.983Z"
   },
   {
    "duration": 30,
    "start_time": "2023-09-06T16:20:13.008Z"
   },
   {
    "duration": 26,
    "start_time": "2023-09-06T16:20:13.040Z"
   },
   {
    "duration": 6,
    "start_time": "2023-09-06T16:20:13.068Z"
   },
   {
    "duration": 45,
    "start_time": "2023-09-06T16:20:13.075Z"
   },
   {
    "duration": 6140,
    "start_time": "2023-09-06T16:20:13.122Z"
   },
   {
    "duration": 289,
    "start_time": "2023-09-06T16:20:19.264Z"
   },
   {
    "duration": 4,
    "start_time": "2023-09-06T16:20:19.556Z"
   },
   {
    "duration": 31,
    "start_time": "2023-09-06T16:20:19.562Z"
   },
   {
    "duration": 3862,
    "start_time": "2023-09-06T16:20:19.596Z"
   },
   {
    "duration": 263,
    "start_time": "2023-09-06T16:20:23.459Z"
   },
   {
    "duration": 5,
    "start_time": "2023-09-06T16:20:23.724Z"
   },
   {
    "duration": 11,
    "start_time": "2023-09-06T16:20:23.730Z"
   },
   {
    "duration": 22,
    "start_time": "2023-09-06T16:20:23.743Z"
   },
   {
    "duration": 41,
    "start_time": "2023-09-06T16:20:23.767Z"
   },
   {
    "duration": 0,
    "start_time": "2023-09-06T16:20:23.810Z"
   },
   {
    "duration": 0,
    "start_time": "2023-09-06T16:20:23.811Z"
   },
   {
    "duration": 2512,
    "start_time": "2023-09-07T06:40:40.230Z"
   },
   {
    "duration": 96,
    "start_time": "2023-09-07T06:40:42.744Z"
   },
   {
    "duration": 10,
    "start_time": "2023-09-07T06:40:42.842Z"
   },
   {
    "duration": 15,
    "start_time": "2023-09-07T06:40:42.854Z"
   },
   {
    "duration": 8,
    "start_time": "2023-09-07T06:40:42.871Z"
   },
   {
    "duration": 4,
    "start_time": "2023-09-07T06:40:42.881Z"
   },
   {
    "duration": 5,
    "start_time": "2023-09-07T06:40:42.887Z"
   },
   {
    "duration": 13,
    "start_time": "2023-09-07T06:40:42.909Z"
   },
   {
    "duration": 7,
    "start_time": "2023-09-07T06:40:42.925Z"
   },
   {
    "duration": 7,
    "start_time": "2023-09-07T06:40:42.935Z"
   },
   {
    "duration": 20,
    "start_time": "2023-09-07T06:40:42.944Z"
   },
   {
    "duration": 475,
    "start_time": "2023-09-07T06:40:42.967Z"
   },
   {
    "duration": 394,
    "start_time": "2023-09-07T06:40:43.444Z"
   },
   {
    "duration": 15,
    "start_time": "2023-09-07T06:40:43.840Z"
   },
   {
    "duration": 16,
    "start_time": "2023-09-07T06:40:43.857Z"
   },
   {
    "duration": 461,
    "start_time": "2023-09-07T06:40:43.875Z"
   },
   {
    "duration": 502,
    "start_time": "2023-09-07T06:40:44.338Z"
   },
   {
    "duration": 471,
    "start_time": "2023-09-07T06:40:44.842Z"
   },
   {
    "duration": 30,
    "start_time": "2023-09-07T06:40:45.315Z"
   },
   {
    "duration": 21,
    "start_time": "2023-09-07T06:40:45.347Z"
   },
   {
    "duration": 19,
    "start_time": "2023-09-07T06:40:45.371Z"
   },
   {
    "duration": 31,
    "start_time": "2023-09-07T06:40:45.392Z"
   },
   {
    "duration": 10,
    "start_time": "2023-09-07T06:40:45.425Z"
   },
   {
    "duration": 5,
    "start_time": "2023-09-07T06:40:45.437Z"
   },
   {
    "duration": 7,
    "start_time": "2023-09-07T06:40:45.444Z"
   },
   {
    "duration": 7,
    "start_time": "2023-09-07T06:40:45.453Z"
   },
   {
    "duration": 6,
    "start_time": "2023-09-07T06:40:45.462Z"
   },
   {
    "duration": 46,
    "start_time": "2023-09-07T06:40:45.472Z"
   },
   {
    "duration": 8420,
    "start_time": "2023-09-07T06:40:45.520Z"
   },
   {
    "duration": 282,
    "start_time": "2023-09-07T06:40:53.942Z"
   },
   {
    "duration": 7,
    "start_time": "2023-09-07T06:40:54.226Z"
   },
   {
    "duration": 22,
    "start_time": "2023-09-07T06:40:54.237Z"
   },
   {
    "duration": 6259,
    "start_time": "2023-09-07T06:40:54.262Z"
   },
   {
    "duration": 247,
    "start_time": "2023-09-07T06:41:00.524Z"
   },
   {
    "duration": 4,
    "start_time": "2023-09-07T06:41:00.773Z"
   },
   {
    "duration": 28,
    "start_time": "2023-09-07T06:41:00.779Z"
   },
   {
    "duration": 48,
    "start_time": "2023-09-07T06:41:00.810Z"
   },
   {
    "duration": 17750,
    "start_time": "2023-09-07T06:41:00.860Z"
   },
   {
    "duration": 180,
    "start_time": "2023-09-07T06:41:18.613Z"
   },
   {
    "duration": 0,
    "start_time": "2023-09-07T06:41:18.795Z"
   },
   {
    "duration": 237,
    "start_time": "2023-09-07T06:47:13.320Z"
   },
   {
    "duration": 3,
    "start_time": "2023-09-07T06:58:07.904Z"
   },
   {
    "duration": 2173,
    "start_time": "2023-09-07T07:08:30.674Z"
   },
   {
    "duration": 42,
    "start_time": "2023-09-07T07:08:32.849Z"
   },
   {
    "duration": 11,
    "start_time": "2023-09-07T07:08:32.893Z"
   },
   {
    "duration": 15,
    "start_time": "2023-09-07T07:08:32.907Z"
   },
   {
    "duration": 6,
    "start_time": "2023-09-07T07:08:32.924Z"
   },
   {
    "duration": 14,
    "start_time": "2023-09-07T07:08:32.932Z"
   },
   {
    "duration": 23,
    "start_time": "2023-09-07T07:08:32.948Z"
   },
   {
    "duration": 23,
    "start_time": "2023-09-07T07:08:32.973Z"
   },
   {
    "duration": 11,
    "start_time": "2023-09-07T07:08:32.998Z"
   },
   {
    "duration": 20,
    "start_time": "2023-09-07T07:08:33.012Z"
   },
   {
    "duration": 33,
    "start_time": "2023-09-07T07:08:33.035Z"
   },
   {
    "duration": 443,
    "start_time": "2023-09-07T07:08:33.070Z"
   },
   {
    "duration": 394,
    "start_time": "2023-09-07T07:08:33.515Z"
   },
   {
    "duration": 15,
    "start_time": "2023-09-07T07:08:33.911Z"
   },
   {
    "duration": 16,
    "start_time": "2023-09-07T07:08:33.927Z"
   },
   {
    "duration": 444,
    "start_time": "2023-09-07T07:08:33.944Z"
   },
   {
    "duration": 504,
    "start_time": "2023-09-07T07:08:34.390Z"
   },
   {
    "duration": 439,
    "start_time": "2023-09-07T07:08:34.896Z"
   },
   {
    "duration": 30,
    "start_time": "2023-09-07T07:08:35.338Z"
   },
   {
    "duration": 8,
    "start_time": "2023-09-07T07:08:35.371Z"
   },
   {
    "duration": 43,
    "start_time": "2023-09-07T07:08:35.381Z"
   },
   {
    "duration": 18,
    "start_time": "2023-09-07T07:08:35.426Z"
   },
   {
    "duration": 11,
    "start_time": "2023-09-07T07:08:35.446Z"
   },
   {
    "duration": 6,
    "start_time": "2023-09-07T07:08:35.458Z"
   },
   {
    "duration": 13,
    "start_time": "2023-09-07T07:08:35.466Z"
   },
   {
    "duration": 28,
    "start_time": "2023-09-07T07:08:35.481Z"
   },
   {
    "duration": 6,
    "start_time": "2023-09-07T07:08:35.511Z"
   },
   {
    "duration": 11,
    "start_time": "2023-09-07T07:08:35.521Z"
   },
   {
    "duration": 4782,
    "start_time": "2023-09-07T07:08:35.534Z"
   },
   {
    "duration": 254,
    "start_time": "2023-09-07T07:08:40.318Z"
   },
   {
    "duration": 3,
    "start_time": "2023-09-07T07:08:40.574Z"
   },
   {
    "duration": 13,
    "start_time": "2023-09-07T07:08:40.579Z"
   },
   {
    "duration": 3822,
    "start_time": "2023-09-07T07:08:40.594Z"
   },
   {
    "duration": 257,
    "start_time": "2023-09-07T07:08:44.418Z"
   },
   {
    "duration": 4,
    "start_time": "2023-09-07T07:08:44.677Z"
   },
   {
    "duration": 7,
    "start_time": "2023-09-07T07:08:44.683Z"
   },
   {
    "duration": 18,
    "start_time": "2023-09-07T07:08:44.692Z"
   },
   {
    "duration": 9,
    "start_time": "2023-09-07T07:08:44.712Z"
   },
   {
    "duration": 6690,
    "start_time": "2023-09-07T07:08:44.723Z"
   },
   {
    "duration": 231,
    "start_time": "2023-09-07T07:08:51.415Z"
   },
   {
    "duration": 7390,
    "start_time": "2023-09-07T07:12:13.524Z"
   },
   {
    "duration": 7060,
    "start_time": "2023-09-07T07:12:30.960Z"
   },
   {
    "duration": 6229,
    "start_time": "2023-09-07T07:17:36.191Z"
   },
   {
    "duration": 7411,
    "start_time": "2023-09-07T07:18:36.017Z"
   },
   {
    "duration": 7164,
    "start_time": "2023-09-07T07:19:21.660Z"
   },
   {
    "duration": 8,
    "start_time": "2023-09-07T07:20:24.598Z"
   },
   {
    "duration": 4426,
    "start_time": "2023-09-07T07:20:28.298Z"
   },
   {
    "duration": 8,
    "start_time": "2023-09-07T07:20:44.228Z"
   },
   {
    "duration": 3981,
    "start_time": "2023-09-07T07:20:46.340Z"
   },
   {
    "duration": 6,
    "start_time": "2023-09-07T07:21:03.927Z"
   },
   {
    "duration": 3291,
    "start_time": "2023-09-07T07:21:07.135Z"
   },
   {
    "duration": 187,
    "start_time": "2023-09-07T07:21:16.451Z"
   },
   {
    "duration": 183,
    "start_time": "2023-09-07T07:21:19.796Z"
   },
   {
    "duration": 6,
    "start_time": "2023-09-07T07:21:32.936Z"
   },
   {
    "duration": 4,
    "start_time": "2023-09-07T07:21:36.284Z"
   },
   {
    "duration": 5922,
    "start_time": "2023-09-07T07:21:38.005Z"
   },
   {
    "duration": 190,
    "start_time": "2023-09-07T07:22:13.412Z"
   },
   {
    "duration": 7,
    "start_time": "2023-09-07T07:22:27.943Z"
   },
   {
    "duration": 4271,
    "start_time": "2023-09-07T07:22:35.455Z"
   },
   {
    "duration": 8,
    "start_time": "2023-09-07T07:22:48.671Z"
   },
   {
    "duration": 4223,
    "start_time": "2023-09-07T07:22:49.493Z"
   },
   {
    "duration": 8,
    "start_time": "2023-09-07T07:23:24.234Z"
   },
   {
    "duration": 6420,
    "start_time": "2023-09-07T07:23:26.110Z"
   },
   {
    "duration": 211,
    "start_time": "2023-09-07T07:23:35.169Z"
   },
   {
    "duration": 8,
    "start_time": "2023-09-07T07:23:49.389Z"
   },
   {
    "duration": 5527,
    "start_time": "2023-09-07T07:23:50.189Z"
   },
   {
    "duration": 8,
    "start_time": "2023-09-07T07:24:17.428Z"
   },
   {
    "duration": 4396,
    "start_time": "2023-09-07T07:24:18.226Z"
   },
   {
    "duration": 8,
    "start_time": "2023-09-07T07:24:31.936Z"
   },
   {
    "duration": 4534,
    "start_time": "2023-09-07T07:24:32.687Z"
   },
   {
    "duration": 3,
    "start_time": "2023-09-07T07:26:25.828Z"
   },
   {
    "duration": 6,
    "start_time": "2023-09-07T07:28:28.512Z"
   },
   {
    "duration": 6,
    "start_time": "2023-09-07T07:29:00.633Z"
   },
   {
    "duration": 6,
    "start_time": "2023-09-07T07:29:11.948Z"
   },
   {
    "duration": 67,
    "start_time": "2023-09-07T07:31:03.380Z"
   },
   {
    "duration": 7,
    "start_time": "2023-09-07T07:31:13.091Z"
   },
   {
    "duration": 5,
    "start_time": "2023-09-07T07:31:24.902Z"
   },
   {
    "duration": 5242,
    "start_time": "2023-09-07T07:31:40.671Z"
   },
   {
    "duration": 4868,
    "start_time": "2023-09-07T07:32:19.046Z"
   },
   {
    "duration": 242,
    "start_time": "2023-09-07T07:32:30.144Z"
   },
   {
    "duration": 2159,
    "start_time": "2023-09-07T07:32:41.466Z"
   },
   {
    "duration": 42,
    "start_time": "2023-09-07T07:32:43.627Z"
   },
   {
    "duration": 12,
    "start_time": "2023-09-07T07:32:43.671Z"
   },
   {
    "duration": 15,
    "start_time": "2023-09-07T07:32:43.686Z"
   },
   {
    "duration": 8,
    "start_time": "2023-09-07T07:32:43.703Z"
   },
   {
    "duration": 6,
    "start_time": "2023-09-07T07:32:43.713Z"
   },
   {
    "duration": 9,
    "start_time": "2023-09-07T07:32:43.721Z"
   },
   {
    "duration": 15,
    "start_time": "2023-09-07T07:32:43.733Z"
   },
   {
    "duration": 8,
    "start_time": "2023-09-07T07:32:43.750Z"
   },
   {
    "duration": 9,
    "start_time": "2023-09-07T07:32:43.760Z"
   },
   {
    "duration": 251,
    "start_time": "2023-09-07T07:32:43.771Z"
   },
   {
    "duration": 477,
    "start_time": "2023-09-07T07:32:44.024Z"
   },
   {
    "duration": 436,
    "start_time": "2023-09-07T07:32:44.503Z"
   },
   {
    "duration": 14,
    "start_time": "2023-09-07T07:32:44.942Z"
   },
   {
    "duration": 15,
    "start_time": "2023-09-07T07:32:44.958Z"
   },
   {
    "duration": 520,
    "start_time": "2023-09-07T07:32:44.975Z"
   },
   {
    "duration": 530,
    "start_time": "2023-09-07T07:32:45.497Z"
   },
   {
    "duration": 378,
    "start_time": "2023-09-07T07:32:46.029Z"
   },
   {
    "duration": 20,
    "start_time": "2023-09-07T07:32:46.410Z"
   },
   {
    "duration": 16,
    "start_time": "2023-09-07T07:32:46.431Z"
   },
   {
    "duration": 22,
    "start_time": "2023-09-07T07:32:46.449Z"
   },
   {
    "duration": 21,
    "start_time": "2023-09-07T07:32:46.473Z"
   },
   {
    "duration": 4,
    "start_time": "2023-09-07T07:32:46.509Z"
   },
   {
    "duration": 8,
    "start_time": "2023-09-07T07:32:46.515Z"
   },
   {
    "duration": 11,
    "start_time": "2023-09-07T07:32:46.525Z"
   },
   {
    "duration": 6,
    "start_time": "2023-09-07T07:32:46.538Z"
   },
   {
    "duration": 8,
    "start_time": "2023-09-07T07:32:46.546Z"
   },
   {
    "duration": 9,
    "start_time": "2023-09-07T07:32:46.559Z"
   },
   {
    "duration": 5249,
    "start_time": "2023-09-07T07:32:46.570Z"
   },
   {
    "duration": 255,
    "start_time": "2023-09-07T07:32:51.821Z"
   },
   {
    "duration": 4,
    "start_time": "2023-09-07T07:32:52.077Z"
   },
   {
    "duration": 63,
    "start_time": "2023-09-07T07:32:52.083Z"
   },
   {
    "duration": 3972,
    "start_time": "2023-09-07T07:32:52.148Z"
   },
   {
    "duration": 250,
    "start_time": "2023-09-07T07:32:56.122Z"
   },
   {
    "duration": 4,
    "start_time": "2023-09-07T07:32:56.374Z"
   },
   {
    "duration": 13,
    "start_time": "2023-09-07T07:32:56.379Z"
   },
   {
    "duration": 17,
    "start_time": "2023-09-07T07:32:56.393Z"
   },
   {
    "duration": 21,
    "start_time": "2023-09-07T07:32:56.412Z"
   },
   {
    "duration": 7475,
    "start_time": "2023-09-07T07:32:56.435Z"
   },
   {
    "duration": 229,
    "start_time": "2023-09-07T07:33:03.912Z"
   },
   {
    "duration": 4,
    "start_time": "2023-09-07T07:33:04.143Z"
   },
   {
    "duration": 6,
    "start_time": "2023-09-07T07:33:04.149Z"
   },
   {
    "duration": 11,
    "start_time": "2023-09-07T07:33:04.157Z"
   },
   {
    "duration": 5463,
    "start_time": "2023-09-07T07:33:04.170Z"
   },
   {
    "duration": 215,
    "start_time": "2023-09-07T07:33:09.710Z"
   },
   {
    "duration": 147,
    "start_time": "2023-09-07T08:21:16.954Z"
   },
   {
    "duration": 2480,
    "start_time": "2023-09-07T10:30:27.877Z"
   },
   {
    "duration": 7,
    "start_time": "2023-09-07T10:30:36.817Z"
   },
   {
    "duration": 83,
    "start_time": "2023-09-07T10:30:36.826Z"
   },
   {
    "duration": 11,
    "start_time": "2023-09-07T10:30:36.911Z"
   },
   {
    "duration": 21,
    "start_time": "2023-09-07T10:30:36.923Z"
   },
   {
    "duration": 17,
    "start_time": "2023-09-07T10:30:36.947Z"
   },
   {
    "duration": 5,
    "start_time": "2023-09-07T10:30:36.966Z"
   },
   {
    "duration": 11,
    "start_time": "2023-09-07T10:30:36.972Z"
   },
   {
    "duration": 21,
    "start_time": "2023-09-07T10:30:36.985Z"
   },
   {
    "duration": 15,
    "start_time": "2023-09-07T10:30:37.008Z"
   },
   {
    "duration": 54,
    "start_time": "2023-09-07T10:30:37.025Z"
   },
   {
    "duration": 55,
    "start_time": "2023-09-07T10:30:37.081Z"
   },
   {
    "duration": 416,
    "start_time": "2023-09-07T10:30:37.138Z"
   },
   {
    "duration": 370,
    "start_time": "2023-09-07T10:30:37.556Z"
   },
   {
    "duration": 14,
    "start_time": "2023-09-07T10:30:37.930Z"
   },
   {
    "duration": 27,
    "start_time": "2023-09-07T10:30:37.946Z"
   },
   {
    "duration": 436,
    "start_time": "2023-09-07T10:30:37.974Z"
   },
   {
    "duration": 544,
    "start_time": "2023-09-07T10:30:38.412Z"
   },
   {
    "duration": 414,
    "start_time": "2023-09-07T10:30:38.958Z"
   },
   {
    "duration": 20,
    "start_time": "2023-09-07T10:30:39.374Z"
   },
   {
    "duration": 14,
    "start_time": "2023-09-07T10:30:39.396Z"
   },
   {
    "duration": 81,
    "start_time": "2023-09-07T10:30:39.412Z"
   },
   {
    "duration": 59,
    "start_time": "2023-09-07T10:30:39.495Z"
   },
   {
    "duration": 199,
    "start_time": "2023-09-07T10:30:39.556Z"
   },
   {
    "duration": 0,
    "start_time": "2023-09-07T10:30:39.757Z"
   },
   {
    "duration": 0,
    "start_time": "2023-09-07T10:30:39.758Z"
   },
   {
    "duration": 0,
    "start_time": "2023-09-07T10:30:39.759Z"
   },
   {
    "duration": 0,
    "start_time": "2023-09-07T10:30:39.760Z"
   },
   {
    "duration": 0,
    "start_time": "2023-09-07T10:30:39.761Z"
   },
   {
    "duration": 0,
    "start_time": "2023-09-07T10:30:39.762Z"
   },
   {
    "duration": 0,
    "start_time": "2023-09-07T10:30:39.763Z"
   },
   {
    "duration": 0,
    "start_time": "2023-09-07T10:30:39.764Z"
   },
   {
    "duration": 0,
    "start_time": "2023-09-07T10:30:39.765Z"
   },
   {
    "duration": 0,
    "start_time": "2023-09-07T10:30:39.767Z"
   },
   {
    "duration": 0,
    "start_time": "2023-09-07T10:30:39.767Z"
   },
   {
    "duration": 0,
    "start_time": "2023-09-07T10:30:39.768Z"
   },
   {
    "duration": 0,
    "start_time": "2023-09-07T10:30:39.770Z"
   },
   {
    "duration": 0,
    "start_time": "2023-09-07T10:30:39.770Z"
   },
   {
    "duration": 0,
    "start_time": "2023-09-07T10:30:39.771Z"
   },
   {
    "duration": 0,
    "start_time": "2023-09-07T10:30:39.772Z"
   },
   {
    "duration": 0,
    "start_time": "2023-09-07T10:30:39.773Z"
   },
   {
    "duration": 0,
    "start_time": "2023-09-07T10:30:39.774Z"
   },
   {
    "duration": 0,
    "start_time": "2023-09-07T10:30:39.775Z"
   },
   {
    "duration": 0,
    "start_time": "2023-09-07T10:30:39.776Z"
   },
   {
    "duration": 0,
    "start_time": "2023-09-07T10:30:39.778Z"
   },
   {
    "duration": 0,
    "start_time": "2023-09-07T10:30:39.779Z"
   },
   {
    "duration": 0,
    "start_time": "2023-09-07T10:30:39.780Z"
   },
   {
    "duration": 17,
    "start_time": "2023-09-07T10:31:35.134Z"
   },
   {
    "duration": 24,
    "start_time": "2023-09-07T10:31:35.153Z"
   },
   {
    "duration": 24,
    "start_time": "2023-09-07T10:31:35.179Z"
   },
   {
    "duration": 23,
    "start_time": "2023-09-07T10:31:35.205Z"
   },
   {
    "duration": 33,
    "start_time": "2023-09-07T10:31:35.230Z"
   },
   {
    "duration": 31,
    "start_time": "2023-09-07T10:31:35.265Z"
   },
   {
    "duration": 25,
    "start_time": "2023-09-07T10:31:35.298Z"
   },
   {
    "duration": 4347,
    "start_time": "2023-09-07T10:31:35.325Z"
   },
   {
    "duration": 238,
    "start_time": "2023-09-07T10:31:39.674Z"
   },
   {
    "duration": 3,
    "start_time": "2023-09-07T10:31:39.916Z"
   },
   {
    "duration": 10,
    "start_time": "2023-09-07T10:31:39.921Z"
   },
   {
    "duration": 3237,
    "start_time": "2023-09-07T10:31:39.933Z"
   },
   {
    "duration": 247,
    "start_time": "2023-09-07T10:31:43.172Z"
   },
   {
    "duration": 5,
    "start_time": "2023-09-07T10:31:43.421Z"
   },
   {
    "duration": 6,
    "start_time": "2023-09-07T10:31:43.427Z"
   },
   {
    "duration": 24,
    "start_time": "2023-09-07T10:31:43.435Z"
   },
   {
    "duration": 10,
    "start_time": "2023-09-07T10:31:43.461Z"
   },
   {
    "duration": 6093,
    "start_time": "2023-09-07T10:31:43.472Z"
   },
   {
    "duration": 234,
    "start_time": "2023-09-07T10:31:49.567Z"
   },
   {
    "duration": 5,
    "start_time": "2023-09-07T10:31:49.802Z"
   },
   {
    "duration": 7,
    "start_time": "2023-09-07T10:31:49.808Z"
   },
   {
    "duration": 17,
    "start_time": "2023-09-07T10:31:49.816Z"
   },
   {
    "duration": 4434,
    "start_time": "2023-09-07T10:31:49.835Z"
   },
   {
    "duration": 235,
    "start_time": "2023-09-07T10:31:54.271Z"
   },
   {
    "duration": 4,
    "start_time": "2023-09-07T10:32:35.369Z"
   },
   {
    "duration": 215,
    "start_time": "2023-09-07T10:33:54.598Z"
   },
   {
    "duration": 5,
    "start_time": "2023-09-07T10:35:17.652Z"
   },
   {
    "duration": 24,
    "start_time": "2023-09-07T10:35:31.286Z"
   },
   {
    "duration": 13,
    "start_time": "2023-09-07T10:35:38.793Z"
   },
   {
    "duration": 93,
    "start_time": "2023-09-07T10:35:43.483Z"
   },
   {
    "duration": 5,
    "start_time": "2023-09-07T10:36:19.726Z"
   },
   {
    "duration": 15,
    "start_time": "2023-09-07T10:36:36.855Z"
   },
   {
    "duration": 12,
    "start_time": "2023-09-07T10:36:41.624Z"
   },
   {
    "duration": 6,
    "start_time": "2023-09-07T10:36:59.169Z"
   },
   {
    "duration": 4,
    "start_time": "2023-09-07T10:37:16.697Z"
   },
   {
    "duration": 13,
    "start_time": "2023-09-07T10:37:40.122Z"
   },
   {
    "duration": 13,
    "start_time": "2023-09-07T10:37:47.220Z"
   },
   {
    "duration": 17,
    "start_time": "2023-09-07T10:38:28.391Z"
   },
   {
    "duration": 5,
    "start_time": "2023-09-07T10:38:36.562Z"
   },
   {
    "duration": 1294,
    "start_time": "2023-09-07T10:41:59.453Z"
   },
   {
    "duration": 15,
    "start_time": "2023-09-07T10:43:04.505Z"
   },
   {
    "duration": 1157,
    "start_time": "2023-09-07T10:43:34.515Z"
   },
   {
    "duration": 4,
    "start_time": "2023-09-07T10:48:46.538Z"
   },
   {
    "duration": 2022,
    "start_time": "2023-09-07T10:48:54.816Z"
   },
   {
    "duration": 43,
    "start_time": "2023-09-07T10:48:56.840Z"
   },
   {
    "duration": 11,
    "start_time": "2023-09-07T10:48:56.884Z"
   },
   {
    "duration": 13,
    "start_time": "2023-09-07T10:48:56.897Z"
   },
   {
    "duration": 8,
    "start_time": "2023-09-07T10:48:56.911Z"
   },
   {
    "duration": 14,
    "start_time": "2023-09-07T10:48:56.921Z"
   },
   {
    "duration": 22,
    "start_time": "2023-09-07T10:48:56.937Z"
   },
   {
    "duration": 23,
    "start_time": "2023-09-07T10:48:56.961Z"
   },
   {
    "duration": 9,
    "start_time": "2023-09-07T10:48:56.986Z"
   },
   {
    "duration": 7,
    "start_time": "2023-09-07T10:48:56.999Z"
   },
   {
    "duration": 24,
    "start_time": "2023-09-07T10:48:57.008Z"
   },
   {
    "duration": 429,
    "start_time": "2023-09-07T10:48:57.034Z"
   },
   {
    "duration": 360,
    "start_time": "2023-09-07T10:48:57.465Z"
   },
   {
    "duration": 15,
    "start_time": "2023-09-07T10:48:57.826Z"
   },
   {
    "duration": 29,
    "start_time": "2023-09-07T10:48:57.842Z"
   },
   {
    "duration": 436,
    "start_time": "2023-09-07T10:48:57.872Z"
   },
   {
    "duration": 536,
    "start_time": "2023-09-07T10:48:58.310Z"
   },
   {
    "duration": 385,
    "start_time": "2023-09-07T10:48:58.857Z"
   },
   {
    "duration": 27,
    "start_time": "2023-09-07T10:48:59.244Z"
   },
   {
    "duration": 9,
    "start_time": "2023-09-07T10:48:59.273Z"
   },
   {
    "duration": 20,
    "start_time": "2023-09-07T10:48:59.284Z"
   },
   {
    "duration": 29,
    "start_time": "2023-09-07T10:48:59.306Z"
   },
   {
    "duration": 5,
    "start_time": "2023-09-07T10:48:59.358Z"
   },
   {
    "duration": 26,
    "start_time": "2023-09-07T10:48:59.365Z"
   },
   {
    "duration": 13,
    "start_time": "2023-09-07T10:48:59.393Z"
   },
   {
    "duration": 8,
    "start_time": "2023-09-07T10:48:59.408Z"
   },
   {
    "duration": 27,
    "start_time": "2023-09-07T10:48:59.418Z"
   },
   {
    "duration": 17,
    "start_time": "2023-09-07T10:48:59.450Z"
   },
   {
    "duration": 4390,
    "start_time": "2023-09-07T10:48:59.469Z"
   },
   {
    "duration": 208,
    "start_time": "2023-09-07T10:49:03.861Z"
   },
   {
    "duration": 5,
    "start_time": "2023-09-07T10:49:04.071Z"
   },
   {
    "duration": 1231,
    "start_time": "2023-09-07T10:49:04.078Z"
   },
   {
    "duration": 4,
    "start_time": "2023-09-07T10:49:05.311Z"
   },
   {
    "duration": 34,
    "start_time": "2023-09-07T10:49:05.316Z"
   },
   {
    "duration": 3205,
    "start_time": "2023-09-07T10:49:05.352Z"
   },
   {
    "duration": 205,
    "start_time": "2023-09-07T10:49:08.559Z"
   },
   {
    "duration": 1313,
    "start_time": "2023-09-07T10:49:08.766Z"
   },
   {
    "duration": 5,
    "start_time": "2023-09-07T10:49:10.080Z"
   },
   {
    "duration": 37,
    "start_time": "2023-09-07T10:49:10.086Z"
   },
   {
    "duration": 22,
    "start_time": "2023-09-07T10:49:10.125Z"
   },
   {
    "duration": 26,
    "start_time": "2023-09-07T10:49:10.148Z"
   },
   {
    "duration": 6181,
    "start_time": "2023-09-07T10:49:10.176Z"
   },
   {
    "duration": 253,
    "start_time": "2023-09-07T10:49:16.359Z"
   },
   {
    "duration": 5,
    "start_time": "2023-09-07T10:49:16.614Z"
   },
   {
    "duration": 40,
    "start_time": "2023-09-07T10:49:16.620Z"
   },
   {
    "duration": 41,
    "start_time": "2023-09-07T10:49:16.662Z"
   },
   {
    "duration": 4562,
    "start_time": "2023-09-07T10:49:16.705Z"
   },
   {
    "duration": 228,
    "start_time": "2023-09-07T10:49:21.269Z"
   },
   {
    "duration": 2072,
    "start_time": "2023-09-07T10:50:25.993Z"
   },
   {
    "duration": 44,
    "start_time": "2023-09-07T10:50:28.067Z"
   },
   {
    "duration": 11,
    "start_time": "2023-09-07T10:50:28.113Z"
   },
   {
    "duration": 17,
    "start_time": "2023-09-07T10:50:28.126Z"
   },
   {
    "duration": 7,
    "start_time": "2023-09-07T10:50:28.145Z"
   },
   {
    "duration": 9,
    "start_time": "2023-09-07T10:50:28.155Z"
   },
   {
    "duration": 10,
    "start_time": "2023-09-07T10:50:28.166Z"
   },
   {
    "duration": 35,
    "start_time": "2023-09-07T10:50:28.177Z"
   },
   {
    "duration": 21,
    "start_time": "2023-09-07T10:50:28.214Z"
   },
   {
    "duration": 7,
    "start_time": "2023-09-07T10:50:28.238Z"
   },
   {
    "duration": 29,
    "start_time": "2023-09-07T10:50:28.247Z"
   },
   {
    "duration": 458,
    "start_time": "2023-09-07T10:50:28.277Z"
   },
   {
    "duration": 426,
    "start_time": "2023-09-07T10:50:28.736Z"
   },
   {
    "duration": 15,
    "start_time": "2023-09-07T10:50:29.164Z"
   },
   {
    "duration": 15,
    "start_time": "2023-09-07T10:50:29.181Z"
   },
   {
    "duration": 436,
    "start_time": "2023-09-07T10:50:29.198Z"
   },
   {
    "duration": 514,
    "start_time": "2023-09-07T10:50:29.636Z"
   },
   {
    "duration": 405,
    "start_time": "2023-09-07T10:50:30.155Z"
   },
   {
    "duration": 22,
    "start_time": "2023-09-07T10:50:30.562Z"
   },
   {
    "duration": 46,
    "start_time": "2023-09-07T10:50:30.586Z"
   },
   {
    "duration": 51,
    "start_time": "2023-09-07T10:50:30.634Z"
   },
   {
    "duration": 47,
    "start_time": "2023-09-07T10:50:30.687Z"
   },
   {
    "duration": 36,
    "start_time": "2023-09-07T10:50:30.736Z"
   },
   {
    "duration": 44,
    "start_time": "2023-09-07T10:50:30.774Z"
   },
   {
    "duration": 61,
    "start_time": "2023-09-07T10:50:30.820Z"
   },
   {
    "duration": 25,
    "start_time": "2023-09-07T10:50:30.883Z"
   },
   {
    "duration": 39,
    "start_time": "2023-09-07T10:50:30.910Z"
   },
   {
    "duration": 44,
    "start_time": "2023-09-07T10:50:30.953Z"
   },
   {
    "duration": 4178,
    "start_time": "2023-09-07T10:50:30.999Z"
   },
   {
    "duration": 265,
    "start_time": "2023-09-07T10:50:35.179Z"
   },
   {
    "duration": 4,
    "start_time": "2023-09-07T10:50:35.446Z"
   },
   {
    "duration": 1157,
    "start_time": "2023-09-07T10:50:35.457Z"
   },
   {
    "duration": 4,
    "start_time": "2023-09-07T10:50:36.616Z"
   },
   {
    "duration": 14,
    "start_time": "2023-09-07T10:50:36.621Z"
   },
   {
    "duration": 3725,
    "start_time": "2023-09-07T10:50:36.637Z"
   },
   {
    "duration": 226,
    "start_time": "2023-09-07T10:50:40.363Z"
   },
   {
    "duration": 1332,
    "start_time": "2023-09-07T10:50:40.591Z"
   },
   {
    "duration": 5,
    "start_time": "2023-09-07T10:50:41.925Z"
   },
   {
    "duration": 24,
    "start_time": "2023-09-07T10:50:41.932Z"
   },
   {
    "duration": 19,
    "start_time": "2023-09-07T10:50:41.958Z"
   },
   {
    "duration": 29,
    "start_time": "2023-09-07T10:50:41.979Z"
   },
   {
    "duration": 6452,
    "start_time": "2023-09-07T10:50:42.009Z"
   },
   {
    "duration": 213,
    "start_time": "2023-09-07T10:50:48.463Z"
   },
   {
    "duration": 1186,
    "start_time": "2023-09-07T10:50:48.678Z"
   },
   {
    "duration": 5,
    "start_time": "2023-09-07T10:50:49.866Z"
   },
   {
    "duration": 12,
    "start_time": "2023-09-07T10:50:49.872Z"
   },
   {
    "duration": 15,
    "start_time": "2023-09-07T10:50:49.886Z"
   },
   {
    "duration": 4669,
    "start_time": "2023-09-07T10:50:49.902Z"
   },
   {
    "duration": 254,
    "start_time": "2023-09-07T10:50:54.573Z"
   },
   {
    "duration": 1208,
    "start_time": "2023-09-07T10:50:54.829Z"
   },
   {
    "duration": 2158,
    "start_time": "2023-09-07T10:53:16.831Z"
   },
   {
    "duration": 44,
    "start_time": "2023-09-07T10:53:18.991Z"
   },
   {
    "duration": 82,
    "start_time": "2023-09-07T10:53:19.037Z"
   },
   {
    "duration": 99,
    "start_time": "2023-09-07T10:53:19.123Z"
   },
   {
    "duration": 169,
    "start_time": "2023-09-07T10:53:19.224Z"
   },
   {
    "duration": 30,
    "start_time": "2023-09-07T10:53:19.395Z"
   },
   {
    "duration": 31,
    "start_time": "2023-09-07T10:53:19.427Z"
   },
   {
    "duration": 15,
    "start_time": "2023-09-07T10:53:19.460Z"
   },
   {
    "duration": 25,
    "start_time": "2023-09-07T10:53:19.477Z"
   },
   {
    "duration": 24,
    "start_time": "2023-09-07T10:53:19.505Z"
   },
   {
    "duration": 33,
    "start_time": "2023-09-07T10:53:19.530Z"
   },
   {
    "duration": 400,
    "start_time": "2023-09-07T10:53:19.565Z"
   },
   {
    "duration": 372,
    "start_time": "2023-09-07T10:53:19.966Z"
   },
   {
    "duration": 24,
    "start_time": "2023-09-07T10:53:20.340Z"
   },
   {
    "duration": 16,
    "start_time": "2023-09-07T10:53:20.366Z"
   },
   {
    "duration": 422,
    "start_time": "2023-09-07T10:53:20.384Z"
   },
   {
    "duration": 500,
    "start_time": "2023-09-07T10:53:20.808Z"
   },
   {
    "duration": 397,
    "start_time": "2023-09-07T10:53:21.310Z"
   },
   {
    "duration": 19,
    "start_time": "2023-09-07T10:53:21.709Z"
   },
   {
    "duration": 15,
    "start_time": "2023-09-07T10:53:21.729Z"
   },
   {
    "duration": 18,
    "start_time": "2023-09-07T10:53:21.756Z"
   },
   {
    "duration": 25,
    "start_time": "2023-09-07T10:53:21.776Z"
   },
   {
    "duration": 3,
    "start_time": "2023-09-07T10:53:21.803Z"
   },
   {
    "duration": 16,
    "start_time": "2023-09-07T10:53:21.808Z"
   },
   {
    "duration": 9,
    "start_time": "2023-09-07T10:53:21.825Z"
   },
   {
    "duration": 21,
    "start_time": "2023-09-07T10:53:21.835Z"
   },
   {
    "duration": 25,
    "start_time": "2023-09-07T10:53:21.858Z"
   },
   {
    "duration": 16,
    "start_time": "2023-09-07T10:53:21.887Z"
   },
   {
    "duration": 4470,
    "start_time": "2023-09-07T10:53:21.905Z"
   },
   {
    "duration": 263,
    "start_time": "2023-09-07T10:53:26.377Z"
   },
   {
    "duration": 1178,
    "start_time": "2023-09-07T10:53:26.642Z"
   },
   {
    "duration": 4,
    "start_time": "2023-09-07T10:53:27.822Z"
   },
   {
    "duration": 31,
    "start_time": "2023-09-07T10:53:27.828Z"
   },
   {
    "duration": 3318,
    "start_time": "2023-09-07T10:53:27.861Z"
   },
   {
    "duration": 276,
    "start_time": "2023-09-07T10:53:31.181Z"
   },
   {
    "duration": 1326,
    "start_time": "2023-09-07T10:53:31.459Z"
   },
   {
    "duration": 5,
    "start_time": "2023-09-07T10:53:32.787Z"
   },
   {
    "duration": 32,
    "start_time": "2023-09-07T10:53:32.794Z"
   },
   {
    "duration": 16,
    "start_time": "2023-09-07T10:53:32.828Z"
   },
   {
    "duration": 20,
    "start_time": "2023-09-07T10:53:32.846Z"
   },
   {
    "duration": 6105,
    "start_time": "2023-09-07T10:53:32.868Z"
   },
   {
    "duration": 250,
    "start_time": "2023-09-07T10:53:38.977Z"
   },
   {
    "duration": 1162,
    "start_time": "2023-09-07T10:53:39.229Z"
   },
   {
    "duration": 4,
    "start_time": "2023-09-07T10:53:40.393Z"
   },
   {
    "duration": 35,
    "start_time": "2023-09-07T10:53:40.399Z"
   },
   {
    "duration": 15,
    "start_time": "2023-09-07T10:53:40.435Z"
   },
   {
    "duration": 4320,
    "start_time": "2023-09-07T10:53:40.452Z"
   },
   {
    "duration": 259,
    "start_time": "2023-09-07T10:53:44.774Z"
   },
   {
    "duration": 1188,
    "start_time": "2023-09-07T10:53:45.035Z"
   },
   {
    "duration": 204,
    "start_time": "2023-09-07T11:09:44.902Z"
   },
   {
    "duration": 4443,
    "start_time": "2023-09-07T11:11:49.034Z"
   },
   {
    "duration": 5942,
    "start_time": "2023-09-07T11:12:00.226Z"
   },
   {
    "duration": 4665,
    "start_time": "2023-09-07T11:12:09.696Z"
   },
   {
    "duration": 2310,
    "start_time": "2023-09-07T11:13:36.795Z"
   },
   {
    "duration": 46,
    "start_time": "2023-09-07T11:13:39.107Z"
   },
   {
    "duration": 13,
    "start_time": "2023-09-07T11:13:39.155Z"
   },
   {
    "duration": 23,
    "start_time": "2023-09-07T11:13:39.171Z"
   },
   {
    "duration": 9,
    "start_time": "2023-09-07T11:13:39.196Z"
   },
   {
    "duration": 11,
    "start_time": "2023-09-07T11:13:39.208Z"
   },
   {
    "duration": 10,
    "start_time": "2023-09-07T11:13:39.221Z"
   },
   {
    "duration": 31,
    "start_time": "2023-09-07T11:13:39.233Z"
   },
   {
    "duration": 15,
    "start_time": "2023-09-07T11:13:39.265Z"
   },
   {
    "duration": 9,
    "start_time": "2023-09-07T11:13:39.283Z"
   },
   {
    "duration": 30,
    "start_time": "2023-09-07T11:13:39.295Z"
   },
   {
    "duration": 445,
    "start_time": "2023-09-07T11:13:39.327Z"
   },
   {
    "duration": 382,
    "start_time": "2023-09-07T11:13:39.774Z"
   },
   {
    "duration": 15,
    "start_time": "2023-09-07T11:13:40.158Z"
   },
   {
    "duration": 18,
    "start_time": "2023-09-07T11:13:40.175Z"
   },
   {
    "duration": 466,
    "start_time": "2023-09-07T11:13:40.195Z"
   },
   {
    "duration": 512,
    "start_time": "2023-09-07T11:13:40.663Z"
   },
   {
    "duration": 365,
    "start_time": "2023-09-07T11:13:41.176Z"
   },
   {
    "duration": 27,
    "start_time": "2023-09-07T11:13:41.543Z"
   },
   {
    "duration": 36,
    "start_time": "2023-09-07T11:13:41.572Z"
   },
   {
    "duration": 30,
    "start_time": "2023-09-07T11:13:41.610Z"
   },
   {
    "duration": 35,
    "start_time": "2023-09-07T11:13:41.642Z"
   },
   {
    "duration": 28,
    "start_time": "2023-09-07T11:13:41.679Z"
   },
   {
    "duration": 17,
    "start_time": "2023-09-07T11:13:41.709Z"
   },
   {
    "duration": 7,
    "start_time": "2023-09-07T11:13:41.728Z"
   },
   {
    "duration": 7,
    "start_time": "2023-09-07T11:13:41.737Z"
   },
   {
    "duration": 4511,
    "start_time": "2023-09-07T11:13:41.746Z"
   },
   {
    "duration": 202,
    "start_time": "2023-09-07T11:13:46.260Z"
   },
   {
    "duration": 154,
    "start_time": "2023-09-07T11:13:46.464Z"
   },
   {
    "duration": 0,
    "start_time": "2023-09-07T11:13:46.620Z"
   },
   {
    "duration": 0,
    "start_time": "2023-09-07T11:13:46.621Z"
   },
   {
    "duration": 0,
    "start_time": "2023-09-07T11:13:46.622Z"
   },
   {
    "duration": 0,
    "start_time": "2023-09-07T11:13:46.623Z"
   },
   {
    "duration": 0,
    "start_time": "2023-09-07T11:13:46.624Z"
   },
   {
    "duration": 0,
    "start_time": "2023-09-07T11:13:46.626Z"
   },
   {
    "duration": 0,
    "start_time": "2023-09-07T11:13:46.627Z"
   },
   {
    "duration": 0,
    "start_time": "2023-09-07T11:13:46.628Z"
   },
   {
    "duration": 0,
    "start_time": "2023-09-07T11:13:46.629Z"
   },
   {
    "duration": 0,
    "start_time": "2023-09-07T11:13:46.630Z"
   },
   {
    "duration": 0,
    "start_time": "2023-09-07T11:13:46.631Z"
   },
   {
    "duration": 0,
    "start_time": "2023-09-07T11:13:46.632Z"
   },
   {
    "duration": 0,
    "start_time": "2023-09-07T11:13:46.656Z"
   },
   {
    "duration": 0,
    "start_time": "2023-09-07T11:13:46.658Z"
   },
   {
    "duration": 0,
    "start_time": "2023-09-07T11:13:46.659Z"
   },
   {
    "duration": 0,
    "start_time": "2023-09-07T11:13:46.660Z"
   },
   {
    "duration": 0,
    "start_time": "2023-09-07T11:13:46.661Z"
   },
   {
    "duration": 0,
    "start_time": "2023-09-07T11:13:46.662Z"
   },
   {
    "duration": 4333,
    "start_time": "2023-09-07T11:15:40.444Z"
   },
   {
    "duration": 206,
    "start_time": "2023-09-07T11:15:47.833Z"
   },
   {
    "duration": 15,
    "start_time": "2023-09-07T11:15:51.694Z"
   },
   {
    "duration": 8,
    "start_time": "2023-09-07T11:17:02.903Z"
   },
   {
    "duration": 4506,
    "start_time": "2023-09-07T11:17:06.158Z"
   },
   {
    "duration": 191,
    "start_time": "2023-09-07T11:17:13.289Z"
   },
   {
    "duration": 1152,
    "start_time": "2023-09-07T11:17:16.004Z"
   },
   {
    "duration": 2204,
    "start_time": "2023-09-07T11:19:05.040Z"
   },
   {
    "duration": 44,
    "start_time": "2023-09-07T11:19:07.247Z"
   },
   {
    "duration": 11,
    "start_time": "2023-09-07T11:19:07.293Z"
   },
   {
    "duration": 18,
    "start_time": "2023-09-07T11:19:07.306Z"
   },
   {
    "duration": 7,
    "start_time": "2023-09-07T11:19:07.326Z"
   },
   {
    "duration": 17,
    "start_time": "2023-09-07T11:19:07.335Z"
   },
   {
    "duration": 10,
    "start_time": "2023-09-07T11:19:07.354Z"
   },
   {
    "duration": 24,
    "start_time": "2023-09-07T11:19:07.366Z"
   },
   {
    "duration": 39,
    "start_time": "2023-09-07T11:19:07.392Z"
   },
   {
    "duration": 12,
    "start_time": "2023-09-07T11:19:07.435Z"
   },
   {
    "duration": 48,
    "start_time": "2023-09-07T11:19:07.449Z"
   },
   {
    "duration": 528,
    "start_time": "2023-09-07T11:19:07.499Z"
   },
   {
    "duration": 394,
    "start_time": "2023-09-07T11:19:08.029Z"
   },
   {
    "duration": 15,
    "start_time": "2023-09-07T11:19:08.425Z"
   },
   {
    "duration": 29,
    "start_time": "2023-09-07T11:19:08.441Z"
   },
   {
    "duration": 451,
    "start_time": "2023-09-07T11:19:08.472Z"
   },
   {
    "duration": 526,
    "start_time": "2023-09-07T11:19:08.925Z"
   },
   {
    "duration": 363,
    "start_time": "2023-09-07T11:19:09.455Z"
   },
   {
    "duration": 20,
    "start_time": "2023-09-07T11:19:09.820Z"
   },
   {
    "duration": 19,
    "start_time": "2023-09-07T11:19:09.841Z"
   },
   {
    "duration": 28,
    "start_time": "2023-09-07T11:19:09.862Z"
   },
   {
    "duration": 13,
    "start_time": "2023-09-07T11:19:09.892Z"
   },
   {
    "duration": 11,
    "start_time": "2023-09-07T11:19:09.906Z"
   },
   {
    "duration": 11,
    "start_time": "2023-09-07T11:19:09.919Z"
   },
   {
    "duration": 8,
    "start_time": "2023-09-07T11:19:09.931Z"
   },
   {
    "duration": 9,
    "start_time": "2023-09-07T11:19:09.957Z"
   },
   {
    "duration": 4399,
    "start_time": "2023-09-07T11:19:09.968Z"
   },
   {
    "duration": 226,
    "start_time": "2023-09-07T11:19:14.371Z"
   },
   {
    "duration": 1160,
    "start_time": "2023-09-07T11:19:14.598Z"
   },
   {
    "duration": 4,
    "start_time": "2023-09-07T11:19:15.760Z"
   },
   {
    "duration": 45,
    "start_time": "2023-09-07T11:19:15.765Z"
   },
   {
    "duration": 3752,
    "start_time": "2023-09-07T11:19:15.811Z"
   },
   {
    "duration": 228,
    "start_time": "2023-09-07T11:19:19.565Z"
   },
   {
    "duration": 361,
    "start_time": "2023-09-07T11:19:19.795Z"
   },
   {
    "duration": 0,
    "start_time": "2023-09-07T11:19:20.158Z"
   },
   {
    "duration": 0,
    "start_time": "2023-09-07T11:19:20.160Z"
   },
   {
    "duration": 0,
    "start_time": "2023-09-07T11:19:20.161Z"
   },
   {
    "duration": 0,
    "start_time": "2023-09-07T11:19:20.162Z"
   },
   {
    "duration": 0,
    "start_time": "2023-09-07T11:19:20.163Z"
   },
   {
    "duration": 0,
    "start_time": "2023-09-07T11:19:20.164Z"
   },
   {
    "duration": 0,
    "start_time": "2023-09-07T11:19:20.165Z"
   },
   {
    "duration": 0,
    "start_time": "2023-09-07T11:19:20.166Z"
   },
   {
    "duration": 0,
    "start_time": "2023-09-07T11:19:20.166Z"
   },
   {
    "duration": 0,
    "start_time": "2023-09-07T11:19:20.168Z"
   },
   {
    "duration": 0,
    "start_time": "2023-09-07T11:19:20.169Z"
   },
   {
    "duration": 0,
    "start_time": "2023-09-07T11:19:20.170Z"
   },
   {
    "duration": 0,
    "start_time": "2023-09-07T11:19:20.172Z"
   },
   {
    "duration": 5,
    "start_time": "2023-09-07T11:23:48.003Z"
   },
   {
    "duration": 5,
    "start_time": "2023-09-07T11:23:51.152Z"
   },
   {
    "duration": 31,
    "start_time": "2023-09-07T11:23:51.159Z"
   },
   {
    "duration": 34,
    "start_time": "2023-09-07T11:23:51.192Z"
   },
   {
    "duration": 19,
    "start_time": "2023-09-07T11:23:51.228Z"
   },
   {
    "duration": 6526,
    "start_time": "2023-09-07T11:23:51.250Z"
   },
   {
    "duration": 303,
    "start_time": "2023-09-07T11:23:57.778Z"
   },
   {
    "duration": 1389,
    "start_time": "2023-09-07T11:23:58.083Z"
   },
   {
    "duration": 4,
    "start_time": "2023-09-07T11:23:59.474Z"
   },
   {
    "duration": 58,
    "start_time": "2023-09-07T11:23:59.480Z"
   },
   {
    "duration": 17,
    "start_time": "2023-09-07T11:23:59.540Z"
   },
   {
    "duration": 4911,
    "start_time": "2023-09-07T11:23:59.559Z"
   },
   {
    "duration": 232,
    "start_time": "2023-09-07T11:24:04.472Z"
   },
   {
    "duration": 1186,
    "start_time": "2023-09-07T11:24:04.706Z"
   },
   {
    "duration": 4563,
    "start_time": "2023-09-07T11:24:48.794Z"
   },
   {
    "duration": 1214,
    "start_time": "2023-09-07T11:24:56.145Z"
   },
   {
    "duration": 2156,
    "start_time": "2023-09-07T11:25:27.993Z"
   },
   {
    "duration": 45,
    "start_time": "2023-09-07T11:25:30.152Z"
   },
   {
    "duration": 11,
    "start_time": "2023-09-07T11:25:30.200Z"
   },
   {
    "duration": 28,
    "start_time": "2023-09-07T11:25:30.213Z"
   },
   {
    "duration": 31,
    "start_time": "2023-09-07T11:25:30.244Z"
   },
   {
    "duration": 42,
    "start_time": "2023-09-07T11:25:30.278Z"
   },
   {
    "duration": 41,
    "start_time": "2023-09-07T11:25:30.323Z"
   },
   {
    "duration": 50,
    "start_time": "2023-09-07T11:25:30.366Z"
   },
   {
    "duration": 46,
    "start_time": "2023-09-07T11:25:30.419Z"
   },
   {
    "duration": 77,
    "start_time": "2023-09-07T11:25:30.468Z"
   },
   {
    "duration": 54,
    "start_time": "2023-09-07T11:25:30.547Z"
   },
   {
    "duration": 465,
    "start_time": "2023-09-07T11:25:30.603Z"
   },
   {
    "duration": 375,
    "start_time": "2023-09-07T11:25:31.070Z"
   },
   {
    "duration": 19,
    "start_time": "2023-09-07T11:25:31.449Z"
   },
   {
    "duration": 28,
    "start_time": "2023-09-07T11:25:31.470Z"
   },
   {
    "duration": 426,
    "start_time": "2023-09-07T11:25:31.500Z"
   },
   {
    "duration": 523,
    "start_time": "2023-09-07T11:25:31.928Z"
   },
   {
    "duration": 395,
    "start_time": "2023-09-07T11:25:32.457Z"
   },
   {
    "duration": 22,
    "start_time": "2023-09-07T11:25:32.853Z"
   },
   {
    "duration": 20,
    "start_time": "2023-09-07T11:25:32.877Z"
   },
   {
    "duration": 28,
    "start_time": "2023-09-07T11:25:32.899Z"
   },
   {
    "duration": 67,
    "start_time": "2023-09-07T11:25:32.929Z"
   },
   {
    "duration": 8,
    "start_time": "2023-09-07T11:25:32.998Z"
   },
   {
    "duration": 17,
    "start_time": "2023-09-07T11:25:33.008Z"
   },
   {
    "duration": 15,
    "start_time": "2023-09-07T11:25:33.027Z"
   },
   {
    "duration": 16,
    "start_time": "2023-09-07T11:25:33.043Z"
   },
   {
    "duration": 4316,
    "start_time": "2023-09-07T11:25:33.061Z"
   },
   {
    "duration": 252,
    "start_time": "2023-09-07T11:25:37.379Z"
   },
   {
    "duration": 1137,
    "start_time": "2023-09-07T11:25:37.632Z"
   },
   {
    "duration": 4,
    "start_time": "2023-09-07T11:25:38.771Z"
   },
   {
    "duration": 22,
    "start_time": "2023-09-07T11:25:38.777Z"
   },
   {
    "duration": 3158,
    "start_time": "2023-09-07T11:25:38.801Z"
   },
   {
    "duration": 210,
    "start_time": "2023-09-07T11:25:41.961Z"
   },
   {
    "duration": 1306,
    "start_time": "2023-09-07T11:25:42.173Z"
   },
   {
    "duration": 4,
    "start_time": "2023-09-07T11:25:43.481Z"
   },
   {
    "duration": 21,
    "start_time": "2023-09-07T11:25:43.486Z"
   },
   {
    "duration": 26,
    "start_time": "2023-09-07T11:25:43.509Z"
   },
   {
    "duration": 34,
    "start_time": "2023-09-07T11:25:43.537Z"
   },
   {
    "duration": 6182,
    "start_time": "2023-09-07T11:25:43.573Z"
   },
   {
    "duration": 198,
    "start_time": "2023-09-07T11:25:49.758Z"
   },
   {
    "duration": 374,
    "start_time": "2023-09-07T11:25:49.960Z"
   },
   {
    "duration": 0,
    "start_time": "2023-09-07T11:25:50.336Z"
   },
   {
    "duration": 0,
    "start_time": "2023-09-07T11:25:50.337Z"
   },
   {
    "duration": 0,
    "start_time": "2023-09-07T11:25:50.338Z"
   },
   {
    "duration": 0,
    "start_time": "2023-09-07T11:25:50.339Z"
   },
   {
    "duration": 0,
    "start_time": "2023-09-07T11:25:50.340Z"
   },
   {
    "duration": 0,
    "start_time": "2023-09-07T11:25:50.341Z"
   },
   {
    "duration": 6,
    "start_time": "2023-09-07T11:39:23.042Z"
   },
   {
    "duration": 7,
    "start_time": "2023-09-07T11:39:25.091Z"
   },
   {
    "duration": 6500,
    "start_time": "2023-09-07T11:39:29.862Z"
   },
   {
    "duration": 193,
    "start_time": "2023-09-07T11:39:39.255Z"
   },
   {
    "duration": 1175,
    "start_time": "2023-09-07T11:39:41.592Z"
   },
   {
    "duration": 2409,
    "start_time": "2023-09-07T11:40:02.167Z"
   },
   {
    "duration": 44,
    "start_time": "2023-09-07T11:40:04.579Z"
   },
   {
    "duration": 12,
    "start_time": "2023-09-07T11:40:04.625Z"
   },
   {
    "duration": 43,
    "start_time": "2023-09-07T11:40:04.640Z"
   },
   {
    "duration": 23,
    "start_time": "2023-09-07T11:40:04.685Z"
   },
   {
    "duration": 30,
    "start_time": "2023-09-07T11:40:04.710Z"
   },
   {
    "duration": 44,
    "start_time": "2023-09-07T11:40:04.742Z"
   },
   {
    "duration": 50,
    "start_time": "2023-09-07T11:40:04.789Z"
   },
   {
    "duration": 35,
    "start_time": "2023-09-07T11:40:04.841Z"
   },
   {
    "duration": 39,
    "start_time": "2023-09-07T11:40:04.880Z"
   },
   {
    "duration": 54,
    "start_time": "2023-09-07T11:40:04.920Z"
   },
   {
    "duration": 446,
    "start_time": "2023-09-07T11:40:04.975Z"
   },
   {
    "duration": 400,
    "start_time": "2023-09-07T11:40:05.424Z"
   },
   {
    "duration": 15,
    "start_time": "2023-09-07T11:40:05.826Z"
   },
   {
    "duration": 18,
    "start_time": "2023-09-07T11:40:05.856Z"
   },
   {
    "duration": 441,
    "start_time": "2023-09-07T11:40:05.876Z"
   },
   {
    "duration": 563,
    "start_time": "2023-09-07T11:40:06.320Z"
   },
   {
    "duration": 493,
    "start_time": "2023-09-07T11:40:06.885Z"
   },
   {
    "duration": 29,
    "start_time": "2023-09-07T11:40:07.381Z"
   },
   {
    "duration": 14,
    "start_time": "2023-09-07T11:40:07.413Z"
   },
   {
    "duration": 50,
    "start_time": "2023-09-07T11:40:07.429Z"
   },
   {
    "duration": 74,
    "start_time": "2023-09-07T11:40:07.481Z"
   },
   {
    "duration": 18,
    "start_time": "2023-09-07T11:40:07.557Z"
   },
   {
    "duration": 31,
    "start_time": "2023-09-07T11:40:07.577Z"
   },
   {
    "duration": 17,
    "start_time": "2023-09-07T11:40:07.610Z"
   },
   {
    "duration": 48,
    "start_time": "2023-09-07T11:40:07.628Z"
   },
   {
    "duration": 5297,
    "start_time": "2023-09-07T11:40:07.679Z"
   },
   {
    "duration": 273,
    "start_time": "2023-09-07T11:40:12.980Z"
   },
   {
    "duration": 1262,
    "start_time": "2023-09-07T11:40:13.256Z"
   },
   {
    "duration": 5,
    "start_time": "2023-09-07T11:40:14.520Z"
   },
   {
    "duration": 30,
    "start_time": "2023-09-07T11:40:14.528Z"
   },
   {
    "duration": 3708,
    "start_time": "2023-09-07T11:40:14.561Z"
   },
   {
    "duration": 262,
    "start_time": "2023-09-07T11:40:18.271Z"
   },
   {
    "duration": 1427,
    "start_time": "2023-09-07T11:40:18.536Z"
   },
   {
    "duration": 5,
    "start_time": "2023-09-07T11:40:19.964Z"
   },
   {
    "duration": 9,
    "start_time": "2023-09-07T11:40:19.970Z"
   },
   {
    "duration": 7,
    "start_time": "2023-09-07T11:40:19.980Z"
   },
   {
    "duration": 8,
    "start_time": "2023-09-07T11:40:19.989Z"
   },
   {
    "duration": 7183,
    "start_time": "2023-09-07T11:40:19.998Z"
   },
   {
    "duration": 206,
    "start_time": "2023-09-07T11:40:27.257Z"
   },
   {
    "duration": 439,
    "start_time": "2023-09-07T11:40:27.465Z"
   },
   {
    "duration": 1,
    "start_time": "2023-09-07T11:40:27.906Z"
   },
   {
    "duration": 0,
    "start_time": "2023-09-07T11:40:27.908Z"
   },
   {
    "duration": 0,
    "start_time": "2023-09-07T11:40:27.909Z"
   },
   {
    "duration": 0,
    "start_time": "2023-09-07T11:40:27.910Z"
   },
   {
    "duration": 0,
    "start_time": "2023-09-07T11:40:27.912Z"
   },
   {
    "duration": 0,
    "start_time": "2023-09-07T11:40:27.913Z"
   },
   {
    "duration": 7,
    "start_time": "2023-09-07T11:41:51.729Z"
   },
   {
    "duration": 8,
    "start_time": "2023-09-07T11:41:52.418Z"
   },
   {
    "duration": 11336,
    "start_time": "2023-09-07T11:41:52.940Z"
   },
   {
    "duration": 204,
    "start_time": "2023-09-07T11:42:07.524Z"
   },
   {
    "duration": 1387,
    "start_time": "2023-09-07T11:42:08.083Z"
   },
   {
    "duration": 5,
    "start_time": "2023-09-07T11:42:09.472Z"
   },
   {
    "duration": 6,
    "start_time": "2023-09-07T11:42:10.245Z"
   },
   {
    "duration": 2199,
    "start_time": "2023-09-07T11:42:15.475Z"
   },
   {
    "duration": 46,
    "start_time": "2023-09-07T11:42:17.681Z"
   },
   {
    "duration": 12,
    "start_time": "2023-09-07T11:42:17.729Z"
   },
   {
    "duration": 46,
    "start_time": "2023-09-07T11:42:17.743Z"
   },
   {
    "duration": 42,
    "start_time": "2023-09-07T11:42:17.792Z"
   },
   {
    "duration": 38,
    "start_time": "2023-09-07T11:42:17.836Z"
   },
   {
    "duration": 9,
    "start_time": "2023-09-07T11:42:17.876Z"
   },
   {
    "duration": 36,
    "start_time": "2023-09-07T11:42:17.887Z"
   },
   {
    "duration": 47,
    "start_time": "2023-09-07T11:42:17.924Z"
   },
   {
    "duration": 11,
    "start_time": "2023-09-07T11:42:17.974Z"
   },
   {
    "duration": 25,
    "start_time": "2023-09-07T11:42:17.987Z"
   },
   {
    "duration": 448,
    "start_time": "2023-09-07T11:42:18.014Z"
   },
   {
    "duration": 414,
    "start_time": "2023-09-07T11:42:18.474Z"
   },
   {
    "duration": 14,
    "start_time": "2023-09-07T11:42:18.892Z"
   },
   {
    "duration": 21,
    "start_time": "2023-09-07T11:42:18.907Z"
   },
   {
    "duration": 569,
    "start_time": "2023-09-07T11:42:18.929Z"
   },
   {
    "duration": 580,
    "start_time": "2023-09-07T11:42:19.500Z"
   },
   {
    "duration": 371,
    "start_time": "2023-09-07T11:42:20.082Z"
   },
   {
    "duration": 26,
    "start_time": "2023-09-07T11:42:20.459Z"
   },
   {
    "duration": 45,
    "start_time": "2023-09-07T11:42:20.487Z"
   },
   {
    "duration": 64,
    "start_time": "2023-09-07T11:42:20.533Z"
   },
   {
    "duration": 38,
    "start_time": "2023-09-07T11:42:20.599Z"
   },
   {
    "duration": 68,
    "start_time": "2023-09-07T11:42:20.639Z"
   },
   {
    "duration": 18,
    "start_time": "2023-09-07T11:42:20.708Z"
   },
   {
    "duration": 65,
    "start_time": "2023-09-07T11:42:20.727Z"
   },
   {
    "duration": 14,
    "start_time": "2023-09-07T11:42:20.794Z"
   },
   {
    "duration": 6982,
    "start_time": "2023-09-07T11:42:20.811Z"
   },
   {
    "duration": 257,
    "start_time": "2023-09-07T11:42:27.795Z"
   },
   {
    "duration": 1374,
    "start_time": "2023-09-07T11:42:28.054Z"
   },
   {
    "duration": 4,
    "start_time": "2023-09-07T11:42:29.430Z"
   },
   {
    "duration": 21,
    "start_time": "2023-09-07T11:42:29.436Z"
   },
   {
    "duration": 5911,
    "start_time": "2023-09-07T11:42:29.461Z"
   },
   {
    "duration": 228,
    "start_time": "2023-09-07T11:42:35.378Z"
   },
   {
    "duration": 1415,
    "start_time": "2023-09-07T11:42:35.608Z"
   },
   {
    "duration": 6,
    "start_time": "2023-09-07T11:42:37.025Z"
   },
   {
    "duration": 9,
    "start_time": "2023-09-07T11:42:37.033Z"
   },
   {
    "duration": 32,
    "start_time": "2023-09-07T11:42:37.045Z"
   },
   {
    "duration": 14,
    "start_time": "2023-09-07T11:42:37.082Z"
   },
   {
    "duration": 14365,
    "start_time": "2023-09-07T11:42:37.098Z"
   },
   {
    "duration": 223,
    "start_time": "2023-09-07T11:42:51.465Z"
   },
   {
    "duration": 1230,
    "start_time": "2023-09-07T11:42:51.693Z"
   },
   {
    "duration": 4,
    "start_time": "2023-09-07T11:42:52.925Z"
   },
   {
    "duration": 17,
    "start_time": "2023-09-07T11:42:52.931Z"
   },
   {
    "duration": 33,
    "start_time": "2023-09-07T11:42:52.950Z"
   },
   {
    "duration": 7515,
    "start_time": "2023-09-07T11:42:52.985Z"
   },
   {
    "duration": 284,
    "start_time": "2023-09-07T11:43:00.502Z"
   },
   {
    "duration": 1280,
    "start_time": "2023-09-07T11:43:00.789Z"
   },
   {
    "duration": 116,
    "start_time": "2023-09-07T11:58:35.058Z"
   },
   {
    "duration": 4335,
    "start_time": "2023-09-07T11:58:42.224Z"
   },
   {
    "duration": 4717,
    "start_time": "2023-09-07T11:59:34.952Z"
   },
   {
    "duration": 4618,
    "start_time": "2023-09-07T12:01:07.245Z"
   },
   {
    "duration": 4567,
    "start_time": "2023-09-07T12:01:27.490Z"
   },
   {
    "duration": 158,
    "start_time": "2023-09-07T12:02:06.832Z"
   },
   {
    "duration": 10,
    "start_time": "2023-09-07T12:02:14.992Z"
   },
   {
    "duration": 3201,
    "start_time": "2023-09-07T12:02:15.572Z"
   },
   {
    "duration": 186,
    "start_time": "2023-09-07T12:02:22.310Z"
   },
   {
    "duration": 1374,
    "start_time": "2023-09-07T12:02:26.820Z"
   },
   {
    "duration": 8,
    "start_time": "2023-09-07T12:04:21.363Z"
   },
   {
    "duration": 6955,
    "start_time": "2023-09-07T12:04:25.222Z"
   },
   {
    "duration": 7,
    "start_time": "2023-09-07T12:20:50.314Z"
   },
   {
    "duration": 6,
    "start_time": "2023-09-07T12:20:51.205Z"
   },
   {
    "duration": 4553,
    "start_time": "2023-09-07T12:20:51.910Z"
   },
   {
    "duration": 1131,
    "start_time": "2023-09-07T12:28:15.406Z"
   },
   {
    "duration": 7,
    "start_time": "2023-09-07T12:28:49.798Z"
   },
   {
    "duration": 6,
    "start_time": "2023-09-07T12:28:50.671Z"
   },
   {
    "duration": 4656,
    "start_time": "2023-09-07T12:28:51.319Z"
   },
   {
    "duration": 7,
    "start_time": "2023-09-07T12:29:08.065Z"
   },
   {
    "duration": 7,
    "start_time": "2023-09-07T12:29:08.803Z"
   },
   {
    "duration": 4524,
    "start_time": "2023-09-07T12:29:09.534Z"
   },
   {
    "duration": 2014,
    "start_time": "2023-09-07T12:29:21.403Z"
   },
   {
    "duration": 43,
    "start_time": "2023-09-07T12:29:23.419Z"
   },
   {
    "duration": 12,
    "start_time": "2023-09-07T12:29:23.464Z"
   },
   {
    "duration": 15,
    "start_time": "2023-09-07T12:29:23.478Z"
   },
   {
    "duration": 8,
    "start_time": "2023-09-07T12:29:23.495Z"
   },
   {
    "duration": 13,
    "start_time": "2023-09-07T12:29:23.505Z"
   },
   {
    "duration": 25,
    "start_time": "2023-09-07T12:29:23.520Z"
   },
   {
    "duration": 19,
    "start_time": "2023-09-07T12:29:23.546Z"
   },
   {
    "duration": 18,
    "start_time": "2023-09-07T12:29:23.567Z"
   },
   {
    "duration": 30,
    "start_time": "2023-09-07T12:29:23.587Z"
   },
   {
    "duration": 22,
    "start_time": "2023-09-07T12:29:23.619Z"
   },
   {
    "duration": 431,
    "start_time": "2023-09-07T12:29:23.644Z"
   },
   {
    "duration": 387,
    "start_time": "2023-09-07T12:29:24.077Z"
   },
   {
    "duration": 15,
    "start_time": "2023-09-07T12:29:24.467Z"
   },
   {
    "duration": 51,
    "start_time": "2023-09-07T12:29:24.484Z"
   },
   {
    "duration": 435,
    "start_time": "2023-09-07T12:29:24.537Z"
   },
   {
    "duration": 530,
    "start_time": "2023-09-07T12:29:24.974Z"
   },
   {
    "duration": 424,
    "start_time": "2023-09-07T12:29:25.506Z"
   },
   {
    "duration": 35,
    "start_time": "2023-09-07T12:29:25.932Z"
   },
   {
    "duration": 8,
    "start_time": "2023-09-07T12:29:25.969Z"
   },
   {
    "duration": 48,
    "start_time": "2023-09-07T12:29:25.979Z"
   },
   {
    "duration": 41,
    "start_time": "2023-09-07T12:29:26.029Z"
   },
   {
    "duration": 27,
    "start_time": "2023-09-07T12:29:26.071Z"
   },
   {
    "duration": 19,
    "start_time": "2023-09-07T12:29:26.099Z"
   },
   {
    "duration": 27,
    "start_time": "2023-09-07T12:29:26.119Z"
   },
   {
    "duration": 23,
    "start_time": "2023-09-07T12:29:26.148Z"
   },
   {
    "duration": 4304,
    "start_time": "2023-09-07T12:29:26.173Z"
   },
   {
    "duration": 280,
    "start_time": "2023-09-07T12:29:30.479Z"
   },
   {
    "duration": 1135,
    "start_time": "2023-09-07T12:29:30.762Z"
   },
   {
    "duration": 7,
    "start_time": "2023-09-07T12:29:31.899Z"
   },
   {
    "duration": 6559,
    "start_time": "2023-09-07T12:29:31.908Z"
   },
   {
    "duration": 240,
    "start_time": "2023-09-07T12:29:38.469Z"
   },
   {
    "duration": 1347,
    "start_time": "2023-09-07T12:29:38.711Z"
   },
   {
    "duration": 4,
    "start_time": "2023-09-07T12:29:40.060Z"
   },
   {
    "duration": 425,
    "start_time": "2023-09-07T12:29:40.066Z"
   },
   {
    "duration": 224,
    "start_time": "2023-09-07T12:29:40.492Z"
   },
   {
    "duration": 6349,
    "start_time": "2023-09-07T12:29:40.718Z"
   },
   {
    "duration": 263,
    "start_time": "2023-09-07T12:29:47.069Z"
   },
   {
    "duration": 1217,
    "start_time": "2023-09-07T12:29:47.333Z"
   },
   {
    "duration": 4,
    "start_time": "2023-09-07T12:29:48.558Z"
   },
   {
    "duration": 8,
    "start_time": "2023-09-07T12:29:48.566Z"
   },
   {
    "duration": 10,
    "start_time": "2023-09-07T12:29:48.576Z"
   },
   {
    "duration": 4484,
    "start_time": "2023-09-07T12:29:48.588Z"
   },
   {
    "duration": 265,
    "start_time": "2023-09-07T12:29:53.074Z"
   },
   {
    "duration": 1140,
    "start_time": "2023-09-07T12:29:53.341Z"
   },
   {
    "duration": 182,
    "start_time": "2023-09-07T13:14:51.503Z"
   },
   {
    "duration": 47,
    "start_time": "2023-09-11T07:00:05.081Z"
   },
   {
    "duration": 10,
    "start_time": "2023-09-11T07:00:49.104Z"
   },
   {
    "duration": 1945,
    "start_time": "2023-09-11T07:10:16.654Z"
   },
   {
    "duration": 84,
    "start_time": "2023-09-11T07:10:18.601Z"
   },
   {
    "duration": 10,
    "start_time": "2023-09-11T07:10:18.686Z"
   },
   {
    "duration": 22,
    "start_time": "2023-09-11T07:10:18.698Z"
   },
   {
    "duration": 12,
    "start_time": "2023-09-11T07:10:18.722Z"
   },
   {
    "duration": 10,
    "start_time": "2023-09-11T07:10:18.735Z"
   },
   {
    "duration": 11,
    "start_time": "2023-09-11T07:10:18.746Z"
   },
   {
    "duration": 20,
    "start_time": "2023-09-11T07:10:18.758Z"
   },
   {
    "duration": 6,
    "start_time": "2023-09-11T07:10:18.780Z"
   },
   {
    "duration": 11,
    "start_time": "2023-09-11T07:10:18.789Z"
   },
   {
    "duration": 17,
    "start_time": "2023-09-11T07:10:18.801Z"
   },
   {
    "duration": 376,
    "start_time": "2023-09-11T07:10:18.820Z"
   },
   {
    "duration": 334,
    "start_time": "2023-09-11T07:10:19.197Z"
   },
   {
    "duration": 18,
    "start_time": "2023-09-11T07:10:19.532Z"
   },
   {
    "duration": 12,
    "start_time": "2023-09-11T07:10:19.551Z"
   },
   {
    "duration": 366,
    "start_time": "2023-09-11T07:10:19.565Z"
   },
   {
    "duration": 423,
    "start_time": "2023-09-11T07:10:19.932Z"
   },
   {
    "duration": 354,
    "start_time": "2023-09-11T07:10:20.357Z"
   },
   {
    "duration": 16,
    "start_time": "2023-09-11T07:10:20.713Z"
   },
   {
    "duration": 28,
    "start_time": "2023-09-11T07:10:20.730Z"
   },
   {
    "duration": 26,
    "start_time": "2023-09-11T07:10:20.760Z"
   },
   {
    "duration": 25,
    "start_time": "2023-09-11T07:10:20.788Z"
   },
   {
    "duration": 3,
    "start_time": "2023-09-11T07:10:20.814Z"
   },
   {
    "duration": 15,
    "start_time": "2023-09-11T07:10:20.819Z"
   },
   {
    "duration": 8,
    "start_time": "2023-09-11T07:10:20.836Z"
   },
   {
    "duration": 7,
    "start_time": "2023-09-11T07:10:20.845Z"
   },
   {
    "duration": 3611,
    "start_time": "2023-09-11T07:10:20.853Z"
   },
   {
    "duration": 221,
    "start_time": "2023-09-11T07:10:24.467Z"
   },
   {
    "duration": 997,
    "start_time": "2023-09-11T07:10:24.690Z"
   },
   {
    "duration": 6,
    "start_time": "2023-09-11T07:10:25.689Z"
   },
   {
    "duration": 5569,
    "start_time": "2023-09-11T07:10:25.696Z"
   },
   {
    "duration": 214,
    "start_time": "2023-09-11T07:10:31.267Z"
   },
   {
    "duration": 1282,
    "start_time": "2023-09-11T07:10:31.482Z"
   },
   {
    "duration": 3,
    "start_time": "2023-09-11T07:10:32.766Z"
   },
   {
    "duration": 17,
    "start_time": "2023-09-11T07:10:32.770Z"
   },
   {
    "duration": 15,
    "start_time": "2023-09-11T07:10:32.789Z"
   },
   {
    "duration": 5359,
    "start_time": "2023-09-11T07:10:32.805Z"
   },
   {
    "duration": 217,
    "start_time": "2023-09-11T07:10:38.166Z"
   },
   {
    "duration": 996,
    "start_time": "2023-09-11T07:10:38.385Z"
   },
   {
    "duration": 4,
    "start_time": "2023-09-11T07:10:39.383Z"
   },
   {
    "duration": 19,
    "start_time": "2023-09-11T07:10:39.388Z"
   },
   {
    "duration": 24,
    "start_time": "2023-09-11T07:10:39.408Z"
   },
   {
    "duration": 3826,
    "start_time": "2023-09-11T07:10:39.433Z"
   },
   {
    "duration": 183,
    "start_time": "2023-09-11T07:10:43.261Z"
   },
   {
    "duration": 977,
    "start_time": "2023-09-11T07:10:43.449Z"
   },
   {
    "duration": 4,
    "start_time": "2023-09-11T07:41:05.223Z"
   },
   {
    "duration": 121,
    "start_time": "2023-09-11T07:55:21.125Z"
   },
   {
    "duration": 4,
    "start_time": "2023-09-11T07:55:27.116Z"
   },
   {
    "duration": 11,
    "start_time": "2023-09-11T07:55:55.369Z"
   },
   {
    "duration": 4,
    "start_time": "2023-09-11T07:56:39.069Z"
   },
   {
    "duration": 117,
    "start_time": "2023-09-11T07:56:39.690Z"
   },
   {
    "duration": 7,
    "start_time": "2023-09-11T07:56:41.367Z"
   },
   {
    "duration": 10,
    "start_time": "2023-09-11T07:56:54.547Z"
   },
   {
    "duration": 4,
    "start_time": "2023-09-11T07:57:24.492Z"
   },
   {
    "duration": 16,
    "start_time": "2023-09-11T07:57:32.253Z"
   },
   {
    "duration": 16,
    "start_time": "2023-09-11T07:57:48.444Z"
   },
   {
    "duration": 6,
    "start_time": "2023-09-11T08:10:33.272Z"
   },
   {
    "duration": 5,
    "start_time": "2023-09-11T08:10:35.038Z"
   },
   {
    "duration": 15,
    "start_time": "2023-09-11T08:10:40.673Z"
   },
   {
    "duration": 15,
    "start_time": "2023-09-11T08:11:00.903Z"
   },
   {
    "duration": 13,
    "start_time": "2023-09-11T08:15:10.466Z"
   },
   {
    "duration": 14,
    "start_time": "2023-09-11T08:15:24.443Z"
   },
   {
    "duration": 14,
    "start_time": "2023-09-11T08:16:23.010Z"
   },
   {
    "duration": 14,
    "start_time": "2023-09-11T08:17:32.877Z"
   },
   {
    "duration": 5,
    "start_time": "2023-09-11T08:18:32.596Z"
   },
   {
    "duration": 14,
    "start_time": "2023-09-11T08:18:33.319Z"
   },
   {
    "duration": 3,
    "start_time": "2023-09-11T08:18:36.843Z"
   },
   {
    "duration": 5,
    "start_time": "2023-09-11T08:18:38.545Z"
   },
   {
    "duration": 4,
    "start_time": "2023-09-11T08:18:39.221Z"
   },
   {
    "duration": 13,
    "start_time": "2023-09-11T08:18:42.745Z"
   },
   {
    "duration": 4,
    "start_time": "2023-09-11T08:21:50.543Z"
   },
   {
    "duration": 5,
    "start_time": "2023-09-11T08:21:51.019Z"
   },
   {
    "duration": 4,
    "start_time": "2023-09-11T08:21:51.468Z"
   },
   {
    "duration": 14,
    "start_time": "2023-09-11T08:21:52.178Z"
   },
   {
    "duration": 16,
    "start_time": "2023-09-11T08:22:25.944Z"
   },
   {
    "duration": 4,
    "start_time": "2023-09-11T08:35:29.546Z"
   },
   {
    "duration": 5,
    "start_time": "2023-09-11T08:35:30.035Z"
   },
   {
    "duration": 11,
    "start_time": "2023-09-11T08:35:30.515Z"
   },
   {
    "duration": 11,
    "start_time": "2023-09-11T08:36:10.224Z"
   },
   {
    "duration": 11,
    "start_time": "2023-09-11T08:36:23.459Z"
   },
   {
    "duration": 14,
    "start_time": "2023-09-11T08:37:46.056Z"
   },
   {
    "duration": 11,
    "start_time": "2023-09-11T08:38:13.101Z"
   },
   {
    "duration": 85,
    "start_time": "2023-09-11T08:38:43.602Z"
   },
   {
    "duration": 3520,
    "start_time": "2023-09-11T08:38:52.650Z"
   },
   {
    "duration": 86,
    "start_time": "2023-09-11T08:38:59.008Z"
   },
   {
    "duration": 5,
    "start_time": "2023-09-11T08:39:40.483Z"
   },
   {
    "duration": 8,
    "start_time": "2023-09-11T08:39:40.951Z"
   },
   {
    "duration": 23,
    "start_time": "2023-09-11T08:39:41.608Z"
   },
   {
    "duration": 80,
    "start_time": "2023-09-11T08:39:50.702Z"
   },
   {
    "duration": 84,
    "start_time": "2023-09-11T08:40:57.131Z"
   },
   {
    "duration": 18,
    "start_time": "2023-09-11T08:41:29.948Z"
   },
   {
    "duration": 6,
    "start_time": "2023-09-11T08:44:18.230Z"
   },
   {
    "duration": 15,
    "start_time": "2023-09-11T08:44:21.359Z"
   },
   {
    "duration": 108445,
    "start_time": "2023-09-11T08:44:35.936Z"
   },
   {
    "duration": 3,
    "start_time": "2023-09-11T08:52:15.145Z"
   },
   {
    "duration": 5,
    "start_time": "2023-09-11T08:52:15.603Z"
   },
   {
    "duration": 15,
    "start_time": "2023-09-11T08:52:16.242Z"
   },
   {
    "duration": 4,
    "start_time": "2023-09-11T08:52:43.569Z"
   },
   {
    "duration": 3,
    "start_time": "2023-09-11T08:53:32.115Z"
   },
   {
    "duration": 1669,
    "start_time": "2023-09-11T08:54:33.133Z"
   },
   {
    "duration": 6,
    "start_time": "2023-09-11T08:54:53.888Z"
   },
   {
    "duration": 28,
    "start_time": "2023-09-11T08:57:06.233Z"
   },
   {
    "duration": 8,
    "start_time": "2023-09-11T08:57:23.098Z"
   },
   {
    "duration": 6,
    "start_time": "2023-09-11T08:57:23.587Z"
   },
   {
    "duration": 7,
    "start_time": "2023-09-11T08:57:24.084Z"
   },
   {
    "duration": 4,
    "start_time": "2023-09-11T08:57:24.622Z"
   },
   {
    "duration": 7,
    "start_time": "2023-09-11T08:57:26.150Z"
   },
   {
    "duration": 22,
    "start_time": "2023-09-11T08:58:01.543Z"
   },
   {
    "duration": 45,
    "start_time": "2023-09-11T08:58:12.116Z"
   },
   {
    "duration": 47,
    "start_time": "2023-09-11T08:58:30.377Z"
   },
   {
    "duration": 4,
    "start_time": "2023-09-11T09:00:40.006Z"
   },
   {
    "duration": 10,
    "start_time": "2023-09-11T09:00:40.524Z"
   },
   {
    "duration": 6,
    "start_time": "2023-09-11T09:00:41.131Z"
   },
   {
    "duration": 26,
    "start_time": "2023-09-11T09:00:42.420Z"
   },
   {
    "duration": 93,
    "start_time": "2023-09-11T09:00:50.876Z"
   },
   {
    "duration": 4676,
    "start_time": "2023-09-11T12:23:00.039Z"
   },
   {
    "duration": 2742,
    "start_time": "2023-09-11T12:23:08.190Z"
   },
   {
    "duration": 3008,
    "start_time": "2023-09-11T12:23:10.934Z"
   },
   {
    "duration": 88,
    "start_time": "2023-09-11T12:23:13.944Z"
   },
   {
    "duration": 12,
    "start_time": "2023-09-11T12:23:14.034Z"
   },
   {
    "duration": 22,
    "start_time": "2023-09-11T12:23:14.048Z"
   },
   {
    "duration": 20,
    "start_time": "2023-09-11T12:23:14.072Z"
   },
   {
    "duration": 18,
    "start_time": "2023-09-11T12:23:14.094Z"
   },
   {
    "duration": 16,
    "start_time": "2023-09-11T12:23:14.114Z"
   },
   {
    "duration": 23,
    "start_time": "2023-09-11T12:23:14.132Z"
   },
   {
    "duration": 22,
    "start_time": "2023-09-11T12:23:14.159Z"
   },
   {
    "duration": 38,
    "start_time": "2023-09-11T12:23:14.183Z"
   },
   {
    "duration": 50,
    "start_time": "2023-09-11T12:23:14.223Z"
   },
   {
    "duration": 495,
    "start_time": "2023-09-11T12:23:14.275Z"
   },
   {
    "duration": 450,
    "start_time": "2023-09-11T12:23:14.771Z"
   },
   {
    "duration": 16,
    "start_time": "2023-09-11T12:23:15.223Z"
   },
   {
    "duration": 35,
    "start_time": "2023-09-11T12:23:15.241Z"
   },
   {
    "duration": 561,
    "start_time": "2023-09-11T12:23:15.279Z"
   },
   {
    "duration": 386,
    "start_time": "2023-09-11T12:23:15.842Z"
   },
   {
    "duration": 438,
    "start_time": "2023-09-11T12:23:16.230Z"
   },
   {
    "duration": 31,
    "start_time": "2023-09-11T12:23:16.670Z"
   },
   {
    "duration": 21,
    "start_time": "2023-09-11T12:23:16.703Z"
   },
   {
    "duration": 40,
    "start_time": "2023-09-11T12:23:16.726Z"
   },
   {
    "duration": 18,
    "start_time": "2023-09-11T12:23:16.769Z"
   },
   {
    "duration": 27,
    "start_time": "2023-09-11T12:23:16.788Z"
   },
   {
    "duration": 9,
    "start_time": "2023-09-11T12:23:16.817Z"
   },
   {
    "duration": 36,
    "start_time": "2023-09-11T12:23:16.827Z"
   },
   {
    "duration": 27,
    "start_time": "2023-09-11T12:23:16.865Z"
   },
   {
    "duration": 4126,
    "start_time": "2023-09-11T12:23:16.895Z"
   },
   {
    "duration": 271,
    "start_time": "2023-09-11T12:23:21.022Z"
   },
   {
    "duration": 1225,
    "start_time": "2023-09-11T12:23:21.295Z"
   },
   {
    "duration": 7,
    "start_time": "2023-09-11T12:23:22.522Z"
   },
   {
    "duration": 6682,
    "start_time": "2023-09-11T12:23:22.531Z"
   },
   {
    "duration": 266,
    "start_time": "2023-09-11T12:23:29.215Z"
   },
   {
    "duration": 1320,
    "start_time": "2023-09-11T12:23:29.483Z"
   },
   {
    "duration": 4,
    "start_time": "2023-09-11T12:23:30.804Z"
   },
   {
    "duration": 179,
    "start_time": "2023-09-11T12:23:30.810Z"
   },
   {
    "duration": 121,
    "start_time": "2023-09-11T12:23:30.991Z"
   },
   {
    "duration": 6892,
    "start_time": "2023-09-11T12:23:31.114Z"
   },
   {
    "duration": 277,
    "start_time": "2023-09-11T12:23:38.008Z"
   },
   {
    "duration": 1314,
    "start_time": "2023-09-11T12:23:38.287Z"
   },
   {
    "duration": 5,
    "start_time": "2023-09-11T12:23:39.603Z"
   },
   {
    "duration": 178,
    "start_time": "2023-09-11T12:23:39.611Z"
   },
   {
    "duration": 35,
    "start_time": "2023-09-11T12:23:39.791Z"
   },
   {
    "duration": 4891,
    "start_time": "2023-09-11T12:23:39.827Z"
   },
   {
    "duration": 276,
    "start_time": "2023-09-11T12:23:44.720Z"
   },
   {
    "duration": 1337,
    "start_time": "2023-09-11T12:23:45.001Z"
   },
   {
    "duration": 5,
    "start_time": "2023-09-11T12:23:46.340Z"
   },
   {
    "duration": 32,
    "start_time": "2023-09-11T12:23:46.346Z"
   },
   {
    "duration": 46,
    "start_time": "2023-09-11T12:23:46.380Z"
   },
   {
    "duration": 164,
    "start_time": "2023-09-11T12:23:46.427Z"
   },
   {
    "duration": 0,
    "start_time": "2023-09-11T12:23:46.592Z"
   },
   {
    "duration": 0,
    "start_time": "2023-09-11T12:23:46.593Z"
   },
   {
    "duration": 19,
    "start_time": "2023-09-11T12:24:12.402Z"
   },
   {
    "duration": 244,
    "start_time": "2023-09-11T12:50:03.162Z"
   },
   {
    "duration": 4,
    "start_time": "2023-09-11T12:53:09.313Z"
   },
   {
    "duration": 87,
    "start_time": "2023-09-11T12:53:11.693Z"
   },
   {
    "duration": 88,
    "start_time": "2023-09-11T12:54:23.229Z"
   },
   {
    "duration": 95,
    "start_time": "2023-09-11T12:54:31.334Z"
   },
   {
    "duration": 18,
    "start_time": "2023-09-11T12:56:30.193Z"
   },
   {
    "duration": 16,
    "start_time": "2023-09-11T12:57:48.213Z"
   },
   {
    "duration": 4,
    "start_time": "2023-09-11T12:58:24.037Z"
   },
   {
    "duration": 2028,
    "start_time": "2023-09-11T12:58:31.390Z"
   },
   {
    "duration": 99,
    "start_time": "2023-09-11T12:59:07.819Z"
   },
   {
    "duration": 6,
    "start_time": "2023-09-11T13:00:44.873Z"
   },
   {
    "duration": 1974,
    "start_time": "2023-09-11T13:01:27.271Z"
   },
   {
    "duration": 97,
    "start_time": "2023-09-11T13:02:38.774Z"
   },
   {
    "duration": 89,
    "start_time": "2023-09-11T13:03:10.876Z"
   },
   {
    "duration": 1877,
    "start_time": "2023-09-11T13:04:36.258Z"
   },
   {
    "duration": 38,
    "start_time": "2023-09-11T13:05:05.590Z"
   },
   {
    "duration": 146,
    "start_time": "2023-09-11T13:05:44.450Z"
   },
   {
    "duration": 80,
    "start_time": "2023-09-11T13:05:57.037Z"
   },
   {
    "duration": 42,
    "start_time": "2023-09-11T13:06:31.813Z"
   },
   {
    "duration": 1914,
    "start_time": "2023-09-11T13:16:58.317Z"
   },
   {
    "duration": 79,
    "start_time": "2023-09-11T13:17:36.745Z"
   },
   {
    "duration": 31,
    "start_time": "2023-09-11T13:18:44.235Z"
   },
   {
    "duration": 26,
    "start_time": "2023-09-11T13:18:51.146Z"
   },
   {
    "duration": 32,
    "start_time": "2023-09-11T13:18:54.761Z"
   },
   {
    "duration": 2841,
    "start_time": "2023-09-11T13:19:18.348Z"
   },
   {
    "duration": 2454,
    "start_time": "2023-09-11T13:19:21.192Z"
   },
   {
    "duration": 43,
    "start_time": "2023-09-11T13:19:23.648Z"
   },
   {
    "duration": 12,
    "start_time": "2023-09-11T13:19:23.694Z"
   },
   {
    "duration": 63,
    "start_time": "2023-09-11T13:19:23.707Z"
   },
   {
    "duration": 37,
    "start_time": "2023-09-11T13:19:23.772Z"
   },
   {
    "duration": 33,
    "start_time": "2023-09-11T13:19:23.811Z"
   },
   {
    "duration": 32,
    "start_time": "2023-09-11T13:19:23.846Z"
   },
   {
    "duration": 44,
    "start_time": "2023-09-11T13:19:23.879Z"
   },
   {
    "duration": 29,
    "start_time": "2023-09-11T13:19:23.926Z"
   },
   {
    "duration": 30,
    "start_time": "2023-09-11T13:19:23.957Z"
   },
   {
    "duration": 41,
    "start_time": "2023-09-11T13:19:23.989Z"
   },
   {
    "duration": 455,
    "start_time": "2023-09-11T13:19:24.032Z"
   },
   {
    "duration": 493,
    "start_time": "2023-09-11T13:19:24.489Z"
   },
   {
    "duration": 27,
    "start_time": "2023-09-11T13:19:24.984Z"
   },
   {
    "duration": 15,
    "start_time": "2023-09-11T13:19:25.013Z"
   },
   {
    "duration": 553,
    "start_time": "2023-09-11T13:19:25.029Z"
   },
   {
    "duration": 377,
    "start_time": "2023-09-11T13:19:25.584Z"
   },
   {
    "duration": 387,
    "start_time": "2023-09-11T13:19:25.963Z"
   },
   {
    "duration": 19,
    "start_time": "2023-09-11T13:19:26.352Z"
   },
   {
    "duration": 50,
    "start_time": "2023-09-11T13:19:26.373Z"
   },
   {
    "duration": 67,
    "start_time": "2023-09-11T13:19:26.425Z"
   },
   {
    "duration": 62,
    "start_time": "2023-09-11T13:19:26.494Z"
   },
   {
    "duration": 30,
    "start_time": "2023-09-11T13:19:26.558Z"
   },
   {
    "duration": 53,
    "start_time": "2023-09-11T13:19:26.590Z"
   },
   {
    "duration": 89,
    "start_time": "2023-09-11T13:19:26.645Z"
   },
   {
    "duration": 33,
    "start_time": "2023-09-11T13:19:26.736Z"
   },
   {
    "duration": 4339,
    "start_time": "2023-09-11T13:19:26.773Z"
   },
   {
    "duration": 249,
    "start_time": "2023-09-11T13:19:31.114Z"
   },
   {
    "duration": 1227,
    "start_time": "2023-09-11T13:19:31.365Z"
   },
   {
    "duration": 7,
    "start_time": "2023-09-11T13:19:32.601Z"
   },
   {
    "duration": 6792,
    "start_time": "2023-09-11T13:19:32.609Z"
   },
   {
    "duration": 208,
    "start_time": "2023-09-11T13:19:39.403Z"
   },
   {
    "duration": 1290,
    "start_time": "2023-09-11T13:19:39.613Z"
   },
   {
    "duration": 5,
    "start_time": "2023-09-11T13:19:40.905Z"
   },
   {
    "duration": 29,
    "start_time": "2023-09-11T13:19:40.911Z"
   },
   {
    "duration": 46,
    "start_time": "2023-09-11T13:19:40.941Z"
   },
   {
    "duration": 6424,
    "start_time": "2023-09-11T13:19:40.989Z"
   },
   {
    "duration": 249,
    "start_time": "2023-09-11T13:19:47.415Z"
   },
   {
    "duration": 1221,
    "start_time": "2023-09-11T13:19:47.666Z"
   },
   {
    "duration": 12,
    "start_time": "2023-09-11T13:19:48.889Z"
   },
   {
    "duration": 6,
    "start_time": "2023-09-11T13:19:48.903Z"
   },
   {
    "duration": 16,
    "start_time": "2023-09-11T13:19:48.911Z"
   },
   {
    "duration": 4791,
    "start_time": "2023-09-11T13:19:48.929Z"
   },
   {
    "duration": 259,
    "start_time": "2023-09-11T13:19:53.722Z"
   },
   {
    "duration": 1423,
    "start_time": "2023-09-11T13:19:53.983Z"
   },
   {
    "duration": 163,
    "start_time": "2023-09-11T13:19:55.408Z"
   },
   {
    "duration": 0,
    "start_time": "2023-09-11T13:19:55.573Z"
   },
   {
    "duration": 0,
    "start_time": "2023-09-11T13:19:55.575Z"
   },
   {
    "duration": 0,
    "start_time": "2023-09-11T13:19:55.577Z"
   },
   {
    "duration": 0,
    "start_time": "2023-09-11T13:19:55.579Z"
   },
   {
    "duration": 0,
    "start_time": "2023-09-11T13:19:55.581Z"
   },
   {
    "duration": 0,
    "start_time": "2023-09-11T13:19:55.601Z"
   },
   {
    "duration": 0,
    "start_time": "2023-09-11T13:19:55.604Z"
   },
   {
    "duration": 0,
    "start_time": "2023-09-11T13:19:55.605Z"
   },
   {
    "duration": 12,
    "start_time": "2023-09-11T13:25:03.278Z"
   },
   {
    "duration": 4,
    "start_time": "2023-09-11T13:25:20.299Z"
   },
   {
    "duration": 5,
    "start_time": "2023-09-11T13:25:38.065Z"
   },
   {
    "duration": 29,
    "start_time": "2023-09-11T13:25:45.333Z"
   },
   {
    "duration": 30,
    "start_time": "2023-09-11T13:26:12.027Z"
   },
   {
    "duration": 5037,
    "start_time": "2023-09-11T13:26:35.470Z"
   },
   {
    "duration": 30,
    "start_time": "2023-09-11T13:26:51.447Z"
   },
   {
    "duration": 30,
    "start_time": "2023-09-11T13:26:59.278Z"
   },
   {
    "duration": 4768,
    "start_time": "2023-09-11T13:27:05.556Z"
   },
   {
    "duration": 5,
    "start_time": "2023-09-11T13:31:59.983Z"
   },
   {
    "duration": 7,
    "start_time": "2023-09-11T13:32:00.514Z"
   },
   {
    "duration": 5,
    "start_time": "2023-09-11T13:32:01.414Z"
   },
   {
    "duration": 4756,
    "start_time": "2023-09-11T13:32:02.351Z"
   },
   {
    "duration": 185,
    "start_time": "2023-09-11T13:32:09.151Z"
   },
   {
    "duration": 1197,
    "start_time": "2023-09-11T13:32:11.969Z"
   },
   {
    "duration": 2719,
    "start_time": "2023-09-11T13:32:19.021Z"
   },
   {
    "duration": 1978,
    "start_time": "2023-09-11T13:32:21.744Z"
   },
   {
    "duration": 43,
    "start_time": "2023-09-11T13:32:23.723Z"
   },
   {
    "duration": 10,
    "start_time": "2023-09-11T13:32:23.768Z"
   },
   {
    "duration": 56,
    "start_time": "2023-09-11T13:32:23.781Z"
   },
   {
    "duration": 71,
    "start_time": "2023-09-11T13:32:23.839Z"
   },
   {
    "duration": 47,
    "start_time": "2023-09-11T13:32:23.912Z"
   },
   {
    "duration": 24,
    "start_time": "2023-09-11T13:32:23.961Z"
   },
   {
    "duration": 21,
    "start_time": "2023-09-11T13:32:23.987Z"
   },
   {
    "duration": 77,
    "start_time": "2023-09-11T13:32:24.010Z"
   },
   {
    "duration": 168,
    "start_time": "2023-09-11T13:32:24.089Z"
   },
   {
    "duration": 226,
    "start_time": "2023-09-11T13:32:24.259Z"
   },
   {
    "duration": 498,
    "start_time": "2023-09-11T13:32:24.486Z"
   },
   {
    "duration": 396,
    "start_time": "2023-09-11T13:32:24.987Z"
   },
   {
    "duration": 17,
    "start_time": "2023-09-11T13:32:25.385Z"
   },
   {
    "duration": 250,
    "start_time": "2023-09-11T13:32:25.404Z"
   },
   {
    "duration": 523,
    "start_time": "2023-09-11T13:32:25.656Z"
   },
   {
    "duration": 396,
    "start_time": "2023-09-11T13:32:26.180Z"
   },
   {
    "duration": 384,
    "start_time": "2023-09-11T13:32:26.578Z"
   },
   {
    "duration": 19,
    "start_time": "2023-09-11T13:32:26.964Z"
   },
   {
    "duration": 116,
    "start_time": "2023-09-11T13:32:26.985Z"
   },
   {
    "duration": 68,
    "start_time": "2023-09-11T13:32:27.102Z"
   },
   {
    "duration": 50,
    "start_time": "2023-09-11T13:32:27.171Z"
   },
   {
    "duration": 55,
    "start_time": "2023-09-11T13:32:27.223Z"
   },
   {
    "duration": 35,
    "start_time": "2023-09-11T13:32:27.280Z"
   },
   {
    "duration": 68,
    "start_time": "2023-09-11T13:32:27.317Z"
   },
   {
    "duration": 27,
    "start_time": "2023-09-11T13:32:27.387Z"
   },
   {
    "duration": 4385,
    "start_time": "2023-09-11T13:32:27.417Z"
   },
   {
    "duration": 205,
    "start_time": "2023-09-11T13:32:31.803Z"
   },
   {
    "duration": 1227,
    "start_time": "2023-09-11T13:32:32.010Z"
   },
   {
    "duration": 7,
    "start_time": "2023-09-11T13:32:33.239Z"
   },
   {
    "duration": 6953,
    "start_time": "2023-09-11T13:32:33.247Z"
   },
   {
    "duration": 215,
    "start_time": "2023-09-11T13:32:40.203Z"
   },
   {
    "duration": 1348,
    "start_time": "2023-09-11T13:32:40.420Z"
   },
   {
    "duration": 5,
    "start_time": "2023-09-11T13:32:41.769Z"
   },
   {
    "duration": 11,
    "start_time": "2023-09-11T13:32:41.776Z"
   },
   {
    "duration": 18,
    "start_time": "2023-09-11T13:32:41.789Z"
   },
   {
    "duration": 6208,
    "start_time": "2023-09-11T13:32:41.808Z"
   },
   {
    "duration": 329,
    "start_time": "2023-09-11T13:32:48.018Z"
   },
   {
    "duration": 1228,
    "start_time": "2023-09-11T13:32:48.349Z"
   },
   {
    "duration": 5,
    "start_time": "2023-09-11T13:32:49.581Z"
   },
   {
    "duration": 17,
    "start_time": "2023-09-11T13:32:49.587Z"
   },
   {
    "duration": 97,
    "start_time": "2023-09-11T13:32:49.606Z"
   },
   {
    "duration": 4598,
    "start_time": "2023-09-11T13:32:49.704Z"
   },
   {
    "duration": 201,
    "start_time": "2023-09-11T13:32:54.305Z"
   },
   {
    "duration": 1376,
    "start_time": "2023-09-11T13:32:54.508Z"
   },
   {
    "duration": 5,
    "start_time": "2023-09-11T13:32:55.886Z"
   },
   {
    "duration": 4916,
    "start_time": "2023-09-11T13:32:55.902Z"
   },
   {
    "duration": 4,
    "start_time": "2023-09-11T13:33:00.819Z"
   },
   {
    "duration": 91,
    "start_time": "2023-09-11T13:33:00.825Z"
   },
   {
    "duration": 48,
    "start_time": "2023-09-11T13:33:00.918Z"
   },
   {
    "duration": 4652,
    "start_time": "2023-09-11T13:33:00.968Z"
   },
   {
    "duration": 257,
    "start_time": "2023-09-11T13:33:05.622Z"
   },
   {
    "duration": 1249,
    "start_time": "2023-09-11T13:33:05.880Z"
   },
   {
    "duration": 3442,
    "start_time": "2023-09-12T07:55:47.386Z"
   },
   {
    "duration": 2164,
    "start_time": "2023-09-12T07:55:50.829Z"
   },
   {
    "duration": 84,
    "start_time": "2023-09-12T07:55:52.995Z"
   },
   {
    "duration": 9,
    "start_time": "2023-09-12T07:55:53.081Z"
   },
   {
    "duration": 21,
    "start_time": "2023-09-12T07:55:53.091Z"
   },
   {
    "duration": 12,
    "start_time": "2023-09-12T07:55:53.114Z"
   },
   {
    "duration": 12,
    "start_time": "2023-09-12T07:55:53.128Z"
   },
   {
    "duration": 16,
    "start_time": "2023-09-12T07:55:53.142Z"
   },
   {
    "duration": 19,
    "start_time": "2023-09-12T07:55:53.159Z"
   },
   {
    "duration": 12,
    "start_time": "2023-09-12T07:55:53.180Z"
   },
   {
    "duration": 17,
    "start_time": "2023-09-12T07:55:53.194Z"
   },
   {
    "duration": 22,
    "start_time": "2023-09-12T07:55:53.212Z"
   },
   {
    "duration": 333,
    "start_time": "2023-09-12T07:55:53.235Z"
   },
   {
    "duration": 306,
    "start_time": "2023-09-12T07:55:53.569Z"
   },
   {
    "duration": 11,
    "start_time": "2023-09-12T07:55:53.876Z"
   },
   {
    "duration": 18,
    "start_time": "2023-09-12T07:55:53.889Z"
   },
   {
    "duration": 414,
    "start_time": "2023-09-12T07:55:53.909Z"
   },
   {
    "duration": 319,
    "start_time": "2023-09-12T07:55:54.325Z"
   },
   {
    "duration": 377,
    "start_time": "2023-09-12T07:55:54.645Z"
   },
   {
    "duration": 16,
    "start_time": "2023-09-12T07:55:55.024Z"
   },
   {
    "duration": 10,
    "start_time": "2023-09-12T07:55:55.049Z"
   },
   {
    "duration": 32,
    "start_time": "2023-09-12T07:55:55.060Z"
   },
   {
    "duration": 32,
    "start_time": "2023-09-12T07:55:55.093Z"
   },
   {
    "duration": 12,
    "start_time": "2023-09-12T07:55:55.127Z"
   },
   {
    "duration": 21,
    "start_time": "2023-09-12T07:55:55.140Z"
   },
   {
    "duration": 13,
    "start_time": "2023-09-12T07:55:55.162Z"
   },
   {
    "duration": 29,
    "start_time": "2023-09-12T07:55:55.176Z"
   },
   {
    "duration": 3562,
    "start_time": "2023-09-12T07:55:55.207Z"
   },
   {
    "duration": 232,
    "start_time": "2023-09-12T07:55:58.771Z"
   },
   {
    "duration": 963,
    "start_time": "2023-09-12T07:55:59.004Z"
   },
   {
    "duration": 7,
    "start_time": "2023-09-12T07:55:59.968Z"
   },
   {
    "duration": 5787,
    "start_time": "2023-09-12T07:55:59.976Z"
   },
   {
    "duration": 246,
    "start_time": "2023-09-12T07:56:05.765Z"
   },
   {
    "duration": 1138,
    "start_time": "2023-09-12T07:56:06.014Z"
   },
   {
    "duration": 4,
    "start_time": "2023-09-12T07:56:07.153Z"
   },
   {
    "duration": 7,
    "start_time": "2023-09-12T07:56:07.158Z"
   },
   {
    "duration": 23,
    "start_time": "2023-09-12T07:56:07.167Z"
   },
   {
    "duration": 5965,
    "start_time": "2023-09-12T07:56:07.191Z"
   },
   {
    "duration": 199,
    "start_time": "2023-09-12T07:56:13.158Z"
   },
   {
    "duration": 344,
    "start_time": "2023-09-12T07:56:13.359Z"
   },
   {
    "duration": 0,
    "start_time": "2023-09-12T07:56:13.704Z"
   },
   {
    "duration": 0,
    "start_time": "2023-09-12T07:56:13.706Z"
   },
   {
    "duration": 0,
    "start_time": "2023-09-12T07:56:13.707Z"
   },
   {
    "duration": 0,
    "start_time": "2023-09-12T07:56:13.708Z"
   },
   {
    "duration": 0,
    "start_time": "2023-09-12T07:56:13.709Z"
   },
   {
    "duration": 0,
    "start_time": "2023-09-12T07:56:13.711Z"
   },
   {
    "duration": 0,
    "start_time": "2023-09-12T07:56:13.712Z"
   },
   {
    "duration": 0,
    "start_time": "2023-09-12T07:56:13.713Z"
   },
   {
    "duration": 0,
    "start_time": "2023-09-12T07:56:13.714Z"
   },
   {
    "duration": 0,
    "start_time": "2023-09-12T07:56:13.716Z"
   },
   {
    "duration": 0,
    "start_time": "2023-09-12T07:56:13.717Z"
   },
   {
    "duration": 0,
    "start_time": "2023-09-12T07:56:13.718Z"
   },
   {
    "duration": 0,
    "start_time": "2023-09-12T07:56:13.719Z"
   },
   {
    "duration": 0,
    "start_time": "2023-09-12T07:56:13.720Z"
   },
   {
    "duration": 199,
    "start_time": "2023-09-12T07:59:48.888Z"
   },
   {
    "duration": 2437,
    "start_time": "2023-09-12T08:00:15.119Z"
   },
   {
    "duration": 1876,
    "start_time": "2023-09-12T08:00:17.558Z"
   },
   {
    "duration": 41,
    "start_time": "2023-09-12T08:00:19.438Z"
   },
   {
    "duration": 11,
    "start_time": "2023-09-12T08:00:19.481Z"
   },
   {
    "duration": 36,
    "start_time": "2023-09-12T08:00:19.493Z"
   },
   {
    "duration": 18,
    "start_time": "2023-09-12T08:00:19.531Z"
   },
   {
    "duration": 12,
    "start_time": "2023-09-12T08:00:19.551Z"
   },
   {
    "duration": 23,
    "start_time": "2023-09-12T08:00:19.564Z"
   },
   {
    "duration": 21,
    "start_time": "2023-09-12T08:00:19.590Z"
   },
   {
    "duration": 13,
    "start_time": "2023-09-12T08:00:19.613Z"
   },
   {
    "duration": 29,
    "start_time": "2023-09-12T08:00:19.628Z"
   },
   {
    "duration": 19,
    "start_time": "2023-09-12T08:00:19.659Z"
   },
   {
    "duration": 357,
    "start_time": "2023-09-12T08:00:19.680Z"
   },
   {
    "duration": 334,
    "start_time": "2023-09-12T08:00:20.038Z"
   },
   {
    "duration": 13,
    "start_time": "2023-09-12T08:00:20.374Z"
   },
   {
    "duration": 44,
    "start_time": "2023-09-12T08:00:20.388Z"
   },
   {
    "duration": 496,
    "start_time": "2023-09-12T08:00:20.434Z"
   },
   {
    "duration": 338,
    "start_time": "2023-09-12T08:00:20.931Z"
   },
   {
    "duration": 324,
    "start_time": "2023-09-12T08:00:21.270Z"
   },
   {
    "duration": 17,
    "start_time": "2023-09-12T08:00:21.596Z"
   },
   {
    "duration": 11,
    "start_time": "2023-09-12T08:00:21.615Z"
   },
   {
    "duration": 27,
    "start_time": "2023-09-12T08:00:21.628Z"
   },
   {
    "duration": 13,
    "start_time": "2023-09-12T08:00:21.656Z"
   },
   {
    "duration": 6,
    "start_time": "2023-09-12T08:00:21.670Z"
   },
   {
    "duration": 19,
    "start_time": "2023-09-12T08:00:21.677Z"
   },
   {
    "duration": 15,
    "start_time": "2023-09-12T08:00:21.697Z"
   },
   {
    "duration": 7,
    "start_time": "2023-09-12T08:00:21.715Z"
   },
   {
    "duration": 3640,
    "start_time": "2023-09-12T08:00:21.724Z"
   },
   {
    "duration": 231,
    "start_time": "2023-09-12T08:00:25.366Z"
   },
   {
    "duration": 1156,
    "start_time": "2023-09-12T08:00:25.598Z"
   },
   {
    "duration": 6,
    "start_time": "2023-09-12T08:00:26.756Z"
   },
   {
    "duration": 5989,
    "start_time": "2023-09-12T08:00:26.763Z"
   },
   {
    "duration": 198,
    "start_time": "2023-09-12T08:00:32.753Z"
   },
   {
    "duration": 1109,
    "start_time": "2023-09-12T08:00:32.953Z"
   },
   {
    "duration": 3,
    "start_time": "2023-09-12T08:00:34.064Z"
   },
   {
    "duration": 20,
    "start_time": "2023-09-12T08:00:34.069Z"
   },
   {
    "duration": 14,
    "start_time": "2023-09-12T08:00:34.091Z"
   },
   {
    "duration": 5451,
    "start_time": "2023-09-12T08:00:34.106Z"
   },
   {
    "duration": 209,
    "start_time": "2023-09-12T08:00:39.559Z"
   },
   {
    "duration": 349,
    "start_time": "2023-09-12T08:00:39.770Z"
   },
   {
    "duration": 0,
    "start_time": "2023-09-12T08:00:40.121Z"
   },
   {
    "duration": 0,
    "start_time": "2023-09-12T08:00:40.122Z"
   },
   {
    "duration": 0,
    "start_time": "2023-09-12T08:00:40.124Z"
   },
   {
    "duration": 0,
    "start_time": "2023-09-12T08:00:40.125Z"
   },
   {
    "duration": 0,
    "start_time": "2023-09-12T08:00:40.126Z"
   },
   {
    "duration": 0,
    "start_time": "2023-09-12T08:00:40.128Z"
   },
   {
    "duration": 0,
    "start_time": "2023-09-12T08:00:40.129Z"
   },
   {
    "duration": 0,
    "start_time": "2023-09-12T08:00:40.130Z"
   },
   {
    "duration": 0,
    "start_time": "2023-09-12T08:00:40.131Z"
   },
   {
    "duration": 0,
    "start_time": "2023-09-12T08:00:40.132Z"
   },
   {
    "duration": 0,
    "start_time": "2023-09-12T08:00:40.149Z"
   },
   {
    "duration": 0,
    "start_time": "2023-09-12T08:00:40.151Z"
   },
   {
    "duration": 0,
    "start_time": "2023-09-12T08:00:40.153Z"
   },
   {
    "duration": 0,
    "start_time": "2023-09-12T08:00:40.154Z"
   },
   {
    "duration": 5935,
    "start_time": "2023-09-12T08:01:12.216Z"
   },
   {
    "duration": 175,
    "start_time": "2023-09-12T08:01:21.043Z"
   },
   {
    "duration": 205,
    "start_time": "2023-09-12T08:01:25.412Z"
   },
   {
    "duration": 6,
    "start_time": "2023-09-12T08:01:45.865Z"
   },
   {
    "duration": 6,
    "start_time": "2023-09-12T08:01:47.160Z"
   },
   {
    "duration": 5634,
    "start_time": "2023-09-12T08:01:48.316Z"
   },
   {
    "duration": 166,
    "start_time": "2023-09-12T08:01:56.495Z"
   },
   {
    "duration": 1142,
    "start_time": "2023-09-12T08:01:58.886Z"
   },
   {
    "duration": 4,
    "start_time": "2023-09-12T08:02:14.492Z"
   },
   {
    "duration": 5,
    "start_time": "2023-09-12T08:02:15.165Z"
   },
   {
    "duration": 5,
    "start_time": "2023-09-12T08:02:16.002Z"
   },
   {
    "duration": 4396,
    "start_time": "2023-09-12T08:02:28.180Z"
   },
   {
    "duration": 191,
    "start_time": "2023-09-12T08:02:35.986Z"
   },
   {
    "duration": 991,
    "start_time": "2023-09-12T08:02:37.204Z"
   },
   {
    "duration": 5,
    "start_time": "2023-09-12T08:02:41.138Z"
   },
   {
    "duration": 4213,
    "start_time": "2023-09-12T08:02:42.546Z"
   },
   {
    "duration": 4,
    "start_time": "2023-09-12T08:02:54.166Z"
   },
   {
    "duration": 5,
    "start_time": "2023-09-12T08:03:22.571Z"
   },
   {
    "duration": 11,
    "start_time": "2023-09-12T08:03:28.325Z"
   },
   {
    "duration": 11,
    "start_time": "2023-09-12T08:03:57.409Z"
   },
   {
    "duration": 11,
    "start_time": "2023-09-12T08:04:13.569Z"
   },
   {
    "duration": 4,
    "start_time": "2023-09-12T08:05:32.270Z"
   },
   {
    "duration": 88,
    "start_time": "2023-09-12T08:05:33.792Z"
   },
   {
    "duration": 11,
    "start_time": "2023-09-12T08:05:50.147Z"
   },
   {
    "duration": 4,
    "start_time": "2023-09-12T08:05:57.067Z"
   },
   {
    "duration": 79,
    "start_time": "2023-09-12T08:05:59.510Z"
   },
   {
    "duration": 6,
    "start_time": "2023-09-12T08:07:00.074Z"
   },
   {
    "duration": 4,
    "start_time": "2023-09-12T08:07:00.541Z"
   },
   {
    "duration": 4345,
    "start_time": "2023-09-12T08:07:01.116Z"
   },
   {
    "duration": 221,
    "start_time": "2023-09-12T08:07:05.463Z"
   },
   {
    "duration": 1245,
    "start_time": "2023-09-12T08:07:08.568Z"
   }
  ],
  "kernelspec": {
   "display_name": "Python 3 (ipykernel)",
   "language": "python",
   "name": "python3"
  },
  "language_info": {
   "codemirror_mode": {
    "name": "ipython",
    "version": 3
   },
   "file_extension": ".py",
   "mimetype": "text/x-python",
   "name": "python",
   "nbconvert_exporter": "python",
   "pygments_lexer": "ipython3",
   "version": "3.9.13"
  },
  "toc": {
   "base_numbering": 1,
   "nav_menu": {},
   "number_sections": false,
   "sideBar": true,
   "skip_h1_title": false,
   "title_cell": "Table of Contents",
   "title_sidebar": "Contents",
   "toc_cell": false,
   "toc_position": {},
   "toc_section_display": true,
   "toc_window_display": false
  },
  "varInspector": {
   "cols": {
    "lenName": 16,
    "lenType": 16,
    "lenVar": 40
   },
   "kernels_config": {
    "python": {
     "delete_cmd_postfix": "",
     "delete_cmd_prefix": "del ",
     "library": "var_list.py",
     "varRefreshCmd": "print(var_dic_list())"
    },
    "r": {
     "delete_cmd_postfix": ") ",
     "delete_cmd_prefix": "rm(",
     "library": "var_list.r",
     "varRefreshCmd": "cat(var_dic_list()) "
    }
   },
   "types_to_exclude": [
    "module",
    "function",
    "builtin_function_or_method",
    "instance",
    "_Feature"
   ],
   "window_display": false
  }
 },
 "nbformat": 4,
 "nbformat_minor": 5
}
