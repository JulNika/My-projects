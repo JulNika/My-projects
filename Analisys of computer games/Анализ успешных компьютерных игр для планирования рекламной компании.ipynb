{
 "cells": [
  {
   "cell_type": "markdown",
   "metadata": {},
   "source": [
    "# Проект  \"Анализ компьютерных игр для планирования рекламной компании. Проверка гипотез\""
   ]
  },
  {
   "cell_type": "markdown",
   "metadata": {},
   "source": [
    "### Описание проекта\n",
    "\n",
    "Из открытых источников доступны исторические данные о продажах игр, оценки пользователей и экспертов, жанры и платформы (например, Xbox или PlayStation).\n",
    "\n",
    "Нужно выявить определяющие успешность игры закономерности. Это позволит сделать ставку на потенциально популярный продукт и спланировать рекламные кампании."
   ]
  },
  {
   "cell_type": "markdown",
   "metadata": {},
   "source": [
    "***1. Открываем файл с данными и изучаем общую информацию***"
   ]
  },
  {
   "cell_type": "code",
   "execution_count": 3,
   "metadata": {},
   "outputs": [
    {
     "name": "stdout",
     "output_type": "stream",
     "text": [
      "                       Name Platform  Year_of_Release         Genre  NA_sales  \\\n",
      "0                Wii Sports      Wii           2006.0        Sports     41.36   \n",
      "1         Super Mario Bros.      NES           1985.0      Platform     29.08   \n",
      "2            Mario Kart Wii      Wii           2008.0        Racing     15.68   \n",
      "3         Wii Sports Resort      Wii           2009.0        Sports     15.61   \n",
      "4  Pokemon Red/Pokemon Blue       GB           1996.0  Role-Playing     11.27   \n",
      "\n",
      "   EU_sales  JP_sales  Other_sales  Critic_Score User_Score Rating  \n",
      "0     28.96      3.77         8.45          76.0          8      E  \n",
      "1      3.58      6.81         0.77           NaN        NaN    NaN  \n",
      "2     12.76      3.79         3.29          82.0        8.3      E  \n",
      "3     10.93      3.28         2.95          80.0          8      E  \n",
      "4      8.89     10.22         1.00           NaN        NaN    NaN  \n"
     ]
    }
   ],
   "source": [
    "import pandas as pd\n",
    "#открывем файл\n",
    "data = pd.read_csv('/datasets/games.csv')\n",
    "#выводим на печать первые 5 строк\n",
    "print(data.head(5))"
   ]
  },
  {
   "cell_type": "markdown",
   "metadata": {},
   "source": [
    "В названиях колонок встречаются буквы с разными регистрами. Для удобства необходимо будет далее их все переести  нижнему регистру."
   ]
  },
  {
   "cell_type": "code",
   "execution_count": 4,
   "metadata": {},
   "outputs": [
    {
     "name": "stdout",
     "output_type": "stream",
     "text": [
      "<class 'pandas.core.frame.DataFrame'>\n",
      "RangeIndex: 16715 entries, 0 to 16714\n",
      "Data columns (total 11 columns):\n",
      " #   Column           Non-Null Count  Dtype  \n",
      "---  ------           --------------  -----  \n",
      " 0   Name             16713 non-null  object \n",
      " 1   Platform         16715 non-null  object \n",
      " 2   Year_of_Release  16446 non-null  float64\n",
      " 3   Genre            16713 non-null  object \n",
      " 4   NA_sales         16715 non-null  float64\n",
      " 5   EU_sales         16715 non-null  float64\n",
      " 6   JP_sales         16715 non-null  float64\n",
      " 7   Other_sales      16715 non-null  float64\n",
      " 8   Critic_Score     8137 non-null   float64\n",
      " 9   User_Score       10014 non-null  object \n",
      " 10  Rating           9949 non-null   object \n",
      "dtypes: float64(6), object(5)\n",
      "memory usage: 1.4+ MB\n"
     ]
    }
   ],
   "source": [
    "#общая информация о таблице\n",
    "data.info()"
   ]
  },
  {
   "cell_type": "markdown",
   "metadata": {},
   "source": [
    "В данных есть пропуски, в дальнейшем необходимо будет их обработать:\n",
    "- Name - удалить строки, где не указано название игры;\n",
    "- Year_of_Release - поставить 0 вместо пропусков\n",
    "- Genre"
   ]
  },
  {
   "cell_type": "markdown",
   "metadata": {},
   "source": [
    "***2. Проводим предобработку данных***"
   ]
  },
  {
   "cell_type": "code",
   "execution_count": 5,
   "metadata": {},
   "outputs": [
    {
     "name": "stdout",
     "output_type": "stream",
     "text": [
      "Index(['name', 'platform', 'year_of_release', 'genre', 'na_sales', 'eu_sales',\n",
      "       'jp_sales', 'other_sales', 'critic_score', 'user_score', 'rating'],\n",
      "      dtype='object')\n"
     ]
    }
   ],
   "source": [
    "#предобработка данных\n",
    "#приведение названия столбцов к нижнему регистру\n",
    "\n",
    "\n",
    "data.columns = data.columns.str.lower()\n",
    "print(data.columns)"
   ]
  },
  {
   "cell_type": "code",
   "execution_count": 6,
   "metadata": {},
   "outputs": [
    {
     "name": "stdout",
     "output_type": "stream",
     "text": [
      "['Wii Sports' 'Super Mario Bros.' 'Mario Kart Wii' ...\n",
      " 'Woody Woodpecker in Crazy Castle 5' 'LMA Manager 2007'\n",
      " 'Haitaka no Psychedelica']\n",
      "['Wii' 'NES' 'GB' 'DS' 'X360' 'PS3' 'PS2' 'SNES' 'GBA' 'PS4' '3DS' 'N64'\n",
      " 'PS' 'XB' 'PC' '2600' 'PSP' 'XOne' 'WiiU' 'GC' 'GEN' 'DC' 'PSV' 'SAT'\n",
      " 'SCD' 'WS' 'NG' 'TG16' '3DO' 'GG' 'PCFX']\n"
     ]
    },
    {
     "data": {
      "text/plain": [
       "name                  2\n",
       "platform              0\n",
       "year_of_release     269\n",
       "genre                 2\n",
       "na_sales              0\n",
       "eu_sales              0\n",
       "jp_sales              0\n",
       "other_sales           0\n",
       "critic_score       8578\n",
       "user_score         6701\n",
       "rating             6766\n",
       "dtype: int64"
      ]
     },
     "execution_count": 6,
     "metadata": {},
     "output_type": "execute_result"
    }
   ],
   "source": [
    "#преобразование типов данных\n",
    "#проверка на неявные дубликаты в значениях\n",
    "print(data['name'].unique())\n",
    "print(data['platform'].unique())\n",
    "data.isna().sum()"
   ]
  },
  {
   "cell_type": "markdown",
   "metadata": {},
   "source": [
    "При проверке пропусков в данных по колонках, обнаружены пропуски и что будем делать:\n",
    "- name - удаляем строки с пропусками,так как для анализа игры критически важно их название\n",
    "- year_of_release - удаляем сроки( их немного), чтобы можено было анализировать данные по годам\n",
    "- genre -  удаляем сроки( их немного), так как найти им логичную замену невозможно и чтобы можено было анализировать данные по жанрам.\n",
    "- critic_score и user_score- пропуком много, поэтому рассчитаем медианту по жандр игр, оценка можеь быть пропущено, т.к. игру еще не оценили или она могла выйти недавно\n",
    "- rating - колонок много, удалять не будет, но постаим вместо пропуском \"не определен\""
   ]
  },
  {
   "cell_type": "code",
   "execution_count": 7,
   "metadata": {},
   "outputs": [
    {
     "name": "stdout",
     "output_type": "stream",
     "text": [
      "<class 'pandas.core.frame.DataFrame'>\n",
      "Int64Index: 16444 entries, 0 to 16714\n",
      "Data columns (total 11 columns):\n",
      " #   Column           Non-Null Count  Dtype  \n",
      "---  ------           --------------  -----  \n",
      " 0   name             16444 non-null  object \n",
      " 1   platform         16444 non-null  object \n",
      " 2   year_of_release  16444 non-null  int64  \n",
      " 3   genre            16444 non-null  object \n",
      " 4   na_sales         16444 non-null  float64\n",
      " 5   eu_sales         16444 non-null  float64\n",
      " 6   jp_sales         16444 non-null  float64\n",
      " 7   other_sales      16444 non-null  float64\n",
      " 8   critic_score     16444 non-null  float64\n",
      " 9   user_score       16444 non-null  float64\n",
      " 10  rating           16444 non-null  object \n",
      "dtypes: float64(6), int64(1), object(4)\n",
      "memory usage: 1.5+ MB\n"
     ]
    }
   ],
   "source": [
    "#удаление и замена пропусков в данных \n",
    "data = data.dropna(subset=['name'])\n",
    "data = data.dropna(subset=['year_of_release'])\n",
    "data = data.dropna(subset=['genre'])\n",
    "\n",
    "data['rating'] = data['rating'].fillna('неопределен')\n",
    "\n",
    "data['critic_score'] = data['critic_score'].fillna(0)\n",
    "data['user_score'] = data['user_score'].fillna(0)\n",
    "\n",
    "#замена значения 'tbd' =  'to be discussed',  что означает подлежит обсуждению\n",
    "data.loc[(data['user_score'] == 'tbd'), 'user_score'] = '0'\n",
    "\n",
    "#преобразование типов данных\n",
    "\n",
    "data['year_of_release'] = data['year_of_release'].astype(int)\n",
    "data['user_score'] = data['user_score'].astype(float)\n",
    "\n",
    "data.info()"
   ]
  },
  {
   "cell_type": "code",
   "execution_count": 59,
   "metadata": {},
   "outputs": [],
   "source": [
    "#заменяем на медианы пропуски в колонках critic_score  и user_score\n",
    "\n",
    "# перебираем  жанры тип в наборе уникальных значений столбца genre\n",
    "#for g in data['genre'].unique():\n",
    "    # на каждом шаге цикла с помощью атрибута loc выбираем строки,\n",
    "    # в которых в genre текущий тип жанры (g) и есть пропуски в critic_score \n",
    " #   data.loc[(data['genre'] == g) & (data['critic_score'] == '0.'), 'critic_score'] = \\\n",
    "  #  data.loc[(data['genre'] == g), 'critic_score'].mean()\n",
    "    # и записываем в них среднее значение user_scoreсреди строк с текущим жанром игры (g)\n",
    "\n",
    "#for g in data['genre'].unique():\n",
    "    # на каждом шаге цикла с помощью атрибута loc выбираем строки,\n",
    "    # в которых в genre текущий тип жанры (g) и есть пропуски в user_score \n",
    " #   data.loc[(data['genre'] == g) & (data['user_score'] == '0.'), 'user_score'] = \\\n",
    "  #  data.loc[(data['genre'] == g), 'user_score'].mean()\n",
    "    # и записываем в них среднее значение user_score среди строк с текущим жанром игры (g)\n"
   ]
  },
  {
   "cell_type": "markdown",
   "metadata": {},
   "source": [
    "Удаляме строки без названия игр, так как нам нужно определить успешаные игры, а для этогоих название критически необходимо.\n",
    "\n",
    "В списке значений есть 'tbd' -  что означает 'to be discussed' -  под обсуждение, то есть ретйинга сейчас нет.\n",
    "Поэтому значение 'tbd' - в целях анализа заменим на ноль.\n",
    "\n",
    "Вместо пропуском в колонке rating вносим нули, так как рейтинг присваивает ESRB неверно будет заменять отсутствующие данные средними значениями по группе.  "
   ]
  },
  {
   "cell_type": "markdown",
   "metadata": {},
   "source": [
    "***Подсчет суммарных продаж во всех регионах***"
   ]
  },
  {
   "cell_type": "code",
   "execution_count": 48,
   "metadata": {},
   "outputs": [
    {
     "data": {
      "text/html": [
       "<div>\n",
       "<style scoped>\n",
       "    .dataframe tbody tr th:only-of-type {\n",
       "        vertical-align: middle;\n",
       "    }\n",
       "\n",
       "    .dataframe tbody tr th {\n",
       "        vertical-align: top;\n",
       "    }\n",
       "\n",
       "    .dataframe thead th {\n",
       "        text-align: right;\n",
       "    }\n",
       "</style>\n",
       "<table border=\"1\" class=\"dataframe\">\n",
       "  <thead>\n",
       "    <tr style=\"text-align: right;\">\n",
       "      <th></th>\n",
       "      <th>name</th>\n",
       "      <th>platform</th>\n",
       "      <th>year_of_release</th>\n",
       "      <th>genre</th>\n",
       "      <th>na_sales</th>\n",
       "      <th>eu_sales</th>\n",
       "      <th>jp_sales</th>\n",
       "      <th>other_sales</th>\n",
       "      <th>critic_score</th>\n",
       "      <th>user_score</th>\n",
       "      <th>rating</th>\n",
       "      <th>total_sales</th>\n",
       "    </tr>\n",
       "  </thead>\n",
       "  <tbody>\n",
       "    <tr>\n",
       "      <th>0</th>\n",
       "      <td>Wii Sports</td>\n",
       "      <td>Wii</td>\n",
       "      <td>2006</td>\n",
       "      <td>Sports</td>\n",
       "      <td>41.36</td>\n",
       "      <td>28.96</td>\n",
       "      <td>3.77</td>\n",
       "      <td>8.45</td>\n",
       "      <td>76.0</td>\n",
       "      <td>8.0</td>\n",
       "      <td>E</td>\n",
       "      <td>82.54</td>\n",
       "    </tr>\n",
       "    <tr>\n",
       "      <th>1</th>\n",
       "      <td>Super Mario Bros.</td>\n",
       "      <td>NES</td>\n",
       "      <td>1985</td>\n",
       "      <td>Platform</td>\n",
       "      <td>29.08</td>\n",
       "      <td>3.58</td>\n",
       "      <td>6.81</td>\n",
       "      <td>0.77</td>\n",
       "      <td>0.0</td>\n",
       "      <td>0.0</td>\n",
       "      <td>неопределен</td>\n",
       "      <td>40.24</td>\n",
       "    </tr>\n",
       "    <tr>\n",
       "      <th>2</th>\n",
       "      <td>Mario Kart Wii</td>\n",
       "      <td>Wii</td>\n",
       "      <td>2008</td>\n",
       "      <td>Racing</td>\n",
       "      <td>15.68</td>\n",
       "      <td>12.76</td>\n",
       "      <td>3.79</td>\n",
       "      <td>3.29</td>\n",
       "      <td>82.0</td>\n",
       "      <td>8.3</td>\n",
       "      <td>E</td>\n",
       "      <td>35.52</td>\n",
       "    </tr>\n",
       "    <tr>\n",
       "      <th>3</th>\n",
       "      <td>Wii Sports Resort</td>\n",
       "      <td>Wii</td>\n",
       "      <td>2009</td>\n",
       "      <td>Sports</td>\n",
       "      <td>15.61</td>\n",
       "      <td>10.93</td>\n",
       "      <td>3.28</td>\n",
       "      <td>2.95</td>\n",
       "      <td>80.0</td>\n",
       "      <td>8.0</td>\n",
       "      <td>E</td>\n",
       "      <td>32.77</td>\n",
       "    </tr>\n",
       "    <tr>\n",
       "      <th>4</th>\n",
       "      <td>Pokemon Red/Pokemon Blue</td>\n",
       "      <td>GB</td>\n",
       "      <td>1996</td>\n",
       "      <td>Role-Playing</td>\n",
       "      <td>11.27</td>\n",
       "      <td>8.89</td>\n",
       "      <td>10.22</td>\n",
       "      <td>1.00</td>\n",
       "      <td>0.0</td>\n",
       "      <td>0.0</td>\n",
       "      <td>неопределен</td>\n",
       "      <td>31.38</td>\n",
       "    </tr>\n",
       "  </tbody>\n",
       "</table>\n",
       "</div>"
      ],
      "text/plain": [
       "                       name platform  year_of_release         genre  na_sales  \\\n",
       "0                Wii Sports      Wii             2006        Sports     41.36   \n",
       "1         Super Mario Bros.      NES             1985      Platform     29.08   \n",
       "2            Mario Kart Wii      Wii             2008        Racing     15.68   \n",
       "3         Wii Sports Resort      Wii             2009        Sports     15.61   \n",
       "4  Pokemon Red/Pokemon Blue       GB             1996  Role-Playing     11.27   \n",
       "\n",
       "   eu_sales  jp_sales  other_sales  critic_score  user_score       rating  \\\n",
       "0     28.96      3.77         8.45          76.0         8.0            E   \n",
       "1      3.58      6.81         0.77           0.0         0.0  неопределен   \n",
       "2     12.76      3.79         3.29          82.0         8.3            E   \n",
       "3     10.93      3.28         2.95          80.0         8.0            E   \n",
       "4      8.89     10.22         1.00           0.0         0.0  неопределен   \n",
       "\n",
       "   total_sales  \n",
       "0        82.54  \n",
       "1        40.24  \n",
       "2        35.52  \n",
       "3        32.77  \n",
       "4        31.38  "
      ]
     },
     "execution_count": 48,
     "metadata": {},
     "output_type": "execute_result"
    }
   ],
   "source": [
    "data['total_sales'] = data[['na_sales','eu_sales','jp_sales', 'other_sales']].sum(axis = 1)\n",
    "data.head()"
   ]
  },
  {
   "cell_type": "code",
   "execution_count": 60,
   "metadata": {},
   "outputs": [
    {
     "name": "stdout",
     "output_type": "stream",
     "text": [
      "year_of_release\n",
      "1980       9\n",
      "1981      46\n",
      "1982      36\n",
      "1983      17\n",
      "1984      14\n",
      "1985      14\n",
      "1986      21\n",
      "1987      16\n",
      "1988      15\n",
      "1989      17\n",
      "1990      16\n",
      "1991      41\n",
      "1992      43\n",
      "1993      60\n",
      "1994     121\n",
      "1995     219\n",
      "1996     263\n",
      "1997     289\n",
      "1998     379\n",
      "1999     338\n",
      "2000     350\n",
      "2001     482\n",
      "2002     829\n",
      "2003     775\n",
      "2004     762\n",
      "2005     939\n",
      "2006    1006\n",
      "2007    1197\n",
      "2008    1427\n",
      "2009    1426\n",
      "2010    1255\n",
      "2011    1136\n",
      "2012     653\n",
      "2013     544\n",
      "2014     581\n",
      "2015     606\n",
      "2016     502\n",
      "Name: name, dtype: int64\n"
     ]
    }
   ],
   "source": [
    "#исследовательский анализ данных\n",
    "\n",
    "#посмотрим, сколько игр выпускалось в разные годы\n",
    "\n",
    "print( data.groupby('year_of_release')['name'].count())"
   ]
  },
  {
   "cell_type": "markdown",
   "metadata": {},
   "source": [
    "По таблице видим, что до 2010 выпуск числа игр рос, далее после всплеска в 2010 года, начался резкий спад, в 2014-2016 наблюдает рост, потом срова небольшое падение.\n",
    "\n",
    "Для прогнозирования будущих рекламыех компаний, нам важны данные за последние 2 года 2015 и 2016, так как именнро в эти годы будут наибоолее актуальыне данные."
   ]
  },
  {
   "cell_type": "code",
   "execution_count": 11,
   "metadata": {},
   "outputs": [
    {
     "data": {
      "text/html": [
       "<div>\n",
       "<style scoped>\n",
       "    .dataframe tbody tr th:only-of-type {\n",
       "        vertical-align: middle;\n",
       "    }\n",
       "\n",
       "    .dataframe tbody tr th {\n",
       "        vertical-align: top;\n",
       "    }\n",
       "\n",
       "    .dataframe thead th {\n",
       "        text-align: right;\n",
       "    }\n",
       "</style>\n",
       "<table border=\"1\" class=\"dataframe\">\n",
       "  <thead>\n",
       "    <tr style=\"text-align: right;\">\n",
       "      <th>platform</th>\n",
       "      <th>2600</th>\n",
       "      <th>3DO</th>\n",
       "      <th>3DS</th>\n",
       "      <th>DC</th>\n",
       "      <th>DS</th>\n",
       "      <th>GB</th>\n",
       "      <th>GBA</th>\n",
       "      <th>GC</th>\n",
       "      <th>GEN</th>\n",
       "      <th>GG</th>\n",
       "      <th>...</th>\n",
       "      <th>SAT</th>\n",
       "      <th>SCD</th>\n",
       "      <th>SNES</th>\n",
       "      <th>TG16</th>\n",
       "      <th>WS</th>\n",
       "      <th>Wii</th>\n",
       "      <th>WiiU</th>\n",
       "      <th>X360</th>\n",
       "      <th>XB</th>\n",
       "      <th>XOne</th>\n",
       "    </tr>\n",
       "    <tr>\n",
       "      <th>year_of_release</th>\n",
       "      <th></th>\n",
       "      <th></th>\n",
       "      <th></th>\n",
       "      <th></th>\n",
       "      <th></th>\n",
       "      <th></th>\n",
       "      <th></th>\n",
       "      <th></th>\n",
       "      <th></th>\n",
       "      <th></th>\n",
       "      <th></th>\n",
       "      <th></th>\n",
       "      <th></th>\n",
       "      <th></th>\n",
       "      <th></th>\n",
       "      <th></th>\n",
       "      <th></th>\n",
       "      <th></th>\n",
       "      <th></th>\n",
       "      <th></th>\n",
       "      <th></th>\n",
       "    </tr>\n",
       "  </thead>\n",
       "  <tbody>\n",
       "    <tr>\n",
       "      <th>1980</th>\n",
       "      <td>11.38</td>\n",
       "      <td>NaN</td>\n",
       "      <td>NaN</td>\n",
       "      <td>NaN</td>\n",
       "      <td>NaN</td>\n",
       "      <td>NaN</td>\n",
       "      <td>NaN</td>\n",
       "      <td>NaN</td>\n",
       "      <td>NaN</td>\n",
       "      <td>NaN</td>\n",
       "      <td>...</td>\n",
       "      <td>NaN</td>\n",
       "      <td>NaN</td>\n",
       "      <td>NaN</td>\n",
       "      <td>NaN</td>\n",
       "      <td>NaN</td>\n",
       "      <td>NaN</td>\n",
       "      <td>NaN</td>\n",
       "      <td>NaN</td>\n",
       "      <td>NaN</td>\n",
       "      <td>NaN</td>\n",
       "    </tr>\n",
       "    <tr>\n",
       "      <th>1981</th>\n",
       "      <td>35.68</td>\n",
       "      <td>NaN</td>\n",
       "      <td>NaN</td>\n",
       "      <td>NaN</td>\n",
       "      <td>NaN</td>\n",
       "      <td>NaN</td>\n",
       "      <td>NaN</td>\n",
       "      <td>NaN</td>\n",
       "      <td>NaN</td>\n",
       "      <td>NaN</td>\n",
       "      <td>...</td>\n",
       "      <td>NaN</td>\n",
       "      <td>NaN</td>\n",
       "      <td>NaN</td>\n",
       "      <td>NaN</td>\n",
       "      <td>NaN</td>\n",
       "      <td>NaN</td>\n",
       "      <td>NaN</td>\n",
       "      <td>NaN</td>\n",
       "      <td>NaN</td>\n",
       "      <td>NaN</td>\n",
       "    </tr>\n",
       "    <tr>\n",
       "      <th>1982</th>\n",
       "      <td>28.88</td>\n",
       "      <td>NaN</td>\n",
       "      <td>NaN</td>\n",
       "      <td>NaN</td>\n",
       "      <td>NaN</td>\n",
       "      <td>NaN</td>\n",
       "      <td>NaN</td>\n",
       "      <td>NaN</td>\n",
       "      <td>NaN</td>\n",
       "      <td>NaN</td>\n",
       "      <td>...</td>\n",
       "      <td>NaN</td>\n",
       "      <td>NaN</td>\n",
       "      <td>NaN</td>\n",
       "      <td>NaN</td>\n",
       "      <td>NaN</td>\n",
       "      <td>NaN</td>\n",
       "      <td>NaN</td>\n",
       "      <td>NaN</td>\n",
       "      <td>NaN</td>\n",
       "      <td>NaN</td>\n",
       "    </tr>\n",
       "    <tr>\n",
       "      <th>1983</th>\n",
       "      <td>5.84</td>\n",
       "      <td>NaN</td>\n",
       "      <td>NaN</td>\n",
       "      <td>NaN</td>\n",
       "      <td>NaN</td>\n",
       "      <td>NaN</td>\n",
       "      <td>NaN</td>\n",
       "      <td>NaN</td>\n",
       "      <td>NaN</td>\n",
       "      <td>NaN</td>\n",
       "      <td>...</td>\n",
       "      <td>NaN</td>\n",
       "      <td>NaN</td>\n",
       "      <td>NaN</td>\n",
       "      <td>NaN</td>\n",
       "      <td>NaN</td>\n",
       "      <td>NaN</td>\n",
       "      <td>NaN</td>\n",
       "      <td>NaN</td>\n",
       "      <td>NaN</td>\n",
       "      <td>NaN</td>\n",
       "    </tr>\n",
       "    <tr>\n",
       "      <th>1984</th>\n",
       "      <td>0.27</td>\n",
       "      <td>NaN</td>\n",
       "      <td>NaN</td>\n",
       "      <td>NaN</td>\n",
       "      <td>NaN</td>\n",
       "      <td>NaN</td>\n",
       "      <td>NaN</td>\n",
       "      <td>NaN</td>\n",
       "      <td>NaN</td>\n",
       "      <td>NaN</td>\n",
       "      <td>...</td>\n",
       "      <td>NaN</td>\n",
       "      <td>NaN</td>\n",
       "      <td>NaN</td>\n",
       "      <td>NaN</td>\n",
       "      <td>NaN</td>\n",
       "      <td>NaN</td>\n",
       "      <td>NaN</td>\n",
       "      <td>NaN</td>\n",
       "      <td>NaN</td>\n",
       "      <td>NaN</td>\n",
       "    </tr>\n",
       "    <tr>\n",
       "      <th>1985</th>\n",
       "      <td>0.45</td>\n",
       "      <td>NaN</td>\n",
       "      <td>NaN</td>\n",
       "      <td>NaN</td>\n",
       "      <td>0.02</td>\n",
       "      <td>NaN</td>\n",
       "      <td>NaN</td>\n",
       "      <td>NaN</td>\n",
       "      <td>NaN</td>\n",
       "      <td>NaN</td>\n",
       "      <td>...</td>\n",
       "      <td>NaN</td>\n",
       "      <td>NaN</td>\n",
       "      <td>NaN</td>\n",
       "      <td>NaN</td>\n",
       "      <td>NaN</td>\n",
       "      <td>NaN</td>\n",
       "      <td>NaN</td>\n",
       "      <td>NaN</td>\n",
       "      <td>NaN</td>\n",
       "      <td>NaN</td>\n",
       "    </tr>\n",
       "    <tr>\n",
       "      <th>1986</th>\n",
       "      <td>0.67</td>\n",
       "      <td>NaN</td>\n",
       "      <td>NaN</td>\n",
       "      <td>NaN</td>\n",
       "      <td>NaN</td>\n",
       "      <td>NaN</td>\n",
       "      <td>NaN</td>\n",
       "      <td>NaN</td>\n",
       "      <td>NaN</td>\n",
       "      <td>NaN</td>\n",
       "      <td>...</td>\n",
       "      <td>NaN</td>\n",
       "      <td>NaN</td>\n",
       "      <td>NaN</td>\n",
       "      <td>NaN</td>\n",
       "      <td>NaN</td>\n",
       "      <td>NaN</td>\n",
       "      <td>NaN</td>\n",
       "      <td>NaN</td>\n",
       "      <td>NaN</td>\n",
       "      <td>NaN</td>\n",
       "    </tr>\n",
       "    <tr>\n",
       "      <th>1987</th>\n",
       "      <td>1.94</td>\n",
       "      <td>NaN</td>\n",
       "      <td>NaN</td>\n",
       "      <td>NaN</td>\n",
       "      <td>NaN</td>\n",
       "      <td>NaN</td>\n",
       "      <td>NaN</td>\n",
       "      <td>NaN</td>\n",
       "      <td>NaN</td>\n",
       "      <td>NaN</td>\n",
       "      <td>...</td>\n",
       "      <td>NaN</td>\n",
       "      <td>NaN</td>\n",
       "      <td>NaN</td>\n",
       "      <td>NaN</td>\n",
       "      <td>NaN</td>\n",
       "      <td>NaN</td>\n",
       "      <td>NaN</td>\n",
       "      <td>NaN</td>\n",
       "      <td>NaN</td>\n",
       "      <td>NaN</td>\n",
       "    </tr>\n",
       "    <tr>\n",
       "      <th>1988</th>\n",
       "      <td>0.74</td>\n",
       "      <td>NaN</td>\n",
       "      <td>NaN</td>\n",
       "      <td>NaN</td>\n",
       "      <td>NaN</td>\n",
       "      <td>1.43</td>\n",
       "      <td>NaN</td>\n",
       "      <td>NaN</td>\n",
       "      <td>NaN</td>\n",
       "      <td>NaN</td>\n",
       "      <td>...</td>\n",
       "      <td>NaN</td>\n",
       "      <td>NaN</td>\n",
       "      <td>NaN</td>\n",
       "      <td>NaN</td>\n",
       "      <td>NaN</td>\n",
       "      <td>NaN</td>\n",
       "      <td>NaN</td>\n",
       "      <td>NaN</td>\n",
       "      <td>NaN</td>\n",
       "      <td>NaN</td>\n",
       "    </tr>\n",
       "    <tr>\n",
       "      <th>1989</th>\n",
       "      <td>0.63</td>\n",
       "      <td>NaN</td>\n",
       "      <td>NaN</td>\n",
       "      <td>NaN</td>\n",
       "      <td>NaN</td>\n",
       "      <td>64.97</td>\n",
       "      <td>NaN</td>\n",
       "      <td>NaN</td>\n",
       "      <td>NaN</td>\n",
       "      <td>NaN</td>\n",
       "      <td>...</td>\n",
       "      <td>NaN</td>\n",
       "      <td>NaN</td>\n",
       "      <td>NaN</td>\n",
       "      <td>NaN</td>\n",
       "      <td>NaN</td>\n",
       "      <td>NaN</td>\n",
       "      <td>NaN</td>\n",
       "      <td>NaN</td>\n",
       "      <td>NaN</td>\n",
       "      <td>NaN</td>\n",
       "    </tr>\n",
       "    <tr>\n",
       "      <th>1990</th>\n",
       "      <td>NaN</td>\n",
       "      <td>NaN</td>\n",
       "      <td>NaN</td>\n",
       "      <td>NaN</td>\n",
       "      <td>NaN</td>\n",
       "      <td>4.89</td>\n",
       "      <td>NaN</td>\n",
       "      <td>NaN</td>\n",
       "      <td>2.60</td>\n",
       "      <td>NaN</td>\n",
       "      <td>...</td>\n",
       "      <td>NaN</td>\n",
       "      <td>NaN</td>\n",
       "      <td>26.15</td>\n",
       "      <td>NaN</td>\n",
       "      <td>NaN</td>\n",
       "      <td>NaN</td>\n",
       "      <td>NaN</td>\n",
       "      <td>NaN</td>\n",
       "      <td>NaN</td>\n",
       "      <td>NaN</td>\n",
       "    </tr>\n",
       "    <tr>\n",
       "      <th>1991</th>\n",
       "      <td>NaN</td>\n",
       "      <td>NaN</td>\n",
       "      <td>NaN</td>\n",
       "      <td>NaN</td>\n",
       "      <td>NaN</td>\n",
       "      <td>5.57</td>\n",
       "      <td>NaN</td>\n",
       "      <td>NaN</td>\n",
       "      <td>4.33</td>\n",
       "      <td>NaN</td>\n",
       "      <td>...</td>\n",
       "      <td>NaN</td>\n",
       "      <td>NaN</td>\n",
       "      <td>16.22</td>\n",
       "      <td>NaN</td>\n",
       "      <td>NaN</td>\n",
       "      <td>NaN</td>\n",
       "      <td>NaN</td>\n",
       "      <td>NaN</td>\n",
       "      <td>NaN</td>\n",
       "      <td>NaN</td>\n",
       "    </tr>\n",
       "    <tr>\n",
       "      <th>1992</th>\n",
       "      <td>NaN</td>\n",
       "      <td>NaN</td>\n",
       "      <td>NaN</td>\n",
       "      <td>NaN</td>\n",
       "      <td>NaN</td>\n",
       "      <td>25.49</td>\n",
       "      <td>NaN</td>\n",
       "      <td>NaN</td>\n",
       "      <td>12.64</td>\n",
       "      <td>0.04</td>\n",
       "      <td>...</td>\n",
       "      <td>NaN</td>\n",
       "      <td>NaN</td>\n",
       "      <td>32.98</td>\n",
       "      <td>NaN</td>\n",
       "      <td>NaN</td>\n",
       "      <td>NaN</td>\n",
       "      <td>NaN</td>\n",
       "      <td>NaN</td>\n",
       "      <td>NaN</td>\n",
       "      <td>NaN</td>\n",
       "    </tr>\n",
       "    <tr>\n",
       "      <th>1993</th>\n",
       "      <td>NaN</td>\n",
       "      <td>NaN</td>\n",
       "      <td>NaN</td>\n",
       "      <td>NaN</td>\n",
       "      <td>NaN</td>\n",
       "      <td>NaN</td>\n",
       "      <td>NaN</td>\n",
       "      <td>NaN</td>\n",
       "      <td>0.65</td>\n",
       "      <td>NaN</td>\n",
       "      <td>...</td>\n",
       "      <td>NaN</td>\n",
       "      <td>1.50</td>\n",
       "      <td>40.02</td>\n",
       "      <td>NaN</td>\n",
       "      <td>NaN</td>\n",
       "      <td>NaN</td>\n",
       "      <td>NaN</td>\n",
       "      <td>NaN</td>\n",
       "      <td>NaN</td>\n",
       "      <td>NaN</td>\n",
       "    </tr>\n",
       "    <tr>\n",
       "      <th>1994</th>\n",
       "      <td>NaN</td>\n",
       "      <td>0.02</td>\n",
       "      <td>NaN</td>\n",
       "      <td>NaN</td>\n",
       "      <td>NaN</td>\n",
       "      <td>12.18</td>\n",
       "      <td>NaN</td>\n",
       "      <td>NaN</td>\n",
       "      <td>8.13</td>\n",
       "      <td>NaN</td>\n",
       "      <td>...</td>\n",
       "      <td>3.65</td>\n",
       "      <td>0.36</td>\n",
       "      <td>35.08</td>\n",
       "      <td>NaN</td>\n",
       "      <td>NaN</td>\n",
       "      <td>NaN</td>\n",
       "      <td>NaN</td>\n",
       "      <td>NaN</td>\n",
       "      <td>NaN</td>\n",
       "      <td>NaN</td>\n",
       "    </tr>\n",
       "    <tr>\n",
       "      <th>1995</th>\n",
       "      <td>NaN</td>\n",
       "      <td>0.08</td>\n",
       "      <td>NaN</td>\n",
       "      <td>NaN</td>\n",
       "      <td>NaN</td>\n",
       "      <td>3.60</td>\n",
       "      <td>NaN</td>\n",
       "      <td>NaN</td>\n",
       "      <td>NaN</td>\n",
       "      <td>NaN</td>\n",
       "      <td>...</td>\n",
       "      <td>11.57</td>\n",
       "      <td>NaN</td>\n",
       "      <td>32.20</td>\n",
       "      <td>0.16</td>\n",
       "      <td>NaN</td>\n",
       "      <td>NaN</td>\n",
       "      <td>NaN</td>\n",
       "      <td>NaN</td>\n",
       "      <td>NaN</td>\n",
       "      <td>NaN</td>\n",
       "    </tr>\n",
       "    <tr>\n",
       "      <th>1996</th>\n",
       "      <td>NaN</td>\n",
       "      <td>NaN</td>\n",
       "      <td>NaN</td>\n",
       "      <td>NaN</td>\n",
       "      <td>NaN</td>\n",
       "      <td>36.03</td>\n",
       "      <td>NaN</td>\n",
       "      <td>NaN</td>\n",
       "      <td>NaN</td>\n",
       "      <td>NaN</td>\n",
       "      <td>...</td>\n",
       "      <td>7.69</td>\n",
       "      <td>NaN</td>\n",
       "      <td>15.92</td>\n",
       "      <td>NaN</td>\n",
       "      <td>NaN</td>\n",
       "      <td>NaN</td>\n",
       "      <td>NaN</td>\n",
       "      <td>NaN</td>\n",
       "      <td>NaN</td>\n",
       "      <td>NaN</td>\n",
       "    </tr>\n",
       "    <tr>\n",
       "      <th>1997</th>\n",
       "      <td>NaN</td>\n",
       "      <td>NaN</td>\n",
       "      <td>NaN</td>\n",
       "      <td>NaN</td>\n",
       "      <td>NaN</td>\n",
       "      <td>6.37</td>\n",
       "      <td>NaN</td>\n",
       "      <td>NaN</td>\n",
       "      <td>NaN</td>\n",
       "      <td>NaN</td>\n",
       "      <td>...</td>\n",
       "      <td>6.77</td>\n",
       "      <td>NaN</td>\n",
       "      <td>0.99</td>\n",
       "      <td>NaN</td>\n",
       "      <td>NaN</td>\n",
       "      <td>NaN</td>\n",
       "      <td>NaN</td>\n",
       "      <td>NaN</td>\n",
       "      <td>NaN</td>\n",
       "      <td>NaN</td>\n",
       "    </tr>\n",
       "    <tr>\n",
       "      <th>1998</th>\n",
       "      <td>NaN</td>\n",
       "      <td>NaN</td>\n",
       "      <td>NaN</td>\n",
       "      <td>3.38</td>\n",
       "      <td>NaN</td>\n",
       "      <td>26.90</td>\n",
       "      <td>NaN</td>\n",
       "      <td>NaN</td>\n",
       "      <td>NaN</td>\n",
       "      <td>NaN</td>\n",
       "      <td>...</td>\n",
       "      <td>3.82</td>\n",
       "      <td>NaN</td>\n",
       "      <td>0.22</td>\n",
       "      <td>NaN</td>\n",
       "      <td>NaN</td>\n",
       "      <td>NaN</td>\n",
       "      <td>NaN</td>\n",
       "      <td>NaN</td>\n",
       "      <td>NaN</td>\n",
       "      <td>NaN</td>\n",
       "    </tr>\n",
       "    <tr>\n",
       "      <th>1999</th>\n",
       "      <td>NaN</td>\n",
       "      <td>NaN</td>\n",
       "      <td>NaN</td>\n",
       "      <td>5.16</td>\n",
       "      <td>NaN</td>\n",
       "      <td>38.00</td>\n",
       "      <td>NaN</td>\n",
       "      <td>NaN</td>\n",
       "      <td>NaN</td>\n",
       "      <td>NaN</td>\n",
       "      <td>...</td>\n",
       "      <td>0.09</td>\n",
       "      <td>NaN</td>\n",
       "      <td>0.26</td>\n",
       "      <td>NaN</td>\n",
       "      <td>0.46</td>\n",
       "      <td>NaN</td>\n",
       "      <td>NaN</td>\n",
       "      <td>NaN</td>\n",
       "      <td>NaN</td>\n",
       "      <td>NaN</td>\n",
       "    </tr>\n",
       "    <tr>\n",
       "      <th>2000</th>\n",
       "      <td>NaN</td>\n",
       "      <td>NaN</td>\n",
       "      <td>NaN</td>\n",
       "      <td>5.99</td>\n",
       "      <td>NaN</td>\n",
       "      <td>19.76</td>\n",
       "      <td>0.07</td>\n",
       "      <td>NaN</td>\n",
       "      <td>NaN</td>\n",
       "      <td>NaN</td>\n",
       "      <td>...</td>\n",
       "      <td>NaN</td>\n",
       "      <td>NaN</td>\n",
       "      <td>NaN</td>\n",
       "      <td>NaN</td>\n",
       "      <td>0.68</td>\n",
       "      <td>NaN</td>\n",
       "      <td>NaN</td>\n",
       "      <td>NaN</td>\n",
       "      <td>0.99</td>\n",
       "      <td>NaN</td>\n",
       "    </tr>\n",
       "    <tr>\n",
       "      <th>2001</th>\n",
       "      <td>NaN</td>\n",
       "      <td>NaN</td>\n",
       "      <td>NaN</td>\n",
       "      <td>1.07</td>\n",
       "      <td>NaN</td>\n",
       "      <td>9.24</td>\n",
       "      <td>61.53</td>\n",
       "      <td>26.34</td>\n",
       "      <td>NaN</td>\n",
       "      <td>NaN</td>\n",
       "      <td>...</td>\n",
       "      <td>NaN</td>\n",
       "      <td>NaN</td>\n",
       "      <td>NaN</td>\n",
       "      <td>NaN</td>\n",
       "      <td>0.28</td>\n",
       "      <td>NaN</td>\n",
       "      <td>NaN</td>\n",
       "      <td>NaN</td>\n",
       "      <td>22.26</td>\n",
       "      <td>NaN</td>\n",
       "    </tr>\n",
       "    <tr>\n",
       "      <th>2002</th>\n",
       "      <td>NaN</td>\n",
       "      <td>NaN</td>\n",
       "      <td>NaN</td>\n",
       "      <td>0.29</td>\n",
       "      <td>NaN</td>\n",
       "      <td>NaN</td>\n",
       "      <td>74.16</td>\n",
       "      <td>51.81</td>\n",
       "      <td>NaN</td>\n",
       "      <td>NaN</td>\n",
       "      <td>...</td>\n",
       "      <td>NaN</td>\n",
       "      <td>NaN</td>\n",
       "      <td>NaN</td>\n",
       "      <td>NaN</td>\n",
       "      <td>NaN</td>\n",
       "      <td>NaN</td>\n",
       "      <td>NaN</td>\n",
       "      <td>NaN</td>\n",
       "      <td>48.01</td>\n",
       "      <td>NaN</td>\n",
       "    </tr>\n",
       "    <tr>\n",
       "      <th>2003</th>\n",
       "      <td>NaN</td>\n",
       "      <td>NaN</td>\n",
       "      <td>NaN</td>\n",
       "      <td>NaN</td>\n",
       "      <td>NaN</td>\n",
       "      <td>NaN</td>\n",
       "      <td>56.67</td>\n",
       "      <td>50.61</td>\n",
       "      <td>NaN</td>\n",
       "      <td>NaN</td>\n",
       "      <td>...</td>\n",
       "      <td>NaN</td>\n",
       "      <td>NaN</td>\n",
       "      <td>NaN</td>\n",
       "      <td>NaN</td>\n",
       "      <td>NaN</td>\n",
       "      <td>NaN</td>\n",
       "      <td>NaN</td>\n",
       "      <td>NaN</td>\n",
       "      <td>55.04</td>\n",
       "      <td>NaN</td>\n",
       "    </tr>\n",
       "    <tr>\n",
       "      <th>2004</th>\n",
       "      <td>NaN</td>\n",
       "      <td>NaN</td>\n",
       "      <td>NaN</td>\n",
       "      <td>NaN</td>\n",
       "      <td>17.27</td>\n",
       "      <td>NaN</td>\n",
       "      <td>77.91</td>\n",
       "      <td>28.82</td>\n",
       "      <td>NaN</td>\n",
       "      <td>NaN</td>\n",
       "      <td>...</td>\n",
       "      <td>NaN</td>\n",
       "      <td>NaN</td>\n",
       "      <td>NaN</td>\n",
       "      <td>NaN</td>\n",
       "      <td>NaN</td>\n",
       "      <td>NaN</td>\n",
       "      <td>NaN</td>\n",
       "      <td>NaN</td>\n",
       "      <td>65.42</td>\n",
       "      <td>NaN</td>\n",
       "    </tr>\n",
       "    <tr>\n",
       "      <th>2005</th>\n",
       "      <td>NaN</td>\n",
       "      <td>NaN</td>\n",
       "      <td>NaN</td>\n",
       "      <td>NaN</td>\n",
       "      <td>130.14</td>\n",
       "      <td>NaN</td>\n",
       "      <td>33.86</td>\n",
       "      <td>27.62</td>\n",
       "      <td>NaN</td>\n",
       "      <td>NaN</td>\n",
       "      <td>...</td>\n",
       "      <td>NaN</td>\n",
       "      <td>NaN</td>\n",
       "      <td>NaN</td>\n",
       "      <td>NaN</td>\n",
       "      <td>NaN</td>\n",
       "      <td>NaN</td>\n",
       "      <td>NaN</td>\n",
       "      <td>8.25</td>\n",
       "      <td>49.08</td>\n",
       "      <td>NaN</td>\n",
       "    </tr>\n",
       "    <tr>\n",
       "      <th>2006</th>\n",
       "      <td>NaN</td>\n",
       "      <td>NaN</td>\n",
       "      <td>NaN</td>\n",
       "      <td>NaN</td>\n",
       "      <td>119.81</td>\n",
       "      <td>NaN</td>\n",
       "      <td>5.28</td>\n",
       "      <td>11.26</td>\n",
       "      <td>NaN</td>\n",
       "      <td>NaN</td>\n",
       "      <td>...</td>\n",
       "      <td>NaN</td>\n",
       "      <td>NaN</td>\n",
       "      <td>NaN</td>\n",
       "      <td>NaN</td>\n",
       "      <td>NaN</td>\n",
       "      <td>137.15</td>\n",
       "      <td>NaN</td>\n",
       "      <td>51.62</td>\n",
       "      <td>10.04</td>\n",
       "      <td>NaN</td>\n",
       "    </tr>\n",
       "    <tr>\n",
       "      <th>2007</th>\n",
       "      <td>NaN</td>\n",
       "      <td>NaN</td>\n",
       "      <td>NaN</td>\n",
       "      <td>0.02</td>\n",
       "      <td>146.94</td>\n",
       "      <td>NaN</td>\n",
       "      <td>3.40</td>\n",
       "      <td>0.27</td>\n",
       "      <td>NaN</td>\n",
       "      <td>NaN</td>\n",
       "      <td>...</td>\n",
       "      <td>NaN</td>\n",
       "      <td>NaN</td>\n",
       "      <td>NaN</td>\n",
       "      <td>NaN</td>\n",
       "      <td>NaN</td>\n",
       "      <td>152.77</td>\n",
       "      <td>NaN</td>\n",
       "      <td>95.41</td>\n",
       "      <td>0.55</td>\n",
       "      <td>NaN</td>\n",
       "    </tr>\n",
       "    <tr>\n",
       "      <th>2008</th>\n",
       "      <td>NaN</td>\n",
       "      <td>NaN</td>\n",
       "      <td>NaN</td>\n",
       "      <td>0.04</td>\n",
       "      <td>145.31</td>\n",
       "      <td>NaN</td>\n",
       "      <td>NaN</td>\n",
       "      <td>NaN</td>\n",
       "      <td>NaN</td>\n",
       "      <td>NaN</td>\n",
       "      <td>...</td>\n",
       "      <td>NaN</td>\n",
       "      <td>NaN</td>\n",
       "      <td>NaN</td>\n",
       "      <td>NaN</td>\n",
       "      <td>NaN</td>\n",
       "      <td>171.32</td>\n",
       "      <td>NaN</td>\n",
       "      <td>135.26</td>\n",
       "      <td>0.18</td>\n",
       "      <td>NaN</td>\n",
       "    </tr>\n",
       "    <tr>\n",
       "      <th>2009</th>\n",
       "      <td>NaN</td>\n",
       "      <td>NaN</td>\n",
       "      <td>NaN</td>\n",
       "      <td>NaN</td>\n",
       "      <td>119.54</td>\n",
       "      <td>NaN</td>\n",
       "      <td>NaN</td>\n",
       "      <td>NaN</td>\n",
       "      <td>NaN</td>\n",
       "      <td>NaN</td>\n",
       "      <td>...</td>\n",
       "      <td>NaN</td>\n",
       "      <td>NaN</td>\n",
       "      <td>NaN</td>\n",
       "      <td>NaN</td>\n",
       "      <td>NaN</td>\n",
       "      <td>206.97</td>\n",
       "      <td>NaN</td>\n",
       "      <td>120.29</td>\n",
       "      <td>NaN</td>\n",
       "      <td>NaN</td>\n",
       "    </tr>\n",
       "    <tr>\n",
       "      <th>2010</th>\n",
       "      <td>NaN</td>\n",
       "      <td>NaN</td>\n",
       "      <td>NaN</td>\n",
       "      <td>NaN</td>\n",
       "      <td>85.02</td>\n",
       "      <td>NaN</td>\n",
       "      <td>NaN</td>\n",
       "      <td>NaN</td>\n",
       "      <td>NaN</td>\n",
       "      <td>NaN</td>\n",
       "      <td>...</td>\n",
       "      <td>NaN</td>\n",
       "      <td>NaN</td>\n",
       "      <td>NaN</td>\n",
       "      <td>NaN</td>\n",
       "      <td>NaN</td>\n",
       "      <td>127.95</td>\n",
       "      <td>NaN</td>\n",
       "      <td>170.03</td>\n",
       "      <td>NaN</td>\n",
       "      <td>NaN</td>\n",
       "    </tr>\n",
       "    <tr>\n",
       "      <th>2011</th>\n",
       "      <td>NaN</td>\n",
       "      <td>NaN</td>\n",
       "      <td>63.20</td>\n",
       "      <td>NaN</td>\n",
       "      <td>26.18</td>\n",
       "      <td>NaN</td>\n",
       "      <td>NaN</td>\n",
       "      <td>NaN</td>\n",
       "      <td>NaN</td>\n",
       "      <td>NaN</td>\n",
       "      <td>...</td>\n",
       "      <td>NaN</td>\n",
       "      <td>NaN</td>\n",
       "      <td>NaN</td>\n",
       "      <td>NaN</td>\n",
       "      <td>NaN</td>\n",
       "      <td>59.65</td>\n",
       "      <td>NaN</td>\n",
       "      <td>143.84</td>\n",
       "      <td>NaN</td>\n",
       "      <td>NaN</td>\n",
       "    </tr>\n",
       "    <tr>\n",
       "      <th>2012</th>\n",
       "      <td>NaN</td>\n",
       "      <td>NaN</td>\n",
       "      <td>51.36</td>\n",
       "      <td>NaN</td>\n",
       "      <td>11.01</td>\n",
       "      <td>NaN</td>\n",
       "      <td>NaN</td>\n",
       "      <td>NaN</td>\n",
       "      <td>NaN</td>\n",
       "      <td>NaN</td>\n",
       "      <td>...</td>\n",
       "      <td>NaN</td>\n",
       "      <td>NaN</td>\n",
       "      <td>NaN</td>\n",
       "      <td>NaN</td>\n",
       "      <td>NaN</td>\n",
       "      <td>21.71</td>\n",
       "      <td>17.56</td>\n",
       "      <td>99.74</td>\n",
       "      <td>NaN</td>\n",
       "      <td>NaN</td>\n",
       "    </tr>\n",
       "    <tr>\n",
       "      <th>2013</th>\n",
       "      <td>NaN</td>\n",
       "      <td>NaN</td>\n",
       "      <td>56.57</td>\n",
       "      <td>NaN</td>\n",
       "      <td>1.54</td>\n",
       "      <td>NaN</td>\n",
       "      <td>NaN</td>\n",
       "      <td>NaN</td>\n",
       "      <td>NaN</td>\n",
       "      <td>NaN</td>\n",
       "      <td>...</td>\n",
       "      <td>NaN</td>\n",
       "      <td>NaN</td>\n",
       "      <td>NaN</td>\n",
       "      <td>NaN</td>\n",
       "      <td>NaN</td>\n",
       "      <td>8.59</td>\n",
       "      <td>21.65</td>\n",
       "      <td>88.58</td>\n",
       "      <td>NaN</td>\n",
       "      <td>18.96</td>\n",
       "    </tr>\n",
       "    <tr>\n",
       "      <th>2014</th>\n",
       "      <td>NaN</td>\n",
       "      <td>NaN</td>\n",
       "      <td>43.76</td>\n",
       "      <td>NaN</td>\n",
       "      <td>NaN</td>\n",
       "      <td>NaN</td>\n",
       "      <td>NaN</td>\n",
       "      <td>NaN</td>\n",
       "      <td>NaN</td>\n",
       "      <td>NaN</td>\n",
       "      <td>...</td>\n",
       "      <td>NaN</td>\n",
       "      <td>NaN</td>\n",
       "      <td>NaN</td>\n",
       "      <td>NaN</td>\n",
       "      <td>NaN</td>\n",
       "      <td>3.75</td>\n",
       "      <td>22.03</td>\n",
       "      <td>34.74</td>\n",
       "      <td>NaN</td>\n",
       "      <td>54.07</td>\n",
       "    </tr>\n",
       "    <tr>\n",
       "      <th>2015</th>\n",
       "      <td>NaN</td>\n",
       "      <td>NaN</td>\n",
       "      <td>27.78</td>\n",
       "      <td>NaN</td>\n",
       "      <td>NaN</td>\n",
       "      <td>NaN</td>\n",
       "      <td>NaN</td>\n",
       "      <td>NaN</td>\n",
       "      <td>NaN</td>\n",
       "      <td>NaN</td>\n",
       "      <td>...</td>\n",
       "      <td>NaN</td>\n",
       "      <td>NaN</td>\n",
       "      <td>NaN</td>\n",
       "      <td>NaN</td>\n",
       "      <td>NaN</td>\n",
       "      <td>1.14</td>\n",
       "      <td>16.35</td>\n",
       "      <td>11.96</td>\n",
       "      <td>NaN</td>\n",
       "      <td>60.14</td>\n",
       "    </tr>\n",
       "    <tr>\n",
       "      <th>2016</th>\n",
       "      <td>NaN</td>\n",
       "      <td>NaN</td>\n",
       "      <td>15.14</td>\n",
       "      <td>NaN</td>\n",
       "      <td>NaN</td>\n",
       "      <td>NaN</td>\n",
       "      <td>NaN</td>\n",
       "      <td>NaN</td>\n",
       "      <td>NaN</td>\n",
       "      <td>NaN</td>\n",
       "      <td>...</td>\n",
       "      <td>NaN</td>\n",
       "      <td>NaN</td>\n",
       "      <td>NaN</td>\n",
       "      <td>NaN</td>\n",
       "      <td>NaN</td>\n",
       "      <td>0.18</td>\n",
       "      <td>4.60</td>\n",
       "      <td>1.52</td>\n",
       "      <td>NaN</td>\n",
       "      <td>26.15</td>\n",
       "    </tr>\n",
       "  </tbody>\n",
       "</table>\n",
       "<p>37 rows × 31 columns</p>\n",
       "</div>"
      ],
      "text/plain": [
       "platform          2600   3DO    3DS    DC      DS     GB    GBA     GC    GEN  \\\n",
       "year_of_release                                                                 \n",
       "1980             11.38   NaN    NaN   NaN     NaN    NaN    NaN    NaN    NaN   \n",
       "1981             35.68   NaN    NaN   NaN     NaN    NaN    NaN    NaN    NaN   \n",
       "1982             28.88   NaN    NaN   NaN     NaN    NaN    NaN    NaN    NaN   \n",
       "1983              5.84   NaN    NaN   NaN     NaN    NaN    NaN    NaN    NaN   \n",
       "1984              0.27   NaN    NaN   NaN     NaN    NaN    NaN    NaN    NaN   \n",
       "1985              0.45   NaN    NaN   NaN    0.02    NaN    NaN    NaN    NaN   \n",
       "1986              0.67   NaN    NaN   NaN     NaN    NaN    NaN    NaN    NaN   \n",
       "1987              1.94   NaN    NaN   NaN     NaN    NaN    NaN    NaN    NaN   \n",
       "1988              0.74   NaN    NaN   NaN     NaN   1.43    NaN    NaN    NaN   \n",
       "1989              0.63   NaN    NaN   NaN     NaN  64.97    NaN    NaN    NaN   \n",
       "1990               NaN   NaN    NaN   NaN     NaN   4.89    NaN    NaN   2.60   \n",
       "1991               NaN   NaN    NaN   NaN     NaN   5.57    NaN    NaN   4.33   \n",
       "1992               NaN   NaN    NaN   NaN     NaN  25.49    NaN    NaN  12.64   \n",
       "1993               NaN   NaN    NaN   NaN     NaN    NaN    NaN    NaN   0.65   \n",
       "1994               NaN  0.02    NaN   NaN     NaN  12.18    NaN    NaN   8.13   \n",
       "1995               NaN  0.08    NaN   NaN     NaN   3.60    NaN    NaN    NaN   \n",
       "1996               NaN   NaN    NaN   NaN     NaN  36.03    NaN    NaN    NaN   \n",
       "1997               NaN   NaN    NaN   NaN     NaN   6.37    NaN    NaN    NaN   \n",
       "1998               NaN   NaN    NaN  3.38     NaN  26.90    NaN    NaN    NaN   \n",
       "1999               NaN   NaN    NaN  5.16     NaN  38.00    NaN    NaN    NaN   \n",
       "2000               NaN   NaN    NaN  5.99     NaN  19.76   0.07    NaN    NaN   \n",
       "2001               NaN   NaN    NaN  1.07     NaN   9.24  61.53  26.34    NaN   \n",
       "2002               NaN   NaN    NaN  0.29     NaN    NaN  74.16  51.81    NaN   \n",
       "2003               NaN   NaN    NaN   NaN     NaN    NaN  56.67  50.61    NaN   \n",
       "2004               NaN   NaN    NaN   NaN   17.27    NaN  77.91  28.82    NaN   \n",
       "2005               NaN   NaN    NaN   NaN  130.14    NaN  33.86  27.62    NaN   \n",
       "2006               NaN   NaN    NaN   NaN  119.81    NaN   5.28  11.26    NaN   \n",
       "2007               NaN   NaN    NaN  0.02  146.94    NaN   3.40   0.27    NaN   \n",
       "2008               NaN   NaN    NaN  0.04  145.31    NaN    NaN    NaN    NaN   \n",
       "2009               NaN   NaN    NaN   NaN  119.54    NaN    NaN    NaN    NaN   \n",
       "2010               NaN   NaN    NaN   NaN   85.02    NaN    NaN    NaN    NaN   \n",
       "2011               NaN   NaN  63.20   NaN   26.18    NaN    NaN    NaN    NaN   \n",
       "2012               NaN   NaN  51.36   NaN   11.01    NaN    NaN    NaN    NaN   \n",
       "2013               NaN   NaN  56.57   NaN    1.54    NaN    NaN    NaN    NaN   \n",
       "2014               NaN   NaN  43.76   NaN     NaN    NaN    NaN    NaN    NaN   \n",
       "2015               NaN   NaN  27.78   NaN     NaN    NaN    NaN    NaN    NaN   \n",
       "2016               NaN   NaN  15.14   NaN     NaN    NaN    NaN    NaN    NaN   \n",
       "\n",
       "platform           GG  ...    SAT   SCD   SNES  TG16    WS     Wii   WiiU  \\\n",
       "year_of_release        ...                                                  \n",
       "1980              NaN  ...    NaN   NaN    NaN   NaN   NaN     NaN    NaN   \n",
       "1981              NaN  ...    NaN   NaN    NaN   NaN   NaN     NaN    NaN   \n",
       "1982              NaN  ...    NaN   NaN    NaN   NaN   NaN     NaN    NaN   \n",
       "1983              NaN  ...    NaN   NaN    NaN   NaN   NaN     NaN    NaN   \n",
       "1984              NaN  ...    NaN   NaN    NaN   NaN   NaN     NaN    NaN   \n",
       "1985              NaN  ...    NaN   NaN    NaN   NaN   NaN     NaN    NaN   \n",
       "1986              NaN  ...    NaN   NaN    NaN   NaN   NaN     NaN    NaN   \n",
       "1987              NaN  ...    NaN   NaN    NaN   NaN   NaN     NaN    NaN   \n",
       "1988              NaN  ...    NaN   NaN    NaN   NaN   NaN     NaN    NaN   \n",
       "1989              NaN  ...    NaN   NaN    NaN   NaN   NaN     NaN    NaN   \n",
       "1990              NaN  ...    NaN   NaN  26.15   NaN   NaN     NaN    NaN   \n",
       "1991              NaN  ...    NaN   NaN  16.22   NaN   NaN     NaN    NaN   \n",
       "1992             0.04  ...    NaN   NaN  32.98   NaN   NaN     NaN    NaN   \n",
       "1993              NaN  ...    NaN  1.50  40.02   NaN   NaN     NaN    NaN   \n",
       "1994              NaN  ...   3.65  0.36  35.08   NaN   NaN     NaN    NaN   \n",
       "1995              NaN  ...  11.57   NaN  32.20  0.16   NaN     NaN    NaN   \n",
       "1996              NaN  ...   7.69   NaN  15.92   NaN   NaN     NaN    NaN   \n",
       "1997              NaN  ...   6.77   NaN   0.99   NaN   NaN     NaN    NaN   \n",
       "1998              NaN  ...   3.82   NaN   0.22   NaN   NaN     NaN    NaN   \n",
       "1999              NaN  ...   0.09   NaN   0.26   NaN  0.46     NaN    NaN   \n",
       "2000              NaN  ...    NaN   NaN    NaN   NaN  0.68     NaN    NaN   \n",
       "2001              NaN  ...    NaN   NaN    NaN   NaN  0.28     NaN    NaN   \n",
       "2002              NaN  ...    NaN   NaN    NaN   NaN   NaN     NaN    NaN   \n",
       "2003              NaN  ...    NaN   NaN    NaN   NaN   NaN     NaN    NaN   \n",
       "2004              NaN  ...    NaN   NaN    NaN   NaN   NaN     NaN    NaN   \n",
       "2005              NaN  ...    NaN   NaN    NaN   NaN   NaN     NaN    NaN   \n",
       "2006              NaN  ...    NaN   NaN    NaN   NaN   NaN  137.15    NaN   \n",
       "2007              NaN  ...    NaN   NaN    NaN   NaN   NaN  152.77    NaN   \n",
       "2008              NaN  ...    NaN   NaN    NaN   NaN   NaN  171.32    NaN   \n",
       "2009              NaN  ...    NaN   NaN    NaN   NaN   NaN  206.97    NaN   \n",
       "2010              NaN  ...    NaN   NaN    NaN   NaN   NaN  127.95    NaN   \n",
       "2011              NaN  ...    NaN   NaN    NaN   NaN   NaN   59.65    NaN   \n",
       "2012              NaN  ...    NaN   NaN    NaN   NaN   NaN   21.71  17.56   \n",
       "2013              NaN  ...    NaN   NaN    NaN   NaN   NaN    8.59  21.65   \n",
       "2014              NaN  ...    NaN   NaN    NaN   NaN   NaN    3.75  22.03   \n",
       "2015              NaN  ...    NaN   NaN    NaN   NaN   NaN    1.14  16.35   \n",
       "2016              NaN  ...    NaN   NaN    NaN   NaN   NaN    0.18   4.60   \n",
       "\n",
       "platform           X360     XB   XOne  \n",
       "year_of_release                        \n",
       "1980                NaN    NaN    NaN  \n",
       "1981                NaN    NaN    NaN  \n",
       "1982                NaN    NaN    NaN  \n",
       "1983                NaN    NaN    NaN  \n",
       "1984                NaN    NaN    NaN  \n",
       "1985                NaN    NaN    NaN  \n",
       "1986                NaN    NaN    NaN  \n",
       "1987                NaN    NaN    NaN  \n",
       "1988                NaN    NaN    NaN  \n",
       "1989                NaN    NaN    NaN  \n",
       "1990                NaN    NaN    NaN  \n",
       "1991                NaN    NaN    NaN  \n",
       "1992                NaN    NaN    NaN  \n",
       "1993                NaN    NaN    NaN  \n",
       "1994                NaN    NaN    NaN  \n",
       "1995                NaN    NaN    NaN  \n",
       "1996                NaN    NaN    NaN  \n",
       "1997                NaN    NaN    NaN  \n",
       "1998                NaN    NaN    NaN  \n",
       "1999                NaN    NaN    NaN  \n",
       "2000                NaN   0.99    NaN  \n",
       "2001                NaN  22.26    NaN  \n",
       "2002                NaN  48.01    NaN  \n",
       "2003                NaN  55.04    NaN  \n",
       "2004                NaN  65.42    NaN  \n",
       "2005               8.25  49.08    NaN  \n",
       "2006              51.62  10.04    NaN  \n",
       "2007              95.41   0.55    NaN  \n",
       "2008             135.26   0.18    NaN  \n",
       "2009             120.29    NaN    NaN  \n",
       "2010             170.03    NaN    NaN  \n",
       "2011             143.84    NaN    NaN  \n",
       "2012              99.74    NaN    NaN  \n",
       "2013              88.58    NaN  18.96  \n",
       "2014              34.74    NaN  54.07  \n",
       "2015              11.96    NaN  60.14  \n",
       "2016               1.52    NaN  26.15  \n",
       "\n",
       "[37 rows x 31 columns]"
      ]
     },
     "metadata": {},
     "output_type": "display_data"
    }
   ],
   "source": [
    "data_year = data.pivot_table(index = 'year_of_release', columns= \"platform\", values = 'total_sales', aggfunc = 'sum')\n",
    "\n",
    "display(data_year)"
   ]
  },
  {
   "cell_type": "code",
   "execution_count": 12,
   "metadata": {},
   "outputs": [
    {
     "data": {
      "image/png": "[encoded data removed]",
      "text/plain": [
       "<Figure size 1080x504 with 1 Axes>"
      ]
     },
     "metadata": {
      "needs_background": "light"
     },
     "output_type": "display_data"
    }
   ],
   "source": [
    "import matplotlib.pyplot as plt\n",
    "data.pivot_table(index='year_of_release', columns = 'platform', values='total_sales', aggfunc='sum').plot(grid=True, figsize=(15, 7))\n",
    "plt.show()"
   ]
  },
  {
   "cell_type": "markdown",
   "metadata": {},
   "source": [
    "По графику видео, что новые платформы появляются регулярно.\n",
    "\n",
    "По таблице выше можно заметить, что успешные платформы живут от 7-10 лет, например \"2600\" и  \" Wii\",  исть и такие что живту по 2-3 года, например, \" SCD\" и \"WS\".Скорее всего это свящано с популярностью иигроков.\n",
    "Старые платформы исчезают постепенно."
   ]
  },
  {
   "cell_type": "markdown",
   "metadata": {},
   "source": [
    "***Для прогноза на 2017 год возмем данные за 2015-2016 года***"
   ]
  },
  {
   "cell_type": "code",
   "execution_count": 13,
   "metadata": {},
   "outputs": [
    {
     "data": {
      "image/png": "[encoded data removed]",
      "text/plain": [
       "<Figure size 1080x504 with 1 Axes>"
      ]
     },
     "metadata": {
      "needs_background": "light"
     },
     "output_type": "display_data"
    }
   ],
   "source": [
    "#как менялись продажи по платформам в 2015 и 2016 годах\n",
    "\n",
    "data1 = data.query(\"2015 <= year_of_release <= 2016\")\n",
    "import matplotlib.pyplot as plt\n",
    "#построим график распределения по годам\n",
    "data1.pivot_table(index='year_of_release', columns = 'platform', values='total_sales', aggfunc='sum').plot(grid=True, figsize=(15, 7))\n",
    "plt.show()\n"
   ]
  },
  {
   "cell_type": "markdown",
   "metadata": {},
   "source": [
    "По графику видно, что продаж в последние 2 года стремительно сокращаются по всем платформам.\n",
    "Только по 3 из них показатели суммарных продаж достаточно большие. Это платформы:PS4, XOne, 3DS.\n",
    "По остальным же показатель стремится к нулю."
   ]
  },
  {
   "cell_type": "code",
   "execution_count": 66,
   "metadata": {},
   "outputs": [
    {
     "data": {
      "text/html": [
       "<div>\n",
       "<style scoped>\n",
       "    .dataframe tbody tr th:only-of-type {\n",
       "        vertical-align: middle;\n",
       "    }\n",
       "\n",
       "    .dataframe tbody tr th {\n",
       "        vertical-align: top;\n",
       "    }\n",
       "\n",
       "    .dataframe thead th {\n",
       "        text-align: right;\n",
       "    }\n",
       "</style>\n",
       "<table border=\"1\" class=\"dataframe\">\n",
       "  <thead>\n",
       "    <tr style=\"text-align: right;\">\n",
       "      <th></th>\n",
       "      <th>na_sales</th>\n",
       "      <th>eu_sales</th>\n",
       "      <th>jp_sales</th>\n",
       "      <th>other_sales</th>\n",
       "      <th>total_sales</th>\n",
       "    </tr>\n",
       "    <tr>\n",
       "      <th>platform</th>\n",
       "      <th></th>\n",
       "      <th></th>\n",
       "      <th></th>\n",
       "      <th></th>\n",
       "      <th></th>\n",
       "    </tr>\n",
       "  </thead>\n",
       "  <tbody>\n",
       "    <tr>\n",
       "      <th>2600</th>\n",
       "      <td>80.78</td>\n",
       "      <td>4.86</td>\n",
       "      <td>0.00</td>\n",
       "      <td>0.84</td>\n",
       "      <td>86.48</td>\n",
       "    </tr>\n",
       "    <tr>\n",
       "      <th>3DO</th>\n",
       "      <td>0.00</td>\n",
       "      <td>0.00</td>\n",
       "      <td>0.10</td>\n",
       "      <td>0.00</td>\n",
       "      <td>0.10</td>\n",
       "    </tr>\n",
       "    <tr>\n",
       "      <th>3DS</th>\n",
       "      <td>82.65</td>\n",
       "      <td>61.27</td>\n",
       "      <td>100.62</td>\n",
       "      <td>13.27</td>\n",
       "      <td>257.81</td>\n",
       "    </tr>\n",
       "    <tr>\n",
       "      <th>DC</th>\n",
       "      <td>5.43</td>\n",
       "      <td>1.69</td>\n",
       "      <td>8.56</td>\n",
       "      <td>0.27</td>\n",
       "      <td>15.95</td>\n",
       "    </tr>\n",
       "    <tr>\n",
       "      <th>DS</th>\n",
       "      <td>380.31</td>\n",
       "      <td>188.41</td>\n",
       "      <td>175.02</td>\n",
       "      <td>59.04</td>\n",
       "      <td>802.78</td>\n",
       "    </tr>\n",
       "    <tr>\n",
       "      <th>GB</th>\n",
       "      <td>113.64</td>\n",
       "      <td>47.51</td>\n",
       "      <td>85.12</td>\n",
       "      <td>8.16</td>\n",
       "      <td>254.43</td>\n",
       "    </tr>\n",
       "    <tr>\n",
       "      <th>GBA</th>\n",
       "      <td>184.12</td>\n",
       "      <td>74.59</td>\n",
       "      <td>46.56</td>\n",
       "      <td>7.61</td>\n",
       "      <td>312.88</td>\n",
       "    </tr>\n",
       "    <tr>\n",
       "      <th>GC</th>\n",
       "      <td>131.94</td>\n",
       "      <td>38.32</td>\n",
       "      <td>21.34</td>\n",
       "      <td>5.13</td>\n",
       "      <td>196.73</td>\n",
       "    </tr>\n",
       "    <tr>\n",
       "      <th>GEN</th>\n",
       "      <td>19.27</td>\n",
       "      <td>5.52</td>\n",
       "      <td>2.67</td>\n",
       "      <td>0.89</td>\n",
       "      <td>28.35</td>\n",
       "    </tr>\n",
       "    <tr>\n",
       "      <th>GG</th>\n",
       "      <td>0.00</td>\n",
       "      <td>0.00</td>\n",
       "      <td>0.04</td>\n",
       "      <td>0.00</td>\n",
       "      <td>0.04</td>\n",
       "    </tr>\n",
       "    <tr>\n",
       "      <th>N64</th>\n",
       "      <td>138.91</td>\n",
       "      <td>41.03</td>\n",
       "      <td>33.76</td>\n",
       "      <td>4.31</td>\n",
       "      <td>218.01</td>\n",
       "    </tr>\n",
       "    <tr>\n",
       "      <th>NES</th>\n",
       "      <td>125.94</td>\n",
       "      <td>21.15</td>\n",
       "      <td>98.65</td>\n",
       "      <td>5.31</td>\n",
       "      <td>251.05</td>\n",
       "    </tr>\n",
       "    <tr>\n",
       "      <th>NG</th>\n",
       "      <td>0.00</td>\n",
       "      <td>0.00</td>\n",
       "      <td>1.44</td>\n",
       "      <td>0.00</td>\n",
       "      <td>1.44</td>\n",
       "    </tr>\n",
       "    <tr>\n",
       "      <th>PC</th>\n",
       "      <td>93.34</td>\n",
       "      <td>140.37</td>\n",
       "      <td>0.17</td>\n",
       "      <td>21.88</td>\n",
       "      <td>255.76</td>\n",
       "    </tr>\n",
       "    <tr>\n",
       "      <th>PCFX</th>\n",
       "      <td>0.00</td>\n",
       "      <td>0.00</td>\n",
       "      <td>0.03</td>\n",
       "      <td>0.00</td>\n",
       "      <td>0.03</td>\n",
       "    </tr>\n",
       "    <tr>\n",
       "      <th>PS</th>\n",
       "      <td>334.72</td>\n",
       "      <td>212.39</td>\n",
       "      <td>139.78</td>\n",
       "      <td>40.69</td>\n",
       "      <td>727.58</td>\n",
       "    </tr>\n",
       "    <tr>\n",
       "      <th>PS2</th>\n",
       "      <td>572.92</td>\n",
       "      <td>332.63</td>\n",
       "      <td>137.54</td>\n",
       "      <td>190.47</td>\n",
       "      <td>1233.56</td>\n",
       "    </tr>\n",
       "    <tr>\n",
       "      <th>PS3</th>\n",
       "      <td>390.13</td>\n",
       "      <td>327.21</td>\n",
       "      <td>79.41</td>\n",
       "      <td>134.59</td>\n",
       "      <td>931.34</td>\n",
       "    </tr>\n",
       "    <tr>\n",
       "      <th>PS4</th>\n",
       "      <td>108.74</td>\n",
       "      <td>141.09</td>\n",
       "      <td>15.96</td>\n",
       "      <td>48.35</td>\n",
       "      <td>314.14</td>\n",
       "    </tr>\n",
       "    <tr>\n",
       "      <th>PSP</th>\n",
       "      <td>107.27</td>\n",
       "      <td>65.62</td>\n",
       "      <td>75.88</td>\n",
       "      <td>40.76</td>\n",
       "      <td>289.53</td>\n",
       "    </tr>\n",
       "    <tr>\n",
       "      <th>PSV</th>\n",
       "      <td>12.47</td>\n",
       "      <td>13.07</td>\n",
       "      <td>21.84</td>\n",
       "      <td>6.43</td>\n",
       "      <td>53.81</td>\n",
       "    </tr>\n",
       "    <tr>\n",
       "      <th>SAT</th>\n",
       "      <td>0.72</td>\n",
       "      <td>0.54</td>\n",
       "      <td>32.26</td>\n",
       "      <td>0.07</td>\n",
       "      <td>33.59</td>\n",
       "    </tr>\n",
       "    <tr>\n",
       "      <th>SCD</th>\n",
       "      <td>1.00</td>\n",
       "      <td>0.36</td>\n",
       "      <td>0.45</td>\n",
       "      <td>0.05</td>\n",
       "      <td>1.86</td>\n",
       "    </tr>\n",
       "    <tr>\n",
       "      <th>SNES</th>\n",
       "      <td>61.23</td>\n",
       "      <td>19.04</td>\n",
       "      <td>116.55</td>\n",
       "      <td>3.22</td>\n",
       "      <td>200.04</td>\n",
       "    </tr>\n",
       "    <tr>\n",
       "      <th>TG16</th>\n",
       "      <td>0.00</td>\n",
       "      <td>0.00</td>\n",
       "      <td>0.16</td>\n",
       "      <td>0.00</td>\n",
       "      <td>0.16</td>\n",
       "    </tr>\n",
       "    <tr>\n",
       "      <th>WS</th>\n",
       "      <td>0.00</td>\n",
       "      <td>0.00</td>\n",
       "      <td>1.42</td>\n",
       "      <td>0.00</td>\n",
       "      <td>1.42</td>\n",
       "    </tr>\n",
       "    <tr>\n",
       "      <th>Wii</th>\n",
       "      <td>486.87</td>\n",
       "      <td>258.32</td>\n",
       "      <td>68.28</td>\n",
       "      <td>77.71</td>\n",
       "      <td>891.18</td>\n",
       "    </tr>\n",
       "    <tr>\n",
       "      <th>WiiU</th>\n",
       "      <td>38.10</td>\n",
       "      <td>25.13</td>\n",
       "      <td>13.01</td>\n",
       "      <td>5.95</td>\n",
       "      <td>82.19</td>\n",
       "    </tr>\n",
       "    <tr>\n",
       "      <th>X360</th>\n",
       "      <td>595.74</td>\n",
       "      <td>268.32</td>\n",
       "      <td>12.30</td>\n",
       "      <td>84.88</td>\n",
       "      <td>961.24</td>\n",
       "    </tr>\n",
       "    <tr>\n",
       "      <th>XB</th>\n",
       "      <td>182.06</td>\n",
       "      <td>59.65</td>\n",
       "      <td>1.38</td>\n",
       "      <td>8.48</td>\n",
       "      <td>251.57</td>\n",
       "    </tr>\n",
       "    <tr>\n",
       "      <th>XOne</th>\n",
       "      <td>93.12</td>\n",
       "      <td>51.59</td>\n",
       "      <td>0.34</td>\n",
       "      <td>14.27</td>\n",
       "      <td>159.32</td>\n",
       "    </tr>\n",
       "  </tbody>\n",
       "</table>\n",
       "</div>"
      ],
      "text/plain": [
       "          na_sales  eu_sales  jp_sales  other_sales  total_sales\n",
       "platform                                                        \n",
       "2600         80.78      4.86      0.00         0.84        86.48\n",
       "3DO           0.00      0.00      0.10         0.00         0.10\n",
       "3DS          82.65     61.27    100.62        13.27       257.81\n",
       "DC            5.43      1.69      8.56         0.27        15.95\n",
       "DS          380.31    188.41    175.02        59.04       802.78\n",
       "GB          113.64     47.51     85.12         8.16       254.43\n",
       "GBA         184.12     74.59     46.56         7.61       312.88\n",
       "GC          131.94     38.32     21.34         5.13       196.73\n",
       "GEN          19.27      5.52      2.67         0.89        28.35\n",
       "GG            0.00      0.00      0.04         0.00         0.04\n",
       "N64         138.91     41.03     33.76         4.31       218.01\n",
       "NES         125.94     21.15     98.65         5.31       251.05\n",
       "NG            0.00      0.00      1.44         0.00         1.44\n",
       "PC           93.34    140.37      0.17        21.88       255.76\n",
       "PCFX          0.00      0.00      0.03         0.00         0.03\n",
       "PS          334.72    212.39    139.78        40.69       727.58\n",
       "PS2         572.92    332.63    137.54       190.47      1233.56\n",
       "PS3         390.13    327.21     79.41       134.59       931.34\n",
       "PS4         108.74    141.09     15.96        48.35       314.14\n",
       "PSP         107.27     65.62     75.88        40.76       289.53\n",
       "PSV          12.47     13.07     21.84         6.43        53.81\n",
       "SAT           0.72      0.54     32.26         0.07        33.59\n",
       "SCD           1.00      0.36      0.45         0.05         1.86\n",
       "SNES         61.23     19.04    116.55         3.22       200.04\n",
       "TG16          0.00      0.00      0.16         0.00         0.16\n",
       "WS            0.00      0.00      1.42         0.00         1.42\n",
       "Wii         486.87    258.32     68.28        77.71       891.18\n",
       "WiiU         38.10     25.13     13.01         5.95        82.19\n",
       "X360        595.74    268.32     12.30        84.88       961.24\n",
       "XB          182.06     59.65      1.38         8.48       251.57\n",
       "XOne         93.12     51.59      0.34        14.27       159.32"
      ]
     },
     "execution_count": 66,
     "metadata": {},
     "output_type": "execute_result"
    }
   ],
   "source": [
    "# суммируем столбцы продаж по весем годам \n",
    "data.groupby(['platform'])['na_sales', 'eu_sales', 'jp_sales', 'other_sales', 'total_sales'].sum()\n"
   ]
  },
  {
   "cell_type": "markdown",
   "metadata": {},
   "source": [
    "***Потенциально прибыльные платформы***\n",
    "\n",
    "По общим данным наиболее крупные продажи  по всем годам у платформ PS4, XOne и 3DS.\n",
    "Возьмем их для анализа, как самые продаваемые  и новые игры."
   ]
  },
  {
   "cell_type": "code",
   "execution_count": 15,
   "metadata": {},
   "outputs": [
    {
     "data": {
      "image/png": "[encoded data removed]",
      "text/plain": [
       "<Figure size 1080x504 with 1 Axes>"
      ]
     },
     "metadata": {
      "needs_background": "light"
     },
     "output_type": "display_data"
    }
   ],
   "source": [
    "#построим график распределения по годам\n",
    "data1 = data.query('platform == [\"XOne\", \"PS4\", \"3DS\"]')\n",
    "\n",
    "data1.pivot_table(index='year_of_release', columns = 'platform', values='total_sales', aggfunc='sum').plot(grid=True, figsize=(15, 7))\n",
    "plt.show()"
   ]
  },
  {
   "cell_type": "markdown",
   "metadata": {},
   "source": [
    " Рассмотрев данимику PS4, XOne и 3DS с 2011 по 2016 год по размеру выручки, принято решение убрать из анализа платформу 3DS, так как выручка по ней с 2013 идет на убыль, скорее всег платформа устарела.\n",
    " Будем рассмтривтаь для прогноза 2 более современные платформы:XOne и PS4."
   ]
  },
  {
   "cell_type": "code",
   "execution_count": 16,
   "metadata": {},
   "outputs": [
    {
     "data": {
      "text/html": [
       "<div>\n",
       "<style scoped>\n",
       "    .dataframe tbody tr th:only-of-type {\n",
       "        vertical-align: middle;\n",
       "    }\n",
       "\n",
       "    .dataframe tbody tr th {\n",
       "        vertical-align: top;\n",
       "    }\n",
       "\n",
       "    .dataframe thead th {\n",
       "        text-align: right;\n",
       "    }\n",
       "</style>\n",
       "<table border=\"1\" class=\"dataframe\">\n",
       "  <thead>\n",
       "    <tr style=\"text-align: right;\">\n",
       "      <th></th>\n",
       "      <th>count</th>\n",
       "      <th>mean</th>\n",
       "      <th>std</th>\n",
       "      <th>min</th>\n",
       "      <th>25%</th>\n",
       "      <th>50%</th>\n",
       "      <th>75%</th>\n",
       "      <th>max</th>\n",
       "    </tr>\n",
       "    <tr>\n",
       "      <th>platform</th>\n",
       "      <th></th>\n",
       "      <th></th>\n",
       "      <th></th>\n",
       "      <th></th>\n",
       "      <th></th>\n",
       "      <th></th>\n",
       "      <th></th>\n",
       "      <th></th>\n",
       "    </tr>\n",
       "  </thead>\n",
       "  <tbody>\n",
       "    <tr>\n",
       "      <th>PS4</th>\n",
       "      <td>392.0</td>\n",
       "      <td>0.801378</td>\n",
       "      <td>1.609456</td>\n",
       "      <td>0.01</td>\n",
       "      <td>0.06</td>\n",
       "      <td>0.20</td>\n",
       "      <td>0.730</td>\n",
       "      <td>14.63</td>\n",
       "    </tr>\n",
       "    <tr>\n",
       "      <th>XOne</th>\n",
       "      <td>247.0</td>\n",
       "      <td>0.645020</td>\n",
       "      <td>1.036139</td>\n",
       "      <td>0.01</td>\n",
       "      <td>0.06</td>\n",
       "      <td>0.22</td>\n",
       "      <td>0.685</td>\n",
       "      <td>7.39</td>\n",
       "    </tr>\n",
       "  </tbody>\n",
       "</table>\n",
       "</div>"
      ],
      "text/plain": [
       "          count      mean       std   min   25%   50%    75%    max\n",
       "platform                                                           \n",
       "PS4       392.0  0.801378  1.609456  0.01  0.06  0.20  0.730  14.63\n",
       "XOne      247.0  0.645020  1.036139  0.01  0.06  0.22  0.685   7.39"
      ]
     },
     "execution_count": 16,
     "metadata": {},
     "output_type": "execute_result"
    }
   ],
   "source": [
    "import pandas as pd\n",
    "import matplotlib.pyplot as plt\n",
    "import seaborn as sns\n",
    "import numpy as np\n",
    "from scipy import stats as st\n",
    "\n",
    "#берем сред данных по выбранным 2 платформам за 2015 и 2016 год\n",
    "data1 = data1.query('platform != \"3DS\"')\n",
    "\n",
    "#построим график «ящик с усами» по глобальным продажам игр в разбивке по платформам. Опишите результат\n",
    "data1.groupby('platform')['total_sales'].describe()\n",
    "\n"
   ]
  },
  {
   "cell_type": "code",
   "execution_count": 17,
   "metadata": {},
   "outputs": [
    {
     "data": {
      "image/png": "[encoded data removed]",
      "text/plain": [
       "<Figure size 432x288 with 1 Axes>"
      ]
     },
     "metadata": {
      "needs_background": "light"
     },
     "output_type": "display_data"
    }
   ],
   "source": [
    "#общая диаграмму размаха\n",
    "data1.boxplot(column='total_sales', by='platform')\n",
    "plt.show() "
   ]
  },
  {
   "cell_type": "markdown",
   "metadata": {},
   "source": [
    "По общуй диаграмме размаха видны частые выбросы и редкие. Данные выбросы решено оставить, т.к. есть игры, которые могли иметь большие продажи."
   ]
  },
  {
   "cell_type": "code",
   "execution_count": 71,
   "metadata": {},
   "outputs": [
    {
     "data": {
      "image/png": "[encoded data removed]",
      "text/plain": [
       "<Figure size 1080x504 with 1 Axes>"
      ]
     },
     "metadata": {
      "needs_background": "light"
     },
     "output_type": "display_data"
    }
   ],
   "source": [
    "# сужаем диапазон до 6 млн продаж\n",
    "data1.boxplot(column='total_sales', by='platform', figsize=(15,7))\n",
    "# подгоняем данные по стороне 'Y'\n",
    "plt.ylim(0, 6)\n",
    "plt.show()"
   ]
  },
  {
   "cell_type": "markdown",
   "metadata": {},
   "source": [
    "Посмотрим влияние на продажи внутри платформы PS4 (так как она более крупная по рамеру выручки) \n",
    "\n",
    "\n",
    "Построим диаграмму рассеивания и посчитаем корреляцию между отзывами пользователей и критиков и продажами.\n"
   ]
  },
  {
   "cell_type": "code",
   "execution_count": 56,
   "metadata": {},
   "outputs": [
    {
     "data": {
      "image/png": "[encoded data removed]",
      "text/plain": [
       "<Figure size 576x576 with 1 Axes>"
      ]
     },
     "metadata": {
      "needs_background": "light"
     },
     "output_type": "display_data"
    }
   ],
   "source": [
    "#диаграмма рассеивания по отзывам пользователей\n",
    "data2 = data1.query('user_score != 0 and critic_score != 0')\n",
    "data2[data2['platform']=='PS4'].plot(x='user_score', y='total_sales', kind='scatter', alpha=0.3, figsize=(8,8), grid=True)\n",
    "plt.show()"
   ]
  },
  {
   "cell_type": "code",
   "execution_count": 57,
   "metadata": {},
   "outputs": [
    {
     "data": {
      "image/png": "[encoded data removed]",
      "text/plain": [
       "<Figure size 576x576 with 1 Axes>"
      ]
     },
     "metadata": {
      "needs_background": "light"
     },
     "output_type": "display_data"
    }
   ],
   "source": [
    "#диаграмма рассеивания по отзывам критиком\n",
    "data2[data2['platform']=='PS4'].plot(x='critic_score', y='total_sales', kind='scatter', alpha=0.3, figsize=(8,8), grid=True)\n",
    "plt.show()"
   ]
  },
  {
   "cell_type": "code",
   "execution_count": 20,
   "metadata": {},
   "outputs": [
    {
     "name": "stdout",
     "output_type": "stream",
     "text": [
      "Коэффициент Пирсона между отзывами пользователей и продажами: -0.03362497596528878\n",
      "Коэффициент Пирсона отзывами критиков и продажами: 0.40589480145836687\n"
     ]
    }
   ],
   "source": [
    "#корреляция между отывами и продажами\n",
    "data_ps4 = data1[data1['platform']=='PS4']\n",
    "data_ps4 = data_ps4[data_ps4['user_score'] != 0]\n",
    "data_ps4 = data_ps4[data_ps4['critic_score'] != 0]\n",
    "print('Коэффициент Пирсона между отзывами пользователей и продажами:', (data_ps4['user_score'].corr(data_ps4['total_sales'])))\n",
    "print('Коэффициент Пирсона отзывами критиков и продажами:', (data_ps4['critic_score'].corr(data_ps4['total_sales'])))"
   ]
  },
  {
   "cell_type": "markdown",
   "metadata": {},
   "source": [
    "Просмотрев соотношение отзывов покупателе и критиков можно сказать, что большую часть составляют высокие оценки.\n",
    "\n",
    "По данным из диаграммы рассеивания у имеем  слабо отрицательную корреляция  ~0.064 по отзывам покупателей и продажам.\n",
    "\n",
    "И слабо положительная корреляцию ~ 0.393 по отзывам критиков и продажам."
   ]
  },
  {
   "cell_type": "markdown",
   "metadata": {},
   "source": [
    "***Сравним выводы с продажами игр на других платформах (по 2015-2016 гоа***\n"
   ]
  },
  {
   "cell_type": "code",
   "execution_count": 21,
   "metadata": {},
   "outputs": [
    {
     "data": {
      "text/html": [
       "<div>\n",
       "<style scoped>\n",
       "    .dataframe tbody tr th:only-of-type {\n",
       "        vertical-align: middle;\n",
       "    }\n",
       "\n",
       "    .dataframe tbody tr th {\n",
       "        vertical-align: top;\n",
       "    }\n",
       "\n",
       "    .dataframe thead th {\n",
       "        text-align: right;\n",
       "    }\n",
       "</style>\n",
       "<table border=\"1\" class=\"dataframe\">\n",
       "  <thead>\n",
       "    <tr style=\"text-align: right;\">\n",
       "      <th></th>\n",
       "      <th>count</th>\n",
       "      <th>mean</th>\n",
       "      <th>std</th>\n",
       "      <th>min</th>\n",
       "      <th>25%</th>\n",
       "      <th>50%</th>\n",
       "      <th>75%</th>\n",
       "      <th>max</th>\n",
       "    </tr>\n",
       "    <tr>\n",
       "      <th>platform</th>\n",
       "      <th></th>\n",
       "      <th></th>\n",
       "      <th></th>\n",
       "      <th></th>\n",
       "      <th></th>\n",
       "      <th></th>\n",
       "      <th></th>\n",
       "      <th></th>\n",
       "    </tr>\n",
       "  </thead>\n",
       "  <tbody>\n",
       "    <tr>\n",
       "      <th>3DS</th>\n",
       "      <td>132.0</td>\n",
       "      <td>0.325152</td>\n",
       "      <td>0.798620</td>\n",
       "      <td>0.01</td>\n",
       "      <td>0.030</td>\n",
       "      <td>0.090</td>\n",
       "      <td>0.2325</td>\n",
       "      <td>7.14</td>\n",
       "    </tr>\n",
       "    <tr>\n",
       "      <th>PC</th>\n",
       "      <td>104.0</td>\n",
       "      <td>0.132404</td>\n",
       "      <td>0.209449</td>\n",
       "      <td>0.01</td>\n",
       "      <td>0.020</td>\n",
       "      <td>0.050</td>\n",
       "      <td>0.1425</td>\n",
       "      <td>1.28</td>\n",
       "    </tr>\n",
       "    <tr>\n",
       "      <th>PS3</th>\n",
       "      <td>111.0</td>\n",
       "      <td>0.183964</td>\n",
       "      <td>0.342696</td>\n",
       "      <td>0.01</td>\n",
       "      <td>0.020</td>\n",
       "      <td>0.060</td>\n",
       "      <td>0.1600</td>\n",
       "      <td>2.70</td>\n",
       "    </tr>\n",
       "    <tr>\n",
       "      <th>PS4</th>\n",
       "      <td>301.0</td>\n",
       "      <td>0.625083</td>\n",
       "      <td>1.457063</td>\n",
       "      <td>0.01</td>\n",
       "      <td>0.050</td>\n",
       "      <td>0.120</td>\n",
       "      <td>0.4200</td>\n",
       "      <td>14.63</td>\n",
       "    </tr>\n",
       "    <tr>\n",
       "      <th>PSP</th>\n",
       "      <td>3.0</td>\n",
       "      <td>0.040000</td>\n",
       "      <td>0.034641</td>\n",
       "      <td>0.02</td>\n",
       "      <td>0.020</td>\n",
       "      <td>0.020</td>\n",
       "      <td>0.0500</td>\n",
       "      <td>0.08</td>\n",
       "    </tr>\n",
       "    <tr>\n",
       "      <th>PSV</th>\n",
       "      <td>195.0</td>\n",
       "      <td>0.053846</td>\n",
       "      <td>0.063669</td>\n",
       "      <td>0.01</td>\n",
       "      <td>0.020</td>\n",
       "      <td>0.030</td>\n",
       "      <td>0.0600</td>\n",
       "      <td>0.41</td>\n",
       "    </tr>\n",
       "    <tr>\n",
       "      <th>Wii</th>\n",
       "      <td>5.0</td>\n",
       "      <td>0.264000</td>\n",
       "      <td>0.390487</td>\n",
       "      <td>0.01</td>\n",
       "      <td>0.030</td>\n",
       "      <td>0.150</td>\n",
       "      <td>0.1800</td>\n",
       "      <td>0.95</td>\n",
       "    </tr>\n",
       "    <tr>\n",
       "      <th>WiiU</th>\n",
       "      <td>42.0</td>\n",
       "      <td>0.498810</td>\n",
       "      <td>0.850240</td>\n",
       "      <td>0.01</td>\n",
       "      <td>0.050</td>\n",
       "      <td>0.215</td>\n",
       "      <td>0.5175</td>\n",
       "      <td>4.44</td>\n",
       "    </tr>\n",
       "    <tr>\n",
       "      <th>X360</th>\n",
       "      <td>48.0</td>\n",
       "      <td>0.280833</td>\n",
       "      <td>0.381207</td>\n",
       "      <td>0.01</td>\n",
       "      <td>0.040</td>\n",
       "      <td>0.110</td>\n",
       "      <td>0.3525</td>\n",
       "      <td>1.70</td>\n",
       "    </tr>\n",
       "    <tr>\n",
       "      <th>XOne</th>\n",
       "      <td>167.0</td>\n",
       "      <td>0.516707</td>\n",
       "      <td>0.965940</td>\n",
       "      <td>0.01</td>\n",
       "      <td>0.035</td>\n",
       "      <td>0.130</td>\n",
       "      <td>0.5550</td>\n",
       "      <td>7.39</td>\n",
       "    </tr>\n",
       "  </tbody>\n",
       "</table>\n",
       "</div>"
      ],
      "text/plain": [
       "          count      mean       std   min    25%    50%     75%    max\n",
       "platform                                                              \n",
       "3DS       132.0  0.325152  0.798620  0.01  0.030  0.090  0.2325   7.14\n",
       "PC        104.0  0.132404  0.209449  0.01  0.020  0.050  0.1425   1.28\n",
       "PS3       111.0  0.183964  0.342696  0.01  0.020  0.060  0.1600   2.70\n",
       "PS4       301.0  0.625083  1.457063  0.01  0.050  0.120  0.4200  14.63\n",
       "PSP         3.0  0.040000  0.034641  0.02  0.020  0.020  0.0500   0.08\n",
       "PSV       195.0  0.053846  0.063669  0.01  0.020  0.030  0.0600   0.41\n",
       "Wii         5.0  0.264000  0.390487  0.01  0.030  0.150  0.1800   0.95\n",
       "WiiU       42.0  0.498810  0.850240  0.01  0.050  0.215  0.5175   4.44\n",
       "X360       48.0  0.280833  0.381207  0.01  0.040  0.110  0.3525   1.70\n",
       "XOne      167.0  0.516707  0.965940  0.01  0.035  0.130  0.5550   7.39"
      ]
     },
     "execution_count": 21,
     "metadata": {},
     "output_type": "execute_result"
    }
   ],
   "source": [
    "#data_all_pl -  срез основного файла по данным за 2015-2016гг.\n",
    "data_all_pl = data.query('year_of_release >2014')\n",
    "data_all_pl.groupby('platform')['total_sales'].describe()"
   ]
  },
  {
   "cell_type": "code",
   "execution_count": 22,
   "metadata": {},
   "outputs": [
    {
     "data": {
      "image/png": "[encoded data removed]",
      "text/plain": [
       "<Figure size 1800x504 with 1 Axes>"
      ]
     },
     "metadata": {
      "needs_background": "light"
     },
     "output_type": "display_data"
    }
   ],
   "source": [
    "#выводим диаграмму размаха общего плана\n",
    "data_all_pl.boxplot(column='total_sales', by='platform', figsize=(25,7))\n",
    "plt.show()"
   ]
  },
  {
   "cell_type": "markdown",
   "metadata": {},
   "source": [
    "В полученной диаграмме видим, что есть очень редкие выбросы с продажами в 80 млн (видимо эта игра была очень популярна), так же редкие, в отличии от других, выбросы есть в диапазоне от 20 до 40 млн. Уберем эти выбросы и еще раз посмотрим на диаграмму размаха."
   ]
  },
  {
   "cell_type": "code",
   "execution_count": 23,
   "metadata": {},
   "outputs": [
    {
     "data": {
      "image/png": "[encoded data removed]",
      "text/plain": [
       "<Figure size 1800x504 with 1 Axes>"
      ]
     },
     "metadata": {
      "needs_background": "light"
     },
     "output_type": "display_data"
    }
   ],
   "source": [
    "# теперь сужаем диапазон до 20 млн продаж\n",
    "data_all_pl.boxplot(column='total_sales', by='platform', figsize=(25,7))\n",
    "# подгоняем данные по стороне 'Y'\n",
    "plt.ylim(0, 20)\n",
    "plt.show()"
   ]
  },
  {
   "cell_type": "markdown",
   "metadata": {},
   "source": [
    "В этой выгрузке так же у всех позиций есть редкие выбросы, что нам не нужно. Если и оставлять выбросы, то они должны быть максимально частыми, которые будут полезны статистике. Мы уже близки к нашей финальной визуализации."
   ]
  },
  {
   "cell_type": "code",
   "execution_count": 24,
   "metadata": {},
   "outputs": [
    {
     "data": {
      "image/png": "[encoded data removed]",
      "text/plain": [
       "<Figure size 1800x504 with 1 Axes>"
      ]
     },
     "metadata": {
      "needs_background": "light"
     },
     "output_type": "display_data"
    }
   ],
   "source": [
    "# сужаем диапазон до 5 млн продаж\n",
    "data_all_pl.boxplot(column='total_sales', by='platform', figsize=(25,7))\n",
    "# подгоняем данные по стороне 'Y'\n",
    "plt.ylim(0, 5)\n",
    "plt.show()"
   ]
  },
  {
   "cell_type": "markdown",
   "metadata": {},
   "source": [
    "***Вывод***\n",
    "\n",
    "Можем выделить несколько платформ, которые выделяются: PS и PS4 и XOne. Границы этих платформ высокие, но при всем при этом медиана у всех платформ, кроме PS и PS3, не выходит за рамки 0.5 млн продаж, т.к. медиана и размах примерно на одном уровне, можно сказать, что у наших платформ, в отличии от тех, которые не попали в выборку есть намного больше игр, которые покупались намного чаще."
   ]
  },
  {
   "cell_type": "markdown",
   "metadata": {},
   "source": [
    "***Распределение игр по жанрам***\n",
    "\n",
    "Какие жанры самые прибыльные? Жанры с высокими и низкими продажами."
   ]
  },
  {
   "cell_type": "code",
   "execution_count": 25,
   "metadata": {},
   "outputs": [
    {
     "data": {
      "image/png": "[encoded data removed]",
      "text/plain": [
       "<Figure size 1800x504 with 1 Axes>"
      ]
     },
     "metadata": {
      "needs_background": "light"
     },
     "output_type": "display_data"
    },
    {
     "data": {
      "image/png": "[encoded data removed]",
      "text/plain": [
       "<Figure size 864x360 with 1 Axes>"
      ]
     },
     "metadata": {
      "needs_background": "light"
     },
     "output_type": "display_data"
    },
    {
     "data": {
      "text/plain": [
       "array(['Sports', 'Platform', 'Racing', 'Role-Playing', 'Puzzle', 'Misc',\n",
       "       'Shooter', 'Simulation', 'Action', 'Fighting', 'Adventure',\n",
       "       'Strategy'], dtype=object)"
      ]
     },
     "execution_count": 25,
     "metadata": {},
     "output_type": "execute_result"
    }
   ],
   "source": [
    "# посмотрим популярность жанров на всех платформах за все время\n",
    "(\n",
    "    data_all_pl.pivot_table(index='genre', values='total_sales', aggfunc='median')\n",
    "    .boxplot(column='total_sales', by='genre', figsize=(25,7))\n",
    ")\n",
    "plt.show()\n",
    "(\n",
    "data_all_pl.pivot_table(index='genre', values='total_sales', aggfunc='median')\n",
    ".plot(grid=True, figsize=(12, 5))\n",
    ")\n",
    "plt.show()\n",
    "data['genre'].unique()"
   ]
  },
  {
   "cell_type": "markdown",
   "metadata": {},
   "source": [
    "В диаграмме мы можем выделить ТОП-5 популярных жанров:\n",
    "1. Shooter\n",
    "2. Sport\n",
    "3. Role-Playing\n",
    "4. Simuation\n",
    "5. Platform\n",
    "\n",
    "ТОП-5 самых непопулярных жанров:\n",
    "1. Adventure\n",
    "2. Puzzle\n",
    "3. Strategy\n",
    "4. Racing\n",
    "4. Action"
   ]
  },
  {
   "cell_type": "markdown",
   "metadata": {},
   "source": [
    "***Выводы по исследовательскому анализу данных***\n",
    "\n",
    "\n",
    "Исследовательский анализ данных начали с того, что посчитаем количество выпущенных игр с группировкой по годам и платформам, а также подсчету выпучщнных игр по гоодам. Для прогноза были взяты года 2015-2016, так как последние в выборке и являются актуальными.\n",
    "\n",
    "Далее посчитали суммарное количество продаж по каждой платформе в рамках 2015-2016гг. По изучению суммарных показателей мы можем выделить самые продаваемые платформы с продажами 40 млн и более. У нас вышли следующие платформы (PS4 и ХOne). Корректируем нашу выгрузку и оставляем в ней только эти позиции.\n",
    "\n",
    "Теперь займемся построением графиков распределения.\n",
    "\n",
    "Первый наш график будет показывать актуальность платформ по годам отталкиваясь от количество проданных игр. Подробное описание по данным графика вы можете почитать выше, под соответсвующим графиком.\n",
    "\n",
    "Модели выпускались с периодичностью в год, в некоторых годах выпускало аж 2 платформы сразу.\n",
    "\n",
    "Далее нам необходимо определить актуальные период, для того чтобы спрогнозировать последующие продажи. Установим актуальный период с 2006 по 2016 года. Данный период выбран в связи с тем, чтобы мы могла посмотреть какие платформы в принципе не будут продаваться. Если сделать период меньше, то часть данных будет урезана.\n",
    "\n",
    "Можно выделить лидирующую платформу - PS4.\n",
    "\n",
    "Далее мы оставляем все выбросы, т.к. они нам важны для дальнейшей аналитики.\n",
    "\n",
    "Так же нам необходимо посмотреть на примере одной популярной платформы влияют ли отзывы критиков и покупателей на продажи. Просмотрев соотношение отзывов покупателе и критиков можно сказать, что большую часть составляют высокие оценки, а график продаж мы вывели для того, чтобы показать что хорошие оценки покупателей и критиков соотносятся с продолжительными высокими продажами игр данной платформы. Так же мы выяснили, что по данным из диаграммы рассеивания у нас: корреляция слабо отрицательная: -0.06436843081030288\n",
    "по оценкам критиков корреляция слабо положительная: 0.3920741369660568  \n",
    "\n",
    "Далее сравнивались показатели продажи игр по всем. И в результе медианы прода по остальым играм не выходят на рамки 0.5 млн., на основании чего можно сделать вывод, что у отобранных платфом  PS4 и XOne есть намного больше игр, которые покупались намного чаще, чем на остальных платформах.\n",
    "\n",
    "И последнее, сравним показатели по жанрам и выясним ТОП-5 популярных и непопулярных жанра по всем платформам.\n",
    "\n",
    "\n",
    "Выяснилось следующее:\n",
    "\n",
    "В диаграмме мы можем выделить ТОП-5 популярных жанров:\n",
    "1. Shooter\n",
    "2. Sport\n",
    "3. Role-Playing\n",
    "4. Simuation\n",
    "5. Platform\n",
    "\n",
    "ТОП-5 самых непопулярных жанров:\n",
    "1. Adventure\n",
    "2. Puzzle\n",
    "3. Strategy\n",
    "4. Racing\n",
    "4. Action"
   ]
  },
  {
   "cell_type": "markdown",
   "metadata": {},
   "source": [
    "***Портрет пользователя каждого региона***"
   ]
  },
  {
   "cell_type": "markdown",
   "metadata": {},
   "source": [
    "Определиv для пользователя каждого региона (NA, EU, JP):\n",
    "- Самые популярные платформы (топ-5), различия в долях продаж.\n",
    "- Самые популярные жанры (топ-5) их разница.\n",
    "- Выясним влияет ли рейтинг ESRB на продажи в отдельном регионе?"
   ]
  },
  {
   "cell_type": "code",
   "execution_count": 26,
   "metadata": {},
   "outputs": [
    {
     "data": {
      "image/png": "[encoded data removed]",
      "text/plain": [
       "<Figure size 1440x576 with 1 Axes>"
      ]
     },
     "metadata": {
      "needs_background": "light"
     },
     "output_type": "display_data"
    }
   ],
   "source": [
    "#cамые популярные платформы (топ-5), различия в долях продаж.\n",
    "# ТОП-5 самых популярных платформ в Северной Америке по общей таблице\n",
    "#группируем по платформе\n",
    "platform_na_all = data_all_pl.groupby('platform')['na_sales'].sum().sort_values(ascending=False).head(5)\n",
    "#построим гистограмму\n",
    "platform_na_all.plot(x = 'platform', y = 'na_sales', kind = 'bar', figsize=(20,8), grid=True, title = 'ТОП-5 самых популярных платформ в Северной Америке')\n",
    "#меняем наименование горизонтальной линии ('X')\n",
    "plt.xlabel('Платформа')\n",
    "#меняем наименование вертикальной линии ('Y')\n",
    "plt.ylabel('Продажи экземпляров (млн.)')\n",
    "plt.show()"
   ]
  },
  {
   "cell_type": "code",
   "execution_count": 27,
   "metadata": {},
   "outputs": [
    {
     "name": "stdout",
     "output_type": "stream",
     "text": [
      "platform\n",
      "PS4     83.54\n",
      "XOne    28.10\n",
      "PC       9.10\n",
      "3DS      7.39\n",
      "PS3      7.30\n",
      "Name: eu_sales, dtype: float64\n"
     ]
    },
    {
     "data": {
      "image/png": "[encoded data removed]",
      "text/plain": [
       "<Figure size 1440x576 with 1 Axes>"
      ]
     },
     "metadata": {
      "needs_background": "light"
     },
     "output_type": "display_data"
    }
   ],
   "source": [
    "platform_eu_all = data_all_pl.groupby('platform')['eu_sales'].sum().sort_values(ascending=False).head(5)\n",
    "#построим гистограмму\n",
    "print(platform_eu_all)\n",
    "platform_eu_all.plot(x = 'platform', y = 'eu_sales', kind = 'bar', figsize=(20,8), grid=True, title = 'ТОП-5 самых популярных платформ в Европе')\n",
    "#меняем наименование горизонтальной линии ('X')\n",
    "plt.xlabel('Платформа')\n",
    "#меняем наименование вертикальной линии ('Y')\n",
    "plt.ylabel('Продажи экземпляров (млн.)')\n",
    "plt.show()"
   ]
  },
  {
   "cell_type": "code",
   "execution_count": 28,
   "metadata": {},
   "outputs": [
    {
     "data": {
      "image/png": "[encoded data removed]",
      "text/plain": [
       "<Figure size 1440x576 with 1 Axes>"
      ]
     },
     "metadata": {
      "needs_background": "light"
     },
     "output_type": "display_data"
    }
   ],
   "source": [
    "platform_jp_all = data_all_pl.groupby('platform')['jp_sales'].sum().sort_values(ascending=False).head(5)\n",
    "#построим гистограмму\n",
    "platform_jp_all.plot(x = 'platform', y = 'jp_sales', kind = 'bar', figsize=(20,8), grid=True, title = 'ТОП-5 самых популярных платформ в Японии')\n",
    "#меняем наименование горизонтальной линии ('X')\n",
    "plt.xlabel('Платформа')\n",
    "#меняем наименование вертикальной линии ('Y')\n",
    "plt.ylabel('Продажи экземпляров (млн.)')\n",
    "plt.show()"
   ]
  },
  {
   "cell_type": "code",
   "execution_count": 29,
   "metadata": {},
   "outputs": [
    {
     "data": {
      "image/png": "[encoded data removed]",
      "text/plain": [
       "<Figure size 1440x576 with 1 Axes>"
      ]
     },
     "metadata": {
      "needs_background": "light"
     },
     "output_type": "display_data"
    }
   ],
   "source": [
    "platform_oth = data_all_pl.groupby('platform')['other_sales'].sum().sort_values(ascending=False).head(5)\n",
    "#построим гистограмму\n",
    "platform_oth.plot(x = 'platform', y = 'other_sales', kind = 'bar', figsize=(20,8), grid=True, title = 'ТОП-5 самых популярных платформ по остальным регионам')\n",
    "#меняем наименование горизонтальной линии ('X')\n",
    "plt.xlabel('Платформа')\n",
    "#меняем наименование вертикальной линии ('Y')\n",
    "plt.ylabel('Продажи экземпляров (млн.)')\n",
    "plt.show()"
   ]
  },
  {
   "cell_type": "code",
   "execution_count": 30,
   "metadata": {},
   "outputs": [],
   "source": [
    "#доли продаж по регионам\n",
    "\n"
   ]
  },
  {
   "cell_type": "markdown",
   "metadata": {},
   "source": [
    "***Выводы***\n",
    "\n",
    "ТОП-5 самых популярных платформ в Северной Америке\n",
    "- PS4\n",
    "- XOne\n",
    "- 3DS\n",
    "- WiiU\n",
    "- X360\n",
    "\n",
    "ТОП-5 самых популярных платформ в Европе\n",
    "- PS4\n",
    "- XOne\n",
    "- PC\n",
    "- 3DS\n",
    "- PS3\n",
    "\n",
    "ТОП-5 самых популярных платформ в Японии\n",
    "- 3DS\n",
    "- PS4\n",
    "- PSV\n",
    "- PS3\n",
    "- WiiU\n",
    "\n",
    "ТОП-5 самых популярных платформ по остальынм регионам\n",
    "- PS4\n",
    "- XOne\n",
    "- PS3\n",
    "- 3DS\n",
    "- WiiU"
   ]
  },
  {
   "cell_type": "code",
   "execution_count": 31,
   "metadata": {},
   "outputs": [
    {
     "name": "stdout",
     "output_type": "stream",
     "text": [
      "Доля продаж, приходящаяся на регион Сеерной Америки: 38.14585846401286\n",
      "Доля продаж, приходящаяся на регион Европа: 37.17832730197024\n",
      "Доля продаж, приходящаяся на регион Япония: 13.41978287092883\n",
      "Доля продаж, приходящаяся на прочие регионы: 11.256031363088058\n"
     ]
    }
   ],
   "source": [
    "#различия в долях продаж\n",
    "\n",
    "print('Доля продаж, приходящаяся на регион Сеерной Америки:',(data_all_pl['na_sales'].sum())/(data_all_pl['total_sales'].sum())*100)\n",
    "print('Доля продаж, приходящаяся на регион Европа:',(data_all_pl['eu_sales'].sum())/(data_all_pl['total_sales'].sum())*100)\n",
    "print('Доля продаж, приходящаяся на регион Япония:',(data_all_pl['jp_sales'].sum())/(data_all_pl['total_sales'].sum())*100)\n",
    "print('Доля продаж, приходящаяся на прочие регионы:',(data_all_pl['other_sales'].sum())/(data_all_pl['total_sales'].sum())*100)"
   ]
  },
  {
   "cell_type": "code",
   "execution_count": 32,
   "metadata": {},
   "outputs": [
    {
     "name": "stdout",
     "output_type": "stream",
     "text": [
      "Доли продаж по ТОП-5 платформам в Северной Америке:\n",
      "PS4: 42.07128269319459\n",
      "XOne: 33.137887871401276\n",
      "3DS: 6.792278806245472\n",
      "WiiU: 5.837011660847221\n",
      "X360: 5.303379669279925\n"
     ]
    }
   ],
   "source": [
    "#доля продаж по ТОП-5 популярным платформам в Северной Америке\n",
    "print('Доли продаж по ТОП-5 платформам в Северной Америке:')\n",
    "print('PS4:', ((platform_na_all['PS4'].sum()/data_all_pl['na_sales'].sum())*100))\n",
    "print('XOne:', ((platform_na_all['XOne'].sum()/data_all_pl['na_sales'].sum())*100))\n",
    "print('3DS:', ((platform_na_all['3DS'].sum()/data_all_pl['na_sales'].sum())*100))\n",
    "print('WiiU:', ((platform_na_all['WiiU'].sum()/data_all_pl['na_sales'].sum())*100))\n",
    "print('X360:', ((platform_na_all['X360'].sum()/data_all_pl['na_sales'].sum())*100)) \n",
    "\n"
   ]
  },
  {
   "cell_type": "code",
   "execution_count": 33,
   "metadata": {},
   "outputs": [
    {
     "name": "stdout",
     "output_type": "stream",
     "text": [
      "Доли продаж по ТОП-5 платформам в Европе:\n",
      "PS4: 56.468838718399326\n",
      "XOne: 18.994186832499665\n",
      "PC: 6.151142355008772\n",
      "3DS: 4.995268352034608\n",
      "PS3: 4.934432878193859\n"
     ]
    }
   ],
   "source": [
    "print('Доли продаж по ТОП-5 платформам в Европе:')\n",
    "print('PS4:', ((platform_eu_all['PS4'].sum()/data_all_pl['eu_sales'].sum())*100))\n",
    "print('XOne:', ((platform_eu_all['XOne'].sum()/data_all_pl['eu_sales'].sum())*100))\n",
    "print('PC:', ((platform_eu_all['PC'].sum()/data_all_pl['eu_sales'].sum())*100))\n",
    "print('3DS:', ((platform_eu_all['3DS'].sum()/data_all_pl['eu_sales'].sum())*100))\n",
    "print('PS3:', ((platform_eu_all['PS3'].sum()/data_all_pl['eu_sales'].sum())*100))"
   ]
  },
  {
   "cell_type": "code",
   "execution_count": 34,
   "metadata": {},
   "outputs": [
    {
     "name": "stdout",
     "output_type": "stream",
     "text": [
      "Доли продаж по ТОП-5 платформам в Японии:\n",
      "3DS: 44.10112359550563\n",
      "PS4: 22.565543071161017\n",
      "PSV: 15.749063670411939\n",
      "PS3: 9.307116104868902\n",
      "WiiU: 7.715355805243443\n"
     ]
    }
   ],
   "source": [
    "print('Доли продаж по ТОП-5 платформам в Японии:')\n",
    "print('3DS:', ((platform_jp_all['3DS'].sum()/data_all_pl['jp_sales'].sum())*100))\n",
    "print('PS4:', ((platform_jp_all['PS4'].sum()/data_all_pl['jp_sales'].sum())*100))\n",
    "print('PSV:', ((platform_jp_all['PSV'].sum()/data_all_pl['jp_sales'].sum())*100))\n",
    "print('PS3:', ((platform_jp_all['PS3'].sum()/data_all_pl['jp_sales'].sum())*100))\n",
    "print('WiiU:', ((platform_jp_all['WiiU'].sum()/data_all_pl['jp_sales'].sum())*100))"
   ]
  },
  {
   "cell_type": "code",
   "execution_count": 35,
   "metadata": {},
   "outputs": [
    {
     "name": "stdout",
     "output_type": "stream",
     "text": [
      "Доли продаж по ТОП-5 платформам по прочим регионам:\n",
      "PS4: 64.07680285778092\n",
      "3DS: 3.728510828309892\n",
      "PS3: 5.559276624246476\n",
      "3DS 3.728510828309892\n",
      "WiiU: 3.3043089975440956\n"
     ]
    }
   ],
   "source": [
    "print('Доли продаж по ТОП-5 платформам по прочим регионам:')\n",
    "print('PS4:', ((platform_oth['PS4'].sum()/data_all_pl['other_sales'].sum())*100))\n",
    "print('3DS:', ((platform_oth['3DS'].sum()/data_all_pl['other_sales'].sum())*100))\n",
    "print('PS3:', ((platform_oth['PS3'].sum()/data_all_pl['other_sales'].sum())*100))\n",
    "print('3DS', ((platform_oth['3DS'].sum()/data_all_pl['other_sales'].sum())*100))\n",
    "print('WiiU:', ((platform_oth['WiiU'].sum()/data_all_pl['other_sales'].sum())*100))"
   ]
  },
  {
   "cell_type": "markdown",
   "metadata": {},
   "source": [
    "***Вывод по ТОП-5 популярным платформам по регионам ***\n",
    "\n",
    "ТОП-5 самых популярных платформ в Северной Америке\n",
    " \n",
    "PS4: 42.07128269319459\n",
    "XOne: 33.137887871401276\n",
    "3DS: 6.792278806245472\n",
    "WiiU: 5.837011660847221\n",
    "X360: 5.303379669279925\n",
    "\n",
    "Доли продаж по ТОП-5 платформам в Европе:\n",
    "PS4: 56.468838718399326\n",
    "XOne: 18.994186832499665\n",
    "PC: 6.151142355008772\n",
    "3DS: 4.995268352034608\n",
    "PS3: 4.934432878193859\n",
    "\n",
    "Доли продаж по ТОП-5 платформам в Японии:\n",
    "3DS: 44.10112359550563\n",
    "PS4: 22.565543071161017\n",
    "PSV: 15.749063670411939\n",
    "PS3: 9.307116104868902\n",
    "WiiU: 7.715355805243443\n",
    "\n",
    "Доли продаж по ТОП-5 платформам по прочим регионам:\n",
    "PS4: 64.07680285778092\n",
    "3DS: 3.728510828309892\n",
    "PS3: 5.559276624246476\n",
    "3DS 3.728510828309892\n",
    "WiiU: 3.3043089975440956\n",
    "\n",
    "Платформа PS4 является лидером продаж по 3 изучаемым регионам из 4: Северной Америке, Европе и прочим регинам. Доля продаж по этой платформе среди прочих платформ по региону от 42  до 64%.\n",
    "\n",
    "На втором по популярности идет платфома  XOne в двух регионах - Северной Америке и Европе.\n",
    "\n",
    "При это стоит отметить, что доля выручки по регионам в общем выручке:\n",
    "\n",
    "Доля продаж, приходящаяся на регион Северной Америки: 38.14585846401286\n",
    "Доля продаж, приходящаяся на регион Европа: 37.17832730197024\n",
    "Доля продаж, приходящаяся на регион Япония: 13.41978287092883\n",
    "Доля продаж, приходящаяся на прочие регионы: 11.256031363088058\n",
    "\n",
    "Как видим, суммарно на регион Северной Америки и Европы приходится ~ 75,33%.\n",
    "Поэтому при прогнозе выручки  и популярности продуктов стоит ориентироваться на вкусы рынков Сев.Америки и Европы."
   ]
  },
  {
   "cell_type": "markdown",
   "metadata": {},
   "source": [
    "***Рассмотрим какие самые популярные жанры (топ-5) по регионам.***"
   ]
  },
  {
   "cell_type": "markdown",
   "metadata": {},
   "source": [
    "***ТОП-5 самых популярных жанров в Северной Америке (2015-2016 гг)***"
   ]
  },
  {
   "cell_type": "code",
   "execution_count": 36,
   "metadata": {},
   "outputs": [
    {
     "data": {
      "image/png": "[encoded data removed]",
      "text/plain": [
       "<Figure size 1440x576 with 1 Axes>"
      ]
     },
     "metadata": {
      "needs_background": "light"
     },
     "output_type": "display_data"
    }
   ],
   "source": [
    "# ТОП-5 самых популярных жанров в  Северной Америке \n",
    "#группируем по жанрам\n",
    "genre_na = data_all_pl.groupby('genre')['na_sales'].sum().sort_values(ascending=False).head(5)\n",
    "#построим гистограмму\n",
    "genre_na.plot(x = 'genre', y = 'na_sales', kind = 'bar', figsize=(20,8), grid=True, title = 'ТОП-5 самых популярных жанров в Северной Америке')\n",
    "#меняем наименование горизонтальной линии ('X')\n",
    "plt.xlabel('Жанр')\n",
    "#меняем наименование вертикальной линии ('Y')\n",
    "plt.ylabel('Продажи экземпляров (млн.)')\n",
    "plt.show()"
   ]
  },
  {
   "cell_type": "markdown",
   "metadata": {},
   "source": [
    "***ТОП-5 самых популярных жанров в  Европе (2015-2016 гг)***"
   ]
  },
  {
   "cell_type": "code",
   "execution_count": 37,
   "metadata": {},
   "outputs": [
    {
     "data": {
      "image/png": "[encoded data removed]",
      "text/plain": [
       "<Figure size 1440x576 with 1 Axes>"
      ]
     },
     "metadata": {
      "needs_background": "light"
     },
     "output_type": "display_data"
    }
   ],
   "source": [
    "# ТОП-5 самых популярных жанров в Европе \n",
    "#группируем по жанрам\n",
    "genre_eu = data_all_pl.groupby('genre')['eu_sales'].sum().sort_values(ascending=False).head(5)\n",
    "#построим гистограмму\n",
    "genre_eu.plot(x = 'genre', y = 'eu_sales', kind = 'bar', figsize=(20,8), grid=True, title = 'ТОП-5 самых популярных жанров в Европе')\n",
    "#меняем наименование горизонтальной линии ('X')\n",
    "plt.xlabel('Жанр')\n",
    "#меняем наименование вертикальной линии ('Y')\n",
    "plt.ylabel('Продажи экземпляров (млн.)')\n",
    "plt.show()"
   ]
  },
  {
   "cell_type": "markdown",
   "metadata": {},
   "source": [
    "***ТОП-5 самых популярных жанров в Японии (2015-2016 гг)***"
   ]
  },
  {
   "cell_type": "code",
   "execution_count": 38,
   "metadata": {},
   "outputs": [
    {
     "data": {
      "image/png": "[encoded data removed]",
      "text/plain": [
       "<Figure size 1440x576 with 1 Axes>"
      ]
     },
     "metadata": {
      "needs_background": "light"
     },
     "output_type": "display_data"
    }
   ],
   "source": [
    "# ТОП-5 самых популярных жанров в  Японии \n",
    "#группируем по жанрам\n",
    "genre_jp = data_all_pl.groupby('genre')['jp_sales'].sum().sort_values(ascending=False).head(5)\n",
    "#построим гистограмму\n",
    "genre_jp.plot(x = 'genre', y = 'jp_sales', kind = 'bar', figsize=(20,8), grid=True, title = 'ТОП-5 самых популярных жанров в Японии')\n",
    "#меняем наименование горизонтальной линии ('X')\n",
    "plt.xlabel('Жанр')\n",
    "#меняем наименование вертикальной линии ('Y')\n",
    "plt.ylabel('Продажи экземпляров (млн.)')\n",
    "plt.show()"
   ]
  },
  {
   "cell_type": "markdown",
   "metadata": {},
   "source": [
    "***ТОП-5 самых популярных жанров по прочим регионам (2015-2016 гг)***"
   ]
  },
  {
   "cell_type": "code",
   "execution_count": 39,
   "metadata": {},
   "outputs": [
    {
     "data": {
      "image/png": "[encoded data removed]",
      "text/plain": [
       "<Figure size 1440x576 with 1 Axes>"
      ]
     },
     "metadata": {
      "needs_background": "light"
     },
     "output_type": "display_data"
    }
   ],
   "source": [
    "# ТОП-5 самых популярных жанров в  прочим регионам \n",
    "#группируем по жанрам\n",
    "genre_other = data_all_pl.groupby('genre')['other_sales'].sum().sort_values(ascending=False).head(5)\n",
    "#построим гистограмму\n",
    "genre_other.plot(x = 'genre', y = 'other_sales', kind = 'bar', figsize=(20,8), grid=True, title = 'ТОП-5 самых популярных жанров по прочим регионам')\n",
    "#меняем наименование горизонтальной линии ('X')\n",
    "plt.xlabel('Жанр')\n",
    "#меняем наименование вертикальной линии ('Y')\n",
    "plt.ylabel('Продажи экземпляров (млн.)')\n",
    "plt.show()"
   ]
  },
  {
   "cell_type": "markdown",
   "metadata": {},
   "source": [
    "***Доли продаж в разрезе жанров по регионам за 2015-2016гг.***"
   ]
  },
  {
   "cell_type": "code",
   "execution_count": 40,
   "metadata": {},
   "outputs": [
    {
     "data": {
      "text/plain": [
       "'Доля продаж в Северной Америке:'"
      ]
     },
     "metadata": {},
     "output_type": "display_data"
    },
    {
     "data": {
      "text/plain": [
       "genre\n",
       "Shooter         31.741221\n",
       "Action          22.188550\n",
       "Sports          17.333158\n",
       "Role-Playing    13.057514\n",
       "Misc             3.676131\n",
       "Name: na_sales, dtype: float64"
      ]
     },
     "metadata": {},
     "output_type": "display_data"
    },
    {
     "data": {
      "text/plain": [
       "'Доля продаж в Европе:'"
      ]
     },
     "metadata": {},
     "output_type": "display_data"
    },
    {
     "data": {
      "text/plain": [
       "genre\n",
       "Shooter         27.227254\n",
       "Action          23.536569\n",
       "Sports          18.804921\n",
       "Role-Playing    11.633094\n",
       "Racing           4.407192\n",
       "Name: eu_sales, dtype: float64"
      ]
     },
     "metadata": {},
     "output_type": "display_data"
    },
    {
     "data": {
      "text/plain": [
       "'Доля продаж в Японии:'"
      ]
     },
     "metadata": {},
     "output_type": "display_data"
    },
    {
     "data": {
      "text/plain": [
       "genre\n",
       "Action          43.164794\n",
       "Role-Playing    25.112360\n",
       "Shooter          7.097378\n",
       "Misc             5.973783\n",
       "Adventure        4.157303\n",
       "Name: jp_sales, dtype: float64"
      ]
     },
     "metadata": {},
     "output_type": "display_data"
    },
    {
     "data": {
      "text/plain": [
       "'Доля продаж по прочим регионам:'"
      ]
     },
     "metadata": {},
     "output_type": "display_data"
    },
    {
     "data": {
      "text/plain": [
       "genre\n",
       "Shooter         30.096004\n",
       "Action          23.621344\n",
       "Sports          19.089082\n",
       "Role-Playing    12.011610\n",
       "Fighting         3.505247\n",
       "Name: other_sales, dtype: float64"
      ]
     },
     "metadata": {},
     "output_type": "display_data"
    }
   ],
   "source": [
    "#доли продаж по жанрам по всем регионам\n",
    "genre_count_full = data_all_pl.groupby('genre')['total_sales'].sum()\n",
    "\n",
    "#группируем по жанрам\n",
    "genre_na = data_all_pl.groupby('genre')['na_sales'].sum().sort_values(ascending=False).head(5)\n",
    "genre_percent_na = (genre_na /(data_all_pl['na_sales'].sum())) * 100\n",
    "display('Доля продаж в Северной Америке:')\n",
    "display(genre_percent_na.sort_values(ascending=False).head(5))\n",
    "\n",
    "genre_eu = data_all_pl.groupby('genre')['eu_sales'].sum().sort_values(ascending=False).head(5)\n",
    "genre_percent_eu = genre_eu / (data_all_pl['eu_sales'].sum()) * 100\n",
    "display('Доля продаж в Европе:')\n",
    "display(genre_percent_eu.sort_values(ascending=False).head(5))\n",
    "\n",
    "genre_jp = data_all_pl.groupby('genre')['jp_sales'].sum().sort_values(ascending=False).head(5)\n",
    "genre_percent_jp = genre_jp / (data_all_pl['jp_sales'].sum()) * 100\n",
    "display('Доля продаж в Японии:')\n",
    "display(genre_percent_jp.sort_values(ascending=False).head(5))\n",
    "\n",
    "genre_other = data_all_pl.groupby('genre')['other_sales'].sum().sort_values(ascending=False).head(5)\n",
    "genre_percent_other = genre_other / (data_all_pl['other_sales'].sum()) * 100\n",
    "display('Доля продаж по прочим регионам:')\n",
    "display(genre_percent_other.sort_values(ascending=False).head(5))"
   ]
  },
  {
   "cell_type": "markdown",
   "metadata": {},
   "source": [
    "***Вывод***\n",
    "Shooter -  сыамый популярный жанр в регионах Северной Америки, Европы и прочих регионов.\n",
    "Далее идет жанр Action - он занимает 2 место по регионам Северной Америки, Европы, прочих регионов и 1 место по Японии.\n",
    "На 3 месте по популярности идет жанр Sport -  в Северной Америке,Европе и прочих регонах.\n",
    "Следоватьо именно на эти 3 жанра стоит сделать акцент при планировании игр на будущее.\n"
   ]
  },
  {
   "cell_type": "markdown",
   "metadata": {},
   "source": [
    "***Выясним влияет ли рейтинг ESRB на продажи в отдельном регионе?***"
   ]
  },
  {
   "cell_type": "code",
   "execution_count": 41,
   "metadata": {},
   "outputs": [
    {
     "data": {
      "image/png": "[encoded data removed]",
      "text/plain": [
       "<Figure size 1440x576 with 1 Axes>"
      ]
     },
     "metadata": {
      "needs_background": "light"
     },
     "output_type": "display_data"
    }
   ],
   "source": [
    "#  Рейтинг от организации ESRB в Северной Америке\n",
    "#группируем по рейтингу\n",
    "rating_na = data_all_pl.groupby('rating')['na_sales'].sum().sort_values(ascending=False)\n",
    "#построим гистограмму\n",
    "rating_na.plot(x = 'rating', y = 'na_sales', kind = 'bar', figsize=(20,8), grid=True, title = 'Рейтинг от организации ESRB в Северной Америке')\n",
    "#меняем наименование горизонтальной линии ('X')\n",
    "plt.xlabel('Рейтинг')\n",
    "#меняем наименование вертикальной линии ('Y')\n",
    "plt.ylabel('Продажи экземпляров (млн.)')\n",
    "plt.show()"
   ]
  },
  {
   "cell_type": "markdown",
   "metadata": {},
   "source": [
    "В Северной Америке самые высокие рейтинги у жанра M («Для взрослых»: Материалы игры не подходят для подростков младше 17 лет.), далее по популярности игры, в которых жанры неопределенны. Остальные жанры менее популярные."
   ]
  },
  {
   "cell_type": "code",
   "execution_count": 42,
   "metadata": {},
   "outputs": [
    {
     "data": {
      "image/png": "[encoded data removed]",
      "text/plain": [
       "<Figure size 1440x576 with 1 Axes>"
      ]
     },
     "metadata": {
      "needs_background": "light"
     },
     "output_type": "display_data"
    }
   ],
   "source": [
    "# Рейтинг от организации ESRB в Европе\n",
    "#группируем по жанрам\n",
    "rating_eu = data_all_pl.groupby('rating')['eu_sales'].sum().sort_values(ascending=False)\n",
    "#построим гистограмму\n",
    "rating_eu.plot(x = 'rating', y = 'eu_sales', kind = 'bar', figsize=(20,8), grid=True, title = 'Рейтинг от организации ESRB в Европе')\n",
    "#меняем наименование горизонтальной линии ('X')\n",
    "plt.xlabel('Рейтинг')\n",
    "#меняем наименование вертикальной линии ('Y')\n",
    "plt.ylabel('Продажи экземпляров (млн.)')\n",
    "plt.show()"
   ]
  },
  {
   "cell_type": "markdown",
   "metadata": {},
   "source": [
    "В Европе самые высокие продажи у игр с рейтингом  M («Для взрослых»: Материалы игры не подходят для подростков младше 17 лет.), далее по популярности игры рейтинг,  в которых неопределен, потом идут игры с рейтингом Е. Остальные жанры менее популярные."
   ]
  },
  {
   "cell_type": "code",
   "execution_count": 43,
   "metadata": {},
   "outputs": [
    {
     "data": {
      "image/png": "[encoded data removed]",
      "text/plain": [
       "<Figure size 1440x576 with 1 Axes>"
      ]
     },
     "metadata": {
      "needs_background": "light"
     },
     "output_type": "display_data"
    }
   ],
   "source": [
    "# Рейтинг от организации ESRB в Японии\n",
    "#группируем по жанрам\n",
    "rating_jp = data_all_pl.groupby('rating')['jp_sales'].sum().sort_values(ascending=False)\n",
    "#построим гистограмму\n",
    "rating_jp.plot(x = 'rating', y = 'jp_sales', kind = 'bar', figsize=(20,8), grid=True, title = 'Рейтинг от организации ESRB в Японии')\n",
    "#меняем наименование горизонтальной линии ('X')\n",
    "plt.xlabel('Рейтинг')\n",
    "#меняем наименование вертикальной линии ('Y')\n",
    "plt.ylabel('Продажи экземпляров (млн.)')\n",
    "plt.show()"
   ]
  },
  {
   "cell_type": "markdown",
   "metadata": {},
   "source": [
    "В Японии самые высокие рейтинги у игр, в которых жанры неопределенны, далее по популярности жанр M («Для взрослых»: Материалы игры не подходят для подростков младше 17 лет). Остальные жанры менее популярные."
   ]
  },
  {
   "cell_type": "code",
   "execution_count": 44,
   "metadata": {},
   "outputs": [
    {
     "data": {
      "image/png": "[encoded data removed]",
      "text/plain": [
       "<Figure size 1440x576 with 1 Axes>"
      ]
     },
     "metadata": {
      "needs_background": "light"
     },
     "output_type": "display_data"
    }
   ],
   "source": [
    "# Рейтинг от организации ESRB по прочим регионам\n",
    "#группируем по жанрам\n",
    "rating_other = data_all_pl.groupby('rating')['other_sales'].sum().sort_values(ascending=False)\n",
    "#построим гистограмму\n",
    "rating_other.plot(x = 'rating', y = 'other_sales', kind = 'bar', figsize=(20,8), grid=True, title = 'Рейтинг от организации ESRB по прочим регионам')\n",
    "#меняем наименование горизонтальной линии ('X')\n",
    "plt.xlabel('Рейтинг')\n",
    "#меняем наименование вертикальной линии ('Y')\n",
    "plt.ylabel('Продажи экземпляров (млн.)')\n",
    "plt.show()"
   ]
  },
  {
   "cell_type": "markdown",
   "metadata": {},
   "source": [
    "По прочим регионам самые высокие продажи у игр с рейтингом M («Для взрослых»: Материалы игры не подходят для подростков младше 17 лет.), далее по популярности игры рейтинг, в которых неопределен, потом идут игры с рейтингом Е. Остальные жанры менее популярные."
   ]
  },
  {
   "cell_type": "markdown",
   "metadata": {},
   "source": [
    "***Вывод***\n",
    "\n",
    "В этой части выделим ТОП-5 самых популярных и непопулярных платформ и жанров.\n",
    "Можем выделить, что каждый регион отличается топовыми позициями. Для примера разберем первые места.\n",
    "\n",
    "По нашей таблице:\n",
    "\n",
    "Рейтинг по платформам:\n",
    "в Северной Америке - PS4\n",
    "в Европе - PS4\n",
    "в Японии - 3DS\n",
    "в других странах - PS4\n",
    "\n",
    "Рейтинг по жанрам:\n",
    "в Северной Америке - Shooter\n",
    "в Европе - Shooter\n",
    "в Японии - Action\n",
    "в других странах - Shooter\n",
    "\n",
    "Рейтинг от организации ESRB:\n",
    "в Северной Америке - M\n",
    "в Европе - M\n",
    "в Японии - жанр неопределён\n",
    "в других странах - M\n",
    "\n",
    "Более подробно расписано в процессе отчетых выше."
   ]
  },
  {
   "cell_type": "markdown",
   "metadata": {},
   "source": [
    "***ПРОВЕРКА ГИПОТЕЗ***"
   ]
  },
  {
   "cell_type": "markdown",
   "metadata": {},
   "source": [
    "Проверим гипотезы:\n",
    "- Средние пользовательские рейтинги платформ Xbox One и PC одинаковые;\n",
    "- Средние пользовательские рейтинги жанров Action (англ. «действие», экшен-игры) и Sports (англ. «спортивные соревнования») разные.\n",
    "  \n",
    "Пороговое значение alpha =0.05\n",
    "\n",
    "В данном случае возможно применить t-тест, так как:\n",
    "- так как данных в выборке у нас более 20-30, то выборочные средние распределены нормально,\n",
    "- выбранные для анализа 2 совокупности,\n",
    "\n",
    "**По проверке гипотез нам необходимо сравнить средние двух генеральных совокупностей. Для этогов  Python есть специальный метод для проверки гипотезы о равенстве среднего двух генеральных совокупностей по взятым из них выборкам:**\n",
    "\n",
    "**код этого метода: scipy.stats.ttest_ind (array1, array2, equal_var)**"
   ]
  },
  {
   "cell_type": "markdown",
   "metadata": {},
   "source": [
    "***Гипотеза: средние пользовательские рейтинги платформ Xbox One и PC  2015-2016 гг. одинаковые***"
   ]
  },
  {
   "cell_type": "markdown",
   "metadata": {},
   "source": [
    "Для проверки гипотезы \"средние пользовательские рейтинги платформ Xbox One и PC одинаковые\" в качестве нулевой и альтернативной гипотезы беремследующее:\n",
    "\n",
    "- H0: средние рейтинги по платформам одинаковые\n",
    "- H1: средние рейтинги по платформам разные"
   ]
  },
  {
   "cell_type": "code",
   "execution_count": 45,
   "metadata": {},
   "outputs": [
    {
     "name": "stdout",
     "output_type": "stream",
     "text": [
      "p-значение: 0.2778542084733835\n",
      "Не получилось отвергнуть нулевую гипотезу\n"
     ]
    }
   ],
   "source": [
    "# убираем значения, которые были пропусками\n",
    "data_all_pl_user_score = data_all_pl[data_all_pl['user_score'] != 0]\n",
    "\n",
    "#выборки по необходимым платформам\n",
    "data_xbox = data_all_pl_user_score[data_all_pl_user_score['platform'] == 'XOne']\n",
    "data_pc = data_all_pl_user_score[data_all_pl_user_score['platform'] == 'PC']\n",
    "\n",
    "#обозначили две выборки конкретных столбцов с пользовательскими рейтингами.\n",
    "xbox_1 = data_xbox['user_score']\n",
    "pc_1 = data_pc['user_score']\n",
    "\n",
    "#критический уровень статистической значимости, если p-value окажется меньше него - отвергнем гипотезу\n",
    "alpha = 0.05\n",
    "\n",
    "results = st.ttest_ind(xbox_1,pc_1)\n",
    "\n",
    "print('p-значение:', results.pvalue)\n",
    "if (results.pvalue < alpha):\n",
    "    print(\"Отвергаем нулевую гипотезу\")\n",
    "else:\n",
    "    print(\"Не получилось отвергнуть нулевую гипотезу\")"
   ]
  },
  {
   "cell_type": "markdown",
   "metadata": {},
   "source": [
    "Таким образом  нулевую гипотезу не отвергаем"
   ]
  },
  {
   "cell_type": "markdown",
   "metadata": {},
   "source": [
    "***Гипотеза: средние пользовательские рейтинги жанров Action и Sports разные***"
   ]
  },
  {
   "cell_type": "markdown",
   "metadata": {},
   "source": [
    "Для проверки гипотезы \"средние пользовательские рейтинги жанров Action и Sports разные\" в качестве нулевой и альтернативной гипотезы берем следующее:\n",
    "\n",
    "- H0: средние рейтинги по жанрам одинаковые\n",
    "- H1: средние рейтинги по жанрам разные"
   ]
  },
  {
   "cell_type": "code",
   "execution_count": 46,
   "metadata": {},
   "outputs": [
    {
     "name": "stdout",
     "output_type": "stream",
     "text": [
      "p-значение:  1.0012846807938657e-13\n",
      "Отвергаем нулевую гипотезу\n"
     ]
    }
   ],
   "source": [
    "#выборки по необходимым платформам\n",
    "data_action = data_all_pl_user_score[data_all_pl_user_score['genre'] == 'Action']\n",
    "data_sports = data_all_pl_user_score[data_all_pl_user_score['genre'] == 'Sports']\n",
    "action_1 = data_action['user_score']\n",
    "sports_1 = data_sports['user_score']\n",
    "\n",
    "alpha = 0.05 # критический уровень статистической значимости, если p-value окажется меньше него - отвегнем гипотезу\n",
    "results = st.ttest_ind(action_1, sports_1)\n",
    "print('p-значение: ', results.pvalue)\n",
    "if results.pvalue < alpha:\n",
    "    print(\"Отвергаем нулевую гипотезу\")\n",
    "else:\n",
    "    print(\"Не получилось отвергнуть нулевую гипотезу\") "
   ]
  },
  {
   "cell_type": "markdown",
   "metadata": {},
   "source": [
    "***Вывод***\n",
    "\n",
    "В первой гипотезе:\n",
    "\n",
    "Результат говорит о том, что нулевая гипотеза, что пользовательские рейтинги платформ Xbox One и PC 2015-2016 гг. одинаковые, не отвергается.\n",
    "\n",
    "p-значение: 0.2778542084733835\n",
    "\n",
    "Во второй гипотезе:\n",
    "\n",
    "Результат говорит о том, что нулевая гипотеза отвергается.\n",
    "\n",
    "p-значение: 1.0012846807938657e-13\n",
    "\n",
    "Соотвестственно, соответственно не отвергается альтернативная гипотеза, что средние пользовательские рейтинги жанров Action и Sports разные"
   ]
  },
  {
   "cell_type": "markdown",
   "metadata": {},
   "source": [
    "***ОБЩИЙ ВЫВОД ПО ПРОЕКТУ***"
   ]
  },
  {
   "cell_type": "markdown",
   "metadata": {},
   "source": [
    "По итогам можно сделать прогноз для планируемой кампании на  2017 год в игровой индустрии.\n",
    "\n",
    "Был анализирован период с 2015-2016 года, и в этот период для диагностики были выбраны 2 платформы: PS4 и XOne, так как на выбранный период времени они обладали самыми большими продажами и, соответственно, были в тренде.\n",
    "\n",
    "Самыми популярными платформами на рынке в мире являются - PS4, т.к. из из всех стран, в Японии более всего использоали платформу 3DS. \n",
    "\n",
    "Большинство пользователей по регионам склоняется к жанру Shooter. Также в ТОП жанров попали такие как Action (в Японии).\n",
    "\n",
    "В ТОП рейтинг от организации ESRB можно твердо считать категорию M («Для взрослых»: Материалы игры не подходят для подростков младше 17 лет).\n",
    "\n",
    "На следующий год развивать следует  платформу PS4, т.к. она популярна в большинстве стран мира. В жанрах ТОП Shooter, но не следуем  забывать про остальные два жанра - Action и Sport, т.к. они захватывают 2 крупнейших региона  по выручке - Северную Америку и Европу. И акцент делать на возрастная категория M пользуется большим спросом на рынке."
   ]
  }
 ],
 "metadata": {
  "ExecuteTimeLog": [
   {
    "duration": 494,
    "start_time": "2022-10-23T13:35:57.679Z"
   },
   {
    "duration": 15,
    "start_time": "2022-10-23T13:38:29.321Z"
   },
   {
    "duration": 53,
    "start_time": "2022-10-23T13:50:21.521Z"
   },
   {
    "duration": 63,
    "start_time": "2022-10-23T13:51:02.481Z"
   },
   {
    "duration": 10,
    "start_time": "2022-10-23T13:51:56.039Z"
   },
   {
    "duration": 5,
    "start_time": "2022-10-23T13:52:13.347Z"
   },
   {
    "duration": 13,
    "start_time": "2022-10-23T13:53:41.504Z"
   },
   {
    "duration": 12,
    "start_time": "2022-10-23T13:53:52.857Z"
   },
   {
    "duration": 6,
    "start_time": "2022-10-23T13:54:13.006Z"
   },
   {
    "duration": 13,
    "start_time": "2022-10-23T13:57:12.756Z"
   },
   {
    "duration": 9,
    "start_time": "2022-10-23T13:58:00.869Z"
   },
   {
    "duration": 6,
    "start_time": "2022-10-23T13:58:06.415Z"
   },
   {
    "duration": 21,
    "start_time": "2022-10-23T13:58:42.007Z"
   },
   {
    "duration": 13,
    "start_time": "2022-10-23T13:59:07.624Z"
   },
   {
    "duration": 11,
    "start_time": "2022-10-23T13:59:32.208Z"
   },
   {
    "duration": 12,
    "start_time": "2022-10-23T14:00:30.298Z"
   },
   {
    "duration": 5,
    "start_time": "2022-10-23T14:01:07.136Z"
   },
   {
    "duration": 11,
    "start_time": "2022-10-23T14:01:15.518Z"
   },
   {
    "duration": 7,
    "start_time": "2022-10-23T14:01:29.905Z"
   },
   {
    "duration": 16,
    "start_time": "2022-10-23T14:03:02.648Z"
   },
   {
    "duration": 7,
    "start_time": "2022-10-23T14:03:10.584Z"
   },
   {
    "duration": 8,
    "start_time": "2022-10-23T14:03:42.370Z"
   },
   {
    "duration": 18,
    "start_time": "2022-10-23T14:04:02.990Z"
   },
   {
    "duration": 14,
    "start_time": "2022-10-23T14:04:17.290Z"
   },
   {
    "duration": 52,
    "start_time": "2022-10-23T14:08:33.441Z"
   },
   {
    "duration": 44,
    "start_time": "2022-10-23T14:09:04.990Z"
   },
   {
    "duration": 49,
    "start_time": "2022-10-23T14:09:16.328Z"
   },
   {
    "duration": 68,
    "start_time": "2022-10-23T14:09:38.678Z"
   },
   {
    "duration": 3,
    "start_time": "2022-10-23T14:09:49.496Z"
   },
   {
    "duration": 5,
    "start_time": "2022-10-23T14:10:00.581Z"
   },
   {
    "duration": 50,
    "start_time": "2022-10-23T14:10:44.801Z"
   },
   {
    "duration": 139,
    "start_time": "2022-10-23T14:10:59.969Z"
   },
   {
    "duration": 8,
    "start_time": "2022-10-23T14:11:20.606Z"
   },
   {
    "duration": 24,
    "start_time": "2022-10-23T14:12:51.382Z"
   },
   {
    "duration": 21,
    "start_time": "2022-10-23T14:58:19.464Z"
   },
   {
    "duration": 51,
    "start_time": "2022-10-23T15:01:21.549Z"
   },
   {
    "duration": 5,
    "start_time": "2022-10-23T15:01:36.216Z"
   },
   {
    "duration": 36,
    "start_time": "2022-10-23T15:03:58.751Z"
   },
   {
    "duration": 8,
    "start_time": "2022-10-23T15:09:30.724Z"
   },
   {
    "duration": 6,
    "start_time": "2022-10-23T15:09:49.072Z"
   },
   {
    "duration": 5,
    "start_time": "2022-10-23T15:09:55.409Z"
   },
   {
    "duration": 4,
    "start_time": "2022-10-23T15:09:59.488Z"
   },
   {
    "duration": 6,
    "start_time": "2022-10-23T15:10:01.806Z"
   },
   {
    "duration": 45,
    "start_time": "2022-10-23T15:10:06.529Z"
   },
   {
    "duration": 14,
    "start_time": "2022-10-23T15:10:06.576Z"
   },
   {
    "duration": 35,
    "start_time": "2022-10-23T15:10:06.592Z"
   },
   {
    "duration": 40,
    "start_time": "2022-10-23T15:10:06.629Z"
   },
   {
    "duration": 31,
    "start_time": "2022-10-23T15:10:06.671Z"
   },
   {
    "duration": 0,
    "start_time": "2022-10-23T15:10:06.704Z"
   },
   {
    "duration": 24,
    "start_time": "2022-10-23T15:10:55.663Z"
   },
   {
    "duration": 28,
    "start_time": "2022-10-23T15:11:38.684Z"
   },
   {
    "duration": 7,
    "start_time": "2022-10-23T15:11:47.474Z"
   },
   {
    "duration": 7,
    "start_time": "2022-10-23T15:12:42.809Z"
   },
   {
    "duration": 9,
    "start_time": "2022-10-23T15:13:01.395Z"
   },
   {
    "duration": 7,
    "start_time": "2022-10-23T15:13:10.963Z"
   },
   {
    "duration": 13,
    "start_time": "2022-10-23T15:13:35.311Z"
   },
   {
    "duration": 10,
    "start_time": "2022-10-23T15:14:27.973Z"
   },
   {
    "duration": 15,
    "start_time": "2022-10-23T15:14:41.790Z"
   },
   {
    "duration": 12,
    "start_time": "2022-10-23T15:15:02.791Z"
   },
   {
    "duration": 10,
    "start_time": "2022-10-23T15:15:57.850Z"
   },
   {
    "duration": 15,
    "start_time": "2022-10-23T15:16:02.481Z"
   },
   {
    "duration": 7,
    "start_time": "2022-10-23T15:16:14.683Z"
   },
   {
    "duration": 8,
    "start_time": "2022-10-23T15:16:17.652Z"
   },
   {
    "duration": 49,
    "start_time": "2022-10-23T15:16:21.969Z"
   },
   {
    "duration": 14,
    "start_time": "2022-10-23T15:16:22.020Z"
   },
   {
    "duration": 7,
    "start_time": "2022-10-23T15:16:22.036Z"
   },
   {
    "duration": 55,
    "start_time": "2022-10-23T15:16:22.044Z"
   },
   {
    "duration": 5,
    "start_time": "2022-10-23T15:16:22.101Z"
   },
   {
    "duration": 29,
    "start_time": "2022-10-23T15:16:22.108Z"
   },
   {
    "duration": 8,
    "start_time": "2022-10-23T15:17:13.023Z"
   },
   {
    "duration": 15,
    "start_time": "2022-10-23T15:17:58.381Z"
   },
   {
    "duration": 3,
    "start_time": "2022-10-23T15:18:54.904Z"
   },
   {
    "duration": 8,
    "start_time": "2022-10-23T15:19:03.121Z"
   },
   {
    "duration": 6,
    "start_time": "2022-10-23T15:19:12.039Z"
   },
   {
    "duration": 7,
    "start_time": "2022-10-23T15:19:15.221Z"
   },
   {
    "duration": 10,
    "start_time": "2022-10-23T15:21:01.218Z"
   },
   {
    "duration": 5,
    "start_time": "2022-10-23T15:21:13.120Z"
   },
   {
    "duration": 59,
    "start_time": "2022-10-23T18:55:49.184Z"
   },
   {
    "duration": 450,
    "start_time": "2022-10-23T18:56:00.749Z"
   },
   {
    "duration": 18,
    "start_time": "2022-10-23T18:56:01.201Z"
   },
   {
    "duration": 21,
    "start_time": "2022-10-23T18:56:01.221Z"
   },
   {
    "duration": 49,
    "start_time": "2022-10-23T18:56:01.243Z"
   },
   {
    "duration": 5,
    "start_time": "2022-10-23T18:56:01.294Z"
   },
   {
    "duration": 19,
    "start_time": "2022-10-23T18:56:01.301Z"
   },
   {
    "duration": 15,
    "start_time": "2022-10-23T18:56:01.322Z"
   },
   {
    "duration": 27,
    "start_time": "2022-10-23T18:56:01.339Z"
   },
   {
    "duration": 29,
    "start_time": "2022-10-23T18:58:49.832Z"
   },
   {
    "duration": 922,
    "start_time": "2022-10-23T18:58:56.880Z"
   },
   {
    "duration": 11,
    "start_time": "2022-10-23T18:59:18.200Z"
   },
   {
    "duration": 558,
    "start_time": "2022-10-23T18:59:25.804Z"
   },
   {
    "duration": 239,
    "start_time": "2022-10-23T18:59:51.369Z"
   },
   {
    "duration": 261,
    "start_time": "2022-10-23T19:00:18.439Z"
   },
   {
    "duration": 233,
    "start_time": "2022-10-23T19:00:48.844Z"
   },
   {
    "duration": 233,
    "start_time": "2022-10-23T19:00:55.693Z"
   },
   {
    "duration": 227,
    "start_time": "2022-10-23T19:01:45.267Z"
   },
   {
    "duration": 342,
    "start_time": "2022-10-23T19:03:12.893Z"
   },
   {
    "duration": 399,
    "start_time": "2022-10-23T19:04:52.958Z"
   },
   {
    "duration": 4,
    "start_time": "2022-10-23T19:06:04.697Z"
   },
   {
    "duration": 1505,
    "start_time": "2022-10-23T19:06:16.322Z"
   },
   {
    "duration": 232,
    "start_time": "2022-10-23T19:08:45.700Z"
   },
   {
    "duration": 227,
    "start_time": "2022-10-23T19:09:05.008Z"
   },
   {
    "duration": 225,
    "start_time": "2022-10-23T19:09:16.338Z"
   },
   {
    "duration": 251,
    "start_time": "2022-10-23T19:09:33.968Z"
   },
   {
    "duration": 882,
    "start_time": "2022-10-23T19:11:46.784Z"
   },
   {
    "duration": 871,
    "start_time": "2022-10-23T19:11:59.487Z"
   },
   {
    "duration": 189,
    "start_time": "2022-10-23T19:12:21.089Z"
   },
   {
    "duration": 232,
    "start_time": "2022-10-23T19:14:18.634Z"
   },
   {
    "duration": 236,
    "start_time": "2022-10-23T19:14:52.289Z"
   },
   {
    "duration": 365,
    "start_time": "2022-10-23T19:15:08.588Z"
   },
   {
    "duration": 186,
    "start_time": "2022-10-23T19:18:57.690Z"
   },
   {
    "duration": 305,
    "start_time": "2022-10-23T19:19:12.637Z"
   },
   {
    "duration": 178,
    "start_time": "2022-10-23T19:22:25.107Z"
   },
   {
    "duration": 154,
    "start_time": "2022-10-23T19:22:37.425Z"
   },
   {
    "duration": 241,
    "start_time": "2022-10-23T19:25:37.599Z"
   },
   {
    "duration": 172,
    "start_time": "2022-10-23T19:26:59.571Z"
   },
   {
    "duration": 735,
    "start_time": "2022-10-23T19:29:21.137Z"
   },
   {
    "duration": 169,
    "start_time": "2022-10-23T19:29:31.470Z"
   },
   {
    "duration": 64,
    "start_time": "2022-10-23T19:30:28.378Z"
   },
   {
    "duration": 165,
    "start_time": "2022-10-23T19:30:34.061Z"
   },
   {
    "duration": 43,
    "start_time": "2022-10-23T19:34:33.026Z"
   },
   {
    "duration": 168,
    "start_time": "2022-10-23T19:34:41.773Z"
   },
   {
    "duration": 177,
    "start_time": "2022-10-23T19:34:49.406Z"
   },
   {
    "duration": 172,
    "start_time": "2022-10-23T19:35:21.213Z"
   },
   {
    "duration": 167,
    "start_time": "2022-10-23T19:35:38.697Z"
   },
   {
    "duration": 157,
    "start_time": "2022-10-23T19:35:47.898Z"
   },
   {
    "duration": 154,
    "start_time": "2022-10-23T19:36:04.332Z"
   },
   {
    "duration": 4,
    "start_time": "2022-10-23T19:36:23.053Z"
   },
   {
    "duration": 162,
    "start_time": "2022-10-23T19:36:31.087Z"
   },
   {
    "duration": 158,
    "start_time": "2022-10-23T19:36:55.054Z"
   },
   {
    "duration": 158,
    "start_time": "2022-10-23T19:37:08.505Z"
   },
   {
    "duration": 166,
    "start_time": "2022-10-23T19:37:29.557Z"
   },
   {
    "duration": 343,
    "start_time": "2022-10-23T19:39:19.304Z"
   },
   {
    "duration": 243,
    "start_time": "2022-10-23T19:39:32.554Z"
   },
   {
    "duration": 45,
    "start_time": "2022-10-23T19:46:56.841Z"
   },
   {
    "duration": 161,
    "start_time": "2022-10-23T19:47:24.909Z"
   },
   {
    "duration": 719,
    "start_time": "2022-10-23T19:48:54.885Z"
   },
   {
    "duration": 721,
    "start_time": "2022-10-23T19:49:10.686Z"
   },
   {
    "duration": 156,
    "start_time": "2022-10-23T19:49:24.225Z"
   },
   {
    "duration": 163,
    "start_time": "2022-10-23T19:49:49.512Z"
   },
   {
    "duration": 168,
    "start_time": "2022-10-23T19:50:56.099Z"
   },
   {
    "duration": 166,
    "start_time": "2022-10-23T19:52:56.128Z"
   },
   {
    "duration": 52,
    "start_time": "2022-10-23T19:54:01.737Z"
   },
   {
    "duration": 45,
    "start_time": "2022-10-23T19:54:08.635Z"
   },
   {
    "duration": 36,
    "start_time": "2022-10-23T19:54:18.907Z"
   },
   {
    "duration": 171,
    "start_time": "2022-10-23T19:54:37.648Z"
   },
   {
    "duration": 11,
    "start_time": "2022-10-23T19:56:15.418Z"
   },
   {
    "duration": 153,
    "start_time": "2022-10-23T19:56:51.457Z"
   },
   {
    "duration": 294,
    "start_time": "2022-10-23T19:57:27.491Z"
   },
   {
    "duration": 688,
    "start_time": "2022-10-23T20:11:32.375Z"
   },
   {
    "duration": 858,
    "start_time": "2022-10-23T20:14:19.506Z"
   },
   {
    "duration": 722,
    "start_time": "2022-10-23T20:16:03.497Z"
   },
   {
    "duration": 56,
    "start_time": "2022-10-23T20:16:44.802Z"
   },
   {
    "duration": 1073,
    "start_time": "2022-10-23T20:16:58.470Z"
   },
   {
    "duration": 695,
    "start_time": "2022-10-23T20:17:15.425Z"
   },
   {
    "duration": 3,
    "start_time": "2022-10-23T20:17:53.831Z"
   },
   {
    "duration": 49,
    "start_time": "2022-10-23T20:19:34.687Z"
   },
   {
    "duration": 17,
    "start_time": "2022-10-23T20:19:44.640Z"
   },
   {
    "duration": 11,
    "start_time": "2022-10-23T20:20:00.062Z"
   },
   {
    "duration": 18,
    "start_time": "2022-10-23T20:20:20.825Z"
   },
   {
    "duration": 45,
    "start_time": "2022-10-23T20:20:37.680Z"
   },
   {
    "duration": 16,
    "start_time": "2022-10-23T20:20:46.345Z"
   },
   {
    "duration": 16,
    "start_time": "2022-10-23T20:21:47.710Z"
   },
   {
    "duration": 48,
    "start_time": "2022-10-23T20:23:47.670Z"
   },
   {
    "duration": 48,
    "start_time": "2022-10-23T20:23:55.015Z"
   },
   {
    "duration": 49,
    "start_time": "2022-10-23T20:24:01.999Z"
   },
   {
    "duration": 13,
    "start_time": "2022-10-23T20:24:11.034Z"
   },
   {
    "duration": 12,
    "start_time": "2022-10-23T20:36:29.608Z"
   },
   {
    "duration": 10,
    "start_time": "2022-10-23T20:36:46.445Z"
   },
   {
    "duration": 7,
    "start_time": "2022-10-23T20:37:31.784Z"
   },
   {
    "duration": 7,
    "start_time": "2022-10-23T20:37:44.622Z"
   },
   {
    "duration": 45,
    "start_time": "2022-10-23T20:38:04.226Z"
   },
   {
    "duration": 7,
    "start_time": "2022-10-23T20:38:12.240Z"
   },
   {
    "duration": 8,
    "start_time": "2022-10-23T20:38:19.005Z"
   },
   {
    "duration": 9,
    "start_time": "2022-10-23T20:38:25.405Z"
   },
   {
    "duration": 14,
    "start_time": "2022-10-23T20:39:34.224Z"
   },
   {
    "duration": 3,
    "start_time": "2022-10-23T20:41:29.469Z"
   },
   {
    "duration": 8,
    "start_time": "2022-10-23T20:41:37.709Z"
   },
   {
    "duration": 9,
    "start_time": "2022-10-23T20:41:47.228Z"
   },
   {
    "duration": 8,
    "start_time": "2022-10-23T20:41:53.135Z"
   },
   {
    "duration": 8,
    "start_time": "2022-10-23T20:41:59.427Z"
   },
   {
    "duration": 78,
    "start_time": "2022-10-23T20:50:06.052Z"
   },
   {
    "duration": 53,
    "start_time": "2022-10-23T20:50:15.335Z"
   },
   {
    "duration": 29,
    "start_time": "2022-10-23T20:53:18.055Z"
   },
   {
    "duration": 29,
    "start_time": "2022-10-23T20:54:03.195Z"
   },
   {
    "duration": 20,
    "start_time": "2022-10-23T20:54:18.299Z"
   },
   {
    "duration": 398,
    "start_time": "2022-10-23T20:54:54.421Z"
   },
   {
    "duration": 439,
    "start_time": "2022-10-23T20:55:26.654Z"
   },
   {
    "duration": 412,
    "start_time": "2022-10-23T20:55:41.988Z"
   },
   {
    "duration": 407,
    "start_time": "2022-10-23T20:56:55.531Z"
   },
   {
    "duration": 403,
    "start_time": "2022-10-23T20:57:29.885Z"
   },
   {
    "duration": 669,
    "start_time": "2022-10-23T20:58:40.661Z"
   },
   {
    "duration": 399,
    "start_time": "2022-10-23T20:59:09.395Z"
   },
   {
    "duration": 415,
    "start_time": "2022-10-23T20:59:34.032Z"
   },
   {
    "duration": 396,
    "start_time": "2022-10-23T20:59:58.570Z"
   },
   {
    "duration": 462,
    "start_time": "2022-10-23T21:00:32.471Z"
   },
   {
    "duration": 81,
    "start_time": "2022-10-23T21:01:25.978Z"
   },
   {
    "duration": 382,
    "start_time": "2022-10-23T21:01:40.444Z"
   },
   {
    "duration": 365,
    "start_time": "2022-10-23T21:02:25.925Z"
   },
   {
    "duration": 422,
    "start_time": "2022-10-23T21:07:18.301Z"
   },
   {
    "duration": 400,
    "start_time": "2022-10-23T21:07:25.133Z"
   },
   {
    "duration": 396,
    "start_time": "2022-10-23T21:07:37.252Z"
   },
   {
    "duration": 388,
    "start_time": "2022-10-23T21:07:44.337Z"
   },
   {
    "duration": 364,
    "start_time": "2022-10-23T21:07:52.770Z"
   },
   {
    "duration": 387,
    "start_time": "2022-10-23T21:07:59.437Z"
   },
   {
    "duration": 17,
    "start_time": "2022-10-23T21:09:09.742Z"
   },
   {
    "duration": 57,
    "start_time": "2022-10-24T12:44:51.664Z"
   },
   {
    "duration": 684,
    "start_time": "2022-10-24T12:44:56.461Z"
   },
   {
    "duration": 65,
    "start_time": "2022-10-24T12:45:00.047Z"
   },
   {
    "duration": 16,
    "start_time": "2022-10-24T12:45:00.114Z"
   },
   {
    "duration": 9,
    "start_time": "2022-10-24T12:45:00.131Z"
   },
   {
    "duration": 52,
    "start_time": "2022-10-24T12:45:00.142Z"
   },
   {
    "duration": 13,
    "start_time": "2022-10-24T12:45:00.197Z"
   },
   {
    "duration": 20,
    "start_time": "2022-10-24T12:45:00.212Z"
   },
   {
    "duration": 14,
    "start_time": "2022-10-24T12:45:00.234Z"
   },
   {
    "duration": 663,
    "start_time": "2022-10-24T12:45:00.249Z"
   },
   {
    "duration": 9,
    "start_time": "2022-10-24T12:45:00.914Z"
   },
   {
    "duration": 999,
    "start_time": "2022-10-24T12:45:00.924Z"
   },
   {
    "duration": 487,
    "start_time": "2022-10-24T12:45:01.925Z"
   },
   {
    "duration": 421,
    "start_time": "2022-10-24T12:45:02.414Z"
   },
   {
    "duration": 413,
    "start_time": "2022-10-24T12:45:02.837Z"
   },
   {
    "duration": 433,
    "start_time": "2022-10-24T12:45:03.253Z"
   },
   {
    "duration": 21,
    "start_time": "2022-10-24T12:45:03.701Z"
   },
   {
    "duration": 14,
    "start_time": "2022-10-24T12:45:46.336Z"
   },
   {
    "duration": 7,
    "start_time": "2022-10-24T12:45:59.351Z"
   },
   {
    "duration": 23,
    "start_time": "2022-10-24T12:46:14.307Z"
   },
   {
    "duration": 73,
    "start_time": "2022-10-24T12:46:30.008Z"
   },
   {
    "duration": 18,
    "start_time": "2022-10-24T12:46:30.084Z"
   },
   {
    "duration": 19,
    "start_time": "2022-10-24T12:46:30.104Z"
   },
   {
    "duration": 49,
    "start_time": "2022-10-24T12:46:30.125Z"
   },
   {
    "duration": 163,
    "start_time": "2022-10-24T12:46:30.176Z"
   },
   {
    "duration": 0,
    "start_time": "2022-10-24T12:46:30.341Z"
   },
   {
    "duration": 0,
    "start_time": "2022-10-24T12:46:30.342Z"
   },
   {
    "duration": 0,
    "start_time": "2022-10-24T12:46:30.343Z"
   },
   {
    "duration": 0,
    "start_time": "2022-10-24T12:46:30.344Z"
   },
   {
    "duration": 0,
    "start_time": "2022-10-24T12:46:30.346Z"
   },
   {
    "duration": 0,
    "start_time": "2022-10-24T12:46:30.347Z"
   },
   {
    "duration": 0,
    "start_time": "2022-10-24T12:46:30.348Z"
   },
   {
    "duration": 0,
    "start_time": "2022-10-24T12:46:30.349Z"
   },
   {
    "duration": 0,
    "start_time": "2022-10-24T12:46:30.350Z"
   },
   {
    "duration": 0,
    "start_time": "2022-10-24T12:46:30.351Z"
   },
   {
    "duration": 61,
    "start_time": "2022-10-24T12:46:43.042Z"
   },
   {
    "duration": 14,
    "start_time": "2022-10-24T12:46:43.107Z"
   },
   {
    "duration": 6,
    "start_time": "2022-10-24T12:46:43.123Z"
   },
   {
    "duration": 20,
    "start_time": "2022-10-24T12:46:43.130Z"
   },
   {
    "duration": 13,
    "start_time": "2022-10-24T12:46:43.153Z"
   },
   {
    "duration": 0,
    "start_time": "2022-10-24T12:46:43.168Z"
   },
   {
    "duration": 0,
    "start_time": "2022-10-24T12:46:43.169Z"
   },
   {
    "duration": 1,
    "start_time": "2022-10-24T12:46:43.170Z"
   },
   {
    "duration": 0,
    "start_time": "2022-10-24T12:46:43.172Z"
   },
   {
    "duration": 0,
    "start_time": "2022-10-24T12:46:43.195Z"
   },
   {
    "duration": 0,
    "start_time": "2022-10-24T12:46:43.196Z"
   },
   {
    "duration": 0,
    "start_time": "2022-10-24T12:46:43.197Z"
   },
   {
    "duration": 0,
    "start_time": "2022-10-24T12:46:43.197Z"
   },
   {
    "duration": 0,
    "start_time": "2022-10-24T12:46:43.198Z"
   },
   {
    "duration": 0,
    "start_time": "2022-10-24T12:46:43.199Z"
   },
   {
    "duration": 15,
    "start_time": "2022-10-24T12:47:28.830Z"
   },
   {
    "duration": 15,
    "start_time": "2022-10-24T12:58:13.835Z"
   },
   {
    "duration": 19,
    "start_time": "2022-10-24T12:59:17.536Z"
   },
   {
    "duration": 27,
    "start_time": "2022-10-24T13:00:05.664Z"
   },
   {
    "duration": 76,
    "start_time": "2022-10-24T13:11:09.215Z"
   },
   {
    "duration": 87,
    "start_time": "2022-10-24T13:12:05.734Z"
   },
   {
    "duration": 71,
    "start_time": "2022-10-24T13:13:05.272Z"
   },
   {
    "duration": 14,
    "start_time": "2022-10-24T13:17:20.247Z"
   },
   {
    "duration": 17,
    "start_time": "2022-10-24T13:18:30.423Z"
   },
   {
    "duration": 22,
    "start_time": "2022-10-24T13:18:57.042Z"
   },
   {
    "duration": 22,
    "start_time": "2022-10-24T13:20:07.934Z"
   },
   {
    "duration": 18,
    "start_time": "2022-10-24T13:20:23.540Z"
   },
   {
    "duration": 33,
    "start_time": "2022-10-24T13:20:58.888Z"
   },
   {
    "duration": 6,
    "start_time": "2022-10-24T13:21:56.520Z"
   },
   {
    "duration": 79,
    "start_time": "2022-10-24T13:22:14.265Z"
   },
   {
    "duration": 84,
    "start_time": "2022-10-24T13:22:28.684Z"
   },
   {
    "duration": 51,
    "start_time": "2022-10-24T13:23:15.155Z"
   },
   {
    "duration": 61,
    "start_time": "2022-10-24T13:25:02.365Z"
   },
   {
    "duration": 31,
    "start_time": "2022-10-24T13:26:30.357Z"
   },
   {
    "duration": 95,
    "start_time": "2022-10-24T13:26:36.541Z"
   },
   {
    "duration": 22,
    "start_time": "2022-10-24T13:28:01.783Z"
   },
   {
    "duration": 11,
    "start_time": "2022-10-24T13:31:23.890Z"
   },
   {
    "duration": 5,
    "start_time": "2022-10-24T13:31:26.988Z"
   },
   {
    "duration": 6,
    "start_time": "2022-10-24T13:31:42.225Z"
   },
   {
    "duration": 7,
    "start_time": "2022-10-24T13:31:49.758Z"
   },
   {
    "duration": 7,
    "start_time": "2022-10-24T13:31:54.540Z"
   },
   {
    "duration": 66,
    "start_time": "2022-10-24T13:32:01.483Z"
   },
   {
    "duration": 14,
    "start_time": "2022-10-24T13:32:01.551Z"
   },
   {
    "duration": 10,
    "start_time": "2022-10-24T13:32:01.567Z"
   },
   {
    "duration": 32,
    "start_time": "2022-10-24T13:32:01.579Z"
   },
   {
    "duration": 73,
    "start_time": "2022-10-24T13:32:01.614Z"
   },
   {
    "duration": 0,
    "start_time": "2022-10-24T13:32:01.689Z"
   },
   {
    "duration": 0,
    "start_time": "2022-10-24T13:32:01.690Z"
   },
   {
    "duration": 0,
    "start_time": "2022-10-24T13:32:01.691Z"
   },
   {
    "duration": 0,
    "start_time": "2022-10-24T13:32:01.692Z"
   },
   {
    "duration": 0,
    "start_time": "2022-10-24T13:32:01.693Z"
   },
   {
    "duration": 0,
    "start_time": "2022-10-24T13:32:01.694Z"
   },
   {
    "duration": 0,
    "start_time": "2022-10-24T13:32:01.701Z"
   },
   {
    "duration": 0,
    "start_time": "2022-10-24T13:32:01.702Z"
   },
   {
    "duration": 0,
    "start_time": "2022-10-24T13:32:01.702Z"
   },
   {
    "duration": 0,
    "start_time": "2022-10-24T13:32:01.703Z"
   },
   {
    "duration": 0,
    "start_time": "2022-10-24T13:32:01.704Z"
   },
   {
    "duration": 61,
    "start_time": "2022-10-24T13:32:19.229Z"
   },
   {
    "duration": 22,
    "start_time": "2022-10-24T13:32:19.292Z"
   },
   {
    "duration": 8,
    "start_time": "2022-10-24T13:32:19.316Z"
   },
   {
    "duration": 15,
    "start_time": "2022-10-24T13:32:19.326Z"
   },
   {
    "duration": 52,
    "start_time": "2022-10-24T13:32:19.344Z"
   },
   {
    "duration": 0,
    "start_time": "2022-10-24T13:32:19.398Z"
   },
   {
    "duration": 0,
    "start_time": "2022-10-24T13:32:19.399Z"
   },
   {
    "duration": 0,
    "start_time": "2022-10-24T13:32:19.400Z"
   },
   {
    "duration": 0,
    "start_time": "2022-10-24T13:32:19.401Z"
   },
   {
    "duration": 0,
    "start_time": "2022-10-24T13:32:19.402Z"
   },
   {
    "duration": 0,
    "start_time": "2022-10-24T13:32:19.403Z"
   },
   {
    "duration": 0,
    "start_time": "2022-10-24T13:32:19.403Z"
   },
   {
    "duration": 0,
    "start_time": "2022-10-24T13:32:19.404Z"
   },
   {
    "duration": 0,
    "start_time": "2022-10-24T13:32:19.406Z"
   },
   {
    "duration": 0,
    "start_time": "2022-10-24T13:32:19.408Z"
   },
   {
    "duration": 38,
    "start_time": "2022-10-24T13:33:09.954Z"
   },
   {
    "duration": 29,
    "start_time": "2022-10-24T13:33:33.706Z"
   },
   {
    "duration": 90,
    "start_time": "2022-10-24T13:33:38.538Z"
   },
   {
    "duration": 18,
    "start_time": "2022-10-24T13:33:42.837Z"
   },
   {
    "duration": 6,
    "start_time": "2022-10-24T13:33:47.655Z"
   },
   {
    "duration": 6,
    "start_time": "2022-10-24T13:33:58.007Z"
   },
   {
    "duration": 5,
    "start_time": "2022-10-24T13:34:25.026Z"
   },
   {
    "duration": 7,
    "start_time": "2022-10-24T13:38:57.155Z"
   },
   {
    "duration": 322,
    "start_time": "2022-10-24T13:43:42.339Z"
   },
   {
    "duration": 354,
    "start_time": "2022-10-24T13:44:20.230Z"
   },
   {
    "duration": 70,
    "start_time": "2022-10-24T13:52:29.807Z"
   },
   {
    "duration": 73,
    "start_time": "2022-10-24T13:52:45.964Z"
   },
   {
    "duration": 16,
    "start_time": "2022-10-24T13:52:52.807Z"
   },
   {
    "duration": 17,
    "start_time": "2022-10-24T13:53:55.072Z"
   },
   {
    "duration": 18,
    "start_time": "2022-10-24T13:54:30.278Z"
   },
   {
    "duration": 20,
    "start_time": "2022-10-24T13:56:01.989Z"
   },
   {
    "duration": 88,
    "start_time": "2022-10-24T13:57:25.460Z"
   },
   {
    "duration": 9,
    "start_time": "2022-10-24T13:59:00.497Z"
   },
   {
    "duration": 5,
    "start_time": "2022-10-24T13:59:03.543Z"
   },
   {
    "duration": 6,
    "start_time": "2022-10-24T13:59:11.625Z"
   },
   {
    "duration": 28,
    "start_time": "2022-10-24T13:59:32.695Z"
   },
   {
    "duration": 19,
    "start_time": "2022-10-24T13:59:54.034Z"
   },
   {
    "duration": 11,
    "start_time": "2022-10-24T14:02:04.748Z"
   },
   {
    "duration": 193,
    "start_time": "2022-10-24T14:02:10.246Z"
   },
   {
    "duration": 210,
    "start_time": "2022-10-24T14:02:28.007Z"
   },
   {
    "duration": 192,
    "start_time": "2022-10-24T14:02:32.007Z"
   },
   {
    "duration": 57,
    "start_time": "2022-10-24T14:02:36.415Z"
   },
   {
    "duration": 14,
    "start_time": "2022-10-24T14:02:36.474Z"
   },
   {
    "duration": 19,
    "start_time": "2022-10-24T14:02:36.490Z"
   },
   {
    "duration": 26,
    "start_time": "2022-10-24T14:02:36.512Z"
   },
   {
    "duration": 39,
    "start_time": "2022-10-24T14:02:36.540Z"
   },
   {
    "duration": 90,
    "start_time": "2022-10-24T14:02:36.581Z"
   },
   {
    "duration": 28,
    "start_time": "2022-10-24T14:02:36.673Z"
   },
   {
    "duration": 12,
    "start_time": "2022-10-24T14:02:36.702Z"
   },
   {
    "duration": 8,
    "start_time": "2022-10-24T14:02:36.716Z"
   },
   {
    "duration": 630,
    "start_time": "2022-10-24T14:02:36.725Z"
   },
   {
    "duration": 295,
    "start_time": "2022-10-24T14:02:37.357Z"
   },
   {
    "duration": 21,
    "start_time": "2022-10-24T14:02:37.654Z"
   },
   {
    "duration": 43,
    "start_time": "2022-10-24T14:02:37.677Z"
   },
   {
    "duration": 73,
    "start_time": "2022-10-24T14:02:37.723Z"
   },
   {
    "duration": 0,
    "start_time": "2022-10-24T14:02:37.798Z"
   },
   {
    "duration": 0,
    "start_time": "2022-10-24T14:02:37.799Z"
   },
   {
    "duration": 0,
    "start_time": "2022-10-24T14:02:37.801Z"
   },
   {
    "duration": 0,
    "start_time": "2022-10-24T14:02:37.802Z"
   },
   {
    "duration": 0,
    "start_time": "2022-10-24T14:02:37.803Z"
   },
   {
    "duration": 81,
    "start_time": "2022-10-24T14:06:33.474Z"
   },
   {
    "duration": 13,
    "start_time": "2022-10-24T14:06:49.497Z"
   },
   {
    "duration": 20,
    "start_time": "2022-10-24T14:06:56.227Z"
   },
   {
    "duration": 40,
    "start_time": "2022-10-24T14:07:14.731Z"
   },
   {
    "duration": 11,
    "start_time": "2022-10-24T14:07:22.447Z"
   },
   {
    "duration": 70,
    "start_time": "2022-10-24T14:07:28.047Z"
   },
   {
    "duration": 77,
    "start_time": "2022-10-24T14:09:41.435Z"
   },
   {
    "duration": 84,
    "start_time": "2022-10-24T14:12:25.231Z"
   },
   {
    "duration": 82,
    "start_time": "2022-10-24T14:13:27.211Z"
   },
   {
    "duration": 1212,
    "start_time": "2022-10-24T14:14:54.721Z"
   },
   {
    "duration": 22,
    "start_time": "2022-10-24T14:16:26.176Z"
   },
   {
    "duration": 45,
    "start_time": "2022-10-24T14:16:43.878Z"
   },
   {
    "duration": 69,
    "start_time": "2022-10-24T14:16:53.162Z"
   },
   {
    "duration": 85,
    "start_time": "2022-10-24T14:18:47.646Z"
   },
   {
    "duration": 81,
    "start_time": "2022-10-24T14:19:13.061Z"
   },
   {
    "duration": 81,
    "start_time": "2022-10-24T14:19:36.863Z"
   },
   {
    "duration": 64,
    "start_time": "2022-10-24T14:19:41.365Z"
   },
   {
    "duration": 14,
    "start_time": "2022-10-24T14:19:41.431Z"
   },
   {
    "duration": 16,
    "start_time": "2022-10-24T14:19:41.446Z"
   },
   {
    "duration": 47,
    "start_time": "2022-10-24T14:19:41.465Z"
   },
   {
    "duration": 41,
    "start_time": "2022-10-24T14:19:41.516Z"
   },
   {
    "duration": 97,
    "start_time": "2022-10-24T14:19:41.559Z"
   },
   {
    "duration": 21,
    "start_time": "2022-10-24T14:19:41.658Z"
   },
   {
    "duration": 42,
    "start_time": "2022-10-24T14:19:41.681Z"
   },
   {
    "duration": 70,
    "start_time": "2022-10-24T14:19:41.726Z"
   },
   {
    "duration": 0,
    "start_time": "2022-10-24T14:19:41.803Z"
   },
   {
    "duration": 0,
    "start_time": "2022-10-24T14:19:41.804Z"
   },
   {
    "duration": 0,
    "start_time": "2022-10-24T14:19:41.806Z"
   },
   {
    "duration": 0,
    "start_time": "2022-10-24T14:19:41.807Z"
   },
   {
    "duration": 0,
    "start_time": "2022-10-24T14:19:41.808Z"
   },
   {
    "duration": 0,
    "start_time": "2022-10-24T14:19:41.809Z"
   },
   {
    "duration": 0,
    "start_time": "2022-10-24T14:19:41.811Z"
   },
   {
    "duration": 0,
    "start_time": "2022-10-24T14:19:41.812Z"
   },
   {
    "duration": 0,
    "start_time": "2022-10-24T14:19:41.814Z"
   },
   {
    "duration": 0,
    "start_time": "2022-10-24T14:19:41.815Z"
   },
   {
    "duration": 81,
    "start_time": "2022-10-24T14:20:27.553Z"
   },
   {
    "duration": 66,
    "start_time": "2022-10-24T14:20:53.788Z"
   },
   {
    "duration": 549,
    "start_time": "2022-10-24T14:21:43.763Z"
   },
   {
    "duration": 51,
    "start_time": "2022-10-24T15:25:31.286Z"
   },
   {
    "duration": 60,
    "start_time": "2022-10-24T15:26:06.763Z"
   },
   {
    "duration": 500,
    "start_time": "2022-10-24T15:26:12.716Z"
   },
   {
    "duration": 13,
    "start_time": "2022-10-24T15:26:13.217Z"
   },
   {
    "duration": 5,
    "start_time": "2022-10-24T15:26:13.231Z"
   },
   {
    "duration": 20,
    "start_time": "2022-10-24T15:26:13.237Z"
   },
   {
    "duration": 55,
    "start_time": "2022-10-24T15:26:13.260Z"
   },
   {
    "duration": 64,
    "start_time": "2022-10-24T15:26:13.317Z"
   },
   {
    "duration": 31,
    "start_time": "2022-10-24T15:26:13.383Z"
   },
   {
    "duration": 6,
    "start_time": "2022-10-24T15:26:13.415Z"
   },
   {
    "duration": 18,
    "start_time": "2022-10-24T15:26:13.423Z"
   },
   {
    "duration": 940,
    "start_time": "2022-10-24T15:26:13.443Z"
   },
   {
    "duration": 334,
    "start_time": "2022-10-24T15:26:14.386Z"
   },
   {
    "duration": 19,
    "start_time": "2022-10-24T15:26:14.722Z"
   },
   {
    "duration": 21,
    "start_time": "2022-10-24T15:26:14.742Z"
   },
   {
    "duration": 51,
    "start_time": "2022-10-24T15:26:14.765Z"
   },
   {
    "duration": 0,
    "start_time": "2022-10-24T15:26:14.818Z"
   },
   {
    "duration": 0,
    "start_time": "2022-10-24T15:26:14.818Z"
   },
   {
    "duration": 1,
    "start_time": "2022-10-24T15:26:14.819Z"
   },
   {
    "duration": 0,
    "start_time": "2022-10-24T15:26:14.820Z"
   },
   {
    "duration": 0,
    "start_time": "2022-10-24T15:26:14.822Z"
   },
   {
    "duration": 62,
    "start_time": "2022-10-24T15:27:07.886Z"
   },
   {
    "duration": 55,
    "start_time": "2022-10-24T15:27:50.060Z"
   },
   {
    "duration": 35,
    "start_time": "2022-10-24T15:31:41.103Z"
   },
   {
    "duration": 18,
    "start_time": "2022-10-24T15:31:49.434Z"
   },
   {
    "duration": 15,
    "start_time": "2022-10-24T15:32:06.987Z"
   },
   {
    "duration": 14,
    "start_time": "2022-10-24T15:33:08.344Z"
   },
   {
    "duration": 2,
    "start_time": "2022-10-24T15:43:46.436Z"
   },
   {
    "duration": 49,
    "start_time": "2022-10-24T15:45:59.068Z"
   },
   {
    "duration": 26,
    "start_time": "2022-10-24T15:50:21.366Z"
   },
   {
    "duration": 67,
    "start_time": "2022-10-24T15:50:56.948Z"
   },
   {
    "duration": 41,
    "start_time": "2022-10-24T15:51:50.072Z"
   },
   {
    "duration": 43,
    "start_time": "2022-10-24T15:52:32.125Z"
   },
   {
    "duration": 49,
    "start_time": "2022-10-24T15:52:51.077Z"
   },
   {
    "duration": 43,
    "start_time": "2022-10-24T15:52:58.645Z"
   },
   {
    "duration": 65,
    "start_time": "2022-10-24T15:53:04.514Z"
   },
   {
    "duration": 17,
    "start_time": "2022-10-24T15:53:04.581Z"
   },
   {
    "duration": 12,
    "start_time": "2022-10-24T15:53:04.600Z"
   },
   {
    "duration": 25,
    "start_time": "2022-10-24T15:53:04.614Z"
   },
   {
    "duration": 39,
    "start_time": "2022-10-24T15:53:04.642Z"
   },
   {
    "duration": 91,
    "start_time": "2022-10-24T15:53:04.683Z"
   },
   {
    "duration": 15,
    "start_time": "2022-10-24T15:53:04.776Z"
   },
   {
    "duration": 19,
    "start_time": "2022-10-24T15:53:04.793Z"
   },
   {
    "duration": 58,
    "start_time": "2022-10-24T15:53:04.814Z"
   },
   {
    "duration": 490,
    "start_time": "2022-10-24T15:53:04.874Z"
   },
   {
    "duration": 295,
    "start_time": "2022-10-24T15:53:05.365Z"
   },
   {
    "duration": 24,
    "start_time": "2022-10-24T15:53:05.661Z"
   },
   {
    "duration": 35,
    "start_time": "2022-10-24T15:53:05.687Z"
   },
   {
    "duration": 41,
    "start_time": "2022-10-24T15:53:05.724Z"
   },
   {
    "duration": 0,
    "start_time": "2022-10-24T15:53:05.766Z"
   },
   {
    "duration": 0,
    "start_time": "2022-10-24T15:53:05.768Z"
   },
   {
    "duration": 0,
    "start_time": "2022-10-24T15:53:05.769Z"
   },
   {
    "duration": 0,
    "start_time": "2022-10-24T15:53:05.770Z"
   },
   {
    "duration": 0,
    "start_time": "2022-10-24T15:53:05.771Z"
   },
   {
    "duration": 0,
    "start_time": "2022-10-24T15:53:05.773Z"
   },
   {
    "duration": 41,
    "start_time": "2022-10-24T15:53:22.996Z"
   },
   {
    "duration": 46,
    "start_time": "2022-10-24T15:53:30.550Z"
   },
   {
    "duration": 57,
    "start_time": "2022-10-24T15:53:55.868Z"
   },
   {
    "duration": 508,
    "start_time": "2022-10-24T15:54:04.903Z"
   },
   {
    "duration": 11,
    "start_time": "2022-10-24T15:56:53.357Z"
   },
   {
    "duration": 10,
    "start_time": "2022-10-24T15:57:02.673Z"
   },
   {
    "duration": 2,
    "start_time": "2022-10-24T15:57:19.892Z"
   },
   {
    "duration": 42,
    "start_time": "2022-10-24T15:57:33.625Z"
   },
   {
    "duration": 50,
    "start_time": "2022-10-24T15:57:46.246Z"
   },
   {
    "duration": 41,
    "start_time": "2022-10-24T15:57:59.029Z"
   },
   {
    "duration": 23,
    "start_time": "2022-10-24T15:59:52.841Z"
   },
   {
    "duration": 56,
    "start_time": "2022-10-24T16:00:02.193Z"
   },
   {
    "duration": 13,
    "start_time": "2022-10-24T16:00:02.251Z"
   },
   {
    "duration": 20,
    "start_time": "2022-10-24T16:00:02.266Z"
   },
   {
    "duration": 30,
    "start_time": "2022-10-24T16:00:02.288Z"
   },
   {
    "duration": 46,
    "start_time": "2022-10-24T16:00:02.322Z"
   },
   {
    "duration": 101,
    "start_time": "2022-10-24T16:00:02.370Z"
   },
   {
    "duration": 16,
    "start_time": "2022-10-24T16:00:02.473Z"
   },
   {
    "duration": 18,
    "start_time": "2022-10-24T16:00:02.491Z"
   },
   {
    "duration": 57,
    "start_time": "2022-10-24T16:00:02.511Z"
   },
   {
    "duration": 565,
    "start_time": "2022-10-24T16:00:02.570Z"
   },
   {
    "duration": 287,
    "start_time": "2022-10-24T16:00:03.137Z"
   },
   {
    "duration": 22,
    "start_time": "2022-10-24T16:00:03.426Z"
   },
   {
    "duration": 127,
    "start_time": "2022-10-24T16:00:03.450Z"
   },
   {
    "duration": 0,
    "start_time": "2022-10-24T16:00:03.579Z"
   },
   {
    "duration": 0,
    "start_time": "2022-10-24T16:00:03.581Z"
   },
   {
    "duration": 0,
    "start_time": "2022-10-24T16:00:03.582Z"
   },
   {
    "duration": 0,
    "start_time": "2022-10-24T16:00:03.584Z"
   },
   {
    "duration": 0,
    "start_time": "2022-10-24T16:00:03.585Z"
   },
   {
    "duration": 0,
    "start_time": "2022-10-24T16:00:03.586Z"
   },
   {
    "duration": 1,
    "start_time": "2022-10-24T16:00:03.587Z"
   },
   {
    "duration": 54,
    "start_time": "2022-10-24T16:01:02.195Z"
   },
   {
    "duration": 45,
    "start_time": "2022-10-24T16:01:59.121Z"
   },
   {
    "duration": 59,
    "start_time": "2022-10-24T16:02:20.451Z"
   },
   {
    "duration": 68,
    "start_time": "2022-10-24T16:02:28.840Z"
   },
   {
    "duration": 20,
    "start_time": "2022-10-24T16:02:28.910Z"
   },
   {
    "duration": 6,
    "start_time": "2022-10-24T16:02:28.932Z"
   },
   {
    "duration": 17,
    "start_time": "2022-10-24T16:02:28.940Z"
   },
   {
    "duration": 57,
    "start_time": "2022-10-24T16:02:28.959Z"
   },
   {
    "duration": 69,
    "start_time": "2022-10-24T16:02:29.017Z"
   },
   {
    "duration": 29,
    "start_time": "2022-10-24T16:02:29.088Z"
   },
   {
    "duration": 8,
    "start_time": "2022-10-24T16:02:29.119Z"
   },
   {
    "duration": 57,
    "start_time": "2022-10-24T16:02:29.129Z"
   },
   {
    "duration": 498,
    "start_time": "2022-10-24T16:02:29.189Z"
   },
   {
    "duration": 283,
    "start_time": "2022-10-24T16:02:29.689Z"
   },
   {
    "duration": 19,
    "start_time": "2022-10-24T16:02:29.974Z"
   },
   {
    "duration": 82,
    "start_time": "2022-10-24T16:02:29.995Z"
   },
   {
    "duration": 0,
    "start_time": "2022-10-24T16:02:30.078Z"
   },
   {
    "duration": 0,
    "start_time": "2022-10-24T16:02:30.080Z"
   },
   {
    "duration": 0,
    "start_time": "2022-10-24T16:02:30.082Z"
   },
   {
    "duration": 0,
    "start_time": "2022-10-24T16:02:30.083Z"
   },
   {
    "duration": 0,
    "start_time": "2022-10-24T16:02:30.084Z"
   },
   {
    "duration": 0,
    "start_time": "2022-10-24T16:02:30.086Z"
   },
   {
    "duration": 0,
    "start_time": "2022-10-24T16:02:30.087Z"
   },
   {
    "duration": 17,
    "start_time": "2022-10-24T16:04:20.106Z"
   },
   {
    "duration": 27,
    "start_time": "2022-10-24T16:04:38.990Z"
   },
   {
    "duration": 75,
    "start_time": "2022-10-24T18:28:28.504Z"
   },
   {
    "duration": 598,
    "start_time": "2022-10-24T18:28:34.256Z"
   },
   {
    "duration": 14,
    "start_time": "2022-10-24T18:28:34.855Z"
   },
   {
    "duration": 5,
    "start_time": "2022-10-24T18:28:34.871Z"
   },
   {
    "duration": 18,
    "start_time": "2022-10-24T18:28:34.878Z"
   },
   {
    "duration": 42,
    "start_time": "2022-10-24T18:28:34.898Z"
   },
   {
    "duration": 88,
    "start_time": "2022-10-24T18:28:34.942Z"
   },
   {
    "duration": 19,
    "start_time": "2022-10-24T18:28:35.031Z"
   },
   {
    "duration": 6,
    "start_time": "2022-10-24T18:28:35.051Z"
   },
   {
    "duration": 82,
    "start_time": "2022-10-24T18:28:35.059Z"
   },
   {
    "duration": 952,
    "start_time": "2022-10-24T18:28:35.144Z"
   },
   {
    "duration": 277,
    "start_time": "2022-10-24T18:28:36.098Z"
   },
   {
    "duration": 23,
    "start_time": "2022-10-24T18:28:36.376Z"
   },
   {
    "duration": 70,
    "start_time": "2022-10-24T18:28:36.400Z"
   },
   {
    "duration": 0,
    "start_time": "2022-10-24T18:28:36.471Z"
   },
   {
    "duration": 0,
    "start_time": "2022-10-24T18:28:36.473Z"
   },
   {
    "duration": 0,
    "start_time": "2022-10-24T18:28:36.474Z"
   },
   {
    "duration": 0,
    "start_time": "2022-10-24T18:28:36.476Z"
   },
   {
    "duration": 0,
    "start_time": "2022-10-24T18:28:36.477Z"
   },
   {
    "duration": 0,
    "start_time": "2022-10-24T18:28:36.478Z"
   },
   {
    "duration": 0,
    "start_time": "2022-10-24T18:28:36.479Z"
   },
   {
    "duration": 6,
    "start_time": "2022-10-24T18:29:07.892Z"
   },
   {
    "duration": 9,
    "start_time": "2022-10-24T18:30:16.815Z"
   },
   {
    "duration": 100,
    "start_time": "2022-10-24T18:30:31.144Z"
   },
   {
    "duration": 15,
    "start_time": "2022-10-24T18:31:12.775Z"
   },
   {
    "duration": 31,
    "start_time": "2022-10-24T18:31:31.938Z"
   },
   {
    "duration": 86,
    "start_time": "2022-10-24T18:32:12.996Z"
   },
   {
    "duration": 216,
    "start_time": "2022-10-24T18:32:25.280Z"
   },
   {
    "duration": 199,
    "start_time": "2022-10-24T18:33:09.949Z"
   },
   {
    "duration": 491,
    "start_time": "2022-10-24T18:39:07.547Z"
   },
   {
    "duration": 86,
    "start_time": "2022-10-24T18:39:20.651Z"
   },
   {
    "duration": 26,
    "start_time": "2022-10-24T18:39:28.445Z"
   },
   {
    "duration": 22,
    "start_time": "2022-10-24T18:40:15.766Z"
   },
   {
    "duration": 115,
    "start_time": "2022-10-24T18:40:48.087Z"
   },
   {
    "duration": 140,
    "start_time": "2022-10-24T18:41:00.387Z"
   },
   {
    "duration": 332,
    "start_time": "2022-10-24T18:45:08.982Z"
   },
   {
    "duration": 135,
    "start_time": "2022-10-24T18:45:44.438Z"
   },
   {
    "duration": 182,
    "start_time": "2022-10-24T18:45:51.903Z"
   },
   {
    "duration": 698,
    "start_time": "2022-10-24T18:48:59.109Z"
   },
   {
    "duration": 1576,
    "start_time": "2022-10-24T18:50:18.769Z"
   },
   {
    "duration": 161,
    "start_time": "2022-10-24T18:50:33.803Z"
   },
   {
    "duration": 62,
    "start_time": "2022-10-24T18:51:06.642Z"
   },
   {
    "duration": 15,
    "start_time": "2022-10-24T18:51:06.706Z"
   },
   {
    "duration": 26,
    "start_time": "2022-10-24T18:51:06.722Z"
   },
   {
    "duration": 38,
    "start_time": "2022-10-24T18:51:06.750Z"
   },
   {
    "duration": 58,
    "start_time": "2022-10-24T18:51:06.790Z"
   },
   {
    "duration": 82,
    "start_time": "2022-10-24T18:51:06.850Z"
   },
   {
    "duration": 18,
    "start_time": "2022-10-24T18:51:06.933Z"
   },
   {
    "duration": 15,
    "start_time": "2022-10-24T18:51:06.952Z"
   },
   {
    "duration": 86,
    "start_time": "2022-10-24T18:51:06.969Z"
   },
   {
    "duration": 625,
    "start_time": "2022-10-24T18:51:07.057Z"
   },
   {
    "duration": 301,
    "start_time": "2022-10-24T18:51:07.684Z"
   },
   {
    "duration": 21,
    "start_time": "2022-10-24T18:51:07.987Z"
   },
   {
    "duration": 231,
    "start_time": "2022-10-24T18:51:08.010Z"
   },
   {
    "duration": 24,
    "start_time": "2022-10-24T18:51:08.243Z"
   },
   {
    "duration": 156,
    "start_time": "2022-10-24T18:51:08.268Z"
   },
   {
    "duration": 165,
    "start_time": "2022-10-24T18:51:08.426Z"
   },
   {
    "duration": 16,
    "start_time": "2022-10-24T18:51:26.241Z"
   },
   {
    "duration": 53,
    "start_time": "2022-10-24T18:51:49.443Z"
   },
   {
    "duration": 77,
    "start_time": "2022-10-24T18:51:55.061Z"
   },
   {
    "duration": 27,
    "start_time": "2022-10-24T18:52:11.579Z"
   },
   {
    "duration": 38,
    "start_time": "2022-10-24T18:52:24.498Z"
   },
   {
    "duration": 31,
    "start_time": "2022-10-24T18:52:58.184Z"
   },
   {
    "duration": 31,
    "start_time": "2022-10-24T18:53:05.068Z"
   },
   {
    "duration": 16,
    "start_time": "2022-10-24T18:53:18.170Z"
   },
   {
    "duration": 90,
    "start_time": "2022-10-24T18:53:39.223Z"
   },
   {
    "duration": 85,
    "start_time": "2022-10-24T18:53:43.438Z"
   },
   {
    "duration": 25,
    "start_time": "2022-10-24T18:53:51.439Z"
   },
   {
    "duration": 27,
    "start_time": "2022-10-24T18:54:01.342Z"
   },
   {
    "duration": 27,
    "start_time": "2022-10-24T18:54:06.759Z"
   },
   {
    "duration": 63,
    "start_time": "2022-10-24T18:54:26.512Z"
   },
   {
    "duration": 16,
    "start_time": "2022-10-24T18:54:26.577Z"
   },
   {
    "duration": 24,
    "start_time": "2022-10-24T18:54:26.594Z"
   },
   {
    "duration": 34,
    "start_time": "2022-10-24T18:54:26.619Z"
   },
   {
    "duration": 32,
    "start_time": "2022-10-24T18:54:26.656Z"
   },
   {
    "duration": 0,
    "start_time": "2022-10-24T18:54:26.690Z"
   },
   {
    "duration": 0,
    "start_time": "2022-10-24T18:54:26.691Z"
   },
   {
    "duration": 0,
    "start_time": "2022-10-24T18:54:26.692Z"
   },
   {
    "duration": 0,
    "start_time": "2022-10-24T18:54:26.693Z"
   },
   {
    "duration": 0,
    "start_time": "2022-10-24T18:54:26.694Z"
   },
   {
    "duration": 0,
    "start_time": "2022-10-24T18:54:26.696Z"
   },
   {
    "duration": 0,
    "start_time": "2022-10-24T18:54:26.697Z"
   },
   {
    "duration": 1,
    "start_time": "2022-10-24T18:54:26.697Z"
   },
   {
    "duration": 0,
    "start_time": "2022-10-24T18:54:26.698Z"
   },
   {
    "duration": 0,
    "start_time": "2022-10-24T18:54:26.699Z"
   },
   {
    "duration": 0,
    "start_time": "2022-10-24T18:54:26.700Z"
   },
   {
    "duration": 25,
    "start_time": "2022-10-24T18:54:55.433Z"
   },
   {
    "duration": 42,
    "start_time": "2022-10-24T18:55:02.146Z"
   },
   {
    "duration": 5,
    "start_time": "2022-10-24T18:55:32.685Z"
   },
   {
    "duration": 87,
    "start_time": "2022-10-24T18:56:04.922Z"
   },
   {
    "duration": 5,
    "start_time": "2022-10-24T18:56:19.807Z"
   },
   {
    "duration": 85,
    "start_time": "2022-10-24T18:56:29.409Z"
   },
   {
    "duration": 5,
    "start_time": "2022-10-24T18:56:40.111Z"
   },
   {
    "duration": 85,
    "start_time": "2022-10-24T18:56:51.428Z"
   },
   {
    "duration": 1227,
    "start_time": "2022-10-24T18:56:58.793Z"
   },
   {
    "duration": 62,
    "start_time": "2022-10-24T18:57:04.916Z"
   },
   {
    "duration": 16,
    "start_time": "2022-10-24T18:57:04.981Z"
   },
   {
    "duration": 22,
    "start_time": "2022-10-24T18:57:04.998Z"
   },
   {
    "duration": 28,
    "start_time": "2022-10-24T18:57:05.022Z"
   },
   {
    "duration": 41,
    "start_time": "2022-10-24T18:57:05.052Z"
   },
   {
    "duration": 91,
    "start_time": "2022-10-24T18:57:05.095Z"
   },
   {
    "duration": 19,
    "start_time": "2022-10-24T18:57:05.188Z"
   },
   {
    "duration": 8,
    "start_time": "2022-10-24T18:57:05.223Z"
   },
   {
    "duration": 58,
    "start_time": "2022-10-24T18:57:05.233Z"
   },
   {
    "duration": 582,
    "start_time": "2022-10-24T18:57:05.292Z"
   },
   {
    "duration": 330,
    "start_time": "2022-10-24T18:57:05.876Z"
   },
   {
    "duration": 32,
    "start_time": "2022-10-24T18:57:06.208Z"
   },
   {
    "duration": 217,
    "start_time": "2022-10-24T18:57:06.241Z"
   },
   {
    "duration": 23,
    "start_time": "2022-10-24T18:57:06.460Z"
   },
   {
    "duration": 151,
    "start_time": "2022-10-24T18:57:06.485Z"
   },
   {
    "duration": 271,
    "start_time": "2022-10-24T18:57:06.638Z"
   },
   {
    "duration": 41,
    "start_time": "2022-10-24T18:58:30.822Z"
   },
   {
    "duration": 75,
    "start_time": "2022-10-24T18:59:05.987Z"
   },
   {
    "duration": 65,
    "start_time": "2022-10-24T18:59:10.638Z"
   },
   {
    "duration": 17,
    "start_time": "2022-10-24T18:59:10.705Z"
   },
   {
    "duration": 7,
    "start_time": "2022-10-24T18:59:10.725Z"
   },
   {
    "duration": 24,
    "start_time": "2022-10-24T18:59:10.733Z"
   },
   {
    "duration": 68,
    "start_time": "2022-10-24T18:59:10.760Z"
   },
   {
    "duration": 102,
    "start_time": "2022-10-24T18:59:10.830Z"
   },
   {
    "duration": 24,
    "start_time": "2022-10-24T18:59:10.935Z"
   },
   {
    "duration": 7,
    "start_time": "2022-10-24T18:59:10.960Z"
   },
   {
    "duration": 82,
    "start_time": "2022-10-24T18:59:10.969Z"
   },
   {
    "duration": 562,
    "start_time": "2022-10-24T18:59:11.052Z"
   },
   {
    "duration": 379,
    "start_time": "2022-10-24T18:59:11.623Z"
   },
   {
    "duration": 40,
    "start_time": "2022-10-24T18:59:12.004Z"
   },
   {
    "duration": 251,
    "start_time": "2022-10-24T18:59:12.046Z"
   },
   {
    "duration": 31,
    "start_time": "2022-10-24T18:59:12.300Z"
   },
   {
    "duration": 140,
    "start_time": "2022-10-24T18:59:12.333Z"
   },
   {
    "duration": 167,
    "start_time": "2022-10-24T18:59:12.475Z"
   },
   {
    "duration": 78,
    "start_time": "2022-10-24T18:59:45.713Z"
   },
   {
    "duration": 103,
    "start_time": "2022-10-24T19:00:32.070Z"
   },
   {
    "duration": 159,
    "start_time": "2022-10-24T19:01:24.008Z"
   },
   {
    "duration": 118,
    "start_time": "2022-10-24T19:02:33.698Z"
   },
   {
    "duration": 132,
    "start_time": "2022-10-24T19:02:39.471Z"
   },
   {
    "duration": 3,
    "start_time": "2022-10-24T19:03:57.524Z"
   },
   {
    "duration": 72,
    "start_time": "2022-10-24T19:04:29.478Z"
   },
   {
    "duration": 162,
    "start_time": "2022-10-24T19:04:34.095Z"
   },
   {
    "duration": 254,
    "start_time": "2022-10-24T19:05:40.501Z"
   },
   {
    "duration": 1189,
    "start_time": "2022-10-24T19:06:35.558Z"
   },
   {
    "duration": 73,
    "start_time": "2022-10-24T19:11:53.546Z"
   },
   {
    "duration": 5,
    "start_time": "2022-10-24T19:12:04.347Z"
   },
   {
    "duration": 7,
    "start_time": "2022-10-24T19:13:05.687Z"
   },
   {
    "duration": 8,
    "start_time": "2022-10-24T19:16:13.156Z"
   },
   {
    "duration": 4,
    "start_time": "2022-10-24T19:23:02.904Z"
   },
   {
    "duration": 9,
    "start_time": "2022-10-24T19:23:41.491Z"
   },
   {
    "duration": 88,
    "start_time": "2022-10-24T19:28:13.053Z"
   },
   {
    "duration": 580,
    "start_time": "2022-10-24T19:29:52.131Z"
   },
   {
    "duration": 10,
    "start_time": "2022-10-24T19:31:53.377Z"
   },
   {
    "duration": 631,
    "start_time": "2022-10-24T19:32:01.080Z"
   },
   {
    "duration": 700,
    "start_time": "2022-10-24T19:33:57.643Z"
   },
   {
    "duration": 88,
    "start_time": "2022-10-24T19:35:59.358Z"
   },
   {
    "duration": 430,
    "start_time": "2022-10-24T19:43:12.141Z"
   },
   {
    "duration": 49,
    "start_time": "2022-10-25T11:45:51.031Z"
   },
   {
    "duration": 47,
    "start_time": "2022-10-25T12:43:25.428Z"
   },
   {
    "duration": 51,
    "start_time": "2022-10-25T12:43:58.805Z"
   },
   {
    "duration": 481,
    "start_time": "2022-10-25T12:44:15.855Z"
   },
   {
    "duration": 13,
    "start_time": "2022-10-25T12:44:16.338Z"
   },
   {
    "duration": 5,
    "start_time": "2022-10-25T12:44:16.353Z"
   },
   {
    "duration": 23,
    "start_time": "2022-10-25T12:44:16.360Z"
   },
   {
    "duration": 63,
    "start_time": "2022-10-25T12:44:16.385Z"
   },
   {
    "duration": 87,
    "start_time": "2022-10-25T12:44:16.450Z"
   },
   {
    "duration": 23,
    "start_time": "2022-10-25T12:44:16.540Z"
   },
   {
    "duration": 8,
    "start_time": "2022-10-25T12:44:16.565Z"
   },
   {
    "duration": 103,
    "start_time": "2022-10-25T12:44:16.574Z"
   },
   {
    "duration": 992,
    "start_time": "2022-10-25T12:44:16.678Z"
   },
   {
    "duration": 279,
    "start_time": "2022-10-25T12:44:17.672Z"
   },
   {
    "duration": 22,
    "start_time": "2022-10-25T12:44:17.953Z"
   },
   {
    "duration": 274,
    "start_time": "2022-10-25T12:44:17.978Z"
   },
   {
    "duration": 525,
    "start_time": "2022-10-25T12:44:18.255Z"
   },
   {
    "duration": 139,
    "start_time": "2022-10-25T12:44:18.781Z"
   },
   {
    "duration": 3,
    "start_time": "2022-10-25T12:44:18.922Z"
   },
   {
    "duration": 161,
    "start_time": "2022-10-25T12:44:18.927Z"
   },
   {
    "duration": 163,
    "start_time": "2022-10-25T12:44:19.089Z"
   },
   {
    "duration": 9,
    "start_time": "2022-10-25T12:44:19.254Z"
   },
   {
    "duration": 147,
    "start_time": "2022-10-25T12:44:19.264Z"
   },
   {
    "duration": 534,
    "start_time": "2022-10-25T12:44:19.412Z"
   },
   {
    "duration": 531,
    "start_time": "2022-10-25T12:44:19.948Z"
   },
   {
    "duration": 628,
    "start_time": "2022-10-25T12:44:20.481Z"
   },
   {
    "duration": 449,
    "start_time": "2022-10-25T12:44:21.111Z"
   },
   {
    "duration": 232,
    "start_time": "2022-10-25T12:44:21.561Z"
   },
   {
    "duration": 36,
    "start_time": "2022-10-25T12:47:49.609Z"
   },
   {
    "duration": 77,
    "start_time": "2022-10-25T12:48:03.489Z"
   },
   {
    "duration": 267,
    "start_time": "2022-10-25T12:48:10.444Z"
   },
   {
    "duration": 283,
    "start_time": "2022-10-25T12:48:23.127Z"
   },
   {
    "duration": 271,
    "start_time": "2022-10-25T12:48:35.713Z"
   },
   {
    "duration": 529,
    "start_time": "2022-10-25T12:51:02.845Z"
   },
   {
    "duration": 453,
    "start_time": "2022-10-25T12:52:11.652Z"
   },
   {
    "duration": 176,
    "start_time": "2022-10-25T12:56:41.001Z"
   },
   {
    "duration": 188,
    "start_time": "2022-10-25T12:58:05.685Z"
   },
   {
    "duration": 176,
    "start_time": "2022-10-25T12:59:19.244Z"
   },
   {
    "duration": 187,
    "start_time": "2022-10-25T12:59:33.368Z"
   },
   {
    "duration": 200,
    "start_time": "2022-10-25T12:59:53.138Z"
   },
   {
    "duration": 246,
    "start_time": "2022-10-25T13:00:00.041Z"
   },
   {
    "duration": 115,
    "start_time": "2022-10-25T13:01:09.938Z"
   },
   {
    "duration": 175,
    "start_time": "2022-10-25T13:05:48.614Z"
   },
   {
    "duration": 3,
    "start_time": "2022-10-25T13:07:46.239Z"
   },
   {
    "duration": 56,
    "start_time": "2022-10-25T13:34:13.883Z"
   },
   {
    "duration": 13,
    "start_time": "2022-10-25T13:34:13.941Z"
   },
   {
    "duration": 18,
    "start_time": "2022-10-25T13:34:13.956Z"
   },
   {
    "duration": 42,
    "start_time": "2022-10-25T13:34:13.976Z"
   },
   {
    "duration": 67,
    "start_time": "2022-10-25T13:34:14.020Z"
   },
   {
    "duration": 71,
    "start_time": "2022-10-25T13:34:14.089Z"
   },
   {
    "duration": 15,
    "start_time": "2022-10-25T13:34:14.162Z"
   },
   {
    "duration": 7,
    "start_time": "2022-10-25T13:34:14.179Z"
   },
   {
    "duration": 76,
    "start_time": "2022-10-25T13:34:14.188Z"
   },
   {
    "duration": 572,
    "start_time": "2022-10-25T13:34:14.266Z"
   },
   {
    "duration": 282,
    "start_time": "2022-10-25T13:34:14.840Z"
   },
   {
    "duration": 20,
    "start_time": "2022-10-25T13:34:15.123Z"
   },
   {
    "duration": 214,
    "start_time": "2022-10-25T13:34:15.144Z"
   },
   {
    "duration": 21,
    "start_time": "2022-10-25T13:34:15.361Z"
   },
   {
    "duration": 138,
    "start_time": "2022-10-25T13:34:15.384Z"
   },
   {
    "duration": 3,
    "start_time": "2022-10-25T13:34:15.523Z"
   },
   {
    "duration": 155,
    "start_time": "2022-10-25T13:34:15.528Z"
   },
   {
    "duration": 157,
    "start_time": "2022-10-25T13:34:15.685Z"
   },
   {
    "duration": 10,
    "start_time": "2022-10-25T13:34:15.844Z"
   },
   {
    "duration": 36,
    "start_time": "2022-10-25T13:34:15.855Z"
   },
   {
    "duration": 281,
    "start_time": "2022-10-25T13:34:15.910Z"
   },
   {
    "duration": 367,
    "start_time": "2022-10-25T13:34:16.192Z"
   },
   {
    "duration": 267,
    "start_time": "2022-10-25T13:34:16.560Z"
   },
   {
    "duration": 474,
    "start_time": "2022-10-25T13:34:16.828Z"
   },
   {
    "duration": 195,
    "start_time": "2022-10-25T13:34:17.309Z"
   },
   {
    "duration": 207,
    "start_time": "2022-10-25T13:34:17.506Z"
   },
   {
    "duration": 178,
    "start_time": "2022-10-25T13:34:17.715Z"
   },
   {
    "duration": 183,
    "start_time": "2022-10-25T13:34:17.895Z"
   },
   {
    "duration": 5,
    "start_time": "2022-10-25T13:34:18.085Z"
   },
   {
    "duration": 55,
    "start_time": "2022-10-25T13:34:19.940Z"
   },
   {
    "duration": 13,
    "start_time": "2022-10-25T13:34:19.998Z"
   },
   {
    "duration": 5,
    "start_time": "2022-10-25T13:34:20.013Z"
   },
   {
    "duration": 20,
    "start_time": "2022-10-25T13:34:20.019Z"
   },
   {
    "duration": 115,
    "start_time": "2022-10-25T13:34:20.041Z"
   },
   {
    "duration": 80,
    "start_time": "2022-10-25T13:34:20.157Z"
   },
   {
    "duration": 14,
    "start_time": "2022-10-25T13:34:20.239Z"
   },
   {
    "duration": 6,
    "start_time": "2022-10-25T13:34:20.256Z"
   },
   {
    "duration": 78,
    "start_time": "2022-10-25T13:34:20.264Z"
   },
   {
    "duration": 494,
    "start_time": "2022-10-25T13:34:20.344Z"
   },
   {
    "duration": 276,
    "start_time": "2022-10-25T13:34:20.840Z"
   },
   {
    "duration": 20,
    "start_time": "2022-10-25T13:34:21.118Z"
   },
   {
    "duration": 229,
    "start_time": "2022-10-25T13:34:21.140Z"
   },
   {
    "duration": 19,
    "start_time": "2022-10-25T13:34:21.372Z"
   },
   {
    "duration": 129,
    "start_time": "2022-10-25T13:34:21.392Z"
   },
   {
    "duration": 2,
    "start_time": "2022-10-25T13:34:21.523Z"
   },
   {
    "duration": 156,
    "start_time": "2022-10-25T13:34:21.526Z"
   },
   {
    "duration": 159,
    "start_time": "2022-10-25T13:34:21.683Z"
   },
   {
    "duration": 8,
    "start_time": "2022-10-25T13:34:21.844Z"
   },
   {
    "duration": 36,
    "start_time": "2022-10-25T13:34:21.853Z"
   },
   {
    "duration": 291,
    "start_time": "2022-10-25T13:34:21.890Z"
   },
   {
    "duration": 282,
    "start_time": "2022-10-25T13:34:22.183Z"
   },
   {
    "duration": 357,
    "start_time": "2022-10-25T13:34:22.467Z"
   },
   {
    "duration": 442,
    "start_time": "2022-10-25T13:34:22.826Z"
   },
   {
    "duration": 195,
    "start_time": "2022-10-25T13:34:23.270Z"
   },
   {
    "duration": 194,
    "start_time": "2022-10-25T13:34:23.466Z"
   },
   {
    "duration": 178,
    "start_time": "2022-10-25T13:34:23.661Z"
   },
   {
    "duration": 186,
    "start_time": "2022-10-25T13:34:23.840Z"
   },
   {
    "duration": 2,
    "start_time": "2022-10-25T13:34:24.029Z"
   },
   {
    "duration": 7,
    "start_time": "2022-10-25T13:40:51.336Z"
   },
   {
    "duration": 3,
    "start_time": "2022-10-25T13:41:07.091Z"
   },
   {
    "duration": 55,
    "start_time": "2022-10-25T13:43:13.234Z"
   },
   {
    "duration": 9,
    "start_time": "2022-10-25T13:43:18.510Z"
   },
   {
    "duration": 9,
    "start_time": "2022-10-25T13:44:13.464Z"
   },
   {
    "duration": 55,
    "start_time": "2022-10-25T14:04:31.568Z"
   },
   {
    "duration": 12,
    "start_time": "2022-10-25T14:04:31.625Z"
   },
   {
    "duration": 5,
    "start_time": "2022-10-25T14:04:31.639Z"
   },
   {
    "duration": 16,
    "start_time": "2022-10-25T14:04:31.645Z"
   },
   {
    "duration": 61,
    "start_time": "2022-10-25T14:04:31.663Z"
   },
   {
    "duration": 70,
    "start_time": "2022-10-25T14:04:31.725Z"
   },
   {
    "duration": 25,
    "start_time": "2022-10-25T14:04:31.797Z"
   },
   {
    "duration": 6,
    "start_time": "2022-10-25T14:04:31.823Z"
   },
   {
    "duration": 58,
    "start_time": "2022-10-25T14:04:31.830Z"
   },
   {
    "duration": 488,
    "start_time": "2022-10-25T14:04:31.890Z"
   },
   {
    "duration": 337,
    "start_time": "2022-10-25T14:04:32.379Z"
   },
   {
    "duration": 20,
    "start_time": "2022-10-25T14:04:32.718Z"
   },
   {
    "duration": 206,
    "start_time": "2022-10-25T14:04:32.739Z"
   },
   {
    "duration": 22,
    "start_time": "2022-10-25T14:04:32.948Z"
   },
   {
    "duration": 140,
    "start_time": "2022-10-25T14:04:32.971Z"
   },
   {
    "duration": 2,
    "start_time": "2022-10-25T14:04:33.113Z"
   },
   {
    "duration": 145,
    "start_time": "2022-10-25T14:04:33.117Z"
   },
   {
    "duration": 167,
    "start_time": "2022-10-25T14:04:33.264Z"
   },
   {
    "duration": 8,
    "start_time": "2022-10-25T14:04:33.432Z"
   },
   {
    "duration": 34,
    "start_time": "2022-10-25T14:04:33.442Z"
   },
   {
    "duration": 284,
    "start_time": "2022-10-25T14:04:33.478Z"
   },
   {
    "duration": 271,
    "start_time": "2022-10-25T14:04:33.764Z"
   },
   {
    "duration": 261,
    "start_time": "2022-10-25T14:04:34.036Z"
   },
   {
    "duration": 574,
    "start_time": "2022-10-25T14:04:34.298Z"
   },
   {
    "duration": 183,
    "start_time": "2022-10-25T14:04:34.873Z"
   },
   {
    "duration": 195,
    "start_time": "2022-10-25T14:04:35.058Z"
   },
   {
    "duration": 177,
    "start_time": "2022-10-25T14:04:35.255Z"
   },
   {
    "duration": 188,
    "start_time": "2022-10-25T14:04:35.434Z"
   },
   {
    "duration": 2,
    "start_time": "2022-10-25T14:04:35.624Z"
   },
   {
    "duration": 16,
    "start_time": "2022-10-25T14:04:35.628Z"
   },
   {
    "duration": 111,
    "start_time": "2022-10-25T14:05:01.898Z"
   },
   {
    "duration": 5,
    "start_time": "2022-10-25T14:05:11.564Z"
   },
   {
    "duration": 3,
    "start_time": "2022-10-25T14:05:24.731Z"
   },
   {
    "duration": 11,
    "start_time": "2022-10-25T14:08:35.650Z"
   },
   {
    "duration": 4,
    "start_time": "2022-10-25T14:08:45.267Z"
   },
   {
    "duration": 953,
    "start_time": "2022-10-25T14:09:51.757Z"
   },
   {
    "duration": 7,
    "start_time": "2022-10-25T14:10:01.735Z"
   },
   {
    "duration": 41,
    "start_time": "2022-10-25T14:25:49.423Z"
   },
   {
    "duration": 9,
    "start_time": "2022-10-25T14:26:09.835Z"
   },
   {
    "duration": 9,
    "start_time": "2022-10-25T14:26:34.210Z"
   },
   {
    "duration": 5,
    "start_time": "2022-10-25T14:27:12.483Z"
   },
   {
    "duration": 4,
    "start_time": "2022-10-25T14:27:33.835Z"
   },
   {
    "duration": 3,
    "start_time": "2022-10-25T14:28:03.505Z"
   },
   {
    "duration": 192,
    "start_time": "2022-10-25T14:32:00.783Z"
   },
   {
    "duration": 4,
    "start_time": "2022-10-25T14:32:52.188Z"
   },
   {
    "duration": 78,
    "start_time": "2022-10-25T14:33:03.022Z"
   },
   {
    "duration": 5,
    "start_time": "2022-10-25T14:33:16.790Z"
   },
   {
    "duration": 6,
    "start_time": "2022-10-25T14:33:38.260Z"
   },
   {
    "duration": 74,
    "start_time": "2022-10-25T14:34:08.095Z"
   },
   {
    "duration": 6,
    "start_time": "2022-10-25T14:34:14.862Z"
   },
   {
    "duration": 781,
    "start_time": "2022-10-25T14:35:28.526Z"
   },
   {
    "duration": 890,
    "start_time": "2022-10-25T14:36:24.145Z"
   },
   {
    "duration": 13,
    "start_time": "2022-10-25T14:37:44.954Z"
   },
   {
    "duration": 58,
    "start_time": "2022-10-25T14:37:58.243Z"
   },
   {
    "duration": 14,
    "start_time": "2022-10-25T14:37:58.303Z"
   },
   {
    "duration": 5,
    "start_time": "2022-10-25T14:37:58.319Z"
   },
   {
    "duration": 17,
    "start_time": "2022-10-25T14:37:58.326Z"
   },
   {
    "duration": 35,
    "start_time": "2022-10-25T14:37:58.345Z"
   },
   {
    "duration": 94,
    "start_time": "2022-10-25T14:37:58.381Z"
   },
   {
    "duration": 16,
    "start_time": "2022-10-25T14:37:58.477Z"
   },
   {
    "duration": 7,
    "start_time": "2022-10-25T14:37:58.509Z"
   },
   {
    "duration": 62,
    "start_time": "2022-10-25T14:37:58.517Z"
   },
   {
    "duration": 501,
    "start_time": "2022-10-25T14:37:58.581Z"
   },
   {
    "duration": 299,
    "start_time": "2022-10-25T14:37:59.083Z"
   },
   {
    "duration": 26,
    "start_time": "2022-10-25T14:37:59.384Z"
   },
   {
    "duration": 235,
    "start_time": "2022-10-25T14:37:59.412Z"
   },
   {
    "duration": 19,
    "start_time": "2022-10-25T14:37:59.649Z"
   },
   {
    "duration": 226,
    "start_time": "2022-10-25T14:37:59.669Z"
   },
   {
    "duration": 2,
    "start_time": "2022-10-25T14:37:59.897Z"
   },
   {
    "duration": 147,
    "start_time": "2022-10-25T14:37:59.909Z"
   },
   {
    "duration": 161,
    "start_time": "2022-10-25T14:38:00.058Z"
   },
   {
    "duration": 9,
    "start_time": "2022-10-25T14:38:00.220Z"
   },
   {
    "duration": 42,
    "start_time": "2022-10-25T14:38:00.230Z"
   },
   {
    "duration": 289,
    "start_time": "2022-10-25T14:38:00.274Z"
   },
   {
    "duration": 290,
    "start_time": "2022-10-25T14:38:00.564Z"
   },
   {
    "duration": 289,
    "start_time": "2022-10-25T14:38:00.856Z"
   },
   {
    "duration": 549,
    "start_time": "2022-10-25T14:38:01.146Z"
   },
   {
    "duration": 216,
    "start_time": "2022-10-25T14:38:01.697Z"
   },
   {
    "duration": 196,
    "start_time": "2022-10-25T14:38:01.915Z"
   },
   {
    "duration": 181,
    "start_time": "2022-10-25T14:38:02.113Z"
   },
   {
    "duration": 192,
    "start_time": "2022-10-25T14:38:02.297Z"
   },
   {
    "duration": 3,
    "start_time": "2022-10-25T14:38:02.491Z"
   },
   {
    "duration": 19,
    "start_time": "2022-10-25T14:38:02.495Z"
   },
   {
    "duration": 34,
    "start_time": "2022-10-25T14:38:02.515Z"
   },
   {
    "duration": 693,
    "start_time": "2022-10-25T14:38:13.174Z"
   },
   {
    "duration": 8,
    "start_time": "2022-10-25T14:44:21.950Z"
   },
   {
    "duration": 5,
    "start_time": "2022-10-25T14:45:59.061Z"
   },
   {
    "duration": 13,
    "start_time": "2022-10-25T14:46:26.463Z"
   },
   {
    "duration": 11,
    "start_time": "2022-10-25T14:48:42.578Z"
   },
   {
    "duration": 11,
    "start_time": "2022-10-25T14:50:05.918Z"
   },
   {
    "duration": 869,
    "start_time": "2022-10-25T14:52:28.087Z"
   },
   {
    "duration": 766,
    "start_time": "2022-10-25T14:52:50.223Z"
   },
   {
    "duration": 854,
    "start_time": "2022-10-25T14:53:37.644Z"
   },
   {
    "duration": 775,
    "start_time": "2022-10-25T14:54:35.019Z"
   },
   {
    "duration": 745,
    "start_time": "2022-10-25T14:55:19.306Z"
   },
   {
    "duration": 57,
    "start_time": "2022-10-25T14:55:29.208Z"
   },
   {
    "duration": 14,
    "start_time": "2022-10-25T14:55:29.268Z"
   },
   {
    "duration": 10,
    "start_time": "2022-10-25T14:55:29.284Z"
   },
   {
    "duration": 15,
    "start_time": "2022-10-25T14:55:29.310Z"
   },
   {
    "duration": 35,
    "start_time": "2022-10-25T14:55:29.326Z"
   },
   {
    "duration": 90,
    "start_time": "2022-10-25T14:55:29.363Z"
   },
   {
    "duration": 15,
    "start_time": "2022-10-25T14:55:29.454Z"
   },
   {
    "duration": 9,
    "start_time": "2022-10-25T14:55:29.471Z"
   },
   {
    "duration": 74,
    "start_time": "2022-10-25T14:55:29.481Z"
   },
   {
    "duration": 491,
    "start_time": "2022-10-25T14:55:29.557Z"
   },
   {
    "duration": 280,
    "start_time": "2022-10-25T14:55:30.050Z"
   },
   {
    "duration": 20,
    "start_time": "2022-10-25T14:55:30.332Z"
   },
   {
    "duration": 211,
    "start_time": "2022-10-25T14:55:30.353Z"
   },
   {
    "duration": 22,
    "start_time": "2022-10-25T14:55:30.565Z"
   },
   {
    "duration": 136,
    "start_time": "2022-10-25T14:55:30.588Z"
   },
   {
    "duration": 2,
    "start_time": "2022-10-25T14:55:30.726Z"
   },
   {
    "duration": 182,
    "start_time": "2022-10-25T14:55:30.729Z"
   },
   {
    "duration": 222,
    "start_time": "2022-10-25T14:55:30.912Z"
   },
   {
    "duration": 8,
    "start_time": "2022-10-25T14:55:31.136Z"
   },
   {
    "duration": 54,
    "start_time": "2022-10-25T14:55:31.146Z"
   },
   {
    "duration": 279,
    "start_time": "2022-10-25T14:55:31.202Z"
   },
   {
    "duration": 287,
    "start_time": "2022-10-25T14:55:31.483Z"
   },
   {
    "duration": 265,
    "start_time": "2022-10-25T14:55:31.773Z"
   },
   {
    "duration": 436,
    "start_time": "2022-10-25T14:55:32.040Z"
   },
   {
    "duration": 200,
    "start_time": "2022-10-25T14:55:32.478Z"
   },
   {
    "duration": 276,
    "start_time": "2022-10-25T14:55:32.680Z"
   },
   {
    "duration": 187,
    "start_time": "2022-10-25T14:55:32.958Z"
   },
   {
    "duration": 203,
    "start_time": "2022-10-25T14:55:33.148Z"
   },
   {
    "duration": 3,
    "start_time": "2022-10-25T14:55:33.352Z"
   },
   {
    "duration": 8,
    "start_time": "2022-10-25T14:55:33.356Z"
   },
   {
    "duration": 11,
    "start_time": "2022-10-25T14:55:33.366Z"
   },
   {
    "duration": 733,
    "start_time": "2022-10-25T14:55:33.379Z"
   },
   {
    "duration": 0,
    "start_time": "2022-10-25T14:55:34.114Z"
   },
   {
    "duration": 189,
    "start_time": "2022-10-25T14:56:14.079Z"
   },
   {
    "duration": 795,
    "start_time": "2022-10-25T14:57:09.471Z"
   },
   {
    "duration": 691,
    "start_time": "2022-10-25T14:58:32.746Z"
   },
   {
    "duration": 763,
    "start_time": "2022-10-25T14:59:08.917Z"
   },
   {
    "duration": 54,
    "start_time": "2022-10-25T14:59:22.120Z"
   },
   {
    "duration": 12,
    "start_time": "2022-10-25T14:59:22.176Z"
   },
   {
    "duration": 5,
    "start_time": "2022-10-25T14:59:22.189Z"
   },
   {
    "duration": 20,
    "start_time": "2022-10-25T14:59:22.195Z"
   },
   {
    "duration": 36,
    "start_time": "2022-10-25T14:59:22.217Z"
   },
   {
    "duration": 85,
    "start_time": "2022-10-25T14:59:22.255Z"
   },
   {
    "duration": 16,
    "start_time": "2022-10-25T14:59:22.342Z"
   },
   {
    "duration": 12,
    "start_time": "2022-10-25T14:59:22.360Z"
   },
   {
    "duration": 67,
    "start_time": "2022-10-25T14:59:22.374Z"
   },
   {
    "duration": 479,
    "start_time": "2022-10-25T14:59:22.443Z"
   },
   {
    "duration": 279,
    "start_time": "2022-10-25T14:59:22.924Z"
   },
   {
    "duration": 25,
    "start_time": "2022-10-25T14:59:23.204Z"
   },
   {
    "duration": 222,
    "start_time": "2022-10-25T14:59:23.231Z"
   },
   {
    "duration": 23,
    "start_time": "2022-10-25T14:59:23.456Z"
   },
   {
    "duration": 136,
    "start_time": "2022-10-25T14:59:23.482Z"
   },
   {
    "duration": 2,
    "start_time": "2022-10-25T14:59:23.621Z"
   },
   {
    "duration": 149,
    "start_time": "2022-10-25T14:59:23.625Z"
   },
   {
    "duration": 156,
    "start_time": "2022-10-25T14:59:23.776Z"
   },
   {
    "duration": 9,
    "start_time": "2022-10-25T14:59:23.933Z"
   },
   {
    "duration": 34,
    "start_time": "2022-10-25T14:59:23.943Z"
   },
   {
    "duration": 391,
    "start_time": "2022-10-25T14:59:23.979Z"
   },
   {
    "duration": 320,
    "start_time": "2022-10-25T14:59:24.372Z"
   },
   {
    "duration": 266,
    "start_time": "2022-10-25T14:59:24.694Z"
   },
   {
    "duration": 447,
    "start_time": "2022-10-25T14:59:24.962Z"
   },
   {
    "duration": 186,
    "start_time": "2022-10-25T14:59:25.411Z"
   },
   {
    "duration": 198,
    "start_time": "2022-10-25T14:59:25.599Z"
   },
   {
    "duration": 252,
    "start_time": "2022-10-25T14:59:25.799Z"
   },
   {
    "duration": 195,
    "start_time": "2022-10-25T14:59:26.052Z"
   },
   {
    "duration": 2,
    "start_time": "2022-10-25T14:59:26.249Z"
   },
   {
    "duration": 18,
    "start_time": "2022-10-25T14:59:26.253Z"
   },
   {
    "duration": 35,
    "start_time": "2022-10-25T14:59:26.272Z"
   },
   {
    "duration": 825,
    "start_time": "2022-10-25T14:59:26.309Z"
   },
   {
    "duration": 0,
    "start_time": "2022-10-25T14:59:27.136Z"
   },
   {
    "duration": 715,
    "start_time": "2022-10-25T14:59:35.852Z"
   },
   {
    "duration": 4,
    "start_time": "2022-10-25T14:59:52.755Z"
   },
   {
    "duration": 5,
    "start_time": "2022-10-25T15:00:04.154Z"
   },
   {
    "duration": 6,
    "start_time": "2022-10-25T15:03:00.027Z"
   },
   {
    "duration": 780,
    "start_time": "2022-10-25T15:05:46.992Z"
   },
   {
    "duration": 795,
    "start_time": "2022-10-25T15:06:03.029Z"
   },
   {
    "duration": 6,
    "start_time": "2022-10-25T15:06:33.031Z"
   },
   {
    "duration": 577,
    "start_time": "2022-10-25T20:59:06.386Z"
   },
   {
    "duration": 59,
    "start_time": "2022-10-25T20:59:17.674Z"
   },
   {
    "duration": 15,
    "start_time": "2022-10-25T20:59:17.735Z"
   },
   {
    "duration": 18,
    "start_time": "2022-10-25T20:59:17.752Z"
   },
   {
    "duration": 35,
    "start_time": "2022-10-25T20:59:17.772Z"
   },
   {
    "duration": 57,
    "start_time": "2022-10-25T20:59:17.809Z"
   },
   {
    "duration": 88,
    "start_time": "2022-10-25T20:59:17.867Z"
   },
   {
    "duration": 20,
    "start_time": "2022-10-25T20:59:17.957Z"
   },
   {
    "duration": 7,
    "start_time": "2022-10-25T20:59:17.978Z"
   },
   {
    "duration": 103,
    "start_time": "2022-10-25T20:59:17.986Z"
   },
   {
    "duration": 1018,
    "start_time": "2022-10-25T20:59:18.091Z"
   },
   {
    "duration": 290,
    "start_time": "2022-10-25T20:59:19.112Z"
   },
   {
    "duration": 29,
    "start_time": "2022-10-25T20:59:19.403Z"
   },
   {
    "duration": 321,
    "start_time": "2022-10-25T20:59:19.434Z"
   },
   {
    "duration": 468,
    "start_time": "2022-10-25T20:59:19.759Z"
   },
   {
    "duration": 136,
    "start_time": "2022-10-25T20:59:20.229Z"
   },
   {
    "duration": 3,
    "start_time": "2022-10-25T20:59:20.366Z"
   },
   {
    "duration": 171,
    "start_time": "2022-10-25T20:59:20.370Z"
   },
   {
    "duration": 158,
    "start_time": "2022-10-25T20:59:20.543Z"
   },
   {
    "duration": 8,
    "start_time": "2022-10-25T20:59:20.703Z"
   },
   {
    "duration": 50,
    "start_time": "2022-10-25T20:59:20.712Z"
   },
   {
    "duration": 356,
    "start_time": "2022-10-25T20:59:20.764Z"
   },
   {
    "duration": 286,
    "start_time": "2022-10-25T20:59:21.122Z"
   },
   {
    "duration": 291,
    "start_time": "2022-10-25T20:59:21.409Z"
   },
   {
    "duration": 485,
    "start_time": "2022-10-25T20:59:21.702Z"
   },
   {
    "duration": 196,
    "start_time": "2022-10-25T20:59:22.189Z"
   },
   {
    "duration": 196,
    "start_time": "2022-10-25T20:59:22.387Z"
   },
   {
    "duration": 259,
    "start_time": "2022-10-25T20:59:22.586Z"
   },
   {
    "duration": 193,
    "start_time": "2022-10-25T20:59:22.847Z"
   },
   {
    "duration": 3,
    "start_time": "2022-10-25T20:59:23.042Z"
   },
   {
    "duration": 32,
    "start_time": "2022-10-25T20:59:23.047Z"
   },
   {
    "duration": 57,
    "start_time": "2022-10-25T20:59:23.081Z"
   },
   {
    "duration": 32,
    "start_time": "2022-10-25T20:59:23.140Z"
   },
   {
    "duration": 28,
    "start_time": "2022-10-25T20:59:23.174Z"
   },
   {
    "duration": 1254,
    "start_time": "2022-10-25T20:59:23.204Z"
   },
   {
    "duration": 0,
    "start_time": "2022-10-25T20:59:24.461Z"
   },
   {
    "duration": 1132,
    "start_time": "2022-10-25T21:01:02.547Z"
   },
   {
    "duration": 72,
    "start_time": "2022-10-25T21:03:13.915Z"
   },
   {
    "duration": 69,
    "start_time": "2022-10-25T21:03:15.731Z"
   },
   {
    "duration": 7,
    "start_time": "2022-10-25T21:03:23.414Z"
   },
   {
    "duration": 311,
    "start_time": "2022-10-25T21:04:34.933Z"
   },
   {
    "duration": 6,
    "start_time": "2022-10-25T21:06:37.505Z"
   },
   {
    "duration": 10,
    "start_time": "2022-10-25T21:09:08.705Z"
   },
   {
    "duration": 94,
    "start_time": "2022-10-25T21:20:29.110Z"
   },
   {
    "duration": 72,
    "start_time": "2022-10-25T21:21:53.490Z"
   },
   {
    "duration": 133,
    "start_time": "2022-10-25T21:22:10.714Z"
   },
   {
    "duration": 208,
    "start_time": "2022-10-25T21:22:16.893Z"
   },
   {
    "duration": 90,
    "start_time": "2022-10-25T21:22:50.381Z"
   },
   {
    "duration": 190,
    "start_time": "2022-10-25T21:23:31.514Z"
   },
   {
    "duration": 173,
    "start_time": "2022-10-25T21:24:11.388Z"
   },
   {
    "duration": 211,
    "start_time": "2022-10-25T21:25:36.321Z"
   },
   {
    "duration": 173,
    "start_time": "2022-10-25T21:26:30.492Z"
   },
   {
    "duration": 176,
    "start_time": "2022-10-25T21:26:36.948Z"
   },
   {
    "duration": 186,
    "start_time": "2022-10-25T21:26:42.350Z"
   },
   {
    "duration": 178,
    "start_time": "2022-10-25T21:27:33.515Z"
   },
   {
    "duration": 186,
    "start_time": "2022-10-25T21:28:11.199Z"
   },
   {
    "duration": 5,
    "start_time": "2022-10-25T21:31:24.802Z"
   },
   {
    "duration": 8,
    "start_time": "2022-10-25T21:31:34.987Z"
   },
   {
    "duration": 8,
    "start_time": "2022-10-25T21:38:30.334Z"
   },
   {
    "duration": 13,
    "start_time": "2022-10-25T21:39:30.565Z"
   },
   {
    "duration": 103,
    "start_time": "2022-10-25T21:42:43.674Z"
   },
   {
    "duration": 31,
    "start_time": "2022-10-25T21:43:03.919Z"
   },
   {
    "duration": 31,
    "start_time": "2022-10-25T21:43:34.854Z"
   },
   {
    "duration": 51,
    "start_time": "2022-10-25T21:43:53.523Z"
   },
   {
    "duration": 92,
    "start_time": "2022-10-25T21:45:12.416Z"
   },
   {
    "duration": 30,
    "start_time": "2022-10-25T21:48:22.873Z"
   },
   {
    "duration": 7,
    "start_time": "2022-10-25T21:49:08.577Z"
   },
   {
    "duration": 8,
    "start_time": "2022-10-25T21:49:18.278Z"
   },
   {
    "duration": 30,
    "start_time": "2022-10-25T21:49:26.896Z"
   },
   {
    "duration": 306,
    "start_time": "2022-10-25T21:56:31.882Z"
   },
   {
    "duration": 190,
    "start_time": "2022-10-25T21:56:57.375Z"
   },
   {
    "duration": 67,
    "start_time": "2022-10-25T21:58:11.892Z"
   },
   {
    "duration": 176,
    "start_time": "2022-10-25T21:58:25.798Z"
   },
   {
    "duration": 183,
    "start_time": "2022-10-25T22:00:05.223Z"
   },
   {
    "duration": 176,
    "start_time": "2022-10-25T22:01:00.266Z"
   },
   {
    "duration": 194,
    "start_time": "2022-10-25T22:04:12.038Z"
   },
   {
    "duration": 84,
    "start_time": "2022-10-25T22:18:27.343Z"
   },
   {
    "duration": 11,
    "start_time": "2022-10-25T22:18:58.078Z"
   },
   {
    "duration": 8,
    "start_time": "2022-10-25T22:24:33.217Z"
   },
   {
    "duration": 10,
    "start_time": "2022-10-25T22:25:12.090Z"
   },
   {
    "duration": 66,
    "start_time": "2022-10-25T22:28:11.195Z"
   },
   {
    "duration": 10,
    "start_time": "2022-10-25T22:28:20.418Z"
   },
   {
    "duration": 9,
    "start_time": "2022-10-25T22:29:59.587Z"
   },
   {
    "duration": 11,
    "start_time": "2022-10-25T22:31:07.828Z"
   },
   {
    "duration": 10,
    "start_time": "2022-10-25T22:32:04.950Z"
   },
   {
    "duration": 10,
    "start_time": "2022-10-25T22:33:04.709Z"
   },
   {
    "duration": 11,
    "start_time": "2022-10-25T22:33:30.426Z"
   },
   {
    "duration": 10,
    "start_time": "2022-10-25T22:34:01.916Z"
   },
   {
    "duration": 15,
    "start_time": "2022-10-25T22:34:45.801Z"
   },
   {
    "duration": 6,
    "start_time": "2022-10-25T22:35:10.320Z"
   },
   {
    "duration": 6,
    "start_time": "2022-10-25T22:35:16.172Z"
   },
   {
    "duration": 5,
    "start_time": "2022-10-25T22:37:51.773Z"
   },
   {
    "duration": 18,
    "start_time": "2022-10-25T22:38:44.880Z"
   },
   {
    "duration": 8,
    "start_time": "2022-10-25T22:39:01.680Z"
   },
   {
    "duration": 56,
    "start_time": "2022-10-25T23:11:33.621Z"
   },
   {
    "duration": 14,
    "start_time": "2022-10-25T23:11:33.679Z"
   },
   {
    "duration": 5,
    "start_time": "2022-10-25T23:11:33.694Z"
   },
   {
    "duration": 29,
    "start_time": "2022-10-25T23:11:33.701Z"
   },
   {
    "duration": 35,
    "start_time": "2022-10-25T23:11:33.732Z"
   },
   {
    "duration": 99,
    "start_time": "2022-10-25T23:11:33.768Z"
   },
   {
    "duration": 17,
    "start_time": "2022-10-25T23:11:33.869Z"
   },
   {
    "duration": 8,
    "start_time": "2022-10-25T23:11:33.887Z"
   },
   {
    "duration": 78,
    "start_time": "2022-10-25T23:11:33.896Z"
   },
   {
    "duration": 525,
    "start_time": "2022-10-25T23:11:33.977Z"
   },
   {
    "duration": 286,
    "start_time": "2022-10-25T23:11:34.504Z"
   },
   {
    "duration": 22,
    "start_time": "2022-10-25T23:11:34.792Z"
   },
   {
    "duration": 209,
    "start_time": "2022-10-25T23:11:34.815Z"
   },
   {
    "duration": 24,
    "start_time": "2022-10-25T23:11:35.026Z"
   },
   {
    "duration": 137,
    "start_time": "2022-10-25T23:11:35.052Z"
   },
   {
    "duration": 2,
    "start_time": "2022-10-25T23:11:35.191Z"
   },
   {
    "duration": 155,
    "start_time": "2022-10-25T23:11:35.195Z"
   },
   {
    "duration": 240,
    "start_time": "2022-10-25T23:11:35.352Z"
   },
   {
    "duration": 9,
    "start_time": "2022-10-25T23:11:35.593Z"
   },
   {
    "duration": 47,
    "start_time": "2022-10-25T23:11:35.604Z"
   },
   {
    "duration": 288,
    "start_time": "2022-10-25T23:11:35.652Z"
   },
   {
    "duration": 302,
    "start_time": "2022-10-25T23:11:35.942Z"
   },
   {
    "duration": 282,
    "start_time": "2022-10-25T23:11:36.245Z"
   },
   {
    "duration": 457,
    "start_time": "2022-10-25T23:11:36.529Z"
   },
   {
    "duration": 190,
    "start_time": "2022-10-25T23:11:36.988Z"
   },
   {
    "duration": 280,
    "start_time": "2022-10-25T23:11:37.180Z"
   },
   {
    "duration": 184,
    "start_time": "2022-10-25T23:11:37.462Z"
   },
   {
    "duration": 189,
    "start_time": "2022-10-25T23:11:37.649Z"
   },
   {
    "duration": 2,
    "start_time": "2022-10-25T23:11:37.840Z"
   },
   {
    "duration": 15,
    "start_time": "2022-10-25T23:11:37.843Z"
   },
   {
    "duration": 21,
    "start_time": "2022-10-25T23:11:37.859Z"
   },
   {
    "duration": 9,
    "start_time": "2022-10-25T23:11:37.882Z"
   },
   {
    "duration": 7,
    "start_time": "2022-10-25T23:11:37.893Z"
   },
   {
    "duration": 8,
    "start_time": "2022-10-25T23:11:37.901Z"
   },
   {
    "duration": 224,
    "start_time": "2022-10-25T23:11:37.911Z"
   },
   {
    "duration": 226,
    "start_time": "2022-10-25T23:11:38.136Z"
   },
   {
    "duration": 202,
    "start_time": "2022-10-25T23:11:38.364Z"
   },
   {
    "duration": 198,
    "start_time": "2022-10-25T23:11:38.568Z"
   },
   {
    "duration": 30,
    "start_time": "2022-10-25T23:11:38.767Z"
   },
   {
    "duration": 197,
    "start_time": "2022-10-25T23:11:38.799Z"
   },
   {
    "duration": 184,
    "start_time": "2022-10-25T23:11:38.997Z"
   },
   {
    "duration": 197,
    "start_time": "2022-10-25T23:11:39.182Z"
   },
   {
    "duration": 203,
    "start_time": "2022-10-25T23:11:39.381Z"
   },
   {
    "duration": 10,
    "start_time": "2022-10-25T23:11:39.586Z"
   },
   {
    "duration": 8,
    "start_time": "2022-10-25T23:11:39.598Z"
   },
   {
    "duration": 34,
    "start_time": "2022-10-25T23:12:04.536Z"
   },
   {
    "duration": 28,
    "start_time": "2022-10-25T23:12:20.561Z"
   },
   {
    "duration": 17,
    "start_time": "2022-10-25T23:13:27.468Z"
   },
   {
    "duration": 367,
    "start_time": "2022-10-25T23:18:34.046Z"
   },
   {
    "duration": 199,
    "start_time": "2022-10-25T23:19:14.353Z"
   },
   {
    "duration": 277,
    "start_time": "2022-10-25T23:22:53.431Z"
   },
   {
    "duration": 190,
    "start_time": "2022-10-25T23:23:37.121Z"
   },
   {
    "duration": 23,
    "start_time": "2022-10-25T23:24:37.266Z"
   },
   {
    "duration": 35,
    "start_time": "2022-10-25T23:27:40.780Z"
   },
   {
    "duration": 473,
    "start_time": "2022-10-26T00:28:19.432Z"
   },
   {
    "duration": 15,
    "start_time": "2022-10-26T00:28:20.915Z"
   },
   {
    "duration": 6,
    "start_time": "2022-10-26T00:28:21.617Z"
   },
   {
    "duration": 20,
    "start_time": "2022-10-26T00:28:26.471Z"
   },
   {
    "duration": 36,
    "start_time": "2022-10-26T00:28:27.814Z"
   },
   {
    "duration": 76,
    "start_time": "2022-10-26T00:28:28.835Z"
   },
   {
    "duration": 17,
    "start_time": "2022-10-26T00:28:30.563Z"
   },
   {
    "duration": 8,
    "start_time": "2022-10-26T00:28:31.458Z"
   },
   {
    "duration": 60,
    "start_time": "2022-10-26T00:28:33.898Z"
   },
   {
    "duration": 796,
    "start_time": "2022-10-26T00:28:34.725Z"
   },
   {
    "duration": 304,
    "start_time": "2022-10-26T00:28:37.856Z"
   },
   {
    "duration": 98,
    "start_time": "2022-10-26T00:29:31.078Z"
   },
   {
    "duration": 21,
    "start_time": "2022-10-26T00:31:40.550Z"
   },
   {
    "duration": 70,
    "start_time": "2022-10-26T00:31:53.348Z"
   },
   {
    "duration": 10,
    "start_time": "2022-10-26T00:32:00.853Z"
   },
   {
    "duration": 8,
    "start_time": "2022-10-26T00:32:18.998Z"
   },
   {
    "duration": 22,
    "start_time": "2022-10-26T00:32:23.207Z"
   },
   {
    "duration": 83,
    "start_time": "2022-10-26T11:55:58.430Z"
   },
   {
    "duration": 46,
    "start_time": "2022-10-26T12:07:27.682Z"
   },
   {
    "duration": 886,
    "start_time": "2022-10-26T12:07:39.987Z"
   },
   {
    "duration": 15,
    "start_time": "2022-10-26T12:07:40.875Z"
   },
   {
    "duration": 4,
    "start_time": "2022-10-26T12:07:40.892Z"
   },
   {
    "duration": 21,
    "start_time": "2022-10-26T12:07:40.897Z"
   },
   {
    "duration": 33,
    "start_time": "2022-10-26T12:07:40.919Z"
   },
   {
    "duration": 86,
    "start_time": "2022-10-26T12:07:40.954Z"
   },
   {
    "duration": 17,
    "start_time": "2022-10-26T12:07:41.042Z"
   },
   {
    "duration": 5,
    "start_time": "2022-10-26T12:07:41.061Z"
   },
   {
    "duration": 76,
    "start_time": "2022-10-26T12:07:41.068Z"
   },
   {
    "duration": 1030,
    "start_time": "2022-10-26T12:07:41.146Z"
   },
   {
    "duration": 291,
    "start_time": "2022-10-26T12:07:42.178Z"
   },
   {
    "duration": 23,
    "start_time": "2022-10-26T12:07:42.471Z"
   },
   {
    "duration": 268,
    "start_time": "2022-10-26T12:07:42.496Z"
   },
   {
    "duration": 541,
    "start_time": "2022-10-26T12:07:42.766Z"
   },
   {
    "duration": 140,
    "start_time": "2022-10-26T12:07:43.310Z"
   },
   {
    "duration": 160,
    "start_time": "2022-10-26T12:07:43.452Z"
   },
   {
    "duration": 167,
    "start_time": "2022-10-26T12:07:43.613Z"
   },
   {
    "duration": 8,
    "start_time": "2022-10-26T12:07:43.782Z"
   },
   {
    "duration": 47,
    "start_time": "2022-10-26T12:07:43.792Z"
   },
   {
    "duration": 355,
    "start_time": "2022-10-26T12:07:43.841Z"
   },
   {
    "duration": 289,
    "start_time": "2022-10-26T12:07:44.198Z"
   },
   {
    "duration": 291,
    "start_time": "2022-10-26T12:07:44.489Z"
   },
   {
    "duration": 474,
    "start_time": "2022-10-26T12:07:44.782Z"
   },
   {
    "duration": 212,
    "start_time": "2022-10-26T12:07:45.259Z"
   },
   {
    "duration": 203,
    "start_time": "2022-10-26T12:07:45.473Z"
   },
   {
    "duration": 273,
    "start_time": "2022-10-26T12:07:45.678Z"
   },
   {
    "duration": 195,
    "start_time": "2022-10-26T12:07:45.954Z"
   },
   {
    "duration": 3,
    "start_time": "2022-10-26T12:07:46.153Z"
   },
   {
    "duration": 10,
    "start_time": "2022-10-26T12:07:46.157Z"
   },
   {
    "duration": 10,
    "start_time": "2022-10-26T12:07:46.168Z"
   },
   {
    "duration": 31,
    "start_time": "2022-10-26T12:07:46.180Z"
   },
   {
    "duration": 16,
    "start_time": "2022-10-26T12:07:46.213Z"
   },
   {
    "duration": 9,
    "start_time": "2022-10-26T12:07:46.231Z"
   },
   {
    "duration": 202,
    "start_time": "2022-10-26T12:07:46.242Z"
   },
   {
    "duration": 214,
    "start_time": "2022-10-26T12:07:46.446Z"
   },
   {
    "duration": 190,
    "start_time": "2022-10-26T12:07:46.662Z"
   },
   {
    "duration": 199,
    "start_time": "2022-10-26T12:07:46.854Z"
   },
   {
    "duration": 31,
    "start_time": "2022-10-26T12:07:47.054Z"
   },
   {
    "duration": 208,
    "start_time": "2022-10-26T12:07:47.087Z"
   },
   {
    "duration": 204,
    "start_time": "2022-10-26T12:07:47.296Z"
   },
   {
    "duration": 205,
    "start_time": "2022-10-26T12:07:47.502Z"
   },
   {
    "duration": 197,
    "start_time": "2022-10-26T12:07:47.709Z"
   },
   {
    "duration": 19,
    "start_time": "2022-10-26T12:07:47.908Z"
   },
   {
    "duration": 25,
    "start_time": "2022-10-26T12:07:47.929Z"
   },
   {
    "duration": 17,
    "start_time": "2022-10-26T12:11:12.042Z"
   },
   {
    "duration": 20,
    "start_time": "2022-10-26T12:11:27.408Z"
   },
   {
    "duration": 1196,
    "start_time": "2022-10-26T12:22:46.132Z"
   },
   {
    "duration": 658,
    "start_time": "2022-10-26T12:23:25.885Z"
   },
   {
    "duration": 11,
    "start_time": "2022-10-26T12:26:36.624Z"
   },
   {
    "duration": 920,
    "start_time": "2022-10-26T12:26:47.377Z"
   },
   {
    "duration": 135,
    "start_time": "2022-10-26T12:37:02.250Z"
   },
   {
    "duration": 68,
    "start_time": "2022-10-26T12:38:00.669Z"
   },
   {
    "duration": 166,
    "start_time": "2022-10-26T12:40:22.668Z"
   },
   {
    "duration": 183,
    "start_time": "2022-10-26T12:40:42.686Z"
   },
   {
    "duration": 172,
    "start_time": "2022-10-26T12:41:02.754Z"
   },
   {
    "duration": 77,
    "start_time": "2022-10-26T12:49:33.919Z"
   },
   {
    "duration": 3,
    "start_time": "2022-10-26T12:50:59.629Z"
   },
   {
    "duration": 7,
    "start_time": "2022-10-26T12:52:51.271Z"
   },
   {
    "duration": 77,
    "start_time": "2022-10-26T12:53:35.778Z"
   },
   {
    "duration": 72,
    "start_time": "2022-10-26T12:54:55.397Z"
   },
   {
    "duration": 7,
    "start_time": "2022-10-26T12:56:23.758Z"
   },
   {
    "duration": 8,
    "start_time": "2022-10-26T12:56:33.097Z"
   },
   {
    "duration": 20,
    "start_time": "2022-10-26T12:56:42.304Z"
   },
   {
    "duration": 20,
    "start_time": "2022-10-26T12:56:52.558Z"
   },
   {
    "duration": 139,
    "start_time": "2022-10-26T12:57:36.255Z"
   },
   {
    "duration": 181,
    "start_time": "2022-10-26T12:57:54.780Z"
   },
   {
    "duration": 165,
    "start_time": "2022-10-26T12:58:02.307Z"
   },
   {
    "duration": 156,
    "start_time": "2022-10-26T12:58:08.951Z"
   },
   {
    "duration": 158,
    "start_time": "2022-10-26T12:58:15.290Z"
   }
  ],
  "kernelspec": {
   "display_name": "Python 3 (ipykernel)",
   "language": "python",
   "name": "python3"
  },
  "language_info": {
   "codemirror_mode": {
    "name": "ipython",
    "version": 3
   },
   "file_extension": ".py",
   "mimetype": "text/x-python",
   "name": "python",
   "nbconvert_exporter": "python",
   "pygments_lexer": "ipython3",
   "version": "3.9.13"
  },
  "toc": {
   "base_numbering": 1,
   "nav_menu": {},
   "number_sections": true,
   "sideBar": true,
   "skip_h1_title": true,
   "title_cell": "Table of Contents",
   "title_sidebar": "Contents",
   "toc_cell": false,
   "toc_position": {},
   "toc_section_display": true,
   "toc_window_display": false
  }
 },
 "nbformat": 4,
 "nbformat_minor": 2
}
