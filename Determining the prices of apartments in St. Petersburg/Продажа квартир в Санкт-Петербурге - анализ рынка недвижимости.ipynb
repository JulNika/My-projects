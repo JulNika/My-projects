{
 "cells": [
  {
   "cell_type": "markdown",
   "metadata": {},
   "source": [
    "# Исследование объявлений о продаже квартир\n",
    "\n",
    "В вашем распоряжении данные сервиса Яндекс.Недвижимость — архив объявлений о продаже квартир в Санкт-Петербурге и соседних населённых пунктов за несколько лет. Нужно научиться определять рыночную стоимость объектов недвижимости. Ваша задача — установить параметры. Это позволит построить автоматизированную систему: она отследит аномалии и мошенническую деятельность. \n",
    "\n",
    "По каждой квартире на продажу доступны два вида данных. Первые вписаны пользователем, вторые — получены автоматически на основе картографических данных. Например, расстояние до центра, аэропорта, ближайшего парка и водоёма. "
   ]
  },
  {
   "cell_type": "markdown",
   "metadata": {},
   "source": [
    "### Откройте файл с данными и изучите общую информацию. "
   ]
  },
  {
   "cell_type": "code",
   "execution_count": 1,
   "metadata": {
    "scrolled": false
   },
   "outputs": [
    {
     "data": {
      "text/html": [
       "<div>\n",
       "<style scoped>\n",
       "    .dataframe tbody tr th:only-of-type {\n",
       "        vertical-align: middle;\n",
       "    }\n",
       "\n",
       "    .dataframe tbody tr th {\n",
       "        vertical-align: top;\n",
       "    }\n",
       "\n",
       "    .dataframe thead th {\n",
       "        text-align: right;\n",
       "    }\n",
       "</style>\n",
       "<table border=\"1\" class=\"dataframe\">\n",
       "  <thead>\n",
       "    <tr style=\"text-align: right;\">\n",
       "      <th></th>\n",
       "      <th>total_images</th>\n",
       "      <th>last_price</th>\n",
       "      <th>total_area</th>\n",
       "      <th>first_day_exposition</th>\n",
       "      <th>rooms</th>\n",
       "      <th>ceiling_height</th>\n",
       "      <th>floors_total</th>\n",
       "      <th>living_area</th>\n",
       "      <th>floor</th>\n",
       "      <th>is_apartment</th>\n",
       "      <th>...</th>\n",
       "      <th>kitchen_area</th>\n",
       "      <th>balcony</th>\n",
       "      <th>locality_name</th>\n",
       "      <th>airports_nearest</th>\n",
       "      <th>cityCenters_nearest</th>\n",
       "      <th>parks_around3000</th>\n",
       "      <th>parks_nearest</th>\n",
       "      <th>ponds_around3000</th>\n",
       "      <th>ponds_nearest</th>\n",
       "      <th>days_exposition</th>\n",
       "    </tr>\n",
       "  </thead>\n",
       "  <tbody>\n",
       "    <tr>\n",
       "      <th>0</th>\n",
       "      <td>20</td>\n",
       "      <td>13000000.0</td>\n",
       "      <td>108.00</td>\n",
       "      <td>2019-03-07T00:00:00</td>\n",
       "      <td>3</td>\n",
       "      <td>2.70</td>\n",
       "      <td>16.0</td>\n",
       "      <td>51.00</td>\n",
       "      <td>8</td>\n",
       "      <td>NaN</td>\n",
       "      <td>...</td>\n",
       "      <td>25.00</td>\n",
       "      <td>NaN</td>\n",
       "      <td>Санкт-Петербург</td>\n",
       "      <td>18863.0</td>\n",
       "      <td>16028.0</td>\n",
       "      <td>1.0</td>\n",
       "      <td>482.0</td>\n",
       "      <td>2.0</td>\n",
       "      <td>755.0</td>\n",
       "      <td>NaN</td>\n",
       "    </tr>\n",
       "    <tr>\n",
       "      <th>1</th>\n",
       "      <td>7</td>\n",
       "      <td>3350000.0</td>\n",
       "      <td>40.40</td>\n",
       "      <td>2018-12-04T00:00:00</td>\n",
       "      <td>1</td>\n",
       "      <td>NaN</td>\n",
       "      <td>11.0</td>\n",
       "      <td>18.60</td>\n",
       "      <td>1</td>\n",
       "      <td>NaN</td>\n",
       "      <td>...</td>\n",
       "      <td>11.00</td>\n",
       "      <td>2.0</td>\n",
       "      <td>посёлок Шушары</td>\n",
       "      <td>12817.0</td>\n",
       "      <td>18603.0</td>\n",
       "      <td>0.0</td>\n",
       "      <td>NaN</td>\n",
       "      <td>0.0</td>\n",
       "      <td>NaN</td>\n",
       "      <td>81.0</td>\n",
       "    </tr>\n",
       "    <tr>\n",
       "      <th>2</th>\n",
       "      <td>10</td>\n",
       "      <td>5196000.0</td>\n",
       "      <td>56.00</td>\n",
       "      <td>2015-08-20T00:00:00</td>\n",
       "      <td>2</td>\n",
       "      <td>NaN</td>\n",
       "      <td>5.0</td>\n",
       "      <td>34.30</td>\n",
       "      <td>4</td>\n",
       "      <td>NaN</td>\n",
       "      <td>...</td>\n",
       "      <td>8.30</td>\n",
       "      <td>0.0</td>\n",
       "      <td>Санкт-Петербург</td>\n",
       "      <td>21741.0</td>\n",
       "      <td>13933.0</td>\n",
       "      <td>1.0</td>\n",
       "      <td>90.0</td>\n",
       "      <td>2.0</td>\n",
       "      <td>574.0</td>\n",
       "      <td>558.0</td>\n",
       "    </tr>\n",
       "    <tr>\n",
       "      <th>3</th>\n",
       "      <td>0</td>\n",
       "      <td>64900000.0</td>\n",
       "      <td>159.00</td>\n",
       "      <td>2015-07-24T00:00:00</td>\n",
       "      <td>3</td>\n",
       "      <td>NaN</td>\n",
       "      <td>14.0</td>\n",
       "      <td>NaN</td>\n",
       "      <td>9</td>\n",
       "      <td>NaN</td>\n",
       "      <td>...</td>\n",
       "      <td>NaN</td>\n",
       "      <td>0.0</td>\n",
       "      <td>Санкт-Петербург</td>\n",
       "      <td>28098.0</td>\n",
       "      <td>6800.0</td>\n",
       "      <td>2.0</td>\n",
       "      <td>84.0</td>\n",
       "      <td>3.0</td>\n",
       "      <td>234.0</td>\n",
       "      <td>424.0</td>\n",
       "    </tr>\n",
       "    <tr>\n",
       "      <th>4</th>\n",
       "      <td>2</td>\n",
       "      <td>10000000.0</td>\n",
       "      <td>100.00</td>\n",
       "      <td>2018-06-19T00:00:00</td>\n",
       "      <td>2</td>\n",
       "      <td>3.03</td>\n",
       "      <td>14.0</td>\n",
       "      <td>32.00</td>\n",
       "      <td>13</td>\n",
       "      <td>NaN</td>\n",
       "      <td>...</td>\n",
       "      <td>41.00</td>\n",
       "      <td>NaN</td>\n",
       "      <td>Санкт-Петербург</td>\n",
       "      <td>31856.0</td>\n",
       "      <td>8098.0</td>\n",
       "      <td>2.0</td>\n",
       "      <td>112.0</td>\n",
       "      <td>1.0</td>\n",
       "      <td>48.0</td>\n",
       "      <td>121.0</td>\n",
       "    </tr>\n",
       "    <tr>\n",
       "      <th>5</th>\n",
       "      <td>10</td>\n",
       "      <td>2890000.0</td>\n",
       "      <td>30.40</td>\n",
       "      <td>2018-09-10T00:00:00</td>\n",
       "      <td>1</td>\n",
       "      <td>NaN</td>\n",
       "      <td>12.0</td>\n",
       "      <td>14.40</td>\n",
       "      <td>5</td>\n",
       "      <td>NaN</td>\n",
       "      <td>...</td>\n",
       "      <td>9.10</td>\n",
       "      <td>NaN</td>\n",
       "      <td>городской посёлок Янино-1</td>\n",
       "      <td>NaN</td>\n",
       "      <td>NaN</td>\n",
       "      <td>NaN</td>\n",
       "      <td>NaN</td>\n",
       "      <td>NaN</td>\n",
       "      <td>NaN</td>\n",
       "      <td>55.0</td>\n",
       "    </tr>\n",
       "    <tr>\n",
       "      <th>6</th>\n",
       "      <td>6</td>\n",
       "      <td>3700000.0</td>\n",
       "      <td>37.30</td>\n",
       "      <td>2017-11-02T00:00:00</td>\n",
       "      <td>1</td>\n",
       "      <td>NaN</td>\n",
       "      <td>26.0</td>\n",
       "      <td>10.60</td>\n",
       "      <td>6</td>\n",
       "      <td>NaN</td>\n",
       "      <td>...</td>\n",
       "      <td>14.40</td>\n",
       "      <td>1.0</td>\n",
       "      <td>посёлок Парголово</td>\n",
       "      <td>52996.0</td>\n",
       "      <td>19143.0</td>\n",
       "      <td>0.0</td>\n",
       "      <td>NaN</td>\n",
       "      <td>0.0</td>\n",
       "      <td>NaN</td>\n",
       "      <td>155.0</td>\n",
       "    </tr>\n",
       "    <tr>\n",
       "      <th>7</th>\n",
       "      <td>5</td>\n",
       "      <td>7915000.0</td>\n",
       "      <td>71.60</td>\n",
       "      <td>2019-04-18T00:00:00</td>\n",
       "      <td>2</td>\n",
       "      <td>NaN</td>\n",
       "      <td>24.0</td>\n",
       "      <td>NaN</td>\n",
       "      <td>22</td>\n",
       "      <td>NaN</td>\n",
       "      <td>...</td>\n",
       "      <td>18.90</td>\n",
       "      <td>2.0</td>\n",
       "      <td>Санкт-Петербург</td>\n",
       "      <td>23982.0</td>\n",
       "      <td>11634.0</td>\n",
       "      <td>0.0</td>\n",
       "      <td>NaN</td>\n",
       "      <td>0.0</td>\n",
       "      <td>NaN</td>\n",
       "      <td>NaN</td>\n",
       "    </tr>\n",
       "    <tr>\n",
       "      <th>8</th>\n",
       "      <td>20</td>\n",
       "      <td>2900000.0</td>\n",
       "      <td>33.16</td>\n",
       "      <td>2018-05-23T00:00:00</td>\n",
       "      <td>1</td>\n",
       "      <td>NaN</td>\n",
       "      <td>27.0</td>\n",
       "      <td>15.43</td>\n",
       "      <td>26</td>\n",
       "      <td>NaN</td>\n",
       "      <td>...</td>\n",
       "      <td>8.81</td>\n",
       "      <td>NaN</td>\n",
       "      <td>посёлок Мурино</td>\n",
       "      <td>NaN</td>\n",
       "      <td>NaN</td>\n",
       "      <td>NaN</td>\n",
       "      <td>NaN</td>\n",
       "      <td>NaN</td>\n",
       "      <td>NaN</td>\n",
       "      <td>189.0</td>\n",
       "    </tr>\n",
       "    <tr>\n",
       "      <th>9</th>\n",
       "      <td>18</td>\n",
       "      <td>5400000.0</td>\n",
       "      <td>61.00</td>\n",
       "      <td>2017-02-26T00:00:00</td>\n",
       "      <td>3</td>\n",
       "      <td>2.50</td>\n",
       "      <td>9.0</td>\n",
       "      <td>43.60</td>\n",
       "      <td>7</td>\n",
       "      <td>NaN</td>\n",
       "      <td>...</td>\n",
       "      <td>6.50</td>\n",
       "      <td>2.0</td>\n",
       "      <td>Санкт-Петербург</td>\n",
       "      <td>50898.0</td>\n",
       "      <td>15008.0</td>\n",
       "      <td>0.0</td>\n",
       "      <td>NaN</td>\n",
       "      <td>0.0</td>\n",
       "      <td>NaN</td>\n",
       "      <td>289.0</td>\n",
       "    </tr>\n",
       "  </tbody>\n",
       "</table>\n",
       "<p>10 rows × 22 columns</p>\n",
       "</div>"
      ],
      "text/plain": [
       "   total_images  last_price  total_area first_day_exposition  rooms  \\\n",
       "0            20  13000000.0      108.00  2019-03-07T00:00:00      3   \n",
       "1             7   3350000.0       40.40  2018-12-04T00:00:00      1   \n",
       "2            10   5196000.0       56.00  2015-08-20T00:00:00      2   \n",
       "3             0  64900000.0      159.00  2015-07-24T00:00:00      3   \n",
       "4             2  10000000.0      100.00  2018-06-19T00:00:00      2   \n",
       "5            10   2890000.0       30.40  2018-09-10T00:00:00      1   \n",
       "6             6   3700000.0       37.30  2017-11-02T00:00:00      1   \n",
       "7             5   7915000.0       71.60  2019-04-18T00:00:00      2   \n",
       "8            20   2900000.0       33.16  2018-05-23T00:00:00      1   \n",
       "9            18   5400000.0       61.00  2017-02-26T00:00:00      3   \n",
       "\n",
       "   ceiling_height  floors_total  living_area  floor is_apartment  ...  \\\n",
       "0            2.70          16.0        51.00      8          NaN  ...   \n",
       "1             NaN          11.0        18.60      1          NaN  ...   \n",
       "2             NaN           5.0        34.30      4          NaN  ...   \n",
       "3             NaN          14.0          NaN      9          NaN  ...   \n",
       "4            3.03          14.0        32.00     13          NaN  ...   \n",
       "5             NaN          12.0        14.40      5          NaN  ...   \n",
       "6             NaN          26.0        10.60      6          NaN  ...   \n",
       "7             NaN          24.0          NaN     22          NaN  ...   \n",
       "8             NaN          27.0        15.43     26          NaN  ...   \n",
       "9            2.50           9.0        43.60      7          NaN  ...   \n",
       "\n",
       "   kitchen_area  balcony              locality_name  airports_nearest  \\\n",
       "0         25.00      NaN            Санкт-Петербург           18863.0   \n",
       "1         11.00      2.0             посёлок Шушары           12817.0   \n",
       "2          8.30      0.0            Санкт-Петербург           21741.0   \n",
       "3           NaN      0.0            Санкт-Петербург           28098.0   \n",
       "4         41.00      NaN            Санкт-Петербург           31856.0   \n",
       "5          9.10      NaN  городской посёлок Янино-1               NaN   \n",
       "6         14.40      1.0          посёлок Парголово           52996.0   \n",
       "7         18.90      2.0            Санкт-Петербург           23982.0   \n",
       "8          8.81      NaN             посёлок Мурино               NaN   \n",
       "9          6.50      2.0            Санкт-Петербург           50898.0   \n",
       "\n",
       "  cityCenters_nearest  parks_around3000  parks_nearest  ponds_around3000  \\\n",
       "0             16028.0               1.0          482.0               2.0   \n",
       "1             18603.0               0.0            NaN               0.0   \n",
       "2             13933.0               1.0           90.0               2.0   \n",
       "3              6800.0               2.0           84.0               3.0   \n",
       "4              8098.0               2.0          112.0               1.0   \n",
       "5                 NaN               NaN            NaN               NaN   \n",
       "6             19143.0               0.0            NaN               0.0   \n",
       "7             11634.0               0.0            NaN               0.0   \n",
       "8                 NaN               NaN            NaN               NaN   \n",
       "9             15008.0               0.0            NaN               0.0   \n",
       "\n",
       "   ponds_nearest  days_exposition  \n",
       "0          755.0              NaN  \n",
       "1            NaN             81.0  \n",
       "2          574.0            558.0  \n",
       "3          234.0            424.0  \n",
       "4           48.0            121.0  \n",
       "5            NaN             55.0  \n",
       "6            NaN            155.0  \n",
       "7            NaN              NaN  \n",
       "8            NaN            189.0  \n",
       "9            NaN            289.0  \n",
       "\n",
       "[10 rows x 22 columns]"
      ]
     },
     "metadata": {},
     "output_type": "display_data"
    },
    {
     "name": "stdout",
     "output_type": "stream",
     "text": [
      "<class 'pandas.core.frame.DataFrame'>\n",
      "RangeIndex: 23699 entries, 0 to 23698\n",
      "Data columns (total 22 columns):\n",
      " #   Column                Non-Null Count  Dtype  \n",
      "---  ------                --------------  -----  \n",
      " 0   total_images          23699 non-null  int64  \n",
      " 1   last_price            23699 non-null  float64\n",
      " 2   total_area            23699 non-null  float64\n",
      " 3   first_day_exposition  23699 non-null  object \n",
      " 4   rooms                 23699 non-null  int64  \n",
      " 5   ceiling_height        14504 non-null  float64\n",
      " 6   floors_total          23613 non-null  float64\n",
      " 7   living_area           21796 non-null  float64\n",
      " 8   floor                 23699 non-null  int64  \n",
      " 9   is_apartment          2775 non-null   object \n",
      " 10  studio                23699 non-null  bool   \n",
      " 11  open_plan             23699 non-null  bool   \n",
      " 12  kitchen_area          21421 non-null  float64\n",
      " 13  balcony               12180 non-null  float64\n",
      " 14  locality_name         23650 non-null  object \n",
      " 15  airports_nearest      18157 non-null  float64\n",
      " 16  cityCenters_nearest   18180 non-null  float64\n",
      " 17  parks_around3000      18181 non-null  float64\n",
      " 18  parks_nearest         8079 non-null   float64\n",
      " 19  ponds_around3000      18181 non-null  float64\n",
      " 20  ponds_nearest         9110 non-null   float64\n",
      " 21  days_exposition       20518 non-null  float64\n",
      "dtypes: bool(2), float64(14), int64(3), object(3)\n",
      "memory usage: 3.7+ MB\n"
     ]
    },
    {
     "data": {
      "text/plain": [
       "None"
      ]
     },
     "metadata": {},
     "output_type": "display_data"
    }
   ],
   "source": [
    "import pandas as pd\n",
    "#открываем файл и ставим разделить между данными\n",
    "data = pd.read_csv('/datasets/real_estate_data.csv', sep='\\t')\n",
    "#после расставления пробелов повторно выводим таблицу на экран и изучаем данные\n",
    "display(data.head(10))\n",
    "#смотрим общею инофрмацию по данным из таблицы\n",
    "display(data.info())\n"
   ]
  },
  {
   "cell_type": "markdown",
   "metadata": {},
   "source": [
    "При проведенном общем анализе видны колонки, где необходима предобработка данных. Необходимо поработать с пропусками в колонках, проверить наличие дубликатов данных.\n",
    "**Выводы по данным **\n",
    "\n",
    "- first_day_exposition - должны быть в формате datetime\n",
    "- ceiling_height - есть нулевые значения\n",
    "- floors_total - должны быть в формает  int, так как количесво этажей - это целое число\n",
    "- living_area - есть нулевые значения\n",
    "- is_apartment - формат должент быть bool, наличие нулевых значений допустимо\n",
    "- kitchen_area -есть нулевые значения\n",
    "- balcony - есть нулевые значения\n",
    "- locality_name - есть нулевые значения, их изменять не будем, так как причина пропусков не ясна\n",
    "- airports_nearest, cityCenters_nearest,parks_around3000, parks_nearest, ponds_around3000, ponds_nearest  - есть нулевые значения \n",
    "- days_exposition - есть нулевые значения, также нужно округлить данные и изменить ихформат на целочисленный - int\n"
   ]
  },
  {
   "cell_type": "code",
   "execution_count": 2,
   "metadata": {},
   "outputs": [
    {
     "data": {
      "text/plain": [
       "array([[<AxesSubplot:title={'center':'total_images'}>,\n",
       "        <AxesSubplot:title={'center':'last_price'}>,\n",
       "        <AxesSubplot:title={'center':'total_area'}>,\n",
       "        <AxesSubplot:title={'center':'rooms'}>],\n",
       "       [<AxesSubplot:title={'center':'ceiling_height'}>,\n",
       "        <AxesSubplot:title={'center':'floors_total'}>,\n",
       "        <AxesSubplot:title={'center':'living_area'}>,\n",
       "        <AxesSubplot:title={'center':'floor'}>],\n",
       "       [<AxesSubplot:title={'center':'kitchen_area'}>,\n",
       "        <AxesSubplot:title={'center':'balcony'}>,\n",
       "        <AxesSubplot:title={'center':'airports_nearest'}>,\n",
       "        <AxesSubplot:title={'center':'cityCenters_nearest'}>],\n",
       "       [<AxesSubplot:title={'center':'parks_around3000'}>,\n",
       "        <AxesSubplot:title={'center':'parks_nearest'}>,\n",
       "        <AxesSubplot:title={'center':'ponds_around3000'}>,\n",
       "        <AxesSubplot:title={'center':'ponds_nearest'}>],\n",
       "       [<AxesSubplot:title={'center':'days_exposition'}>, <AxesSubplot:>,\n",
       "        <AxesSubplot:>, <AxesSubplot:>]], dtype=object)"
      ]
     },
     "execution_count": 2,
     "metadata": {},
     "output_type": "execute_result"
    },
    {
     "data": {
      "image/png": "[encoded data removed]",
      "text/plain": [
       "<Figure size 1080x1440 with 20 Axes>"
      ]
     },
     "metadata": {
      "needs_background": "light"
     },
     "output_type": "display_data"
    }
   ],
   "source": [
    "data.hist(figsize=(15, 20))"
   ]
  },
  {
   "cell_type": "markdown",
   "metadata": {},
   "source": [
    "### Предобработка данных"
   ]
  },
  {
   "cell_type": "code",
   "execution_count": 290,
   "metadata": {},
   "outputs": [
    {
     "data": {
      "text/plain": [
       "total_images            0\n",
       "last_price              0\n",
       "total_area              0\n",
       "first_day_exposition    0\n",
       "rooms                   0\n",
       "ceiling_height          0\n",
       "floors_total            0\n",
       "living_area             0\n",
       "floor                   0\n",
       "is_apartment            0\n",
       "studio                  0\n",
       "open_plan               0\n",
       "kitchen_area            0\n",
       "balcony                 0\n",
       "locality_name           0\n",
       "airports_nearest        0\n",
       "cityCenters_nearest     0\n",
       "parks_around3000        0\n",
       "parks_nearest           0\n",
       "ponds_around3000        0\n",
       "ponds_nearest           0\n",
       "days_exposition         0\n",
       "dtype: int64"
      ]
     },
     "execution_count": 290,
     "metadata": {},
     "output_type": "execute_result"
    }
   ],
   "source": [
    "#изменим формат данных в колонке first_day_exposition\n",
    "data['first_day_exposition']= pd.to_datetime(data['first_day_exposition'], format='%Y-%m-%d %H:%M:%S')\n",
    "\n",
    "#замена пропущенных значений в кололке is_apartment на False и замена типа данных\n",
    "data['is_apartment'] = data['is_apartment'].fillna(False)\n",
    "data['is_apartment'] = data['is_apartment'].astype('bool')\n",
    "\n",
    "#изменнеие формата в колонке floors_total\n",
    "data['floors_total'] = data['floors_total'].fillna(0)\n",
    "data['floors_total']=data['floors_total'].astype('int')\n",
    "\n",
    "#изменнеие формата в колонке days_exposition\n",
    "data['days_exposition'] = data['days_exposition'].fillna(0)\n",
    "data['days_exposition'] = round(data['days_exposition'])\n",
    "data['days_exposition']=data['days_exposition'].astype('int')\n",
    "#print(sorted(data['days_exposition'].sort_values().unique()))\n",
    "\n",
    "#замена пропущенных значений в колонке balcony на 0 и изменим тип данных на int\n",
    "data['balcony'] = data['balcony'].fillna(0)\n",
    "data['balcony'] = data['balcony'].astype('int')\n",
    "\n",
    "#замена пропущенных значений в колонке  на 0\n",
    "data['ponds_around3000'] = data['ponds_around3000'].fillna(0)\n",
    "data['kitchen_area'] = data['kitchen_area'].fillna(0)\n",
    "data['airports_nearest'] = data['airports_nearest'].fillna(0)\n",
    "data['parks_nearest'] = data['parks_nearest'].fillna(0)\n",
    "data['ponds_nearest'] = data['ponds_nearest'].fillna(0)\n",
    "data['cityCenters_nearest'] = data['cityCenters_nearest'].fillna(0)\n",
    "data['living_area'] = data['living_area'].fillna(0)\n",
    "data['locality_name'] = data['locality_name'].fillna(0)\n",
    "data['parks_around3000'] = data['parks_around3000'].fillna(0)\n",
    "\n",
    "#подсчет количества дубликатов в таблице\n",
    "#print(data.duplicated().sum())\n",
    "\n",
    "#проверка наличия неявных дубликатов\n",
    "#print(data['locality_name'].unique())\n",
    "\n",
    "#намена неявных дубликатов\n",
    "data['locality_name']=data['locality_name'].replace('ё', 'е', regex=True).replace('Ё', 'Е', regex=True)\n",
    "old1 = ['городской поселок', 'поселок городского типа', 'коттеджный поселок']\n",
    "data['locality_name']=data['locality_name'].replace( old1, 'поселок', regex=True)\n",
    "data['locality_name']=data['locality_name'].replace('садоводческое некоммерческое товарищество', 'садовое товарищество', regex=True)\n",
    "data['locality_name']=data['locality_name'].replace('поселок при железнодорожной станции', 'поселок станции', regex=True)\n",
    "\n",
    "#замена пропщущенных значений на 0 и поиск редких и выбивающихся значений в колонке ceiling_height\n",
    "data['ceiling_height'] = data['ceiling_height'].fillna(0)\n",
    "data['ceiling_height']=data['ceiling_height'].replace(20.0, 2).replace(22.6, 2.26).replace(24.0, 2.4).replace(25.0, 2.5).replace(26.0, 2.6).replace(27.0, 2.7).replace(27.5, 2.75).replace(32.0, 3.2)\n",
    "#print(sorted(data['ceiling_height'].sort_values().unique()))\n",
    "#print(data['ceiling_height'].describe())\n",
    "data.isnull().sum()\n",
    "\n"
   ]
  },
  {
   "cell_type": "markdown",
   "metadata": {},
   "source": [
    "Меняем формат данных в колонке first_day_exposition, чтобы с датами можно было проводить анализ по дням, месяцам, годам.\n",
    "\n",
    "Пропущенные значения  nan заменим на 0, чтобы было удбно проводить обработку данных.\n",
    "\n",
    "После применения метода describe к анализу данных в графе ceiling_height становится понятно, что большая\n",
    "часть данных о высоте потолка находится в рамках стандарта 2,7 - 2,8 м.\n",
    "\n",
    "В значениях потолка с 20 по 32 скорее всего допущена ошибка и необходимо поставить запятую.\n",
    "Значения с 1, 1,2 слишком маленькие, почему не ясно, их следует удалить из анализируемой таблицы.\n",
    "В аномально большом значении 100 допушена ошибка, его также удалим.  \n",
    "Подсчитав процентные доли квартр с потолками ниже 2м и выше 10.3 м, они составили около 0,004%, что несущственно для исследвоания, пока эти данные не удаляю.\n",
    "\n"
   ]
  },
  {
   "cell_type": "markdown",
   "metadata": {},
   "source": [
    "### Посчитайте и добавьте в таблицу новые столбцы"
   ]
  },
  {
   "cell_type": "code",
   "execution_count": 291,
   "metadata": {},
   "outputs": [],
   "source": [
    "#цена одного квадратного метра;\n",
    "data['price_per_1m2'] = data['last_price']/data['total_area']\n",
    "\n",
    "#день недели публикации объявления (0 — понедельник, 1 — вторник и так далее);\n",
    "data['first_day_exposition']= pd.to_datetime(data['first_day_exposition'], format='%Y-%m-%d %H:%M:%S')\n",
    "data['publication_day']=data['first_day_exposition'].dt.weekday\n",
    "\n",
    "#месяц публикации объявления;\n",
    "data['publication_month']=data['first_day_exposition'].dt.month\n",
    "\n",
    "#год публикации объявления;\n",
    "data['publication_year']=data['first_day_exposition'].dt.year\n",
    "\n",
    "#тип этажа квартиры (значения — «‎первый», «последний», «другой»);\n",
    "data.loc[data['floor']==1,'floor_type'] = 'первый'\n",
    "data.loc[data['floor']!=1,'floor_type'] = 'другой'\n",
    "data.loc[data['floor']==data['floors_total'],'floor_type'] = 'последний'\n",
    "\n",
    "#расстояние до центра города в километрах (переведите из м в км и округлите до целых значений).\n",
    "data['center_km']=round(data['cityCenters_nearest']/1000)"
   ]
  },
  {
   "cell_type": "markdown",
   "metadata": {},
   "source": [
    "### Проведите исследовательский анализ данных"
   ]
  },
  {
   "cell_type": "code",
   "execution_count": 292,
   "metadata": {},
   "outputs": [
    {
     "data": {
      "text/plain": [
       "count    2.369900e+04\n",
       "mean     6.541549e+06\n",
       "std      1.088701e+07\n",
       "min      1.219000e+04\n",
       "25%      3.400000e+06\n",
       "50%      4.650000e+06\n",
       "75%      6.800000e+06\n",
       "max      7.630000e+08\n",
       "Name: last_price, dtype: float64"
      ]
     },
     "execution_count": 292,
     "metadata": {},
     "output_type": "execute_result"
    },
    {
     "data": {
      "image/png": "[encoded data removed]",
      "text/plain": [
       "<Figure size 432x288 with 1 Axes>"
      ]
     },
     "metadata": {
      "needs_background": "light"
     },
     "output_type": "display_data"
    },
    {
     "data": {
      "image/png": "[encoded data removed]",
      "text/plain": [
       "<Figure size 432x288 with 1 Axes>"
      ]
     },
     "metadata": {
      "needs_background": "light"
     },
     "output_type": "display_data"
    }
   ],
   "source": [
    "#общая площадь\n",
    "\n",
    "data.plot(x='total_area', y = 'last_price', kind='scatter', grid=True)\n",
    "data['total_area'].hist(bins=100, range = (0,1000))\n",
    "data_total_area=data.query('total_area <200')\n",
    "data_total_area=data.query('last_price <20000000')\n",
    "data_total_area.plot(x='total_area', y = 'last_price', kind='scatter', grid=True, alpha=0.3)\n",
    "data['last_price'].describe()\n"
   ]
  },
  {
   "cell_type": "markdown",
   "metadata": {},
   "source": [
    "Большая часть квартир в продаже имеет площадь от 25 до 125 м2 и находится в ценовом сегменте ниже 15 млн.руб"
   ]
  },
  {
   "cell_type": "code",
   "execution_count": 293,
   "metadata": {},
   "outputs": [
    {
     "data": {
      "text/plain": [
       "count    23699.000000\n",
       "mean        60.348651\n",
       "std         35.654083\n",
       "min         12.000000\n",
       "25%         40.000000\n",
       "50%         52.000000\n",
       "75%         69.900000\n",
       "max        900.000000\n",
       "Name: total_area, dtype: float64"
      ]
     },
     "execution_count": 293,
     "metadata": {},
     "output_type": "execute_result"
    },
    {
     "data": {
      "image/png": "[encoded data removed]",
      "text/plain": [
       "<Figure size 432x288 with 1 Axes>"
      ]
     },
     "metadata": {
      "needs_background": "light"
     },
     "output_type": "display_data"
    }
   ],
   "source": [
    "#жилая площадь\n",
    "\n",
    "data['total_area'].hist(bins=70, range = (10,150))\n",
    "data['total_area'].describe()"
   ]
  },
  {
   "cell_type": "markdown",
   "metadata": {},
   "source": [
    "Самые распространённые варианты с жилой площадью 30,45,60 м2. до 50 метро, число квартир с жилой площадью более 80  м2 встречаются редко.\n",
    "Два пика графика вызваны, вероятно, тем, что это жилые площади для 1-комнатной, затем для 2-комнатной и после этого для 3-комнатной квартиры."
   ]
  },
  {
   "cell_type": "code",
   "execution_count": 294,
   "metadata": {},
   "outputs": [
    {
     "data": {
      "text/plain": [
       "<AxesSubplot:xlabel='kitchen_area', ylabel='last_price'>"
      ]
     },
     "execution_count": 294,
     "metadata": {},
     "output_type": "execute_result"
    },
    {
     "data": {
      "image/png": "[encoded data removed]",
      "text/plain": [
       "<Figure size 432x288 with 1 Axes>"
      ]
     },
     "metadata": {
      "needs_background": "light"
     },
     "output_type": "display_data"
    }
   ],
   "source": [
    "#площади кухни\n",
    "data.plot(x='kitchen_area', y = 'last_price', kind='scatter', grid=True)\n",
    "data['kitchen_area'].hist(bins=70, range = (3,80))"
   ]
  },
  {
   "cell_type": "code",
   "execution_count": null,
   "metadata": {},
   "outputs": [],
   "source": [
    "Самые распространённые кухни - от 5 до 15 метров. Больше 20 метров кухни практически не встречаются. \n",
    "Больше 30 - единичные случаи.\n",
    "цена квартиры не сильно зависит от размера кухни."
   ]
  },
  {
   "cell_type": "code",
   "execution_count": 295,
   "metadata": {},
   "outputs": [
    {
     "data": {
      "text/plain": [
       "<AxesSubplot:>"
      ]
     },
     "execution_count": 295,
     "metadata": {},
     "output_type": "execute_result"
    },
    {
     "data": {
      "image/png": "[encoded data removed]",
      "text/plain": [
       "<Figure size 432x288 with 1 Axes>"
      ]
     },
     "metadata": {
      "needs_background": "light"
     },
     "output_type": "display_data"
    }
   ],
   "source": [
    "#количество комнат\n",
    "data['rooms'].hist(bins=7, range = (1,7))"
   ]
  },
  {
   "cell_type": "code",
   "execution_count": null,
   "metadata": {},
   "outputs": [],
   "source": [
    "В основном квартиры состоят из 1, 2 и 3 комнат, есть небольшая доля 4-комнатных квартир. \n",
    "Варинатов с комнатами более 5 мало."
   ]
  },
  {
   "cell_type": "code",
   "execution_count": 297,
   "metadata": {},
   "outputs": [
    {
     "data": {
      "text/plain": [
       "<AxesSubplot:>"
      ]
     },
     "execution_count": 297,
     "metadata": {},
     "output_type": "execute_result"
    },
    {
     "data": {
      "image/png": "[encoded data removed]",
      "text/plain": [
       "<Figure size 432x288 with 1 Axes>"
      ]
     },
     "metadata": {
      "needs_background": "light"
     },
     "output_type": "display_data"
    }
   ],
   "source": [
    "#этажа, на котором расположена квартира (первый, последний, другой)\n",
    "data['floor'].hist(bins=33, range = (0,33))"
   ]
  },
  {
   "cell_type": "code",
   "execution_count": null,
   "metadata": {},
   "outputs": [],
   "source": [
    "Большая часть квартир расположена с 1-10 этаж, число квартир, на около 1/3 квартир находится на первом или последнем\n",
    "этаже дома"
   ]
  },
  {
   "cell_type": "code",
   "execution_count": 264,
   "metadata": {
    "scrolled": true
   },
   "outputs": [
    {
     "data": {
      "text/plain": [
       "<AxesSubplot:>"
      ]
     },
     "execution_count": 264,
     "metadata": {},
     "output_type": "execute_result"
    },
    {
     "data": {
      "image/png": "[encoded data removed]",
      "text/plain": [
       "<Figure size 432x288 with 1 Axes>"
      ]
     },
     "metadata": {
      "needs_background": "light"
     },
     "output_type": "display_data"
    }
   ],
   "source": [
    "#цена объекта\n",
    "data['last_price'].hist(bins=100, range = (100000,10000000))\n",
    "data['last_price'].hist(bins=100, range = (200000,1000000))"
   ]
  },
  {
   "cell_type": "markdown",
   "metadata": {},
   "source": [
    "Больая часть квартир представлена в цене около 8-10 млн.руб."
   ]
  },
  {
   "cell_type": "code",
   "execution_count": 265,
   "metadata": {},
   "outputs": [
    {
     "data": {
      "text/plain": [
       "<AxesSubplot:>"
      ]
     },
     "execution_count": 265,
     "metadata": {},
     "output_type": "execute_result"
    },
    {
     "data": {
      "image/png": "[encoded data removed]",
      "text/plain": [
       "<Figure size 432x288 with 1 Axes>"
      ]
     },
     "metadata": {
      "needs_background": "light"
     },
     "output_type": "display_data"
    }
   ],
   "source": [
    "#высота потолков, убираем аномалии потолку нижу 2 м и выше 4.\n",
    "data_data_ceiling_height = data.query(('(ceiling_height > 2) & (ceiling_height < 4)'))\n",
    "data_data_ceiling_height['ceiling_height'].hist()"
   ]
  },
  {
   "cell_type": "markdown",
   "metadata": {},
   "source": [
    " Основная масса квартир имеет стандартную высоту потолков: 2,5-2,75 м."
   ]
  },
  {
   "cell_type": "code",
   "execution_count": 266,
   "metadata": {},
   "outputs": [
    {
     "data": {
      "text/plain": [
       "<AxesSubplot:>"
      ]
     },
     "execution_count": 266,
     "metadata": {},
     "output_type": "execute_result"
    },
    {
     "data": {
      "image/png": "[encoded data removed]",
      "text/plain": [
       "<Figure size 432x288 with 1 Axes>"
      ]
     },
     "metadata": {
      "needs_background": "light"
     },
     "output_type": "display_data"
    }
   ],
   "source": [
    "#общее количество этажей в доме;\n",
    "data['floors_total'].hist(bins=50, range=(0,40)) "
   ]
  },
  {
   "cell_type": "markdown",
   "metadata": {},
   "source": [
    "Большинство квартир  - здания с 5 и 10 этажами. "
   ]
  },
  {
   "cell_type": "code",
   "execution_count": 267,
   "metadata": {},
   "outputs": [
    {
     "data": {
      "text/plain": [
       "<AxesSubplot:>"
      ]
     },
     "execution_count": 267,
     "metadata": {},
     "output_type": "execute_result"
    },
    {
     "data": {
      "image/png": "[encoded data removed]",
      "text/plain": [
       "<Figure size 432x288 with 1 Axes>"
      ]
     },
     "metadata": {
      "needs_background": "light"
     },
     "output_type": "display_data"
    }
   ],
   "source": [
    "#расстояние до центра города в метрах;берем для анализа срез данных, где квартиры удалены более,чем на 1 м, так как \n",
    "#при первично анализе было много пропущенных данных, вместо них мы поставили 0, а это может искать результат и\n",
    "#показать неверную зависимость от цены\n",
    "data_cityCenters_nearest=data.query('cityCenters_nearest>0')\n",
    "\n",
    "#data_cityCenters_nearest.plot(x='cityCenters_nearest', y = 'last_price', kind='scatter', grid=True)\n",
    "data_cityCenters_nearest['cityCenters_nearest'].hist()"
   ]
  },
  {
   "cell_type": "markdown",
   "metadata": {},
   "source": [
    "Большая часть квартир находится на расстоянии 20 км от Центра города"
   ]
  },
  {
   "cell_type": "code",
   "execution_count": 268,
   "metadata": {},
   "outputs": [
    {
     "data": {
      "text/plain": [
       "<AxesSubplot:>"
      ]
     },
     "execution_count": 268,
     "metadata": {},
     "output_type": "execute_result"
    },
    {
     "data": {
      "image/png": "[encoded data removed]",
      "text/plain": [
       "<Figure size 432x288 with 1 Axes>"
      ]
     },
     "metadata": {
      "needs_background": "light"
     },
     "output_type": "display_data"
    }
   ],
   "source": [
    "#расстояние до ближайшего аэропорта; аналогнично удаляем квартры, расположенные 0 км от аэропорта\n",
    "data_airports_nearest=data.query('airports_nearest>0')\n",
    "data_cityCenters_nearest['airports_nearest'].hist()"
   ]
  },
  {
   "cell_type": "markdown",
   "metadata": {},
   "source": [
    "Большая часть квартир значительно удалена от аэропорат, что хорошо, не будет слышен лишний шум"
   ]
  },
  {
   "cell_type": "code",
   "execution_count": 269,
   "metadata": {},
   "outputs": [
    {
     "data": {
      "text/plain": [
       "<AxesSubplot:>"
      ]
     },
     "execution_count": 269,
     "metadata": {},
     "output_type": "execute_result"
    },
    {
     "data": {
      "image/png": "[encoded data removed]",
      "text/plain": [
       "<Figure size 432x288 with 1 Axes>"
      ]
     },
     "metadata": {
      "needs_background": "light"
     },
     "output_type": "display_data"
    }
   ],
   "source": [
    "#расстояние до ближайшего парка;\n",
    "#расстояние до ближайшего аэропорта; аналогнично удаляем квартры, расположенные 0 км от аэропорта\n",
    "\n",
    "data['parks_nearest'].hist(bins=100, range=(0,2000))"
   ]
  },
  {
   "cell_type": "markdown",
   "metadata": {},
   "source": [
    "По значительном числу квартир у нас нет данных о наличии парка рядом. Поэтому этот фактор не следует включать в анализ цены."
   ]
  },
  {
   "cell_type": "code",
   "execution_count": 270,
   "metadata": {},
   "outputs": [
    {
     "data": {
      "text/plain": [
       "<AxesSubplot:>"
      ]
     },
     "execution_count": 270,
     "metadata": {},
     "output_type": "execute_result"
    },
    {
     "data": {
      "image/png": "[encoded data removed]",
      "text/plain": [
       "<Figure size 432x288 with 1 Axes>"
      ]
     },
     "metadata": {
      "needs_background": "light"
     },
     "output_type": "display_data"
    }
   ],
   "source": [
    "#день публикации объявления\n",
    "data['publication_day'].hist(bins=100, range=(0,10))  "
   ]
  },
  {
   "cell_type": "code",
   "execution_count": 271,
   "metadata": {},
   "outputs": [
    {
     "data": {
      "text/plain": [
       "<AxesSubplot:>"
      ]
     },
     "execution_count": 271,
     "metadata": {},
     "output_type": "execute_result"
    },
    {
     "data": {
      "image/png": "[encoded data removed]",
      "text/plain": [
       "<Figure size 432x288 with 1 Axes>"
      ]
     },
     "metadata": {
      "needs_background": "light"
     },
     "output_type": "display_data"
    }
   ],
   "source": [
    "#месяц публикации объявления\n",
    "data['publication_month'].hist(bins=100, range=(0,12))\n"
   ]
  },
  {
   "cell_type": "markdown",
   "metadata": {},
   "source": [
    "Основная часть объявлений публикуется с воскресенья по четверг.\n",
    "В течение года наиболее активыне месяцы: февраль-апрель, и сентябрь-ноябрь. Периоды затишья, скорее всего, связаны \n",
    "с майскими праздниками, летними отпусками и ногогодними месяцами."
   ]
  },
  {
   "cell_type": "code",
   "execution_count": 3,
   "metadata": {},
   "outputs": [
    {
     "name": "stdout",
     "output_type": "stream",
     "text": [
      "count    20518.000000\n",
      "mean       180.888634\n",
      "std        219.727988\n",
      "min          1.000000\n",
      "25%         45.000000\n",
      "50%         95.000000\n",
      "75%        232.000000\n",
      "max       1580.000000\n",
      "Name: days_exposition, dtype: float64\n",
      "Среднее число дней продажи квартиры составляет: 181\n",
      "Медиана дней продажи квартиры равна: 95.0\n"
     ]
    },
    {
     "data": {
      "image/png": "[encoded data removed]",
      "text/plain": [
       "<Figure size 432x288 with 1 Axes>"
      ]
     },
     "metadata": {
      "needs_background": "light"
     },
     "output_type": "display_data"
    }
   ],
   "source": [
    "#как быстро продавались квартиры (столбец days_exposition)\n",
    "#гистограмма\n",
    "#подсчет средней и медианы.\n",
    "\n",
    "data['days_exposition'].hist(range=(0,100))\n",
    "print(data['days_exposition'].describe())\n",
    "print('Среднее число дней продажи квартиры составляет:',round(data['days_exposition'].mean()))\n",
    "print('Медиана дней продажи квартиры равна:',data['days_exposition'].median())"
   ]
  },
  {
   "cell_type": "markdown",
   "metadata": {},
   "source": [
    " Большинство квартира  в среднем продается в течение 157 дней.\n",
    " Быстрой продажей можно назвать срок в 22 дня и меньше. Долгой продажей - 199 дней и дольше."
   ]
  },
  {
   "cell_type": "code",
   "execution_count": 273,
   "metadata": {},
   "outputs": [
    {
     "name": "stdout",
     "output_type": "stream",
     "text": [
      "Корреляция цены и площади: 0.6536750579657242\n"
     ]
    },
    {
     "data": {
      "image/png": "[encoded data removed]",
      "text/plain": [
       "<Figure size 360x360 with 1 Axes>"
      ]
     },
     "metadata": {
      "needs_background": "light"
     },
     "output_type": "display_data"
    }
   ],
   "source": [
    "#факторы,которые  больше всего влияют на общую (полную) стоимость объекта\n",
    "#графики, которые покажут зависимость цены от указанных ниже параметров\n",
    "(\n",
    "    data.pivot_table(index='total_area', values='last_price', aggfunc='median')\n",
    "    .plot(grid=True, style='o', figsize=(5, 5))\n",
    ")\n",
    "\n",
    "print('Корреляция цены и площади:',data['total_area'].corr(data['last_price']))\n"
   ]
  },
  {
   "cell_type": "code",
   "execution_count": 274,
   "metadata": {},
   "outputs": [
    {
     "name": "stdout",
     "output_type": "stream",
     "text": [
      "Корреляция цены и жилой площадью: 0.49070560990682593\n"
     ]
    },
    {
     "data": {
      "image/png": "[encoded data removed]",
      "text/plain": [
       "<Figure size 360x360 with 1 Axes>"
      ]
     },
     "metadata": {
      "needs_background": "light"
     },
     "output_type": "display_data"
    }
   ],
   "source": [
    "(\n",
    "    data.pivot_table(index='living_area', values='last_price', aggfunc='median')\n",
    "    .plot(grid=True, style='o', figsize=(5, 5))\n",
    ")\n",
    "\n",
    "print('Корреляция цены и жилой площадью:',data['living_area'].corr(data['last_price']))"
   ]
  },
  {
   "cell_type": "code",
   "execution_count": 275,
   "metadata": {},
   "outputs": [
    {
     "name": "stdout",
     "output_type": "stream",
     "text": [
      "Корреляция цены и  площади кухни: 0.3864437841938422\n"
     ]
    },
    {
     "data": {
      "image/png": "[encoded data removed]",
      "text/plain": [
       "<Figure size 360x360 with 1 Axes>"
      ]
     },
     "metadata": {
      "needs_background": "light"
     },
     "output_type": "display_data"
    }
   ],
   "source": [
    "(\n",
    "    data.pivot_table(index='kitchen_area', values='last_price', aggfunc='median')\n",
    "    .plot(grid=True, style='o', figsize=(5, 5))\n",
    ")\n",
    "\n",
    "print('Корреляция цены и  площади кухни:',data['kitchen_area'].corr(data['last_price']))"
   ]
  },
  {
   "cell_type": "code",
   "execution_count": 276,
   "metadata": {},
   "outputs": [
    {
     "name": "stdout",
     "output_type": "stream",
     "text": [
      "Корреляция цены и этажа: 0.026575643284470797\n"
     ]
    },
    {
     "data": {
      "image/png": "[encoded data removed]",
      "text/plain": [
       "<Figure size 360x360 with 1 Axes>"
      ]
     },
     "metadata": {
      "needs_background": "light"
     },
     "output_type": "display_data"
    }
   ],
   "source": [
    "(\n",
    "    data.pivot_table(index='floor', values='last_price', aggfunc='median')\n",
    "    .plot(grid=True, style='o', figsize=(5, 5))\n",
    ")\n",
    "\n",
    "print('Корреляция цены и этажа:',data['floor'].corr(data['last_price']))"
   ]
  },
  {
   "cell_type": "code",
   "execution_count": 277,
   "metadata": {},
   "outputs": [
    {
     "name": "stdout",
     "output_type": "stream",
     "text": [
      "Корреляция цены и числа комнат: 0.3633428499648948\n"
     ]
    },
    {
     "data": {
      "image/png": "[encoded data removed]",
      "text/plain": [
       "<Figure size 360x360 with 1 Axes>"
      ]
     },
     "metadata": {
      "needs_background": "light"
     },
     "output_type": "display_data"
    }
   ],
   "source": [
    "(\n",
    "    data.pivot_table(index='rooms', values='last_price', aggfunc='median')\n",
    "    .plot(grid=True, style='o', figsize=(5, 5))\n",
    ")\n",
    "\n",
    "print('Корреляция цены и числа комнат:',data['rooms'].corr(data['last_price']))"
   ]
  },
  {
   "cell_type": "code",
   "execution_count": 278,
   "metadata": {},
   "outputs": [
    {
     "data": {
      "text/plain": [
       "<AxesSubplot:xlabel='floor_type'>"
      ]
     },
     "execution_count": 278,
     "metadata": {},
     "output_type": "execute_result"
    },
    {
     "data": {
      "image/png": "[encoded data removed]",
      "text/plain": [
       "<Figure size 360x360 with 1 Axes>"
      ]
     },
     "metadata": {
      "needs_background": "light"
     },
     "output_type": "display_data"
    }
   ],
   "source": [
    "(\n",
    "    data.pivot_table(index='floor_type', values='last_price', aggfunc='median')\n",
    "    .plot(grid=True, style='o-', figsize=(5, 5))\n",
    ")\n"
   ]
  },
  {
   "cell_type": "code",
   "execution_count": 279,
   "metadata": {},
   "outputs": [
    {
     "name": "stdout",
     "output_type": "stream",
     "text": [
      "Корреляция цены и дня публикации объявления: 0.0015501452176215405\n"
     ]
    },
    {
     "data": {
      "image/png": "[encoded data removed]",
      "text/plain": [
       "<Figure size 360x360 with 1 Axes>"
      ]
     },
     "metadata": {
      "needs_background": "light"
     },
     "output_type": "display_data"
    }
   ],
   "source": [
    "(\n",
    "    data.pivot_table(index='publication_day', values='last_price', aggfunc='median')\n",
    "    .plot(grid=True, style='o-', figsize=(5, 5))\n",
    ")\n",
    "\n",
    "print('Корреляция цены и дня публикации объявления:',data['publication_day'].corr(data['last_price']))"
   ]
  },
  {
   "cell_type": "code",
   "execution_count": 280,
   "metadata": {},
   "outputs": [
    {
     "name": "stdout",
     "output_type": "stream",
     "text": [
      "Корреляция цены и месяца публикации объявления: 0.0027791287507397166\n"
     ]
    },
    {
     "data": {
      "image/png": "[encoded data removed]",
      "text/plain": [
       "<Figure size 360x360 with 1 Axes>"
      ]
     },
     "metadata": {
      "needs_background": "light"
     },
     "output_type": "display_data"
    }
   ],
   "source": [
    "(\n",
    "    data.pivot_table(index='publication_month', values='last_price', aggfunc='median')\n",
    "    .plot(grid=True, style='o-', figsize=(5, 5))\n",
    ")\n",
    "\n",
    "print('Корреляция цены и месяца публикации объявления:',data['publication_month'].corr(data['last_price']))"
   ]
  },
  {
   "cell_type": "code",
   "execution_count": 281,
   "metadata": {},
   "outputs": [
    {
     "name": "stdout",
     "output_type": "stream",
     "text": [
      "Корреляция цены и года публикации: -0.043089036199508615\n"
     ]
    },
    {
     "data": {
      "image/png": "[encoded data removed]",
      "text/plain": [
       "<Figure size 360x360 with 1 Axes>"
      ]
     },
     "metadata": {
      "needs_background": "light"
     },
     "output_type": "display_data"
    }
   ],
   "source": [
    "(\n",
    "    data.pivot_table(index='publication_year', values='last_price', aggfunc='median')\n",
    "    .plot(grid=True, style='o-', figsize=(5, 5))\n",
    ")\n",
    "\n",
    "print('Корреляция цены и года публикации:',data['publication_year'].corr(data['last_price']))"
   ]
  },
  {
   "cell_type": "markdown",
   "metadata": {},
   "source": [
    "**Выводы**\n",
    "Чем больше площадь, тем выше стоимость, корреляция этих параметров высокая. \n",
    "Размер жилой площади также влияет на стоимость квартиры, но уже меньше.\n",
    "Зависимость цены от площади кухни крайне низкая.\n",
    "Также цена квартиры не зависит от этажа, думаю это можно обяснить тем, чтодругие факторы болоее сильно влияют на стоимость.\n",
    "\n",
    "Число комнат влияет на цену (больше комнат - больше цена), однако зависимость ниже, чем у площади. \n",
    "\n",
    "\n",
    "Первый этаж непосредственно влияет на стоимость квартиры - в среднем квартиры на 1-м этаже значительно дешевле. Чуть дороже последний этаж. Наибольшая стоимость у квартир, расположенных не на 1-м и не на последнем этаже.\n",
    "\n",
    "День недели: дороже всего квартиры, опубликованные в понедельник (цифра 1), дешевле всего - в субботу (цифра 6 н графике).\n",
    "Месяц: дороже всего квартиры, продающиеся с апреля, дешевле всего - с июня.\n",
    "Год: квартиры очень сильно подешевели в 2014-2018 годах, что, вероятно, вызвано некоторым кризисом 2014-2015 годов. В 2019 году цены снова стали повышаться, т.к. экономика стала восстанавливться."
   ]
  },
  {
   "cell_type": "code",
   "execution_count": 282,
   "metadata": {},
   "outputs": [
    {
     "data": {
      "text/plain": [
       "'Cредняя цена одного квадратного метра в 10 населённых пунктах с наибольшим числом объявлений:'"
      ]
     },
     "metadata": {},
     "output_type": "display_data"
    },
    {
     "data": {
      "text/html": [
       "<div>\n",
       "<style scoped>\n",
       "    .dataframe tbody tr th:only-of-type {\n",
       "        vertical-align: middle;\n",
       "    }\n",
       "\n",
       "    .dataframe tbody tr th {\n",
       "        vertical-align: top;\n",
       "    }\n",
       "\n",
       "    .dataframe thead th {\n",
       "        text-align: right;\n",
       "    }\n",
       "</style>\n",
       "<table border=\"1\" class=\"dataframe\">\n",
       "  <thead>\n",
       "    <tr style=\"text-align: right;\">\n",
       "      <th></th>\n",
       "      <th>price_per_1m2</th>\n",
       "    </tr>\n",
       "    <tr>\n",
       "      <th>locality_name</th>\n",
       "      <th></th>\n",
       "    </tr>\n",
       "  </thead>\n",
       "  <tbody>\n",
       "    <tr>\n",
       "      <th>Санкт-Петербург</th>\n",
       "      <td>114849</td>\n",
       "    </tr>\n",
       "    <tr>\n",
       "      <th>Пушкин</th>\n",
       "      <td>103125</td>\n",
       "    </tr>\n",
       "    <tr>\n",
       "      <th>деревня Кудрово</th>\n",
       "      <td>92473</td>\n",
       "    </tr>\n",
       "    <tr>\n",
       "      <th>поселок Парголово</th>\n",
       "      <td>90175</td>\n",
       "    </tr>\n",
       "    <tr>\n",
       "      <th>поселок Мурино</th>\n",
       "      <td>85681</td>\n",
       "    </tr>\n",
       "    <tr>\n",
       "      <th>поселок Шушары</th>\n",
       "      <td>78677</td>\n",
       "    </tr>\n",
       "    <tr>\n",
       "      <th>Колпино</th>\n",
       "      <td>75424</td>\n",
       "    </tr>\n",
       "    <tr>\n",
       "      <th>Гатчина</th>\n",
       "      <td>68746</td>\n",
       "    </tr>\n",
       "    <tr>\n",
       "      <th>Всеволожск</th>\n",
       "      <td>68654</td>\n",
       "    </tr>\n",
       "    <tr>\n",
       "      <th>Выборг</th>\n",
       "      <td>58141</td>\n",
       "    </tr>\n",
       "  </tbody>\n",
       "</table>\n",
       "</div>"
      ],
      "text/plain": [
       "                   price_per_1m2\n",
       "locality_name                   \n",
       "Санкт-Петербург           114849\n",
       "Пушкин                    103125\n",
       "деревня Кудрово            92473\n",
       "поселок Парголово          90175\n",
       "поселок Мурино             85681\n",
       "поселок Шушары             78677\n",
       "Колпино                    75424\n",
       "Гатчина                    68746\n",
       "Всеволожск                 68654\n",
       "Выборг                     58141"
      ]
     },
     "metadata": {},
     "output_type": "display_data"
    }
   ],
   "source": [
    "#средняя цена одного квадратного метра в 10 населённых пунктах с наибольшим числом объявлений.\n",
    "#населённые пункты с самой высокой и самой низкой стоимостью квадратного метра\n",
    "city_10 = data['locality_name'].value_counts().head(10)\n",
    "city_m2_price = data.query('locality_name in (@city_10.index)').pivot_table(values='price_per_1m2', index='locality_name')\n",
    "city_m2_price = city_m2_price.astype(int)\n",
    "display('Cредняя цена одного квадратного метра в 10 населённых пунктах с наибольшим числом объявлений:', city_m2_price.sort_values('price_per_1m2', ascending=False))"
   ]
  },
  {
   "cell_type": "code",
   "execution_count": 287,
   "metadata": {},
   "outputs": [
    {
     "data": {
      "text/plain": [
       "<AxesSubplot:xlabel='center_km'>"
      ]
     },
     "execution_count": 287,
     "metadata": {},
     "output_type": "execute_result"
    },
    {
     "data": {
      "image/png": "[encoded data removed]",
      "text/plain": [
       "<Figure size 720x360 with 1 Axes>"
      ]
     },
     "metadata": {
      "needs_background": "light"
     },
     "output_type": "display_data"
    }
   ],
   "source": [
    "#выделите квартиры в Санкт-Петербурге с помощью столбца `locality_name` и вычислите среднюю цену \n",
    "#каждого километра. Опишите, как стоимость объектов зависит от расстояния до центра города.\"\n",
    "data_SP = data.query('locality_name == \"Санкт-Петербург\"')\n",
    "\n",
    "# Выбираем Санкт-Петербург, смотрим на график, где указана средняя стоимость для каждого км\n",
    "data_SP.pivot_table(index= 'center_km', values='last_price').plot(grid=True, style='o-', figsize=(10, 5))\n",
    "\n"
   ]
  },
  {
   "cell_type": "markdown",
   "metadata": {},
   "source": [
    "Чем ближе к центре Санкт-Петербурга расположен объект недвижимости, тем он дороже его стоимость."
   ]
  },
  {
   "cell_type": "markdown",
   "metadata": {},
   "source": [
    "### Общий вывод"
   ]
  },
  {
   "cell_type": "markdown",
   "metadata": {},
   "source": [
    "Срок продажи квартиры\n",
    "\n",
    "Чаще всего квартиру продают за 157 дней. Если меньше 22 дней, то это быстро, если дольше 199 дней - это долго.\n",
    "Есть большое число квартир, проданных всего за несколько дней после публикации.\n",
    "Также есть варианты, которые продавались несколько десятков месяцев.\n",
    "\n",
    "Факторы, влияющие на стоимость\n",
    "\n",
    "На стоимость больше влияет площадь квартиры, нежели число комнат. Т.е. могут быть дорогие квартиры с малым числом комнат, но где комнаты просторные.\n",
    "Первый этаж значительно дешевле остальных вариантов. Также стоимость квартиры на последнем этаже ниже, чем на остальных, кроме первого.\n",
    "Стоимость квадратного метра в топ-10 населённых пунктов\n",
    "\n",
    "Дороже всего квадратный метр в Санкт-Петербург- 114 849\n",
    "Дешевле всего квадратный метр в деревне Выборг\t - 58 141\n",
    "\n",
    "Факторы, влияющие на стоимость в центре Санкт-Петербурга\n",
    "\n",
    "Чем ближе квартира расположена к центру города, тем выше ее стоимость."
   ]
  },
  {
   "cell_type": "code",
   "execution_count": null,
   "metadata": {},
   "outputs": [],
   "source": []
  }
 ],
 "metadata": {
  "ExecuteTimeLog": [
   {
    "duration": 740,
    "start_time": "2022-10-08T11:36:48.709Z"
   },
   {
    "duration": 182,
    "start_time": "2022-10-08T11:38:40.873Z"
   },
   {
    "duration": 168,
    "start_time": "2022-10-08T11:41:12.537Z"
   },
   {
    "duration": 217,
    "start_time": "2022-10-08T11:41:51.891Z"
   },
   {
    "duration": 4220,
    "start_time": "2022-10-08T11:43:46.876Z"
   },
   {
    "duration": 11,
    "start_time": "2022-10-08T11:52:39.563Z"
   },
   {
    "duration": 34,
    "start_time": "2022-10-08T11:58:01.683Z"
   },
   {
    "duration": 24,
    "start_time": "2022-10-08T12:01:37.043Z"
   },
   {
    "duration": 10,
    "start_time": "2022-10-08T12:02:08.736Z"
   },
   {
    "duration": 16,
    "start_time": "2022-10-08T12:03:24.840Z"
   },
   {
    "duration": 15,
    "start_time": "2022-10-08T12:03:34.154Z"
   },
   {
    "duration": 18,
    "start_time": "2022-10-08T12:04:25.710Z"
   },
   {
    "duration": 11,
    "start_time": "2022-10-08T12:04:40.863Z"
   },
   {
    "duration": 14,
    "start_time": "2022-10-08T12:05:11.149Z"
   },
   {
    "duration": 15,
    "start_time": "2022-10-08T12:05:39.310Z"
   },
   {
    "duration": 16,
    "start_time": "2022-10-08T12:06:05.441Z"
   },
   {
    "duration": 19,
    "start_time": "2022-10-08T12:06:51.849Z"
   },
   {
    "duration": 13,
    "start_time": "2022-10-08T12:07:13.446Z"
   },
   {
    "duration": 20,
    "start_time": "2022-10-08T12:07:47.522Z"
   },
   {
    "duration": 25,
    "start_time": "2022-10-08T12:08:01.973Z"
   },
   {
    "duration": 29,
    "start_time": "2022-10-08T12:08:29.156Z"
   },
   {
    "duration": 16,
    "start_time": "2022-10-08T12:08:58.228Z"
   },
   {
    "duration": 25,
    "start_time": "2022-10-08T12:09:21.962Z"
   },
   {
    "duration": 18,
    "start_time": "2022-10-08T12:09:53.966Z"
   },
   {
    "duration": 134,
    "start_time": "2022-10-08T12:12:42.935Z"
   },
   {
    "duration": 48,
    "start_time": "2022-10-11T10:19:58.618Z"
   },
   {
    "duration": 3310,
    "start_time": "2022-10-11T10:20:08.849Z"
   },
   {
    "duration": 11,
    "start_time": "2022-10-11T10:20:18.519Z"
   },
   {
    "duration": 9,
    "start_time": "2022-10-11T10:23:10.539Z"
   },
   {
    "duration": 6,
    "start_time": "2022-10-11T10:23:20.608Z"
   },
   {
    "duration": 72,
    "start_time": "2022-10-11T10:23:28.776Z"
   },
   {
    "duration": 18,
    "start_time": "2022-10-11T10:24:46.283Z"
   },
   {
    "duration": 1246,
    "start_time": "2022-10-11T10:26:52.567Z"
   },
   {
    "duration": 9,
    "start_time": "2022-10-11T10:27:06.515Z"
   },
   {
    "duration": 15,
    "start_time": "2022-10-11T10:27:20.585Z"
   },
   {
    "duration": 12,
    "start_time": "2022-10-11T10:30:50.093Z"
   },
   {
    "duration": 112,
    "start_time": "2022-10-11T10:32:29.704Z"
   },
   {
    "duration": 10,
    "start_time": "2022-10-11T10:32:44.138Z"
   },
   {
    "duration": 29,
    "start_time": "2022-10-11T10:33:34.663Z"
   },
   {
    "duration": 26,
    "start_time": "2022-10-11T10:33:42.296Z"
   },
   {
    "duration": 27,
    "start_time": "2022-10-11T10:34:13.119Z"
   },
   {
    "duration": 17,
    "start_time": "2022-10-11T10:34:26.282Z"
   },
   {
    "duration": 27,
    "start_time": "2022-10-11T10:35:14.090Z"
   },
   {
    "duration": 25,
    "start_time": "2022-10-11T10:35:21.657Z"
   },
   {
    "duration": 28,
    "start_time": "2022-10-11T10:37:04.204Z"
   },
   {
    "duration": 25,
    "start_time": "2022-10-11T10:38:12.211Z"
   },
   {
    "duration": 11,
    "start_time": "2022-10-11T10:39:55.438Z"
   },
   {
    "duration": 12,
    "start_time": "2022-10-11T10:44:11.978Z"
   },
   {
    "duration": 11,
    "start_time": "2022-10-11T10:44:23.553Z"
   },
   {
    "duration": 9,
    "start_time": "2022-10-11T10:44:47.307Z"
   },
   {
    "duration": 17,
    "start_time": "2022-10-11T10:57:57.031Z"
   },
   {
    "duration": 16,
    "start_time": "2022-10-11T10:58:33.051Z"
   },
   {
    "duration": 18,
    "start_time": "2022-10-11T10:59:53.128Z"
   },
   {
    "duration": 14,
    "start_time": "2022-10-11T11:00:11.181Z"
   },
   {
    "duration": 56,
    "start_time": "2022-10-11T11:00:32.018Z"
   },
   {
    "duration": 204,
    "start_time": "2022-10-11T11:03:11.572Z"
   },
   {
    "duration": 108,
    "start_time": "2022-10-11T11:03:20.682Z"
   },
   {
    "duration": 205,
    "start_time": "2022-10-11T11:07:19.131Z"
   },
   {
    "duration": 120,
    "start_time": "2022-10-11T11:07:25.429Z"
   },
   {
    "duration": 131,
    "start_time": "2022-10-11T11:07:54.147Z"
   },
   {
    "duration": 133,
    "start_time": "2022-10-11T11:08:54.041Z"
   },
   {
    "duration": 126,
    "start_time": "2022-10-11T11:09:25.011Z"
   },
   {
    "duration": 146,
    "start_time": "2022-10-11T11:11:28.657Z"
   },
   {
    "duration": 22,
    "start_time": "2022-10-11T11:11:40.857Z"
   },
   {
    "duration": 116,
    "start_time": "2022-10-11T11:11:58.607Z"
   },
   {
    "duration": 125,
    "start_time": "2022-10-11T11:12:24.678Z"
   },
   {
    "duration": 120,
    "start_time": "2022-10-11T11:12:37.592Z"
   },
   {
    "duration": 160,
    "start_time": "2022-10-11T11:14:12.206Z"
   },
   {
    "duration": 162,
    "start_time": "2022-10-11T11:17:02.944Z"
   },
   {
    "duration": 176,
    "start_time": "2022-10-11T11:17:15.528Z"
   },
   {
    "duration": 162,
    "start_time": "2022-10-11T11:19:12.859Z"
   },
   {
    "duration": 173,
    "start_time": "2022-10-11T11:34:27.030Z"
   },
   {
    "duration": 66,
    "start_time": "2022-10-11T11:38:45.335Z"
   },
   {
    "duration": 113,
    "start_time": "2022-10-11T11:39:03.843Z"
   },
   {
    "duration": 723,
    "start_time": "2022-10-11T11:39:10.211Z"
   },
   {
    "duration": 308,
    "start_time": "2022-10-11T11:39:17.865Z"
   },
   {
    "duration": 170,
    "start_time": "2022-10-11T11:42:36.920Z"
   },
   {
    "duration": 174,
    "start_time": "2022-10-11T11:42:44.537Z"
   },
   {
    "duration": 163,
    "start_time": "2022-10-17T21:03:55.880Z"
   },
   {
    "duration": 177,
    "start_time": "2022-10-17T21:05:43.134Z"
   },
   {
    "duration": 157,
    "start_time": "2022-10-17T21:06:25.258Z"
   },
   {
    "duration": 469,
    "start_time": "2022-10-17T21:07:17.346Z"
   },
   {
    "duration": 170,
    "start_time": "2022-10-17T21:07:25.712Z"
   },
   {
    "duration": 171,
    "start_time": "2022-10-17T21:08:35.871Z"
   },
   {
    "duration": 156,
    "start_time": "2022-10-17T21:09:12.991Z"
   },
   {
    "duration": 238,
    "start_time": "2022-10-17T21:09:27.528Z"
   },
   {
    "duration": 148,
    "start_time": "2022-10-17T21:09:41.299Z"
   },
   {
    "duration": 154,
    "start_time": "2022-10-17T21:10:09.866Z"
   },
   {
    "duration": 173,
    "start_time": "2022-10-17T21:11:14.589Z"
   },
   {
    "duration": 154,
    "start_time": "2022-10-17T21:14:29.703Z"
   },
   {
    "duration": 155,
    "start_time": "2022-10-17T21:15:04.764Z"
   },
   {
    "duration": 155,
    "start_time": "2022-10-17T21:15:14.832Z"
   },
   {
    "duration": 155,
    "start_time": "2022-10-17T21:15:57.806Z"
   },
   {
    "duration": 172,
    "start_time": "2022-10-17T21:20:18.782Z"
   },
   {
    "duration": 162,
    "start_time": "2022-10-17T21:20:33.900Z"
   },
   {
    "duration": 35,
    "start_time": "2022-10-17T21:25:41.518Z"
   },
   {
    "duration": 35,
    "start_time": "2022-10-17T21:27:05.012Z"
   },
   {
    "duration": 43,
    "start_time": "2022-10-17T21:29:35.777Z"
   },
   {
    "duration": 29,
    "start_time": "2022-10-17T21:29:58.529Z"
   },
   {
    "duration": 108,
    "start_time": "2022-10-17T21:30:04.463Z"
   },
   {
    "duration": 2028,
    "start_time": "2022-10-17T21:30:06.815Z"
   },
   {
    "duration": 176,
    "start_time": "2022-10-17T21:30:08.845Z"
   },
   {
    "duration": 74,
    "start_time": "2022-10-17T21:30:09.024Z"
   },
   {
    "duration": 0,
    "start_time": "2022-10-17T21:30:09.100Z"
   },
   {
    "duration": 28,
    "start_time": "2022-10-17T21:30:17.618Z"
   },
   {
    "duration": 121,
    "start_time": "2022-10-17T21:30:31.800Z"
   },
   {
    "duration": 60,
    "start_time": "2022-10-18T07:30:12.117Z"
   },
   {
    "duration": 2213,
    "start_time": "2022-10-18T07:30:19.098Z"
   },
   {
    "duration": 221,
    "start_time": "2022-10-18T07:30:21.314Z"
   },
   {
    "duration": 70,
    "start_time": "2022-10-18T07:30:21.538Z"
   },
   {
    "duration": 0,
    "start_time": "2022-10-18T07:30:21.610Z"
   },
   {
    "duration": 110,
    "start_time": "2022-10-18T08:00:47.378Z"
   },
   {
    "duration": 19,
    "start_time": "2022-10-18T08:13:02.475Z"
   },
   {
    "duration": 26,
    "start_time": "2022-10-18T08:13:44.714Z"
   },
   {
    "duration": 24,
    "start_time": "2022-10-18T08:14:21.700Z"
   },
   {
    "duration": 19,
    "start_time": "2022-10-18T08:14:58.326Z"
   },
   {
    "duration": 19,
    "start_time": "2022-10-18T08:16:18.397Z"
   },
   {
    "duration": 18,
    "start_time": "2022-10-18T08:16:36.450Z"
   },
   {
    "duration": 26,
    "start_time": "2022-10-18T08:19:42.172Z"
   },
   {
    "duration": 16,
    "start_time": "2022-10-18T08:20:24.727Z"
   },
   {
    "duration": 17,
    "start_time": "2022-10-18T08:20:53.848Z"
   },
   {
    "duration": 27,
    "start_time": "2022-10-18T08:21:23.932Z"
   },
   {
    "duration": 12,
    "start_time": "2022-10-18T08:21:43.018Z"
   },
   {
    "duration": 15,
    "start_time": "2022-10-18T08:22:38.608Z"
   },
   {
    "duration": 31,
    "start_time": "2022-10-18T08:26:50.292Z"
   },
   {
    "duration": 3,
    "start_time": "2022-10-18T08:27:15.758Z"
   },
   {
    "duration": 144,
    "start_time": "2022-10-18T08:45:22.170Z"
   },
   {
    "duration": 3,
    "start_time": "2022-10-18T08:45:22.317Z"
   },
   {
    "duration": 1017,
    "start_time": "2022-10-18T08:45:22.322Z"
   },
   {
    "duration": 0,
    "start_time": "2022-10-18T08:45:23.341Z"
   },
   {
    "duration": 1,
    "start_time": "2022-10-18T08:45:23.342Z"
   },
   {
    "duration": 33,
    "start_time": "2022-10-18T08:46:20.624Z"
   },
   {
    "duration": 30,
    "start_time": "2022-10-18T08:47:37.016Z"
   },
   {
    "duration": 11,
    "start_time": "2022-10-18T08:48:29.535Z"
   },
   {
    "duration": 100,
    "start_time": "2022-10-18T08:48:41.168Z"
   },
   {
    "duration": 6,
    "start_time": "2022-10-18T08:49:04.305Z"
   },
   {
    "duration": 32,
    "start_time": "2022-10-18T08:49:15.641Z"
   },
   {
    "duration": 28,
    "start_time": "2022-10-18T08:49:53.230Z"
   },
   {
    "duration": 9,
    "start_time": "2022-10-18T08:50:14.144Z"
   },
   {
    "duration": 4,
    "start_time": "2022-10-18T08:50:49.833Z"
   },
   {
    "duration": 27,
    "start_time": "2022-10-18T08:50:51.920Z"
   },
   {
    "duration": 30,
    "start_time": "2022-10-18T08:51:44.326Z"
   },
   {
    "duration": 133,
    "start_time": "2022-10-18T08:52:17.697Z"
   },
   {
    "duration": 34,
    "start_time": "2022-10-18T08:52:51.000Z"
   },
   {
    "duration": 44,
    "start_time": "2022-10-18T08:53:14.121Z"
   },
   {
    "duration": 30,
    "start_time": "2022-10-18T08:53:32.586Z"
   },
   {
    "duration": 44,
    "start_time": "2022-10-18T08:55:57.721Z"
   },
   {
    "duration": 37,
    "start_time": "2022-10-18T08:56:39.096Z"
   },
   {
    "duration": 34,
    "start_time": "2022-10-18T08:57:20.399Z"
   },
   {
    "duration": 357,
    "start_time": "2022-10-18T08:57:56.668Z"
   },
   {
    "duration": 493,
    "start_time": "2022-10-18T08:58:19.119Z"
   },
   {
    "duration": 307,
    "start_time": "2022-10-18T09:04:49.441Z"
   },
   {
    "duration": 397,
    "start_time": "2022-10-18T09:08:35.687Z"
   },
   {
    "duration": 506,
    "start_time": "2022-10-18T09:08:46.839Z"
   },
   {
    "duration": 714,
    "start_time": "2022-10-18T09:09:23.941Z"
   },
   {
    "duration": 16,
    "start_time": "2022-10-18T09:20:21.240Z"
   },
   {
    "duration": 1318,
    "start_time": "2022-10-18T09:21:31.812Z"
   },
   {
    "duration": 1002,
    "start_time": "2022-10-18T09:21:49.682Z"
   },
   {
    "duration": 8,
    "start_time": "2022-10-18T09:22:37.233Z"
   },
   {
    "duration": 197,
    "start_time": "2022-10-18T09:24:18.780Z"
   },
   {
    "duration": 185,
    "start_time": "2022-10-18T09:25:50.090Z"
   },
   {
    "duration": 354,
    "start_time": "2022-10-18T09:32:00.158Z"
   },
   {
    "duration": 385,
    "start_time": "2022-10-18T09:33:09.533Z"
   },
   {
    "duration": 550,
    "start_time": "2022-10-18T09:35:32.582Z"
   },
   {
    "duration": 352,
    "start_time": "2022-10-18T09:36:18.849Z"
   },
   {
    "duration": 29,
    "start_time": "2022-10-18T09:50:28.934Z"
   },
   {
    "duration": 29,
    "start_time": "2022-10-18T09:50:43.146Z"
   },
   {
    "duration": 195,
    "start_time": "2022-10-18T10:00:27.531Z"
   },
   {
    "duration": 349,
    "start_time": "2022-10-18T10:03:34.512Z"
   },
   {
    "duration": 325,
    "start_time": "2022-10-18T10:03:51.434Z"
   },
   {
    "duration": 327,
    "start_time": "2022-10-18T10:04:04.132Z"
   },
   {
    "duration": 192,
    "start_time": "2022-10-18T10:09:42.671Z"
   },
   {
    "duration": 343,
    "start_time": "2022-10-18T10:10:46.345Z"
   },
   {
    "duration": 218,
    "start_time": "2022-10-18T10:11:05.232Z"
   },
   {
    "duration": 9,
    "start_time": "2022-10-18T10:13:33.915Z"
   },
   {
    "duration": 216,
    "start_time": "2022-10-18T10:14:29.019Z"
   },
   {
    "duration": 228,
    "start_time": "2022-10-18T10:15:03.940Z"
   },
   {
    "duration": 1908,
    "start_time": "2022-10-18T10:16:51.603Z"
   },
   {
    "duration": 307,
    "start_time": "2022-10-18T10:17:04.349Z"
   },
   {
    "duration": 462,
    "start_time": "2022-10-18T10:17:15.686Z"
   },
   {
    "duration": 2591,
    "start_time": "2022-10-18T10:21:00.865Z"
   },
   {
    "duration": 193,
    "start_time": "2022-10-18T10:21:43.800Z"
   },
   {
    "duration": 190,
    "start_time": "2022-10-18T10:22:34.631Z"
   },
   {
    "duration": 271,
    "start_time": "2022-10-18T10:23:05.292Z"
   },
   {
    "duration": 435,
    "start_time": "2022-10-18T10:24:08.813Z"
   },
   {
    "duration": 241,
    "start_time": "2022-10-18T10:25:33.643Z"
   },
   {
    "duration": 228,
    "start_time": "2022-10-18T10:28:06.576Z"
   },
   {
    "duration": 184,
    "start_time": "2022-10-18T10:30:06.806Z"
   },
   {
    "duration": 1053,
    "start_time": "2022-10-18T10:30:39.609Z"
   },
   {
    "duration": 306,
    "start_time": "2022-10-18T10:30:46.144Z"
   },
   {
    "duration": 268,
    "start_time": "2022-10-18T10:30:56.693Z"
   },
   {
    "duration": 265,
    "start_time": "2022-10-18T10:31:08.738Z"
   },
   {
    "duration": 227,
    "start_time": "2022-10-18T10:32:01.053Z"
   },
   {
    "duration": 180,
    "start_time": "2022-10-18T10:33:23.780Z"
   },
   {
    "duration": 198,
    "start_time": "2022-10-18T10:34:41.936Z"
   },
   {
    "duration": 151,
    "start_time": "2022-10-18T10:37:27.873Z"
   },
   {
    "duration": 147,
    "start_time": "2022-10-18T10:39:52.139Z"
   },
   {
    "duration": 180,
    "start_time": "2022-10-18T10:40:02.239Z"
   },
   {
    "duration": 202,
    "start_time": "2022-10-18T10:42:05.320Z"
   },
   {
    "duration": 3,
    "start_time": "2022-10-18T10:42:33.391Z"
   },
   {
    "duration": 7,
    "start_time": "2022-10-18T10:44:25.317Z"
   },
   {
    "duration": 6,
    "start_time": "2022-10-18T10:44:37.133Z"
   },
   {
    "duration": 172,
    "start_time": "2022-10-18T10:44:56.606Z"
   },
   {
    "duration": 3,
    "start_time": "2022-10-18T10:46:26.433Z"
   },
   {
    "duration": 808,
    "start_time": "2022-10-18T10:46:31.865Z"
   },
   {
    "duration": 1079,
    "start_time": "2022-10-18T10:47:09.020Z"
   },
   {
    "duration": 727,
    "start_time": "2022-10-18T10:48:42.230Z"
   },
   {
    "duration": 105,
    "start_time": "2022-10-18T10:48:54.065Z"
   },
   {
    "duration": 3,
    "start_time": "2022-10-18T10:48:54.172Z"
   },
   {
    "duration": 61,
    "start_time": "2022-10-18T10:48:54.177Z"
   },
   {
    "duration": 0,
    "start_time": "2022-10-18T10:48:54.240Z"
   },
   {
    "duration": 0,
    "start_time": "2022-10-18T10:48:54.242Z"
   },
   {
    "duration": 869,
    "start_time": "2022-10-18T10:49:01.815Z"
   },
   {
    "duration": 858,
    "start_time": "2022-10-18T10:49:16.069Z"
   },
   {
    "duration": 898,
    "start_time": "2022-10-18T10:50:11.358Z"
   },
   {
    "duration": 194,
    "start_time": "2022-10-18T10:50:31.284Z"
   },
   {
    "duration": 775,
    "start_time": "2022-10-18T10:50:51.127Z"
   },
   {
    "duration": 174,
    "start_time": "2022-10-18T10:50:57.713Z"
   },
   {
    "duration": 62,
    "start_time": "2022-10-18T10:52:11.423Z"
   },
   {
    "duration": 64,
    "start_time": "2022-10-18T10:52:41.285Z"
   },
   {
    "duration": 207,
    "start_time": "2022-10-18T10:52:48.492Z"
   },
   {
    "duration": 18,
    "start_time": "2022-10-18T10:52:53.276Z"
   },
   {
    "duration": 637,
    "start_time": "2022-10-18T10:55:10.179Z"
   },
   {
    "duration": 342,
    "start_time": "2022-10-18T10:56:16.717Z"
   },
   {
    "duration": 15,
    "start_time": "2022-10-18T10:59:54.070Z"
   },
   {
    "duration": 12,
    "start_time": "2022-10-18T10:59:59.630Z"
   },
   {
    "duration": 32,
    "start_time": "2022-10-18T11:00:28.875Z"
   },
   {
    "duration": 11,
    "start_time": "2022-10-18T11:03:40.549Z"
   },
   {
    "duration": 129,
    "start_time": "2022-10-18T11:07:39.293Z"
   },
   {
    "duration": 65,
    "start_time": "2022-10-18T11:14:25.357Z"
   },
   {
    "duration": 149,
    "start_time": "2022-10-18T11:14:58.039Z"
   },
   {
    "duration": 59,
    "start_time": "2022-10-18T11:15:36.243Z"
   },
   {
    "duration": 75,
    "start_time": "2022-10-18T11:16:03.796Z"
   },
   {
    "duration": 248,
    "start_time": "2022-10-18T11:16:24.215Z"
   },
   {
    "duration": 195,
    "start_time": "2022-10-18T11:16:44.102Z"
   },
   {
    "duration": 277,
    "start_time": "2022-10-18T11:17:01.219Z"
   },
   {
    "duration": 302,
    "start_time": "2022-10-18T11:17:08.654Z"
   },
   {
    "duration": 259,
    "start_time": "2022-10-18T11:17:15.154Z"
   },
   {
    "duration": 269,
    "start_time": "2022-10-18T11:17:20.788Z"
   },
   {
    "duration": 253,
    "start_time": "2022-10-18T11:17:27.288Z"
   },
   {
    "duration": 263,
    "start_time": "2022-10-18T11:27:00.371Z"
   },
   {
    "duration": 711,
    "start_time": "2022-10-18T11:27:32.040Z"
   },
   {
    "duration": 154,
    "start_time": "2022-10-18T11:29:37.068Z"
   },
   {
    "duration": 281,
    "start_time": "2022-10-18T11:30:07.540Z"
   },
   {
    "duration": 216,
    "start_time": "2022-10-18T11:30:16.842Z"
   },
   {
    "duration": 200,
    "start_time": "2022-10-18T11:30:29.425Z"
   },
   {
    "duration": 3,
    "start_time": "2022-10-18T11:30:29.627Z"
   },
   {
    "duration": 25,
    "start_time": "2022-10-18T11:30:29.631Z"
   },
   {
    "duration": 5,
    "start_time": "2022-10-18T11:30:29.658Z"
   },
   {
    "duration": 5,
    "start_time": "2022-10-18T11:30:29.665Z"
   },
   {
    "duration": 13,
    "start_time": "2022-10-18T11:31:45.086Z"
   },
   {
    "duration": 11,
    "start_time": "2022-10-18T11:33:00.644Z"
   },
   {
    "duration": 13,
    "start_time": "2022-10-18T11:33:57.866Z"
   },
   {
    "duration": 11,
    "start_time": "2022-10-18T11:34:03.584Z"
   },
   {
    "duration": 1867,
    "start_time": "2022-10-18T11:34:24.353Z"
   },
   {
    "duration": 156,
    "start_time": "2022-10-18T11:34:53.821Z"
   },
   {
    "duration": 211,
    "start_time": "2022-10-18T11:37:07.537Z"
   },
   {
    "duration": 163,
    "start_time": "2022-10-18T11:38:36.481Z"
   },
   {
    "duration": 210,
    "start_time": "2022-10-18T11:38:55.282Z"
   },
   {
    "duration": 333,
    "start_time": "2022-10-18T11:39:32.568Z"
   },
   {
    "duration": 12,
    "start_time": "2022-10-18T11:45:11.482Z"
   },
   {
    "duration": 200,
    "start_time": "2022-10-18T11:45:20.841Z"
   },
   {
    "duration": 2415,
    "start_time": "2022-10-18T11:45:45.427Z"
   },
   {
    "duration": 212,
    "start_time": "2022-10-18T11:46:03.926Z"
   },
   {
    "duration": 137,
    "start_time": "2022-10-18T11:46:14.064Z"
   },
   {
    "duration": 160,
    "start_time": "2022-10-18T11:47:50.460Z"
   },
   {
    "duration": 143,
    "start_time": "2022-10-18T11:49:43.470Z"
   },
   {
    "duration": 184,
    "start_time": "2022-10-18T11:52:02.054Z"
   },
   {
    "duration": 316,
    "start_time": "2022-10-18T11:52:30.219Z"
   },
   {
    "duration": 922,
    "start_time": "2022-10-18T11:54:40.038Z"
   },
   {
    "duration": 566,
    "start_time": "2022-10-18T11:54:51.422Z"
   },
   {
    "duration": 301,
    "start_time": "2022-10-18T11:55:30.400Z"
   },
   {
    "duration": 255,
    "start_time": "2022-10-18T11:55:58.980Z"
   },
   {
    "duration": 328,
    "start_time": "2022-10-18T11:56:01.663Z"
   },
   {
    "duration": 243,
    "start_time": "2022-10-18T12:02:01.654Z"
   },
   {
    "duration": 153,
    "start_time": "2022-10-18T12:02:22.021Z"
   },
   {
    "duration": 167,
    "start_time": "2022-10-18T12:03:05.526Z"
   },
   {
    "duration": 157,
    "start_time": "2022-10-18T12:04:28.568Z"
   },
   {
    "duration": 167,
    "start_time": "2022-10-18T12:08:54.890Z"
   },
   {
    "duration": 188,
    "start_time": "2022-10-18T12:09:11.789Z"
   },
   {
    "duration": 210,
    "start_time": "2022-10-18T12:09:32.474Z"
   },
   {
    "duration": 201,
    "start_time": "2022-10-18T12:11:11.519Z"
   },
   {
    "duration": 147,
    "start_time": "2022-10-18T12:11:21.866Z"
   },
   {
    "duration": 965,
    "start_time": "2022-10-18T12:42:03.689Z"
   },
   {
    "duration": 831,
    "start_time": "2022-10-18T12:42:18.391Z"
   },
   {
    "duration": 783,
    "start_time": "2022-10-18T12:43:40.060Z"
   },
   {
    "duration": 126,
    "start_time": "2022-10-18T12:44:03.430Z"
   },
   {
    "duration": 4,
    "start_time": "2022-10-18T12:44:03.558Z"
   },
   {
    "duration": 237,
    "start_time": "2022-10-18T12:44:03.564Z"
   },
   {
    "duration": 32,
    "start_time": "2022-10-18T12:44:03.803Z"
   },
   {
    "duration": 17,
    "start_time": "2022-10-18T12:44:03.837Z"
   },
   {
    "duration": 18,
    "start_time": "2022-10-18T12:44:03.856Z"
   },
   {
    "duration": 8,
    "start_time": "2022-10-18T12:44:03.876Z"
   },
   {
    "duration": 6,
    "start_time": "2022-10-18T12:44:03.887Z"
   },
   {
    "duration": 5,
    "start_time": "2022-10-18T12:44:03.895Z"
   },
   {
    "duration": 402,
    "start_time": "2022-10-18T12:44:03.903Z"
   },
   {
    "duration": 163,
    "start_time": "2022-10-18T12:44:04.307Z"
   },
   {
    "duration": 674,
    "start_time": "2022-10-18T12:44:04.472Z"
   },
   {
    "duration": 202,
    "start_time": "2022-10-18T12:44:05.155Z"
   },
   {
    "duration": 88,
    "start_time": "2022-10-18T12:44:05.358Z"
   },
   {
    "duration": 0,
    "start_time": "2022-10-18T12:44:05.449Z"
   },
   {
    "duration": 0,
    "start_time": "2022-10-18T12:44:05.450Z"
   },
   {
    "duration": 0,
    "start_time": "2022-10-18T12:44:05.452Z"
   },
   {
    "duration": 0,
    "start_time": "2022-10-18T12:44:05.453Z"
   },
   {
    "duration": 0,
    "start_time": "2022-10-18T12:44:05.454Z"
   },
   {
    "duration": 0,
    "start_time": "2022-10-18T12:44:05.455Z"
   },
   {
    "duration": 0,
    "start_time": "2022-10-18T12:44:05.456Z"
   },
   {
    "duration": 1,
    "start_time": "2022-10-18T12:44:05.457Z"
   },
   {
    "duration": 0,
    "start_time": "2022-10-18T12:44:05.459Z"
   },
   {
    "duration": 0,
    "start_time": "2022-10-18T12:44:05.460Z"
   },
   {
    "duration": 1200,
    "start_time": "2022-10-18T12:44:14.750Z"
   },
   {
    "duration": 1323,
    "start_time": "2022-10-18T12:45:22.809Z"
   },
   {
    "duration": 803,
    "start_time": "2022-10-18T12:46:12.345Z"
   },
   {
    "duration": 827,
    "start_time": "2022-10-18T12:46:59.838Z"
   },
   {
    "duration": 721,
    "start_time": "2022-10-18T12:48:26.628Z"
   },
   {
    "duration": 5,
    "start_time": "2022-10-18T12:48:54.482Z"
   },
   {
    "duration": 249,
    "start_time": "2022-10-18T12:49:31.035Z"
   },
   {
    "duration": 189,
    "start_time": "2022-10-18T12:50:37.442Z"
   },
   {
    "duration": 604,
    "start_time": "2022-10-18T12:52:38.238Z"
   },
   {
    "duration": 1153,
    "start_time": "2022-10-18T12:54:54.605Z"
   },
   {
    "duration": 1132,
    "start_time": "2022-10-18T12:57:03.305Z"
   },
   {
    "duration": 1599,
    "start_time": "2022-10-18T12:57:32.252Z"
   },
   {
    "duration": 163,
    "start_time": "2022-10-18T13:03:46.948Z"
   },
   {
    "duration": 520,
    "start_time": "2022-10-19T07:35:20.639Z"
   },
   {
    "duration": 3,
    "start_time": "2022-10-19T07:35:21.161Z"
   },
   {
    "duration": 167,
    "start_time": "2022-10-19T07:35:21.166Z"
   },
   {
    "duration": 55,
    "start_time": "2022-10-19T07:35:21.336Z"
   },
   {
    "duration": 2,
    "start_time": "2022-10-19T07:35:21.393Z"
   },
   {
    "duration": 9,
    "start_time": "2022-10-19T07:35:21.397Z"
   },
   {
    "duration": 14,
    "start_time": "2022-10-19T07:35:21.407Z"
   },
   {
    "duration": 2,
    "start_time": "2022-10-19T07:35:21.423Z"
   },
   {
    "duration": 9,
    "start_time": "2022-10-19T07:35:21.426Z"
   },
   {
    "duration": 649,
    "start_time": "2022-10-19T07:35:21.437Z"
   },
   {
    "duration": 183,
    "start_time": "2022-10-19T07:35:22.088Z"
   },
   {
    "duration": 184,
    "start_time": "2022-10-19T07:35:22.273Z"
   },
   {
    "duration": 139,
    "start_time": "2022-10-19T07:35:22.459Z"
   },
   {
    "duration": 42,
    "start_time": "2022-10-19T07:35:22.600Z"
   },
   {
    "duration": 0,
    "start_time": "2022-10-19T07:35:22.644Z"
   },
   {
    "duration": 0,
    "start_time": "2022-10-19T07:35:22.645Z"
   },
   {
    "duration": 0,
    "start_time": "2022-10-19T07:35:22.646Z"
   },
   {
    "duration": 0,
    "start_time": "2022-10-19T07:35:22.648Z"
   },
   {
    "duration": 0,
    "start_time": "2022-10-19T07:35:22.649Z"
   },
   {
    "duration": 0,
    "start_time": "2022-10-19T07:35:22.650Z"
   },
   {
    "duration": 0,
    "start_time": "2022-10-19T07:35:22.651Z"
   },
   {
    "duration": 0,
    "start_time": "2022-10-19T07:35:22.653Z"
   },
   {
    "duration": 0,
    "start_time": "2022-10-19T07:35:22.654Z"
   },
   {
    "duration": 0,
    "start_time": "2022-10-19T07:35:22.655Z"
   },
   {
    "duration": 102,
    "start_time": "2022-10-19T07:35:31.278Z"
   },
   {
    "duration": 3,
    "start_time": "2022-10-19T07:35:31.382Z"
   },
   {
    "duration": 187,
    "start_time": "2022-10-19T07:35:31.386Z"
   },
   {
    "duration": 26,
    "start_time": "2022-10-19T07:35:31.575Z"
   },
   {
    "duration": 15,
    "start_time": "2022-10-19T07:35:31.602Z"
   },
   {
    "duration": 27,
    "start_time": "2022-10-19T07:35:31.618Z"
   },
   {
    "duration": 28,
    "start_time": "2022-10-19T07:35:31.646Z"
   },
   {
    "duration": 18,
    "start_time": "2022-10-19T07:35:31.675Z"
   },
   {
    "duration": 15,
    "start_time": "2022-10-19T07:35:31.695Z"
   },
   {
    "duration": 354,
    "start_time": "2022-10-19T07:35:31.712Z"
   },
   {
    "duration": 135,
    "start_time": "2022-10-19T07:35:32.067Z"
   },
   {
    "duration": 178,
    "start_time": "2022-10-19T07:35:32.203Z"
   },
   {
    "duration": 125,
    "start_time": "2022-10-19T07:35:32.382Z"
   },
   {
    "duration": 46,
    "start_time": "2022-10-19T07:35:32.509Z"
   },
   {
    "duration": 0,
    "start_time": "2022-10-19T07:35:32.557Z"
   },
   {
    "duration": 0,
    "start_time": "2022-10-19T07:35:32.558Z"
   },
   {
    "duration": 0,
    "start_time": "2022-10-19T07:35:32.559Z"
   },
   {
    "duration": 0,
    "start_time": "2022-10-19T07:35:32.560Z"
   },
   {
    "duration": 0,
    "start_time": "2022-10-19T07:35:32.561Z"
   },
   {
    "duration": 0,
    "start_time": "2022-10-19T07:35:32.562Z"
   },
   {
    "duration": 0,
    "start_time": "2022-10-19T07:35:32.563Z"
   },
   {
    "duration": 0,
    "start_time": "2022-10-19T07:35:32.564Z"
   },
   {
    "duration": 0,
    "start_time": "2022-10-19T07:35:32.565Z"
   },
   {
    "duration": 0,
    "start_time": "2022-10-19T07:35:32.566Z"
   },
   {
    "duration": 1429,
    "start_time": "2022-10-19T07:35:39.948Z"
   },
   {
    "duration": 1369,
    "start_time": "2022-10-19T07:39:52.461Z"
   },
   {
    "duration": 135,
    "start_time": "2022-10-19T07:41:31.099Z"
   },
   {
    "duration": 127,
    "start_time": "2022-10-19T07:42:56.247Z"
   },
   {
    "duration": 121,
    "start_time": "2022-10-19T07:44:58.574Z"
   },
   {
    "duration": 209,
    "start_time": "2022-10-19T07:45:21.858Z"
   },
   {
    "duration": 177,
    "start_time": "2022-10-19T07:45:46.561Z"
   },
   {
    "duration": 134,
    "start_time": "2022-10-19T07:46:46.604Z"
   },
   {
    "duration": 120,
    "start_time": "2022-10-19T07:46:57.875Z"
   },
   {
    "duration": 297,
    "start_time": "2022-10-19T07:49:06.830Z"
   },
   {
    "duration": 289,
    "start_time": "2022-10-19T07:50:06.834Z"
   },
   {
    "duration": 122,
    "start_time": "2022-10-19T07:50:58.336Z"
   },
   {
    "duration": 123,
    "start_time": "2022-10-19T07:53:00.777Z"
   },
   {
    "duration": 125,
    "start_time": "2022-10-19T07:53:35.082Z"
   },
   {
    "duration": 135,
    "start_time": "2022-10-19T07:54:49.690Z"
   },
   {
    "duration": 458,
    "start_time": "2022-10-19T07:55:07.838Z"
   },
   {
    "duration": 142,
    "start_time": "2022-10-19T07:55:47.314Z"
   },
   {
    "duration": 675,
    "start_time": "2022-10-19T07:56:35.603Z"
   },
   {
    "duration": 213,
    "start_time": "2022-10-19T07:56:41.959Z"
   },
   {
    "duration": 148,
    "start_time": "2022-10-19T07:57:34.974Z"
   },
   {
    "duration": 155,
    "start_time": "2022-10-19T07:58:13.837Z"
   },
   {
    "duration": 136,
    "start_time": "2022-10-19T07:59:00.402Z"
   },
   {
    "duration": 99,
    "start_time": "2022-10-19T08:00:02.483Z"
   },
   {
    "duration": 2,
    "start_time": "2022-10-19T08:00:02.584Z"
   },
   {
    "duration": 178,
    "start_time": "2022-10-19T08:00:02.588Z"
   },
   {
    "duration": 26,
    "start_time": "2022-10-19T08:00:02.768Z"
   },
   {
    "duration": 22,
    "start_time": "2022-10-19T08:00:02.796Z"
   },
   {
    "duration": 34,
    "start_time": "2022-10-19T08:00:02.820Z"
   },
   {
    "duration": 29,
    "start_time": "2022-10-19T08:00:02.855Z"
   },
   {
    "duration": 10,
    "start_time": "2022-10-19T08:00:02.886Z"
   },
   {
    "duration": 26,
    "start_time": "2022-10-19T08:00:02.898Z"
   },
   {
    "duration": 348,
    "start_time": "2022-10-19T08:00:02.926Z"
   },
   {
    "duration": 138,
    "start_time": "2022-10-19T08:00:03.276Z"
   },
   {
    "duration": 188,
    "start_time": "2022-10-19T08:00:03.422Z"
   },
   {
    "duration": 233,
    "start_time": "2022-10-19T08:00:03.612Z"
   },
   {
    "duration": 67,
    "start_time": "2022-10-19T08:00:03.847Z"
   },
   {
    "duration": 0,
    "start_time": "2022-10-19T08:00:03.915Z"
   },
   {
    "duration": 0,
    "start_time": "2022-10-19T08:00:03.916Z"
   },
   {
    "duration": 0,
    "start_time": "2022-10-19T08:00:03.917Z"
   },
   {
    "duration": 0,
    "start_time": "2022-10-19T08:00:03.918Z"
   },
   {
    "duration": 0,
    "start_time": "2022-10-19T08:00:03.919Z"
   },
   {
    "duration": 0,
    "start_time": "2022-10-19T08:00:03.920Z"
   },
   {
    "duration": 0,
    "start_time": "2022-10-19T08:00:03.920Z"
   },
   {
    "duration": 0,
    "start_time": "2022-10-19T08:00:03.921Z"
   },
   {
    "duration": 0,
    "start_time": "2022-10-19T08:00:03.922Z"
   },
   {
    "duration": 0,
    "start_time": "2022-10-19T08:00:03.923Z"
   },
   {
    "duration": 0,
    "start_time": "2022-10-19T08:00:03.924Z"
   },
   {
    "duration": 0,
    "start_time": "2022-10-19T08:00:03.925Z"
   },
   {
    "duration": 0,
    "start_time": "2022-10-19T08:00:03.926Z"
   },
   {
    "duration": 0,
    "start_time": "2022-10-19T08:00:03.927Z"
   },
   {
    "duration": 0,
    "start_time": "2022-10-19T08:00:03.928Z"
   },
   {
    "duration": 0,
    "start_time": "2022-10-19T08:00:03.930Z"
   },
   {
    "duration": 0,
    "start_time": "2022-10-19T08:00:03.931Z"
   },
   {
    "duration": 97,
    "start_time": "2022-10-19T08:00:21.295Z"
   },
   {
    "duration": 3,
    "start_time": "2022-10-19T08:00:21.393Z"
   },
   {
    "duration": 186,
    "start_time": "2022-10-19T08:00:21.397Z"
   },
   {
    "duration": 27,
    "start_time": "2022-10-19T08:00:21.584Z"
   },
   {
    "duration": 9,
    "start_time": "2022-10-19T08:00:21.613Z"
   },
   {
    "duration": 15,
    "start_time": "2022-10-19T08:00:21.623Z"
   },
   {
    "duration": 18,
    "start_time": "2022-10-19T08:00:21.639Z"
   },
   {
    "duration": 19,
    "start_time": "2022-10-19T08:00:21.658Z"
   },
   {
    "duration": 16,
    "start_time": "2022-10-19T08:00:21.679Z"
   },
   {
    "duration": 340,
    "start_time": "2022-10-19T08:00:21.698Z"
   },
   {
    "duration": 137,
    "start_time": "2022-10-19T08:00:22.039Z"
   },
   {
    "duration": 194,
    "start_time": "2022-10-19T08:00:22.178Z"
   },
   {
    "duration": 139,
    "start_time": "2022-10-19T08:00:22.374Z"
   },
   {
    "duration": 125,
    "start_time": "2022-10-19T08:00:22.514Z"
   },
   {
    "duration": 60,
    "start_time": "2022-10-19T08:00:22.641Z"
   },
   {
    "duration": 0,
    "start_time": "2022-10-19T08:00:22.702Z"
   },
   {
    "duration": 0,
    "start_time": "2022-10-19T08:00:22.704Z"
   },
   {
    "duration": 0,
    "start_time": "2022-10-19T08:00:22.706Z"
   },
   {
    "duration": 0,
    "start_time": "2022-10-19T08:00:22.707Z"
   },
   {
    "duration": 0,
    "start_time": "2022-10-19T08:00:22.708Z"
   },
   {
    "duration": 0,
    "start_time": "2022-10-19T08:00:22.710Z"
   },
   {
    "duration": 1,
    "start_time": "2022-10-19T08:00:22.710Z"
   },
   {
    "duration": 0,
    "start_time": "2022-10-19T08:00:22.712Z"
   },
   {
    "duration": 0,
    "start_time": "2022-10-19T08:00:22.713Z"
   },
   {
    "duration": 0,
    "start_time": "2022-10-19T08:00:22.714Z"
   },
   {
    "duration": 0,
    "start_time": "2022-10-19T08:00:22.715Z"
   },
   {
    "duration": 0,
    "start_time": "2022-10-19T08:00:22.716Z"
   },
   {
    "duration": 0,
    "start_time": "2022-10-19T08:00:22.718Z"
   },
   {
    "duration": 0,
    "start_time": "2022-10-19T08:00:22.719Z"
   },
   {
    "duration": 0,
    "start_time": "2022-10-19T08:00:22.721Z"
   },
   {
    "duration": 101,
    "start_time": "2022-10-19T08:00:43.844Z"
   },
   {
    "duration": 3,
    "start_time": "2022-10-19T08:00:43.948Z"
   },
   {
    "duration": 169,
    "start_time": "2022-10-19T08:00:43.953Z"
   },
   {
    "duration": 115,
    "start_time": "2022-10-19T08:00:44.124Z"
   },
   {
    "duration": 2,
    "start_time": "2022-10-19T08:00:44.241Z"
   },
   {
    "duration": 8,
    "start_time": "2022-10-19T08:00:44.244Z"
   },
   {
    "duration": 13,
    "start_time": "2022-10-19T08:00:44.253Z"
   },
   {
    "duration": 6,
    "start_time": "2022-10-19T08:00:44.267Z"
   },
   {
    "duration": 7,
    "start_time": "2022-10-19T08:00:44.275Z"
   },
   {
    "duration": 328,
    "start_time": "2022-10-19T08:00:44.283Z"
   },
   {
    "duration": 136,
    "start_time": "2022-10-19T08:00:44.613Z"
   },
   {
    "duration": 181,
    "start_time": "2022-10-19T08:00:44.750Z"
   },
   {
    "duration": 141,
    "start_time": "2022-10-19T08:00:44.932Z"
   },
   {
    "duration": 119,
    "start_time": "2022-10-19T08:00:45.075Z"
   },
   {
    "duration": 227,
    "start_time": "2022-10-19T08:00:52.336Z"
   },
   {
    "duration": 203,
    "start_time": "2022-10-19T08:01:02.149Z"
   },
   {
    "duration": 103,
    "start_time": "2022-10-19T08:01:07.184Z"
   },
   {
    "duration": 3,
    "start_time": "2022-10-19T08:01:07.289Z"
   },
   {
    "duration": 304,
    "start_time": "2022-10-19T08:01:07.294Z"
   },
   {
    "duration": 41,
    "start_time": "2022-10-19T08:01:07.600Z"
   },
   {
    "duration": 3,
    "start_time": "2022-10-19T08:01:07.643Z"
   },
   {
    "duration": 7,
    "start_time": "2022-10-19T08:01:07.647Z"
   },
   {
    "duration": 7,
    "start_time": "2022-10-19T08:01:07.655Z"
   },
   {
    "duration": 4,
    "start_time": "2022-10-19T08:01:07.664Z"
   },
   {
    "duration": 6,
    "start_time": "2022-10-19T08:01:07.669Z"
   },
   {
    "duration": 333,
    "start_time": "2022-10-19T08:01:07.677Z"
   },
   {
    "duration": 140,
    "start_time": "2022-10-19T08:01:08.012Z"
   },
   {
    "duration": 186,
    "start_time": "2022-10-19T08:01:08.153Z"
   },
   {
    "duration": 128,
    "start_time": "2022-10-19T08:01:08.341Z"
   },
   {
    "duration": 118,
    "start_time": "2022-10-19T08:01:08.471Z"
   },
   {
    "duration": 244,
    "start_time": "2022-10-19T08:01:08.591Z"
   },
   {
    "duration": 258,
    "start_time": "2022-10-19T08:01:08.837Z"
   },
   {
    "duration": 354,
    "start_time": "2022-10-19T08:01:09.097Z"
   },
   {
    "duration": 101,
    "start_time": "2022-10-19T08:01:09.452Z"
   },
   {
    "duration": 0,
    "start_time": "2022-10-19T08:01:09.554Z"
   },
   {
    "duration": 0,
    "start_time": "2022-10-19T08:01:09.555Z"
   },
   {
    "duration": 0,
    "start_time": "2022-10-19T08:01:09.557Z"
   },
   {
    "duration": 0,
    "start_time": "2022-10-19T08:01:09.558Z"
   },
   {
    "duration": 0,
    "start_time": "2022-10-19T08:01:09.558Z"
   },
   {
    "duration": 0,
    "start_time": "2022-10-19T08:01:09.559Z"
   },
   {
    "duration": 0,
    "start_time": "2022-10-19T08:01:09.561Z"
   },
   {
    "duration": 0,
    "start_time": "2022-10-19T08:01:09.561Z"
   },
   {
    "duration": 0,
    "start_time": "2022-10-19T08:01:09.562Z"
   },
   {
    "duration": 0,
    "start_time": "2022-10-19T08:01:09.563Z"
   },
   {
    "duration": 0,
    "start_time": "2022-10-19T08:01:09.564Z"
   },
   {
    "duration": 126,
    "start_time": "2022-10-19T08:01:16.640Z"
   },
   {
    "duration": 122,
    "start_time": "2022-10-19T08:01:23.139Z"
   },
   {
    "duration": 124,
    "start_time": "2022-10-19T08:01:23.643Z"
   },
   {
    "duration": 124,
    "start_time": "2022-10-19T08:01:24.399Z"
   },
   {
    "duration": 124,
    "start_time": "2022-10-19T08:01:24.683Z"
   },
   {
    "duration": 137,
    "start_time": "2022-10-19T08:01:24.915Z"
   },
   {
    "duration": 139,
    "start_time": "2022-10-19T08:01:25.142Z"
   },
   {
    "duration": 138,
    "start_time": "2022-10-19T08:01:25.339Z"
   },
   {
    "duration": 142,
    "start_time": "2022-10-19T08:01:25.541Z"
   },
   {
    "duration": 3,
    "start_time": "2022-10-19T08:01:26.144Z"
   },
   {
    "duration": 2,
    "start_time": "2022-10-19T08:01:26.341Z"
   },
   {
    "duration": 134,
    "start_time": "2022-10-19T08:07:01.374Z"
   },
   {
    "duration": 452,
    "start_time": "2022-10-19T08:07:42.844Z"
   },
   {
    "duration": 158,
    "start_time": "2022-10-19T08:08:12.165Z"
   },
   {
    "duration": 134,
    "start_time": "2022-10-19T08:10:19.996Z"
   },
   {
    "duration": 137,
    "start_time": "2022-10-19T08:10:37.551Z"
   },
   {
    "duration": 185,
    "start_time": "2022-10-19T08:10:48.865Z"
   },
   {
    "duration": 131,
    "start_time": "2022-10-19T08:11:07.617Z"
   },
   {
    "duration": 137,
    "start_time": "2022-10-19T08:11:25.365Z"
   },
   {
    "duration": 127,
    "start_time": "2022-10-19T08:11:40.350Z"
   },
   {
    "duration": 128,
    "start_time": "2022-10-19T08:11:47.506Z"
   },
   {
    "duration": 127,
    "start_time": "2022-10-19T08:11:55.949Z"
   },
   {
    "duration": 17,
    "start_time": "2022-10-19T08:43:36.535Z"
   },
   {
    "duration": 20,
    "start_time": "2022-10-19T08:43:49.277Z"
   },
   {
    "duration": 24,
    "start_time": "2022-10-19T08:44:02.806Z"
   },
   {
    "duration": 29,
    "start_time": "2022-10-19T08:46:24.741Z"
   },
   {
    "duration": 39,
    "start_time": "2022-10-19T08:48:26.339Z"
   },
   {
    "duration": 49,
    "start_time": "2022-10-19T08:48:50.391Z"
   },
   {
    "duration": 59,
    "start_time": "2022-10-19T08:49:06.391Z"
   },
   {
    "duration": 32,
    "start_time": "2022-10-19T08:49:22.220Z"
   },
   {
    "duration": 24,
    "start_time": "2022-10-19T08:49:43.238Z"
   },
   {
    "duration": 22,
    "start_time": "2022-10-19T08:49:58.278Z"
   },
   {
    "duration": 146,
    "start_time": "2022-10-19T08:53:14.370Z"
   },
   {
    "duration": 149,
    "start_time": "2022-10-19T08:53:21.273Z"
   },
   {
    "duration": 145,
    "start_time": "2022-10-19T08:53:27.381Z"
   },
   {
    "duration": 8,
    "start_time": "2022-10-19T08:57:23.221Z"
   },
   {
    "duration": 32,
    "start_time": "2022-10-19T09:00:56.232Z"
   },
   {
    "duration": 26,
    "start_time": "2022-10-19T09:01:15.531Z"
   },
   {
    "duration": 24,
    "start_time": "2022-10-19T09:01:23.461Z"
   },
   {
    "duration": 59,
    "start_time": "2022-10-19T09:02:40.928Z"
   },
   {
    "duration": 82,
    "start_time": "2022-10-19T09:02:53.971Z"
   },
   {
    "duration": 29,
    "start_time": "2022-10-19T09:03:15.790Z"
   },
   {
    "duration": 20,
    "start_time": "2022-10-19T09:03:31.692Z"
   },
   {
    "duration": 50,
    "start_time": "2022-10-19T09:03:44.634Z"
   },
   {
    "duration": 23,
    "start_time": "2022-10-19T09:04:02.845Z"
   },
   {
    "duration": 8,
    "start_time": "2022-10-19T09:06:01.547Z"
   },
   {
    "duration": 8,
    "start_time": "2022-10-19T09:06:22.095Z"
   },
   {
    "duration": 3,
    "start_time": "2022-10-19T09:06:32.045Z"
   },
   {
    "duration": 8,
    "start_time": "2022-10-19T09:08:00.655Z"
   },
   {
    "duration": 11,
    "start_time": "2022-10-19T09:09:41.634Z"
   },
   {
    "duration": 14,
    "start_time": "2022-10-19T09:09:53.338Z"
   },
   {
    "duration": 14,
    "start_time": "2022-10-19T09:20:09.888Z"
   },
   {
    "duration": 12,
    "start_time": "2022-10-19T09:21:09.733Z"
   },
   {
    "duration": 15,
    "start_time": "2022-10-19T09:21:21.173Z"
   },
   {
    "duration": 17,
    "start_time": "2022-10-19T09:21:43.476Z"
   },
   {
    "duration": 17,
    "start_time": "2022-10-19T09:22:01.637Z"
   },
   {
    "duration": 944,
    "start_time": "2022-10-19T09:22:11.750Z"
   },
   {
    "duration": 844,
    "start_time": "2022-10-19T09:22:19.734Z"
   },
   {
    "duration": 12,
    "start_time": "2022-10-19T09:23:18.389Z"
   },
   {
    "duration": 27,
    "start_time": "2022-10-19T09:26:16.308Z"
   },
   {
    "duration": 32,
    "start_time": "2022-10-19T09:30:15.254Z"
   },
   {
    "duration": 37,
    "start_time": "2022-10-19T09:30:42.022Z"
   },
   {
    "duration": 354,
    "start_time": "2022-10-19T09:30:58.035Z"
   },
   {
    "duration": 27,
    "start_time": "2022-10-19T09:56:18.258Z"
   },
   {
    "duration": 30,
    "start_time": "2022-10-19T09:56:44.259Z"
   },
   {
    "duration": 53,
    "start_time": "2022-10-19T09:57:08.648Z"
   },
   {
    "duration": 97,
    "start_time": "2022-10-19T09:58:43.984Z"
   },
   {
    "duration": 82,
    "start_time": "2022-10-19T09:59:03.272Z"
   },
   {
    "duration": 48,
    "start_time": "2022-10-19T09:59:34.191Z"
   },
   {
    "duration": 73,
    "start_time": "2022-10-19T10:00:07.898Z"
   },
   {
    "duration": 49,
    "start_time": "2022-10-19T10:01:03.763Z"
   },
   {
    "duration": 18,
    "start_time": "2022-10-19T10:01:17.749Z"
   },
   {
    "duration": 24,
    "start_time": "2022-10-19T10:02:03.160Z"
   },
   {
    "duration": 26,
    "start_time": "2022-10-19T10:02:06.045Z"
   },
   {
    "duration": 171,
    "start_time": "2022-10-19T10:02:15.749Z"
   },
   {
    "duration": 166,
    "start_time": "2022-10-19T10:02:30.949Z"
   },
   {
    "duration": 146,
    "start_time": "2022-10-19T10:03:36.200Z"
   },
   {
    "duration": 115,
    "start_time": "2022-10-19T10:04:18.369Z"
   },
   {
    "duration": 3,
    "start_time": "2022-10-19T10:04:18.486Z"
   },
   {
    "duration": 183,
    "start_time": "2022-10-19T10:04:18.491Z"
   },
   {
    "duration": 27,
    "start_time": "2022-10-19T10:04:18.676Z"
   },
   {
    "duration": 3,
    "start_time": "2022-10-19T10:04:18.704Z"
   },
   {
    "duration": 2,
    "start_time": "2022-10-19T10:04:18.722Z"
   },
   {
    "duration": 10,
    "start_time": "2022-10-19T10:04:18.726Z"
   },
   {
    "duration": 4,
    "start_time": "2022-10-19T10:04:18.738Z"
   },
   {
    "duration": 3,
    "start_time": "2022-10-19T10:04:18.746Z"
   },
   {
    "duration": 414,
    "start_time": "2022-10-19T10:04:18.750Z"
   },
   {
    "duration": 150,
    "start_time": "2022-10-19T10:04:19.165Z"
   },
   {
    "duration": 184,
    "start_time": "2022-10-19T10:04:19.321Z"
   },
   {
    "duration": 145,
    "start_time": "2022-10-19T10:04:19.507Z"
   },
   {
    "duration": 118,
    "start_time": "2022-10-19T10:04:19.653Z"
   },
   {
    "duration": 249,
    "start_time": "2022-10-19T10:04:19.773Z"
   },
   {
    "duration": 434,
    "start_time": "2022-10-19T10:04:20.023Z"
   },
   {
    "duration": 228,
    "start_time": "2022-10-19T10:04:20.459Z"
   },
   {
    "duration": 144,
    "start_time": "2022-10-19T10:04:20.689Z"
   },
   {
    "duration": 140,
    "start_time": "2022-10-19T10:04:20.834Z"
   },
   {
    "duration": 139,
    "start_time": "2022-10-19T10:04:20.976Z"
   },
   {
    "duration": 136,
    "start_time": "2022-10-19T10:04:21.116Z"
   },
   {
    "duration": 151,
    "start_time": "2022-10-19T10:04:21.254Z"
   },
   {
    "duration": 151,
    "start_time": "2022-10-19T10:04:21.407Z"
   },
   {
    "duration": 144,
    "start_time": "2022-10-19T10:04:21.559Z"
   },
   {
    "duration": 152,
    "start_time": "2022-10-19T10:04:21.704Z"
   },
   {
    "duration": 160,
    "start_time": "2022-10-19T10:04:21.857Z"
   },
   {
    "duration": 145,
    "start_time": "2022-10-19T10:04:22.023Z"
   },
   {
    "duration": 22,
    "start_time": "2022-10-19T10:04:22.170Z"
   },
   {
    "duration": 33,
    "start_time": "2022-10-19T10:04:22.194Z"
   },
   {
    "duration": 23,
    "start_time": "2022-10-19T10:04:22.228Z"
   },
   {
    "duration": 93,
    "start_time": "2022-10-19T10:04:22.363Z"
   },
   {
    "duration": 97,
    "start_time": "2022-10-19T10:04:24.029Z"
   },
   {
    "duration": 2,
    "start_time": "2022-10-19T10:04:27.247Z"
   },
   {
    "duration": 166,
    "start_time": "2022-10-19T10:04:27.251Z"
   },
   {
    "duration": 28,
    "start_time": "2022-10-19T10:04:27.418Z"
   },
   {
    "duration": 2,
    "start_time": "2022-10-19T10:04:27.448Z"
   },
   {
    "duration": 6,
    "start_time": "2022-10-19T10:04:27.452Z"
   },
   {
    "duration": 8,
    "start_time": "2022-10-19T10:04:27.462Z"
   },
   {
    "duration": 10,
    "start_time": "2022-10-19T10:04:27.471Z"
   },
   {
    "duration": 9,
    "start_time": "2022-10-19T10:04:27.483Z"
   },
   {
    "duration": 335,
    "start_time": "2022-10-19T10:04:27.495Z"
   },
   {
    "duration": 140,
    "start_time": "2022-10-19T10:04:27.832Z"
   },
   {
    "duration": 181,
    "start_time": "2022-10-19T10:04:27.974Z"
   },
   {
    "duration": 140,
    "start_time": "2022-10-19T10:04:28.157Z"
   },
   {
    "duration": 114,
    "start_time": "2022-10-19T10:04:28.298Z"
   },
   {
    "duration": 243,
    "start_time": "2022-10-19T10:04:28.413Z"
   },
   {
    "duration": 505,
    "start_time": "2022-10-19T10:04:28.657Z"
   },
   {
    "duration": 222,
    "start_time": "2022-10-19T10:04:29.164Z"
   },
   {
    "duration": 122,
    "start_time": "2022-10-19T10:04:29.388Z"
   },
   {
    "duration": 128,
    "start_time": "2022-10-19T10:04:29.512Z"
   },
   {
    "duration": 130,
    "start_time": "2022-10-19T10:04:29.641Z"
   },
   {
    "duration": 135,
    "start_time": "2022-10-19T10:04:29.772Z"
   },
   {
    "duration": 148,
    "start_time": "2022-10-19T10:04:29.909Z"
   },
   {
    "duration": 135,
    "start_time": "2022-10-19T10:04:30.058Z"
   },
   {
    "duration": 140,
    "start_time": "2022-10-19T10:04:30.194Z"
   },
   {
    "duration": 157,
    "start_time": "2022-10-19T10:04:30.336Z"
   },
   {
    "duration": 160,
    "start_time": "2022-10-19T10:04:30.495Z"
   },
   {
    "duration": 149,
    "start_time": "2022-10-19T10:04:30.657Z"
   },
   {
    "duration": 30,
    "start_time": "2022-10-19T10:04:30.807Z"
   },
   {
    "duration": 28,
    "start_time": "2022-10-19T10:04:30.839Z"
   },
   {
    "duration": 64,
    "start_time": "2022-10-19T10:04:30.869Z"
   },
   {
    "duration": 18,
    "start_time": "2022-10-19T10:05:24.337Z"
   },
   {
    "duration": 169,
    "start_time": "2022-10-19T10:05:55.685Z"
   },
   {
    "duration": 155,
    "start_time": "2022-10-19T10:06:05.233Z"
   },
   {
    "duration": 130,
    "start_time": "2022-10-19T10:08:48.833Z"
   },
   {
    "duration": 160,
    "start_time": "2022-10-19T10:09:31.394Z"
   },
   {
    "duration": 152,
    "start_time": "2022-10-19T10:09:40.636Z"
   },
   {
    "duration": 42,
    "start_time": "2022-10-19T10:11:17.672Z"
   },
   {
    "duration": 482,
    "start_time": "2022-10-19T10:12:02.661Z"
   },
   {
    "duration": 191,
    "start_time": "2022-10-19T10:12:49.141Z"
   },
   {
    "duration": 262,
    "start_time": "2022-10-19T10:13:25.704Z"
   },
   {
    "duration": 137,
    "start_time": "2022-10-19T10:13:50.744Z"
   },
   {
    "duration": 151,
    "start_time": "2022-10-19T10:14:18.562Z"
   },
   {
    "duration": 159,
    "start_time": "2022-10-19T10:14:30.046Z"
   },
   {
    "duration": 38,
    "start_time": "2022-10-19T10:21:19.623Z"
   },
   {
    "duration": 20,
    "start_time": "2022-10-19T10:21:50.748Z"
   },
   {
    "duration": 835,
    "start_time": "2022-10-22T20:26:35.018Z"
   },
   {
    "duration": 2445,
    "start_time": "2022-10-22T20:27:49.476Z"
   },
   {
    "duration": 196,
    "start_time": "2022-10-22T20:37:16.845Z"
   },
   {
    "duration": 100,
    "start_time": "2022-10-22T20:56:22.860Z"
   }
  ],
  "kernelspec": {
   "display_name": "Python 3 (ipykernel)",
   "language": "python",
   "name": "python3"
  },
  "language_info": {
   "codemirror_mode": {
    "name": "ipython",
    "version": 3
   },
   "file_extension": ".py",
   "mimetype": "text/x-python",
   "name": "python",
   "nbconvert_exporter": "python",
   "pygments_lexer": "ipython3",
   "version": "3.9.13"
  },
  "toc": {
   "base_numbering": 1,
   "nav_menu": {},
   "number_sections": true,
   "sideBar": true,
   "skip_h1_title": true,
   "title_cell": "Table of Contents",
   "title_sidebar": "Contents",
   "toc_cell": false,
   "toc_position": {},
   "toc_section_display": true,
   "toc_window_display": false
  }
 },
 "nbformat": 4,
 "nbformat_minor": 2
}
