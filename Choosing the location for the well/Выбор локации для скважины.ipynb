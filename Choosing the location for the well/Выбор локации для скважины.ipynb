{
 "cells": [
  {
   "cell_type": "markdown",
   "metadata": {},
   "source": [
    "# Выбор локации для скважины"
   ]
  },
  {
   "cell_type": "markdown",
   "metadata": {},
   "source": [
    "Предоставлены пробы нефти в трёх регионах: в каждом 10 000 месторождений, где измерили качество нефти и объём её запасов. Постройте модель машинного обучения, которая поможет определить регион, где добыча принесёт наибольшую прибыль. Проанализируйте возможную прибыль и риски техникой *Bootstrap.* Нужно решить, где бурить новую скважину.\n",
    "\n",
    "Шаги для выбора локации:\n",
    "\n",
    "- В избранном регионе ищут месторождения, для каждого определяют значения признаков;\n",
    "- Строят модель и оценивают объём запасов;\n",
    "- Выбирают месторождения с самым высокими оценками значений. Количество месторождений зависит от бюджета компании и стоимости разработки одной скважины;\n",
    "- Прибыль равна суммарной прибыли отобранных месторождений."
   ]
  },
  {
   "cell_type": "markdown",
   "metadata": {},
   "source": [
    "***Описание целей и задач проекта***\n",
    "\n",
    "Компании требуется определить, где бурить новую скважину. Есть пробы нефти в 3 регионах: в каждом 10 000 месторождений, где измеряли качество нефти и объем ее запасов.\n",
    "\n",
    "Необходимо построить модель машинного обучения, которая поможет определить регион, где добыча принесёт наибольшую прибыль. С мощью техники *Bootstrap.* следует проанализироваьб возможную прибыль и риски.\n",
    "\n",
    "***Описание данных***\n",
    "\n",
    "\n",
    "Данные геологоразведки трёх регионов находятся в файлах:\n",
    "- /datasets/geo_data_0.csv. Скачать датасет\n",
    "- /datasets/geo_data_1.csv. Скачать датасет\n",
    "- /datasets/geo_data_2.csv. Скачать датасет\n",
    "\n",
    "Признаки:\n",
    "\n",
    "- id — уникальный идентификатор скважины;\n",
    "- f0, f1, f2 — три признака точек (неважно, что они означают, но сами признаки значимы);\n",
    "- product — объём запасов в скважине (тыс. баррелей).\n",
    "\n",
    "***План работы***\n",
    "\n",
    "1) Провести предварительынй анализ данных и предобработку, если потребутеся.\n",
    "\n",
    "2) Извлечь признаки и целевой признак.\n",
    "\n",
    "3) Разбить данные на обучающую и валидационную выборки.\n",
    "\n",
    "4) Провести масштабирование признаков.\n",
    "\n",
    "5) Обучить модели линейной регрессии и проверить их работу, подсчитать метрику RMSE.\n",
    "\n",
    "6) Подсчитать точку безубыточности.\n",
    "\n",
    "7) Техникой Bootstrap посчитать среднюю прибыль по каждому региону и определить 95% доверительный интервал для возможной прибыли и посчитать вероятность убытка.\n",
    "\n",
    "8) На основе полученных данных определить регион, где добыча нефти принесет наибольшую прибыль.\n"
   ]
  },
  {
   "cell_type": "markdown",
   "metadata": {},
   "source": [
    "## Загрузка и подготовка данных"
   ]
  },
  {
   "cell_type": "code",
   "execution_count": 1,
   "metadata": {},
   "outputs": [],
   "source": [
    "#все импорты библиотек для текущего проекта\n",
    "import pandas as pd\n",
    "from sklearn.linear_model import LinearRegression\n",
    "from sklearn.model_selection import train_test_split\n",
    "from sklearn.metrics import mean_squared_error\n",
    "from sklearn.preprocessing import StandardScaler\n",
    "import numpy as np\n",
    "from scipy import stats as st\n",
    "\n",
    "from numpy.random import RandomState\n",
    "\n",
    "import matplotlib.pyplot as plt\n",
    "import seaborn as sns\n"
   ]
  },
  {
   "cell_type": "markdown",
   "metadata": {},
   "source": [
    "***Константы проекта***"
   ]
  },
  {
   "cell_type": "code",
   "execution_count": 2,
   "metadata": {},
   "outputs": [],
   "source": [
    "#расходы на разработку, переведом сразу в тыс. руб.(  было 10_000_000_000)\n",
    "BUDGET = 10_000_000\n",
    "#цена за 1 единицу продукта = 1 тыс. бареллей\n",
    "PRICE = 450\n",
    "#число скважин для разработк\n",
    "COUNT= 200 "
   ]
  },
  {
   "cell_type": "markdown",
   "metadata": {},
   "source": [
    "Загрузим данные геологоразведки по 3 регионам "
   ]
  },
  {
   "cell_type": "code",
   "execution_count": 3,
   "metadata": {},
   "outputs": [
    {
     "name": "stdout",
     "output_type": "stream",
     "text": [
      "<class 'pandas.core.frame.DataFrame'>\n",
      "RangeIndex: 100000 entries, 0 to 99999\n",
      "Data columns (total 5 columns):\n",
      " #   Column   Non-Null Count   Dtype  \n",
      "---  ------   --------------   -----  \n",
      " 0   id       100000 non-null  object \n",
      " 1   f0       100000 non-null  float64\n",
      " 2   f1       100000 non-null  float64\n",
      " 3   f2       100000 non-null  float64\n",
      " 4   product  100000 non-null  float64\n",
      "dtypes: float64(4), object(1)\n",
      "memory usage: 3.8+ MB\n",
      "      id        f0        f1        f2     product\n",
      "0  txEyH  0.705745 -0.497823  1.221170  105.280062\n",
      "1  2acmU  1.334711 -0.340164  4.365080   73.037750\n",
      "2  409Wp  1.022732  0.151990  1.419926   85.265647\n",
      "3  iJLyR -0.032172  0.139033  2.978566  168.620776\n",
      "4  Xdl7t  1.988431  0.155413  4.751769  154.036647\n"
     ]
    }
   ],
   "source": [
    "data0= pd.read_csv('/datasets/geo_data_0.csv')\n",
    "data0.info()\n",
    "print(data0.head())"
   ]
  },
  {
   "cell_type": "code",
   "execution_count": 4,
   "metadata": {},
   "outputs": [
    {
     "name": "stdout",
     "output_type": "stream",
     "text": [
      "<class 'pandas.core.frame.DataFrame'>\n",
      "RangeIndex: 100000 entries, 0 to 99999\n",
      "Data columns (total 5 columns):\n",
      " #   Column   Non-Null Count   Dtype  \n",
      "---  ------   --------------   -----  \n",
      " 0   id       100000 non-null  object \n",
      " 1   f0       100000 non-null  float64\n",
      " 2   f1       100000 non-null  float64\n",
      " 3   f2       100000 non-null  float64\n",
      " 4   product  100000 non-null  float64\n",
      "dtypes: float64(4), object(1)\n",
      "memory usage: 3.8+ MB\n",
      "      id         f0         f1        f2     product\n",
      "0  kBEdx -15.001348  -8.276000 -0.005876    3.179103\n",
      "1  62mP7  14.272088  -3.475083  0.999183   26.953261\n",
      "2  vyE1P   6.263187  -5.948386  5.001160  134.766305\n",
      "3  KcrkZ -13.081196 -11.506057  4.999415  137.945408\n",
      "4  AHL4O  12.702195  -8.147433  5.004363  134.766305\n"
     ]
    }
   ],
   "source": [
    "data1= pd.read_csv('/datasets/geo_data_1.csv')\n",
    "data1.info()\n",
    "print(data1.head())"
   ]
  },
  {
   "cell_type": "code",
   "execution_count": 5,
   "metadata": {
    "scrolled": true
   },
   "outputs": [
    {
     "name": "stdout",
     "output_type": "stream",
     "text": [
      "<class 'pandas.core.frame.DataFrame'>\n",
      "RangeIndex: 100000 entries, 0 to 99999\n",
      "Data columns (total 5 columns):\n",
      " #   Column   Non-Null Count   Dtype  \n",
      "---  ------   --------------   -----  \n",
      " 0   id       100000 non-null  object \n",
      " 1   f0       100000 non-null  float64\n",
      " 2   f1       100000 non-null  float64\n",
      " 3   f2       100000 non-null  float64\n",
      " 4   product  100000 non-null  float64\n",
      "dtypes: float64(4), object(1)\n",
      "memory usage: 3.8+ MB\n",
      "      id        f0        f1        f2     product\n",
      "0  fwXo0 -1.146987  0.963328 -0.828965   27.758673\n",
      "1  WJtFt  0.262778  0.269839 -2.530187   56.069697\n",
      "2  ovLUW  0.194587  0.289035 -5.586433   62.871910\n",
      "3  q6cA6  2.236060 -0.553760  0.930038  114.572842\n",
      "4  WPMUX -0.515993  1.716266  5.899011  149.600746\n"
     ]
    }
   ],
   "source": [
    "data2= pd.read_csv('/datasets/geo_data_2.csv')\n",
    "data2.info()\n",
    "print(data2.head())"
   ]
  },
  {
   "cell_type": "markdown",
   "metadata": {},
   "source": [
    "Проверим данные на наличие полных дубликтов и посмотрим "
   ]
  },
  {
   "cell_type": "code",
   "execution_count": 6,
   "metadata": {},
   "outputs": [
    {
     "name": "stdout",
     "output_type": "stream",
     "text": [
      "Дубликаты в данных по регионам:\n",
      "1 регион 10\n",
      "2 регион 4\n",
      "3 регион 4\n"
     ]
    }
   ],
   "source": [
    "print('Дубликаты в данных по регионам:')\n",
    "print('1 регион', data0['id'].duplicated().sum())\n",
    "print('2 регион', data1['id'].duplicated().sum())\n",
    "print('3 регион', data2['id'].duplicated().sum())"
   ]
  },
  {
   "cell_type": "code",
   "execution_count": 7,
   "metadata": {},
   "outputs": [
    {
     "name": "stdout",
     "output_type": "stream",
     "text": [
      "(99990, 5)\n",
      "(99996, 5)\n",
      "(99996, 5)\n"
     ]
    }
   ],
   "source": [
    " #удаление дубликатов в данных\n",
    "data0 = data0.drop_duplicates(subset=['id'], keep='first')\n",
    "data1 = data1.drop_duplicates(subset=['id'], keep='first')\n",
    "data2 = data2.drop_duplicates(subset=['id'], keep='first')\n",
    "print(data0.shape)\n",
    "print(data1.shape)\n",
    "print(data2.shape)"
   ]
  },
  {
   "cell_type": "markdown",
   "metadata": {},
   "source": [
    "Посмотрим распределение запасов в скажинах по каждому региону, построив гистограмму для `product`.\n",
    "Посчитаем мультиколлинеарность данных признаков по регионам."
   ]
  },
  {
   "cell_type": "code",
   "execution_count": 8,
   "metadata": {},
   "outputs": [
    {
     "name": "stdout",
     "output_type": "stream",
     "text": [
      "1 регион:\n",
      "корреляция признака f0 c запасами  скважине: 0.14350354470629628\n",
      "корреляция признака f1 c запасами  скважине: -0.19235060940995077\n",
      "корреляция признака f2 c запасами  скважине: 0.483630982761089\n"
     ]
    },
    {
     "data": {
      "image/png": "[encoded data removed]",
      "text/plain": [
       "<Figure size 432x288 with 1 Axes>"
      ]
     },
     "metadata": {
      "needs_background": "light"
     },
     "output_type": "display_data"
    }
   ],
   "source": [
    "#1 регион\n",
    "#гистограмма по распределению запасов в скажинах\n",
    "data0['product'].hist(bins=10)\n",
    "#корреляция признаков с количеством запасов\n",
    "print('1 регион:')\n",
    "print('корреляция признака f0 c запасами  скважине:', data0['f0'].corr(data0['product']))\n",
    "print('корреляция признака f1 c запасами  скважине:', data0['f1'].corr(data0['product']))\n",
    "print('корреляция признака f2 c запасами  скважине:', data0['f2'].corr(data0['product']))"
   ]
  },
  {
   "cell_type": "code",
   "execution_count": 9,
   "metadata": {},
   "outputs": [
    {
     "name": "stdout",
     "output_type": "stream",
     "text": [
      "2 регион:\n",
      "корреляция признака f0 c запасами  скважине: -0.030522920755861983\n",
      "корреляция признака f1 c запасами  скважине: -0.010153692790654676\n",
      "корреляция признака f2 c запасами  скважине: 0.9993969736591198\n"
     ]
    },
    {
     "data": {
      "image/png": "[encoded data removed]",
      "text/plain": [
       "<Figure size 432x288 with 1 Axes>"
      ]
     },
     "metadata": {
      "needs_background": "light"
     },
     "output_type": "display_data"
    }
   ],
   "source": [
    "#2 регион\n",
    "#гистограмма по распределению запасов в скажинах\n",
    "data1['product'].hist(bins=10)\n",
    "#корреляция признаков с количеством запасов\n",
    "print('2 регион:')\n",
    "print('корреляция признака f0 c запасами  скважине:', data1['f0'].corr(data1['product']))\n",
    "print('корреляция признака f1 c запасами  скважине:', data1['f1'].corr(data1['product']))\n",
    "print('корреляция признака f2 c запасами  скважине:', data1['f2'].corr(data1['product']))"
   ]
  },
  {
   "cell_type": "code",
   "execution_count": 10,
   "metadata": {},
   "outputs": [
    {
     "name": "stdout",
     "output_type": "stream",
     "text": [
      "3 регион:\n",
      "корреляция признака f0 c запасами  скважине: -0.001977658242440491\n",
      "корреляция признака f1 c запасами  скважине: -0.0010545826382116158\n",
      "корреляция признака f2 c запасами  скважине: 0.44586699434895694\n"
     ]
    },
    {
     "data": {
      "image/png": "[encoded data removed]",
      "text/plain": [
       "<Figure size 432x288 with 1 Axes>"
      ]
     },
     "metadata": {
      "needs_background": "light"
     },
     "output_type": "display_data"
    }
   ],
   "source": [
    "#3 регион\n",
    "#гистограмма по распределению запасов в скажинах\n",
    "data2['product'].hist(bins=10)\n",
    "#корреляция признаков с количеством запасов\n",
    "print('3 регион:')\n",
    "print('корреляция признака f0 c запасами  скважине:', data2['f0'].corr(data2['product']))\n",
    "print('корреляция признака f1 c запасами  скважине:', data2['f1'].corr(data2['product']))\n",
    "print('корреляция признака f2 c запасами  скважине:', data2['f2'].corr(data2['product']))"
   ]
  },
  {
   "cell_type": "markdown",
   "metadata": {},
   "source": [
    "***Тепловые карты корреляции между признаками и запасами в скважинах***"
   ]
  },
  {
   "cell_type": "code",
   "execution_count": 11,
   "metadata": {},
   "outputs": [
    {
     "name": "stdout",
     "output_type": "stream",
     "text": [
      "1 регион\n"
     ]
    },
    {
     "data": {
      "text/plain": [
       "<AxesSubplot:>"
      ]
     },
     "execution_count": 11,
     "metadata": {},
     "output_type": "execute_result"
    },
    {
     "data": {
      "image/png": "[encoded data removed]",
      "text/plain": [
       "<Figure size 432x288 with 2 Axes>"
      ]
     },
     "metadata": {
      "needs_background": "light"
     },
     "output_type": "display_data"
    }
   ],
   "source": [
    "#тепловая карта корреляции\n",
    "print ('1 регион')\n",
    "upp_mat = np.triu(data0.corr())\n",
    "sns.heatmap(data0.corr(), annot = True)\n",
    "#sns.heatmap(data0.corr()[['product']], vmin = -1, vmax = +1, annot = True, cmap = 'coolwarm')"
   ]
  },
  {
   "cell_type": "code",
   "execution_count": 12,
   "metadata": {},
   "outputs": [
    {
     "name": "stdout",
     "output_type": "stream",
     "text": [
      "2 регион\n"
     ]
    },
    {
     "data": {
      "text/plain": [
       "<AxesSubplot:>"
      ]
     },
     "execution_count": 12,
     "metadata": {},
     "output_type": "execute_result"
    },
    {
     "data": {
      "image/png": "[encoded data removed]",
      "text/plain": [
       "<Figure size 432x288 with 2 Axes>"
      ]
     },
     "metadata": {
      "needs_background": "light"
     },
     "output_type": "display_data"
    }
   ],
   "source": [
    "#тепловая карта корреляции\n",
    "print ('2 регион')\n",
    "upp_mat = np.triu(data1.corr())\n",
    "sns.heatmap(data1.corr(), annot = True)\n",
    "#sns.heatmap(data1.corr()[['product']], vmin = -1, vmax = +1, annot = True, cmap = 'coolwarm')"
   ]
  },
  {
   "cell_type": "code",
   "execution_count": 13,
   "metadata": {},
   "outputs": [
    {
     "name": "stdout",
     "output_type": "stream",
     "text": [
      "3 регион\n"
     ]
    },
    {
     "data": {
      "text/plain": [
       "<AxesSubplot:>"
      ]
     },
     "execution_count": 13,
     "metadata": {},
     "output_type": "execute_result"
    },
    {
     "data": {
      "image/png": "[encoded data removed]",
      "text/plain": [
       "<Figure size 432x288 with 2 Axes>"
      ]
     },
     "metadata": {
      "needs_background": "light"
     },
     "output_type": "display_data"
    }
   ],
   "source": [
    "#тепловая карта корреляции\n",
    "print ('3 регион')\n",
    "upp_mat = np.triu(data2.corr())\n",
    "sns.heatmap(data2.corr(), annot = True)\n",
    "#sns.heatmap(data2.corr()[['product']], vmin = -1, vmax = +1, annot = True, cmap = 'coolwarm')"
   ]
  },
  {
   "cell_type": "markdown",
   "metadata": {},
   "source": [
    "***Вывод  по предварительному анализу данных:***\n",
    "\n",
    "- пропусков в данных не было, но были обнаружены дубликаты, их удалили.\n",
    "- значения признаком количественные, качественных нет; \n",
    "- потребуется  потребуется масштабирование признаков техникой OHE.\n",
    "\n",
    "По распределению целевой переменной на графиках видно, что  по регионам видно распределение близко к нормальному\n",
    "\n",
    "По корреляции признаков:\n",
    "\n",
    "1)1 регион: наблюдается корреляция (0.48) между признаком F2 и запасами и сильная прямая обратная корреляция между F0 и  F1. \n",
    "\n",
    "2)2 регион: наблюдается прямая и очень сильная зависимость между признако F2 и запасами.\n",
    "\n",
    "3)3 регион: также корреляция между признаком F2и запасами.\n",
    "\n",
    "В условии сказано, что все признаки значимые, поэтому ничего удалять не будем."
   ]
  },
  {
   "cell_type": "markdown",
   "metadata": {},
   "source": [
    "## Обучение и проверка модели"
   ]
  },
  {
   "cell_type": "raw",
   "metadata": {},
   "source": [
    "Извлечем признаки и удалим лишние в них, такие как: id\n",
    "Выделим по каждой базе данных обучающую и  валидационную  выборки в соотношении 75:25."
   ]
  },
  {
   "cell_type": "code",
   "execution_count": 14,
   "metadata": {},
   "outputs": [
    {
     "name": "stdout",
     "output_type": "stream",
     "text": [
      "Проверка признаков\n",
      "1 регион:          f0        f1        f2\n",
      "0  0.705745 -0.497823  1.221170\n",
      "1  1.334711 -0.340164  4.365080\n",
      "2  1.022732  0.151990  1.419926\n",
      "3 -0.032172  0.139033  2.978566\n",
      "4  1.988431  0.155413  4.751769\n",
      "2 регион:           f0         f1        f2\n",
      "0 -15.001348  -8.276000 -0.005876\n",
      "1  14.272088  -3.475083  0.999183\n",
      "2   6.263187  -5.948386  5.001160\n",
      "3 -13.081196 -11.506057  4.999415\n",
      "4  12.702195  -8.147433  5.004363\n",
      "3 регион:          f0        f1        f2\n",
      "0 -1.146987  0.963328 -0.828965\n",
      "1  0.262778  0.269839 -2.530187\n",
      "2  0.194587  0.289035 -5.586433\n",
      "3  2.236060 -0.553760  0.930038\n",
      "4 -0.515993  1.716266  5.899011\n"
     ]
    }
   ],
   "source": [
    "#извлекаем  признаки и удалим целевой признак product и лишний id\n",
    "features0 = data0.drop(columns=['product', 'id'], axis=1)  \n",
    "features1 = data1.drop(columns=['product', 'id'], axis=1)\n",
    "features2 = data2.drop(columns=['product', 'id'], axis=1)\n",
    "\n",
    "# извлекаем целевой признак\n",
    "target0 = data0['product'] \n",
    "target1 = data1['product'] \n",
    "target2 = data2['product'] \n",
    "\n",
    "print('Проверка признаков')\n",
    "print('1 регион:', features0.head())\n",
    "print('2 регион:', features1.head())\n",
    "print('3 регион:', features2.head())"
   ]
  },
  {
   "cell_type": "code",
   "execution_count": 15,
   "metadata": {},
   "outputs": [
    {
     "name": "stdout",
     "output_type": "stream",
     "text": [
      "Величина выборок для 1 региона\n",
      "Размер обучающей выборки (74992, 3)\n",
      "Размер валидационной выборки (24998, 3)\n",
      " \n",
      "Величина выборок для 2 региона\n",
      "Размер обучающей выборки (74997, 3)\n",
      "Размер валидационной выборки (24999, 3)\n",
      " \n",
      "Величина выборок для 3 региона\n",
      "Размер обучающей выборки (74997, 3)\n",
      "Размер валидационной выборки (24999, 3)\n"
     ]
    }
   ],
   "source": [
    "# отделите 25% данных для валидационной выборки\n",
    "features_train0, features_valid0, target_train0, target_valid0 = train_test_split(\n",
    "    features0, target0, test_size=0.25, random_state=12345) \n",
    "\n",
    "features_train1, features_valid1, target_train1, target_valid1 = train_test_split(\n",
    "    features1, target1, test_size=0.25, random_state=12345) \n",
    "\n",
    "features_train2, features_valid2, target_train2, target_valid2 = train_test_split(\n",
    "    features2, target2, test_size=0.25, random_state=12345) \n",
    "\n",
    "print('Величина выборок для 1 региона')\n",
    "print('Размер обучающей выборки', features_train0.shape)\n",
    "print('Размер валидационной выборки', features_valid0.shape)\n",
    "print(' ')\n",
    "print('Величина выборок для 2 региона')\n",
    "print('Размер обучающей выборки', features_train1.shape)\n",
    "print('Размер валидационной выборки', features_valid1.shape)\n",
    "print(' ')\n",
    "print('Величина выборок для 3 региона')\n",
    "print('Размер обучающей выборки', features_train2.shape)\n",
    "print('Размер валидационной выборки', features_valid2.shape)"
   ]
  },
  {
   "cell_type": "markdown",
   "metadata": {},
   "source": [
    "***Проведем стандартизацию данных***"
   ]
  },
  {
   "cell_type": "code",
   "execution_count": 16,
   "metadata": {},
   "outputs": [
    {
     "name": "stdout",
     "output_type": "stream",
     "text": [
      "Проверка выполения стандартизации\n",
      " \n",
      "1 регион-обучающая выборка\n",
      "             f0        f1        f2\n",
      "75167  0.776287 -1.255120 -0.067528\n",
      "43242 -1.580378 -0.176704 -1.281795\n",
      "91995 -0.646319  0.136966 -0.505430\n",
      "5094  -0.509367  1.253916 -0.856553\n",
      "78252 -0.737723  1.534093 -0.372715\n",
      "1 регион-валидационная\n",
      "             f0        f1        f2\n",
      "49468 -0.488322  1.526077  1.100100\n",
      "55496  1.706214  0.046304 -1.126645\n",
      "11690  1.743170 -0.769414 -0.127529\n",
      "13770  1.589291  0.167026 -0.122386\n",
      "72395  0.691862 -1.516048 -0.835819\n",
      " \n",
      "2 регион-обучающая выборка\n",
      "             f0        f1        f2\n",
      "7866   1.969969  1.837435  0.297397\n",
      "83622 -0.814630  1.729298  0.303413\n",
      "45142 -1.137949  0.734327  1.476398\n",
      "35823  0.656865  1.949531 -1.461694\n",
      "17773  1.769386 -0.319261  0.885476\n",
      "2 регион-валидационная\n",
      "             f0        f1        f2\n",
      "71748  1.598998  0.011817 -0.287812\n",
      "80490 -1.113187 -0.407630  1.473505\n",
      "2655  -0.853139 -0.002067 -0.872473\n",
      "71171 -0.462303  0.173963  0.302767\n",
      "91141  0.551117  0.060956 -1.453256\n",
      " \n",
      "3 регион-обучающая выборка\n",
      "             f0        f1        f2\n",
      "7866  -1.536353 -0.704673 -1.747632\n",
      "83622 -0.973664 -0.176154  6.320006\n",
      "45142  2.850192 -0.058222  5.288339\n",
      "35823 -0.016384 -1.274350  6.929491\n",
      "17773  1.115184  1.469054  7.822717\n",
      "3 регион-валидационная              f0        f1        f2\n",
      "71750  1.953202 -1.826540 -0.757681\n",
      "80492  0.875958  1.023876  4.992700\n",
      "2655  -4.587649 -0.413199  1.649268\n",
      "71173  1.446205  0.096865  0.522497\n",
      "91140  0.058073  0.622573  1.070673\n"
     ]
    },
    {
     "name": "stderr",
     "output_type": "stream",
     "text": [
      "/tmp/ipykernel_93/990402050.py:9: SettingWithCopyWarning: \n",
      "A value is trying to be set on a copy of a slice from a DataFrame.\n",
      "Try using .loc[row_indexer,col_indexer] = value instead\n",
      "\n",
      "See the caveats in the documentation: https://pandas.pydata.org/pandas-docs/stable/user_guide/indexing.html#returning-a-view-versus-a-copy\n",
      "  features_train0[numeric] = scaler_0.transform(features_train0[numeric])\n",
      "/opt/conda/lib/python3.9/site-packages/pandas/core/indexing.py:1637: SettingWithCopyWarning: \n",
      "A value is trying to be set on a copy of a slice from a DataFrame\n",
      "\n",
      "See the caveats in the documentation: https://pandas.pydata.org/pandas-docs/stable/user_guide/indexing.html#returning-a-view-versus-a-copy\n",
      "  self._setitem_single_block(indexer, value, name)\n",
      "/opt/conda/lib/python3.9/site-packages/pandas/core/indexing.py:692: SettingWithCopyWarning: \n",
      "A value is trying to be set on a copy of a slice from a DataFrame\n",
      "\n",
      "See the caveats in the documentation: https://pandas.pydata.org/pandas-docs/stable/user_guide/indexing.html#returning-a-view-versus-a-copy\n",
      "  iloc._setitem_with_indexer(indexer, value, self.name)\n",
      "/tmp/ipykernel_93/990402050.py:10: SettingWithCopyWarning: \n",
      "A value is trying to be set on a copy of a slice from a DataFrame.\n",
      "Try using .loc[row_indexer,col_indexer] = value instead\n",
      "\n",
      "See the caveats in the documentation: https://pandas.pydata.org/pandas-docs/stable/user_guide/indexing.html#returning-a-view-versus-a-copy\n",
      "  features_valid0[numeric] = scaler_0.transform(features_valid0[numeric])\n",
      "/opt/conda/lib/python3.9/site-packages/pandas/core/indexing.py:1637: SettingWithCopyWarning: \n",
      "A value is trying to be set on a copy of a slice from a DataFrame\n",
      "\n",
      "See the caveats in the documentation: https://pandas.pydata.org/pandas-docs/stable/user_guide/indexing.html#returning-a-view-versus-a-copy\n",
      "  self._setitem_single_block(indexer, value, name)\n",
      "/opt/conda/lib/python3.9/site-packages/pandas/core/indexing.py:692: SettingWithCopyWarning: \n",
      "A value is trying to be set on a copy of a slice from a DataFrame\n",
      "\n",
      "See the caveats in the documentation: https://pandas.pydata.org/pandas-docs/stable/user_guide/indexing.html#returning-a-view-versus-a-copy\n",
      "  iloc._setitem_with_indexer(indexer, value, self.name)\n",
      "/tmp/ipykernel_93/990402050.py:17: SettingWithCopyWarning: \n",
      "A value is trying to be set on a copy of a slice from a DataFrame.\n",
      "Try using .loc[row_indexer,col_indexer] = value instead\n",
      "\n",
      "See the caveats in the documentation: https://pandas.pydata.org/pandas-docs/stable/user_guide/indexing.html#returning-a-view-versus-a-copy\n",
      "  features_train1[numeric] = scaler_1.transform(features_train1[numeric])\n",
      "/opt/conda/lib/python3.9/site-packages/pandas/core/indexing.py:1637: SettingWithCopyWarning: \n",
      "A value is trying to be set on a copy of a slice from a DataFrame\n",
      "\n",
      "See the caveats in the documentation: https://pandas.pydata.org/pandas-docs/stable/user_guide/indexing.html#returning-a-view-versus-a-copy\n",
      "  self._setitem_single_block(indexer, value, name)\n",
      "/opt/conda/lib/python3.9/site-packages/pandas/core/indexing.py:692: SettingWithCopyWarning: \n",
      "A value is trying to be set on a copy of a slice from a DataFrame\n",
      "\n",
      "See the caveats in the documentation: https://pandas.pydata.org/pandas-docs/stable/user_guide/indexing.html#returning-a-view-versus-a-copy\n",
      "  iloc._setitem_with_indexer(indexer, value, self.name)\n",
      "/tmp/ipykernel_93/990402050.py:18: SettingWithCopyWarning: \n",
      "A value is trying to be set on a copy of a slice from a DataFrame.\n",
      "Try using .loc[row_indexer,col_indexer] = value instead\n",
      "\n",
      "See the caveats in the documentation: https://pandas.pydata.org/pandas-docs/stable/user_guide/indexing.html#returning-a-view-versus-a-copy\n",
      "  features_valid1[numeric] = scaler_1.transform(features_valid1[numeric])\n",
      "/opt/conda/lib/python3.9/site-packages/pandas/core/indexing.py:1637: SettingWithCopyWarning: \n",
      "A value is trying to be set on a copy of a slice from a DataFrame\n",
      "\n",
      "See the caveats in the documentation: https://pandas.pydata.org/pandas-docs/stable/user_guide/indexing.html#returning-a-view-versus-a-copy\n",
      "  self._setitem_single_block(indexer, value, name)\n",
      "/opt/conda/lib/python3.9/site-packages/pandas/core/indexing.py:692: SettingWithCopyWarning: \n",
      "A value is trying to be set on a copy of a slice from a DataFrame\n",
      "\n",
      "See the caveats in the documentation: https://pandas.pydata.org/pandas-docs/stable/user_guide/indexing.html#returning-a-view-versus-a-copy\n",
      "  iloc._setitem_with_indexer(indexer, value, self.name)\n",
      "/tmp/ipykernel_93/990402050.py:25: SettingWithCopyWarning: \n",
      "A value is trying to be set on a copy of a slice from a DataFrame.\n",
      "Try using .loc[row_indexer,col_indexer] = value instead\n",
      "\n",
      "See the caveats in the documentation: https://pandas.pydata.org/pandas-docs/stable/user_guide/indexing.html#returning-a-view-versus-a-copy\n",
      "  features_train2[numeric] = scaler_2.transform(features_train2[numeric])\n",
      "/opt/conda/lib/python3.9/site-packages/pandas/core/indexing.py:1637: SettingWithCopyWarning: \n",
      "A value is trying to be set on a copy of a slice from a DataFrame\n",
      "\n",
      "See the caveats in the documentation: https://pandas.pydata.org/pandas-docs/stable/user_guide/indexing.html#returning-a-view-versus-a-copy\n",
      "  self._setitem_single_block(indexer, value, name)\n",
      "/opt/conda/lib/python3.9/site-packages/pandas/core/indexing.py:692: SettingWithCopyWarning: \n",
      "A value is trying to be set on a copy of a slice from a DataFrame\n",
      "\n",
      "See the caveats in the documentation: https://pandas.pydata.org/pandas-docs/stable/user_guide/indexing.html#returning-a-view-versus-a-copy\n",
      "  iloc._setitem_with_indexer(indexer, value, self.name)\n",
      "/tmp/ipykernel_93/990402050.py:26: SettingWithCopyWarning: \n",
      "A value is trying to be set on a copy of a slice from a DataFrame.\n",
      "Try using .loc[row_indexer,col_indexer] = value instead\n",
      "\n",
      "See the caveats in the documentation: https://pandas.pydata.org/pandas-docs/stable/user_guide/indexing.html#returning-a-view-versus-a-copy\n",
      "  features_valid2[numeric] = scaler_2.transform(features_valid2[numeric])\n",
      "/opt/conda/lib/python3.9/site-packages/pandas/core/indexing.py:1637: SettingWithCopyWarning: \n",
      "A value is trying to be set on a copy of a slice from a DataFrame\n",
      "\n",
      "See the caveats in the documentation: https://pandas.pydata.org/pandas-docs/stable/user_guide/indexing.html#returning-a-view-versus-a-copy\n",
      "  self._setitem_single_block(indexer, value, name)\n",
      "/opt/conda/lib/python3.9/site-packages/pandas/core/indexing.py:692: SettingWithCopyWarning: \n",
      "A value is trying to be set on a copy of a slice from a DataFrame\n",
      "\n",
      "See the caveats in the documentation: https://pandas.pydata.org/pandas-docs/stable/user_guide/indexing.html#returning-a-view-versus-a-copy\n",
      "  iloc._setitem_with_indexer(indexer, value, self.name)\n"
     ]
    }
   ],
   "source": [
    "#список всех численных признаков.\n",
    "numeric = ['f0', 'f1', 'f2']\n",
    "\n",
    "#1 регион\n",
    "#создадим объект стандартизации и обучим его\n",
    "scaler_0 = StandardScaler()    \n",
    "scaler_0.fit(features_train0[numeric])\n",
    "#сохраним преобразованные обучающую,валидационную и тестовую  выборки в переменные\n",
    "features_train0[numeric] = scaler_0.transform(features_train0[numeric])\n",
    "features_valid0[numeric] = scaler_0.transform(features_valid0[numeric]) \n",
    "\n",
    "#2 регион\n",
    "#создадим объект стандартизации и обучим его\n",
    "scaler_1 = StandardScaler()    \n",
    "scaler_1.fit(features_train1[numeric])\n",
    "#сохраним преобразованные обучающую,валидационную и тестовую  выборки в переменные\n",
    "features_train1[numeric] = scaler_1.transform(features_train1[numeric])\n",
    "features_valid1[numeric] = scaler_1.transform(features_valid1[numeric]) \n",
    "\n",
    "#3 регион\n",
    "#создадим объект стандартизации и обучим его\n",
    "scaler_2 = StandardScaler()    \n",
    "scaler_2.fit(features_train0[numeric])\n",
    "#сохраним преобразованные обучающую,валидационную и тестовую  выборки в переменные\n",
    "features_train2[numeric] = scaler_2.transform(features_train2[numeric])\n",
    "features_valid2[numeric] = scaler_2.transform(features_valid2[numeric]) \n",
    "\n",
    "pd.options.mode.chained_assignment = None\n",
    "\n",
    "print('Проверка выполения стандартизации')\n",
    "print(' ')\n",
    "print('1 регион-обучающая выборка')\n",
    "print(features_train0.head())\n",
    "print('1 регион-валидационная')\n",
    "print(features_valid0.head())\n",
    "print(' ')\n",
    "print('2 регион-обучающая выборка')\n",
    "print(features_train1.head())\n",
    "print('2 регион-валидационная')\n",
    "print(features_valid1.head())\n",
    "print(' ')\n",
    "print('3 регион-обучающая выборка')\n",
    "print(features_train2.head())\n",
    "print('3 регион-валидационная',features_valid2.head())"
   ]
  },
  {
   "cell_type": "markdown",
   "metadata": {},
   "source": [
    "Сбросим индексы, чтобы в дальнейшем было проще сопотавлять данные по target  и predicton"
   ]
  },
  {
   "cell_type": "code",
   "execution_count": 17,
   "metadata": {},
   "outputs": [],
   "source": [
    "features_train0 = features_train0.reset_index(drop=True)\n",
    "features_valid0 = features_valid0.reset_index(drop=True)\n",
    "target_train0 = target_train0.reset_index(drop=True)\n",
    "target_valid0 = target_valid0.reset_index(drop=True)\n",
    "\n",
    "features_train1 = features_train1.reset_index(drop=True)\n",
    "features_valid1 = features_valid1.reset_index(drop=True)\n",
    "target_train1 = target_train1.reset_index(drop=True)\n",
    "target_valid1 = target_valid1.reset_index(drop=True)\n",
    "\n",
    "features_train2 = features_train2.reset_index(drop=True)\n",
    "features_valid2 = features_valid2.reset_index(drop=True)\n",
    "target_train2 = target_train2.reset_index(drop=True)\n",
    "target_valid2 = target_valid2.reset_index(drop=True)\n"
   ]
  },
  {
   "cell_type": "markdown",
   "metadata": {},
   "source": [
    "Обучим модель линейной регрессии и сделаем предсказания на валидационной выборке.\n",
    "Сохраним предсказания на валидационной выборке.\n"
   ]
  },
  {
   "cell_type": "code",
   "execution_count": 19,
   "metadata": {},
   "outputs": [],
   "source": [
    "#функция для предсказывания модели LinearRegression\n",
    "def predictions (features_train, target_train, features_valid):\n",
    "    model = LinearRegression()\n",
    "    model.fit(features_train, target_train)\n",
    "    return model.predict(features_valid)"
   ]
  },
  {
   "cell_type": "markdown",
   "metadata": {},
   "source": [
    "1) Посчитаем средний запас на 1 скважине по каждому из 3 регионов.\n",
    "\n",
    "2) Рассчитаем RMSE модели  - среднее возможное отклонение в расчетах (квадратный корень из средней квадратичной ошибки)."
   ]
  },
  {
   "cell_type": "code",
   "execution_count": 20,
   "metadata": {},
   "outputs": [
    {
     "name": "stdout",
     "output_type": "stream",
     "text": [
      "RMSE модели линейной регрессии на валидационной выборке для 1 региона: 37.853527328872964\n",
      "RMSE модели линейной регрессии на валидационной выборке для 2 региона: 0.8920592647717033\n",
      "RMSE модели линейной регрессии на валидационной выборке для 3 региона: 40.07585073246016\n",
      " \n",
      "Средний запас предсказаного сырья в каждой скважине по регионам ( в тыс. баррелей):\n",
      "1 регион: 92.78915638280621\n",
      "2 регион: 69.1783195703043\n",
      "3 регион: 94.86572480562035\n"
     ]
    }
   ],
   "source": [
    "#значение метрики RMSE на валидационной выборке\n",
    "\n",
    "predictions_valid0 = predictions (features_train0, target_train0, features_valid0)\n",
    "predictions_valid1 = predictions (features_train1, target_train1, features_valid1)\n",
    "predictions_valid2 = predictions (features_train2, target_train2, features_valid2)\n",
    "\n",
    "result0 = mean_squared_error(target_valid0, predictions_valid0)**0.5  \n",
    "result1 = mean_squared_error(target_valid1, predictions_valid1)**0.5  \n",
    "result2 = mean_squared_error(target_valid2, predictions_valid2)**0.5  \n",
    "print(\"RMSE модели линейной регрессии на валидационной выборке для 1 региона:\", result0)\n",
    "print(\"RMSE модели линейной регрессии на валидационной выборке для 2 региона:\", result1)\n",
    "print(\"RMSE модели линейной регрессии на валидационной выборке для 3 региона:\", result2)\n",
    "print(' ')\n",
    "print('Средний запас предсказаного сырья в каждой скважине по регионам ( в тыс. баррелей):')\n",
    "print('1 регион:', predictions_valid0.mean())\n",
    "print('2 регион:', predictions_valid1.mean())\n",
    "print('3 регион:', predictions_valid2.mean())"
   ]
  },
  {
   "cell_type": "markdown",
   "metadata": {},
   "source": [
    " ***Вывод:***\n",
    "        \n",
    "На обучающих данных мы построили  на модель линнейной регрессии для прогнозировани запасов нефти по регионам, \n",
    "исходя из заданны параметром  f0, f1, f2.\n",
    "И сдалали проноз на основе валидационной выборке. По прогнозу наибольший средний запас данных  находится:\n",
    "\n",
    "- 1 место - 3 регион  = 94.96504596800489, \n",
    "- 2 место - 1 регион = 92.59256778438035,\n",
    "- 3 место - 2 регион 68.728546895446.\n",
    "\n",
    "Но если смотреть метрику RMSE, которая показываем среднюю ошибку в прогнозирование, то рейтинг регионов по запасам \n",
    "будет другой:\n",
    "\n",
    "- 1 место - 2 регион\n",
    "- 2 место - 1 регион\n",
    "- 3 место - 3 регион\n",
    "\n",
    "Все потому, что наибольшее отклонение в прогнозах у нас можеть быть по 3 региону = 40.02970873393434, а наименьшее \n",
    "по 2 = 0.8930992867756169.\n"
   ]
  },
  {
   "cell_type": "markdown",
   "metadata": {},
   "source": [
    "## Подготовка к расчёту прибыли"
   ]
  },
  {
   "cell_type": "markdown",
   "metadata": {},
   "source": [
    "Какие данные есть:\n",
    "\n",
    "- При разведке региона исследуют 500 точек, из которых с помощью машинного обучения выбирают 200 лучших для разработки.\n",
    "- Бюджет на разработку скважин в регионе — 10 млрд рублей.\n",
    "- При нынешних ценах один баррель сырья приносит 450 рублей дохода. Доход с каждой единицы продукта составляет 450 тыс. рублей, поскольку объём указан в тысячах баррелей.\n",
    "- После оценки рисков нужно оставить лишь те регионы, в которых вероятность убытков меньше 2.5%. Среди них выбрать регион с наибольшей средней прибылью."
   ]
  },
  {
   "cell_type": "markdown",
   "metadata": {},
   "source": [
    "На разработку 200 скважин расходуется 10 млрд. рублей, а доход от 1 единицы продукта составлемя 450 тыс. рублей. \n",
    "\n",
    "Найдем точку безубыточности 1 скважины, при которой мы покроем расходы на разработку, но не получим прибыль.\n",
    "\n",
    "В дальнейшме этот показатель будем сравнивать со среднем прибылью по скважине, чтобы определить наиболее прибыльный регион для будущей разработки."
   ]
  },
  {
   "cell_type": "markdown",
   "metadata": {},
   "source": [
    "- Все ключевые значения для расчётов сохраните в отдельных переменных.\n",
    "- Рассчитайте достаточный объём сырья для безубыточной разработки новой скважины. Сравните полученный объём сырья со средним запасом в каждом регионе."
   ]
  },
  {
   "cell_type": "code",
   "execution_count": 21,
   "metadata": {},
   "outputs": [
    {
     "name": "stdout",
     "output_type": "stream",
     "text": [
      "Точка безубыточности для региона равна: 22222.22 тыс.баррелей\n",
      "Точка безубыточности для 1 скважины равна: 111.11 тыс. баррелей\n",
      "\n",
      "Точка безубыточности для региона равна: 10000000.00 тыс. руб.\n",
      "Точка безубыточности для 1 скважины равна: 50000.00 тыс. руб.\n"
     ]
    }
   ],
   "source": [
    "#считаем точку безубыточности\n",
    "tb = BUDGET / PRICE \n",
    "tb_well = BUDGET/ PRICE /200 \n",
    "\n",
    "print(\"Точка безубыточности для региона равна: {:.2f} тыс.баррелей\".format(tb))\n",
    "print(\"Точка безубыточности для 1 скважины равна: {:.2f} тыс. баррелей\".format(tb_well))\n",
    "print('')\n",
    "print(\"Точка безубыточности для региона равна: {:.2f} тыс. руб.\".format(tb*PRICE))\n",
    "print(\"Точка безубыточности для 1 скважины равна: {:.2f} тыс. руб.\".format(tb_well*PRICE))"
   ]
  },
  {
   "cell_type": "code",
   "execution_count": 22,
   "metadata": {},
   "outputs": [
    {
     "name": "stdout",
     "output_type": "stream",
     "text": [
      "Средний запас предсказаного сырья в каждой скважине по регионам ( в тыс. баррелях):\n",
      "1 регион: 18557.831276561243 тыс. баррелей\n",
      "2 регион: 13835.663914060859 тыс. баррелей\n",
      "3 регион: 18973.144961124068 тыс. баррелей\n",
      "\n",
      "Средний запас предсказаного сырья в каждой скважине по регионам ( в млн. рублей):\n",
      "1 регион: 8351.02407445256 млн. рублей\n",
      "2 регион: 6226.048761327386 млн. рублей\n",
      "3 регион: 8537.91523250583 млн. рублей\n"
     ]
    }
   ],
   "source": [
    "#среднее количество продуета для каждого региона в рублях:\n",
    "\n",
    "print('Средний запас предсказаного сырья в каждой скважине по регионам ( в тыс. баррелях):')\n",
    "print('1 регион:', predictions_valid0.mean()*COUNT,'тыс. баррелей')\n",
    "print('2 регион:', predictions_valid1.mean()*COUNT, 'тыс. баррелей')\n",
    "print('3 регион:', predictions_valid2.mean()*COUNT, 'тыс. баррелей')\n",
    "print('')\n",
    "print('Средний запас предсказаного сырья в каждой скважине по регионам ( в млн. рублей):')\n",
    "print('1 регион:', predictions_valid0.mean()*COUNT*PRICE/1000,'млн. рублей')\n",
    "print('2 регион:', predictions_valid1.mean()*COUNT*PRICE/1000, 'млн. рублей')\n",
    "print('3 регион:', predictions_valid2.mean()*COUNT*PRICE/1000, 'млн. рублей')"
   ]
  },
  {
   "cell_type": "markdown",
   "metadata": {},
   "source": [
    "## ***Вывод:***\n",
    "\n",
    "Средний запас предсказаного сырья в каждой скважине по регионам:\n",
    "\n",
    "- 1 регион: 92.59256778438035 тыс. баррелей\n",
    "- 2 регион: 68.72854689544602 тыс. баррелей\n",
    "- 3 регион: 94.96504596800489 тыс. баррелей\n",
    "\n",
    "\n",
    "Средний запас сырья по регионам ( в тыс. баррелях):\n",
    "- 1 регион: 18 557.831276561243 тыс. баррелей\n",
    "- 2 регион: 13 835.663914060859 тыс. баррелей\n",
    "- 3 регион: 18 973.144961124068 тыс. баррелей\n",
    "\n",
    "Средний запас предсказаного сырья по регионам ( в тыс. рублей):\n",
    "- 1 регион: 8 351.02 млн. рублей\n",
    "- 2 регион: 6 226.05 млн. рублей\n",
    "- 3 регион: 8 537.92 млн. рублей\n",
    "\n",
    "\n",
    "Точка безубыточности для региона равна: 22 222.22 тыс.баррелей\n",
    "Точка безубыточности для 1 скважины равна: 111.11 тыс. баррелей\n",
    "\n",
    "Точка безубыточности для региона равна: 10 000. млн. рублей\n",
    "Точка безубыточности для 1 скважины равна: 50.00 млн. рублей\n",
    "\n",
    "\n",
    "Сравнивая величину точки безубыточности  для одной скважины со средними запасами нефти по 3 регионам, а также сравнивая общие данные по региону в баррелях и рублях, расчитанные выше,  можем сделать вывод,  что  средних запасов запасов нефти в каждом из трех регионов не достаточно, чтобы получить прибыль, так как их величина меньше точки безубыточности, при которой прибыль компании будет равна нулю."
   ]
  },
  {
   "cell_type": "code",
   "execution_count": 29,
   "metadata": {},
   "outputs": [
    {
     "data": {
      "text/plain": [
       "(92.49968421774354, 68.82391591804064, 94.99834211933378)"
      ]
     },
     "execution_count": 29,
     "metadata": {},
     "output_type": "execute_result"
    }
   ],
   "source": [
    "target0.mean(), target1.mean(), target2.mean()"
   ]
  },
  {
   "cell_type": "markdown",
   "metadata": {},
   "source": [
    "## Расчёт прибыли и рисков "
   ]
  },
  {
   "cell_type": "markdown",
   "metadata": {},
   "source": [
    "Расчитаем среднюю прибыль для каждого региона техникой Bootstrap, при этом в расчет будем брать 200 скважин с   максимальными значениями предсказаний."
   ]
  },
  {
   "cell_type": "code",
   "execution_count": 24,
   "metadata": {},
   "outputs": [
    {
     "name": "stdout",
     "output_type": "stream",
     "text": [
      "Прибыль по 1 региону: 3365.19  млн. руб.\n",
      "Прибыль по 2 региону: 2415.09  млн. руб.\n",
      "Прибыль по 3 региону: 2501.28  млн. руб.\n"
     ]
    }
   ],
   "source": [
    "#функция для расчета прибыли\n",
    "\n",
    "def profit (target, predictions):\n",
    "    predictions=pd.Series(predictions)\n",
    "    predictions=predictions.sort_values(ascending = False).head(200)\n",
    "    selected = target[predictions.index]\n",
    "    revenue = selected.sum()*PRICE\n",
    "    return(revenue-BUDGET)\n",
    "\n",
    "\n",
    "profit0 = profit (target_valid0, predictions_valid0)\n",
    "profit1 = profit (target_valid1, predictions_valid1)\n",
    "profit2 = profit (target_valid2, predictions_valid2)\n",
    "\n",
    "#прибыль по региону, расчитанная на основе модели линейной регресси\n",
    "print('Прибыль по 1 региону: {:.2f}  млн. руб.'.format(profit0/1000))\n",
    "print('Прибыль по 2 региону: {:.2f}  млн. руб.'.format(profit1/1000))\n",
    "print('Прибыль по 3 региону: {:.2f}  млн. руб.'.format(profit2/1000))"
   ]
  },
  {
   "cell_type": "markdown",
   "metadata": {},
   "source": [
    "По прогнозным расчетам максимальную прибыль компания получит от разведывания скважин в 3 регионе."
   ]
  },
  {
   "cell_type": "markdown",
   "metadata": {},
   "source": [
    "***Посчитайте риски и прибыль для каждого региона, применяя технику Bootstrap***"
   ]
  },
  {
   "cell_type": "markdown",
   "metadata": {},
   "source": [
    " Применим  технику Bootstrap с 1000 выборок, чтобы найти распределение прибыли"
   ]
  },
  {
   "cell_type": "code",
   "execution_count": 25,
   "metadata": {},
   "outputs": [],
   "source": [
    "def bootstrap (target, predictions):\n",
    "    state = np.random.RandomState(12345)\n",
    "    values = []\n",
    "    predictions=pd.Series(predictions)\n",
    "    for i in range(1000):\n",
    "        target_subsample = target.sample(n=500, replace=True, random_state=state)\n",
    "        predictions_subsample = predictions[target_subsample.index]\n",
    "        values.append(profit(target_subsample, predictions_subsample))\n",
    "    count = 0\n",
    "    for i in values:\n",
    "        if i < 0:\n",
    "            count +=1        \n",
    "    values = pd.Series(values)\n",
    "    \n",
    "    mean =  values.mean()\n",
    "    \n",
    "    lower = values.quantile(0.025)/1000\n",
    "    upper = values.quantile(0.975)/1000\n",
    "\n",
    "    print(\"Средняя прибыль: {:.2f} млн.руб\".format(mean/1000))\n",
    "    print(f'95% доверительный интервал по региону находится в пределах от {lower}  до {upper} млн. рублей')\n",
    "    print ('Процент вероятности убытка в данном регионе составит {:.5%}'.format(count/1000))"
   ]
  },
  {
   "cell_type": "markdown",
   "metadata": {},
   "source": [
    "***Распределение прибыли и рисков для 1 региона***"
   ]
  },
  {
   "cell_type": "code",
   "execution_count": 26,
   "metadata": {},
   "outputs": [
    {
     "name": "stdout",
     "output_type": "stream",
     "text": [
      "Средняя прибыль: 585.65 млн.руб\n",
      "95% доверительный интервал по региону находится в пределах от -5.878445790209243  до 1279.2400755693025 млн. рублей\n",
      "Процент вероятности убытка в данном регионе составит 2.80000%\n",
      "None\n"
     ]
    }
   ],
   "source": [
    "print(bootstrap (target_valid0, predictions_valid0))"
   ]
  },
  {
   "cell_type": "markdown",
   "metadata": {},
   "source": [
    "***Распределение прибыли и рисков для 2 региона***"
   ]
  },
  {
   "cell_type": "code",
   "execution_count": 27,
   "metadata": {},
   "outputs": [
    {
     "name": "stdout",
     "output_type": "stream",
     "text": [
      "Средняя прибыль: 682.30 млн.руб\n",
      "95% доверительный интервал по региону находится в пределах от 185.79958171697785  до 1247.6844632237473 млн. рублей\n",
      "Процент вероятности убытка в данном регионе составит 0.30000%\n",
      "None\n"
     ]
    }
   ],
   "source": [
    "print(bootstrap (target_valid1, predictions_valid1))"
   ]
  },
  {
   "cell_type": "markdown",
   "metadata": {},
   "source": [
    "***Распределение прибыли и рисков для 3 региона***"
   ]
  },
  {
   "cell_type": "code",
   "execution_count": 28,
   "metadata": {},
   "outputs": [
    {
     "name": "stdout",
     "output_type": "stream",
     "text": [
      "Средняя прибыль: 537.97 млн.руб\n",
      "95% доверительный интервал по региону находится в пределах от -69.65104417075221  до 1167.971410037479 млн. рублей\n",
      "Процент вероятности убытка в данном регионе составит 4.10000%\n",
      "None\n"
     ]
    }
   ],
   "source": [
    "print(bootstrap (target_valid2, predictions_valid2))"
   ]
  },
  {
   "cell_type": "markdown",
   "metadata": {},
   "source": [
    "***ИТОГОВЫЙ ВЫВОД***\n",
    "\n",
    "На основе имеющихся данных геологоразведки по трем регионам мы провели машинное обучение моделей линейной регрессии и получили предсказания по запасам нефти в каждой скважине.\n",
    "\n",
    "По  расчетам модели линейной регрессии прибыль по регионам составит, причем это прибыль посчитана по наилучшим прогнозам:\n",
    " \n",
    "- Прибыль по 1 региону: 3365.19  млн. руб.\n",
    "- Прибыль по 2 региону: 2415.09  млн. руб.\n",
    "- Прибыль по 3 региону: 2501.28  млн. руб. \n",
    "\n",
    "При этом среднее отклонение по расчетам модели по каждой скважине региона может составить:\n",
    "- 37.5794217150813 тыс. баррелей\n",
    "- 0.893099286775617 тыс. баррелей\n",
    "- 40.02970873393434 тыс. баррелей\n",
    "\n",
    "Если бы мы делали прогноз на основе полученных данных, то было бы рекомендовано вести разработку скважин 1 региона, потому, что там  возможна максимальная прибыль.\n",
    "\n",
    "Но для расчета возможных доходов мы также применили технику bootstap, основанную на случайных выборках, что более приближено к реальной ситуации:\n",
    "\n",
    "Итак, мы сделали 1000 выборок  по 500 скважин. Отобрали 200 наилучших из них и на их основе подсчитали среднюю прибыль по каждому региону: \n",
    "\n",
    "Средняя прибыль, посчитанная с использованием техники bootstrap получилась:\n",
    "- по 1 региону: 585.65 млн.руб.\n",
    "- по 2 региону: 682.30  млн.руб\n",
    "- по 3 региону: 537.97 млн.руб\n",
    "\n",
    "Как мы видим цифры меньше, чем в расчётах модели, что можно объяснить особенностями работы техники, где в расчеты попылали рандомные показатели запасов, хоть мы потом и отбирали 200 лучших.\n",
    "\n",
    "Сравним полученные 95% доверительные интервалы по регионам, в пределах которых может находится прибыль:\n",
    "- 1 регион:  от -5.88 до 1279.24  млн. рублей\n",
    "- 2 регион:  от 185.80 до 1247.68 млн. рублей\n",
    "- 3 регион:  от -69.65 до 1167.97 млн. рублей\n",
    "\n",
    "Мы также подчитали процент вероятности убытка по каждому региону:\n",
    "- 1 регион = 2.8%\n",
    "- 2 регион = 0.3%\n",
    "- 3 регион = 4,1%\n",
    "\n",
    "По данным видно, что наиболее прибыльный доверительный  интервал показывает 2 регион, также по этому региону мы получили наибольшую среднюю прибыль и  95% доверительный интервал по прибыли. Риски убытка  при этом наименьший из трех регионов = 0.3%.\n",
    "\n",
    "На основе полученных расчетов для разработки новых скважин будет рекомендован 2 регион.\n",
    "\n"
   ]
  },
  {
   "cell_type": "markdown",
   "metadata": {},
   "source": [
    "## Чек-лист готовности проекта"
   ]
  },
  {
   "cell_type": "markdown",
   "metadata": {},
   "source": [
    "Поставьте 'x' в выполненных пунктах. Далее нажмите Shift+Enter."
   ]
  },
  {
   "cell_type": "markdown",
   "metadata": {},
   "source": [
    "- [x]  Jupyter Notebook открыт\n",
    "- [х]  Весь код выполняется без ошибок\n",
    "- [х]  Ячейки с кодом расположены в порядке исполнения\n",
    "- [х]  Выполнен шаг 1: данные подготовлены\n",
    "- [х]  Выполнен шаг 2: модели обучены и проверены\n",
    "    - [х]  Данные корректно разбиты на обучающую и валидационную выборки\n",
    "    - [х]  Модели обучены, предсказания сделаны\n",
    "    - [х]  Предсказания и правильные ответы на валидационной выборке сохранены\n",
    "    - [х]  На экране напечатаны результаты\n",
    "    - [х]  Сделаны выводы\n",
    "- [х]  Выполнен шаг 3: проведена подготовка к расчёту прибыли\n",
    "    - [х]  Для всех ключевых значений созданы константы Python\n",
    "    - [х]  Посчитано минимальное среднее количество продукта в месторождениях региона, достаточное для разработки\n",
    "    - [х]  По предыдущему пункту сделаны выводы\n",
    "    - [х]  Написана функция расчёта прибыли\n",
    "- [ ]  Выполнен шаг 4: посчитаны риски и прибыль\n",
    "    - [х]  Проведена процедура *Bootstrap*\n",
    "    - [х]  Все параметры бутстрепа соответствуют условию\n",
    "    - [х]  Найдены все нужные величины\n",
    "    - [х]  Предложен регион для разработки месторождения\n",
    "    - [х]  Выбор региона обоснован"
   ]
  },
  {
   "cell_type": "code",
   "execution_count": null,
   "metadata": {},
   "outputs": [],
   "source": []
  }
 ],
 "metadata": {
  "ExecuteTimeLog": [
   {
    "duration": 352,
    "start_time": "2022-12-07T10:57:24.073Z"
   },
   {
    "duration": 262,
    "start_time": "2022-12-07T10:57:26.996Z"
   },
   {
    "duration": 131,
    "start_time": "2022-12-07T10:57:39.121Z"
   },
   {
    "duration": 152,
    "start_time": "2022-12-07T10:57:49.037Z"
   },
   {
    "duration": 245,
    "start_time": "2022-12-07T10:58:15.243Z"
   },
   {
    "duration": 211,
    "start_time": "2022-12-07T10:58:22.154Z"
   },
   {
    "duration": 47,
    "start_time": "2022-12-08T09:49:45.738Z"
   },
   {
    "duration": 1115,
    "start_time": "2022-12-08T09:49:51.550Z"
   },
   {
    "duration": 582,
    "start_time": "2022-12-08T09:49:55.283Z"
   },
   {
    "duration": 632,
    "start_time": "2022-12-08T09:49:58.552Z"
   },
   {
    "duration": 678,
    "start_time": "2022-12-08T09:50:14.244Z"
   },
   {
    "duration": 13,
    "start_time": "2022-12-08T09:50:20.057Z"
   },
   {
    "duration": 32,
    "start_time": "2022-12-08T09:52:08.699Z"
   },
   {
    "duration": 59,
    "start_time": "2022-12-08T09:52:55.638Z"
   },
   {
    "duration": 113,
    "start_time": "2022-12-08T09:54:21.046Z"
   },
   {
    "duration": 93,
    "start_time": "2022-12-08T09:58:53.832Z"
   },
   {
    "duration": 105,
    "start_time": "2022-12-08T10:01:04.527Z"
   },
   {
    "duration": 36,
    "start_time": "2022-12-08T10:01:18.912Z"
   },
   {
    "duration": 9,
    "start_time": "2022-12-08T10:02:12.702Z"
   },
   {
    "duration": 36,
    "start_time": "2022-12-08T10:02:23.602Z"
   },
   {
    "duration": 44,
    "start_time": "2022-12-08T10:15:41.448Z"
   },
   {
    "duration": 9,
    "start_time": "2022-12-08T10:15:49.707Z"
   },
   {
    "duration": 20,
    "start_time": "2022-12-08T10:15:55.361Z"
   },
   {
    "duration": 12,
    "start_time": "2022-12-08T10:16:38.613Z"
   },
   {
    "duration": 32,
    "start_time": "2022-12-08T10:21:00.663Z"
   },
   {
    "duration": 18,
    "start_time": "2022-12-08T10:25:02.677Z"
   },
   {
    "duration": 34,
    "start_time": "2022-12-08T10:25:10.818Z"
   },
   {
    "duration": 11,
    "start_time": "2022-12-08T10:27:20.115Z"
   },
   {
    "duration": 3,
    "start_time": "2022-12-08T10:27:29.658Z"
   },
   {
    "duration": 154,
    "start_time": "2022-12-08T10:27:29.663Z"
   },
   {
    "duration": 143,
    "start_time": "2022-12-08T10:27:29.819Z"
   },
   {
    "duration": 137,
    "start_time": "2022-12-08T10:27:29.964Z"
   },
   {
    "duration": 18,
    "start_time": "2022-12-08T10:27:30.104Z"
   },
   {
    "duration": 34,
    "start_time": "2022-12-08T10:27:30.124Z"
   },
   {
    "duration": 75,
    "start_time": "2022-12-08T10:27:30.159Z"
   },
   {
    "duration": 11,
    "start_time": "2022-12-08T10:27:30.236Z"
   },
   {
    "duration": 75,
    "start_time": "2022-12-08T10:27:30.249Z"
   },
   {
    "duration": 107,
    "start_time": "2022-12-08T10:27:30.326Z"
   },
   {
    "duration": 0,
    "start_time": "2022-12-08T10:27:30.435Z"
   },
   {
    "duration": 48,
    "start_time": "2022-12-08T10:30:26.661Z"
   },
   {
    "duration": 69,
    "start_time": "2022-12-08T10:31:23.587Z"
   },
   {
    "duration": 74,
    "start_time": "2022-12-08T10:32:06.921Z"
   },
   {
    "duration": 61,
    "start_time": "2022-12-08T10:32:44.644Z"
   },
   {
    "duration": 70,
    "start_time": "2022-12-08T10:33:08.813Z"
   },
   {
    "duration": 84,
    "start_time": "2022-12-08T10:33:19.729Z"
   },
   {
    "duration": 58,
    "start_time": "2022-12-08T10:33:32.619Z"
   },
   {
    "duration": 15,
    "start_time": "2022-12-08T10:34:04.148Z"
   },
   {
    "duration": 27,
    "start_time": "2022-12-08T10:34:17.749Z"
   },
   {
    "duration": 9,
    "start_time": "2022-12-08T10:36:01.611Z"
   },
   {
    "duration": 4,
    "start_time": "2022-12-08T10:36:11.381Z"
   },
   {
    "duration": 7,
    "start_time": "2022-12-08T10:37:39.809Z"
   },
   {
    "duration": 38,
    "start_time": "2022-12-08T10:39:52.587Z"
   },
   {
    "duration": 51,
    "start_time": "2022-12-08T10:39:59.774Z"
   },
   {
    "duration": 17,
    "start_time": "2022-12-08T10:40:12.192Z"
   },
   {
    "duration": 9,
    "start_time": "2022-12-08T10:40:38.005Z"
   },
   {
    "duration": 10,
    "start_time": "2022-12-08T10:40:55.738Z"
   },
   {
    "duration": 115,
    "start_time": "2022-12-08T11:01:55.368Z"
   },
   {
    "duration": 4,
    "start_time": "2022-12-08T11:18:34.099Z"
   },
   {
    "duration": 5,
    "start_time": "2022-12-08T11:31:17.448Z"
   },
   {
    "duration": 13,
    "start_time": "2022-12-08T11:35:42.346Z"
   },
   {
    "duration": 30,
    "start_time": "2022-12-08T11:36:16.288Z"
   },
   {
    "duration": 23,
    "start_time": "2022-12-08T11:37:06.874Z"
   },
   {
    "duration": 38,
    "start_time": "2022-12-08T11:41:47.903Z"
   },
   {
    "duration": 5,
    "start_time": "2022-12-08T11:44:53.309Z"
   },
   {
    "duration": 16,
    "start_time": "2022-12-08T11:49:46.074Z"
   },
   {
    "duration": 14,
    "start_time": "2022-12-08T11:50:08.895Z"
   },
   {
    "duration": 134,
    "start_time": "2022-12-08T12:08:48.880Z"
   },
   {
    "duration": 117,
    "start_time": "2022-12-08T12:08:59.296Z"
   },
   {
    "duration": 31,
    "start_time": "2022-12-08T12:09:17.196Z"
   },
   {
    "duration": 28,
    "start_time": "2022-12-08T12:09:32.941Z"
   },
   {
    "duration": 12,
    "start_time": "2022-12-08T12:10:46.818Z"
   },
   {
    "duration": 12,
    "start_time": "2022-12-08T12:12:06.759Z"
   },
   {
    "duration": 9,
    "start_time": "2022-12-08T12:12:44.187Z"
   },
   {
    "duration": 13,
    "start_time": "2022-12-08T12:13:28.671Z"
   },
   {
    "duration": 11,
    "start_time": "2022-12-08T12:13:42.271Z"
   },
   {
    "duration": 9,
    "start_time": "2022-12-08T12:13:53.207Z"
   },
   {
    "duration": 22,
    "start_time": "2022-12-08T12:14:01.022Z"
   },
   {
    "duration": 11,
    "start_time": "2022-12-08T12:14:20.355Z"
   },
   {
    "duration": 23,
    "start_time": "2022-12-08T12:14:46.813Z"
   },
   {
    "duration": 3,
    "start_time": "2022-12-08T12:16:03.292Z"
   },
   {
    "duration": 24,
    "start_time": "2022-12-08T12:16:55.875Z"
   },
   {
    "duration": 103,
    "start_time": "2022-12-08T12:19:59.631Z"
   },
   {
    "duration": 108,
    "start_time": "2022-12-08T12:20:54.039Z"
   },
   {
    "duration": 107,
    "start_time": "2022-12-08T12:21:25.541Z"
   },
   {
    "duration": 4,
    "start_time": "2022-12-08T12:22:01.409Z"
   },
   {
    "duration": 123,
    "start_time": "2022-12-08T12:23:45.792Z"
   },
   {
    "duration": 105,
    "start_time": "2022-12-08T12:23:52.457Z"
   },
   {
    "duration": 111,
    "start_time": "2022-12-08T12:24:34.379Z"
   },
   {
    "duration": 109,
    "start_time": "2022-12-08T12:27:07.978Z"
   },
   {
    "duration": 110,
    "start_time": "2022-12-08T12:27:15.663Z"
   },
   {
    "duration": 534,
    "start_time": "2022-12-08T12:29:50.693Z"
   },
   {
    "duration": 108,
    "start_time": "2022-12-08T12:30:26.550Z"
   },
   {
    "duration": 105,
    "start_time": "2022-12-08T12:30:33.216Z"
   },
   {
    "duration": 124,
    "start_time": "2022-12-08T12:31:00.169Z"
   },
   {
    "duration": 44,
    "start_time": "2022-12-08T14:19:24.800Z"
   },
   {
    "duration": 1084,
    "start_time": "2022-12-08T14:19:31.861Z"
   },
   {
    "duration": 590,
    "start_time": "2022-12-08T14:19:32.947Z"
   },
   {
    "duration": 588,
    "start_time": "2022-12-08T14:19:33.539Z"
   },
   {
    "duration": 544,
    "start_time": "2022-12-08T14:19:34.129Z"
   },
   {
    "duration": 17,
    "start_time": "2022-12-08T14:19:34.675Z"
   },
   {
    "duration": 37,
    "start_time": "2022-12-08T14:19:34.694Z"
   },
   {
    "duration": 77,
    "start_time": "2022-12-08T14:19:34.733Z"
   },
   {
    "duration": 167,
    "start_time": "2022-12-08T14:19:34.811Z"
   },
   {
    "duration": 100,
    "start_time": "2022-12-08T14:19:34.981Z"
   },
   {
    "duration": 8,
    "start_time": "2022-12-08T14:19:35.083Z"
   },
   {
    "duration": 106,
    "start_time": "2022-12-08T14:19:35.092Z"
   },
   {
    "duration": 0,
    "start_time": "2022-12-08T14:19:35.200Z"
   },
   {
    "duration": 0,
    "start_time": "2022-12-08T14:19:35.201Z"
   },
   {
    "duration": 0,
    "start_time": "2022-12-08T14:19:35.203Z"
   },
   {
    "duration": 4,
    "start_time": "2022-12-08T14:19:51.201Z"
   },
   {
    "duration": 8,
    "start_time": "2022-12-08T14:20:44.281Z"
   },
   {
    "duration": 12,
    "start_time": "2022-12-08T14:21:56.412Z"
   },
   {
    "duration": 7,
    "start_time": "2022-12-08T14:22:11.714Z"
   },
   {
    "duration": 7,
    "start_time": "2022-12-08T14:23:46.830Z"
   },
   {
    "duration": 16,
    "start_time": "2022-12-08T14:24:20.548Z"
   },
   {
    "duration": 4,
    "start_time": "2022-12-08T14:24:58.503Z"
   },
   {
    "duration": 18,
    "start_time": "2022-12-08T14:25:23.037Z"
   },
   {
    "duration": 4,
    "start_time": "2022-12-08T14:25:45.257Z"
   },
   {
    "duration": 9,
    "start_time": "2022-12-08T14:35:33.794Z"
   },
   {
    "duration": 9,
    "start_time": "2022-12-08T14:35:41.742Z"
   },
   {
    "duration": 14,
    "start_time": "2022-12-08T14:35:49.575Z"
   },
   {
    "duration": 5,
    "start_time": "2022-12-08T14:36:58.816Z"
   },
   {
    "duration": 3,
    "start_time": "2022-12-08T14:37:29.619Z"
   },
   {
    "duration": 12,
    "start_time": "2022-12-08T14:37:49.308Z"
   },
   {
    "duration": 5,
    "start_time": "2022-12-08T14:38:39.979Z"
   },
   {
    "duration": 5,
    "start_time": "2022-12-08T14:40:12.757Z"
   },
   {
    "duration": 6,
    "start_time": "2022-12-08T14:40:30.845Z"
   },
   {
    "duration": 6,
    "start_time": "2022-12-08T14:40:48.089Z"
   },
   {
    "duration": 6,
    "start_time": "2022-12-08T14:41:15.413Z"
   },
   {
    "duration": 9,
    "start_time": "2022-12-08T14:41:22.925Z"
   },
   {
    "duration": 8,
    "start_time": "2022-12-08T14:41:51.816Z"
   },
   {
    "duration": 7,
    "start_time": "2022-12-08T14:42:58.507Z"
   },
   {
    "duration": 3,
    "start_time": "2022-12-08T14:44:11.316Z"
   },
   {
    "duration": 6,
    "start_time": "2022-12-08T14:45:33.574Z"
   },
   {
    "duration": 10,
    "start_time": "2022-12-08T14:46:20.899Z"
   },
   {
    "duration": 11,
    "start_time": "2022-12-08T14:46:35.096Z"
   },
   {
    "duration": 14,
    "start_time": "2022-12-08T14:48:59.179Z"
   },
   {
    "duration": 12,
    "start_time": "2022-12-08T14:49:45.117Z"
   },
   {
    "duration": 13,
    "start_time": "2022-12-08T14:50:30.795Z"
   },
   {
    "duration": 12,
    "start_time": "2022-12-08T14:50:44.675Z"
   },
   {
    "duration": 3,
    "start_time": "2022-12-08T14:55:27.710Z"
   },
   {
    "duration": 12,
    "start_time": "2022-12-08T14:55:35.960Z"
   },
   {
    "duration": 5,
    "start_time": "2022-12-08T15:03:16.512Z"
   },
   {
    "duration": 4,
    "start_time": "2022-12-08T15:05:46.293Z"
   },
   {
    "duration": 4,
    "start_time": "2022-12-08T15:07:31.070Z"
   },
   {
    "duration": 4,
    "start_time": "2022-12-08T15:10:24.940Z"
   },
   {
    "duration": 14,
    "start_time": "2022-12-08T15:10:40.192Z"
   },
   {
    "duration": 4,
    "start_time": "2022-12-08T15:13:52.814Z"
   },
   {
    "duration": 72,
    "start_time": "2022-12-08T15:14:05.329Z"
   },
   {
    "duration": 5,
    "start_time": "2022-12-08T15:14:05.514Z"
   },
   {
    "duration": 70,
    "start_time": "2022-12-08T15:15:17.543Z"
   },
   {
    "duration": 158,
    "start_time": "2022-12-08T15:17:07.386Z"
   },
   {
    "duration": 13,
    "start_time": "2022-12-08T15:17:17.620Z"
   },
   {
    "duration": 3,
    "start_time": "2022-12-08T15:18:18.043Z"
   },
   {
    "duration": 13,
    "start_time": "2022-12-08T15:18:22.028Z"
   },
   {
    "duration": 31,
    "start_time": "2022-12-08T15:20:44.894Z"
   },
   {
    "duration": 24,
    "start_time": "2022-12-08T15:20:52.175Z"
   },
   {
    "duration": 4,
    "start_time": "2022-12-08T15:24:31.885Z"
   },
   {
    "duration": 76,
    "start_time": "2022-12-08T15:40:42.714Z"
   },
   {
    "duration": 10,
    "start_time": "2022-12-08T15:40:56.664Z"
   },
   {
    "duration": 4,
    "start_time": "2022-12-08T15:41:27.963Z"
   },
   {
    "duration": 1115,
    "start_time": "2022-12-08T15:41:33.348Z"
   },
   {
    "duration": 146,
    "start_time": "2022-12-08T15:41:34.465Z"
   },
   {
    "duration": 126,
    "start_time": "2022-12-08T15:41:34.613Z"
   },
   {
    "duration": 137,
    "start_time": "2022-12-08T15:41:34.741Z"
   },
   {
    "duration": 18,
    "start_time": "2022-12-08T15:41:34.880Z"
   },
   {
    "duration": 42,
    "start_time": "2022-12-08T15:41:34.900Z"
   },
   {
    "duration": 89,
    "start_time": "2022-12-08T15:41:34.944Z"
   },
   {
    "duration": 49,
    "start_time": "2022-12-08T15:41:35.034Z"
   },
   {
    "duration": 95,
    "start_time": "2022-12-08T15:41:35.085Z"
   },
   {
    "duration": 107,
    "start_time": "2022-12-08T15:41:35.181Z"
   },
   {
    "duration": 38,
    "start_time": "2022-12-08T15:41:35.289Z"
   },
   {
    "duration": 50,
    "start_time": "2022-12-08T15:41:54.119Z"
   },
   {
    "duration": 1045,
    "start_time": "2022-12-08T15:42:01.116Z"
   },
   {
    "duration": 61,
    "start_time": "2022-12-08T15:42:09.267Z"
   },
   {
    "duration": 4,
    "start_time": "2022-12-08T15:42:26.020Z"
   },
   {
    "duration": 2,
    "start_time": "2022-12-08T15:42:32.408Z"
   },
   {
    "duration": 610,
    "start_time": "2022-12-08T15:42:32.412Z"
   },
   {
    "duration": 531,
    "start_time": "2022-12-08T15:42:33.023Z"
   },
   {
    "duration": 567,
    "start_time": "2022-12-08T15:42:33.556Z"
   },
   {
    "duration": 17,
    "start_time": "2022-12-08T15:42:34.125Z"
   },
   {
    "duration": 41,
    "start_time": "2022-12-08T15:42:34.144Z"
   },
   {
    "duration": 68,
    "start_time": "2022-12-08T15:42:34.186Z"
   },
   {
    "duration": 47,
    "start_time": "2022-12-08T15:42:34.255Z"
   },
   {
    "duration": 75,
    "start_time": "2022-12-08T15:42:34.305Z"
   },
   {
    "duration": 99,
    "start_time": "2022-12-08T15:42:34.381Z"
   },
   {
    "duration": 34,
    "start_time": "2022-12-08T15:42:34.482Z"
   },
   {
    "duration": 46,
    "start_time": "2022-12-08T15:42:45.106Z"
   },
   {
    "duration": 8,
    "start_time": "2022-12-08T15:42:57.540Z"
   },
   {
    "duration": 7,
    "start_time": "2022-12-08T15:43:51.615Z"
   },
   {
    "duration": 250,
    "start_time": "2022-12-08T15:45:02.975Z"
   },
   {
    "duration": 865,
    "start_time": "2022-12-08T15:45:16.081Z"
   },
   {
    "duration": 584,
    "start_time": "2022-12-08T15:45:19.088Z"
   },
   {
    "duration": 601,
    "start_time": "2022-12-08T15:45:22.589Z"
   },
   {
    "duration": 572,
    "start_time": "2022-12-08T15:45:26.088Z"
   },
   {
    "duration": 18,
    "start_time": "2022-12-08T15:45:29.941Z"
   },
   {
    "duration": 34,
    "start_time": "2022-12-08T15:45:33.208Z"
   },
   {
    "duration": 70,
    "start_time": "2022-12-08T15:45:35.544Z"
   },
   {
    "duration": 37,
    "start_time": "2022-12-08T15:45:38.241Z"
   },
   {
    "duration": 8,
    "start_time": "2022-12-08T15:45:40.008Z"
   },
   {
    "duration": 5,
    "start_time": "2022-12-08T15:45:43.875Z"
   },
   {
    "duration": 27,
    "start_time": "2022-12-08T15:45:47.125Z"
   },
   {
    "duration": 261,
    "start_time": "2022-12-08T15:45:56.602Z"
   },
   {
    "duration": 6,
    "start_time": "2022-12-08T15:46:22.163Z"
   },
   {
    "duration": 862,
    "start_time": "2022-12-08T15:46:33.914Z"
   },
   {
    "duration": 573,
    "start_time": "2022-12-08T15:46:36.245Z"
   },
   {
    "duration": 289,
    "start_time": "2022-12-08T15:47:04.972Z"
   },
   {
    "duration": 793,
    "start_time": "2022-12-08T15:47:24.753Z"
   },
   {
    "duration": 585,
    "start_time": "2022-12-08T15:47:27.337Z"
   },
   {
    "duration": 70,
    "start_time": "2022-12-08T16:04:47.125Z"
   },
   {
    "duration": 71,
    "start_time": "2022-12-08T16:05:03.655Z"
   },
   {
    "duration": 83,
    "start_time": "2022-12-08T16:05:19.791Z"
   },
   {
    "duration": 72,
    "start_time": "2022-12-08T16:05:46.329Z"
   },
   {
    "duration": 1077,
    "start_time": "2022-12-08T16:13:43.404Z"
   },
   {
    "duration": 574,
    "start_time": "2022-12-08T16:13:44.483Z"
   },
   {
    "duration": 514,
    "start_time": "2022-12-08T16:13:45.059Z"
   },
   {
    "duration": 531,
    "start_time": "2022-12-08T16:13:45.575Z"
   },
   {
    "duration": 16,
    "start_time": "2022-12-08T16:13:46.108Z"
   },
   {
    "duration": 41,
    "start_time": "2022-12-08T16:13:46.125Z"
   },
   {
    "duration": 67,
    "start_time": "2022-12-08T16:13:46.168Z"
   },
   {
    "duration": 45,
    "start_time": "2022-12-08T16:13:46.236Z"
   },
   {
    "duration": 97,
    "start_time": "2022-12-08T16:13:46.282Z"
   },
   {
    "duration": 99,
    "start_time": "2022-12-08T16:13:46.381Z"
   },
   {
    "duration": 30,
    "start_time": "2022-12-08T16:13:46.482Z"
   },
   {
    "duration": 72,
    "start_time": "2022-12-08T16:13:46.514Z"
   },
   {
    "duration": 73,
    "start_time": "2022-12-08T16:15:23.610Z"
   },
   {
    "duration": 80,
    "start_time": "2022-12-08T16:15:51.144Z"
   },
   {
    "duration": 95,
    "start_time": "2022-12-08T16:16:57.969Z"
   },
   {
    "duration": 9,
    "start_time": "2022-12-08T16:17:27.922Z"
   },
   {
    "duration": 4,
    "start_time": "2022-12-08T16:17:39.556Z"
   },
   {
    "duration": 278,
    "start_time": "2022-12-09T11:24:31.791Z"
   },
   {
    "duration": 982,
    "start_time": "2022-12-09T11:24:42.250Z"
   },
   {
    "duration": 230,
    "start_time": "2022-12-09T11:24:43.234Z"
   },
   {
    "duration": 205,
    "start_time": "2022-12-09T11:24:43.465Z"
   },
   {
    "duration": 209,
    "start_time": "2022-12-09T11:24:43.671Z"
   },
   {
    "duration": 15,
    "start_time": "2022-12-09T11:24:43.882Z"
   },
   {
    "duration": 35,
    "start_time": "2022-12-09T11:24:43.898Z"
   },
   {
    "duration": 76,
    "start_time": "2022-12-09T11:24:43.935Z"
   },
   {
    "duration": 85,
    "start_time": "2022-12-09T11:24:44.013Z"
   },
   {
    "duration": 99,
    "start_time": "2022-12-09T11:24:44.100Z"
   },
   {
    "duration": 5,
    "start_time": "2022-12-09T11:24:44.200Z"
   },
   {
    "duration": 30,
    "start_time": "2022-12-09T11:24:44.206Z"
   },
   {
    "duration": 3,
    "start_time": "2022-12-09T11:36:07.685Z"
   },
   {
    "duration": 5,
    "start_time": "2022-12-09T11:36:13.908Z"
   },
   {
    "duration": 160,
    "start_time": "2022-12-09T11:36:38.088Z"
   },
   {
    "duration": 160,
    "start_time": "2022-12-09T11:36:41.069Z"
   },
   {
    "duration": 160,
    "start_time": "2022-12-09T11:36:43.709Z"
   },
   {
    "duration": 15,
    "start_time": "2022-12-09T11:36:47.159Z"
   },
   {
    "duration": 27,
    "start_time": "2022-12-09T11:36:50.521Z"
   },
   {
    "duration": 71,
    "start_time": "2022-12-09T11:36:53.290Z"
   },
   {
    "duration": 118,
    "start_time": "2022-12-09T11:37:01.090Z"
   },
   {
    "duration": 8,
    "start_time": "2022-12-09T11:37:03.739Z"
   },
   {
    "duration": 4,
    "start_time": "2022-12-09T11:37:15.873Z"
   },
   {
    "duration": 26,
    "start_time": "2022-12-09T11:37:22.657Z"
   },
   {
    "duration": 0,
    "start_time": "2022-12-09T11:44:47.551Z"
   },
   {
    "duration": 0,
    "start_time": "2022-12-09T11:44:47.552Z"
   },
   {
    "duration": 0,
    "start_time": "2022-12-09T11:44:47.553Z"
   },
   {
    "duration": 526,
    "start_time": "2022-12-09T11:53:05.273Z"
   },
   {
    "duration": 233,
    "start_time": "2022-12-09T11:54:18.098Z"
   },
   {
    "duration": 219,
    "start_time": "2022-12-09T11:54:31.925Z"
   },
   {
    "duration": 226,
    "start_time": "2022-12-09T11:55:07.428Z"
   },
   {
    "duration": 0,
    "start_time": "2022-12-09T12:00:21.179Z"
   },
   {
    "duration": 1,
    "start_time": "2022-12-09T12:00:21.183Z"
   },
   {
    "duration": 223,
    "start_time": "2022-12-09T12:02:17.618Z"
   },
   {
    "duration": 50,
    "start_time": "2022-12-09T12:04:07.856Z"
   },
   {
    "duration": 1270,
    "start_time": "2022-12-09T12:04:23.609Z"
   },
   {
    "duration": 272,
    "start_time": "2022-12-09T12:04:27.811Z"
   },
   {
    "duration": 246,
    "start_time": "2022-12-09T12:04:33.611Z"
   },
   {
    "duration": 295,
    "start_time": "2022-12-09T12:04:35.043Z"
   },
   {
    "duration": 18,
    "start_time": "2022-12-09T12:04:38.215Z"
   },
   {
    "duration": 45,
    "start_time": "2022-12-09T12:04:41.126Z"
   },
   {
    "duration": 72,
    "start_time": "2022-12-09T12:04:44.043Z"
   },
   {
    "duration": 118,
    "start_time": "2022-12-09T12:04:45.697Z"
   },
   {
    "duration": 9,
    "start_time": "2022-12-09T12:04:49.442Z"
   },
   {
    "duration": 4,
    "start_time": "2022-12-09T12:04:59.511Z"
   },
   {
    "duration": 22,
    "start_time": "2022-12-09T12:05:02.644Z"
   },
   {
    "duration": 55,
    "start_time": "2022-12-09T12:05:24.619Z"
   },
   {
    "duration": 1312,
    "start_time": "2022-12-09T12:05:32.405Z"
   },
   {
    "duration": 257,
    "start_time": "2022-12-09T12:05:33.719Z"
   },
   {
    "duration": 249,
    "start_time": "2022-12-09T12:05:33.978Z"
   },
   {
    "duration": 231,
    "start_time": "2022-12-09T12:05:34.229Z"
   },
   {
    "duration": 16,
    "start_time": "2022-12-09T12:05:34.462Z"
   },
   {
    "duration": 44,
    "start_time": "2022-12-09T12:05:34.479Z"
   },
   {
    "duration": 92,
    "start_time": "2022-12-09T12:05:34.525Z"
   },
   {
    "duration": 106,
    "start_time": "2022-12-09T12:05:34.621Z"
   },
   {
    "duration": 73,
    "start_time": "2022-12-09T12:05:34.731Z"
   },
   {
    "duration": 19,
    "start_time": "2022-12-09T12:05:34.806Z"
   },
   {
    "duration": 39,
    "start_time": "2022-12-09T12:05:34.827Z"
   },
   {
    "duration": 57,
    "start_time": "2022-12-09T12:06:04.734Z"
   },
   {
    "duration": 184,
    "start_time": "2022-12-09T12:06:26.857Z"
   },
   {
    "duration": 1229,
    "start_time": "2022-12-09T12:06:41.557Z"
   },
   {
    "duration": 268,
    "start_time": "2022-12-09T12:06:42.788Z"
   },
   {
    "duration": 222,
    "start_time": "2022-12-09T12:06:43.057Z"
   },
   {
    "duration": 244,
    "start_time": "2022-12-09T12:06:43.281Z"
   },
   {
    "duration": 17,
    "start_time": "2022-12-09T12:06:43.527Z"
   },
   {
    "duration": 48,
    "start_time": "2022-12-09T12:06:43.546Z"
   },
   {
    "duration": 80,
    "start_time": "2022-12-09T12:06:43.595Z"
   },
   {
    "duration": 54,
    "start_time": "2022-12-09T12:06:43.676Z"
   },
   {
    "duration": 24,
    "start_time": "2022-12-09T12:06:43.797Z"
   },
   {
    "duration": 95,
    "start_time": "2022-12-09T12:06:43.823Z"
   },
   {
    "duration": 42,
    "start_time": "2022-12-09T12:06:43.920Z"
   },
   {
    "duration": 317,
    "start_time": "2022-12-09T12:06:43.964Z"
   },
   {
    "duration": 0,
    "start_time": "2022-12-09T12:06:44.283Z"
   },
   {
    "duration": 244,
    "start_time": "2022-12-09T12:07:24.616Z"
   },
   {
    "duration": 318,
    "start_time": "2022-12-09T12:08:46.223Z"
   },
   {
    "duration": 5735,
    "start_time": "2022-12-09T12:11:51.048Z"
   },
   {
    "duration": 293,
    "start_time": "2022-12-09T12:14:55.447Z"
   },
   {
    "duration": 1160,
    "start_time": "2022-12-09T12:15:11.893Z"
   },
   {
    "duration": 175,
    "start_time": "2022-12-09T12:15:13.056Z"
   },
   {
    "duration": 197,
    "start_time": "2022-12-09T12:15:13.234Z"
   },
   {
    "duration": 146,
    "start_time": "2022-12-09T12:15:13.432Z"
   },
   {
    "duration": 35,
    "start_time": "2022-12-09T12:15:13.580Z"
   },
   {
    "duration": 73,
    "start_time": "2022-12-09T12:15:13.616Z"
   },
   {
    "duration": 77,
    "start_time": "2022-12-09T12:15:13.691Z"
   },
   {
    "duration": 55,
    "start_time": "2022-12-09T12:15:13.770Z"
   },
   {
    "duration": 82,
    "start_time": "2022-12-09T12:15:13.827Z"
   },
   {
    "duration": 119,
    "start_time": "2022-12-09T12:15:13.911Z"
   },
   {
    "duration": 38,
    "start_time": "2022-12-09T12:15:14.031Z"
   },
   {
    "duration": 1073,
    "start_time": "2022-12-09T12:19:56.673Z"
   },
   {
    "duration": 163,
    "start_time": "2022-12-09T12:19:57.747Z"
   },
   {
    "duration": 140,
    "start_time": "2022-12-09T12:19:57.912Z"
   },
   {
    "duration": 137,
    "start_time": "2022-12-09T12:19:58.054Z"
   },
   {
    "duration": 25,
    "start_time": "2022-12-09T12:19:58.193Z"
   },
   {
    "duration": 45,
    "start_time": "2022-12-09T12:19:58.220Z"
   },
   {
    "duration": 69,
    "start_time": "2022-12-09T12:19:58.266Z"
   },
   {
    "duration": 69,
    "start_time": "2022-12-09T12:19:58.336Z"
   },
   {
    "duration": 97,
    "start_time": "2022-12-09T12:19:58.408Z"
   },
   {
    "duration": 113,
    "start_time": "2022-12-09T12:19:58.506Z"
   },
   {
    "duration": 52,
    "start_time": "2022-12-09T12:19:58.620Z"
   },
   {
    "duration": 402,
    "start_time": "2022-12-09T12:19:58.673Z"
   },
   {
    "duration": 10,
    "start_time": "2022-12-09T12:24:50.799Z"
   },
   {
    "duration": 852,
    "start_time": "2022-12-09T12:27:12.315Z"
   },
   {
    "duration": 863,
    "start_time": "2022-12-09T12:34:21.239Z"
   },
   {
    "duration": 4,
    "start_time": "2022-12-09T12:36:56.196Z"
   },
   {
    "duration": 1047,
    "start_time": "2022-12-09T12:37:17.782Z"
   },
   {
    "duration": 149,
    "start_time": "2022-12-09T12:37:18.831Z"
   },
   {
    "duration": 130,
    "start_time": "2022-12-09T12:37:18.982Z"
   },
   {
    "duration": 140,
    "start_time": "2022-12-09T12:37:19.114Z"
   },
   {
    "duration": 19,
    "start_time": "2022-12-09T12:37:19.257Z"
   },
   {
    "duration": 41,
    "start_time": "2022-12-09T12:37:19.278Z"
   },
   {
    "duration": 63,
    "start_time": "2022-12-09T12:37:19.320Z"
   },
   {
    "duration": 100,
    "start_time": "2022-12-09T12:37:19.398Z"
   },
   {
    "duration": 99,
    "start_time": "2022-12-09T12:37:19.500Z"
   },
   {
    "duration": 4,
    "start_time": "2022-12-09T12:37:19.601Z"
   },
   {
    "duration": 27,
    "start_time": "2022-12-09T12:37:19.607Z"
   },
   {
    "duration": 112,
    "start_time": "2022-12-09T12:37:19.636Z"
   },
   {
    "duration": 0,
    "start_time": "2022-12-09T12:37:19.749Z"
   },
   {
    "duration": 4,
    "start_time": "2022-12-09T12:39:01.593Z"
   },
   {
    "duration": 829,
    "start_time": "2022-12-09T12:39:42.365Z"
   },
   {
    "duration": 53,
    "start_time": "2022-12-09T12:56:10.691Z"
   },
   {
    "duration": 6,
    "start_time": "2022-12-09T12:56:47.927Z"
   },
   {
    "duration": 5,
    "start_time": "2022-12-09T12:57:27.097Z"
   },
   {
    "duration": 5,
    "start_time": "2022-12-09T12:58:00.684Z"
   },
   {
    "duration": 14,
    "start_time": "2022-12-09T12:59:39.912Z"
   },
   {
    "duration": 801,
    "start_time": "2022-12-09T13:00:26.186Z"
   },
   {
    "duration": 809,
    "start_time": "2022-12-09T13:02:37.900Z"
   },
   {
    "duration": 826,
    "start_time": "2022-12-09T13:02:59.053Z"
   },
   {
    "duration": 804,
    "start_time": "2022-12-09T13:03:23.621Z"
   },
   {
    "duration": 769,
    "start_time": "2022-12-09T13:04:10.729Z"
   },
   {
    "duration": 5,
    "start_time": "2022-12-09T13:04:40.979Z"
   },
   {
    "duration": 13,
    "start_time": "2022-12-09T13:10:02.732Z"
   },
   {
    "duration": 9,
    "start_time": "2022-12-09T13:11:11.142Z"
   },
   {
    "duration": 31,
    "start_time": "2022-12-09T13:13:17.853Z"
   },
   {
    "duration": 1109,
    "start_time": "2022-12-09T13:13:33.901Z"
   },
   {
    "duration": 155,
    "start_time": "2022-12-09T13:13:35.013Z"
   },
   {
    "duration": 136,
    "start_time": "2022-12-09T13:13:35.170Z"
   },
   {
    "duration": 138,
    "start_time": "2022-12-09T13:13:35.308Z"
   },
   {
    "duration": 17,
    "start_time": "2022-12-09T13:13:35.448Z"
   },
   {
    "duration": 60,
    "start_time": "2022-12-09T13:13:35.467Z"
   },
   {
    "duration": 83,
    "start_time": "2022-12-09T13:13:35.528Z"
   },
   {
    "duration": 11,
    "start_time": "2022-12-09T13:13:35.612Z"
   },
   {
    "duration": 86,
    "start_time": "2022-12-09T13:13:35.625Z"
   },
   {
    "duration": 100,
    "start_time": "2022-12-09T13:13:35.799Z"
   },
   {
    "duration": 5,
    "start_time": "2022-12-09T13:13:35.901Z"
   },
   {
    "duration": 62,
    "start_time": "2022-12-09T13:13:35.907Z"
   },
   {
    "duration": 128,
    "start_time": "2022-12-09T13:13:35.970Z"
   },
   {
    "duration": 0,
    "start_time": "2022-12-09T13:13:36.100Z"
   },
   {
    "duration": 223,
    "start_time": "2022-12-09T13:15:07.764Z"
   },
   {
    "duration": 1261,
    "start_time": "2022-12-09T13:15:49.492Z"
   },
   {
    "duration": 173,
    "start_time": "2022-12-09T13:15:50.755Z"
   },
   {
    "duration": 132,
    "start_time": "2022-12-09T13:15:50.929Z"
   },
   {
    "duration": 135,
    "start_time": "2022-12-09T13:15:51.062Z"
   },
   {
    "duration": 17,
    "start_time": "2022-12-09T13:15:51.199Z"
   },
   {
    "duration": 59,
    "start_time": "2022-12-09T13:15:51.218Z"
   },
   {
    "duration": 76,
    "start_time": "2022-12-09T13:15:51.278Z"
   },
   {
    "duration": 8,
    "start_time": "2022-12-09T13:15:51.356Z"
   },
   {
    "duration": 60,
    "start_time": "2022-12-09T13:15:51.366Z"
   },
   {
    "duration": 79,
    "start_time": "2022-12-09T13:15:51.428Z"
   },
   {
    "duration": 42,
    "start_time": "2022-12-09T13:15:51.598Z"
   },
   {
    "duration": 42,
    "start_time": "2022-12-09T13:15:51.642Z"
   },
   {
    "duration": 315,
    "start_time": "2022-12-09T13:15:51.686Z"
   },
   {
    "duration": 1043,
    "start_time": "2022-12-09T13:16:14.637Z"
   },
   {
    "duration": 1052,
    "start_time": "2022-12-09T13:17:44.597Z"
   },
   {
    "duration": 150,
    "start_time": "2022-12-09T13:17:45.651Z"
   },
   {
    "duration": 131,
    "start_time": "2022-12-09T13:17:45.803Z"
   },
   {
    "duration": 135,
    "start_time": "2022-12-09T13:17:45.936Z"
   },
   {
    "duration": 16,
    "start_time": "2022-12-09T13:17:46.073Z"
   },
   {
    "duration": 34,
    "start_time": "2022-12-09T13:17:46.097Z"
   },
   {
    "duration": 80,
    "start_time": "2022-12-09T13:17:46.133Z"
   },
   {
    "duration": 9,
    "start_time": "2022-12-09T13:17:46.214Z"
   },
   {
    "duration": 78,
    "start_time": "2022-12-09T13:17:46.224Z"
   },
   {
    "duration": 100,
    "start_time": "2022-12-09T13:17:46.305Z"
   },
   {
    "duration": 100,
    "start_time": "2022-12-09T13:17:46.407Z"
   },
   {
    "duration": 44,
    "start_time": "2022-12-09T13:17:46.509Z"
   },
   {
    "duration": 1098,
    "start_time": "2022-12-09T13:26:29.811Z"
   },
   {
    "duration": 169,
    "start_time": "2022-12-09T13:26:30.911Z"
   },
   {
    "duration": 132,
    "start_time": "2022-12-09T13:26:31.082Z"
   },
   {
    "duration": 133,
    "start_time": "2022-12-09T13:26:31.215Z"
   },
   {
    "duration": 17,
    "start_time": "2022-12-09T13:26:31.350Z"
   },
   {
    "duration": 49,
    "start_time": "2022-12-09T13:26:31.368Z"
   },
   {
    "duration": 64,
    "start_time": "2022-12-09T13:26:31.418Z"
   },
   {
    "duration": 21,
    "start_time": "2022-12-09T13:26:31.483Z"
   },
   {
    "duration": 101,
    "start_time": "2022-12-09T13:26:31.505Z"
   },
   {
    "duration": 13,
    "start_time": "2022-12-09T13:26:31.698Z"
   },
   {
    "duration": 7,
    "start_time": "2022-12-09T13:26:31.798Z"
   },
   {
    "duration": 23,
    "start_time": "2022-12-09T13:26:31.807Z"
   },
   {
    "duration": 42,
    "start_time": "2022-12-09T13:26:31.832Z"
   },
   {
    "duration": 105,
    "start_time": "2022-12-09T13:26:50.770Z"
   },
   {
    "duration": 12,
    "start_time": "2022-12-09T13:27:28.873Z"
   },
   {
    "duration": 10,
    "start_time": "2022-12-09T13:28:04.443Z"
   },
   {
    "duration": 1031,
    "start_time": "2022-12-09T13:35:20.855Z"
   },
   {
    "duration": 174,
    "start_time": "2022-12-09T13:35:21.888Z"
   },
   {
    "duration": 131,
    "start_time": "2022-12-09T13:35:22.064Z"
   },
   {
    "duration": 134,
    "start_time": "2022-12-09T13:35:22.197Z"
   },
   {
    "duration": 18,
    "start_time": "2022-12-09T13:35:22.333Z"
   },
   {
    "duration": 47,
    "start_time": "2022-12-09T13:35:22.352Z"
   },
   {
    "duration": 68,
    "start_time": "2022-12-09T13:35:22.401Z"
   },
   {
    "duration": 29,
    "start_time": "2022-12-09T13:35:22.470Z"
   },
   {
    "duration": 101,
    "start_time": "2022-12-09T13:35:22.500Z"
   },
   {
    "duration": 97,
    "start_time": "2022-12-09T13:35:22.604Z"
   },
   {
    "duration": 104,
    "start_time": "2022-12-09T13:35:22.704Z"
   },
   {
    "duration": 26,
    "start_time": "2022-12-09T13:35:22.810Z"
   },
   {
    "duration": 5,
    "start_time": "2022-12-09T13:35:22.837Z"
   },
   {
    "duration": 1039,
    "start_time": "2022-12-09T13:36:07.241Z"
   },
   {
    "duration": 151,
    "start_time": "2022-12-09T13:36:08.282Z"
   },
   {
    "duration": 141,
    "start_time": "2022-12-09T13:36:08.434Z"
   },
   {
    "duration": 139,
    "start_time": "2022-12-09T13:36:08.577Z"
   },
   {
    "duration": 17,
    "start_time": "2022-12-09T13:36:08.719Z"
   },
   {
    "duration": 38,
    "start_time": "2022-12-09T13:36:08.738Z"
   },
   {
    "duration": 79,
    "start_time": "2022-12-09T13:36:08.798Z"
   },
   {
    "duration": 21,
    "start_time": "2022-12-09T13:36:08.879Z"
   },
   {
    "duration": 106,
    "start_time": "2022-12-09T13:36:08.902Z"
   },
   {
    "duration": 101,
    "start_time": "2022-12-09T13:36:09.099Z"
   },
   {
    "duration": 9,
    "start_time": "2022-12-09T13:36:09.202Z"
   },
   {
    "duration": 28,
    "start_time": "2022-12-09T13:36:09.213Z"
   },
   {
    "duration": 1045,
    "start_time": "2022-12-09T13:41:59.916Z"
   },
   {
    "duration": 153,
    "start_time": "2022-12-09T13:42:00.963Z"
   },
   {
    "duration": 134,
    "start_time": "2022-12-09T13:42:01.118Z"
   },
   {
    "duration": 160,
    "start_time": "2022-12-09T13:42:01.254Z"
   },
   {
    "duration": 22,
    "start_time": "2022-12-09T13:42:01.417Z"
   },
   {
    "duration": 50,
    "start_time": "2022-12-09T13:42:01.441Z"
   },
   {
    "duration": 68,
    "start_time": "2022-12-09T13:42:01.497Z"
   },
   {
    "duration": 8,
    "start_time": "2022-12-09T13:42:01.566Z"
   },
   {
    "duration": 49,
    "start_time": "2022-12-09T13:42:01.576Z"
   },
   {
    "duration": 83,
    "start_time": "2022-12-09T13:42:01.628Z"
   },
   {
    "duration": 5,
    "start_time": "2022-12-09T13:42:01.798Z"
   },
   {
    "duration": 31,
    "start_time": "2022-12-09T13:42:01.805Z"
   },
   {
    "duration": 45,
    "start_time": "2022-12-09T13:42:01.837Z"
   },
   {
    "duration": 991,
    "start_time": "2022-12-09T13:42:27.541Z"
   },
   {
    "duration": 154,
    "start_time": "2022-12-09T13:42:28.534Z"
   },
   {
    "duration": 135,
    "start_time": "2022-12-09T13:42:28.690Z"
   },
   {
    "duration": 138,
    "start_time": "2022-12-09T13:42:28.827Z"
   },
   {
    "duration": 17,
    "start_time": "2022-12-09T13:42:28.967Z"
   },
   {
    "duration": 74,
    "start_time": "2022-12-09T13:42:28.985Z"
   },
   {
    "duration": 65,
    "start_time": "2022-12-09T13:42:29.061Z"
   },
   {
    "duration": 10,
    "start_time": "2022-12-09T13:42:29.128Z"
   },
   {
    "duration": 67,
    "start_time": "2022-12-09T13:42:29.139Z"
   },
   {
    "duration": 96,
    "start_time": "2022-12-09T13:42:29.208Z"
   },
   {
    "duration": 111,
    "start_time": "2022-12-09T13:42:29.305Z"
   },
   {
    "duration": 35,
    "start_time": "2022-12-09T13:42:29.417Z"
   },
   {
    "duration": 53,
    "start_time": "2022-12-09T13:42:29.454Z"
   },
   {
    "duration": 42,
    "start_time": "2022-12-09T13:43:51.530Z"
   },
   {
    "duration": 48,
    "start_time": "2022-12-09T13:44:37.452Z"
   },
   {
    "duration": 1041,
    "start_time": "2022-12-09T13:45:05.614Z"
   },
   {
    "duration": 154,
    "start_time": "2022-12-09T13:45:06.658Z"
   },
   {
    "duration": 130,
    "start_time": "2022-12-09T13:45:06.814Z"
   },
   {
    "duration": 129,
    "start_time": "2022-12-09T13:45:06.945Z"
   },
   {
    "duration": 15,
    "start_time": "2022-12-09T13:45:07.076Z"
   },
   {
    "duration": 32,
    "start_time": "2022-12-09T13:45:07.097Z"
   },
   {
    "duration": 89,
    "start_time": "2022-12-09T13:45:07.131Z"
   },
   {
    "duration": 9,
    "start_time": "2022-12-09T13:45:07.222Z"
   },
   {
    "duration": 167,
    "start_time": "2022-12-09T13:45:07.232Z"
   },
   {
    "duration": 98,
    "start_time": "2022-12-09T13:45:07.401Z"
   },
   {
    "duration": 12,
    "start_time": "2022-12-09T13:45:07.501Z"
   },
   {
    "duration": 26,
    "start_time": "2022-12-09T13:45:07.514Z"
   },
   {
    "duration": 1258,
    "start_time": "2022-12-09T13:45:35.648Z"
   },
   {
    "duration": 231,
    "start_time": "2022-12-09T13:45:36.908Z"
   },
   {
    "duration": 214,
    "start_time": "2022-12-09T13:45:37.141Z"
   },
   {
    "duration": 220,
    "start_time": "2022-12-09T13:45:37.357Z"
   },
   {
    "duration": 15,
    "start_time": "2022-12-09T13:45:37.580Z"
   },
   {
    "duration": 47,
    "start_time": "2022-12-09T13:45:37.597Z"
   },
   {
    "duration": 67,
    "start_time": "2022-12-09T13:45:37.646Z"
   },
   {
    "duration": 9,
    "start_time": "2022-12-09T13:45:37.715Z"
   },
   {
    "duration": 173,
    "start_time": "2022-12-09T13:45:37.726Z"
   },
   {
    "duration": 101,
    "start_time": "2022-12-09T13:45:37.902Z"
   },
   {
    "duration": 6,
    "start_time": "2022-12-09T13:45:38.005Z"
   },
   {
    "duration": 29,
    "start_time": "2022-12-09T13:45:38.012Z"
   },
   {
    "duration": 65,
    "start_time": "2022-12-09T13:46:26.212Z"
   },
   {
    "duration": 40,
    "start_time": "2022-12-09T13:46:36.691Z"
   },
   {
    "duration": 1380,
    "start_time": "2022-12-09T13:46:49.890Z"
   },
   {
    "duration": 236,
    "start_time": "2022-12-09T13:46:51.272Z"
   },
   {
    "duration": 215,
    "start_time": "2022-12-09T13:46:51.509Z"
   },
   {
    "duration": 212,
    "start_time": "2022-12-09T13:46:51.726Z"
   },
   {
    "duration": 18,
    "start_time": "2022-12-09T13:46:51.940Z"
   },
   {
    "duration": 64,
    "start_time": "2022-12-09T13:46:51.960Z"
   },
   {
    "duration": 83,
    "start_time": "2022-12-09T13:46:52.026Z"
   },
   {
    "duration": 10,
    "start_time": "2022-12-09T13:46:52.110Z"
   },
   {
    "duration": 79,
    "start_time": "2022-12-09T13:46:52.122Z"
   },
   {
    "duration": 100,
    "start_time": "2022-12-09T13:46:52.203Z"
   },
   {
    "duration": 113,
    "start_time": "2022-12-09T13:46:52.305Z"
   },
   {
    "duration": 25,
    "start_time": "2022-12-09T13:46:52.420Z"
   },
   {
    "duration": 1036,
    "start_time": "2022-12-09T13:48:37.231Z"
   },
   {
    "duration": 163,
    "start_time": "2022-12-09T13:48:38.269Z"
   },
   {
    "duration": 134,
    "start_time": "2022-12-09T13:48:38.434Z"
   },
   {
    "duration": 128,
    "start_time": "2022-12-09T13:48:38.570Z"
   },
   {
    "duration": 16,
    "start_time": "2022-12-09T13:48:38.700Z"
   },
   {
    "duration": 45,
    "start_time": "2022-12-09T13:48:38.718Z"
   },
   {
    "duration": 77,
    "start_time": "2022-12-09T13:48:38.765Z"
   },
   {
    "duration": 8,
    "start_time": "2022-12-09T13:48:38.844Z"
   },
   {
    "duration": 48,
    "start_time": "2022-12-09T13:48:38.853Z"
   },
   {
    "duration": 102,
    "start_time": "2022-12-09T13:48:38.904Z"
   },
   {
    "duration": 96,
    "start_time": "2022-12-09T13:48:39.008Z"
   },
   {
    "duration": 27,
    "start_time": "2022-12-09T13:48:39.105Z"
   },
   {
    "duration": 1031,
    "start_time": "2022-12-09T13:50:41.340Z"
   },
   {
    "duration": 156,
    "start_time": "2022-12-09T13:50:42.373Z"
   },
   {
    "duration": 130,
    "start_time": "2022-12-09T13:50:42.531Z"
   },
   {
    "duration": 129,
    "start_time": "2022-12-09T13:50:42.663Z"
   },
   {
    "duration": 15,
    "start_time": "2022-12-09T13:50:42.797Z"
   },
   {
    "duration": 35,
    "start_time": "2022-12-09T13:50:42.814Z"
   },
   {
    "duration": 95,
    "start_time": "2022-12-09T13:50:42.850Z"
   },
   {
    "duration": 11,
    "start_time": "2022-12-09T13:50:42.947Z"
   },
   {
    "duration": 49,
    "start_time": "2022-12-09T13:50:42.959Z"
   },
   {
    "duration": 12,
    "start_time": "2022-12-09T13:50:43.096Z"
   },
   {
    "duration": 97,
    "start_time": "2022-12-09T13:50:43.110Z"
   },
   {
    "duration": 28,
    "start_time": "2022-12-09T13:50:43.209Z"
   },
   {
    "duration": 991,
    "start_time": "2022-12-09T13:56:32.255Z"
   },
   {
    "duration": 162,
    "start_time": "2022-12-09T13:56:33.248Z"
   },
   {
    "duration": 131,
    "start_time": "2022-12-09T13:56:33.412Z"
   },
   {
    "duration": 137,
    "start_time": "2022-12-09T13:56:33.545Z"
   },
   {
    "duration": 21,
    "start_time": "2022-12-09T13:56:33.683Z"
   },
   {
    "duration": 60,
    "start_time": "2022-12-09T13:56:33.705Z"
   },
   {
    "duration": 70,
    "start_time": "2022-12-09T13:56:33.767Z"
   },
   {
    "duration": 8,
    "start_time": "2022-12-09T13:56:33.839Z"
   },
   {
    "duration": 53,
    "start_time": "2022-12-09T13:56:33.850Z"
   },
   {
    "duration": 97,
    "start_time": "2022-12-09T13:56:33.908Z"
   },
   {
    "duration": 104,
    "start_time": "2022-12-09T13:56:34.006Z"
   },
   {
    "duration": 30,
    "start_time": "2022-12-09T13:56:34.111Z"
   },
   {
    "duration": 5,
    "start_time": "2022-12-09T13:56:34.142Z"
   },
   {
    "duration": 1069,
    "start_time": "2022-12-09T14:00:28.710Z"
   },
   {
    "duration": 153,
    "start_time": "2022-12-09T14:00:29.781Z"
   },
   {
    "duration": 139,
    "start_time": "2022-12-09T14:00:29.936Z"
   },
   {
    "duration": 137,
    "start_time": "2022-12-09T14:00:30.077Z"
   },
   {
    "duration": 17,
    "start_time": "2022-12-09T14:00:30.217Z"
   },
   {
    "duration": 96,
    "start_time": "2022-12-09T14:00:30.235Z"
   },
   {
    "duration": 88,
    "start_time": "2022-12-09T14:00:30.333Z"
   },
   {
    "duration": 75,
    "start_time": "2022-12-09T14:00:30.423Z"
   },
   {
    "duration": 109,
    "start_time": "2022-12-09T14:00:30.500Z"
   },
   {
    "duration": 192,
    "start_time": "2022-12-09T14:00:30.611Z"
   },
   {
    "duration": 47,
    "start_time": "2022-12-09T14:00:30.804Z"
   },
   {
    "duration": 23,
    "start_time": "2022-12-09T14:00:30.853Z"
   },
   {
    "duration": 33,
    "start_time": "2022-12-09T14:00:30.877Z"
   },
   {
    "duration": 1057,
    "start_time": "2022-12-09T14:21:52.293Z"
   },
   {
    "duration": 153,
    "start_time": "2022-12-09T14:21:53.352Z"
   },
   {
    "duration": 129,
    "start_time": "2022-12-09T14:21:53.510Z"
   },
   {
    "duration": 137,
    "start_time": "2022-12-09T14:21:53.641Z"
   },
   {
    "duration": 27,
    "start_time": "2022-12-09T14:21:53.780Z"
   },
   {
    "duration": 39,
    "start_time": "2022-12-09T14:21:53.809Z"
   },
   {
    "duration": 81,
    "start_time": "2022-12-09T14:21:53.850Z"
   },
   {
    "duration": 14,
    "start_time": "2022-12-09T14:21:53.932Z"
   },
   {
    "duration": 55,
    "start_time": "2022-12-09T14:21:53.948Z"
   },
   {
    "duration": 95,
    "start_time": "2022-12-09T14:21:54.005Z"
   },
   {
    "duration": 122,
    "start_time": "2022-12-09T14:21:54.102Z"
   },
   {
    "duration": 12,
    "start_time": "2022-12-09T14:21:54.226Z"
   },
   {
    "duration": 1027,
    "start_time": "2022-12-09T14:31:09.611Z"
   },
   {
    "duration": 145,
    "start_time": "2022-12-09T14:31:10.640Z"
   },
   {
    "duration": 125,
    "start_time": "2022-12-09T14:31:10.787Z"
   },
   {
    "duration": 137,
    "start_time": "2022-12-09T14:31:10.913Z"
   },
   {
    "duration": 18,
    "start_time": "2022-12-09T14:31:11.052Z"
   },
   {
    "duration": 47,
    "start_time": "2022-12-09T14:31:11.072Z"
   },
   {
    "duration": 84,
    "start_time": "2022-12-09T14:31:11.121Z"
   },
   {
    "duration": 8,
    "start_time": "2022-12-09T14:31:11.207Z"
   },
   {
    "duration": 81,
    "start_time": "2022-12-09T14:31:11.217Z"
   },
   {
    "duration": 106,
    "start_time": "2022-12-09T14:31:11.300Z"
   },
   {
    "duration": 119,
    "start_time": "2022-12-09T14:31:11.408Z"
   },
   {
    "duration": 10,
    "start_time": "2022-12-09T14:31:11.528Z"
   },
   {
    "duration": 32,
    "start_time": "2022-12-09T14:31:11.539Z"
   },
   {
    "duration": 12,
    "start_time": "2022-12-09T14:31:54.804Z"
   },
   {
    "duration": 162,
    "start_time": "2022-12-09T14:32:16.272Z"
   },
   {
    "duration": 1454,
    "start_time": "2022-12-09T14:32:21.288Z"
   },
   {
    "duration": 1067,
    "start_time": "2022-12-09T14:39:15.676Z"
   },
   {
    "duration": 149,
    "start_time": "2022-12-09T14:39:16.744Z"
   },
   {
    "duration": 129,
    "start_time": "2022-12-09T14:39:16.897Z"
   },
   {
    "duration": 131,
    "start_time": "2022-12-09T14:39:17.029Z"
   },
   {
    "duration": 15,
    "start_time": "2022-12-09T14:39:17.162Z"
   },
   {
    "duration": 42,
    "start_time": "2022-12-09T14:39:17.179Z"
   },
   {
    "duration": 79,
    "start_time": "2022-12-09T14:39:17.223Z"
   },
   {
    "duration": 8,
    "start_time": "2022-12-09T14:39:17.304Z"
   },
   {
    "duration": 95,
    "start_time": "2022-12-09T14:39:17.313Z"
   },
   {
    "duration": 100,
    "start_time": "2022-12-09T14:39:17.500Z"
   },
   {
    "duration": 5,
    "start_time": "2022-12-09T14:39:17.601Z"
   },
   {
    "duration": 5,
    "start_time": "2022-12-09T14:39:17.607Z"
   },
   {
    "duration": 14,
    "start_time": "2022-12-09T14:39:17.614Z"
   },
   {
    "duration": 1009,
    "start_time": "2022-12-09T14:39:36.032Z"
   },
   {
    "duration": 148,
    "start_time": "2022-12-09T14:39:37.043Z"
   },
   {
    "duration": 132,
    "start_time": "2022-12-09T14:39:37.193Z"
   },
   {
    "duration": 128,
    "start_time": "2022-12-09T14:39:37.326Z"
   },
   {
    "duration": 17,
    "start_time": "2022-12-09T14:39:37.455Z"
   },
   {
    "duration": 79,
    "start_time": "2022-12-09T14:39:37.473Z"
   },
   {
    "duration": 75,
    "start_time": "2022-12-09T14:39:37.553Z"
   },
   {
    "duration": 8,
    "start_time": "2022-12-09T14:39:37.629Z"
   },
   {
    "duration": 165,
    "start_time": "2022-12-09T14:39:37.639Z"
   },
   {
    "duration": 100,
    "start_time": "2022-12-09T14:39:37.806Z"
   },
   {
    "duration": 76,
    "start_time": "2022-12-09T14:39:37.998Z"
   },
   {
    "duration": 33,
    "start_time": "2022-12-09T14:39:38.076Z"
   },
   {
    "duration": 1021,
    "start_time": "2022-12-09T14:40:14.246Z"
   },
   {
    "duration": 158,
    "start_time": "2022-12-09T14:40:15.269Z"
   },
   {
    "duration": 139,
    "start_time": "2022-12-09T14:40:15.429Z"
   },
   {
    "duration": 138,
    "start_time": "2022-12-09T14:40:15.570Z"
   },
   {
    "duration": 17,
    "start_time": "2022-12-09T14:40:15.710Z"
   },
   {
    "duration": 69,
    "start_time": "2022-12-09T14:40:15.729Z"
   },
   {
    "duration": 67,
    "start_time": "2022-12-09T14:40:15.800Z"
   },
   {
    "duration": 28,
    "start_time": "2022-12-09T14:40:15.869Z"
   },
   {
    "duration": 98,
    "start_time": "2022-12-09T14:40:15.899Z"
   },
   {
    "duration": 99,
    "start_time": "2022-12-09T14:40:16.000Z"
   },
   {
    "duration": 5,
    "start_time": "2022-12-09T14:40:16.101Z"
   },
   {
    "duration": 21,
    "start_time": "2022-12-09T14:40:16.107Z"
   },
   {
    "duration": 17,
    "start_time": "2022-12-09T14:40:16.129Z"
   },
   {
    "duration": 47,
    "start_time": "2022-12-09T14:42:28.055Z"
   },
   {
    "duration": 45,
    "start_time": "2022-12-09T14:42:39.837Z"
   },
   {
    "duration": 44,
    "start_time": "2022-12-09T14:42:47.773Z"
   },
   {
    "duration": 1050,
    "start_time": "2022-12-09T14:43:02.993Z"
   },
   {
    "duration": 152,
    "start_time": "2022-12-09T14:43:04.045Z"
   },
   {
    "duration": 142,
    "start_time": "2022-12-09T14:43:04.199Z"
   },
   {
    "duration": 136,
    "start_time": "2022-12-09T14:43:04.343Z"
   },
   {
    "duration": 20,
    "start_time": "2022-12-09T14:43:04.482Z"
   },
   {
    "duration": 35,
    "start_time": "2022-12-09T14:43:04.503Z"
   },
   {
    "duration": 84,
    "start_time": "2022-12-09T14:43:04.540Z"
   },
   {
    "duration": 12,
    "start_time": "2022-12-09T14:43:04.625Z"
   },
   {
    "duration": 63,
    "start_time": "2022-12-09T14:43:04.639Z"
   },
   {
    "duration": 97,
    "start_time": "2022-12-09T14:43:04.703Z"
   },
   {
    "duration": 106,
    "start_time": "2022-12-09T14:43:04.803Z"
   },
   {
    "duration": 6,
    "start_time": "2022-12-09T14:43:04.911Z"
   },
   {
    "duration": 52,
    "start_time": "2022-12-09T14:43:04.919Z"
   },
   {
    "duration": 114,
    "start_time": "2022-12-09T14:44:14.943Z"
   },
   {
    "duration": 6,
    "start_time": "2022-12-09T14:46:11.545Z"
   },
   {
    "duration": 4,
    "start_time": "2022-12-09T14:46:14.694Z"
   },
   {
    "duration": 8,
    "start_time": "2022-12-09T14:47:00.836Z"
   },
   {
    "duration": 18,
    "start_time": "2022-12-09T14:47:34.145Z"
   },
   {
    "duration": 10,
    "start_time": "2022-12-09T14:48:57.301Z"
   },
   {
    "duration": 10,
    "start_time": "2022-12-09T14:49:08.667Z"
   },
   {
    "duration": 4,
    "start_time": "2022-12-09T14:51:58.201Z"
   },
   {
    "duration": 4,
    "start_time": "2022-12-09T14:52:02.700Z"
   },
   {
    "duration": 10,
    "start_time": "2022-12-09T14:53:28.962Z"
   },
   {
    "duration": 11,
    "start_time": "2022-12-09T14:53:35.662Z"
   },
   {
    "duration": 1096,
    "start_time": "2022-12-09T17:50:45.854Z"
   },
   {
    "duration": 561,
    "start_time": "2022-12-09T17:50:46.952Z"
   },
   {
    "duration": 502,
    "start_time": "2022-12-09T17:50:47.515Z"
   },
   {
    "duration": 523,
    "start_time": "2022-12-09T17:50:48.019Z"
   },
   {
    "duration": 18,
    "start_time": "2022-12-09T17:50:48.544Z"
   },
   {
    "duration": 363,
    "start_time": "2022-12-09T17:50:48.564Z"
   },
   {
    "duration": 69,
    "start_time": "2022-12-09T17:50:48.929Z"
   },
   {
    "duration": 9,
    "start_time": "2022-12-09T17:50:49.000Z"
   },
   {
    "duration": 80,
    "start_time": "2022-12-09T17:50:49.011Z"
   },
   {
    "duration": 97,
    "start_time": "2022-12-09T17:50:49.093Z"
   },
   {
    "duration": 89,
    "start_time": "2022-12-09T17:50:49.192Z"
   },
   {
    "duration": 7,
    "start_time": "2022-12-09T17:50:49.283Z"
   },
   {
    "duration": 71,
    "start_time": "2022-12-09T17:50:49.291Z"
   },
   {
    "duration": 11,
    "start_time": "2022-12-09T17:52:04.599Z"
   },
   {
    "duration": 31,
    "start_time": "2022-12-09T18:05:57.689Z"
   },
   {
    "duration": 25,
    "start_time": "2022-12-09T18:06:11.421Z"
   },
   {
    "duration": 72,
    "start_time": "2022-12-09T18:07:44.743Z"
   },
   {
    "duration": 58,
    "start_time": "2022-12-09T18:09:04.872Z"
   },
   {
    "duration": 14585,
    "start_time": "2022-12-09T18:09:23.765Z"
   },
   {
    "duration": 1049,
    "start_time": "2022-12-09T18:45:57.607Z"
   },
   {
    "duration": 154,
    "start_time": "2022-12-09T18:45:58.659Z"
   },
   {
    "duration": 126,
    "start_time": "2022-12-09T18:45:58.815Z"
   },
   {
    "duration": 134,
    "start_time": "2022-12-09T18:45:58.942Z"
   },
   {
    "duration": 17,
    "start_time": "2022-12-09T18:45:59.078Z"
   },
   {
    "duration": 37,
    "start_time": "2022-12-09T18:45:59.097Z"
   },
   {
    "duration": 94,
    "start_time": "2022-12-09T18:45:59.136Z"
   },
   {
    "duration": 9,
    "start_time": "2022-12-09T18:45:59.232Z"
   },
   {
    "duration": 50,
    "start_time": "2022-12-09T18:45:59.242Z"
   },
   {
    "duration": 88,
    "start_time": "2022-12-09T18:45:59.294Z"
   },
   {
    "duration": 107,
    "start_time": "2022-12-09T18:45:59.383Z"
   },
   {
    "duration": 16,
    "start_time": "2022-12-09T18:45:59.492Z"
   },
   {
    "duration": 12889,
    "start_time": "2022-12-09T18:45:59.509Z"
   },
   {
    "duration": 95,
    "start_time": "2022-12-09T18:54:33.860Z"
   },
   {
    "duration": 143,
    "start_time": "2022-12-09T18:55:25.651Z"
   },
   {
    "duration": 17,
    "start_time": "2022-12-09T18:57:15.128Z"
   },
   {
    "duration": 1026,
    "start_time": "2022-12-09T18:57:25.633Z"
   },
   {
    "duration": 143,
    "start_time": "2022-12-09T18:57:26.661Z"
   },
   {
    "duration": 124,
    "start_time": "2022-12-09T18:57:26.806Z"
   },
   {
    "duration": 130,
    "start_time": "2022-12-09T18:57:26.932Z"
   },
   {
    "duration": 21,
    "start_time": "2022-12-09T18:57:27.065Z"
   },
   {
    "duration": 37,
    "start_time": "2022-12-09T18:57:27.087Z"
   },
   {
    "duration": 90,
    "start_time": "2022-12-09T18:57:27.125Z"
   },
   {
    "duration": 8,
    "start_time": "2022-12-09T18:57:27.217Z"
   },
   {
    "duration": 158,
    "start_time": "2022-12-09T18:57:27.227Z"
   },
   {
    "duration": 192,
    "start_time": "2022-12-09T18:57:27.387Z"
   },
   {
    "duration": 12,
    "start_time": "2022-12-09T18:57:27.580Z"
   },
   {
    "duration": 5,
    "start_time": "2022-12-09T18:57:27.594Z"
   },
   {
    "duration": 114,
    "start_time": "2022-12-09T18:57:27.602Z"
   },
   {
    "duration": 5,
    "start_time": "2022-12-09T19:03:17.518Z"
   },
   {
    "duration": 1123,
    "start_time": "2022-12-09T19:03:31.000Z"
   },
   {
    "duration": 151,
    "start_time": "2022-12-09T19:03:32.125Z"
   },
   {
    "duration": 136,
    "start_time": "2022-12-09T19:03:32.278Z"
   },
   {
    "duration": 123,
    "start_time": "2022-12-09T19:03:32.416Z"
   },
   {
    "duration": 16,
    "start_time": "2022-12-09T19:03:32.541Z"
   },
   {
    "duration": 46,
    "start_time": "2022-12-09T19:03:32.559Z"
   },
   {
    "duration": 77,
    "start_time": "2022-12-09T19:03:32.607Z"
   },
   {
    "duration": 9,
    "start_time": "2022-12-09T19:03:32.685Z"
   },
   {
    "duration": 84,
    "start_time": "2022-12-09T19:03:32.696Z"
   },
   {
    "duration": 9,
    "start_time": "2022-12-09T19:03:32.781Z"
   },
   {
    "duration": 99,
    "start_time": "2022-12-09T19:03:32.792Z"
   },
   {
    "duration": 11,
    "start_time": "2022-12-09T19:03:32.893Z"
   },
   {
    "duration": 13,
    "start_time": "2022-12-09T19:03:32.905Z"
   },
   {
    "duration": 1518,
    "start_time": "2022-12-09T19:06:31.910Z"
   },
   {
    "duration": 5,
    "start_time": "2022-12-09T19:06:57.573Z"
   },
   {
    "duration": 1079,
    "start_time": "2022-12-09T19:07:16.942Z"
   },
   {
    "duration": 143,
    "start_time": "2022-12-09T19:07:18.023Z"
   },
   {
    "duration": 123,
    "start_time": "2022-12-09T19:07:18.168Z"
   },
   {
    "duration": 126,
    "start_time": "2022-12-09T19:07:18.292Z"
   },
   {
    "duration": 16,
    "start_time": "2022-12-09T19:07:18.420Z"
   },
   {
    "duration": 43,
    "start_time": "2022-12-09T19:07:18.437Z"
   },
   {
    "duration": 66,
    "start_time": "2022-12-09T19:07:18.481Z"
   },
   {
    "duration": 29,
    "start_time": "2022-12-09T19:07:18.549Z"
   },
   {
    "duration": 104,
    "start_time": "2022-12-09T19:07:18.580Z"
   },
   {
    "duration": 99,
    "start_time": "2022-12-09T19:07:18.687Z"
   },
   {
    "duration": 102,
    "start_time": "2022-12-09T19:07:18.787Z"
   },
   {
    "duration": 9,
    "start_time": "2022-12-09T19:07:18.890Z"
   },
   {
    "duration": 11,
    "start_time": "2022-12-09T19:07:18.901Z"
   },
   {
    "duration": 1055,
    "start_time": "2022-12-09T19:11:29.499Z"
   },
   {
    "duration": 151,
    "start_time": "2022-12-09T19:11:30.556Z"
   },
   {
    "duration": 136,
    "start_time": "2022-12-09T19:11:30.709Z"
   },
   {
    "duration": 150,
    "start_time": "2022-12-09T19:11:30.847Z"
   },
   {
    "duration": 17,
    "start_time": "2022-12-09T19:11:30.999Z"
   },
   {
    "duration": 63,
    "start_time": "2022-12-09T19:11:31.018Z"
   },
   {
    "duration": 72,
    "start_time": "2022-12-09T19:11:31.083Z"
   },
   {
    "duration": 29,
    "start_time": "2022-12-09T19:11:31.156Z"
   },
   {
    "duration": 104,
    "start_time": "2022-12-09T19:11:31.187Z"
   },
   {
    "duration": 113,
    "start_time": "2022-12-09T19:11:31.379Z"
   },
   {
    "duration": 43,
    "start_time": "2022-12-09T19:11:31.493Z"
   },
   {
    "duration": 19,
    "start_time": "2022-12-09T19:11:31.538Z"
   },
   {
    "duration": 32,
    "start_time": "2022-12-09T19:11:31.559Z"
   },
   {
    "duration": 1606,
    "start_time": "2022-12-09T19:11:31.593Z"
   },
   {
    "duration": 7,
    "start_time": "2022-12-09T19:13:33.041Z"
   },
   {
    "duration": 1113,
    "start_time": "2022-12-09T19:13:37.725Z"
   },
   {
    "duration": 175,
    "start_time": "2022-12-09T19:13:38.840Z"
   },
   {
    "duration": 133,
    "start_time": "2022-12-09T19:13:39.017Z"
   },
   {
    "duration": 176,
    "start_time": "2022-12-09T19:13:39.152Z"
   },
   {
    "duration": 18,
    "start_time": "2022-12-09T19:13:39.331Z"
   },
   {
    "duration": 49,
    "start_time": "2022-12-09T19:13:39.351Z"
   },
   {
    "duration": 86,
    "start_time": "2022-12-09T19:13:39.401Z"
   },
   {
    "duration": 9,
    "start_time": "2022-12-09T19:13:39.489Z"
   },
   {
    "duration": 184,
    "start_time": "2022-12-09T19:13:39.500Z"
   },
   {
    "duration": 91,
    "start_time": "2022-12-09T19:13:39.690Z"
   },
   {
    "duration": 10,
    "start_time": "2022-12-09T19:13:39.783Z"
   },
   {
    "duration": 83,
    "start_time": "2022-12-09T19:13:39.796Z"
   },
   {
    "duration": 12,
    "start_time": "2022-12-09T19:13:39.881Z"
   },
   {
    "duration": 1641,
    "start_time": "2022-12-09T19:13:39.897Z"
   },
   {
    "duration": 1088,
    "start_time": "2022-12-09T19:15:11.005Z"
   },
   {
    "duration": 152,
    "start_time": "2022-12-09T19:15:12.096Z"
   },
   {
    "duration": 133,
    "start_time": "2022-12-09T19:15:12.250Z"
   },
   {
    "duration": 140,
    "start_time": "2022-12-09T19:15:12.385Z"
   },
   {
    "duration": 23,
    "start_time": "2022-12-09T19:15:12.528Z"
   },
   {
    "duration": 60,
    "start_time": "2022-12-09T19:15:12.553Z"
   },
   {
    "duration": 104,
    "start_time": "2022-12-09T19:15:12.615Z"
   },
   {
    "duration": 9,
    "start_time": "2022-12-09T19:15:12.722Z"
   },
   {
    "duration": 62,
    "start_time": "2022-12-09T19:15:12.734Z"
   },
   {
    "duration": 11,
    "start_time": "2022-12-09T19:15:12.878Z"
   },
   {
    "duration": 106,
    "start_time": "2022-12-09T19:15:12.891Z"
   },
   {
    "duration": 8,
    "start_time": "2022-12-09T19:15:12.999Z"
   },
   {
    "duration": 8,
    "start_time": "2022-12-09T19:15:13.009Z"
   },
   {
    "duration": 1759,
    "start_time": "2022-12-09T19:15:13.020Z"
   },
   {
    "duration": 1095,
    "start_time": "2022-12-09T19:16:17.261Z"
   },
   {
    "duration": 147,
    "start_time": "2022-12-09T19:16:18.358Z"
   },
   {
    "duration": 129,
    "start_time": "2022-12-09T19:16:18.506Z"
   },
   {
    "duration": 128,
    "start_time": "2022-12-09T19:16:18.636Z"
   },
   {
    "duration": 26,
    "start_time": "2022-12-09T19:16:18.766Z"
   },
   {
    "duration": 37,
    "start_time": "2022-12-09T19:16:18.794Z"
   },
   {
    "duration": 89,
    "start_time": "2022-12-09T19:16:18.832Z"
   },
   {
    "duration": 9,
    "start_time": "2022-12-09T19:16:18.923Z"
   },
   {
    "duration": 154,
    "start_time": "2022-12-09T19:16:18.934Z"
   },
   {
    "duration": 91,
    "start_time": "2022-12-09T19:16:19.089Z"
   },
   {
    "duration": 10,
    "start_time": "2022-12-09T19:16:19.183Z"
   },
   {
    "duration": 8,
    "start_time": "2022-12-09T19:16:19.195Z"
   },
   {
    "duration": 18,
    "start_time": "2022-12-09T19:16:19.205Z"
   },
   {
    "duration": 1590,
    "start_time": "2022-12-09T19:16:19.225Z"
   },
   {
    "duration": 1146,
    "start_time": "2022-12-09T19:23:41.591Z"
   },
   {
    "duration": 226,
    "start_time": "2022-12-09T19:23:42.739Z"
   },
   {
    "duration": 139,
    "start_time": "2022-12-09T19:23:42.967Z"
   },
   {
    "duration": 150,
    "start_time": "2022-12-09T19:23:43.108Z"
   },
   {
    "duration": 26,
    "start_time": "2022-12-09T19:23:43.260Z"
   },
   {
    "duration": 53,
    "start_time": "2022-12-09T19:23:43.288Z"
   },
   {
    "duration": 113,
    "start_time": "2022-12-09T19:23:43.343Z"
   },
   {
    "duration": 26,
    "start_time": "2022-12-09T19:23:43.458Z"
   },
   {
    "duration": 293,
    "start_time": "2022-12-09T19:23:43.486Z"
   },
   {
    "duration": 96,
    "start_time": "2022-12-09T19:23:43.783Z"
   },
   {
    "duration": 13,
    "start_time": "2022-12-09T19:23:43.882Z"
   },
   {
    "duration": 19,
    "start_time": "2022-12-09T19:23:43.897Z"
   },
   {
    "duration": 23,
    "start_time": "2022-12-09T19:23:43.918Z"
   },
   {
    "duration": 1764,
    "start_time": "2022-12-09T19:23:43.944Z"
   },
   {
    "duration": 1094,
    "start_time": "2022-12-09T19:26:37.195Z"
   },
   {
    "duration": 148,
    "start_time": "2022-12-09T19:26:38.291Z"
   },
   {
    "duration": 127,
    "start_time": "2022-12-09T19:26:38.441Z"
   },
   {
    "duration": 130,
    "start_time": "2022-12-09T19:26:38.569Z"
   },
   {
    "duration": 18,
    "start_time": "2022-12-09T19:26:38.701Z"
   },
   {
    "duration": 38,
    "start_time": "2022-12-09T19:26:38.721Z"
   },
   {
    "duration": 68,
    "start_time": "2022-12-09T19:26:38.778Z"
   },
   {
    "duration": 8,
    "start_time": "2022-12-09T19:26:38.848Z"
   },
   {
    "duration": 126,
    "start_time": "2022-12-09T19:26:38.858Z"
   },
   {
    "duration": 101,
    "start_time": "2022-12-09T19:26:38.986Z"
   },
   {
    "duration": 15,
    "start_time": "2022-12-09T19:26:39.177Z"
   },
   {
    "duration": 7,
    "start_time": "2022-12-09T19:26:39.193Z"
   },
   {
    "duration": 9,
    "start_time": "2022-12-09T19:26:39.201Z"
   },
   {
    "duration": 1619,
    "start_time": "2022-12-09T19:26:39.213Z"
   },
   {
    "duration": 1054,
    "start_time": "2022-12-09T19:27:08.122Z"
   },
   {
    "duration": 156,
    "start_time": "2022-12-09T19:27:09.178Z"
   },
   {
    "duration": 135,
    "start_time": "2022-12-09T19:27:09.335Z"
   },
   {
    "duration": 131,
    "start_time": "2022-12-09T19:27:09.471Z"
   },
   {
    "duration": 18,
    "start_time": "2022-12-09T19:27:09.605Z"
   },
   {
    "duration": 40,
    "start_time": "2022-12-09T19:27:09.625Z"
   },
   {
    "duration": 68,
    "start_time": "2022-12-09T19:27:09.678Z"
   },
   {
    "duration": 9,
    "start_time": "2022-12-09T19:27:09.747Z"
   },
   {
    "duration": 126,
    "start_time": "2022-12-09T19:27:09.758Z"
   },
   {
    "duration": 104,
    "start_time": "2022-12-09T19:27:09.886Z"
   },
   {
    "duration": 96,
    "start_time": "2022-12-09T19:27:09.992Z"
   },
   {
    "duration": 8,
    "start_time": "2022-12-09T19:27:10.089Z"
   },
   {
    "duration": 7,
    "start_time": "2022-12-09T19:27:10.099Z"
   },
   {
    "duration": 1573,
    "start_time": "2022-12-09T19:27:10.108Z"
   },
   {
    "duration": 1052,
    "start_time": "2022-12-09T19:27:45.630Z"
   },
   {
    "duration": 178,
    "start_time": "2022-12-09T19:27:46.686Z"
   },
   {
    "duration": 171,
    "start_time": "2022-12-09T19:27:46.866Z"
   },
   {
    "duration": 145,
    "start_time": "2022-12-09T19:27:47.039Z"
   },
   {
    "duration": 21,
    "start_time": "2022-12-09T19:27:47.185Z"
   },
   {
    "duration": 60,
    "start_time": "2022-12-09T19:27:47.207Z"
   },
   {
    "duration": 74,
    "start_time": "2022-12-09T19:27:47.269Z"
   },
   {
    "duration": 10,
    "start_time": "2022-12-09T19:27:47.344Z"
   },
   {
    "duration": 47,
    "start_time": "2022-12-09T19:27:47.356Z"
   },
   {
    "duration": 74,
    "start_time": "2022-12-09T19:27:47.405Z"
   },
   {
    "duration": 99,
    "start_time": "2022-12-09T19:27:47.481Z"
   },
   {
    "duration": 24,
    "start_time": "2022-12-09T19:27:47.582Z"
   },
   {
    "duration": 192,
    "start_time": "2022-12-09T19:27:47.608Z"
   },
   {
    "duration": 1473,
    "start_time": "2022-12-09T19:27:47.801Z"
   },
   {
    "duration": 1035,
    "start_time": "2022-12-09T19:29:44.502Z"
   },
   {
    "duration": 149,
    "start_time": "2022-12-09T19:29:45.539Z"
   },
   {
    "duration": 140,
    "start_time": "2022-12-09T19:29:45.690Z"
   },
   {
    "duration": 126,
    "start_time": "2022-12-09T19:29:45.831Z"
   },
   {
    "duration": 23,
    "start_time": "2022-12-09T19:29:45.959Z"
   },
   {
    "duration": 40,
    "start_time": "2022-12-09T19:29:45.984Z"
   },
   {
    "duration": 77,
    "start_time": "2022-12-09T19:29:46.026Z"
   },
   {
    "duration": 8,
    "start_time": "2022-12-09T19:29:46.105Z"
   },
   {
    "duration": 67,
    "start_time": "2022-12-09T19:29:46.114Z"
   },
   {
    "duration": 95,
    "start_time": "2022-12-09T19:29:46.183Z"
   },
   {
    "duration": 124,
    "start_time": "2022-12-09T19:29:46.280Z"
   },
   {
    "duration": 9,
    "start_time": "2022-12-09T19:29:46.406Z"
   },
   {
    "duration": 10,
    "start_time": "2022-12-09T19:29:46.416Z"
   },
   {
    "duration": 1526,
    "start_time": "2022-12-09T19:29:46.428Z"
   },
   {
    "duration": 1008,
    "start_time": "2022-12-09T19:30:07.628Z"
   },
   {
    "duration": 143,
    "start_time": "2022-12-09T19:30:08.638Z"
   },
   {
    "duration": 124,
    "start_time": "2022-12-09T19:30:08.783Z"
   },
   {
    "duration": 128,
    "start_time": "2022-12-09T19:30:08.908Z"
   },
   {
    "duration": 17,
    "start_time": "2022-12-09T19:30:09.039Z"
   },
   {
    "duration": 52,
    "start_time": "2022-12-09T19:30:09.058Z"
   },
   {
    "duration": 80,
    "start_time": "2022-12-09T19:30:09.112Z"
   },
   {
    "duration": 9,
    "start_time": "2022-12-09T19:30:09.193Z"
   },
   {
    "duration": 75,
    "start_time": "2022-12-09T19:30:09.204Z"
   },
   {
    "duration": 9,
    "start_time": "2022-12-09T19:30:09.281Z"
   },
   {
    "duration": 16,
    "start_time": "2022-12-09T19:30:09.379Z"
   },
   {
    "duration": 90,
    "start_time": "2022-12-09T19:30:09.396Z"
   },
   {
    "duration": 13,
    "start_time": "2022-12-09T19:30:09.488Z"
   },
   {
    "duration": 1457,
    "start_time": "2022-12-09T19:30:09.503Z"
   },
   {
    "duration": 1043,
    "start_time": "2022-12-09T19:31:05.898Z"
   },
   {
    "duration": 146,
    "start_time": "2022-12-09T19:31:06.944Z"
   },
   {
    "duration": 135,
    "start_time": "2022-12-09T19:31:07.092Z"
   },
   {
    "duration": 128,
    "start_time": "2022-12-09T19:31:07.229Z"
   },
   {
    "duration": 19,
    "start_time": "2022-12-09T19:31:07.359Z"
   },
   {
    "duration": 39,
    "start_time": "2022-12-09T19:31:07.380Z"
   },
   {
    "duration": 93,
    "start_time": "2022-12-09T19:31:07.421Z"
   },
   {
    "duration": 10,
    "start_time": "2022-12-09T19:31:07.516Z"
   },
   {
    "duration": 59,
    "start_time": "2022-12-09T19:31:07.528Z"
   },
   {
    "duration": 93,
    "start_time": "2022-12-09T19:31:07.588Z"
   },
   {
    "duration": 130,
    "start_time": "2022-12-09T19:31:07.683Z"
   },
   {
    "duration": 11,
    "start_time": "2022-12-09T19:31:07.815Z"
   },
   {
    "duration": 31,
    "start_time": "2022-12-09T19:31:07.827Z"
   },
   {
    "duration": 1411,
    "start_time": "2022-12-09T19:31:07.860Z"
   },
   {
    "duration": 1028,
    "start_time": "2022-12-09T19:33:52.608Z"
   },
   {
    "duration": 142,
    "start_time": "2022-12-09T19:33:53.638Z"
   },
   {
    "duration": 133,
    "start_time": "2022-12-09T19:33:53.782Z"
   },
   {
    "duration": 149,
    "start_time": "2022-12-09T19:33:53.917Z"
   },
   {
    "duration": 24,
    "start_time": "2022-12-09T19:33:54.070Z"
   },
   {
    "duration": 47,
    "start_time": "2022-12-09T19:33:54.096Z"
   },
   {
    "duration": 84,
    "start_time": "2022-12-09T19:33:54.144Z"
   },
   {
    "duration": 9,
    "start_time": "2022-12-09T19:33:54.229Z"
   },
   {
    "duration": 45,
    "start_time": "2022-12-09T19:33:54.240Z"
   },
   {
    "duration": 100,
    "start_time": "2022-12-09T19:33:54.286Z"
   },
   {
    "duration": 101,
    "start_time": "2022-12-09T19:33:54.388Z"
   },
   {
    "duration": 6,
    "start_time": "2022-12-09T19:33:54.490Z"
   },
   {
    "duration": 8,
    "start_time": "2022-12-09T19:33:54.498Z"
   },
   {
    "duration": 1550,
    "start_time": "2022-12-09T19:33:54.508Z"
   },
   {
    "duration": 1030,
    "start_time": "2022-12-09T19:34:26.504Z"
   },
   {
    "duration": 153,
    "start_time": "2022-12-09T19:34:27.536Z"
   },
   {
    "duration": 130,
    "start_time": "2022-12-09T19:34:27.691Z"
   },
   {
    "duration": 126,
    "start_time": "2022-12-09T19:34:27.823Z"
   },
   {
    "duration": 16,
    "start_time": "2022-12-09T19:34:27.952Z"
   },
   {
    "duration": 38,
    "start_time": "2022-12-09T19:34:27.978Z"
   },
   {
    "duration": 80,
    "start_time": "2022-12-09T19:34:28.018Z"
   },
   {
    "duration": 9,
    "start_time": "2022-12-09T19:34:28.099Z"
   },
   {
    "duration": 71,
    "start_time": "2022-12-09T19:34:28.110Z"
   },
   {
    "duration": 95,
    "start_time": "2022-12-09T19:34:28.188Z"
   },
   {
    "duration": 103,
    "start_time": "2022-12-09T19:34:28.284Z"
   },
   {
    "duration": 6,
    "start_time": "2022-12-09T19:34:28.388Z"
   },
   {
    "duration": 9,
    "start_time": "2022-12-09T19:34:28.395Z"
   },
   {
    "duration": 1519,
    "start_time": "2022-12-09T19:34:28.407Z"
   },
   {
    "duration": 1085,
    "start_time": "2022-12-09T19:35:49.957Z"
   },
   {
    "duration": 154,
    "start_time": "2022-12-09T19:35:51.044Z"
   },
   {
    "duration": 128,
    "start_time": "2022-12-09T19:35:51.200Z"
   },
   {
    "duration": 127,
    "start_time": "2022-12-09T19:35:51.330Z"
   },
   {
    "duration": 22,
    "start_time": "2022-12-09T19:35:51.459Z"
   },
   {
    "duration": 41,
    "start_time": "2022-12-09T19:35:51.483Z"
   },
   {
    "duration": 79,
    "start_time": "2022-12-09T19:35:51.525Z"
   },
   {
    "duration": 9,
    "start_time": "2022-12-09T19:35:51.605Z"
   },
   {
    "duration": 65,
    "start_time": "2022-12-09T19:35:51.616Z"
   },
   {
    "duration": 101,
    "start_time": "2022-12-09T19:35:51.682Z"
   },
   {
    "duration": 102,
    "start_time": "2022-12-09T19:35:51.785Z"
   },
   {
    "duration": 6,
    "start_time": "2022-12-09T19:35:51.889Z"
   },
   {
    "duration": 10,
    "start_time": "2022-12-09T19:35:51.897Z"
   },
   {
    "duration": 1500,
    "start_time": "2022-12-09T19:35:51.909Z"
   },
   {
    "duration": 1102,
    "start_time": "2022-12-09T19:36:34.850Z"
   },
   {
    "duration": 149,
    "start_time": "2022-12-09T19:36:35.953Z"
   },
   {
    "duration": 139,
    "start_time": "2022-12-09T19:36:36.104Z"
   },
   {
    "duration": 135,
    "start_time": "2022-12-09T19:36:36.245Z"
   },
   {
    "duration": 18,
    "start_time": "2022-12-09T19:36:36.381Z"
   },
   {
    "duration": 41,
    "start_time": "2022-12-09T19:36:36.401Z"
   },
   {
    "duration": 90,
    "start_time": "2022-12-09T19:36:36.444Z"
   },
   {
    "duration": 8,
    "start_time": "2022-12-09T19:36:36.536Z"
   },
   {
    "duration": 49,
    "start_time": "2022-12-09T19:36:36.546Z"
   },
   {
    "duration": 89,
    "start_time": "2022-12-09T19:36:36.598Z"
   },
   {
    "duration": 8,
    "start_time": "2022-12-09T19:36:36.779Z"
   },
   {
    "duration": 4,
    "start_time": "2022-12-09T19:36:36.789Z"
   },
   {
    "duration": 14,
    "start_time": "2022-12-09T19:36:36.795Z"
   },
   {
    "duration": 1451,
    "start_time": "2022-12-09T19:36:36.811Z"
   },
   {
    "duration": 1096,
    "start_time": "2022-12-09T19:37:38.397Z"
   },
   {
    "duration": 153,
    "start_time": "2022-12-09T19:37:39.495Z"
   },
   {
    "duration": 128,
    "start_time": "2022-12-09T19:37:39.650Z"
   },
   {
    "duration": 127,
    "start_time": "2022-12-09T19:37:39.779Z"
   },
   {
    "duration": 17,
    "start_time": "2022-12-09T19:37:39.908Z"
   },
   {
    "duration": 40,
    "start_time": "2022-12-09T19:37:39.926Z"
   },
   {
    "duration": 73,
    "start_time": "2022-12-09T19:37:39.978Z"
   },
   {
    "duration": 29,
    "start_time": "2022-12-09T19:37:40.053Z"
   },
   {
    "duration": 95,
    "start_time": "2022-12-09T19:37:40.084Z"
   },
   {
    "duration": 99,
    "start_time": "2022-12-09T19:37:40.182Z"
   },
   {
    "duration": 5,
    "start_time": "2022-12-09T19:37:40.282Z"
   },
   {
    "duration": 4,
    "start_time": "2022-12-09T19:37:40.289Z"
   },
   {
    "duration": 9,
    "start_time": "2022-12-09T19:37:40.294Z"
   },
   {
    "duration": 1500,
    "start_time": "2022-12-09T19:37:40.304Z"
   },
   {
    "duration": 1069,
    "start_time": "2022-12-09T19:38:07.882Z"
   },
   {
    "duration": 144,
    "start_time": "2022-12-09T19:38:08.953Z"
   },
   {
    "duration": 125,
    "start_time": "2022-12-09T19:38:09.099Z"
   },
   {
    "duration": 129,
    "start_time": "2022-12-09T19:38:09.226Z"
   },
   {
    "duration": 25,
    "start_time": "2022-12-09T19:38:09.357Z"
   },
   {
    "duration": 75,
    "start_time": "2022-12-09T19:38:09.384Z"
   },
   {
    "duration": 69,
    "start_time": "2022-12-09T19:38:09.461Z"
   },
   {
    "duration": 9,
    "start_time": "2022-12-09T19:38:09.532Z"
   },
   {
    "duration": 64,
    "start_time": "2022-12-09T19:38:09.543Z"
   },
   {
    "duration": 174,
    "start_time": "2022-12-09T19:38:09.610Z"
   },
   {
    "duration": 17,
    "start_time": "2022-12-09T19:38:09.785Z"
   },
   {
    "duration": 29,
    "start_time": "2022-12-09T19:38:09.804Z"
   },
   {
    "duration": 29,
    "start_time": "2022-12-09T19:38:09.835Z"
   },
   {
    "duration": 1499,
    "start_time": "2022-12-09T19:38:09.865Z"
   },
   {
    "duration": 1052,
    "start_time": "2022-12-09T19:38:30.110Z"
   },
   {
    "duration": 147,
    "start_time": "2022-12-09T19:38:31.164Z"
   },
   {
    "duration": 124,
    "start_time": "2022-12-09T19:38:31.312Z"
   },
   {
    "duration": 131,
    "start_time": "2022-12-09T19:38:31.438Z"
   },
   {
    "duration": 19,
    "start_time": "2022-12-09T19:38:31.571Z"
   },
   {
    "duration": 54,
    "start_time": "2022-12-09T19:38:31.592Z"
   },
   {
    "duration": 77,
    "start_time": "2022-12-09T19:38:31.647Z"
   },
   {
    "duration": 9,
    "start_time": "2022-12-09T19:38:31.726Z"
   },
   {
    "duration": 70,
    "start_time": "2022-12-09T19:38:31.736Z"
   },
   {
    "duration": 170,
    "start_time": "2022-12-09T19:38:31.808Z"
   },
   {
    "duration": 26,
    "start_time": "2022-12-09T19:38:31.980Z"
   },
   {
    "duration": 36,
    "start_time": "2022-12-09T19:38:32.007Z"
   },
   {
    "duration": 29,
    "start_time": "2022-12-09T19:38:32.045Z"
   },
   {
    "duration": 1411,
    "start_time": "2022-12-09T19:38:32.077Z"
   },
   {
    "duration": 1512,
    "start_time": "2022-12-09T19:39:54.995Z"
   },
   {
    "duration": 1109,
    "start_time": "2022-12-09T19:39:59.919Z"
   },
   {
    "duration": 158,
    "start_time": "2022-12-09T19:40:01.030Z"
   },
   {
    "duration": 143,
    "start_time": "2022-12-09T19:40:01.189Z"
   },
   {
    "duration": 143,
    "start_time": "2022-12-09T19:40:01.335Z"
   },
   {
    "duration": 19,
    "start_time": "2022-12-09T19:40:01.479Z"
   },
   {
    "duration": 40,
    "start_time": "2022-12-09T19:40:01.500Z"
   },
   {
    "duration": 90,
    "start_time": "2022-12-09T19:40:01.542Z"
   },
   {
    "duration": 10,
    "start_time": "2022-12-09T19:40:01.634Z"
   },
   {
    "duration": 48,
    "start_time": "2022-12-09T19:40:01.645Z"
   },
   {
    "duration": 101,
    "start_time": "2022-12-09T19:40:01.777Z"
   },
   {
    "duration": 11,
    "start_time": "2022-12-09T19:40:01.880Z"
   },
   {
    "duration": 6,
    "start_time": "2022-12-09T19:40:01.893Z"
   },
   {
    "duration": 10,
    "start_time": "2022-12-09T19:40:01.900Z"
   },
   {
    "duration": 1580,
    "start_time": "2022-12-09T19:40:01.912Z"
   },
   {
    "duration": 1494,
    "start_time": "2022-12-09T19:40:03.494Z"
   },
   {
    "duration": 1448,
    "start_time": "2022-12-09T19:40:04.990Z"
   },
   {
    "duration": 1059,
    "start_time": "2022-12-09T19:40:25.415Z"
   },
   {
    "duration": 148,
    "start_time": "2022-12-09T19:40:26.476Z"
   },
   {
    "duration": 128,
    "start_time": "2022-12-09T19:40:26.625Z"
   },
   {
    "duration": 127,
    "start_time": "2022-12-09T19:40:26.755Z"
   },
   {
    "duration": 17,
    "start_time": "2022-12-09T19:40:26.885Z"
   },
   {
    "duration": 41,
    "start_time": "2022-12-09T19:40:26.904Z"
   },
   {
    "duration": 93,
    "start_time": "2022-12-09T19:40:26.947Z"
   },
   {
    "duration": 9,
    "start_time": "2022-12-09T19:40:27.042Z"
   },
   {
    "duration": 51,
    "start_time": "2022-12-09T19:40:27.053Z"
   },
   {
    "duration": 81,
    "start_time": "2022-12-09T19:40:27.105Z"
   },
   {
    "duration": 104,
    "start_time": "2022-12-09T19:40:27.188Z"
   },
   {
    "duration": 9,
    "start_time": "2022-12-09T19:40:27.294Z"
   },
   {
    "duration": 11,
    "start_time": "2022-12-09T19:40:27.304Z"
   },
   {
    "duration": 1439,
    "start_time": "2022-12-09T19:40:27.318Z"
   },
   {
    "duration": 1399,
    "start_time": "2022-12-09T19:40:28.758Z"
   },
   {
    "duration": 1422,
    "start_time": "2022-12-09T19:40:30.158Z"
   },
   {
    "duration": 44,
    "start_time": "2022-12-10T17:19:16.976Z"
   },
   {
    "duration": 1001,
    "start_time": "2022-12-10T17:19:23.252Z"
   },
   {
    "duration": 245,
    "start_time": "2022-12-10T17:19:24.255Z"
   },
   {
    "duration": 211,
    "start_time": "2022-12-10T17:19:24.502Z"
   },
   {
    "duration": 205,
    "start_time": "2022-12-10T17:19:24.714Z"
   },
   {
    "duration": 15,
    "start_time": "2022-12-10T17:19:24.921Z"
   },
   {
    "duration": 35,
    "start_time": "2022-12-10T17:19:24.937Z"
   },
   {
    "duration": 74,
    "start_time": "2022-12-10T17:19:24.974Z"
   },
   {
    "duration": 7,
    "start_time": "2022-12-10T17:19:25.050Z"
   },
   {
    "duration": 48,
    "start_time": "2022-12-10T17:19:25.059Z"
   },
   {
    "duration": 93,
    "start_time": "2022-12-10T17:19:25.108Z"
   },
   {
    "duration": 101,
    "start_time": "2022-12-10T17:19:25.203Z"
   },
   {
    "duration": 5,
    "start_time": "2022-12-10T17:19:25.306Z"
   },
   {
    "duration": 14,
    "start_time": "2022-12-10T17:19:25.312Z"
   },
   {
    "duration": 1522,
    "start_time": "2022-12-10T17:19:25.328Z"
   },
   {
    "duration": 1491,
    "start_time": "2022-12-10T17:19:26.852Z"
   },
   {
    "duration": 1461,
    "start_time": "2022-12-10T17:19:28.345Z"
   },
   {
    "duration": 4,
    "start_time": "2022-12-10T17:35:53.336Z"
   },
   {
    "duration": 38,
    "start_time": "2022-12-10T17:39:20.712Z"
   },
   {
    "duration": 7,
    "start_time": "2022-12-10T17:43:40.943Z"
   },
   {
    "duration": 94,
    "start_time": "2022-12-10T17:52:32.774Z"
   },
   {
    "duration": 1025,
    "start_time": "2022-12-10T17:52:38.319Z"
   },
   {
    "duration": 141,
    "start_time": "2022-12-10T17:52:39.346Z"
   },
   {
    "duration": 120,
    "start_time": "2022-12-10T17:52:39.489Z"
   },
   {
    "duration": 127,
    "start_time": "2022-12-10T17:52:39.611Z"
   },
   {
    "duration": 19,
    "start_time": "2022-12-10T17:52:39.741Z"
   },
   {
    "duration": 43,
    "start_time": "2022-12-10T17:52:39.762Z"
   },
   {
    "duration": 63,
    "start_time": "2022-12-10T17:52:39.806Z"
   },
   {
    "duration": 25,
    "start_time": "2022-12-10T17:52:39.871Z"
   },
   {
    "duration": 101,
    "start_time": "2022-12-10T17:52:39.898Z"
   },
   {
    "duration": 94,
    "start_time": "2022-12-10T17:52:40.002Z"
   },
   {
    "duration": 14,
    "start_time": "2022-12-10T17:52:40.098Z"
   },
   {
    "duration": 96,
    "start_time": "2022-12-10T17:52:40.113Z"
   },
   {
    "duration": 0,
    "start_time": "2022-12-10T17:52:40.210Z"
   },
   {
    "duration": 0,
    "start_time": "2022-12-10T17:52:40.212Z"
   },
   {
    "duration": 0,
    "start_time": "2022-12-10T17:52:40.213Z"
   },
   {
    "duration": 0,
    "start_time": "2022-12-10T17:52:40.214Z"
   },
   {
    "duration": 13,
    "start_time": "2022-12-10T17:52:51.800Z"
   },
   {
    "duration": 13,
    "start_time": "2022-12-10T17:53:24.918Z"
   },
   {
    "duration": 26,
    "start_time": "2022-12-10T17:53:50.253Z"
   },
   {
    "duration": 5,
    "start_time": "2022-12-10T17:55:02.661Z"
   },
   {
    "duration": 24,
    "start_time": "2022-12-10T17:55:47.166Z"
   },
   {
    "duration": 5,
    "start_time": "2022-12-10T17:55:51.682Z"
   },
   {
    "duration": 1070,
    "start_time": "2022-12-10T17:56:04.864Z"
   },
   {
    "duration": 172,
    "start_time": "2022-12-10T17:56:05.936Z"
   },
   {
    "duration": 133,
    "start_time": "2022-12-10T17:56:06.110Z"
   },
   {
    "duration": 123,
    "start_time": "2022-12-10T17:56:06.245Z"
   },
   {
    "duration": 16,
    "start_time": "2022-12-10T17:56:06.370Z"
   },
   {
    "duration": 31,
    "start_time": "2022-12-10T17:56:06.396Z"
   },
   {
    "duration": 81,
    "start_time": "2022-12-10T17:56:06.429Z"
   },
   {
    "duration": 9,
    "start_time": "2022-12-10T17:56:06.511Z"
   },
   {
    "duration": 29,
    "start_time": "2022-12-10T17:56:06.521Z"
   },
   {
    "duration": 146,
    "start_time": "2022-12-10T17:56:06.551Z"
   },
   {
    "duration": 5,
    "start_time": "2022-12-10T17:56:06.699Z"
   },
   {
    "duration": 32,
    "start_time": "2022-12-10T17:56:06.705Z"
   },
   {
    "duration": 5,
    "start_time": "2022-12-10T17:56:06.738Z"
   },
   {
    "duration": 1449,
    "start_time": "2022-12-10T17:56:06.745Z"
   },
   {
    "duration": 1406,
    "start_time": "2022-12-10T17:56:08.196Z"
   },
   {
    "duration": 1428,
    "start_time": "2022-12-10T17:56:09.603Z"
   },
   {
    "duration": 49,
    "start_time": "2022-12-10T18:02:40.678Z"
   },
   {
    "duration": 96,
    "start_time": "2022-12-10T18:02:59.180Z"
   },
   {
    "duration": 30,
    "start_time": "2022-12-10T18:03:10.565Z"
   },
   {
    "duration": 42,
    "start_time": "2022-12-10T18:03:27.158Z"
   },
   {
    "duration": 30,
    "start_time": "2022-12-10T18:03:48.270Z"
   },
   {
    "duration": 25,
    "start_time": "2022-12-10T18:03:56.359Z"
   },
   {
    "duration": 4,
    "start_time": "2022-12-10T18:30:41.630Z"
   },
   {
    "duration": 1037,
    "start_time": "2022-12-10T18:30:48.207Z"
   },
   {
    "duration": 150,
    "start_time": "2022-12-10T18:30:49.246Z"
   },
   {
    "duration": 126,
    "start_time": "2022-12-10T18:30:49.397Z"
   },
   {
    "duration": 123,
    "start_time": "2022-12-10T18:30:49.524Z"
   },
   {
    "duration": 16,
    "start_time": "2022-12-10T18:30:49.649Z"
   },
   {
    "duration": 52,
    "start_time": "2022-12-10T18:30:49.666Z"
   },
   {
    "duration": 85,
    "start_time": "2022-12-10T18:30:49.719Z"
   },
   {
    "duration": 9,
    "start_time": "2022-12-10T18:30:49.806Z"
   },
   {
    "duration": 81,
    "start_time": "2022-12-10T18:30:49.816Z"
   },
   {
    "duration": 9,
    "start_time": "2022-12-10T18:30:49.899Z"
   },
   {
    "duration": 101,
    "start_time": "2022-12-10T18:30:49.910Z"
   },
   {
    "duration": 26,
    "start_time": "2022-12-10T18:30:50.012Z"
   },
   {
    "duration": 5,
    "start_time": "2022-12-10T18:30:50.040Z"
   },
   {
    "duration": 1592,
    "start_time": "2022-12-10T18:30:50.048Z"
   },
   {
    "duration": 1534,
    "start_time": "2022-12-10T18:30:51.642Z"
   },
   {
    "duration": 1510,
    "start_time": "2022-12-10T18:30:53.178Z"
   },
   {
    "duration": 4,
    "start_time": "2022-12-10T18:43:28.955Z"
   },
   {
    "duration": 4,
    "start_time": "2022-12-10T18:44:32.178Z"
   },
   {
    "duration": 3,
    "start_time": "2022-12-10T18:45:12.565Z"
   },
   {
    "duration": 6,
    "start_time": "2022-12-10T18:45:56.374Z"
   },
   {
    "duration": 5,
    "start_time": "2022-12-10T18:46:19.141Z"
   },
   {
    "duration": 5,
    "start_time": "2022-12-10T18:49:54.667Z"
   },
   {
    "duration": 1725,
    "start_time": "2022-12-11T13:04:06.737Z"
   },
   {
    "duration": 1041,
    "start_time": "2022-12-11T13:04:08.464Z"
   },
   {
    "duration": 609,
    "start_time": "2022-12-11T13:04:09.507Z"
   },
   {
    "duration": 588,
    "start_time": "2022-12-11T13:04:10.118Z"
   },
   {
    "duration": 22,
    "start_time": "2022-12-11T13:04:10.708Z"
   },
   {
    "duration": 47,
    "start_time": "2022-12-11T13:04:10.732Z"
   },
   {
    "duration": 89,
    "start_time": "2022-12-11T13:04:10.781Z"
   },
   {
    "duration": 10,
    "start_time": "2022-12-11T13:04:10.872Z"
   },
   {
    "duration": 73,
    "start_time": "2022-12-11T13:04:10.884Z"
   },
   {
    "duration": 190,
    "start_time": "2022-12-11T13:04:10.960Z"
   },
   {
    "duration": 17,
    "start_time": "2022-12-11T13:04:11.152Z"
   },
   {
    "duration": 38,
    "start_time": "2022-12-11T13:04:11.172Z"
   },
   {
    "duration": 8,
    "start_time": "2022-12-11T13:04:11.213Z"
   },
   {
    "duration": 1721,
    "start_time": "2022-12-11T13:04:11.224Z"
   },
   {
    "duration": 1656,
    "start_time": "2022-12-11T13:04:12.947Z"
   },
   {
    "duration": 1724,
    "start_time": "2022-12-11T13:04:14.606Z"
   },
   {
    "duration": 13,
    "start_time": "2022-12-11T13:27:38.576Z"
   },
   {
    "duration": 8,
    "start_time": "2022-12-11T13:27:48.364Z"
   },
   {
    "duration": 1697,
    "start_time": "2022-12-11T13:31:49.023Z"
   },
   {
    "duration": 175,
    "start_time": "2022-12-11T13:31:50.722Z"
   },
   {
    "duration": 144,
    "start_time": "2022-12-11T13:31:50.899Z"
   },
   {
    "duration": 146,
    "start_time": "2022-12-11T13:31:51.045Z"
   },
   {
    "duration": 19,
    "start_time": "2022-12-11T13:31:51.193Z"
   },
   {
    "duration": 57,
    "start_time": "2022-12-11T13:31:51.214Z"
   },
   {
    "duration": 93,
    "start_time": "2022-12-11T13:31:51.273Z"
   },
   {
    "duration": 9,
    "start_time": "2022-12-11T13:31:51.368Z"
   },
   {
    "duration": 177,
    "start_time": "2022-12-11T13:31:51.379Z"
   },
   {
    "duration": 96,
    "start_time": "2022-12-11T13:31:51.559Z"
   },
   {
    "duration": 93,
    "start_time": "2022-12-11T13:31:51.661Z"
   },
   {
    "duration": 26,
    "start_time": "2022-12-11T13:31:51.757Z"
   },
   {
    "duration": 7,
    "start_time": "2022-12-11T13:31:51.785Z"
   },
   {
    "duration": 1337,
    "start_time": "2022-12-11T13:31:51.794Z"
   },
   {
    "duration": 1262,
    "start_time": "2022-12-11T13:31:53.134Z"
   },
   {
    "duration": 1240,
    "start_time": "2022-12-11T13:31:54.398Z"
   },
   {
    "duration": 1722,
    "start_time": "2022-12-11T13:33:20.201Z"
   },
   {
    "duration": 208,
    "start_time": "2022-12-11T13:33:21.926Z"
   },
   {
    "duration": 165,
    "start_time": "2022-12-11T13:33:22.136Z"
   },
   {
    "duration": 181,
    "start_time": "2022-12-11T13:33:22.304Z"
   },
   {
    "duration": 26,
    "start_time": "2022-12-11T13:33:22.487Z"
   },
   {
    "duration": 75,
    "start_time": "2022-12-11T13:33:22.516Z"
   },
   {
    "duration": 121,
    "start_time": "2022-12-11T13:33:22.593Z"
   },
   {
    "duration": 12,
    "start_time": "2022-12-11T13:33:22.717Z"
   },
   {
    "duration": 220,
    "start_time": "2022-12-11T13:33:22.732Z"
   },
   {
    "duration": 92,
    "start_time": "2022-12-11T13:33:22.961Z"
   },
   {
    "duration": 15,
    "start_time": "2022-12-11T13:33:23.055Z"
   },
   {
    "duration": 37,
    "start_time": "2022-12-11T13:33:23.073Z"
   },
   {
    "duration": 9,
    "start_time": "2022-12-11T13:33:23.112Z"
   },
   {
    "duration": 1920,
    "start_time": "2022-12-11T13:33:23.123Z"
   },
   {
    "duration": 1746,
    "start_time": "2022-12-11T13:33:25.045Z"
   },
   {
    "duration": 1684,
    "start_time": "2022-12-11T13:33:26.793Z"
   },
   {
    "duration": 1694,
    "start_time": "2022-12-11T13:39:11.214Z"
   },
   {
    "duration": 183,
    "start_time": "2022-12-11T13:39:12.911Z"
   },
   {
    "duration": 143,
    "start_time": "2022-12-11T13:39:13.096Z"
   },
   {
    "duration": 146,
    "start_time": "2022-12-11T13:39:13.243Z"
   },
   {
    "duration": 20,
    "start_time": "2022-12-11T13:39:13.391Z"
   },
   {
    "duration": 58,
    "start_time": "2022-12-11T13:39:13.413Z"
   },
   {
    "duration": 92,
    "start_time": "2022-12-11T13:39:13.473Z"
   },
   {
    "duration": 9,
    "start_time": "2022-12-11T13:39:13.567Z"
   },
   {
    "duration": 87,
    "start_time": "2022-12-11T13:39:13.578Z"
   },
   {
    "duration": 99,
    "start_time": "2022-12-11T13:39:13.755Z"
   },
   {
    "duration": 6,
    "start_time": "2022-12-11T13:39:13.856Z"
   },
   {
    "duration": 131,
    "start_time": "2022-12-11T13:39:13.864Z"
   },
   {
    "duration": 0,
    "start_time": "2022-12-11T13:39:13.996Z"
   },
   {
    "duration": 0,
    "start_time": "2022-12-11T13:39:13.998Z"
   },
   {
    "duration": 0,
    "start_time": "2022-12-11T13:39:13.999Z"
   },
   {
    "duration": 0,
    "start_time": "2022-12-11T13:39:14.000Z"
   },
   {
    "duration": 1772,
    "start_time": "2022-12-11T13:40:14.059Z"
   },
   {
    "duration": 195,
    "start_time": "2022-12-11T13:40:15.834Z"
   },
   {
    "duration": 197,
    "start_time": "2022-12-11T13:40:16.031Z"
   },
   {
    "duration": 163,
    "start_time": "2022-12-11T13:40:16.231Z"
   },
   {
    "duration": 24,
    "start_time": "2022-12-11T13:40:16.397Z"
   },
   {
    "duration": 59,
    "start_time": "2022-12-11T13:40:16.422Z"
   },
   {
    "duration": 97,
    "start_time": "2022-12-11T13:40:16.484Z"
   },
   {
    "duration": 10,
    "start_time": "2022-12-11T13:40:16.582Z"
   },
   {
    "duration": 74,
    "start_time": "2022-12-11T13:40:16.594Z"
   },
   {
    "duration": 18,
    "start_time": "2022-12-11T13:40:16.752Z"
   },
   {
    "duration": 89,
    "start_time": "2022-12-11T13:40:16.772Z"
   },
   {
    "duration": 154,
    "start_time": "2022-12-11T13:40:16.864Z"
   },
   {
    "duration": 0,
    "start_time": "2022-12-11T13:40:17.021Z"
   },
   {
    "duration": 0,
    "start_time": "2022-12-11T13:40:17.023Z"
   },
   {
    "duration": 0,
    "start_time": "2022-12-11T13:40:17.025Z"
   },
   {
    "duration": 0,
    "start_time": "2022-12-11T13:40:17.027Z"
   },
   {
    "duration": 1657,
    "start_time": "2022-12-11T13:40:47.341Z"
   },
   {
    "duration": 196,
    "start_time": "2022-12-11T13:40:49.001Z"
   },
   {
    "duration": 167,
    "start_time": "2022-12-11T13:40:49.199Z"
   },
   {
    "duration": 147,
    "start_time": "2022-12-11T13:40:49.369Z"
   },
   {
    "duration": 20,
    "start_time": "2022-12-11T13:40:49.518Z"
   },
   {
    "duration": 53,
    "start_time": "2022-12-11T13:40:49.550Z"
   },
   {
    "duration": 114,
    "start_time": "2022-12-11T13:40:49.606Z"
   },
   {
    "duration": 12,
    "start_time": "2022-12-11T13:40:49.722Z"
   },
   {
    "duration": 109,
    "start_time": "2022-12-11T13:40:49.752Z"
   },
   {
    "duration": 98,
    "start_time": "2022-12-11T13:40:49.868Z"
   },
   {
    "duration": 9,
    "start_time": "2022-12-11T13:40:49.969Z"
   },
   {
    "duration": 17,
    "start_time": "2022-12-11T13:40:49.983Z"
   },
   {
    "duration": 9,
    "start_time": "2022-12-11T13:40:50.002Z"
   },
   {
    "duration": 1303,
    "start_time": "2022-12-11T13:40:50.014Z"
   },
   {
    "duration": 1257,
    "start_time": "2022-12-11T13:40:51.319Z"
   },
   {
    "duration": 1293,
    "start_time": "2022-12-11T13:40:52.577Z"
   },
   {
    "duration": 1745,
    "start_time": "2022-12-11T13:41:18.302Z"
   },
   {
    "duration": 228,
    "start_time": "2022-12-11T13:41:20.050Z"
   },
   {
    "duration": 236,
    "start_time": "2022-12-11T13:41:20.280Z"
   },
   {
    "duration": 214,
    "start_time": "2022-12-11T13:41:20.518Z"
   },
   {
    "duration": 34,
    "start_time": "2022-12-11T13:41:20.734Z"
   },
   {
    "duration": 56,
    "start_time": "2022-12-11T13:41:20.770Z"
   },
   {
    "duration": 123,
    "start_time": "2022-12-11T13:41:20.828Z"
   },
   {
    "duration": 12,
    "start_time": "2022-12-11T13:41:20.954Z"
   },
   {
    "duration": 181,
    "start_time": "2022-12-11T13:41:20.971Z"
   },
   {
    "duration": 97,
    "start_time": "2022-12-11T13:41:21.156Z"
   },
   {
    "duration": 129,
    "start_time": "2022-12-11T13:41:21.255Z"
   },
   {
    "duration": 38,
    "start_time": "2022-12-11T13:41:21.386Z"
   },
   {
    "duration": 8,
    "start_time": "2022-12-11T13:41:21.426Z"
   },
   {
    "duration": 2030,
    "start_time": "2022-12-11T13:41:21.437Z"
   },
   {
    "duration": 1983,
    "start_time": "2022-12-11T13:41:23.469Z"
   },
   {
    "duration": 1933,
    "start_time": "2022-12-11T13:41:25.454Z"
   },
   {
    "duration": 60,
    "start_time": "2022-12-12T05:02:51.714Z"
   },
   {
    "duration": 1056,
    "start_time": "2022-12-12T05:03:00.613Z"
   },
   {
    "duration": 259,
    "start_time": "2022-12-12T05:03:01.671Z"
   },
   {
    "duration": 234,
    "start_time": "2022-12-12T05:03:01.932Z"
   },
   {
    "duration": 215,
    "start_time": "2022-12-12T05:03:02.168Z"
   },
   {
    "duration": 53,
    "start_time": "2022-12-12T05:03:02.385Z"
   },
   {
    "duration": 16,
    "start_time": "2022-12-12T05:03:02.440Z"
   },
   {
    "duration": 55,
    "start_time": "2022-12-12T05:03:02.457Z"
   },
   {
    "duration": 67,
    "start_time": "2022-12-12T05:03:02.514Z"
   },
   {
    "duration": 29,
    "start_time": "2022-12-12T05:03:02.582Z"
   },
   {
    "duration": 92,
    "start_time": "2022-12-12T05:03:02.612Z"
   },
   {
    "duration": 94,
    "start_time": "2022-12-12T05:03:02.710Z"
   },
   {
    "duration": 13,
    "start_time": "2022-12-12T05:03:02.811Z"
   },
   {
    "duration": 30,
    "start_time": "2022-12-12T05:03:02.826Z"
   },
   {
    "duration": 5,
    "start_time": "2022-12-12T05:03:02.858Z"
   },
   {
    "duration": 1500,
    "start_time": "2022-12-12T05:03:02.865Z"
   },
   {
    "duration": 1492,
    "start_time": "2022-12-12T05:03:04.367Z"
   },
   {
    "duration": 1611,
    "start_time": "2022-12-12T05:03:05.861Z"
   },
   {
    "duration": 52,
    "start_time": "2022-12-12T05:04:43.083Z"
   },
   {
    "duration": 171,
    "start_time": "2022-12-12T05:07:32.255Z"
   },
   {
    "duration": 70,
    "start_time": "2022-12-12T05:08:56.396Z"
   },
   {
    "duration": 55,
    "start_time": "2022-12-12T08:50:31.510Z"
   },
   {
    "duration": 1273,
    "start_time": "2022-12-12T08:50:37.298Z"
   },
   {
    "duration": 708,
    "start_time": "2022-12-12T08:50:38.574Z"
   },
   {
    "duration": 616,
    "start_time": "2022-12-12T08:50:39.285Z"
   },
   {
    "duration": 583,
    "start_time": "2022-12-12T08:50:39.903Z"
   },
   {
    "duration": 48,
    "start_time": "2022-12-12T08:50:40.489Z"
   },
   {
    "duration": 75,
    "start_time": "2022-12-12T08:50:40.539Z"
   },
   {
    "duration": 10,
    "start_time": "2022-12-12T08:50:40.616Z"
   },
   {
    "duration": 20,
    "start_time": "2022-12-12T08:50:40.638Z"
   },
   {
    "duration": 41,
    "start_time": "2022-12-12T08:50:40.659Z"
   },
   {
    "duration": 87,
    "start_time": "2022-12-12T08:50:40.701Z"
   },
   {
    "duration": 9,
    "start_time": "2022-12-12T08:50:40.789Z"
   },
   {
    "duration": 52,
    "start_time": "2022-12-12T08:50:40.800Z"
   },
   {
    "duration": 184,
    "start_time": "2022-12-12T08:50:40.855Z"
   },
   {
    "duration": 5,
    "start_time": "2022-12-12T08:50:41.042Z"
   },
   {
    "duration": 25,
    "start_time": "2022-12-12T08:50:41.049Z"
   },
   {
    "duration": 5,
    "start_time": "2022-12-12T08:50:41.075Z"
   },
   {
    "duration": 1645,
    "start_time": "2022-12-12T08:50:41.082Z"
   },
   {
    "duration": 1588,
    "start_time": "2022-12-12T08:50:42.729Z"
   },
   {
    "duration": 1625,
    "start_time": "2022-12-12T08:50:44.318Z"
   },
   {
    "duration": 748,
    "start_time": "2022-12-12T08:51:46.550Z"
   },
   {
    "duration": 291,
    "start_time": "2022-12-12T08:56:05.348Z"
   },
   {
    "duration": 1161,
    "start_time": "2022-12-12T09:05:43.228Z"
   },
   {
    "duration": 174,
    "start_time": "2022-12-12T09:05:44.391Z"
   },
   {
    "duration": 156,
    "start_time": "2022-12-12T09:05:44.567Z"
   },
   {
    "duration": 148,
    "start_time": "2022-12-12T09:05:44.724Z"
   },
   {
    "duration": 47,
    "start_time": "2022-12-12T09:05:44.874Z"
   },
   {
    "duration": 83,
    "start_time": "2022-12-12T09:05:44.922Z"
   },
   {
    "duration": 561,
    "start_time": "2022-12-12T09:05:45.007Z"
   },
   {
    "duration": 20,
    "start_time": "2022-12-12T09:05:45.570Z"
   },
   {
    "duration": 60,
    "start_time": "2022-12-12T09:05:45.592Z"
   },
   {
    "duration": 88,
    "start_time": "2022-12-12T09:05:45.654Z"
   },
   {
    "duration": 8,
    "start_time": "2022-12-12T09:05:45.744Z"
   },
   {
    "duration": 87,
    "start_time": "2022-12-12T09:05:45.755Z"
   },
   {
    "duration": 97,
    "start_time": "2022-12-12T09:05:45.845Z"
   },
   {
    "duration": 102,
    "start_time": "2022-12-12T09:05:45.945Z"
   },
   {
    "duration": 25,
    "start_time": "2022-12-12T09:05:46.049Z"
   },
   {
    "duration": 6,
    "start_time": "2022-12-12T09:05:46.075Z"
   },
   {
    "duration": 1673,
    "start_time": "2022-12-12T09:05:46.083Z"
   },
   {
    "duration": 1657,
    "start_time": "2022-12-12T09:05:47.757Z"
   },
   {
    "duration": 1601,
    "start_time": "2022-12-12T09:05:49.416Z"
   },
   {
    "duration": 289,
    "start_time": "2022-12-12T09:09:31.003Z"
   },
   {
    "duration": 405,
    "start_time": "2022-12-12T09:10:03.886Z"
   },
   {
    "duration": 286,
    "start_time": "2022-12-12T09:10:07.517Z"
   },
   {
    "duration": 57,
    "start_time": "2022-12-12T09:12:49.638Z"
   },
   {
    "duration": 472,
    "start_time": "2022-12-12T09:13:38.009Z"
   },
   {
    "duration": 473,
    "start_time": "2022-12-12T09:14:07.845Z"
   },
   {
    "duration": 493,
    "start_time": "2022-12-12T09:14:16.013Z"
   },
   {
    "duration": 558,
    "start_time": "2022-12-12T09:15:22.306Z"
   },
   {
    "duration": 462,
    "start_time": "2022-12-12T09:16:17.911Z"
   },
   {
    "duration": 1563,
    "start_time": "2022-12-12T09:17:56.123Z"
   },
   {
    "duration": 172,
    "start_time": "2022-12-12T09:17:57.689Z"
   },
   {
    "duration": 145,
    "start_time": "2022-12-12T09:17:57.863Z"
   },
   {
    "duration": 142,
    "start_time": "2022-12-12T09:17:58.010Z"
   },
   {
    "duration": 53,
    "start_time": "2022-12-12T09:17:58.154Z"
   },
   {
    "duration": 93,
    "start_time": "2022-12-12T09:17:58.209Z"
   },
   {
    "duration": 538,
    "start_time": "2022-12-12T09:17:58.303Z"
   },
   {
    "duration": 507,
    "start_time": "2022-12-12T09:17:58.843Z"
   },
   {
    "duration": 595,
    "start_time": "2022-12-12T09:17:59.352Z"
   },
   {
    "duration": 288,
    "start_time": "2022-12-12T09:17:59.949Z"
   },
   {
    "duration": 18,
    "start_time": "2022-12-12T09:18:00.239Z"
   },
   {
    "duration": 43,
    "start_time": "2022-12-12T09:18:00.259Z"
   },
   {
    "duration": 86,
    "start_time": "2022-12-12T09:18:00.304Z"
   },
   {
    "duration": 9,
    "start_time": "2022-12-12T09:18:00.394Z"
   },
   {
    "duration": 52,
    "start_time": "2022-12-12T09:18:00.405Z"
   },
   {
    "duration": 87,
    "start_time": "2022-12-12T09:18:00.458Z"
   },
   {
    "duration": 117,
    "start_time": "2022-12-12T09:18:00.548Z"
   },
   {
    "duration": 39,
    "start_time": "2022-12-12T09:18:00.667Z"
   },
   {
    "duration": 15,
    "start_time": "2022-12-12T09:18:00.709Z"
   },
   {
    "duration": 1650,
    "start_time": "2022-12-12T09:18:00.726Z"
   },
   {
    "duration": 1573,
    "start_time": "2022-12-12T09:18:02.378Z"
   },
   {
    "duration": 1587,
    "start_time": "2022-12-12T09:18:03.954Z"
   },
   {
    "duration": 295,
    "start_time": "2022-12-12T09:18:47.428Z"
   },
   {
    "duration": 285,
    "start_time": "2022-12-12T09:18:54.762Z"
   },
   {
    "duration": 302,
    "start_time": "2022-12-12T09:19:01.547Z"
   },
   {
    "duration": 298,
    "start_time": "2022-12-12T09:19:25.215Z"
   },
   {
    "duration": 78,
    "start_time": "2022-12-12T09:20:35.657Z"
   },
   {
    "duration": 525,
    "start_time": "2022-12-12T09:21:22.778Z"
   },
   {
    "duration": 318,
    "start_time": "2022-12-12T09:21:35.196Z"
   },
   {
    "duration": 318,
    "start_time": "2022-12-12T09:21:59.798Z"
   },
   {
    "duration": 338,
    "start_time": "2022-12-12T09:22:18.317Z"
   },
   {
    "duration": 1522,
    "start_time": "2022-12-12T09:38:29.339Z"
   },
   {
    "duration": 184,
    "start_time": "2022-12-12T09:38:30.864Z"
   },
   {
    "duration": 146,
    "start_time": "2022-12-12T09:38:31.050Z"
   },
   {
    "duration": 150,
    "start_time": "2022-12-12T09:38:31.198Z"
   },
   {
    "duration": 53,
    "start_time": "2022-12-12T09:38:31.352Z"
   },
   {
    "duration": 99,
    "start_time": "2022-12-12T09:38:31.406Z"
   },
   {
    "duration": 337,
    "start_time": "2022-12-12T09:38:31.507Z"
   },
   {
    "duration": 316,
    "start_time": "2022-12-12T09:38:31.846Z"
   },
   {
    "duration": 408,
    "start_time": "2022-12-12T09:38:32.164Z"
   },
   {
    "duration": 493,
    "start_time": "2022-12-12T09:38:32.574Z"
   },
   {
    "duration": 316,
    "start_time": "2022-12-12T09:38:33.069Z"
   },
   {
    "duration": 388,
    "start_time": "2022-12-12T09:38:33.387Z"
   },
   {
    "duration": 25,
    "start_time": "2022-12-12T09:38:33.778Z"
   },
   {
    "duration": 62,
    "start_time": "2022-12-12T09:38:33.806Z"
   },
   {
    "duration": 80,
    "start_time": "2022-12-12T09:38:33.870Z"
   },
   {
    "duration": 9,
    "start_time": "2022-12-12T09:38:33.952Z"
   },
   {
    "duration": 274,
    "start_time": "2022-12-12T09:38:33.963Z"
   },
   {
    "duration": 99,
    "start_time": "2022-12-12T09:38:34.242Z"
   },
   {
    "duration": 16,
    "start_time": "2022-12-12T09:38:34.344Z"
   },
   {
    "duration": 34,
    "start_time": "2022-12-12T09:38:34.362Z"
   },
   {
    "duration": 8,
    "start_time": "2022-12-12T09:38:34.398Z"
   },
   {
    "duration": 1678,
    "start_time": "2022-12-12T09:38:34.408Z"
   },
   {
    "duration": 1601,
    "start_time": "2022-12-12T09:38:36.088Z"
   },
   {
    "duration": 1762,
    "start_time": "2022-12-12T09:38:37.690Z"
   },
   {
    "duration": 337,
    "start_time": "2022-12-12T09:39:08.697Z"
   },
   {
    "duration": 292,
    "start_time": "2022-12-12T09:39:46.160Z"
   },
   {
    "duration": 291,
    "start_time": "2022-12-12T09:39:56.632Z"
   },
   {
    "duration": 1547,
    "start_time": "2022-12-12T10:16:21.044Z"
   },
   {
    "duration": 165,
    "start_time": "2022-12-12T10:16:22.594Z"
   },
   {
    "duration": 142,
    "start_time": "2022-12-12T10:16:22.761Z"
   },
   {
    "duration": 143,
    "start_time": "2022-12-12T10:16:22.905Z"
   },
   {
    "duration": 51,
    "start_time": "2022-12-12T10:16:23.050Z"
   },
   {
    "duration": 99,
    "start_time": "2022-12-12T10:16:23.102Z"
   },
   {
    "duration": 315,
    "start_time": "2022-12-12T10:16:23.204Z"
   },
   {
    "duration": 290,
    "start_time": "2022-12-12T10:16:23.521Z"
   },
   {
    "duration": 379,
    "start_time": "2022-12-12T10:16:23.814Z"
   },
   {
    "duration": 326,
    "start_time": "2022-12-12T10:16:24.195Z"
   },
   {
    "duration": 284,
    "start_time": "2022-12-12T10:16:24.523Z"
   },
   {
    "duration": 293,
    "start_time": "2022-12-12T10:16:24.810Z"
   },
   {
    "duration": 16,
    "start_time": "2022-12-12T10:16:25.105Z"
   },
   {
    "duration": 37,
    "start_time": "2022-12-12T10:16:25.138Z"
   },
   {
    "duration": 84,
    "start_time": "2022-12-12T10:16:25.177Z"
   },
   {
    "duration": 8,
    "start_time": "2022-12-12T10:16:25.262Z"
   },
   {
    "duration": 71,
    "start_time": "2022-12-12T10:16:25.272Z"
   },
   {
    "duration": 195,
    "start_time": "2022-12-12T10:16:25.346Z"
   },
   {
    "duration": 11,
    "start_time": "2022-12-12T10:16:25.543Z"
   },
   {
    "duration": 30,
    "start_time": "2022-12-12T10:16:25.556Z"
   },
   {
    "duration": 6,
    "start_time": "2022-12-12T10:16:25.588Z"
   },
   {
    "duration": 1688,
    "start_time": "2022-12-12T10:16:25.595Z"
   },
   {
    "duration": 1626,
    "start_time": "2022-12-12T10:16:27.285Z"
   },
   {
    "duration": 1669,
    "start_time": "2022-12-12T10:16:28.914Z"
   },
   {
    "duration": 60,
    "start_time": "2022-12-12T10:28:29.242Z"
   },
   {
    "duration": 3,
    "start_time": "2022-12-12T10:33:32.574Z"
   },
   {
    "duration": 1380,
    "start_time": "2022-12-12T10:34:44.262Z"
   },
   {
    "duration": 165,
    "start_time": "2022-12-12T10:34:45.644Z"
   },
   {
    "duration": 150,
    "start_time": "2022-12-12T10:34:45.811Z"
   },
   {
    "duration": 141,
    "start_time": "2022-12-12T10:34:45.963Z"
   },
   {
    "duration": 49,
    "start_time": "2022-12-12T10:34:46.106Z"
   },
   {
    "duration": 80,
    "start_time": "2022-12-12T10:34:46.157Z"
   },
   {
    "duration": 300,
    "start_time": "2022-12-12T10:34:46.239Z"
   },
   {
    "duration": 278,
    "start_time": "2022-12-12T10:34:46.541Z"
   },
   {
    "duration": 354,
    "start_time": "2022-12-12T10:34:46.821Z"
   },
   {
    "duration": 315,
    "start_time": "2022-12-12T10:34:47.176Z"
   },
   {
    "duration": 297,
    "start_time": "2022-12-12T10:34:47.493Z"
   },
   {
    "duration": 313,
    "start_time": "2022-12-12T10:34:47.792Z"
   },
   {
    "duration": 19,
    "start_time": "2022-12-12T10:34:48.107Z"
   },
   {
    "duration": 41,
    "start_time": "2022-12-12T10:34:48.139Z"
   },
   {
    "duration": 86,
    "start_time": "2022-12-12T10:34:48.182Z"
   },
   {
    "duration": 9,
    "start_time": "2022-12-12T10:34:48.270Z"
   },
   {
    "duration": 64,
    "start_time": "2022-12-12T10:34:48.281Z"
   },
   {
    "duration": 92,
    "start_time": "2022-12-12T10:34:48.347Z"
   },
   {
    "duration": 107,
    "start_time": "2022-12-12T10:34:48.443Z"
   },
   {
    "duration": 11,
    "start_time": "2022-12-12T10:34:48.552Z"
   },
   {
    "duration": 27,
    "start_time": "2022-12-12T10:34:48.565Z"
   },
   {
    "duration": 6,
    "start_time": "2022-12-12T10:34:48.593Z"
   },
   {
    "duration": 1771,
    "start_time": "2022-12-12T10:34:48.600Z"
   },
   {
    "duration": 1606,
    "start_time": "2022-12-12T10:34:50.372Z"
   },
   {
    "duration": 1615,
    "start_time": "2022-12-12T10:34:51.980Z"
   },
   {
    "duration": 5,
    "start_time": "2022-12-12T10:36:13.575Z"
   },
   {
    "duration": 3,
    "start_time": "2022-12-12T10:36:16.424Z"
   },
   {
    "duration": 17,
    "start_time": "2022-12-12T10:36:18.223Z"
   },
   {
    "duration": 176,
    "start_time": "2022-12-12T10:39:58.170Z"
   },
   {
    "duration": 2,
    "start_time": "2022-12-12T10:43:56.290Z"
   },
   {
    "duration": 5,
    "start_time": "2022-12-12T10:44:40.381Z"
   },
   {
    "duration": 5,
    "start_time": "2022-12-12T10:49:10.107Z"
   },
   {
    "duration": 6,
    "start_time": "2022-12-12T10:50:19.421Z"
   },
   {
    "duration": 202,
    "start_time": "2022-12-12T10:51:03.543Z"
   },
   {
    "duration": 129,
    "start_time": "2022-12-12T10:51:25.516Z"
   },
   {
    "duration": 6,
    "start_time": "2022-12-12T10:53:40.265Z"
   },
   {
    "duration": 7,
    "start_time": "2022-12-12T10:54:22.333Z"
   },
   {
    "duration": 8,
    "start_time": "2022-12-12T10:54:32.895Z"
   },
   {
    "duration": 8,
    "start_time": "2022-12-12T10:55:10.240Z"
   },
   {
    "duration": 16,
    "start_time": "2022-12-12T11:03:06.515Z"
   },
   {
    "duration": 17,
    "start_time": "2022-12-12T11:04:25.019Z"
   },
   {
    "duration": 1430,
    "start_time": "2022-12-12T11:04:34.535Z"
   },
   {
    "duration": 3,
    "start_time": "2022-12-12T11:04:35.967Z"
   },
   {
    "duration": 175,
    "start_time": "2022-12-12T11:04:35.972Z"
   },
   {
    "duration": 136,
    "start_time": "2022-12-12T11:04:36.149Z"
   },
   {
    "duration": 137,
    "start_time": "2022-12-12T11:04:36.286Z"
   },
   {
    "duration": 52,
    "start_time": "2022-12-12T11:04:36.425Z"
   },
   {
    "duration": 84,
    "start_time": "2022-12-12T11:04:36.479Z"
   },
   {
    "duration": 315,
    "start_time": "2022-12-12T11:04:36.565Z"
   },
   {
    "duration": 291,
    "start_time": "2022-12-12T11:04:36.882Z"
   },
   {
    "duration": 360,
    "start_time": "2022-12-12T11:04:37.177Z"
   },
   {
    "duration": 309,
    "start_time": "2022-12-12T11:04:37.539Z"
   },
   {
    "duration": 267,
    "start_time": "2022-12-12T11:04:37.851Z"
   },
   {
    "duration": 278,
    "start_time": "2022-12-12T11:04:38.120Z"
   },
   {
    "duration": 18,
    "start_time": "2022-12-12T11:04:38.400Z"
   },
   {
    "duration": 50,
    "start_time": "2022-12-12T11:04:38.420Z"
   },
   {
    "duration": 72,
    "start_time": "2022-12-12T11:04:38.472Z"
   },
   {
    "duration": 10,
    "start_time": "2022-12-12T11:04:38.546Z"
   },
   {
    "duration": 8,
    "start_time": "2022-12-12T11:04:38.557Z"
   },
   {
    "duration": 7,
    "start_time": "2022-12-12T11:04:38.567Z"
   },
   {
    "duration": 269,
    "start_time": "2022-12-12T11:04:38.576Z"
   },
   {
    "duration": 97,
    "start_time": "2022-12-12T11:04:38.848Z"
   },
   {
    "duration": 97,
    "start_time": "2022-12-12T11:04:38.947Z"
   },
   {
    "duration": 151,
    "start_time": "2022-12-12T11:04:39.046Z"
   },
   {
    "duration": 0,
    "start_time": "2022-12-12T11:04:39.198Z"
   },
   {
    "duration": 0,
    "start_time": "2022-12-12T11:04:39.200Z"
   },
   {
    "duration": 0,
    "start_time": "2022-12-12T11:04:39.201Z"
   },
   {
    "duration": 0,
    "start_time": "2022-12-12T11:04:39.203Z"
   },
   {
    "duration": 15,
    "start_time": "2022-12-12T11:05:16.605Z"
   },
   {
    "duration": 6,
    "start_time": "2022-12-12T11:05:23.640Z"
   },
   {
    "duration": 1402,
    "start_time": "2022-12-12T11:05:30.353Z"
   },
   {
    "duration": 3,
    "start_time": "2022-12-12T11:05:31.758Z"
   },
   {
    "duration": 207,
    "start_time": "2022-12-12T11:05:31.762Z"
   },
   {
    "duration": 149,
    "start_time": "2022-12-12T11:05:31.971Z"
   },
   {
    "duration": 149,
    "start_time": "2022-12-12T11:05:32.122Z"
   },
   {
    "duration": 52,
    "start_time": "2022-12-12T11:05:32.272Z"
   },
   {
    "duration": 69,
    "start_time": "2022-12-12T11:05:32.338Z"
   },
   {
    "duration": 301,
    "start_time": "2022-12-12T11:05:32.409Z"
   },
   {
    "duration": 291,
    "start_time": "2022-12-12T11:05:32.712Z"
   },
   {
    "duration": 376,
    "start_time": "2022-12-12T11:05:33.005Z"
   },
   {
    "duration": 326,
    "start_time": "2022-12-12T11:05:33.383Z"
   },
   {
    "duration": 292,
    "start_time": "2022-12-12T11:05:33.710Z"
   },
   {
    "duration": 301,
    "start_time": "2022-12-12T11:05:34.004Z"
   },
   {
    "duration": 18,
    "start_time": "2022-12-12T11:05:34.308Z"
   },
   {
    "duration": 46,
    "start_time": "2022-12-12T11:05:34.327Z"
   },
   {
    "duration": 83,
    "start_time": "2022-12-12T11:05:34.375Z"
   },
   {
    "duration": 8,
    "start_time": "2022-12-12T11:05:34.460Z"
   },
   {
    "duration": 8,
    "start_time": "2022-12-12T11:05:34.469Z"
   },
   {
    "duration": 8,
    "start_time": "2022-12-12T11:05:34.479Z"
   },
   {
    "duration": 157,
    "start_time": "2022-12-12T11:05:34.489Z"
   },
   {
    "duration": 9,
    "start_time": "2022-12-12T11:05:34.737Z"
   },
   {
    "duration": 99,
    "start_time": "2022-12-12T11:05:34.748Z"
   },
   {
    "duration": 20,
    "start_time": "2022-12-12T11:05:34.849Z"
   },
   {
    "duration": 6,
    "start_time": "2022-12-12T11:05:34.870Z"
   },
   {
    "duration": 1259,
    "start_time": "2022-12-12T11:05:34.878Z"
   },
   {
    "duration": 1193,
    "start_time": "2022-12-12T11:05:36.139Z"
   },
   {
    "duration": 1189,
    "start_time": "2022-12-12T11:05:37.337Z"
   },
   {
    "duration": 21,
    "start_time": "2022-12-12T11:06:39.834Z"
   },
   {
    "duration": 16,
    "start_time": "2022-12-12T11:07:30.057Z"
   },
   {
    "duration": 6,
    "start_time": "2022-12-12T11:17:00.333Z"
   },
   {
    "duration": 1398,
    "start_time": "2022-12-12T11:17:07.084Z"
   },
   {
    "duration": 3,
    "start_time": "2022-12-12T11:17:08.484Z"
   },
   {
    "duration": 176,
    "start_time": "2022-12-12T11:17:08.488Z"
   },
   {
    "duration": 143,
    "start_time": "2022-12-12T11:17:08.666Z"
   },
   {
    "duration": 175,
    "start_time": "2022-12-12T11:17:08.813Z"
   },
   {
    "duration": 62,
    "start_time": "2022-12-12T11:17:08.989Z"
   },
   {
    "duration": 94,
    "start_time": "2022-12-12T11:17:09.053Z"
   },
   {
    "duration": 297,
    "start_time": "2022-12-12T11:17:09.148Z"
   },
   {
    "duration": 283,
    "start_time": "2022-12-12T11:17:09.447Z"
   },
   {
    "duration": 367,
    "start_time": "2022-12-12T11:17:09.737Z"
   },
   {
    "duration": 310,
    "start_time": "2022-12-12T11:17:10.106Z"
   },
   {
    "duration": 300,
    "start_time": "2022-12-12T11:17:10.418Z"
   },
   {
    "duration": 289,
    "start_time": "2022-12-12T11:17:10.720Z"
   },
   {
    "duration": 17,
    "start_time": "2022-12-12T11:17:11.011Z"
   },
   {
    "duration": 39,
    "start_time": "2022-12-12T11:17:11.037Z"
   },
   {
    "duration": 81,
    "start_time": "2022-12-12T11:17:11.078Z"
   },
   {
    "duration": 9,
    "start_time": "2022-12-12T11:17:11.162Z"
   },
   {
    "duration": 7,
    "start_time": "2022-12-12T11:17:11.173Z"
   },
   {
    "duration": 7,
    "start_time": "2022-12-12T11:17:11.182Z"
   },
   {
    "duration": 248,
    "start_time": "2022-12-12T11:17:11.191Z"
   },
   {
    "duration": 96,
    "start_time": "2022-12-12T11:17:11.442Z"
   },
   {
    "duration": 9,
    "start_time": "2022-12-12T11:17:11.540Z"
   },
   {
    "duration": 18,
    "start_time": "2022-12-12T11:17:11.551Z"
   },
   {
    "duration": 6,
    "start_time": "2022-12-12T11:17:11.571Z"
   },
   {
    "duration": 1251,
    "start_time": "2022-12-12T11:17:11.579Z"
   },
   {
    "duration": 1173,
    "start_time": "2022-12-12T11:17:12.831Z"
   },
   {
    "duration": 1233,
    "start_time": "2022-12-12T11:17:14.006Z"
   },
   {
    "duration": 10,
    "start_time": "2022-12-12T11:28:07.346Z"
   },
   {
    "duration": 3,
    "start_time": "2022-12-12T11:35:40.483Z"
   },
   {
    "duration": 1468,
    "start_time": "2022-12-12T11:35:55.378Z"
   },
   {
    "duration": 3,
    "start_time": "2022-12-12T11:35:56.847Z"
   },
   {
    "duration": 161,
    "start_time": "2022-12-12T11:35:56.851Z"
   },
   {
    "duration": 139,
    "start_time": "2022-12-12T11:35:57.014Z"
   },
   {
    "duration": 140,
    "start_time": "2022-12-12T11:35:57.155Z"
   },
   {
    "duration": 59,
    "start_time": "2022-12-12T11:35:57.296Z"
   },
   {
    "duration": 82,
    "start_time": "2022-12-12T11:35:57.356Z"
   },
   {
    "duration": 297,
    "start_time": "2022-12-12T11:35:57.440Z"
   },
   {
    "duration": 287,
    "start_time": "2022-12-12T11:35:57.739Z"
   },
   {
    "duration": 351,
    "start_time": "2022-12-12T11:35:58.029Z"
   },
   {
    "duration": 315,
    "start_time": "2022-12-12T11:35:58.381Z"
   },
   {
    "duration": 319,
    "start_time": "2022-12-12T11:35:58.697Z"
   },
   {
    "duration": 347,
    "start_time": "2022-12-12T11:35:59.018Z"
   },
   {
    "duration": 17,
    "start_time": "2022-12-12T11:35:59.367Z"
   },
   {
    "duration": 68,
    "start_time": "2022-12-12T11:35:59.386Z"
   },
   {
    "duration": 62,
    "start_time": "2022-12-12T11:35:59.456Z"
   },
   {
    "duration": 20,
    "start_time": "2022-12-12T11:35:59.519Z"
   },
   {
    "duration": 3,
    "start_time": "2022-12-12T11:35:59.541Z"
   },
   {
    "duration": 20,
    "start_time": "2022-12-12T11:35:59.545Z"
   },
   {
    "duration": 273,
    "start_time": "2022-12-12T11:35:59.566Z"
   },
   {
    "duration": 99,
    "start_time": "2022-12-12T11:35:59.841Z"
   },
   {
    "duration": 16,
    "start_time": "2022-12-12T11:35:59.942Z"
   },
   {
    "duration": 53,
    "start_time": "2022-12-12T11:35:59.960Z"
   },
   {
    "duration": 11,
    "start_time": "2022-12-12T11:36:00.015Z"
   },
   {
    "duration": 1345,
    "start_time": "2022-12-12T11:36:00.028Z"
   },
   {
    "duration": 1170,
    "start_time": "2022-12-12T11:36:01.375Z"
   },
   {
    "duration": 1192,
    "start_time": "2022-12-12T11:36:02.546Z"
   },
   {
    "duration": 5,
    "start_time": "2022-12-12T11:41:04.948Z"
   },
   {
    "duration": 8,
    "start_time": "2022-12-12T11:41:54.682Z"
   },
   {
    "duration": 9,
    "start_time": "2022-12-12T11:42:27.877Z"
   },
   {
    "duration": 6,
    "start_time": "2022-12-12T11:52:28.491Z"
   },
   {
    "duration": 1400,
    "start_time": "2022-12-12T11:52:34.690Z"
   },
   {
    "duration": 3,
    "start_time": "2022-12-12T11:52:36.092Z"
   },
   {
    "duration": 164,
    "start_time": "2022-12-12T11:52:36.097Z"
   },
   {
    "duration": 136,
    "start_time": "2022-12-12T11:52:36.263Z"
   },
   {
    "duration": 138,
    "start_time": "2022-12-12T11:52:36.401Z"
   },
   {
    "duration": 47,
    "start_time": "2022-12-12T11:52:36.541Z"
   },
   {
    "duration": 82,
    "start_time": "2022-12-12T11:52:36.589Z"
   },
   {
    "duration": 291,
    "start_time": "2022-12-12T11:52:36.673Z"
   },
   {
    "duration": 285,
    "start_time": "2022-12-12T11:52:36.965Z"
   },
   {
    "duration": 367,
    "start_time": "2022-12-12T11:52:37.253Z"
   },
   {
    "duration": 325,
    "start_time": "2022-12-12T11:52:37.622Z"
   },
   {
    "duration": 256,
    "start_time": "2022-12-12T11:52:37.949Z"
   },
   {
    "duration": 301,
    "start_time": "2022-12-12T11:52:38.207Z"
   },
   {
    "duration": 28,
    "start_time": "2022-12-12T11:52:38.510Z"
   },
   {
    "duration": 47,
    "start_time": "2022-12-12T11:52:38.540Z"
   },
   {
    "duration": 74,
    "start_time": "2022-12-12T11:52:38.589Z"
   },
   {
    "duration": 8,
    "start_time": "2022-12-12T11:52:38.665Z"
   },
   {
    "duration": 26,
    "start_time": "2022-12-12T11:52:38.675Z"
   },
   {
    "duration": 14,
    "start_time": "2022-12-12T11:52:38.704Z"
   },
   {
    "duration": 418,
    "start_time": "2022-12-12T11:52:38.720Z"
   },
   {
    "duration": 7,
    "start_time": "2022-12-12T11:52:39.141Z"
   },
   {
    "duration": 28,
    "start_time": "2022-12-12T11:52:39.151Z"
   },
   {
    "duration": 83,
    "start_time": "2022-12-12T11:52:39.182Z"
   },
   {
    "duration": 19,
    "start_time": "2022-12-12T11:52:39.266Z"
   },
   {
    "duration": 1229,
    "start_time": "2022-12-12T11:52:39.287Z"
   },
   {
    "duration": 1189,
    "start_time": "2022-12-12T11:52:40.518Z"
   },
   {
    "duration": 1166,
    "start_time": "2022-12-12T11:52:41.709Z"
   },
   {
    "duration": 6,
    "start_time": "2022-12-12T11:52:56.925Z"
   },
   {
    "duration": 1174,
    "start_time": "2022-12-12T11:52:59.928Z"
   },
   {
    "duration": 1398,
    "start_time": "2022-12-12T11:53:09.281Z"
   },
   {
    "duration": 2,
    "start_time": "2022-12-12T11:53:10.681Z"
   },
   {
    "duration": 165,
    "start_time": "2022-12-12T11:53:10.685Z"
   },
   {
    "duration": 138,
    "start_time": "2022-12-12T11:53:10.852Z"
   },
   {
    "duration": 137,
    "start_time": "2022-12-12T11:53:10.992Z"
   },
   {
    "duration": 44,
    "start_time": "2022-12-12T11:53:11.130Z"
   },
   {
    "duration": 80,
    "start_time": "2022-12-12T11:53:11.176Z"
   },
   {
    "duration": 290,
    "start_time": "2022-12-12T11:53:11.258Z"
   },
   {
    "duration": 278,
    "start_time": "2022-12-12T11:53:11.550Z"
   },
   {
    "duration": 371,
    "start_time": "2022-12-12T11:53:11.838Z"
   },
   {
    "duration": 305,
    "start_time": "2022-12-12T11:53:12.211Z"
   },
   {
    "duration": 319,
    "start_time": "2022-12-12T11:53:12.518Z"
   },
   {
    "duration": 273,
    "start_time": "2022-12-12T11:53:12.839Z"
   },
   {
    "duration": 31,
    "start_time": "2022-12-12T11:53:13.115Z"
   },
   {
    "duration": 37,
    "start_time": "2022-12-12T11:53:13.148Z"
   },
   {
    "duration": 80,
    "start_time": "2022-12-12T11:53:13.187Z"
   },
   {
    "duration": 8,
    "start_time": "2022-12-12T11:53:13.268Z"
   },
   {
    "duration": 11,
    "start_time": "2022-12-12T11:53:13.278Z"
   },
   {
    "duration": 7,
    "start_time": "2022-12-12T11:53:13.290Z"
   },
   {
    "duration": 148,
    "start_time": "2022-12-12T11:53:13.298Z"
   },
   {
    "duration": 98,
    "start_time": "2022-12-12T11:53:13.539Z"
   },
   {
    "duration": 9,
    "start_time": "2022-12-12T11:53:13.639Z"
   },
   {
    "duration": 18,
    "start_time": "2022-12-12T11:53:13.650Z"
   },
   {
    "duration": 5,
    "start_time": "2022-12-12T11:53:13.670Z"
   },
   {
    "duration": 1237,
    "start_time": "2022-12-12T11:53:13.677Z"
   },
   {
    "duration": 1195,
    "start_time": "2022-12-12T11:53:14.915Z"
   },
   {
    "duration": 1111,
    "start_time": "2022-12-12T11:53:16.111Z"
   },
   {
    "duration": 1617,
    "start_time": "2022-12-12T11:56:09.731Z"
   },
   {
    "duration": 3,
    "start_time": "2022-12-12T11:56:11.352Z"
   },
   {
    "duration": 175,
    "start_time": "2022-12-12T11:56:11.357Z"
   },
   {
    "duration": 144,
    "start_time": "2022-12-12T11:56:11.539Z"
   },
   {
    "duration": 148,
    "start_time": "2022-12-12T11:56:11.686Z"
   },
   {
    "duration": 47,
    "start_time": "2022-12-12T11:56:11.837Z"
   },
   {
    "duration": 87,
    "start_time": "2022-12-12T11:56:11.885Z"
   },
   {
    "duration": 309,
    "start_time": "2022-12-12T11:56:11.974Z"
   },
   {
    "duration": 280,
    "start_time": "2022-12-12T11:56:12.285Z"
   },
   {
    "duration": 363,
    "start_time": "2022-12-12T11:56:12.568Z"
   },
   {
    "duration": 278,
    "start_time": "2022-12-12T11:56:12.938Z"
   },
   {
    "duration": 285,
    "start_time": "2022-12-12T11:56:13.218Z"
   },
   {
    "duration": 310,
    "start_time": "2022-12-12T11:56:13.504Z"
   },
   {
    "duration": 33,
    "start_time": "2022-12-12T11:56:13.817Z"
   },
   {
    "duration": 40,
    "start_time": "2022-12-12T11:56:13.852Z"
   },
   {
    "duration": 84,
    "start_time": "2022-12-12T11:56:13.894Z"
   },
   {
    "duration": 9,
    "start_time": "2022-12-12T11:56:13.979Z"
   },
   {
    "duration": 7,
    "start_time": "2022-12-12T11:56:13.990Z"
   },
   {
    "duration": 9,
    "start_time": "2022-12-12T11:56:13.999Z"
   },
   {
    "duration": 236,
    "start_time": "2022-12-12T11:56:14.010Z"
   },
   {
    "duration": 6,
    "start_time": "2022-12-12T11:56:14.338Z"
   },
   {
    "duration": 9,
    "start_time": "2022-12-12T11:56:14.346Z"
   },
   {
    "duration": 23,
    "start_time": "2022-12-12T11:56:14.357Z"
   },
   {
    "duration": 6,
    "start_time": "2022-12-12T11:56:14.382Z"
   },
   {
    "duration": 1327,
    "start_time": "2022-12-12T11:56:14.391Z"
   },
   {
    "duration": 1242,
    "start_time": "2022-12-12T11:56:15.720Z"
   },
   {
    "duration": 1216,
    "start_time": "2022-12-12T11:56:16.964Z"
   },
   {
    "duration": 288,
    "start_time": "2022-12-12T11:56:49.638Z"
   },
   {
    "duration": 177,
    "start_time": "2022-12-12T11:56:56.623Z"
   },
   {
    "duration": 147,
    "start_time": "2022-12-12T11:57:05.300Z"
   },
   {
    "duration": 160,
    "start_time": "2022-12-12T11:57:14.941Z"
   },
   {
    "duration": 1518,
    "start_time": "2022-12-12T11:58:27.047Z"
   },
   {
    "duration": 3,
    "start_time": "2022-12-12T11:58:28.567Z"
   },
   {
    "duration": 172,
    "start_time": "2022-12-12T11:58:28.572Z"
   },
   {
    "duration": 194,
    "start_time": "2022-12-12T11:58:28.746Z"
   },
   {
    "duration": 199,
    "start_time": "2022-12-12T11:58:28.943Z"
   },
   {
    "duration": 50,
    "start_time": "2022-12-12T11:58:29.144Z"
   },
   {
    "duration": 101,
    "start_time": "2022-12-12T11:58:29.196Z"
   },
   {
    "duration": 195,
    "start_time": "2022-12-12T11:58:29.299Z"
   },
   {
    "duration": 174,
    "start_time": "2022-12-12T11:58:29.496Z"
   },
   {
    "duration": 175,
    "start_time": "2022-12-12T11:58:29.673Z"
   },
   {
    "duration": 293,
    "start_time": "2022-12-12T11:58:29.851Z"
   },
   {
    "duration": 363,
    "start_time": "2022-12-12T11:58:30.146Z"
   },
   {
    "duration": 299,
    "start_time": "2022-12-12T11:58:30.511Z"
   },
   {
    "duration": 32,
    "start_time": "2022-12-12T11:58:30.814Z"
   },
   {
    "duration": 56,
    "start_time": "2022-12-12T11:58:30.848Z"
   },
   {
    "duration": 87,
    "start_time": "2022-12-12T11:58:30.906Z"
   },
   {
    "duration": 10,
    "start_time": "2022-12-12T11:58:30.995Z"
   },
   {
    "duration": 17,
    "start_time": "2022-12-12T11:58:31.007Z"
   },
   {
    "duration": 16,
    "start_time": "2022-12-12T11:58:31.026Z"
   },
   {
    "duration": 201,
    "start_time": "2022-12-12T11:58:31.044Z"
   },
   {
    "duration": 94,
    "start_time": "2022-12-12T11:58:31.247Z"
   },
   {
    "duration": 24,
    "start_time": "2022-12-12T11:58:31.343Z"
   },
   {
    "duration": 86,
    "start_time": "2022-12-12T11:58:31.370Z"
   },
   {
    "duration": 7,
    "start_time": "2022-12-12T11:58:31.458Z"
   },
   {
    "duration": 1300,
    "start_time": "2022-12-12T11:58:31.467Z"
   },
   {
    "duration": 1245,
    "start_time": "2022-12-12T11:58:32.769Z"
   },
   {
    "duration": 1259,
    "start_time": "2022-12-12T11:58:34.015Z"
   },
   {
    "duration": 1958,
    "start_time": "2022-12-12T12:24:36.328Z"
   },
   {
    "duration": 2,
    "start_time": "2022-12-12T12:24:38.289Z"
   },
   {
    "duration": 598,
    "start_time": "2022-12-12T12:24:38.292Z"
   },
   {
    "duration": 544,
    "start_time": "2022-12-12T12:24:38.892Z"
   },
   {
    "duration": 554,
    "start_time": "2022-12-12T12:24:39.438Z"
   },
   {
    "duration": 42,
    "start_time": "2022-12-12T12:24:39.994Z"
   },
   {
    "duration": 77,
    "start_time": "2022-12-12T12:24:40.038Z"
   },
   {
    "duration": 148,
    "start_time": "2022-12-12T12:24:40.116Z"
   },
   {
    "duration": 150,
    "start_time": "2022-12-12T12:24:40.265Z"
   },
   {
    "duration": 141,
    "start_time": "2022-12-12T12:24:40.418Z"
   },
   {
    "duration": 327,
    "start_time": "2022-12-12T12:24:40.560Z"
   },
   {
    "duration": 335,
    "start_time": "2022-12-12T12:24:40.889Z"
   },
   {
    "duration": 271,
    "start_time": "2022-12-12T12:24:41.225Z"
   },
   {
    "duration": 15,
    "start_time": "2022-12-12T12:24:41.498Z"
   },
   {
    "duration": 35,
    "start_time": "2022-12-12T12:24:41.515Z"
   },
   {
    "duration": 73,
    "start_time": "2022-12-12T12:24:41.552Z"
   },
   {
    "duration": 9,
    "start_time": "2022-12-12T12:24:41.627Z"
   },
   {
    "duration": 3,
    "start_time": "2022-12-12T12:24:41.638Z"
   },
   {
    "duration": 5,
    "start_time": "2022-12-12T12:24:41.643Z"
   },
   {
    "duration": 336,
    "start_time": "2022-12-12T12:24:41.649Z"
   },
   {
    "duration": 93,
    "start_time": "2022-12-12T12:24:41.987Z"
   },
   {
    "duration": 99,
    "start_time": "2022-12-12T12:24:42.083Z"
   },
   {
    "duration": 16,
    "start_time": "2022-12-12T12:24:42.184Z"
   },
   {
    "duration": 5,
    "start_time": "2022-12-12T12:24:42.201Z"
   },
   {
    "duration": 1098,
    "start_time": "2022-12-12T12:24:42.207Z"
   },
   {
    "duration": 1036,
    "start_time": "2022-12-12T12:24:43.306Z"
   },
   {
    "duration": 1035,
    "start_time": "2022-12-12T12:24:44.343Z"
   },
   {
    "duration": 1728,
    "start_time": "2022-12-12T12:25:37.725Z"
   },
   {
    "duration": 2,
    "start_time": "2022-12-12T12:25:39.455Z"
   },
   {
    "duration": 158,
    "start_time": "2022-12-12T12:25:39.459Z"
   },
   {
    "duration": 129,
    "start_time": "2022-12-12T12:25:39.618Z"
   },
   {
    "duration": 135,
    "start_time": "2022-12-12T12:25:39.749Z"
   },
   {
    "duration": 39,
    "start_time": "2022-12-12T12:25:39.885Z"
   },
   {
    "duration": 76,
    "start_time": "2022-12-12T12:25:39.926Z"
   },
   {
    "duration": 151,
    "start_time": "2022-12-12T12:25:40.004Z"
   },
   {
    "duration": 147,
    "start_time": "2022-12-12T12:25:40.156Z"
   },
   {
    "duration": 143,
    "start_time": "2022-12-12T12:25:40.305Z"
   },
   {
    "duration": 306,
    "start_time": "2022-12-12T12:25:40.450Z"
   },
   {
    "duration": 353,
    "start_time": "2022-12-12T12:25:40.757Z"
   },
   {
    "duration": 229,
    "start_time": "2022-12-12T12:25:41.111Z"
   },
   {
    "duration": 38,
    "start_time": "2022-12-12T12:25:41.341Z"
   },
   {
    "duration": 33,
    "start_time": "2022-12-12T12:25:41.380Z"
   },
   {
    "duration": 73,
    "start_time": "2022-12-12T12:25:41.415Z"
   },
   {
    "duration": 7,
    "start_time": "2022-12-12T12:25:41.489Z"
   },
   {
    "duration": 5,
    "start_time": "2022-12-12T12:25:41.498Z"
   },
   {
    "duration": 5,
    "start_time": "2022-12-12T12:25:41.505Z"
   },
   {
    "duration": 176,
    "start_time": "2022-12-12T12:25:41.511Z"
   },
   {
    "duration": 92,
    "start_time": "2022-12-12T12:25:41.689Z"
   },
   {
    "duration": 104,
    "start_time": "2022-12-12T12:25:41.783Z"
   },
   {
    "duration": 17,
    "start_time": "2022-12-12T12:25:41.889Z"
   },
   {
    "duration": 4,
    "start_time": "2022-12-12T12:25:41.908Z"
   },
   {
    "duration": 1055,
    "start_time": "2022-12-12T12:25:41.914Z"
   },
   {
    "duration": 1051,
    "start_time": "2022-12-12T12:25:42.971Z"
   },
   {
    "duration": 1010,
    "start_time": "2022-12-12T12:25:44.024Z"
   },
   {
    "duration": 362,
    "start_time": "2022-12-12T12:33:02.520Z"
   },
   {
    "duration": 1776,
    "start_time": "2022-12-12T12:33:22.313Z"
   },
   {
    "duration": 3,
    "start_time": "2022-12-12T12:33:24.091Z"
   },
   {
    "duration": 195,
    "start_time": "2022-12-12T12:33:24.096Z"
   },
   {
    "duration": 135,
    "start_time": "2022-12-12T12:33:24.294Z"
   },
   {
    "duration": 127,
    "start_time": "2022-12-12T12:33:24.431Z"
   },
   {
    "duration": 42,
    "start_time": "2022-12-12T12:33:24.560Z"
   },
   {
    "duration": 82,
    "start_time": "2022-12-12T12:33:24.604Z"
   },
   {
    "duration": 157,
    "start_time": "2022-12-12T12:33:24.688Z"
   },
   {
    "duration": 156,
    "start_time": "2022-12-12T12:33:24.847Z"
   },
   {
    "duration": 153,
    "start_time": "2022-12-12T12:33:25.006Z"
   },
   {
    "duration": 299,
    "start_time": "2022-12-12T12:33:25.161Z"
   },
   {
    "duration": 273,
    "start_time": "2022-12-12T12:33:25.462Z"
   },
   {
    "duration": 355,
    "start_time": "2022-12-12T12:33:25.737Z"
   },
   {
    "duration": 17,
    "start_time": "2022-12-12T12:33:26.093Z"
   },
   {
    "duration": 47,
    "start_time": "2022-12-12T12:33:26.111Z"
   },
   {
    "duration": 59,
    "start_time": "2022-12-12T12:33:26.160Z"
   },
   {
    "duration": 7,
    "start_time": "2022-12-12T12:33:26.221Z"
   },
   {
    "duration": 21,
    "start_time": "2022-12-12T12:33:26.230Z"
   },
   {
    "duration": 25,
    "start_time": "2022-12-12T12:33:26.252Z"
   },
   {
    "duration": 110,
    "start_time": "2022-12-12T12:33:26.278Z"
   },
   {
    "duration": 101,
    "start_time": "2022-12-12T12:33:26.479Z"
   },
   {
    "duration": 27,
    "start_time": "2022-12-12T12:33:26.581Z"
   },
   {
    "duration": 22,
    "start_time": "2022-12-12T12:33:26.610Z"
   },
   {
    "duration": 6,
    "start_time": "2022-12-12T12:33:26.634Z"
   },
   {
    "duration": 1096,
    "start_time": "2022-12-12T12:33:26.641Z"
   },
   {
    "duration": 1078,
    "start_time": "2022-12-12T12:33:27.739Z"
   },
   {
    "duration": 1063,
    "start_time": "2022-12-12T12:33:28.819Z"
   },
   {
    "duration": 5,
    "start_time": "2022-12-12T12:36:31.149Z"
   },
   {
    "duration": 8,
    "start_time": "2022-12-12T19:55:15.758Z"
   },
   {
    "duration": 1603,
    "start_time": "2022-12-12T19:55:20.377Z"
   },
   {
    "duration": 3,
    "start_time": "2022-12-12T19:55:21.982Z"
   },
   {
    "duration": 261,
    "start_time": "2022-12-12T19:55:21.987Z"
   },
   {
    "duration": 218,
    "start_time": "2022-12-12T19:55:22.250Z"
   },
   {
    "duration": 235,
    "start_time": "2022-12-12T19:55:22.471Z"
   },
   {
    "duration": 48,
    "start_time": "2022-12-12T19:55:22.709Z"
   },
   {
    "duration": 81,
    "start_time": "2022-12-12T19:55:22.759Z"
   },
   {
    "duration": 187,
    "start_time": "2022-12-12T19:55:22.843Z"
   },
   {
    "duration": 180,
    "start_time": "2022-12-12T19:55:23.033Z"
   },
   {
    "duration": 168,
    "start_time": "2022-12-12T19:55:23.215Z"
   },
   {
    "duration": 315,
    "start_time": "2022-12-12T19:55:23.385Z"
   },
   {
    "duration": 355,
    "start_time": "2022-12-12T19:55:23.702Z"
   },
   {
    "duration": 289,
    "start_time": "2022-12-12T19:55:24.058Z"
   },
   {
    "duration": 17,
    "start_time": "2022-12-12T19:55:24.350Z"
   },
   {
    "duration": 36,
    "start_time": "2022-12-12T19:55:24.378Z"
   },
   {
    "duration": 78,
    "start_time": "2022-12-12T19:55:24.416Z"
   },
   {
    "duration": 8,
    "start_time": "2022-12-12T19:55:24.496Z"
   },
   {
    "duration": 4,
    "start_time": "2022-12-12T19:55:24.505Z"
   },
   {
    "duration": 5,
    "start_time": "2022-12-12T19:55:24.510Z"
   },
   {
    "duration": 175,
    "start_time": "2022-12-12T19:55:24.516Z"
   },
   {
    "duration": 6,
    "start_time": "2022-12-12T19:55:24.779Z"
   },
   {
    "duration": 97,
    "start_time": "2022-12-12T19:55:24.788Z"
   },
   {
    "duration": 6,
    "start_time": "2022-12-12T19:55:24.887Z"
   },
   {
    "duration": 16,
    "start_time": "2022-12-12T19:55:24.894Z"
   },
   {
    "duration": 5,
    "start_time": "2022-12-12T19:55:24.912Z"
   },
   {
    "duration": 1285,
    "start_time": "2022-12-12T19:55:24.919Z"
   },
   {
    "duration": 1173,
    "start_time": "2022-12-12T19:55:26.205Z"
   },
   {
    "duration": 1259,
    "start_time": "2022-12-12T19:55:27.380Z"
   },
   {
    "duration": 125,
    "start_time": "2022-12-12T19:56:59.487Z"
   },
   {
    "duration": 13,
    "start_time": "2022-12-12T19:57:14.469Z"
   },
   {
    "duration": 342,
    "start_time": "2022-12-12T19:57:20.335Z"
   },
   {
    "duration": 354,
    "start_time": "2022-12-12T19:57:55.860Z"
   },
   {
    "duration": 385,
    "start_time": "2022-12-12T19:58:08.209Z"
   },
   {
    "duration": 330,
    "start_time": "2022-12-12T19:58:14.528Z"
   },
   {
    "duration": 1448,
    "start_time": "2022-12-12T20:01:56.268Z"
   },
   {
    "duration": 3,
    "start_time": "2022-12-12T20:01:57.718Z"
   },
   {
    "duration": 178,
    "start_time": "2022-12-12T20:01:57.722Z"
   },
   {
    "duration": 145,
    "start_time": "2022-12-12T20:01:57.902Z"
   },
   {
    "duration": 152,
    "start_time": "2022-12-12T20:01:58.049Z"
   },
   {
    "duration": 83,
    "start_time": "2022-12-12T20:01:58.203Z"
   },
   {
    "duration": 105,
    "start_time": "2022-12-12T20:01:58.288Z"
   },
   {
    "duration": 223,
    "start_time": "2022-12-12T20:01:58.395Z"
   },
   {
    "duration": 194,
    "start_time": "2022-12-12T20:01:58.621Z"
   },
   {
    "duration": 203,
    "start_time": "2022-12-12T20:01:58.817Z"
   },
   {
    "duration": 392,
    "start_time": "2022-12-12T20:01:59.023Z"
   },
   {
    "duration": 419,
    "start_time": "2022-12-12T20:01:59.417Z"
   },
   {
    "duration": 370,
    "start_time": "2022-12-12T20:01:59.838Z"
   },
   {
    "duration": 18,
    "start_time": "2022-12-12T20:02:00.211Z"
   },
   {
    "duration": 61,
    "start_time": "2022-12-12T20:02:00.231Z"
   },
   {
    "duration": 65,
    "start_time": "2022-12-12T20:02:00.293Z"
   },
   {
    "duration": 18,
    "start_time": "2022-12-12T20:02:00.360Z"
   },
   {
    "duration": 22,
    "start_time": "2022-12-12T20:02:00.380Z"
   },
   {
    "duration": 6,
    "start_time": "2022-12-12T20:02:00.404Z"
   },
   {
    "duration": 186,
    "start_time": "2022-12-12T20:02:00.411Z"
   },
   {
    "duration": 22,
    "start_time": "2022-12-12T20:02:00.677Z"
   },
   {
    "duration": 106,
    "start_time": "2022-12-12T20:02:00.701Z"
   },
   {
    "duration": 19,
    "start_time": "2022-12-12T20:02:00.809Z"
   },
   {
    "duration": 48,
    "start_time": "2022-12-12T20:02:00.829Z"
   },
   {
    "duration": 19,
    "start_time": "2022-12-12T20:02:00.879Z"
   },
   {
    "duration": 1380,
    "start_time": "2022-12-12T20:02:00.900Z"
   },
   {
    "duration": 1293,
    "start_time": "2022-12-12T20:02:02.284Z"
   },
   {
    "duration": 1319,
    "start_time": "2022-12-12T20:02:03.580Z"
   },
   {
    "duration": 7,
    "start_time": "2022-12-12T20:06:17.210Z"
   },
   {
    "duration": 60,
    "start_time": "2022-12-12T20:14:07.834Z"
   }
  ],
  "kernelspec": {
   "display_name": "Python 3 (ipykernel)",
   "language": "python",
   "name": "python3"
  },
  "language_info": {
   "codemirror_mode": {
    "name": "ipython",
    "version": 3
   },
   "file_extension": ".py",
   "mimetype": "text/x-python",
   "name": "python",
   "nbconvert_exporter": "python",
   "pygments_lexer": "ipython3",
   "version": "3.9.13"
  },
  "toc": {
   "base_numbering": 1,
   "nav_menu": {},
   "number_sections": true,
   "sideBar": true,
   "skip_h1_title": true,
   "title_cell": "Table of Contents",
   "title_sidebar": "Contents",
   "toc_cell": false,
   "toc_position": {
    "height": "calc(100% - 180px)",
    "left": "10px",
    "top": "150px",
    "width": "165px"
   },
   "toc_section_display": true,
   "toc_window_display": true
  }
 },
 "nbformat": 4,
 "nbformat_minor": 2
}
