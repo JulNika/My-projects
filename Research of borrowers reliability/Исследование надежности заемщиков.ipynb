{
 "cells": [
  {
   "cell_type": "markdown",
   "id": "c991f5c8",
   "metadata": {
    "deletable": false,
    "editable": false,
    "id": "c81daeeb"
   },
   "source": [
    "# Исследование надежности заемщиков\n"
   ]
  },
  {
   "cell_type": "markdown",
   "id": "fd173b42",
   "metadata": {
    "deletable": false,
    "editable": false,
    "id": "827c20bf"
   },
   "source": [
    "Во второй части проекта вы выполните шаги 3 и 4. Их вручную проверит ревьюер.\n",
    "Чтобы вам не пришлось писать код заново для шагов 1 и 2, мы добавили авторские решения в ячейки с кодом. \n",
    "\n"
   ]
  },
  {
   "cell_type": "markdown",
   "id": "733d3e26",
   "metadata": {
    "deletable": false,
    "editable": false,
    "id": "744d7639"
   },
   "source": [
    "## Откройте таблицу и изучите общую информацию о данных"
   ]
  },
  {
   "cell_type": "markdown",
   "id": "aeaaa029",
   "metadata": {
    "deletable": false,
    "editable": false,
    "id": "e7a14c31"
   },
   "source": [
    "**Задание 1. Импортируйте библиотеку pandas. Считайте данные из csv-файла в датафрейм и сохраните в переменную `data`. Путь к файлу:**\n",
    "\n",
    "`/datasets/data.csv`"
   ]
  },
  {
   "cell_type": "code",
   "execution_count": 31,
   "id": "f5a445c1",
   "metadata": {
    "deletable": false,
    "id": "7bcf75c9"
   },
   "outputs": [],
   "source": [
    "import pandas as pd\n",
    "\n",
    "try:\n",
    "    data = pd.read_csv('/datasets/data.csv')\n",
    "except:\n",
    "    data = pd.read_csv('https://code.s3.yandex.net/datasets/data.csv')"
   ]
  },
  {
   "cell_type": "markdown",
   "id": "73d3bfc3",
   "metadata": {
    "deletable": false,
    "editable": false,
    "id": "b8038fe3"
   },
   "source": [
    "**Задание 2. Выведите первые 20 строчек датафрейма `data` на экран.**"
   ]
  },
  {
   "cell_type": "code",
   "execution_count": 32,
   "id": "26b9a051",
   "metadata": {
    "deletable": false,
    "id": "2a7cab99",
    "outputId": "1a8f3ef2-d323-4ec2-ddf7-89670b5944c4"
   },
   "outputs": [
    {
     "data": {
      "text/html": [
       "<div>\n",
       "<style scoped>\n",
       "    .dataframe tbody tr th:only-of-type {\n",
       "        vertical-align: middle;\n",
       "    }\n",
       "\n",
       "    .dataframe tbody tr th {\n",
       "        vertical-align: top;\n",
       "    }\n",
       "\n",
       "    .dataframe thead th {\n",
       "        text-align: right;\n",
       "    }\n",
       "</style>\n",
       "<table border=\"1\" class=\"dataframe\">\n",
       "  <thead>\n",
       "    <tr style=\"text-align: right;\">\n",
       "      <th></th>\n",
       "      <th>children</th>\n",
       "      <th>days_employed</th>\n",
       "      <th>dob_years</th>\n",
       "      <th>education</th>\n",
       "      <th>education_id</th>\n",
       "      <th>family_status</th>\n",
       "      <th>family_status_id</th>\n",
       "      <th>gender</th>\n",
       "      <th>income_type</th>\n",
       "      <th>debt</th>\n",
       "      <th>total_income</th>\n",
       "      <th>purpose</th>\n",
       "    </tr>\n",
       "  </thead>\n",
       "  <tbody>\n",
       "    <tr>\n",
       "      <th>0</th>\n",
       "      <td>1</td>\n",
       "      <td>-8437.673028</td>\n",
       "      <td>42</td>\n",
       "      <td>высшее</td>\n",
       "      <td>0</td>\n",
       "      <td>женат / замужем</td>\n",
       "      <td>0</td>\n",
       "      <td>F</td>\n",
       "      <td>сотрудник</td>\n",
       "      <td>0</td>\n",
       "      <td>253875.639453</td>\n",
       "      <td>покупка жилья</td>\n",
       "    </tr>\n",
       "    <tr>\n",
       "      <th>1</th>\n",
       "      <td>1</td>\n",
       "      <td>-4024.803754</td>\n",
       "      <td>36</td>\n",
       "      <td>среднее</td>\n",
       "      <td>1</td>\n",
       "      <td>женат / замужем</td>\n",
       "      <td>0</td>\n",
       "      <td>F</td>\n",
       "      <td>сотрудник</td>\n",
       "      <td>0</td>\n",
       "      <td>112080.014102</td>\n",
       "      <td>приобретение автомобиля</td>\n",
       "    </tr>\n",
       "    <tr>\n",
       "      <th>2</th>\n",
       "      <td>0</td>\n",
       "      <td>-5623.422610</td>\n",
       "      <td>33</td>\n",
       "      <td>Среднее</td>\n",
       "      <td>1</td>\n",
       "      <td>женат / замужем</td>\n",
       "      <td>0</td>\n",
       "      <td>M</td>\n",
       "      <td>сотрудник</td>\n",
       "      <td>0</td>\n",
       "      <td>145885.952297</td>\n",
       "      <td>покупка жилья</td>\n",
       "    </tr>\n",
       "    <tr>\n",
       "      <th>3</th>\n",
       "      <td>3</td>\n",
       "      <td>-4124.747207</td>\n",
       "      <td>32</td>\n",
       "      <td>среднее</td>\n",
       "      <td>1</td>\n",
       "      <td>женат / замужем</td>\n",
       "      <td>0</td>\n",
       "      <td>M</td>\n",
       "      <td>сотрудник</td>\n",
       "      <td>0</td>\n",
       "      <td>267628.550329</td>\n",
       "      <td>дополнительное образование</td>\n",
       "    </tr>\n",
       "    <tr>\n",
       "      <th>4</th>\n",
       "      <td>0</td>\n",
       "      <td>340266.072047</td>\n",
       "      <td>53</td>\n",
       "      <td>среднее</td>\n",
       "      <td>1</td>\n",
       "      <td>гражданский брак</td>\n",
       "      <td>1</td>\n",
       "      <td>F</td>\n",
       "      <td>пенсионер</td>\n",
       "      <td>0</td>\n",
       "      <td>158616.077870</td>\n",
       "      <td>сыграть свадьбу</td>\n",
       "    </tr>\n",
       "    <tr>\n",
       "      <th>5</th>\n",
       "      <td>0</td>\n",
       "      <td>-926.185831</td>\n",
       "      <td>27</td>\n",
       "      <td>высшее</td>\n",
       "      <td>0</td>\n",
       "      <td>гражданский брак</td>\n",
       "      <td>1</td>\n",
       "      <td>M</td>\n",
       "      <td>компаньон</td>\n",
       "      <td>0</td>\n",
       "      <td>255763.565419</td>\n",
       "      <td>покупка жилья</td>\n",
       "    </tr>\n",
       "    <tr>\n",
       "      <th>6</th>\n",
       "      <td>0</td>\n",
       "      <td>-2879.202052</td>\n",
       "      <td>43</td>\n",
       "      <td>высшее</td>\n",
       "      <td>0</td>\n",
       "      <td>женат / замужем</td>\n",
       "      <td>0</td>\n",
       "      <td>F</td>\n",
       "      <td>компаньон</td>\n",
       "      <td>0</td>\n",
       "      <td>240525.971920</td>\n",
       "      <td>операции с жильем</td>\n",
       "    </tr>\n",
       "    <tr>\n",
       "      <th>7</th>\n",
       "      <td>0</td>\n",
       "      <td>-152.779569</td>\n",
       "      <td>50</td>\n",
       "      <td>СРЕДНЕЕ</td>\n",
       "      <td>1</td>\n",
       "      <td>женат / замужем</td>\n",
       "      <td>0</td>\n",
       "      <td>M</td>\n",
       "      <td>сотрудник</td>\n",
       "      <td>0</td>\n",
       "      <td>135823.934197</td>\n",
       "      <td>образование</td>\n",
       "    </tr>\n",
       "    <tr>\n",
       "      <th>8</th>\n",
       "      <td>2</td>\n",
       "      <td>-6929.865299</td>\n",
       "      <td>35</td>\n",
       "      <td>ВЫСШЕЕ</td>\n",
       "      <td>0</td>\n",
       "      <td>гражданский брак</td>\n",
       "      <td>1</td>\n",
       "      <td>F</td>\n",
       "      <td>сотрудник</td>\n",
       "      <td>0</td>\n",
       "      <td>95856.832424</td>\n",
       "      <td>на проведение свадьбы</td>\n",
       "    </tr>\n",
       "    <tr>\n",
       "      <th>9</th>\n",
       "      <td>0</td>\n",
       "      <td>-2188.756445</td>\n",
       "      <td>41</td>\n",
       "      <td>среднее</td>\n",
       "      <td>1</td>\n",
       "      <td>женат / замужем</td>\n",
       "      <td>0</td>\n",
       "      <td>M</td>\n",
       "      <td>сотрудник</td>\n",
       "      <td>0</td>\n",
       "      <td>144425.938277</td>\n",
       "      <td>покупка жилья для семьи</td>\n",
       "    </tr>\n",
       "    <tr>\n",
       "      <th>10</th>\n",
       "      <td>2</td>\n",
       "      <td>-4171.483647</td>\n",
       "      <td>36</td>\n",
       "      <td>высшее</td>\n",
       "      <td>0</td>\n",
       "      <td>женат / замужем</td>\n",
       "      <td>0</td>\n",
       "      <td>M</td>\n",
       "      <td>компаньон</td>\n",
       "      <td>0</td>\n",
       "      <td>113943.491460</td>\n",
       "      <td>покупка недвижимости</td>\n",
       "    </tr>\n",
       "    <tr>\n",
       "      <th>11</th>\n",
       "      <td>0</td>\n",
       "      <td>-792.701887</td>\n",
       "      <td>40</td>\n",
       "      <td>среднее</td>\n",
       "      <td>1</td>\n",
       "      <td>женат / замужем</td>\n",
       "      <td>0</td>\n",
       "      <td>F</td>\n",
       "      <td>сотрудник</td>\n",
       "      <td>0</td>\n",
       "      <td>77069.234271</td>\n",
       "      <td>покупка коммерческой недвижимости</td>\n",
       "    </tr>\n",
       "    <tr>\n",
       "      <th>12</th>\n",
       "      <td>0</td>\n",
       "      <td>NaN</td>\n",
       "      <td>65</td>\n",
       "      <td>среднее</td>\n",
       "      <td>1</td>\n",
       "      <td>гражданский брак</td>\n",
       "      <td>1</td>\n",
       "      <td>M</td>\n",
       "      <td>пенсионер</td>\n",
       "      <td>0</td>\n",
       "      <td>NaN</td>\n",
       "      <td>сыграть свадьбу</td>\n",
       "    </tr>\n",
       "    <tr>\n",
       "      <th>13</th>\n",
       "      <td>0</td>\n",
       "      <td>-1846.641941</td>\n",
       "      <td>54</td>\n",
       "      <td>неоконченное высшее</td>\n",
       "      <td>2</td>\n",
       "      <td>женат / замужем</td>\n",
       "      <td>0</td>\n",
       "      <td>F</td>\n",
       "      <td>сотрудник</td>\n",
       "      <td>0</td>\n",
       "      <td>130458.228857</td>\n",
       "      <td>приобретение автомобиля</td>\n",
       "    </tr>\n",
       "    <tr>\n",
       "      <th>14</th>\n",
       "      <td>0</td>\n",
       "      <td>-1844.956182</td>\n",
       "      <td>56</td>\n",
       "      <td>высшее</td>\n",
       "      <td>0</td>\n",
       "      <td>гражданский брак</td>\n",
       "      <td>1</td>\n",
       "      <td>F</td>\n",
       "      <td>компаньон</td>\n",
       "      <td>1</td>\n",
       "      <td>165127.911772</td>\n",
       "      <td>покупка жилой недвижимости</td>\n",
       "    </tr>\n",
       "    <tr>\n",
       "      <th>15</th>\n",
       "      <td>1</td>\n",
       "      <td>-972.364419</td>\n",
       "      <td>26</td>\n",
       "      <td>среднее</td>\n",
       "      <td>1</td>\n",
       "      <td>женат / замужем</td>\n",
       "      <td>0</td>\n",
       "      <td>F</td>\n",
       "      <td>сотрудник</td>\n",
       "      <td>0</td>\n",
       "      <td>116820.904450</td>\n",
       "      <td>строительство собственной недвижимости</td>\n",
       "    </tr>\n",
       "    <tr>\n",
       "      <th>16</th>\n",
       "      <td>0</td>\n",
       "      <td>-1719.934226</td>\n",
       "      <td>35</td>\n",
       "      <td>среднее</td>\n",
       "      <td>1</td>\n",
       "      <td>женат / замужем</td>\n",
       "      <td>0</td>\n",
       "      <td>F</td>\n",
       "      <td>сотрудник</td>\n",
       "      <td>0</td>\n",
       "      <td>289202.704229</td>\n",
       "      <td>недвижимость</td>\n",
       "    </tr>\n",
       "    <tr>\n",
       "      <th>17</th>\n",
       "      <td>0</td>\n",
       "      <td>-2369.999720</td>\n",
       "      <td>33</td>\n",
       "      <td>высшее</td>\n",
       "      <td>0</td>\n",
       "      <td>гражданский брак</td>\n",
       "      <td>1</td>\n",
       "      <td>M</td>\n",
       "      <td>сотрудник</td>\n",
       "      <td>0</td>\n",
       "      <td>90410.586745</td>\n",
       "      <td>строительство недвижимости</td>\n",
       "    </tr>\n",
       "    <tr>\n",
       "      <th>18</th>\n",
       "      <td>0</td>\n",
       "      <td>400281.136913</td>\n",
       "      <td>53</td>\n",
       "      <td>среднее</td>\n",
       "      <td>1</td>\n",
       "      <td>вдовец / вдова</td>\n",
       "      <td>2</td>\n",
       "      <td>F</td>\n",
       "      <td>пенсионер</td>\n",
       "      <td>0</td>\n",
       "      <td>56823.777243</td>\n",
       "      <td>на покупку подержанного автомобиля</td>\n",
       "    </tr>\n",
       "    <tr>\n",
       "      <th>19</th>\n",
       "      <td>0</td>\n",
       "      <td>-10038.818549</td>\n",
       "      <td>48</td>\n",
       "      <td>СРЕДНЕЕ</td>\n",
       "      <td>1</td>\n",
       "      <td>в разводе</td>\n",
       "      <td>3</td>\n",
       "      <td>F</td>\n",
       "      <td>сотрудник</td>\n",
       "      <td>0</td>\n",
       "      <td>242831.107982</td>\n",
       "      <td>на покупку своего автомобиля</td>\n",
       "    </tr>\n",
       "  </tbody>\n",
       "</table>\n",
       "</div>"
      ],
      "text/plain": [
       "    children  days_employed  dob_years            education  education_id  \\\n",
       "0          1   -8437.673028         42               высшее             0   \n",
       "1          1   -4024.803754         36              среднее             1   \n",
       "2          0   -5623.422610         33              Среднее             1   \n",
       "3          3   -4124.747207         32              среднее             1   \n",
       "4          0  340266.072047         53              среднее             1   \n",
       "5          0    -926.185831         27               высшее             0   \n",
       "6          0   -2879.202052         43               высшее             0   \n",
       "7          0    -152.779569         50              СРЕДНЕЕ             1   \n",
       "8          2   -6929.865299         35               ВЫСШЕЕ             0   \n",
       "9          0   -2188.756445         41              среднее             1   \n",
       "10         2   -4171.483647         36               высшее             0   \n",
       "11         0    -792.701887         40              среднее             1   \n",
       "12         0            NaN         65              среднее             1   \n",
       "13         0   -1846.641941         54  неоконченное высшее             2   \n",
       "14         0   -1844.956182         56               высшее             0   \n",
       "15         1    -972.364419         26              среднее             1   \n",
       "16         0   -1719.934226         35              среднее             1   \n",
       "17         0   -2369.999720         33               высшее             0   \n",
       "18         0  400281.136913         53              среднее             1   \n",
       "19         0  -10038.818549         48              СРЕДНЕЕ             1   \n",
       "\n",
       "       family_status  family_status_id gender income_type  debt  \\\n",
       "0    женат / замужем                 0      F   сотрудник     0   \n",
       "1    женат / замужем                 0      F   сотрудник     0   \n",
       "2    женат / замужем                 0      M   сотрудник     0   \n",
       "3    женат / замужем                 0      M   сотрудник     0   \n",
       "4   гражданский брак                 1      F   пенсионер     0   \n",
       "5   гражданский брак                 1      M   компаньон     0   \n",
       "6    женат / замужем                 0      F   компаньон     0   \n",
       "7    женат / замужем                 0      M   сотрудник     0   \n",
       "8   гражданский брак                 1      F   сотрудник     0   \n",
       "9    женат / замужем                 0      M   сотрудник     0   \n",
       "10   женат / замужем                 0      M   компаньон     0   \n",
       "11   женат / замужем                 0      F   сотрудник     0   \n",
       "12  гражданский брак                 1      M   пенсионер     0   \n",
       "13   женат / замужем                 0      F   сотрудник     0   \n",
       "14  гражданский брак                 1      F   компаньон     1   \n",
       "15   женат / замужем                 0      F   сотрудник     0   \n",
       "16   женат / замужем                 0      F   сотрудник     0   \n",
       "17  гражданский брак                 1      M   сотрудник     0   \n",
       "18    вдовец / вдова                 2      F   пенсионер     0   \n",
       "19         в разводе                 3      F   сотрудник     0   \n",
       "\n",
       "     total_income                                 purpose  \n",
       "0   253875.639453                           покупка жилья  \n",
       "1   112080.014102                 приобретение автомобиля  \n",
       "2   145885.952297                           покупка жилья  \n",
       "3   267628.550329              дополнительное образование  \n",
       "4   158616.077870                         сыграть свадьбу  \n",
       "5   255763.565419                           покупка жилья  \n",
       "6   240525.971920                       операции с жильем  \n",
       "7   135823.934197                             образование  \n",
       "8    95856.832424                   на проведение свадьбы  \n",
       "9   144425.938277                 покупка жилья для семьи  \n",
       "10  113943.491460                    покупка недвижимости  \n",
       "11   77069.234271       покупка коммерческой недвижимости  \n",
       "12            NaN                         сыграть свадьбу  \n",
       "13  130458.228857                 приобретение автомобиля  \n",
       "14  165127.911772              покупка жилой недвижимости  \n",
       "15  116820.904450  строительство собственной недвижимости  \n",
       "16  289202.704229                            недвижимость  \n",
       "17   90410.586745              строительство недвижимости  \n",
       "18   56823.777243      на покупку подержанного автомобиля  \n",
       "19  242831.107982            на покупку своего автомобиля  "
      ]
     },
     "execution_count": 32,
     "metadata": {},
     "output_type": "execute_result"
    }
   ],
   "source": [
    "data.head(20)"
   ]
  },
  {
   "cell_type": "markdown",
   "id": "347cea98",
   "metadata": {
    "deletable": false,
    "editable": false,
    "id": "1c12e233"
   },
   "source": [
    "**Задание 3. Выведите основную информацию о датафрейме с помощью метода `info()`.**"
   ]
  },
  {
   "cell_type": "code",
   "execution_count": 33,
   "id": "20e9e72b",
   "metadata": {
    "deletable": false,
    "id": "2b757bca",
    "outputId": "15376089-8dad-46c9-b520-c05248d43158"
   },
   "outputs": [
    {
     "name": "stdout",
     "output_type": "stream",
     "text": [
      "<class 'pandas.core.frame.DataFrame'>\n",
      "RangeIndex: 21525 entries, 0 to 21524\n",
      "Data columns (total 12 columns):\n",
      " #   Column            Non-Null Count  Dtype  \n",
      "---  ------            --------------  -----  \n",
      " 0   children          21525 non-null  int64  \n",
      " 1   days_employed     19351 non-null  float64\n",
      " 2   dob_years         21525 non-null  int64  \n",
      " 3   education         21525 non-null  object \n",
      " 4   education_id      21525 non-null  int64  \n",
      " 5   family_status     21525 non-null  object \n",
      " 6   family_status_id  21525 non-null  int64  \n",
      " 7   gender            21525 non-null  object \n",
      " 8   income_type       21525 non-null  object \n",
      " 9   debt              21525 non-null  int64  \n",
      " 10  total_income      19351 non-null  float64\n",
      " 11  purpose           21525 non-null  object \n",
      "dtypes: float64(2), int64(5), object(5)\n",
      "memory usage: 2.0+ MB\n"
     ]
    }
   ],
   "source": [
    "data.info()"
   ]
  },
  {
   "cell_type": "markdown",
   "id": "d88f1d96",
   "metadata": {
    "deletable": false,
    "editable": false,
    "id": "333ec665"
   },
   "source": [
    "## Предобработка данных"
   ]
  },
  {
   "cell_type": "markdown",
   "id": "ef8bb065",
   "metadata": {
    "deletable": false,
    "editable": false,
    "id": "02d92d53"
   },
   "source": [
    "### Удаление пропусков"
   ]
  },
  {
   "cell_type": "markdown",
   "id": "ce6ebf26",
   "metadata": {
    "deletable": false,
    "editable": false,
    "id": "cd84967c"
   },
   "source": [
    "**Задание 4. Выведите количество пропущенных значений для каждого столбца. Используйте комбинацию двух методов.**"
   ]
  },
  {
   "cell_type": "code",
   "execution_count": 34,
   "id": "664b144b",
   "metadata": {
    "deletable": false,
    "id": "7f9b2309",
    "outputId": "81f4d817-781c-465c-ed15-91ce4446810d"
   },
   "outputs": [
    {
     "data": {
      "text/plain": [
       "children               0\n",
       "days_employed       2174\n",
       "dob_years              0\n",
       "education              0\n",
       "education_id           0\n",
       "family_status          0\n",
       "family_status_id       0\n",
       "gender                 0\n",
       "income_type            0\n",
       "debt                   0\n",
       "total_income        2174\n",
       "purpose                0\n",
       "dtype: int64"
      ]
     },
     "execution_count": 34,
     "metadata": {},
     "output_type": "execute_result"
    }
   ],
   "source": [
    "data.isna().sum()"
   ]
  },
  {
   "cell_type": "markdown",
   "id": "3babef6d",
   "metadata": {
    "deletable": false,
    "editable": false,
    "id": "db86e27b"
   },
   "source": [
    "**Задание 5. В двух столбцах есть пропущенные значения. Один из них — `days_employed`. Пропуски в этом столбце вы обработаете на следующем этапе. Другой столбец с пропущенными значениями — `total_income` — хранит данные о доходах. На сумму дохода сильнее всего влияет тип занятости, поэтому заполнить пропуски в этом столбце нужно медианным значением по каждому типу из столбца `income_type`. Например, у человека с типом занятости `сотрудник` пропуск в столбце `total_income` должен быть заполнен медианным доходом среди всех записей с тем же типом.**"
   ]
  },
  {
   "cell_type": "code",
   "execution_count": 35,
   "id": "584930ca",
   "metadata": {
    "deletable": false,
    "id": "42006a93"
   },
   "outputs": [],
   "source": [
    "for t in data['income_type'].unique():\n",
    "    data.loc[(data['income_type'] == t) & (data['total_income'].isna()), 'total_income'] = \\\n",
    "    data.loc[(data['income_type'] == t), 'total_income'].median()"
   ]
  },
  {
   "cell_type": "markdown",
   "id": "8bcc8131",
   "metadata": {
    "deletable": false,
    "editable": false,
    "id": "89da5ece"
   },
   "source": [
    "### Обработка аномальных значений"
   ]
  },
  {
   "cell_type": "markdown",
   "id": "874e5bc4",
   "metadata": {
    "deletable": false,
    "editable": false,
    "id": "57964554"
   },
   "source": [
    "**Задание 6. В данных могут встречаться артефакты (аномалии) — значения, которые не отражают действительность и появились по какой-то ошибке. таким артефактом будет отрицательное количество дней трудового стажа в столбце `days_employed`. Для реальных данных это нормально. Обработайте значения в этом столбце: замените все отрицательные значения положительными с помощью метода `abs()`.**"
   ]
  },
  {
   "cell_type": "code",
   "execution_count": 36,
   "id": "79708607",
   "metadata": {
    "deletable": false,
    "id": "f6f055bf"
   },
   "outputs": [],
   "source": [
    "data['days_employed'] = data['days_employed'].abs()"
   ]
  },
  {
   "cell_type": "markdown",
   "id": "a7adffcf",
   "metadata": {
    "deletable": false,
    "editable": false,
    "id": "6107dd2f"
   },
   "source": [
    "**Задание 7. Для каждого типа занятости выведите медианное значение трудового стажа `days_employed` в днях.**"
   ]
  },
  {
   "cell_type": "code",
   "execution_count": 37,
   "id": "a5270094",
   "metadata": {
    "deletable": false,
    "id": "85a5faf6",
    "outputId": "801ef80e-522b-4668-f34e-565af7432bcf"
   },
   "outputs": [
    {
     "data": {
      "text/plain": [
       "income_type\n",
       "безработный        366413.652744\n",
       "в декрете            3296.759962\n",
       "госслужащий          2689.368353\n",
       "компаньон            1547.382223\n",
       "пенсионер          365213.306266\n",
       "предприниматель       520.848083\n",
       "сотрудник            1574.202821\n",
       "студент               578.751554\n",
       "Name: days_employed, dtype: float64"
      ]
     },
     "execution_count": 37,
     "metadata": {},
     "output_type": "execute_result"
    }
   ],
   "source": [
    "data.groupby('income_type')['days_employed'].agg('median')"
   ]
  },
  {
   "cell_type": "markdown",
   "id": "8d6b975c",
   "metadata": {
    "deletable": false,
    "editable": false,
    "id": "38d1a030"
   },
   "source": [
    "У двух типов (безработные и пенсионеры) получатся аномально большие значения. Исправить такие значения сложно, поэтому оставьте их как есть. Тем более этот столбец не понадобится вам для исследования."
   ]
  },
  {
   "cell_type": "markdown",
   "id": "a32f7619",
   "metadata": {
    "deletable": false,
    "editable": false,
    "id": "d8a9f147"
   },
   "source": [
    "**Задание 8. Выведите перечень уникальных значений столбца `children`.**"
   ]
  },
  {
   "cell_type": "code",
   "execution_count": 38,
   "id": "de6ecffb",
   "metadata": {
    "deletable": false,
    "id": "ef5056eb",
    "outputId": "6975b15c-7f95-4697-d16d-a0c79b657b03"
   },
   "outputs": [
    {
     "data": {
      "text/plain": [
       "array([ 1,  0,  3,  2, -1,  4, 20,  5])"
      ]
     },
     "execution_count": 38,
     "metadata": {},
     "output_type": "execute_result"
    }
   ],
   "source": [
    "data['children'].unique()"
   ]
  },
  {
   "cell_type": "markdown",
   "id": "c2018d86",
   "metadata": {
    "deletable": false,
    "editable": false,
    "id": "40b9ebf2"
   },
   "source": [
    "**Задание 9. В столбце `children` есть два аномальных значения. Удалите строки, в которых встречаются такие аномальные значения из датафрейма `data`.**"
   ]
  },
  {
   "cell_type": "code",
   "execution_count": 39,
   "id": "df20488d",
   "metadata": {
    "deletable": false,
    "id": "3ff9801d"
   },
   "outputs": [],
   "source": [
    "data = data[(data['children'] != -1) & (data['children'] != 20)]"
   ]
  },
  {
   "cell_type": "markdown",
   "id": "e78a75f6",
   "metadata": {
    "deletable": false,
    "editable": false,
    "id": "bbc4d0ce"
   },
   "source": [
    "**Задание 10. Ещё раз выведите перечень уникальных значений столбца `children`, чтобы убедиться, что артефакты удалены.**"
   ]
  },
  {
   "cell_type": "code",
   "execution_count": 40,
   "id": "399c4ca7",
   "metadata": {
    "deletable": false,
    "id": "ad4fa8b7",
    "outputId": "b2097101-d49d-44d9-901b-32a65c9463d1"
   },
   "outputs": [
    {
     "data": {
      "text/plain": [
       "array([1, 0, 3, 2, 4, 5])"
      ]
     },
     "execution_count": 40,
     "metadata": {},
     "output_type": "execute_result"
    }
   ],
   "source": [
    "data['children'].unique()"
   ]
  },
  {
   "cell_type": "markdown",
   "id": "cf4d4202",
   "metadata": {
    "deletable": false,
    "editable": false,
    "id": "75440b63"
   },
   "source": [
    "### Удаление пропусков (продолжение)"
   ]
  },
  {
   "cell_type": "markdown",
   "id": "0e3c7be5",
   "metadata": {
    "deletable": false,
    "editable": false,
    "id": "f4ea573f"
   },
   "source": [
    "**Задание 11. Заполните пропуски в столбце `days_employed` медианными значениями по каждого типа занятости `income_type`.**"
   ]
  },
  {
   "cell_type": "code",
   "execution_count": 41,
   "id": "b1251951",
   "metadata": {
    "deletable": false,
    "id": "af6b1a7e"
   },
   "outputs": [],
   "source": [
    "for t in data['income_type'].unique():\n",
    "    data.loc[(data['income_type'] == t) & (data['days_employed'].isna()), 'days_employed'] = \\\n",
    "    data.loc[(data['income_type'] == t), 'days_employed'].median()"
   ]
  },
  {
   "cell_type": "markdown",
   "id": "a8e1722a",
   "metadata": {
    "deletable": false,
    "editable": false,
    "id": "2753f40d"
   },
   "source": [
    "**Задание 12. Убедитесь, что все пропуски заполнены. Проверьте себя и ещё раз выведите количество пропущенных значений для каждого столбца с помощью двух методов.**"
   ]
  },
  {
   "cell_type": "code",
   "execution_count": 42,
   "id": "af52af84",
   "metadata": {
    "deletable": false,
    "id": "55f78bc2",
    "outputId": "8da1e4e1-358e-4e87-98c9-f261bce0a7b2"
   },
   "outputs": [
    {
     "data": {
      "text/plain": [
       "children            0\n",
       "days_employed       0\n",
       "dob_years           0\n",
       "education           0\n",
       "education_id        0\n",
       "family_status       0\n",
       "family_status_id    0\n",
       "gender              0\n",
       "income_type         0\n",
       "debt                0\n",
       "total_income        0\n",
       "purpose             0\n",
       "dtype: int64"
      ]
     },
     "execution_count": 42,
     "metadata": {},
     "output_type": "execute_result"
    }
   ],
   "source": [
    "data.isna().sum()"
   ]
  },
  {
   "cell_type": "markdown",
   "id": "bfc8269c",
   "metadata": {
    "deletable": false,
    "editable": false,
    "id": "ddc81e43"
   },
   "source": [
    "### Изменение типов данных"
   ]
  },
  {
   "cell_type": "markdown",
   "id": "49f11011",
   "metadata": {
    "deletable": false,
    "editable": false,
    "id": "42d19d24"
   },
   "source": [
    "**Задание 13. Замените вещественный тип данных в столбце `total_income` на целочисленный с помощью метода `astype()`.**"
   ]
  },
  {
   "cell_type": "code",
   "execution_count": 43,
   "id": "495826c1",
   "metadata": {
    "deletable": false,
    "id": "920b65ad"
   },
   "outputs": [],
   "source": [
    "data['total_income'] = data['total_income'].astype(int)"
   ]
  },
  {
   "cell_type": "markdown",
   "id": "a1229223",
   "metadata": {
    "deletable": false,
    "editable": false,
    "id": "80c420ba"
   },
   "source": [
    "### Обработка дубликатов"
   ]
  },
  {
   "cell_type": "markdown",
   "id": "d6c668ae",
   "metadata": {
    "deletable": false,
    "editable": false
   },
   "source": [
    "**Задание 14. Обработайте неявные дубликаты в столбце `education`. В этом столбце есть одни и те же значения, но записанные по-разному: с использованием заглавных и строчных букв. Приведите их к нижнему регистру. Проверьте остальные столбцы.**"
   ]
  },
  {
   "cell_type": "code",
   "execution_count": 44,
   "id": "711e72d5",
   "metadata": {
    "deletable": false
   },
   "outputs": [],
   "source": [
    "data['education'] = data['education'].str.lower()"
   ]
  },
  {
   "cell_type": "markdown",
   "id": "e517691d",
   "metadata": {
    "deletable": false,
    "editable": false,
    "id": "dc587695"
   },
   "source": [
    "**Задание 15. Выведите на экран количество строк-дубликатов в данных. Если такие строки присутствуют, удалите их.**"
   ]
  },
  {
   "cell_type": "code",
   "execution_count": 45,
   "id": "519928be",
   "metadata": {
    "deletable": false,
    "id": "3ee445e4",
    "outputId": "9684deba-1934-42d1-99e1-cda61740f822"
   },
   "outputs": [
    {
     "data": {
      "text/plain": [
       "71"
      ]
     },
     "execution_count": 45,
     "metadata": {},
     "output_type": "execute_result"
    }
   ],
   "source": [
    "data.duplicated().sum()"
   ]
  },
  {
   "cell_type": "code",
   "execution_count": 46,
   "id": "e36fe7df",
   "metadata": {
    "deletable": false,
    "id": "8575fe05"
   },
   "outputs": [],
   "source": [
    "data = data.drop_duplicates()"
   ]
  },
  {
   "cell_type": "markdown",
   "id": "b9e70530",
   "metadata": {
    "deletable": false,
    "editable": false,
    "id": "9904cf55"
   },
   "source": [
    "### Категоризация данных"
   ]
  },
  {
   "cell_type": "markdown",
   "id": "aec655e0",
   "metadata": {
    "deletable": false,
    "editable": false,
    "id": "72fcc8a2"
   },
   "source": [
    "**Задание 16. На основании диапазонов, указанных ниже, создайте в датафрейме `data` столбец `total_income_category` с категориями:**\n",
    "\n",
    "- 0–30000 — `'E'`;\n",
    "- 30001–50000 — `'D'`;\n",
    "- 50001–200000 — `'C'`;\n",
    "- 200001–1000000 — `'B'`;\n",
    "- 1000001 и выше — `'A'`.\n",
    "\n",
    "\n",
    "**Например, кредитополучателю с доходом 25000 нужно назначить категорию `'E'`, а клиенту, получающему 235000, — `'B'`. Используйте собственную функцию с именем `categorize_income()` и метод `apply()`.**"
   ]
  },
  {
   "cell_type": "code",
   "execution_count": 47,
   "id": "5e56733e",
   "metadata": {
    "deletable": false,
    "id": "e1771346"
   },
   "outputs": [],
   "source": [
    "def categorize_income(income):\n",
    "    try:\n",
    "        if 0 <= income <= 30000:\n",
    "            return 'E'\n",
    "        elif 30001 <= income <= 50000:\n",
    "            return 'D'\n",
    "        elif 50001 <= income <= 200000:\n",
    "            return 'C'\n",
    "        elif 200001 <= income <= 1000000:\n",
    "            return 'B'\n",
    "        elif income >= 1000001:\n",
    "            return 'A'\n",
    "    except:\n",
    "        pass"
   ]
  },
  {
   "cell_type": "code",
   "execution_count": 48,
   "id": "58471408",
   "metadata": {
    "deletable": false,
    "id": "d5f3586d"
   },
   "outputs": [],
   "source": [
    "data['total_income_category'] = data['total_income'].apply(categorize_income)"
   ]
  },
  {
   "cell_type": "markdown",
   "id": "fe31ca25",
   "metadata": {
    "deletable": false,
    "editable": false,
    "id": "dde49b5c"
   },
   "source": [
    "**Задание 17. Выведите на экран перечень уникальных целей взятия кредита из столбца `purpose`.**"
   ]
  },
  {
   "cell_type": "code",
   "execution_count": 49,
   "id": "5984d27a",
   "metadata": {
    "deletable": false,
    "id": "f67ce9b3",
    "outputId": "673c12d9-7d7e-4ae0-9812-c622c89dd244"
   },
   "outputs": [
    {
     "data": {
      "text/plain": [
       "array(['покупка жилья', 'приобретение автомобиля',\n",
       "       'дополнительное образование', 'сыграть свадьбу',\n",
       "       'операции с жильем', 'образование', 'на проведение свадьбы',\n",
       "       'покупка жилья для семьи', 'покупка недвижимости',\n",
       "       'покупка коммерческой недвижимости', 'покупка жилой недвижимости',\n",
       "       'строительство собственной недвижимости', 'недвижимость',\n",
       "       'строительство недвижимости', 'на покупку подержанного автомобиля',\n",
       "       'на покупку своего автомобиля',\n",
       "       'операции с коммерческой недвижимостью',\n",
       "       'строительство жилой недвижимости', 'жилье',\n",
       "       'операции со своей недвижимостью', 'автомобили',\n",
       "       'заняться образованием', 'сделка с подержанным автомобилем',\n",
       "       'получение образования', 'автомобиль', 'свадьба',\n",
       "       'получение дополнительного образования', 'покупка своего жилья',\n",
       "       'операции с недвижимостью', 'получение высшего образования',\n",
       "       'свой автомобиль', 'сделка с автомобилем',\n",
       "       'профильное образование', 'высшее образование',\n",
       "       'покупка жилья для сдачи', 'на покупку автомобиля', 'ремонт жилью',\n",
       "       'заняться высшим образованием'], dtype=object)"
      ]
     },
     "execution_count": 49,
     "metadata": {},
     "output_type": "execute_result"
    }
   ],
   "source": [
    "data['purpose'].unique()"
   ]
  },
  {
   "cell_type": "markdown",
   "id": "3755b515",
   "metadata": {
    "deletable": false,
    "editable": false,
    "id": "85d0aef0"
   },
   "source": [
    "**Задание 18. Создайте функцию, которая на основании данных из столбца `purpose` сформирует новый столбец `purpose_category`, в который войдут следующие категории:**\n",
    "\n",
    "- `'операции с автомобилем'`,\n",
    "- `'операции с недвижимостью'`,\n",
    "- `'проведение свадьбы'`,\n",
    "- `'получение образования'`.\n",
    "\n",
    "**Например, если в столбце `purpose` находится подстрока `'на покупку автомобиля'`, то в столбце `purpose_category` должна появиться строка `'операции с автомобилем'`.**\n",
    "\n",
    "**Используйте собственную функцию с именем `categorize_purpose()` и метод `apply()`. Изучите данные в столбце `purpose` и определите, какие подстроки помогут вам правильно определить категорию.**"
   ]
  },
  {
   "cell_type": "code",
   "execution_count": 50,
   "id": "a7931024",
   "metadata": {
    "deletable": false,
    "id": "e149fab4"
   },
   "outputs": [],
   "source": [
    "def categorize_purpose(row):\n",
    "    try:\n",
    "        if 'автом' in row:\n",
    "            return 'операции с автомобилем'\n",
    "        elif 'жил' in row or 'недвиж' in row:\n",
    "            return 'операции с недвижимостью'\n",
    "        elif 'свад' in row:\n",
    "            return 'проведение свадьбы'\n",
    "        elif 'образов' in row:\n",
    "            return 'получение образования'\n",
    "    except:\n",
    "        return 'нет категории'"
   ]
  },
  {
   "cell_type": "code",
   "execution_count": 51,
   "id": "6ce07597",
   "metadata": {
    "deletable": false,
    "id": "bf36e69b"
   },
   "outputs": [
    {
     "name": "stdout",
     "output_type": "stream",
     "text": [
      "    children  days_employed  dob_years            education  education_id  \\\n",
      "0          1    8437.673028         42               высшее             0   \n",
      "1          1    4024.803754         36              среднее             1   \n",
      "2          0    5623.422610         33              среднее             1   \n",
      "3          3    4124.747207         32              среднее             1   \n",
      "4          0  340266.072047         53              среднее             1   \n",
      "5          0     926.185831         27               высшее             0   \n",
      "6          0    2879.202052         43               высшее             0   \n",
      "7          0     152.779569         50              среднее             1   \n",
      "8          2    6929.865299         35               высшее             0   \n",
      "9          0    2188.756445         41              среднее             1   \n",
      "10         2    4171.483647         36               высшее             0   \n",
      "11         0     792.701887         40              среднее             1   \n",
      "12         0  365286.622650         65              среднее             1   \n",
      "13         0    1846.641941         54  неоконченное высшее             2   \n",
      "14         0    1844.956182         56               высшее             0   \n",
      "15         1     972.364419         26              среднее             1   \n",
      "16         0    1719.934226         35              среднее             1   \n",
      "17         0    2369.999720         33               высшее             0   \n",
      "18         0  400281.136913         53              среднее             1   \n",
      "19         0   10038.818549         48              среднее             1   \n",
      "\n",
      "       family_status  family_status_id gender income_type  debt  total_income  \\\n",
      "0    женат / замужем                 0      F   сотрудник     0        253875   \n",
      "1    женат / замужем                 0      F   сотрудник     0        112080   \n",
      "2    женат / замужем                 0      M   сотрудник     0        145885   \n",
      "3    женат / замужем                 0      M   сотрудник     0        267628   \n",
      "4   гражданский брак                 1      F   пенсионер     0        158616   \n",
      "5   гражданский брак                 1      M   компаньон     0        255763   \n",
      "6    женат / замужем                 0      F   компаньон     0        240525   \n",
      "7    женат / замужем                 0      M   сотрудник     0        135823   \n",
      "8   гражданский брак                 1      F   сотрудник     0         95856   \n",
      "9    женат / замужем                 0      M   сотрудник     0        144425   \n",
      "10   женат / замужем                 0      M   компаньон     0        113943   \n",
      "11   женат / замужем                 0      F   сотрудник     0         77069   \n",
      "12  гражданский брак                 1      M   пенсионер     0        118514   \n",
      "13   женат / замужем                 0      F   сотрудник     0        130458   \n",
      "14  гражданский брак                 1      F   компаньон     1        165127   \n",
      "15   женат / замужем                 0      F   сотрудник     0        116820   \n",
      "16   женат / замужем                 0      F   сотрудник     0        289202   \n",
      "17  гражданский брак                 1      M   сотрудник     0         90410   \n",
      "18    вдовец / вдова                 2      F   пенсионер     0         56823   \n",
      "19         в разводе                 3      F   сотрудник     0        242831   \n",
      "\n",
      "                                   purpose total_income_category  \\\n",
      "0                            покупка жилья                     B   \n",
      "1                  приобретение автомобиля                     C   \n",
      "2                            покупка жилья                     C   \n",
      "3               дополнительное образование                     B   \n",
      "4                          сыграть свадьбу                     C   \n",
      "5                            покупка жилья                     B   \n",
      "6                        операции с жильем                     B   \n",
      "7                              образование                     C   \n",
      "8                    на проведение свадьбы                     C   \n",
      "9                  покупка жилья для семьи                     C   \n",
      "10                    покупка недвижимости                     C   \n",
      "11       покупка коммерческой недвижимости                     C   \n",
      "12                         сыграть свадьбу                     C   \n",
      "13                 приобретение автомобиля                     C   \n",
      "14              покупка жилой недвижимости                     C   \n",
      "15  строительство собственной недвижимости                     C   \n",
      "16                            недвижимость                     B   \n",
      "17              строительство недвижимости                     C   \n",
      "18      на покупку подержанного автомобиля                     C   \n",
      "19            на покупку своего автомобиля                     B   \n",
      "\n",
      "            purpose_category  \n",
      "0   операции с недвижимостью  \n",
      "1     операции с автомобилем  \n",
      "2   операции с недвижимостью  \n",
      "3      получение образования  \n",
      "4         проведение свадьбы  \n",
      "5   операции с недвижимостью  \n",
      "6   операции с недвижимостью  \n",
      "7      получение образования  \n",
      "8         проведение свадьбы  \n",
      "9   операции с недвижимостью  \n",
      "10  операции с недвижимостью  \n",
      "11  операции с недвижимостью  \n",
      "12        проведение свадьбы  \n",
      "13    операции с автомобилем  \n",
      "14  операции с недвижимостью  \n",
      "15  операции с недвижимостью  \n",
      "16  операции с недвижимостью  \n",
      "17  операции с недвижимостью  \n",
      "18    операции с автомобилем  \n",
      "19    операции с автомобилем  \n"
     ]
    }
   ],
   "source": [
    "data['purpose_category'] = data['purpose'].apply(categorize_purpose)\n",
    "print(data.head(20))\n"
   ]
  },
  {
   "cell_type": "markdown",
   "id": "67cf9f40",
   "metadata": {
    "deletable": false,
    "editable": false,
    "id": "09b242bf"
   },
   "source": [
    "### Шаг 3. Исследуйте данные и ответьте на вопросы"
   ]
  },
  {
   "cell_type": "markdown",
   "id": "d3a46472",
   "metadata": {
    "deletable": false,
    "editable": false,
    "id": "c5d66278"
   },
   "source": [
    "#### 3.1 Есть ли зависимость между количеством детей и возвратом кредита в срок?"
   ]
  },
  {
   "cell_type": "code",
   "execution_count": 77,
   "id": "ea9c79bc",
   "metadata": {
    "deletable": false,
    "id": "2cacfc4a"
   },
   "outputs": [
    {
     "data": {
      "text/html": [
       "<div>\n",
       "<style scoped>\n",
       "    .dataframe tbody tr th:only-of-type {\n",
       "        vertical-align: middle;\n",
       "    }\n",
       "\n",
       "    .dataframe tbody tr th {\n",
       "        vertical-align: top;\n",
       "    }\n",
       "\n",
       "    .dataframe thead th {\n",
       "        text-align: right;\n",
       "    }\n",
       "</style>\n",
       "<table border=\"1\" class=\"dataframe\">\n",
       "  <thead>\n",
       "    <tr style=\"text-align: right;\">\n",
       "      <th></th>\n",
       "      <th>debt</th>\n",
       "      <th>children</th>\n",
       "      <th>ratio</th>\n",
       "    </tr>\n",
       "    <tr>\n",
       "      <th>children</th>\n",
       "      <th></th>\n",
       "      <th></th>\n",
       "      <th></th>\n",
       "    </tr>\n",
       "  </thead>\n",
       "  <tbody>\n",
       "    <tr>\n",
       "      <th>4</th>\n",
       "      <td>4</td>\n",
       "      <td>41</td>\n",
       "      <td>0.097561</td>\n",
       "    </tr>\n",
       "    <tr>\n",
       "      <th>2</th>\n",
       "      <td>194</td>\n",
       "      <td>2052</td>\n",
       "      <td>0.094542</td>\n",
       "    </tr>\n",
       "    <tr>\n",
       "      <th>1</th>\n",
       "      <td>444</td>\n",
       "      <td>4808</td>\n",
       "      <td>0.092346</td>\n",
       "    </tr>\n",
       "    <tr>\n",
       "      <th>3</th>\n",
       "      <td>27</td>\n",
       "      <td>330</td>\n",
       "      <td>0.081818</td>\n",
       "    </tr>\n",
       "    <tr>\n",
       "      <th>0</th>\n",
       "      <td>1063</td>\n",
       "      <td>14091</td>\n",
       "      <td>0.075438</td>\n",
       "    </tr>\n",
       "    <tr>\n",
       "      <th>5</th>\n",
       "      <td>0</td>\n",
       "      <td>9</td>\n",
       "      <td>0.000000</td>\n",
       "    </tr>\n",
       "  </tbody>\n",
       "</table>\n",
       "</div>"
      ],
      "text/plain": [
       "          debt  children     ratio\n",
       "children                          \n",
       "4            4        41  0.097561\n",
       "2          194      2052  0.094542\n",
       "1          444      4808  0.092346\n",
       "3           27       330  0.081818\n",
       "0         1063     14091  0.075438\n",
       "5            0         9  0.000000"
      ]
     },
     "metadata": {},
     "output_type": "display_data"
    },
    {
     "data": {
      "text/html": [
       "<div>\n",
       "<style scoped>\n",
       "    .dataframe tbody tr th:only-of-type {\n",
       "        vertical-align: middle;\n",
       "    }\n",
       "\n",
       "    .dataframe tbody tr th {\n",
       "        vertical-align: top;\n",
       "    }\n",
       "\n",
       "    .dataframe thead th {\n",
       "        text-align: right;\n",
       "    }\n",
       "</style>\n",
       "<table border=\"1\" class=\"dataframe\">\n",
       "  <thead>\n",
       "    <tr style=\"text-align: right;\">\n",
       "      <th>total_income_category</th>\n",
       "      <th>A</th>\n",
       "      <th>B</th>\n",
       "      <th>C</th>\n",
       "      <th>D</th>\n",
       "      <th>E</th>\n",
       "    </tr>\n",
       "    <tr>\n",
       "      <th>children</th>\n",
       "      <th></th>\n",
       "      <th></th>\n",
       "      <th></th>\n",
       "      <th></th>\n",
       "      <th></th>\n",
       "    </tr>\n",
       "  </thead>\n",
       "  <tbody>\n",
       "    <tr>\n",
       "      <th>5</th>\n",
       "      <td>NaN</td>\n",
       "      <td>0.0</td>\n",
       "      <td>0.0</td>\n",
       "      <td>0.0</td>\n",
       "      <td>NaN</td>\n",
       "    </tr>\n",
       "    <tr>\n",
       "      <th>4</th>\n",
       "      <td>NaN</td>\n",
       "      <td>1.0</td>\n",
       "      <td>3.0</td>\n",
       "      <td>NaN</td>\n",
       "      <td>NaN</td>\n",
       "    </tr>\n",
       "    <tr>\n",
       "      <th>3</th>\n",
       "      <td>0.0</td>\n",
       "      <td>4.0</td>\n",
       "      <td>22.0</td>\n",
       "      <td>1.0</td>\n",
       "      <td>NaN</td>\n",
       "    </tr>\n",
       "    <tr>\n",
       "      <th>2</th>\n",
       "      <td>0.0</td>\n",
       "      <td>41.0</td>\n",
       "      <td>149.0</td>\n",
       "      <td>4.0</td>\n",
       "      <td>0.0</td>\n",
       "    </tr>\n",
       "    <tr>\n",
       "      <th>1</th>\n",
       "      <td>1.0</td>\n",
       "      <td>88.0</td>\n",
       "      <td>351.0</td>\n",
       "      <td>4.0</td>\n",
       "      <td>0.0</td>\n",
       "    </tr>\n",
       "    <tr>\n",
       "      <th>0</th>\n",
       "      <td>1.0</td>\n",
       "      <td>220.0</td>\n",
       "      <td>828.0</td>\n",
       "      <td>12.0</td>\n",
       "      <td>2.0</td>\n",
       "    </tr>\n",
       "  </tbody>\n",
       "</table>\n",
       "</div>"
      ],
      "text/plain": [
       "total_income_category    A      B      C     D    E\n",
       "children                                           \n",
       "5                      NaN    0.0    0.0   0.0  NaN\n",
       "4                      NaN    1.0    3.0   NaN  NaN\n",
       "3                      0.0    4.0   22.0   1.0  NaN\n",
       "2                      0.0   41.0  149.0   4.0  0.0\n",
       "1                      1.0   88.0  351.0   4.0  0.0\n",
       "0                      1.0  220.0  828.0  12.0  2.0"
      ]
     },
     "metadata": {},
     "output_type": "display_data"
    }
   ],
   "source": [
    "#постром таблицу на основе данных о количестве детей, взятых и просроченных кредитов\n",
    "data_children = data.groupby('children').agg({'debt':'sum', 'children':'count'})\n",
    "\n",
    "#добавим к таблице графу ratio,  равную доле просроченных кредитов в их общей массе в \n",
    "#зависимости от количества детей \n",
    "data_children['ratio'] = data_children['debt']/ data_children['children']\n",
    "\n",
    "#выведем полученную таблицу на экран с отсортированными по убыванию занями по графе debt_ratio \n",
    "display(data_children.sort_values(by='ratio', ascending = False))\n",
    "\n",
    "\n",
    "#cформируем pivot-таблицу, чтобы посмотреть сколько детей имеют разные категории граждан в зависимости от их дохода.\n",
    "data_pivot4 = data.pivot_table(index=['children'], columns='total_income_category', values='debt', aggfunc='sum')\n",
    "\n",
    "display(data_pivot4.sort_values(by='children', ascending=False))"
   ]
  },
  {
   "cell_type": "markdown",
   "id": "44579f7c",
   "metadata": {
    "deletable": false,
    "id": "3a6b99ec"
   },
   "source": [
    "**Вывод:**\n",
    "Для того, чтобы можно было сопоставить количество просроченных кредитов исходя из числа детей, была посчитан относительный показатели ration.\n",
    "\n",
    "По данным получается, что самыми ненадежынми заемщиками являются люди с 4 детьми - доля просрочек = 0,098, поэтому хотя доля по заещмкам с 5 детьми раво нулю, думаю было бы ошибочно считать их самыми надежными. Нулевой показатель  ratio по семьям с 5 детьми скорее всего получен из-за небольшого числа подобных получателей кредита (всего 9 человек). \n",
    "\n",
    "По показателям самыми надежными заемщ\n",
    "иками явяются семьи без детей, у них просроченные кредиты составляют 0,075.\n",
    "\n",
    "**Чем больше детей у заемщика, чем выше вероятность, что кредит не будет возвращен в срок.**\n",
    "\n",
    "\n"
   ]
  },
  {
   "cell_type": "markdown",
   "id": "09e0f700",
   "metadata": {
    "deletable": false,
    "editable": false,
    "id": "97be82ca"
   },
   "source": [
    "#### 3.2 Есть ли зависимость между семейным положением и возвратом кредита в срок?"
   ]
  },
  {
   "cell_type": "code",
   "execution_count": 74,
   "id": "27b43cfc",
   "metadata": {
    "deletable": false,
    "id": "dc3f7ee8"
   },
   "outputs": [
    {
     "data": {
      "text/html": [
       "<div>\n",
       "<style scoped>\n",
       "    .dataframe tbody tr th:only-of-type {\n",
       "        vertical-align: middle;\n",
       "    }\n",
       "\n",
       "    .dataframe tbody tr th {\n",
       "        vertical-align: top;\n",
       "    }\n",
       "\n",
       "    .dataframe thead th {\n",
       "        text-align: right;\n",
       "    }\n",
       "</style>\n",
       "<table border=\"1\" class=\"dataframe\">\n",
       "  <thead>\n",
       "    <tr style=\"text-align: right;\">\n",
       "      <th></th>\n",
       "      <th>debt</th>\n",
       "      <th>family_status</th>\n",
       "      <th>ratio</th>\n",
       "    </tr>\n",
       "    <tr>\n",
       "      <th>family_status</th>\n",
       "      <th></th>\n",
       "      <th></th>\n",
       "      <th></th>\n",
       "    </tr>\n",
       "  </thead>\n",
       "  <tbody>\n",
       "    <tr>\n",
       "      <th>Не женат / не замужем</th>\n",
       "      <td>273</td>\n",
       "      <td>2796</td>\n",
       "      <td>0.097639</td>\n",
       "    </tr>\n",
       "    <tr>\n",
       "      <th>гражданский брак</th>\n",
       "      <td>385</td>\n",
       "      <td>4134</td>\n",
       "      <td>0.093130</td>\n",
       "    </tr>\n",
       "    <tr>\n",
       "      <th>женат / замужем</th>\n",
       "      <td>927</td>\n",
       "      <td>12261</td>\n",
       "      <td>0.075606</td>\n",
       "    </tr>\n",
       "    <tr>\n",
       "      <th>в разводе</th>\n",
       "      <td>84</td>\n",
       "      <td>1189</td>\n",
       "      <td>0.070648</td>\n",
       "    </tr>\n",
       "    <tr>\n",
       "      <th>вдовец / вдова</th>\n",
       "      <td>63</td>\n",
       "      <td>951</td>\n",
       "      <td>0.066246</td>\n",
       "    </tr>\n",
       "  </tbody>\n",
       "</table>\n",
       "</div>"
      ],
      "text/plain": [
       "                       debt  family_status     ratio\n",
       "family_status                                       \n",
       "Не женат / не замужем   273           2796  0.097639\n",
       "гражданский брак        385           4134  0.093130\n",
       "женат / замужем         927          12261  0.075606\n",
       "в разводе                84           1189  0.070648\n",
       "вдовец / вдова           63            951  0.066246"
      ]
     },
     "metadata": {},
     "output_type": "display_data"
    },
    {
     "data": {
      "text/html": [
       "<div>\n",
       "<style scoped>\n",
       "    .dataframe tbody tr th:only-of-type {\n",
       "        vertical-align: middle;\n",
       "    }\n",
       "\n",
       "    .dataframe tbody tr th {\n",
       "        vertical-align: top;\n",
       "    }\n",
       "\n",
       "    .dataframe thead th {\n",
       "        text-align: right;\n",
       "    }\n",
       "</style>\n",
       "<table border=\"1\" class=\"dataframe\">\n",
       "  <thead>\n",
       "    <tr style=\"text-align: right;\">\n",
       "      <th>total_income_category</th>\n",
       "      <th>A</th>\n",
       "      <th>B</th>\n",
       "      <th>C</th>\n",
       "      <th>D</th>\n",
       "      <th>E</th>\n",
       "    </tr>\n",
       "    <tr>\n",
       "      <th>family_status</th>\n",
       "      <th></th>\n",
       "      <th></th>\n",
       "      <th></th>\n",
       "      <th></th>\n",
       "      <th></th>\n",
       "    </tr>\n",
       "  </thead>\n",
       "  <tbody>\n",
       "    <tr>\n",
       "      <th>женат / замужем</th>\n",
       "      <td>1.0</td>\n",
       "      <td>201.0</td>\n",
       "      <td>711.0</td>\n",
       "      <td>12.0</td>\n",
       "      <td>2.0</td>\n",
       "    </tr>\n",
       "    <tr>\n",
       "      <th>гражданский брак</th>\n",
       "      <td>1.0</td>\n",
       "      <td>64.0</td>\n",
       "      <td>315.0</td>\n",
       "      <td>5.0</td>\n",
       "      <td>0.0</td>\n",
       "    </tr>\n",
       "    <tr>\n",
       "      <th>вдовец / вдова</th>\n",
       "      <td>NaN</td>\n",
       "      <td>9.0</td>\n",
       "      <td>54.0</td>\n",
       "      <td>0.0</td>\n",
       "      <td>NaN</td>\n",
       "    </tr>\n",
       "    <tr>\n",
       "      <th>в разводе</th>\n",
       "      <td>0.0</td>\n",
       "      <td>18.0</td>\n",
       "      <td>64.0</td>\n",
       "      <td>2.0</td>\n",
       "      <td>NaN</td>\n",
       "    </tr>\n",
       "    <tr>\n",
       "      <th>Не женат / не замужем</th>\n",
       "      <td>0.0</td>\n",
       "      <td>62.0</td>\n",
       "      <td>209.0</td>\n",
       "      <td>2.0</td>\n",
       "      <td>0.0</td>\n",
       "    </tr>\n",
       "  </tbody>\n",
       "</table>\n",
       "</div>"
      ],
      "text/plain": [
       "total_income_category    A      B      C     D    E\n",
       "family_status                                      \n",
       "женат / замужем        1.0  201.0  711.0  12.0  2.0\n",
       "гражданский брак       1.0   64.0  315.0   5.0  0.0\n",
       "вдовец / вдова         NaN    9.0   54.0   0.0  NaN\n",
       "в разводе              0.0   18.0   64.0   2.0  NaN\n",
       "Не женат / не замужем  0.0   62.0  209.0   2.0  0.0"
      ]
     },
     "metadata": {},
     "output_type": "display_data"
    }
   ],
   "source": [
    "#постром таблицу на основе данных о семейном положении, взятых и просроченных кредитов\n",
    "family_status = data.groupby('family_status').agg({'debt':'sum', 'family_status':'count'})\n",
    "\n",
    "#добавим к таблице графу ratio,  равную доле просроченных кредитов в их общей массе в \n",
    "#зависимости от семейного положения \n",
    "family_status['ratio'] = family_status['debt']/ family_status['family_status']\n",
    "\n",
    "\n",
    "#выведем полученную таблицу на экран с отсортированными по убыванию занями по графе ratio \n",
    "display(family_status.sort_values(by='ratio', ascending = False))\n",
    "\n",
    "\n",
    "#cформируем pivot-таблицу, чтобы посмотреть какой доход у градан в зависимости от их семейного статуса\n",
    "data_pivot3 = data.pivot_table(index=['family_status'], columns='total_income_category', values='debt', aggfunc='sum')\n",
    "\n",
    "display(data_pivot3.sort_values(by='family_status', ascending=False))"
   ]
  },
  {
   "cell_type": "markdown",
   "id": "059b6cc8",
   "metadata": {
    "deletable": false,
    "id": "1cef7837"
   },
   "source": [
    "**Вывод:** \n",
    "Для анализа также требуется посчитать относительные показатели  ratio  и debt_ratio,чтобы можно было сопоставить данные.\n",
    "Что видно по таблице:\n",
    "- ниабольшая доля людей, которые имею просрочку покредиту 0,097 не женаты / не замужем;\n",
    "- далее идут люди, состоящие в гражданском браке - 0,093;\n",
    "- женатые и замужние имеют долю просроки 0,075;\n",
    "- самыми надежным являются получатели  в разводе - 0,07 их доля просроченных креитов и вдовцы  долей 0,066.\n",
    "\n",
    "**Есть зависимость между семейным положением и возвратом кредита в срок: самые надежные заемщики могут иметь один из статусов: состоять в браке, быть в разводе или вдовцами. Ненадежные заемщики, как правило, не женаты/не замужем или находятся в гражданскрм браке.**"
   ]
  },
  {
   "cell_type": "markdown",
   "id": "2f93e26e",
   "metadata": {
    "deletable": false,
    "editable": false,
    "id": "1e8b2fca"
   },
   "source": [
    "#### 3.3 Есть ли зависимость между уровнем дохода и возвратом кредита в срок?"
   ]
  },
  {
   "cell_type": "code",
   "execution_count": 72,
   "id": "527bdfe7",
   "metadata": {
    "deletable": false,
    "id": "cd7e3720"
   },
   "outputs": [
    {
     "data": {
      "text/html": [
       "<div>\n",
       "<style scoped>\n",
       "    .dataframe tbody tr th:only-of-type {\n",
       "        vertical-align: middle;\n",
       "    }\n",
       "\n",
       "    .dataframe tbody tr th {\n",
       "        vertical-align: top;\n",
       "    }\n",
       "\n",
       "    .dataframe thead th {\n",
       "        text-align: right;\n",
       "    }\n",
       "</style>\n",
       "<table border=\"1\" class=\"dataframe\">\n",
       "  <thead>\n",
       "    <tr style=\"text-align: right;\">\n",
       "      <th></th>\n",
       "      <th>debt</th>\n",
       "      <th>total_income_category</th>\n",
       "      <th>ratio</th>\n",
       "    </tr>\n",
       "    <tr>\n",
       "      <th>total_income_category</th>\n",
       "      <th></th>\n",
       "      <th></th>\n",
       "      <th></th>\n",
       "    </tr>\n",
       "  </thead>\n",
       "  <tbody>\n",
       "    <tr>\n",
       "      <th>E</th>\n",
       "      <td>2</td>\n",
       "      <td>22</td>\n",
       "      <td>0.090909</td>\n",
       "    </tr>\n",
       "    <tr>\n",
       "      <th>C</th>\n",
       "      <td>1353</td>\n",
       "      <td>15921</td>\n",
       "      <td>0.084982</td>\n",
       "    </tr>\n",
       "    <tr>\n",
       "      <th>A</th>\n",
       "      <td>2</td>\n",
       "      <td>25</td>\n",
       "      <td>0.080000</td>\n",
       "    </tr>\n",
       "    <tr>\n",
       "      <th>B</th>\n",
       "      <td>354</td>\n",
       "      <td>5014</td>\n",
       "      <td>0.070602</td>\n",
       "    </tr>\n",
       "    <tr>\n",
       "      <th>D</th>\n",
       "      <td>21</td>\n",
       "      <td>349</td>\n",
       "      <td>0.060172</td>\n",
       "    </tr>\n",
       "  </tbody>\n",
       "</table>\n",
       "</div>"
      ],
      "text/plain": [
       "                       debt  total_income_category     ratio\n",
       "total_income_category                                       \n",
       "E                         2                     22  0.090909\n",
       "C                      1353                  15921  0.084982\n",
       "A                         2                     25  0.080000\n",
       "B                       354                   5014  0.070602\n",
       "D                        21                    349  0.060172"
      ]
     },
     "metadata": {},
     "output_type": "display_data"
    }
   ],
   "source": [
    "#постром таблицу на основе данных о семейном положении, взятых и просроченных кредитов\n",
    "total_income_category = data.groupby('total_income_category').agg({'debt':'sum', 'total_income_category':'count'})\n",
    "\n",
    "#добавим к таблице графу ratio,  равную доле просроченных кредитов в их общей массе в \n",
    "#зависимости от семейного положения \n",
    "total_income_category['ratio'] = total_income_category['debt']/ total_income_category['total_income_category']\n",
    "\n",
    "#выведем полученную таблицу на экран с отсортированными по убыванию занями по графе ratio \n",
    "display(total_income_category.sort_values(by='ratio', ascending = False))\n"
   ]
  },
  {
   "cell_type": "markdown",
   "id": "14102fe8",
   "metadata": {
    "deletable": false,
    "id": "e8593def"
   },
   "source": [
    "**Вывод:** \n",
    "Для понимания результатов таблицы приведу нижу расшифровку total_income_category с категориям:\n",
    "0–30000 — 'E';\n",
    "30001–50000 — 'D';\n",
    "50001–200000 — 'C';\n",
    "200001–1000000 — 'B';\n",
    "1000001 и выше — 'A'.\n",
    "\n",
    "По данным полученной таблицы можно сделать следующие вывод:\n",
    "- самые ненадженые заемщики - категрия Е,доля просрочек у ни составляет 0,091;\n",
    "- далее идет категория С - 0,085;\n",
    "- и самыми добросовестными являются заемщики из катерии  D.\n",
    "\n",
    "**Вывод об однозначной зависимости сделать сложно, возможно, это вызвано разным уровнем дохода по регионам России. Требуется добавить аналитики для анализа**"
   ]
  },
  {
   "cell_type": "markdown",
   "id": "7a1f6af1",
   "metadata": {
    "deletable": false,
    "editable": false,
    "id": "99ecbd1f"
   },
   "source": [
    "#### 3.4 Как разные цели кредита влияют на его возврат в срок?"
   ]
  },
  {
   "cell_type": "code",
   "execution_count": 73,
   "id": "0fce0dd9",
   "metadata": {
    "deletable": false,
    "id": "2b687290"
   },
   "outputs": [
    {
     "data": {
      "text/html": [
       "<div>\n",
       "<style scoped>\n",
       "    .dataframe tbody tr th:only-of-type {\n",
       "        vertical-align: middle;\n",
       "    }\n",
       "\n",
       "    .dataframe tbody tr th {\n",
       "        vertical-align: top;\n",
       "    }\n",
       "\n",
       "    .dataframe thead th {\n",
       "        text-align: right;\n",
       "    }\n",
       "</style>\n",
       "<table border=\"1\" class=\"dataframe\">\n",
       "  <thead>\n",
       "    <tr style=\"text-align: right;\">\n",
       "      <th></th>\n",
       "      <th>debt</th>\n",
       "      <th>purpose_category</th>\n",
       "      <th>ratio</th>\n",
       "    </tr>\n",
       "    <tr>\n",
       "      <th>purpose_category</th>\n",
       "      <th></th>\n",
       "      <th></th>\n",
       "      <th></th>\n",
       "    </tr>\n",
       "  </thead>\n",
       "  <tbody>\n",
       "    <tr>\n",
       "      <th>операции с автомобилем</th>\n",
       "      <td>400</td>\n",
       "      <td>4279</td>\n",
       "      <td>0.093480</td>\n",
       "    </tr>\n",
       "    <tr>\n",
       "      <th>получение образования</th>\n",
       "      <td>369</td>\n",
       "      <td>3988</td>\n",
       "      <td>0.092528</td>\n",
       "    </tr>\n",
       "    <tr>\n",
       "      <th>проведение свадьбы</th>\n",
       "      <td>183</td>\n",
       "      <td>2313</td>\n",
       "      <td>0.079118</td>\n",
       "    </tr>\n",
       "    <tr>\n",
       "      <th>операции с недвижимостью</th>\n",
       "      <td>780</td>\n",
       "      <td>10751</td>\n",
       "      <td>0.072551</td>\n",
       "    </tr>\n",
       "  </tbody>\n",
       "</table>\n",
       "</div>"
      ],
      "text/plain": [
       "                          debt  purpose_category     ratio\n",
       "purpose_category                                          \n",
       "операции с автомобилем     400              4279  0.093480\n",
       "получение образования      369              3988  0.092528\n",
       "проведение свадьбы         183              2313  0.079118\n",
       "операции с недвижимостью   780             10751  0.072551"
      ]
     },
     "metadata": {},
     "output_type": "display_data"
    },
    {
     "data": {
      "text/html": [
       "<div>\n",
       "<style scoped>\n",
       "    .dataframe tbody tr th:only-of-type {\n",
       "        vertical-align: middle;\n",
       "    }\n",
       "\n",
       "    .dataframe tbody tr th {\n",
       "        vertical-align: top;\n",
       "    }\n",
       "\n",
       "    .dataframe thead th {\n",
       "        text-align: right;\n",
       "    }\n",
       "</style>\n",
       "<table border=\"1\" class=\"dataframe\">\n",
       "  <thead>\n",
       "    <tr style=\"text-align: right;\">\n",
       "      <th>total_income_category</th>\n",
       "      <th>A</th>\n",
       "      <th>B</th>\n",
       "      <th>C</th>\n",
       "      <th>D</th>\n",
       "      <th>E</th>\n",
       "    </tr>\n",
       "    <tr>\n",
       "      <th>purpose_category</th>\n",
       "      <th></th>\n",
       "      <th></th>\n",
       "      <th></th>\n",
       "      <th></th>\n",
       "      <th></th>\n",
       "    </tr>\n",
       "  </thead>\n",
       "  <tbody>\n",
       "    <tr>\n",
       "      <th>проведение свадьбы</th>\n",
       "      <td>0</td>\n",
       "      <td>28</td>\n",
       "      <td>152</td>\n",
       "      <td>3</td>\n",
       "      <td>0</td>\n",
       "    </tr>\n",
       "    <tr>\n",
       "      <th>получение образования</th>\n",
       "      <td>1</td>\n",
       "      <td>69</td>\n",
       "      <td>297</td>\n",
       "      <td>2</td>\n",
       "      <td>0</td>\n",
       "    </tr>\n",
       "    <tr>\n",
       "      <th>операции с недвижимостью</th>\n",
       "      <td>1</td>\n",
       "      <td>172</td>\n",
       "      <td>599</td>\n",
       "      <td>6</td>\n",
       "      <td>2</td>\n",
       "    </tr>\n",
       "    <tr>\n",
       "      <th>операции с автомобилем</th>\n",
       "      <td>0</td>\n",
       "      <td>85</td>\n",
       "      <td>305</td>\n",
       "      <td>10</td>\n",
       "      <td>0</td>\n",
       "    </tr>\n",
       "  </tbody>\n",
       "</table>\n",
       "</div>"
      ],
      "text/plain": [
       "total_income_category     A    B    C   D  E\n",
       "purpose_category                            \n",
       "проведение свадьбы        0   28  152   3  0\n",
       "получение образования     1   69  297   2  0\n",
       "операции с недвижимостью  1  172  599   6  2\n",
       "операции с автомобилем    0   85  305  10  0"
      ]
     },
     "metadata": {},
     "output_type": "display_data"
    }
   ],
   "source": [
    "#постром таблицу на основе данных о семейном положении, взятых и просроченных кредитов\n",
    "purpose_category = data.groupby('purpose_category').agg({'debt':'sum', 'purpose_category':'count'})\n",
    "\n",
    "#добавим к таблице графу ratio,  равную доле просроченных кредитов в их общей массе в \n",
    "#зависимости от семейного положения\n",
    "purpose_category['ratio'] = purpose_category['debt']/ purpose_category['purpose_category']\n",
    "\n",
    "#выведем полученную таблицу на экран с отсортированными по убыванию занями по графе ratio \n",
    "display(purpose_category.sort_values(by='ratio', ascending = False))\n",
    "\n",
    "#cформируем pivot-таблицу, чтобы посмотреть какие категории граждан на какие цели чаще берут кредит.\n",
    "data_pivot = data.pivot_table(index=['purpose_category'], columns='total_income_category', values='debt', aggfunc='sum')\n",
    "\n",
    "display(data_pivot.sort_values(by='purpose_category', ascending=False))"
   ]
  },
  {
   "cell_type": "markdown",
   "id": "81e1c38c",
   "metadata": {
    "deletable": false,
    "id": "b4bb2ce6"
   },
   "source": [
    "**Вывод:** \n",
    "По данным таблицы можно сделать следующие **выводы**:\n",
    "\n",
    "- самыми надежными для банка будут заемщики, берущие кредит на операции с недвижимость (доля просрочек 0,073) и на проведеие свадьбы (их доля просрочек 0,079);\n",
    "- чаще всего просрочки бывают по кредитам на автомобили (0,093) и на получение образования (0,092).\n"
   ]
  },
  {
   "cell_type": "markdown",
   "id": "7bb1ed72",
   "metadata": {
    "deletable": false,
    "editable": false,
    "id": "09c3ac4c"
   },
   "source": [
    "#### 3.5 Приведите возможные причины появления пропусков в исходных данных."
   ]
  },
  {
   "cell_type": "markdown",
   "id": "36e2d44e",
   "metadata": {
    "deletable": false,
    "id": "9da2ceda"
   },
   "source": [
    "*Ответ:* \n",
    "Данные были пропущены в графах количество рабочих дней и доход. Возможно, данные опрошенные не хотели заниматься подсчетами отработаного времени и расскрывать уровень своего дохода по тем или иным причинам."
   ]
  },
  {
   "cell_type": "markdown",
   "id": "a70d2eca",
   "metadata": {
    "deletable": false,
    "editable": false,
    "id": "7b0487d6"
   },
   "source": [
    "#### 3.6 Объясните, почему заполнить пропуски медианным значением — лучшее решение для количественных переменных."
   ]
  },
  {
   "cell_type": "markdown",
   "id": "ccdbc221",
   "metadata": {
    "deletable": false,
    "id": "7ecf2b8e"
   },
   "source": [
    "*Ответ:* \n",
    "Пропуски заполняются медианными значениями, когда в данных есть выдающиеяся значения. Так, например, уровень дохода по людям в выборке вариьируеся от 30 тыс. до более 1 млн., если будет заполнять пропущенные цифры данными, рассчитаными методом средними арифметическими mean(), то  уровень дохода, рассчитанный подобным методом будет завышен за счет выдающихся значений. Учитывая, что пропушщенных данных у нас около 10%, то мы можем искать даннеы.\n",
    "\n",
    "Этого получится избежать используя другой метод -  median()."
   ]
  },
  {
   "cell_type": "markdown",
   "id": "64116c30",
   "metadata": {
    "deletable": false,
    "editable": false,
    "id": "6db5255a"
   },
   "source": [
    "### Шаг 4: общий вывод."
   ]
  },
  {
   "cell_type": "markdown",
   "id": "ccdd389a",
   "metadata": {
    "deletable": false,
    "id": "bad65432"
   },
   "source": [
    "Проанализирова данные, можно составить следующий портрет надежного потенциального заемщика: \n",
    "- количество детей от 0 до 2;\n",
    "- семейный статус: в браке / разводе / вдовцы;\n",
    "- по уровню дохода следует провести дополнительыне исследования по регионам;\n",
    "- цель кредита: операциии с недвижимостью или свадьба."
   ]
  },
  {
   "cell_type": "markdown",
   "id": "8d396f28",
   "metadata": {},
   "source": [
    "***Вывод:***\n",
    "    \n",
    "Перед исследованием была поставлена задача определить есть ли зависимость между возвратом кредита в срок и следующими данными из портрета заемщика:\n",
    "•\tколичеством детей,\n",
    "•\tсемейного статуса заемщика,\n",
    "•\tуровнем его дохода,\n",
    "•\tна какие цели берется кредит.\n",
    "Для анализа были изучены 21 525 анкет заемщиков. Данные прошли предобработку: пропущенная информацию по стажу и среднему доходу была заполнена медианными значениями исходя из типа занятости заемщика, были удалены дубликаты (123 анкеты). После чего добавили дополнительные графы: категориям дохода и по целям займа. Сделано это, чтобы структурировать близкие по содержанию группу.\n",
    "Далее сгруппировали данные:\n",
    "1) по количеству детей, количеству просроченных кредитов и общему количеству займов. Был найдет относительный показатель ratio, как отношение количества просроченных кредитов к общему их количеству с детализацией по числу детей кредитополучателя. \n",
    "2) по статуса заёмщика, количеству просроченных кредитов и общему количеству займов. Был на найдет относительный показать rario,как отношение количества просроченных кредитов к общему их количеству с детализацией по статусу кредитополучателя. \n",
    "3) по уровню дохода заёмщика, на основе предварительно сгруппированных категорий, количеству просроченных кредитов и общему количеству займов. Был на найдет относительный показать ratio, как отношение количества просроченных кредитов к общему их количеству с учетом категории дохода кредитополучателя. \n",
    "4) по целям кредита, на основе предварительно сгруппированных категорий целей кредита, количеству просроченных кредитов и общему количеству займов. Был на найдет относительный показать ratio, как отношение количества просроченных кредитов к общему их количеству с учетом целевой категории дохода кредита.\n"
   ]
  },
  {
   "cell_type": "code",
   "execution_count": null,
   "id": "a3e66c97",
   "metadata": {},
   "outputs": [],
   "source": []
  }
 ],
 "metadata": {
  "ExecuteTimeLog": [
   {
    "duration": 733,
    "start_time": "2022-09-27T08:04:55.015Z"
   },
   {
    "duration": 26,
    "start_time": "2022-09-27T08:04:55.750Z"
   },
   {
    "duration": 15,
    "start_time": "2022-09-27T08:04:55.778Z"
   },
   {
    "duration": 7,
    "start_time": "2022-09-27T08:04:55.795Z"
   },
   {
    "duration": 31,
    "start_time": "2022-09-27T08:04:55.804Z"
   },
   {
    "duration": 4,
    "start_time": "2022-09-27T08:04:55.837Z"
   },
   {
    "duration": 18,
    "start_time": "2022-09-27T08:04:55.842Z"
   },
   {
    "duration": 6,
    "start_time": "2022-09-27T08:04:55.861Z"
   },
   {
    "duration": 7,
    "start_time": "2022-09-27T08:04:55.869Z"
   },
   {
    "duration": 6,
    "start_time": "2022-09-27T08:04:55.879Z"
   },
   {
    "duration": 48,
    "start_time": "2022-09-27T08:04:55.886Z"
   },
   {
    "duration": 10,
    "start_time": "2022-09-27T08:04:55.936Z"
   },
   {
    "duration": 14,
    "start_time": "2022-09-27T08:04:55.947Z"
   },
   {
    "duration": 13,
    "start_time": "2022-09-27T08:04:55.963Z"
   },
   {
    "duration": 36,
    "start_time": "2022-09-27T08:04:55.977Z"
   },
   {
    "duration": 19,
    "start_time": "2022-09-27T08:04:56.015Z"
   },
   {
    "duration": 4,
    "start_time": "2022-09-27T08:04:56.036Z"
   },
   {
    "duration": 23,
    "start_time": "2022-09-27T08:04:56.042Z"
   },
   {
    "duration": 21,
    "start_time": "2022-09-27T08:04:56.067Z"
   },
   {
    "duration": 22,
    "start_time": "2022-09-27T08:04:56.089Z"
   },
   {
    "duration": 14,
    "start_time": "2022-09-27T08:04:56.114Z"
   },
   {
    "duration": 8,
    "start_time": "2022-09-27T08:04:56.129Z"
   },
   {
    "duration": 14,
    "start_time": "2022-09-27T08:04:56.139Z"
   },
   {
    "duration": 8,
    "start_time": "2022-09-27T08:04:56.154Z"
   },
   {
    "duration": 9,
    "start_time": "2022-09-27T08:04:56.164Z"
   },
   {
    "duration": 8,
    "start_time": "2022-09-27T08:05:07.428Z"
   },
   {
    "duration": 16,
    "start_time": "2022-09-27T08:05:25.983Z"
   },
   {
    "duration": 7,
    "start_time": "2022-09-27T08:05:47.802Z"
   },
   {
    "duration": 69,
    "start_time": "2022-09-27T08:11:35.943Z"
   },
   {
    "duration": 15,
    "start_time": "2022-09-27T08:11:45.991Z"
   },
   {
    "duration": 11,
    "start_time": "2022-09-27T08:11:54.691Z"
   },
   {
    "duration": 15,
    "start_time": "2022-09-27T08:12:14.643Z"
   },
   {
    "duration": 8,
    "start_time": "2022-09-27T08:12:52.664Z"
   },
   {
    "duration": 14,
    "start_time": "2022-09-27T08:14:54.629Z"
   },
   {
    "duration": 11,
    "start_time": "2022-09-27T08:18:51.723Z"
   },
   {
    "duration": 4,
    "start_time": "2022-09-27T08:22:06.692Z"
   },
   {
    "duration": 14,
    "start_time": "2022-09-27T08:35:37.059Z"
   },
   {
    "duration": 13,
    "start_time": "2022-09-27T08:35:44.741Z"
   },
   {
    "duration": 66,
    "start_time": "2022-09-27T08:58:26.584Z"
   },
   {
    "duration": 68,
    "start_time": "2022-09-27T08:58:35.286Z"
   },
   {
    "duration": 13,
    "start_time": "2022-09-27T08:58:35.356Z"
   },
   {
    "duration": 16,
    "start_time": "2022-09-27T08:58:35.371Z"
   },
   {
    "duration": 20,
    "start_time": "2022-09-27T08:58:35.389Z"
   },
   {
    "duration": 28,
    "start_time": "2022-09-27T08:58:35.411Z"
   },
   {
    "duration": 3,
    "start_time": "2022-09-27T08:58:35.440Z"
   },
   {
    "duration": 12,
    "start_time": "2022-09-27T08:58:35.444Z"
   },
   {
    "duration": 5,
    "start_time": "2022-09-27T08:58:35.457Z"
   },
   {
    "duration": 15,
    "start_time": "2022-09-27T08:58:35.463Z"
   },
   {
    "duration": 14,
    "start_time": "2022-09-27T08:58:35.479Z"
   },
   {
    "duration": 41,
    "start_time": "2022-09-27T08:58:35.494Z"
   },
   {
    "duration": 8,
    "start_time": "2022-09-27T08:58:35.536Z"
   },
   {
    "duration": 2,
    "start_time": "2022-09-27T08:58:35.546Z"
   },
   {
    "duration": 11,
    "start_time": "2022-09-27T08:58:35.551Z"
   },
   {
    "duration": 19,
    "start_time": "2022-09-27T08:58:35.563Z"
   },
   {
    "duration": 39,
    "start_time": "2022-09-27T08:58:35.583Z"
   },
   {
    "duration": 4,
    "start_time": "2022-09-27T08:58:35.624Z"
   },
   {
    "duration": 10,
    "start_time": "2022-09-27T08:58:35.630Z"
   },
   {
    "duration": 9,
    "start_time": "2022-09-27T08:58:35.641Z"
   },
   {
    "duration": 4,
    "start_time": "2022-09-27T08:58:35.651Z"
   },
   {
    "duration": 16,
    "start_time": "2022-09-27T08:58:35.656Z"
   },
   {
    "duration": 6,
    "start_time": "2022-09-27T08:58:35.673Z"
   },
   {
    "duration": 3,
    "start_time": "2022-09-27T08:58:35.681Z"
   },
   {
    "duration": 13,
    "start_time": "2022-09-27T08:58:35.709Z"
   },
   {
    "duration": 10,
    "start_time": "2022-09-27T08:58:35.724Z"
   },
   {
    "duration": 7,
    "start_time": "2022-09-27T09:06:26.999Z"
   },
   {
    "duration": 11,
    "start_time": "2022-09-27T09:09:38.963Z"
   },
   {
    "duration": 17,
    "start_time": "2022-09-27T09:11:49.849Z"
   },
   {
    "duration": 51,
    "start_time": "2022-09-27T09:13:18.188Z"
   },
   {
    "duration": 67,
    "start_time": "2022-09-27T09:13:33.127Z"
   },
   {
    "duration": 13,
    "start_time": "2022-09-27T09:13:33.196Z"
   },
   {
    "duration": 17,
    "start_time": "2022-09-27T09:13:33.210Z"
   },
   {
    "duration": 8,
    "start_time": "2022-09-27T09:13:33.229Z"
   },
   {
    "duration": 33,
    "start_time": "2022-09-27T09:13:33.238Z"
   },
   {
    "duration": 3,
    "start_time": "2022-09-27T09:13:33.272Z"
   },
   {
    "duration": 10,
    "start_time": "2022-09-27T09:13:33.276Z"
   },
   {
    "duration": 22,
    "start_time": "2022-09-27T09:13:33.288Z"
   },
   {
    "duration": 5,
    "start_time": "2022-09-27T09:13:33.312Z"
   },
   {
    "duration": 6,
    "start_time": "2022-09-27T09:13:33.320Z"
   },
   {
    "duration": 30,
    "start_time": "2022-09-27T09:13:33.327Z"
   },
   {
    "duration": 8,
    "start_time": "2022-09-27T09:13:33.359Z"
   },
   {
    "duration": 3,
    "start_time": "2022-09-27T09:13:33.368Z"
   },
   {
    "duration": 38,
    "start_time": "2022-09-27T09:13:33.373Z"
   },
   {
    "duration": 18,
    "start_time": "2022-09-27T09:13:33.413Z"
   },
   {
    "duration": 15,
    "start_time": "2022-09-27T09:13:33.433Z"
   },
   {
    "duration": 3,
    "start_time": "2022-09-27T09:13:33.450Z"
   },
   {
    "duration": 12,
    "start_time": "2022-09-27T09:13:33.454Z"
   },
   {
    "duration": 10,
    "start_time": "2022-09-27T09:13:33.467Z"
   },
   {
    "duration": 3,
    "start_time": "2022-09-27T09:13:33.478Z"
   },
   {
    "duration": 32,
    "start_time": "2022-09-27T09:13:33.483Z"
   },
   {
    "duration": 55,
    "start_time": "2022-09-27T09:13:33.516Z"
   },
   {
    "duration": 61,
    "start_time": "2022-09-27T09:13:59.457Z"
   },
   {
    "duration": 53,
    "start_time": "2022-09-27T09:14:21.876Z"
   },
   {
    "duration": 155,
    "start_time": "2022-09-27T09:14:33.845Z"
   },
   {
    "duration": 51,
    "start_time": "2022-09-27T09:15:26.034Z"
   },
   {
    "duration": 69,
    "start_time": "2022-09-27T09:15:38.374Z"
   },
   {
    "duration": 13,
    "start_time": "2022-09-27T09:15:38.445Z"
   },
   {
    "duration": 16,
    "start_time": "2022-09-27T09:15:38.460Z"
   },
   {
    "duration": 8,
    "start_time": "2022-09-27T09:15:38.477Z"
   },
   {
    "duration": 43,
    "start_time": "2022-09-27T09:15:38.487Z"
   },
   {
    "duration": 3,
    "start_time": "2022-09-27T09:15:38.532Z"
   },
   {
    "duration": 9,
    "start_time": "2022-09-27T09:15:38.537Z"
   },
   {
    "duration": 9,
    "start_time": "2022-09-27T09:15:38.548Z"
   },
   {
    "duration": 7,
    "start_time": "2022-09-27T09:15:38.558Z"
   },
   {
    "duration": 9,
    "start_time": "2022-09-27T09:15:38.567Z"
   },
   {
    "duration": 44,
    "start_time": "2022-09-27T09:15:38.577Z"
   },
   {
    "duration": 8,
    "start_time": "2022-09-27T09:15:38.623Z"
   },
   {
    "duration": 19,
    "start_time": "2022-09-27T09:15:38.632Z"
   },
   {
    "duration": 11,
    "start_time": "2022-09-27T09:15:38.653Z"
   },
   {
    "duration": 23,
    "start_time": "2022-09-27T09:15:38.666Z"
   },
   {
    "duration": 15,
    "start_time": "2022-09-27T09:15:38.690Z"
   },
   {
    "duration": 3,
    "start_time": "2022-09-27T09:15:38.708Z"
   },
   {
    "duration": 37,
    "start_time": "2022-09-27T09:15:38.713Z"
   },
   {
    "duration": 11,
    "start_time": "2022-09-27T09:15:38.751Z"
   },
   {
    "duration": 4,
    "start_time": "2022-09-27T09:15:38.763Z"
   },
   {
    "duration": 17,
    "start_time": "2022-09-27T09:15:38.768Z"
   },
   {
    "duration": 59,
    "start_time": "2022-09-27T09:15:38.786Z"
   },
   {
    "duration": 0,
    "start_time": "2022-09-27T09:15:38.846Z"
   },
   {
    "duration": 0,
    "start_time": "2022-09-27T09:15:38.847Z"
   },
   {
    "duration": 0,
    "start_time": "2022-09-27T09:15:38.848Z"
   },
   {
    "duration": 14,
    "start_time": "2022-09-27T09:15:42.952Z"
   },
   {
    "duration": 49,
    "start_time": "2022-09-27T09:15:57.504Z"
   },
   {
    "duration": 45,
    "start_time": "2022-09-27T09:16:09.820Z"
   },
   {
    "duration": 70,
    "start_time": "2022-09-27T09:16:42.444Z"
   },
   {
    "duration": 19,
    "start_time": "2022-09-27T09:33:37.132Z"
   },
   {
    "duration": 13,
    "start_time": "2022-09-27T09:34:09.465Z"
   },
   {
    "duration": 868,
    "start_time": "2022-09-27T09:36:56.016Z"
   },
   {
    "duration": 6,
    "start_time": "2022-09-27T09:38:13.556Z"
   },
   {
    "duration": 8,
    "start_time": "2022-09-27T09:39:20.596Z"
   },
   {
    "duration": 7,
    "start_time": "2022-09-27T09:39:31.081Z"
   },
   {
    "duration": 7,
    "start_time": "2022-09-27T09:40:01.802Z"
   },
   {
    "duration": 10,
    "start_time": "2022-09-27T09:42:03.903Z"
   },
   {
    "duration": 8,
    "start_time": "2022-09-27T09:43:00.290Z"
   },
   {
    "duration": 10,
    "start_time": "2022-09-27T09:43:06.772Z"
   },
   {
    "duration": 10,
    "start_time": "2022-09-27T09:43:18.022Z"
   },
   {
    "duration": 12,
    "start_time": "2022-09-27T09:44:02.345Z"
   },
   {
    "duration": 7,
    "start_time": "2022-09-27T09:44:06.363Z"
   },
   {
    "duration": 95,
    "start_time": "2022-09-27T09:51:01.511Z"
   },
   {
    "duration": 15,
    "start_time": "2022-09-27T09:51:10.393Z"
   },
   {
    "duration": 10,
    "start_time": "2022-09-27T09:53:12.225Z"
   },
   {
    "duration": 13,
    "start_time": "2022-09-27T09:53:21.661Z"
   },
   {
    "duration": 13,
    "start_time": "2022-09-27T09:53:56.868Z"
   },
   {
    "duration": 13,
    "start_time": "2022-09-27T09:54:06.364Z"
   },
   {
    "duration": 13,
    "start_time": "2022-09-27T09:54:48.269Z"
   },
   {
    "duration": 14,
    "start_time": "2022-09-27T10:09:41.088Z"
   },
   {
    "duration": 12,
    "start_time": "2022-09-27T10:12:03.439Z"
   },
   {
    "duration": 15,
    "start_time": "2022-09-27T10:25:09.477Z"
   },
   {
    "duration": 15,
    "start_time": "2022-09-27T10:25:53.782Z"
   },
   {
    "duration": 15,
    "start_time": "2022-09-27T10:29:11.489Z"
   },
   {
    "duration": 15,
    "start_time": "2022-09-27T10:29:50.692Z"
   },
   {
    "duration": 13,
    "start_time": "2022-09-27T11:05:59.587Z"
   },
   {
    "duration": 64,
    "start_time": "2022-09-27T11:06:04.719Z"
   },
   {
    "duration": 66,
    "start_time": "2022-09-27T11:06:10.241Z"
   },
   {
    "duration": 14,
    "start_time": "2022-09-27T11:06:10.309Z"
   },
   {
    "duration": 32,
    "start_time": "2022-09-27T11:06:10.324Z"
   },
   {
    "duration": 8,
    "start_time": "2022-09-27T11:06:10.358Z"
   },
   {
    "duration": 29,
    "start_time": "2022-09-27T11:06:10.368Z"
   },
   {
    "duration": 11,
    "start_time": "2022-09-27T11:06:10.398Z"
   },
   {
    "duration": 12,
    "start_time": "2022-09-27T11:06:10.410Z"
   },
   {
    "duration": 4,
    "start_time": "2022-09-27T11:06:10.424Z"
   },
   {
    "duration": 9,
    "start_time": "2022-09-27T11:06:10.429Z"
   },
   {
    "duration": 8,
    "start_time": "2022-09-27T11:06:10.440Z"
   },
   {
    "duration": 32,
    "start_time": "2022-09-27T11:06:10.449Z"
   },
   {
    "duration": 9,
    "start_time": "2022-09-27T11:06:10.482Z"
   },
   {
    "duration": 19,
    "start_time": "2022-09-27T11:06:10.492Z"
   },
   {
    "duration": 11,
    "start_time": "2022-09-27T11:06:10.513Z"
   },
   {
    "duration": 24,
    "start_time": "2022-09-27T11:06:10.526Z"
   },
   {
    "duration": 16,
    "start_time": "2022-09-27T11:06:10.552Z"
   },
   {
    "duration": 3,
    "start_time": "2022-09-27T11:06:10.569Z"
   },
   {
    "duration": 10,
    "start_time": "2022-09-27T11:06:10.574Z"
   },
   {
    "duration": 24,
    "start_time": "2022-09-27T11:06:10.586Z"
   },
   {
    "duration": 3,
    "start_time": "2022-09-27T11:06:10.612Z"
   },
   {
    "duration": 16,
    "start_time": "2022-09-27T11:06:10.616Z"
   },
   {
    "duration": 13,
    "start_time": "2022-09-27T11:06:10.634Z"
   },
   {
    "duration": 14,
    "start_time": "2022-09-27T11:06:10.648Z"
   },
   {
    "duration": 12,
    "start_time": "2022-09-27T11:06:10.664Z"
   },
   {
    "duration": 0,
    "start_time": "2022-09-27T11:06:10.677Z"
   },
   {
    "duration": 13,
    "start_time": "2022-09-27T11:06:28.834Z"
   },
   {
    "duration": 13,
    "start_time": "2022-09-27T11:07:19.193Z"
   },
   {
    "duration": 16,
    "start_time": "2022-09-27T11:07:46.196Z"
   },
   {
    "duration": 65,
    "start_time": "2022-09-29T16:06:01.274Z"
   },
   {
    "duration": 745,
    "start_time": "2022-09-29T16:06:15.132Z"
   },
   {
    "duration": 38,
    "start_time": "2022-09-29T16:06:32.973Z"
   },
   {
    "duration": 81,
    "start_time": "2022-09-29T16:06:58.317Z"
   },
   {
    "duration": 34,
    "start_time": "2022-09-29T16:06:58.399Z"
   },
   {
    "duration": 28,
    "start_time": "2022-09-29T16:06:58.434Z"
   },
   {
    "duration": 9,
    "start_time": "2022-09-29T16:06:58.465Z"
   },
   {
    "duration": 31,
    "start_time": "2022-09-29T16:06:58.476Z"
   },
   {
    "duration": 18,
    "start_time": "2022-09-29T16:06:58.513Z"
   },
   {
    "duration": 14,
    "start_time": "2022-09-29T16:06:58.536Z"
   },
   {
    "duration": 5,
    "start_time": "2022-09-29T16:06:58.552Z"
   },
   {
    "duration": 8,
    "start_time": "2022-09-29T16:06:58.559Z"
   },
   {
    "duration": 4,
    "start_time": "2022-09-29T16:06:58.570Z"
   },
   {
    "duration": 60,
    "start_time": "2022-09-29T16:06:58.575Z"
   },
   {
    "duration": 10,
    "start_time": "2022-09-29T16:06:58.636Z"
   },
   {
    "duration": 3,
    "start_time": "2022-09-29T16:06:58.648Z"
   },
   {
    "duration": 11,
    "start_time": "2022-09-29T16:06:58.653Z"
   },
   {
    "duration": 20,
    "start_time": "2022-09-29T16:06:58.666Z"
   },
   {
    "duration": 46,
    "start_time": "2022-09-29T16:06:58.688Z"
   },
   {
    "duration": 4,
    "start_time": "2022-09-29T16:06:58.740Z"
   },
   {
    "duration": 13,
    "start_time": "2022-09-29T16:06:58.746Z"
   },
   {
    "duration": 8,
    "start_time": "2022-09-29T16:06:58.760Z"
   },
   {
    "duration": 11,
    "start_time": "2022-09-29T16:06:58.770Z"
   },
   {
    "duration": 16,
    "start_time": "2022-09-29T16:06:58.782Z"
   },
   {
    "duration": 31,
    "start_time": "2022-09-29T16:06:58.800Z"
   },
   {
    "duration": 16,
    "start_time": "2022-09-29T16:07:09.871Z"
   },
   {
    "duration": 1227,
    "start_time": "2022-09-29T16:09:55.618Z"
   },
   {
    "duration": 1910,
    "start_time": "2022-09-29T16:09:59.136Z"
   },
   {
    "duration": 15,
    "start_time": "2022-09-29T16:10:27.586Z"
   },
   {
    "duration": 18,
    "start_time": "2022-09-29T16:29:24.596Z"
   },
   {
    "duration": 88,
    "start_time": "2022-09-29T16:29:35.193Z"
   },
   {
    "duration": 14,
    "start_time": "2022-09-29T16:29:35.283Z"
   },
   {
    "duration": 47,
    "start_time": "2022-09-29T16:29:35.299Z"
   },
   {
    "duration": 26,
    "start_time": "2022-09-29T16:29:35.348Z"
   },
   {
    "duration": 31,
    "start_time": "2022-09-29T16:29:35.375Z"
   },
   {
    "duration": 10,
    "start_time": "2022-09-29T16:29:35.408Z"
   },
   {
    "duration": 24,
    "start_time": "2022-09-29T16:29:35.419Z"
   },
   {
    "duration": 5,
    "start_time": "2022-09-29T16:29:35.444Z"
   },
   {
    "duration": 6,
    "start_time": "2022-09-29T16:29:35.450Z"
   },
   {
    "duration": 4,
    "start_time": "2022-09-29T16:29:35.458Z"
   },
   {
    "duration": 37,
    "start_time": "2022-09-29T16:29:35.463Z"
   },
   {
    "duration": 20,
    "start_time": "2022-09-29T16:29:35.502Z"
   },
   {
    "duration": 17,
    "start_time": "2022-09-29T16:29:35.523Z"
   },
   {
    "duration": 11,
    "start_time": "2022-09-29T16:29:35.542Z"
   },
   {
    "duration": 20,
    "start_time": "2022-09-29T16:29:35.554Z"
   },
   {
    "duration": 16,
    "start_time": "2022-09-29T16:29:35.575Z"
   },
   {
    "duration": 3,
    "start_time": "2022-09-29T16:29:35.592Z"
   },
   {
    "duration": 18,
    "start_time": "2022-09-29T16:29:35.597Z"
   },
   {
    "duration": 6,
    "start_time": "2022-09-29T16:29:35.632Z"
   },
   {
    "duration": 4,
    "start_time": "2022-09-29T16:29:35.640Z"
   },
   {
    "duration": 19,
    "start_time": "2022-09-29T16:29:35.645Z"
   },
   {
    "duration": 24,
    "start_time": "2022-09-29T16:29:35.666Z"
   },
   {
    "duration": 0,
    "start_time": "2022-09-29T16:29:35.692Z"
   },
   {
    "duration": 0,
    "start_time": "2022-09-29T16:29:35.693Z"
   },
   {
    "duration": 0,
    "start_time": "2022-09-29T16:29:35.694Z"
   },
   {
    "duration": 12,
    "start_time": "2022-09-29T16:31:19.370Z"
   },
   {
    "duration": 13,
    "start_time": "2022-09-29T16:32:04.742Z"
   },
   {
    "duration": 10,
    "start_time": "2022-09-29T16:32:19.760Z"
   },
   {
    "duration": 13,
    "start_time": "2022-09-29T16:32:48.333Z"
   },
   {
    "duration": 12,
    "start_time": "2022-09-29T16:32:55.983Z"
   },
   {
    "duration": 25,
    "start_time": "2022-09-29T16:45:48.502Z"
   },
   {
    "duration": 21,
    "start_time": "2022-09-29T16:57:29.430Z"
   },
   {
    "duration": 14,
    "start_time": "2022-09-29T17:51:26.857Z"
   },
   {
    "duration": 1293,
    "start_time": "2022-09-29T18:08:32.807Z"
   },
   {
    "duration": 15,
    "start_time": "2022-09-29T18:08:53.382Z"
   },
   {
    "duration": 95,
    "start_time": "2022-09-29T18:11:59.448Z"
   },
   {
    "duration": 149,
    "start_time": "2022-09-29T18:12:21.376Z"
   },
   {
    "duration": 27,
    "start_time": "2022-09-29T18:12:44.676Z"
   },
   {
    "duration": 32,
    "start_time": "2022-09-29T18:13:55.243Z"
   },
   {
    "duration": 51,
    "start_time": "2022-09-29T18:14:53.309Z"
   },
   {
    "duration": 1127,
    "start_time": "2022-09-29T18:15:53.017Z"
   },
   {
    "duration": 60,
    "start_time": "2022-09-29T18:16:08.506Z"
   },
   {
    "duration": 29,
    "start_time": "2022-09-29T18:19:06.572Z"
   },
   {
    "duration": 46,
    "start_time": "2022-09-29T18:19:25.942Z"
   },
   {
    "duration": 15,
    "start_time": "2022-09-29T18:21:05.187Z"
   },
   {
    "duration": 46,
    "start_time": "2022-09-29T18:23:01.647Z"
   },
   {
    "duration": 42,
    "start_time": "2022-09-29T18:45:27.799Z"
   },
   {
    "duration": 109,
    "start_time": "2022-09-29T18:46:33.930Z"
   },
   {
    "duration": 68,
    "start_time": "2022-09-29T18:46:57.443Z"
   },
   {
    "duration": 33,
    "start_time": "2022-09-29T18:47:16.273Z"
   }
  ],
  "celltoolbar": "Slideshow",
  "colab": {
   "name": "dpp_template_part2.ipynb",
   "provenance": []
  },
  "kernelspec": {
   "display_name": "Python 3 (ipykernel)",
   "language": "python",
   "name": "python3"
  },
  "language_info": {
   "codemirror_mode": {
    "name": "ipython",
    "version": 3
   },
   "file_extension": ".py",
   "mimetype": "text/x-python",
   "name": "python",
   "nbconvert_exporter": "python",
   "pygments_lexer": "ipython3",
   "version": "3.9.13"
  },
  "toc": {
   "base_numbering": 1,
   "nav_menu": {},
   "number_sections": true,
   "sideBar": true,
   "skip_h1_title": true,
   "title_cell": "Table of Contents",
   "title_sidebar": "Contents",
   "toc_cell": false,
   "toc_position": {},
   "toc_section_display": true,
   "toc_window_display": false
  }
 },
 "nbformat": 4,
 "nbformat_minor": 5
}
