{
 "cells": [
  {
   "cell_type": "markdown",
   "metadata": {},
   "source": [
    "# Разработка системы предупреждения аварий на каршеринге"
   ]
  },
  {
   "cell_type": "markdown",
   "metadata": {
    "id": "sRW85nPMDWKb"
   },
   "source": [
    "В этой части проекта вам нужно написать несколько SQL-запросов в Jupyter Notebook. Эти задания проверят вручную, и вы получите комментарии к составленным запросам. \n",
    "\n",
    "Необходимые данные находятся в таблицах схемы `stackoverflow`. Не забудьте подключиться к базе с помощью SQLAlchemy. Вспомните инструкцию из урока 11 «Когортный анализ. Представление результатов» в теме 2 «Установка и настройка базы данных и клиента базы данных».. Пример кода для подключения к базе и выгрузки результатов вы найдёте и в этой тетрадке. \n",
    "\n",
    "Некоторые задания включают дополнительные вопросы — не пропустите их. На часть вопросов можно ответить текстом, а для некоторых понадобится визуализация. Помните, что результат запроса можно выгрузить в датафрейм. \n",
    "\n",
    "Чтобы ожидаемый результат было легче представить, мы добавили к каждому заданию небольшой фрагмент итоговой таблицы. В запросах вы можете использовать любые подходящие названия полей."
   ]
  },
  {
   "cell_type": "code",
   "execution_count": 1,
   "metadata": {},
   "outputs": [],
   "source": [
    "#тут будут все импорты\n",
    "import pandas as pd\n",
    "import matplotlib.pyplot as plt\n",
    "from plotly import graph_objects as go\n",
    "import seaborn as sns\n",
    "from sqlalchemy import create_engine "
   ]
  },
  {
   "cell_type": "markdown",
   "metadata": {
    "id": "XnOE3n28DWKg"
   },
   "source": [
    "### Конфигурация для подключения к базе данных `data-analyst-advanced-sql`\n",
    "Эта база данных содержит схему `stackoverflow`, с которой вы будете работать в проекте"
   ]
  },
  {
   "cell_type": "code",
   "execution_count": 2,
   "metadata": {
    "id": "6p-yGp7qDWKg"
   },
   "outputs": [],
   "source": [
    "db_config = {\n",
    "    'user': 'praktikum_student', # имя пользователя\n",
    "    'pwd': 'Sdf4$2;d-d30pp', # пароль\n",
    "    'host': 'rc1b-wcoijxj3yxfsf3fs.mdb.yandexcloud.net',\n",
    "    'port': 6432, # порт подключения\n",
    "    'db': 'data-analyst-advanced-sql' # название базы данных\n",
    "}  \n",
    "\n",
    "connection_string = 'postgresql://{}:{}@{}:{}/{}'.format(\n",
    "    db_config['user'],\n",
    "    db_config['pwd'],\n",
    "    db_config['host'],\n",
    "    db_config['port'],\n",
    "    db_config['db'],\n",
    ")"
   ]
  },
  {
   "cell_type": "markdown",
   "metadata": {
    "id": "2Rg8ZpS0DWKh"
   },
   "source": [
    "Создание подключения"
   ]
  },
  {
   "cell_type": "code",
   "execution_count": 3,
   "metadata": {
    "id": "DamCUTR6DWKi"
   },
   "outputs": [],
   "source": [
    "engine = create_engine(connection_string) "
   ]
  },
  {
   "cell_type": "markdown",
   "metadata": {
    "id": "bel8XeSlDWKj"
   },
   "source": [
    "Пример запроса к базе данных\n",
    "\n",
    "`sample_df` является pandas-датафреймом."
   ]
  },
  {
   "cell_type": "code",
   "execution_count": 4,
   "metadata": {
    "id": "6Z_fw0yLDWKk"
   },
   "outputs": [],
   "source": [
    "query = '''\n",
    "SELECT *\n",
    "FROM stackoverflow.users\n",
    "LIMIT 10;\n",
    "'''\n",
    "\n",
    "sample_df = pd.read_sql_query(query, con=engine) "
   ]
  },
  {
   "cell_type": "code",
   "execution_count": 5,
   "metadata": {
    "id": "ZpuZ290oDWKk",
    "outputId": "22785a0a-e2bc-4559-ec3c-4879c4b377eb"
   },
   "outputs": [
    {
     "data": {
      "text/html": [
       "<div>\n",
       "<style scoped>\n",
       "    .dataframe tbody tr th:only-of-type {\n",
       "        vertical-align: middle;\n",
       "    }\n",
       "\n",
       "    .dataframe tbody tr th {\n",
       "        vertical-align: top;\n",
       "    }\n",
       "\n",
       "    .dataframe thead th {\n",
       "        text-align: right;\n",
       "    }\n",
       "</style>\n",
       "<table border=\"1\" class=\"dataframe\">\n",
       "  <thead>\n",
       "    <tr style=\"text-align: right;\">\n",
       "      <th></th>\n",
       "      <th>id</th>\n",
       "      <th>creation_date</th>\n",
       "      <th>display_name</th>\n",
       "      <th>last_access_date</th>\n",
       "      <th>location</th>\n",
       "      <th>reputation</th>\n",
       "      <th>views</th>\n",
       "    </tr>\n",
       "  </thead>\n",
       "  <tbody>\n",
       "    <tr>\n",
       "      <th>0</th>\n",
       "      <td>1</td>\n",
       "      <td>2008-07-31 14:22:31</td>\n",
       "      <td>Jeff Atwood</td>\n",
       "      <td>2018-08-29 02:34:23</td>\n",
       "      <td>El Cerrito, CA</td>\n",
       "      <td>44300</td>\n",
       "      <td>408587</td>\n",
       "    </tr>\n",
       "    <tr>\n",
       "      <th>1</th>\n",
       "      <td>2</td>\n",
       "      <td>2008-07-31 14:22:31</td>\n",
       "      <td>Geoff Dalgas</td>\n",
       "      <td>2018-08-23 17:31:56</td>\n",
       "      <td>Corvallis, OR</td>\n",
       "      <td>3491</td>\n",
       "      <td>23966</td>\n",
       "    </tr>\n",
       "    <tr>\n",
       "      <th>2</th>\n",
       "      <td>3</td>\n",
       "      <td>2008-07-31 14:22:31</td>\n",
       "      <td>Jarrod Dixon</td>\n",
       "      <td>2018-08-30 20:56:24</td>\n",
       "      <td>Raleigh, NC, United States</td>\n",
       "      <td>13418</td>\n",
       "      <td>24396</td>\n",
       "    </tr>\n",
       "    <tr>\n",
       "      <th>3</th>\n",
       "      <td>4</td>\n",
       "      <td>2008-07-31 14:22:31</td>\n",
       "      <td>Joel Spolsky</td>\n",
       "      <td>2018-08-14 22:18:15</td>\n",
       "      <td>New York, NY</td>\n",
       "      <td>28768</td>\n",
       "      <td>73755</td>\n",
       "    </tr>\n",
       "    <tr>\n",
       "      <th>4</th>\n",
       "      <td>5</td>\n",
       "      <td>2008-07-31 14:22:31</td>\n",
       "      <td>Jon Galloway</td>\n",
       "      <td>2018-08-29 16:48:36</td>\n",
       "      <td>San Diego, CA</td>\n",
       "      <td>39172</td>\n",
       "      <td>11700</td>\n",
       "    </tr>\n",
       "    <tr>\n",
       "      <th>5</th>\n",
       "      <td>8</td>\n",
       "      <td>2008-07-31 21:33:24</td>\n",
       "      <td>Eggs McLaren</td>\n",
       "      <td>2018-04-09 02:04:56</td>\n",
       "      <td>None</td>\n",
       "      <td>942</td>\n",
       "      <td>6372</td>\n",
       "    </tr>\n",
       "    <tr>\n",
       "      <th>6</th>\n",
       "      <td>9</td>\n",
       "      <td>2008-07-31 21:35:27</td>\n",
       "      <td>Kevin Dente</td>\n",
       "      <td>2018-08-30 18:18:03</td>\n",
       "      <td>Oakland, CA</td>\n",
       "      <td>14337</td>\n",
       "      <td>4949</td>\n",
       "    </tr>\n",
       "    <tr>\n",
       "      <th>7</th>\n",
       "      <td>11</td>\n",
       "      <td>2008-08-01 00:59:11</td>\n",
       "      <td>Anonymous User</td>\n",
       "      <td>2008-08-01 00:59:11</td>\n",
       "      <td>None</td>\n",
       "      <td>1890</td>\n",
       "      <td>2123</td>\n",
       "    </tr>\n",
       "    <tr>\n",
       "      <th>8</th>\n",
       "      <td>13</td>\n",
       "      <td>2008-08-01 04:18:05</td>\n",
       "      <td>Chris Jester-Young</td>\n",
       "      <td>2018-08-30 02:47:23</td>\n",
       "      <td>Raleigh, NC, United States</td>\n",
       "      <td>177138</td>\n",
       "      <td>35414</td>\n",
       "    </tr>\n",
       "    <tr>\n",
       "      <th>9</th>\n",
       "      <td>17</td>\n",
       "      <td>2008-08-01 12:02:22</td>\n",
       "      <td>Nick Berardi</td>\n",
       "      <td>2018-01-22 01:35:38</td>\n",
       "      <td>Issaquah, WA</td>\n",
       "      <td>44443</td>\n",
       "      <td>4786</td>\n",
       "    </tr>\n",
       "  </tbody>\n",
       "</table>\n",
       "</div>"
      ],
      "text/plain": [
       "   id       creation_date        display_name    last_access_date  \\\n",
       "0   1 2008-07-31 14:22:31         Jeff Atwood 2018-08-29 02:34:23   \n",
       "1   2 2008-07-31 14:22:31        Geoff Dalgas 2018-08-23 17:31:56   \n",
       "2   3 2008-07-31 14:22:31        Jarrod Dixon 2018-08-30 20:56:24   \n",
       "3   4 2008-07-31 14:22:31        Joel Spolsky 2018-08-14 22:18:15   \n",
       "4   5 2008-07-31 14:22:31        Jon Galloway 2018-08-29 16:48:36   \n",
       "5   8 2008-07-31 21:33:24        Eggs McLaren 2018-04-09 02:04:56   \n",
       "6   9 2008-07-31 21:35:27         Kevin Dente 2018-08-30 18:18:03   \n",
       "7  11 2008-08-01 00:59:11      Anonymous User 2008-08-01 00:59:11   \n",
       "8  13 2008-08-01 04:18:05  Chris Jester-Young 2018-08-30 02:47:23   \n",
       "9  17 2008-08-01 12:02:22        Nick Berardi 2018-01-22 01:35:38   \n",
       "\n",
       "                     location  reputation   views  \n",
       "0              El Cerrito, CA       44300  408587  \n",
       "1               Corvallis, OR        3491   23966  \n",
       "2  Raleigh, NC, United States       13418   24396  \n",
       "3                New York, NY       28768   73755  \n",
       "4               San Diego, CA       39172   11700  \n",
       "5                        None         942    6372  \n",
       "6                 Oakland, CA       14337    4949  \n",
       "7                        None        1890    2123  \n",
       "8  Raleigh, NC, United States      177138   35414  \n",
       "9                Issaquah, WA       44443    4786  "
      ]
     },
     "execution_count": 5,
     "metadata": {},
     "output_type": "execute_result"
    }
   ],
   "source": [
    "sample_df"
   ]
  },
  {
   "cell_type": "markdown",
   "metadata": {
    "id": "gnBMXkDBDWKm"
   },
   "source": [
    "# Задание 1"
   ]
  },
  {
   "cell_type": "markdown",
   "metadata": {
    "id": "vHsfOrrNDWKn"
   },
   "source": [
    "Выведите общую сумму просмотров постов за каждый месяц 2008 года. Если данных за какой-либо месяц в базе нет, такой месяц можно пропустить. Результат отсортируйте по убыванию общего количества просмотров."
   ]
  },
  {
   "cell_type": "markdown",
   "metadata": {
    "id": "N5rTgGNmDWKn"
   },
   "source": [
    "| month_date  | total_views |\n",
    "| ------------- | ------------- |\n",
    "| 2008-09-01  | 452928568  |\n",
    "| 2008-10-01  | 365400138  |\n",
    "| ...         | ... |"
   ]
  },
  {
   "cell_type": "code",
   "execution_count": 6,
   "metadata": {
    "id": "eWvykcXTDWKo"
   },
   "outputs": [],
   "source": [
    "# напишите запрос\n",
    "query = '''\n",
    "SELECT  DATE_TRUNC ('month', CAST (creation_date AS timestamp)),\n",
    "        SUM(views_count) AS total_views \n",
    "FROM stackoverflow.posts\n",
    "GROUP BY DATE_TRUNC ('month', CAST (creation_date AS timestamp))\n",
    "ORDER BY SUM(views_count) DESC;\n",
    "'''\n",
    "\n",
    "# выполните запрос\n",
    "df = pd.read_sql_query(query, con=engine)"
   ]
  },
  {
   "cell_type": "code",
   "execution_count": 7,
   "metadata": {},
   "outputs": [
    {
     "data": {
      "text/html": [
       "<div>\n",
       "<style scoped>\n",
       "    .dataframe tbody tr th:only-of-type {\n",
       "        vertical-align: middle;\n",
       "    }\n",
       "\n",
       "    .dataframe tbody tr th {\n",
       "        vertical-align: top;\n",
       "    }\n",
       "\n",
       "    .dataframe thead th {\n",
       "        text-align: right;\n",
       "    }\n",
       "</style>\n",
       "<table border=\"1\" class=\"dataframe\">\n",
       "  <thead>\n",
       "    <tr style=\"text-align: right;\">\n",
       "      <th></th>\n",
       "      <th>date_trunc</th>\n",
       "      <th>total_views</th>\n",
       "    </tr>\n",
       "  </thead>\n",
       "  <tbody>\n",
       "    <tr>\n",
       "      <th>0</th>\n",
       "      <td>2008-09-01</td>\n",
       "      <td>452928568</td>\n",
       "    </tr>\n",
       "    <tr>\n",
       "      <th>1</th>\n",
       "      <td>2008-10-01</td>\n",
       "      <td>365400138</td>\n",
       "    </tr>\n",
       "    <tr>\n",
       "      <th>2</th>\n",
       "      <td>2008-11-01</td>\n",
       "      <td>221759651</td>\n",
       "    </tr>\n",
       "    <tr>\n",
       "      <th>3</th>\n",
       "      <td>2008-12-01</td>\n",
       "      <td>197792841</td>\n",
       "    </tr>\n",
       "    <tr>\n",
       "      <th>4</th>\n",
       "      <td>2008-08-01</td>\n",
       "      <td>131367083</td>\n",
       "    </tr>\n",
       "    <tr>\n",
       "      <th>5</th>\n",
       "      <td>2008-07-01</td>\n",
       "      <td>669895</td>\n",
       "    </tr>\n",
       "  </tbody>\n",
       "</table>\n",
       "</div>"
      ],
      "text/plain": [
       "  date_trunc  total_views\n",
       "0 2008-09-01    452928568\n",
       "1 2008-10-01    365400138\n",
       "2 2008-11-01    221759651\n",
       "3 2008-12-01    197792841\n",
       "4 2008-08-01    131367083\n",
       "5 2008-07-01       669895"
      ]
     },
     "execution_count": 7,
     "metadata": {},
     "output_type": "execute_result"
    }
   ],
   "source": [
    "df"
   ]
  },
  {
   "cell_type": "markdown",
   "metadata": {
    "id": "XMr_UeU6DWKo"
   },
   "source": [
    "<details>\n",
    "\n",
    "<summary>Подсказка</summary>\n",
    "Используйте функцию для усечения даты, а затем сгруппируйте и отсортируйте данные.\n",
    "</details>"
   ]
  },
  {
   "cell_type": "markdown",
   "metadata": {
    "id": "I_ZvhOxkDWKp"
   },
   "source": [
    "Проанализируйте итоговую таблицу. Отличаются ли данные за разные месяцы? С чем могут быть связаны отличия?"
   ]
  },
  {
   "cell_type": "markdown",
   "metadata": {
    "id": "luxSj17oDWKq"
   },
   "source": [
    "\n",
    "Данные по месяцам отличаются, это может быть связано  с тем, что осенью  люди монго читают из-за погоды, \n",
    "а летом больше времени проводят на свежем воздухе без гаджетов. Также видим снижение числа просмотров в декабре, причина \n",
    "которого, скорее всего связана с подготовкой  к новогодним праздникам.\n"
   ]
  },
  {
   "cell_type": "markdown",
   "metadata": {
    "id": "FziIXkn5DWKr"
   },
   "source": [
    "# Задание 2"
   ]
  },
  {
   "cell_type": "markdown",
   "metadata": {
    "id": "fTGESZvYDWKr"
   },
   "source": [
    "Выведите имена самых активных пользователей, которые в первый месяц после регистрации (включая день регистрации) дали больше 100 ответов. Вопросы, которые задавали пользователи, не учитывайте. Для каждого имени пользователя выведите количество уникальных значений `user_id`. Отсортируйте результат по полю с именами в лексикографическом порядке."
   ]
  },
  {
   "cell_type": "markdown",
   "metadata": {
    "id": "W5-tv6Y3DWKs"
   },
   "source": [
    "| display_name | count |\n",
    "| ------------ | ----- |\n",
    "| 1800 INFORMATION | 1 |\n",
    "| Adam Bellaire | 1 |\n",
    "| Adam Davis | 1 |\n",
    "| ... | ... |"
   ]
  },
  {
   "cell_type": "code",
   "execution_count": 8,
   "metadata": {
    "id": "fIO-y-YjDWKt"
   },
   "outputs": [],
   "source": [
    "# напишите запрос\n",
    "query = '''\n",
    "SELECT u.display_name,\n",
    "       COUNT(DISTINCT p.user_id)\n",
    "FROM stackoverflow.posts AS p\n",
    "JOIN stackoverflow.users AS u \n",
    "ON p.user_id=u.id\n",
    "JOIN stackoverflow.post_types AS pt\n",
    "ON pt.id=p.post_type_id\n",
    "WHERE p.creation_date::date BETWEEN u.creation_date::date AND (u.creation_date::date + INTERVAL '1 month') \n",
    "      AND pt.type LIKE 'Answer'\n",
    "GROUP BY u.display_name\n",
    "HAVING COUNT(p.id) > 100\n",
    "ORDER BY u.display_name;\n",
    ";\n",
    "'''\n",
    "\n",
    "# выполните запрос\n",
    "df = pd.read_sql_query(query, con=engine)\n"
   ]
  },
  {
   "cell_type": "code",
   "execution_count": 9,
   "metadata": {},
   "outputs": [
    {
     "data": {
      "text/html": [
       "<style  type=\"text/css\" >\n",
       "</style><table id=\"T_33a2e_\" ><thead>    <tr>        <th class=\"col_heading level0 col0\" >display_name</th>        <th class=\"col_heading level0 col1\" >count</th>    </tr></thead><tbody>\n",
       "                <tr>\n",
       "                                <td id=\"T_33a2e_row0_col0\" class=\"data row0 col0\" >1800 INFORMATION</td>\n",
       "                        <td id=\"T_33a2e_row0_col1\" class=\"data row0 col1\" >1</td>\n",
       "            </tr>\n",
       "            <tr>\n",
       "                                <td id=\"T_33a2e_row1_col0\" class=\"data row1 col0\" >Adam Bellaire</td>\n",
       "                        <td id=\"T_33a2e_row1_col1\" class=\"data row1 col1\" >1</td>\n",
       "            </tr>\n",
       "            <tr>\n",
       "                                <td id=\"T_33a2e_row2_col0\" class=\"data row2 col0\" >Adam Davis</td>\n",
       "                        <td id=\"T_33a2e_row2_col1\" class=\"data row2 col1\" >1</td>\n",
       "            </tr>\n",
       "            <tr>\n",
       "                                <td id=\"T_33a2e_row3_col0\" class=\"data row3 col0\" >Adam Liss</td>\n",
       "                        <td id=\"T_33a2e_row3_col1\" class=\"data row3 col1\" >1</td>\n",
       "            </tr>\n",
       "            <tr>\n",
       "                                <td id=\"T_33a2e_row4_col0\" class=\"data row4 col0\" >Alan</td>\n",
       "                        <td id=\"T_33a2e_row4_col1\" class=\"data row4 col1\" >8</td>\n",
       "            </tr>\n",
       "            <tr>\n",
       "                                <td id=\"T_33a2e_row5_col0\" class=\"data row5 col0\" >Amy B</td>\n",
       "                        <td id=\"T_33a2e_row5_col1\" class=\"data row5 col1\" >1</td>\n",
       "            </tr>\n",
       "            <tr>\n",
       "                                <td id=\"T_33a2e_row6_col0\" class=\"data row6 col0\" >Ben Hoffstein</td>\n",
       "                        <td id=\"T_33a2e_row6_col1\" class=\"data row6 col1\" >1</td>\n",
       "            </tr>\n",
       "            <tr>\n",
       "                                <td id=\"T_33a2e_row7_col0\" class=\"data row7 col0\" >Brian</td>\n",
       "                        <td id=\"T_33a2e_row7_col1\" class=\"data row7 col1\" >15</td>\n",
       "            </tr>\n",
       "            <tr>\n",
       "                                <td id=\"T_33a2e_row8_col0\" class=\"data row8 col0\" >Cade Roux</td>\n",
       "                        <td id=\"T_33a2e_row8_col1\" class=\"data row8 col1\" >1</td>\n",
       "            </tr>\n",
       "            <tr>\n",
       "                                <td id=\"T_33a2e_row9_col0\" class=\"data row9 col0\" >CesarB</td>\n",
       "                        <td id=\"T_33a2e_row9_col1\" class=\"data row9 col1\" >1</td>\n",
       "            </tr>\n",
       "            <tr>\n",
       "                                <td id=\"T_33a2e_row10_col0\" class=\"data row10 col0\" >Chris</td>\n",
       "                        <td id=\"T_33a2e_row10_col1\" class=\"data row10 col1\" >29</td>\n",
       "            </tr>\n",
       "            <tr>\n",
       "                                <td id=\"T_33a2e_row11_col0\" class=\"data row11 col0\" >ConcernedOfTunbridgeWells</td>\n",
       "                        <td id=\"T_33a2e_row11_col1\" class=\"data row11 col1\" >1</td>\n",
       "            </tr>\n",
       "            <tr>\n",
       "                                <td id=\"T_33a2e_row12_col0\" class=\"data row12 col0\" >Craig</td>\n",
       "                        <td id=\"T_33a2e_row12_col1\" class=\"data row12 col1\" >10</td>\n",
       "            </tr>\n",
       "            <tr>\n",
       "                                <td id=\"T_33a2e_row13_col0\" class=\"data row13 col0\" >Dale Ragan</td>\n",
       "                        <td id=\"T_33a2e_row13_col1\" class=\"data row13 col1\" >1</td>\n",
       "            </tr>\n",
       "            <tr>\n",
       "                                <td id=\"T_33a2e_row14_col0\" class=\"data row14 col0\" >Dan</td>\n",
       "                        <td id=\"T_33a2e_row14_col1\" class=\"data row14 col1\" >21</td>\n",
       "            </tr>\n",
       "            <tr>\n",
       "                                <td id=\"T_33a2e_row15_col0\" class=\"data row15 col0\" >Eric Z Beard</td>\n",
       "                        <td id=\"T_33a2e_row15_col1\" class=\"data row15 col1\" >1</td>\n",
       "            </tr>\n",
       "            <tr>\n",
       "                                <td id=\"T_33a2e_row16_col0\" class=\"data row16 col0\" >Espo</td>\n",
       "                        <td id=\"T_33a2e_row16_col1\" class=\"data row16 col1\" >1</td>\n",
       "            </tr>\n",
       "            <tr>\n",
       "                                <td id=\"T_33a2e_row17_col0\" class=\"data row17 col0\" >FlySwat</td>\n",
       "                        <td id=\"T_33a2e_row17_col1\" class=\"data row17 col1\" >1</td>\n",
       "            </tr>\n",
       "            <tr>\n",
       "                                <td id=\"T_33a2e_row18_col0\" class=\"data row18 col0\" >Franci Penov</td>\n",
       "                        <td id=\"T_33a2e_row18_col1\" class=\"data row18 col1\" >1</td>\n",
       "            </tr>\n",
       "            <tr>\n",
       "                                <td id=\"T_33a2e_row19_col0\" class=\"data row19 col0\" >GEOCHET</td>\n",
       "                        <td id=\"T_33a2e_row19_col1\" class=\"data row19 col1\" >1</td>\n",
       "            </tr>\n",
       "            <tr>\n",
       "                                <td id=\"T_33a2e_row20_col0\" class=\"data row20 col0\" >GateKiller</td>\n",
       "                        <td id=\"T_33a2e_row20_col1\" class=\"data row20 col1\" >1</td>\n",
       "            </tr>\n",
       "            <tr>\n",
       "                                <td id=\"T_33a2e_row21_col0\" class=\"data row21 col0\" >Greg</td>\n",
       "                        <td id=\"T_33a2e_row21_col1\" class=\"data row21 col1\" >12</td>\n",
       "            </tr>\n",
       "            <tr>\n",
       "                                <td id=\"T_33a2e_row22_col0\" class=\"data row22 col0\" >Gulzar Nazim</td>\n",
       "                        <td id=\"T_33a2e_row22_col1\" class=\"data row22 col1\" >1</td>\n",
       "            </tr>\n",
       "            <tr>\n",
       "                                <td id=\"T_33a2e_row23_col0\" class=\"data row23 col0\" >Ilya Kochetov</td>\n",
       "                        <td id=\"T_33a2e_row23_col1\" class=\"data row23 col1\" >1</td>\n",
       "            </tr>\n",
       "            <tr>\n",
       "                                <td id=\"T_33a2e_row24_col0\" class=\"data row24 col0\" >James Curran</td>\n",
       "                        <td id=\"T_33a2e_row24_col1\" class=\"data row24 col1\" >1</td>\n",
       "            </tr>\n",
       "            <tr>\n",
       "                                <td id=\"T_33a2e_row25_col0\" class=\"data row25 col0\" >Jim</td>\n",
       "                        <td id=\"T_33a2e_row25_col1\" class=\"data row25 col1\" >7</td>\n",
       "            </tr>\n",
       "            <tr>\n",
       "                                <td id=\"T_33a2e_row26_col0\" class=\"data row26 col0\" >Joe</td>\n",
       "                        <td id=\"T_33a2e_row26_col1\" class=\"data row26 col1\" >9</td>\n",
       "            </tr>\n",
       "            <tr>\n",
       "                                <td id=\"T_33a2e_row27_col0\" class=\"data row27 col0\" >Joel Coehoorn</td>\n",
       "                        <td id=\"T_33a2e_row27_col1\" class=\"data row27 col1\" >1</td>\n",
       "            </tr>\n",
       "            <tr>\n",
       "                                <td id=\"T_33a2e_row28_col0\" class=\"data row28 col0\" >Johannes Schaub - litb</td>\n",
       "                        <td id=\"T_33a2e_row28_col1\" class=\"data row28 col1\" >1</td>\n",
       "            </tr>\n",
       "            <tr>\n",
       "                                <td id=\"T_33a2e_row29_col0\" class=\"data row29 col0\" >John Millikin</td>\n",
       "                        <td id=\"T_33a2e_row29_col1\" class=\"data row29 col1\" >1</td>\n",
       "            </tr>\n",
       "            <tr>\n",
       "                                <td id=\"T_33a2e_row30_col0\" class=\"data row30 col0\" >Jon Limjap</td>\n",
       "                        <td id=\"T_33a2e_row30_col1\" class=\"data row30 col1\" >1</td>\n",
       "            </tr>\n",
       "            <tr>\n",
       "                                <td id=\"T_33a2e_row31_col0\" class=\"data row31 col0\" >Jon Skeet</td>\n",
       "                        <td id=\"T_33a2e_row31_col1\" class=\"data row31 col1\" >1</td>\n",
       "            </tr>\n",
       "            <tr>\n",
       "                                <td id=\"T_33a2e_row32_col0\" class=\"data row32 col0\" >Jorge Ferreira</td>\n",
       "                        <td id=\"T_33a2e_row32_col1\" class=\"data row32 col1\" >1</td>\n",
       "            </tr>\n",
       "            <tr>\n",
       "                                <td id=\"T_33a2e_row33_col0\" class=\"data row33 col0\" >Josh</td>\n",
       "                        <td id=\"T_33a2e_row33_col1\" class=\"data row33 col1\" >16</td>\n",
       "            </tr>\n",
       "            <tr>\n",
       "                                <td id=\"T_33a2e_row34_col0\" class=\"data row34 col0\" >Keith</td>\n",
       "                        <td id=\"T_33a2e_row34_col1\" class=\"data row34 col1\" >5</td>\n",
       "            </tr>\n",
       "            <tr>\n",
       "                                <td id=\"T_33a2e_row35_col0\" class=\"data row35 col0\" >Kevin</td>\n",
       "                        <td id=\"T_33a2e_row35_col1\" class=\"data row35 col1\" >11</td>\n",
       "            </tr>\n",
       "            <tr>\n",
       "                                <td id=\"T_33a2e_row36_col0\" class=\"data row36 col0\" >Kibbee</td>\n",
       "                        <td id=\"T_33a2e_row36_col1\" class=\"data row36 col1\" >1</td>\n",
       "            </tr>\n",
       "            <tr>\n",
       "                                <td id=\"T_33a2e_row37_col0\" class=\"data row37 col0\" >Konrad Rudolph</td>\n",
       "                        <td id=\"T_33a2e_row37_col1\" class=\"data row37 col1\" >1</td>\n",
       "            </tr>\n",
       "            <tr>\n",
       "                                <td id=\"T_33a2e_row38_col0\" class=\"data row38 col0\" >Lasse Vågsæther Karlsen</td>\n",
       "                        <td id=\"T_33a2e_row38_col1\" class=\"data row38 col1\" >1</td>\n",
       "            </tr>\n",
       "            <tr>\n",
       "                                <td id=\"T_33a2e_row39_col0\" class=\"data row39 col0\" >Lou Franco</td>\n",
       "                        <td id=\"T_33a2e_row39_col1\" class=\"data row39 col1\" >1</td>\n",
       "            </tr>\n",
       "            <tr>\n",
       "                                <td id=\"T_33a2e_row40_col0\" class=\"data row40 col0\" >Marc Gravell</td>\n",
       "                        <td id=\"T_33a2e_row40_col1\" class=\"data row40 col1\" >1</td>\n",
       "            </tr>\n",
       "            <tr>\n",
       "                                <td id=\"T_33a2e_row41_col0\" class=\"data row41 col0\" >Mark</td>\n",
       "                        <td id=\"T_33a2e_row41_col1\" class=\"data row41 col1\" >17</td>\n",
       "            </tr>\n",
       "            <tr>\n",
       "                                <td id=\"T_33a2e_row42_col0\" class=\"data row42 col0\" >Mark Cidade</td>\n",
       "                        <td id=\"T_33a2e_row42_col1\" class=\"data row42 col1\" >1</td>\n",
       "            </tr>\n",
       "            <tr>\n",
       "                                <td id=\"T_33a2e_row43_col0\" class=\"data row43 col0\" >Mark Harrison</td>\n",
       "                        <td id=\"T_33a2e_row43_col1\" class=\"data row43 col1\" >1</td>\n",
       "            </tr>\n",
       "            <tr>\n",
       "                                <td id=\"T_33a2e_row44_col0\" class=\"data row44 col0\" >Martin v. Löwis</td>\n",
       "                        <td id=\"T_33a2e_row44_col1\" class=\"data row44 col1\" >1</td>\n",
       "            </tr>\n",
       "            <tr>\n",
       "                                <td id=\"T_33a2e_row45_col0\" class=\"data row45 col0\" >Matt</td>\n",
       "                        <td id=\"T_33a2e_row45_col1\" class=\"data row45 col1\" >29</td>\n",
       "            </tr>\n",
       "            <tr>\n",
       "                                <td id=\"T_33a2e_row46_col0\" class=\"data row46 col0\" >Matt Hamilton</td>\n",
       "                        <td id=\"T_33a2e_row46_col1\" class=\"data row46 col1\" >1</td>\n",
       "            </tr>\n",
       "            <tr>\n",
       "                                <td id=\"T_33a2e_row47_col0\" class=\"data row47 col0\" >Michael Burr</td>\n",
       "                        <td id=\"T_33a2e_row47_col1\" class=\"data row47 col1\" >1</td>\n",
       "            </tr>\n",
       "            <tr>\n",
       "                                <td id=\"T_33a2e_row48_col0\" class=\"data row48 col0\" >Michael Stum</td>\n",
       "                        <td id=\"T_33a2e_row48_col1\" class=\"data row48 col1\" >1</td>\n",
       "            </tr>\n",
       "            <tr>\n",
       "                                <td id=\"T_33a2e_row49_col0\" class=\"data row49 col0\" >Mitchel Sellers</td>\n",
       "                        <td id=\"T_33a2e_row49_col1\" class=\"data row49 col1\" >1</td>\n",
       "            </tr>\n",
       "            <tr>\n",
       "                                <td id=\"T_33a2e_row50_col0\" class=\"data row50 col0\" >Nick</td>\n",
       "                        <td id=\"T_33a2e_row50_col1\" class=\"data row50 col1\" >16</td>\n",
       "            </tr>\n",
       "            <tr>\n",
       "                                <td id=\"T_33a2e_row51_col0\" class=\"data row51 col0\" >Norman Ramsey</td>\n",
       "                        <td id=\"T_33a2e_row51_col1\" class=\"data row51 col1\" >1</td>\n",
       "            </tr>\n",
       "            <tr>\n",
       "                                <td id=\"T_33a2e_row52_col0\" class=\"data row52 col0\" >Oli</td>\n",
       "                        <td id=\"T_33a2e_row52_col1\" class=\"data row52 col1\" >3</td>\n",
       "            </tr>\n",
       "            <tr>\n",
       "                                <td id=\"T_33a2e_row53_col0\" class=\"data row53 col0\" >Orion Edwards</td>\n",
       "                        <td id=\"T_33a2e_row53_col1\" class=\"data row53 col1\" >1</td>\n",
       "            </tr>\n",
       "            <tr>\n",
       "                                <td id=\"T_33a2e_row54_col0\" class=\"data row54 col0\" >Paul Nathan</td>\n",
       "                        <td id=\"T_33a2e_row54_col1\" class=\"data row54 col1\" >1</td>\n",
       "            </tr>\n",
       "            <tr>\n",
       "                                <td id=\"T_33a2e_row55_col0\" class=\"data row55 col0\" >PhiLho</td>\n",
       "                        <td id=\"T_33a2e_row55_col1\" class=\"data row55 col1\" >1</td>\n",
       "            </tr>\n",
       "            <tr>\n",
       "                                <td id=\"T_33a2e_row56_col0\" class=\"data row56 col0\" >Rob</td>\n",
       "                        <td id=\"T_33a2e_row56_col1\" class=\"data row56 col1\" >15</td>\n",
       "            </tr>\n",
       "            <tr>\n",
       "                                <td id=\"T_33a2e_row57_col0\" class=\"data row57 col0\" >Rob Cooper</td>\n",
       "                        <td id=\"T_33a2e_row57_col1\" class=\"data row57 col1\" >1</td>\n",
       "            </tr>\n",
       "            <tr>\n",
       "                                <td id=\"T_33a2e_row58_col0\" class=\"data row58 col0\" >Rob Walker</td>\n",
       "                        <td id=\"T_33a2e_row58_col1\" class=\"data row58 col1\" >1</td>\n",
       "            </tr>\n",
       "            <tr>\n",
       "                                <td id=\"T_33a2e_row59_col0\" class=\"data row59 col0\" >Ryan</td>\n",
       "                        <td id=\"T_33a2e_row59_col1\" class=\"data row59 col1\" >10</td>\n",
       "            </tr>\n",
       "            <tr>\n",
       "                                <td id=\"T_33a2e_row60_col0\" class=\"data row60 col0\" >S.Lott</td>\n",
       "                        <td id=\"T_33a2e_row60_col1\" class=\"data row60 col1\" >1</td>\n",
       "            </tr>\n",
       "            <tr>\n",
       "                                <td id=\"T_33a2e_row61_col0\" class=\"data row61 col0\" >Sklivvz</td>\n",
       "                        <td id=\"T_33a2e_row61_col1\" class=\"data row61 col1\" >1</td>\n",
       "            </tr>\n",
       "            <tr>\n",
       "                                <td id=\"T_33a2e_row62_col0\" class=\"data row62 col0\" >Steven A. Lowe</td>\n",
       "                        <td id=\"T_33a2e_row62_col1\" class=\"data row62 col1\" >1</td>\n",
       "            </tr>\n",
       "            <tr>\n",
       "                                <td id=\"T_33a2e_row63_col0\" class=\"data row63 col0\" >TheSmurf</td>\n",
       "                        <td id=\"T_33a2e_row63_col1\" class=\"data row63 col1\" >1</td>\n",
       "            </tr>\n",
       "            <tr>\n",
       "                                <td id=\"T_33a2e_row64_col0\" class=\"data row64 col0\" >Tom</td>\n",
       "                        <td id=\"T_33a2e_row64_col1\" class=\"data row64 col1\" >19</td>\n",
       "            </tr>\n",
       "            <tr>\n",
       "                                <td id=\"T_33a2e_row65_col0\" class=\"data row65 col0\" >Vilx-</td>\n",
       "                        <td id=\"T_33a2e_row65_col1\" class=\"data row65 col1\" >1</td>\n",
       "            </tr>\n",
       "            <tr>\n",
       "                                <td id=\"T_33a2e_row66_col0\" class=\"data row66 col0\" >Vinko Vrsalovic</td>\n",
       "                        <td id=\"T_33a2e_row66_col1\" class=\"data row66 col1\" >1</td>\n",
       "            </tr>\n",
       "            <tr>\n",
       "                                <td id=\"T_33a2e_row67_col0\" class=\"data row67 col0\" >aku</td>\n",
       "                        <td id=\"T_33a2e_row67_col1\" class=\"data row67 col1\" >1</td>\n",
       "            </tr>\n",
       "            <tr>\n",
       "                                <td id=\"T_33a2e_row68_col0\" class=\"data row68 col0\" >anjanb</td>\n",
       "                        <td id=\"T_33a2e_row68_col1\" class=\"data row68 col1\" >1</td>\n",
       "            </tr>\n",
       "            <tr>\n",
       "                                <td id=\"T_33a2e_row69_col0\" class=\"data row69 col0\" >dkretz</td>\n",
       "                        <td id=\"T_33a2e_row69_col1\" class=\"data row69 col1\" >1</td>\n",
       "            </tr>\n",
       "            <tr>\n",
       "                                <td id=\"T_33a2e_row70_col0\" class=\"data row70 col0\" >frankodwyer</td>\n",
       "                        <td id=\"T_33a2e_row70_col1\" class=\"data row70 col1\" >1</td>\n",
       "            </tr>\n",
       "            <tr>\n",
       "                                <td id=\"T_33a2e_row71_col0\" class=\"data row71 col0\" >gbjbaanb</td>\n",
       "                        <td id=\"T_33a2e_row71_col1\" class=\"data row71 col1\" >1</td>\n",
       "            </tr>\n",
       "            <tr>\n",
       "                                <td id=\"T_33a2e_row72_col0\" class=\"data row72 col0\" >jfs</td>\n",
       "                        <td id=\"T_33a2e_row72_col1\" class=\"data row72 col1\" >3</td>\n",
       "            </tr>\n",
       "            <tr>\n",
       "                                <td id=\"T_33a2e_row73_col0\" class=\"data row73 col0\" >leppie</td>\n",
       "                        <td id=\"T_33a2e_row73_col1\" class=\"data row73 col1\" >1</td>\n",
       "            </tr>\n",
       "            <tr>\n",
       "                                <td id=\"T_33a2e_row74_col0\" class=\"data row74 col0\" >lomaxx</td>\n",
       "                        <td id=\"T_33a2e_row74_col1\" class=\"data row74 col1\" >1</td>\n",
       "            </tr>\n",
       "            <tr>\n",
       "                                <td id=\"T_33a2e_row75_col0\" class=\"data row75 col0\" >mattlant</td>\n",
       "                        <td id=\"T_33a2e_row75_col1\" class=\"data row75 col1\" >1</td>\n",
       "            </tr>\n",
       "            <tr>\n",
       "                                <td id=\"T_33a2e_row76_col0\" class=\"data row76 col0\" >paxdiablo</td>\n",
       "                        <td id=\"T_33a2e_row76_col1\" class=\"data row76 col1\" >1</td>\n",
       "            </tr>\n",
       "            <tr>\n",
       "                                <td id=\"T_33a2e_row77_col0\" class=\"data row77 col0\" >tvanfosson</td>\n",
       "                        <td id=\"T_33a2e_row77_col1\" class=\"data row77 col1\" >1</td>\n",
       "            </tr>\n",
       "            <tr>\n",
       "                                <td id=\"T_33a2e_row78_col0\" class=\"data row78 col0\" >tzot</td>\n",
       "                        <td id=\"T_33a2e_row78_col1\" class=\"data row78 col1\" >1</td>\n",
       "            </tr>\n",
       "    </tbody></table>"
      ],
      "text/plain": [
       "<pandas.io.formats.style.Styler at 0x7f77b025e490>"
      ]
     },
     "execution_count": 9,
     "metadata": {},
     "output_type": "execute_result"
    }
   ],
   "source": [
    "df.style.hide_index()"
   ]
  },
  {
   "cell_type": "markdown",
   "metadata": {
    "id": "YIqqc-7HDWKt"
   },
   "source": [
    "<details>\n",
    "\n",
    "<summary>Подсказка</summary>\n",
    "Вам нужно присоединить несколько таблиц — изучите внимательнее описание базы. Чтобы добавить промежуток времени к дате, используйте ключевое слово INTERVAL, например, так: <дата> + INTERVAL '1 year 2 months 3 days'\n",
    ".</details>"
   ]
  },
  {
   "cell_type": "markdown",
   "metadata": {
    "id": "I3Wr82TplKpI"
   },
   "source": [
    "Какие аномалии наблюдаются в данных? О чём они говорят?\n"
   ]
  },
  {
   "cell_type": "code",
   "execution_count": 10,
   "metadata": {
    "id": "CEIGGQ6ODWKy"
   },
   "outputs": [],
   "source": [
    "# напишите ваш ответ здесь"
   ]
  },
  {
   "cell_type": "markdown",
   "metadata": {},
   "source": [
    "Мы вимим, что имена пользователей не уникальны (например, Alan повторятеся 8 раз, а Brian -15), несмотря на то, что отбирались уникальные user_id."
   ]
  },
  {
   "cell_type": "markdown",
   "metadata": {
    "id": "JhM2xXj5DWKu"
   },
   "source": [
    "# Задание 3"
   ]
  },
  {
   "cell_type": "markdown",
   "metadata": {
    "id": "IS6xPqyyDWKu"
   },
   "source": [
    "Выведите количество постов за 2008 год по месяцам. Отберите посты от пользователей, которые зарегистрировались в сентябре 2008 года и сделали хотя бы один пост в декабре того же года. Отсортируйте таблицу по значению месяца по убыванию."
   ]
  },
  {
   "cell_type": "markdown",
   "metadata": {
    "id": "WmjhjV2xDWKv"
   },
   "source": [
    "| month | count |\n",
    "| ------|------ |\n",
    "| 2008-12-01 | 17641 |\n",
    "| 2008-11-01 | 18294 |\n",
    "| ... | ... |"
   ]
  },
  {
   "cell_type": "code",
   "execution_count": 11,
   "metadata": {
    "id": "kVu0FB8WDWKv"
   },
   "outputs": [],
   "source": [
    "# напишите запрос\n",
    "query = '''\n",
    "WITH users AS\n",
    "(\n",
    "SELECT u.id\n",
    "FROM stackoverflow.posts AS p\n",
    "JOIN stackoverflow.users AS u \n",
    "ON p.user_id=u.id\n",
    "WHERE (u.creation_date::date BETWEEN '2008-09-01' AND '2008-09-30')\n",
    "AND (p.creation_date::date BETWEEN '2008-12-01' AND '2008-12-31')\n",
    "GROUP BY u.id\n",
    ")\n",
    "\n",
    "SELECT DATE_TRUNC('month', p.creation_date)::date AS month,\n",
    "       COUNT(p.id)\n",
    "FROM stackoverflow.posts AS p\n",
    "WHERE p.user_id IN \n",
    "(\n",
    "SELECT *\n",
    "FROM users\n",
    ")\n",
    "GROUP BY DATE_TRUNC('month', p.creation_date)::date\n",
    "ORDER BY DATE_TRUNC('month', p.creation_date)::date DESC;\n",
    "'''\n",
    "\n",
    "# выполните запрос\n",
    "df = pd.read_sql_query(query, con=engine)"
   ]
  },
  {
   "cell_type": "code",
   "execution_count": 12,
   "metadata": {},
   "outputs": [
    {
     "data": {
      "text/html": [
       "<div>\n",
       "<style scoped>\n",
       "    .dataframe tbody tr th:only-of-type {\n",
       "        vertical-align: middle;\n",
       "    }\n",
       "\n",
       "    .dataframe tbody tr th {\n",
       "        vertical-align: top;\n",
       "    }\n",
       "\n",
       "    .dataframe thead th {\n",
       "        text-align: right;\n",
       "    }\n",
       "</style>\n",
       "<table border=\"1\" class=\"dataframe\">\n",
       "  <thead>\n",
       "    <tr style=\"text-align: right;\">\n",
       "      <th></th>\n",
       "      <th>month</th>\n",
       "      <th>count</th>\n",
       "    </tr>\n",
       "  </thead>\n",
       "  <tbody>\n",
       "    <tr>\n",
       "      <th>0</th>\n",
       "      <td>2008-12-01</td>\n",
       "      <td>17641</td>\n",
       "    </tr>\n",
       "    <tr>\n",
       "      <th>1</th>\n",
       "      <td>2008-11-01</td>\n",
       "      <td>18294</td>\n",
       "    </tr>\n",
       "    <tr>\n",
       "      <th>2</th>\n",
       "      <td>2008-10-01</td>\n",
       "      <td>27171</td>\n",
       "    </tr>\n",
       "    <tr>\n",
       "      <th>3</th>\n",
       "      <td>2008-09-01</td>\n",
       "      <td>24870</td>\n",
       "    </tr>\n",
       "    <tr>\n",
       "      <th>4</th>\n",
       "      <td>2008-08-01</td>\n",
       "      <td>32</td>\n",
       "    </tr>\n",
       "  </tbody>\n",
       "</table>\n",
       "</div>"
      ],
      "text/plain": [
       "        month  count\n",
       "0  2008-12-01  17641\n",
       "1  2008-11-01  18294\n",
       "2  2008-10-01  27171\n",
       "3  2008-09-01  24870\n",
       "4  2008-08-01     32"
      ]
     },
     "execution_count": 12,
     "metadata": {},
     "output_type": "execute_result"
    }
   ],
   "source": [
    "df"
   ]
  },
  {
   "cell_type": "markdown",
   "metadata": {
    "id": "nWf0JsTMDWKx"
   },
   "source": [
    "<details>\n",
    "\n",
    "<summary>Подсказка</summary>\n",
    "Сначала найдите идентификаторы пользователей, которые зарегистрировались в сентябре 2008 года и оставили хотя бы один пост в декабре. Затем используйте результат для среза и посчитайте посты по месяцам.</details>"
   ]
  },
  {
   "cell_type": "markdown",
   "metadata": {
    "id": "Vnxn9DVHDWKx"
   },
   "source": [
    "Изучите данные: есть ли в них аномалии? Предположите, почему могли появиться аномальные значения."
   ]
  },
  {
   "cell_type": "code",
   "execution_count": 13,
   "metadata": {
    "id": "MMVIz4yMlKpN"
   },
   "outputs": [],
   "source": [
    "# напишите ваш ответ здесь"
   ]
  },
  {
   "cell_type": "markdown",
   "metadata": {},
   "source": [
    "Аномалия есть в последней строке таблицы - указано, что в августе размещено 32 поста, что странно, так как мы отбирали по условию пользователей, которые только зарегистрировались в сентябре.  Возможно, причина ошибки или в техническом сбое или в том,что дату поста правили вручную."
   ]
  },
  {
   "cell_type": "markdown",
   "metadata": {
    "id": "5Pcizm0DDWKz"
   },
   "source": [
    "# Задание 4"
   ]
  },
  {
   "cell_type": "markdown",
   "metadata": {
    "id": "KUZPF6vHDWKz"
   },
   "source": [
    "Используя данные о постах, выведите несколько полей:\n",
    "\n",
    "- идентификатор пользователя, который написал пост;\n",
    "- дата создания поста;\n",
    "- количество просмотров у текущего поста;\n",
    "- сумму просмотров постов автора с накоплением.\n",
    "\n",
    "Данные в таблице должны быть отсортированы по возрастанию идентификаторов пользователей, а данные об одном и том же пользователе — по возрастанию даты создания поста."
   ]
  },
  {
   "cell_type": "markdown",
   "metadata": {
    "id": "ZpsTUVDYDWK0"
   },
   "source": [
    "| user_id | creation_date | views_count | cumulative_count |\n",
    "| ------ | -------------- | ----------- | ---------------- |\n",
    "| 1 | 2008-07-31 23:41:00  | 480476   | 480476  |\n",
    "| 1 | 2008-07-31 23:55:38  | 136033 | 616509  | \n",
    "| 1 | 2008-07-31 23:56:41  | 0 |  616509  |\n",
    "| ... | ... | ... | ... |\n",
    "| 2 | 2008-07-31 23:56:41 | 79087  | 79087 |\n",
    "| 2 | 2008-08-01 05:09:56 | 65443 | 144530 |\n",
    "| ... | ...  | ...  | ...  |"
   ]
  },
  {
   "cell_type": "code",
   "execution_count": 14,
   "metadata": {
    "id": "hDoJhMzfDWK0"
   },
   "outputs": [],
   "source": [
    "# напишите запрос\n",
    "query = '''\n",
    "SELECT user_id, creation_date, views_count,\n",
    "       SUM (views_count) OVER (PARTITION BY user_id ORDER BY creation_date) AS sum\n",
    "FROM stackoverflow.posts\n",
    "ORDER BY user_id, creation_date;\n",
    "'''\n",
    "\n",
    "# выполните запрос\n",
    "df = pd.read_sql_query(query, con=engine)"
   ]
  },
  {
   "cell_type": "code",
   "execution_count": 15,
   "metadata": {},
   "outputs": [
    {
     "data": {
      "text/html": [
       "<div>\n",
       "<style scoped>\n",
       "    .dataframe tbody tr th:only-of-type {\n",
       "        vertical-align: middle;\n",
       "    }\n",
       "\n",
       "    .dataframe tbody tr th {\n",
       "        vertical-align: top;\n",
       "    }\n",
       "\n",
       "    .dataframe thead th {\n",
       "        text-align: right;\n",
       "    }\n",
       "</style>\n",
       "<table border=\"1\" class=\"dataframe\">\n",
       "  <thead>\n",
       "    <tr style=\"text-align: right;\">\n",
       "      <th></th>\n",
       "      <th>user_id</th>\n",
       "      <th>creation_date</th>\n",
       "      <th>views_count</th>\n",
       "      <th>sum</th>\n",
       "    </tr>\n",
       "  </thead>\n",
       "  <tbody>\n",
       "    <tr>\n",
       "      <th>0</th>\n",
       "      <td>1</td>\n",
       "      <td>2008-07-31 23:41:00</td>\n",
       "      <td>480476</td>\n",
       "      <td>480476</td>\n",
       "    </tr>\n",
       "    <tr>\n",
       "      <th>1</th>\n",
       "      <td>1</td>\n",
       "      <td>2008-07-31 23:55:38</td>\n",
       "      <td>136033</td>\n",
       "      <td>616509</td>\n",
       "    </tr>\n",
       "    <tr>\n",
       "      <th>2</th>\n",
       "      <td>1</td>\n",
       "      <td>2008-07-31 23:56:41</td>\n",
       "      <td>0</td>\n",
       "      <td>616509</td>\n",
       "    </tr>\n",
       "    <tr>\n",
       "      <th>3</th>\n",
       "      <td>1</td>\n",
       "      <td>2008-08-04 02:45:08</td>\n",
       "      <td>0</td>\n",
       "      <td>616509</td>\n",
       "    </tr>\n",
       "    <tr>\n",
       "      <th>4</th>\n",
       "      <td>1</td>\n",
       "      <td>2008-08-04 04:31:03</td>\n",
       "      <td>0</td>\n",
       "      <td>616509</td>\n",
       "    </tr>\n",
       "    <tr>\n",
       "      <th>...</th>\n",
       "      <td>...</td>\n",
       "      <td>...</td>\n",
       "      <td>...</td>\n",
       "      <td>...</td>\n",
       "    </tr>\n",
       "    <tr>\n",
       "      <th>243791</th>\n",
       "      <td>5696608</td>\n",
       "      <td>2008-12-23 16:00:37</td>\n",
       "      <td>0</td>\n",
       "      <td>2804</td>\n",
       "    </tr>\n",
       "    <tr>\n",
       "      <th>243792</th>\n",
       "      <td>5696608</td>\n",
       "      <td>2008-12-23 17:35:09</td>\n",
       "      <td>0</td>\n",
       "      <td>2804</td>\n",
       "    </tr>\n",
       "    <tr>\n",
       "      <th>243793</th>\n",
       "      <td>5696608</td>\n",
       "      <td>2008-12-24 01:02:48</td>\n",
       "      <td>0</td>\n",
       "      <td>2804</td>\n",
       "    </tr>\n",
       "    <tr>\n",
       "      <th>243794</th>\n",
       "      <td>5696608</td>\n",
       "      <td>2008-12-30 14:34:45</td>\n",
       "      <td>0</td>\n",
       "      <td>2804</td>\n",
       "    </tr>\n",
       "    <tr>\n",
       "      <th>243795</th>\n",
       "      <td>5696608</td>\n",
       "      <td>2008-12-30 16:32:12</td>\n",
       "      <td>0</td>\n",
       "      <td>2804</td>\n",
       "    </tr>\n",
       "  </tbody>\n",
       "</table>\n",
       "<p>243796 rows × 4 columns</p>\n",
       "</div>"
      ],
      "text/plain": [
       "        user_id       creation_date  views_count     sum\n",
       "0             1 2008-07-31 23:41:00       480476  480476\n",
       "1             1 2008-07-31 23:55:38       136033  616509\n",
       "2             1 2008-07-31 23:56:41            0  616509\n",
       "3             1 2008-08-04 02:45:08            0  616509\n",
       "4             1 2008-08-04 04:31:03            0  616509\n",
       "...         ...                 ...          ...     ...\n",
       "243791  5696608 2008-12-23 16:00:37            0    2804\n",
       "243792  5696608 2008-12-23 17:35:09            0    2804\n",
       "243793  5696608 2008-12-24 01:02:48            0    2804\n",
       "243794  5696608 2008-12-30 14:34:45            0    2804\n",
       "243795  5696608 2008-12-30 16:32:12            0    2804\n",
       "\n",
       "[243796 rows x 4 columns]"
      ]
     },
     "execution_count": 15,
     "metadata": {},
     "output_type": "execute_result"
    }
   ],
   "source": [
    "df"
   ]
  },
  {
   "cell_type": "markdown",
   "metadata": {
    "id": "toidOivXDWK1"
   },
   "source": [
    "<details>\n",
    "\n",
    "<summary>Подсказка</summary>\n",
    "Для подсчёта суммы с накоплением используйте оконную функцию.\n",
    "</details>"
   ]
  },
  {
   "cell_type": "markdown",
   "metadata": {
    "id": "N0kHRHvIDWK2"
   },
   "source": [
    "# Задание 5"
   ]
  },
  {
   "cell_type": "markdown",
   "metadata": {
    "id": "gBgvmPtODWK2"
   },
   "source": [
    "Найдите среднее количество постов пользователей в день за август 2008 года. Отберите данные о пользователях, которые опубликовали больше 120 постов за август. Дни без публикаций не учитывайте. \n",
    "\n",
    "Отсортируйте результат по возрастанию среднего количества постов. Значения можно не округлять."
   ]
  },
  {
   "cell_type": "markdown",
   "metadata": {
    "id": "nfzR08BODWK3"
   },
   "source": [
    "| user_id | avg_daily |\n",
    "| ------- | --------- |\n",
    "| 116     | 4.777778  |\n",
    "| 234     | 5.208333  |\n",
    "| ...     | ... |"
   ]
  },
  {
   "cell_type": "code",
   "execution_count": 16,
   "metadata": {
    "id": "YFyPNz5GDWK3"
   },
   "outputs": [],
   "source": [
    "# напишите запрос\n",
    "query = '''\n",
    "WITH base AS\n",
    "(\n",
    "SELECT user_id,\n",
    "       DATE_TRUNC('day', creation_date)::date,\n",
    "       COUNT(id) AS posts_number\n",
    "FROM stackoverflow.posts\n",
    "WHERE user_id IN\n",
    "    (\n",
    "    SELECT user_id\n",
    "    FROM stackoverflow.posts\n",
    "    WHERE creation_date::date BETWEEN '2008-08-01' AND '2008-08-31'\n",
    "    GROUP BY user_id\n",
    "    HAVING COUNT(id) > 120\n",
    "    )\n",
    "GROUP BY user_id, DATE_TRUNC('day', creation_date)::date\n",
    ")\n",
    "SELECT base.user_id,\n",
    "       AVG(base.posts_number) AS avg_daily\n",
    "FROM base\n",
    "WHERE DATE_TRUNC('month', base.date_trunc)::date = '2008-08-01'\n",
    "GROUP BY base.user_id\n",
    "ORDER BY avg_daily;\n",
    "'''\n",
    "\n",
    "# выполните запрос\n",
    "df = pd.read_sql_query(query, con=engine)"
   ]
  },
  {
   "cell_type": "code",
   "execution_count": 17,
   "metadata": {},
   "outputs": [
    {
     "data": {
      "text/html": [
       "<div>\n",
       "<style scoped>\n",
       "    .dataframe tbody tr th:only-of-type {\n",
       "        vertical-align: middle;\n",
       "    }\n",
       "\n",
       "    .dataframe tbody tr th {\n",
       "        vertical-align: top;\n",
       "    }\n",
       "\n",
       "    .dataframe thead th {\n",
       "        text-align: right;\n",
       "    }\n",
       "</style>\n",
       "<table border=\"1\" class=\"dataframe\">\n",
       "  <thead>\n",
       "    <tr style=\"text-align: right;\">\n",
       "      <th></th>\n",
       "      <th>user_id</th>\n",
       "      <th>avg_daily</th>\n",
       "    </tr>\n",
       "  </thead>\n",
       "  <tbody>\n",
       "    <tr>\n",
       "      <th>0</th>\n",
       "      <td>116</td>\n",
       "      <td>4.777778</td>\n",
       "    </tr>\n",
       "    <tr>\n",
       "      <th>1</th>\n",
       "      <td>234</td>\n",
       "      <td>5.208333</td>\n",
       "    </tr>\n",
       "    <tr>\n",
       "      <th>2</th>\n",
       "      <td>91</td>\n",
       "      <td>5.681818</td>\n",
       "    </tr>\n",
       "    <tr>\n",
       "      <th>3</th>\n",
       "      <td>905</td>\n",
       "      <td>7.000000</td>\n",
       "    </tr>\n",
       "    <tr>\n",
       "      <th>4</th>\n",
       "      <td>383</td>\n",
       "      <td>7.277778</td>\n",
       "    </tr>\n",
       "  </tbody>\n",
       "</table>\n",
       "</div>"
      ],
      "text/plain": [
       "   user_id  avg_daily\n",
       "0      116   4.777778\n",
       "1      234   5.208333\n",
       "2       91   5.681818\n",
       "3      905   7.000000\n",
       "4      383   7.277778"
      ]
     },
     "execution_count": 17,
     "metadata": {},
     "output_type": "execute_result"
    }
   ],
   "source": [
    "df"
   ]
  },
  {
   "cell_type": "markdown",
   "metadata": {
    "id": "5Gs8kiJvDWK4"
   },
   "source": [
    "\n",
    "<details>\n",
    "\n",
    "<summary>Подсказка</summary>\n",
    "Сначала найдите идентификаторы пользователей, которые написали более 120 постов за август. Используя этот запрос в качестве подзапроса для среза, найдите и сохраните во временную таблицу идентификаторы нужных пользователей, дни августа и количество постов в день. В основном запросе сгруппируйте данные по пользователям и найдите для каждого из них среднее количество постов.\n",
    "</details>"
   ]
  },
  {
   "cell_type": "markdown",
   "metadata": {
    "id": "EQ0dcFH4DWK5"
   },
   "source": [
    "# Задание 6"
   ]
  },
  {
   "cell_type": "markdown",
   "metadata": {
    "id": "c7flfg_hDWK5"
   },
   "source": [
    "Сколько в среднем дней в период с 1 по 7 декабря 2008 года пользователи взаимодействовали с платформой? Для каждого пользователя отберите дни, в которые он или она опубликовали хотя бы один пост. Нужно получить одно целое число — не забудьте округлить результат. "
   ]
  },
  {
   "cell_type": "markdown",
   "metadata": {
    "id": "RC1Ibzm9DWK6"
   },
   "source": [
    "| result |\n",
    "| -----  |\n",
    "| <целое число> |"
   ]
  },
  {
   "cell_type": "code",
   "execution_count": 18,
   "metadata": {
    "id": "kZ7LXTr6DWK6"
   },
   "outputs": [],
   "source": [
    "# напишите запрос\n",
    "query = '''\n",
    "WITH base AS\n",
    "(\n",
    "SELECT user_id,\n",
    "       COUNT(DISTINCT DATE_TRUNC('day', creation_date)::date)\n",
    "FROM stackoverflow.posts\n",
    "WHERE creation_date::date BETWEEN '2008-12-01' AND '2008-12-07'\n",
    "GROUP BY user_id\n",
    ")\n",
    "SELECT ROUND(AVG(count))::int AS result\n",
    "FROM base;\n",
    "\n",
    "'''\n",
    "\n",
    "# выполните запрос\n",
    "df = pd.read_sql_query(query, con=engine)"
   ]
  },
  {
   "cell_type": "code",
   "execution_count": 19,
   "metadata": {},
   "outputs": [
    {
     "data": {
      "text/html": [
       "<div>\n",
       "<style scoped>\n",
       "    .dataframe tbody tr th:only-of-type {\n",
       "        vertical-align: middle;\n",
       "    }\n",
       "\n",
       "    .dataframe tbody tr th {\n",
       "        vertical-align: top;\n",
       "    }\n",
       "\n",
       "    .dataframe thead th {\n",
       "        text-align: right;\n",
       "    }\n",
       "</style>\n",
       "<table border=\"1\" class=\"dataframe\">\n",
       "  <thead>\n",
       "    <tr style=\"text-align: right;\">\n",
       "      <th></th>\n",
       "      <th>result</th>\n",
       "    </tr>\n",
       "  </thead>\n",
       "  <tbody>\n",
       "    <tr>\n",
       "      <th>0</th>\n",
       "      <td>2</td>\n",
       "    </tr>\n",
       "  </tbody>\n",
       "</table>\n",
       "</div>"
      ],
      "text/plain": [
       "   result\n",
       "0       2"
      ]
     },
     "execution_count": 19,
     "metadata": {},
     "output_type": "execute_result"
    }
   ],
   "source": [
    "df"
   ]
  },
  {
   "cell_type": "markdown",
   "metadata": {
    "id": "2K5G3xuBDWK7"
   },
   "source": [
    "<details>\n",
    "\n",
    "<summary>Подсказка</summary>\n",
    "Посчитайте, сколько активных дней было у каждого пользователя. Добавьте данные во временную таблицу и используйте в основном запросе.\n",
    "</details>"
   ]
  },
  {
   "cell_type": "markdown",
   "metadata": {
    "id": "UJFtNNggDWK7"
   },
   "source": [
    "Проанализируйте итоговую таблицу — какие выводы можно сделать?"
   ]
  },
  {
   "cell_type": "code",
   "execution_count": 20,
   "metadata": {
    "id": "LfUuYz-1DWK8"
   },
   "outputs": [],
   "source": [
    "# напишите ваш ответ здесь"
   ]
  },
  {
   "cell_type": "markdown",
   "metadata": {},
   "source": [
    "За период с 1 по 7 декабря 2008 пользователи в среднем взаимодействовали в платформой 2 дня."
   ]
  },
  {
   "cell_type": "markdown",
   "metadata": {
    "id": "wfOmqmfLDWK8"
   },
   "source": [
    "# Задание 7"
   ]
  },
  {
   "cell_type": "markdown",
   "metadata": {
    "id": "X4ARQimADWK9"
   },
   "source": [
    "Выведите историю активности каждого пользователя в таком виде: идентификатор пользователя, дата публикации поста. Отсортируйте вывод по возрастанию идентификаторов пользователей, а для каждого пользователя — по возрастанию даты публикации.\n",
    "\n",
    "Добавьте в таблицу новое поле: для каждого поста в нём будет указано название месяца предпоследней публикации пользователя относительно текущей. Если такой публикации нет, укажите `NULL`.  Python автоматически поменяет `NULL` на `None`, но дополнительно преобразовывать значения `None` вам не нужно.\n",
    "\n",
    "Посмотрите внимательно на образец таблицы: для первых двух постов предпоследней публикации нет, но, начиная с третьего поста, в новое поле входит нужный месяц. Для следующего пользователя в первые две записи поля `second_last_month` тоже войдёт `NULL`."
   ]
  },
  {
   "cell_type": "markdown",
   "metadata": {
    "id": "IGPjRP01DWK9"
   },
   "source": [
    "| user_id | creation_date | second_last_month |\n",
    "| ------- | ------------- | ----------------- |\n",
    "| 1       | 2008-07-31 23:41:00 | None |\n",
    "| 1       | 2008-07-31 23:55:38 | None |\n",
    "| 1       | 2008-07-31 23:56:41 | July |\n",
    "| 1       | 2008-08-04 02:45:08 | July |\n",
    "| 1       | 2008-08-04 04:31:03 | July |\n",
    "| 1       | 2008-08-04 08:04:42 | August |\n",
    "| ... | ... | ... |"
   ]
  },
  {
   "cell_type": "code",
   "execution_count": 21,
   "metadata": {
    "id": "HzI1vhaMDWK-"
   },
   "outputs": [],
   "source": [
    "# напишите запрос\n",
    "query = '''\n",
    "WITH base AS (SELECT user_id, \n",
    "       creation_date,\n",
    "       LAG(creation_date, 1) OVER (PARTITION BY user_id ORDER BY creation_date)::date\n",
    "FROM stackoverflow.posts\n",
    "ORDER BY user_id, creation_date)\n",
    "\n",
    "SELECT user_id,\n",
    "       creation_date, \n",
    "       CASE\n",
    "           WHEN EXTRACT(MONTH FROM lag) = 1.0 THEN 'January'\n",
    "           WHEN EXTRACT(MONTH FROM lag) = 2.0 THEN 'February'\n",
    "           WHEN EXTRACT(MONTH FROM lag) = 3.0 THEN 'March'\n",
    "           WHEN EXTRACT(MONTH FROM lag) = 4.0 THEN 'April'\n",
    "           WHEN EXTRACT(MONTH FROM lag) = 5.0 THEN 'May'\n",
    "           WHEN EXTRACT(MONTH FROM lag) = 6.0 THEN 'June'\n",
    "           WHEN EXTRACT(MONTH FROM lag) = 7.0 THEN 'July'\n",
    "           WHEN EXTRACT(MONTH FROM lag) = 8.0 THEN 'August'\n",
    "           WHEN EXTRACT(MONTH FROM lag) = 9.0 THEN 'September'\n",
    "           WHEN EXTRACT(MONTH FROM lag) = 10.0 THEN 'October'\n",
    "           WHEN EXTRACT(MONTH FROM lag) = 11.0 THEN 'November'\n",
    "           WHEN EXTRACT(MONTH FROM lag) = 12.0 THEN 'December'\n",
    "       END\n",
    "FROM base;\n",
    "\n",
    "\n",
    "'''\n",
    "\n",
    "# выполните запрос\n",
    "df = pd.read_sql_query(query, con=engine)"
   ]
  },
  {
   "cell_type": "markdown",
   "metadata": {
    "id": "7dqoKkncDWK_"
   },
   "source": [
    "<details>\n",
    "\n",
    "<summary>Подсказка</summary>\n",
    "Преобразовать результат оконной функции в нужное значение вам поможет аналог условного оператора в SQL: CASE <поле> WHEN <старое значение> THEN <новое значение> END.\n",
    "</details>"
   ]
  },
  {
   "cell_type": "code",
   "execution_count": 22,
   "metadata": {},
   "outputs": [
    {
     "data": {
      "text/html": [
       "<div>\n",
       "<style scoped>\n",
       "    .dataframe tbody tr th:only-of-type {\n",
       "        vertical-align: middle;\n",
       "    }\n",
       "\n",
       "    .dataframe tbody tr th {\n",
       "        vertical-align: top;\n",
       "    }\n",
       "\n",
       "    .dataframe thead th {\n",
       "        text-align: right;\n",
       "    }\n",
       "</style>\n",
       "<table border=\"1\" class=\"dataframe\">\n",
       "  <thead>\n",
       "    <tr style=\"text-align: right;\">\n",
       "      <th></th>\n",
       "      <th>user_id</th>\n",
       "      <th>creation_date</th>\n",
       "      <th>case</th>\n",
       "    </tr>\n",
       "  </thead>\n",
       "  <tbody>\n",
       "    <tr>\n",
       "      <th>0</th>\n",
       "      <td>1</td>\n",
       "      <td>2008-07-31 23:41:00</td>\n",
       "      <td>None</td>\n",
       "    </tr>\n",
       "    <tr>\n",
       "      <th>1</th>\n",
       "      <td>1</td>\n",
       "      <td>2008-07-31 23:55:38</td>\n",
       "      <td>July</td>\n",
       "    </tr>\n",
       "    <tr>\n",
       "      <th>2</th>\n",
       "      <td>1</td>\n",
       "      <td>2008-07-31 23:56:41</td>\n",
       "      <td>July</td>\n",
       "    </tr>\n",
       "    <tr>\n",
       "      <th>3</th>\n",
       "      <td>1</td>\n",
       "      <td>2008-08-04 02:45:08</td>\n",
       "      <td>July</td>\n",
       "    </tr>\n",
       "    <tr>\n",
       "      <th>4</th>\n",
       "      <td>1</td>\n",
       "      <td>2008-08-04 04:31:03</td>\n",
       "      <td>August</td>\n",
       "    </tr>\n",
       "    <tr>\n",
       "      <th>...</th>\n",
       "      <td>...</td>\n",
       "      <td>...</td>\n",
       "      <td>...</td>\n",
       "    </tr>\n",
       "    <tr>\n",
       "      <th>243791</th>\n",
       "      <td>5696608</td>\n",
       "      <td>2008-12-23 16:00:37</td>\n",
       "      <td>December</td>\n",
       "    </tr>\n",
       "    <tr>\n",
       "      <th>243792</th>\n",
       "      <td>5696608</td>\n",
       "      <td>2008-12-23 17:35:09</td>\n",
       "      <td>December</td>\n",
       "    </tr>\n",
       "    <tr>\n",
       "      <th>243793</th>\n",
       "      <td>5696608</td>\n",
       "      <td>2008-12-24 01:02:48</td>\n",
       "      <td>December</td>\n",
       "    </tr>\n",
       "    <tr>\n",
       "      <th>243794</th>\n",
       "      <td>5696608</td>\n",
       "      <td>2008-12-30 14:34:45</td>\n",
       "      <td>December</td>\n",
       "    </tr>\n",
       "    <tr>\n",
       "      <th>243795</th>\n",
       "      <td>5696608</td>\n",
       "      <td>2008-12-30 16:32:12</td>\n",
       "      <td>December</td>\n",
       "    </tr>\n",
       "  </tbody>\n",
       "</table>\n",
       "<p>243796 rows × 3 columns</p>\n",
       "</div>"
      ],
      "text/plain": [
       "        user_id       creation_date      case\n",
       "0             1 2008-07-31 23:41:00      None\n",
       "1             1 2008-07-31 23:55:38      July\n",
       "2             1 2008-07-31 23:56:41      July\n",
       "3             1 2008-08-04 02:45:08      July\n",
       "4             1 2008-08-04 04:31:03    August\n",
       "...         ...                 ...       ...\n",
       "243791  5696608 2008-12-23 16:00:37  December\n",
       "243792  5696608 2008-12-23 17:35:09  December\n",
       "243793  5696608 2008-12-24 01:02:48  December\n",
       "243794  5696608 2008-12-30 14:34:45  December\n",
       "243795  5696608 2008-12-30 16:32:12  December\n",
       "\n",
       "[243796 rows x 3 columns]"
      ]
     },
     "execution_count": 22,
     "metadata": {},
     "output_type": "execute_result"
    }
   ],
   "source": [
    "df"
   ]
  },
  {
   "cell_type": "markdown",
   "metadata": {
    "id": "tf9qq2yzDWK_"
   },
   "source": [
    "# Задание 8"
   ]
  },
  {
   "cell_type": "markdown",
   "metadata": {
    "id": "gfwLVXBYDWLA"
   },
   "source": [
    "Рассчитайте аналог Retention Rate по месяцам для пользователей StackOverflow. Объедините пользователей в когорты по месяцу их первого поста. Возвращение определяйте по наличию поста в текущем месяце. "
   ]
  },
  {
   "cell_type": "markdown",
   "metadata": {
    "id": "kN2ic39WlKpl"
   },
   "source": [
    "| cohort_dt | session_date | users_cnt | cohort_users_cnt | retention_rate |\n",
    "| --- | --- | --- | --- | --- |\n",
    "| 2008-07-01 00:00:00 | 2008-07-01 00:00:00 | 3 | 3 | 100 |\n",
    "| 2008-07-01 00:00:00 | 2008-08-01 00:00:00 | 2 | 3 | 66,67 |\n",
    "| 2008-07-01 00:00:00 | 2008-09-01 00:00:00 | 1 | 3 | 33,33 |\n",
    "| 2008-07-01 00:00:00 | 2008-10-01 00:00:00 | 2 | 3 | 66,67 |\n",
    "| 2008-07-01 00:00:00 | 2008-11-01 00:00:00 | 1 | 3 | 33,33 |\n",
    "| 2008-07-01 00:00:00 | 2008-12-01 00:00:00 | 2 | 3 | 66,67 |\n",
    "| 2008-08-01 00:00:00 | 2008-08-01 00:00:00 | 2151 | 2151 | 100 |\n",
    "| ... | ... | ... | ... | ... |"
   ]
  },
  {
   "cell_type": "code",
   "execution_count": 23,
   "metadata": {
    "id": "LUgFmwmTDWLB"
   },
   "outputs": [],
   "source": [
    "# напишите запрос\n",
    "query = '''\n",
    "WITH profile AS\n",
    "(\n",
    "WITH base AS\n",
    "(\n",
    "SELECT DISTINCT user_id,\n",
    "       FIRST_VALUE(DATE_TRUNC('month', creation_date)) OVER \n",
    "       (PARTITION BY user_id ORDER BY DATE_TRUNC('month', creation_date)) AS cohort_dt\n",
    "FROM stackoverflow.posts      \n",
    ")\n",
    "SELECT *,\n",
    "      COUNT(user_id) OVER (PARTITION BY cohort_dt) AS cohort_users_cnt\n",
    "FROM base\n",
    "),\n",
    "\n",
    "sessions AS \n",
    "(\n",
    "SELECT user_id,\n",
    "       DATE_TRUNC('month', creation_date) AS session_date\n",
    "FROM stackoverflow.posts\n",
    "GROUP BY user_id, session_date)\n",
    "         \n",
    "         \n",
    "SELECT p.cohort_dt AS cohort_dt,\n",
    "       s.session_date,\n",
    "       COUNT(p.user_id) AS users_cnt,\n",
    "       p.cohort_users_cnt,\n",
    "       ROUND(COUNT(p.user_id) * 100.0 / cohort_users_cnt, 2) AS retention_rate\n",
    "FROM profile AS p\n",
    "JOIN sessions AS s \n",
    "ON p.user_id = s.user_id\n",
    "GROUP BY 1,\n",
    "         2,\n",
    "         4;\n",
    "'''\n",
    "\n",
    "# выполните запрос\n",
    "df = pd.read_sql_query(query, con=engine)"
   ]
  },
  {
   "cell_type": "code",
   "execution_count": 24,
   "metadata": {},
   "outputs": [
    {
     "data": {
      "text/html": [
       "<div>\n",
       "<style scoped>\n",
       "    .dataframe tbody tr th:only-of-type {\n",
       "        vertical-align: middle;\n",
       "    }\n",
       "\n",
       "    .dataframe tbody tr th {\n",
       "        vertical-align: top;\n",
       "    }\n",
       "\n",
       "    .dataframe thead th {\n",
       "        text-align: right;\n",
       "    }\n",
       "</style>\n",
       "<table border=\"1\" class=\"dataframe\">\n",
       "  <thead>\n",
       "    <tr style=\"text-align: right;\">\n",
       "      <th></th>\n",
       "      <th>cohort_dt</th>\n",
       "      <th>session_date</th>\n",
       "      <th>users_cnt</th>\n",
       "      <th>cohort_users_cnt</th>\n",
       "      <th>retention_rate</th>\n",
       "    </tr>\n",
       "  </thead>\n",
       "  <tbody>\n",
       "    <tr>\n",
       "      <th>0</th>\n",
       "      <td>2008-07-01</td>\n",
       "      <td>2008-07-01</td>\n",
       "      <td>3</td>\n",
       "      <td>3</td>\n",
       "      <td>100.00</td>\n",
       "    </tr>\n",
       "    <tr>\n",
       "      <th>1</th>\n",
       "      <td>2008-07-01</td>\n",
       "      <td>2008-08-01</td>\n",
       "      <td>2</td>\n",
       "      <td>3</td>\n",
       "      <td>66.67</td>\n",
       "    </tr>\n",
       "    <tr>\n",
       "      <th>2</th>\n",
       "      <td>2008-07-01</td>\n",
       "      <td>2008-09-01</td>\n",
       "      <td>1</td>\n",
       "      <td>3</td>\n",
       "      <td>33.33</td>\n",
       "    </tr>\n",
       "    <tr>\n",
       "      <th>3</th>\n",
       "      <td>2008-07-01</td>\n",
       "      <td>2008-10-01</td>\n",
       "      <td>2</td>\n",
       "      <td>3</td>\n",
       "      <td>66.67</td>\n",
       "    </tr>\n",
       "    <tr>\n",
       "      <th>4</th>\n",
       "      <td>2008-07-01</td>\n",
       "      <td>2008-11-01</td>\n",
       "      <td>1</td>\n",
       "      <td>3</td>\n",
       "      <td>33.33</td>\n",
       "    </tr>\n",
       "    <tr>\n",
       "      <th>5</th>\n",
       "      <td>2008-07-01</td>\n",
       "      <td>2008-12-01</td>\n",
       "      <td>2</td>\n",
       "      <td>3</td>\n",
       "      <td>66.67</td>\n",
       "    </tr>\n",
       "    <tr>\n",
       "      <th>6</th>\n",
       "      <td>2008-08-01</td>\n",
       "      <td>2008-08-01</td>\n",
       "      <td>2151</td>\n",
       "      <td>2151</td>\n",
       "      <td>100.00</td>\n",
       "    </tr>\n",
       "    <tr>\n",
       "      <th>7</th>\n",
       "      <td>2008-08-01</td>\n",
       "      <td>2008-09-01</td>\n",
       "      <td>1571</td>\n",
       "      <td>2151</td>\n",
       "      <td>73.04</td>\n",
       "    </tr>\n",
       "    <tr>\n",
       "      <th>8</th>\n",
       "      <td>2008-08-01</td>\n",
       "      <td>2008-10-01</td>\n",
       "      <td>1275</td>\n",
       "      <td>2151</td>\n",
       "      <td>59.27</td>\n",
       "    </tr>\n",
       "    <tr>\n",
       "      <th>9</th>\n",
       "      <td>2008-08-01</td>\n",
       "      <td>2008-11-01</td>\n",
       "      <td>1050</td>\n",
       "      <td>2151</td>\n",
       "      <td>48.81</td>\n",
       "    </tr>\n",
       "    <tr>\n",
       "      <th>10</th>\n",
       "      <td>2008-08-01</td>\n",
       "      <td>2008-12-01</td>\n",
       "      <td>894</td>\n",
       "      <td>2151</td>\n",
       "      <td>41.56</td>\n",
       "    </tr>\n",
       "    <tr>\n",
       "      <th>11</th>\n",
       "      <td>2008-09-01</td>\n",
       "      <td>2008-09-01</td>\n",
       "      <td>7678</td>\n",
       "      <td>7678</td>\n",
       "      <td>100.00</td>\n",
       "    </tr>\n",
       "    <tr>\n",
       "      <th>12</th>\n",
       "      <td>2008-09-01</td>\n",
       "      <td>2008-10-01</td>\n",
       "      <td>4132</td>\n",
       "      <td>7678</td>\n",
       "      <td>53.82</td>\n",
       "    </tr>\n",
       "    <tr>\n",
       "      <th>13</th>\n",
       "      <td>2008-09-01</td>\n",
       "      <td>2008-11-01</td>\n",
       "      <td>2966</td>\n",
       "      <td>7678</td>\n",
       "      <td>38.63</td>\n",
       "    </tr>\n",
       "    <tr>\n",
       "      <th>14</th>\n",
       "      <td>2008-09-01</td>\n",
       "      <td>2008-12-01</td>\n",
       "      <td>2500</td>\n",
       "      <td>7678</td>\n",
       "      <td>32.56</td>\n",
       "    </tr>\n",
       "    <tr>\n",
       "      <th>15</th>\n",
       "      <td>2008-10-01</td>\n",
       "      <td>2008-10-01</td>\n",
       "      <td>3629</td>\n",
       "      <td>3629</td>\n",
       "      <td>100.00</td>\n",
       "    </tr>\n",
       "    <tr>\n",
       "      <th>16</th>\n",
       "      <td>2008-10-01</td>\n",
       "      <td>2008-11-01</td>\n",
       "      <td>1640</td>\n",
       "      <td>3629</td>\n",
       "      <td>45.19</td>\n",
       "    </tr>\n",
       "    <tr>\n",
       "      <th>17</th>\n",
       "      <td>2008-10-01</td>\n",
       "      <td>2008-12-01</td>\n",
       "      <td>1221</td>\n",
       "      <td>3629</td>\n",
       "      <td>33.65</td>\n",
       "    </tr>\n",
       "    <tr>\n",
       "      <th>18</th>\n",
       "      <td>2008-11-01</td>\n",
       "      <td>2008-11-01</td>\n",
       "      <td>2852</td>\n",
       "      <td>2852</td>\n",
       "      <td>100.00</td>\n",
       "    </tr>\n",
       "    <tr>\n",
       "      <th>19</th>\n",
       "      <td>2008-11-01</td>\n",
       "      <td>2008-12-01</td>\n",
       "      <td>1151</td>\n",
       "      <td>2852</td>\n",
       "      <td>40.36</td>\n",
       "    </tr>\n",
       "    <tr>\n",
       "      <th>20</th>\n",
       "      <td>2008-12-01</td>\n",
       "      <td>2008-12-01</td>\n",
       "      <td>2536</td>\n",
       "      <td>2536</td>\n",
       "      <td>100.00</td>\n",
       "    </tr>\n",
       "  </tbody>\n",
       "</table>\n",
       "</div>"
      ],
      "text/plain": [
       "    cohort_dt session_date  users_cnt  cohort_users_cnt  retention_rate\n",
       "0  2008-07-01   2008-07-01          3                 3          100.00\n",
       "1  2008-07-01   2008-08-01          2                 3           66.67\n",
       "2  2008-07-01   2008-09-01          1                 3           33.33\n",
       "3  2008-07-01   2008-10-01          2                 3           66.67\n",
       "4  2008-07-01   2008-11-01          1                 3           33.33\n",
       "5  2008-07-01   2008-12-01          2                 3           66.67\n",
       "6  2008-08-01   2008-08-01       2151              2151          100.00\n",
       "7  2008-08-01   2008-09-01       1571              2151           73.04\n",
       "8  2008-08-01   2008-10-01       1275              2151           59.27\n",
       "9  2008-08-01   2008-11-01       1050              2151           48.81\n",
       "10 2008-08-01   2008-12-01        894              2151           41.56\n",
       "11 2008-09-01   2008-09-01       7678              7678          100.00\n",
       "12 2008-09-01   2008-10-01       4132              7678           53.82\n",
       "13 2008-09-01   2008-11-01       2966              7678           38.63\n",
       "14 2008-09-01   2008-12-01       2500              7678           32.56\n",
       "15 2008-10-01   2008-10-01       3629              3629          100.00\n",
       "16 2008-10-01   2008-11-01       1640              3629           45.19\n",
       "17 2008-10-01   2008-12-01       1221              3629           33.65\n",
       "18 2008-11-01   2008-11-01       2852              2852          100.00\n",
       "19 2008-11-01   2008-12-01       1151              2852           40.36\n",
       "20 2008-12-01   2008-12-01       2536              2536          100.00"
      ]
     },
     "execution_count": 24,
     "metadata": {},
     "output_type": "execute_result"
    }
   ],
   "source": [
    "df"
   ]
  },
  {
   "cell_type": "markdown",
   "metadata": {
    "id": "Yavb5o9JDWLB"
   },
   "source": [
    "<details>\n",
    "\n",
    "<summary>Подсказка</summary>\n",
    "Вспомните, как выглядел запрос для расчёта Retention Rate в теории. Создайте две временные таблицы: `profile` и `sessions` (в ней будет информация о публикациях), а затем используйте их в основном запросе.\n",
    "\n",
    "Во временной таблице `profile` вам понадобятся три поля:\n",
    "\n",
    "- идентификатор пользователя;\n",
    "- дата первого поста пользователя, усечённая до месяца (признак начала когорты);\n",
    "- количество пользователей этой когорты.\n",
    "</details>"
   ]
  },
  {
   "cell_type": "markdown",
   "metadata": {
    "id": "_msBtnb2DWLC"
   },
   "source": [
    "Постройте тепловую карту Retention Rate. Какие аномалии или другие необычные явления удалось выявить? Сформулируйте гипотезы о возможных причинах."
   ]
  },
  {
   "cell_type": "code",
   "execution_count": 25,
   "metadata": {
    "id": "qAEJc8H1DWLC"
   },
   "outputs": [
    {
     "data": {
      "image/png": "[encoded data removed]",
      "text/plain": [
       "<Figure size 720x720 with 2 Axes>"
      ]
     },
     "metadata": {
      "needs_background": "light"
     },
     "output_type": "display_data"
    }
   ],
   "source": [
    "# постройте тепловую карту Retention Rate\n",
    "retention = df.pivot('cohort_dt', 'session_date', 'retention_rate')\n",
    "retention.index = [str(x)[0:10] for x in retention.index]\n",
    "retention.columns = [str(x)[0:10] for x in retention.columns]\n",
    "plt.figure(figsize=(10, 10)) \n",
    "sns.heatmap(retention, \n",
    "            annot=True, \n",
    "            fmt='') \n",
    "plt.title('Тепловая карта Retention Rate') \n",
    "plt.xlabel('cohort_dt', fontsize = 15) \n",
    "plt.ylabel('session_date', fontsize = 15) \n",
    "plt.show()"
   ]
  },
  {
   "cell_type": "code",
   "execution_count": 26,
   "metadata": {
    "id": "EgOfIsI4DWLC"
   },
   "outputs": [],
   "source": [
    "# опишите аномалии или другие необычные явления и сформулируйте гипотезы"
   ]
  },
  {
   "cell_type": "markdown",
   "metadata": {},
   "source": [
    "Для первой когорты (июльской) аномалии в удержании, то 66.67, то 33.33 и снова 66.67, возможно, это вызвано ошибками в данных.\n",
    "Для остальных когорт идет уменьшение процента удержания по периодам, что уже больше соответствует действительности на практике.\n"
   ]
  },
  {
   "cell_type": "markdown",
   "metadata": {
    "id": "1k7oPWt5DWLK"
   },
   "source": [
    "# Задание 9\n"
   ]
  },
  {
   "cell_type": "markdown",
   "metadata": {
    "id": "ALsYVSyRDWLM"
   },
   "source": [
    "На сколько процентов менялось количество постов ежемесячно с 1 сентября по 31 декабря 2008 года? Отобразите таблицу со следующими полями:\n",
    "\n",
    "- номер месяца;\n",
    "- количество постов за месяц;\n",
    "- процент, который показывает, насколько изменилось количество постов в текущем месяце по сравнению с предыдущим.\n",
    "\n",
    "Если постов стало меньше, значение процента должно быть отрицательным, если больше — положительным. Округлите значение процента до двух знаков после запятой.\n",
    "\n",
    "Напомним, что при делении одного целого числа на другое в PostgreSQL в результате получится целое число, округлённое до ближайшего целого вниз. Чтобы этого избежать, переведите делимое в тип `numeric`."
   ]
  },
  {
   "cell_type": "markdown",
   "metadata": {
    "id": "u4E2zF8DDWLM"
   },
   "source": [
    "| creation_month | posts_count | percentage |\n",
    "| -------------- | ----------- | ---------- |\n",
    "| 9 | 70731 | Nan |\n",
    "| 10 | 63102 | -10.33 |\n",
    "| ... | ... | ... |"
   ]
  },
  {
   "cell_type": "code",
   "execution_count": 27,
   "metadata": {
    "id": "Mb5pShStDWLN"
   },
   "outputs": [],
   "source": [
    "# напишите запрос\n",
    "query = '''\n",
    "WITH temp AS\n",
    "(\n",
    "SELECT EXTRACT(MONTH FROM creation_date)::int AS creation_month,\n",
    "       COUNT(id) AS posts_count\n",
    "FROM stackoverflow.posts\n",
    "WHERE creation_date::date BETWEEN '2008-09-01' AND '2008-12-31'\n",
    "GROUP BY creation_month\n",
    ")\n",
    "SELECT *,\n",
    "       ROUND((posts_count::numeric/LAG(posts_count) OVER()-1)*100, 2) AS percentage\n",
    "FROM temp;\n",
    "\n",
    "\n",
    "'''\n",
    "\n",
    "# выполните запрос\n",
    "df = pd.read_sql_query(query, con=engine)"
   ]
  },
  {
   "cell_type": "markdown",
   "metadata": {},
   "source": [
    "df"
   ]
  },
  {
   "cell_type": "markdown",
   "metadata": {
    "id": "G0VSDL4HDWLO"
   },
   "source": [
    "<details>\n",
    "\n",
    "<summary>Подсказка</summary>\n",
    "Эту задачу стоит декомпозировать. Сформируйте запрос, который отобразит номер месяца и количество постов. Затем можно использовать оконную функцию, которая вернёт значение за предыдущий месяц, и посчитать процент.\n",
    "</details>"
   ]
  },
  {
   "cell_type": "markdown",
   "metadata": {
    "id": "9NQE2y_MDWLP"
   },
   "source": [
    "Постройте круговую диаграмму с количеством постов по месяцам."
   ]
  },
  {
   "cell_type": "code",
   "execution_count": 28,
   "metadata": {},
   "outputs": [
    {
     "data": {
      "image/png": "[encoded data removed]",
      "text/plain": [
       "<Figure size 432x288 with 1 Axes>"
      ]
     },
     "metadata": {},
     "output_type": "display_data"
    }
   ],
   "source": [
    "months = [\"Сентябрь\", \"Октябрь\", \"Ноябрь\", \"Декабрь\"]\n",
    "\n",
    "percentage = np.array(df['posts_count'])\n",
    "\n",
    "plt.pie (percentage, labels = months, autopct='%1.1f%%')\n",
    "plt.title ('Cоотношение количества постов по месяцам')\n",
    "plt.show()"
   ]
  },
  {
   "cell_type": "markdown",
   "metadata": {
    "id": "uw7qMtafDWLP"
   },
   "source": [
    "# Задание 10"
   ]
  },
  {
   "cell_type": "markdown",
   "metadata": {
    "id": "oRBpWKx3DWLQ"
   },
   "source": [
    "Выгрузите данные активности пользователя, который опубликовал больше всего постов за всё время. Выведите данные за октябрь 2008 года в таком виде:\n",
    "\n",
    "- номер недели;\n",
    "- дата и время последнего поста, опубликованного на этой неделе."
   ]
  },
  {
   "cell_type": "markdown",
   "metadata": {
    "id": "XjAWSn_3DWLQ"
   },
   "source": [
    "| week_creation | creation_date |\n",
    "| ------------- | ------------- |\n",
    "| 40 | 2008-10-05 09:00:58 |\n",
    "| 41 | 2008-10-12 21:22:23 |\n",
    "| ... | ... |"
   ]
  },
  {
   "cell_type": "code",
   "execution_count": 29,
   "metadata": {
    "id": "r5F5fSkwDWLQ"
   },
   "outputs": [],
   "source": [
    "# напишите запрос\n",
    "query = '''\n",
    "WITH base AS\n",
    "(\n",
    "SELECT user_id,\n",
    "       COUNT(id)\n",
    "FROM stackoverflow.posts\n",
    "GROUP BY user_id\n",
    "ORDER BY COUNT(id) DESC\n",
    "LIMIT 1\n",
    ")\n",
    "SELECT EXTRACT(WEEK FROM p.creation_date)::int AS week_creation,\n",
    "       MAX(p.creation_date) AS creation_date\n",
    "FROM base AS b\n",
    "JOIN stackoverflow.posts AS p\n",
    "ON b.user_id=p.user_id\n",
    "WHERE DATE_TRUNC('month', p.creation_date)::date = '2008-10-01'\n",
    "GROUP BY week_creation;\n",
    "'''\n",
    "\n",
    "# выполните запрос\n",
    "df = pd.read_sql_query(query, con=engine)"
   ]
  },
  {
   "cell_type": "code",
   "execution_count": 30,
   "metadata": {},
   "outputs": [
    {
     "data": {
      "text/html": [
       "<div>\n",
       "<style scoped>\n",
       "    .dataframe tbody tr th:only-of-type {\n",
       "        vertical-align: middle;\n",
       "    }\n",
       "\n",
       "    .dataframe tbody tr th {\n",
       "        vertical-align: top;\n",
       "    }\n",
       "\n",
       "    .dataframe thead th {\n",
       "        text-align: right;\n",
       "    }\n",
       "</style>\n",
       "<table border=\"1\" class=\"dataframe\">\n",
       "  <thead>\n",
       "    <tr style=\"text-align: right;\">\n",
       "      <th></th>\n",
       "      <th>week_creation</th>\n",
       "      <th>creation_date</th>\n",
       "    </tr>\n",
       "  </thead>\n",
       "  <tbody>\n",
       "    <tr>\n",
       "      <th>0</th>\n",
       "      <td>40</td>\n",
       "      <td>2008-10-05 09:00:58</td>\n",
       "    </tr>\n",
       "    <tr>\n",
       "      <th>1</th>\n",
       "      <td>41</td>\n",
       "      <td>2008-10-12 21:22:23</td>\n",
       "    </tr>\n",
       "    <tr>\n",
       "      <th>2</th>\n",
       "      <td>42</td>\n",
       "      <td>2008-10-19 06:49:30</td>\n",
       "    </tr>\n",
       "    <tr>\n",
       "      <th>3</th>\n",
       "      <td>43</td>\n",
       "      <td>2008-10-26 21:44:36</td>\n",
       "    </tr>\n",
       "    <tr>\n",
       "      <th>4</th>\n",
       "      <td>44</td>\n",
       "      <td>2008-10-31 22:16:01</td>\n",
       "    </tr>\n",
       "  </tbody>\n",
       "</table>\n",
       "</div>"
      ],
      "text/plain": [
       "   week_creation       creation_date\n",
       "0             40 2008-10-05 09:00:58\n",
       "1             41 2008-10-12 21:22:23\n",
       "2             42 2008-10-19 06:49:30\n",
       "3             43 2008-10-26 21:44:36\n",
       "4             44 2008-10-31 22:16:01"
      ]
     },
     "execution_count": 30,
     "metadata": {},
     "output_type": "execute_result"
    }
   ],
   "source": [
    "df"
   ]
  },
  {
   "cell_type": "markdown",
   "metadata": {
    "id": "KAcmxvLgDWLR"
   },
   "source": [
    "<details>\n",
    "\n",
    "<summary>Подсказка</summary>\n",
    "Декомпозируйте задачу:\n",
    "1) Найдите пользователя, который опубликовал больше всего постов. 2) Найдите дату и время создания каждого поста этого пользователя и номер недели. \n",
    "3) Отобразите данные только о последних постах пользователя. Для этого можно использовать оконную функцию.\n",
    "</details>"
   ]
  }
 ],
 "metadata": {
  "ExecuteTimeLog": [
   {
    "duration": 50,
    "start_time": "2023-08-16T12:12:05.289Z"
   },
   {
    "duration": 936,
    "start_time": "2023-08-16T12:12:11.172Z"
   },
   {
    "duration": 4,
    "start_time": "2023-08-16T12:12:23.156Z"
   },
   {
    "duration": 10576,
    "start_time": "2023-08-16T12:12:26.585Z"
   },
   {
    "duration": 50,
    "start_time": "2023-08-16T12:12:37.163Z"
   },
   {
    "duration": 1581,
    "start_time": "2023-08-16T12:12:39.971Z"
   },
   {
    "duration": 22,
    "start_time": "2023-08-16T12:12:53.353Z"
   },
   {
    "duration": 139,
    "start_time": "2023-08-16T12:17:11.533Z"
   },
   {
    "duration": 97,
    "start_time": "2023-08-16T12:20:08.305Z"
   },
   {
    "duration": 106,
    "start_time": "2023-08-16T12:20:23.883Z"
   },
   {
    "duration": 102,
    "start_time": "2023-08-16T12:20:26.110Z"
   },
   {
    "duration": 113,
    "start_time": "2023-08-16T12:21:31.118Z"
   },
   {
    "duration": 110,
    "start_time": "2023-08-16T12:21:55.571Z"
   },
   {
    "duration": 112,
    "start_time": "2023-08-16T12:22:18.413Z"
   },
   {
    "duration": 941,
    "start_time": "2023-08-16T12:22:33.304Z"
   },
   {
    "duration": 10,
    "start_time": "2023-08-16T12:22:38.723Z"
   },
   {
    "duration": 116,
    "start_time": "2023-08-16T12:22:55.250Z"
   },
   {
    "duration": 11,
    "start_time": "2023-08-16T12:22:56.050Z"
   },
   {
    "duration": 142,
    "start_time": "2023-08-16T12:27:53.634Z"
   },
   {
    "duration": 166,
    "start_time": "2023-08-16T12:27:59.595Z"
   },
   {
    "duration": 111,
    "start_time": "2023-08-16T12:30:40.668Z"
   },
   {
    "duration": 703,
    "start_time": "2023-08-16T12:31:11.529Z"
   },
   {
    "duration": 10,
    "start_time": "2023-08-16T12:31:13.769Z"
   },
   {
    "duration": 744,
    "start_time": "2023-08-16T12:31:42.008Z"
   },
   {
    "duration": 9,
    "start_time": "2023-08-16T12:31:46.309Z"
   },
   {
    "duration": 110,
    "start_time": "2023-08-16T12:32:30.734Z"
   },
   {
    "duration": 116,
    "start_time": "2023-08-16T12:32:58.492Z"
   },
   {
    "duration": 127,
    "start_time": "2023-08-16T12:33:31.929Z"
   },
   {
    "duration": 137,
    "start_time": "2023-08-16T12:34:20.122Z"
   },
   {
    "duration": 688,
    "start_time": "2023-08-16T12:34:25.506Z"
   },
   {
    "duration": 9,
    "start_time": "2023-08-16T12:34:38.012Z"
   },
   {
    "duration": 903,
    "start_time": "2023-08-16T12:35:05.029Z"
   },
   {
    "duration": 9,
    "start_time": "2023-08-16T12:35:08.304Z"
   },
   {
    "duration": 112,
    "start_time": "2023-08-16T12:35:24.826Z"
   },
   {
    "duration": 106,
    "start_time": "2023-08-16T12:35:33.600Z"
   },
   {
    "duration": 217,
    "start_time": "2023-08-16T12:35:45.160Z"
   },
   {
    "duration": 10,
    "start_time": "2023-08-16T12:35:47.752Z"
   },
   {
    "duration": 211,
    "start_time": "2023-08-16T12:36:05.321Z"
   },
   {
    "duration": 18,
    "start_time": "2023-08-16T12:36:07.278Z"
   },
   {
    "duration": 124,
    "start_time": "2023-08-16T12:36:20.057Z"
   },
   {
    "duration": 9,
    "start_time": "2023-08-16T12:36:21.703Z"
   },
   {
    "duration": 90,
    "start_time": "2023-08-16T12:41:13.055Z"
   },
   {
    "duration": 3,
    "start_time": "2023-08-16T12:44:40.770Z"
   },
   {
    "duration": 3,
    "start_time": "2023-08-16T12:45:35.205Z"
   },
   {
    "duration": 3,
    "start_time": "2023-08-16T12:56:26.885Z"
   },
   {
    "duration": 126,
    "start_time": "2023-08-16T12:56:50.467Z"
   },
   {
    "duration": 125,
    "start_time": "2023-08-16T12:57:04.154Z"
   },
   {
    "duration": 103,
    "start_time": "2023-08-16T12:57:19.841Z"
   },
   {
    "duration": 189,
    "start_time": "2023-08-16T12:57:29.804Z"
   },
   {
    "duration": 13,
    "start_time": "2023-08-16T12:57:31.797Z"
   },
   {
    "duration": 106,
    "start_time": "2023-08-16T12:59:26.009Z"
   },
   {
    "duration": 113,
    "start_time": "2023-08-16T12:59:33.371Z"
   },
   {
    "duration": 109,
    "start_time": "2023-08-16T12:59:55.476Z"
   },
   {
    "duration": 118,
    "start_time": "2023-08-16T13:00:05.417Z"
   },
   {
    "duration": 10,
    "start_time": "2023-08-16T13:00:07.226Z"
   },
   {
    "duration": 170,
    "start_time": "2023-08-16T13:04:17.815Z"
   },
   {
    "duration": 111,
    "start_time": "2023-08-16T13:04:36.930Z"
   },
   {
    "duration": 137,
    "start_time": "2023-08-16T13:08:40.618Z"
   },
   {
    "duration": 10,
    "start_time": "2023-08-16T13:08:42.690Z"
   },
   {
    "duration": 199,
    "start_time": "2023-08-16T13:10:23.278Z"
   },
   {
    "duration": 14,
    "start_time": "2023-08-16T13:10:34.794Z"
   },
   {
    "duration": 123,
    "start_time": "2023-08-16T13:10:38.543Z"
   },
   {
    "duration": 172,
    "start_time": "2023-08-16T13:10:43.954Z"
   },
   {
    "duration": 115,
    "start_time": "2023-08-16T13:21:05.975Z"
   },
   {
    "duration": 115,
    "start_time": "2023-08-16T13:21:20.365Z"
   },
   {
    "duration": 10,
    "start_time": "2023-08-16T13:21:28.022Z"
   },
   {
    "duration": 114,
    "start_time": "2023-08-16T13:21:56.002Z"
   },
   {
    "duration": 12,
    "start_time": "2023-08-16T13:21:56.768Z"
   },
   {
    "duration": 112,
    "start_time": "2023-08-16T13:24:28.771Z"
   },
   {
    "duration": 138,
    "start_time": "2023-08-16T13:24:35.309Z"
   },
   {
    "duration": 56,
    "start_time": "2023-08-16T13:24:57.129Z"
   },
   {
    "duration": 8,
    "start_time": "2023-08-16T13:24:58.914Z"
   },
   {
    "duration": 142,
    "start_time": "2023-08-16T13:27:01.608Z"
   },
   {
    "duration": 8,
    "start_time": "2023-08-16T13:27:02.042Z"
   },
   {
    "duration": 60,
    "start_time": "2023-08-16T13:27:21.991Z"
   },
   {
    "duration": 8,
    "start_time": "2023-08-16T13:27:23.722Z"
   },
   {
    "duration": 37,
    "start_time": "2023-08-16T13:28:55.878Z"
   },
   {
    "duration": 8,
    "start_time": "2023-08-16T13:29:31.269Z"
   },
   {
    "duration": 138,
    "start_time": "2023-08-16T13:31:53.741Z"
   },
   {
    "duration": 158,
    "start_time": "2023-08-16T13:32:30.908Z"
   },
   {
    "duration": 289,
    "start_time": "2023-08-16T13:36:00.127Z"
   },
   {
    "duration": 178,
    "start_time": "2023-08-16T13:36:17.669Z"
   },
   {
    "duration": 126,
    "start_time": "2023-08-16T13:36:52.787Z"
   },
   {
    "duration": 259,
    "start_time": "2023-08-16T13:37:54.532Z"
   },
   {
    "duration": 8,
    "start_time": "2023-08-16T13:37:55.688Z"
   },
   {
    "duration": 8,
    "start_time": "2023-08-16T13:39:10.020Z"
   },
   {
    "duration": 140,
    "start_time": "2023-08-16T13:44:31.116Z"
   },
   {
    "duration": 108,
    "start_time": "2023-08-16T13:44:43.530Z"
   },
   {
    "duration": 1171,
    "start_time": "2023-08-16T13:45:00.231Z"
   },
   {
    "duration": 19,
    "start_time": "2023-08-16T13:45:03.146Z"
   },
   {
    "duration": 115,
    "start_time": "2023-08-16T13:46:49.631Z"
   },
   {
    "duration": 163,
    "start_time": "2023-08-16T13:47:51.377Z"
   },
   {
    "duration": 183,
    "start_time": "2023-08-16T13:47:59.471Z"
   },
   {
    "duration": 1438,
    "start_time": "2023-08-16T13:48:22.933Z"
   },
   {
    "duration": 1492,
    "start_time": "2023-08-16T13:54:22.249Z"
   },
   {
    "duration": 159,
    "start_time": "2023-08-16T13:57:00.158Z"
   },
   {
    "duration": 102,
    "start_time": "2023-08-16T13:57:07.289Z"
   },
   {
    "duration": 102,
    "start_time": "2023-08-16T13:57:13.266Z"
   },
   {
    "duration": 35,
    "start_time": "2023-08-16T13:57:26.251Z"
   },
   {
    "duration": 10,
    "start_time": "2023-08-16T13:57:28.474Z"
   },
   {
    "duration": 115,
    "start_time": "2023-08-16T13:58:52.409Z"
   },
   {
    "duration": 133,
    "start_time": "2023-08-16T13:59:04.745Z"
   },
   {
    "duration": 32,
    "start_time": "2023-08-16T13:59:37.744Z"
   },
   {
    "duration": 8,
    "start_time": "2023-08-16T13:59:39.504Z"
   },
   {
    "duration": 129,
    "start_time": "2023-08-16T14:00:35.502Z"
   },
   {
    "duration": 37,
    "start_time": "2023-08-16T14:00:41.383Z"
   },
   {
    "duration": 9,
    "start_time": "2023-08-16T14:00:42.254Z"
   },
   {
    "duration": 161,
    "start_time": "2023-08-16T14:01:20.813Z"
   },
   {
    "duration": 87,
    "start_time": "2023-08-16T14:01:33.899Z"
   },
   {
    "duration": 12,
    "start_time": "2023-08-16T14:01:35.043Z"
   },
   {
    "duration": 893,
    "start_time": "2023-08-16T16:18:10.883Z"
   },
   {
    "duration": 3,
    "start_time": "2023-08-16T16:18:11.779Z"
   },
   {
    "duration": 10460,
    "start_time": "2023-08-16T16:18:11.784Z"
   },
   {
    "duration": 45,
    "start_time": "2023-08-16T16:18:22.246Z"
   },
   {
    "duration": 13,
    "start_time": "2023-08-16T16:18:22.292Z"
   },
   {
    "duration": 136,
    "start_time": "2023-08-16T16:18:22.307Z"
   },
   {
    "duration": 7,
    "start_time": "2023-08-16T16:18:22.445Z"
   },
   {
    "duration": 159,
    "start_time": "2023-08-16T16:18:22.454Z"
   },
   {
    "duration": 46,
    "start_time": "2023-08-16T16:18:22.614Z"
   },
   {
    "duration": 2,
    "start_time": "2023-08-16T16:18:22.663Z"
   },
   {
    "duration": 147,
    "start_time": "2023-08-16T16:18:22.667Z"
   },
   {
    "duration": 7,
    "start_time": "2023-08-16T16:18:22.815Z"
   },
   {
    "duration": 12,
    "start_time": "2023-08-16T16:18:22.823Z"
   },
   {
    "duration": 1267,
    "start_time": "2023-08-16T16:18:22.836Z"
   },
   {
    "duration": 13,
    "start_time": "2023-08-16T16:18:24.105Z"
   },
   {
    "duration": 187,
    "start_time": "2023-08-16T16:18:24.120Z"
   },
   {
    "duration": 0,
    "start_time": "2023-08-16T16:18:24.309Z"
   },
   {
    "duration": 0,
    "start_time": "2023-08-16T16:18:24.311Z"
   },
   {
    "duration": 0,
    "start_time": "2023-08-16T16:18:24.312Z"
   },
   {
    "duration": 0,
    "start_time": "2023-08-16T16:18:24.313Z"
   },
   {
    "duration": 0,
    "start_time": "2023-08-16T16:18:24.314Z"
   },
   {
    "duration": 0,
    "start_time": "2023-08-16T16:18:24.315Z"
   },
   {
    "duration": 0,
    "start_time": "2023-08-16T16:18:24.316Z"
   },
   {
    "duration": 0,
    "start_time": "2023-08-16T16:18:24.317Z"
   },
   {
    "duration": 0,
    "start_time": "2023-08-16T16:18:24.318Z"
   },
   {
    "duration": 0,
    "start_time": "2023-08-16T16:18:24.320Z"
   },
   {
    "duration": 69,
    "start_time": "2023-08-16T16:18:48.248Z"
   },
   {
    "duration": 9,
    "start_time": "2023-08-16T16:18:51.688Z"
   },
   {
    "duration": 144,
    "start_time": "2023-08-16T16:19:34.916Z"
   },
   {
    "duration": 104,
    "start_time": "2023-08-16T16:23:27.764Z"
   },
   {
    "duration": 32,
    "start_time": "2023-08-16T16:24:08.190Z"
   },
   {
    "duration": 6,
    "start_time": "2023-08-16T16:24:10.496Z"
   },
   {
    "duration": 146,
    "start_time": "2023-08-16T16:24:28.613Z"
   },
   {
    "duration": 31,
    "start_time": "2023-08-16T16:24:45.010Z"
   },
   {
    "duration": 7,
    "start_time": "2023-08-16T16:24:46.447Z"
   },
   {
    "duration": 104,
    "start_time": "2023-08-16T16:32:36.197Z"
   },
   {
    "duration": 67,
    "start_time": "2023-08-16T16:32:55.816Z"
   },
   {
    "duration": 11,
    "start_time": "2023-08-16T16:32:57.525Z"
   },
   {
    "duration": 67,
    "start_time": "2023-08-16T16:33:13.229Z"
   },
   {
    "duration": 9,
    "start_time": "2023-08-16T16:33:15.409Z"
   },
   {
    "duration": 131,
    "start_time": "2023-08-16T16:34:10.394Z"
   },
   {
    "duration": 50,
    "start_time": "2023-08-17T06:33:15.940Z"
   },
   {
    "duration": 989,
    "start_time": "2023-08-17T06:33:26.675Z"
   },
   {
    "duration": 7,
    "start_time": "2023-08-17T06:33:27.667Z"
   },
   {
    "duration": 9972,
    "start_time": "2023-08-17T06:33:27.676Z"
   },
   {
    "duration": 48,
    "start_time": "2023-08-17T06:33:37.651Z"
   },
   {
    "duration": 21,
    "start_time": "2023-08-17T06:33:37.701Z"
   },
   {
    "duration": 129,
    "start_time": "2023-08-17T06:33:37.724Z"
   },
   {
    "duration": 8,
    "start_time": "2023-08-17T06:33:37.855Z"
   },
   {
    "duration": 164,
    "start_time": "2023-08-17T06:33:37.873Z"
   },
   {
    "duration": 69,
    "start_time": "2023-08-17T06:33:38.039Z"
   },
   {
    "duration": 2,
    "start_time": "2023-08-17T06:33:38.111Z"
   },
   {
    "duration": 126,
    "start_time": "2023-08-17T06:33:38.115Z"
   },
   {
    "duration": 8,
    "start_time": "2023-08-17T06:33:38.243Z"
   },
   {
    "duration": 3,
    "start_time": "2023-08-17T06:33:38.253Z"
   },
   {
    "duration": 1361,
    "start_time": "2023-08-17T06:33:38.258Z"
   },
   {
    "duration": 13,
    "start_time": "2023-08-17T06:33:39.621Z"
   },
   {
    "duration": 220,
    "start_time": "2023-08-17T06:33:39.636Z"
   },
   {
    "duration": 0,
    "start_time": "2023-08-17T06:33:39.858Z"
   },
   {
    "duration": 0,
    "start_time": "2023-08-17T06:33:39.863Z"
   },
   {
    "duration": 0,
    "start_time": "2023-08-17T06:33:39.866Z"
   },
   {
    "duration": 0,
    "start_time": "2023-08-17T06:33:39.869Z"
   },
   {
    "duration": 0,
    "start_time": "2023-08-17T06:33:39.869Z"
   },
   {
    "duration": 0,
    "start_time": "2023-08-17T06:33:39.870Z"
   },
   {
    "duration": 0,
    "start_time": "2023-08-17T06:33:39.871Z"
   },
   {
    "duration": 0,
    "start_time": "2023-08-17T06:33:39.872Z"
   },
   {
    "duration": 0,
    "start_time": "2023-08-17T06:33:39.872Z"
   },
   {
    "duration": 0,
    "start_time": "2023-08-17T06:33:39.873Z"
   },
   {
    "duration": 64,
    "start_time": "2023-08-17T06:36:55.171Z"
   },
   {
    "duration": 8,
    "start_time": "2023-08-17T06:36:57.076Z"
   },
   {
    "duration": 64,
    "start_time": "2023-08-17T06:38:02.516Z"
   },
   {
    "duration": 7,
    "start_time": "2023-08-17T06:38:03.261Z"
   },
   {
    "duration": 55,
    "start_time": "2023-08-17T09:09:14.462Z"
   },
   {
    "duration": 1004,
    "start_time": "2023-08-17T09:09:23.195Z"
   },
   {
    "duration": 7,
    "start_time": "2023-08-17T09:09:24.201Z"
   },
   {
    "duration": 7950,
    "start_time": "2023-08-17T09:09:24.210Z"
   },
   {
    "duration": 256,
    "start_time": "2023-08-17T09:09:32.163Z"
   },
   {
    "duration": 22,
    "start_time": "2023-08-17T09:09:32.421Z"
   },
   {
    "duration": 159,
    "start_time": "2023-08-17T09:09:32.445Z"
   },
   {
    "duration": 8,
    "start_time": "2023-08-17T09:09:32.606Z"
   },
   {
    "duration": 211,
    "start_time": "2023-08-17T09:09:32.616Z"
   },
   {
    "duration": 54,
    "start_time": "2023-08-17T09:09:32.829Z"
   },
   {
    "duration": 3,
    "start_time": "2023-08-17T09:09:32.886Z"
   },
   {
    "duration": 163,
    "start_time": "2023-08-17T09:09:32.890Z"
   },
   {
    "duration": 9,
    "start_time": "2023-08-17T09:09:33.055Z"
   },
   {
    "duration": 25,
    "start_time": "2023-08-17T09:09:33.066Z"
   },
   {
    "duration": 1425,
    "start_time": "2023-08-17T09:09:33.093Z"
   },
   {
    "duration": 12,
    "start_time": "2023-08-17T09:09:34.521Z"
   },
   {
    "duration": 97,
    "start_time": "2023-08-17T09:09:37.102Z"
   },
   {
    "duration": 8,
    "start_time": "2023-08-17T09:09:39.053Z"
   },
   {
    "duration": 3,
    "start_time": "2023-08-17T09:14:04.239Z"
   },
   {
    "duration": 68,
    "start_time": "2023-08-17T09:14:12.215Z"
   },
   {
    "duration": 8,
    "start_time": "2023-08-17T09:14:18.360Z"
   },
   {
    "duration": 71,
    "start_time": "2023-08-17T09:16:16.614Z"
   },
   {
    "duration": 7,
    "start_time": "2023-08-17T09:16:18.346Z"
   },
   {
    "duration": 65,
    "start_time": "2023-08-17T09:16:26.347Z"
   },
   {
    "duration": 7,
    "start_time": "2023-08-17T09:16:27.320Z"
   },
   {
    "duration": 65,
    "start_time": "2023-08-17T09:16:47.852Z"
   },
   {
    "duration": 6,
    "start_time": "2023-08-17T09:16:48.371Z"
   },
   {
    "duration": 3,
    "start_time": "2023-08-17T09:28:40.966Z"
   },
   {
    "duration": 1220,
    "start_time": "2023-08-17T09:28:52.194Z"
   },
   {
    "duration": 11,
    "start_time": "2023-08-17T09:28:56.203Z"
   },
   {
    "duration": 1121,
    "start_time": "2023-08-17T09:29:51.855Z"
   },
   {
    "duration": 1461,
    "start_time": "2023-08-17T09:33:23.159Z"
   },
   {
    "duration": 14,
    "start_time": "2023-08-17T09:33:29.384Z"
   },
   {
    "duration": 8,
    "start_time": "2023-08-17T11:30:18.957Z"
   },
   {
    "duration": 43,
    "start_time": "2023-08-17T11:30:27.960Z"
   },
   {
    "duration": 816,
    "start_time": "2023-08-17T11:30:35.413Z"
   },
   {
    "duration": 4,
    "start_time": "2023-08-17T11:30:36.231Z"
   },
   {
    "duration": 8367,
    "start_time": "2023-08-17T11:30:36.236Z"
   },
   {
    "duration": 234,
    "start_time": "2023-08-17T11:30:44.605Z"
   },
   {
    "duration": 15,
    "start_time": "2023-08-17T11:30:44.841Z"
   },
   {
    "duration": 215,
    "start_time": "2023-08-17T11:30:44.858Z"
   },
   {
    "duration": 7,
    "start_time": "2023-08-17T11:30:45.074Z"
   },
   {
    "duration": 205,
    "start_time": "2023-08-17T11:30:45.083Z"
   },
   {
    "duration": 49,
    "start_time": "2023-08-17T11:30:45.290Z"
   },
   {
    "duration": 2,
    "start_time": "2023-08-17T11:30:45.340Z"
   },
   {
    "duration": 161,
    "start_time": "2023-08-17T11:30:45.344Z"
   },
   {
    "duration": 6,
    "start_time": "2023-08-17T11:30:45.507Z"
   },
   {
    "duration": 7,
    "start_time": "2023-08-17T11:30:45.515Z"
   },
   {
    "duration": 1274,
    "start_time": "2023-08-17T11:30:45.524Z"
   },
   {
    "duration": 10,
    "start_time": "2023-08-17T11:30:46.800Z"
   },
   {
    "duration": 110,
    "start_time": "2023-08-17T11:30:46.812Z"
   },
   {
    "duration": 7,
    "start_time": "2023-08-17T11:30:46.924Z"
   },
   {
    "duration": 83,
    "start_time": "2023-08-17T11:30:46.933Z"
   },
   {
    "duration": 6,
    "start_time": "2023-08-17T11:30:47.017Z"
   },
   {
    "duration": 11,
    "start_time": "2023-08-17T11:30:47.024Z"
   },
   {
    "duration": 1400,
    "start_time": "2023-08-17T11:30:47.037Z"
   },
   {
    "duration": 19,
    "start_time": "2023-08-17T11:30:48.440Z"
   },
   {
    "duration": 1005,
    "start_time": "2023-08-17T11:30:50.506Z"
   },
   {
    "duration": 11,
    "start_time": "2023-08-17T11:30:57.254Z"
   },
   {
    "duration": 168,
    "start_time": "2023-08-17T11:52:53.945Z"
   },
   {
    "duration": 162,
    "start_time": "2023-08-17T11:53:00.715Z"
   },
   {
    "duration": 595,
    "start_time": "2023-08-17T11:53:05.630Z"
   },
   {
    "duration": 9,
    "start_time": "2023-08-17T11:54:04.668Z"
   },
   {
    "duration": 19,
    "start_time": "2023-08-17T11:54:56.331Z"
   },
   {
    "duration": 474,
    "start_time": "2023-08-17T11:55:23.795Z"
   },
   {
    "duration": 509,
    "start_time": "2023-08-17T11:55:30.290Z"
   },
   {
    "duration": 395,
    "start_time": "2023-08-17T11:56:07.522Z"
   },
   {
    "duration": 391,
    "start_time": "2023-08-17T11:56:26.732Z"
   },
   {
    "duration": 3,
    "start_time": "2023-08-17T14:08:25.904Z"
   },
   {
    "duration": 136,
    "start_time": "2023-08-17T14:08:42.001Z"
   },
   {
    "duration": 7,
    "start_time": "2023-08-17T14:08:47.167Z"
   },
   {
    "duration": 92,
    "start_time": "2023-08-17T14:10:00.001Z"
   },
   {
    "duration": 10,
    "start_time": "2023-08-17T14:10:08.253Z"
   },
   {
    "duration": 94,
    "start_time": "2023-08-17T14:15:19.103Z"
   },
   {
    "duration": 7,
    "start_time": "2023-08-17T14:15:19.596Z"
   },
   {
    "duration": 145,
    "start_time": "2023-08-17T14:17:53.045Z"
   },
   {
    "duration": 16,
    "start_time": "2023-08-17T14:18:05.805Z"
   },
   {
    "duration": 17,
    "start_time": "2023-08-17T14:18:51.647Z"
   },
   {
    "duration": 6,
    "start_time": "2023-08-17T14:19:32.016Z"
   },
   {
    "duration": 239,
    "start_time": "2023-08-17T14:19:35.382Z"
   },
   {
    "duration": 23,
    "start_time": "2023-08-17T14:20:18.298Z"
   },
   {
    "duration": 25,
    "start_time": "2023-08-17T14:20:24.051Z"
   },
   {
    "duration": 17,
    "start_time": "2023-08-17T14:20:31.036Z"
   },
   {
    "duration": 142,
    "start_time": "2023-08-17T14:20:59.040Z"
   },
   {
    "duration": 14,
    "start_time": "2023-08-17T14:21:19.879Z"
   },
   {
    "duration": 15,
    "start_time": "2023-08-17T14:21:27.369Z"
   },
   {
    "duration": 9,
    "start_time": "2023-08-17T14:22:37.097Z"
   },
   {
    "duration": 7,
    "start_time": "2023-08-17T14:23:49.994Z"
   },
   {
    "duration": 4,
    "start_time": "2023-08-17T14:25:22.375Z"
   },
   {
    "duration": 13,
    "start_time": "2023-08-17T14:25:33.616Z"
   },
   {
    "duration": 5,
    "start_time": "2023-08-17T14:25:48.060Z"
   },
   {
    "duration": 195,
    "start_time": "2023-08-17T14:25:59.799Z"
   },
   {
    "duration": 14,
    "start_time": "2023-08-17T14:26:47.193Z"
   },
   {
    "duration": 13,
    "start_time": "2023-08-17T14:26:53.960Z"
   },
   {
    "duration": 4,
    "start_time": "2023-08-17T14:27:21.598Z"
   },
   {
    "duration": 7,
    "start_time": "2023-08-17T14:27:28.480Z"
   },
   {
    "duration": 262,
    "start_time": "2023-08-17T14:27:30.895Z"
   },
   {
    "duration": 84,
    "start_time": "2023-08-17T14:28:40.307Z"
   },
   {
    "duration": 6,
    "start_time": "2023-08-17T14:30:29.991Z"
   },
   {
    "duration": 5,
    "start_time": "2023-08-17T14:31:36.008Z"
   },
   {
    "duration": 75,
    "start_time": "2023-08-17T14:31:45.675Z"
   },
   {
    "duration": 76,
    "start_time": "2023-08-17T14:32:05.494Z"
   },
   {
    "duration": 133,
    "start_time": "2023-08-17T14:33:48.596Z"
   },
   {
    "duration": 174,
    "start_time": "2023-08-17T14:34:04.230Z"
   },
   {
    "duration": 9,
    "start_time": "2023-08-17T14:34:08.127Z"
   },
   {
    "duration": 112,
    "start_time": "2023-08-17T14:39:21.295Z"
   },
   {
    "duration": 121,
    "start_time": "2023-08-17T14:39:34.033Z"
   },
   {
    "duration": 111,
    "start_time": "2023-08-17T14:39:56.068Z"
   },
   {
    "duration": 250,
    "start_time": "2023-08-17T14:40:32.924Z"
   },
   {
    "duration": 9,
    "start_time": "2023-08-17T14:40:33.658Z"
   },
   {
    "duration": 119,
    "start_time": "2023-08-17T14:40:43.112Z"
   },
   {
    "duration": 9,
    "start_time": "2023-08-17T14:40:43.792Z"
   },
   {
    "duration": 118,
    "start_time": "2023-08-17T14:41:05.187Z"
   },
   {
    "duration": 165,
    "start_time": "2023-08-17T14:41:21.825Z"
   },
   {
    "duration": 168,
    "start_time": "2023-08-17T14:42:07.124Z"
   },
   {
    "duration": 246,
    "start_time": "2023-08-17T14:42:10.942Z"
   },
   {
    "duration": 8,
    "start_time": "2023-08-17T14:42:12.510Z"
   },
   {
    "duration": 103,
    "start_time": "2023-08-17T14:43:12.465Z"
   },
   {
    "duration": 7,
    "start_time": "2023-08-17T14:43:12.952Z"
   },
   {
    "duration": 123,
    "start_time": "2023-08-17T14:50:19.093Z"
   },
   {
    "duration": 74,
    "start_time": "2023-08-17T14:51:37.956Z"
   },
   {
    "duration": 7,
    "start_time": "2023-08-17T14:51:39.396Z"
   },
   {
    "duration": 117,
    "start_time": "2023-08-17T14:52:51.208Z"
   },
   {
    "duration": 67,
    "start_time": "2023-08-17T14:53:01.066Z"
   },
   {
    "duration": 7,
    "start_time": "2023-08-17T14:53:01.752Z"
   },
   {
    "duration": 78,
    "start_time": "2023-08-17T14:53:32.241Z"
   },
   {
    "duration": 7,
    "start_time": "2023-08-17T14:53:33.035Z"
   },
   {
    "duration": 68,
    "start_time": "2023-08-17T14:53:43.759Z"
   },
   {
    "duration": 7,
    "start_time": "2023-08-17T14:53:44.324Z"
   },
   {
    "duration": 76,
    "start_time": "2023-08-17T14:55:44.707Z"
   },
   {
    "duration": 7,
    "start_time": "2023-08-17T14:55:45.403Z"
   },
   {
    "duration": 67,
    "start_time": "2023-08-17T14:56:14.323Z"
   },
   {
    "duration": 7,
    "start_time": "2023-08-17T14:56:14.725Z"
   },
   {
    "duration": 1560,
    "start_time": "2023-08-17T16:33:01.554Z"
   },
   {
    "duration": 3,
    "start_time": "2023-08-17T16:33:03.117Z"
   },
   {
    "duration": 9543,
    "start_time": "2023-08-17T16:33:03.122Z"
   },
   {
    "duration": 46,
    "start_time": "2023-08-17T16:33:12.667Z"
   },
   {
    "duration": 16,
    "start_time": "2023-08-17T16:33:12.715Z"
   },
   {
    "duration": 145,
    "start_time": "2023-08-17T16:33:12.733Z"
   },
   {
    "duration": 9,
    "start_time": "2023-08-17T16:33:12.879Z"
   },
   {
    "duration": 160,
    "start_time": "2023-08-17T16:33:12.891Z"
   },
   {
    "duration": 53,
    "start_time": "2023-08-17T16:33:13.052Z"
   },
   {
    "duration": 2,
    "start_time": "2023-08-17T16:33:13.108Z"
   },
   {
    "duration": 138,
    "start_time": "2023-08-17T16:33:13.112Z"
   },
   {
    "duration": 8,
    "start_time": "2023-08-17T16:33:13.253Z"
   },
   {
    "duration": 6,
    "start_time": "2023-08-17T16:33:13.263Z"
   },
   {
    "duration": 1516,
    "start_time": "2023-08-17T16:33:13.271Z"
   },
   {
    "duration": 12,
    "start_time": "2023-08-17T16:33:14.789Z"
   },
   {
    "duration": 81,
    "start_time": "2023-08-17T16:33:14.803Z"
   },
   {
    "duration": 8,
    "start_time": "2023-08-17T16:33:14.886Z"
   },
   {
    "duration": 70,
    "start_time": "2023-08-17T16:33:14.895Z"
   },
   {
    "duration": 16,
    "start_time": "2023-08-17T16:33:14.967Z"
   },
   {
    "duration": 13,
    "start_time": "2023-08-17T16:33:14.985Z"
   },
   {
    "duration": 1533,
    "start_time": "2023-08-17T16:33:15.001Z"
   },
   {
    "duration": 12,
    "start_time": "2023-08-17T16:33:16.535Z"
   },
   {
    "duration": 556,
    "start_time": "2023-08-17T16:33:16.549Z"
   },
   {
    "duration": 14,
    "start_time": "2023-08-17T16:33:17.106Z"
   },
   {
    "duration": 527,
    "start_time": "2023-08-17T16:33:17.122Z"
   },
   {
    "duration": 420,
    "start_time": "2023-08-17T16:33:17.651Z"
   },
   {
    "duration": 3,
    "start_time": "2023-08-17T16:33:18.073Z"
   },
   {
    "duration": 65,
    "start_time": "2023-08-17T16:33:18.080Z"
   },
   {
    "duration": 8,
    "start_time": "2023-08-17T16:33:18.147Z"
   },
   {
    "duration": 137,
    "start_time": "2023-08-17T16:33:18.156Z"
   },
   {
    "duration": 0,
    "start_time": "2023-08-17T16:33:18.295Z"
   },
   {
    "duration": 0,
    "start_time": "2023-08-17T16:33:18.296Z"
   },
   {
    "duration": 96,
    "start_time": "2023-08-17T16:37:31.515Z"
   },
   {
    "duration": 36,
    "start_time": "2023-08-17T16:37:40.958Z"
   },
   {
    "duration": 9,
    "start_time": "2023-08-17T16:37:43.485Z"
   },
   {
    "duration": 1177,
    "start_time": "2023-08-17T23:01:11.858Z"
   },
   {
    "duration": 3,
    "start_time": "2023-08-17T23:01:13.037Z"
   },
   {
    "duration": 11139,
    "start_time": "2023-08-17T23:01:13.041Z"
   },
   {
    "duration": 229,
    "start_time": "2023-08-17T23:01:24.182Z"
   },
   {
    "duration": 14,
    "start_time": "2023-08-17T23:01:24.412Z"
   },
   {
    "duration": 167,
    "start_time": "2023-08-17T23:01:24.427Z"
   },
   {
    "duration": 6,
    "start_time": "2023-08-17T23:01:24.595Z"
   },
   {
    "duration": 186,
    "start_time": "2023-08-17T23:01:24.602Z"
   },
   {
    "duration": 43,
    "start_time": "2023-08-17T23:01:24.790Z"
   },
   {
    "duration": 2,
    "start_time": "2023-08-17T23:01:24.835Z"
   },
   {
    "duration": 155,
    "start_time": "2023-08-17T23:01:24.838Z"
   },
   {
    "duration": 6,
    "start_time": "2023-08-17T23:01:24.995Z"
   },
   {
    "duration": 5,
    "start_time": "2023-08-17T23:01:25.002Z"
   },
   {
    "duration": 1295,
    "start_time": "2023-08-17T23:01:25.009Z"
   },
   {
    "duration": 11,
    "start_time": "2023-08-17T23:01:26.305Z"
   },
   {
    "duration": 104,
    "start_time": "2023-08-17T23:01:26.317Z"
   },
   {
    "duration": 7,
    "start_time": "2023-08-17T23:01:26.423Z"
   },
   {
    "duration": 65,
    "start_time": "2023-08-17T23:01:26.432Z"
   },
   {
    "duration": 6,
    "start_time": "2023-08-17T23:01:26.499Z"
   },
   {
    "duration": 5,
    "start_time": "2023-08-17T23:01:26.507Z"
   },
   {
    "duration": 1306,
    "start_time": "2023-08-17T23:01:26.513Z"
   },
   {
    "duration": 9,
    "start_time": "2023-08-17T23:01:27.821Z"
   },
   {
    "duration": 598,
    "start_time": "2023-08-17T23:01:27.832Z"
   },
   {
    "duration": 9,
    "start_time": "2023-08-17T23:01:28.432Z"
   },
   {
    "duration": 365,
    "start_time": "2023-08-17T23:01:28.442Z"
   },
   {
    "duration": 2,
    "start_time": "2023-08-17T23:01:28.809Z"
   },
   {
    "duration": 94,
    "start_time": "2023-08-17T23:01:28.812Z"
   },
   {
    "duration": 7,
    "start_time": "2023-08-17T23:01:28.908Z"
   },
   {
    "duration": 67,
    "start_time": "2023-08-17T23:01:28.917Z"
   },
   {
    "duration": 67,
    "start_time": "2023-08-17T23:01:28.985Z"
   },
   {
    "duration": 6,
    "start_time": "2023-08-17T23:01:29.054Z"
   },
   {
    "duration": 64,
    "start_time": "2023-08-17T23:09:07.649Z"
   },
   {
    "duration": 6,
    "start_time": "2023-08-17T23:09:08.673Z"
   },
   {
    "duration": 64,
    "start_time": "2023-08-17T23:09:11.945Z"
   },
   {
    "duration": 5,
    "start_time": "2023-08-17T23:09:13.001Z"
   },
   {
    "duration": 66,
    "start_time": "2023-08-17T23:12:19.079Z"
   },
   {
    "duration": 7,
    "start_time": "2023-08-17T23:12:20.192Z"
   },
   {
    "duration": 66,
    "start_time": "2023-08-17T23:12:20.880Z"
   },
   {
    "duration": 6,
    "start_time": "2023-08-17T23:12:21.561Z"
   },
   {
    "duration": 67,
    "start_time": "2023-08-17T23:12:22.184Z"
   },
   {
    "duration": 6,
    "start_time": "2023-08-17T23:12:23.777Z"
   },
   {
    "duration": 69,
    "start_time": "2023-08-17T23:14:49.786Z"
   },
   {
    "duration": 7,
    "start_time": "2023-08-17T23:14:50.793Z"
   },
   {
    "duration": 242,
    "start_time": "2023-08-17T23:15:30.768Z"
   },
   {
    "duration": 367,
    "start_time": "2023-08-17T23:15:39.667Z"
   },
   {
    "duration": 104,
    "start_time": "2023-08-17T23:16:56.987Z"
   },
   {
    "duration": 5,
    "start_time": "2023-08-17T23:16:59.825Z"
   },
   {
    "duration": 66,
    "start_time": "2023-08-17T23:19:08.075Z"
   },
   {
    "duration": 7,
    "start_time": "2023-08-17T23:19:08.618Z"
   },
   {
    "duration": 1122,
    "start_time": "2023-08-17T23:19:41.614Z"
   },
   {
    "duration": 3,
    "start_time": "2023-08-17T23:19:42.738Z"
   },
   {
    "duration": 13190,
    "start_time": "2023-08-17T23:19:42.742Z"
   },
   {
    "duration": 216,
    "start_time": "2023-08-17T23:19:55.934Z"
   },
   {
    "duration": 14,
    "start_time": "2023-08-17T23:19:56.152Z"
   },
   {
    "duration": 143,
    "start_time": "2023-08-17T23:19:56.168Z"
   },
   {
    "duration": 6,
    "start_time": "2023-08-17T23:19:56.313Z"
   },
   {
    "duration": 180,
    "start_time": "2023-08-17T23:19:56.320Z"
   },
   {
    "duration": 42,
    "start_time": "2023-08-17T23:19:56.502Z"
   },
   {
    "duration": 2,
    "start_time": "2023-08-17T23:19:56.545Z"
   },
   {
    "duration": 153,
    "start_time": "2023-08-17T23:19:56.548Z"
   },
   {
    "duration": 6,
    "start_time": "2023-08-17T23:19:56.702Z"
   },
   {
    "duration": 13,
    "start_time": "2023-08-17T23:19:56.709Z"
   },
   {
    "duration": 1237,
    "start_time": "2023-08-17T23:19:56.725Z"
   },
   {
    "duration": 10,
    "start_time": "2023-08-17T23:19:57.963Z"
   },
   {
    "duration": 99,
    "start_time": "2023-08-17T23:19:57.975Z"
   },
   {
    "duration": 7,
    "start_time": "2023-08-17T23:19:58.075Z"
   },
   {
    "duration": 69,
    "start_time": "2023-08-17T23:19:58.083Z"
   },
   {
    "duration": 6,
    "start_time": "2023-08-17T23:19:58.154Z"
   },
   {
    "duration": 15,
    "start_time": "2023-08-17T23:19:58.161Z"
   },
   {
    "duration": 1302,
    "start_time": "2023-08-17T23:19:58.178Z"
   },
   {
    "duration": 10,
    "start_time": "2023-08-17T23:19:59.482Z"
   },
   {
    "duration": 605,
    "start_time": "2023-08-17T23:19:59.493Z"
   },
   {
    "duration": 9,
    "start_time": "2023-08-17T23:20:00.100Z"
   },
   {
    "duration": 411,
    "start_time": "2023-08-17T23:20:00.110Z"
   },
   {
    "duration": 2,
    "start_time": "2023-08-17T23:20:00.522Z"
   },
   {
    "duration": 108,
    "start_time": "2023-08-17T23:20:00.526Z"
   },
   {
    "duration": 6,
    "start_time": "2023-08-17T23:20:00.636Z"
   },
   {
    "duration": 98,
    "start_time": "2023-08-17T23:20:00.644Z"
   },
   {
    "duration": 70,
    "start_time": "2023-08-17T23:20:00.744Z"
   },
   {
    "duration": 6,
    "start_time": "2023-08-17T23:20:00.816Z"
   },
   {
    "duration": 62,
    "start_time": "2023-08-18T07:53:00.523Z"
   },
   {
    "duration": 1594,
    "start_time": "2023-08-18T07:53:12.355Z"
   },
   {
    "duration": 4,
    "start_time": "2023-08-18T07:53:13.951Z"
   },
   {
    "duration": 10887,
    "start_time": "2023-08-18T07:53:13.957Z"
   },
   {
    "duration": 44,
    "start_time": "2023-08-18T07:53:24.846Z"
   },
   {
    "duration": 14,
    "start_time": "2023-08-18T07:53:24.892Z"
   },
   {
    "duration": 129,
    "start_time": "2023-08-18T07:53:24.907Z"
   },
   {
    "duration": 7,
    "start_time": "2023-08-18T07:53:25.038Z"
   },
   {
    "duration": 160,
    "start_time": "2023-08-18T07:53:25.046Z"
   },
   {
    "duration": 45,
    "start_time": "2023-08-18T07:53:25.208Z"
   },
   {
    "duration": 4,
    "start_time": "2023-08-18T07:53:25.256Z"
   },
   {
    "duration": 130,
    "start_time": "2023-08-18T07:53:25.261Z"
   },
   {
    "duration": 6,
    "start_time": "2023-08-18T07:53:25.393Z"
   },
   {
    "duration": 6,
    "start_time": "2023-08-18T07:53:25.400Z"
   },
   {
    "duration": 1289,
    "start_time": "2023-08-18T07:53:25.408Z"
   },
   {
    "duration": 12,
    "start_time": "2023-08-18T07:53:26.699Z"
   },
   {
    "duration": 73,
    "start_time": "2023-08-18T07:53:26.712Z"
   },
   {
    "duration": 6,
    "start_time": "2023-08-18T07:53:26.787Z"
   },
   {
    "duration": 33,
    "start_time": "2023-08-18T07:53:26.795Z"
   },
   {
    "duration": 5,
    "start_time": "2023-08-18T07:53:26.830Z"
   },
   {
    "duration": 10,
    "start_time": "2023-08-18T07:53:26.836Z"
   },
   {
    "duration": 1294,
    "start_time": "2023-08-18T07:53:26.847Z"
   },
   {
    "duration": 22,
    "start_time": "2023-08-18T07:53:28.143Z"
   },
   {
    "duration": 548,
    "start_time": "2023-08-18T07:53:28.167Z"
   },
   {
    "duration": 11,
    "start_time": "2023-08-18T07:53:28.717Z"
   },
   {
    "duration": 499,
    "start_time": "2023-08-18T07:53:28.730Z"
   },
   {
    "duration": 2,
    "start_time": "2023-08-18T07:53:29.231Z"
   },
   {
    "duration": 76,
    "start_time": "2023-08-18T07:53:29.234Z"
   },
   {
    "duration": 7,
    "start_time": "2023-08-18T07:53:29.313Z"
   },
   {
    "duration": 82,
    "start_time": "2023-08-18T07:53:29.321Z"
   },
   {
    "duration": 34,
    "start_time": "2023-08-18T07:53:29.405Z"
   },
   {
    "duration": 6,
    "start_time": "2023-08-18T07:53:29.441Z"
   },
   {
    "duration": 1646,
    "start_time": "2023-08-18T08:03:10.457Z"
   },
   {
    "duration": 1316,
    "start_time": "2023-08-18T08:05:38.338Z"
   },
   {
    "duration": 4,
    "start_time": "2023-08-18T08:06:27.591Z"
   },
   {
    "duration": 1410,
    "start_time": "2023-08-18T08:06:32.982Z"
   },
   {
    "duration": 1514,
    "start_time": "2023-08-18T08:07:08.854Z"
   },
   {
    "duration": 1417,
    "start_time": "2023-08-18T08:07:36.792Z"
   },
   {
    "duration": 3,
    "start_time": "2023-08-18T08:08:00.662Z"
   },
   {
    "duration": 49,
    "start_time": "2023-08-18T08:08:00.666Z"
   },
   {
    "duration": 42,
    "start_time": "2023-08-18T08:08:00.716Z"
   },
   {
    "duration": 101,
    "start_time": "2023-08-18T08:08:00.760Z"
   },
   {
    "duration": 9,
    "start_time": "2023-08-18T08:08:00.863Z"
   },
   {
    "duration": 163,
    "start_time": "2023-08-18T08:08:00.874Z"
   },
   {
    "duration": 6,
    "start_time": "2023-08-18T08:08:01.039Z"
   },
   {
    "duration": 190,
    "start_time": "2023-08-18T08:08:01.047Z"
   },
   {
    "duration": 13,
    "start_time": "2023-08-18T08:08:01.238Z"
   },
   {
    "duration": 63,
    "start_time": "2023-08-18T08:08:01.253Z"
   },
   {
    "duration": 205,
    "start_time": "2023-08-18T08:08:01.317Z"
   },
   {
    "duration": 7,
    "start_time": "2023-08-18T08:08:01.524Z"
   },
   {
    "duration": 43,
    "start_time": "2023-08-18T08:08:01.532Z"
   },
   {
    "duration": 1212,
    "start_time": "2023-08-18T08:08:01.579Z"
   },
   {
    "duration": 11,
    "start_time": "2023-08-18T08:08:02.792Z"
   },
   {
    "duration": 92,
    "start_time": "2023-08-18T08:08:02.804Z"
   },
   {
    "duration": 6,
    "start_time": "2023-08-18T08:08:02.898Z"
   },
   {
    "duration": 49,
    "start_time": "2023-08-18T08:08:02.906Z"
   },
   {
    "duration": 6,
    "start_time": "2023-08-18T08:08:02.956Z"
   },
   {
    "duration": 21,
    "start_time": "2023-08-18T08:08:02.963Z"
   },
   {
    "duration": 1315,
    "start_time": "2023-08-18T08:08:02.985Z"
   },
   {
    "duration": 10,
    "start_time": "2023-08-18T08:08:04.301Z"
   },
   {
    "duration": 577,
    "start_time": "2023-08-18T08:08:04.312Z"
   },
   {
    "duration": 12,
    "start_time": "2023-08-18T08:08:04.890Z"
   },
   {
    "duration": 377,
    "start_time": "2023-08-18T08:08:04.904Z"
   },
   {
    "duration": 2,
    "start_time": "2023-08-18T08:08:05.283Z"
   },
   {
    "duration": 77,
    "start_time": "2023-08-18T08:08:05.287Z"
   },
   {
    "duration": 7,
    "start_time": "2023-08-18T08:08:05.366Z"
   },
   {
    "duration": 82,
    "start_time": "2023-08-18T08:08:15.377Z"
   },
   {
    "duration": 94,
    "start_time": "2023-08-18T08:08:50.792Z"
   },
   {
    "duration": 111,
    "start_time": "2023-08-18T08:11:39.140Z"
   },
   {
    "duration": 113,
    "start_time": "2023-08-18T08:13:34.447Z"
   },
   {
    "duration": 115,
    "start_time": "2023-08-18T08:16:58.331Z"
   },
   {
    "duration": 124,
    "start_time": "2023-08-18T08:18:13.770Z"
   },
   {
    "duration": 114,
    "start_time": "2023-08-18T08:20:01.008Z"
   },
   {
    "duration": 8,
    "start_time": "2023-08-18T08:20:04.635Z"
   },
   {
    "duration": 3,
    "start_time": "2023-08-18T08:24:54.472Z"
   },
   {
    "duration": 3,
    "start_time": "2023-08-18T08:34:56.137Z"
   },
   {
    "duration": 1489,
    "start_time": "2023-08-18T08:48:48.020Z"
   },
   {
    "duration": 3,
    "start_time": "2023-08-18T08:49:20.681Z"
   },
   {
    "duration": 19,
    "start_time": "2023-08-18T08:49:20.687Z"
   },
   {
    "duration": 30,
    "start_time": "2023-08-18T08:49:20.707Z"
   },
   {
    "duration": 58,
    "start_time": "2023-08-18T08:49:20.739Z"
   },
   {
    "duration": 10,
    "start_time": "2023-08-18T08:49:20.799Z"
   },
   {
    "duration": 141,
    "start_time": "2023-08-18T08:49:20.811Z"
   },
   {
    "duration": 7,
    "start_time": "2023-08-18T08:49:20.954Z"
   },
   {
    "duration": 160,
    "start_time": "2023-08-18T08:49:20.963Z"
   },
   {
    "duration": 11,
    "start_time": "2023-08-18T08:49:21.125Z"
   },
   {
    "duration": 6,
    "start_time": "2023-08-18T08:49:21.138Z"
   },
   {
    "duration": 141,
    "start_time": "2023-08-18T08:49:21.145Z"
   },
   {
    "duration": 6,
    "start_time": "2023-08-18T08:49:21.288Z"
   },
   {
    "duration": 13,
    "start_time": "2023-08-18T08:49:21.296Z"
   },
   {
    "duration": 1215,
    "start_time": "2023-08-18T08:49:21.311Z"
   },
   {
    "duration": 10,
    "start_time": "2023-08-18T08:49:22.527Z"
   },
   {
    "duration": 85,
    "start_time": "2023-08-18T08:49:22.539Z"
   },
   {
    "duration": 7,
    "start_time": "2023-08-18T08:49:22.626Z"
   },
   {
    "duration": 47,
    "start_time": "2023-08-18T08:49:22.634Z"
   },
   {
    "duration": 5,
    "start_time": "2023-08-18T08:49:22.683Z"
   },
   {
    "duration": 20,
    "start_time": "2023-08-18T08:49:22.690Z"
   },
   {
    "duration": 1344,
    "start_time": "2023-08-18T08:49:22.712Z"
   },
   {
    "duration": 18,
    "start_time": "2023-08-18T08:49:24.058Z"
   },
   {
    "duration": 578,
    "start_time": "2023-08-18T08:49:24.078Z"
   },
   {
    "duration": 11,
    "start_time": "2023-08-18T08:49:24.657Z"
   },
   {
    "duration": 407,
    "start_time": "2023-08-18T08:49:30.114Z"
   },
   {
    "duration": 1467,
    "start_time": "2023-08-18T09:04:57.453Z"
   },
   {
    "duration": 5,
    "start_time": "2023-08-18T09:04:58.922Z"
   },
   {
    "duration": 19795,
    "start_time": "2023-08-18T09:04:58.929Z"
   },
   {
    "duration": 56,
    "start_time": "2023-08-18T09:05:18.726Z"
   },
   {
    "duration": 17,
    "start_time": "2023-08-18T09:05:18.784Z"
   },
   {
    "duration": 136,
    "start_time": "2023-08-18T09:05:18.803Z"
   },
   {
    "duration": 7,
    "start_time": "2023-08-18T09:05:18.940Z"
   },
   {
    "duration": 152,
    "start_time": "2023-08-18T09:05:18.949Z"
   },
   {
    "duration": 49,
    "start_time": "2023-08-18T09:05:19.104Z"
   },
   {
    "duration": 2,
    "start_time": "2023-08-18T09:05:19.157Z"
   },
   {
    "duration": 136,
    "start_time": "2023-08-18T09:05:19.161Z"
   },
   {
    "duration": 9,
    "start_time": "2023-08-18T09:05:19.299Z"
   },
   {
    "duration": 9,
    "start_time": "2023-08-18T09:05:19.310Z"
   },
   {
    "duration": 1339,
    "start_time": "2023-08-18T09:05:19.321Z"
   },
   {
    "duration": 11,
    "start_time": "2023-08-18T09:05:20.662Z"
   },
   {
    "duration": 80,
    "start_time": "2023-08-18T09:05:20.675Z"
   },
   {
    "duration": 8,
    "start_time": "2023-08-18T09:05:20.757Z"
   },
   {
    "duration": 51,
    "start_time": "2023-08-18T09:05:20.767Z"
   },
   {
    "duration": 6,
    "start_time": "2023-08-18T09:05:20.820Z"
   },
   {
    "duration": 28,
    "start_time": "2023-08-18T09:05:20.827Z"
   },
   {
    "duration": 1399,
    "start_time": "2023-08-18T09:05:20.857Z"
   },
   {
    "duration": 11,
    "start_time": "2023-08-18T09:05:22.258Z"
   },
   {
    "duration": 570,
    "start_time": "2023-08-18T09:05:22.270Z"
   },
   {
    "duration": 11,
    "start_time": "2023-08-18T09:05:22.842Z"
   },
   {
    "duration": 405,
    "start_time": "2023-08-18T09:05:22.855Z"
   },
   {
    "duration": 3,
    "start_time": "2023-08-18T09:05:23.262Z"
   },
   {
    "duration": 71,
    "start_time": "2023-08-18T09:05:23.267Z"
   },
   {
    "duration": 91,
    "start_time": "2023-08-18T09:05:23.341Z"
   },
   {
    "duration": 114,
    "start_time": "2023-08-18T09:05:23.434Z"
   },
   {
    "duration": 7,
    "start_time": "2023-08-18T09:05:23.550Z"
   },
   {
    "duration": 106,
    "start_time": "2023-08-18T09:16:09.874Z"
   },
   {
    "duration": 9,
    "start_time": "2023-08-18T09:16:10.625Z"
   },
   {
    "duration": 108,
    "start_time": "2023-08-18T09:16:12.073Z"
   },
   {
    "duration": 8,
    "start_time": "2023-08-18T09:16:12.926Z"
   },
   {
    "duration": 113,
    "start_time": "2023-08-18T09:16:13.509Z"
   },
   {
    "duration": 7,
    "start_time": "2023-08-18T09:16:14.824Z"
   },
   {
    "duration": 1217,
    "start_time": "2023-08-18T09:16:29.095Z"
   },
   {
    "duration": 4,
    "start_time": "2023-08-18T09:16:30.314Z"
   },
   {
    "duration": 17674,
    "start_time": "2023-08-18T09:16:30.320Z"
   },
   {
    "duration": 68,
    "start_time": "2023-08-18T09:16:47.996Z"
   },
   {
    "duration": 17,
    "start_time": "2023-08-18T09:16:48.065Z"
   },
   {
    "duration": 154,
    "start_time": "2023-08-18T09:16:48.084Z"
   },
   {
    "duration": 8,
    "start_time": "2023-08-18T09:16:48.240Z"
   },
   {
    "duration": 163,
    "start_time": "2023-08-18T09:16:48.250Z"
   },
   {
    "duration": 62,
    "start_time": "2023-08-18T09:16:48.415Z"
   },
   {
    "duration": 3,
    "start_time": "2023-08-18T09:16:48.480Z"
   },
   {
    "duration": 160,
    "start_time": "2023-08-18T09:16:48.485Z"
   },
   {
    "duration": 8,
    "start_time": "2023-08-18T09:16:48.647Z"
   },
   {
    "duration": 13,
    "start_time": "2023-08-18T09:16:48.656Z"
   },
   {
    "duration": 1463,
    "start_time": "2023-08-18T09:16:48.670Z"
   },
   {
    "duration": 23,
    "start_time": "2023-08-18T09:16:50.135Z"
   },
   {
    "duration": 129,
    "start_time": "2023-08-18T09:16:50.160Z"
   },
   {
    "duration": 298,
    "start_time": "2023-08-18T09:16:50.291Z"
   },
   {
    "duration": 133,
    "start_time": "2023-08-18T09:16:50.591Z"
   },
   {
    "duration": 6,
    "start_time": "2023-08-18T09:16:50.727Z"
   },
   {
    "duration": 16,
    "start_time": "2023-08-18T09:16:50.735Z"
   },
   {
    "duration": 1415,
    "start_time": "2023-08-18T09:16:50.753Z"
   },
   {
    "duration": 12,
    "start_time": "2023-08-18T09:16:52.170Z"
   },
   {
    "duration": 605,
    "start_time": "2023-08-18T09:16:52.184Z"
   },
   {
    "duration": 11,
    "start_time": "2023-08-18T09:16:52.790Z"
   },
   {
    "duration": 462,
    "start_time": "2023-08-18T09:16:52.803Z"
   },
   {
    "duration": 4,
    "start_time": "2023-08-18T09:16:53.267Z"
   },
   {
    "duration": 75,
    "start_time": "2023-08-18T09:16:53.273Z"
   },
   {
    "duration": 97,
    "start_time": "2023-08-18T09:16:53.351Z"
   },
   {
    "duration": 114,
    "start_time": "2023-08-18T09:16:53.457Z"
   },
   {
    "duration": 7,
    "start_time": "2023-08-18T09:16:53.573Z"
   },
   {
    "duration": 1316,
    "start_time": "2023-08-18T09:18:29.378Z"
   },
   {
    "duration": 4,
    "start_time": "2023-08-18T09:18:30.697Z"
   },
   {
    "duration": 15404,
    "start_time": "2023-08-18T09:18:30.705Z"
   },
   {
    "duration": 36,
    "start_time": "2023-08-18T09:18:46.112Z"
   },
   {
    "duration": 16,
    "start_time": "2023-08-18T09:18:46.150Z"
   },
   {
    "duration": 134,
    "start_time": "2023-08-18T09:18:46.168Z"
   },
   {
    "duration": 7,
    "start_time": "2023-08-18T09:18:46.304Z"
   },
   {
    "duration": 163,
    "start_time": "2023-08-18T09:18:46.313Z"
   },
   {
    "duration": 48,
    "start_time": "2023-08-18T09:18:46.478Z"
   },
   {
    "duration": 3,
    "start_time": "2023-08-18T09:18:46.527Z"
   },
   {
    "duration": 127,
    "start_time": "2023-08-18T09:18:46.531Z"
   },
   {
    "duration": 7,
    "start_time": "2023-08-18T09:18:46.660Z"
   },
   {
    "duration": 96,
    "start_time": "2023-08-18T09:18:46.670Z"
   },
   {
    "duration": 1588,
    "start_time": "2023-08-18T09:18:46.768Z"
   },
   {
    "duration": 12,
    "start_time": "2023-08-18T09:18:48.358Z"
   },
   {
    "duration": 105,
    "start_time": "2023-08-18T09:18:48.372Z"
   },
   {
    "duration": 8,
    "start_time": "2023-08-18T09:18:48.479Z"
   },
   {
    "duration": 34,
    "start_time": "2023-08-18T09:18:48.489Z"
   },
   {
    "duration": 6,
    "start_time": "2023-08-18T09:18:48.526Z"
   },
   {
    "duration": 7,
    "start_time": "2023-08-18T09:18:48.534Z"
   },
   {
    "duration": 1351,
    "start_time": "2023-08-18T09:18:48.543Z"
   },
   {
    "duration": 10,
    "start_time": "2023-08-18T09:18:49.896Z"
   },
   {
    "duration": 575,
    "start_time": "2023-08-18T09:18:49.908Z"
   },
   {
    "duration": 10,
    "start_time": "2023-08-18T09:18:50.485Z"
   },
   {
    "duration": 479,
    "start_time": "2023-08-18T09:18:50.496Z"
   },
   {
    "duration": 3,
    "start_time": "2023-08-18T09:18:50.977Z"
   },
   {
    "duration": 67,
    "start_time": "2023-08-18T09:18:50.981Z"
   },
   {
    "duration": 112,
    "start_time": "2023-08-18T09:18:51.050Z"
   },
   {
    "duration": 111,
    "start_time": "2023-08-18T09:18:51.164Z"
   },
   {
    "duration": 7,
    "start_time": "2023-08-18T09:18:51.277Z"
   },
   {
    "duration": 3,
    "start_time": "2023-12-11T12:11:47.461Z"
   }
  ],
  "colab": {
   "provenance": []
  },
  "kernelspec": {
   "display_name": "Python 3 (ipykernel)",
   "language": "python",
   "name": "python3"
  },
  "language_info": {
   "codemirror_mode": {
    "name": "ipython",
    "version": 3
   },
   "file_extension": ".py",
   "mimetype": "text/x-python",
   "name": "python",
   "nbconvert_exporter": "python",
   "pygments_lexer": "ipython3",
   "version": "3.9.13"
  },
  "toc": {
   "base_numbering": 1,
   "nav_menu": {},
   "number_sections": true,
   "sideBar": true,
   "skip_h1_title": true,
   "title_cell": "Table of Contents",
   "title_sidebar": "Contents",
   "toc_cell": false,
   "toc_position": {},
   "toc_section_display": true,
   "toc_window_display": false
  }
 },
 "nbformat": 4,
 "nbformat_minor": 1
}
