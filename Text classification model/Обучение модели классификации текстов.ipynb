{
 "cells": [
  {
   "cell_type": "markdown",
   "id": "60488c04",
   "metadata": {},
   "source": [
    "# Обучение модели классификации текстов"
   ]
  },
  {
   "cell_type": "markdown",
   "id": "73be075d",
   "metadata": {},
   "source": [
    "## Проект \"Проверка токсичных комментариев в интернет-магазине \"Викишоп\" #"
   ]
  },
  {
   "cell_type": "markdown",
   "id": "c63ae261",
   "metadata": {},
   "source": [
    "## Описание проекта ##\n",
    "\n",
    "Интернет-магазин «Викишоп» запускает новый сервис. Теперь пользователи могут редактировать и дополнять описания товаров, как в вики-сообществах. То есть клиенты предлагают свои правки и комментируют изменения других. Магазину нужен инструмент, который будет искать токсичные комментарии и отправлять их на модерацию.\n",
    "\n",
    "Цель проекта - обучить модель классифицировать комментарии на позитивные и негативные. В вашем распоряжении набор данных с разметкой о токсичности правок.\n",
    "\n",
    "Постройте модель со значением метрики качества F1 не меньше 0.75.\n",
    "\n",
    "***План работы:***\n",
    "\n",
    "- загрузить и подготовить данные,\n",
    "- обучите разные модели,\n",
    "- сделать выводы.\n",
    "\n",
    "***Описание данных***\n",
    "\n",
    "Данные находятся в файле /datasets/toxic_comments.csv. \n",
    "\n",
    "Столбец text в нём содержит текст комментария, а toxic — целевой признак."
   ]
  },
  {
   "cell_type": "code",
   "execution_count": null,
   "id": "e09a659e",
   "metadata": {},
   "outputs": [],
   "source": [
    "# загружаем библиотеки\n",
    "import pandas as pd\n",
    "import numpy as np\n",
    "import matplotlib.pyplot as plt\n",
    "import re\n",
    "import time\n",
    "import seaborn as sns\n",
    "\n",
    "!pip install pymystem3\n",
    "\n",
    "\n",
    "\n",
    "from pymystem3 import Mystem\n",
    "import nltk\n",
    "nltk.download('omw-1.4') #присипользовании  WordNetLemmatizer запросили сделать эту загрузку\n",
    "nltk.download('averaged_perceptron_tagger') #попрсили загурзить, когда проставляла POS-теги при лемматизации\n",
    "from nltk.stem import WordNetLemmatizer\n",
    "from nltk.corpus import stopwords as nltk_stopwords\n",
    "nltk.download('stopwords')\n",
    "nltk.download('wordnet')\n",
    "from nltk.corpus import wordnet\n",
    "stopwords = set(nltk_stopwords.words('russian'))\n",
    "from sklearn.model_selection import train_test_split, cross_val_score, GridSearchCV\n",
    "from sklearn.linear_model import LogisticRegression\n",
    "from sklearn.metrics import accuracy_score, recall_score, f1_score, roc_auc_score, roc_curve, confusion_matrix, precision_score, fbeta_score, make_scorer, precision_recall_curve\n",
    "from sklearn.pipeline import Pipeline\n",
    "\n",
    "from sklearn.tree import DecisionTreeClassifier\n",
    "from catboost import CatBoostClassifier\n",
    "\n",
    "#для pipelime\n",
    "from sklearn.compose import make_column_transformer\n",
    "from sklearn.pipeline import make_pipeline\n",
    "\n",
    "from sklearn.feature_extraction.text import TfidfVectorizer, CountVectorizer"
   ]
  },
  {
   "cell_type": "code",
   "execution_count": null,
   "id": "74c0cbb2",
   "metadata": {},
   "outputs": [],
   "source": [
    "#загрузка обучающей выборки\n",
    "\n",
    "data = pd.read_csv('https://code.s3.yandex.net/datasets/toxic_comments.csv') "
   ]
  },
  {
   "cell_type": "code",
   "execution_count": null,
   "id": "851c077a",
   "metadata": {},
   "outputs": [],
   "source": [
    "#посмотрим на данные в таблице\n",
    "data.head()"
   ]
  },
  {
   "cell_type": "code",
   "execution_count": null,
   "id": "38af952d",
   "metadata": {},
   "outputs": [],
   "source": [
    "#информация по датасету\n",
    "data.info()"
   ]
  },
  {
   "cell_type": "code",
   "execution_count": null,
   "id": "2a2445f8",
   "metadata": {},
   "outputs": [],
   "source": [
    "#удалим столбец unnamed\n",
    "\n",
    "data = data.drop(['Unnamed: 0'], axis=1)"
   ]
  },
  {
   "cell_type": "code",
   "execution_count": null,
   "id": "35407061",
   "metadata": {},
   "outputs": [],
   "source": [
    "#проверка распределения классов в обучающей выборке\n",
    "data['toxic'].value_counts().plot.bar();"
   ]
  },
  {
   "cell_type": "code",
   "execution_count": null,
   "id": "279f22f3",
   "metadata": {},
   "outputs": [],
   "source": [
    "print(data['toxic'].value_counts())"
   ]
  },
  {
   "cell_type": "code",
   "execution_count": null,
   "id": "f46688f1",
   "metadata": {},
   "outputs": [],
   "source": [
    "#расчет для параметра scale_pos_weight для модели CatBoostClassifier, округлим до целого\n",
    "scale_pos_weight = 143106/16186\n",
    "print(round(scale_pos_weight))"
   ]
  },
  {
   "cell_type": "markdown",
   "id": "56802003",
   "metadata": {},
   "source": [
    "***Вывод:*** В данных нет пропусков. Данные не сбалансированы, учтем это в параметре class_weight  модели при прогнозировани."
   ]
  },
  {
   "cell_type": "markdown",
   "id": "50f626d0",
   "metadata": {},
   "source": [
    "## 1. Подготовка данных ##"
   ]
  },
  {
   "cell_type": "code",
   "execution_count": null,
   "id": "55c52c40",
   "metadata": {},
   "outputs": [],
   "source": [
    "%%time\n",
    "#очистим данные от лишних симфолом, разделителей, пробелы в начале и конце строки и пр.\n",
    "def cleaning(text):\n",
    "    text = re.sub(r\"(?:\\n|\\r)\", \" \", text)\n",
    "    text = re.sub(r\"[^a-zA-Z ]+\", \"\", text).strip()\n",
    "    text = text.lower()\n",
    "    return text\n",
    "\n",
    "data['text'] = data['text'].apply(cleaning)"
   ]
  },
  {
   "cell_type": "code",
   "execution_count": null,
   "id": "0b8ae9cd",
   "metadata": {},
   "outputs": [],
   "source": [
    "data.head()"
   ]
  },
  {
   "cell_type": "markdown",
   "id": "e04f42ea",
   "metadata": {},
   "source": [
    "***Токенизация и лемматизация через функцию***"
   ]
  },
  {
   "cell_type": "code",
   "execution_count": null,
   "id": "61e5ea81",
   "metadata": {},
   "outputs": [],
   "source": [
    "%%time\n",
    "#проведем лемматизацию с помощью лексической базы Wordnet для английского языка\n",
    "lemmatizer = WordNetLemmatizer()\n",
    "\n",
    "def get_wordnet_pos(word):\n",
    "    #сопоставление POS-тегов NLTK с форматом, принятым лемматизатором wordnet\n",
    "    tag = nltk.pos_tag([word])[0][1][0].upper()\n",
    "    tag_dict = {\"J\": wordnet.ADJ,\n",
    "                \"N\": wordnet.NOUN,\n",
    "                \"V\": wordnet.VERB,\n",
    "                \"R\": wordnet.ADV}\n",
    "    return tag_dict.get(tag, wordnet.NOUN)\n",
    "\n",
    "def lemm_text_with_pos_tag (text):\n",
    "   \n",
    "    new_text = [lemmatizer.lemmatize(w, get_wordnet_pos(w)) for w in nltk.word_tokenize(text)]\n",
    "    text = \" \".join(new_text)\n",
    "    return text\n",
    "\n",
    "data['new_text'] = data['text'].apply(lemm_text_with_pos_tag)"
   ]
  },
  {
   "cell_type": "code",
   "execution_count": null,
   "id": "d0a81529",
   "metadata": {
    "scrolled": true
   },
   "outputs": [],
   "source": [
    "data.head()"
   ]
  },
  {
   "cell_type": "markdown",
   "id": "ec02817e",
   "metadata": {},
   "source": [
    "***Вариант токенизации и лемматизации, когда делаю без функции***"
   ]
  },
  {
   "cell_type": "code",
   "execution_count": null,
   "id": "fe95d1a1",
   "metadata": {},
   "outputs": [],
   "source": [
    "corpus = data['text'].values\n",
    "corpus = corpus[0]\n",
    "corpus"
   ]
  },
  {
   "cell_type": "code",
   "execution_count": null,
   "id": "6ec25f01",
   "metadata": {},
   "outputs": [],
   "source": [
    "# Tokenize: Split the sentence into words\n",
    "#corpus = str(corpus)\n",
    "word_list = corpus.split()\n",
    "print(word_list)"
   ]
  },
  {
   "cell_type": "code",
   "execution_count": null,
   "id": "3da072f2",
   "metadata": {},
   "outputs": [],
   "source": [
    "lemmatizer = WordNetLemmatizer()\n",
    "lemmatized_output = ' '.join([lemmatizer.lemmatize(w) for w in word_list])\n",
    "print(lemmatized_output)"
   ]
  },
  {
   "cell_type": "code",
   "execution_count": null,
   "id": "bbfe8630",
   "metadata": {},
   "outputs": [],
   "source": [
    "# Lemmatize with POS Tag\n",
    "from nltk.corpus import wordnet\n",
    "def get_wordnet_pos(word):\n",
    "    \"\"\"Map POS tag to first character lemmatize() accepts\"\"\"\n",
    "    tag = nltk.pos_tag([word])[0][1][0].upper()\n",
    "    tag_dict = {\"J\": wordnet.ADJ,\n",
    "                \"N\": wordnet.NOUN,\n",
    "                \"V\": wordnet.VERB,\n",
    "                \"R\": wordnet.ADV}\n",
    "    return tag_dict.get(tag, wordnet.NOUN)\n",
    "\n",
    "# 1. Init Lemmatizer\n",
    "lemmatizer = WordNetLemmatizer()\n",
    "\n",
    "\n",
    "# 3. Lemmatize a Sentence with the appropriate POS tag\n",
    "sentence = \"The striped bats are hanging on their feet for best\"\n",
    "new_text = [lemmatizer.lemmatize(w, get_wordnet_pos(w)) for w in nltk.word_tokenize(lemmatized_output)]\n",
    "\n",
    "print(new_text)\n",
    "    \n"
   ]
  },
  {
   "cell_type": "code",
   "execution_count": null,
   "id": "3df42150",
   "metadata": {},
   "outputs": [],
   "source": [
    "text = text = \" \".join(new_text)\n",
    "text"
   ]
  },
  {
   "cell_type": "code",
   "execution_count": null,
   "id": "ef39d94e",
   "metadata": {},
   "outputs": [],
   "source": [
    "data1 = pd.DataFrame([text])\n",
    "data1"
   ]
  },
  {
   "cell_type": "code",
   "execution_count": null,
   "id": "94ad6935",
   "metadata": {},
   "outputs": [],
   "source": [
    "data.head()"
   ]
  },
  {
   "cell_type": "markdown",
   "id": "94d7b93f",
   "metadata": {},
   "source": [
    "***Разобъем данные на выборки***"
   ]
  },
  {
   "cell_type": "code",
   "execution_count": null,
   "id": "90fe2476",
   "metadata": {},
   "outputs": [],
   "source": [
    "#введем коснтанту RANDOM_STATE\n",
    "RANDOM_STATE = 12345\n",
    "\n",
    "target = data['toxic']\n",
    "features = data.drop(['toxic'], axis=1)\n",
    "features = features.drop(['text'], axis=1)\n",
    "\n",
    "\n",
    "#Разобьем выборку по отношению 50 - 20, на обучающую и тестовую. Валидационная нам не потребуется, \n",
    "#так как при подборе параментров модели с помощью greadsearch будем использовать кросс-валидацию\n",
    "\n",
    "features_train, features_test, target_train, target_test = train_test_split(features, \n",
    "                                                                              target, \n",
    "                                                                              test_size=0.2, \n",
    "                                                                              random_state=RANDOM_STATE)\n"
   ]
  },
  {
   "cell_type": "code",
   "execution_count": null,
   "id": "3ed75d32",
   "metadata": {},
   "outputs": [],
   "source": [
    "print('Размер тренировочной выборки', features_train.shape)\n",
    "print('Размер тестовой выборки', features_test.shape)\n",
    "print(features_train.columns)"
   ]
  },
  {
   "cell_type": "markdown",
   "id": "80fed1ab",
   "metadata": {},
   "source": [
    "***Удалим стоп-слова, а вектрризвацию проведем через Pipeline в GreadSearch***"
   ]
  },
  {
   "cell_type": "markdown",
   "id": "959febc6",
   "metadata": {},
   "source": [
    "#установим список стоп-слов\n",
    "\n",
    "stopwords = set(nltk_stopwords.words('english')) \n",
    "count_tf_idf = TfidfVectorizer(stop_words=stopwords)\n",
    "\n",
    "#создадим матрицу cо значениями \n",
    "\n",
    "tfidf_train = count_tf_idf.fit_transform(features_train['text'])\n",
    "tfidf_test = count_tf_idf.transform(features_test['text'])\n",
    "\n",
    "print(features_train.shape)\n",
    "print(features_test.shape)"
   ]
  },
  {
   "cell_type": "code",
   "execution_count": null,
   "id": "51832655",
   "metadata": {},
   "outputs": [],
   "source": [
    "#установим список стоп-слов\n",
    "\n",
    "stopwords = set(nltk_stopwords.words('english')) \n",
    "\n",
    "#создаем объект count_tf_idf для использования TfidfVectorizer (его будем использовать ниже в pipeline при обучении моделей)\n",
    "count_tf_idf = TfidfVectorizer(stop_words=stopwords)\n",
    "\n",
    "#создадим матрицу cо значениями \n",
    "\n",
    "tfidf_train = count_tf_idf.fit_transform(features_train['new_text'])\n",
    "tfidf_test = count_tf_idf.transform(features_test['new_text'])\n",
    "\n",
    "print(features_train.shape)\n",
    "print(features_test.shape)"
   ]
  },
  {
   "cell_type": "code",
   "execution_count": null,
   "id": "14daaba4",
   "metadata": {},
   "outputs": [],
   "source": [
    "print(tfidf_train.shape)\n",
    "print(tfidf_test.shape)"
   ]
  },
  {
   "cell_type": "markdown",
   "id": "9c4f2c1e",
   "metadata": {},
   "source": [
    "## 2. Обучение "
   ]
  },
  {
   "cell_type": "markdown",
   "id": "2a43af09",
   "metadata": {},
   "source": [
    "### Выбор лучшей модели прогнозирования из трех: LogisticRegression, DecisionTreeClassifier, CatBoostClassifier ##"
   ]
  },
  {
   "cell_type": "markdown",
   "id": "8c32bce3",
   "metadata": {},
   "source": [
    "*Примечание: при подборе параметров моделей был использован более широкий диапазон, но когда были найдены оптимальные параметры, диапазон был сужен, чтобы при обновлении проекта обучение не длилось бесссмысленно долго."
   ]
  },
  {
   "cell_type": "markdown",
   "id": "3544e26b",
   "metadata": {},
   "source": [
    "***Обучение модели LogisticRegression***"
   ]
  },
  {
   "cell_type": "code",
   "execution_count": null,
   "id": "0f1fdf23",
   "metadata": {},
   "outputs": [],
   "source": [
    "model_lr = LogisticRegression(random_state = RANDOM_STATE)"
   ]
  },
  {
   "cell_type": "code",
   "execution_count": null,
   "id": "288fe788",
   "metadata": {},
   "outputs": [],
   "source": [
    "pipe = make_pipeline(TfidfVectorizer(), \n",
    "                     LogisticRegression()) \n",
    "\n",
    "parametrs = {\n",
    "    'logisticregression__solver':['liblinear', 'newton-cg'],\n",
    "    'logisticregression__C': [0.1, 7, 10],\n",
    "    'logisticregression__class_weight': ['balanced']\n",
    "}\n",
    "grid = GridSearchCV(pipe,\n",
    "                     parametrs, cv=5,  scoring='f1', verbose=3)\n",
    "grid.fit(features_train['new_text'], target_train)\n",
    "#выводим результат\n",
    "print(grid.best_params_)"
   ]
  },
  {
   "cell_type": "code",
   "execution_count": null,
   "id": "4c15b26a",
   "metadata": {},
   "outputs": [],
   "source": [
    "#передадим лучшие параметры на вход модели\n",
    "\n",
    "model_lr = grid.best_estimator_"
   ]
  },
  {
   "cell_type": "code",
   "execution_count": null,
   "id": "be94e3ea",
   "metadata": {},
   "outputs": [],
   "source": [
    "#сохраним и выведем на печать лучшую метрику для модели\n",
    "\n",
    "best_score_lr = grid.best_score_\n",
    "print(best_score_lr)"
   ]
  },
  {
   "cell_type": "markdown",
   "id": "234db5e6",
   "metadata": {},
   "source": [
    "***Обучение модели DecisionTreeClassifier***"
   ]
  },
  {
   "cell_type": "code",
   "execution_count": null,
   "id": "cb3d0b49",
   "metadata": {},
   "outputs": [],
   "source": [
    "%%time\n",
    "pipe = make_pipeline(TfidfVectorizer(), \n",
    "                     DecisionTreeClassifier(criterion='gini',random_state=RANDOM_STATE)) \n",
    "\n",
    "parametrs = {\n",
    "    'decisiontreeclassifier__max_depth':range (160,360, 50),\n",
    "    'decisiontreeclassifier__class_weight': ['balanced']\n",
    "}\n",
    "grid = GridSearchCV(pipe,\n",
    "                     parametrs, cv=5,  scoring='f1', verbose=3)\n",
    "grid.fit(features_train['new_text'], target_train)\n",
    "#выводим результат\n",
    "print(grid.best_params_)"
   ]
  },
  {
   "cell_type": "code",
   "execution_count": null,
   "id": "ef06914a",
   "metadata": {},
   "outputs": [],
   "source": [
    "#передадим лучшие параметры на вход модели\n",
    "\n",
    "model_dt = grid.best_estimator_"
   ]
  },
  {
   "cell_type": "code",
   "execution_count": null,
   "id": "9c933cdf",
   "metadata": {},
   "outputs": [],
   "source": [
    "#сохраним и выведем на печать лучшую метрику для модели\n",
    "\n",
    "best_score_dt = grid.best_score_\n",
    "print(best_score_dt)"
   ]
  },
  {
   "cell_type": "markdown",
   "id": "6c9310b7",
   "metadata": {},
   "source": [
    "***Обучение модели CatBoostClassifier***"
   ]
  },
  {
   "cell_type": "code",
   "execution_count": null,
   "id": "efe1fc5f",
   "metadata": {},
   "outputs": [],
   "source": [
    "%%time\n",
    "pipe = make_pipeline(TfidfVectorizer(), \n",
    "                     CatBoostClassifier(verbose=False, iterations=250, scale_pos_weight = 9, random_state = RANDOM_STATE)) \n",
    "\n",
    "parametrs = {\n",
    "    'catboostclassifier__depth':[4, 6],\n",
    "    'catboostclassifier__learning_rate': [0.1, 0.15]\n",
    "}\n",
    "grid = GridSearchCV(pipe,\n",
    "                     parametrs, cv=5,  scoring='f1', verbose=3)\n",
    "grid.fit(features_train['new_text'], target_train)\n",
    "#выводим результат\n",
    "print(grid.best_params_)"
   ]
  },
  {
   "cell_type": "code",
   "execution_count": null,
   "id": "0948b236",
   "metadata": {},
   "outputs": [],
   "source": [
    "#передадим лучшие параметры на вход модели\n",
    "\n",
    "model_cb = grid.best_estimator_"
   ]
  },
  {
   "cell_type": "code",
   "execution_count": null,
   "id": "4e97e0b7",
   "metadata": {},
   "outputs": [],
   "source": [
    "#сохраним и выведем на печать лучшую метрику для модели\n",
    "\n",
    "best_score_cb = grid.best_score_\n",
    "print(best_score_cb)"
   ]
  },
  {
   "cell_type": "markdown",
   "id": "0308d13d",
   "metadata": {},
   "source": [
    "***Выбор лучшей модели***"
   ]
  },
  {
   "cell_type": "code",
   "execution_count": null,
   "id": "cfc71841",
   "metadata": {},
   "outputs": [],
   "source": [
    "#построим датасет для сравнения метрики F1 по моделям\n",
    "\n",
    "index = ['LogisticRegression',\n",
    "         'DecisionTreeClassifier',\n",
    "         'CatBoostClassifier']\n",
    "data = {'F1-score':[best_score_lr,\n",
    "                    best_score_dt,\n",
    "                    best_score_cb]}\n",
    "\n",
    "best_score_by_model = pd.DataFrame(data=data, index=index)\n",
    "\n",
    "#добавим новый столбец, который покажет соответствует ли метрика условию задачи\n",
    "\n",
    "best_score_by_model['метрика качества F1>0.75'] = best_score_by_model['F1-score'] > 0.75\n",
    "best_score_by_model"
   ]
  },
  {
   "cell_type": "markdown",
   "id": "f3fd033d",
   "metadata": {},
   "source": [
    "***Вывод:***"
   ]
  },
  {
   "cell_type": "markdown",
   "id": "23a0ebeb",
   "metadata": {},
   "source": [
    "С помощью подбора параметром и метода кросс-валидации мы проверили на обучающей выборке 3 модели LogisticRegression, DecisionTreeClassifier, CatBoostClassifier.\n",
    "\n",
    "По условиям проекта необходимо подобрать модель с метрикой F1 не ниже 0,75. Под этом критерий попадает только модель Логистической регресии, ее F1 равна 0,769057. Что еще важно это одна из самых быстрых моделей в обучении. \n",
    "\n",
    "*Примечение: У Модели CatBoostClassifier есть потенциал достичь требуемую метрику, но на обучение уходит очень  много времени. "
   ]
  },
  {
   "cell_type": "markdown",
   "id": "e1f1afe8",
   "metadata": {},
   "source": [
    "## Проверка лучшей модели на тестовой выборке ##"
   ]
  },
  {
   "cell_type": "code",
   "execution_count": null,
   "id": "40664840",
   "metadata": {},
   "outputs": [],
   "source": [
    "#обучим модель по полученным параметрам и рассчитаем ее показатели на тестовой выборке\n",
    "\n",
    "predictions_test= model_lr.predict(tfidf_test)"
   ]
  },
  {
   "cell_type": "code",
   "execution_count": null,
   "id": "9f4dccce",
   "metadata": {},
   "outputs": [],
   "source": [
    "#рассчитаем метрику F1 на тестовой выборке\n",
    "\n",
    "f1_score_lr = f1_score(target_test, predictions_test)\n",
    "\n",
    "print('f1-мера - среднее гармоническое полноты и точности:', f1_score_lr) "
   ]
  },
  {
   "cell_type": "markdown",
   "id": "f0d428d6",
   "metadata": {},
   "source": [
    "***Вывод:*** На тестовой выборке метрика даже немного выше, чем на кросс-валидации, что хорошо. "
   ]
  },
  {
   "cell_type": "markdown",
   "id": "71a3a11f",
   "metadata": {},
   "source": [
    "***Матрица ошибок и график полноты и точности для лучшей модели***"
   ]
  },
  {
   "cell_type": "code",
   "execution_count": null,
   "id": "2c0c3bb9",
   "metadata": {},
   "outputs": [],
   "source": [
    "#построим матрицу ошибок\n",
    "\n",
    "cm_lr = confusion_matrix(target_test, predictions_test)\n",
    "cm = pd.DataFrame(cm_lr, index=['Actually Not At Fault', 'Actually At Fault'],\n",
    "                 columns=['Predicted Not At Fault', 'Predicted At Fault'])\n",
    "\n",
    "\n",
    "sns.set(font_scale=1.2)\n",
    "plt.figure(figsize=(7,3))\n",
    "    \n",
    "sns.heatmap(cm, annot=True, fmt='g', cmap=\"Blues\",xticklabels=cm.columns, yticklabels=cm.index, annot_kws={\"size\": 20})\n",
    "plt.title(\"Матрица ошибок модели XGBClassifier\", size=15)\n",
    "plt.xlabel('Класс предсказаний')\n",
    "plt.ylabel('Реальный класс');\n"
   ]
  },
  {
   "cell_type": "code",
   "execution_count": null,
   "id": "c9380a4f",
   "metadata": {},
   "outputs": [],
   "source": [
    "TP3 = cm_lr[0][0]\n",
    "TN3 = cm_lr[1][1]\n",
    "FP3 = cm_lr[0][1]\n",
    "FN3 = cm_lr[1][0]\n",
    "total = cm_lr[0][0]+cm_lr[1][1]+cm_lr[0][1]+cm_lr[1][0]\n",
    "\n",
    "print('Всего предсказаний:',total)\n",
    "print(f'Правильно классифицированы : {np.round((TP3+TN3)/total*100)}%')\n",
    "print(f'Правильно классифицированны негативные комментарии: {np.round(TP3/(TP3+FN3)*100)}%')\n",
    "print(f'Правильно классифицированнр отсутствие негативных комментариев: {np.round(TN3/(TN3+FP3)*100)}%')\n",
    "print(f'Прогнозируемое начичие негативных комментарией, которые есть на самом деле: {np.round(TP3/(TP3+FP3)*100)}%')\n",
    "print(f'Прогнозируемое негативных комментарией, которой так же на самом деле нет: {np.round(TN3/(TN3+FN3)*100)}%')"
   ]
  },
  {
   "cell_type": "markdown",
   "id": "98f0a3c0",
   "metadata": {},
   "source": [
    "Хорошие показатели, высокий процент негативных комментариев определен верно и низкий процент ошибок."
   ]
  },
  {
   "cell_type": "code",
   "execution_count": null,
   "id": "8627fdba",
   "metadata": {},
   "outputs": [],
   "source": [
    "#график точноти и полноты модели Линейной регрессии\n",
    "\n",
    "probabilities_test = model_lr.predict_proba(tfidf_test)\n",
    "precision, recall, thresholds = precision_recall_curve(target_test, probabilities_test[:, 1])\n",
    "\n",
    "#график\n",
    "fig, ax = plt.subplots()\n",
    "ax.plot(recall, precision, color='blue')\n",
    "\n",
    "#название осей\n",
    "ax.set_title('Precision-Recall Curve/График Точность-Полнота ')\n",
    "ax.set_ylabel('Precision')\n",
    "ax.set_xlabel('Recall')\n",
    "\n",
    "#отобразиь график\n",
    "plt.show() "
   ]
  },
  {
   "cell_type": "markdown",
   "id": "bd4b5553",
   "metadata": {},
   "source": [
    "Чем выше график, тем лучше работает модель. Наша модель работает хорошо."
   ]
  },
  {
   "cell_type": "markdown",
   "id": "a48d64a8",
   "metadata": {},
   "source": [
    "## 3. ВЫВОДЫ"
   ]
  },
  {
   "cell_type": "markdown",
   "id": "55ae8164",
   "metadata": {},
   "source": [
    "Цель проекта - обучить модель классифицировать комментарии на позитивные и негативные.\n",
    "\n",
    "Что было сделано:\n",
    "1. Мы проверили данные на сбалансированность  классов, оказалось, что они не сбалансированы, этот момент мы учли в \n",
    "параметрах модели, укаазыв class_weight 'balanced'.\n",
    "\n",
    "2. Очистили данные от лишних символов, привели их к стандартной кодировке кодировку Unicode U, проведем лемматизацию с помощью лексической базы Wordnet для английского языка.\n",
    "\n",
    "3. Разбили данные на выборки, удалили стоп-слова и провели векторизацию.\n",
    "\n",
    "4. Обучили с помощью подбора параметров и кросс-валидации 3 модели - LogisticRegression, DecisionTreeClassifier, CatBoostClassifier. Но по условию задачи требуемой метрике F1 >0.75 подошла только модель LogisticRegression, ее F1 составила 0.769057.\n",
    "\n",
    "Можно было бы еще потренирваться подобрать параметры для модели CatBoostClassifier, ее метрика относительно близка к требуемоей, но на её обучение уходит слишком много времени.  А модель Логистической регрессии сработала быстро и точно, поэтому остановились на ней.\n",
    "\n",
    "5. Проверил метрику выбранной модели на тестовой выборке, ее F1 составила 0.775675, что хорошо значит модель не переобучилась и наша тестовая выборка была репрезентативной.\n",
    "\n",
    "6. Построили матрицу ошибок и график полноты-точности, тут тоже модель показала хороший результат - большой процент точности предсказаний и мало ошибок. \n",
    "\n",
    "Поэтому полученную  модель Логистической регрессии рекомендуем использовать для определения токсичных комментариев в интернет-магазине «Викишоп»."
   ]
  },
  {
   "cell_type": "markdown",
   "id": "0351e329",
   "metadata": {},
   "source": [
    "## Чек-лист проверки"
   ]
  },
  {
   "cell_type": "markdown",
   "id": "8c802656",
   "metadata": {},
   "source": [
    "- [x]  Jupyter Notebook открыт\n",
    "- [ ]  Весь код выполняется без ошибок\n",
    "- [ ]  Ячейки с кодом расположены в порядке исполнения\n",
    "- [ ]  Данные загружены и подготовлены\n",
    "- [ ]  Модели обучены\n",
    "- [ ]  Значение метрики *F1* не меньше 0.75\n",
    "- [ ]  Выводы написаны"
   ]
  },
  {
   "cell_type": "code",
   "execution_count": null,
   "id": "f4ccdf5a",
   "metadata": {},
   "outputs": [],
   "source": []
  }
 ],
 "metadata": {
  "ExecuteTimeLog": [
   {
    "duration": 3,
    "start_time": "2023-11-09T07:01:19.996Z"
   },
   {
    "duration": 6087,
    "start_time": "2023-11-09T07:04:21.435Z"
   },
   {
    "duration": 2154,
    "start_time": "2023-11-09T07:04:27.525Z"
   },
   {
    "duration": 21,
    "start_time": "2023-11-09T07:04:29.681Z"
   },
   {
    "duration": 43,
    "start_time": "2023-11-09T07:04:29.703Z"
   },
   {
    "duration": 17,
    "start_time": "2023-11-09T07:04:29.747Z"
   },
   {
    "duration": 141,
    "start_time": "2023-11-09T07:04:29.766Z"
   },
   {
    "duration": 5,
    "start_time": "2023-11-09T07:04:29.909Z"
   },
   {
    "duration": 4,
    "start_time": "2023-11-09T07:04:29.915Z"
   },
   {
    "duration": 2586,
    "start_time": "2023-11-09T07:04:29.921Z"
   },
   {
    "duration": 7,
    "start_time": "2023-11-09T07:04:32.511Z"
   },
   {
    "duration": 7,
    "start_time": "2023-11-09T07:04:44.193Z"
   },
   {
    "duration": 998,
    "start_time": "2023-11-09T07:05:03.455Z"
   },
   {
    "duration": 2691,
    "start_time": "2023-11-09T07:06:39.478Z"
   },
   {
    "duration": 1734,
    "start_time": "2023-11-09T07:06:56.506Z"
   },
   {
    "duration": 20413,
    "start_time": "2023-11-09T07:08:26.651Z"
   },
   {
    "duration": 424,
    "start_time": "2023-11-09T07:08:50.892Z"
   },
   {
    "duration": 35,
    "start_time": "2023-11-09T07:16:31.098Z"
   },
   {
    "duration": 113,
    "start_time": "2023-11-09T07:18:38.369Z"
   },
   {
    "duration": 49146,
    "start_time": "2023-11-09T07:18:48.739Z"
   },
   {
    "duration": 355,
    "start_time": "2023-11-09T07:24:42.265Z"
   },
   {
    "duration": 50514,
    "start_time": "2023-11-09T07:25:05.735Z"
   },
   {
    "duration": 21,
    "start_time": "2023-11-09T07:34:37.189Z"
   },
   {
    "duration": 741,
    "start_time": "2023-11-09T07:35:14.770Z"
   },
   {
    "duration": 599,
    "start_time": "2023-11-09T07:35:47.740Z"
   },
   {
    "duration": 430,
    "start_time": "2023-11-09T07:36:41.857Z"
   },
   {
    "duration": 569,
    "start_time": "2023-11-09T07:37:19.219Z"
   },
   {
    "duration": 9,
    "start_time": "2023-11-09T08:10:12.813Z"
   },
   {
    "duration": 19,
    "start_time": "2023-11-09T08:10:32.007Z"
   },
   {
    "duration": 20,
    "start_time": "2023-11-09T08:11:46.909Z"
   },
   {
    "duration": 1809,
    "start_time": "2023-11-09T08:12:43.224Z"
   },
   {
    "duration": 4,
    "start_time": "2023-11-09T08:16:17.383Z"
   },
   {
    "duration": 54,
    "start_time": "2023-11-09T08:16:48.128Z"
   },
   {
    "duration": 17,
    "start_time": "2023-11-09T08:18:27.544Z"
   },
   {
    "duration": 10,
    "start_time": "2023-11-09T08:18:52.692Z"
   },
   {
    "duration": 11,
    "start_time": "2023-11-09T08:19:04.872Z"
   },
   {
    "duration": 3,
    "start_time": "2023-11-09T08:22:55.770Z"
   },
   {
    "duration": 5,
    "start_time": "2023-11-09T08:23:28.295Z"
   },
   {
    "duration": 49824,
    "start_time": "2023-11-09T08:24:45.168Z"
   },
   {
    "duration": 454,
    "start_time": "2023-11-09T08:26:11.178Z"
   },
   {
    "duration": 53574,
    "start_time": "2023-11-09T08:27:43.960Z"
   },
   {
    "duration": 19,
    "start_time": "2023-11-09T08:38:47.721Z"
   },
   {
    "duration": 9,
    "start_time": "2023-11-09T08:41:55.911Z"
   },
   {
    "duration": 11,
    "start_time": "2023-11-09T08:42:24.476Z"
   },
   {
    "duration": 14,
    "start_time": "2023-11-09T08:46:01.492Z"
   },
   {
    "duration": 25,
    "start_time": "2023-11-09T08:46:10.239Z"
   },
   {
    "duration": 10,
    "start_time": "2023-11-09T08:47:36.248Z"
   },
   {
    "duration": 3,
    "start_time": "2023-11-09T08:47:43.815Z"
   },
   {
    "duration": 5,
    "start_time": "2023-11-09T08:48:33.785Z"
   },
   {
    "duration": 22,
    "start_time": "2023-11-09T08:50:01.205Z"
   },
   {
    "duration": 27,
    "start_time": "2023-11-09T08:51:23.104Z"
   },
   {
    "duration": 34,
    "start_time": "2023-11-09T08:52:09.374Z"
   },
   {
    "duration": 4,
    "start_time": "2023-11-09T08:52:20.658Z"
   },
   {
    "duration": 4,
    "start_time": "2023-11-09T08:52:26.172Z"
   },
   {
    "duration": 124,
    "start_time": "2023-11-09T08:55:39.306Z"
   },
   {
    "duration": 27,
    "start_time": "2023-11-09T08:55:50.344Z"
   },
   {
    "duration": 457,
    "start_time": "2023-11-09T08:57:15.760Z"
   },
   {
    "duration": 21153,
    "start_time": "2023-11-09T08:57:33.496Z"
   },
   {
    "duration": 39,
    "start_time": "2023-11-09T08:57:56.811Z"
   },
   {
    "duration": 37,
    "start_time": "2023-11-09T08:58:05.109Z"
   },
   {
    "duration": 435662,
    "start_time": "2023-11-09T08:58:09.261Z"
   },
   {
    "duration": 848,
    "start_time": "2023-11-09T09:06:42.753Z"
   },
   {
    "duration": 859,
    "start_time": "2023-11-09T09:07:01.945Z"
   },
   {
    "duration": 1235288,
    "start_time": "2023-11-09T09:07:25.579Z"
   },
   {
    "duration": 10,
    "start_time": "2023-11-09T09:32:34.771Z"
   },
   {
    "duration": 2976,
    "start_time": "2023-11-09T09:33:09.742Z"
   },
   {
    "duration": 2697,
    "start_time": "2023-11-09T09:33:12.721Z"
   },
   {
    "duration": 9,
    "start_time": "2023-11-09T09:33:15.420Z"
   },
   {
    "duration": 34,
    "start_time": "2023-11-09T09:33:15.432Z"
   },
   {
    "duration": 43,
    "start_time": "2023-11-09T09:33:15.468Z"
   },
   {
    "duration": 152,
    "start_time": "2023-11-09T09:33:15.513Z"
   },
   {
    "duration": 6,
    "start_time": "2023-11-09T09:33:15.667Z"
   },
   {
    "duration": 5,
    "start_time": "2023-11-09T09:33:15.675Z"
   },
   {
    "duration": 3069,
    "start_time": "2023-11-09T09:33:15.682Z"
   },
   {
    "duration": 10,
    "start_time": "2023-11-09T09:33:22.937Z"
   },
   {
    "duration": 4,
    "start_time": "2023-11-09T09:33:29.274Z"
   },
   {
    "duration": 1967,
    "start_time": "2023-11-09T09:34:06.361Z"
   },
   {
    "duration": 7,
    "start_time": "2023-11-09T09:34:15.147Z"
   },
   {
    "duration": 2642,
    "start_time": "2023-11-09T09:45:43.434Z"
   },
   {
    "duration": 5446,
    "start_time": "2023-11-09T10:14:26.908Z"
   },
   {
    "duration": 2361,
    "start_time": "2023-11-09T10:14:32.356Z"
   },
   {
    "duration": 17,
    "start_time": "2023-11-09T10:14:34.722Z"
   },
   {
    "duration": 46,
    "start_time": "2023-11-09T10:14:34.740Z"
   },
   {
    "duration": 20,
    "start_time": "2023-11-09T10:14:34.789Z"
   },
   {
    "duration": 171,
    "start_time": "2023-11-09T10:14:34.817Z"
   },
   {
    "duration": 24,
    "start_time": "2023-11-09T10:14:34.991Z"
   },
   {
    "duration": 13,
    "start_time": "2023-11-09T10:14:35.021Z"
   },
   {
    "duration": 3504,
    "start_time": "2023-11-09T10:14:35.040Z"
   },
   {
    "duration": 9,
    "start_time": "2023-11-09T10:14:38.547Z"
   },
   {
    "duration": 1283,
    "start_time": "2023-11-09T10:14:38.558Z"
   },
   {
    "duration": 15,
    "start_time": "2023-11-09T10:14:39.842Z"
   },
   {
    "duration": 0,
    "start_time": "2023-11-09T10:14:39.861Z"
   },
   {
    "duration": 1,
    "start_time": "2023-11-09T10:14:39.862Z"
   },
   {
    "duration": 0,
    "start_time": "2023-11-09T10:14:39.864Z"
   },
   {
    "duration": 0,
    "start_time": "2023-11-09T10:14:39.866Z"
   },
   {
    "duration": 0,
    "start_time": "2023-11-09T10:14:39.868Z"
   },
   {
    "duration": 0,
    "start_time": "2023-11-09T10:14:39.870Z"
   },
   {
    "duration": 0,
    "start_time": "2023-11-09T10:14:39.871Z"
   },
   {
    "duration": 0,
    "start_time": "2023-11-09T10:14:39.873Z"
   },
   {
    "duration": 0,
    "start_time": "2023-11-09T10:14:39.875Z"
   },
   {
    "duration": 0,
    "start_time": "2023-11-09T10:14:39.876Z"
   },
   {
    "duration": 0,
    "start_time": "2023-11-09T10:14:39.878Z"
   },
   {
    "duration": 0,
    "start_time": "2023-11-09T10:14:39.880Z"
   },
   {
    "duration": 0,
    "start_time": "2023-11-09T10:14:39.881Z"
   },
   {
    "duration": 1,
    "start_time": "2023-11-09T10:14:39.882Z"
   },
   {
    "duration": 0,
    "start_time": "2023-11-09T10:14:39.884Z"
   },
   {
    "duration": 0,
    "start_time": "2023-11-09T10:14:39.886Z"
   },
   {
    "duration": 0,
    "start_time": "2023-11-09T10:14:39.887Z"
   },
   {
    "duration": 0,
    "start_time": "2023-11-09T10:14:39.889Z"
   },
   {
    "duration": 0,
    "start_time": "2023-11-09T10:14:39.909Z"
   },
   {
    "duration": 0,
    "start_time": "2023-11-09T10:14:39.911Z"
   },
   {
    "duration": 0,
    "start_time": "2023-11-09T10:14:39.912Z"
   },
   {
    "duration": 0,
    "start_time": "2023-11-09T10:14:39.914Z"
   },
   {
    "duration": 0,
    "start_time": "2023-11-09T10:14:39.915Z"
   },
   {
    "duration": 0,
    "start_time": "2023-11-09T10:14:39.916Z"
   },
   {
    "duration": 0,
    "start_time": "2023-11-09T10:14:39.918Z"
   },
   {
    "duration": 0,
    "start_time": "2023-11-09T10:14:39.918Z"
   },
   {
    "duration": 0,
    "start_time": "2023-11-09T10:14:39.919Z"
   },
   {
    "duration": 1032,
    "start_time": "2023-11-09T10:21:10.838Z"
   },
   {
    "duration": 13,
    "start_time": "2023-11-09T10:21:11.872Z"
   },
   {
    "duration": 0,
    "start_time": "2023-11-09T10:21:11.887Z"
   },
   {
    "duration": 0,
    "start_time": "2023-11-09T10:21:11.889Z"
   },
   {
    "duration": 0,
    "start_time": "2023-11-09T10:21:11.890Z"
   },
   {
    "duration": 0,
    "start_time": "2023-11-09T10:21:11.892Z"
   },
   {
    "duration": 0,
    "start_time": "2023-11-09T10:21:11.893Z"
   },
   {
    "duration": 0,
    "start_time": "2023-11-09T10:21:11.894Z"
   },
   {
    "duration": 0,
    "start_time": "2023-11-09T10:21:11.896Z"
   },
   {
    "duration": 0,
    "start_time": "2023-11-09T10:21:11.897Z"
   },
   {
    "duration": 0,
    "start_time": "2023-11-09T10:21:11.899Z"
   },
   {
    "duration": 0,
    "start_time": "2023-11-09T10:21:11.899Z"
   },
   {
    "duration": 0,
    "start_time": "2023-11-09T10:21:11.900Z"
   },
   {
    "duration": 0,
    "start_time": "2023-11-09T10:21:11.905Z"
   },
   {
    "duration": 0,
    "start_time": "2023-11-09T10:21:11.906Z"
   },
   {
    "duration": 0,
    "start_time": "2023-11-09T10:21:11.906Z"
   },
   {
    "duration": 0,
    "start_time": "2023-11-09T10:21:11.907Z"
   },
   {
    "duration": 0,
    "start_time": "2023-11-09T10:21:11.908Z"
   },
   {
    "duration": 0,
    "start_time": "2023-11-09T10:21:11.912Z"
   },
   {
    "duration": 0,
    "start_time": "2023-11-09T10:21:11.915Z"
   },
   {
    "duration": 0,
    "start_time": "2023-11-09T10:21:11.931Z"
   },
   {
    "duration": 0,
    "start_time": "2023-11-09T10:21:11.932Z"
   },
   {
    "duration": 0,
    "start_time": "2023-11-09T10:21:11.934Z"
   },
   {
    "duration": 0,
    "start_time": "2023-11-09T10:21:11.937Z"
   },
   {
    "duration": 0,
    "start_time": "2023-11-09T10:21:11.938Z"
   },
   {
    "duration": 0,
    "start_time": "2023-11-09T10:21:11.940Z"
   },
   {
    "duration": 0,
    "start_time": "2023-11-09T10:21:11.942Z"
   },
   {
    "duration": 0,
    "start_time": "2023-11-09T10:21:11.944Z"
   },
   {
    "duration": 0,
    "start_time": "2023-11-09T10:21:11.945Z"
   },
   {
    "duration": 2598,
    "start_time": "2023-11-09T10:21:46.928Z"
   },
   {
    "duration": 5181,
    "start_time": "2023-11-09T10:21:57.481Z"
   },
   {
    "duration": 1992,
    "start_time": "2023-11-09T10:22:02.664Z"
   },
   {
    "duration": 21,
    "start_time": "2023-11-09T10:22:04.658Z"
   },
   {
    "duration": 54,
    "start_time": "2023-11-09T10:22:04.682Z"
   },
   {
    "duration": 21,
    "start_time": "2023-11-09T10:22:04.741Z"
   },
   {
    "duration": 184,
    "start_time": "2023-11-09T10:22:04.764Z"
   },
   {
    "duration": 7,
    "start_time": "2023-11-09T10:22:04.950Z"
   },
   {
    "duration": 19,
    "start_time": "2023-11-09T10:22:04.959Z"
   },
   {
    "duration": 3225,
    "start_time": "2023-11-09T10:22:04.981Z"
   },
   {
    "duration": 11,
    "start_time": "2023-11-09T10:22:08.208Z"
   },
   {
    "duration": 1418186,
    "start_time": "2023-11-09T10:22:08.221Z"
   },
   {
    "duration": 182,
    "start_time": "2023-11-09T10:45:46.415Z"
   },
   {
    "duration": 1,
    "start_time": "2023-11-09T10:45:46.600Z"
   },
   {
    "duration": 0,
    "start_time": "2023-11-09T10:45:46.611Z"
   },
   {
    "duration": 0,
    "start_time": "2023-11-09T10:45:46.613Z"
   },
   {
    "duration": 0,
    "start_time": "2023-11-09T10:45:46.615Z"
   },
   {
    "duration": 0,
    "start_time": "2023-11-09T10:45:46.617Z"
   },
   {
    "duration": 0,
    "start_time": "2023-11-09T10:45:46.619Z"
   },
   {
    "duration": 0,
    "start_time": "2023-11-09T10:45:46.620Z"
   },
   {
    "duration": 0,
    "start_time": "2023-11-09T10:45:46.622Z"
   },
   {
    "duration": 0,
    "start_time": "2023-11-09T10:45:46.623Z"
   },
   {
    "duration": 0,
    "start_time": "2023-11-09T10:45:46.625Z"
   },
   {
    "duration": 0,
    "start_time": "2023-11-09T10:45:46.626Z"
   },
   {
    "duration": 0,
    "start_time": "2023-11-09T10:45:46.626Z"
   },
   {
    "duration": 0,
    "start_time": "2023-11-09T10:45:46.627Z"
   },
   {
    "duration": 0,
    "start_time": "2023-11-09T10:45:46.629Z"
   },
   {
    "duration": 0,
    "start_time": "2023-11-09T10:45:46.631Z"
   },
   {
    "duration": 0,
    "start_time": "2023-11-09T10:45:46.632Z"
   },
   {
    "duration": 0,
    "start_time": "2023-11-09T10:45:46.634Z"
   },
   {
    "duration": 0,
    "start_time": "2023-11-09T10:45:46.636Z"
   },
   {
    "duration": 0,
    "start_time": "2023-11-09T10:45:46.638Z"
   },
   {
    "duration": 0,
    "start_time": "2023-11-09T10:45:46.640Z"
   },
   {
    "duration": 0,
    "start_time": "2023-11-09T10:45:46.642Z"
   },
   {
    "duration": 0,
    "start_time": "2023-11-09T10:45:46.643Z"
   },
   {
    "duration": 0,
    "start_time": "2023-11-09T10:45:46.645Z"
   },
   {
    "duration": 0,
    "start_time": "2023-11-09T10:45:46.646Z"
   },
   {
    "duration": 0,
    "start_time": "2023-11-09T10:45:46.647Z"
   },
   {
    "duration": 0,
    "start_time": "2023-11-09T10:45:46.649Z"
   },
   {
    "duration": 0,
    "start_time": "2023-11-09T10:45:46.651Z"
   },
   {
    "duration": 1390235,
    "start_time": "2023-11-09T10:46:13.225Z"
   },
   {
    "duration": 7,
    "start_time": "2023-11-09T11:09:23.463Z"
   },
   {
    "duration": 33,
    "start_time": "2023-11-09T11:09:23.471Z"
   },
   {
    "duration": 7,
    "start_time": "2023-11-09T11:09:23.508Z"
   },
   {
    "duration": 19,
    "start_time": "2023-11-09T11:09:23.523Z"
   },
   {
    "duration": 70,
    "start_time": "2023-11-09T11:09:23.545Z"
   },
   {
    "duration": 5,
    "start_time": "2023-11-09T11:09:23.621Z"
   },
   {
    "duration": 27,
    "start_time": "2023-11-09T11:09:23.629Z"
   },
   {
    "duration": 90,
    "start_time": "2023-11-09T11:09:23.658Z"
   },
   {
    "duration": 5,
    "start_time": "2023-11-09T11:09:23.750Z"
   },
   {
    "duration": 9792,
    "start_time": "2023-11-09T11:09:23.757Z"
   },
   {
    "duration": 4,
    "start_time": "2023-11-09T11:09:33.551Z"
   },
   {
    "duration": 22,
    "start_time": "2023-11-09T11:09:33.557Z"
   },
   {
    "duration": 682237,
    "start_time": "2023-11-09T11:09:33.583Z"
   },
   {
    "duration": 5,
    "start_time": "2023-11-09T11:20:55.824Z"
   },
   {
    "duration": 14,
    "start_time": "2023-11-09T11:20:55.832Z"
   },
   {
    "duration": 2597549,
    "start_time": "2023-11-09T11:20:55.847Z"
   },
   {
    "duration": 3,
    "start_time": "2023-11-09T12:04:13.401Z"
   },
   {
    "duration": 11,
    "start_time": "2023-11-09T12:04:13.406Z"
   },
   {
    "duration": 148071,
    "start_time": "2023-11-11T13:12:24.774Z"
   },
   {
    "duration": 2745,
    "start_time": "2023-11-11T13:14:52.848Z"
   },
   {
    "duration": 20,
    "start_time": "2023-11-11T13:14:55.595Z"
   },
   {
    "duration": 3,
    "start_time": "2023-11-11T13:19:02.011Z"
   },
   {
    "duration": 11,
    "start_time": "2023-11-11T13:19:04.408Z"
   },
   {
    "duration": 4,
    "start_time": "2023-11-11T13:19:04.619Z"
   },
   {
    "duration": 97,
    "start_time": "2023-11-11T13:19:04.838Z"
   },
   {
    "duration": 4,
    "start_time": "2023-11-11T13:19:05.052Z"
   },
   {
    "duration": 3,
    "start_time": "2023-11-11T13:19:05.224Z"
   },
   {
    "duration": 5,
    "start_time": "2023-11-11T13:19:05.951Z"
   },
   {
    "duration": 7,
    "start_time": "2023-11-11T13:19:06.135Z"
   },
   {
    "duration": 1324,
    "start_time": "2023-11-11T13:19:06.889Z"
   },
   {
    "duration": 7,
    "start_time": "2023-11-11T13:19:08.215Z"
   },
   {
    "duration": 21,
    "start_time": "2023-11-11T13:19:08.223Z"
   },
   {
    "duration": 4,
    "start_time": "2023-11-11T13:19:11.650Z"
   },
   {
    "duration": 4,
    "start_time": "2023-11-11T13:19:13.944Z"
   }
  ],
  "kernelspec": {
   "display_name": "Python 3 (ipykernel)",
   "language": "python",
   "name": "python3"
  },
  "language_info": {
   "codemirror_mode": {
    "name": "ipython",
    "version": 3
   },
   "file_extension": ".py",
   "mimetype": "text/x-python",
   "name": "python",
   "nbconvert_exporter": "python",
   "pygments_lexer": "ipython3",
   "version": "3.9.13"
  },
  "toc": {
   "base_numbering": 1,
   "nav_menu": {},
   "number_sections": true,
   "sideBar": true,
   "skip_h1_title": true,
   "title_cell": "Table of Contents",
   "title_sidebar": "Contents",
   "toc_cell": false,
   "toc_position": {},
   "toc_section_display": true,
   "toc_window_display": false
  }
 },
 "nbformat": 4,
 "nbformat_minor": 5
}
