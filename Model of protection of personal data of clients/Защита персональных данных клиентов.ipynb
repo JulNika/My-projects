{
 "cells": [
  {
   "cell_type": "markdown",
   "metadata": {},
   "source": [
    "# Защита персональных данных клиентов"
   ]
  },
  {
   "cell_type": "markdown",
   "metadata": {
    "toc": true
   },
   "source": [
    "<h1>Содержание<span class=\"tocSkip\"></span></h1>\n",
    "<div class=\"toc\"><ul class=\"toc-item\"><li><span><a href=\"#Загрузка-данных\" data-toc-modified-id=\"Загрузка-данных-1\"><span class=\"toc-item-num\">1&nbsp;&nbsp;</span>Загрузка данных</a></span></li><li><span><a href=\"#Умножение-матриц\" data-toc-modified-id=\"Умножение-матриц-2\"><span class=\"toc-item-num\">2&nbsp;&nbsp;</span>Умножение матриц</a></span></li><li><span><a href=\"#Алгоритм-преобразования\" data-toc-modified-id=\"Алгоритм-преобразования-3\"><span class=\"toc-item-num\">3&nbsp;&nbsp;</span>Алгоритм преобразования</a></span></li><li><span><a href=\"#Проверка-алгоритма\" data-toc-modified-id=\"Проверка-алгоритма-4\"><span class=\"toc-item-num\">4&nbsp;&nbsp;</span>Проверка алгоритма</a></span></li><li><span><a href=\"#Чек-лист-проверки\" data-toc-modified-id=\"Чек-лист-проверки-5\"><span class=\"toc-item-num\">5&nbsp;&nbsp;</span>Чек-лист проверки</a></span></li></ul></div>"
   ]
  },
  {
   "cell_type": "markdown",
   "metadata": {},
   "source": [
    "***Описание целей и задач проета***"
   ]
  },
  {
   "cell_type": "markdown",
   "metadata": {},
   "source": [
    "Вам нужно защитить данные клиентов страховой компании «Хоть потоп». Разработайте такой метод преобразования данных, чтобы по ним было сложно восстановить персональную информацию. Обоснуйте корректность его работы.\n",
    "\n",
    "Нужно защитить данные, чтобы при преобразовании качество моделей машинного обучения не ухудшилось. Подбирать наилучшую модель не требуется."
   ]
  },
  {
   "cell_type": "markdown",
   "metadata": {},
   "source": [
    "***Описание данных***"
   ]
  },
  {
   "cell_type": "markdown",
   "metadata": {},
   "source": [
    "Данные клиентов страховой компании находятся в файле:\n",
    "'/datasets/insurance.csv'\n",
    "\n",
    "Признаки:\n",
    " - пол\n",
    " - возраст\n",
    " - зарплата\n",
    " - члены семьи\n",
    " - страховые выплаты"
   ]
  },
  {
   "cell_type": "markdown",
   "metadata": {},
   "source": [
    "***ПЛАШ ВЫПОЛНЕНИЯ ПРОЕКТА***\n",
    "\n",
    "\n",
    "1) Загрузите и изучить данные.\n",
    "2) Ответить на вопрос и обосновать решение:\n",
    " Признаки умножают на обратимую матрицу. Изменится ли качество линейной регрессии? (Её можно обучить заново.)\n",
    "-  a. Изменится. Приведите примеры матриц.\n",
    "- b. Не изменится. Укажите, как связаны параметры линейной регрессии в исходной задаче и в преобразованной.\n",
    " \n",
    "3) Предложить алгоритм преобразования данных для решения задачи. Обоснование, почему качество линейной регрессии не поменяется.\n",
    "Запрограммировать этот алгоритм, применив матричные операции. Проверить, что качество линейной регрессии из sklearn не отличается до и после преобразования. Применить для оценки качества метрику R2."
   ]
  },
  {
   "cell_type": "markdown",
   "metadata": {},
   "source": [
    "## Загрузка данных"
   ]
  },
  {
   "cell_type": "code",
   "execution_count": 3,
   "metadata": {},
   "outputs": [],
   "source": [
    "#загрузка библиотек, методов и пр.\n",
    "import pandas as pd\n",
    "import numpy as np\n",
    "import seaborn as sns\n",
    "\n",
    "\n",
    "from sklearn.model_selection import train_test_split\n",
    "from sklearn.linear_model import LinearRegression\n",
    "from sklearn.metrics import accuracy_score, r2_score\n",
    "from sklearn.preprocessing import StandardScaler"
   ]
  },
  {
   "cell_type": "code",
   "execution_count": 30,
   "metadata": {},
   "outputs": [
    {
     "data": {
      "text/html": [
       "<div>\n",
       "<style scoped>\n",
       "    .dataframe tbody tr th:only-of-type {\n",
       "        vertical-align: middle;\n",
       "    }\n",
       "\n",
       "    .dataframe tbody tr th {\n",
       "        vertical-align: top;\n",
       "    }\n",
       "\n",
       "    .dataframe thead th {\n",
       "        text-align: right;\n",
       "    }\n",
       "</style>\n",
       "<table border=\"1\" class=\"dataframe\">\n",
       "  <thead>\n",
       "    <tr style=\"text-align: right;\">\n",
       "      <th></th>\n",
       "      <th>Пол</th>\n",
       "      <th>Возраст</th>\n",
       "      <th>Зарплата</th>\n",
       "      <th>Члены семьи</th>\n",
       "      <th>Страховые выплаты</th>\n",
       "    </tr>\n",
       "  </thead>\n",
       "  <tbody>\n",
       "    <tr>\n",
       "      <th>0</th>\n",
       "      <td>1</td>\n",
       "      <td>41.0</td>\n",
       "      <td>49600.0</td>\n",
       "      <td>1</td>\n",
       "      <td>0</td>\n",
       "    </tr>\n",
       "    <tr>\n",
       "      <th>1</th>\n",
       "      <td>0</td>\n",
       "      <td>46.0</td>\n",
       "      <td>38000.0</td>\n",
       "      <td>1</td>\n",
       "      <td>1</td>\n",
       "    </tr>\n",
       "    <tr>\n",
       "      <th>2</th>\n",
       "      <td>0</td>\n",
       "      <td>29.0</td>\n",
       "      <td>21000.0</td>\n",
       "      <td>0</td>\n",
       "      <td>0</td>\n",
       "    </tr>\n",
       "    <tr>\n",
       "      <th>3</th>\n",
       "      <td>0</td>\n",
       "      <td>21.0</td>\n",
       "      <td>41700.0</td>\n",
       "      <td>2</td>\n",
       "      <td>0</td>\n",
       "    </tr>\n",
       "    <tr>\n",
       "      <th>4</th>\n",
       "      <td>1</td>\n",
       "      <td>28.0</td>\n",
       "      <td>26100.0</td>\n",
       "      <td>0</td>\n",
       "      <td>0</td>\n",
       "    </tr>\n",
       "  </tbody>\n",
       "</table>\n",
       "</div>"
      ],
      "text/plain": [
       "   Пол  Возраст  Зарплата  Члены семьи  Страховые выплаты\n",
       "0    1     41.0   49600.0            1                  0\n",
       "1    0     46.0   38000.0            1                  1\n",
       "2    0     29.0   21000.0            0                  0\n",
       "3    0     21.0   41700.0            2                  0\n",
       "4    1     28.0   26100.0            0                  0"
      ]
     },
     "execution_count": 30,
     "metadata": {},
     "output_type": "execute_result"
    }
   ],
   "source": [
    "#загрузка данных\n",
    "data = pd.read_csv('/datasets/insurance.csv')\n",
    "data.head()"
   ]
  },
  {
   "cell_type": "code",
   "execution_count": 5,
   "metadata": {},
   "outputs": [
    {
     "data": {
      "text/html": [
       "<div>\n",
       "<style scoped>\n",
       "    .dataframe tbody tr th:only-of-type {\n",
       "        vertical-align: middle;\n",
       "    }\n",
       "\n",
       "    .dataframe tbody tr th {\n",
       "        vertical-align: top;\n",
       "    }\n",
       "\n",
       "    .dataframe thead th {\n",
       "        text-align: right;\n",
       "    }\n",
       "</style>\n",
       "<table border=\"1\" class=\"dataframe\">\n",
       "  <thead>\n",
       "    <tr style=\"text-align: right;\">\n",
       "      <th></th>\n",
       "      <th>Пол</th>\n",
       "      <th>Возраст</th>\n",
       "      <th>Зарплата</th>\n",
       "      <th>Члены семьи</th>\n",
       "      <th>Страховые выплаты</th>\n",
       "    </tr>\n",
       "  </thead>\n",
       "  <tbody>\n",
       "    <tr>\n",
       "      <th>count</th>\n",
       "      <td>5000.000000</td>\n",
       "      <td>5000.000000</td>\n",
       "      <td>5000.000000</td>\n",
       "      <td>5000.000000</td>\n",
       "      <td>5000.000000</td>\n",
       "    </tr>\n",
       "    <tr>\n",
       "      <th>mean</th>\n",
       "      <td>0.499000</td>\n",
       "      <td>30.952800</td>\n",
       "      <td>39916.360000</td>\n",
       "      <td>1.194200</td>\n",
       "      <td>0.148000</td>\n",
       "    </tr>\n",
       "    <tr>\n",
       "      <th>std</th>\n",
       "      <td>0.500049</td>\n",
       "      <td>8.440807</td>\n",
       "      <td>9900.083569</td>\n",
       "      <td>1.091387</td>\n",
       "      <td>0.463183</td>\n",
       "    </tr>\n",
       "    <tr>\n",
       "      <th>min</th>\n",
       "      <td>0.000000</td>\n",
       "      <td>18.000000</td>\n",
       "      <td>5300.000000</td>\n",
       "      <td>0.000000</td>\n",
       "      <td>0.000000</td>\n",
       "    </tr>\n",
       "    <tr>\n",
       "      <th>25%</th>\n",
       "      <td>0.000000</td>\n",
       "      <td>24.000000</td>\n",
       "      <td>33300.000000</td>\n",
       "      <td>0.000000</td>\n",
       "      <td>0.000000</td>\n",
       "    </tr>\n",
       "    <tr>\n",
       "      <th>50%</th>\n",
       "      <td>0.000000</td>\n",
       "      <td>30.000000</td>\n",
       "      <td>40200.000000</td>\n",
       "      <td>1.000000</td>\n",
       "      <td>0.000000</td>\n",
       "    </tr>\n",
       "    <tr>\n",
       "      <th>75%</th>\n",
       "      <td>1.000000</td>\n",
       "      <td>37.000000</td>\n",
       "      <td>46600.000000</td>\n",
       "      <td>2.000000</td>\n",
       "      <td>0.000000</td>\n",
       "    </tr>\n",
       "    <tr>\n",
       "      <th>max</th>\n",
       "      <td>1.000000</td>\n",
       "      <td>65.000000</td>\n",
       "      <td>79000.000000</td>\n",
       "      <td>6.000000</td>\n",
       "      <td>5.000000</td>\n",
       "    </tr>\n",
       "  </tbody>\n",
       "</table>\n",
       "</div>"
      ],
      "text/plain": [
       "               Пол      Возраст      Зарплата  Члены семьи  Страховые выплаты\n",
       "count  5000.000000  5000.000000   5000.000000  5000.000000        5000.000000\n",
       "mean      0.499000    30.952800  39916.360000     1.194200           0.148000\n",
       "std       0.500049     8.440807   9900.083569     1.091387           0.463183\n",
       "min       0.000000    18.000000   5300.000000     0.000000           0.000000\n",
       "25%       0.000000    24.000000  33300.000000     0.000000           0.000000\n",
       "50%       0.000000    30.000000  40200.000000     1.000000           0.000000\n",
       "75%       1.000000    37.000000  46600.000000     2.000000           0.000000\n",
       "max       1.000000    65.000000  79000.000000     6.000000           5.000000"
      ]
     },
     "execution_count": 5,
     "metadata": {},
     "output_type": "execute_result"
    }
   ],
   "source": [
    "#посмотрим описание\n",
    "data.describe()"
   ]
  },
  {
   "cell_type": "code",
   "execution_count": 6,
   "metadata": {},
   "outputs": [
    {
     "data": {
      "text/plain": [
       "Пол                  0\n",
       "Возраст              0\n",
       "Зарплата             0\n",
       "Члены семьи          0\n",
       "Страховые выплаты    0\n",
       "dtype: int64"
      ]
     },
     "execution_count": 6,
     "metadata": {},
     "output_type": "execute_result"
    }
   ],
   "source": [
    "#проверим наличие пропусков\n",
    "data.isnull().sum()"
   ]
  },
  {
   "cell_type": "code",
   "execution_count": 7,
   "metadata": {},
   "outputs": [
    {
     "name": "stdout",
     "output_type": "stream",
     "text": [
      "153\n"
     ]
    }
   ],
   "source": [
    "#оценим наличие полных дубликатов\n",
    "print(data.duplicated().sum())"
   ]
  },
  {
   "cell_type": "code",
   "execution_count": 8,
   "metadata": {},
   "outputs": [
    {
     "name": "stdout",
     "output_type": "stream",
     "text": [
      "Пол: [1 0]\n",
      "Возраст: [41. 46. 29. 21. 28. 43. 39. 25. 36. 32. 38. 23. 40. 34. 26. 42. 27. 33.\n",
      " 47. 30. 19. 31. 22. 20. 24. 18. 37. 48. 45. 44. 52. 49. 35. 56. 65. 55.\n",
      " 57. 54. 50. 53. 51. 58. 59. 60. 61. 62.]\n",
      "Члены семьи: [1 0 2 4 3 5 6]\n",
      "Страховые выплаты: [0 1 2 3 5 4]\n"
     ]
    }
   ],
   "source": [
    "#посмотрим уникальные значения по тем, колонкам, где планируем менять тип на bool \n",
    "print ('Пол:', data['Пол'].unique())\n",
    "print ('Возраст:', data['Возраст'].unique())\n",
    "print ('Члены семьи:', data['Члены семьи'].unique())\n",
    "print ('Страховые выплаты:', data['Страховые выплаты'].unique())"
   ]
  },
  {
   "cell_type": "code",
   "execution_count": 9,
   "metadata": {},
   "outputs": [
    {
     "name": "stdout",
     "output_type": "stream",
     "text": [
      "<class 'pandas.core.frame.DataFrame'>\n",
      "RangeIndex: 5000 entries, 0 to 4999\n",
      "Data columns (total 5 columns):\n",
      " #   Column             Non-Null Count  Dtype  \n",
      "---  ------             --------------  -----  \n",
      " 0   Пол                5000 non-null   int64  \n",
      " 1   Возраст            5000 non-null   float64\n",
      " 2   Зарплата           5000 non-null   float64\n",
      " 3   Члены семьи        5000 non-null   int64  \n",
      " 4   Страховые выплаты  5000 non-null   int64  \n",
      "dtypes: float64(2), int64(3)\n",
      "memory usage: 195.4 KB\n"
     ]
    }
   ],
   "source": [
    "data.info()"
   ]
  },
  {
   "cell_type": "code",
   "execution_count": 10,
   "metadata": {},
   "outputs": [
    {
     "name": "stdout",
     "output_type": "stream",
     "text": [
      "Корреляция признаков\n"
     ]
    },
    {
     "data": {
      "text/plain": [
       "<AxesSubplot:>"
      ]
     },
     "execution_count": 10,
     "metadata": {},
     "output_type": "execute_result"
    },
    {
     "data": {
      "image/png": "[encoded data removed]",
      "text/plain": [
       "<Figure size 432x288 with 2 Axes>"
      ]
     },
     "metadata": {
      "needs_background": "light"
     },
     "output_type": "display_data"
    }
   ],
   "source": [
    "#тепловая карта корреляции\n",
    "print ('Корреляция признаков')\n",
    "upp_mat = np.triu(data.corr())\n",
    "sns.heatmap(data.corr(), annot = True)"
   ]
  },
  {
   "cell_type": "markdown",
   "metadata": {},
   "source": [
    "***Вывод по данным:***\n",
    "\n",
    " - пропусков в данных нет, \n",
    " - дубликаты есть, но их удалять не будем, так как без ФИО нельзя подвердить полные ли это дубликаты.\n",
    " - корреляция есть между возрастом и страховыми выплатами, но не критичная.\n",
    "    \n",
    "    \n",
    "Предобработка данных не требуется."
   ]
  },
  {
   "cell_type": "markdown",
   "metadata": {},
   "source": [
    "***Разделим данные на выборки, проведем кодирование и стандартизацию***"
   ]
  },
  {
   "cell_type": "code",
   "execution_count": 11,
   "metadata": {},
   "outputs": [
    {
     "name": "stdout",
     "output_type": "stream",
     "text": [
      " \n",
      "Размер тренировочной выборки (3750, 5)\n",
      "Размер тестовой выборки (1250, 5)\n",
      " \n",
      "Размер тренировочной выборки- 75%\n",
      "Размер тестовой выборки - 25%\n"
     ]
    }
   ],
   "source": [
    "#разделим данные на выборки\n",
    "df_train, df_test, = train_test_split(data, test_size=0.25, random_state=12345)\n",
    "\n",
    "#проверим размер получившихся выборок\n",
    "print(' ')\n",
    "print('Размер тренировочной выборки', df_train.shape)\n",
    "print('Размер тестовой выборки',  df_test.shape)\n",
    "print(' ')\n",
    "print('Размер тренировочной выборки- {:.0%}'.format(df_train.shape[0]/data.shape[0]))\n",
    "print('Размер тестовой выборки - {:.0%}'.format(df_test.shape[0]/data.shape[0]))"
   ]
  },
  {
   "cell_type": "code",
   "execution_count": 12,
   "metadata": {},
   "outputs": [
    {
     "name": "stdout",
     "output_type": "stream",
     "text": [
      "Размер тренировочной выборки (3750, 5)\n",
      "Размер тестовой выборки (1250, 5)\n",
      "Index(['Пол', 'Возраст', 'Зарплата', 'Члены семьи', 'Страховые выплаты'], dtype='object')\n",
      "      Пол  Возраст  Зарплата  Члены семьи  Страховые выплаты\n",
      "3369    1     43.0   36200.0            1                  1\n",
      "1441    1     34.0   57600.0            0                  0\n",
      "571     0     32.0   41100.0            1                  0\n",
      "225     0     36.0   45100.0            1                  0\n",
      "2558    0     33.0   50600.0            2                  0\n"
     ]
    }
   ],
   "source": [
    "#проведем кодирование выборок\n",
    "df_train = pd.get_dummies(df_train, drop_first=True)\n",
    "\n",
    "df_test = pd.get_dummies(df_test, drop_first=True)\n",
    "\n",
    "#проверим размер выборок после кодировки, чтобы не было утечек\n",
    "print('Размер тренировочной выборки', df_train.shape)\n",
    "\n",
    "print('Размер тестовой выборки', df_test.shape)\n",
    "\n",
    "print(df_train.columns)\n",
    "print(df_train.head())"
   ]
  },
  {
   "cell_type": "code",
   "execution_count": 13,
   "metadata": {},
   "outputs": [],
   "source": [
    "#создадим переменные для признаков и целевого признака \n",
    "#для тренировочных данных\n",
    "train_features = df_train.drop(['Страховые выплаты'], axis=1)\n",
    "train_target = df_train['Страховые выплаты']\n",
    "\n",
    "#для тестоавых данных\n",
    "test_features = df_test.drop(['Страховые выплаты'], axis=1)\n",
    "test_target = df_test['Страховые выплаты']"
   ]
  },
  {
   "cell_type": "code",
   "execution_count": 14,
   "metadata": {},
   "outputs": [
    {
     "data": {
      "text/html": [
       "<div>\n",
       "<style scoped>\n",
       "    .dataframe tbody tr th:only-of-type {\n",
       "        vertical-align: middle;\n",
       "    }\n",
       "\n",
       "    .dataframe tbody tr th {\n",
       "        vertical-align: top;\n",
       "    }\n",
       "\n",
       "    .dataframe thead th {\n",
       "        text-align: right;\n",
       "    }\n",
       "</style>\n",
       "<table border=\"1\" class=\"dataframe\">\n",
       "  <thead>\n",
       "    <tr style=\"text-align: right;\">\n",
       "      <th></th>\n",
       "      <th>Пол</th>\n",
       "      <th>Возраст</th>\n",
       "      <th>Зарплата</th>\n",
       "      <th>Члены семьи</th>\n",
       "    </tr>\n",
       "  </thead>\n",
       "  <tbody>\n",
       "    <tr>\n",
       "      <th>3369</th>\n",
       "      <td>1</td>\n",
       "      <td>1.414133</td>\n",
       "      <td>-0.378266</td>\n",
       "      <td>-0.164081</td>\n",
       "    </tr>\n",
       "    <tr>\n",
       "      <th>1441</th>\n",
       "      <td>1</td>\n",
       "      <td>0.349559</td>\n",
       "      <td>1.789514</td>\n",
       "      <td>-1.078353</td>\n",
       "    </tr>\n",
       "    <tr>\n",
       "      <th>571</th>\n",
       "      <td>0</td>\n",
       "      <td>0.112987</td>\n",
       "      <td>0.118095</td>\n",
       "      <td>-0.164081</td>\n",
       "    </tr>\n",
       "    <tr>\n",
       "      <th>225</th>\n",
       "      <td>0</td>\n",
       "      <td>0.586131</td>\n",
       "      <td>0.523287</td>\n",
       "      <td>-0.164081</td>\n",
       "    </tr>\n",
       "    <tr>\n",
       "      <th>2558</th>\n",
       "      <td>0</td>\n",
       "      <td>0.231273</td>\n",
       "      <td>1.080427</td>\n",
       "      <td>0.750191</td>\n",
       "    </tr>\n",
       "  </tbody>\n",
       "</table>\n",
       "</div>"
      ],
      "text/plain": [
       "      Пол   Возраст  Зарплата  Члены семьи\n",
       "3369    1  1.414133 -0.378266    -0.164081\n",
       "1441    1  0.349559  1.789514    -1.078353\n",
       "571     0  0.112987  0.118095    -0.164081\n",
       "225     0  0.586131  0.523287    -0.164081\n",
       "2558    0  0.231273  1.080427     0.750191"
      ]
     },
     "metadata": {},
     "output_type": "display_data"
    }
   ],
   "source": [
    "#проведем стандартизацию данных\n",
    "\n",
    "#список всех численных признаков.\n",
    "numeric = ['Возраст', 'Зарплата', 'Члены семьи']\n",
    "\n",
    "#создадим объект стандартизации и обучим его\n",
    "scaler = StandardScaler()\n",
    "scaler.fit(train_features[numeric])\n",
    "\n",
    "#сохраним преобразованные обучающую,валидационную и тестовую  выборки в переменные\n",
    "train_features[numeric] = scaler.transform(train_features[numeric])\n",
    "test_features[numeric] = scaler.transform(test_features[numeric])\n",
    "pd.options.mode.chained_assignment = None\n",
    "\n",
    "\n",
    "display (train_features.head())"
   ]
  },
  {
   "cell_type": "markdown",
   "metadata": {},
   "source": [
    "***Вывод:*** кодирование и масштабирование данных прошло успешно."
   ]
  },
  {
   "cell_type": "markdown",
   "metadata": {},
   "source": [
    "***Создалим класс и проведем обучение модели на неизменненных признаках. Рассчитаем метрику R2-Score***"
   ]
  },
  {
   "cell_type": "code",
   "execution_count": 13,
   "metadata": {},
   "outputs": [],
   "source": [
    "#для этого создадим класс\n",
    "\n",
    "class LinearRegress:\n",
    "    def fit(self, train_features, train_target):\n",
    "        X = np.concatenate((np.ones((train_features.shape[0], 1)), train_features), axis=1)\n",
    "        y = train_target\n",
    "        w = (np.linalg.inv(X.T.dot(X)).dot(X.T)).dot(y)\n",
    "        self.w = w[1:]\n",
    "        self.w0 = w[0]\n",
    "\n",
    "    def predict(self, test_features):\n",
    "        return test_features.dot(self.w) + self.w0"
   ]
  },
  {
   "cell_type": "code",
   "execution_count": 14,
   "metadata": {},
   "outputs": [
    {
     "name": "stdout",
     "output_type": "stream",
     "text": [
      "R2_score - модели на неизмененных данных: 0.4352\n"
     ]
    }
   ],
   "source": [
    "model = LinearRegress()\n",
    "model.fit(train_features, train_target)\n",
    "predict = model.predict(test_features)\n",
    "\n",
    "R2_score = r2_score(test_target, predict)\n",
    "\n",
    "\n",
    "print(\"R2_score - модели на неизмененных данных:\", R2_score.round(4))"
   ]
  },
  {
   "cell_type": "markdown",
   "metadata": {},
   "source": [
    "## Умножение матриц"
   ]
  },
  {
   "cell_type": "markdown",
   "metadata": {},
   "source": [
    "В этом задании вы можете записывать формулы в *Jupyter Notebook.*\n",
    "\n",
    "Чтобы записать формулу внутри текста, окружите её символами доллара \\\\$; если снаружи —  двойными символами \\\\$\\\\$. Эти формулы записываются на языке вёрстки *LaTeX.* \n",
    "\n",
    "Для примера мы записали формулы линейной регрессии. Можете их скопировать и отредактировать, чтобы решить задачу.\n",
    "\n",
    "Работать в *LaTeX* необязательно."
   ]
  },
  {
   "cell_type": "markdown",
   "metadata": {},
   "source": [
    "Обозначения:\n",
    "\n",
    "- $X$ — матрица признаков (нулевой столбец состоит из единиц)\n",
    "\n",
    "- $y$ — вектор целевого признака\n",
    "\n",
    "- $P$ — матрица, на которую умножаются признаки\n",
    "\n",
    "- $w$ — вектор весов линейной регрессии (нулевой элемент равен сдвигу)"
   ]
  },
  {
   "cell_type": "markdown",
   "metadata": {},
   "source": [
    "Предсказания:\n",
    "\n",
    "$$\n",
    "a = Xw\n",
    "$$\n",
    "\n",
    "Задача обучения:\n",
    "\n",
    "$$\n",
    "w = \\arg\\min_w MSE(Xw, y)\n",
    "$$\n",
    "\n",
    "Формула обучения:\n",
    "\n",
    "$$\n",
    "w = (X^T X)^{-1} X^T y\n",
    "$$"
   ]
  },
  {
   "cell_type": "markdown",
   "metadata": {},
   "source": [
    "**Ответ:** В задаче нам предстоит умножить признаким на обратимую матрицу () и проверить измненится ли при этом качество (в данном случае) метрика модели R2_score.\n",
    "\n",
    "**Обоснование:** "
   ]
  },
  {
   "cell_type": "markdown",
   "metadata": {},
   "source": [
    "Умножение матрицы на матрицу возможно, если ширина первой матрицы А(m×n) равна высоте второй матрицы P(n×r). Тогда размер произведения этих матриц будет m×r. Размерность n «cхлопывается».\n",
    "\n",
    "При умножении признаков выборки A размерностью (3750,4) на обратимую произвольную матрицу P размерностью (4,4)получим изменённые/ зашифрованные данных скалярных произведений M размернотью (3750,4).\n",
    "\n",
    "Формула выглядит следующим образом:\n",
    "$$\n",
    "Mij=(Ai,Bj)\n",
    "$$\n",
    "\n",
    "В каждую новую ячейку записывается результат сложения произведений строки i на столбец j. Для примера, в первой ячейке новой таблицы будет записан результат по этой формуле:\n",
    "$$\n",
    "M11=A11×P11+A12×P21+A13×P31+A14×P41\n",
    "$$\n",
    "Далее вычисляется важный параметр - вектор w\n",
    " по формуле:\n",
    "$$\n",
    "w = (X^T X)^{-1} X^T y\n",
    "$$\n",
    "В которой X - таблица признков, где нулевой столбец заполнен 1 (единицами), а y - вектор целевого признака Xi=(1Mi2Mi3Mi4Mi5)\n",
    "\n",
    "В Линейной регрессии предсказания вычисляются по формуле:\n",
    "$$\n",
    "a=Xw+w0,\n",
    "$$\n",
    "где w0- значение нулевого аргумента вектора w, которое предствляет собой величину сдвига модели, при подборе которого можно достигать более низкого значения среднеквадратичного отклонения MSE.\n",
    "\n",
    "Рассмотрим упрощённую запись формулы предсказания Линейной регрессии a=Xiw, где Xi - новые строки признаков\n",
    "Подставим вместо параметра w, формулу её вычисления:\n",
    "$$\n",
    "a=Xiw=Xi(XTX)−1XTy\n",
    "$$\n",
    "Упроситим формулу используя принцип ассоциативности (A(BC)=(AB)C) и то, что транспонированное произведение матриц равно произведению транспонированных матриц взятых в обратном порядке ((AB)T=BTAT):\n",
    "$$\n",
    "a=Xi(XTX)−1XTy=XiX−1(XT)−1XTy=XiX−1y\n",
    "$$\n",
    "Домножим наши признаки на случайную матрицу P, в которой число строк равно чилу столбцов X и P - обратима, то есть из матрицы P\n",
    "можно получить матрицу P−1, при этом PP−1=E, где E - единичная матрица\n",
    "\n",
    "Если обучить нашу модель на новых (изменённых) признаках, то модель найдёт новые коэффициенты w′\n",
    "$$\n",
    "w′=((XP)T(XP))−1(XP)Ty\n",
    "$$\n",
    "Подставим их в формулу предсказания и упростим выражение\n",
    "$$\n",
    "a′=XiPw′=XiP((XP)T(XP))−1(XP)Ty=XiP(XP)−1((XP)T)−1(XP)Ty=XiX−1y\n",
    "$$\n",
    "Таким образом мы пришли к заключению, о том что результат предсказания не изменится не смотря на измениения признаков, т.к. исходя из результатов наших преобразований очевидно, что a\n",
    " = a′.\n",
    " \n",
    "***ВЫВОД:*** Поэтому, если изменить исходные данные методом умножения признаков на обратимую матрицу, качество предсказания модели не изменится, так как в результает  преобразованя данных случайная матрица P сокращается."
   ]
  },
  {
   "cell_type": "markdown",
   "metadata": {},
   "source": [
    "Умножение матрицы на матрицу возможно, если ширина первой матрицы А(m×n) равна высоте второй матрицы P(n×r). Тогда размер произведения этих матриц будет m×r. Размерность n «cхлопывается».\n",
    "\n",
    "При умножении признаков выборки A размерностью (3750,4) на обратимую произвольную матрицу P размерностью (4,4)получим изменённые/ зашифрованные данных скалярных произведений M размернотью (3750,4).\n",
    "\n",
    "Формула выглядит следующим образом:\n",
    "$$\n",
    "Mij=(Ai,Bj)\n",
    "$$\n",
    "\n",
    "В каждую новую ячейку записывается результат сложения произведений строки i на столбец j. Для примера, в первой ячейке новой таблицы будет записан результат по этой формуле:\n",
    "$$\n",
    "M11=A11×P11+A12×P21+A13×P31+A14×P41\n",
    "$$\n",
    "Далее вычисляется важный параметр - вектор w\n",
    " по формуле:\n",
    "$$\n",
    "w = (X^T X)^{-1} X^T y\n",
    "$$\n",
    "В которой X - таблица признков, где нулевой столбец заполнен 1 (единицами), а y - вектор целевого признака Xi=(1Mi2Mi3Mi4Mi5)\n",
    "\n",
    "В Линейной регрессии предсказания вычисляются по формуле:\n",
    "$$\n",
    "a=Xw+w0,\n",
    "$$\n",
    "где w0- значение нулевого аргумента вектора w, которое предствляет собой величину сдвига модели, при подборе которого можно достигать более низкого значения среднеквадратичного отклонения MSE.\n",
    "\n",
    "Рассмотрим упрощённую запись формулы предсказания Линейной регрессии a=Xiw, где Xi - новые строки признаков\n",
    "Подставим вместо параметра w, формулу её вычисления:\n",
    "$$\n",
    "a=Xiw=Xi(XTX)−1XTy\n",
    "$$\n",
    "Упроситим формулу используя принцип ассоциативности (A(BC)=(AB)C) и то, что транспонированное произведение матриц равно произведению транспонированных матриц взятых в обратном порядке ((AB)T=BTAT):\n",
    "$$\n",
    "a=Xi(XTX)−1XTy=XiX−1(XT)−1XTy=XiX−1y\n",
    "$$\n",
    "Домножим наши признаки на случайную матрицу P, в которой число строк равно чилу столбцов X и P - обратима, то есть из матрицы P\n",
    "можно получить матрицу P−1, при этом PP−1=E, где E - единичная матрица\n",
    "\n",
    "Если обучить нашу модель на новых (изменённых) признаках, то модель найдёт новые коэффициенты w′\n",
    "$$\n",
    "w = (X^T X)^{-1} X^T y\n",
    "$$\n",
    "$$\n",
    "w_p =  (XP^T XP)^{-1} XP^T y\n",
    "$$ \n",
    "\n",
    "Расскрываем скобки\n",
    "$$\n",
    "w_p = (P^T(X^T X)P)^{-1} * P^TX^Ty = P^{-1} (X^T X)^{-1} (P^T)^{-1} *P^TX^Ty\n",
    "$$\n",
    "\n",
    "\n",
    "где \n",
    "\n",
    "$$P^T* (P^T)^{-1} = E = 1\n",
    "$$\n",
    "\n",
    "так как P- обратимая матрица, мы это проверяем\n",
    "\n",
    "Тогда получаем\n",
    "$$\n",
    "w_p  = P^{-1} (X^T X)^{-1} * X^Ty \n",
    "$$\n",
    "\n",
    "Где \n",
    "\n",
    "$$(X^T X)^{-1} * X^Ty = w\n",
    "$$\n",
    "\n",
    "Тогда\n",
    "\n",
    "$$\n",
    "w_p = w*P^{-1}\n",
    "$$\n",
    "\n",
    "***Это даем нам соотношение w  и w_p***\n",
    "\n",
    "Переходим к предказанию \n",
    "\n",
    "$$\n",
    "a = Xw\n",
    "$$\n",
    "\n",
    "$$\n",
    "a_p = X_p * w_p = XP*w*P^{-1} \n",
    "$$\n",
    "\n",
    "Где \n",
    "$$\n",
    "P*P^{-1} = E = 1\n",
    "$$\n",
    "\n",
    "Соответсвенно,\n",
    "\n",
    "$$\n",
    "a_p = X_p * w_p = XP*w*P^{-1} = X*w*E = X*w\n",
    "$$\n",
    "\n",
    "***Таким обращом, мы доказали, что предсказания a_p для матрицы признаков, умноженных на обратимую матрицу P равны предсказаниям a. Следовательно, качество линейной регрессии при умножении признаков на обратимую матрицу не изменится.***\n",
    "\n",
    "***При этом параметры линейной регрессии в исходной задаче и в преобразованной связаны по формуле:***\n",
    "\n",
    "$$\n",
    "w_p = P^{-1}*w\n",
    "$$\n",
    "Таким образом мы пришли к заключению, о том что результат предсказания не изменится не смотря на измениения признаков, т.к. исходя из результатов наших преобразований очевидно, что a\n",
    " = a′.\n",
    " \n",
    "***ВЫВОД:*** Поэтому, если изменить исходные данные методом умножения признаков на обратимую матрицу, качество предсказания модели не изменится, так как в результает  преобразованя данных случайная матрица P сокращается."
   ]
  },
  {
   "cell_type": "markdown",
   "metadata": {},
   "source": [
    "## Алгоритм преобразования"
   ]
  },
  {
   "cell_type": "markdown",
   "metadata": {},
   "source": [
    "**Алгоритм**\n",
    "\n",
    "1. Создаём рандомную матрицу P\n",
    "\n",
    "2. Проверяем её на обратимость\n",
    "3. Создаём новую матрицу данных M, которая равна произведению признаков на рандомную матрицу.\n",
    "4. Расчсчитываем ее метрики качества -  R2_score на исходных данных и изменненных.\n",
    "5. Делаем вывод."
   ]
  },
  {
   "cell_type": "markdown",
   "metadata": {},
   "source": [
    "**Обоснование**\n",
    "\n",
    "Если изменить исходные данные методом умножения признаков на обратимую матрицу, качество предсказания модели не изменится, так как в результает  преобразованя данных случайная матрица P сокращается, что было доказано в формулах выше."
   ]
  },
  {
   "cell_type": "markdown",
   "metadata": {},
   "source": [
    "## Проверка алгоритма"
   ]
  },
  {
   "cell_type": "code",
   "execution_count": 28,
   "metadata": {},
   "outputs": [
    {
     "data": {
      "text/plain": [
       "array([[3.09780177, 4.41649969, 4.1098727 , 3.22424583],\n",
       "       [1.73059839, 4.20431657, 3.14121637, 2.56489286],\n",
       "       [3.25828411, 1.16754864, 2.55532463, 2.43945184],\n",
       "       [3.65136227, 2.24159057, 1.55487839, 2.84194396]])"
      ]
     },
     "execution_count": 28,
     "metadata": {},
     "output_type": "execute_result"
    }
   ],
   "source": [
    "#Создадим произвольную матрицу по длине совпадающую с шириной нашей выборки\n",
    "matrix=np.random.normal(3, size=(train_features.shape[1],train_features.shape[1]))\n",
    "matrix"
   ]
  },
  {
   "cell_type": "code",
   "execution_count": 29,
   "metadata": {},
   "outputs": [
    {
     "data": {
      "text/plain": [
       "array([[ 2.01976633, -2.06247894, -0.94507331,  0.38117399],\n",
       "       [ 1.07943465, -0.79536545, -0.94202614,  0.30179761],\n",
       "       [ 0.46378706, -0.28337751,  0.33139625, -0.55488629],\n",
       "       [-3.70017205,  3.43228409,  1.77595376, -0.07232033]])"
      ]
     },
     "execution_count": 29,
     "metadata": {},
     "output_type": "execute_result"
    }
   ],
   "source": [
    "#Проверим обратимость нашей матрицы\n",
    "\n",
    "np.linalg.inv(matrix)"
   ]
  },
  {
   "cell_type": "markdown",
   "metadata": {},
   "source": [
    "Проверка не показала ошибку, значит мы создали обратимую матрицу. Если бы созданная матрица была необратимой, то в результате шифрования при умноженни признаков на такую матрицу, были бы только нули."
   ]
  },
  {
   "cell_type": "code",
   "execution_count": 27,
   "metadata": {},
   "outputs": [
    {
     "data": {
      "text/html": [
       "<div>\n",
       "<style scoped>\n",
       "    .dataframe tbody tr th:only-of-type {\n",
       "        vertical-align: middle;\n",
       "    }\n",
       "\n",
       "    .dataframe tbody tr th {\n",
       "        vertical-align: top;\n",
       "    }\n",
       "\n",
       "    .dataframe thead th {\n",
       "        text-align: right;\n",
       "    }\n",
       "</style>\n",
       "<table border=\"1\" class=\"dataframe\">\n",
       "  <thead>\n",
       "    <tr style=\"text-align: right;\">\n",
       "      <th></th>\n",
       "      <th>Пол</th>\n",
       "      <th>Возраст</th>\n",
       "      <th>Зарплата</th>\n",
       "      <th>Члены семьи</th>\n",
       "    </tr>\n",
       "  </thead>\n",
       "  <tbody>\n",
       "    <tr>\n",
       "      <th>3369</th>\n",
       "      <td>6.122519</td>\n",
       "      <td>4.715498</td>\n",
       "      <td>5.249467</td>\n",
       "      <td>7.285629</td>\n",
       "    </tr>\n",
       "    <tr>\n",
       "      <th>1441</th>\n",
       "      <td>8.397003</td>\n",
       "      <td>7.870066</td>\n",
       "      <td>1.879121</td>\n",
       "      <td>7.719310</td>\n",
       "    </tr>\n",
       "    <tr>\n",
       "      <th>571</th>\n",
       "      <td>0.230513</td>\n",
       "      <td>0.232625</td>\n",
       "      <td>-0.223889</td>\n",
       "      <td>0.421385</td>\n",
       "    </tr>\n",
       "    <tr>\n",
       "      <th>225</th>\n",
       "      <td>2.747220</td>\n",
       "      <td>2.595908</td>\n",
       "      <td>1.894428</td>\n",
       "      <td>3.506492</td>\n",
       "    </tr>\n",
       "    <tr>\n",
       "      <th>2558</th>\n",
       "      <td>6.234335</td>\n",
       "      <td>6.087744</td>\n",
       "      <td>6.179728</td>\n",
       "      <td>5.972401</td>\n",
       "    </tr>\n",
       "  </tbody>\n",
       "</table>\n",
       "</div>"
      ],
      "text/plain": [
       "           Пол   Возраст  Зарплата  Члены семьи\n",
       "3369  6.122519  4.715498  5.249467     7.285629\n",
       "1441  8.397003  7.870066  1.879121     7.719310\n",
       "571   0.230513  0.232625 -0.223889     0.421385\n",
       "225   2.747220  2.595908  1.894428     3.506492\n",
       "2558  6.234335  6.087744  6.179728     5.972401"
      ]
     },
     "execution_count": 27,
     "metadata": {},
     "output_type": "execute_result"
    }
   ],
   "source": [
    "#умножение признаки на созданную произвольную матрицу\n",
    "#тренировочные признаким\n",
    "train_matrix=train_features@matrix\n",
    "train_matrix.columns = train_features.columns\n",
    "train_matrix.head()"
   ]
  },
  {
   "cell_type": "code",
   "execution_count": 18,
   "metadata": {},
   "outputs": [
    {
     "data": {
      "text/html": [
       "<div>\n",
       "<style scoped>\n",
       "    .dataframe tbody tr th:only-of-type {\n",
       "        vertical-align: middle;\n",
       "    }\n",
       "\n",
       "    .dataframe tbody tr th {\n",
       "        vertical-align: top;\n",
       "    }\n",
       "\n",
       "    .dataframe thead th {\n",
       "        text-align: right;\n",
       "    }\n",
       "</style>\n",
       "<table border=\"1\" class=\"dataframe\">\n",
       "  <thead>\n",
       "    <tr style=\"text-align: right;\">\n",
       "      <th></th>\n",
       "      <th>Пол</th>\n",
       "      <th>Возраст</th>\n",
       "      <th>Зарплата</th>\n",
       "      <th>Члены семьи</th>\n",
       "    </tr>\n",
       "  </thead>\n",
       "  <tbody>\n",
       "    <tr>\n",
       "      <th>3183</th>\n",
       "      <td>11.164761</td>\n",
       "      <td>7.738865</td>\n",
       "      <td>8.289026</td>\n",
       "      <td>6.610322</td>\n",
       "    </tr>\n",
       "    <tr>\n",
       "      <th>1071</th>\n",
       "      <td>10.987680</td>\n",
       "      <td>9.180574</td>\n",
       "      <td>11.433841</td>\n",
       "      <td>9.479736</td>\n",
       "    </tr>\n",
       "    <tr>\n",
       "      <th>2640</th>\n",
       "      <td>2.613055</td>\n",
       "      <td>2.637715</td>\n",
       "      <td>4.524750</td>\n",
       "      <td>1.866861</td>\n",
       "    </tr>\n",
       "    <tr>\n",
       "      <th>2282</th>\n",
       "      <td>-10.535993</td>\n",
       "      <td>-8.151348</td>\n",
       "      <td>-9.711305</td>\n",
       "      <td>-7.696749</td>\n",
       "    </tr>\n",
       "    <tr>\n",
       "      <th>1595</th>\n",
       "      <td>14.317994</td>\n",
       "      <td>10.608236</td>\n",
       "      <td>12.046446</td>\n",
       "      <td>9.798220</td>\n",
       "    </tr>\n",
       "  </tbody>\n",
       "</table>\n",
       "</div>"
      ],
      "text/plain": [
       "            Пол    Возраст   Зарплата  Члены семьи\n",
       "3183  11.164761   7.738865   8.289026     6.610322\n",
       "1071  10.987680   9.180574  11.433841     9.479736\n",
       "2640   2.613055   2.637715   4.524750     1.866861\n",
       "2282 -10.535993  -8.151348  -9.711305    -7.696749\n",
       "1595  14.317994  10.608236  12.046446     9.798220"
      ]
     },
     "execution_count": 18,
     "metadata": {},
     "output_type": "execute_result"
    }
   ],
   "source": [
    "#изменение тестовых признаков\n",
    "test_matrix=test_features@matrix\n",
    "test_matrix.columns = test_features.columns\n",
    "test_matrix.head()"
   ]
  },
  {
   "cell_type": "code",
   "execution_count": 19,
   "metadata": {},
   "outputs": [
    {
     "name": "stdout",
     "output_type": "stream",
     "text": [
      "R2_score Линейной регрессии неизменённой матрицы: 0.4352\n",
      "R2_score Линейной регрессии изменённой матрицы: 0.4352\n"
     ]
    }
   ],
   "source": [
    "#поверим изменилась ли метрика после измнения данных \n",
    "\n",
    "model2 = LinearRegression()\n",
    "model2.fit(train_matrix,train_target)\n",
    "predictions2= model2.predict(test_matrix)\n",
    "print(\"R2_score Линейной регрессии неизменённой матрицы:\", R2_score.round(4))\n",
    "print(\"R2_score Линейной регрессии изменённой матрицы:\", r2_score(test_target,predictions2).round(4))"
   ]
  },
  {
   "cell_type": "markdown",
   "metadata": {},
   "source": [
    "***Вывод***:после умножения признаков на обратимую случанйю матрицу метрика качества предсказания модели осталась прежней."
   ]
  },
  {
   "cell_type": "markdown",
   "metadata": {},
   "source": [
    "***ВЫВОД ПО ПРОЕКТУ:***\n",
    "\n",
    "В проекте была поставлена задача защитить данные клиентов страховой компании «Хоть потоп» и разработать такой метод преобразования данных, чтобы по ним было сложно восстановить персональную информацию, при этом после их преобразовании качество моделей машинного обучения не должно было ухудшиться.\n",
    "\n",
    "Для выполнения целей проекта  был разработан алгоритм, где данные преобразовывались следующим образом: матрица исходных признаков умножалась на обратимую рандомную матрицу P. После чего появилась изменённая/ зашифрованная матрица признаков с данными, которые сложно персонифицировать. \n",
    "\n",
    "Мы сравнили метрики качества R2_score аналогичных моделей, которые делали предсказания по оригинальным и зашифрованным данным \n",
    "и они были равны между собой с составили  0.4352.\n",
    "\n",
    "Таким образом задача, поставленная в проекте, была выполнена."
   ]
  },
  {
   "cell_type": "markdown",
   "metadata": {},
   "source": [
    "## Чек-лист проверки"
   ]
  },
  {
   "cell_type": "markdown",
   "metadata": {},
   "source": [
    "Поставьте 'x' в выполненных пунктах. Далее нажмите Shift+Enter."
   ]
  },
  {
   "cell_type": "markdown",
   "metadata": {},
   "source": [
    "- [x]  Jupyter Notebook открыт\n",
    "- [х]  Весь код выполняется без ошибок\n",
    "- [х]  Ячейки с кодом расположены в порядке исполнения\n",
    "- [х]  Выполнен шаг 1: данные загружены\n",
    "- [ ]  Выполнен шаг 2: получен ответ на вопрос об умножении матриц\n",
    "    - [ ]  Указан правильный вариант ответа\n",
    "    - [ ]  Вариант обоснован\n",
    "- [ ]  Выполнен шаг 3: предложен алгоритм преобразования\n",
    "    - [ ]  Алгоритм описан\n",
    "    - [ ]  Алгоритм обоснован\n",
    "- [ ]  Выполнен шаг 4: алгоритм проверен\n",
    "    - [ ]  Алгоритм реализован\n",
    "    - [ ]  Проведено сравнение качества моделей до и после преобразования"
   ]
  }
 ],
 "metadata": {
  "ExecuteTimeLog": [
   {
    "duration": 1040,
    "start_time": "2023-05-11T10:26:37.061Z"
   },
   {
    "duration": 90,
    "start_time": "2023-05-11T10:26:39.981Z"
   },
   {
    "duration": 3,
    "start_time": "2023-05-11T10:28:09.203Z"
   },
   {
    "duration": 4,
    "start_time": "2023-05-11T10:28:59.426Z"
   },
   {
    "duration": 5,
    "start_time": "2023-05-11T10:29:28.194Z"
   },
   {
    "duration": 1452,
    "start_time": "2023-05-11T10:29:56.278Z"
   },
   {
    "duration": 7,
    "start_time": "2023-05-11T10:30:09.776Z"
   },
   {
    "duration": 12,
    "start_time": "2023-05-11T10:31:29.848Z"
   },
   {
    "duration": 11,
    "start_time": "2023-05-11T10:33:39.869Z"
   },
   {
    "duration": 32,
    "start_time": "2023-05-11T11:54:53.208Z"
   },
   {
    "duration": 35,
    "start_time": "2023-05-11T11:54:58.973Z"
   },
   {
    "duration": 7,
    "start_time": "2023-05-11T11:55:13.354Z"
   },
   {
    "duration": 11,
    "start_time": "2023-05-11T12:05:05.835Z"
   },
   {
    "duration": 5,
    "start_time": "2023-05-11T12:10:16.905Z"
   },
   {
    "duration": 11,
    "start_time": "2023-05-11T12:10:45.707Z"
   },
   {
    "duration": 10,
    "start_time": "2023-05-11T12:11:36.127Z"
   },
   {
    "duration": 493,
    "start_time": "2023-05-11T12:13:58.519Z"
   },
   {
    "duration": 2012,
    "start_time": "2023-05-11T12:14:37.969Z"
   },
   {
    "duration": 8,
    "start_time": "2023-05-11T12:15:32.151Z"
   },
   {
    "duration": 7,
    "start_time": "2023-05-11T12:16:38.330Z"
   },
   {
    "duration": 12,
    "start_time": "2023-05-11T12:18:39.399Z"
   },
   {
    "duration": 8,
    "start_time": "2023-05-11T12:33:43.658Z"
   },
   {
    "duration": 15,
    "start_time": "2023-05-11T12:34:39.140Z"
   },
   {
    "duration": 18,
    "start_time": "2023-05-11T12:35:39.423Z"
   },
   {
    "duration": 9,
    "start_time": "2023-05-11T12:35:45.071Z"
   },
   {
    "duration": 15,
    "start_time": "2023-05-11T12:35:57.313Z"
   },
   {
    "duration": 10,
    "start_time": "2023-05-11T12:36:26.188Z"
   },
   {
    "duration": 21,
    "start_time": "2023-05-11T12:36:29.053Z"
   },
   {
    "duration": 6,
    "start_time": "2023-05-11T12:38:50.795Z"
   },
   {
    "duration": 26,
    "start_time": "2023-05-11T12:41:20.148Z"
   },
   {
    "duration": 40,
    "start_time": "2023-05-11T12:41:51.025Z"
   },
   {
    "duration": 28,
    "start_time": "2023-05-11T12:42:00.313Z"
   },
   {
    "duration": 15,
    "start_time": "2023-05-11T12:42:13.740Z"
   },
   {
    "duration": 25,
    "start_time": "2023-05-11T12:42:54.226Z"
   },
   {
    "duration": 1931,
    "start_time": "2023-05-12T10:11:46.978Z"
   },
   {
    "duration": 206,
    "start_time": "2023-05-12T10:11:51.798Z"
   },
   {
    "duration": 33,
    "start_time": "2023-05-12T10:11:53.741Z"
   },
   {
    "duration": 55,
    "start_time": "2023-05-12T10:11:55.617Z"
   },
   {
    "duration": 13,
    "start_time": "2023-05-12T10:11:56.377Z"
   },
   {
    "duration": 20,
    "start_time": "2023-05-12T10:11:59.151Z"
   },
   {
    "duration": 16,
    "start_time": "2023-05-12T10:12:01.576Z"
   },
   {
    "duration": 14,
    "start_time": "2023-05-12T10:12:03.463Z"
   },
   {
    "duration": 173,
    "start_time": "2023-05-12T10:12:32.903Z"
   },
   {
    "duration": 16,
    "start_time": "2023-05-12T10:12:50.361Z"
   },
   {
    "duration": 4,
    "start_time": "2023-05-12T10:14:31.689Z"
   },
   {
    "duration": 18,
    "start_time": "2023-05-12T10:16:41.756Z"
   },
   {
    "duration": 150,
    "start_time": "2023-05-12T10:17:42.960Z"
   },
   {
    "duration": 18,
    "start_time": "2023-05-12T10:20:00.454Z"
   },
   {
    "duration": 93,
    "start_time": "2023-05-12T10:20:00.474Z"
   },
   {
    "duration": 27,
    "start_time": "2023-05-12T10:20:00.569Z"
   },
   {
    "duration": 83,
    "start_time": "2023-05-12T10:20:00.598Z"
   },
   {
    "duration": 92,
    "start_time": "2023-05-12T10:20:00.683Z"
   },
   {
    "duration": 101,
    "start_time": "2023-05-12T10:20:00.781Z"
   },
   {
    "duration": 101,
    "start_time": "2023-05-12T10:20:00.887Z"
   },
   {
    "duration": 5,
    "start_time": "2023-05-12T10:20:06.968Z"
   },
   {
    "duration": 370,
    "start_time": "2023-05-12T10:20:08.446Z"
   },
   {
    "duration": 7,
    "start_time": "2023-05-12T10:23:31.579Z"
   },
   {
    "duration": 108,
    "start_time": "2023-05-12T10:23:31.589Z"
   },
   {
    "duration": 13,
    "start_time": "2023-05-12T10:23:31.699Z"
   },
   {
    "duration": 101,
    "start_time": "2023-05-12T10:23:31.714Z"
   },
   {
    "duration": 9,
    "start_time": "2023-05-12T10:23:36.856Z"
   },
   {
    "duration": 9,
    "start_time": "2023-05-12T10:23:37.588Z"
   },
   {
    "duration": 17,
    "start_time": "2023-05-12T10:23:38.146Z"
   },
   {
    "duration": 5,
    "start_time": "2023-05-12T10:23:41.445Z"
   },
   {
    "duration": 7,
    "start_time": "2023-05-12T10:24:10.048Z"
   },
   {
    "duration": 30,
    "start_time": "2023-05-12T10:24:11.856Z"
   },
   {
    "duration": 9,
    "start_time": "2023-05-12T10:25:44.966Z"
   },
   {
    "duration": 20,
    "start_time": "2023-05-12T10:26:44.354Z"
   },
   {
    "duration": 21,
    "start_time": "2023-05-12T10:26:46.946Z"
   },
   {
    "duration": 14,
    "start_time": "2023-05-12T10:27:37.373Z"
   },
   {
    "duration": 11,
    "start_time": "2023-05-12T10:28:16.393Z"
   },
   {
    "duration": 19,
    "start_time": "2023-05-12T10:56:00.964Z"
   },
   {
    "duration": 262,
    "start_time": "2023-05-12T10:56:00.985Z"
   },
   {
    "duration": 65,
    "start_time": "2023-05-12T10:56:01.249Z"
   },
   {
    "duration": 143,
    "start_time": "2023-05-12T10:56:01.316Z"
   },
   {
    "duration": 83,
    "start_time": "2023-05-12T10:56:01.463Z"
   },
   {
    "duration": 4,
    "start_time": "2023-05-12T10:56:01.553Z"
   },
   {
    "duration": 4,
    "start_time": "2023-05-12T10:56:01.564Z"
   },
   {
    "duration": 15,
    "start_time": "2023-05-12T10:57:35.048Z"
   },
   {
    "duration": 28,
    "start_time": "2023-05-12T10:57:38.078Z"
   },
   {
    "duration": 9,
    "start_time": "2023-05-12T10:58:44.737Z"
   },
   {
    "duration": 17,
    "start_time": "2023-05-12T10:58:45.783Z"
   },
   {
    "duration": 162,
    "start_time": "2023-05-12T11:16:00.650Z"
   },
   {
    "duration": 6,
    "start_time": "2023-05-12T11:20:50.069Z"
   },
   {
    "duration": 6,
    "start_time": "2023-05-12T11:21:12.158Z"
   },
   {
    "duration": 20,
    "start_time": "2023-05-12T11:25:25.053Z"
   },
   {
    "duration": 12,
    "start_time": "2023-05-12T11:29:52.406Z"
   },
   {
    "duration": 9,
    "start_time": "2023-05-12T11:31:41.238Z"
   },
   {
    "duration": 43,
    "start_time": "2023-05-12T11:31:51.242Z"
   },
   {
    "duration": 9,
    "start_time": "2023-05-12T11:31:59.786Z"
   },
   {
    "duration": 9,
    "start_time": "2023-05-12T11:32:06.791Z"
   },
   {
    "duration": 16,
    "start_time": "2023-05-12T12:25:31.775Z"
   },
   {
    "duration": 10,
    "start_time": "2023-05-12T12:27:43.698Z"
   },
   {
    "duration": 5,
    "start_time": "2023-05-12T12:27:50.500Z"
   },
   {
    "duration": 135,
    "start_time": "2023-05-12T12:27:50.507Z"
   },
   {
    "duration": 17,
    "start_time": "2023-05-12T12:27:50.648Z"
   },
   {
    "duration": 42,
    "start_time": "2023-05-12T12:27:50.667Z"
   },
   {
    "duration": 13,
    "start_time": "2023-05-12T12:27:53.369Z"
   },
   {
    "duration": 3,
    "start_time": "2023-05-12T12:27:58.705Z"
   },
   {
    "duration": 5,
    "start_time": "2023-05-12T12:28:00.481Z"
   },
   {
    "duration": 7,
    "start_time": "2023-05-12T12:28:03.876Z"
   },
   {
    "duration": 28,
    "start_time": "2023-05-12T12:28:03.885Z"
   },
   {
    "duration": 73,
    "start_time": "2023-05-12T12:28:03.914Z"
   },
   {
    "duration": 7,
    "start_time": "2023-05-12T12:28:03.988Z"
   },
   {
    "duration": 190,
    "start_time": "2023-05-12T12:28:03.997Z"
   },
   {
    "duration": 0,
    "start_time": "2023-05-12T12:28:04.189Z"
   },
   {
    "duration": 0,
    "start_time": "2023-05-12T12:28:04.190Z"
   },
   {
    "duration": 0,
    "start_time": "2023-05-12T12:28:04.191Z"
   },
   {
    "duration": 0,
    "start_time": "2023-05-12T12:28:04.192Z"
   },
   {
    "duration": 1768,
    "start_time": "2023-05-12T12:28:47.191Z"
   },
   {
    "duration": 48,
    "start_time": "2023-05-12T12:28:48.961Z"
   },
   {
    "duration": 23,
    "start_time": "2023-05-12T12:28:49.011Z"
   },
   {
    "duration": 42,
    "start_time": "2023-05-12T12:28:49.055Z"
   },
   {
    "duration": 16,
    "start_time": "2023-05-12T12:28:49.099Z"
   },
   {
    "duration": 74,
    "start_time": "2023-05-12T12:28:49.126Z"
   },
   {
    "duration": 65,
    "start_time": "2023-05-12T12:28:49.201Z"
   },
   {
    "duration": 20,
    "start_time": "2023-05-12T12:28:49.280Z"
   },
   {
    "duration": 81,
    "start_time": "2023-05-12T12:28:49.302Z"
   },
   {
    "duration": 42,
    "start_time": "2023-05-12T12:28:49.393Z"
   },
   {
    "duration": 59,
    "start_time": "2023-05-12T12:28:49.437Z"
   },
   {
    "duration": 29,
    "start_time": "2023-05-12T12:28:49.518Z"
   },
   {
    "duration": 256,
    "start_time": "2023-05-12T12:28:49.558Z"
   },
   {
    "duration": 14,
    "start_time": "2023-05-12T12:30:33.543Z"
   },
   {
    "duration": 14,
    "start_time": "2023-05-12T12:30:35.675Z"
   },
   {
    "duration": 21,
    "start_time": "2023-05-12T12:30:47.651Z"
   },
   {
    "duration": 5,
    "start_time": "2023-05-12T12:37:54.088Z"
   },
   {
    "duration": 56,
    "start_time": "2023-05-12T12:37:54.095Z"
   },
   {
    "duration": 131,
    "start_time": "2023-05-12T12:37:54.156Z"
   },
   {
    "duration": 43,
    "start_time": "2023-05-12T12:37:54.292Z"
   },
   {
    "duration": 22,
    "start_time": "2023-05-12T12:37:58.017Z"
   },
   {
    "duration": 18,
    "start_time": "2023-05-12T12:38:57.336Z"
   },
   {
    "duration": 15,
    "start_time": "2023-05-12T12:39:02.776Z"
   },
   {
    "duration": 8,
    "start_time": "2023-05-12T12:39:42.176Z"
   },
   {
    "duration": 34,
    "start_time": "2023-05-12T12:40:27.928Z"
   },
   {
    "duration": 6,
    "start_time": "2023-05-12T12:40:57.041Z"
   },
   {
    "duration": 9,
    "start_time": "2023-05-12T12:40:59.797Z"
   },
   {
    "duration": 5,
    "start_time": "2023-05-12T12:41:15.688Z"
   },
   {
    "duration": 16,
    "start_time": "2023-05-12T12:41:18.141Z"
   },
   {
    "duration": 9,
    "start_time": "2023-05-12T12:41:20.578Z"
   },
   {
    "duration": 11,
    "start_time": "2023-05-12T12:41:21.869Z"
   },
   {
    "duration": 10,
    "start_time": "2023-05-12T12:41:22.495Z"
   },
   {
    "duration": 10,
    "start_time": "2023-05-12T12:45:03.257Z"
   },
   {
    "duration": 229,
    "start_time": "2023-05-12T12:45:29.913Z"
   },
   {
    "duration": 3831,
    "start_time": "2023-05-12T12:56:06.377Z"
   },
   {
    "duration": 65,
    "start_time": "2023-05-12T12:56:10.210Z"
   },
   {
    "duration": 11,
    "start_time": "2023-05-12T12:56:10.277Z"
   },
   {
    "duration": 31,
    "start_time": "2023-05-12T12:56:10.289Z"
   },
   {
    "duration": 167,
    "start_time": "2023-05-12T12:56:10.322Z"
   },
   {
    "duration": 0,
    "start_time": "2023-05-12T12:56:10.490Z"
   },
   {
    "duration": 0,
    "start_time": "2023-05-12T12:56:10.492Z"
   },
   {
    "duration": 0,
    "start_time": "2023-05-12T12:56:10.493Z"
   },
   {
    "duration": 0,
    "start_time": "2023-05-12T12:56:10.494Z"
   },
   {
    "duration": 0,
    "start_time": "2023-05-12T12:56:10.494Z"
   },
   {
    "duration": 0,
    "start_time": "2023-05-12T12:56:10.495Z"
   },
   {
    "duration": 0,
    "start_time": "2023-05-12T12:56:10.496Z"
   },
   {
    "duration": 0,
    "start_time": "2023-05-12T12:56:10.497Z"
   },
   {
    "duration": 0,
    "start_time": "2023-05-12T12:56:10.498Z"
   },
   {
    "duration": 0,
    "start_time": "2023-05-12T12:56:10.500Z"
   },
   {
    "duration": 7,
    "start_time": "2023-05-12T12:56:47.107Z"
   },
   {
    "duration": 8,
    "start_time": "2023-05-12T12:56:51.541Z"
   },
   {
    "duration": 45,
    "start_time": "2023-05-12T12:56:51.552Z"
   },
   {
    "duration": 14,
    "start_time": "2023-05-12T12:56:51.598Z"
   },
   {
    "duration": 98,
    "start_time": "2023-05-12T12:56:51.613Z"
   },
   {
    "duration": 50,
    "start_time": "2023-05-12T12:56:51.713Z"
   },
   {
    "duration": 28,
    "start_time": "2023-05-12T12:56:51.767Z"
   },
   {
    "duration": 0,
    "start_time": "2023-05-12T12:56:51.797Z"
   },
   {
    "duration": 0,
    "start_time": "2023-05-12T12:56:51.799Z"
   },
   {
    "duration": 0,
    "start_time": "2023-05-12T12:56:51.826Z"
   },
   {
    "duration": 0,
    "start_time": "2023-05-12T12:56:51.827Z"
   },
   {
    "duration": 0,
    "start_time": "2023-05-12T12:56:51.828Z"
   },
   {
    "duration": 8,
    "start_time": "2023-05-12T12:57:23.099Z"
   },
   {
    "duration": 12,
    "start_time": "2023-05-12T12:57:26.116Z"
   },
   {
    "duration": 7,
    "start_time": "2023-05-12T12:57:26.130Z"
   },
   {
    "duration": 16,
    "start_time": "2023-05-12T12:57:26.141Z"
   },
   {
    "duration": 19,
    "start_time": "2023-05-12T12:57:26.162Z"
   },
   {
    "duration": 145,
    "start_time": "2023-05-12T12:57:26.183Z"
   },
   {
    "duration": 45,
    "start_time": "2023-05-12T12:57:26.330Z"
   },
   {
    "duration": 6,
    "start_time": "2023-05-12T12:59:04.179Z"
   },
   {
    "duration": 6,
    "start_time": "2023-05-12T12:59:59.895Z"
   },
   {
    "duration": 25,
    "start_time": "2023-05-12T13:01:59.948Z"
   },
   {
    "duration": 90,
    "start_time": "2023-05-12T13:03:02.889Z"
   },
   {
    "duration": 314,
    "start_time": "2023-05-12T13:04:57.737Z"
   },
   {
    "duration": 357,
    "start_time": "2023-05-12T13:05:39.048Z"
   },
   {
    "duration": 9,
    "start_time": "2023-05-12T13:10:59.347Z"
   },
   {
    "duration": 87,
    "start_time": "2023-05-12T13:16:02.285Z"
   },
   {
    "duration": 1489,
    "start_time": "2023-05-12T13:18:31.403Z"
   },
   {
    "duration": 71,
    "start_time": "2023-05-12T13:18:32.894Z"
   },
   {
    "duration": 22,
    "start_time": "2023-05-12T13:18:32.966Z"
   },
   {
    "duration": 5,
    "start_time": "2023-05-12T13:18:32.989Z"
   },
   {
    "duration": 9,
    "start_time": "2023-05-12T13:18:32.996Z"
   },
   {
    "duration": 12,
    "start_time": "2023-05-12T13:18:33.007Z"
   },
   {
    "duration": 37,
    "start_time": "2023-05-12T13:18:33.027Z"
   },
   {
    "duration": 360,
    "start_time": "2023-05-12T13:18:33.066Z"
   },
   {
    "duration": 11,
    "start_time": "2023-05-12T13:18:33.440Z"
   },
   {
    "duration": 23,
    "start_time": "2023-05-12T13:18:33.453Z"
   },
   {
    "duration": 12,
    "start_time": "2023-05-12T13:18:33.477Z"
   },
   {
    "duration": 21,
    "start_time": "2023-05-12T13:18:33.490Z"
   },
   {
    "duration": 4,
    "start_time": "2023-05-12T13:18:33.512Z"
   },
   {
    "duration": 45,
    "start_time": "2023-05-12T13:18:33.526Z"
   },
   {
    "duration": 6,
    "start_time": "2023-05-12T13:18:33.573Z"
   },
   {
    "duration": 154,
    "start_time": "2023-05-12T13:18:33.581Z"
   },
   {
    "duration": 98,
    "start_time": "2023-05-12T13:18:33.737Z"
   },
   {
    "duration": 29,
    "start_time": "2023-05-12T13:18:33.840Z"
   },
   {
    "duration": 13,
    "start_time": "2023-05-12T13:18:33.871Z"
   },
   {
    "duration": 4749,
    "start_time": "2023-05-13T05:21:43.446Z"
   },
   {
    "duration": 145,
    "start_time": "2023-05-13T05:21:48.197Z"
   },
   {
    "duration": 113,
    "start_time": "2023-05-13T05:21:48.347Z"
   },
   {
    "duration": 129,
    "start_time": "2023-05-13T05:21:48.465Z"
   },
   {
    "duration": 141,
    "start_time": "2023-05-13T05:21:48.602Z"
   },
   {
    "duration": 163,
    "start_time": "2023-05-13T05:21:48.751Z"
   },
   {
    "duration": 159,
    "start_time": "2023-05-13T05:21:48.923Z"
   },
   {
    "duration": 751,
    "start_time": "2023-05-13T05:21:49.087Z"
   },
   {
    "duration": 27,
    "start_time": "2023-05-13T05:21:49.843Z"
   },
   {
    "duration": 318,
    "start_time": "2023-05-13T05:21:49.876Z"
   },
   {
    "duration": 115,
    "start_time": "2023-05-13T05:21:50.203Z"
   },
   {
    "duration": 209,
    "start_time": "2023-05-13T05:21:50.325Z"
   },
   {
    "duration": 142,
    "start_time": "2023-05-13T05:21:50.544Z"
   },
   {
    "duration": 219,
    "start_time": "2023-05-13T05:21:50.702Z"
   },
   {
    "duration": 96,
    "start_time": "2023-05-13T05:21:50.942Z"
   },
   {
    "duration": 160,
    "start_time": "2023-05-13T05:21:51.052Z"
   },
   {
    "duration": 179,
    "start_time": "2023-05-13T05:21:51.235Z"
   },
   {
    "duration": 188,
    "start_time": "2023-05-13T05:21:51.426Z"
   },
   {
    "duration": 246,
    "start_time": "2023-05-13T05:21:51.620Z"
   },
   {
    "duration": 401,
    "start_time": "2023-05-15T08:48:36.717Z"
   },
   {
    "duration": 63,
    "start_time": "2023-05-15T09:11:59.054Z"
   },
   {
    "duration": 1977,
    "start_time": "2023-05-15T09:12:15.999Z"
   },
   {
    "duration": 110,
    "start_time": "2023-05-15T09:12:17.979Z"
   },
   {
    "duration": 25,
    "start_time": "2023-05-15T09:12:18.091Z"
   },
   {
    "duration": 8,
    "start_time": "2023-05-15T09:12:18.118Z"
   },
   {
    "duration": 7,
    "start_time": "2023-05-15T09:12:18.128Z"
   },
   {
    "duration": 30,
    "start_time": "2023-05-15T09:12:18.137Z"
   },
   {
    "duration": 17,
    "start_time": "2023-05-15T09:12:18.170Z"
   },
   {
    "duration": 462,
    "start_time": "2023-05-15T09:12:18.189Z"
   },
   {
    "duration": 10,
    "start_time": "2023-05-15T09:12:18.657Z"
   },
   {
    "duration": 31,
    "start_time": "2023-05-15T09:12:18.671Z"
   },
   {
    "duration": 22,
    "start_time": "2023-05-15T09:12:18.704Z"
   },
   {
    "duration": 21,
    "start_time": "2023-05-15T09:12:23.490Z"
   },
   {
    "duration": 137,
    "start_time": "2023-05-15T09:13:23.772Z"
   },
   {
    "duration": 191,
    "start_time": "2023-05-15T10:51:09.555Z"
   },
   {
    "duration": 5,
    "start_time": "2023-05-15T10:53:58.618Z"
   },
   {
    "duration": 6,
    "start_time": "2023-05-15T10:54:22.283Z"
   },
   {
    "duration": 5,
    "start_time": "2023-05-15T10:54:47.724Z"
   },
   {
    "duration": 5,
    "start_time": "2023-05-15T10:54:57.747Z"
   },
   {
    "duration": 16,
    "start_time": "2023-05-15T10:56:02.474Z"
   },
   {
    "duration": 116,
    "start_time": "2023-05-15T11:05:44.331Z"
   },
   {
    "duration": 5,
    "start_time": "2023-05-15T11:06:09.691Z"
   },
   {
    "duration": 16,
    "start_time": "2023-05-15T11:06:46.328Z"
   },
   {
    "duration": 12,
    "start_time": "2023-05-15T11:07:16.338Z"
   },
   {
    "duration": 17,
    "start_time": "2023-05-15T11:07:34.873Z"
   },
   {
    "duration": 17,
    "start_time": "2023-05-15T11:07:41.011Z"
   },
   {
    "duration": 9,
    "start_time": "2023-05-15T11:08:19.284Z"
   },
   {
    "duration": 6,
    "start_time": "2023-05-15T11:08:21.648Z"
   },
   {
    "duration": 44,
    "start_time": "2023-05-15T11:10:36.135Z"
   },
   {
    "duration": 139,
    "start_time": "2023-05-15T11:13:24.843Z"
   }
  ],
  "kernelspec": {
   "display_name": "Python 3 (ipykernel)",
   "language": "python",
   "name": "python3"
  },
  "language_info": {
   "codemirror_mode": {
    "name": "ipython",
    "version": 3
   },
   "file_extension": ".py",
   "mimetype": "text/x-python",
   "name": "python",
   "nbconvert_exporter": "python",
   "pygments_lexer": "ipython3",
   "version": "3.9.13"
  },
  "toc": {
   "base_numbering": 1,
   "nav_menu": {},
   "number_sections": true,
   "sideBar": true,
   "skip_h1_title": true,
   "title_cell": "Содержание",
   "title_sidebar": "Contents",
   "toc_cell": true,
   "toc_position": {
    "height": "calc(100% - 180px)",
    "left": "10px",
    "top": "150px",
    "width": "192.969px"
   },
   "toc_section_display": true,
   "toc_window_display": true
  }
 },
 "nbformat": 4,
 "nbformat_minor": 2
}
