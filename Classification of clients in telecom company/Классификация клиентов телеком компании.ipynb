{
 "cells": [
  {
   "cell_type": "markdown",
   "metadata": {},
   "source": [
    "# Классификация клиентов телеком компании"
   ]
  },
  {
   "cell_type": "markdown",
   "metadata": {},
   "source": [
    "Оператор мобильной связи «Мегалайн» выяснил: многие клиенты пользуются архивными тарифами. Они хотят построить систему, способную проанализировать поведение клиентов и предложить пользователям новый тариф: «Смарт» или «Ультра».\n",
    "\n",
    "В вашем распоряжении данные о поведении клиентов, которые уже перешли на эти тарифы (из проекта курса «Статистический анализ данных»). Нужно построить модель для задачи классификации, которая выберет подходящий тариф. Предобработка данных не понадобится — вы её уже сделали.\n",
    "\n",
    "Постройте модель с максимально большим значением *accuracy*. Чтобы сдать проект успешно, нужно довести долю правильных ответов по крайней мере до 0.75. Проверьте *accuracy* на тестовой выборке самостоятельно."
   ]
  },
  {
   "cell_type": "markdown",
   "metadata": {},
   "source": [
    "## Изучение файла"
   ]
  },
  {
   "cell_type": "code",
   "execution_count": 3,
   "metadata": {},
   "outputs": [
    {
     "name": "stdout",
     "output_type": "stream",
     "text": [
      "   calls  minutes  messages   mb_used  is_ultra\n",
      "0   40.0   311.90      83.0  19915.42         0\n",
      "1   85.0   516.75      56.0  22696.96         0\n",
      "2   77.0   467.66      86.0  21060.45         0\n",
      "3  106.0   745.53      81.0   8437.39         1\n",
      "4   66.0   418.74       1.0  14502.75         0\n",
      "<class 'pandas.core.frame.DataFrame'>\n",
      "RangeIndex: 3214 entries, 0 to 3213\n",
      "Data columns (total 5 columns):\n",
      " #   Column    Non-Null Count  Dtype  \n",
      "---  ------    --------------  -----  \n",
      " 0   calls     3214 non-null   float64\n",
      " 1   minutes   3214 non-null   float64\n",
      " 2   messages  3214 non-null   float64\n",
      " 3   mb_used   3214 non-null   float64\n",
      " 4   is_ultra  3214 non-null   int64  \n",
      "dtypes: float64(4), int64(1)\n",
      "memory usage: 125.7 KB\n",
      "          calls  mb_used  messages  minutes\n",
      "is_ultra                                   \n",
      "0          2229     2229      2229     2229\n",
      "1           985      985       985      985\n"
     ]
    }
   ],
   "source": [
    "#открываем файл и печатаем первые 5 строк\n",
    "import pandas as pd\n",
    "#< импортируйте функцию train_test_split из библиотеки sklearn >\n",
    "from sklearn.model_selection import train_test_split\n",
    "\n",
    "#импортируем структуры данных для будущих моделей исслелования: \"дерево решений\", \"случайный лес\", \"логистиечская регрессия\"\n",
    "#и метрику качества accuracy\n",
    "from sklearn.tree import DecisionTreeClassifier\n",
    "from sklearn.ensemble import RandomForestClassifier\n",
    "from sklearn.linear_model import LogisticRegression\n",
    "from sklearn.metrics import accuracy_score\n",
    "import numpy as np \n",
    "from sklearn.dummy import DummyClassifier\n",
    "\n",
    "df = pd.read_csv('/datasets/users_behavior.csv')\n",
    "print(df.head())\n",
    "df.info()\n",
    "print(df.pivot_table(index=['is_ultra'], aggfunc ='count'))"
   ]
  },
  {
   "cell_type": "code",
   "execution_count": null,
   "metadata": {},
   "outputs": [],
   "source": [
    "#изменим тип данных в колонке  на bool\n",
    "df['is_ultra'] = df['is_ultra'].astype(bool)\n",
    "df.info()"
   ]
  },
  {
   "cell_type": "markdown",
   "metadata": {},
   "source": [
    "## Разделение данных на выборки"
   ]
  },
  {
   "cell_type": "code",
   "execution_count": 4,
   "metadata": {},
   "outputs": [
    {
     "name": "stdout",
     "output_type": "stream",
     "text": [
      "Размер обучающей выборки: (1928, 5)\n",
      "Размер валидационной выборки: (643, 5)\n",
      "Размер тестовой выборки: (643, 5)\n",
      "\n",
      "Распределение таргетов в датасете  df_train           calls  mb_used  messages  minutes\n",
      "is_ultra                                   \n",
      "0          1337     1337      1337     1337\n",
      "1           591      591       591      591\n",
      "Распределение таргетов в датасете  df_test           calls  mb_used  messages  minutes\n",
      "is_ultra                                   \n",
      "0           446      446       446      446\n",
      "1           197      197       197      197\n",
      "Распределение таргетов в датасете  df_valid           calls  mb_used  messages  minutes\n",
      "is_ultra                                   \n",
      "0           446      446       446      446\n",
      "1           197      197       197      197\n"
     ]
    }
   ],
   "source": [
    "#извлекаем признаки \n",
    "features = df.drop(['is_ultra'], axis=1)\n",
    "\n",
    "#извлекаем целевой признак\n",
    "target = df['is_ultra']\n",
    "\n",
    "\n",
    "\n",
    "#< разделите данные на обучающую, валидационную и тестовую выборки >\n",
    "\n",
    "df_train, df_train2 = train_test_split(df, test_size=0.40, random_state=12345, stratify=df['is_ultra'])\n",
    "df_valid, df_test = train_test_split(df_train2, test_size=0.5, random_state=12345, stratify=df_train2['is_ultra'])\n",
    "\n",
    "#print(df_test1)\n",
    "# < создаем переменные для признаков и целевого признака >\n",
    "features_train = df_train.drop(['is_ultra'], axis=1)\n",
    "target_train = df_train['is_ultra']\n",
    "\n",
    "features_valid = df_valid.drop(['is_ultra'], axis=1)\n",
    "target_valid = df_valid['is_ultra']\n",
    "\n",
    "features_test = df_test.drop(['is_ultra'], axis=1)\n",
    "target_test = df_test['is_ultra']\n",
    "\n",
    "print('Размер обучающей выборки:', df_train.shape)\n",
    "print('Размер валидационной выборки:',df_valid.shape)\n",
    "print('Размер тестовой выборки:',df_test.shape)\n",
    "print('')\n",
    "print('Распределение таргетов в датасете  df_train', df_train.pivot_table(index=['is_ultra'], aggfunc ='count'))\n",
    "\n",
    "print('Распределение таргетов в датасете  df_test', df_test.pivot_table(index=['is_ultra'], aggfunc ='count'))\n",
    "\n",
    "print('Распределение таргетов в датасете  df_valid', df_valid.pivot_table(index=['is_ultra'], aggfunc ='count'))"
   ]
  },
  {
   "cell_type": "markdown",
   "metadata": {},
   "source": [
    "## Исследование моделей"
   ]
  },
  {
   "cell_type": "markdown",
   "metadata": {},
   "source": [
    "***Проверка наилучшей модел на алгоритме классификации — дерево решений***"
   ]
  },
  {
   "cell_type": "code",
   "execution_count": 6,
   "metadata": {},
   "outputs": [
    {
     "name": "stdout",
     "output_type": "stream",
     "text": [
      "Наибольшая доля правильных ответов: 0.7853810264385692\n",
      "Наилучшая глубина обученного дерева 5\n",
      "Наилучшая min кол-во  объектов обучающей выборки в узле 2\n"
     ]
    }
   ],
   "source": [
    "#проверим модель, указывая глубину обученного дерева от 1 до 10\n",
    "max_depth = None\n",
    "best_accuracy = 0\n",
    "best_min_samples = 0\n",
    "for depth in range(1, 7):\n",
    "    for samples in range (2,5):\n",
    "        model = DecisionTreeClassifier(max_depth=depth, criterion='gini', random_state=12345,  min_samples_split=samples)\n",
    "        model.fit(features_train, target_train) # # обучаем модель на тренировочной выборке\n",
    "        predictions_valid = model.predict(features_valid) # посчитаем качество модели на валидационной выборке\n",
    "        accuracy=accuracy_score(target_valid, predictions_valid)\n",
    "        if accuracy > best_accuracy:\n",
    "            max_depth = depth # сохраняем наилучшую глубину дерева\n",
    "            best_accuracy = accuracy\n",
    "            best_min_samples = samples\n",
    "print('Наибольшая доля правильных ответов:', best_accuracy) \n",
    "print('Наилучшая глубина обученного дерева', max_depth)\n",
    "print('Наилучшая min кол-во  объектов обучающей выборки в узле', best_min_samples)"
   ]
  },
  {
   "cell_type": "markdown",
   "metadata": {},
   "source": [
    "***Проверка наилучшей модел на алгоритме классификации — случайный лес***"
   ]
  },
  {
   "cell_type": "code",
   "execution_count": 8,
   "metadata": {},
   "outputs": [
    {
     "name": "stdout",
     "output_type": "stream",
     "text": [
      "Наибольшая доля правильных ответов: 0.7993779160186625\n",
      "Наилучее число деревьев в модели 21\n"
     ]
    }
   ],
   "source": [
    "#Обучим модели случайного леса с числом деревьев от 1 до 20\n",
    "best_accuracy = 0\n",
    "best_est = 0\n",
    "for est in range(1, 40):\n",
    "    model = RandomForestClassifier(random_state=12345, n_estimators=est) #запишем модельв переменную, указав гиперпараметры, кол-во деревье\n",
    "    model.fit(features_train, target_train) # обучаем модель на тренировочной выборке\n",
    "    predictions_valid = model.predict(features_valid)\n",
    "    accuracy=accuracy_score(target_valid, predictions_valid) # посчитайте качество модели на валидационной выборке\n",
    "    if accuracy > best_accuracy:\n",
    "        best_accuracy = accuracy #наибольшая доля правильных ответов\n",
    "        best_est = est  #сохраняем наилучшую глубину дерева \n",
    "\n",
    "print('Наибольшая доля правильных ответов:', best_accuracy) \n",
    "print('Наилучее число деревьев в модели', best_est)"
   ]
  },
  {
   "cell_type": "markdown",
   "metadata": {},
   "source": [
    "***Проверка наилучшей модел на алгоритме классификации - логистическая регрессия***"
   ]
  },
  {
   "cell_type": "code",
   "execution_count": 9,
   "metadata": {},
   "outputs": [
    {
     "name": "stdout",
     "output_type": "stream",
     "text": [
      "Доля правильных ответов: 0.7387247278382582\n"
     ]
    }
   ],
   "source": [
    "#обучим модель линейной регресии на количестве итераций =2000\n",
    "model = LogisticRegression(random_state=1234, max_iter=2000)\n",
    "model.fit(features_train, target_train)\n",
    "predictions_valid = model.predict(features_valid)\n",
    "accuracy=accuracy_score(target_valid, predictions_valid)\n",
    "\n",
    "print('Доля правильных ответов:', accuracy) \n"
   ]
  },
  {
   "cell_type": "markdown",
   "metadata": {},
   "source": [
    "***ВЫВОДЫ по точности построения моделей на основе обучающей выборки***\n",
    "\n",
    "По результатам построения  3 моделей, способных проанализировать поведение клиентов и предложить им один из новых тарифов, можно сделать следующие выводы:\n",
    "1. Наиболее точно и качествено, а сооветственро поможет принести компании принести большую прибыль работате модель \"случайного леса\", ее точность на обучающей выборке достигает 0.7993779160186625 при числе деревьев =21.\n",
    "2. Затем следует модель \"дерево решений\" с точность 0.7853810264385692, глубиной обученого дерева = 5 и  min кол-во  объектов обучающей выборки в узле 2.\n",
    "3. И на последнем месте стоит модель \"логистической регресии\" с точностью 0.7387247278382582. "
   ]
  },
  {
   "cell_type": "markdown",
   "metadata": {},
   "source": [
    "## Проверка модели на тестовой выборке"
   ]
  },
  {
   "cell_type": "markdown",
   "metadata": {},
   "source": [
    "Проверять на тестовой выборке будем самую точную полученную модель - случаный лес, с параметрами: глубина обучения. = 21."
   ]
  },
  {
   "cell_type": "markdown",
   "metadata": {},
   "source": [
    "***Проверка модели случайный лес***"
   ]
  },
  {
   "cell_type": "code",
   "execution_count": 10,
   "metadata": {},
   "outputs": [
    {
     "name": "stdout",
     "output_type": "stream",
     "text": [
      "Доля правильных ответов на тестовой выборке: 0.80248833592535\n"
     ]
    }
   ],
   "source": [
    "#наибольшая доля правильных ответов была получена при количестве деревье = 21\n",
    "\n",
    "model = RandomForestClassifier(random_state=12345, n_estimators=21) #запишем модельв переменную, указав гиперпараметры, кол-во деревье\n",
    "model.fit(features_train, target_train) # обучаем модель на тренировочной выборке\n",
    "predictions_test = model.predict(features_test) # посчитаем качество модели на тестовой выборке\n",
    "accuracy=accuracy_score(target_test, predictions_test)\n",
    "\n",
    "print('Доля правильных ответов на тестовой выборке:', accuracy)"
   ]
  },
  {
   "cell_type": "markdown",
   "metadata": {},
   "source": [
    "***ВЫВОДЫ ПО РЕЗУЛЬТАТАМ ИССЛЕДОВАНИЯ***\n",
    "\n",
    "\n",
    "В нашу задачу входило построить модель, спобную проанализировать поведение клиентов мобильного оператора, которые уже выбрали один из 2 новых тарифов оператора, и  рекомендовать наиболее подходящий тариф новым клиентам.\n",
    "\n",
    "В анализа были получены данные в объеме 3214 строк, их предобработка уже была проделана.\n",
    "\n",
    "В работе было проделано следующее:\n",
    " - данные разбиты на обучающую, валидационную и тестовую выборку, с учетом сбалансированности таргетов в каждой. \n",
    " - 3 модели \"дерево решений\", \"случайный лес\" и \"логистическая регрессия\" были обучены на обучающей выборке;\n",
    " - затем протестированы на валидационной  и по результате подбора гиперпараметров с помощью циклов, выбрана модель с наибольше точностью.\n",
    " \n",
    "Лучшей оказалась модель \"случайного леса\" с точностью 0.7993779160186625. На финальной проверке этой модели с заданными гиперпараметрами на тестовой выборке точность составила  0.80248833592535.\n",
    "\n",
    "На основании чего делаем вывод, что полученная модель рекомендована к работе."
   ]
  },
  {
   "cell_type": "markdown",
   "metadata": {},
   "source": [
    "## Проверка модели на адекватность"
   ]
  },
  {
   "cell_type": "markdown",
   "metadata": {},
   "source": [
    "В качестве случайной модели используем DummyClassifier. Ее обычно применяют для сравнения с бооее сложныи моделями, например, такой, выыбрали в итоге мы - случайный лес."
   ]
  },
  {
   "cell_type": "code",
   "execution_count": 11,
   "metadata": {},
   "outputs": [
    {
     "name": "stdout",
     "output_type": "stream",
     "text": [
      "Доля правильных ответов на тестовой выборке: 0.6936236391912908\n"
     ]
    }
   ],
   "source": [
    "#записываем модель в переменную\n",
    "model = DummyClassifier(strategy=\"most_frequent\")\n",
    "model.fit(features_train, target_train) # обучаем модель на тренировочной выборке\n",
    "predictions_test = model.predict(features_test) # посчитаем качество модели на тестовой выборке\n",
    "accuracy=accuracy_score(target_test, predictions_test)\n",
    "\n",
    "print('Доля правильных ответов на тестовой выборке:', accuracy)"
   ]
  },
  {
   "cell_type": "markdown",
   "metadata": {},
   "source": [
    "На более простой модели мы получаем точность гораздно ниде, чем на протестированных ранее. \n",
    "Accuracy модели Dummy = 0.6936236391912908, для сравнения с точностью  модели  \"логистической регрессии\", которая у нас на выборках дала самый низкий результат = 0.7387247278382582 (на валидационной выборке). Что явялется тестом на адекватность - наша модель работе лучше случайной."
   ]
  },
  {
   "cell_type": "markdown",
   "metadata": {},
   "source": [
    "## Чек-лист готовности проекта"
   ]
  },
  {
   "cell_type": "markdown",
   "metadata": {},
   "source": [
    "Поставьте 'x' в выполненных пунктах. Далее нажмите Shift+Enter."
   ]
  },
  {
   "cell_type": "markdown",
   "metadata": {},
   "source": [
    "- [x] Jupyter Notebook открыт\n",
    "- [х] Весь код исполняется без ошибок\n",
    "- [х] Ячейки с кодом расположены в порядке исполнения\n",
    "- [х] Выполнено задание 1: данные загружены и изучены\n",
    "- [х] Выполнено задание 2: данные разбиты на три выборки\n",
    "- [х] Выполнено задание 3: проведено исследование моделей\n",
    "    - [х] Рассмотрено больше одной модели\n",
    "    - [х] Рассмотрено хотя бы 3 значения гипепараметров для какой-нибудь модели\n",
    "    - [х] Написаны выводы по результатам исследования\n",
    "- [х] Выполнено задание 3: Проведено тестирование\n",
    "- [х] Удалось достичь accuracy не меньше 0.75\n"
   ]
  },
  {
   "cell_type": "code",
   "execution_count": null,
   "metadata": {},
   "outputs": [],
   "source": [
    "\n"
   ]
  }
 ],
 "metadata": {
  "ExecuteTimeLog": [
   {
    "duration": 448,
    "start_time": "2022-11-10T08:55:49.744Z"
   },
   {
    "duration": 138,
    "start_time": "2022-11-10T08:57:22.170Z"
   },
   {
    "duration": 812,
    "start_time": "2022-11-10T09:13:35.948Z"
   },
   {
    "duration": 12,
    "start_time": "2022-11-10T09:15:46.174Z"
   },
   {
    "duration": 11,
    "start_time": "2022-11-10T09:25:12.244Z"
   },
   {
    "duration": 20,
    "start_time": "2022-11-10T09:26:05.491Z"
   },
   {
    "duration": 18,
    "start_time": "2022-11-10T09:26:58.319Z"
   },
   {
    "duration": 34,
    "start_time": "2022-11-10T09:27:13.386Z"
   },
   {
    "duration": 18,
    "start_time": "2022-11-10T09:28:09.608Z"
   },
   {
    "duration": 22,
    "start_time": "2022-11-10T09:28:52.214Z"
   },
   {
    "duration": 14,
    "start_time": "2022-11-10T09:29:29.885Z"
   },
   {
    "duration": 11,
    "start_time": "2022-11-10T09:29:36.267Z"
   },
   {
    "duration": 12,
    "start_time": "2022-11-10T09:31:48.150Z"
   },
   {
    "duration": 12,
    "start_time": "2022-11-10T09:33:49.930Z"
   },
   {
    "duration": 11,
    "start_time": "2022-11-10T09:44:28.334Z"
   },
   {
    "duration": 45,
    "start_time": "2022-11-10T09:52:55.221Z"
   },
   {
    "duration": 50,
    "start_time": "2022-11-10T09:53:44.461Z"
   },
   {
    "duration": 15,
    "start_time": "2022-11-10T09:55:20.275Z"
   },
   {
    "duration": 4,
    "start_time": "2022-11-10T09:55:31.481Z"
   },
   {
    "duration": 3,
    "start_time": "2022-11-10T09:55:35.813Z"
   },
   {
    "duration": 33,
    "start_time": "2022-11-10T09:57:07.956Z"
   },
   {
    "duration": 308,
    "start_time": "2022-11-10T09:58:16.613Z"
   },
   {
    "duration": 1050,
    "start_time": "2022-11-10T09:59:04.507Z"
   },
   {
    "duration": 300,
    "start_time": "2022-11-10T09:59:13.254Z"
   },
   {
    "duration": 1059,
    "start_time": "2022-11-10T09:59:18.269Z"
   },
   {
    "duration": 76,
    "start_time": "2022-11-10T10:10:30.161Z"
   },
   {
    "duration": 74,
    "start_time": "2022-11-10T10:11:03.252Z"
   },
   {
    "duration": 14,
    "start_time": "2022-11-10T10:31:24.282Z"
   },
   {
    "duration": 3,
    "start_time": "2022-11-10T10:31:24.376Z"
   },
   {
    "duration": 73,
    "start_time": "2022-11-10T10:31:25.428Z"
   },
   {
    "duration": 1081,
    "start_time": "2022-11-10T10:31:25.536Z"
   },
   {
    "duration": 28,
    "start_time": "2022-11-10T10:45:13.983Z"
   },
   {
    "duration": 508,
    "start_time": "2022-11-10T12:42:04.229Z"
   },
   {
    "duration": 428,
    "start_time": "2022-11-10T12:42:50.767Z"
   },
   {
    "duration": 694,
    "start_time": "2022-11-10T12:42:51.197Z"
   },
   {
    "duration": 46,
    "start_time": "2022-11-10T12:42:51.893Z"
   },
   {
    "duration": 72,
    "start_time": "2022-11-10T12:42:51.941Z"
   },
   {
    "duration": 1103,
    "start_time": "2022-11-10T12:42:52.015Z"
   },
   {
    "duration": 397,
    "start_time": "2022-11-10T12:46:18.224Z"
   },
   {
    "duration": 767,
    "start_time": "2022-11-10T12:46:18.623Z"
   },
   {
    "duration": 44,
    "start_time": "2022-11-10T12:46:19.391Z"
   },
   {
    "duration": 91,
    "start_time": "2022-11-10T12:46:19.438Z"
   },
   {
    "duration": 1167,
    "start_time": "2022-11-10T12:46:19.531Z"
   },
   {
    "duration": 404662,
    "start_time": "2022-11-10T12:46:20.700Z"
   },
   {
    "duration": 100,
    "start_time": "2022-11-10T12:56:50.170Z"
   },
   {
    "duration": 70,
    "start_time": "2022-11-10T12:57:21.790Z"
   },
   {
    "duration": 972,
    "start_time": "2022-11-10T12:57:32.819Z"
   },
   {
    "duration": 411,
    "start_time": "2022-11-10T12:59:20.587Z"
   },
   {
    "duration": 745,
    "start_time": "2022-11-10T12:59:21.000Z"
   },
   {
    "duration": 46,
    "start_time": "2022-11-10T12:59:21.746Z"
   },
   {
    "duration": 87,
    "start_time": "2022-11-10T12:59:21.794Z"
   },
   {
    "duration": 1193,
    "start_time": "2022-11-10T12:59:21.883Z"
   },
   {
    "duration": 434,
    "start_time": "2022-11-10T13:08:29.876Z"
   },
   {
    "duration": 703,
    "start_time": "2022-11-10T13:08:30.312Z"
   },
   {
    "duration": 44,
    "start_time": "2022-11-10T13:08:31.017Z"
   },
   {
    "duration": 64,
    "start_time": "2022-11-10T13:08:31.063Z"
   },
   {
    "duration": 1019,
    "start_time": "2022-11-10T13:08:31.129Z"
   },
   {
    "duration": 17311,
    "start_time": "2022-11-10T13:08:32.152Z"
   },
   {
    "duration": 72,
    "start_time": "2022-11-10T13:14:49.166Z"
   },
   {
    "duration": 30,
    "start_time": "2022-11-10T13:15:11.221Z"
   },
   {
    "duration": 12,
    "start_time": "2022-11-10T13:15:11.254Z"
   },
   {
    "duration": 7,
    "start_time": "2022-11-10T13:15:11.267Z"
   },
   {
    "duration": 82,
    "start_time": "2022-11-10T13:15:11.276Z"
   },
   {
    "duration": 997,
    "start_time": "2022-11-10T13:15:11.359Z"
   },
   {
    "duration": 20701,
    "start_time": "2022-11-10T13:15:12.358Z"
   },
   {
    "duration": 99,
    "start_time": "2022-11-10T13:23:28.049Z"
   },
   {
    "duration": 17,
    "start_time": "2022-11-10T13:24:21.352Z"
   },
   {
    "duration": 13,
    "start_time": "2022-11-10T13:24:36.418Z"
   },
   {
    "duration": 63,
    "start_time": "2022-11-10T13:25:02.139Z"
   },
   {
    "duration": 53,
    "start_time": "2022-11-11T08:39:09.708Z"
   },
   {
    "duration": 460,
    "start_time": "2022-11-11T08:39:21.952Z"
   },
   {
    "duration": 721,
    "start_time": "2022-11-11T08:39:22.414Z"
   },
   {
    "duration": 47,
    "start_time": "2022-11-11T08:39:23.137Z"
   },
   {
    "duration": 83,
    "start_time": "2022-11-11T08:39:23.187Z"
   },
   {
    "duration": 1227,
    "start_time": "2022-11-11T08:39:23.272Z"
   },
   {
    "duration": 81,
    "start_time": "2022-11-11T08:39:24.500Z"
   },
   {
    "duration": 0,
    "start_time": "2022-11-11T08:39:24.583Z"
   },
   {
    "duration": 0,
    "start_time": "2022-11-11T08:39:24.583Z"
   },
   {
    "duration": 418,
    "start_time": "2022-11-11T09:01:14.648Z"
   },
   {
    "duration": 675,
    "start_time": "2022-11-11T09:01:15.068Z"
   },
   {
    "duration": 50,
    "start_time": "2022-11-11T09:01:15.745Z"
   },
   {
    "duration": 96,
    "start_time": "2022-11-11T09:01:15.797Z"
   },
   {
    "duration": 1097,
    "start_time": "2022-11-11T09:01:15.895Z"
   },
   {
    "duration": 21931,
    "start_time": "2022-11-11T09:01:16.993Z"
   },
   {
    "duration": 98,
    "start_time": "2022-11-11T09:01:38.930Z"
   },
   {
    "duration": 71,
    "start_time": "2022-11-11T09:01:39.030Z"
   },
   {
    "duration": 139,
    "start_time": "2022-11-11T09:10:40.932Z"
   },
   {
    "duration": 138,
    "start_time": "2022-11-11T09:11:31.685Z"
   },
   {
    "duration": 74,
    "start_time": "2022-11-11T09:11:43.849Z"
   },
   {
    "duration": 114,
    "start_time": "2022-11-11T09:11:51.519Z"
   },
   {
    "duration": 188,
    "start_time": "2022-11-11T09:11:58.834Z"
   },
   {
    "duration": 134,
    "start_time": "2022-11-11T09:12:16.089Z"
   },
   {
    "duration": 31,
    "start_time": "2022-11-11T09:13:33.201Z"
   },
   {
    "duration": 90,
    "start_time": "2022-11-11T09:16:26.566Z"
   },
   {
    "duration": 71,
    "start_time": "2022-11-11T09:16:41.434Z"
   },
   {
    "duration": 14,
    "start_time": "2022-11-11T09:17:22.755Z"
   },
   {
    "duration": 65,
    "start_time": "2022-11-11T09:17:48.234Z"
   },
   {
    "duration": 68,
    "start_time": "2022-11-11T09:18:59.966Z"
   },
   {
    "duration": 81,
    "start_time": "2022-11-11T09:26:50.336Z"
   },
   {
    "duration": 76,
    "start_time": "2022-11-11T09:27:10.505Z"
   },
   {
    "duration": 75,
    "start_time": "2022-11-11T09:27:35.957Z"
   },
   {
    "duration": 72,
    "start_time": "2022-11-11T09:29:23.096Z"
   },
   {
    "duration": 110,
    "start_time": "2022-11-11T09:30:13.878Z"
   },
   {
    "duration": 194,
    "start_time": "2022-11-11T09:31:02.114Z"
   },
   {
    "duration": 125,
    "start_time": "2022-11-11T09:31:27.285Z"
   },
   {
    "duration": 189,
    "start_time": "2022-11-11T09:31:38.187Z"
   },
   {
    "duration": 68,
    "start_time": "2022-11-11T09:31:49.409Z"
   },
   {
    "duration": 129,
    "start_time": "2022-11-11T09:31:55.137Z"
   },
   {
    "duration": 193,
    "start_time": "2022-11-11T09:32:00.638Z"
   },
   {
    "duration": 15,
    "start_time": "2022-11-11T09:33:50.733Z"
   },
   {
    "duration": 12,
    "start_time": "2022-11-11T10:14:20.034Z"
   },
   {
    "duration": 17,
    "start_time": "2022-11-11T10:14:43.735Z"
   },
   {
    "duration": 13,
    "start_time": "2022-11-11T10:16:02.472Z"
   },
   {
    "duration": 13,
    "start_time": "2022-11-11T10:18:25.636Z"
   },
   {
    "duration": 460,
    "start_time": "2022-11-11T10:41:13.598Z"
   },
   {
    "duration": 1051,
    "start_time": "2022-11-11T10:41:14.060Z"
   },
   {
    "duration": 41,
    "start_time": "2022-11-11T10:41:15.112Z"
   },
   {
    "duration": 175,
    "start_time": "2022-11-11T10:41:15.155Z"
   },
   {
    "duration": 1034,
    "start_time": "2022-11-11T10:41:15.331Z"
   },
   {
    "duration": 87,
    "start_time": "2022-11-11T10:41:16.366Z"
   },
   {
    "duration": 193,
    "start_time": "2022-11-11T10:41:16.456Z"
   },
   {
    "duration": 69,
    "start_time": "2022-11-11T10:41:16.651Z"
   },
   {
    "duration": 41,
    "start_time": "2022-11-11T10:41:16.722Z"
   },
   {
    "duration": 99,
    "start_time": "2022-11-11T10:41:16.850Z"
   },
   {
    "duration": 1196,
    "start_time": "2022-11-11T13:06:36.195Z"
   },
   {
    "duration": 12,
    "start_time": "2022-11-11T13:08:53.476Z"
   },
   {
    "duration": 47,
    "start_time": "2022-11-12T12:31:25.281Z"
   },
   {
    "duration": 1220,
    "start_time": "2022-11-12T12:31:40.363Z"
   },
   {
    "duration": 10,
    "start_time": "2022-11-12T12:31:41.585Z"
   },
   {
    "duration": 14,
    "start_time": "2022-11-12T12:31:41.597Z"
   },
   {
    "duration": 197,
    "start_time": "2022-11-12T12:31:41.613Z"
   },
   {
    "duration": 1086,
    "start_time": "2022-11-12T12:31:41.813Z"
   },
   {
    "duration": 263,
    "start_time": "2022-11-12T12:31:42.901Z"
   },
   {
    "duration": 102,
    "start_time": "2022-11-12T12:31:43.166Z"
   },
   {
    "duration": 157,
    "start_time": "2022-11-12T12:31:43.270Z"
   },
   {
    "duration": 333,
    "start_time": "2022-11-12T12:31:43.429Z"
   },
   {
    "duration": 105,
    "start_time": "2022-11-12T12:31:43.764Z"
   },
   {
    "duration": 12,
    "start_time": "2022-11-12T12:32:06.580Z"
   },
   {
    "duration": 13,
    "start_time": "2022-11-12T12:39:32.175Z"
   },
   {
    "duration": 10,
    "start_time": "2022-11-12T12:39:49.032Z"
   },
   {
    "duration": 10,
    "start_time": "2022-11-12T12:39:55.216Z"
   },
   {
    "duration": 11,
    "start_time": "2022-11-12T12:40:24.452Z"
   },
   {
    "duration": 133,
    "start_time": "2022-11-12T12:41:09.807Z"
   },
   {
    "duration": 14,
    "start_time": "2022-11-12T12:42:14.445Z"
   },
   {
    "duration": 80,
    "start_time": "2022-11-12T12:42:21.120Z"
   },
   {
    "duration": 425,
    "start_time": "2022-11-12T12:42:33.464Z"
   },
   {
    "duration": 342,
    "start_time": "2022-11-12T12:42:40.717Z"
   },
   {
    "duration": 13,
    "start_time": "2022-11-12T12:43:04.191Z"
   },
   {
    "duration": 10,
    "start_time": "2022-11-12T12:44:29.310Z"
   },
   {
    "duration": 41,
    "start_time": "2022-11-12T12:44:47.979Z"
   },
   {
    "duration": 12,
    "start_time": "2022-11-12T12:44:48.022Z"
   },
   {
    "duration": 16,
    "start_time": "2022-11-12T12:44:48.036Z"
   },
   {
    "duration": 173,
    "start_time": "2022-11-12T12:44:48.053Z"
   },
   {
    "duration": 971,
    "start_time": "2022-11-12T12:44:48.228Z"
   },
   {
    "duration": 39,
    "start_time": "2022-11-12T12:44:49.200Z"
   },
   {
    "duration": 33,
    "start_time": "2022-11-12T12:44:49.241Z"
   },
   {
    "duration": 80,
    "start_time": "2022-11-12T12:44:49.276Z"
   },
   {
    "duration": 44,
    "start_time": "2022-11-12T12:44:49.357Z"
   },
   {
    "duration": 13,
    "start_time": "2022-11-12T12:44:49.403Z"
   },
   {
    "duration": 48,
    "start_time": "2022-11-12T12:46:08.839Z"
   },
   {
    "duration": 12,
    "start_time": "2022-11-12T12:46:08.889Z"
   },
   {
    "duration": 11,
    "start_time": "2022-11-12T12:46:08.903Z"
   },
   {
    "duration": 182,
    "start_time": "2022-11-12T12:46:08.916Z"
   },
   {
    "duration": 917,
    "start_time": "2022-11-12T12:46:09.100Z"
   },
   {
    "duration": 25,
    "start_time": "2022-11-12T12:46:10.019Z"
   },
   {
    "duration": 29,
    "start_time": "2022-11-12T12:46:10.046Z"
   },
   {
    "duration": 67,
    "start_time": "2022-11-12T12:46:10.077Z"
   },
   {
    "duration": 41,
    "start_time": "2022-11-12T12:46:10.146Z"
   },
   {
    "duration": 13,
    "start_time": "2022-11-12T12:46:10.190Z"
   },
   {
    "duration": 39,
    "start_time": "2022-11-12T12:48:11.876Z"
   },
   {
    "duration": 75,
    "start_time": "2022-11-12T12:49:47.120Z"
   },
   {
    "duration": 53,
    "start_time": "2022-11-12T12:49:58.075Z"
   },
   {
    "duration": 90,
    "start_time": "2022-11-12T12:50:56.040Z"
   },
   {
    "duration": 14,
    "start_time": "2022-11-12T12:51:21.389Z"
   },
   {
    "duration": 58,
    "start_time": "2022-11-12T12:53:13.436Z"
   },
   {
    "duration": 51,
    "start_time": "2022-11-12T12:53:37.027Z"
   },
   {
    "duration": 56,
    "start_time": "2022-11-12T12:53:51.594Z"
   },
   {
    "duration": 22,
    "start_time": "2022-11-12T13:03:29.775Z"
   },
   {
    "duration": 17,
    "start_time": "2022-11-12T13:06:15.176Z"
   },
   {
    "duration": 30,
    "start_time": "2022-11-12T13:07:02.204Z"
   },
   {
    "duration": 29,
    "start_time": "2022-11-12T13:07:25.087Z"
   },
   {
    "duration": 40,
    "start_time": "2022-11-12T13:07:34.186Z"
   },
   {
    "duration": 44,
    "start_time": "2022-11-12T13:08:20.310Z"
   },
   {
    "duration": 30,
    "start_time": "2022-11-12T13:08:56.886Z"
   },
   {
    "duration": 15,
    "start_time": "2022-11-12T13:09:12.483Z"
   },
   {
    "duration": 15,
    "start_time": "2022-11-12T13:09:27.133Z"
   },
   {
    "duration": 39,
    "start_time": "2022-11-12T13:09:46.434Z"
   },
   {
    "duration": 39,
    "start_time": "2022-11-12T13:10:43.009Z"
   },
   {
    "duration": 55,
    "start_time": "2022-11-12T13:14:44.340Z"
   },
   {
    "duration": 10,
    "start_time": "2022-11-12T13:14:44.398Z"
   },
   {
    "duration": 29,
    "start_time": "2022-11-12T13:14:44.410Z"
   },
   {
    "duration": 195,
    "start_time": "2022-11-12T13:14:44.441Z"
   },
   {
    "duration": 988,
    "start_time": "2022-11-12T13:14:44.638Z"
   },
   {
    "duration": 50,
    "start_time": "2022-11-12T13:14:45.627Z"
   },
   {
    "duration": 14,
    "start_time": "2022-11-12T13:14:45.679Z"
   },
   {
    "duration": 66,
    "start_time": "2022-11-12T13:14:45.694Z"
   },
   {
    "duration": 42,
    "start_time": "2022-11-12T13:14:45.762Z"
   },
   {
    "duration": 13,
    "start_time": "2022-11-12T13:14:45.806Z"
   },
   {
    "duration": 884,
    "start_time": "2022-11-12T13:16:02.979Z"
   },
   {
    "duration": 1232,
    "start_time": "2022-11-12T13:16:36.015Z"
   },
   {
    "duration": 231,
    "start_time": "2022-11-12T13:16:46.685Z"
   },
   {
    "duration": 1825,
    "start_time": "2022-11-12T13:16:52.749Z"
   },
   {
    "duration": 3172,
    "start_time": "2022-11-12T13:17:00.851Z"
   },
   {
    "duration": 7042,
    "start_time": "2022-11-12T13:17:18.850Z"
   },
   {
    "duration": 3294,
    "start_time": "2022-11-12T13:17:32.054Z"
   },
   {
    "duration": 61,
    "start_time": "2022-11-12T13:17:47.006Z"
   },
   {
    "duration": 93,
    "start_time": "2022-11-12T13:17:51.775Z"
   },
   {
    "duration": 88,
    "start_time": "2022-11-12T13:21:43.183Z"
   },
   {
    "duration": 54,
    "start_time": "2022-11-12T13:30:37.029Z"
   },
   {
    "duration": 4,
    "start_time": "2022-11-12T13:30:47.861Z"
   },
   {
    "duration": 20,
    "start_time": "2022-11-12T13:30:54.963Z"
   },
   {
    "duration": 19,
    "start_time": "2022-11-12T13:31:05.547Z"
   },
   {
    "duration": 19,
    "start_time": "2022-11-12T13:31:14.381Z"
   },
   {
    "duration": 46,
    "start_time": "2022-11-12T13:31:50.655Z"
   },
   {
    "duration": 49,
    "start_time": "2022-11-12T13:31:58.002Z"
   },
   {
    "duration": 49,
    "start_time": "2022-11-12T13:32:12.675Z"
   },
   {
    "duration": 49,
    "start_time": "2022-11-12T13:32:38.775Z"
   },
   {
    "duration": 73,
    "start_time": "2022-11-12T13:32:44.991Z"
   },
   {
    "duration": 61,
    "start_time": "2022-11-12T13:32:59.326Z"
   },
   {
    "duration": 42,
    "start_time": "2022-11-12T13:34:56.507Z"
   },
   {
    "duration": 21,
    "start_time": "2022-11-12T13:35:01.457Z"
   },
   {
    "duration": 23,
    "start_time": "2022-11-12T13:35:06.607Z"
   },
   {
    "duration": 18,
    "start_time": "2022-11-12T13:35:20.522Z"
   },
   {
    "duration": 22,
    "start_time": "2022-11-12T13:35:31.575Z"
   },
   {
    "duration": 15,
    "start_time": "2022-11-12T13:36:00.550Z"
   },
   {
    "duration": 8,
    "start_time": "2022-11-12T13:36:08.047Z"
   },
   {
    "duration": 10,
    "start_time": "2022-11-12T13:36:11.011Z"
   },
   {
    "duration": 10,
    "start_time": "2022-11-12T13:36:26.914Z"
   },
   {
    "duration": 10,
    "start_time": "2022-11-12T13:36:37.718Z"
   },
   {
    "duration": 9,
    "start_time": "2022-11-12T13:36:49.635Z"
   },
   {
    "duration": 11,
    "start_time": "2022-11-12T13:37:07.387Z"
   },
   {
    "duration": 70,
    "start_time": "2022-11-12T14:31:16.924Z"
   },
   {
    "duration": 0,
    "start_time": "2022-11-12T14:31:16.995Z"
   },
   {
    "duration": 0,
    "start_time": "2022-11-12T14:31:16.996Z"
   },
   {
    "duration": 0,
    "start_time": "2022-11-12T14:31:16.997Z"
   },
   {
    "duration": 0,
    "start_time": "2022-11-12T14:31:16.998Z"
   },
   {
    "duration": 0,
    "start_time": "2022-11-12T14:31:16.999Z"
   },
   {
    "duration": 0,
    "start_time": "2022-11-12T14:31:17.001Z"
   },
   {
    "duration": 0,
    "start_time": "2022-11-12T14:31:17.002Z"
   },
   {
    "duration": 1153,
    "start_time": "2022-11-12T14:31:46.381Z"
   },
   {
    "duration": 42,
    "start_time": "2022-11-12T14:31:50.302Z"
   },
   {
    "duration": 30,
    "start_time": "2022-11-12T14:32:09.572Z"
   },
   {
    "duration": 110,
    "start_time": "2022-11-12T14:32:31.876Z"
   },
   {
    "duration": 97,
    "start_time": "2022-11-12T14:32:46.288Z"
   },
   {
    "duration": 3140,
    "start_time": "2022-11-12T14:32:52.739Z"
   },
   {
    "duration": 3156,
    "start_time": "2022-11-12T14:32:59.955Z"
   },
   {
    "duration": 36,
    "start_time": "2022-11-12T14:33:13.376Z"
   },
   {
    "duration": 113,
    "start_time": "2022-11-12T14:33:18.791Z"
   },
   {
    "duration": 6,
    "start_time": "2022-11-12T14:33:28.475Z"
   }
  ],
  "kernelspec": {
   "display_name": "Python 3 (ipykernel)",
   "language": "python",
   "name": "python3"
  },
  "language_info": {
   "codemirror_mode": {
    "name": "ipython",
    "version": 3
   },
   "file_extension": ".py",
   "mimetype": "text/x-python",
   "name": "python",
   "nbconvert_exporter": "python",
   "pygments_lexer": "ipython3",
   "version": "3.9.13"
  },
  "toc": {
   "base_numbering": 1,
   "nav_menu": {},
   "number_sections": true,
   "sideBar": true,
   "skip_h1_title": true,
   "title_cell": "Table of Contents",
   "title_sidebar": "Contents",
   "toc_cell": false,
   "toc_position": {},
   "toc_section_display": true,
   "toc_window_display": false
  }
 },
 "nbformat": 4,
 "nbformat_minor": 2
}
